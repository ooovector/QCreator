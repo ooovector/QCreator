{
 "cells": [
  {
   "cell_type": "code",
   "execution_count": 1,
   "id": "healthy-sequence",
   "metadata": {},
   "outputs": [],
   "source": [
    "from importlib import reload\n",
    "import numpy as np\n",
    "from matplotlib import pyplot as plt\n",
    "import Three_qubit_design as tqd\n",
    "import QCreator.auxiliary_functions as auxfuncs"
   ]
  },
  {
   "cell_type": "code",
   "execution_count": 2,
   "id": "short-diesel",
   "metadata": {},
   "outputs": [
    {
     "data": {
      "text/plain": [
       "<module 'Three_qubit_design' from 'H:\\\\Github2.0\\\\QCreator\\\\designs\\\\ThreeQubitsPlusTwoQubits\\\\Three_qubit_design.py'>"
      ]
     },
     "execution_count": 2,
     "metadata": {},
     "output_type": "execute_result"
    }
   ],
   "source": [
    "reload(tqd)"
   ]
  },
  {
   "cell_type": "code",
   "execution_count": 3,
   "id": "4488348c",
   "metadata": {},
   "outputs": [
    {
     "name": "stdout",
     "output_type": "stream",
     "text": [
      "Gds file has been writen here:  H:\\Github2.0\\QCreator\\designs\\ThreeQubitsPlusTwoQubits/Three-qubits-PP.gds\n"
     ]
    }
   ],
   "source": [
    "#tqd.sample.draw_terminals()\n",
    "tqd.sample.draw_design()\n",
    "tqd.create_restricted()\n",
    "tqd.sample.write_to_gds()"
   ]
  },
  {
   "cell_type": "markdown",
   "id": "da32931f",
   "metadata": {},
   "source": [
    "# Create resonators"
   ]
  },
  {
   "cell_type": "code",
   "execution_count": 4,
   "id": "spatial-concept",
   "metadata": {},
   "outputs": [],
   "source": [
    "# tqd.sample.watch(True)"
   ]
  },
  {
   "cell_type": "code",
   "execution_count": 5,
   "id": "cbae294a",
   "metadata": {},
   "outputs": [],
   "source": [
    "coupler_start_x,coupler_start_y = (2000,3200)\n",
    "grounding_width=10\n",
    "coupler_length=400\n",
    "resonator_lengths=[]"
   ]
  },
  {
   "cell_type": "markdown",
   "id": "e56d4672",
   "metadata": {},
   "source": [
    "# First feedline(left)"
   ]
  },
  {
   "cell_type": "code",
   "execution_count": 6,
   "id": "ef0110f6",
   "metadata": {},
   "outputs": [
    {
     "name": "stdout",
     "output_type": "stream",
     "text": [
      "[880, 1620] [1280.0, 1620.0]\n",
      "880.0 1605.0\n",
      "[880.0, 1578.5] [1280.0, 1578.5]\n"
     ]
    }
   ],
   "source": [
    "res_coupler_qc,res_qc_params = auxfuncs.draw_rounded_single_resonator_plus_qubit_orientation(tqd.sample,\n",
    "                          880, 1620, coupler_length,\n",
    "                          tqd.resonator_core,tqd.resonator_gap, tqd.resonator_ground,\n",
    "                          tqd.tl_core, tqd.tl_gap, tqd.tl_ground, tqd.resonator_tl_ground,\n",
    "                          closed_end_meander_length=760-20, length_left=500, length_right=300,\n",
    "                          min_bridge_spacing = None,\n",
    "                          airbridge = None, object1=tqd.sample.qubits[3], port='coupler0',\n",
    "                          open_end_length = 1000,\n",
    "                          port_orientation='right',meander_orientation='left', direction_orientation='down',\n",
    "                          points_for_the_open_end=[(1530,860),(3850,870)],orient_angle=0)\n",
    "resonator_lengths.append(res_qc_params[0])"
   ]
  },
  {
   "cell_type": "code",
   "execution_count": 7,
   "id": "6616d61d",
   "metadata": {},
   "outputs": [
    {
     "name": "stdout",
     "output_type": "stream",
     "text": [
      "[1530, 3700] [1530.0, 3760.0]\n",
      "1545.0 3700.0\n",
      "[1571.5, 3700.0] [1571.5, 3760.0]\n"
     ]
    }
   ],
   "source": [
    "res_coupler_t1,res_t1_params = auxfuncs.draw_rounded_single_resonator_plus_qubit_orientation(tqd.sample,\n",
    "                          1530,3700 , 60,\n",
    "                          tqd.resonator_core,tqd.resonator_gap, tqd.resonator_ground,\n",
    "                          tqd.tl_core, tqd.tl_gap, tqd.tl_ground, tqd.resonator_tl_ground,\n",
    "                          closed_end_meander_length=3870, length_left=400, length_right=400,\n",
    "                          min_bridge_spacing = None,\n",
    "                          airbridge = None, object1=None, port=None,\n",
    "                          open_end_length = 1000,\n",
    "                          port_orientation='right',meander_orientation='left', direction_orientation='down',\n",
    "                          points_for_the_open_end=[],orient_angle=np.pi/2)\n",
    "resonator_lengths.append(res_t1_params[0])"
   ]
  },
  {
   "cell_type": "code",
   "execution_count": 8,
   "id": "d9ae24ac",
   "metadata": {},
   "outputs": [
    {
     "name": "stdout",
     "output_type": "stream",
     "text": [
      "[1530, 2440] [1530.0, 2840.0]\n",
      "1545.0 2440.0\n",
      "[1571.5, 2440.0] [1571.5, 2840.0]\n"
     ]
    }
   ],
   "source": [
    "res_coupler_q3,res_q3_params = auxfuncs.draw_rounded_single_resonator_plus_qubit_orientation(tqd.sample,\n",
    "                          1530,2440 , coupler_length,\n",
    "                          tqd.resonator_core,tqd.resonator_gap, tqd.resonator_ground,\n",
    "                          tqd.tl_core, tqd.tl_gap, tqd.tl_ground, tqd.resonator_tl_ground,\n",
    "                          closed_end_meander_length=3180+110, length_left=480, length_right=540,\n",
    "                          min_bridge_spacing = None,\n",
    "                          airbridge = None, object1=tqd.sample.qubits[2], port='coupler0',\n",
    "                          open_end_length = 1000,\n",
    "                          port_orientation='right',meander_orientation='left', direction_orientation='down',\n",
    "                          points_for_the_open_end=[],orient_angle=np.pi/2)\n",
    "resonator_lengths.append(res_q3_params[0])"
   ]
  },
  {
   "cell_type": "code",
   "execution_count": 9,
   "id": "a7ce5602",
   "metadata": {},
   "outputs": [
    {
     "data": {
      "text/plain": [
       "[CPW \"feedline\", l=787.591]"
      ]
     },
     "execution_count": 9,
     "metadata": {},
     "output_type": "execute_result"
    }
   ],
   "source": [
    "tqd.sample.connect_cpw(o1=tqd.p11, o2=res_coupler_t1, port1='port', port2='port2', name='feedline', \n",
    "                       points=[])\n",
    "# # test resonator 1\n",
    "tqd.sample.connect_cpw(o1=res_coupler_t1, o2=res_coupler_q3, port1='port1', port2='port2', name='feedline', \n",
    "                       points=[])\n",
    "tqd.sample.connect_cpw(o1=res_coupler_q3, o2=res_coupler_qc, port1='port1', port2='port2', name='feedline', \n",
    "                       points=[])\n",
    "tqd.sample.connect_cpw(o1=res_coupler_qc, o2=tqd.p12, port1='port1', port2='port', name='feedline', \n",
    "                       points=[])"
   ]
  },
  {
   "cell_type": "markdown",
   "id": "01461523",
   "metadata": {},
   "source": [
    "# Second feedline"
   ]
  },
  {
   "cell_type": "code",
   "execution_count": 10,
   "id": "d45a41af",
   "metadata": {},
   "outputs": [
    {
     "name": "stdout",
     "output_type": "stream",
     "text": [
      "[6470, 3200] [6470.0, 2800.0]\n",
      "6455.0 3200.0\n",
      "[6428.5, 3200.0] [6428.5, 2800.0]\n"
     ]
    }
   ],
   "source": [
    "res_coupler_q1,res_q1_params = auxfuncs.draw_rounded_single_resonator_plus_qubit_orientation(tqd.sample,\n",
    "                          6470, 3200, coupler_length,\n",
    "                          tqd.resonator_core,tqd.resonator_gap, tqd.resonator_ground,\n",
    "                          tqd.tl_core, tqd.tl_gap, tqd.tl_ground, tqd.resonator_tl_ground,\n",
    "                          closed_end_meander_length=2600, length_left=400, length_right=700,\n",
    "                          min_bridge_spacing = None,\n",
    "                          airbridge = None, object1=tqd.sample.qubits[0], port='coupler0',\n",
    "                          open_end_length = 1000,\n",
    "                          port_orientation='right',meander_orientation='left', direction_orientation='down',\n",
    "                          points_for_the_open_end=[(5450,2804),(5950,2800),(5980,2300)],orient_angle=-np.pi/2)\n",
    "resonator_lengths.append(res_q1_params[0])"
   ]
  },
  {
   "cell_type": "code",
   "execution_count": 11,
   "id": "813dafdd",
   "metadata": {},
   "outputs": [
    {
     "name": "stdout",
     "output_type": "stream",
     "text": [
      "[6600, 2250] [7000.0, 2250.0]\n",
      "6600.0 2235.0\n",
      "[6600.0, 2208.5] [7000.0, 2208.5]\n"
     ]
    }
   ],
   "source": [
    "res_coupler_q2,res_q2_params = auxfuncs.draw_rounded_single_resonator_plus_qubit_orientation(tqd.sample,\n",
    "                          6600, 2250, coupler_length,\n",
    "                          tqd.resonator_core,tqd.resonator_gap, tqd.resonator_ground,\n",
    "                          tqd.tl_core, tqd.tl_gap, tqd.tl_ground, tqd.resonator_tl_ground,\n",
    "                          closed_end_meander_length=2000-280-23-150-200-30, length_left=450, length_right=400,\n",
    "                          min_bridge_spacing = None,\n",
    "                          airbridge = None, object1=tqd.sample.qubits[1], port='coupler0',\n",
    "                          open_end_length = 1000,\n",
    "                          port_orientation='right',meander_orientation='left', direction_orientation='down',\n",
    "                          points_for_the_open_end=[(6440,837)],orient_angle=0)\n",
    "resonator_lengths.append(res_q2_params[0])"
   ]
  },
  {
   "cell_type": "code",
   "execution_count": 12,
   "id": "5cc4236f",
   "metadata": {},
   "outputs": [
    {
     "name": "stdout",
     "output_type": "stream",
     "text": [
      "[6470, 3400] [6470.0, 3460.0]\n",
      "6485.0 3400.0\n",
      "[6511.5, 3400.0] [6511.5, 3460.0]\n"
     ]
    }
   ],
   "source": [
    "res_coupler_t2,res_t2_params = auxfuncs.draw_rounded_single_resonator_plus_qubit_orientation(tqd.sample,\n",
    "                          6470,3400 , 60,\n",
    "                          tqd.resonator_core,tqd.resonator_gap, tqd.resonator_ground,\n",
    "                          tqd.tl_core, tqd.tl_gap, tqd.tl_ground, tqd.resonator_tl_ground,\n",
    "                          closed_end_meander_length=3870, length_left=400, length_right=400,\n",
    "                          min_bridge_spacing = None,\n",
    "                          airbridge = None, object1=None, port=None,\n",
    "                          open_end_length = 1000,\n",
    "                          port_orientation='right',meander_orientation='left', direction_orientation='down',\n",
    "                          points_for_the_open_end=[],orient_angle=np.pi/2)\n",
    "resonator_lengths.append(res_t2_params[0])"
   ]
  },
  {
   "cell_type": "code",
   "execution_count": 13,
   "id": "5ac3c0df",
   "metadata": {},
   "outputs": [
    {
     "data": {
      "text/plain": [
       "[CPW \"feedline\", l=450.000]"
      ]
     },
     "execution_count": 13,
     "metadata": {},
     "output_type": "execute_result"
    }
   ],
   "source": [
    "tqd.sample.connect_cpw(o1=tqd.p21, o2=res_coupler_t2, port1='port', port2='port2', name='feedline', \n",
    "                       points=[])\n",
    "tqd.sample.connect_cpw(o1=res_coupler_t2, o2=res_coupler_q1, port1='port1', port2='port1', name='feedline', \n",
    "                       points=[])\n",
    "# test resonator 1\n",
    "tqd.sample.connect_cpw(o1=res_coupler_q1, o2=res_coupler_q2, port1='port2', port2='port1', name='feedline', \n",
    "                       points=[])\n",
    "\n",
    "tqd.sample.connect_cpw(o1=res_coupler_q2, o2=tqd.p22, port1='port2', port2='port', name='feedline', \n",
    "                       points=[])"
   ]
  },
  {
   "cell_type": "code",
   "execution_count": 14,
   "id": "2bd8f670",
   "metadata": {},
   "outputs": [
    {
     "data": {
      "text/plain": [
       "[4366.217829414798,\n",
       " 4240.392284567959,\n",
       " 4488.115859239367,\n",
       " 5027.12912814323,\n",
       " 3860.4109855582633,\n",
       " 4240.392284567958]"
      ]
     },
     "execution_count": 14,
     "metadata": {},
     "output_type": "execute_result"
    }
   ],
   "source": [
    "resonator_lengths"
   ]
  },
  {
   "cell_type": "markdown",
   "id": "86d0001b",
   "metadata": {},
   "source": [
    "# Connect fluxline"
   ]
  },
  {
   "cell_type": "code",
   "execution_count": 15,
   "id": "207c23db",
   "metadata": {},
   "outputs": [
    {
     "data": {
      "text/plain": [
       "3861"
      ]
     },
     "execution_count": 15,
     "metadata": {},
     "output_type": "execute_result"
    }
   ],
   "source": [
    "4029-168"
   ]
  },
  {
   "cell_type": "code",
   "execution_count": 16,
   "id": "5c556150",
   "metadata": {},
   "outputs": [
    {
     "data": {
      "text/plain": [
       "[CPW \"flux_control_line_qubit_coupler\", l=483.215]"
      ]
     },
     "execution_count": 16,
     "metadata": {},
     "output_type": "execute_result"
    }
   ],
   "source": [
    "pad=tqd.sample.qubits[3]\n",
    "port='coupler1'\n",
    "narrowing_length=100\n",
    "flux_line_narrowing_position = tqd.sample.cpw_shift(pad, port, narrowing_length/2)[0]\n",
    "\n",
    "flux_line_narrowing = tqd.elements.Narrowing(name='flux_line_narrowing', position=flux_line_narrowing_position, \n",
    "                                         orientation=pad.get_terminals()[port].orientation+np.pi, \n",
    "                                         w1=pad.get_terminals()[port].w, \n",
    "                                         s1=pad.get_terminals()[port].s, g1=pad.get_terminals()[port].g,\n",
    "                                         w2=tqd.tl_core, s2=tqd.tl_gap, g2=tqd.tl_ground, \n",
    "                                         layer_configuration=tqd.sample.layer_configuration, length=narrowing_length+0.5)\n",
    "tqd.sample.add(flux_line_narrowing)\n",
    "tqd.sample.connect(flux_line_narrowing, 'port1', pad, port)\n",
    "tqd.sample.connect_cpw(tqd.pads_bottom[0], flux_line_narrowing, 'port', 'port2', 'flux_control_line_qubit_coupler', points=[],\n",
    "                      airbridge=None, min_spacing=None, r=80)"
   ]
  },
  {
   "cell_type": "code",
   "execution_count": 17,
   "id": "ab5c14bb",
   "metadata": {},
   "outputs": [
    {
     "name": "stdout",
     "output_type": "stream",
     "text": [
      "already run restricted once\n"
     ]
    },
    {
     "data": {
      "text/plain": [
       "0"
      ]
     },
     "execution_count": 17,
     "metadata": {},
     "output_type": "execute_result"
    }
   ],
   "source": [
    "tqd.sample.draw_design(True)\n",
    "tqd.sample.draw_terminals()\n",
    "tqd.create_restricted(True)\n",
    "# tqd.sample.watch(True)"
   ]
  },
  {
   "cell_type": "code",
   "execution_count": 18,
   "id": "ideal-population",
   "metadata": {},
   "outputs": [],
   "source": [
    "tqd.sample.watch(True)"
   ]
  },
  {
   "cell_type": "code",
   "execution_count": 19,
   "id": "84c04f69",
   "metadata": {},
   "outputs": [
    {
     "name": "stdout",
     "output_type": "stream",
     "text": [
      "Gds file has been writen here:  H:\\Github2.0\\QCreator\\designs\\ThreeQubitsPlusTwoQubits/Three-qubits-PP.gds\n"
     ]
    }
   ],
   "source": [
    "tqd.sample.write_to_gds()"
   ]
  },
  {
   "cell_type": "markdown",
   "id": "a923a153",
   "metadata": {},
   "source": [
    "# Add ground"
   ]
  },
  {
   "cell_type": "code",
   "execution_count": 20,
   "id": "bbc3f01b",
   "metadata": {},
   "outputs": [],
   "source": [
    "# grid_ground =tqd.elements.GridGround(tqd.sample.chip_geometry, tqd.sample.layer_configuration, tqd.sample.objects,width=22, period=25)\n",
    "# tqd.sample.add(grid_ground)"
   ]
  }
 ],
 "metadata": {
  "kernelspec": {
   "display_name": "Python 3",
   "language": "python",
   "name": "python3"
  },
  "language_info": {
   "codemirror_mode": {
    "name": "ipython",
    "version": 3
   },
   "file_extension": ".py",
   "mimetype": "text/x-python",
   "name": "python",
   "nbconvert_exporter": "python",
   "pygments_lexer": "ipython3",
   "version": "3.9.6"
  }
 },
 "nbformat": 4,
 "nbformat_minor": 5
}
