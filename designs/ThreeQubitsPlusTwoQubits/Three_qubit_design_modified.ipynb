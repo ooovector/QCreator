{
 "cells": [
  {
   "cell_type": "code",
   "execution_count": 1,
   "id": "healthy-sequence",
   "metadata": {},
   "outputs": [
    {
     "name": "stdout",
     "output_type": "stream",
     "text": [
      "uploaded\n"
     ]
    }
   ],
   "source": [
    "from importlib import reload\n",
    "import numpy as np\n",
    "from matplotlib import pyplot as plt\n",
    "import Three_qubit_design as tqd\n",
    "import QCreator.auxiliary_functions as auxfuncs"
   ]
  },
  {
   "cell_type": "code",
   "execution_count": 2,
   "id": "short-diesel",
   "metadata": {},
   "outputs": [
    {
     "name": "stdout",
     "output_type": "stream",
     "text": [
      "uploaded\n"
     ]
    },
    {
     "data": {
      "text/plain": [
       "<module 'Three_qubit_design' from 'H:\\\\Github2.0\\\\QCreator\\\\designs\\\\ThreeQubitsPlusTwoQubits\\\\Three_qubit_design.py'>"
      ]
     },
     "execution_count": 2,
     "metadata": {},
     "output_type": "execute_result"
    }
   ],
   "source": [
    "reload(tqd)"
   ]
  },
  {
   "cell_type": "code",
   "execution_count": 3,
   "id": "4488348c",
   "metadata": {},
   "outputs": [
    {
     "data": {
      "text/plain": [
       "0"
      ]
     },
     "execution_count": 3,
     "metadata": {},
     "output_type": "execute_result"
    }
   ],
   "source": [
    "tqd.sample.draw_terminals()\n",
    "tqd.sample.draw_design()\n",
    "tqd.create_restricted()\n",
    "# tqd.sample.watch(True)"
   ]
  },
  {
   "cell_type": "markdown",
   "id": "da32931f",
   "metadata": {},
   "source": [
    "# Create resonators"
   ]
  },
  {
   "cell_type": "code",
   "execution_count": 4,
   "id": "cbae294a",
   "metadata": {},
   "outputs": [],
   "source": [
    "coupler_start_x,coupler_start_y = (2000,3200)\n",
    "grounding_width=10\n",
    "coupler_length=400\n",
    "resonator_lengths=[]"
   ]
  },
  {
   "cell_type": "code",
   "execution_count": 5,
   "id": "ef0110f6",
   "metadata": {},
   "outputs": [
    {
     "name": "stdout",
     "output_type": "stream",
     "text": [
      "[2000, 3200] [2000.0, 3600.0]\n",
      "2017.5 3200.0\n",
      "[2046.5, 3200.0] [2046.5, 3600.0]\n"
     ]
    }
   ],
   "source": [
    "res_coupler_qc,res_qc_params = auxfuncs.draw_rounded_single_resonator_plus_qubit_orientation(tqd.sample,\n",
    "                          2000, 3200, coupler_length,\n",
    "                          tqd.resonator_core,tqd.resonator_gap, tqd.resonator_ground,\n",
    "                          tqd.tl_core, tqd.tl_gap, tqd.tl_ground, tqd.resonator_tl_ground,\n",
    "                          closed_end_meander_length=3800, length_left=400, length_right=400,\n",
    "                          min_bridge_spacing = None,\n",
    "                          airbridge = None, object1=tqd.sample.qubits[3], port='coupler0',\n",
    "                          open_end_length = 1000,\n",
    "                          port_orientation='right',meander_orientation='left', direction_orientation='down',\n",
    "                          points_for_the_open_end=[],orient_angle=np.pi/2)\n",
    "resonator_lengths.append(res_qc_params[0])"
   ]
  },
  {
   "cell_type": "code",
   "execution_count": 6,
   "id": "1a131d1b",
   "metadata": {},
   "outputs": [],
   "source": [
    "# (2860,2170)]+tqd.sample.cpw_shift(tqd.sample.qubits[0],'coupler0',200)"
   ]
  },
  {
   "cell_type": "code",
   "execution_count": 7,
   "id": "b78376e2",
   "metadata": {},
   "outputs": [
    {
     "name": "stdout",
     "output_type": "stream",
     "text": [
      "[1000, 1500] [1400.0, 1500.0]\n",
      "1000.0 1482.5\n",
      "[1000.0, 1453.5] [1400.0, 1453.5]\n"
     ]
    }
   ],
   "source": [
    "res_coupler_q3,res_q3_params = auxfuncs.draw_rounded_single_resonator_plus_qubit_orientation(tqd.sample,\n",
    "                          1000,1500 , coupler_length,\n",
    "                          tqd.resonator_core,tqd.resonator_gap, tqd.resonator_ground,\n",
    "                          tqd.tl_core, tqd.tl_gap, tqd.tl_ground, tqd.resonator_tl_ground,\n",
    "                          closed_end_meander_length=3800, length_left=400, length_right=400,\n",
    "                          min_bridge_spacing = None,\n",
    "                          airbridge = None, object1=tqd.sample.qubits[2], port='coupler0',\n",
    "                          open_end_length = 1000,\n",
    "                          port_orientation='right',meander_orientation='left', direction_orientation='down',\n",
    "                          points_for_the_open_end=[],orient_angle=0)\n",
    "resonator_lengths.append(res_q3_params[0])"
   ]
  },
  {
   "cell_type": "code",
   "execution_count": 8,
   "id": "a7ce5602",
   "metadata": {},
   "outputs": [
    {
     "data": {
      "text/plain": [
       "[CPW \"feedline\", l=943.374]"
      ]
     },
     "execution_count": 8,
     "metadata": {},
     "output_type": "execute_result"
    }
   ],
   "source": [
    "tqd.sample.connect_cpw(o1=tqd.p11, o2=res_coupler_qc, port1='port', port2='port2', name='feedline', \n",
    "                       points=[])\n",
    "# # test resonator 1\n",
    "tqd.sample.connect_cpw(o1=res_coupler_qc, o2=res_coupler_q3, port1='port1', port2='port2', name='feedline', \n",
    "                       points=[])\n",
    "\n",
    "tqd.sample.connect_cpw(o1=res_coupler_q3, o2=tqd.p12, port1='port1', port2='port', name='feedline', \n",
    "                       points=[])"
   ]
  },
  {
   "cell_type": "markdown",
   "id": "01461523",
   "metadata": {},
   "source": [
    "# Second feedline"
   ]
  },
  {
   "cell_type": "code",
   "execution_count": 9,
   "id": "d45a41af",
   "metadata": {},
   "outputs": [
    {
     "name": "stdout",
     "output_type": "stream",
     "text": [
      "[6300, 3300] [6300.0, 2900.0]\n",
      "6282.5 3300.0\n",
      "[6253.5, 3300.0] [6253.5, 2900.0]\n"
     ]
    }
   ],
   "source": [
    "res_coupler_q1,res_q1_params = auxfuncs.draw_rounded_single_resonator_plus_qubit_orientation(tqd.sample,\n",
    "                          6300, 3300, coupler_length,\n",
    "                          tqd.resonator_core,tqd.resonator_gap, tqd.resonator_ground,\n",
    "                          tqd.tl_core, tqd.tl_gap, tqd.tl_ground, tqd.resonator_tl_ground,\n",
    "                          closed_end_meander_length=3800, length_left=400, length_right=400,\n",
    "                          min_bridge_spacing = None,\n",
    "                          airbridge = None, object1=tqd.sample.qubits[0], port='coupler0',\n",
    "                          open_end_length = 1000,\n",
    "                          port_orientation='right',meander_orientation='left', direction_orientation='down',\n",
    "                          points_for_the_open_end=[],orient_angle=-np.pi/2)\n",
    "resonator_lengths.append(res_q1_params[0])"
   ]
  },
  {
   "cell_type": "code",
   "execution_count": 10,
   "id": "813dafdd",
   "metadata": {},
   "outputs": [
    {
     "name": "stdout",
     "output_type": "stream",
     "text": [
      "[6600, 2400] [7000.0, 2400.0]\n",
      "6600.0 2382.5\n",
      "[6600.0, 2353.5] [7000.0, 2353.5]\n"
     ]
    }
   ],
   "source": [
    "res_coupler_q2,res_q2_params = auxfuncs.draw_rounded_single_resonator_plus_qubit_orientation(tqd.sample,\n",
    "                          6600, 2400, coupler_length,\n",
    "                          tqd.resonator_core,tqd.resonator_gap, tqd.resonator_ground,\n",
    "                          tqd.tl_core, tqd.tl_gap, tqd.tl_ground, tqd.resonator_tl_ground,\n",
    "                          closed_end_meander_length=3800, length_left=400, length_right=400,\n",
    "                          min_bridge_spacing = None,\n",
    "                          airbridge = None, object1=tqd.sample.qubits[1], port='coupler0',\n",
    "                          open_end_length = 1000,\n",
    "                          port_orientation='right',meander_orientation='left', direction_orientation='down',\n",
    "                          points_for_the_open_end=[],orient_angle=0)\n",
    "resonator_lengths.append(res_q2_params[0])"
   ]
  },
  {
   "cell_type": "code",
   "execution_count": 11,
   "id": "5ac3c0df",
   "metadata": {},
   "outputs": [
    {
     "data": {
      "text/plain": [
       "[CPW \"feedline\", l=476.641]"
      ]
     },
     "execution_count": 11,
     "metadata": {},
     "output_type": "execute_result"
    }
   ],
   "source": [
    "tqd.sample.connect_cpw(o1=tqd.p21, o2=res_coupler_q1, port1='port', port2='port1', name='feedline', \n",
    "                       points=[])\n",
    "# test resonator 1\n",
    "tqd.sample.connect_cpw(o1=res_coupler_q1, o2=res_coupler_q2, port1='port2', port2='port1', name='feedline', \n",
    "                       points=[])\n",
    "\n",
    "tqd.sample.connect_cpw(o1=res_coupler_q2, o2=tqd.p22, port1='port2', port2='port', name='feedline', \n",
    "                       points=[])"
   ]
  },
  {
   "cell_type": "markdown",
   "id": "86d0001b",
   "metadata": {},
   "source": [
    "# Connect fluxline"
   ]
  },
  {
   "cell_type": "code",
   "execution_count": 12,
   "id": "5c556150",
   "metadata": {},
   "outputs": [
    {
     "data": {
      "text/plain": [
       "[CPW \"flux_control_line_qubit_coupler\", l=649.202]"
      ]
     },
     "execution_count": 12,
     "metadata": {},
     "output_type": "execute_result"
    }
   ],
   "source": [
    "pad=tqd.sample.qubits[3]\n",
    "port='coupler1'\n",
    "narrowing_length=100\n",
    "flux_line_narrowing_position = tqd.sample.cpw_shift(pad, port, narrowing_length/2)[0]\n",
    "\n",
    "flux_line_narrowing = tqd.elements.Narrowing(name='flux_line_narrowing', position=flux_line_narrowing_position, \n",
    "                                         orientation=pad.get_terminals()[port].orientation+np.pi, \n",
    "                                         w1=pad.get_terminals()[port].w, \n",
    "                                         s1=pad.get_terminals()[port].s, g1=pad.get_terminals()[port].g,\n",
    "                                         w2=tqd.tl_core, s2=tqd.tl_gap, g2=tqd.tl_ground, \n",
    "                                         layer_configuration=tqd.sample.layer_configuration, length=narrowing_length+0.5)\n",
    "tqd.sample.add(flux_line_narrowing)\n",
    "tqd.sample.connect(flux_line_narrowing, 'port1', pad, port)\n",
    "tqd.sample.connect_cpw(tqd.pads_bottom[0], flux_line_narrowing, 'port', 'port2', 'flux_control_line_qubit_coupler', points=[],\n",
    "                      airbridge=None, min_spacing=None, r=80)"
   ]
  },
  {
   "cell_type": "code",
   "execution_count": 13,
   "id": "ab5c14bb",
   "metadata": {},
   "outputs": [
    {
     "name": "stdout",
     "output_type": "stream",
     "text": [
      "already run restricted once\n"
     ]
    }
   ],
   "source": [
    "tqd.sample.draw_design(True)\n",
    "tqd.sample.draw_terminals()\n",
    "tqd.create_restricted(True)\n",
    "tqd.sample.watch(True)"
   ]
  },
  {
   "cell_type": "code",
   "execution_count": 14,
   "id": "84c04f69",
   "metadata": {},
   "outputs": [],
   "source": [
    "# tqd.sample.write_to_gds()"
   ]
  },
  {
   "cell_type": "markdown",
   "id": "a923a153",
   "metadata": {},
   "source": [
    "# Add ground"
   ]
  },
  {
   "cell_type": "code",
   "execution_count": 15,
   "id": "bbc3f01b",
   "metadata": {},
   "outputs": [],
   "source": [
    "# grid_ground =tqd.elements.GridGround(tqd.sample.chip_geometry, tqd.sample.layer_configuration, tqd.sample.objects,width=22, period=25)\n",
    "# tqd.sample.add(grid_ground)"
   ]
  }
 ],
 "metadata": {
  "kernelspec": {
   "display_name": "Python 3",
   "language": "python",
   "name": "python3"
  },
  "language_info": {
   "codemirror_mode": {
    "name": "ipython",
    "version": 3
   },
   "file_extension": ".py",
   "mimetype": "text/x-python",
   "name": "python",
   "nbconvert_exporter": "python",
   "pygments_lexer": "ipython3",
   "version": "3.9.5"
  }
 },
 "nbformat": 4,
 "nbformat_minor": 5
}
