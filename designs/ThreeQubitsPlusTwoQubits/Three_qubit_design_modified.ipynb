{
 "cells": [
  {
   "cell_type": "code",
   "execution_count": 1,
   "id": "healthy-sequence",
   "metadata": {},
   "outputs": [
    {
     "name": "stdout",
     "output_type": "stream",
     "text": [
      "uploaded\n"
     ]
    }
   ],
   "source": [
    "from importlib import reload\n",
    "import numpy as np\n",
    "from matplotlib import pyplot as plt\n",
    "import Three_qubit_design as tqd\n",
    "import QCreator.auxiliary_functions as auxfuncs"
   ]
  },
  {
   "cell_type": "code",
   "execution_count": 2,
   "id": "short-diesel",
   "metadata": {},
   "outputs": [
    {
     "name": "stdout",
     "output_type": "stream",
     "text": [
      "uploaded\n"
     ]
    },
    {
     "data": {
      "text/plain": [
       "<module 'Three_qubit_design' from '\\\\\\\\badwwmi\\\\user\\\\home\\\\di82riv\\\\Documents\\\\Desktop\\\\Master\\\\CircuitDesign\\\\QCreator\\\\QCreator\\\\designs\\\\ThreeQubitsPlusTwoQubits\\\\Three_qubit_design.py'>"
      ]
     },
     "execution_count": 2,
     "metadata": {},
     "output_type": "execute_result"
    }
   ],
   "source": [
    "reload(tqd)"
   ]
  },
  {
   "cell_type": "code",
   "execution_count": 3,
   "id": "clean-subsection",
   "metadata": {},
   "outputs": [],
   "source": [
    "tqd.sample.draw_terminals()\n",
    "tqd.sample.draw_design()\n",
    "tqd.create_restricted()\n",
    "tqd.sample.watch(True)"
   ]
  },
  {
   "cell_type": "markdown",
   "id": "available-evanescence",
   "metadata": {},
   "source": [
    "# Connect fluxlines to couplers"
   ]
  },
  {
   "cell_type": "code",
   "execution_count": 4,
   "id": "patent-coalition",
   "metadata": {},
   "outputs": [
    {
     "data": {
      "text/plain": [
       "[CPW \"flux_control_T1_part2\", l=3350.575]"
      ]
     },
     "execution_count": 4,
     "metadata": {},
     "output_type": "execute_result"
    }
   ],
   "source": [
    "# flux_line_narrowing_position = np.asarray(tqd.T2.terminals['coupler1'].position)\n",
    "direction = [np.cos(tqd.T2.terminals['coupler1'].orientation+np.pi/2), \n",
    "             np.sin(tqd.T2.terminals['coupler1'].orientation+np.pi/2)]\n",
    "narrowing_length = 25\n",
    "flux_line_narrowing_position = (tqd.T2.terminals['coupler1'].position[0],tqd.T2.terminals['coupler1'].position[1]+12.5)\n",
    "flux_line_narrowing = tqd.elements.Narrowing(name='flux_line_narrowing_T2', \n",
    "                                             position=flux_line_narrowing_position, \n",
    "                                             orientation=tqd.T2.terminals['coupler1'].orientation+np.pi, \n",
    "                                             w1=tqd.T2.terminals['coupler1'].w, \n",
    "                                             s1=tqd.T2.terminals['coupler1'].s, \n",
    "                                             g1=tqd.T2.terminals['coupler1'].g,\n",
    "                                             w2=tqd.tl_core, \n",
    "                                             s2=tqd.tl_gap, \n",
    "                                             g2=tqd.tl_ground, \n",
    "                                             layer_configuration=tqd.sample.layer_configuration, \n",
    "                                             length=narrowing_length)\n",
    "tqd.sample.add(flux_line_narrowing)\n",
    "tqd.sample.connect(flux_line_narrowing, 'port1', tqd.T2, 'coupler1')\n",
    "points=[(flux_line_narrowing.terminals['port2'].position[0]+500,flux_line_narrowing.terminals['port2'].position[1]+100),\n",
    "        (flux_line_narrowing.terminals['port2'].position[0]+1300,flux_line_narrowing.terminals['port2'].position[1]+800)]\n",
    "tqd.sample.connect_cpw(o2=tqd.pads_top[2], o1=flux_line_narrowing, port2='port', port1='port2', name='flux_control_T1_part2', points=points)\n",
    "# tqd.sample.connect_cpw(tqd.T2, flux_line_narrowing, 'coupler1', 'port1', 'flux_control_T1_part1', points=[])"
   ]
  },
  {
   "cell_type": "markdown",
   "id": "based-familiar",
   "metadata": {},
   "source": [
    "# Connect microwave lines to qubits"
   ]
  },
  {
   "cell_type": "code",
   "execution_count": 5,
   "id": "signed-promise",
   "metadata": {},
   "outputs": [
    {
     "data": {
      "text/plain": [
       "[CPW \"microwave_control_Q1_part1\", l=62.500]"
      ]
     },
     "execution_count": 5,
     "metadata": {},
     "output_type": "execute_result"
    }
   ],
   "source": [
    "microwave_line_narrowing_position = np.asarray(tqd.Q1.terminals['coupler1'].position)\n",
    "direction = [np.cos(tqd.Q1.terminals['coupler1'].orientation), \n",
    "             np.sin(tqd.Q1.terminals['coupler1'].orientation)]\n",
    "narrowing_length = 25\n",
    "microwave_line_narrowing_position = microwave_line_narrowing_position - np.asarray(direction)*(narrowing_length+50)\n",
    "microwave_line_narrowing = tqd.elements.Narrowing(name='microwave_line_narrowing_Q1', \n",
    "                                             position=microwave_line_narrowing_position, \n",
    "                                             orientation=tqd.Q1.terminals['coupler1'].orientation+np.pi, \n",
    "                                             w1=tqd.Q1.terminals['coupler1'].w, \n",
    "                                             s1=tqd.Q1.terminals['coupler1'].s, \n",
    "                                             g1=tqd.Q1.terminals['coupler1'].g,\n",
    "                                             w2=tqd.tl_core, \n",
    "                                             s2=tqd.tl_gap, \n",
    "                                             g2=tqd.tl_ground, \n",
    "                                             layer_configuration=tqd.sample.layer_configuration, \n",
    "                                             length=narrowing_length)\n",
    "tqd.sample.add(microwave_line_narrowing)\n",
    "tqd.sample.connect(microwave_line_narrowing, 'port1', tqd.Q1, 'coupler1')\n",
    "points=tqd.sample.cpw_shift(tqd.pads_bottom[0],'port',100)+tqd.sample.cpw_shift(microwave_line_narrowing,'port2',100)\n",
    "tqd.sample.connect_cpw(tqd.pads_bottom[0], microwave_line_narrowing, 'port', 'port2', 'microwave_control_Q1_part2', points=points)\n",
    "tqd.sample.connect_cpw(tqd.Q1, microwave_line_narrowing, 'coupler1', 'port1', 'microwave_control_Q1_part1', points=[])"
   ]
  },
  {
   "cell_type": "code",
   "execution_count": 6,
   "id": "banner-symbol",
   "metadata": {},
   "outputs": [
    {
     "data": {
      "text/plain": [
       "[CPW \"microwave_control_Q3_part1\", l=62.500]"
      ]
     },
     "execution_count": 6,
     "metadata": {},
     "output_type": "execute_result"
    }
   ],
   "source": [
    "microwave_line_narrowing_position = np.asarray(tqd.Q3.terminals['coupler0'].position)\n",
    "direction = [np.cos(tqd.Q3.terminals['coupler0'].orientation), \n",
    "             np.sin(tqd.Q3.terminals['coupler0'].orientation)]\n",
    "narrowing_length = 25\n",
    "microwave_line_narrowing_position = microwave_line_narrowing_position - np.asarray(direction)*(narrowing_length+50)\n",
    "microwave_line_narrowing = tqd.elements.Narrowing(name='microwave_line_narrowing_Q3', \n",
    "                                             position=microwave_line_narrowing_position, \n",
    "                                             orientation=tqd.Q3.terminals['coupler0'].orientation+np.pi, \n",
    "                                             w1=tqd.Q3.terminals['coupler0'].w, \n",
    "                                             s1=tqd.Q3.terminals['coupler0'].s, \n",
    "                                             g1=tqd.Q3.terminals['coupler0'].g,\n",
    "                                             w2=tqd.tl_core, \n",
    "                                             s2=tqd.tl_gap, \n",
    "                                             g2=tqd.tl_ground, \n",
    "                                             layer_configuration=tqd.sample.layer_configuration, \n",
    "                                             length=narrowing_length)\n",
    "tqd.sample.add(microwave_line_narrowing)\n",
    "tqd.sample.connect(microwave_line_narrowing, 'port1', tqd.Q3, 'coupler0')\n",
    "points=tqd.sample.cpw_shift(tqd.pads_right[0],'port',100)+tqd.sample.cpw_shift(microwave_line_narrowing,'port2',100)\n",
    "tqd.sample.connect_cpw(tqd.pads_right[0], microwave_line_narrowing, 'port', 'port2', 'microwave_control_Q3_part2', points=points)\n",
    "tqd.sample.connect_cpw(tqd.Q3, microwave_line_narrowing, 'coupler0', 'port1', 'microwave_control_Q3_part1', points=[])"
   ]
  },
  {
   "cell_type": "markdown",
   "id": "present-partnership",
   "metadata": {},
   "source": [
    "# Create resonators for the right bottom corner"
   ]
  },
  {
   "cell_type": "code",
   "execution_count": 7,
   "id": "exposed-edmonton",
   "metadata": {},
   "outputs": [
    {
     "name": "stderr",
     "output_type": "stream",
     "text": [
      "C:\\Users\\di82riv\\Anaconda3\\lib\\site-packages\\gdspy\\path.py:827: UserWarning: [GDSPY] Possible inconsistency found in `FlexPath` due to sharp corner.\n",
      "  warnings.warn(\n"
     ]
    },
    {
     "data": {
      "text/plain": [
       "(4205.162155025919, 56.784268722636455, 1.4656184980033523e-16)"
      ]
     },
     "execution_count": 7,
     "metadata": {},
     "output_type": "execute_result"
    }
   ],
   "source": [
    "# Q1 resonator\n",
    "coupler_w = [tqd.resonator_core, tqd.resonator_ground, tqd.tl_core]\n",
    "coupler_s = [tqd.resonator_gap, tqd.resonator_gap, tqd.tl_gap, tqd.tl_gap]\n",
    "(coupler_start_x,coupler_start_y)=(3060,1120)\n",
    "coupler_length=400\n",
    "# 2. Create main coupler:\n",
    "coupler_start_x, coupler_length = coupler_start_x + coupler_length, -coupler_length\n",
    "angle = np.pi\n",
    "\n",
    "main_coupler = tqd.elements.CPWCoupler('TL-resonator Q1 coupler',\n",
    "                                   [(coupler_start_x, coupler_start_y),\n",
    "                                    (coupler_start_x + coupler_length, coupler_start_y)],\n",
    "                                   coupler_w, coupler_s, tqd.tl_ground, tqd.sample.layer_configuration, r=100)\n",
    "tqd.sample.add(main_coupler)\n",
    "total_length = [coupler_length]\n",
    "\n",
    "# 3. Create fanout to create closed and opened ends of resonator\n",
    "grounding_width=10\n",
    "fanout1 = tqd.sample.fanout(o=main_coupler, port='port1', name='closed end resonator fanout', grouping=[1, 3])\n",
    "g1 = tqd.sample.ground(o=fanout1, port='center', name='cl1', grounding_width=grounding_width, grounding_between=[(2, 3)])\n",
    "fanout2 = tqd.sample.fanout(o=main_coupler, port='port2', name='open end resonator fanout', grouping=[1, 3])\n",
    "g2 = tqd.sample.ground(o=fanout2, port='center', name='cl2', grounding_width=grounding_width, grounding_between=[(0, 1)])\n",
    "fanout1_port = 'up'\n",
    "fanout2_port = 'down'\n",
    "\n",
    "port_orientation='right'\n",
    "direction_orientation='up'\n",
    "if port_orientation == 'right':\n",
    "    fanout1, fanout2 = fanout2, fanout1\n",
    "    fanout1_port, fanout2_port = fanout2_port, fanout1_port\n",
    "if direction_orientation == 'up':\n",
    "    fanout1, fanout2 = fanout2, fanout1\n",
    "    fanout1_port, fanout2_port = fanout2_port, fanout1_port\n",
    "\n",
    "# 6. Create closed meander of resonator\n",
    "\n",
    "closed_end_meander_length=2750\n",
    "length_left=350\n",
    "length_right=200\n",
    "closed_end_meander = tqd.sample.connect_meander(name='closed end', o1=fanout1, port1=fanout1_port,\n",
    "                                            meander_length=closed_end_meander_length,\n",
    "                                            length_left=length_left,\n",
    "                                            length_right=length_right,\n",
    "                                            first_step_orientation='left',\n",
    "                                            meander_orientation=angle,\n",
    "                                            meander_type='round')\n",
    "\n",
    "total_length.append(sum([line.length for line in closed_end_meander]))\n",
    "# # 7. Create grounding of resonator\n",
    "resonator_ground_ = tqd.sample.ground(o=closed_end_meander[-1], port='port2', name='resonator ground', grounding_width=30,\n",
    "                                      grounding_between=[(0, 2)])\n",
    "\n",
    "points=[(tqd.Q1.terminals['coupler0'].position[0]+150,tqd.Q1.terminals['coupler0'].position[1]),\n",
    "       (tqd.Q1.terminals['coupler0'].position[0]+150,tqd.Q1.terminals['coupler0'].position[1]+250),\n",
    "       (tqd.Q1.terminals['coupler0'].position[0]+400,tqd.Q1.terminals['coupler0'].position[1]+250)]\n",
    "# tqd.sample.cpw_shift(fanout2,fanout2_port,100)+tqd.sample.cpw_shift(tqd.Q1,'coupler0',100)\n",
    "\n",
    "open_end = tqd.sample.connect_cpw(tqd.Q1,fanout2, 'coupler0', fanout2_port,name='right open end',\n",
    "                                    points=points)\n",
    "\n",
    "cl, ll = open_end[0].cm(tqd.sample.epsilon)\n",
    "total_length.append(sum([np.abs(line.length) for line in open_end]))\n",
    "z01 = np.sqrt(ll[0] / cl[0])[0]\n",
    "res_params = (sum(np.abs(total_length)), z01, cl[0, 0])\n",
    "if direction_orientation == 'up':\n",
    "    g1, g2 = g2, g1\n",
    "res_Q1_g1=g1\n",
    "res_Q1_g2=g2\n",
    "tqd.sample.draw_design()\n",
    "res_params"
   ]
  },
  {
   "cell_type": "code",
   "execution_count": 8,
   "id": "naughty-hostel",
   "metadata": {},
   "outputs": [],
   "source": [
    "points=[(tqd.pads_bottom[1].position[0]-750,tqd.pads_bottom[1].position[1]+50),\n",
    "       (tqd.pads_bottom[1].position[0]-750,tqd.pads_bottom[1].position[1]+400)]\n",
    "tqd.sample.connect_cpw(o1=tqd.pads_bottom[1], o2=res_Q1_g1, port1='port', port2='narrow', name='right TL', points=points)\n",
    "tqd.sample.draw_design()"
   ]
  },
  {
   "cell_type": "code",
   "execution_count": 9,
   "id": "vietnamese-tunisia",
   "metadata": {},
   "outputs": [
    {
     "data": {
      "text/plain": [
       "(4395.349762900875, 56.784268722636455, 1.4656184980033523e-16)"
      ]
     },
     "execution_count": 9,
     "metadata": {},
     "output_type": "execute_result"
    }
   ],
   "source": [
    "# T2 resonator\n",
    "coupler_w = [tqd.resonator_core, tqd.resonator_ground, tqd.tl_core]\n",
    "coupler_s = [tqd.resonator_gap, tqd.resonator_gap, tqd.tl_gap, tqd.tl_gap]\n",
    "(coupler_start_x,coupler_start_y)=(4060-200,1120)\n",
    "coupler_length=400\n",
    "# 2. Create main coupler:\n",
    "coupler_start_x, coupler_length = coupler_start_x + coupler_length, -coupler_length\n",
    "angle = np.pi\n",
    "\n",
    "main_coupler = tqd.elements.CPWCoupler('TL-resonator T1 coupler',\n",
    "                                   [(coupler_start_x, coupler_start_y),\n",
    "                                    (coupler_start_x + coupler_length, coupler_start_y)],\n",
    "                                   coupler_w, coupler_s, tqd.tl_ground, tqd.sample.layer_configuration, r=100)\n",
    "tqd.sample.add(main_coupler)\n",
    "total_length = [coupler_length]\n",
    "\n",
    "# 3. Create fanout to create closed and opened ends of resonator\n",
    "grounding_width=10\n",
    "fanout1 = tqd.sample.fanout(o=main_coupler, port='port1', name='closed end resonator fanout', grouping=[1, 3])\n",
    "g1 = tqd.sample.ground(o=fanout1, port='center', name='cl1', grounding_width=grounding_width, grounding_between=[(2, 3)])\n",
    "fanout2 = tqd.sample.fanout(o=main_coupler, port='port2', name='open end resonator fanout', grouping=[1, 3])\n",
    "g2 = tqd.sample.ground(o=fanout2, port='center', name='cl2', grounding_width=grounding_width, grounding_between=[(0, 1)])\n",
    "fanout1_port = 'up'\n",
    "fanout2_port = 'down'\n",
    "\n",
    "port_orientation='right'\n",
    "direction_orientation='up'\n",
    "if port_orientation == 'right':\n",
    "    fanout1, fanout2 = fanout2, fanout1\n",
    "    fanout1_port, fanout2_port = fanout2_port, fanout1_port\n",
    "if direction_orientation == 'up':\n",
    "    fanout1, fanout2 = fanout2, fanout1\n",
    "    fanout1_port, fanout2_port = fanout2_port, fanout1_port\n",
    "\n",
    "# 6. Create closed meander of resonator\n",
    "\n",
    "closed_end_meander_length=2750\n",
    "length_left=350\n",
    "length_right=200\n",
    "closed_end_meander = tqd.sample.connect_meander(name='closed end', o1=fanout1, port1=fanout1_port,\n",
    "                                            meander_length=closed_end_meander_length,\n",
    "                                            length_left=length_left,\n",
    "                                            length_right=length_right,\n",
    "                                            first_step_orientation='left',\n",
    "                                            meander_orientation=angle,\n",
    "                                            meander_type='round')\n",
    "\n",
    "total_length.append(sum([line.length for line in closed_end_meander]))\n",
    "# # 7. Create grounding of resonator\n",
    "resonator_ground_ = tqd.sample.ground(o=closed_end_meander[-1], port='port2', name='resonator ground', grounding_width=30,\n",
    "                                      grounding_between=[(0, 2)])\n",
    "\n",
    "points=[(tqd.T2.terminals['coupler0'].position[0],tqd.T2.terminals['coupler0'].position[1]-350),\n",
    "       (tqd.T2.terminals['coupler0'].position[0]+450,tqd.T2.terminals['coupler0'].position[1]-350),]\n",
    "#        (tqd.T2.terminals['coupler0'].position[0]+400,tqd.T2.terminals['coupler0'].position[1]+250)]\n",
    "tqd.sample.cpw_shift(fanout2,fanout2_port,100)+tqd.sample.cpw_shift(tqd.Q1,'coupler0',100)\n",
    "\n",
    "open_end = tqd.sample.connect_cpw(tqd.T2,fanout2, 'coupler0', fanout2_port,name='right open end',\n",
    "                                    points=points)\n",
    "\n",
    "cl, ll = open_end[0].cm(tqd.sample.epsilon)\n",
    "total_length.append(sum([np.abs(line.length) for line in open_end]))\n",
    "z01 = np.sqrt(ll[0] / cl[0])[0]\n",
    "res_params = (sum(np.abs(total_length)), z01, cl[0, 0])\n",
    "if direction_orientation == 'up':\n",
    "    g1, g2 = g2, g1\n",
    "res_T2_g1=g1\n",
    "res_T2_g2=g2\n",
    "tqd.sample.draw_design()\n",
    "res_params"
   ]
  },
  {
   "cell_type": "code",
   "execution_count": 10,
   "id": "special-cause",
   "metadata": {},
   "outputs": [
    {
     "data": {
      "text/plain": [
       "[CPW \"right TL\", l=336.000]"
      ]
     },
     "execution_count": 10,
     "metadata": {},
     "output_type": "execute_result"
    }
   ],
   "source": [
    "tqd.sample.connect_cpw(o1=res_Q1_g2, o2=res_T2_g1, port1='narrow', port2='narrow', name='right TL', points=[])"
   ]
  },
  {
   "cell_type": "code",
   "execution_count": 11,
   "id": "unsigned-referral",
   "metadata": {},
   "outputs": [
    {
     "data": {
      "text/plain": [
       "(4373.47540294793, 56.784268722636455, 1.4656184980033523e-16)"
      ]
     },
     "execution_count": 11,
     "metadata": {},
     "output_type": "execute_result"
    }
   ],
   "source": [
    "# Q3 resonator\n",
    "coupler_w = [tqd.resonator_core, tqd.resonator_ground, tqd.tl_core]\n",
    "coupler_s = [tqd.resonator_gap, tqd.resonator_gap, tqd.tl_gap, tqd.tl_gap]\n",
    "(coupler_start_x,coupler_start_y)=(5060-200,1120)\n",
    "coupler_length=400\n",
    "# 2. Create main coupler:\n",
    "coupler_start_x, coupler_length = coupler_start_x + coupler_length, -coupler_length\n",
    "angle = np.pi\n",
    "\n",
    "main_coupler = tqd.elements.CPWCoupler('TL-resonator Q3 coupler',\n",
    "                                   [(coupler_start_x, coupler_start_y),\n",
    "                                    (coupler_start_x + coupler_length, coupler_start_y)],\n",
    "                                   coupler_w, coupler_s, tqd.tl_ground, tqd.sample.layer_configuration, r=100)\n",
    "tqd.sample.add(main_coupler)\n",
    "total_length = [coupler_length]\n",
    "\n",
    "# 3. Create fanout to create closed and opened ends of resonator\n",
    "grounding_width=10\n",
    "fanout1 = tqd.sample.fanout(o=main_coupler, port='port1', name='closed end resonator fanout', grouping=[1, 3])\n",
    "g1 = tqd.sample.ground(o=fanout1, port='center', name='cl1', grounding_width=grounding_width, grounding_between=[(2, 3)])\n",
    "fanout2 = tqd.sample.fanout(o=main_coupler, port='port2', name='open end resonator fanout', grouping=[1, 3])\n",
    "g2 = tqd.sample.ground(o=fanout2, port='center', name='cl2', grounding_width=grounding_width, grounding_between=[(0, 1)])\n",
    "fanout1_port = 'up'\n",
    "fanout2_port = 'down'\n",
    "\n",
    "port_orientation='right'\n",
    "direction_orientation='up'\n",
    "if port_orientation == 'right':\n",
    "    fanout1, fanout2 = fanout2, fanout1\n",
    "    fanout1_port, fanout2_port = fanout2_port, fanout1_port\n",
    "if direction_orientation == 'up':\n",
    "    fanout1, fanout2 = fanout2, fanout1\n",
    "    fanout1_port, fanout2_port = fanout2_port, fanout1_port\n",
    "\n",
    "# 6. Create closed meander of resonator\n",
    "\n",
    "closed_end_meander_length=2750\n",
    "length_left=350\n",
    "length_right=200\n",
    "closed_end_meander = tqd.sample.connect_meander(name='closed end', o1=fanout1, port1=fanout1_port,\n",
    "                                            meander_length=closed_end_meander_length,\n",
    "                                            length_left=length_left,\n",
    "                                            length_right=length_right,\n",
    "                                            first_step_orientation='left',\n",
    "                                            meander_orientation=angle,\n",
    "                                            meander_type='round')\n",
    "\n",
    "total_length.append(sum([line.length for line in closed_end_meander]))\n",
    "# # 7. Create grounding of resonator\n",
    "resonator_ground_ = tqd.sample.ground(o=closed_end_meander[-1], port='port2', name='resonator ground', grounding_width=30,\n",
    "                                      grounding_between=[(0, 2)])\n",
    "\n",
    "points=tqd.sample.cpw_shift(tqd.Q3,'coupler1',100)+[(tqd.Q3.terminals['coupler1'].position[0]+50,tqd.Q3.terminals['coupler1'].position[1]-250),\n",
    "       (tqd.Q3.terminals['coupler1'].position[0]+450,tqd.Q3.terminals['coupler1'].position[1]-250),]\n",
    "\n",
    "open_end = tqd.sample.connect_cpw(tqd.Q3,fanout2, 'coupler1', fanout2_port,name='right open end',\n",
    "                                    points=points)\n",
    "\n",
    "cl, ll = open_end[0].cm(tqd.sample.epsilon)\n",
    "total_length.append(sum([np.abs(line.length) for line in open_end]))\n",
    "z01 = np.sqrt(ll[0] / cl[0])[0]\n",
    "res_params = (sum(np.abs(total_length)), z01, cl[0, 0])\n",
    "if direction_orientation == 'up':\n",
    "    g1, g2 = g2, g1\n",
    "res_Q3_g1=g1\n",
    "res_Q3_g2=g2\n",
    "tqd.sample.draw_design()\n",
    "res_params"
   ]
  },
  {
   "cell_type": "code",
   "execution_count": 12,
   "id": "physical-journey",
   "metadata": {},
   "outputs": [
    {
     "data": {
      "text/plain": [
       "[CPW \"right TL\", l=799.226]"
      ]
     },
     "execution_count": 12,
     "metadata": {},
     "output_type": "execute_result"
    }
   ],
   "source": [
    "tqd.sample.connect_cpw(o1=res_T2_g2, o2=res_Q3_g1, port1='narrow', port2='narrow', name='right TL', points=[])\n",
    "tqd.sample.connect_cpw(o1=res_Q3_g2, o2=tqd.pads_bottom[2], port1='narrow', port2='port', name='right TL', points=[])"
   ]
  },
  {
   "cell_type": "markdown",
   "id": "colonial-picture",
   "metadata": {},
   "source": [
    "# Create resonators for the left top corner"
   ]
  },
  {
   "cell_type": "code",
   "execution_count": 13,
   "id": "amber-interim",
   "metadata": {},
   "outputs": [
    {
     "data": {
      "text/plain": [
       "(4373.47540294793, 56.784268722636455, 1.4656184980033523e-16)"
      ]
     },
     "execution_count": 13,
     "metadata": {},
     "output_type": "execute_result"
    }
   ],
   "source": [
    "# T1 resonator\n",
    "coupler_w = [tqd.resonator_core, tqd.resonator_ground, tqd.tl_core]\n",
    "coupler_s = [tqd.resonator_gap, tqd.resonator_gap, tqd.tl_gap, tqd.tl_gap]\n",
    "(coupler_start_x,coupler_start_y)=(1000,3000)\n",
    "coupler_length=400\n",
    "# 2. Create main coupler:\n",
    "angle = 0\n",
    "\n",
    "main_coupler = tqd.elements.CPWCoupler('TL-resonator T1 coupler',\n",
    "                                   [(coupler_start_x, coupler_start_y),\n",
    "                                    (coupler_start_x + coupler_length, coupler_start_y)],\n",
    "                                   coupler_w, coupler_s, tqd.tl_ground, tqd.sample.layer_configuration, r=100)\n",
    "tqd.sample.add(main_coupler)\n",
    "total_length = [coupler_length]\n",
    "\n",
    "# 3. Create fanout to create closed and opened ends of resonator\n",
    "grounding_width=10\n",
    "fanout1 = tqd.sample.fanout(o=main_coupler, port='port1', name='closed end resonator fanout', grouping=[1, 3])\n",
    "g1 = tqd.sample.ground(o=fanout1, port='center', name='cl1', grounding_width=grounding_width, grounding_between=[(2, 3)])\n",
    "fanout2 = tqd.sample.fanout(o=main_coupler, port='port2', name='open end resonator fanout', grouping=[1, 3])\n",
    "g2 = tqd.sample.ground(o=fanout2, port='center', name='cl2', grounding_width=grounding_width, grounding_between=[(0, 1)])\n",
    "fanout1_port = 'up'\n",
    "fanout2_port = 'down'\n",
    "\n",
    "port_orientation='right'\n",
    "direction_orientation='up'\n",
    "if port_orientation == 'right':\n",
    "    fanout1, fanout2 = fanout2, fanout1\n",
    "    fanout1_port, fanout2_port = fanout2_port, fanout1_port\n",
    "if direction_orientation == 'up':\n",
    "    fanout1, fanout2 = fanout2, fanout1\n",
    "    fanout1_port, fanout2_port = fanout2_port, fanout1_port\n",
    "\n",
    "# 6. Create closed meander of resonator\n",
    "\n",
    "closed_end_meander_length=2750\n",
    "length_left=200\n",
    "length_right=200\n",
    "closed_end_meander = tqd.sample.connect_meander(name='closed end', o1=fanout1, port1=fanout1_port,\n",
    "                                            meander_length=closed_end_meander_length,\n",
    "                                            length_left=length_left,\n",
    "                                            length_right=length_right,\n",
    "                                            first_step_orientation='left',\n",
    "                                            meander_orientation=angle,\n",
    "                                            meander_type='round')\n",
    "\n",
    "total_length.append(sum([line.length for line in closed_end_meander]))\n",
    "# # 7. Create grounding of resonator\n",
    "resonator_ground_ = tqd.sample.ground(o=closed_end_meander[-1], port='port2', name='resonator ground', grounding_width=30,\n",
    "                                      grounding_between=[(0, 2)])\n",
    "\n",
    "# points=tqd.sample.cpw_shift(tqd.T1,'coupler0',100)+[(tqd.T1.terminals['coupler0'].position[0]+50,tqd.Q3.terminals['coupler1'].position[1]-250),\n",
    "#        (tqd.T1.terminals['coupler0'].position[0]+450,tqd.T1.terminals['coupler0'].position[1]-250),]\n",
    "#points=tqd.sample.cpw_shift(tqd.T1,'coupler0',150)\n",
    "\n",
    "#open_end = tqd.sample.connect_cpw(tqd.T1,fanout2, 'coupler0', fanout2_port,name='right open end',\n",
    "                                    #points=points)\n",
    "\n",
    "cl, ll = open_end[0].cm(tqd.sample.epsilon)\n",
    "total_length.append(sum([np.abs(line.length) for line in open_end]))\n",
    "z01 = np.sqrt(ll[0] / cl[0])[0]\n",
    "res_params = (sum(np.abs(total_length)), z01, cl[0, 0])\n",
    "if direction_orientation == 'up':\n",
    "    g1, g2 = g2, g1\n",
    "res_T1_g1=g1\n",
    "res_T1_g2=g2\n",
    "tqd.sample.draw_design()\n",
    "res_params"
   ]
  },
  {
   "cell_type": "code",
   "execution_count": 14,
   "id": "appropriate-breakdown",
   "metadata": {},
   "outputs": [
    {
     "data": {
      "text/plain": [
       "(3884.771160803194, 56.784268722636455, 1.4656184980033523e-16)"
      ]
     },
     "execution_count": 14,
     "metadata": {},
     "output_type": "execute_result"
    }
   ],
   "source": [
    "# Q2 resonator\n",
    "coupler_w = [tqd.resonator_core, tqd.resonator_ground, tqd.tl_core]\n",
    "coupler_s = [tqd.resonator_gap, tqd.resonator_gap, tqd.tl_gap, tqd.tl_gap]\n",
    "(coupler_start_x,coupler_start_y)=(2900,3200)\n",
    "coupler_length=400\n",
    "# 2. Create main coupler:\n",
    "angle = 0\n",
    "\n",
    "main_coupler = tqd.elements.CPWCoupler('TL-resonator T1 coupler',\n",
    "                                   [(coupler_start_x, coupler_start_y),\n",
    "                                    (coupler_start_x + coupler_length, coupler_start_y)],\n",
    "                                   coupler_w, coupler_s, tqd.tl_ground, tqd.sample.layer_configuration, r=100)\n",
    "tqd.sample.add(main_coupler)\n",
    "total_length = [coupler_length]\n",
    "\n",
    "# 3. Create fanout to create closed and opened ends of resonator\n",
    "grounding_width=10\n",
    "fanout1 = tqd.sample.fanout(o=main_coupler, port='port1', name='closed end resonator fanout', grouping=[1, 3])\n",
    "g1 = tqd.sample.ground(o=fanout1, port='center', name='cl1', grounding_width=grounding_width, grounding_between=[(2, 3)])\n",
    "fanout2 = tqd.sample.fanout(o=main_coupler, port='port2', name='open end resonator fanout', grouping=[1, 3])\n",
    "g2 = tqd.sample.ground(o=fanout2, port='center', name='cl2', grounding_width=grounding_width, grounding_between=[(0, 1)])\n",
    "fanout1_port = 'up'\n",
    "fanout2_port = 'down'\n",
    "\n",
    "port_orientation='left'\n",
    "direction_orientation='up'\n",
    "if port_orientation == 'right':\n",
    "    fanout1, fanout2 = fanout2, fanout1\n",
    "    fanout1_port, fanout2_port = fanout2_port, fanout1_port\n",
    "if direction_orientation == 'up':\n",
    "    fanout1, fanout2 = fanout2, fanout1\n",
    "    fanout1_port, fanout2_port = fanout2_port, fanout1_port\n",
    "\n",
    "# 6. Create closed meander of resonator\n",
    "\n",
    "closed_end_meander_length=3000\n",
    "length_left=350\n",
    "length_right=350\n",
    "closed_end_meander = tqd.sample.connect_meander(name='closed end', o1=fanout1, port1=fanout1_port,\n",
    "                                            meander_length=closed_end_meander_length,\n",
    "                                            length_left=length_left,\n",
    "                                            length_right=length_right,\n",
    "                                            first_step_orientation='right',\n",
    "                                            meander_orientation=angle,\n",
    "                                            meander_type='round')\n",
    "\n",
    "total_length.append(sum([line.length for line in closed_end_meander]))\n",
    "# # 7. Create grounding of resonator\n",
    "resonator_ground_ = tqd.sample.ground(o=closed_end_meander[-1], port='port2', name='resonator ground', grounding_width=30,\n",
    "                                      grounding_between=[(0, 2)])\n",
    "\n",
    "# points=tqd.sample.cpw_shift(tqd.Q2,'coupler1',100)+[(tqd.Q2.terminals['coupler1'].position[0]+50,tqd.Q2.terminals['coupler1'].position[1]-250),\n",
    "#        (tqd.Q2.terminals['coupler1'].position[0]+450,tqd.Q2.terminals['coupler1'].position[1]-250),]\n",
    "points=tqd.sample.cpw_shift(tqd.Q2,'coupler0',150)\n",
    "\n",
    "open_end = tqd.sample.connect_cpw(tqd.Q2,fanout2, 'coupler0', fanout2_port,name='right open end',\n",
    "                                    points=points)\n",
    "\n",
    "cl, ll = open_end[0].cm(tqd.sample.epsilon)\n",
    "total_length.append(sum([np.abs(line.length) for line in open_end]))\n",
    "z01 = np.sqrt(ll[0] / cl[0])[0]\n",
    "res_params = (sum(np.abs(total_length)), z01, cl[0, 0])\n",
    "if direction_orientation == 'up':\n",
    "    g1, g2 = g2, g1\n",
    "res_Q2_g1=g1\n",
    "res_Q2_g2=g2\n",
    "tqd.sample.draw_design()\n",
    "res_params"
   ]
  },
  {
   "cell_type": "code",
   "execution_count": null,
   "id": "upset-recovery",
   "metadata": {},
   "outputs": [],
   "source": [
    "tqd.sample.draw_design()\n",
    "tqd.create_restricted()\n",
    "tqd.sample.watch(True)\n",
    "#tqd.sample.write_to_gds()"
   ]
  },
  {
   "cell_type": "code",
   "execution_count": null,
   "id": "molecular-partner",
   "metadata": {},
   "outputs": [],
   "source": []
  }
 ],
 "metadata": {
  "kernelspec": {
   "display_name": "Python 3",
   "language": "python",
   "name": "python3"
  },
  "language_info": {
   "codemirror_mode": {
    "name": "ipython",
    "version": 3
   },
   "file_extension": ".py",
   "mimetype": "text/x-python",
   "name": "python",
   "nbconvert_exporter": "python",
   "pygments_lexer": "ipython3",
   "version": "3.8.3"
  }
 },
 "nbformat": 4,
 "nbformat_minor": 5
}
