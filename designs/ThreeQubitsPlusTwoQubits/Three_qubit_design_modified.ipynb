{
 "cells": [
  {
   "cell_type": "code",
   "execution_count": 1,
   "id": "healthy-sequence",
   "metadata": {},
   "outputs": [
    {
     "name": "stdout",
     "output_type": "stream",
     "text": [
      "uploaded\n"
     ]
    }
   ],
   "source": [
    "from importlib import reload\n",
    "import numpy as np\n",
    "from matplotlib import pyplot as plt\n",
    "import Three_qubit_design as tqd\n",
    "import QCreator.auxiliary_functions as auxfuncs"
   ]
  },
  {
   "cell_type": "code",
   "execution_count": 12,
   "id": "short-diesel",
   "metadata": {},
   "outputs": [
    {
     "name": "stdout",
     "output_type": "stream",
     "text": [
      "uploaded\n"
     ]
    },
    {
     "data": {
      "text/plain": [
       "<module 'Three_qubit_design' from 'H:\\\\Github2.0\\\\QCreator\\\\designs\\\\ThreeQubitsPlusTwoQubits\\\\Three_qubit_design.py'>"
      ]
     },
     "execution_count": 12,
     "metadata": {},
     "output_type": "execute_result"
    }
   ],
   "source": [
    "reload(tqd)"
   ]
  },
  {
   "cell_type": "code",
   "execution_count": 13,
   "id": "4488348c",
   "metadata": {},
   "outputs": [
    {
     "data": {
      "text/plain": [
       "0"
      ]
     },
     "execution_count": 13,
     "metadata": {},
     "output_type": "execute_result"
    }
   ],
   "source": [
    "tqd.sample.draw_terminals()\n",
    "tqd.sample.draw_design()\n",
    "tqd.create_restricted()\n",
    "# tqd.sample.watch(True)"
   ]
  },
  {
   "cell_type": "code",
   "execution_count": 26,
   "id": "00c105a3",
   "metadata": {},
   "outputs": [],
   "source": [
    "tqd.sample.draw_terminals()\n",
    "tqd.sample.draw_design()\n",
    "tqd.create_restricted()\n",
    "tqd.sample.watch(True)"
   ]
  },
  {
   "cell_type": "markdown",
   "id": "da32931f",
   "metadata": {},
   "source": [
    "# Create resonators"
   ]
  },
  {
   "cell_type": "code",
   "execution_count": 17,
   "id": "cbae294a",
   "metadata": {},
   "outputs": [],
   "source": [
    "coupler_start_x,coupler_start_y = (2000,3200)\n",
    "grounding_width=10\n",
    "coupler_length=400\n",
    "resonator_lengths=[]"
   ]
  },
  {
   "cell_type": "code",
   "execution_count": 20,
   "id": "ef0110f6",
   "metadata": {},
   "outputs": [
    {
     "name": "stdout",
     "output_type": "stream",
     "text": [
      "[2000, 3200] [2000.0, 3600.0]\n",
      "2017.5 3200.0\n",
      "[2046.5, 3200.0] [2046.5, 3600.0]\n"
     ]
    }
   ],
   "source": [
    "res_coupler_qc,res_qc_params = auxfuncs.draw_rounded_single_resonator_plus_qubit_orientation(tqd.sample,\n",
    "                          2000, 3200, coupler_length,\n",
    "                          tqd.resonator_core,tqd.resonator_gap, tqd.resonator_ground,\n",
    "                          tqd.tl_core, tqd.tl_gap, tqd.tl_ground, tqd.resonator_tl_ground,\n",
    "                          closed_end_meander_length=3800, length_left=400, length_right=400,\n",
    "                          min_bridge_spacing = None,\n",
    "                          airbridge = None, object1=tqd.sample.qubits[3], port='coupler0',\n",
    "                          open_end_length = 1000,\n",
    "                          port_orientation='right',meander_orientation='left', direction_orientation='down',\n",
    "                          points_for_the_open_end=[],orient_angle=np.pi/2)\n",
    "resonator_lengths.append(res_qc_params[0])"
   ]
  },
  {
   "cell_type": "code",
   "execution_count": null,
   "id": "1a131d1b",
   "metadata": {},
   "outputs": [],
   "source": [
    "# (2860,2170)]+tqd.sample.cpw_shift(tqd.sample.qubits[0],'coupler0',200)"
   ]
  },
  {
   "cell_type": "code",
   "execution_count": 25,
   "id": "b78376e2",
   "metadata": {},
   "outputs": [
    {
     "name": "stdout",
     "output_type": "stream",
     "text": [
      "[1000, 1500] [1400.0, 1500.0]\n",
      "1000.0 1482.5\n",
      "[1000.0, 1453.5] [1400.0, 1453.5]\n"
     ]
    }
   ],
   "source": [
    "res_coupler_q3,res_q3_params = auxfuncs.draw_rounded_single_resonator_plus_qubit_orientation(tqd.sample,\n",
    "                          1000,1500 , coupler_length,\n",
    "                          tqd.resonator_core,tqd.resonator_gap, tqd.resonator_ground,\n",
    "                          tqd.tl_core, tqd.tl_gap, tqd.tl_ground, tqd.resonator_tl_ground,\n",
    "                          closed_end_meander_length=3800, length_left=400, length_right=400,\n",
    "                          min_bridge_spacing = None,\n",
    "                          airbridge = None, object1=tqd.sample.qubits[2], port='coupler0',\n",
    "                          open_end_length = 1000,\n",
    "                          port_orientation='right',meander_orientation='left', direction_orientation='down',\n",
    "                          points_for_the_open_end=[],orient_angle=0)\n",
    "resonator_lengths.append(res_q3_params[0])"
   ]
  },
  {
   "cell_type": "code",
   "execution_count": 29,
   "id": "a7ce5602",
   "metadata": {},
   "outputs": [],
   "source": [
    "tqd.sample.connect_cpw(o1=tqd.p1, o2=res_coupler_q1, port1='port', port2='port1', name='feedline', \n",
    "                       points=[(1500,3200)])\n",
    "# test resonator 1\n",
    "tqd.sample.connect_cpw(o1=res_coupler_q1, o2=res_coupler_t1, port1='port2', port2='port2', name='feedline', \n",
    "                       points=[])\n",
    "\n",
    "tqd.sample.connect_cpw(o1=res_coupler_t1, o2=res_coupler_q3, port1='port1', port2='port1', name='feedline', \n",
    "                       points=[])"
   ]
  },
  {
   "cell_type": "markdown",
   "id": "01461523",
   "metadata": {},
   "source": [
    "# Second feedline"
   ]
  },
  {
   "cell_type": "code",
   "execution_count": 30,
   "id": "d45a41af",
   "metadata": {},
   "outputs": [
    {
     "ename": "ValueError",
     "evalue": "Too short segment in line to round corner with given radius",
     "output_type": "error",
     "traceback": [
      "\u001b[1;31m---------------------------------------------------------------------------\u001b[0m",
      "\u001b[1;31mValueError\u001b[0m                                Traceback (most recent call last)",
      "\u001b[1;32m~\\AppData\\Local\\Temp/ipykernel_17856/773627545.py\u001b[0m in \u001b[0;36m<module>\u001b[1;34m\u001b[0m\n\u001b[1;32m----> 1\u001b[1;33m res_coupler_q1,res_q1_params = auxfuncs.draw_rounded_single_resonator_plus_qubit(tqd.sample,\n\u001b[0m\u001b[0;32m      2\u001b[0m                           \u001b[1;36m5000\u001b[0m\u001b[1;33m,\u001b[0m \u001b[1;36m3600\u001b[0m\u001b[1;33m,\u001b[0m \u001b[0mcoupler_length\u001b[0m\u001b[1;33m,\u001b[0m\u001b[1;33m\u001b[0m\u001b[1;33m\u001b[0m\u001b[0m\n\u001b[0;32m      3\u001b[0m                           \u001b[0mtqd\u001b[0m\u001b[1;33m.\u001b[0m\u001b[0mresonator_core\u001b[0m\u001b[1;33m,\u001b[0m\u001b[0mtqd\u001b[0m\u001b[1;33m.\u001b[0m\u001b[0mresonator_gap\u001b[0m\u001b[1;33m,\u001b[0m \u001b[0mtqd\u001b[0m\u001b[1;33m.\u001b[0m\u001b[0mresonator_ground\u001b[0m\u001b[1;33m,\u001b[0m\u001b[1;33m\u001b[0m\u001b[1;33m\u001b[0m\u001b[0m\n\u001b[0;32m      4\u001b[0m                           \u001b[0mtqd\u001b[0m\u001b[1;33m.\u001b[0m\u001b[0mtl_core\u001b[0m\u001b[1;33m,\u001b[0m \u001b[0mtqd\u001b[0m\u001b[1;33m.\u001b[0m\u001b[0mtl_gap\u001b[0m\u001b[1;33m,\u001b[0m \u001b[0mtqd\u001b[0m\u001b[1;33m.\u001b[0m\u001b[0mtl_ground\u001b[0m\u001b[1;33m,\u001b[0m \u001b[0mtqd\u001b[0m\u001b[1;33m.\u001b[0m\u001b[0mresonator_tl_ground\u001b[0m\u001b[1;33m,\u001b[0m\u001b[1;33m\u001b[0m\u001b[1;33m\u001b[0m\u001b[0m\n\u001b[0;32m      5\u001b[0m                           \u001b[0mclosed_end_meander_length\u001b[0m\u001b[1;33m=\u001b[0m\u001b[1;36m3800\u001b[0m\u001b[1;33m,\u001b[0m \u001b[0mlength_left\u001b[0m\u001b[1;33m=\u001b[0m\u001b[1;36m400\u001b[0m\u001b[1;33m,\u001b[0m \u001b[0mlength_right\u001b[0m\u001b[1;33m=\u001b[0m\u001b[1;36m400\u001b[0m\u001b[1;33m,\u001b[0m\u001b[1;33m\u001b[0m\u001b[1;33m\u001b[0m\u001b[0m\n",
      "\u001b[1;32mH:\\Github2.0\\QCreator\\designs\\ThreeQubitsPlusTwoQubits\\..\\..\\QCreator\\auxiliary_functions.py\u001b[0m in \u001b[0;36mdraw_rounded_single_resonator_plus_qubit\u001b[1;34m(sample, coupler_start_x, coupler_start_y, coupler_length, resonator_core, resonator_gap, resonator_ground, tl_core, tl_gap, tl_ground, resonator_tl_ground, closed_end_meander_length, length_left, length_right, min_bridge_spacing, airbridge, object1, port, open_end_length, port_orientation, meander_orientation, direction_orientation, points_for_the_open_end, transmission)\u001b[0m\n\u001b[0;32m    662\u001b[0m         \u001b[0msample\u001b[0m\u001b[1;33m.\u001b[0m\u001b[0madd\u001b[0m\u001b[1;33m(\u001b[0m\u001b[0mobject1\u001b[0m\u001b[1;33m)\u001b[0m\u001b[1;33m\u001b[0m\u001b[1;33m\u001b[0m\u001b[0m\n\u001b[0;32m    663\u001b[0m     \u001b[1;32melse\u001b[0m\u001b[1;33m:\u001b[0m\u001b[1;33m\u001b[0m\u001b[1;33m\u001b[0m\u001b[0m\n\u001b[1;32m--> 664\u001b[1;33m         open_end = sample.connect_cpw(closed_end_meander[-1], object1, 'port2', port, name='right open end',\n\u001b[0m\u001b[0;32m    665\u001b[0m                                   points=points_for_the_open_end, airbridge=airbridge, min_spacing=min_bridge_spacing)\n\u001b[0;32m    666\u001b[0m         \u001b[0mtotal_length\u001b[0m\u001b[1;33m.\u001b[0m\u001b[0mappend\u001b[0m\u001b[1;33m(\u001b[0m\u001b[0msum\u001b[0m\u001b[1;33m(\u001b[0m\u001b[1;33m[\u001b[0m\u001b[0mline\u001b[0m\u001b[1;33m.\u001b[0m\u001b[0mlength\u001b[0m \u001b[1;32mfor\u001b[0m \u001b[0mline\u001b[0m \u001b[1;32min\u001b[0m \u001b[0mopen_end\u001b[0m\u001b[1;33m]\u001b[0m\u001b[1;33m)\u001b[0m\u001b[1;33m)\u001b[0m\u001b[1;33m\u001b[0m\u001b[1;33m\u001b[0m\u001b[0m\n",
      "\u001b[1;32mH:\\Github2.0\\QCreator\\designs\\ThreeQubitsPlusTwoQubits\\..\\..\\QCreator\\general_sample_creator.py\u001b[0m in \u001b[0;36mconnect_cpw\u001b[1;34m(self, o1, o2, port1, port2, name, points, airbridge, min_spacing, r)\u001b[0m\n\u001b[0;32m    331\u001b[0m \u001b[1;33m\u001b[0m\u001b[0m\n\u001b[0;32m    332\u001b[0m         \u001b[0mpoints\u001b[0m \u001b[1;33m=\u001b[0m \u001b[1;33m[\u001b[0m\u001b[0mtuple\u001b[0m\u001b[1;33m(\u001b[0m\u001b[0mt1\u001b[0m\u001b[1;33m.\u001b[0m\u001b[0mposition\u001b[0m\u001b[1;33m)\u001b[0m\u001b[1;33m]\u001b[0m \u001b[1;33m+\u001b[0m \u001b[0mpoints\u001b[0m \u001b[1;33m+\u001b[0m \u001b[1;33m[\u001b[0m\u001b[0mtuple\u001b[0m\u001b[1;33m(\u001b[0m\u001b[0mt2\u001b[0m\u001b[1;33m.\u001b[0m\u001b[0mposition\u001b[0m\u001b[1;33m)\u001b[0m\u001b[1;33m]\u001b[0m\u001b[1;33m\u001b[0m\u001b[1;33m\u001b[0m\u001b[0m\n\u001b[1;32m--> 333\u001b[1;33m         cpw = elements.CPW(name, points, w, s, g, self.layer_configuration, r=r,\n\u001b[0m\u001b[0;32m    334\u001b[0m                            corner_type='round', orientation1=orientation1, orientation2=orientation2)\n\u001b[0;32m    335\u001b[0m \u001b[1;33m\u001b[0m\u001b[0m\n",
      "\u001b[1;32mH:\\Github2.0\\QCreator\\designs\\ThreeQubitsPlusTwoQubits\\..\\..\\QCreator\\elements\\cpw.py\u001b[0m in \u001b[0;36m__init__\u001b[1;34m(self, name, points, w, s, g, layer_configuration, r, corner_type, orientation1, orientation2)\u001b[0m\n\u001b[0;32m    250\u001b[0m                  \u001b[0mlayer_configuration\u001b[0m\u001b[1;33m:\u001b[0m \u001b[0mLayerConfiguration\u001b[0m\u001b[1;33m,\u001b[0m \u001b[0mr\u001b[0m\u001b[1;33m:\u001b[0m \u001b[0mfloat\u001b[0m\u001b[1;33m,\u001b[0m \u001b[0mcorner_type\u001b[0m\u001b[1;33m:\u001b[0m \u001b[0mstr\u001b[0m \u001b[1;33m=\u001b[0m \u001b[1;34m'round'\u001b[0m\u001b[1;33m,\u001b[0m\u001b[1;33m\u001b[0m\u001b[1;33m\u001b[0m\u001b[0m\n\u001b[0;32m    251\u001b[0m                  orientation1: float = None, orientation2: float = None):\n\u001b[1;32m--> 252\u001b[1;33m         \u001b[0msuper\u001b[0m\u001b[1;33m(\u001b[0m\u001b[1;33m)\u001b[0m\u001b[1;33m.\u001b[0m\u001b[0m__init__\u001b[0m\u001b[1;33m(\u001b[0m\u001b[0mname\u001b[0m\u001b[1;33m,\u001b[0m \u001b[0mpoints\u001b[0m\u001b[1;33m,\u001b[0m \u001b[1;33m[\u001b[0m\u001b[0mw\u001b[0m\u001b[1;33m]\u001b[0m\u001b[1;33m,\u001b[0m \u001b[1;33m[\u001b[0m\u001b[0ms\u001b[0m\u001b[1;33m,\u001b[0m \u001b[0ms\u001b[0m\u001b[1;33m]\u001b[0m\u001b[1;33m,\u001b[0m \u001b[0mg\u001b[0m\u001b[1;33m,\u001b[0m \u001b[0mlayer_configuration\u001b[0m\u001b[1;33m,\u001b[0m \u001b[0mr\u001b[0m\u001b[1;33m,\u001b[0m \u001b[0mcorner_type\u001b[0m\u001b[1;33m,\u001b[0m \u001b[0morientation1\u001b[0m\u001b[1;33m,\u001b[0m \u001b[0morientation2\u001b[0m\u001b[1;33m)\u001b[0m\u001b[1;33m\u001b[0m\u001b[1;33m\u001b[0m\u001b[0m\n\u001b[0m\u001b[0;32m    253\u001b[0m \u001b[1;33m\u001b[0m\u001b[0m\n\u001b[0;32m    254\u001b[0m         \u001b[0mself\u001b[0m\u001b[1;33m.\u001b[0m\u001b[0mterminals\u001b[0m\u001b[1;33m[\u001b[0m\u001b[1;34m'port1'\u001b[0m\u001b[1;33m]\u001b[0m\u001b[1;33m.\u001b[0m\u001b[0mtype\u001b[0m \u001b[1;33m=\u001b[0m \u001b[1;34m'cpw'\u001b[0m\u001b[1;33m\u001b[0m\u001b[1;33m\u001b[0m\u001b[0m\n",
      "\u001b[1;32mH:\\Github2.0\\QCreator\\designs\\ThreeQubitsPlusTwoQubits\\..\\..\\QCreator\\elements\\cpw.py\u001b[0m in \u001b[0;36m__init__\u001b[1;34m(self, name, points, w, s, g, layer_configuration, r, corner_type, orientation1, orientation2, kinetic_inductance)\u001b[0m\n\u001b[0;32m     59\u001b[0m \u001b[1;33m\u001b[0m\u001b[0m\n\u001b[0;32m     60\u001b[0m         \u001b[0mself\u001b[0m\u001b[1;33m.\u001b[0m\u001b[0msegments\u001b[0m \u001b[1;33m=\u001b[0m \u001b[1;33m[\u001b[0m\u001b[1;33m]\u001b[0m\u001b[1;33m\u001b[0m\u001b[1;33m\u001b[0m\u001b[0m\n\u001b[1;32m---> 61\u001b[1;33m         \u001b[0mself\u001b[0m\u001b[1;33m.\u001b[0m\u001b[0mfinalize_points\u001b[0m\u001b[1;33m(\u001b[0m\u001b[1;33m)\u001b[0m\u001b[1;33m\u001b[0m\u001b[1;33m\u001b[0m\u001b[0m\n\u001b[0m\u001b[0;32m     62\u001b[0m \u001b[1;33m\u001b[0m\u001b[0m\n\u001b[0;32m     63\u001b[0m     \u001b[1;32mdef\u001b[0m \u001b[0mfinalize_points\u001b[0m\u001b[1;33m(\u001b[0m\u001b[0mself\u001b[0m\u001b[1;33m)\u001b[0m\u001b[1;33m:\u001b[0m\u001b[1;33m\u001b[0m\u001b[1;33m\u001b[0m\u001b[0m\n",
      "\u001b[1;32mH:\\Github2.0\\QCreator\\designs\\ThreeQubitsPlusTwoQubits\\..\\..\\QCreator\\elements\\cpw.py\u001b[0m in \u001b[0;36mfinalize_points\u001b[1;34m(self)\u001b[0m\n\u001b[0;32m    141\u001b[0m \u001b[1;33m\u001b[0m\u001b[0m\n\u001b[0;32m    142\u001b[0m                 \u001b[1;32mif\u001b[0m \u001b[0mreplaced_length\u001b[0m \u001b[1;33m>\u001b[0m \u001b[0mlength1\u001b[0m\u001b[1;33m+\u001b[0m\u001b[0meps\u001b[0m \u001b[1;32mor\u001b[0m \u001b[0mreplaced_length\u001b[0m \u001b[1;33m>\u001b[0m \u001b[0mlength2\u001b[0m\u001b[1;33m:\u001b[0m\u001b[1;33m\u001b[0m\u001b[1;33m\u001b[0m\u001b[0m\n\u001b[1;32m--> 143\u001b[1;33m                     \u001b[1;32mraise\u001b[0m \u001b[0mValueError\u001b[0m\u001b[1;33m(\u001b[0m\u001b[1;34m'Too short segment in line to round corner with given radius'\u001b[0m\u001b[1;33m)\u001b[0m\u001b[1;33m\u001b[0m\u001b[1;33m\u001b[0m\u001b[0m\n\u001b[0m\u001b[0;32m    144\u001b[0m \u001b[1;33m\u001b[0m\u001b[0m\n\u001b[0;32m    145\u001b[0m                 \u001b[1;32mif\u001b[0m \u001b[0mlength1\u001b[0m \u001b[1;33m-\u001b[0m \u001b[0mreplaced_length\u001b[0m \u001b[1;33m>\u001b[0m \u001b[0meps\u001b[0m\u001b[1;33m:\u001b[0m\u001b[1;33m\u001b[0m\u001b[1;33m\u001b[0m\u001b[0m\n",
      "\u001b[1;31mValueError\u001b[0m: Too short segment in line to round corner with given radius"
     ]
    }
   ],
   "source": [
    "res_coupler_q1,res_q1_params = auxfuncs.draw_rounded_single_resonator_plus_qubit(tqd.sample,\n",
    "                          5000, 3600, coupler_length,\n",
    "                          tqd.resonator_core,tqd.resonator_gap, tqd.resonator_ground,\n",
    "                          tqd.tl_core, tqd.tl_gap, tqd.tl_ground, tqd.resonator_tl_ground,\n",
    "                          closed_end_meander_length=3800, length_left=400, length_right=400,\n",
    "                          min_bridge_spacing = None,\n",
    "                          airbridge = None, object1=tqd.sample.qubits[0], port='coupler0',\n",
    "                          open_end_length = 1000,\n",
    "                          port_orientation='right',meander_orientation='left', direction_orientation='down',\n",
    "                          points_for_the_open_end=[])\n",
    "resonator_lengths.append(res_q1_params[0])"
   ]
  },
  {
   "cell_type": "code",
   "execution_count": 31,
   "id": "813dafdd",
   "metadata": {},
   "outputs": [],
   "source": [
    "res_coupler_q2,res_q2_params = auxfuncs.draw_rounded_single_resonator_plus_qubit(tqd.sample,\n",
    "                          6600, 2400, coupler_length,\n",
    "                          tqd.resonator_core,tqd.resonator_gap, tqd.resonator_ground,\n",
    "                          tqd.tl_core, tqd.tl_gap, tqd.tl_ground, tqd.resonator_tl_ground,\n",
    "                          closed_end_meander_length=3800, length_left=400, length_right=400,\n",
    "                          min_bridge_spacing = None,\n",
    "                          airbridge = None, object1=tqd.sample.qubits[1], port='coupler0',\n",
    "                          open_end_length = 1000,\n",
    "                          port_orientation='right',meander_orientation='left', direction_orientation='down',\n",
    "                          points_for_the_open_end=[])\n",
    "resonator_lengths.append(res_q2_params[0])"
   ]
  },
  {
   "cell_type": "code",
   "execution_count": null,
   "id": "5ac3c0df",
   "metadata": {},
   "outputs": [],
   "source": [
    "# tqd.sample.connect_cpw(o1=tqd.p1, o2=res_coupler_q1, port1='port', port2='port1', name='feedline', \n",
    "#                        points=[(1500,3200)])\n",
    "# # test resonator 1\n",
    "# tqd.sample.connect_cpw(o1=res_coupler_q1, o2=res_coupler_t1, port1='port2', port2='port2', name='feedline', \n",
    "#                        points=[])\n",
    "\n",
    "# tqd.sample.connect_cpw(o1=res_coupler_t1, o2=res_coupler_q3, port1='port1', port2='port1', name='feedline', \n",
    "#                        points=[])"
   ]
  },
  {
   "cell_type": "markdown",
   "id": "86d0001b",
   "metadata": {},
   "source": [
    "# Connect fluxline"
   ]
  },
  {
   "cell_type": "code",
   "execution_count": 22,
   "id": "5c556150",
   "metadata": {},
   "outputs": [
    {
     "data": {
      "text/plain": [
       "[CPW \"flux_control_line_qubit_coupler\", l=649.202]"
      ]
     },
     "execution_count": 22,
     "metadata": {},
     "output_type": "execute_result"
    }
   ],
   "source": [
    "pad=tqd.sample.qubits[3]\n",
    "port='coupler1'\n",
    "narrowing_length=100\n",
    "flux_line_narrowing_position = tqd.sample.cpw_shift(pad, port, narrowing_length/2)[0]\n",
    "\n",
    "flux_line_narrowing = tqd.elements.Narrowing(name='flux_line_narrowing', position=flux_line_narrowing_position, \n",
    "                                         orientation=pad.get_terminals()[port].orientation+np.pi, \n",
    "                                         w1=pad.get_terminals()[port].w, \n",
    "                                         s1=pad.get_terminals()[port].s, g1=pad.get_terminals()[port].g,\n",
    "                                         w2=tqd.tl_core, s2=tqd.tl_gap, g2=tqd.tl_ground, \n",
    "                                         layer_configuration=tqd.sample.layer_configuration, length=narrowing_length+0.5)\n",
    "tqd.sample.add(flux_line_narrowing)\n",
    "tqd.sample.connect(flux_line_narrowing, 'port1', pad, port)\n",
    "tqd.sample.connect_cpw(tqd.pads_bottom[0], flux_line_narrowing, 'port', 'port2', 'flux_control_line_qubit_coupler', points=[],\n",
    "                      airbridge=None, min_spacing=None, r=80)"
   ]
  },
  {
   "cell_type": "code",
   "execution_count": 33,
   "id": "ab5c14bb",
   "metadata": {},
   "outputs": [
    {
     "name": "stdout",
     "output_type": "stream",
     "text": [
      "already run restricted once\n"
     ]
    }
   ],
   "source": [
    "tqd.sample.draw_design(True)\n",
    "tqd.sample.draw_terminals()\n",
    "tqd.create_restricted(True)\n",
    "tqd.sample.watch(True)"
   ]
  },
  {
   "cell_type": "code",
   "execution_count": null,
   "id": "84c04f69",
   "metadata": {},
   "outputs": [],
   "source": [
    "tqd.sample.write_to_gds()"
   ]
  },
  {
   "cell_type": "markdown",
   "id": "a923a153",
   "metadata": {},
   "source": [
    "# Add ground"
   ]
  },
  {
   "cell_type": "code",
   "execution_count": null,
   "id": "bbc3f01b",
   "metadata": {},
   "outputs": [],
   "source": [
    "# grid_ground =tqd.elements.GridGround(tqd.sample.chip_geometry, tqd.sample.layer_configuration, tqd.sample.objects,width=22, period=25)\n",
    "# tqd.sample.add(grid_ground)"
   ]
  }
 ],
 "metadata": {
  "kernelspec": {
   "display_name": "Python 3 (ipykernel)",
   "language": "python",
   "name": "python3"
  },
  "language_info": {
   "codemirror_mode": {
    "name": "ipython",
    "version": 3
   },
   "file_extension": ".py",
   "mimetype": "text/x-python",
   "name": "python",
   "nbconvert_exporter": "python",
   "pygments_lexer": "ipython3",
   "version": "3.9.5"
  }
 },
 "nbformat": 4,
 "nbformat_minor": 5
}
