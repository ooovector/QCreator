{
 "cells": [
  {
   "cell_type": "code",
   "execution_count": 1,
   "metadata": {},
   "outputs": [],
   "source": [
    "import numpy as np\n",
    "from scipy.constants import hbar,h,e,c\n",
    "from scipy.constants import elementary_charge as elc\n",
    "F0 = 2.0678e-15"
   ]
  },
  {
   "cell_type": "code",
   "execution_count": 2,
   "metadata": {},
   "outputs": [],
   "source": [
    "e_eff=(11.45+1)/2## for all calculations\n",
    "Mhz=(2*np.pi*1e6)## divide on it to obtain value in mhz\n",
    "j=0.5e-3      # critical current density nA/nm^2"
   ]
  },
  {
   "cell_type": "code",
   "execution_count": 3,
   "metadata": {},
   "outputs": [],
   "source": [
    "import pandas as pd"
   ]
  },
  {
   "cell_type": "markdown",
   "metadata": {},
   "source": [
    "# Q1 related parameters"
   ]
  },
  {
   "cell_type": "code",
   "execution_count": 4,
   "metadata": {},
   "outputs": [],
   "source": [
    "def cap_func(Q1,Qg1,Qg2):\n",
    "    return Q1+(1/Qg1+1/Qg2)**(-1)"
   ]
  },
  {
   "cell_type": "code",
   "execution_count": 5,
   "metadata": {},
   "outputs": [],
   "source": [
    "def Ec(C):#fF\n",
    "    return np.round((elc)**2/(2*C)/h/1e9*1e15,1) # return in MHz"
   ]
  },
  {
   "cell_type": "code",
   "execution_count": 6,
   "metadata": {},
   "outputs": [],
   "source": [
    "# path=r'E:\\Github2.0\\QCreator\\designs\\ThreeQubitsPlusTwoQubits\\maxwell_simulations'\n",
    "path=r'C:\\Python\\Github\\QCreator\\designs\\ThreeQubitsPlusTwoQubits'\n",
    "# path=r'D:\\NextCloud\\Quantum Computing\\ChipDesigns\\Ivan_Gerhard_designs\\Two_qubits_plus_coupler\\Hamiltonian_creation'"
   ]
  },
  {
   "cell_type": "code",
   "execution_count": 46,
   "metadata": {},
   "outputs": [],
   "source": [
    "data=pd.read_csv(path+'\\Design_single_qubit_1.txt',sep='\\t')# matrix should be done on pF"
   ]
  },
  {
   "cell_type": "code",
   "execution_count": 47,
   "metadata": {},
   "outputs": [
    {
     "data": {
      "text/html": [
       "<div>\n",
       "<style scoped>\n",
       "    .dataframe tbody tr th:only-of-type {\n",
       "        vertical-align: middle;\n",
       "    }\n",
       "\n",
       "    .dataframe tbody tr th {\n",
       "        vertical-align: top;\n",
       "    }\n",
       "\n",
       "    .dataframe thead th {\n",
       "        text-align: right;\n",
       "    }\n",
       "</style>\n",
       "<table border=\"1\" class=\"dataframe\">\n",
       "  <thead>\n",
       "    <tr style=\"text-align: right;\">\n",
       "      <th></th>\n",
       "      <th>Charge</th>\n",
       "      <th>ground</th>\n",
       "      <th>Q1_bottom</th>\n",
       "      <th>Q1_top</th>\n",
       "      <th>Resonator</th>\n",
       "    </tr>\n",
       "  </thead>\n",
       "  <tbody>\n",
       "    <tr>\n",
       "      <th>Charge</th>\n",
       "      <td>2.663900e-03</td>\n",
       "      <td>-0.002622</td>\n",
       "      <td>-0.000002</td>\n",
       "      <td>-0.000039</td>\n",
       "      <td>-5.659000e-07</td>\n",
       "    </tr>\n",
       "    <tr>\n",
       "      <th>ground</th>\n",
       "      <td>-2.622400e-03</td>\n",
       "      <td>0.665360</td>\n",
       "      <td>-0.086433</td>\n",
       "      <td>-0.543760</td>\n",
       "      <td>-3.253700e-02</td>\n",
       "    </tr>\n",
       "    <tr>\n",
       "      <th>Q1_bottom</th>\n",
       "      <td>-1.689300e-06</td>\n",
       "      <td>-0.086433</td>\n",
       "      <td>0.128110</td>\n",
       "      <td>-0.038207</td>\n",
       "      <td>-3.468700e-03</td>\n",
       "    </tr>\n",
       "    <tr>\n",
       "      <th>Q1_top</th>\n",
       "      <td>-3.924800e-05</td>\n",
       "      <td>-0.543760</td>\n",
       "      <td>-0.038207</td>\n",
       "      <td>0.600100</td>\n",
       "      <td>-1.808700e-02</td>\n",
       "    </tr>\n",
       "    <tr>\n",
       "      <th>Resonator</th>\n",
       "      <td>-5.659000e-07</td>\n",
       "      <td>-0.032537</td>\n",
       "      <td>-0.003469</td>\n",
       "      <td>-0.018087</td>\n",
       "      <td>5.409300e-02</td>\n",
       "    </tr>\n",
       "  </tbody>\n",
       "</table>\n",
       "</div>"
      ],
      "text/plain": [
       "                 Charge    ground  Q1_bottom    Q1_top     Resonator\n",
       "Charge     2.663900e-03 -0.002622  -0.000002 -0.000039 -5.659000e-07\n",
       "ground    -2.622400e-03  0.665360  -0.086433 -0.543760 -3.253700e-02\n",
       "Q1_bottom -1.689300e-06 -0.086433   0.128110 -0.038207 -3.468700e-03\n",
       "Q1_top    -3.924800e-05 -0.543760  -0.038207  0.600100 -1.808700e-02\n",
       "Resonator -5.659000e-07 -0.032537  -0.003469 -0.018087  5.409300e-02"
      ]
     },
     "execution_count": 47,
     "metadata": {},
     "output_type": "execute_result"
    }
   ],
   "source": [
    "data"
   ]
  },
  {
   "cell_type": "code",
   "execution_count": 48,
   "metadata": {},
   "outputs": [],
   "source": [
    "q_name='Q1_'\n",
    "Q1_cap_ground_top=data[q_name+'top'][3]+data[q_name+'top'][2]\n",
    "Q1_cap_ground_bottom=data[q_name+'bottom'][2]+data[q_name+'bottom'][3]\n",
    "Q1_cap_top_bottom=-data[q_name+'bottom'][3]\n",
    "Q1_cap=cap_func(Q1_cap_top_bottom,Q1_cap_ground_top,Q1_cap_ground_bottom)"
   ]
  },
  {
   "cell_type": "code",
   "execution_count": 49,
   "metadata": {},
   "outputs": [
    {
     "data": {
      "text/plain": [
       "(0.038207, 0.08990300000000001, 0.561893)"
      ]
     },
     "execution_count": 49,
     "metadata": {},
     "output_type": "execute_result"
    }
   ],
   "source": [
    "Q1_cap_top_bottom,Q1_cap_ground_bottom,Q1_cap_ground_top"
   ]
  },
  {
   "cell_type": "code",
   "execution_count": 50,
   "metadata": {},
   "outputs": [
    {
     "data": {
      "text/plain": [
       "0.11570957193815243"
      ]
     },
     "execution_count": 50,
     "metadata": {},
     "output_type": "execute_result"
    }
   ],
   "source": [
    "Q1_cap"
   ]
  },
  {
   "cell_type": "code",
   "execution_count": 51,
   "metadata": {},
   "outputs": [
    {
     "data": {
      "text/plain": [
       "167.40386296660614"
      ]
     },
     "execution_count": 51,
     "metadata": {},
     "output_type": "execute_result"
    }
   ],
   "source": [
    "Ec(Q1_cap)"
   ]
  },
  {
   "cell_type": "code",
   "execution_count": 52,
   "metadata": {},
   "outputs": [],
   "source": [
    "def I(f,Ec):\n",
    "    Ej=Ejf(f,Ec)\n",
    "    I=Ej*2*np.pi/F0*h*1e18\n",
    "    return I\n",
    "def Ejf(f,Ec):\n",
    "    Ej=(f+Ec)**2/(8*Ec)\n",
    "    return Ej\n",
    "def Eji(I):#nA\n",
    "    return I*F0/(2*np.pi)/1e9/h/1e9\n",
    "def IEj(Ej):\n",
    "    return Ej/(F0/(Q2*np.pi)/1e9/h/1e9)\n",
    "def f(Ej,Ec):\n",
    "    return np.sqrt(8*Ej*Ec)-Ec\n",
    "def Ec(C):#fF\n",
    "    return elc**2/(2*C)/h/1e9*1e15"
   ]
  },
  {
   "cell_type": "code",
   "execution_count": 53,
   "metadata": {},
   "outputs": [
    {
     "name": "stdout",
     "output_type": "stream",
     "text": [
      "Critical current density is:  0.5 uA/um^2\n",
      "Critical current:  45.0  nA\n",
      "Ej:  22.35039212442379  GHz\n",
      "junction area  in um:  0.09\n"
     ]
    }
   ],
   "source": [
    "a1    = 0.300\n",
    "a2    = 0.300 # Junction width in um\n",
    "#Calculate Qubit frequency:\n",
    "JJ_area = a1*a2*1e6 #in nm^2\n",
    "print('Critical current density is: ',j*1e3, 'uA/um^2')\n",
    "Ic = JJ_area*j #in nA\n",
    "print('Critical current: ',Ic ,' nA')\n",
    "print('Ej: ',Eji(Ic) ,' GHz')\n",
    "\n",
    "print('junction area  in um: ',JJ_area*1e-6)"
   ]
  },
  {
   "cell_type": "code",
   "execution_count": 54,
   "metadata": {},
   "outputs": [
    {
     "data": {
      "text/plain": [
       "5.303641361081138"
      ]
     },
     "execution_count": 54,
     "metadata": {},
     "output_type": "execute_result"
    }
   ],
   "source": [
    "f(Eji(Ic),Ec(Q1_cap)/1e3)"
   ]
  },
  {
   "cell_type": "code",
   "execution_count": 55,
   "metadata": {},
   "outputs": [
    {
     "data": {
      "text/plain": [
       "133.51180628897595"
      ]
     },
     "execution_count": 55,
     "metadata": {},
     "output_type": "execute_result"
    }
   ],
   "source": [
    "Eji(Ic)/(Ec(Q1_cap)/1e3)"
   ]
  },
  {
   "cell_type": "markdown",
   "metadata": {},
   "source": [
    "### Resonator coupling"
   ]
  },
  {
   "cell_type": "code",
   "execution_count": 56,
   "metadata": {},
   "outputs": [],
   "source": [
    "def line_qubit_coupling(Q1g,Q2g,Q1gc,Q2gc):\n",
    "    return np.abs((Q1g*Q2gc-Q2g*Q1gc)/(Q1g+Q2gc+Q2g+Q1gc))"
   ]
  },
  {
   "cell_type": "code",
   "execution_count": 57,
   "metadata": {},
   "outputs": [],
   "source": [
    "def cap_pretty_print(args,coeff):\n",
    "    for i in args:\n",
    "        print(np.round(i*coeff,1))# return in fF"
   ]
  },
  {
   "cell_type": "code",
   "execution_count": 58,
   "metadata": {},
   "outputs": [],
   "source": [
    "Q1_cap_res_top=-data[q_name+'top'][-1]\n",
    "Q1_cap_res_bottom=-data[q_name+'bottom'][-1]\n",
    "Ccr=line_qubit_coupling(Q1_cap_ground_top,Q1_cap_ground_bottom,Q1_cap_res_top,Q1_cap_res_bottom)"
   ]
  },
  {
   "cell_type": "code",
   "execution_count": 62,
   "metadata": {},
   "outputs": [
    {
     "name": "stdout",
     "output_type": "stream",
     "text": [
      "18.1\n",
      "3.5\n",
      "0.5\n"
     ]
    }
   ],
   "source": [
    "cap_pretty_print([Q1_cap_res_top,Q1_cap_res_bottom,Ccr],1e3)"
   ]
  },
  {
   "cell_type": "code",
   "execution_count": 63,
   "metadata": {},
   "outputs": [],
   "source": [
    "def qubit_res_coupling(Cc,Cq,wq,wr,Zr):# capacitances in fF, frequencies in GHz\n",
    "    g= Cc*10**(-12)/2*np.sqrt((2*np.pi*wq*10**(9)*Zr/(Cq*10**(-12))))*wr*10**(9)\n",
    "    return np.round(g/1e6,1)# return g/2pi in MHz"
   ]
  },
  {
   "cell_type": "code",
   "execution_count": 64,
   "metadata": {},
   "outputs": [
    {
     "data": {
      "text/plain": [
       "5.0"
      ]
     },
     "execution_count": 64,
     "metadata": {},
     "output_type": "execute_result"
    }
   ],
   "source": [
    "Zr=52.6\n",
    "omega_r=5.4\n",
    "omega_q=5.3\n",
    "gqr=qubit_res_coupling(Ccr,Q1_cap,omega_q,omega_r,Zr)\n",
    "gqr"
   ]
  },
  {
   "cell_type": "markdown",
   "metadata": {},
   "source": [
    "### Dispersive shift"
   ]
  },
  {
   "cell_type": "code",
   "execution_count": 28,
   "metadata": {},
   "outputs": [],
   "source": [
    "def dispersive_shift(gqr,wq,wr,Ec): # gqr in MHz,wq,wr in GHZ, EC in MHz and positive\n",
    "    chi=gqr**2/((wq-wr)*10**(3))/(1+(wq-wr)*10**(3)/(-Ec))\n",
    "    return chi # in MHz"
   ]
  },
  {
   "cell_type": "code",
   "execution_count": 29,
   "metadata": {},
   "outputs": [
    {
     "data": {
      "text/plain": [
       "-0.06030030530168379"
      ]
     },
     "execution_count": 29,
     "metadata": {},
     "output_type": "execute_result"
    }
   ],
   "source": [
    "chi=dispersive_shift(gqr,omega_q,omega_r,Ec(Q1_cap))\n",
    "chi"
   ]
  },
  {
   "cell_type": "markdown",
   "metadata": {},
   "source": [
    "### Readout resonator properties"
   ]
  },
  {
   "cell_type": "code",
   "execution_count": 57,
   "metadata": {},
   "outputs": [
    {
     "data": {
      "text/plain": [
       "(294.7, 0.54)"
      ]
     },
     "execution_count": 57,
     "metadata": {},
     "output_type": "execute_result"
    }
   ],
   "source": [
    "Q=10000\n",
    "k=2*np.pi*omega_r*1e9/Q \n",
    "np.round(1/k*1e9,1), np.round(k/Mhz,2)# first value in ns"
   ]
  },
  {
   "cell_type": "code",
   "execution_count": 58,
   "metadata": {},
   "outputs": [
    {
     "data": {
      "text/plain": [
       "120.286246748741"
      ]
     },
     "execution_count": 58,
     "metadata": {},
     "output_type": "execute_result"
    }
   ],
   "source": [
    "Tp=(1/k)*((omega_q-omega_r)*10**3/gqr)**2\n",
    "Tp*1e6#us"
   ]
  },
  {
   "cell_type": "markdown",
   "metadata": {},
   "source": [
    "### Charge line"
   ]
  },
  {
   "cell_type": "code",
   "execution_count": 59,
   "metadata": {},
   "outputs": [
    {
     "name": "stdout",
     "output_type": "stream",
     "text": [
      "76.6\n",
      "93.6\n",
      "10.5\n"
     ]
    }
   ],
   "source": [
    "Q1_cap_charge_line_top=-data[q_name+'top'][0]\n",
    "Q1_cap_charge_line_bottom=-data[q_name+'bottom'][0]\n",
    "Cc_charge=line_qubit_coupling(Q1_cap_ground_top,Q1_cap_ground_bottom,Q1_cap_charge_line_top,Q1_cap_charge_line_bottom)\n",
    "cap_pretty_print([Q1_cap_charge_line_top,Q1_cap_charge_line_bottom,Cc_charge],1e6)#in aF"
   ]
  },
  {
   "cell_type": "code",
   "execution_count": 60,
   "metadata": {},
   "outputs": [
    {
     "data": {
      "text/plain": [
       "10.545244379730185"
      ]
     },
     "execution_count": 60,
     "metadata": {},
     "output_type": "execute_result"
    }
   ],
   "source": [
    "Cc_charge*1e6"
   ]
  },
  {
   "cell_type": "code",
   "execution_count": 62,
   "metadata": {},
   "outputs": [],
   "source": [
    "omega_q=4.2"
   ]
  },
  {
   "cell_type": "code",
   "execution_count": 63,
   "metadata": {},
   "outputs": [],
   "source": [
    "Z0=50\n",
    "Tcharge=(Cc_charge+Q1_cap)/(Z0*(2*np.pi*omega_q*Cc_charge)**2)*1e-6"
   ]
  },
  {
   "cell_type": "code",
   "execution_count": 64,
   "metadata": {},
   "outputs": [
    {
     "data": {
      "text/plain": [
       "25026.113067607275"
      ]
     },
     "execution_count": 64,
     "metadata": {},
     "output_type": "execute_result"
    }
   ],
   "source": [
    "Tcharge*1e6#in us"
   ]
  },
  {
   "cell_type": "markdown",
   "metadata": {},
   "source": [
    "### Total relaxation= resonator+charge line"
   ]
  },
  {
   "cell_type": "code",
   "execution_count": 65,
   "metadata": {},
   "outputs": [
    {
     "data": {
      "text/plain": [
       "119.71086492265829"
      ]
     },
     "execution_count": 65,
     "metadata": {},
     "output_type": "execute_result"
    }
   ],
   "source": [
    "Tp*Tcharge/(Tp+Tcharge)*1e6"
   ]
  },
  {
   "cell_type": "code",
   "execution_count": null,
   "metadata": {},
   "outputs": [],
   "source": []
  }
 ],
 "metadata": {
  "kernelspec": {
   "display_name": "Python 3",
   "language": "python",
   "name": "python3"
  },
  "language_info": {
   "codemirror_mode": {
    "name": "ipython",
    "version": 3
   },
   "file_extension": ".py",
   "mimetype": "text/x-python",
   "name": "python",
   "nbconvert_exporter": "python",
   "pygments_lexer": "ipython3",
   "version": "3.9.5"
  }
 },
 "nbformat": 4,
 "nbformat_minor": 4
}
