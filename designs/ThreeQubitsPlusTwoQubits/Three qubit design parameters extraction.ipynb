{
 "cells": [
  {
   "cell_type": "code",
   "execution_count": 1,
   "metadata": {},
   "outputs": [],
   "source": [
    "import numpy as np\n",
    "from scipy.constants import hbar,h,e,c\n",
    "from scipy.constants import elementary_charge as elc\n",
    "F0 = 2.0678e-15"
   ]
  },
  {
   "cell_type": "code",
   "execution_count": null,
   "metadata": {},
   "outputs": [],
   "source": []
  },
  {
   "cell_type": "code",
   "execution_count": 2,
   "metadata": {},
   "outputs": [],
   "source": [
    "e_eff=(11.4+1)/2## for all calculations\n",
    "Mhz=(2*np.pi*1e6)## divide on it to obtain value in mhz\n",
    "j=0.5e-3      # critical current density nA/nm^2"
   ]
  },
  {
   "cell_type": "code",
   "execution_count": 3,
   "metadata": {},
   "outputs": [],
   "source": [
    "import pandas as pd"
   ]
  },
  {
   "cell_type": "markdown",
   "metadata": {},
   "source": [
    "# Q1 related parameters"
   ]
  },
  {
   "cell_type": "code",
   "execution_count": 4,
   "metadata": {},
   "outputs": [],
   "source": [
    "def cap_func(Q1,Qg1,Qg2):\n",
    "    return Q1+(1/Qg1+1/Qg2)**(-1)"
   ]
  },
  {
   "cell_type": "code",
   "execution_count": 5,
   "metadata": {},
   "outputs": [],
   "source": [
    "def Ec(C):#fF\n",
    "    return np.round((elc)**2/(2*C)/h/1e9*1e15,1) # return in MHz"
   ]
  },
  {
   "cell_type": "code",
   "execution_count": 6,
   "metadata": {},
   "outputs": [],
   "source": [
    "path=r'E:\\Github2.0\\QCreator\\designs\\ThreeQubitsPlusTwoQubits\\maxwell_simulations'\n",
    "path=r'C:\\Python\\Github\\QCreator\\designs\\ThreeQubitsPlusTwoQubits\\maxwell_simulations'"
   ]
  },
  {
   "cell_type": "code",
   "execution_count": 7,
   "metadata": {},
   "outputs": [],
   "source": [
    "data=pd.read_csv(path+'\\Q1fine_sim.csv',sep=';')# matrix should be done on pF"
   ]
  },
  {
   "cell_type": "code",
   "execution_count": 8,
   "metadata": {},
   "outputs": [
    {
     "data": {
      "text/html": [
       "<div>\n",
       "<style scoped>\n",
       "    .dataframe tbody tr th:only-of-type {\n",
       "        vertical-align: middle;\n",
       "    }\n",
       "\n",
       "    .dataframe tbody tr th {\n",
       "        vertical-align: top;\n",
       "    }\n",
       "\n",
       "    .dataframe thead th {\n",
       "        text-align: right;\n",
       "    }\n",
       "</style>\n",
       "<table border=\"1\" class=\"dataframe\">\n",
       "  <thead>\n",
       "    <tr style=\"text-align: right;\">\n",
       "      <th></th>\n",
       "      <th>Unnamed: 0</th>\n",
       "      <th>Charge</th>\n",
       "      <th>ground</th>\n",
       "      <th>Q1bottom</th>\n",
       "      <th>Q1top</th>\n",
       "      <th>resonator</th>\n",
       "    </tr>\n",
       "  </thead>\n",
       "  <tbody>\n",
       "    <tr>\n",
       "      <th>0</th>\n",
       "      <td>Charge</td>\n",
       "      <td>0.006063</td>\n",
       "      <td>-0.005913</td>\n",
       "      <td>-0.000032</td>\n",
       "      <td>-0.000117</td>\n",
       "      <td>-0.000002</td>\n",
       "    </tr>\n",
       "    <tr>\n",
       "      <th>1</th>\n",
       "      <td>ground</td>\n",
       "      <td>-0.005913</td>\n",
       "      <td>0.199550</td>\n",
       "      <td>-0.083040</td>\n",
       "      <td>-0.090835</td>\n",
       "      <td>-0.019762</td>\n",
       "    </tr>\n",
       "    <tr>\n",
       "      <th>2</th>\n",
       "      <td>Q1bottom</td>\n",
       "      <td>-0.000032</td>\n",
       "      <td>-0.083040</td>\n",
       "      <td>0.129420</td>\n",
       "      <td>-0.039168</td>\n",
       "      <td>-0.007184</td>\n",
       "    </tr>\n",
       "    <tr>\n",
       "      <th>3</th>\n",
       "      <td>Q1top</td>\n",
       "      <td>-0.000117</td>\n",
       "      <td>-0.090835</td>\n",
       "      <td>-0.039168</td>\n",
       "      <td>0.130870</td>\n",
       "      <td>-0.000747</td>\n",
       "    </tr>\n",
       "    <tr>\n",
       "      <th>4</th>\n",
       "      <td>resonator</td>\n",
       "      <td>-0.000002</td>\n",
       "      <td>-0.019762</td>\n",
       "      <td>-0.007184</td>\n",
       "      <td>-0.000747</td>\n",
       "      <td>0.027694</td>\n",
       "    </tr>\n",
       "  </tbody>\n",
       "</table>\n",
       "</div>"
      ],
      "text/plain": [
       "  Unnamed: 0    Charge    ground  Q1bottom     Q1top  resonator\n",
       "0     Charge  0.006063 -0.005913 -0.000032 -0.000117  -0.000002\n",
       "1     ground -0.005913  0.199550 -0.083040 -0.090835  -0.019762\n",
       "2   Q1bottom -0.000032 -0.083040  0.129420 -0.039168  -0.007184\n",
       "3      Q1top -0.000117 -0.090835 -0.039168  0.130870  -0.000747\n",
       "4  resonator -0.000002 -0.019762 -0.007184 -0.000747   0.027694"
      ]
     },
     "execution_count": 8,
     "metadata": {},
     "output_type": "execute_result"
    }
   ],
   "source": [
    "data"
   ]
  },
  {
   "cell_type": "code",
   "execution_count": 13,
   "metadata": {},
   "outputs": [
    {
     "data": {
      "text/plain": [
       "0   -0.000117\n",
       "1   -0.090835\n",
       "2   -0.039168\n",
       "3    0.130870\n",
       "4   -0.000747\n",
       "Name: Q1top, dtype: float64"
      ]
     },
     "execution_count": 13,
     "metadata": {},
     "output_type": "execute_result"
    }
   ],
   "source": [
    "data['Q1top']"
   ]
  },
  {
   "cell_type": "code",
   "execution_count": 9,
   "metadata": {},
   "outputs": [],
   "source": [
    "q_name='Q1'\n",
    "Q1_cap_ground_top=-data[q_name+'top'][1]\n",
    "Q1_cap_ground_bottom=-data[q_name+'bottom'][1]\n",
    "Q1_cap_top_bottom=-data[q_name+'bottom'][3]\n",
    "Q1_cap=cap_func(Q1_cap_top_bottom,Q1_cap_ground_top,Q1_cap_ground_bottom)"
   ]
  },
  {
   "cell_type": "code",
   "execution_count": 12,
   "metadata": {},
   "outputs": [
    {
     "data": {
      "text/plain": [
       "(0.039168, 0.08304, 0.090835)"
      ]
     },
     "execution_count": 12,
     "metadata": {},
     "output_type": "execute_result"
    }
   ],
   "source": [
    "Q1_cap_top_bottom,Q1_cap_ground_bottom,Q1_cap_ground_top"
   ]
  },
  {
   "cell_type": "code",
   "execution_count": 11,
   "metadata": {},
   "outputs": [
    {
     "data": {
      "text/plain": [
       "0.08254938547807333"
      ]
     },
     "execution_count": 11,
     "metadata": {},
     "output_type": "execute_result"
    }
   ],
   "source": [
    "Q1_cap"
   ]
  },
  {
   "cell_type": "code",
   "execution_count": 12,
   "metadata": {},
   "outputs": [
    {
     "data": {
      "text/plain": [
       "234.7"
      ]
     },
     "execution_count": 12,
     "metadata": {},
     "output_type": "execute_result"
    }
   ],
   "source": [
    "Ec(Q1_cap)"
   ]
  },
  {
   "cell_type": "markdown",
   "metadata": {},
   "source": [
    "### Resonator coupling"
   ]
  },
  {
   "cell_type": "code",
   "execution_count": 66,
   "metadata": {},
   "outputs": [],
   "source": [
    "def line_qubit_coupling(Q1g,Q2g,Q1gc,Q2gc):\n",
    "    return np.abs((Q1g*Q2gc+Q2g*Q1gc)/(Q1g+Q2gc+Q2g+Q1gc))"
   ]
  },
  {
   "cell_type": "code",
   "execution_count": 70,
   "metadata": {},
   "outputs": [],
   "source": [
    "def cap_pretty_print(args,coeff):\n",
    "    for i in args:\n",
    "        print(np.round(i*coeff,1))# return in fF"
   ]
  },
  {
   "cell_type": "code",
   "execution_count": 15,
   "metadata": {},
   "outputs": [],
   "source": [
    "Q1_cap_res_top=-data[q_name+'top'][4]\n",
    "Q1_cap_res_bottom=-data[q_name+'bottom'][4]\n",
    "Ccr=line_qubit_coupling(Q1_cap_ground_top,Q1_cap_ground_bottom,Q1_cap_res_top,Q1_cap_res_bottom)"
   ]
  },
  {
   "cell_type": "code",
   "execution_count": 16,
   "metadata": {},
   "outputs": [
    {
     "name": "stdout",
     "output_type": "stream",
     "text": [
      "0.7\n",
      "7.2\n",
      "3.9\n"
     ]
    }
   ],
   "source": [
    "cap_pretty_print([Q1_cap_res_top,Q1_cap_res_bottom,Ccr],1e3)"
   ]
  },
  {
   "cell_type": "code",
   "execution_count": 39,
   "metadata": {},
   "outputs": [],
   "source": [
    "def qubit_res_coupling(Cc,Cq,wq,wr,Zr):# capacitances in fF, frequencies in GHz\n",
    "    g= Cc*10**(-12)/2*np.sqrt((2*np.pi*wq*10**(9)*Zr/(Cq*10**(-12))))*wr*10**(9)\n",
    "    return np.round(g/1e6,1)# return g/2pi in MHz"
   ]
  },
  {
   "cell_type": "code",
   "execution_count": 41,
   "metadata": {},
   "outputs": [
    {
     "data": {
      "text/plain": [
       "44.7"
      ]
     },
     "execution_count": 41,
     "metadata": {},
     "output_type": "execute_result"
    }
   ],
   "source": [
    "Zr=50\n",
    "omega_r=5.5\n",
    "omega_q=4.5\n",
    "gqr=qubit_res_coupling(Ccr,Q1_cap,omega_q,omega_r,Zr)\n",
    "gqr"
   ]
  },
  {
   "cell_type": "markdown",
   "metadata": {},
   "source": [
    "### Dispersive shift"
   ]
  },
  {
   "cell_type": "code",
   "execution_count": 48,
   "metadata": {},
   "outputs": [],
   "source": [
    "def dispersive_shift(gqr,wq,wr,Ec): # gqr in MHz,wq,wr in GHZ, EC in MHz and positive\n",
    "    chi=gqr**2/((wq-wr)*10**(3))/(1+(wq-wr)*10**(3)/(-Ec))\n",
    "    return chi # in MHz"
   ]
  },
  {
   "cell_type": "code",
   "execution_count": 185,
   "metadata": {},
   "outputs": [
    {
     "data": {
      "text/plain": [
       "-0.36366055214723925"
      ]
     },
     "execution_count": 185,
     "metadata": {},
     "output_type": "execute_result"
    }
   ],
   "source": [
    "chi=dispersive_shift(gqr,omega_q,omega_r,Ec(Q1_cap))\n",
    "chi"
   ]
  },
  {
   "cell_type": "markdown",
   "metadata": {},
   "source": [
    "### Readout resonator properties"
   ]
  },
  {
   "cell_type": "code",
   "execution_count": 91,
   "metadata": {},
   "outputs": [
    {
     "data": {
      "text/plain": [
       "(289.4, 0.55)"
      ]
     },
     "execution_count": 91,
     "metadata": {},
     "output_type": "execute_result"
    }
   ],
   "source": [
    "Q=10000\n",
    "k=2*np.pi*omega_r*1e9/Q \n",
    "np.round(1/k*1e9,1), np.round(k/Mhz,2)# first value in ns"
   ]
  },
  {
   "cell_type": "code",
   "execution_count": 99,
   "metadata": {},
   "outputs": [
    {
     "data": {
      "text/plain": [
       "144.82461941326272"
      ]
     },
     "execution_count": 99,
     "metadata": {},
     "output_type": "execute_result"
    }
   ],
   "source": [
    "Tp=(1/k)*((omega_q-omega_r)*10**3/gqr)**2\n",
    "Tp*1e6#us"
   ]
  },
  {
   "cell_type": "markdown",
   "metadata": {},
   "source": [
    "### Charge line"
   ]
  },
  {
   "cell_type": "code",
   "execution_count": 72,
   "metadata": {},
   "outputs": [
    {
     "name": "stdout",
     "output_type": "stream",
     "text": [
      "116.5\n",
      "31.6\n",
      "72.1\n"
     ]
    }
   ],
   "source": [
    "Q1_cap_charge_line_top=-data[q_name+'top'][0]\n",
    "Q1_cap_charge_line_bottom=-data[q_name+'bottom'][0]\n",
    "Cc_charge=line_qubit_coupling(Q1_cap_ground_top,Q1_cap_ground_bottom,Q1_cap_charge_line_top,Q1_cap_charge_line_bottom)\n",
    "cap_pretty_print([Q1_cap_charge_line_top,Q1_cap_charge_line_bottom,Cc_charge],1e6)#in aF"
   ]
  },
  {
   "cell_type": "code",
   "execution_count": 100,
   "metadata": {},
   "outputs": [],
   "source": [
    "Z0=50\n",
    "Tcharge=(Cc_charge+Q1_cap)/(Z0*(2*np.pi*omega_q*Cc_charge)**2)*1e-6"
   ]
  },
  {
   "cell_type": "code",
   "execution_count": 101,
   "metadata": {},
   "outputs": [
    {
     "data": {
      "text/plain": [
       "397.6797739128156"
      ]
     },
     "execution_count": 101,
     "metadata": {},
     "output_type": "execute_result"
    }
   ],
   "source": [
    "Tcharge*1e6#in us"
   ]
  },
  {
   "cell_type": "markdown",
   "metadata": {},
   "source": [
    "### Total relaxation= resonator+charge line"
   ]
  },
  {
   "cell_type": "code",
   "execution_count": 103,
   "metadata": {},
   "outputs": [
    {
     "data": {
      "text/plain": [
       "106.16286727591249"
      ]
     },
     "execution_count": 103,
     "metadata": {},
     "output_type": "execute_result"
    }
   ],
   "source": [
    "Tp*Tcharge/(Tp+Tcharge)*1e6"
   ]
  },
  {
   "cell_type": "markdown",
   "metadata": {},
   "source": [
    "### Coupling between qubits"
   ]
  },
  {
   "cell_type": "code",
   "execution_count": 107,
   "metadata": {},
   "outputs": [],
   "source": [
    "data=pd.read_csv(path+'\\wholechip.csv',sep=',')# matrix should be done on pF"
   ]
  },
  {
   "cell_type": "code",
   "execution_count": 108,
   "metadata": {},
   "outputs": [
    {
     "data": {
      "text/html": [
       "<div>\n",
       "<style scoped>\n",
       "    .dataframe tbody tr th:only-of-type {\n",
       "        vertical-align: middle;\n",
       "    }\n",
       "\n",
       "    .dataframe tbody tr th {\n",
       "        vertical-align: top;\n",
       "    }\n",
       "\n",
       "    .dataframe thead th {\n",
       "        text-align: right;\n",
       "    }\n",
       "</style>\n",
       "<table border=\"1\" class=\"dataframe\">\n",
       "  <thead>\n",
       "    <tr style=\"text-align: right;\">\n",
       "      <th></th>\n",
       "      <th>Unnamed: 0</th>\n",
       "      <th>ground</th>\n",
       "      <th>Q1_bottom</th>\n",
       "      <th>Q1_top</th>\n",
       "      <th>Q2_bottom</th>\n",
       "      <th>Q2_top</th>\n",
       "      <th>Q3_bottom</th>\n",
       "      <th>Q3_top</th>\n",
       "      <th>resonator</th>\n",
       "      <th>T2_large</th>\n",
       "      <th>T2_small</th>\n",
       "      <th>T3_large</th>\n",
       "      <th>T3_small</th>\n",
       "    </tr>\n",
       "  </thead>\n",
       "  <tbody>\n",
       "    <tr>\n",
       "      <th>0</th>\n",
       "      <td>ground</td>\n",
       "      <td>0.938199</td>\n",
       "      <td>-0.070338</td>\n",
       "      <td>-0.073785</td>\n",
       "      <td>-0.081621</td>\n",
       "      <td>-0.073800</td>\n",
       "      <td>-0.083599</td>\n",
       "      <td>-0.073120</td>\n",
       "      <td>-0.014999</td>\n",
       "      <td>-0.092547</td>\n",
       "      <td>-0.055815</td>\n",
       "      <td>-0.266416</td>\n",
       "      <td>-0.052157</td>\n",
       "    </tr>\n",
       "    <tr>\n",
       "      <th>1</th>\n",
       "      <td>Q1_bottom</td>\n",
       "      <td>-0.070338</td>\n",
       "      <td>0.136435</td>\n",
       "      <td>-0.038838</td>\n",
       "      <td>-0.000233</td>\n",
       "      <td>-0.000245</td>\n",
       "      <td>-0.000452</td>\n",
       "      <td>-0.000776</td>\n",
       "      <td>-0.011749</td>\n",
       "      <td>-0.002024</td>\n",
       "      <td>-0.000770</td>\n",
       "      <td>-0.010790</td>\n",
       "      <td>-0.000220</td>\n",
       "    </tr>\n",
       "    <tr>\n",
       "      <th>2</th>\n",
       "      <td>Q1_top</td>\n",
       "      <td>-0.073785</td>\n",
       "      <td>-0.038838</td>\n",
       "      <td>0.134090</td>\n",
       "      <td>-0.000236</td>\n",
       "      <td>-0.000330</td>\n",
       "      <td>-0.000227</td>\n",
       "      <td>-0.000380</td>\n",
       "      <td>-0.000725</td>\n",
       "      <td>-0.016342</td>\n",
       "      <td>-0.001642</td>\n",
       "      <td>-0.001472</td>\n",
       "      <td>-0.000112</td>\n",
       "    </tr>\n",
       "    <tr>\n",
       "      <th>3</th>\n",
       "      <td>Q2_bottom</td>\n",
       "      <td>-0.081621</td>\n",
       "      <td>-0.000233</td>\n",
       "      <td>-0.000236</td>\n",
       "      <td>0.136008</td>\n",
       "      <td>-0.038912</td>\n",
       "      <td>-0.000682</td>\n",
       "      <td>-0.000484</td>\n",
       "      <td>-0.000024</td>\n",
       "      <td>-0.001997</td>\n",
       "      <td>-0.000724</td>\n",
       "      <td>-0.010623</td>\n",
       "      <td>-0.000474</td>\n",
       "    </tr>\n",
       "    <tr>\n",
       "      <th>4</th>\n",
       "      <td>Q2_top</td>\n",
       "      <td>-0.073800</td>\n",
       "      <td>-0.000245</td>\n",
       "      <td>-0.000330</td>\n",
       "      <td>-0.038912</td>\n",
       "      <td>0.133401</td>\n",
       "      <td>-0.000373</td>\n",
       "      <td>-0.000264</td>\n",
       "      <td>-0.000022</td>\n",
       "      <td>-0.016196</td>\n",
       "      <td>-0.001532</td>\n",
       "      <td>-0.001487</td>\n",
       "      <td>-0.000241</td>\n",
       "    </tr>\n",
       "    <tr>\n",
       "      <th>5</th>\n",
       "      <td>Q3_bottom</td>\n",
       "      <td>-0.083599</td>\n",
       "      <td>-0.000452</td>\n",
       "      <td>-0.000227</td>\n",
       "      <td>-0.000682</td>\n",
       "      <td>-0.000373</td>\n",
       "      <td>0.128859</td>\n",
       "      <td>-0.039330</td>\n",
       "      <td>-0.000070</td>\n",
       "      <td>-0.000129</td>\n",
       "      <td>-0.000060</td>\n",
       "      <td>-0.002497</td>\n",
       "      <td>-0.001441</td>\n",
       "    </tr>\n",
       "    <tr>\n",
       "      <th>6</th>\n",
       "      <td>Q3_top</td>\n",
       "      <td>-0.073120</td>\n",
       "      <td>-0.000776</td>\n",
       "      <td>-0.000380</td>\n",
       "      <td>-0.000484</td>\n",
       "      <td>-0.000264</td>\n",
       "      <td>-0.039330</td>\n",
       "      <td>0.132443</td>\n",
       "      <td>-0.000122</td>\n",
       "      <td>-0.000152</td>\n",
       "      <td>-0.000070</td>\n",
       "      <td>-0.014997</td>\n",
       "      <td>-0.002747</td>\n",
       "    </tr>\n",
       "    <tr>\n",
       "      <th>7</th>\n",
       "      <td>resonator</td>\n",
       "      <td>-0.014999</td>\n",
       "      <td>-0.011749</td>\n",
       "      <td>-0.000725</td>\n",
       "      <td>-0.000024</td>\n",
       "      <td>-0.000022</td>\n",
       "      <td>-0.000070</td>\n",
       "      <td>-0.000122</td>\n",
       "      <td>0.028467</td>\n",
       "      <td>-0.000118</td>\n",
       "      <td>-0.000051</td>\n",
       "      <td>-0.000553</td>\n",
       "      <td>-0.000033</td>\n",
       "    </tr>\n",
       "    <tr>\n",
       "      <th>8</th>\n",
       "      <td>T2_large</td>\n",
       "      <td>-0.092547</td>\n",
       "      <td>-0.002024</td>\n",
       "      <td>-0.016342</td>\n",
       "      <td>-0.001997</td>\n",
       "      <td>-0.016196</td>\n",
       "      <td>-0.000129</td>\n",
       "      <td>-0.000152</td>\n",
       "      <td>-0.000118</td>\n",
       "      <td>0.161083</td>\n",
       "      <td>-0.030309</td>\n",
       "      <td>-0.001165</td>\n",
       "      <td>-0.000105</td>\n",
       "    </tr>\n",
       "    <tr>\n",
       "      <th>9</th>\n",
       "      <td>T2_small</td>\n",
       "      <td>-0.055815</td>\n",
       "      <td>-0.000770</td>\n",
       "      <td>-0.001642</td>\n",
       "      <td>-0.000724</td>\n",
       "      <td>-0.001532</td>\n",
       "      <td>-0.000060</td>\n",
       "      <td>-0.000070</td>\n",
       "      <td>-0.000051</td>\n",
       "      <td>-0.030309</td>\n",
       "      <td>0.091517</td>\n",
       "      <td>-0.000498</td>\n",
       "      <td>-0.000047</td>\n",
       "    </tr>\n",
       "    <tr>\n",
       "      <th>10</th>\n",
       "      <td>T3_large</td>\n",
       "      <td>-0.266416</td>\n",
       "      <td>-0.010790</td>\n",
       "      <td>-0.001472</td>\n",
       "      <td>-0.010623</td>\n",
       "      <td>-0.001487</td>\n",
       "      <td>-0.002497</td>\n",
       "      <td>-0.014997</td>\n",
       "      <td>-0.000553</td>\n",
       "      <td>-0.001165</td>\n",
       "      <td>-0.000498</td>\n",
       "      <td>0.331206</td>\n",
       "      <td>-0.020710</td>\n",
       "    </tr>\n",
       "    <tr>\n",
       "      <th>11</th>\n",
       "      <td>T3_small</td>\n",
       "      <td>-0.052157</td>\n",
       "      <td>-0.000220</td>\n",
       "      <td>-0.000112</td>\n",
       "      <td>-0.000474</td>\n",
       "      <td>-0.000241</td>\n",
       "      <td>-0.001441</td>\n",
       "      <td>-0.002747</td>\n",
       "      <td>-0.000033</td>\n",
       "      <td>-0.000105</td>\n",
       "      <td>-0.000047</td>\n",
       "      <td>-0.020710</td>\n",
       "      <td>0.078287</td>\n",
       "    </tr>\n",
       "  </tbody>\n",
       "</table>\n",
       "</div>"
      ],
      "text/plain": [
       "   Unnamed: 0    ground  Q1_bottom    Q1_top  Q2_bottom    Q2_top  Q3_bottom  \\\n",
       "0      ground  0.938199  -0.070338 -0.073785  -0.081621 -0.073800  -0.083599   \n",
       "1   Q1_bottom -0.070338   0.136435 -0.038838  -0.000233 -0.000245  -0.000452   \n",
       "2      Q1_top -0.073785  -0.038838  0.134090  -0.000236 -0.000330  -0.000227   \n",
       "3   Q2_bottom -0.081621  -0.000233 -0.000236   0.136008 -0.038912  -0.000682   \n",
       "4      Q2_top -0.073800  -0.000245 -0.000330  -0.038912  0.133401  -0.000373   \n",
       "5   Q3_bottom -0.083599  -0.000452 -0.000227  -0.000682 -0.000373   0.128859   \n",
       "6      Q3_top -0.073120  -0.000776 -0.000380  -0.000484 -0.000264  -0.039330   \n",
       "7   resonator -0.014999  -0.011749 -0.000725  -0.000024 -0.000022  -0.000070   \n",
       "8    T2_large -0.092547  -0.002024 -0.016342  -0.001997 -0.016196  -0.000129   \n",
       "9    T2_small -0.055815  -0.000770 -0.001642  -0.000724 -0.001532  -0.000060   \n",
       "10   T3_large -0.266416  -0.010790 -0.001472  -0.010623 -0.001487  -0.002497   \n",
       "11   T3_small -0.052157  -0.000220 -0.000112  -0.000474 -0.000241  -0.001441   \n",
       "\n",
       "      Q3_top  resonator  T2_large  T2_small  T3_large  T3_small  \n",
       "0  -0.073120  -0.014999 -0.092547 -0.055815 -0.266416 -0.052157  \n",
       "1  -0.000776  -0.011749 -0.002024 -0.000770 -0.010790 -0.000220  \n",
       "2  -0.000380  -0.000725 -0.016342 -0.001642 -0.001472 -0.000112  \n",
       "3  -0.000484  -0.000024 -0.001997 -0.000724 -0.010623 -0.000474  \n",
       "4  -0.000264  -0.000022 -0.016196 -0.001532 -0.001487 -0.000241  \n",
       "5  -0.039330  -0.000070 -0.000129 -0.000060 -0.002497 -0.001441  \n",
       "6   0.132443  -0.000122 -0.000152 -0.000070 -0.014997 -0.002747  \n",
       "7  -0.000122   0.028467 -0.000118 -0.000051 -0.000553 -0.000033  \n",
       "8  -0.000152  -0.000118  0.161083 -0.030309 -0.001165 -0.000105  \n",
       "9  -0.000070  -0.000051 -0.030309  0.091517 -0.000498 -0.000047  \n",
       "10 -0.014997  -0.000553 -0.001165 -0.000498  0.331206 -0.020710  \n",
       "11 -0.002747  -0.000033 -0.000105 -0.000047 -0.020710  0.078287  "
      ]
     },
     "execution_count": 108,
     "metadata": {},
     "output_type": "execute_result"
    }
   ],
   "source": [
    "data"
   ]
  },
  {
   "cell_type": "code",
   "execution_count": 118,
   "metadata": {},
   "outputs": [],
   "source": [
    "q_name='Q2_'\n",
    "Q2_cap_ground_top=data[q_name+'top'][4]+data[q_name+'top'][3]\n",
    "Q2_cap_ground_bottom=data[q_name+'bottom'][3]+data[q_name+'bottom'][4]\n",
    "Q2_cap_top_bottom=-data[q_name+'bottom'][4]\n",
    "Q2_cap=cap_func(Q2_cap_top_bottom,Q2_cap_ground_top,Q2_cap_ground_bottom)"
   ]
  },
  {
   "cell_type": "code",
   "execution_count": 124,
   "metadata": {},
   "outputs": [
    {
     "name": "stdout",
     "output_type": "stream",
     "text": [
      "94.5\n",
      "97.1\n",
      "38.9\n"
     ]
    }
   ],
   "source": [
    "cap_pretty_print([Q2_cap_ground_top,Q2_cap_ground_bottom,Q2_cap_top_bottom],1e3)"
   ]
  },
  {
   "cell_type": "code",
   "execution_count": 119,
   "metadata": {},
   "outputs": [
    {
     "data": {
      "text/plain": [
       "223.2"
      ]
     },
     "execution_count": 119,
     "metadata": {},
     "output_type": "execute_result"
    }
   ],
   "source": [
    "Ec(Q2_cap)"
   ]
  },
  {
   "cell_type": "code",
   "execution_count": 126,
   "metadata": {},
   "outputs": [],
   "source": [
    "q_name='Q1_'\n",
    "Q1_cap_ground_top=data[q_name+'top'][2]+data[q_name+'top'][1]\n",
    "Q1_cap_ground_bottom=data[q_name+'bottom'][1]+data[q_name+'bottom'][2]\n",
    "Q1_cap_top_bottom=-data[q_name+'bottom'][2]\n",
    "Q1_cap=cap_func(Q1_cap_top_bottom,Q1_cap_ground_top,Q1_cap_ground_bottom)"
   ]
  },
  {
   "cell_type": "code",
   "execution_count": 127,
   "metadata": {},
   "outputs": [
    {
     "name": "stdout",
     "output_type": "stream",
     "text": [
      "95.3\n",
      "97.6\n",
      "38.8\n"
     ]
    }
   ],
   "source": [
    "cap_pretty_print([Q1_cap_ground_top,Q1_cap_ground_bottom,Q1_cap_top_bottom,Q1_cap],1e3)"
   ]
  },
  {
   "cell_type": "code",
   "execution_count": 128,
   "metadata": {
    "scrolled": true
   },
   "outputs": [
    {
     "data": {
      "text/plain": [
       "222.5"
      ]
     },
     "execution_count": 128,
     "metadata": {},
     "output_type": "execute_result"
    }
   ],
   "source": [
    "Ec(Q1_cap)"
   ]
  },
  {
   "cell_type": "code",
   "execution_count": 137,
   "metadata": {},
   "outputs": [],
   "source": [
    "q_name='T2_'\n",
    "T2_cap_ground_top=data[q_name+'large'][8]+data[q_name+'large'][9]\n",
    "T2_cap_ground_bottom=data[q_name+'small'][9]+data[q_name+'small'][8]\n",
    "T2_cap_top_bottom=-data[q_name+'small'][8]\n",
    "T2_cap=cap_func(T2_cap_top_bottom,T2_cap_ground_bottom,T2_cap_ground_top)"
   ]
  },
  {
   "cell_type": "code",
   "execution_count": 140,
   "metadata": {},
   "outputs": [
    {
     "name": "stdout",
     "output_type": "stream",
     "text": [
      "72.0\n",
      "30.3\n",
      "61.2\n",
      "130.8\n"
     ]
    }
   ],
   "source": [
    "cap_pretty_print([T2_cap,T2_cap_top_bottom,T2_cap_ground_bottom,T2_cap_ground_top],1e3)"
   ]
  },
  {
   "cell_type": "code",
   "execution_count": 141,
   "metadata": {
    "scrolled": true
   },
   "outputs": [
    {
     "data": {
      "text/plain": [
       "269.0"
      ]
     },
     "execution_count": 141,
     "metadata": {},
     "output_type": "execute_result"
    }
   ],
   "source": [
    "Ec(T2_cap)"
   ]
  },
  {
   "cell_type": "code",
   "execution_count": 142,
   "metadata": {},
   "outputs": [],
   "source": [
    "q_name='T3_'\n",
    "T3_cap_ground_top=data[q_name+'large'][10]+data[q_name+'large'][11]\n",
    "T3_cap_ground_bottom=data[q_name+'small'][11]+data[q_name+'small'][10]\n",
    "T3_cap_top_bottom=-data[q_name+'small'][10]\n",
    "T3_cap=cap_func(T3_cap_top_bottom,T3_cap_ground_bottom,T3_cap_ground_top)"
   ]
  },
  {
   "cell_type": "code",
   "execution_count": 144,
   "metadata": {},
   "outputs": [
    {
     "name": "stdout",
     "output_type": "stream",
     "text": [
      "69.3\n",
      "20.7\n",
      "57.6\n",
      "310.5\n"
     ]
    }
   ],
   "source": [
    "cap_pretty_print([T3_cap,T3_cap_top_bottom,T3_cap_ground_bottom,T3_cap_ground_top],1e3)"
   ]
  },
  {
   "cell_type": "code",
   "execution_count": 145,
   "metadata": {
    "scrolled": true
   },
   "outputs": [
    {
     "data": {
      "text/plain": [
       "279.6"
      ]
     },
     "execution_count": 145,
     "metadata": {},
     "output_type": "execute_result"
    }
   ],
   "source": [
    "Ec(T3_cap)"
   ]
  },
  {
   "cell_type": "code",
   "execution_count": 152,
   "metadata": {},
   "outputs": [],
   "source": [
    "#Q1_T2 coupling\n",
    "Ccq1t2=np.abs(data['T2_small'][2]-data['T2_small'][1])\n",
    "Ccq1t2=np.abs(data['T2_small'][2]-data['T2_small'][1])"
   ]
  },
  {
   "cell_type": "code",
   "execution_count": 176,
   "metadata": {},
   "outputs": [
    {
     "data": {
      "text/plain": [
       "(0.014317999999999999, -0.016342, -0.002024)"
      ]
     },
     "execution_count": 176,
     "metadata": {},
     "output_type": "execute_result"
    }
   ],
   "source": [
    "Ccq1t2,data['T2_large'][2],data['T2_large'][1]"
   ]
  },
  {
   "cell_type": "code",
   "execution_count": 179,
   "metadata": {},
   "outputs": [],
   "source": [
    "def coupling(Cc,Cq1,Cq2,w1,w2):\n",
    "    g=(Cc/(np.sqrt(Cq1*Cq2)))*np.sqrt(w1*1e9*w2*1e9)/2\n",
    "    return g/1e6# return g/2pi in MHz"
   ]
  },
  {
   "cell_type": "code",
   "execution_count": 181,
   "metadata": {},
   "outputs": [
    {
     "data": {
      "text/plain": [
       "149.96070780672497"
      ]
     },
     "execution_count": 181,
     "metadata": {},
     "output_type": "execute_result"
    }
   ],
   "source": [
    "wq1=4.5\n",
    "wqt2=5.5\n",
    "coupling(Ccq1t2/3,T2_cap,Q1_cap,wq1,wqt2)"
   ]
  },
  {
   "cell_type": "code",
   "execution_count": 165,
   "metadata": {},
   "outputs": [
    {
     "data": {
      "text/plain": [
       "0.18085941857855511"
      ]
     },
     "execution_count": 165,
     "metadata": {},
     "output_type": "execute_result"
    }
   ],
   "source": [
    "Ccq1t2/np.sqrt(T2_cap*Q1_cap)"
   ]
  },
  {
   "cell_type": "code",
   "execution_count": 166,
   "metadata": {},
   "outputs": [
    {
     "data": {
      "text/plain": [
       "0.8954886933959579"
      ]
     },
     "execution_count": 166,
     "metadata": {},
     "output_type": "execute_result"
    }
   ],
   "source": [
    "np.sqrt(4.5*5.5)*0.18"
   ]
  },
  {
   "cell_type": "code",
   "execution_count": 169,
   "metadata": {},
   "outputs": [
    {
     "data": {
      "text/plain": [
       "(14.318, 72.00257018887187, 87.0431213332711)"
      ]
     },
     "execution_count": 169,
     "metadata": {},
     "output_type": "execute_result"
    }
   ],
   "source": [
    "Ccq1t2*1e3,T2_cap*1e3,Q1_cap*1e3"
   ]
  },
  {
   "cell_type": "code",
   "execution_count": null,
   "metadata": {},
   "outputs": [],
   "source": []
  }
 ],
 "metadata": {
  "kernelspec": {
   "display_name": "Python 3",
   "language": "python",
   "name": "python3"
  },
  "language_info": {
   "codemirror_mode": {
    "name": "ipython",
    "version": 3
   },
   "file_extension": ".py",
   "mimetype": "text/x-python",
   "name": "python",
   "nbconvert_exporter": "python",
   "pygments_lexer": "ipython3",
   "version": "3.9.5"
  }
 },
 "nbformat": 4,
 "nbformat_minor": 4
}
