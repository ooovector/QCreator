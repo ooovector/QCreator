{
 "cells": [
  {
   "cell_type": "code",
   "execution_count": 1,
   "metadata": {},
   "outputs": [],
   "source": [
    "import numpy as np\n",
    "from scipy.constants import hbar,h,e,c\n",
    "from scipy.constants import elementary_charge as elc\n",
    "F0 = 2.0678e-15"
   ]
  },
  {
   "cell_type": "code",
   "execution_count": 2,
   "metadata": {},
   "outputs": [],
   "source": [
    "e_eff=(11.4+1)/2## for all calculations\n",
    "Mhz=(2*np.pi*1e6)## divide on it to obtain value in mhz\n",
    "j=0.5e-3      # critical current density nA/nm^2"
   ]
  },
  {
   "cell_type": "code",
   "execution_count": 3,
   "metadata": {},
   "outputs": [],
   "source": [
    "import pandas as pd"
   ]
  },
  {
   "cell_type": "markdown",
   "metadata": {},
   "source": [
    "# Q1 related parameters"
   ]
  },
  {
   "cell_type": "code",
   "execution_count": 4,
   "metadata": {},
   "outputs": [],
   "source": [
    "def cap_func(Q1,Qg1,Qg2):\n",
    "    return Q1+(1/Qg1+1/Qg2)**(-1)"
   ]
  },
  {
   "cell_type": "code",
   "execution_count": 5,
   "metadata": {},
   "outputs": [],
   "source": [
    "def Ec(C):#fF\n",
    "    return np.round((elc)**2/(2*C)/h/1e9*1e15,1) # return in MHz"
   ]
  },
  {
   "cell_type": "code",
   "execution_count": 8,
   "metadata": {},
   "outputs": [],
   "source": [
    "path=r'E:\\Github2.0\\QCreator\\designs\\ThreeQubitsPlusTwoQubits\\maxwell_simulations'\n",
    "path=r'C:\\Python\\Github\\QCreator\\designs\\ThreeQubitsPlusTwoQubits\\maxwell_simulations'"
   ]
  },
  {
   "cell_type": "code",
   "execution_count": 9,
   "metadata": {},
   "outputs": [],
   "source": [
    "data=pd.read_csv(path+'\\Q1fine_sim.csv',sep=';')# matrix should be done on pF"
   ]
  },
  {
   "cell_type": "code",
   "execution_count": 10,
   "metadata": {},
   "outputs": [
    {
     "data": {
      "text/html": [
       "<div>\n",
       "<style scoped>\n",
       "    .dataframe tbody tr th:only-of-type {\n",
       "        vertical-align: middle;\n",
       "    }\n",
       "\n",
       "    .dataframe tbody tr th {\n",
       "        vertical-align: top;\n",
       "    }\n",
       "\n",
       "    .dataframe thead th {\n",
       "        text-align: right;\n",
       "    }\n",
       "</style>\n",
       "<table border=\"1\" class=\"dataframe\">\n",
       "  <thead>\n",
       "    <tr style=\"text-align: right;\">\n",
       "      <th></th>\n",
       "      <th>Unnamed: 0</th>\n",
       "      <th>Charge</th>\n",
       "      <th>ground</th>\n",
       "      <th>Q1bottom</th>\n",
       "      <th>Q1top</th>\n",
       "      <th>resonator</th>\n",
       "    </tr>\n",
       "  </thead>\n",
       "  <tbody>\n",
       "    <tr>\n",
       "      <th>0</th>\n",
       "      <td>Charge</td>\n",
       "      <td>0.006063</td>\n",
       "      <td>-0.005913</td>\n",
       "      <td>-0.000032</td>\n",
       "      <td>-0.000117</td>\n",
       "      <td>-0.000002</td>\n",
       "    </tr>\n",
       "    <tr>\n",
       "      <th>1</th>\n",
       "      <td>ground</td>\n",
       "      <td>-0.005913</td>\n",
       "      <td>0.199550</td>\n",
       "      <td>-0.083040</td>\n",
       "      <td>-0.090835</td>\n",
       "      <td>-0.019762</td>\n",
       "    </tr>\n",
       "    <tr>\n",
       "      <th>2</th>\n",
       "      <td>Q1bottom</td>\n",
       "      <td>-0.000032</td>\n",
       "      <td>-0.083040</td>\n",
       "      <td>0.129420</td>\n",
       "      <td>-0.039168</td>\n",
       "      <td>-0.007184</td>\n",
       "    </tr>\n",
       "    <tr>\n",
       "      <th>3</th>\n",
       "      <td>Q1top</td>\n",
       "      <td>-0.000117</td>\n",
       "      <td>-0.090835</td>\n",
       "      <td>-0.039168</td>\n",
       "      <td>0.130870</td>\n",
       "      <td>-0.000747</td>\n",
       "    </tr>\n",
       "    <tr>\n",
       "      <th>4</th>\n",
       "      <td>resonator</td>\n",
       "      <td>-0.000002</td>\n",
       "      <td>-0.019762</td>\n",
       "      <td>-0.007184</td>\n",
       "      <td>-0.000747</td>\n",
       "      <td>0.027694</td>\n",
       "    </tr>\n",
       "  </tbody>\n",
       "</table>\n",
       "</div>"
      ],
      "text/plain": [
       "  Unnamed: 0    Charge    ground  Q1bottom     Q1top  resonator\n",
       "0     Charge  0.006063 -0.005913 -0.000032 -0.000117  -0.000002\n",
       "1     ground -0.005913  0.199550 -0.083040 -0.090835  -0.019762\n",
       "2   Q1bottom -0.000032 -0.083040  0.129420 -0.039168  -0.007184\n",
       "3      Q1top -0.000117 -0.090835 -0.039168  0.130870  -0.000747\n",
       "4  resonator -0.000002 -0.019762 -0.007184 -0.000747   0.027694"
      ]
     },
     "execution_count": 10,
     "metadata": {},
     "output_type": "execute_result"
    }
   ],
   "source": [
    "data"
   ]
  },
  {
   "cell_type": "code",
   "execution_count": 11,
   "metadata": {},
   "outputs": [],
   "source": [
    "q_name='Q1'\n",
    "Q1_cap_ground_top=-data[q_name+'top'][1]\n",
    "Q1_cap_ground_bottom=-data[q_name+'bottom'][1]\n",
    "Q1_cap_top_bottom=-data[q_name+'bottom'][3]\n",
    "Q1_cap=cap_func(Q1_cap_top_bottom,Q1_cap_ground_top,Q1_cap_ground_bottom)"
   ]
  },
  {
   "cell_type": "code",
   "execution_count": 12,
   "metadata": {},
   "outputs": [
    {
     "data": {
      "text/plain": [
       "234.7"
      ]
     },
     "execution_count": 12,
     "metadata": {},
     "output_type": "execute_result"
    }
   ],
   "source": [
    "Ec(Q1_cap)"
   ]
  },
  {
   "cell_type": "markdown",
   "metadata": {},
   "source": [
    "### Resonator coupling"
   ]
  },
  {
   "cell_type": "code",
   "execution_count": 66,
   "metadata": {},
   "outputs": [],
   "source": [
    "def line_qubit_coupling(Q1g,Q2g,Q1gc,Q2gc):\n",
    "    return np.abs((Q1g*Q2gc+Q2g*Q1gc)/(Q1g+Q2gc+Q2g+Q1gc))"
   ]
  },
  {
   "cell_type": "code",
   "execution_count": 70,
   "metadata": {},
   "outputs": [],
   "source": [
    "def cap_pretty_print(args,coeff):\n",
    "    for i in args:\n",
    "        print(np.round(i*coeff,1))# return in fF"
   ]
  },
  {
   "cell_type": "code",
   "execution_count": 15,
   "metadata": {},
   "outputs": [],
   "source": [
    "Q1_cap_res_top=-data[q_name+'top'][4]\n",
    "Q1_cap_res_bottom=-data[q_name+'bottom'][4]\n",
    "Ccr=line_qubit_coupling(Q1_cap_ground_top,Q1_cap_ground_bottom,Q1_cap_res_top,Q1_cap_res_bottom)"
   ]
  },
  {
   "cell_type": "code",
   "execution_count": 16,
   "metadata": {},
   "outputs": [
    {
     "name": "stdout",
     "output_type": "stream",
     "text": [
      "0.7\n",
      "7.2\n",
      "3.9\n"
     ]
    }
   ],
   "source": [
    "cap_pretty_print([Q1_cap_res_top,Q1_cap_res_bottom,Ccr],1e3)"
   ]
  },
  {
   "cell_type": "code",
   "execution_count": 39,
   "metadata": {},
   "outputs": [],
   "source": [
    "def qubit_res_coupling(Cc,Cq,wq,wr,Zr):# capacitances in fF, frequencies in GHz\n",
    "    g= Cc*10**(-12)/2*np.sqrt((2*np.pi*wq*10**(9)*Zr/(Cq*10**(-12))))*wr*10**(9)\n",
    "    return np.round(g/1e6,1)# return g/2pi in MHz"
   ]
  },
  {
   "cell_type": "code",
   "execution_count": 41,
   "metadata": {},
   "outputs": [
    {
     "data": {
      "text/plain": [
       "44.7"
      ]
     },
     "execution_count": 41,
     "metadata": {},
     "output_type": "execute_result"
    }
   ],
   "source": [
    "Zr=50\n",
    "omega_r=5.5\n",
    "omega_q=4.5\n",
    "gqr=qubit_res_coupling(Ccr,Q1_cap,omega_q,omega_r,Zr)\n",
    "gqr"
   ]
  },
  {
   "cell_type": "markdown",
   "metadata": {},
   "source": [
    "### Dispersive shift"
   ]
  },
  {
   "cell_type": "code",
   "execution_count": 48,
   "metadata": {},
   "outputs": [],
   "source": [
    "def dispersive_shift(gqr,wq,wr,Ec): # gqr in MHz,wq,wr in GHZ, EC in MHz and positive\n",
    "    chi=gqr**2/((wq-wr)*10**(3))/(1+(wq-wr)*10**(3)/(-Ec))\n",
    "    return chi # in MHz"
   ]
  },
  {
   "cell_type": "code",
   "execution_count": 64,
   "metadata": {},
   "outputs": [
    {
     "data": {
      "text/plain": [
       "-0.3798102559326152"
      ]
     },
     "execution_count": 64,
     "metadata": {},
     "output_type": "execute_result"
    }
   ],
   "source": [
    "chi=dispersive_shift(gqr,omega_q,omega_r,Ec(Q1_cap))\n",
    "chi"
   ]
  },
  {
   "cell_type": "markdown",
   "metadata": {},
   "source": [
    "### Readout resonator properties"
   ]
  },
  {
   "cell_type": "code",
   "execution_count": 91,
   "metadata": {},
   "outputs": [
    {
     "data": {
      "text/plain": [
       "(289.4, 0.55)"
      ]
     },
     "execution_count": 91,
     "metadata": {},
     "output_type": "execute_result"
    }
   ],
   "source": [
    "Q=10000\n",
    "k=2*np.pi*omega_r*1e9/Q \n",
    "np.round(1/k*1e9,1), np.round(k/Mhz,2)# first value in ns"
   ]
  },
  {
   "cell_type": "code",
   "execution_count": 94,
   "metadata": {},
   "outputs": [
    {
     "data": {
      "text/plain": [
       "144.82461941326272"
      ]
     },
     "execution_count": 94,
     "metadata": {},
     "output_type": "execute_result"
    }
   ],
   "source": [
    "T=(1/k)*((omega_q-omega_r)*10**3/gqr)**2\n",
    "T*1e6#us"
   ]
  },
  {
   "cell_type": "markdown",
   "metadata": {},
   "source": [
    "### Charge line"
   ]
  },
  {
   "cell_type": "code",
   "execution_count": 72,
   "metadata": {},
   "outputs": [
    {
     "name": "stdout",
     "output_type": "stream",
     "text": [
      "116.5\n",
      "31.6\n",
      "72.1\n"
     ]
    }
   ],
   "source": [
    "Q1_cap_charge_line_top=-data[q_name+'top'][0]\n",
    "Q1_cap_charge_line_bottom=-data[q_name+'bottom'][0]\n",
    "Cc_charge=line_qubit_coupling(Q1_cap_ground_top,Q1_cap_ground_bottom,Q1_cap_charge_line_top,Q1_cap_charge_line_bottom)\n",
    "cap_pretty_print([Q1_cap_charge_line_top,Q1_cap_charge_line_bottom,Cc_charge],1e6)#in aF"
   ]
  },
  {
   "cell_type": "code",
   "execution_count": 84,
   "metadata": {},
   "outputs": [],
   "source": [
    "Z0=50\n",
    "T1=(Cc_charge+Q1_cap)/(Z0*(2*np.pi*omega_q*Cc_charge)**2)*1e-6"
   ]
  },
  {
   "cell_type": "code",
   "execution_count": 88,
   "metadata": {},
   "outputs": [
    {
     "data": {
      "text/plain": [
       "397.6797739128156"
      ]
     },
     "execution_count": 88,
     "metadata": {},
     "output_type": "execute_result"
    }
   ],
   "source": [
    "T1*1e6#in us"
   ]
  },
  {
   "cell_type": "markdown",
   "metadata": {},
   "source": [
    "### Coupling between qubits"
   ]
  },
  {
   "cell_type": "code",
   "execution_count": null,
   "metadata": {},
   "outputs": [],
   "source": []
  }
 ],
 "metadata": {
  "kernelspec": {
   "display_name": "Python 3",
   "language": "python",
   "name": "python3"
  },
  "language_info": {
   "codemirror_mode": {
    "name": "ipython",
    "version": 3
   },
   "file_extension": ".py",
   "mimetype": "text/x-python",
   "name": "python",
   "nbconvert_exporter": "python",
   "pygments_lexer": "ipython3",
   "version": "3.9.1"
  }
 },
 "nbformat": 4,
 "nbformat_minor": 4
}
