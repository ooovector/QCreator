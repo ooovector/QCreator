{
 "cells": [
  {
   "cell_type": "code",
   "execution_count": 2,
   "metadata": {},
   "outputs": [],
   "source": [
    "import sys\n",
    "sys.path.append('..\\\\..')\n",
    "import gdspy\n",
    "import numpy as np\n",
    "from importlib import reload\n",
    "from copy import deepcopy\n",
    "from QCreator import elements\n",
    "from QCreator import general_sample_creator as creator\n",
    "from QCreator import meshing\n",
    "from matplotlib import pyplot as plt\n",
    "reload(gdspy)\n",
    "\n",
    "### to have 50 Oms impedance with eps=11.75\n",
    "tl_core = 20.\n",
    "tl_gap = 5.\n",
    "tl_ground = 20.\n",
    "\n",
    "resonator_core = 20\n",
    "resonator_gap = 5\n",
    "resonator_ground = 10\n",
    "\n",
    "pad_offset = 1100\n",
    "pad_element_offset = 400\n",
    "qubit_position_offset = 800\n",
    "\n",
    "coupler_start = pad_offset + pad_element_offset\n",
    "coupler_delta = 500\n",
    "coupler_length = 320\n",
    "num_couplers = 1\n",
    "\n",
    "jc = 0.5e-6 # uA/um^2\n",
    "\n",
    "layers_configuration = {\n",
    "    'total':0,\n",
    "    'restricted area':10,\n",
    "    'for removing':100,\n",
    "    'JJs':3,\n",
    "    'air bridges':2,\n",
    "    'air bridge pads':1,\n",
    "    'air bridge sm pads':4,\n",
    "    'vertical gridlines':15,\n",
    "    'horizontal gridlines':16,\n",
    "    'inverted':17\n",
    "}\n",
    "\n",
    "sample = creator.Sample('SrTiO3-res',layers_configuration,epsilon=15000)\n",
    "\n",
    "\n",
    "airbridge = elements.AirBridgeGeometry(pad_width = 13,\n",
    "                                       pad_length = 10,\n",
    "                                       narrow_width = 5,\n",
    "                                       narrow_length = 36,\n",
    "                                       pad_distance = 36,\n",
    "                                       sm_pad_length = 5,\n",
    "                                       sm_pad_distance = 36,\n",
    "                                       layer_configuration = sample.layer_configuration,\n",
    "                                       bridge_style='misis')\n",
    "\n",
    "\n",
    "\n",
    "#specify sample vertical and horizontal lengths\n",
    "sample.chip_geometry.sample_vertical_size=9.7e3\n",
    "sample.chip_geometry.sample_horizontal_size=9.7e3\n",
    "central_line_y = sample.chip_geometry.sample_vertical_size/2\n",
    "chip_edge_ground = elements.ChipEdgeGround(sample.chip_geometry, sample.layer_configuration, sample.pads, 800)\n",
    "sample.add(chip_edge_ground)\n",
    "\n",
    "grid_ground = elements.GridGround(sample.chip_geometry, sample.layer_configuration, sample.objects, \n",
    "                                  width=4, period=50)\n",
    "sample.add(grid_ground)\n",
    "\n",
    "for al_mark_pos in [(0, 0), (3000, 3000), (-3000, 3000), (-3000, -3000), (3000, -3000)]:\n",
    "    abal1 = elements.AirbridgeAlignmentMarks(position = (central_line_y+al_mark_pos[0], central_line_y+al_mark_pos[1]),\n",
    "                                             window_size = 300, \n",
    "                                             square_size = 80, \n",
    "                                             gap = 4,\n",
    "                                             layer_configuration = sample.layer_configuration)\n",
    "    sample.add(abal1)\n",
    "\n",
    "# 1. Create contact pads:\n",
    "pads_left = []\n",
    "pads_right = []\n",
    "for pad_side_id in range(1):\n",
    "    pad = elements.Pad('pad-left-' + str(pad_side_id),\n",
    "                       (pad_offset, sample.chip_geometry.sample_vertical_size / 2), np.pi, tl_core,\n",
    "                       tl_gap, tl_ground,\n",
    "                       layer_configuration=sample.layer_configuration, chip_geometry=sample.chip_geometry,\n",
    "                       **elements.default_pad_geometry())\n",
    "    pads_left.append(pad)\n",
    "    sample.add(pad)\n",
    "    pad = elements.Pad('pad-right-' + str(pad_side_id),\n",
    "                       (sample.chip_geometry.sample_horizontal_size - pad_offset,\n",
    "                        sample.chip_geometry.sample_vertical_size / 2), 0, tl_core,\n",
    "                       tl_gap, tl_ground,\n",
    "                       layer_configuration=sample.layer_configuration, chip_geometry=sample.chip_geometry,\n",
    "                       **elements.default_pad_geometry())\n",
    "    pads_right.append(pad)\n",
    "    sample.add(pad)\n",
    "    \n",
    "pads_top = []\n",
    "pads_bottom = []\n",
    "for pad_side_id in range(1):\n",
    "    pad = elements.Pad('pad-bottom-' + str(pad_side_id),\n",
    "                       (sample.chip_geometry.sample_horizontal_size / 2 * (pad_side_id + 1), pad_offset),\n",
    "                       -np.pi / 2, tl_core, tl_gap, tl_ground,\n",
    "                       layer_configuration=sample.layer_configuration, chip_geometry=sample.chip_geometry,\n",
    "                       **elements.default_pad_geometry())\n",
    "    pads_bottom.append(pad)\n",
    "    sample.add(pad)\n",
    "    pad = elements.Pad('pad-top-' + str(pad_side_id),\n",
    "                       (sample.chip_geometry.sample_horizontal_size / 2 * (pad_side_id + 1),\n",
    "                        sample.chip_geometry.sample_vertical_size - pad_offset),\n",
    "                       np.pi / 2, tl_core, tl_gap, tl_ground,\n",
    "                       layer_configuration=sample.layer_configuration, chip_geometry=sample.chip_geometry,\n",
    "                       **elements.default_pad_geometry())\n",
    "    pads_top.append(pad)\n",
    "    sample.add(pad)\n",
    "        \n",
    "    \n",
    "pad0 = pads_left[0]\n",
    "pad1 = pads_right[0]\n",
    "pad2 = pads_top[0]\n",
    "pad3 = pads_bottom[0]\n",
    "    \n",
    "meander0 = sample.connect_meander(name='meander0', o1=pad0,\n",
    "                                                 port1='port',\n",
    "                                                 meander_length=10000,\n",
    "                                                 length_left=750,\n",
    "                                                 length_right=750,\n",
    "                                                 first_step_orientation='left',\n",
    "                                                 meander_orientation=np.pi/2, meander_type='round',\n",
    "                                                 min_spacing=100, airbridge=airbridge, r=75)\n",
    "open0 = sample.open_end(name='open end 0', o=meander0[-1], port='port2')\n",
    "\n",
    "meander1 = sample.connect_meander(name='meander1', o1=pad1,\n",
    "                                                 port1='port',\n",
    "                                                 meander_length=16000,\n",
    "                                                 length_left=750,\n",
    "                                                 length_right=750,\n",
    "                                                 first_step_orientation='right',\n",
    "                                                 meander_orientation=-np.pi/2, meander_type='round',\n",
    "                                                 min_spacing=100, airbridge=airbridge, r=75)\n",
    "open1 = sample.open_end(name='open end 1', o=meander1[-1], port='port2')\n",
    "\n",
    "meander2 = sample.connect_meander(name='meander2', o1=pad2,\n",
    "                                                 port1='port',\n",
    "                                                 meander_length=24000,\n",
    "                                                 length_left=750,\n",
    "                                                 length_right=750,\n",
    "                                                 first_step_orientation='right',\n",
    "                                                 meander_orientation=0, meander_type='round',\n",
    "                                                 min_spacing=100, airbridge=airbridge, r=75)\n",
    "open2 = sample.open_end(name='open end 2', o=meander2[-1], port='port2')\n",
    "\n",
    "meander3 = sample.connect_meander(name='meander3', o1=pad3,\n",
    "                                                 port1='port',\n",
    "                                                 meander_length=34000,\n",
    "                                                 length_left=750,\n",
    "                                                 length_right=750,\n",
    "                                                 first_step_orientation='right',\n",
    "                                                 meander_orientation=np.pi, meander_type='round',\n",
    "                                                 min_spacing=100, airbridge=airbridge, r=75)\n",
    "open3 = sample.open_end(name='open end 3', o=meander3[-1], port='port2')\n"
   ]
  },
  {
   "cell_type": "code",
   "execution_count": null,
   "metadata": {},
   "outputs": [],
   "source": [
    "sample.draw_design()\n",
    "sample.watch()"
   ]
  },
  {
   "cell_type": "code",
   "execution_count": 13,
   "metadata": {},
   "outputs": [
    {
     "name": "stdout",
     "output_type": "stream",
     "text": [
      "Gds file has been writen here:  D:\\Documents-cloud\\qubits\\simulation\\QCreator\\designs\\SrTiO3_resonators\\SrTiO3-res.gds\n"
     ]
    }
   ],
   "source": [
    "sample.write_to_gds()"
   ]
  },
  {
   "cell_type": "markdown",
   "metadata": {},
   "source": [
    "# Frequencies and linewidths of resonances in MHz"
   ]
  },
  {
   "cell_type": "code",
   "execution_count": 13,
   "metadata": {},
   "outputs": [],
   "source": [
    "sys, connections, elements_ = sample.get_tls(cutoff=2e9)\n",
    "f, delta, modes = sys.get_modes()\n",
    "num_modes=18\n",
    "#f[:num_modes]/(2e6*np.pi), delta[:num_modes]/(2e6*np.pi), f/(2*np.pi*2*delta)"
   ]
  },
  {
   "cell_type": "markdown",
   "metadata": {},
   "source": [
    "# S11 simulation (phase)"
   ]
  },
  {
   "cell_type": "code",
   "execution_count": 14,
   "metadata": {},
   "outputs": [
    {
     "name": "stderr",
     "output_type": "stream",
     "text": [
      "..\\..\\QCreator\\general_sample_creator.py:383: FutureWarning: `rcond` parameter will change to the default of machine precision times ``max(M, N)`` where M and N are the input matrix dimensions.\n",
      "To use the future default and silence this warning we advise to pass `rcond=None`, to keep using the old, explicitly pass `rcond=-1`.\n",
      "  s.append(np.linalg.lstsq(m, boundary)[0][a2[0]])\n"
     ]
    },
    {
     "ename": "KeyboardInterrupt",
     "evalue": "",
     "output_type": "error",
     "traceback": [
      "\u001b[1;31m---------------------------------------------------------------------------\u001b[0m",
      "\u001b[1;31mKeyboardInterrupt\u001b[0m                         Traceback (most recent call last)",
      "\u001b[1;32m<ipython-input-14-3b0a524aa361>\u001b[0m in \u001b[0;36m<module>\u001b[1;34m\u001b[0m\n\u001b[0;32m      2\u001b[0m \u001b[1;31m# s11 = sample.get_s21('p1', 'p1', f_)\u001b[0m\u001b[1;33m\u001b[0m\u001b[1;33m\u001b[0m\u001b[1;33m\u001b[0m\u001b[0m\n\u001b[0;32m      3\u001b[0m \u001b[0ms11\u001b[0m \u001b[1;33m=\u001b[0m \u001b[0msample\u001b[0m\u001b[1;33m.\u001b[0m\u001b[0mget_s21\u001b[0m\u001b[1;33m(\u001b[0m\u001b[1;34m'pad-left-0'\u001b[0m\u001b[1;33m,\u001b[0m \u001b[1;34m'pad-left-0'\u001b[0m\u001b[1;33m,\u001b[0m \u001b[0mf_\u001b[0m\u001b[1;33m)\u001b[0m\u001b[1;33m\u001b[0m\u001b[1;33m\u001b[0m\u001b[0m\n\u001b[1;32m----> 4\u001b[1;33m \u001b[0ms22\u001b[0m \u001b[1;33m=\u001b[0m \u001b[0msample\u001b[0m\u001b[1;33m.\u001b[0m\u001b[0mget_s21\u001b[0m\u001b[1;33m(\u001b[0m\u001b[1;34m'pad-left-0'\u001b[0m\u001b[1;33m,\u001b[0m \u001b[1;34m'pad-left-0'\u001b[0m\u001b[1;33m,\u001b[0m \u001b[0mf_\u001b[0m\u001b[1;33m)\u001b[0m\u001b[1;33m\u001b[0m\u001b[1;33m\u001b[0m\u001b[0m\n\u001b[0m\u001b[0;32m      5\u001b[0m \u001b[1;33m\u001b[0m\u001b[0m\n\u001b[0;32m      6\u001b[0m \u001b[0mplt\u001b[0m\u001b[1;33m.\u001b[0m\u001b[0mplot\u001b[0m\u001b[1;33m(\u001b[0m\u001b[0mf_\u001b[0m\u001b[1;33m,\u001b[0m \u001b[0mnp\u001b[0m\u001b[1;33m.\u001b[0m\u001b[0mangle\u001b[0m\u001b[1;33m(\u001b[0m\u001b[0ms11\u001b[0m\u001b[1;33m)\u001b[0m\u001b[1;33m)\u001b[0m\u001b[1;33m\u001b[0m\u001b[1;33m\u001b[0m\u001b[0m\n",
      "\u001b[1;32mD:\\Documents-cloud\\qubits\\simulation\\QCreator\\QCreator\\general_sample_creator.py\u001b[0m in \u001b[0;36mget_s21\u001b[1;34m(self, p1, p2, frequencies)\u001b[0m\n\u001b[0;32m    381\u001b[0m             \u001b[0mboundary\u001b[0m \u001b[1;33m=\u001b[0m \u001b[0mnp\u001b[0m\u001b[1;33m.\u001b[0m\u001b[0mzeros\u001b[0m\u001b[1;33m(\u001b[0m\u001b[0mlen\u001b[0m\u001b[1;33m(\u001b[0m\u001b[0msys\u001b[0m\u001b[1;33m.\u001b[0m\u001b[0mdof_mapping\u001b[0m\u001b[1;33m)\u001b[0m\u001b[1;33m)\u001b[0m\u001b[1;33m\u001b[0m\u001b[1;33m\u001b[0m\u001b[0m\n\u001b[0;32m    382\u001b[0m             \u001b[0mboundary\u001b[0m\u001b[1;33m[\u001b[0m\u001b[0meq_vi\u001b[0m\u001b[1;33m]\u001b[0m \u001b[1;33m=\u001b[0m \u001b[1;36m1\u001b[0m\u001b[1;33m\u001b[0m\u001b[1;33m\u001b[0m\u001b[0m\n\u001b[1;32m--> 383\u001b[1;33m             \u001b[0ms\u001b[0m\u001b[1;33m.\u001b[0m\u001b[0mappend\u001b[0m\u001b[1;33m(\u001b[0m\u001b[0mnp\u001b[0m\u001b[1;33m.\u001b[0m\u001b[0mlinalg\u001b[0m\u001b[1;33m.\u001b[0m\u001b[0mlstsq\u001b[0m\u001b[1;33m(\u001b[0m\u001b[0mm\u001b[0m\u001b[1;33m,\u001b[0m \u001b[0mboundary\u001b[0m\u001b[1;33m)\u001b[0m\u001b[1;33m[\u001b[0m\u001b[1;36m0\u001b[0m\u001b[1;33m]\u001b[0m\u001b[1;33m[\u001b[0m\u001b[0ma2\u001b[0m\u001b[1;33m[\u001b[0m\u001b[1;36m0\u001b[0m\u001b[1;33m]\u001b[0m\u001b[1;33m]\u001b[0m\u001b[1;33m)\u001b[0m\u001b[1;33m\u001b[0m\u001b[1;33m\u001b[0m\u001b[0m\n\u001b[0m\u001b[0;32m    384\u001b[0m \u001b[1;33m\u001b[0m\u001b[0m\n\u001b[0;32m    385\u001b[0m         \u001b[1;32mreturn\u001b[0m \u001b[0mnp\u001b[0m\u001b[1;33m.\u001b[0m\u001b[0masarray\u001b[0m\u001b[1;33m(\u001b[0m\u001b[0ms\u001b[0m\u001b[1;33m)\u001b[0m\u001b[1;33m\u001b[0m\u001b[1;33m\u001b[0m\u001b[0m\n",
      "\u001b[1;32m<__array_function__ internals>\u001b[0m in \u001b[0;36mlstsq\u001b[1;34m(*args, **kwargs)\u001b[0m\n",
      "\u001b[1;32mC:\\ProgramData\\Anaconda3\\envs\\py38\\lib\\site-packages\\numpy\\linalg\\linalg.py\u001b[0m in \u001b[0;36mlstsq\u001b[1;34m(a, b, rcond)\u001b[0m\n\u001b[0;32m   2304\u001b[0m         \u001b[1;31m# lapack can't handle n_rhs = 0 - so allocate the array one larger in that axis\u001b[0m\u001b[1;33m\u001b[0m\u001b[1;33m\u001b[0m\u001b[1;33m\u001b[0m\u001b[0m\n\u001b[0;32m   2305\u001b[0m         \u001b[0mb\u001b[0m \u001b[1;33m=\u001b[0m \u001b[0mzeros\u001b[0m\u001b[1;33m(\u001b[0m\u001b[0mb\u001b[0m\u001b[1;33m.\u001b[0m\u001b[0mshape\u001b[0m\u001b[1;33m[\u001b[0m\u001b[1;33m:\u001b[0m\u001b[1;33m-\u001b[0m\u001b[1;36m2\u001b[0m\u001b[1;33m]\u001b[0m \u001b[1;33m+\u001b[0m \u001b[1;33m(\u001b[0m\u001b[0mm\u001b[0m\u001b[1;33m,\u001b[0m \u001b[0mn_rhs\u001b[0m \u001b[1;33m+\u001b[0m \u001b[1;36m1\u001b[0m\u001b[1;33m)\u001b[0m\u001b[1;33m,\u001b[0m \u001b[0mdtype\u001b[0m\u001b[1;33m=\u001b[0m\u001b[0mb\u001b[0m\u001b[1;33m.\u001b[0m\u001b[0mdtype\u001b[0m\u001b[1;33m)\u001b[0m\u001b[1;33m\u001b[0m\u001b[1;33m\u001b[0m\u001b[0m\n\u001b[1;32m-> 2306\u001b[1;33m     \u001b[0mx\u001b[0m\u001b[1;33m,\u001b[0m \u001b[0mresids\u001b[0m\u001b[1;33m,\u001b[0m \u001b[0mrank\u001b[0m\u001b[1;33m,\u001b[0m \u001b[0ms\u001b[0m \u001b[1;33m=\u001b[0m \u001b[0mgufunc\u001b[0m\u001b[1;33m(\u001b[0m\u001b[0ma\u001b[0m\u001b[1;33m,\u001b[0m \u001b[0mb\u001b[0m\u001b[1;33m,\u001b[0m \u001b[0mrcond\u001b[0m\u001b[1;33m,\u001b[0m \u001b[0msignature\u001b[0m\u001b[1;33m=\u001b[0m\u001b[0msignature\u001b[0m\u001b[1;33m,\u001b[0m \u001b[0mextobj\u001b[0m\u001b[1;33m=\u001b[0m\u001b[0mextobj\u001b[0m\u001b[1;33m)\u001b[0m\u001b[1;33m\u001b[0m\u001b[1;33m\u001b[0m\u001b[0m\n\u001b[0m\u001b[0;32m   2307\u001b[0m     \u001b[1;32mif\u001b[0m \u001b[0mm\u001b[0m \u001b[1;33m==\u001b[0m \u001b[1;36m0\u001b[0m\u001b[1;33m:\u001b[0m\u001b[1;33m\u001b[0m\u001b[1;33m\u001b[0m\u001b[0m\n\u001b[0;32m   2308\u001b[0m         \u001b[0mx\u001b[0m\u001b[1;33m[\u001b[0m\u001b[1;33m...\u001b[0m\u001b[1;33m]\u001b[0m \u001b[1;33m=\u001b[0m \u001b[1;36m0\u001b[0m\u001b[1;33m\u001b[0m\u001b[1;33m\u001b[0m\u001b[0m\n",
      "\u001b[1;31mKeyboardInterrupt\u001b[0m: "
     ]
    }
   ],
   "source": [
    "f_ = np.linspace(0.01e9, 8e9, 1601)\n",
    "# s11 = sample.get_s21('p1', 'p1', f_)\n",
    "s11 = sample.get_s21('pad-left-0', 'pad-left-0', f_)\n",
    "s22 = sample.get_s21('pad-left-0', 'pad-left-0', f_)\n",
    "\n",
    "plt.plot(f_, np.angle(s11))\n",
    "#plt.plot(f_, s22)\n",
    "plt.plot(f_, np.angle(s22))"
   ]
  },
  {
   "cell_type": "code",
   "execution_count": null,
   "metadata": {},
   "outputs": [],
   "source": []
  }
 ],
 "metadata": {
  "kernelspec": {
   "display_name": "Python 3",
   "language": "python",
   "name": "python3"
  },
  "language_info": {
   "codemirror_mode": {
    "name": "ipython",
    "version": 3
   },
   "file_extension": ".py",
   "mimetype": "text/x-python",
   "name": "python",
   "nbconvert_exporter": "python",
   "pygments_lexer": "ipython3",
   "version": "3.8.5"
  }
 },
 "nbformat": 4,
 "nbformat_minor": 4
}
