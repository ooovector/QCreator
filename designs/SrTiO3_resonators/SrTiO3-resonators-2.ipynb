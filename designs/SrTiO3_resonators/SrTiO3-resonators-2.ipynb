{
 "cells": [
  {
   "cell_type": "markdown",
   "metadata": {},
   "source": [
    "# Import libs"
   ]
  },
  {
   "cell_type": "code",
   "execution_count": 136,
   "metadata": {},
   "outputs": [
    {
     "data": {
      "text/plain": [
       "<module 'gdspy' from 'C:\\\\Users\\\\avasi\\\\anaconda3\\\\lib\\\\site-packages\\\\gdspy\\\\__init__.py'>"
      ]
     },
     "execution_count": 136,
     "metadata": {},
     "output_type": "execute_result"
    }
   ],
   "source": [
    "import sys\n",
    "sys.path.append('..\\\\..')\n",
    "import gdspy\n",
    "import numpy as np\n",
    "from importlib import reload\n",
    "from copy import deepcopy\n",
    "from QCreator import elements\n",
    "from QCreator import general_sample_creator as creator\n",
    "from QCreator import meshing\n",
    "from matplotlib import pyplot as plt\n",
    "reload(gdspy)"
   ]
  },
  {
   "cell_type": "markdown",
   "metadata": {},
   "source": [
    "# Chip parameters, grid"
   ]
  },
  {
   "cell_type": "code",
   "execution_count": 137,
   "metadata": {},
   "outputs": [],
   "source": [
    "### to have 50 Oms impedance with eps=11.75\n",
    "tl_core = 10.\n",
    "tl_gap = 10.\n",
    "tl_ground = 20.\n",
    "\n",
    "resonator_core = 10\n",
    "resonator_gap = 10\n",
    "resonator_ground = 20\n",
    "\n",
    "pad_offset = 1100\n",
    "pad_element_offset = 400\n",
    "qubit_position_offset = 800\n",
    "\n",
    "coupler_start = pad_offset + pad_element_offset\n",
    "coupler_delta = 500\n",
    "coupler_length = 320\n",
    "num_couplers = 1\n",
    "\n",
    "jc = 0.5e-6 # uA/um^2\n",
    "\n",
    "layers_configuration = {\n",
    "    'total':0,\n",
    "    'restricted area':10,\n",
    "    'for removing':100,\n",
    "    'JJs':3,\n",
    "    'air bridges':2,\n",
    "    'air bridge pads':1,\n",
    "    'air bridge sm pads':4,\n",
    "    'vertical gridlines':15,\n",
    "    'horizontal gridlines':16,\n",
    "    'inverted':17,\n",
    "    'bandages': 25\n",
    "}\n",
    "\n",
    "sample = creator.Sample('SrTiO3-resonators-3',layers_configuration,epsilon=15000)\n",
    "\n",
    "\n",
    "#specify sample vertical and horizontal lengths\n",
    "sample.chip_geometry.sample_vertical_size=9.7e3\n",
    "sample.chip_geometry.sample_horizontal_size=9.7e3\n",
    "central_line_y = sample.chip_geometry.sample_vertical_size/2\n",
    "chip_edge_ground = elements.ChipEdgeGround(sample.chip_geometry, sample.layer_configuration, sample.pads, 800)\n",
    "sample.add(chip_edge_ground)\n",
    "\n",
    "grid_ground = elements.GridGround(sample.chip_geometry, sample.layer_configuration, sample.objects, \n",
    "                                  width=4, period=50)\n",
    "sample.add(grid_ground)"
   ]
  },
  {
   "cell_type": "markdown",
   "metadata": {},
   "source": [
    "# Pads"
   ]
  },
  {
   "cell_type": "code",
   "execution_count": 138,
   "metadata": {},
   "outputs": [],
   "source": [
    "pads_left = []\n",
    "pads_right = []\n",
    "for pad_side_id in range(3):\n",
    "    if pad_side_id != 1:\n",
    "        pad = elements.Pad('pad-left-' + str(pad_side_id),\n",
    "                           (pad_offset, sample.chip_geometry.sample_vertical_size / 4 * (pad_side_id + 1)), np.pi, tl_core,\n",
    "                           tl_gap, tl_ground,\n",
    "                           layer_configuration=sample.layer_configuration, chip_geometry=sample.chip_geometry,\n",
    "                           **elements.default_pad_geometry())\n",
    "        pads_left.append(pad)\n",
    "        sample.add(pad)\n",
    "        pad = elements.Pad('pad-right-' + str(pad_side_id),\n",
    "                           (sample.chip_geometry.sample_horizontal_size - pad_offset,\n",
    "                            sample.chip_geometry.sample_vertical_size / 4 * (pad_side_id + 1)), 0, tl_core,\n",
    "                           tl_gap, tl_ground,\n",
    "                           layer_configuration=sample.layer_configuration, chip_geometry=sample.chip_geometry,\n",
    "                           **elements.default_pad_geometry())\n",
    "        pads_right.append(pad)\n",
    "        sample.add(pad)\n",
    "    \n",
    "pads_top = []\n",
    "pads_bottom = []\n",
    "for pad_side_id in range(3):\n",
    "    if pad_side_id != 1:\n",
    "        pad = elements.Pad('pad-bottom-' + str(pad_side_id),\n",
    "                           (sample.chip_geometry.sample_horizontal_size / 4 * (pad_side_id + 1), pad_offset),\n",
    "                           -np.pi / 2, tl_core, tl_gap, tl_ground,\n",
    "                           layer_configuration=sample.layer_configuration, chip_geometry=sample.chip_geometry,\n",
    "                           **elements.default_pad_geometry())\n",
    "        pads_bottom.append(pad)\n",
    "        sample.add(pad)\n",
    "        pad = elements.Pad('pad-top-' + str(pad_side_id),\n",
    "                           (sample.chip_geometry.sample_horizontal_size / 4 * (pad_side_id + 1),\n",
    "                            sample.chip_geometry.sample_vertical_size - pad_offset),\n",
    "                           np.pi / 2, tl_core, tl_gap, tl_ground,\n",
    "                           layer_configuration=sample.layer_configuration, chip_geometry=sample.chip_geometry,\n",
    "                           **elements.default_pad_geometry())\n",
    "        pads_top.append(pad)\n",
    "        sample.add(pad)\n",
    "\n",
    "    \n",
    "pad0 = pads_left[0]\n",
    "pad1 = pads_right[0]\n",
    "pad2 = pads_top[0]\n",
    "pad3 = pads_bottom[0]\n",
    "pad4 = pads_top[1]\n",
    "pad5 = pads_bottom[1]\n",
    "pad6 = pads_left[1]\n",
    "pad7 = pads_right[1]"
   ]
  },
  {
   "cell_type": "markdown",
   "metadata": {},
   "source": [
    "# Resonators"
   ]
  },
  {
   "cell_type": "code",
   "execution_count": 139,
   "metadata": {},
   "outputs": [
    {
     "data": {
      "text/plain": [
       "[CPW \"right TL\", l=3502.332]"
      ]
     },
     "execution_count": 139,
     "metadata": {},
     "output_type": "execute_result"
    }
   ],
   "source": [
    "#upper left corner\n",
    "ul = (sample.chip_geometry.sample_horizontal_size / 4 - 800,\n",
    "      3*sample.chip_geometry.sample_vertical_size / 4)\n",
    "ul1 = (sample.chip_geometry.sample_horizontal_size / 4,\n",
    "      3*sample.chip_geometry.sample_vertical_size / 4 + 800)\n",
    "\n",
    "ul2 = (sample.chip_geometry.sample_horizontal_size / 4 + 470,\n",
    "      3*sample.chip_geometry.sample_vertical_size / 4)\n",
    "\n",
    "ul3 = (sample.chip_geometry.sample_horizontal_size / 4,\n",
    "      3*sample.chip_geometry.sample_vertical_size / 4 - 470)\n",
    "\n",
    "sample.connect_cpw(pad6, pad2, port1='port', port2='port', name='right TL', points=[ul, ul3, ul2, ul1])"
   ]
  },
  {
   "cell_type": "code",
   "execution_count": 140,
   "metadata": {},
   "outputs": [
    {
     "data": {
      "text/plain": [
       "[CPW \"right TL\", l=3007.735]"
      ]
     },
     "execution_count": 140,
     "metadata": {},
     "output_type": "execute_result"
    }
   ],
   "source": [
    "#upper right corner\n",
    "ur = (3 * sample.chip_geometry.sample_horizontal_size / 4 + 800,\n",
    "      3 * sample.chip_geometry.sample_vertical_size / 4)\n",
    "\n",
    "ur1 = (3 * sample.chip_geometry.sample_horizontal_size / 4,\n",
    "      3 * sample.chip_geometry.sample_vertical_size / 4 + 800)\n",
    "\n",
    "ur2 = (3 * sample.chip_geometry.sample_horizontal_size / 4,\n",
    "      3 * sample.chip_geometry.sample_vertical_size / 4 - 230)\n",
    "\n",
    "ur3 = (3 * sample.chip_geometry.sample_horizontal_size / 4 - 230,\n",
    "      3 * sample.chip_geometry.sample_vertical_size / 4)\n",
    "\n",
    "\n",
    "\n",
    "sample.connect_cpw(pad4, pad7, port1='port', port2='port', name='right TL', points=[ur1, ur3, ur2, ur])"
   ]
  },
  {
   "cell_type": "code",
   "execution_count": 141,
   "metadata": {},
   "outputs": [
    {
     "data": {
      "text/plain": [
       "[CPW \"right TL\", l=4008.854]"
      ]
     },
     "execution_count": 141,
     "metadata": {},
     "output_type": "execute_result"
    }
   ],
   "source": [
    "#lower left corner\n",
    "ll = (sample.chip_geometry.sample_horizontal_size / 4 - 800, \n",
    "       sample.chip_geometry.sample_vertical_size / 4)\n",
    "ll1 = (sample.chip_geometry.sample_horizontal_size / 4, \n",
    "       sample.chip_geometry.sample_vertical_size / 4 - 800)\n",
    "ll2 = (sample.chip_geometry.sample_horizontal_size / 4 + 640, \n",
    "       sample.chip_geometry.sample_vertical_size / 4 + 300)\n",
    "ll3 = (sample.chip_geometry.sample_horizontal_size / 4 + 300, \n",
    "       sample.chip_geometry.sample_vertical_size / 4 + 640)\n",
    "\n",
    "\n",
    "sample.connect_cpw(pad0, pad3, port1='port', port2='port', name='right TL', points=[ll, ll3, ll2, ll1])"
   ]
  },
  {
   "cell_type": "code",
   "execution_count": 142,
   "metadata": {},
   "outputs": [
    {
     "data": {
      "text/plain": [
       "[CPW \"right TL\", l=2503.221]"
      ]
     },
     "execution_count": 142,
     "metadata": {},
     "output_type": "execute_result"
    }
   ],
   "source": [
    "#lower right corner\n",
    "lr = (3 * sample.chip_geometry.sample_horizontal_size / 4 + 230,\n",
    "      sample.chip_geometry.sample_vertical_size / 4)\n",
    "lr1 = (3 * sample.chip_geometry.sample_horizontal_size / 4,\n",
    "      sample.chip_geometry.sample_vertical_size / 4 - 230)\n",
    "\n",
    "\n",
    "sample.connect_cpw(pad1, pad5, port1='port', port2='port', name='right TL', points=[lr, lr1])"
   ]
  },
  {
   "cell_type": "code",
   "execution_count": 143,
   "metadata": {},
   "outputs": [],
   "source": [
    "# sample.connect_cpw(pad0, pad1, port1='port', port2='port', name='right TL', points=[])"
   ]
  },
  {
   "cell_type": "code",
   "execution_count": 144,
   "metadata": {},
   "outputs": [],
   "source": [
    "# top1 = (sample.chip_geometry.sample_horizontal_size / 4, \n",
    "#         sample.chip_geometry.sample_vertical_size - pad_offset - 2635)\n",
    "\n",
    "# top2 = (sample.chip_geometry.sample_horizontal_size / 4 * 3, \n",
    "#         sample.chip_geometry.sample_vertical_size - pad_offset - 2635)\n",
    "\n",
    "# sample.connect_cpw(pad2, pad4, port1='port', port2='port', name='right TL', points=[top1, top2])"
   ]
  },
  {
   "cell_type": "code",
   "execution_count": 145,
   "metadata": {},
   "outputs": [],
   "source": [
    "# bot1 = (sample.chip_geometry.sample_horizontal_size / 4, \n",
    "#         pad_offset + 385)\n",
    "\n",
    "# bot2 = (sample.chip_geometry.sample_horizontal_size / 4 * 3, \n",
    "#         pad_offset + 385)\n",
    "\n",
    "# sample.connect_cpw(pad3, pad5, port1='port', port2='port', name='right TL', points=[bot1, bot2])"
   ]
  },
  {
   "cell_type": "code",
   "execution_count": 146,
   "metadata": {},
   "outputs": [],
   "source": [
    "sample.draw_design()\n",
    "sample.watch()"
   ]
  },
  {
   "cell_type": "code",
   "execution_count": 147,
   "metadata": {},
   "outputs": [
    {
     "name": "stdout",
     "output_type": "stream",
     "text": [
      "Gds file has been writen here:  C:\\Users\\avasi\\Documents\\GitHub\\QCreator\\designs\\SrTiO3_resonators/SrTiO3-resonators-3.gds\n"
     ]
    }
   ],
   "source": [
    "sample.write_to_gds()"
   ]
  },
  {
   "cell_type": "markdown",
   "metadata": {},
   "source": [
    "# Frequencies"
   ]
  },
  {
   "cell_type": "code",
   "execution_count": null,
   "metadata": {},
   "outputs": [],
   "source": [
    "sys, connections, elements_ = sample.get_tls(cutoff=2e9)\n",
    "f, delta, modes = sys.get_modes()\n",
    "num_modes=18\n"
   ]
  },
  {
   "cell_type": "code",
   "execution_count": null,
   "metadata": {},
   "outputs": [],
   "source": [
    "f[:num_modes]/(2e6*np.pi), delta[:num_modes]/(2e6*np.pi), f/(2*np.pi*2*delta)"
   ]
  },
  {
   "cell_type": "markdown",
   "metadata": {},
   "source": [
    "# S21"
   ]
  },
  {
   "cell_type": "code",
   "execution_count": null,
   "metadata": {},
   "outputs": [],
   "source": [
    "f_ = np.linspace(0.01e9, 1e9, 1601)\n",
    "# s11 = sample.get_s21('p1', 'p1', f_)\n",
    "s21 = sample.get_s21('pad-left-0', 'pad-right-0', f_)\n",
    "s212 = sample.get_s21('pad-top-0', 'pad-top-2', f_)\n",
    "s213 = sample.get_s21('pad-bottom-0', 'pad-bottom-2', f_)\n",
    "#plt.plot(f_, np.angle(s21))\n",
    "#plt.plot(f_, np.angle(s212))\n",
    "#plt.plot(f_, np.angle(s213))\n",
    "plt.plot(f_, s21)\n",
    "plt.plot(f_, s212)\n",
    "plt.plot(f_, s213)"
   ]
  },
  {
   "cell_type": "code",
   "execution_count": null,
   "metadata": {},
   "outputs": [],
   "source": []
  }
 ],
 "metadata": {
  "kernelspec": {
   "display_name": "Python 3",
   "language": "python",
   "name": "python3"
  },
  "language_info": {
   "codemirror_mode": {
    "name": "ipython",
    "version": 3
   },
   "file_extension": ".py",
   "mimetype": "text/x-python",
   "name": "python",
   "nbconvert_exporter": "python",
   "pygments_lexer": "ipython3",
   "version": "3.8.3"
  }
 },
 "nbformat": 4,
 "nbformat_minor": 4
}
