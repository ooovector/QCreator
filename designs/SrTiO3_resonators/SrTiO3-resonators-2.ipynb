{
 "cells": [
  {
   "cell_type": "markdown",
   "metadata": {},
   "source": [
    "# Import libs"
   ]
  },
  {
   "cell_type": "code",
   "execution_count": 12,
   "metadata": {},
   "outputs": [
    {
     "data": {
      "text/plain": [
       "<module 'gdspy' from 'C:\\\\Users\\\\avasi\\\\anaconda3\\\\lib\\\\site-packages\\\\gdspy\\\\__init__.py'>"
      ]
     },
     "execution_count": 12,
     "metadata": {},
     "output_type": "execute_result"
    }
   ],
   "source": [
    "import sys\n",
    "sys.path.append('..\\\\..')\n",
    "import gdspy\n",
    "import numpy as np\n",
    "from importlib import reload\n",
    "from copy import deepcopy\n",
    "from QCreator import elements\n",
    "from QCreator import general_sample_creator as creator\n",
    "from QCreator import meshing\n",
    "from matplotlib import pyplot as plt\n",
    "reload(gdspy)"
   ]
  },
  {
   "cell_type": "markdown",
   "metadata": {},
   "source": [
    "# Chip parameters, grid"
   ]
  },
  {
   "cell_type": "code",
   "execution_count": 13,
   "metadata": {},
   "outputs": [],
   "source": [
    "### to have 50 Oms impedance with eps=11.75\n",
    "tl_core = 10.\n",
    "tl_gap = 10.\n",
    "tl_ground = 20.\n",
    "\n",
    "resonator_core = 10\n",
    "resonator_gap = 10\n",
    "resonator_ground = 20\n",
    "\n",
    "pad_offset = 1100\n",
    "pad_element_offset = 400\n",
    "qubit_position_offset = 800\n",
    "\n",
    "coupler_start = pad_offset + pad_element_offset\n",
    "coupler_delta = 500\n",
    "coupler_length = 320\n",
    "num_couplers = 1\n",
    "\n",
    "jc = 0.5e-6 # uA/um^2\n",
    "\n",
    "layers_configuration = {\n",
    "    'total':0,\n",
    "    'restricted area':10,\n",
    "    'for removing':100,\n",
    "    'JJs':3,\n",
    "    'air bridges':2,\n",
    "    'air bridge pads':1,\n",
    "    'air bridge sm pads':4,\n",
    "    'vertical gridlines':15,\n",
    "    'horizontal gridlines':16,\n",
    "    'inverted':17,\n",
    "    'bandages': 25\n",
    "}\n",
    "\n",
    "sample = creator.Sample('SrTiO3-resonators-2',layers_configuration,epsilon=15000)\n",
    "\n",
    "\n",
    "#specify sample vertical and horizontal lengths\n",
    "sample.chip_geometry.sample_vertical_size=9.7e3\n",
    "sample.chip_geometry.sample_horizontal_size=9.7e3\n",
    "central_line_y = sample.chip_geometry.sample_vertical_size/2\n",
    "chip_edge_ground = elements.ChipEdgeGround(sample.chip_geometry, sample.layer_configuration, sample.pads, 800)\n",
    "sample.add(chip_edge_ground)\n",
    "\n",
    "grid_ground = elements.GridGround(sample.chip_geometry, sample.layer_configuration, sample.objects, \n",
    "                                  width=4, period=50)\n",
    "sample.add(grid_ground)"
   ]
  },
  {
   "cell_type": "markdown",
   "metadata": {},
   "source": [
    "# Pads"
   ]
  },
  {
   "cell_type": "code",
   "execution_count": 14,
   "metadata": {},
   "outputs": [],
   "source": [
    "pads_left = []\n",
    "pads_right = []\n",
    "for pad_side_id in range(1):\n",
    "    pad = elements.Pad('pad-left-' + str(pad_side_id),\n",
    "                       (pad_offset, sample.chip_geometry.sample_vertical_size / 2), np.pi, tl_core,\n",
    "                       tl_gap, tl_ground,\n",
    "                       layer_configuration=sample.layer_configuration, chip_geometry=sample.chip_geometry,\n",
    "                       **elements.default_pad_geometry())\n",
    "    pads_left.append(pad)\n",
    "    sample.add(pad)\n",
    "    pad = elements.Pad('pad-right-' + str(pad_side_id),\n",
    "                       (sample.chip_geometry.sample_horizontal_size - pad_offset,\n",
    "                        sample.chip_geometry.sample_vertical_size / 2), 0, tl_core,\n",
    "                       tl_gap, tl_ground,\n",
    "                       layer_configuration=sample.layer_configuration, chip_geometry=sample.chip_geometry,\n",
    "                       **elements.default_pad_geometry())\n",
    "    pads_right.append(pad)\n",
    "    sample.add(pad)\n",
    "    \n",
    "pads_top = []\n",
    "pads_bottom = []\n",
    "for pad_side_id in range(3):\n",
    "    if pad_side_id != 1:\n",
    "        pad = elements.Pad('pad-bottom-' + str(pad_side_id),\n",
    "                           (sample.chip_geometry.sample_horizontal_size / 4 * (pad_side_id + 1), pad_offset),\n",
    "                           -np.pi / 2, tl_core, tl_gap, tl_ground,\n",
    "                           layer_configuration=sample.layer_configuration, chip_geometry=sample.chip_geometry,\n",
    "                           **elements.default_pad_geometry())\n",
    "        pads_bottom.append(pad)\n",
    "        sample.add(pad)\n",
    "        pad = elements.Pad('pad-top-' + str(pad_side_id),\n",
    "                           (sample.chip_geometry.sample_horizontal_size / 4 * (pad_side_id + 1),\n",
    "                            sample.chip_geometry.sample_vertical_size - pad_offset),\n",
    "                           np.pi / 2, tl_core, tl_gap, tl_ground,\n",
    "                           layer_configuration=sample.layer_configuration, chip_geometry=sample.chip_geometry,\n",
    "                           **elements.default_pad_geometry())\n",
    "        pads_top.append(pad)\n",
    "        sample.add(pad)\n",
    "\n",
    "    \n",
    "pad0 = pads_left[0]\n",
    "pad1 = pads_right[0]\n",
    "pad2 = pads_top[0]\n",
    "pad3 = pads_bottom[0]\n",
    "pad4 = pads_top[1]\n",
    "pad5 = pads_bottom[1]"
   ]
  },
  {
   "cell_type": "markdown",
   "metadata": {},
   "source": [
    "# Resonators"
   ]
  },
  {
   "cell_type": "code",
   "execution_count": 15,
   "metadata": {},
   "outputs": [
    {
     "data": {
      "text/plain": [
       "[CPW \"right TL\", l=7500.000]"
      ]
     },
     "execution_count": 15,
     "metadata": {},
     "output_type": "execute_result"
    }
   ],
   "source": [
    "sample.connect_cpw(pad0, pad1, port1='port', port2='port', name='right TL', points=[])"
   ]
  },
  {
   "cell_type": "code",
   "execution_count": 16,
   "metadata": {},
   "outputs": [
    {
     "data": {
      "text/plain": [
       "[CPW \"right TL\", l=9999.823]"
      ]
     },
     "execution_count": 16,
     "metadata": {},
     "output_type": "execute_result"
    }
   ],
   "source": [
    "top1 = (sample.chip_geometry.sample_horizontal_size / 4, \n",
    "        sample.chip_geometry.sample_vertical_size - pad_offset - 2635)\n",
    "\n",
    "top2 = (sample.chip_geometry.sample_horizontal_size / 4 * 3, \n",
    "        sample.chip_geometry.sample_vertical_size - pad_offset - 2635)\n",
    "\n",
    "sample.connect_cpw(pad2, pad4, port1='port', port2='port', name='right TL', points=[top1, top2])"
   ]
  },
  {
   "cell_type": "code",
   "execution_count": 17,
   "metadata": {},
   "outputs": [
    {
     "data": {
      "text/plain": [
       "[CPW \"right TL\", l=5499.823]"
      ]
     },
     "execution_count": 17,
     "metadata": {},
     "output_type": "execute_result"
    }
   ],
   "source": [
    "bot1 = (sample.chip_geometry.sample_horizontal_size / 4, \n",
    "        pad_offset + 385)\n",
    "\n",
    "bot2 = (sample.chip_geometry.sample_horizontal_size / 4 * 3, \n",
    "        pad_offset + 385)\n",
    "\n",
    "sample.connect_cpw(pad3, pad5, port1='port', port2='port', name='right TL', points=[bot1, bot2])"
   ]
  },
  {
   "cell_type": "code",
   "execution_count": 18,
   "metadata": {},
   "outputs": [],
   "source": [
    "sample.draw_design()\n",
    "sample.watch()"
   ]
  },
  {
   "cell_type": "code",
   "execution_count": 8,
   "metadata": {},
   "outputs": [
    {
     "name": "stdout",
     "output_type": "stream",
     "text": [
      "Gds file has been writen here:  C:\\Users\\avasi\\Documents\\GitHub\\QCreator\\designs\\SrTiO3_resonators/SrTiO3-resonators-2.gds\n"
     ]
    }
   ],
   "source": [
    "sample.write_to_gds()"
   ]
  },
  {
   "cell_type": "markdown",
   "metadata": {},
   "source": [
    "# Frequencies"
   ]
  },
  {
   "cell_type": "code",
   "execution_count": 19,
   "metadata": {},
   "outputs": [],
   "source": [
    "sys, connections, elements_ = sample.get_tls(cutoff=2e9)\n",
    "f, delta, modes = sys.get_modes()\n",
    "num_modes=18\n"
   ]
  },
  {
   "cell_type": "code",
   "execution_count": 20,
   "metadata": {},
   "outputs": [
    {
     "data": {
      "text/plain": [
       "(array([173.08249836, 230.6435637 , 318.99808874, 346.94137572,\n",
       "        452.25953661, 546.87941939, 551.95828655, 551.97469427,\n",
       "        574.81068909, 579.31028823, 587.71255304, 591.49895821,\n",
       "        616.35567465, 636.99427703, 637.00359021, 648.33951325,\n",
       "        648.35417372, 651.28016904]),\n",
       " array([ 3.74823626e+00,  4.97442958e+00,  7.44608143e+00,  3.84947362e+00,\n",
       "         4.99562831e+00, -2.58169855e-01,  4.37755068e+01, -3.62858957e+01,\n",
       "         1.89077057e+02, -1.89767291e+02,  3.45830079e+02, -3.47921126e+02,\n",
       "        -1.99410637e+00,  4.25371440e+02, -4.17875331e+02,  1.45402021e+02,\n",
       "        -1.31778442e+02,  2.76000355e+02]),\n",
       " array([ 3.67465299e+00,  3.68967564e+00,  3.40918396e+00,  7.17207603e+00,\n",
       "         7.20423302e+00, -1.68568408e+02,  1.00337947e+00, -1.21051857e+00,\n",
       "         2.41922431e-01, -2.42929367e-01,  1.35236007e-01, -1.35289260e-01,\n",
       "        -2.45964944e+01,  1.19167366e-01, -1.21306838e-01,  3.54831513e-01,\n",
       "        -3.91523721e-01,  1.87779574e-01, -1.94835261e-01]))"
      ]
     },
     "execution_count": 20,
     "metadata": {},
     "output_type": "execute_result"
    }
   ],
   "source": [
    "f[:num_modes]/(2e6*np.pi), delta[:num_modes]/(2e6*np.pi), f/(2*np.pi*2*delta)"
   ]
  },
  {
   "cell_type": "markdown",
   "metadata": {},
   "source": [
    "# S21"
   ]
  },
  {
   "cell_type": "code",
   "execution_count": 21,
   "metadata": {},
   "outputs": [
    {
     "name": "stderr",
     "output_type": "stream",
     "text": [
      "..\\..\\QCreator\\general_sample_creator.py:478: FutureWarning: `rcond` parameter will change to the default of machine precision times ``max(M, N)`` where M and N are the input matrix dimensions.\n",
      "To use the future default and silence this warning we advise to pass `rcond=None`, to keep using the old, explicitly pass `rcond=-1`.\n",
      "  s.append(np.linalg.lstsq(m, boundary)[0][a2[0]])\n",
      "C:\\Users\\avasi\\anaconda3\\lib\\site-packages\\numpy\\core\\_asarray.py:85: ComplexWarning: Casting complex values to real discards the imaginary part\n",
      "  return array(a, dtype, copy=False, order=order)\n",
      "C:\\Users\\avasi\\anaconda3\\lib\\site-packages\\numpy\\core\\_asarray.py:85: ComplexWarning: Casting complex values to real discards the imaginary part\n",
      "  return array(a, dtype, copy=False, order=order)\n",
      "C:\\Users\\avasi\\anaconda3\\lib\\site-packages\\numpy\\core\\_asarray.py:85: ComplexWarning: Casting complex values to real discards the imaginary part\n",
      "  return array(a, dtype, copy=False, order=order)\n"
     ]
    },
    {
     "data": {
      "text/plain": [
       "[<matplotlib.lines.Line2D at 0x26bac8610a0>]"
      ]
     },
     "execution_count": 21,
     "metadata": {},
     "output_type": "execute_result"
    },
    {
     "data": {
      "image/png": "[encoded data removed]",
      "text/plain": [
       "<Figure size 432x288 with 1 Axes>"
      ]
     },
     "metadata": {
      "needs_background": "light"
     },
     "output_type": "display_data"
    }
   ],
   "source": [
    "f_ = np.linspace(0.01e9, 1e9, 1601)\n",
    "# s11 = sample.get_s21('p1', 'p1', f_)\n",
    "s21 = sample.get_s21('pad-left-0', 'pad-right-0', f_)\n",
    "s212 = sample.get_s21('pad-top-0', 'pad-top-2', f_)\n",
    "s213 = sample.get_s21('pad-bottom-0', 'pad-bottom-2', f_)\n",
    "#plt.plot(f_, np.angle(s21))\n",
    "#plt.plot(f_, np.angle(s212))\n",
    "#plt.plot(f_, np.angle(s213))\n",
    "plt.plot(f_, s21)\n",
    "plt.plot(f_, s212)\n",
    "plt.plot(f_, s213)"
   ]
  },
  {
   "cell_type": "code",
   "execution_count": null,
   "metadata": {},
   "outputs": [],
   "source": []
  }
 ],
 "metadata": {
  "kernelspec": {
   "display_name": "Python 3",
   "language": "python",
   "name": "python3"
  },
  "language_info": {
   "codemirror_mode": {
    "name": "ipython",
    "version": 3
   },
   "file_extension": ".py",
   "mimetype": "text/x-python",
   "name": "python",
   "nbconvert_exporter": "python",
   "pygments_lexer": "ipython3",
   "version": "3.8.3"
  }
 },
 "nbformat": 4,
 "nbformat_minor": 4
}
