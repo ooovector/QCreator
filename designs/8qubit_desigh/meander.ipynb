{
 "cells": [
  {
   "cell_type": "markdown",
   "metadata": {},
   "source": [
    "# test"
   ]
  },
  {
   "cell_type": "code",
   "execution_count": 1,
   "metadata": {
    "ExecuteTime": {
     "end_time": "2021-12-28T13:08:07.633510Z",
     "start_time": "2021-12-28T13:08:06.924572Z"
    }
   },
   "outputs": [],
   "source": [
    "import sys\n",
    "from importlib import reload\n",
    "sys.path.append('../..')\n",
    "import gdspy\n",
    "import numpy as np\n",
    "from QCreator import elements\n",
    "from QCreator import general_sample_creator as creator\n",
    "from QCreator import meshing\n",
    "reload(gdspy)\n",
    "import QCreator.elements as elements"
   ]
  },
  {
   "cell_type": "code",
   "execution_count": 2,
   "metadata": {
    "ExecuteTime": {
     "end_time": "2021-12-28T13:08:07.640511Z",
     "start_time": "2021-12-28T13:08:07.635460Z"
    }
   },
   "outputs": [],
   "source": [
    "layers_configuration = {\n",
    "    'total':0,\n",
    "    'restricted area':10,\n",
    "    'for removing':100,\n",
    "    'JJs':1,\n",
    "    'air bridges':2,\n",
    "    'air bridge pads':3,\n",
    "    'air bridge sm pads':4,\n",
    "    'vertical gridlines':15,\n",
    "    'horizontal gridlines':16,\n",
    "    'inverted':17,\n",
    "    'bandages':20\n",
    "}\n",
    "\n",
    "sample = creator.Sample('meander_test',layers_configuration)"
   ]
  },
  {
   "cell_type": "code",
   "execution_count": 3,
   "metadata": {
    "ExecuteTime": {
     "end_time": "2021-12-28T13:08:08.780596Z",
     "start_time": "2021-12-28T13:08:08.778075Z"
    }
   },
   "outputs": [],
   "source": [
    "from QCreator.elements import meander, cpw"
   ]
  },
  {
   "cell_type": "code",
   "execution_count": 4,
   "metadata": {
    "ExecuteTime": {
     "end_time": "2021-12-27T22:20:23.313599Z",
     "start_time": "2021-12-27T22:20:23.306797Z"
    }
   },
   "outputs": [],
   "source": [
    "# # 2nd\n",
    "# name = 'test_meander'\n",
    "# begin_point = (1147, 2488)\n",
    "# begin_orientation = np.pi\n",
    "# end_point = (1131, 2956)\n",
    "# end_orientation = 0\n",
    "\n",
    "# meander_length = 2850\n",
    "# left_limit = 400\n",
    "# right_limit = 400\n",
    "# radius_limit = (50,80)\n",
    "# w = 10\n",
    "# s = 5\n",
    "# g = 20\n",
    "\n",
    "# horizontal up\n",
    "name = 'test_meander'\n",
    "begin_point = (1776, 2909)\n",
    "begin_orientation = np.pi/2\n",
    "end_point = (2710, 2909)\n",
    "end_orientation = np.pi/2\n",
    "\n",
    "meander_length = 3000\n",
    "left_limit = 100\n",
    "right_limit = 200\n",
    "radius_limit = (40,80)\n",
    "w = 8\n",
    "s = 7\n",
    "g = 20"
   ]
  },
  {
   "cell_type": "code",
   "execution_count": 5,
   "metadata": {
    "ExecuteTime": {
     "end_time": "2021-12-27T22:20:33.259560Z",
     "start_time": "2021-12-27T22:20:23.864808Z"
    }
   },
   "outputs": [],
   "source": [
    "meander_cpw = cpw.CPW(name='', points=[(100, 100), (350, 1000), (500, 1200)], w=5, s=6, g=3,\n",
    "                 layer_configuration=sample.layer_configuration, r=40)\n",
    "sample.add(meander_cpw)\n",
    "sample.draw_design()\n",
    "sample.watch()"
   ]
  },
  {
   "cell_type": "code",
   "execution_count": 6,
   "metadata": {
    "ExecuteTime": {
     "end_time": "2021-12-27T22:20:50.148176Z",
     "start_time": "2021-12-27T22:20:42.100596Z"
    }
   },
   "outputs": [
    {
     "name": "stdout",
     "output_type": "stream",
     "text": [
      "A_max, B_max 95.6 95.6\n",
      "A, K, B =  255.4793717955944 255.4793717955944 255.4793717955944\n",
      "A_max, B_max 122.28571428571429 122.28571428571429\n",
      "A, K, B =  191.60952884669584 191.60952884669584 191.60952884669584\n",
      "A_max, B_max 137.11111111111111 137.11111111111111\n",
      "A, K, B =  153.28762307735667 153.28762307735667 153.28762307735667\n",
      "A_max, B_max 146.54545454545456 146.54545454545456\n",
      "A, K, B =  127.73968589779723 127.73968589779723 127.73968589779723\n",
      "points [(1776, 2909), (1776.0, 3079.1942313523427), (1860.909090909091, 3079.1942313523427), (1860.909090909091, 2866.5454545454545), (1945.8181818181818, 2866.5454545454545), (1945.8181818181818, 3079.1942313523427), (2030.7272727272727, 3079.1942313523427), (2030.7272727272727, 2866.5454545454545), (2115.6363636363635, 2866.5454545454545), (2115.6363636363635, 3079.1942313523427), (2200.5454545454545, 3079.1942313523427), (2200.5454545454545, 2866.5454545454545), (2285.4545454545455, 2866.5454545454545), (2285.4545454545455, 3079.1942313523427), (2370.3636363636365, 3079.1942313523427), (2370.3636363636365, 2866.5454545454545), (2455.272727272727, 2866.5454545454545), (2455.272727272727, 3079.1942313523427), (2540.181818181818, 3079.1942313523427), (2540.181818181818, 2866.5454545454545), (2625.090909090909, 2866.5454545454545), (2625.090909090909, 3079.1942313523427), (2710.0, 3079.1942313523427), (2710, 2909)] real points [(1776, 2909), (1776.0, 3036.7396858977972), (1860.909090909091, 3036.7396858977972), (1860.909090909091, 2909.0), (1945.8181818181818, 2909.0), (1945.8181818181818, 3036.7396858977972), (2030.7272727272727, 3036.7396858977972), (2030.7272727272727, 2909.0), (2115.6363636363635, 2909.0), (2115.6363636363635, 3036.7396858977972), (2200.5454545454545, 3036.7396858977972), (2200.5454545454545, 2909.0), (2285.4545454545455, 2909.0), (2285.4545454545455, 3036.7396858977972), (2370.3636363636365, 3036.7396858977972), (2370.3636363636365, 2909.0), (2455.272727272727, 2909.0), (2455.272727272727, 3036.7396858977972), (2540.181818181818, 3036.7396858977972), (2540.181818181818, 2909.0), (2625.090909090909, 2909.0), (2625.090909090909, 3036.7396858977972), (2710.0, 3036.7396858977972), (2710, 2909)] 1.5707963267948966 1.5707963267948966\n"
     ]
    }
   ],
   "source": [
    "result, points, real_points, meander = meander.meander_creation2(name, begin_point, begin_orientation, end_point, end_orientation,\n",
    "                                                                 meander_length, left_limit, right_limit,\n",
    "                                                                 radius_limit, w, s, g,\n",
    "                                                                 sample.layer_configuration)\n",
    "sample.add(meander)\n",
    "sample.draw_design()\n",
    "sample.watch()"
   ]
  },
  {
   "cell_type": "code",
   "execution_count": 8,
   "metadata": {
    "ExecuteTime": {
     "end_time": "2021-12-27T21:55:42.278886Z",
     "start_time": "2021-12-27T21:55:42.259518Z"
    }
   },
   "outputs": [
    {
     "data": {
      "text/plain": [
       "[{'type': 'endpoint', 'endpoint': array([1147, 2488]), 'length': 0},\n",
       " {'type': 'segment',\n",
       "  'startpoint': array([1147, 2488]),\n",
       "  'endpoint': array([ 876.64158512, 2488.        ]),\n",
       "  'length': 270.35841488249855},\n",
       " {'type': 'turn',\n",
       "  'turn': -1.5707963267948966,\n",
       "  'startpoint': array([ 876.64158512, 2488.        ]),\n",
       "  'endpoint': array([ 818.14158512, 2546.5       ]),\n",
       "  'length': 91.89158511750145,\n",
       "  'instead_point': array([ 818.14158512, 2488.        ]),\n",
       "  'direction1': array([-1.,  0.]),\n",
       "  'direction2': array([ 0., -1.]),\n",
       "  'normal1': array([0., 1.]),\n",
       "  'normal2': array([1., 0.]),\n",
       "  'center': array([ 876.64158512, 2546.5       ]),\n",
       "  'start_angle': 1.5707963267948966,\n",
       "  'end_angle': 0.0},\n",
       " {'type': 'turn',\n",
       "  'turn': -1.5707963267948966,\n",
       "  'startpoint': array([ 818.14158512, 2546.5       ]),\n",
       "  'endpoint': array([ 876.64158512, 2605.        ]),\n",
       "  'length': 91.89158511750145,\n",
       "  'instead_point': array([ 818.14158512, 2605.        ]),\n",
       "  'direction1': array([0., 1.]),\n",
       "  'direction2': array([-1.,  0.]),\n",
       "  'normal1': array([ 1., -0.]),\n",
       "  'normal2': array([-0., -1.]),\n",
       "  'center': array([ 876.64158512, 2546.5       ]),\n",
       "  'start_angle': -0.0,\n",
       "  'end_angle': -1.5707963267948966},\n",
       " {'type': 'segment',\n",
       "  'startpoint': array([ 876.64158512, 2605.        ]),\n",
       "  'endpoint': array([1401.35841488, 2605.        ]),\n",
       "  'length': 524.716829764997},\n",
       " {'type': 'turn',\n",
       "  'turn': 1.5707963267948966,\n",
       "  'startpoint': array([1401.35841488, 2605.        ]),\n",
       "  'endpoint': array([1459.85841488, 2663.5       ]),\n",
       "  'length': 91.89158511750145,\n",
       "  'instead_point': array([1459.85841488, 2605.        ]),\n",
       "  'direction1': array([1., 0.]),\n",
       "  'direction2': array([ 0., -1.]),\n",
       "  'normal1': array([-0.,  1.]),\n",
       "  'normal2': array([-1., -0.]),\n",
       "  'center': array([1401.35841488, 2663.5       ]),\n",
       "  'start_angle': 1.5707963267948966,\n",
       "  'end_angle': 3.141592653589793},\n",
       " {'type': 'turn',\n",
       "  'turn': 1.5707963267948966,\n",
       "  'startpoint': array([1459.85841488, 2663.5       ]),\n",
       "  'endpoint': array([1401.35841488, 2722.        ]),\n",
       "  'length': 91.89158511750145,\n",
       "  'instead_point': array([1459.85841488, 2722.        ]),\n",
       "  'direction1': array([0., 1.]),\n",
       "  'direction2': array([1., 0.]),\n",
       "  'normal1': array([-1.,  0.]),\n",
       "  'normal2': array([ 0., -1.]),\n",
       "  'center': array([1401.35841488, 2663.5       ]),\n",
       "  'start_angle': 3.141592653589793,\n",
       "  'end_angle': 4.71238898038469},\n",
       " {'type': 'segment',\n",
       "  'startpoint': array([1401.35841488, 2722.        ]),\n",
       "  'endpoint': array([ 876.64158512, 2722.        ]),\n",
       "  'length': 524.716829764997},\n",
       " {'type': 'turn',\n",
       "  'turn': -1.5707963267948966,\n",
       "  'startpoint': array([ 876.64158512, 2722.        ]),\n",
       "  'endpoint': array([ 818.14158512, 2780.5       ]),\n",
       "  'length': 91.89158511750145,\n",
       "  'instead_point': array([ 818.14158512, 2722.        ]),\n",
       "  'direction1': array([-1.,  0.]),\n",
       "  'direction2': array([ 0., -1.]),\n",
       "  'normal1': array([0., 1.]),\n",
       "  'normal2': array([1., 0.]),\n",
       "  'center': array([ 876.64158512, 2780.5       ]),\n",
       "  'start_angle': 1.5707963267948966,\n",
       "  'end_angle': 0.0},\n",
       " {'type': 'turn',\n",
       "  'turn': -1.5707963267948966,\n",
       "  'startpoint': array([ 818.14158512, 2780.5       ]),\n",
       "  'endpoint': array([ 876.64158512, 2839.        ]),\n",
       "  'length': 91.89158511750145,\n",
       "  'instead_point': array([ 818.14158512, 2839.        ]),\n",
       "  'direction1': array([0., 1.]),\n",
       "  'direction2': array([-1.,  0.]),\n",
       "  'normal1': array([ 1., -0.]),\n",
       "  'normal2': array([-0., -1.]),\n",
       "  'center': array([ 876.64158512, 2780.5       ]),\n",
       "  'start_angle': -0.0,\n",
       "  'end_angle': -1.5707963267948966},\n",
       " {'type': 'segment',\n",
       "  'startpoint': array([ 876.64158512, 2839.        ]),\n",
       "  'endpoint': array([1401.35841488, 2839.        ]),\n",
       "  'length': 524.716829764997},\n",
       " {'type': 'turn',\n",
       "  'turn': 1.5707963267948966,\n",
       "  'startpoint': array([1401.35841488, 2839.        ]),\n",
       "  'endpoint': array([1459.85841488, 2897.5       ]),\n",
       "  'length': 91.89158511750145,\n",
       "  'instead_point': array([1459.85841488, 2839.        ]),\n",
       "  'direction1': array([1., 0.]),\n",
       "  'direction2': array([ 0., -1.]),\n",
       "  'normal1': array([-0.,  1.]),\n",
       "  'normal2': array([-1., -0.]),\n",
       "  'center': array([1401.35841488, 2897.5       ]),\n",
       "  'start_angle': 1.5707963267948966,\n",
       "  'end_angle': 3.141592653589793},\n",
       " {'type': 'turn',\n",
       "  'turn': 1.5707963267948966,\n",
       "  'startpoint': array([1459.85841488, 2897.5       ]),\n",
       "  'endpoint': array([1401.35841488, 2956.        ]),\n",
       "  'length': 91.89158511750145,\n",
       "  'instead_point': array([1459.85841488, 2956.        ]),\n",
       "  'direction1': array([0., 1.]),\n",
       "  'direction2': array([1., 0.]),\n",
       "  'normal1': array([-1.,  0.]),\n",
       "  'normal2': array([ 0., -1.]),\n",
       "  'center': array([1401.35841488, 2897.5       ]),\n",
       "  'start_angle': 3.141592653589793,\n",
       "  'end_angle': 4.71238898038469},\n",
       " {'type': 'endpoint',\n",
       "  'endpoint': array([1131, 2956]),\n",
       "  'length': 270.35841488249844,\n",
       "  'startpoint': array([1401.35841488, 2956.        ])}]"
      ]
     },
     "execution_count": 8,
     "metadata": {},
     "output_type": "execute_result"
    }
   ],
   "source": [
    "meander.segments"
   ]
  },
  {
   "cell_type": "code",
   "execution_count": null,
   "metadata": {},
   "outputs": [],
   "source": []
  },
  {
   "cell_type": "code",
   "execution_count": 9,
   "metadata": {
    "ExecuteTime": {
     "end_time": "2021-12-27T21:56:41.018175Z",
     "start_time": "2021-12-27T21:55:44.755269Z"
    }
   },
   "outputs": [],
   "source": [
    "sample.watch()"
   ]
  },
  {
   "cell_type": "code",
   "execution_count": 7,
   "metadata": {
    "ExecuteTime": {
     "end_time": "2021-12-27T19:30:15.101152Z",
     "start_time": "2021-12-27T19:30:14.946912Z"
    }
   },
   "outputs": [
    {
     "name": "stdout",
     "output_type": "stream",
     "text": [
      "Gds file has been writen here:  /home/alena/QCreator/designs/8qubit_desigh/meander_test.gds\n"
     ]
    }
   ],
   "source": [
    "sample.write_to_gds()"
   ]
  },
  {
   "cell_type": "code",
   "execution_count": 6,
   "metadata": {
    "ExecuteTime": {
     "end_time": "2021-12-27T19:39:54.304231Z",
     "start_time": "2021-12-27T19:39:54.300754Z"
    }
   },
   "outputs": [],
   "source": [
    "# horizontal up\n",
    "name = 'test_meander'\n",
    "begin_point = (1776, 2909)\n",
    "begin_orientation = np.pi/2\n",
    "end_point = (2710, 2909)\n",
    "end_orientation = np.pi/2\n",
    "\n",
    "meander_length = 3000\n",
    "left_limit = 100\n",
    "right_limit = 200\n",
    "radius_limit = (40,80)\n",
    "w = 8\n",
    "s = 7\n",
    "g = 20"
   ]
  },
  {
   "cell_type": "code",
   "execution_count": 7,
   "metadata": {
    "ExecuteTime": {
     "end_time": "2021-12-28T13:23:06.172234Z",
     "start_time": "2021-12-28T13:09:21.903685Z"
    }
   },
   "outputs": [
    {
     "name": "stdout",
     "output_type": "stream",
     "text": [
      "A_max, B_max 674.5 96.5\n",
      "1551.2876411639686\n",
      "A, K, B =  674.4999999999999 1329.2876411639686 96.49999999999999\n",
      "A_max, B_max 731.75 153.75\n",
      "886.6438205819843\n",
      "A, K, B =  731.7499999999999 664.6438205819843 153.74999999999997\n",
      "A_max, B_max 750.8333333333334 172.83333333333334\n",
      "665.0958803879896\n",
      "A, K, B =  563.7115634493812 443.09588038798955 101.38431693860839\n",
      "points [(800, 2700), (800.0, 3301.8782301160477), (876.3333333333334, 3301.8782301160477), (876.3333333333334, 2782.449016394725), (952.6666666666666, 2782.449016394725), (952.6666666666666, 3301.8782301160477), (1029.0, 3301.8782301160477), (1029.0, 2782.449016394725), (1105.3333333333333, 2782.449016394725), (1105.3333333333333, 3301.8782301160477), (1181.6666666666665, 3301.8782301160477), (1181.6666666666665, 2782.449016394725), (1257.9999999999998, 2782.449016394725), (1258, 2922)] real points [(800, 2700), (800.0, 3263.711563449381), (876.3333333333334, 3263.711563449381), (876.3333333333334, 2820.615683061392), (952.6666666666666, 2820.615683061392), (952.6666666666666, 3263.711563449381), (1029.0, 3263.711563449381), (1029.0, 2820.615683061392), (1105.3333333333333, 2820.615683061392), (1105.3333333333333, 3263.711563449381), (1181.6666666666665, 3263.711563449381), (1181.6666666666665, 2820.615683061392), (1258.0, 2820.615683061392), (1258, 2922)] 1.5707963267948966 -1.5707963267948966\n"
     ]
    }
   ],
   "source": [
    "result, points, real_points, meander = meander.meander_creation2(name, begin_point, begin_orientation, end_point, end_orientation,\n",
    "                                                                 meander_length, left_limit, right_limit,\n",
    "                                                                 radius_limit, w, s, g,\n",
    "                                                                 sample.layer_configuration)\n",
    "sample.add(meander)\n",
    "sample.draw_design()\n",
    "sample.watch()"
   ]
  },
  {
   "cell_type": "code",
   "execution_count": 6,
   "metadata": {
    "ExecuteTime": {
     "end_time": "2021-12-27T19:32:21.806468Z",
     "start_time": "2021-12-27T19:32:21.802682Z"
    }
   },
   "outputs": [],
   "source": [
    "# 5th\n",
    "name = 'test_meander'\n",
    "begin_point = (2980, 2210)\n",
    "begin_orientation = 0\n",
    "end_point = (2511, 1866)\n",
    "end_orientation = 0\n",
    "meander_length = 2400\n",
    "left_limit = 600\n",
    "right_limit = 300\n",
    "radius_limit = (50,80)\n",
    "w = 10\n",
    "s = 5\n",
    "g = 20"
   ]
  },
  {
   "cell_type": "code",
   "execution_count": 6,
   "metadata": {
    "ExecuteTime": {
     "end_time": "2021-12-23T19:53:13.890345Z",
     "start_time": "2021-12-23T19:53:13.885747Z"
    }
   },
   "outputs": [],
   "source": [
    "# 2nd\n",
    "name = 'test_meander'\n",
    "begin_point = (1147, 2488)\n",
    "begin_orientation = np.pi\n",
    "end_point = (1131, 2956)\n",
    "end_orientation = 0\n",
    "\n",
    "meander_length = 2850\n",
    "left_limit = 400\n",
    "right_limit = 400\n",
    "radius_limit = (50,80)\n",
    "w = 10\n",
    "s = 5\n",
    "g = 20"
   ]
  },
  {
   "cell_type": "code",
   "execution_count": 10,
   "metadata": {
    "ExecuteTime": {
     "end_time": "2021-12-23T21:01:58.001279Z",
     "start_time": "2021-12-23T21:01:57.991602Z"
    }
   },
   "outputs": [],
   "source": [
    "# horizontal down\n",
    "name = 'test_meander'\n",
    "begin_point = (2753,1901)\n",
    "begin_orientation = -np.pi/2\n",
    "end_point = (1988, 1901)\n",
    "end_orientation = -np.pi/2\n",
    "\n",
    "meander_length = 3100\n",
    "left_limit = 350\n",
    "right_limit = 0\n",
    "radius_limit = (50,80)\n",
    "w = 8\n",
    "s = 7\n",
    "g = 20"
   ]
  },
  {
   "cell_type": "code",
   "execution_count": 4,
   "metadata": {
    "ExecuteTime": {
     "end_time": "2021-12-23T21:05:05.668456Z",
     "start_time": "2021-12-23T21:05:05.663123Z"
    }
   },
   "outputs": [],
   "source": [
    "# horizontal up\n",
    "name = 'test_meander'\n",
    "begin_point = (1776, 2909)\n",
    "begin_orientation = np.pi/2\n",
    "end_point = (2710, 2909)\n",
    "end_orientation = np.pi/2\n",
    "\n",
    "meander_length = 3000\n",
    "left_limit = 100\n",
    "right_limit = 200\n",
    "radius_limit = (40,80)\n",
    "w = 8\n",
    "s = 7\n",
    "g = 20"
   ]
  },
  {
   "cell_type": "code",
   "execution_count": 6,
   "metadata": {
    "ExecuteTime": {
     "end_time": "2021-12-28T13:09:18.526631Z",
     "start_time": "2021-12-28T13:09:18.522498Z"
    }
   },
   "outputs": [],
   "source": [
    "# horizontal up, diff orientation\n",
    "name = 'test_meander'\n",
    "begin_point = (800, 2700)\n",
    "begin_orientation = np.pi/2\n",
    "end_point = (1258, 2922)\n",
    "end_orientation = -np.pi/2\n",
    "\n",
    "meander_length = 3600\n",
    "left_limit = 0\n",
    "right_limit =800\n",
    "radius_limit = (30,90)\n",
    "w = 8\n",
    "s = 7\n",
    "g = 20"
   ]
  },
  {
   "cell_type": "code",
   "execution_count": 6,
   "metadata": {
    "ExecuteTime": {
     "end_time": "2021-12-24T14:05:12.433959Z",
     "start_time": "2021-12-24T14:05:09.145928Z"
    }
   },
   "outputs": [
    {
     "name": "stdout",
     "output_type": "stream",
     "text": [
      "A_max, B_max 394.3333333333333 298.3333333333333\n",
      "A, K, B =  548.5907271049323 548.5907271049323 452.5907271049323\n",
      "A_max, B_max 432.6 336.6\n",
      "A, K, B =  365.7271514032882 365.7271514032882 269.7271514032882\n",
      "points [(1141, 2208), (717.8728485967118, 2208.0), (717.8728485967118, 2093.2), (1198.4, 2093.2), (1198.4, 1978.4), (717.8728485967118, 1978.4), (717.8728485967118, 1863.6), (1198.4, 1863.6), (1198.4, 1748.8), (717.8728485967118, 1748.8), (717.8728485967118, 1634.0), (1045, 1634)] real points [(1141, 2208), (775.2728485967118, 2208.0), (775.2728485967118, 2093.2), (1141.0, 2093.2), (1141.0, 1978.4), (775.2728485967118, 1978.4), (775.2728485967118, 1863.6), (1141.0, 1863.6), (1141.0, 1748.8), (775.2728485967118, 1748.8), (775.2728485967118, 1634.0), (1045, 1634)] 3.141592653589793 3.141592653589793\n"
     ]
    }
   ],
   "source": [
    "result, points, real_points, meander = meander.meander_creation2(name, begin_point, begin_orientation, end_point, end_orientation,\n",
    "                                                                 meander_length, left_limit, right_limit,\n",
    "                                                                 radius_limit, w, s, g,\n",
    "                                                                 sample.layer_configuration)\n",
    "sample.add(meander)\n",
    "sample.draw_design()\n",
    "sample.watch()"
   ]
  },
  {
   "cell_type": "code",
   "execution_count": 10,
   "metadata": {
    "ExecuteTime": {
     "end_time": "2021-12-24T14:03:59.765542Z",
     "start_time": "2021-12-24T14:03:52.458688Z"
    }
   },
   "outputs": [],
   "source": [
    "sample.watch()"
   ]
  },
  {
   "cell_type": "code",
   "execution_count": 7,
   "metadata": {
    "ExecuteTime": {
     "end_time": "2021-12-24T14:05:20.644726Z",
     "start_time": "2021-12-24T14:05:20.635956Z"
    }
   },
   "outputs": [
    {
     "data": {
      "text/plain": [
       "[(1141, 2208),\n",
       " (775.2728485967118, 2208.0),\n",
       " (775.2728485967118, 2093.2),\n",
       " (1141.0, 2093.2),\n",
       " (1141.0, 1978.4),\n",
       " (775.2728485967118, 1978.4),\n",
       " (775.2728485967118, 1863.6),\n",
       " (1141.0, 1863.6),\n",
       " (1141.0, 1748.8),\n",
       " (775.2728485967118, 1748.8),\n",
       " (775.2728485967118, 1634.0),\n",
       " (1045, 1634)]"
      ]
     },
     "execution_count": 7,
     "metadata": {},
     "output_type": "execute_result"
    }
   ],
   "source": [
    "real_points"
   ]
  },
  {
   "cell_type": "code",
   "execution_count": 13,
   "metadata": {
    "ExecuteTime": {
     "end_time": "2021-12-24T14:06:10.029532Z",
     "start_time": "2021-12-24T14:06:10.022890Z"
    }
   },
   "outputs": [
    {
     "data": {
      "text/plain": [
       "57.4"
      ]
     },
     "execution_count": 13,
     "metadata": {},
     "output_type": "execute_result"
    }
   ],
   "source": [
    "result[0][-1]"
   ]
  },
  {
   "cell_type": "code",
   "execution_count": null,
   "metadata": {},
   "outputs": [],
   "source": []
  },
  {
   "cell_type": "code",
   "execution_count": 20,
   "metadata": {
    "ExecuteTime": {
     "end_time": "2021-12-24T14:08:48.426763Z",
     "start_time": "2021-12-24T14:08:48.419617Z"
    }
   },
   "outputs": [],
   "source": [
    "elem = cpw.CPW('', [(775.2728485967118, 2208.0),\n",
    "                    (775.2728485967118, 2093.2)], w, s, g,\n",
    "               sample.layer_configuration, result[0][-1], 'round')"
   ]
  },
  {
   "cell_type": "code",
   "execution_count": 21,
   "metadata": {
    "ExecuteTime": {
     "end_time": "2021-12-24T14:08:49.069935Z",
     "start_time": "2021-12-24T14:08:49.065065Z"
    }
   },
   "outputs": [],
   "source": [
    "sample.add(elem)"
   ]
  },
  {
   "cell_type": "code",
   "execution_count": 22,
   "metadata": {
    "ExecuteTime": {
     "end_time": "2021-12-24T14:09:03.227454Z",
     "start_time": "2021-12-24T14:08:49.407816Z"
    }
   },
   "outputs": [],
   "source": [
    "sample.draw_design()\n",
    "sample.watch()"
   ]
  },
  {
   "cell_type": "code",
   "execution_count": 24,
   "metadata": {
    "ExecuteTime": {
     "end_time": "2021-12-24T14:18:49.771477Z",
     "start_time": "2021-12-24T14:18:49.763521Z"
    }
   },
   "outputs": [
    {
     "data": {
      "text/plain": [
       "114.8"
      ]
     },
     "execution_count": 24,
     "metadata": {},
     "output_type": "execute_result"
    }
   ],
   "source": [
    "result[0][-1] * 2"
   ]
  },
  {
   "cell_type": "code",
   "execution_count": 25,
   "metadata": {
    "ExecuteTime": {
     "end_time": "2021-12-24T14:19:12.690029Z",
     "start_time": "2021-12-24T14:18:53.796223Z"
    }
   },
   "outputs": [],
   "source": [
    "sample.watch()"
   ]
  },
  {
   "cell_type": "code",
   "execution_count": 11,
   "metadata": {
    "ExecuteTime": {
     "end_time": "2021-12-23T13:16:32.140833Z",
     "start_time": "2021-12-23T13:16:32.137166Z"
    }
   },
   "outputs": [],
   "source": [
    "cpw = meander[-1]"
   ]
  },
  {
   "cell_type": "code",
   "execution_count": 12,
   "metadata": {
    "ExecuteTime": {
     "end_time": "2021-12-23T13:16:32.642637Z",
     "start_time": "2021-12-23T13:16:32.631304Z"
    }
   },
   "outputs": [
    {
     "data": {
      "text/plain": [
       "{'port1': Type: cpw, Position: (1147, 2488), Orientation: 3.142\n",
       " w: 10, s: 5, g: 20\n",
       " reversed: False,\n",
       " 'port2': Type: cpw, Position: (1131, 2956), Orientation: 0\n",
       " w: 10, s: 5, g: 20\n",
       " reversed: True}"
      ]
     },
     "execution_count": 12,
     "metadata": {},
     "output_type": "execute_result"
    }
   ],
   "source": [
    "cpw.get_terminals()"
   ]
  },
  {
   "cell_type": "code",
   "execution_count": 6,
   "metadata": {},
   "outputs": [
    {
     "data": {
      "text/plain": [
       "([[731.7499999999999, 664.6438205819843, 153.74999999999997, 4.0, 57.25]],\n",
       " [(800, 2700),\n",
       "  (800.0, 3489.0),\n",
       "  (914.5, 3489.0),\n",
       "  (914.5, 2709.856179418016),\n",
       "  (1029.0, 2709.856179418016),\n",
       "  (1029.0, 3489.0),\n",
       "  (1143.5, 3489.0),\n",
       "  (1143.5, 2709.856179418016),\n",
       "  (1258.0, 2709.856179418016),\n",
       "  (1258, 2922)],\n",
       " CPW \"test_meander\", l=3600.000)"
      ]
     },
     "execution_count": 6,
     "metadata": {},
     "output_type": "execute_result"
    }
   ],
   "source": [
    "meander"
   ]
  },
  {
   "cell_type": "code",
   "execution_count": 8,
   "metadata": {
    "ExecuteTime": {
     "end_time": "2021-12-23T13:21:50.507142Z",
     "start_time": "2021-12-23T13:21:50.504318Z"
    }
   },
   "outputs": [],
   "source": []
  },
  {
   "cell_type": "code",
   "execution_count": 9,
   "metadata": {
    "ExecuteTime": {
     "end_time": "2021-12-23T13:21:51.106501Z",
     "start_time": "2021-12-23T13:21:50.980041Z"
    }
   },
   "outputs": [],
   "source": [
    "sample.draw_design()"
   ]
  },
  {
   "cell_type": "code",
   "execution_count": 10,
   "metadata": {
    "ExecuteTime": {
     "end_time": "2021-12-23T13:37:05.482209Z",
     "start_time": "2021-12-23T13:21:51.423234Z"
    }
   },
   "outputs": [],
   "source": [
    "sample.watch()"
   ]
  },
  {
   "cell_type": "code",
   "execution_count": 9,
   "metadata": {},
   "outputs": [
    {
     "data": {
      "text/plain": [
       "27.388535031847134"
      ]
     },
     "execution_count": 9,
     "metadata": {},
     "output_type": "execute_result"
    }
   ],
   "source": [
    "86/3.14"
   ]
  },
  {
   "cell_type": "code",
   "execution_count": 10,
   "metadata": {},
   "outputs": [
    {
     "data": {
      "text/plain": [
       "[(2753, 1901),\n",
       " (2753, 2192.9354583930954),\n",
       " (2643.714285714286, 2192.9354583930954),\n",
       " (2643.714285714286, 1846.3571428571431),\n",
       " (2534.4285714285716, 1846.3571428571431),\n",
       " (2534.4285714285716, 2192.9354583930954),\n",
       " (2425.142857142857, 2192.9354583930954),\n",
       " (2425.142857142857, 1846.3571428571431),\n",
       " (2315.8571428571427, 1846.3571428571431),\n",
       " (2315.8571428571427, 2192.9354583930954),\n",
       " (2206.5714285714284, 2192.9354583930954),\n",
       " (2206.5714285714284, 1846.3571428571431),\n",
       " (2097.285714285714, 1846.3571428571431),\n",
       " (2097.285714285714, 2192.9354583930954),\n",
       " (1988, 2192.9354583930954),\n",
       " (1988, 1901)]"
      ]
     },
     "execution_count": 10,
     "metadata": {},
     "output_type": "execute_result"
    }
   ],
   "source": [
    "points = meander[1]\n",
    "points"
   ]
  },
  {
   "cell_type": "code",
   "execution_count": 14,
   "metadata": {
    "collapsed": true
   },
   "outputs": [],
   "source": [
    "rotated_points = []\n",
    "for i in points:\n",
    "    i = i[::-1]\n",
    "    rotated_points.append(i)\n",
    "    "
   ]
  },
  {
   "cell_type": "code",
   "execution_count": 15,
   "metadata": {},
   "outputs": [
    {
     "data": {
      "text/plain": [
       "[(2753, 1901),\n",
       " (2753, 2293.8901350003175),\n",
       " (2600.0, 2293.8901350003175),\n",
       " (2600.0, 1824.5000000000002),\n",
       " (2447.0, 1824.5000000000002),\n",
       " (2447.0, 2293.8901350003175),\n",
       " (2294.0, 2293.8901350003175),\n",
       " (2294.0, 1824.5000000000002),\n",
       " (2141.0, 1824.5000000000002),\n",
       " (2141.0, 2293.8901350003175),\n",
       " (1988, 2293.8901350003175),\n",
       " (1988, 1901)]"
      ]
     },
     "execution_count": 15,
     "metadata": {},
     "output_type": "execute_result"
    }
   ],
   "source": [
    "rotated_points"
   ]
  },
  {
   "cell_type": "markdown",
   "metadata": {},
   "source": [
    "# scipy"
   ]
  },
  {
   "cell_type": "code",
   "execution_count": 1,
   "metadata": {
    "collapsed": true
   },
   "outputs": [],
   "source": [
    "import scipy"
   ]
  },
  {
   "cell_type": "code",
   "execution_count": 18,
   "metadata": {
    "collapsed": true
   },
   "outputs": [],
   "source": [
    "from scipy import optimize as opt"
   ]
  },
  {
   "cell_type": "code",
   "execution_count": 20,
   "metadata": {},
   "outputs": [],
   "source": [
    "A = [1, 1]\n",
    "res = opt.lsq_linear(A, 5, bounds=([0,0], [3, 3]))"
   ]
  },
  {
   "cell_type": "code",
   "execution_count": 22,
   "metadata": {},
   "outputs": [
    {
     "data": {
      "text/plain": [
       "array([2.5, 2.5])"
      ]
     },
     "execution_count": 22,
     "metadata": {},
     "output_type": "execute_result"
    }
   ],
   "source": [
    "res.x"
   ]
  },
  {
   "cell_type": "code",
   "execution_count": null,
   "metadata": {
    "collapsed": true
   },
   "outputs": [],
   "source": [
    "res = opt.lsq_linear(A, l(L, n, r), bounds=([1,1,1], [A_constraint(lim_r, lim_l, a1, r, w, s),B_constraint(lim_r, lim_l, a1, r, w, s, x_e, x_b),K_constraint(lim_r, lim_l, r, w, s)]), lsmr_tol='auto', verbose=1)"
   ]
  },
  {
   "cell_type": "code",
   "execution_count": 3,
   "metadata": {
    "collapsed": true
   },
   "outputs": [],
   "source": [
    "# A = [1,1, n-1]"
   ]
  },
  {
   "cell_type": "code",
   "execution_count": 4,
   "metadata": {
    "collapsed": true
   },
   "outputs": [],
   "source": [
    "# res = opt.lsq_linear(A, l(L, n, r), bounds=([1,1,1], [A_constraint(lim_r, lim_l, a1, r, w, s),B_constraint(lim_r, lim_l, a1, r, w, s, x_e, x_b),K_constraint(lim_r, lim_l, r, w, s)]), lsmr_tol='auto', verbose=1)"
   ]
  },
  {
   "cell_type": "code",
   "execution_count": 5,
   "metadata": {
    "collapsed": true
   },
   "outputs": [],
   "source": [
    "import numpy as np\n",
    "def l(L, n, r):\n",
    "    l=L - n*np.pi*r\n",
    "    return l\n",
    "def span(lim_r, lim_l):\n",
    "    span = lim_r+lim_l\n",
    "    return span"
   ]
  },
  {
   "cell_type": "code",
   "execution_count": 20,
   "metadata": {
    "collapsed": true
   },
   "outputs": [],
   "source": [
    "lim_r = 500\n",
    "lim_l = 500\n",
    "a1 = np.pi\n",
    "a2 = 0#np.pi\n",
    "# r = 50\n",
    "w = 10\n",
    "s = 6\n",
    "g=6\n",
    "x_e = 700\n",
    "x_b = 500\n",
    "y_e = 1000\n",
    "y_b = 500\n",
    "L= 2500"
   ]
  },
  {
   "cell_type": "code",
   "execution_count": 7,
   "metadata": {
    "collapsed": true
   },
   "outputs": [],
   "source": [
    "def A_constraint(lim_r, lim_l, a1, r, w, s):\n",
    "    A_constraint = lim_r*(1+np.cos(a1))/2 + lim_l*(1-np.cos(a1))/2 - (r+w/2+s)\n",
    "    return A_constraint\n",
    "def B_constraint(lim_r, lim_l,a2, r, w, s, x_e, x_b):\n",
    "    B_constraint = (lim_r-(x_e-x_b))*(1+np.cos(a2))/2 + (lim_l+(x_e-x_b))*(1-np.cos(a2))/2 - (r+w/2+s)\n",
    "    return B_constraint\n",
    "# def K_constraint(lim_r, lim_l, r, w, s):\n",
    "#     K_constraint = lim_l+lim_r-2*(r+w/2+s)\n",
    "#     return K_constraint\n",
    "# def n_constraint(y_b, y_e, r):\n",
    "#     N_max = np.abs(y_b - y_e)/2/r\n",
    "#     return N_max"
   ]
  },
  {
   "cell_type": "code",
   "execution_count": 13,
   "metadata": {
    "collapsed": true
   },
   "outputs": [],
   "source": [
    "r_lims = (20, 100)\n",
    "delta_y = y_e-y_b\n",
    "delta_x = x_e-x_b"
   ]
  },
  {
   "cell_type": "code",
   "execution_count": 9,
   "metadata": {
    "collapsed": true
   },
   "outputs": [],
   "source": [
    "def n_max(r_lims, delta_y):\n",
    "    n_max = np.abs(delta_y)/2/r_lims[0]\n",
    "    return np.int(n_max)"
   ]
  },
  {
   "cell_type": "code",
   "execution_count": 18,
   "metadata": {
    "collapsed": true
   },
   "outputs": [],
   "source": [
    "#идея Ильи \n",
    "def meander_func(n_max, L, delta_x, delta_y, a1, a2, lim_l, lim_r, w, s):\n",
    "    result = []\n",
    "    for n in np.linspace(1, n_max, n_max):\n",
    "        if np.cos(a1)==np.cos(a2) and n%2!=0:\n",
    "            pass\n",
    "        elif np.cos(a1)!=np.cos(a2) and n%2==0:\n",
    "            pass\n",
    "        else:\n",
    "            continue\n",
    "        r = np.abs(delta_y)/2/n\n",
    "        A_max = A_constraint(lim_r, lim_l, a1, r, w, s)\n",
    "        B_max = B_constraint(lim_r, lim_l,a2, r, w, s, x_e, x_b)\n",
    "        if np.cos(a1)!=np.cos(a2):\n",
    "            if n!=0:\n",
    "                K = (L - delta_x*np.cos(a1))/n - np.pi*r\n",
    "                A = (K + delta_x*np.cos(a1))/2\n",
    "                B = A\n",
    "                \n",
    "            if n==0:\n",
    "                A=L\n",
    "                B=0\n",
    "                K=0\n",
    "        if np.cos(a1)==np.cos(a2):\n",
    "            if n!=1:\n",
    "                K = (L-n*np.pi*r)/(n+1) + np.abs(delta_x*np.cos(a1))/(n+1)\n",
    "                if delta_x*np.cos(a1)>0: #A>B\n",
    "                    A=K\n",
    "                    B=A-delta_x*np.cos(a1)\n",
    "                else:\n",
    "                    B=K\n",
    "                    A=B+delta_x*np.cos(a1)\n",
    "            else:\n",
    "                A=(L-np.pi*r)/2\n",
    "                B=A\n",
    "                K=0\n",
    "\n",
    "        if (A<=A_max) and (B<=B_max):\n",
    "            result.append([A, K, B, n, r])\n",
    "    return result "
   ]
  },
  {
   "cell_type": "code",
   "execution_count": 29,
   "metadata": {
    "collapsed": true
   },
   "outputs": [],
   "source": [
    "a=0\n",
    "b=np.pi\n",
    "c= np.pi/2\n",
    "d = 3*np.pi/2"
   ]
  },
  {
   "cell_type": "code",
   "execution_count": 30,
   "metadata": {},
   "outputs": [
    {
     "data": {
      "text/plain": [
       "(0.0, 1.0, 0.0, 1.0)"
      ]
     },
     "execution_count": 30,
     "metadata": {},
     "output_type": "execute_result"
    }
   ],
   "source": [
    "a//np.pi, b//np.pi, c//np.pi, d//np.pi"
   ]
  },
  {
   "cell_type": "code",
   "execution_count": 31,
   "metadata": {},
   "outputs": [
    {
     "data": {
      "text/plain": [
       "(0.0, 0.0, 1.5707963267948966, 1.5707963267948966)"
      ]
     },
     "execution_count": 31,
     "metadata": {},
     "output_type": "execute_result"
    }
   ],
   "source": [
    "a%np.pi, b%np.pi, c%np.pi, d%np.pi"
   ]
  },
  {
   "cell_type": "code",
   "execution_count": 21,
   "metadata": {},
   "outputs": [
    {
     "data": {
      "text/plain": [
       "[[139.32522957531899, 478.65045915063797, 139.32522957531899, 4.0, 62.5],\n",
       " [59.55015305021266,\n",
       "  319.1003061004253,\n",
       "  59.55015305021266,\n",
       "  6.0,\n",
       "  41.666666666666664],\n",
       " [19.662614787659493, 239.32522957531899, 19.662614787659493, 8.0, 31.25],\n",
       " [-4.269908169872423, 191.46018366025515, -4.269908169872423, 10.0, 25.0],\n",
       " [-20.22492347489367,\n",
       "  159.55015305021266,\n",
       "  -20.22492347489367,\n",
       "  12.0,\n",
       "  20.833333333333332]]"
      ]
     },
     "execution_count": 21,
     "metadata": {},
     "output_type": "execute_result"
    }
   ],
   "source": [
    "meander_func(n_max(r_lims, delta_y), L, delta_x, delta_y, a1, a2, lim_l, lim_r, w, s)"
   ]
  },
  {
   "cell_type": "code",
   "execution_count": 30,
   "metadata": {
    "collapsed": true
   },
   "outputs": [],
   "source": [
    "result=meander_func(n_max(r_lims, delta_y), L, delta_x, delta_y, a1, a2, lim_l, lim_r, w, s)"
   ]
  },
  {
   "cell_type": "code",
   "execution_count": 22,
   "metadata": {},
   "outputs": [
    {
     "data": {
      "text/plain": [
       "2500.398163397448"
      ]
     },
     "execution_count": 22,
     "metadata": {},
     "output_type": "execute_result"
    }
   ],
   "source": [
    "139+479*3+139+np.pi*4*62.5"
   ]
  },
  {
   "cell_type": "code",
   "execution_count": 18,
   "metadata": {
    "collapsed": true
   },
   "outputs": [],
   "source": [
    "# def meander_func(x):\n",
    "#     L=3000\n",
    "#     r=50\n",
    "#     return x[0]+(np.sign((np.round(x[3])-1))+1)/2*x[1]+(np.sign((np.round(x[3])-1))+1)/2*x[2] - (L - np.round(x[3])*np.pi*r)"
   ]
  },
  {
   "cell_type": "code",
   "execution_count": 42,
   "metadata": {
    "collapsed": true
   },
   "outputs": [],
   "source": [
    "##без n для разной ориентации\n",
    "# def meander_func(x, *args):\n",
    "# #     L=3000\n",
    "# #     r=50\n",
    "#     parameters = []\n",
    "#     for arg in args:\n",
    "#         parameters.append(arg)\n",
    "# #     print(parameters)\n",
    "#     new_params = [parameters[0], parameters[1], parameters[2]]\n",
    "# #     return new_params[0]\n",
    "#     K = np.sqrt((x_b+x[0]*np.cos(a1)-x_e-x[1]*np.cos(a2))**2)\n",
    "#     return x[0]+np.sign(new_params[1])*x[1]+np.sign(new_params[1])*(new_params[1]-1)*K - (new_params[0] - new_params[1]*np.pi*new_params[2])"
   ]
  },
  {
   "cell_type": "code",
   "execution_count": 9,
   "metadata": {
    "collapsed": true
   },
   "outputs": [],
   "source": [
    "# ##без n\n",
    "# def meander_func(x, *args):\n",
    "# #     L=3000\n",
    "# #     r=50\n",
    "#     parameters = []\n",
    "#     for arg in args:\n",
    "#         parameters.append(arg)\n",
    "# #     print(parameters)\n",
    "#     new_params = [parameters[0], parameters[1], parameters[2]]\n",
    "# #     return new_params[0]\n",
    "#     B = (x_b+x[0]*np.cos(a1)-x_e)/np.cos(a2)\n",
    "#     return x[0]+np.sign(new_params[1])*B+np.sign(new_params[1])*(new_params[1]-1)*x[1] - (new_params[0] - new_params[1]*np.pi*new_params[2])"
   ]
  },
  {
   "cell_type": "code",
   "execution_count": 37,
   "metadata": {
    "collapsed": true
   },
   "outputs": [],
   "source": [
    "# A_max = A_constraint(lim_r, lim_l, a1, r, w, s)\n",
    "# B_max = B_constraint(lim_r, lim_l, a1, r, w, s, x_e, x_b)\n",
    "# K_max = K_constraint(lim_r, lim_l, r, w, s)\n",
    "# n_max = n_constraint(y_b, y_e, r)"
   ]
  },
  {
   "cell_type": "code",
   "execution_count": 8,
   "metadata": {},
   "outputs": [
    {
     "name": "stdout",
     "output_type": "stream",
     "text": [
      "ok\n",
      "ok\n",
      "ok2\n"
     ]
    }
   ],
   "source": [
    "# results = []\n",
    "# for r in np.linspace(r_lims[0], r_lims[1], r_lims[1]-r_lims[0]+1):\n",
    "#     if (np.abs(y_e-y_b)/(2*r)).is_integer():\n",
    "#         print('ok')\n",
    "#         pass\n",
    "#     else:\n",
    "#         continue\n",
    "#     n = np.abs(y_e-y_b)/(2*r)\n",
    "#     if np.cos(a1)==np.cos(a2) and n%2!=0:\n",
    "#         print('ok2')\n",
    "#         pass\n",
    "#     elif np.cos(a1)!=np.cos(a2) and n%2==0:\n",
    "#         print('ok3')\n",
    "#         pass\n",
    "#     else:\n",
    "#         continue\n",
    "\n",
    "#     p = (L,n,r)\n",
    "#     A_max = A_constraint(lim_r, lim_l, a1, r, w, s)\n",
    "#     B_max = B_constraint(lim_r, lim_l, a1, r, w, s, x_e, x_b)\n",
    "#     res = opt.least_squares(meander_func, [100, 0], bounds=([1,0], [A_max, B_max]), args=p)\n",
    "#     results.append([res, n, r])\n",
    "# #     if res.cost==0:\n",
    "# #         results.append([res, n, r])\n",
    "# #         continue\n",
    "# #     if 0<res.cost<=1e-6:\n",
    "# #         results.append([res, n, r])\n",
    "# #     else:\n",
    "# #         continue\n",
    "\n",
    "# if results==[]:\n",
    "#     print('No variants were found')\n",
    "# for result in results:\n",
    "#     if result[0].cost==0:\n",
    "#         variant=result\n",
    "#         continue\n",
    "#     if 0<result[0].cost<=1:\n",
    "#         variant=result"
   ]
  },
  {
   "cell_type": "code",
   "execution_count": 10,
   "metadata": {},
   "outputs": [
    {
     "name": "stdout",
     "output_type": "stream",
     "text": [
      "ok\n",
      "ok\n",
      "ok2\n"
     ]
    }
   ],
   "source": [
    "# results = []\n",
    "# for r in np.linspace(r_lims[0], r_lims[1], r_lims[1]-r_lims[0]+1):\n",
    "#     if (np.abs(y_e-y_b)/(2*r)).is_integer():\n",
    "#         print('ok')\n",
    "#         pass\n",
    "#     else:\n",
    "#         continue\n",
    "#     n = np.abs(y_e-y_b)/(2*r)\n",
    "#     if np.cos(a1)==np.cos(a2) and n%2!=0:\n",
    "#         print('ok2')\n",
    "#         pass\n",
    "#     elif np.cos(a1)!=np.cos(a2) and n%2==0:\n",
    "#         print('ok3')\n",
    "#         pass\n",
    "#     else:\n",
    "#         continue\n",
    "\n",
    "#     p = (L,n,r)\n",
    "#     A_max = A_constraint(lim_r, lim_l, a1, r, w, s)\n",
    "# #     B_max = B_constraint(lim_r, lim_l, a1, r, w, s, x_e, x_b)\n",
    "#     K_max = K_constraint(lim_r, lim_l, r, w, s)\n",
    "#     res = opt.least_squares(meander_func, [100, 0], bounds=([1,0], [A_max, K_max]), args=p)\n",
    "# #     results.append([res, n, r])\n",
    "#     if res.cost==0:\n",
    "#         results.append([res, n, r])\n",
    "#         continue\n",
    "#     if 0<res.cost<=1e-6:\n",
    "#         results.append([res, n, r])\n",
    "#     else:\n",
    "#         continue\n",
    "\n",
    "# if results==[]:\n",
    "#     print('No variants were found')\n",
    "# for result in results:\n",
    "#     if result[0].cost==0:\n",
    "#         variant=result\n",
    "#         continue\n",
    "#     if 0<result[0].cost<=1:\n",
    "#         variant=result"
   ]
  },
  {
   "cell_type": "code",
   "execution_count": 39,
   "metadata": {
    "collapsed": true
   },
   "outputs": [],
   "source": [
    "# results = []\n",
    "# for n in np.linspace(0, np.int(n_max), np.int(n_max+1)):\n",
    "#     if np.cos(a1)==np.cos(a2) and n%2!=0:\n",
    "#             pass\n",
    "#     elif np.cos(a1)!=np.cos(a2) and n%2==0:\n",
    "#         pass\n",
    "#     else:\n",
    "#         continue\n",
    "#     for r in np.linspace(r_lims[0], r_lims[1], r_lims[1]-r_lims[0]+1):\n",
    "#         if np.abs(y_e-y_b)%(2*r)==n:          \n",
    "#             p = (L,n,r)\n",
    "#             A_max = A_constraint(lim_r, lim_l, a1, r, w, s)\n",
    "#             B_max = B_constraint(lim_r, lim_l, a1, r, w, s, x_e, x_b)\n",
    "#             K_max = K_constraint(lim_r, lim_l, r, w, s)\n",
    "#             res = opt.least_squares(meander_func, [100, 0, 0], bounds=([1,0,0], [A_max, B_max,K_max]), args=p)\n",
    "#             if res.cost==0:\n",
    "#                 results.append([res, n, r])\n",
    "#                 continue\n",
    "#             if 0<res.cost<=1e-6:\n",
    "#                 results.append([res, n, r])\n",
    "#         else:\n",
    "#             continue\n",
    "            \n",
    "# if results==[]:\n",
    "#     print('No variants were found')\n",
    "# for result in results:\n",
    "#     if result[0].cost==0:\n",
    "#         variant=result\n",
    "#         continue\n",
    "#     if 0<result[0].cost<=1e-6:\n",
    "#         variant=result"
   ]
  },
  {
   "cell_type": "code",
   "execution_count": 42,
   "metadata": {
    "collapsed": true
   },
   "outputs": [],
   "source": [
    "# B = (x_b+variant[0].x[0]*np.cos(a1)-x_e)/np.cos(a2)"
   ]
  },
  {
   "cell_type": "code",
   "execution_count": 23,
   "metadata": {
    "collapsed": true
   },
   "outputs": [],
   "source": [
    "import sys\n",
    "sys.path.append('..\\\\..')\n",
    "import QCreator"
   ]
  },
  {
   "cell_type": "code",
   "execution_count": 24,
   "metadata": {
    "collapsed": true
   },
   "outputs": [],
   "source": [
    "from QCreator.elements.cpw import CPW"
   ]
  },
  {
   "cell_type": "code",
   "execution_count": 25,
   "metadata": {
    "collapsed": true
   },
   "outputs": [],
   "source": [
    "from QCreator import general_sample_creator as creator"
   ]
  },
  {
   "cell_type": "code",
   "execution_count": 26,
   "metadata": {
    "collapsed": true
   },
   "outputs": [],
   "source": [
    "layers_configuration = {\n",
    "    'total':0,\n",
    "    'restricted area':10,\n",
    "    'for removing':100,\n",
    "    'JJs':1,\n",
    "    'air bridges':2,\n",
    "    'air bridge pads':3,\n",
    "    'air bridge sm pads':4,\n",
    "    'vertical gridlines':15,\n",
    "    'horizontal gridlines':16,\n",
    "    'inverted':17,\n",
    "    'bandages':20\n",
    "}\n",
    "\n",
    "sample = creator.Sample('meander_test',layers_configuration)"
   ]
  },
  {
   "cell_type": "code",
   "execution_count": 27,
   "metadata": {
    "collapsed": true
   },
   "outputs": [],
   "source": [
    "name = 'test_meander'"
   ]
  },
  {
   "cell_type": "code",
   "execution_count": 32,
   "metadata": {},
   "outputs": [
    {
     "data": {
      "text/plain": [
       "[139.32522957531899, 478.65045915063797, 139.32522957531899, 4.0, 62.5]"
      ]
     },
     "execution_count": 32,
     "metadata": {},
     "output_type": "execute_result"
    }
   ],
   "source": [
    "result[0]"
   ]
  },
  {
   "cell_type": "code",
   "execution_count": 57,
   "metadata": {
    "collapsed": true
   },
   "outputs": [],
   "source": [
    "pars = result[0]\n",
    "points = []\n",
    "shift = pars[4]\n",
    "points.append((x_b, y_b))\n",
    "if pars[3]!=0:\n",
    "    points.append((x_b+(pars[0]+shift)*np.cos(a1), y_b))\n",
    "    mid_segm_x = x_b+(pars[0]+shift)*np.cos(a1)\n",
    "\n",
    "if pars[3]>1:\n",
    "    for turn in range(1, np.int(pars[3])):\n",
    "        if turn%2!=0:\n",
    "            points.append((mid_segm_x, y_b+np.sign(y_e-y_b)*2*pars[4]*turn))\n",
    "            points.append((mid_segm_x +(pars[1]+2*shift)*np.cos(np.pi-a1), y_b+np.sign(y_e-y_b)*2*pars[4]*turn))\n",
    "        else:\n",
    "            points.append((mid_segm_x +(pars[1]+2*shift)*np.cos(np.pi-a1), y_b+np.sign(y_e-y_b)*2*pars[4]*turn))\n",
    "            points.append((mid_segm_x, y_b+np.sign(y_e-y_b)*2*pars[4]*turn))\n",
    "\n",
    "    \n",
    "last_segm_x = points[-1][0]\n",
    "last_segm_y = y_e#points[-1][1]+np.sign(y_e-y_b)*2*variant[2]\n",
    "if pars[3]!=0:\n",
    "    points.append((last_segm_x, last_segm_y))\n",
    "points.append((x_e, last_segm_y))\n",
    "# points.append((last_segm_x+pars[1]*np.cos(np.pi-a2), last_segm_y))"
   ]
  },
  {
   "cell_type": "code",
   "execution_count": 19,
   "metadata": {
    "collapsed": true
   },
   "outputs": [],
   "source": [
    "# pars = variant[0].x\n",
    "# B = (x_b+pars[0]*np.cos(a1)-x_e)/np.cos(a2)\n",
    "# points = []\n",
    "# points.append((x_b, y_b))\n",
    "# points.append((x_b+pars[0]*np.cos(a1), y_b))\n",
    "# mid_segm_x = x_b+pars[0]*np.cos(a1)\n",
    "# if variant[1]>1:\n",
    "#     for turn in range(1, np.int(variant[1])):\n",
    "#         if turn%2!=0:\n",
    "#             points.append((mid_segm_x, y_b+np.sign(y_e-y_b)*2*variant[2]*turn))\n",
    "#             points.append((mid_segm_x +pars[1]*np.cos(np.pi-a1), y_b+np.sign(y_e-y_b)*2*variant[2]*turn))\n",
    "#         else:\n",
    "#             points.append((mid_segm_x +pars[1]*np.cos(np.pi-a1), y_b+np.sign(y_e-y_b)*2*variant[2]*turn))\n",
    "#             points.append((mid_segm_x, y_b+np.sign(y_e-y_b)*2*variant[2]*turn))\n",
    "# # if variant[1]==1:\n",
    "# # if variant[1]==0:\n",
    "# last_segm_x = points[-1][0]\n",
    "# last_segm_y = y_e#points[-1][1]+np.sign(y_e-y_b)*2*variant[2]\n",
    "# points.append((last_segm_x, last_segm_y))\n",
    "# points.append((x_e, last_segm_y))\n",
    "# # points.append((last_segm_x+pars[1]*np.cos(np.pi-a2), last_segm_y))"
   ]
  },
  {
   "cell_type": "markdown",
   "metadata": {},
   "source": [
    "## meander"
   ]
  },
  {
   "cell_type": "code",
   "execution_count": 59,
   "metadata": {},
   "outputs": [
    {
     "name": "stdout",
     "output_type": "stream",
     "text": [
      "0 [500 500]\n",
      "1 [298.17477042 500.        ]\n",
      "2 [298.17477042 625.        ]\n",
      "3 [901.82522958 625.        ]\n",
      "4 [901.82522958 750.        ]\n",
      "5 [298.17477042 750.        ]\n",
      "6 [298.17477042 875.        ]\n",
      "7 [901.82522958 875.        ]\n",
      "8 [ 901.82522958 1000.        ]\n",
      "9 [ 700 1000]\n"
     ]
    }
   ],
   "source": [
    "meander = CPW(name, points, w, s, g, sample.layer_configuration, pars[4],corner_type='round', orientation1=a1, orientation2=a2)"
   ]
  },
  {
   "cell_type": "code",
   "execution_count": 60,
   "metadata": {},
   "outputs": [
    {
     "data": {
      "text/plain": [
       "2500.0"
      ]
     },
     "execution_count": 60,
     "metadata": {},
     "output_type": "execute_result"
    }
   ],
   "source": [
    "meander.length"
   ]
  },
  {
   "cell_type": "code",
   "execution_count": 34,
   "metadata": {},
   "outputs": [
    {
     "data": {
      "text/plain": [
       "([[113.1615158956389,\n",
       "   582.1615158956389,\n",
       "   582.1615158956389,\n",
       "   3.0,\n",
       "   57.333333333333336]],\n",
       " [(2980, 2210),\n",
       "  (3150.4948492289723, 2210),\n",
       "  (3150.4948492289723, 2095.3333333333335),\n",
       "  (2453.666666666667, 2095.3333333333335),\n",
       "  (2453.666666666667, 1980.6666666666667),\n",
       "  (3150.4948492289723, 1980.6666666666667),\n",
       "  (3150.4948492289723, 1866),\n",
       "  (2980, 1866)],\n",
       " CPW \"test_meander\", l=1931.000)"
      ]
     },
     "execution_count": 34,
     "metadata": {},
     "output_type": "execute_result"
    }
   ],
   "source": [
    "meander"
   ]
  },
  {
   "cell_type": "code",
   "execution_count": 35,
   "metadata": {
    "collapsed": true
   },
   "outputs": [],
   "source": [
    "cpw = meander[-1]"
   ]
  },
  {
   "cell_type": "code",
   "execution_count": 45,
   "metadata": {
    "collapsed": true
   },
   "outputs": [],
   "source": [
    "x = (1,2)"
   ]
  },
  {
   "cell_type": "code",
   "execution_count": 48,
   "metadata": {},
   "outputs": [
    {
     "data": {
      "text/plain": [
       "(2, 1)"
      ]
     },
     "execution_count": 48,
     "metadata": {},
     "output_type": "execute_result"
    }
   ],
   "source": [
    "x[::-1]"
   ]
  },
  {
   "cell_type": "code",
   "execution_count": 44,
   "metadata": {},
   "outputs": [
    {
     "data": {
      "text/plain": [
       "array([[1],\n",
       "       [2]])"
      ]
     },
     "execution_count": 44,
     "metadata": {},
     "output_type": "execute_result"
    }
   ],
   "source": [
    "np.transpose(x)"
   ]
  },
  {
   "cell_type": "code",
   "execution_count": 42,
   "metadata": {},
   "outputs": [
    {
     "data": {
      "text/plain": [
       "[(500, 500),\n",
       " (360.674770424681, 500),\n",
       " (360.674770424681, 625.0),\n",
       " (839.325229575319, 625.0),\n",
       " (839.325229575319, 750.0),\n",
       " (360.674770424681, 750.0),\n",
       " (360.674770424681, 875.0),\n",
       " (839.325229575319, 875.0),\n",
       " (839.325229575319, 1000),\n",
       " (700, 1000)]"
      ]
     },
     "execution_count": 42,
     "metadata": {},
     "output_type": "execute_result"
    }
   ],
   "source": [
    "#old\n",
    "points"
   ]
  },
  {
   "cell_type": "code",
   "execution_count": 58,
   "metadata": {},
   "outputs": [
    {
     "data": {
      "text/plain": [
       "[(500, 500),\n",
       " (298.174770424681, 500),\n",
       " (298.174770424681, 625.0),\n",
       " (901.825229575319, 625.0),\n",
       " (901.825229575319, 750.0),\n",
       " (298.174770424681, 750.0),\n",
       " (298.174770424681, 875.0),\n",
       " (901.825229575319, 875.0),\n",
       " (901.825229575319, 1000),\n",
       " (700, 1000)]"
      ]
     },
     "execution_count": 58,
     "metadata": {},
     "output_type": "execute_result"
    }
   ],
   "source": [
    "points"
   ]
  },
  {
   "cell_type": "code",
   "execution_count": 38,
   "metadata": {},
   "outputs": [
    {
     "data": {
      "text/plain": [
       "[{'endpoint': array([500, 500]), 'length': 0, 'type': 'endpoint'},\n",
       " {'endpoint': array([423.17477042, 500.        ]),\n",
       "  'length': 76.82522957531899,\n",
       "  'startpoint': array([500, 500]),\n",
       "  'type': 'segment'},\n",
       " {'endpoint': array([360.67477042, 562.5       ]),\n",
       "  'instead_point': array([360.67477042, 500.        ]),\n",
       "  'length': 98.17477042468103,\n",
       "  'startpoint': array([423.17477042, 500.        ]),\n",
       "  'turn': -1.5707963267948966,\n",
       "  'type': 'turn'},\n",
       " {'endpoint': array([423.17477042, 625.        ]),\n",
       "  'instead_point': array([360.67477042, 625.        ]),\n",
       "  'length': 98.17477042468103,\n",
       "  'startpoint': array([360.67477042, 562.5       ]),\n",
       "  'turn': -1.5707963267948966,\n",
       "  'type': 'turn'},\n",
       " {'endpoint': array([776.82522958, 625.        ]),\n",
       "  'length': 353.65045915063797,\n",
       "  'startpoint': array([423.17477042, 625.        ]),\n",
       "  'type': 'segment'},\n",
       " {'endpoint': array([839.32522958, 687.5       ]),\n",
       "  'instead_point': array([839.32522958, 625.        ]),\n",
       "  'length': 98.17477042468103,\n",
       "  'startpoint': array([776.82522958, 625.        ]),\n",
       "  'turn': 1.5707963267948966,\n",
       "  'type': 'turn'},\n",
       " {'endpoint': array([776.82522958, 750.        ]),\n",
       "  'instead_point': array([839.32522958, 750.        ]),\n",
       "  'length': 98.17477042468103,\n",
       "  'startpoint': array([839.32522958, 687.5       ]),\n",
       "  'turn': 1.5707963267948966,\n",
       "  'type': 'turn'},\n",
       " {'endpoint': array([423.17477042, 750.        ]),\n",
       "  'length': 353.65045915063797,\n",
       "  'startpoint': array([776.82522958, 750.        ]),\n",
       "  'type': 'segment'},\n",
       " {'endpoint': array([360.67477042, 812.5       ]),\n",
       "  'instead_point': array([360.67477042, 750.        ]),\n",
       "  'length': 98.17477042468103,\n",
       "  'startpoint': array([423.17477042, 750.        ]),\n",
       "  'turn': -1.5707963267948966,\n",
       "  'type': 'turn'},\n",
       " {'endpoint': array([423.17477042, 875.        ]),\n",
       "  'instead_point': array([360.67477042, 875.        ]),\n",
       "  'length': 98.17477042468103,\n",
       "  'startpoint': array([360.67477042, 812.5       ]),\n",
       "  'turn': -1.5707963267948966,\n",
       "  'type': 'turn'},\n",
       " {'endpoint': array([776.82522958, 875.        ]),\n",
       "  'length': 353.65045915063797,\n",
       "  'startpoint': array([423.17477042, 875.        ]),\n",
       "  'type': 'segment'},\n",
       " {'endpoint': array([839.32522958, 937.5       ]),\n",
       "  'instead_point': array([839.32522958, 875.        ]),\n",
       "  'length': 98.17477042468103,\n",
       "  'startpoint': array([776.82522958, 875.        ]),\n",
       "  'turn': 1.5707963267948966,\n",
       "  'type': 'turn'},\n",
       " {'endpoint': array([ 776.82522958, 1000.        ]),\n",
       "  'instead_point': array([ 839.32522958, 1000.        ]),\n",
       "  'length': 98.17477042468103,\n",
       "  'startpoint': array([839.32522958, 937.5       ]),\n",
       "  'turn': 1.5707963267948966,\n",
       "  'type': 'turn'},\n",
       " {'endpoint': array([ 700, 1000]),\n",
       "  'length': 76.82522957531899,\n",
       "  'startpoint': array([ 776.82522958, 1000.        ]),\n",
       "  'type': 'endpoint'}]"
      ]
     },
     "execution_count": 38,
     "metadata": {},
     "output_type": "execute_result"
    }
   ],
   "source": [
    "#old\n",
    "meander.segments"
   ]
  },
  {
   "cell_type": "code",
   "execution_count": 61,
   "metadata": {},
   "outputs": [
    {
     "data": {
      "text/plain": [
       "[{'endpoint': array([500, 500]), 'length': 0, 'type': 'endpoint'},\n",
       " {'endpoint': array([360.67477042, 500.        ]),\n",
       "  'length': 139.32522957531899,\n",
       "  'startpoint': array([500, 500]),\n",
       "  'type': 'segment'},\n",
       " {'endpoint': array([298.17477042, 562.5       ]),\n",
       "  'instead_point': array([298.17477042, 500.        ]),\n",
       "  'length': 98.17477042468103,\n",
       "  'startpoint': array([360.67477042, 500.        ]),\n",
       "  'turn': -1.5707963267948966,\n",
       "  'type': 'turn'},\n",
       " {'endpoint': array([360.67477042, 625.        ]),\n",
       "  'instead_point': array([298.17477042, 625.        ]),\n",
       "  'length': 98.17477042468103,\n",
       "  'startpoint': array([298.17477042, 562.5       ]),\n",
       "  'turn': -1.5707963267948966,\n",
       "  'type': 'turn'},\n",
       " {'endpoint': array([839.32522958, 625.        ]),\n",
       "  'length': 478.65045915063797,\n",
       "  'startpoint': array([360.67477042, 625.        ]),\n",
       "  'type': 'segment'},\n",
       " {'endpoint': array([901.82522958, 687.5       ]),\n",
       "  'instead_point': array([901.82522958, 625.        ]),\n",
       "  'length': 98.17477042468103,\n",
       "  'startpoint': array([839.32522958, 625.        ]),\n",
       "  'turn': 1.5707963267948966,\n",
       "  'type': 'turn'},\n",
       " {'endpoint': array([839.32522958, 750.        ]),\n",
       "  'instead_point': array([901.82522958, 750.        ]),\n",
       "  'length': 98.17477042468103,\n",
       "  'startpoint': array([901.82522958, 687.5       ]),\n",
       "  'turn': 1.5707963267948966,\n",
       "  'type': 'turn'},\n",
       " {'endpoint': array([360.67477042, 750.        ]),\n",
       "  'length': 478.65045915063797,\n",
       "  'startpoint': array([839.32522958, 750.        ]),\n",
       "  'type': 'segment'},\n",
       " {'endpoint': array([298.17477042, 812.5       ]),\n",
       "  'instead_point': array([298.17477042, 750.        ]),\n",
       "  'length': 98.17477042468103,\n",
       "  'startpoint': array([360.67477042, 750.        ]),\n",
       "  'turn': -1.5707963267948966,\n",
       "  'type': 'turn'},\n",
       " {'endpoint': array([360.67477042, 875.        ]),\n",
       "  'instead_point': array([298.17477042, 875.        ]),\n",
       "  'length': 98.17477042468103,\n",
       "  'startpoint': array([298.17477042, 812.5       ]),\n",
       "  'turn': -1.5707963267948966,\n",
       "  'type': 'turn'},\n",
       " {'endpoint': array([839.32522958, 875.        ]),\n",
       "  'length': 478.65045915063797,\n",
       "  'startpoint': array([360.67477042, 875.        ]),\n",
       "  'type': 'segment'},\n",
       " {'endpoint': array([901.82522958, 937.5       ]),\n",
       "  'instead_point': array([901.82522958, 875.        ]),\n",
       "  'length': 98.17477042468103,\n",
       "  'startpoint': array([839.32522958, 875.        ]),\n",
       "  'turn': 1.5707963267948966,\n",
       "  'type': 'turn'},\n",
       " {'endpoint': array([ 839.32522958, 1000.        ]),\n",
       "  'instead_point': array([ 901.82522958, 1000.        ]),\n",
       "  'length': 98.17477042468103,\n",
       "  'startpoint': array([901.82522958, 937.5       ]),\n",
       "  'turn': 1.5707963267948966,\n",
       "  'type': 'turn'},\n",
       " {'endpoint': array([ 700, 1000]),\n",
       "  'length': 139.32522957531899,\n",
       "  'startpoint': array([ 839.32522958, 1000.        ]),\n",
       "  'type': 'endpoint'}]"
      ]
     },
     "execution_count": 61,
     "metadata": {},
     "output_type": "execute_result"
    }
   ],
   "source": [
    "meander.segments"
   ]
  },
  {
   "cell_type": "code",
   "execution_count": 62,
   "metadata": {
    "collapsed": true
   },
   "outputs": [],
   "source": [
    "sample.add(meander)"
   ]
  },
  {
   "cell_type": "code",
   "execution_count": 63,
   "metadata": {
    "collapsed": true
   },
   "outputs": [],
   "source": [
    "sample.draw_design()"
   ]
  },
  {
   "cell_type": "code",
   "execution_count": 64,
   "metadata": {
    "collapsed": true
   },
   "outputs": [],
   "source": [
    "sample.watch()"
   ]
  },
  {
   "cell_type": "code",
   "execution_count": null,
   "metadata": {
    "collapsed": true
   },
   "outputs": [],
   "source": []
  },
  {
   "cell_type": "code",
   "execution_count": null,
   "metadata": {
    "collapsed": true
   },
   "outputs": [],
   "source": []
  },
  {
   "cell_type": "code",
   "execution_count": null,
   "metadata": {
    "collapsed": true
   },
   "outputs": [],
   "source": []
  },
  {
   "cell_type": "markdown",
   "metadata": {},
   "source": [
    "# sympy"
   ]
  },
  {
   "cell_type": "code",
   "execution_count": 1,
   "metadata": {},
   "outputs": [
    {
     "name": "stderr",
     "output_type": "stream",
     "text": [
      "C:\\Users\\User\\Anaconda3\\lib\\site-packages\\ipykernel\\parentpoller.py:116: UserWarning: Parent poll failed.  If the frontend dies,\n",
      "                the kernel may be left running.  Please let us know\n",
      "                about your system (bitness, Python, etc.) at\n",
      "                ipython-dev@scipy.org\n",
      "  ipython-dev@scipy.org\"\"\")\n"
     ]
    }
   ],
   "source": [
    "from sympy import *"
   ]
  },
  {
   "cell_type": "code",
   "execution_count": 2,
   "metadata": {
    "collapsed": true
   },
   "outputs": [],
   "source": [
    "init_printing()"
   ]
  },
  {
   "cell_type": "code",
   "execution_count": 3,
   "metadata": {
    "collapsed": true
   },
   "outputs": [],
   "source": [
    "Ec1=Symbol('Ec_1',real=True)\n",
    "Ec2=Symbol('Ec_2',real=True)\n",
    "Ej1=Symbol('Ej_1',real=True)\n",
    "Ej2=Symbol('Ej_2',real=True)"
   ]
  },
  {
   "cell_type": "code",
   "execution_count": 4,
   "metadata": {
    "collapsed": true
   },
   "outputs": [],
   "source": [
    "from sympy.physics.quantum import TensorProduct"
   ]
  },
  {
   "cell_type": "code",
   "execution_count": 23,
   "metadata": {
    "collapsed": true
   },
   "outputs": [],
   "source": [
    "C1=Symbol('С1',real=True)\n",
    "C2=Symbol('С2',real=True)\n",
    "C=Symbol('С',real=True)"
   ]
  },
  {
   "cell_type": "code",
   "execution_count": 24,
   "metadata": {
    "collapsed": true
   },
   "outputs": [],
   "source": [
    "M = Matrix([[C1+C2, -C2],\n",
    "           [-C2, C2+C]])"
   ]
  },
  {
   "cell_type": "code",
   "execution_count": 25,
   "metadata": {},
   "outputs": [
    {
     "data": {
      "text/latex": [
       "$$\\left[\\begin{matrix}\\frac{С + С2}{- С2^{2} + \\left(С + С2\\right) \\left(С1 + С2\\right)} & \\frac{С2}{- С2^{2} + \\left(С + С2\\right) \\left(С1 + С2\\right)}\\\\\\frac{С2}{- С2^{2} + \\left(С + С2\\right) \\left(С1 + С2\\right)} & \\frac{С1 + С2}{- С2^{2} + \\left(С + С2\\right) \\left(С1 + С2\\right)}\\end{matrix}\\right]$$"
      ],
      "text/plain": [
       "⎡          С + С2                        С2            ⎤\n",
       "⎢──────────────────────────  ──────────────────────────⎥\n",
       "⎢    2                           2                     ⎥\n",
       "⎢- С2  + (С + С2)⋅(С1 + С2)  - С2  + (С + С2)⋅(С1 + С2)⎥\n",
       "⎢                                                      ⎥\n",
       "⎢            С2                       С1 + С2          ⎥\n",
       "⎢──────────────────────────  ──────────────────────────⎥\n",
       "⎢    2                           2                     ⎥\n",
       "⎣- С2  + (С + С2)⋅(С1 + С2)  - С2  + (С + С2)⋅(С1 + С2)⎦"
      ]
     },
     "execution_count": 25,
     "metadata": {},
     "output_type": "execute_result"
    }
   ],
   "source": [
    "M**-1\n"
   ]
  },
  {
   "cell_type": "code",
   "execution_count": null,
   "metadata": {
    "collapsed": true
   },
   "outputs": [],
   "source": []
  },
  {
   "cell_type": "code",
   "execution_count": null,
   "metadata": {
    "collapsed": true
   },
   "outputs": [],
   "source": []
  },
  {
   "cell_type": "code",
   "execution_count": 5,
   "metadata": {
    "collapsed": true
   },
   "outputs": [],
   "source": [
    "create = Matrix([[0,0],\n",
    "                   [1,0]])\n",
    "destroy = Matrix([[0,1],\n",
    "                   [0,0]])"
   ]
  },
  {
   "cell_type": "code",
   "execution_count": 6,
   "metadata": {
    "collapsed": true
   },
   "outputs": [],
   "source": [
    "create = Symbol('a+')\n",
    "destroy = Symbol('a')\n",
    "I = Symbol('I')"
   ]
  },
  {
   "cell_type": "code",
   "execution_count": 6,
   "metadata": {},
   "outputs": [
    {
     "data": {
      "image/png": "[encoded data removed]",
      "text/latex": [
       "$$I \\left(a + a+\\right)^{4} \\cdot {1}\\otimes {1}$$"
      ],
      "text/plain": [
       "          4     \n",
       "I⋅(a + a+) ⋅1⨂ 1"
      ]
     },
     "execution_count": 6,
     "metadata": {},
     "output_type": "execute_result"
    }
   ],
   "source": [
    "TensorProduct((create+destroy)**4, I)"
   ]
  },
  {
   "cell_type": "code",
   "execution_count": null,
   "metadata": {
    "collapsed": true
   },
   "outputs": [],
   "source": []
  },
  {
   "cell_type": "code",
   "execution_count": 49,
   "metadata": {},
   "outputs": [
    {
     "data": {
      "image/png": "[encoded data removed]",
      "text/latex": [
       "$$\\left[\\begin{matrix}1 & 0\\\\0 & 1\\end{matrix}\\right]$$"
      ],
      "text/plain": [
       "⎡1  0⎤\n",
       "⎢    ⎥\n",
       "⎣0  1⎦"
      ]
     },
     "execution_count": 49,
     "metadata": {},
     "output_type": "execute_result"
    }
   ],
   "source": [
    "(destroy+create)**4"
   ]
  },
  {
   "cell_type": "code",
   "execution_count": 40,
   "metadata": {
    "collapsed": true
   },
   "outputs": [],
   "source": [
    "I = Matrix([[1, 0],\n",
    "           [0, 1]])"
   ]
  },
  {
   "cell_type": "code",
   "execution_count": 30,
   "metadata": {
    "collapsed": true
   },
   "outputs": [],
   "source": [
    "E1 = (8*Ec1*Ej1)**0.5\n",
    "E2 = (8*Ec2*Ej2)**0.5"
   ]
  },
  {
   "cell_type": "code",
   "execution_count": 35,
   "metadata": {
    "collapsed": true
   },
   "outputs": [],
   "source": [
    "E1 = Symbol('E_1', real = True)\n",
    "E2 = Symbol('E_2', real = True)"
   ]
  },
  {
   "cell_type": "code",
   "execution_count": 10,
   "metadata": {
    "collapsed": true
   },
   "outputs": [],
   "source": [
    "E1 = 1\n",
    "E2 = 2"
   ]
  },
  {
   "cell_type": "code",
   "execution_count": 11,
   "metadata": {
    "collapsed": true
   },
   "outputs": [],
   "source": [
    "H_0 = Matrix([[(E1 + E2)/2, 0, 0, 0],\n",
    "             [0, (E1 +3*E2)/2, 0, 0],\n",
    "             [0, 0, (E2+ 3*E1)/2, 0],\n",
    "             [0, 0, 0, 3*(E1+E2)/2]])"
   ]
  },
  {
   "cell_type": "code",
   "execution_count": 12,
   "metadata": {},
   "outputs": [
    {
     "data": {
      "image/png": "[encoded data removed]",
      "text/latex": [
       "$$\\left[\\begin{matrix}1.5 & 0 & 0 & 0\\\\0 & 3.5 & 0 & 0\\\\0 & 0 & 2.5 & 0\\\\0 & 0 & 0 & 4.5\\end{matrix}\\right]$$"
      ],
      "text/plain": [
       "⎡1.5   0    0    0 ⎤\n",
       "⎢                  ⎥\n",
       "⎢ 0   3.5   0    0 ⎥\n",
       "⎢                  ⎥\n",
       "⎢ 0    0   2.5   0 ⎥\n",
       "⎢                  ⎥\n",
       "⎣ 0    0    0   4.5⎦"
      ]
     },
     "execution_count": 12,
     "metadata": {},
     "output_type": "execute_result"
    }
   ],
   "source": [
    "H_0"
   ]
  },
  {
   "cell_type": "code",
   "execution_count": 13,
   "metadata": {},
   "outputs": [
    {
     "data": {
      "image/png": "[encoded data removed]",
      "text/latex": [
       "$$\\left \\{ \\frac{3}{2} : 1, \\quad \\frac{5}{2} : 1, \\quad \\frac{7}{2} : 1, \\quad \\frac{9}{2} : 1\\right \\}$$"
      ],
      "text/plain": [
       "{3/2: 1, 5/2: 1, 7/2: 1, 9/2: 1}"
      ]
     },
     "execution_count": 13,
     "metadata": {},
     "output_type": "execute_result"
    }
   ],
   "source": [
    "H_0.eigenvals()"
   ]
  },
  {
   "cell_type": "code",
   "execution_count": 14,
   "metadata": {},
   "outputs": [
    {
     "data": {
      "image/png": "[encoded data removed]",
      "text/latex": [
       "$$\\left [ \\left ( 1.5, \\quad 1, \\quad \\left [ \\left[\\begin{matrix}1.0\\\\0\\\\0\\\\0\\end{matrix}\\right]\\right ]\\right ), \\quad \\left ( 2.5, \\quad 1, \\quad \\left [ \\left[\\begin{matrix}0\\\\0\\\\1.0\\\\0\\end{matrix}\\right]\\right ]\\right ), \\quad \\left ( 3.5, \\quad 1, \\quad \\left [ \\left[\\begin{matrix}0\\\\1.0\\\\0\\\\0\\end{matrix}\\right]\\right ]\\right ), \\quad \\left ( 4.5, \\quad 1, \\quad \\left [ \\left[\\begin{matrix}0\\\\0\\\\0\\\\1.0\\end{matrix}\\right]\\right ]\\right )\\right ]$$"
      ],
      "text/plain": [
       "⎡⎛        ⎡⎡1.0⎤⎤⎞  ⎛        ⎡⎡ 0 ⎤⎤⎞  ⎛        ⎡⎡ 0 ⎤⎤⎞  ⎛        ⎡⎡ 0 ⎤⎤⎞⎤\n",
       "⎢⎜        ⎢⎢   ⎥⎥⎟  ⎜        ⎢⎢   ⎥⎥⎟  ⎜        ⎢⎢   ⎥⎥⎟  ⎜        ⎢⎢   ⎥⎥⎟⎥\n",
       "⎢⎜        ⎢⎢ 0 ⎥⎥⎟  ⎜        ⎢⎢ 0 ⎥⎥⎟  ⎜        ⎢⎢1.0⎥⎥⎟  ⎜        ⎢⎢ 0 ⎥⎥⎟⎥\n",
       "⎢⎜1.5, 1, ⎢⎢   ⎥⎥⎟, ⎜2.5, 1, ⎢⎢   ⎥⎥⎟, ⎜3.5, 1, ⎢⎢   ⎥⎥⎟, ⎜4.5, 1, ⎢⎢   ⎥⎥⎟⎥\n",
       "⎢⎜        ⎢⎢ 0 ⎥⎥⎟  ⎜        ⎢⎢1.0⎥⎥⎟  ⎜        ⎢⎢ 0 ⎥⎥⎟  ⎜        ⎢⎢ 0 ⎥⎥⎟⎥\n",
       "⎢⎜        ⎢⎢   ⎥⎥⎟  ⎜        ⎢⎢   ⎥⎥⎟  ⎜        ⎢⎢   ⎥⎥⎟  ⎜        ⎢⎢   ⎥⎥⎟⎥\n",
       "⎣⎝        ⎣⎣ 0 ⎦⎦⎠  ⎝        ⎣⎣ 0 ⎦⎦⎠  ⎝        ⎣⎣ 0 ⎦⎦⎠  ⎝        ⎣⎣1.0⎦⎦⎠⎦"
      ]
     },
     "execution_count": 14,
     "metadata": {},
     "output_type": "execute_result"
    }
   ],
   "source": [
    "H_0.eigenvects()"
   ]
  },
  {
   "cell_type": "code",
   "execution_count": 42,
   "metadata": {
    "collapsed": true
   },
   "outputs": [],
   "source": [
    "V =  -Ec1/12*TensorProduct((destroy+create)**4, I) -Ec2/12*TensorProduct(I, (destroy+create)**4)"
   ]
  },
  {
   "cell_type": "code",
   "execution_count": 46,
   "metadata": {
    "collapsed": true
   },
   "outputs": [],
   "source": [
    "V =  -Ec1/12*(destroy+create)**4*I -Ec2/12*I*(destroy+create)**4"
   ]
  },
  {
   "cell_type": "code",
   "execution_count": 47,
   "metadata": {},
   "outputs": [
    {
     "data": {
      "image/png": "[encoded data removed]",
      "text/latex": [
       "$$- \\frac{Ec_{1} I}{12} \\left(a + a+\\right)^{4} - \\frac{Ec_{2} I}{12} \\left(a + a+\\right)^{4}$$"
      ],
      "text/plain": [
       "                4                 4\n",
       "  Ec₁⋅I⋅(a + a+)    Ec₂⋅I⋅(a + a+) \n",
       "- ─────────────── - ───────────────\n",
       "         12                12      "
      ]
     },
     "execution_count": 47,
     "metadata": {},
     "output_type": "execute_result"
    }
   ],
   "source": [
    "V"
   ]
  },
  {
   "cell_type": "code",
   "execution_count": null,
   "metadata": {
    "collapsed": true
   },
   "outputs": [],
   "source": []
  },
  {
   "cell_type": "code",
   "execution_count": null,
   "metadata": {
    "collapsed": true
   },
   "outputs": [],
   "source": []
  },
  {
   "cell_type": "code",
   "execution_count": null,
   "metadata": {
    "collapsed": true
   },
   "outputs": [],
   "source": []
  },
  {
   "cell_type": "markdown",
   "metadata": {},
   "source": [
    "# qutip"
   ]
  },
  {
   "cell_type": "code",
   "execution_count": 10,
   "metadata": {
    "collapsed": true
   },
   "outputs": [],
   "source": [
    "from qutip import *"
   ]
  },
  {
   "cell_type": "code",
   "execution_count": 11,
   "metadata": {
    "collapsed": true
   },
   "outputs": [],
   "source": [
    "a = destroy(2)"
   ]
  },
  {
   "cell_type": "code",
   "execution_count": 12,
   "metadata": {
    "collapsed": true
   },
   "outputs": [],
   "source": [
    "a_ = create(2)"
   ]
  },
  {
   "cell_type": "code",
   "execution_count": 13,
   "metadata": {},
   "outputs": [
    {
     "data": {
      "text/latex": [
       "Quantum object: dims = [[2], [2]], shape = (2, 2), type = oper, isherm = True\\begin{equation*}\\left(\\begin{array}{*{11}c}1.0 & 0.0\\\\0.0 & 1.0\\\\\\end{array}\\right)\\end{equation*}"
      ],
      "text/plain": [
       "Quantum object: dims = [[2], [2]], shape = (2, 2), type = oper, isherm = True\n",
       "Qobj data =\n",
       "[[1. 0.]\n",
       " [0. 1.]]"
      ]
     },
     "execution_count": 13,
     "metadata": {},
     "output_type": "execute_result"
    }
   ],
   "source": [
    "(a+a_)**4"
   ]
  },
  {
   "cell_type": "code",
   "execution_count": 15,
   "metadata": {
    "collapsed": true
   },
   "outputs": [],
   "source": [
    "Ec1 = 5\n",
    "Ec2 = 6"
   ]
  },
  {
   "cell_type": "code",
   "execution_count": 16,
   "metadata": {
    "collapsed": true
   },
   "outputs": [],
   "source": [
    "V = -Ec1/12*tensor((a+a_)**4, identity(2)) - Ec2/12*tensor(identity(2), (a+a_)**4)"
   ]
  },
  {
   "cell_type": "code",
   "execution_count": 17,
   "metadata": {},
   "outputs": [
    {
     "data": {
      "text/latex": [
       "Quantum object: dims = [[2, 2], [2, 2]], shape = (4, 4), type = oper, isherm = True\\begin{equation*}\\left(\\begin{array}{*{11}c}-0.917 & 0.0 & 0.0 & 0.0\\\\0.0 & -0.917 & 0.0 & 0.0\\\\0.0 & 0.0 & -0.917 & 0.0\\\\0.0 & 0.0 & 0.0 & -0.917\\\\\\end{array}\\right)\\end{equation*}"
      ],
      "text/plain": [
       "Quantum object: dims = [[2, 2], [2, 2]], shape = (4, 4), type = oper, isherm = True\n",
       "Qobj data =\n",
       "[[-0.91666667  0.          0.          0.        ]\n",
       " [ 0.         -0.91666667  0.          0.        ]\n",
       " [ 0.          0.         -0.91666667  0.        ]\n",
       " [ 0.          0.          0.         -0.91666667]]"
      ]
     },
     "execution_count": 17,
     "metadata": {},
     "output_type": "execute_result"
    }
   ],
   "source": [
    "V"
   ]
  },
  {
   "cell_type": "code",
   "execution_count": null,
   "metadata": {
    "collapsed": true
   },
   "outputs": [],
   "source": []
  }
 ],
 "metadata": {
  "kernelspec": {
   "display_name": "Python 3 (ipykernel)",
   "language": "python",
   "name": "python3"
  },
  "language_info": {
   "codemirror_mode": {
    "name": "ipython",
    "version": 3
   },
   "file_extension": ".py",
   "mimetype": "text/x-python",
   "name": "python",
   "nbconvert_exporter": "python",
   "pygments_lexer": "ipython3",
   "version": "3.9.7"
  },
  "toc": {
   "base_numbering": 1,
   "nav_menu": {},
   "number_sections": true,
   "sideBar": true,
   "skip_h1_title": false,
   "title_cell": "Table of Contents",
   "title_sidebar": "Contents",
   "toc_cell": false,
   "toc_position": {},
   "toc_section_display": true,
   "toc_window_display": false
  }
 },
 "nbformat": 4,
 "nbformat_minor": 2
}
