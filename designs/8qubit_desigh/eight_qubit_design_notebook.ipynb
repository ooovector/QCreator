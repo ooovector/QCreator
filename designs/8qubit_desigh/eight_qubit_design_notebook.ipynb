{
 "cells": [
  {
   "cell_type": "code",
   "execution_count": 1,
   "id": "ab801ce2",
   "metadata": {
    "ExecuteTime": {
     "end_time": "2022-01-07T20:40:13.973180Z",
     "start_time": "2022-01-07T20:40:13.293708Z"
    }
   },
   "outputs": [],
   "source": [
    "import sys\n",
    "sys.path.append('../..')\n",
    "\n",
    "from importlib import reload\n",
    "import numpy as np\n",
    "from matplotlib import pyplot as plt\n",
    "import eight_qubit_design as eqd\n",
    "import QCreator.elements as elements\n",
    "import QCreator.auxiliary_functions as auxfuncs"
   ]
  },
  {
   "cell_type": "code",
   "execution_count": 2,
   "id": "9314326e",
   "metadata": {
    "ExecuteTime": {
     "end_time": "2022-01-07T20:40:13.980487Z",
     "start_time": "2022-01-07T20:40:13.974551Z"
    }
   },
   "outputs": [
    {
     "data": {
      "text/plain": [
       "<module 'eight_qubit_design' from '/home/alena/QCreator/designs/8qubit_desigh/eight_qubit_design.py'>"
      ]
     },
     "execution_count": 2,
     "metadata": {},
     "output_type": "execute_result"
    }
   ],
   "source": [
    "from importlib import reload\n",
    "reload(eqd)"
   ]
  },
  {
   "cell_type": "markdown",
   "id": "23d4ef55",
   "metadata": {},
   "source": [
    "# Create design"
   ]
  },
  {
   "cell_type": "markdown",
   "id": "34dc9610",
   "metadata": {},
   "source": [
    "## Chip edge ground  and contact pads"
   ]
  },
  {
   "cell_type": "code",
   "execution_count": 3,
   "id": "745b04c3",
   "metadata": {
    "ExecuteTime": {
     "end_time": "2022-01-07T20:40:14.156914Z",
     "start_time": "2022-01-07T20:40:13.982055Z"
    }
   },
   "outputs": [],
   "source": [
    "# Ilya wants:\n",
    "# 1. increase length of coupler between purcell and TL up to 650 mu m \n",
    "# 2. Bridges after pads"
   ]
  },
  {
   "cell_type": "code",
   "execution_count": 4,
   "id": "50de6c54",
   "metadata": {
    "ExecuteTime": {
     "end_time": "2022-01-07T20:40:14.258091Z",
     "start_time": "2022-01-07T20:40:14.160054Z"
    }
   },
   "outputs": [],
   "source": [
    "# eqd.sample.draw_design()"
   ]
  },
  {
   "cell_type": "code",
   "execution_count": 5,
   "id": "ed22ed54",
   "metadata": {
    "ExecuteTime": {
     "end_time": "2022-01-07T20:40:14.364619Z",
     "start_time": "2022-01-07T20:40:14.263081Z"
    }
   },
   "outputs": [],
   "source": [
    "# eqd.sample.watch()"
   ]
  },
  {
   "cell_type": "markdown",
   "id": "77e406ca",
   "metadata": {},
   "source": [
    "## Add coaxmons"
   ]
  },
  {
   "cell_type": "code",
   "execution_count": 6,
   "id": "c5084bec",
   "metadata": {
    "ExecuteTime": {
     "end_time": "2022-01-07T20:40:14.816916Z",
     "start_time": "2022-01-07T20:40:14.365779Z"
    }
   },
   "outputs": [],
   "source": [
    "eqd.sample.add(eqd.coaxmon1)\n",
    "eqd.sample.add(eqd.coaxmon2)\n",
    "eqd.sample.add(eqd.coaxmon3)\n",
    "eqd.sample.add(eqd.coaxmon4)\n",
    "\n",
    "eqd.sample.add(eqd.coaxmon5)\n",
    "eqd.sample.add(eqd.coaxmon6)\n",
    "eqd.sample.add(eqd.coaxmon7)\n",
    "eqd.sample.add(eqd.coaxmon8)\n",
    "\n",
    "eqd.sample.draw_design()\n",
    "# eqd.sample.watch()"
   ]
  },
  {
   "cell_type": "code",
   "execution_count": 7,
   "id": "45a367e3",
   "metadata": {
    "ExecuteTime": {
     "end_time": "2022-01-07T20:40:14.820231Z",
     "start_time": "2022-01-07T20:40:14.818010Z"
    }
   },
   "outputs": [],
   "source": [
    "# eqd.sample.watch()"
   ]
  },
  {
   "cell_type": "code",
   "execution_count": 8,
   "id": "20fb11a5",
   "metadata": {
    "ExecuteTime": {
     "end_time": "2022-01-07T20:40:14.930841Z",
     "start_time": "2022-01-07T20:40:14.821434Z"
    }
   },
   "outputs": [],
   "source": [
    "# define airbridges parameters\n",
    "airbridge = elements.AirBridgeGeometry(pad_width=36, pad_length=22, pad_distance=62,\n",
    "                                       narrow_width=20, narrow_length=46, sm_pad_length=10,\n",
    "                                       sm_pad_distance=70, layer_configuration=eqd.sample.layer_configuration)\n",
    "# resonator_min_bridge_spacing = 100\n",
    "resonator_min_bridge_spacing = 50\n",
    "min_bridge_spacing = 300"
   ]
  },
  {
   "cell_type": "code",
   "execution_count": 9,
   "id": "1449928a",
   "metadata": {
    "ExecuteTime": {
     "end_time": "2022-01-07T20:40:15.060825Z",
     "start_time": "2022-01-07T20:40:14.935238Z"
    }
   },
   "outputs": [],
   "source": [
    "# eqd.sample.write_to_gds()"
   ]
  },
  {
   "cell_type": "markdown",
   "id": "f77c4b05",
   "metadata": {},
   "source": [
    "## SQUID tunable couplers "
   ]
  },
  {
   "cell_type": "code",
   "execution_count": 10,
   "id": "5d8d91bf",
   "metadata": {
    "ExecuteTime": {
     "end_time": "2022-01-07T20:40:15.163729Z",
     "start_time": "2022-01-07T20:40:15.062969Z"
    }
   },
   "outputs": [],
   "source": [
    "from QCreator.elements.squid_in_line import SquidInLine, rotate_point\n",
    "from QCreator.elements.JJ_in_line import JJInLine\n",
    "from QCreator.elements.gflux_squid import GFluxControllableSquid"
   ]
  },
  {
   "cell_type": "code",
   "execution_count": 11,
   "id": "9723d42d",
   "metadata": {
    "ExecuteTime": {
     "end_time": "2022-01-07T20:40:15.269971Z",
     "start_time": "2022-01-07T20:40:15.166542Z"
    }
   },
   "outputs": [],
   "source": [
    "jc = 1e-6\n",
    "length = 60\n",
    "\n",
    "coupler_s = 26\n",
    "flux_w = 10\n",
    "flux_s = 6\n",
    "flux_g = 20\n",
    "\n",
    "side_squid_offset = 200\n",
    "qubit_position_offset = 900\n",
    "tunable_coupler_length =1600\n",
    "\n",
    "side_squid_offset = 200\n",
    "\n",
    "squid_coupler_horizontal =  {'jjs_height': 0.3,\n",
    "                             'jjs_width': 0.3,\n",
    "                             'jj_lead_width':0.5,\n",
    "                             'chain_width':0.5,\n",
    "                             'ics': 0.3*0.3*jc,\n",
    "                             'icb': 0.5*0.5*jc,\n",
    "                             'chain_junctions': 1,\n",
    "                             'lm': 3.3e-12,\n",
    "                             'squid_orientation': 'horizontal',\n",
    "                             'jjs_distance': 0.16,\n",
    "                             'chain_jj_distance': 0.16}\n",
    "squid_coupler_vertical =    {'jjs_height': 0.3,\n",
    "                             'jjs_width': 0.3,\n",
    "                             'jj_lead_width':0.5,\n",
    "                             'chain_width':0.5,\n",
    "                             'ics': 0.3*0.3*jc,\n",
    "                             'icb': 0.5*0.5*jc,\n",
    "                             'chain_junctions': 1,\n",
    "                             'lm': 3.3e-12,\n",
    "                             'squid_orientation': 'vertical',\n",
    "                             'jjs_distance': 0.16,\n",
    "                             'chain_jj_distance': 0.16}"
   ]
  },
  {
   "cell_type": "code",
   "execution_count": 12,
   "id": "e4dd7269",
   "metadata": {
    "ExecuteTime": {
     "end_time": "2022-01-07T20:40:15.371976Z",
     "start_time": "2022-01-07T20:40:15.271776Z"
    }
   },
   "outputs": [],
   "source": [
    "nu_bottom_squid_lines = 3\n",
    "bottom_squid_lines_positions = []\n",
    "for i in range(nu_bottom_squid_lines):\n",
    "    position = (eqd.sample.chip_geometry.sample_horizontal_size/2 + (i-1) * tunable_coupler_length,\n",
    "                eqd.sample.chip_geometry.sample_vertical_size/2-qubit_position_offset)\n",
    "    bottom_squid_lines_positions.append(position)\n",
    "\n",
    "nu_top_squid_lines = 3\n",
    "top_squid_lines_positions = []\n",
    "for i in range(nu_top_squid_lines):\n",
    "    position = (eqd.sample.chip_geometry.sample_horizontal_size/2 + (i-1) * tunable_coupler_length,\n",
    "                eqd.sample.chip_geometry.sample_vertical_size/2+qubit_position_offset)\n",
    "    top_squid_lines_positions.append(position)\n",
    "\n",
    "nu_vertical_squid_lines = 4\n",
    "vertical_squid_lines_positions = []\n",
    "for i in range(nu_vertical_squid_lines):\n",
    "    if i % 2 == 0:\n",
    "        position = (eqd.sample.chip_geometry.sample_horizontal_size/2 + (i-3/2) * tunable_coupler_length,\n",
    "                    eqd.sample.chip_geometry.sample_vertical_size/2-side_squid_offset)\n",
    "    else:\n",
    "        position = (eqd.sample.chip_geometry.sample_horizontal_size/2 + (i-3/2) * tunable_coupler_length,\n",
    "                    eqd.sample.chip_geometry.sample_vertical_size/2+side_squid_offset)\n",
    "\n",
    "    vertical_squid_lines_positions.append(position)"
   ]
  },
  {
   "cell_type": "code",
   "execution_count": 13,
   "id": "d3d3c7c6",
   "metadata": {
    "ExecuteTime": {
     "end_time": "2022-01-07T20:40:15.510503Z",
     "start_time": "2022-01-07T20:40:15.374805Z"
    }
   },
   "outputs": [
    {
     "name": "stdout",
     "output_type": "stream",
     "text": [
      "{'jjs_height': 0.3, 'jjs_width': 0.3, 'jj_lead_width': 0.5, 'chain_width': 0.5, 'ics': 9e-08, 'icb': 2.5e-07, 'chain_junctions': 1, 'lm': 3.3e-12, 'squid_orientation': 'horizontal', 'jjs_distance': 0.16, 'chain_jj_distance': 0.16}\n",
      "{'jjs_height': 0.3, 'jjs_width': 0.3, 'jj_lead_width': 0.5, 'chain_width': 0.5, 'ics': 9e-08, 'icb': 2.5e-07, 'chain_junctions': 1, 'lm': 3.3e-12, 'squid_orientation': 'horizontal', 'jjs_distance': 0.16, 'chain_jj_distance': 0.16}\n",
      "{'jjs_height': 0.3, 'jjs_width': 0.3, 'jj_lead_width': 0.5, 'chain_width': 0.5, 'ics': 9e-08, 'icb': 2.5e-07, 'chain_junctions': 1, 'lm': 3.3e-12, 'squid_orientation': 'horizontal', 'jjs_distance': 0.16, 'chain_jj_distance': 0.16}\n",
      "{'jjs_height': 0.3, 'jjs_width': 0.3, 'jj_lead_width': 0.5, 'chain_width': 0.5, 'ics': 9e-08, 'icb': 2.5e-07, 'chain_junctions': 1, 'lm': 3.3e-12, 'squid_orientation': 'horizontal', 'jjs_distance': 0.16, 'chain_jj_distance': 0.16}\n",
      "{'jjs_height': 0.3, 'jjs_width': 0.3, 'jj_lead_width': 0.5, 'chain_width': 0.5, 'ics': 9e-08, 'icb': 2.5e-07, 'chain_junctions': 1, 'lm': 3.3e-12, 'squid_orientation': 'horizontal', 'jjs_distance': 0.16, 'chain_jj_distance': 0.16}\n",
      "{'jjs_height': 0.3, 'jjs_width': 0.3, 'jj_lead_width': 0.5, 'chain_width': 0.5, 'ics': 9e-08, 'icb': 2.5e-07, 'chain_junctions': 1, 'lm': 3.3e-12, 'squid_orientation': 'horizontal', 'jjs_distance': 0.16, 'chain_jj_distance': 0.16}\n",
      "{'jjs_height': 0.3, 'jjs_width': 0.3, 'jj_lead_width': 0.5, 'chain_width': 0.5, 'ics': 9e-08, 'icb': 2.5e-07, 'chain_junctions': 1, 'lm': 3.3e-12, 'squid_orientation': 'vertical', 'jjs_distance': 0.16, 'chain_jj_distance': 0.16}\n",
      "{'jjs_height': 0.3, 'jjs_width': 0.3, 'jj_lead_width': 0.5, 'chain_width': 0.5, 'ics': 9e-08, 'icb': 2.5e-07, 'chain_junctions': 1, 'lm': 3.3e-12, 'squid_orientation': 'vertical', 'jjs_distance': 0.16, 'chain_jj_distance': 0.16}\n",
      "{'jjs_height': 0.3, 'jjs_width': 0.3, 'jj_lead_width': 0.5, 'chain_width': 0.5, 'ics': 9e-08, 'icb': 2.5e-07, 'chain_junctions': 1, 'lm': 3.3e-12, 'squid_orientation': 'vertical', 'jjs_distance': 0.16, 'chain_jj_distance': 0.16}\n",
      "{'jjs_height': 0.3, 'jjs_width': 0.3, 'jj_lead_width': 0.5, 'chain_width': 0.5, 'ics': 9e-08, 'icb': 2.5e-07, 'chain_junctions': 1, 'lm': 3.3e-12, 'squid_orientation': 'vertical', 'jjs_distance': 0.16, 'chain_jj_distance': 0.16}\n"
     ]
    }
   ],
   "source": [
    "bottom_squid_lines = []\n",
    "for squid_line_id, sl_position in zip(range(nu_bottom_squid_lines), bottom_squid_lines_positions):\n",
    "    squid_line = GFluxControllableSquid(name='squid_inline_bottom' + str(squid_line_id), position=sl_position, w=8, s=coupler_s, g=30,\n",
    "                                        layer_configuration=eqd.sample.layer_configuration, squid_params=squid_coupler_horizontal,\n",
    "                                        flux_w=flux_w, flux_s=flux_s, flux_g=flux_g)\n",
    "    bottom_squid_lines.append(squid_line)\n",
    "\n",
    "\n",
    "top_squid_lines = []\n",
    "for squid_line_id, sl_position in zip(range(nu_top_squid_lines), top_squid_lines_positions):\n",
    "    squid_line = GFluxControllableSquid(name='squid_inline_top' + str(squid_line_id), position=sl_position, w=8, s=coupler_s, g=30, invert_y=True,\n",
    "                                        layer_configuration=eqd.sample.layer_configuration, squid_params=squid_coupler_horizontal,\n",
    "                                        flux_w=flux_w, flux_s=flux_s, flux_g=flux_g)\n",
    "    top_squid_lines.append(squid_line)\n",
    "\n",
    "vertical_squid_lines = []\n",
    "for squid_line_id, sl_position in zip(range(nu_vertical_squid_lines), vertical_squid_lines_positions):\n",
    "    if squid_line_id % 2 == 0:\n",
    "        invert_x_=True\n",
    "        \n",
    "    else:\n",
    "        invert_x_=False\n",
    "    squid_line = GFluxControllableSquid(name='squid_inline_vertical' + str(squid_line_id), position=sl_position, w=8, s=coupler_s, g=30, invert_x=invert_x_,\n",
    "                                        layer_configuration=eqd.sample.layer_configuration, squid_params=squid_coupler_vertical,\n",
    "                                        flux_w=flux_w, flux_s=flux_s, flux_g=flux_g)\n",
    "    vertical_squid_lines.append(squid_line)\n"
   ]
  },
  {
   "cell_type": "code",
   "execution_count": 14,
   "id": "3da70467",
   "metadata": {
    "ExecuteTime": {
     "end_time": "2022-01-07T20:40:15.953535Z",
     "start_time": "2022-01-07T20:40:15.512650Z"
    }
   },
   "outputs": [],
   "source": [
    "for squid_line in bottom_squid_lines + top_squid_lines + vertical_squid_lines:\n",
    "    eqd.sample.add(squid_line)\n",
    "    \n",
    "eqd.sample.draw_design()\n",
    "# eqd.sample.watch()"
   ]
  },
  {
   "cell_type": "code",
   "execution_count": 15,
   "id": "5b636378",
   "metadata": {
    "ExecuteTime": {
     "end_time": "2022-01-07T20:40:15.962154Z",
     "start_time": "2022-01-07T20:40:15.954777Z"
    }
   },
   "outputs": [],
   "source": [
    "# Connections between qubits and couplers\n",
    "coupler_bridge_spacing = 500\n",
    "bottom_connections = zip((eqd.coaxmon1, eqd.coaxmon2, eqd.coaxmon5, eqd.coaxmon6),\n",
    "                      (bottom_squid_lines[0], bottom_squid_lines[0],\n",
    "                       bottom_squid_lines[2], bottom_squid_lines[2]),\n",
    "                      ('coupler3', 'coupler3', 'coupler4', 'coupler3'),\n",
    "                      ('port1', 'port2', 'port1', 'port2'))\n",
    "\n",
    "\n",
    "for qubit, squid_line, q_port, sl_port in bottom_connections:\n",
    "    eqd.sample.connect_cpw(qubit, squid_line, q_port, sl_port, 'jj-squid cpw', [], airbridge=airbridge,\n",
    "                           min_spacing=coupler_bridge_spacing)\n",
    "    \n",
    "top_connections = zip((eqd.coaxmon4, eqd.coaxmon3, eqd.coaxmon8, eqd.coaxmon7),\n",
    "                      (top_squid_lines[0], top_squid_lines[0],\n",
    "                       top_squid_lines[2], top_squid_lines[2]),\n",
    "                      ('coupler3', 'coupler4', 'coupler3', 'coupler3'),\n",
    "                      ('port1', 'port2', 'port1', 'port2'))\n",
    "\n",
    "for qubit, squid_line, q_port, sl_port in top_connections:\n",
    "    eqd.sample.connect_cpw(qubit, squid_line, q_port, sl_port, 'jj-squid cpw', [], airbridge=airbridge,\n",
    "                           min_spacing=coupler_bridge_spacing)\n"
   ]
  },
  {
   "cell_type": "code",
   "execution_count": 16,
   "id": "8687df2e",
   "metadata": {
    "ExecuteTime": {
     "end_time": "2022-01-07T20:40:16.424886Z",
     "start_time": "2022-01-07T20:40:15.963925Z"
    }
   },
   "outputs": [],
   "source": [
    "eqd.sample.draw_design()\n",
    "# eqd.sample.watch()"
   ]
  },
  {
   "cell_type": "code",
   "execution_count": 17,
   "id": "3bf3a5f5",
   "metadata": {
    "ExecuteTime": {
     "end_time": "2022-01-07T20:40:16.428372Z",
     "start_time": "2022-01-07T20:40:16.426025Z"
    }
   },
   "outputs": [],
   "source": [
    "# eqd.sample.watch()"
   ]
  },
  {
   "cell_type": "markdown",
   "id": "3b444101",
   "metadata": {},
   "source": [
    "## Cross line bridges"
   ]
  },
  {
   "cell_type": "code",
   "execution_count": 18,
   "id": "715a090b",
   "metadata": {
    "ExecuteTime": {
     "end_time": "2022-01-07T20:40:16.535623Z",
     "start_time": "2022-01-07T20:40:16.429708Z"
    }
   },
   "outputs": [],
   "source": [
    "from QCreator.elements import cross_lines"
   ]
  },
  {
   "cell_type": "code",
   "execution_count": 19,
   "id": "79740f0b",
   "metadata": {
    "ExecuteTime": {
     "end_time": "2022-01-07T20:40:16.642986Z",
     "start_time": "2022-01-07T20:40:16.540504Z"
    }
   },
   "outputs": [],
   "source": [
    "nu_reflection_cross_lines = 4\n",
    "reflection_cross_lines_positions = []\n",
    "for i in range(nu_reflection_cross_lines):\n",
    "    position = (eqd.sample.chip_geometry.sample_horizontal_size/2 + (i-3/2) *\n",
    "                tunable_coupler_length, eqd.sample.chip_geometry.sample_vertical_size/2)\n",
    "    reflection_cross_lines_positions.append(position)\n",
    "\n",
    "nu_flux_cross_lines = 2\n",
    "flux_cross_line_offset = 450\n",
    "flux_cross_lines_positions = [(eqd.sample.chip_geometry.sample_horizontal_size/2 - flux_cross_line_offset,\n",
    "                               eqd.sample.chip_geometry.sample_vertical_size/2+qubit_position_offset),\n",
    "                              (eqd.sample.chip_geometry.sample_horizontal_size/2 + flux_cross_line_offset,\n",
    "                              eqd.sample.chip_geometry.sample_vertical_size/2-qubit_position_offset)]"
   ]
  },
  {
   "cell_type": "code",
   "execution_count": 20,
   "id": "dfdac1c8",
   "metadata": {
    "ExecuteTime": {
     "end_time": "2022-01-07T20:40:16.766415Z",
     "start_time": "2022-01-07T20:40:16.644414Z"
    }
   },
   "outputs": [],
   "source": [
    "cross_bridges = []\n",
    "for cross_line_id, cross_line_position in zip(range(nu_reflection_cross_lines), reflection_cross_lines_positions):\n",
    "    cross_line = cross_lines.CrossLinesViaAirbridges('reflection_cross_line'+str(cross_line_id),\n",
    "                                                     cross_line_position, 0, eqd.tl_core, eqd.tl_gap, eqd.tl_ground,\n",
    "                                                     8, coupler_s, 30, 46, airbridge)\n",
    "    eqd.sample.add(cross_line)\n",
    "    cross_bridges.append(cross_line)\n",
    "\n",
    "for cross_line_id, cross_line_position in zip(range(nu_flux_cross_lines), flux_cross_lines_positions):\n",
    "    cross_line = cross_lines.CrossLinesViaAirbridges('flux_cross_line'+str(cross_line_id),\n",
    "                                                     cross_line_position, np.pi/2, eqd.tl_core, eqd.tl_gap, eqd.tl_ground,\n",
    "                                                     8, coupler_s, 30, 46, airbridge)\n",
    "    eqd.sample.add(cross_line)\n",
    "    cross_bridges.append(cross_line)"
   ]
  },
  {
   "cell_type": "code",
   "execution_count": 21,
   "id": "1972f6d5",
   "metadata": {
    "ExecuteTime": {
     "end_time": "2022-01-07T20:40:17.235154Z",
     "start_time": "2022-01-07T20:40:16.767837Z"
    }
   },
   "outputs": [],
   "source": [
    "eqd.sample.draw_design()\n",
    "# eqd.sample.watch()"
   ]
  },
  {
   "cell_type": "code",
   "execution_count": 22,
   "id": "44ef470f",
   "metadata": {
    "ExecuteTime": {
     "end_time": "2022-01-07T20:40:17.248902Z",
     "start_time": "2022-01-07T20:40:17.236306Z"
    }
   },
   "outputs": [],
   "source": [
    "# Connection between cross lines and couplers and qubits\n",
    "cross_bridges_connections1 = zip((eqd.coaxmon1, eqd.coaxmon4, cross_bridges[0], eqd.coaxmon5, eqd.coaxmon8, cross_bridges[2]),\n",
    "                                 (vertical_squid_lines[0], cross_bridges[0],\n",
    "                                  vertical_squid_lines[0], vertical_squid_lines[2], cross_bridges[2],\n",
    "                                  vertical_squid_lines[2]),\n",
    "                                 ('coupler2', 'coupler2', 'bottom_2',\n",
    "                                  'coupler2', 'coupler2', 'bottom_2'),\n",
    "                                 ('port1', 'bottom_1', 'port2', 'port1', 'bottom_1', 'port2'))\n",
    "\n",
    "\n",
    "for elem1, elem2, port1, port2 in cross_bridges_connections1:\n",
    "    eqd.sample.connect_cpw(elem1, elem2, port1, port2, 'jj-squid cpw', [], airbridge=airbridge,\n",
    "                           min_spacing=coupler_bridge_spacing)\n",
    "    \n",
    "cross_bridges_connections2 = zip((eqd.coaxmon7, eqd.coaxmon6, cross_bridges[3], eqd.coaxmon3, eqd.coaxmon2, cross_bridges[1]),\n",
    "                                 (vertical_squid_lines[3], cross_bridges[3],\n",
    "                                  vertical_squid_lines[3], vertical_squid_lines[1], cross_bridges[1],\n",
    "                                  vertical_squid_lines[1]),\n",
    "                                 ('coupler2', 'coupler2', 'bottom_1', 'coupler2', 'coupler2', 'bottom_1'),\n",
    "                                 ('port2', 'bottom_2', 'port1', 'port2', 'bottom_2', 'port1'))\n",
    "\n",
    "\n",
    "for elem1, elem2, port1, port2 in cross_bridges_connections2:\n",
    "    eqd.sample.connect_cpw(elem1, elem2, port1, port2, 'jj-squid cpw', [], airbridge=airbridge,\n",
    "                           min_spacing=coupler_bridge_spacing)\n",
    "\n",
    "cross_bridges_connections3 = zip((eqd.coaxmon2, eqd.coaxmon5, cross_bridges[5]),\n",
    "                                 (bottom_squid_lines[1], cross_bridges[5],\n",
    "                                  bottom_squid_lines[1]),\n",
    "                                 ('coupler4', 'coupler3', 'bottom_1'),\n",
    "                                 ('port1', 'bottom_2', 'port2'))\n",
    "\n",
    "\n",
    "for elem1, elem2, port1, port2 in cross_bridges_connections3:\n",
    "    eqd.sample.connect_cpw(elem1, elem2, port1, port2, 'jj-squid cpw', [], airbridge=airbridge,\n",
    "                           min_spacing=coupler_bridge_spacing)\n",
    "    \n",
    "cross_bridges_connections4 = zip((eqd.coaxmon8, eqd.coaxmon3, cross_bridges[4]),\n",
    "                                 (top_squid_lines[1], cross_bridges[4],\n",
    "                                  top_squid_lines[1]),\n",
    "                                 ('coupler4', 'coupler3', 'bottom_2'),\n",
    "                                 ('port2', 'bottom_1', 'port1'))\n",
    "\n",
    "\n",
    "for elem1, elem2, port1, port2 in cross_bridges_connections4:\n",
    "    eqd.sample.connect_cpw(elem1, elem2, port1, port2, 'jj-squid cpw', [], airbridge=airbridge,\n",
    "                           min_spacing=coupler_bridge_spacing)"
   ]
  },
  {
   "cell_type": "code",
   "execution_count": 23,
   "id": "68700e49",
   "metadata": {
    "ExecuteTime": {
     "end_time": "2022-01-07T20:40:17.764960Z",
     "start_time": "2022-01-07T20:40:17.250074Z"
    }
   },
   "outputs": [],
   "source": [
    "eqd.sample.draw_design()\n",
    "# eqd.sample.watch()"
   ]
  },
  {
   "cell_type": "code",
   "execution_count": 24,
   "id": "5025e2e2",
   "metadata": {
    "ExecuteTime": {
     "end_time": "2022-01-07T20:40:17.767976Z",
     "start_time": "2022-01-07T20:40:17.766056Z"
    }
   },
   "outputs": [],
   "source": [
    "# eqd.sample.watch()"
   ]
  },
  {
   "cell_type": "markdown",
   "id": "cf0d2836",
   "metadata": {},
   "source": [
    "## Add extra airbridges near pads and cross lines"
   ]
  },
  {
   "cell_type": "code",
   "execution_count": 25,
   "id": "43c9e3b2",
   "metadata": {
    "ExecuteTime": {
     "end_time": "2022-01-07T20:40:18.292317Z",
     "start_time": "2022-01-07T20:40:17.769435Z"
    }
   },
   "outputs": [],
   "source": [
    "TL_bridges_ports = []\n",
    "TL_extra_bridges = []\n",
    "# bridge near pads\n",
    "for elem in [eqd.pads_left[1], eqd.pads_right[1]]:\n",
    "    bridge, port = eqd.sample.airbridge(\n",
    "    elem, 'port', name='Airbridge near pad %s'% elem.name, geometry=airbridge)\n",
    "    TL_extra_bridges.append(bridge)\n",
    "    TL_bridges_ports.append(port)\n",
    "    \n",
    "# bridge near cross lines\n",
    "for elem_id, elem in enumerate(cross_bridges):    \n",
    "    bridge, port = eqd.sample.airbridge(\n",
    "    elem, 'top_1', name='Airbridge near cross line %s'% elem.name, geometry=airbridge)\n",
    "    TL_extra_bridges.append(bridge)\n",
    "    TL_bridges_ports.append(port)\n",
    "    \n",
    "    bridge, port = eqd.sample.airbridge(\n",
    "    elem, 'top_2', name='Airbridge near cross line %s'% elem.name, geometry=airbridge)\n",
    "    TL_extra_bridges.append(bridge)\n",
    "    TL_bridges_ports.append(port)\n",
    "    \n",
    "eqd.sample.draw_design()\n",
    "# eqd.sample.watch()"
   ]
  },
  {
   "cell_type": "code",
   "execution_count": 26,
   "id": "38c6ae63",
   "metadata": {
    "ExecuteTime": {
     "end_time": "2022-01-07T20:40:18.295802Z",
     "start_time": "2022-01-07T20:40:18.293513Z"
    }
   },
   "outputs": [],
   "source": [
    "# eqd.sample.watch()"
   ]
  },
  {
   "cell_type": "markdown",
   "id": "b526aff1",
   "metadata": {
    "ExecuteTime": {
     "end_time": "2021-12-21T20:51:30.100053Z",
     "start_time": "2021-12-21T20:51:10.412648Z"
    }
   },
   "source": [
    "## Add flux lines "
   ]
  },
  {
   "cell_type": "code",
   "execution_count": 27,
   "id": "ae7ac48b",
   "metadata": {
    "ExecuteTime": {
     "end_time": "2022-01-07T20:40:18.432448Z",
     "start_time": "2022-01-07T20:40:18.297272Z"
    }
   },
   "outputs": [
    {
     "data": {
      "text/plain": [
       "[CPW \"flux_control_line_qubit_pad-bottom-3s0\", l=277.495,\n",
       " CPW \"flux_control_line_qubit_pad-bottom-3s1\", l=443.562,\n",
       " CPW \"flux_control_line_qubit_pad-bottom-3s2\", l=277.601]"
      ]
     },
     "execution_count": 27,
     "metadata": {},
     "output_type": "execute_result"
    }
   ],
   "source": [
    "# eqd.sample.connect_cpw(eqd.pads_top[2],\n",
    "#                        cross_bridges[4],\n",
    "#                        'port',\n",
    "#                        'top_2',\n",
    "#                        'flux_control_line_qubit_' + cross_bridges[2].name,\n",
    "#                        points=[],\n",
    "#                        airbridge=airbridge,\n",
    "#                        min_spacing=min_bridge_spacing,\n",
    "#                        r=80)\n",
    "# eqd.sample.connect_cpw(eqd.pads_bottom[4],\n",
    "#                        cross_bridges[5],\n",
    "#                        'port',\n",
    "#                        'top_1',\n",
    "#                        'flux_control_line_qubit_' + eqd.pads_bottom[3].name,\n",
    "#                        points=[],\n",
    "#                        airbridge=airbridge,\n",
    "#                        min_spacing=min_bridge_spacing,\n",
    "#                        r=50)\n",
    "eqd.sample.connect_cpw(eqd.pads_top[2],\n",
    "                       TL_extra_bridges[11],\n",
    "                       'port',\n",
    "                       TL_bridges_ports[11],\n",
    "                       'flux_control_line_qubit_' + cross_bridges[2].name,\n",
    "                       points=[],\n",
    "                       airbridge=airbridge,\n",
    "                       min_spacing=min_bridge_spacing,\n",
    "                       r=80)\n",
    "eqd.sample.connect_cpw(eqd.pads_bottom[4],\n",
    "                       TL_extra_bridges[12],\n",
    "                       'port',\n",
    "                       TL_bridges_ports[12],\n",
    "                       'flux_control_line_qubit_' + eqd.pads_bottom[3].name,\n",
    "                       points=[],\n",
    "                       airbridge=airbridge,\n",
    "                       min_spacing=min_bridge_spacing,\n",
    "                       r=50)"
   ]
  },
  {
   "cell_type": "code",
   "execution_count": 28,
   "id": "fba7fd8f",
   "metadata": {
    "ExecuteTime": {
     "end_time": "2022-01-07T20:40:18.945815Z",
     "start_time": "2022-01-07T20:40:18.441563Z"
    }
   },
   "outputs": [],
   "source": [
    "eqd.sample.draw_design()\n",
    "# eqd.sample.watch()"
   ]
  },
  {
   "cell_type": "code",
   "execution_count": 29,
   "id": "05f8fc76",
   "metadata": {
    "ExecuteTime": {
     "end_time": "2022-01-07T20:40:18.952070Z",
     "start_time": "2022-01-07T20:40:18.947023Z"
    }
   },
   "outputs": [],
   "source": [
    "flux_pads_qubits_and_couplers = [\n",
    "    (vertical_squid_lines[3],  eqd.pads_right[0], []),\n",
    "#     (,  eqd.pads_right[1], []), to readout\n",
    "    (eqd.coaxmon6,  eqd.pads_right[2], []),\n",
    "    \n",
    "    (eqd.coaxmon4,  eqd.pads_left[0], []),\n",
    "#     (,  eqd.pads_left[1], []), to readout\n",
    "    (vertical_squid_lines[0],  eqd.pads_left[2], []),\n",
    "    \n",
    "    (eqd.coaxmon1,  eqd.pads_bottom[0], []),\n",
    "    (bottom_squid_lines[0],  eqd.pads_bottom[1], []),\n",
    "    (eqd.coaxmon2,  eqd.pads_bottom[2], []),\n",
    "    (bottom_squid_lines[1],  eqd.pads_bottom[3], []),\n",
    "#     (,  eqd.pads_bottom[4], []), bridge\n",
    "    (eqd.coaxmon5,  eqd.pads_bottom[5], []),\n",
    "    (bottom_squid_lines[2],  eqd.pads_bottom[6], []),\n",
    "    \n",
    "    (top_squid_lines[0],  eqd.pads_top[0], []),\n",
    "    (eqd.coaxmon3,  eqd.pads_top[1], []),\n",
    "#     (,  eqd.pads_top[2], []), bridge\n",
    "    (top_squid_lines[1],  eqd.pads_top[3], []),\n",
    "    (eqd.coaxmon8,  eqd.pads_top[4], []),\n",
    "    (top_squid_lines[2],  eqd.pads_top[5], []),\n",
    "    (eqd.coaxmon7,  eqd.pads_top[6], [])\n",
    "    ]"
   ]
  },
  {
   "cell_type": "code",
   "execution_count": 30,
   "id": "b422d4f0",
   "metadata": {
    "ExecuteTime": {
     "end_time": "2022-01-07T20:40:19.128301Z",
     "start_time": "2022-01-07T20:40:18.953595Z"
    }
   },
   "outputs": [
    {
     "name": "stdout",
     "output_type": "stream",
     "text": [
      "<QCreator.elements.gflux_squid.GFluxControllableSquid object at 0x7fd454965910>\n",
      "<QCreator.elements.coaxmon.Coaxmon object at 0x7fd454c32820>\n",
      "<QCreator.elements.coaxmon.Coaxmon object at 0x7fd454c32880>\n",
      "<QCreator.elements.gflux_squid.GFluxControllableSquid object at 0x7fd454969100>\n",
      "<QCreator.elements.coaxmon.Coaxmon object at 0x7fd45b7c5820>\n",
      "<QCreator.elements.gflux_squid.GFluxControllableSquid object at 0x7fd4549690d0>\n",
      "<QCreator.elements.coaxmon.Coaxmon object at 0x7fd45b7c5880>\n",
      "<QCreator.elements.gflux_squid.GFluxControllableSquid object at 0x7fd45494a0d0>\n",
      "<QCreator.elements.coaxmon.Coaxmon object at 0x7fd454c329d0>\n",
      "<QCreator.elements.gflux_squid.GFluxControllableSquid object at 0x7fd45494a5b0>\n",
      "<QCreator.elements.gflux_squid.GFluxControllableSquid object at 0x7fd4549694f0>\n",
      "<QCreator.elements.coaxmon.Coaxmon object at 0x7fd454c32d00>\n",
      "<QCreator.elements.gflux_squid.GFluxControllableSquid object at 0x7fd45494a430>\n",
      "<QCreator.elements.coaxmon.Coaxmon object at 0x7fd454c32490>\n",
      "<QCreator.elements.gflux_squid.GFluxControllableSquid object at 0x7fd45494aa30>\n",
      "<QCreator.elements.coaxmon.Coaxmon object at 0x7fd454c32610>\n"
     ]
    }
   ],
   "source": [
    "for elem, pad, points in flux_pads_qubits_and_couplers:  \n",
    "    bridge, port = eqd.sample.airbridge(\n",
    "            elem, 'flux', name='Airbridge over %s qubit flux coupler' % elem.name, geometry=airbridge)\n",
    "    \n",
    "    narrowing_length = 25\n",
    "    flux_line_narrowing_position = eqd.sample.cpw_shift(bridge, port, narrowing_length/2)[0]\n",
    "\n",
    "    flux_line_narrowing = eqd.elements.Narrowing(name='flux_line_narrowing', position=flux_line_narrowing_position, \n",
    "                                             orientation=bridge.terminals[port].orientation+np.pi, \n",
    "                                             w1=bridge.terminals[port].w, \n",
    "                                             s1=bridge.terminals[port].s, g1=bridge.terminals[port].g,\n",
    "                                             w2=eqd.tl_core, s2=eqd.tl_gap, g2=eqd.tl_ground, \n",
    "                                             layer_configuration=eqd.sample.layer_configuration, length=narrowing_length)\n",
    "    eqd.sample.add(flux_line_narrowing)\n",
    "    eqd.sample.connect(flux_line_narrowing, 'port1', bridge, port)\n",
    "    eqd.sample.connect_cpw(pad, flux_line_narrowing, 'port', 'port2', 'flux_control_line_qubit_'+elem.name, points=points,\n",
    "                          airbridge=airbridge, min_spacing=min_bridge_spacing, r=80)\n",
    "    print(elem)"
   ]
  },
  {
   "cell_type": "code",
   "execution_count": 31,
   "id": "87cc5597",
   "metadata": {
    "ExecuteTime": {
     "end_time": "2022-01-07T20:40:19.261187Z",
     "start_time": "2022-01-07T20:40:19.129634Z"
    }
   },
   "outputs": [],
   "source": [
    "coplers_and_cross_bridges = [(vertical_squid_lines[1],  cross_bridges[4], []),\n",
    "                             (vertical_squid_lines[2],  cross_bridges[5], [])\n",
    "                             ]"
   ]
  },
  {
   "cell_type": "code",
   "execution_count": 32,
   "id": "9be851af",
   "metadata": {
    "ExecuteTime": {
     "end_time": "2022-01-07T20:40:19.373678Z",
     "start_time": "2022-01-07T20:40:19.264775Z"
    }
   },
   "outputs": [],
   "source": [
    "flux_line_narrowings = []\n",
    "for elem, cross_bridge,points in coplers_and_cross_bridges:  \n",
    "    bridge, port = eqd.sample.airbridge(\n",
    "            elem, 'flux', name='Airbridge over %s qubit flux coupler' % elem.name, geometry=airbridge)\n",
    "    narrowing_length = 25\n",
    "    flux_line_narrowing_position = eqd.sample.cpw_shift(bridge, port, narrowing_length/2)[0]\n",
    "    flux_line_narrowing = eqd.elements.Narrowing(name='flux_line_narrowing', position=flux_line_narrowing_position, \n",
    "                                             orientation=bridge.terminals[port].orientation+np.pi, \n",
    "                                             w1=bridge.terminals[port].w, \n",
    "                                             s1=bridge.terminals[port].s, g1=bridge.terminals[port].g,\n",
    "                                             w2=eqd.tl_core, s2=eqd.tl_gap, g2=eqd.tl_ground, \n",
    "                                             layer_configuration=eqd.sample.layer_configuration, length=narrowing_length)\n",
    "    eqd.sample.add(flux_line_narrowing)\n",
    "    flux_line_narrowings.append(flux_line_narrowing)\n",
    "    eqd.sample.connect(flux_line_narrowing, 'port1', bridge, port)"
   ]
  },
  {
   "cell_type": "code",
   "execution_count": 33,
   "id": "66cde693",
   "metadata": {
    "ExecuteTime": {
     "end_time": "2022-01-07T20:40:19.506489Z",
     "start_time": "2022-01-07T20:40:19.378879Z"
    }
   },
   "outputs": [
    {
     "data": {
      "text/plain": [
       "[CPW \"flux_control_line_qubit_squid_inline_vertical2s0\", l=175.347,\n",
       " CPW \"flux_control_line_qubit_squid_inline_vertical2s1\", l=478.949]"
      ]
     },
     "execution_count": 33,
     "metadata": {},
     "output_type": "execute_result"
    }
   ],
   "source": [
    "eqd.sample.connect_cpw(TL_extra_bridges[10],\n",
    "                       flux_line_narrowings[0],\n",
    "                       TL_bridges_ports[10],\n",
    "                       'port2',\n",
    "                       'flux_control_line_qubit_' + elem.name,\n",
    "                       points=[(eqd.coaxmon3.center[0] + 130,\n",
    "                                eqd.coaxmon3.center[1] - 420)],\n",
    "                       airbridge=airbridge,\n",
    "                       min_spacing=min_bridge_spacing/2,\n",
    "                       r=80)\n",
    "eqd.sample.connect_cpw(TL_extra_bridges[13],\n",
    "                       flux_line_narrowings[1],\n",
    "                       TL_bridges_ports[13],\n",
    "                       'port2',\n",
    "                       'flux_control_line_qubit_' + elem.name,\n",
    "                       points=[(eqd.coaxmon5.center[0] - 130,\n",
    "                                eqd.coaxmon5.center[1] + 420)],\n",
    "                       airbridge=airbridge,\n",
    "                       min_spacing=min_bridge_spacing/2,\n",
    "                       r=80)"
   ]
  },
  {
   "cell_type": "code",
   "execution_count": 34,
   "id": "e741ec41",
   "metadata": {
    "ExecuteTime": {
     "end_time": "2022-01-07T20:40:20.169827Z",
     "start_time": "2022-01-07T20:40:19.507976Z"
    }
   },
   "outputs": [],
   "source": [
    "eqd.sample.draw_design()\n",
    "# eqd.sample.watch()"
   ]
  },
  {
   "cell_type": "code",
   "execution_count": 35,
   "id": "99d163fc",
   "metadata": {
    "ExecuteTime": {
     "end_time": "2022-01-07T20:40:20.173179Z",
     "start_time": "2022-01-07T20:40:20.171036Z"
    }
   },
   "outputs": [],
   "source": [
    "# eqd.sample.watch()"
   ]
  },
  {
   "cell_type": "markdown",
   "id": "7199c6a0",
   "metadata": {},
   "source": [
    "## Add TL with couplers between line and purcells "
   ]
  },
  {
   "cell_type": "code",
   "execution_count": 36,
   "id": "b506bdb5",
   "metadata": {
    "ExecuteTime": {
     "end_time": "2022-01-07T20:40:20.300628Z",
     "start_time": "2022-01-07T20:40:20.174268Z"
    }
   },
   "outputs": [],
   "source": [
    "tunable_coupler_length =1600"
   ]
  },
  {
   "cell_type": "code",
   "execution_count": 37,
   "id": "eda96e18",
   "metadata": {
    "ExecuteTime": {
     "end_time": "2022-01-07T20:40:20.423231Z",
     "start_time": "2022-01-07T20:40:20.302850Z"
    }
   },
   "outputs": [],
   "source": [
    "# all couplers between TL and purcells \n",
    "TL_purcell_couplers = []"
   ]
  },
  {
   "cell_type": "code",
   "execution_count": 38,
   "id": "04f51a26",
   "metadata": {
    "ExecuteTime": {
     "end_time": "2022-01-07T20:40:20.521142Z",
     "start_time": "2022-01-07T20:40:20.425263Z"
    }
   },
   "outputs": [],
   "source": [
    "delta_from_fanout = eqd.resonator_ground + 2 * eqd.resonator_gap + eqd.resonator_core"
   ]
  },
  {
   "cell_type": "code",
   "execution_count": 39,
   "id": "aa8a6b7b",
   "metadata": {
    "ExecuteTime": {
     "end_time": "2022-01-07T20:40:20.621159Z",
     "start_time": "2022-01-07T20:40:20.522597Z"
    }
   },
   "outputs": [],
   "source": [
    "nu_couplers = 2\n",
    "tl_coupler_length1 = 600  # long coupling\n",
    "tl_coupler_length2 = 300 - 2 * delta_from_fanout # short double coupling\n",
    "tl_coupler_delta_length = tl_coupler_length1 - tl_coupler_length2\n",
    "coupler_width = eqd.tl_ground + eqd.tl_gap + eqd.tl_core + \\\n",
    "    eqd.resonator_gap + eqd.resonator_core + eqd.resonator_gap + eqd.resonator_ground"
   ]
  },
  {
   "cell_type": "code",
   "execution_count": 40,
   "id": "65cfc40e",
   "metadata": {
    "ExecuteTime": {
     "end_time": "2022-01-07T20:40:20.891334Z",
     "start_time": "2022-01-07T20:40:20.624829Z"
    }
   },
   "outputs": [],
   "source": [
    "# coupler_start_x_offset = 300\n",
    "coupler_start_x_offset = 450\n",
    "coupler_start_y_offset = coupler_width / 2 - (eqd.tl_ground + eqd.tl_gap + eqd.tl_core/ 2)\n",
    "coupler_start_x1 = eqd.pads_left[1].terminal.position[0] + coupler_start_x_offset\n",
    "coupler_start_y1 = eqd.pads_left[1].terminal.position[1] + coupler_start_y_offset\n",
    "\n",
    "coupler_start_x2 = eqd.pads_right[1].terminal.position[0] - coupler_start_x_offset\n",
    "coupler_start_y2 = eqd.pads_right[1].terminal.position[1] - coupler_start_y_offset"
   ]
  },
  {
   "cell_type": "code",
   "execution_count": 41,
   "id": "e897bdd7",
   "metadata": {
    "ExecuteTime": {
     "end_time": "2022-01-07T20:40:21.026250Z",
     "start_time": "2022-01-07T20:40:20.895828Z"
    }
   },
   "outputs": [],
   "source": [
    "coupler_positions = [[(coupler_start_x1, coupler_start_y1),\n",
    "                      (coupler_start_x1 + tl_coupler_length1, coupler_start_y1)],\n",
    "                     [(coupler_start_x2, coupler_start_y2),\n",
    "                      (coupler_start_x2 - tl_coupler_length1, coupler_start_y2)]]"
   ]
  },
  {
   "cell_type": "code",
   "execution_count": 42,
   "id": "1e282da2",
   "metadata": {
    "ExecuteTime": {
     "end_time": "2022-01-07T20:40:21.134777Z",
     "start_time": "2022-01-07T20:40:21.032219Z"
    }
   },
   "outputs": [],
   "source": [
    "coupler_w = [eqd.tl_core, eqd.resonator_core]\n",
    "coupler_s = [eqd.tl_gap, eqd.resonator_gap, eqd.resonator_gap]\n",
    "coupler_ground = eqd.resonator_ground"
   ]
  },
  {
   "cell_type": "markdown",
   "id": "e7eaa7da",
   "metadata": {},
   "source": [
    "### Add couplers 0 and 1 "
   ]
  },
  {
   "cell_type": "code",
   "execution_count": 43,
   "id": "e8290822",
   "metadata": {
    "ExecuteTime": {
     "end_time": "2022-01-07T20:40:21.242185Z",
     "start_time": "2022-01-07T20:40:21.140593Z"
    }
   },
   "outputs": [],
   "source": [
    "for coupler_id, position in zip(range(nu_couplers), coupler_positions):\n",
    "    main_coupler = elements.CPWCoupler('TL-purcell coupler',\n",
    "                                       position,\n",
    "                                       coupler_w,\n",
    "                                       coupler_s,\n",
    "                                       coupler_ground,\n",
    "                                       eqd.sample.layer_configuration,\n",
    "                                       r=0)\n",
    "\n",
    "    fanout1 = eqd.sample.fanout(o=main_coupler,\n",
    "                                port='port1',\n",
    "                                name='TL-purcell-fanout1',\n",
    "                                grouping=[0, 1])\n",
    "    fanout2 = eqd.sample.fanout(o=main_coupler,\n",
    "                                port='port2',\n",
    "                                name='TL-purcell-fanout2',\n",
    "                                grouping=[0, 1])\n",
    "    eqd.sample.add(main_coupler)\n",
    "    TL_purcell_couplers.append([fanout1, fanout2])"
   ]
  },
  {
   "cell_type": "code",
   "execution_count": 44,
   "id": "740457d1",
   "metadata": {
    "ExecuteTime": {
     "end_time": "2022-01-07T20:40:21.900354Z",
     "start_time": "2022-01-07T20:40:21.243592Z"
    }
   },
   "outputs": [
    {
     "name": "stderr",
     "output_type": "stream",
     "text": [
      "/home/alena/.local/lib/python3.9/site-packages/gdspy/path.py:616: UserWarning: [GDSPY] Possible inconsistency found in `FlexPath` due to sharp corner.\n",
      "  warnings.warn(\n"
     ]
    }
   ],
   "source": [
    "eqd.sample.draw_design()\n",
    "# eqd.sample.watch()"
   ]
  },
  {
   "cell_type": "code",
   "execution_count": 45,
   "id": "62d6d48d",
   "metadata": {
    "ExecuteTime": {
     "end_time": "2022-01-07T20:40:21.904585Z",
     "start_time": "2022-01-07T20:40:21.901677Z"
    }
   },
   "outputs": [],
   "source": [
    "double_coupler_w = [eqd.resonator_core, eqd.tl_core, eqd.resonator_core]\n",
    "double_coupler_s = [eqd.resonator_gap, eqd.resonator_gap, eqd.resonator_gap, eqd.resonator_gap]"
   ]
  },
  {
   "cell_type": "markdown",
   "id": "04f7709b",
   "metadata": {},
   "source": [
    "### Add couplers (2, 3) and (4, 5)"
   ]
  },
  {
   "cell_type": "code",
   "execution_count": 46,
   "id": "47ec9621",
   "metadata": {
    "ExecuteTime": {
     "end_time": "2022-01-07T20:40:22.050237Z",
     "start_time": "2022-01-07T20:40:21.906126Z"
    }
   },
   "outputs": [
    {
     "name": "stdout",
     "output_type": "stream",
     "text": [
      "coupler_top_position [(3250.0, 2358.0), (3582.0, 2358.0)]\n",
      "coupler_bottom_position [(2618.0, 2342.0), (2950.0, 2342.0)]\n",
      "coupler_top_position [(6450.0, 2358.0), (6782.0, 2358.0)]\n",
      "coupler_bottom_position [(5818.0, 2342.0), (6150.0, 2342.0)]\n"
     ]
    }
   ],
   "source": [
    "inner_coupler_start_y = eqd.pads_left[1].terminal.position[1]\n",
    "for i in [0, 2]:\n",
    "    inner_coupler_start_x = eqd.sample.chip_geometry.sample_horizontal_size / \\\n",
    "        2 + (i-1) * tunable_coupler_length\n",
    "\n",
    "    coupler_top_position = [\n",
    "        (inner_coupler_start_x + tl_coupler_length2 / 2 + delta_from_fanout,\n",
    "         inner_coupler_start_y + coupler_start_y_offset),\n",
    "        (inner_coupler_start_x + tl_coupler_length1 - tl_coupler_length2 / 2,\n",
    "         inner_coupler_start_y + coupler_start_y_offset)\n",
    "    ]\n",
    "    \n",
    "    print('coupler_top_position', coupler_top_position)\n",
    "\n",
    "    coupler_bottom_position = [\n",
    "        (inner_coupler_start_x - tl_coupler_length1 + tl_coupler_length2 / 2,\n",
    "         inner_coupler_start_y - coupler_start_y_offset),\n",
    "        (inner_coupler_start_x - tl_coupler_length2 / 2 - delta_from_fanout,\n",
    "         inner_coupler_start_y - coupler_start_y_offset)\n",
    "    ]\n",
    "    \n",
    "    print('coupler_bottom_position',coupler_bottom_position)\n",
    "\n",
    "    double_coupler_position = [(inner_coupler_start_x - tl_coupler_length2 / 2,\n",
    "                                inner_coupler_start_y),\n",
    "                               (inner_coupler_start_x + tl_coupler_length2 / 2,\n",
    "                                inner_coupler_start_y)]\n",
    "\n",
    "    main_coupler_top = elements.CPWCoupler('main_coupler_top',\n",
    "                                           coupler_top_position,\n",
    "                                           coupler_w,\n",
    "                                           coupler_s,\n",
    "                                           coupler_ground,\n",
    "                                           eqd.sample.layer_configuration,\n",
    "                                           r=0)\n",
    "\n",
    "    main_coupler_bottom = elements.CPWCoupler('main_coupler_bottom',\n",
    "                                              coupler_bottom_position,\n",
    "                                              coupler_w,\n",
    "                                              coupler_s,\n",
    "                                              coupler_ground,\n",
    "                                              eqd.sample.layer_configuration,\n",
    "                                              r=0)\n",
    "\n",
    "    double_coupler = elements.CPWCoupler('double_coupler',\n",
    "                                         double_coupler_position,\n",
    "                                         double_coupler_w,\n",
    "                                         double_coupler_s,\n",
    "                                         coupler_ground,\n",
    "                                         eqd.sample.layer_configuration,\n",
    "                                         r=0)\n",
    "    eqd.sample.add(main_coupler_top)\n",
    "    eqd.sample.add(main_coupler_bottom)\n",
    "    eqd.sample.add(double_coupler)\n",
    "\n",
    "    mcb_fanout1 = eqd.sample.fanout(o=main_coupler_bottom,\n",
    "                                    port='port1',\n",
    "                                    name='mcb_fanout1',\n",
    "                                    grouping=[1, 2])\n",
    "    mct_fanout2 = eqd.sample.fanout(o=main_coupler_top,\n",
    "                                    port='port2',\n",
    "                                    name='mct_fanout2',\n",
    "                                    grouping=[0, 1])\n",
    "\n",
    "    dc_fanout1 = eqd.sample.fanout(o=double_coupler,\n",
    "                                   port='port2',\n",
    "                                   name='dc_fanout1',\n",
    "                                   grouping=[1, 3])\n",
    "    dc_fanout2 = eqd.sample.fanout(o=double_coupler,\n",
    "                                   port='port1',\n",
    "                                   name='dc_fanout2',\n",
    "                                   grouping=[0, 2])\n",
    "    \n",
    "    TL_purcell_couplers.append([mcb_fanout1, dc_fanout1])\n",
    "    TL_purcell_couplers.append([mct_fanout2, dc_fanout2])\n",
    "    \n",
    "    \n",
    "    extra_line_offset = (eqd.resonator_core + eqd.resonator_ground) / 2 + eqd.resonator_gap\n",
    "    \n",
    "    extra_bottom_line = elements.CPWCoupler('extra_bottom_line',\n",
    "                                     [(main_coupler_bottom.terminals['port2'].position[0],\n",
    "                                       inner_coupler_start_y - coupler_start_y_offset),\n",
    "                                      (main_coupler_bottom.terminals['port2'].position[0] + eqd.resonator_ground,\n",
    "                                       inner_coupler_start_y - coupler_start_y_offset)],\n",
    "                                     coupler_w,\n",
    "                                     coupler_s,\n",
    "                                     eqd.resonator_ground,\n",
    "                                     eqd.sample.layer_configuration,\n",
    "                                     r=0)\n",
    "    \n",
    "    \n",
    "    \n",
    "    eqd.sample.add(extra_bottom_line)\n",
    "    \n",
    "    eqd.sample.connect(o1=main_coupler_bottom, p1='port2', o2=extra_bottom_line, p2='port1')\n",
    "    eqd.sample.connect(o1=dc_fanout1, p1='center', o2=extra_bottom_line, p2='port2')\n",
    "\n",
    "    \n",
    "    \n",
    "    extra_top_line = elements.CPWCoupler('extra_top_line',\n",
    "                                     [(main_coupler_top.terminals['port1'].position[0]- eqd.resonator_ground,\n",
    "                                       inner_coupler_start_y + coupler_start_y_offset),\n",
    "                                      (main_coupler_top.terminals['port1'].position[0] ,\n",
    "                                       inner_coupler_start_y + coupler_start_y_offset)],\n",
    "                                     coupler_w,\n",
    "                                     coupler_s,\n",
    "                                     eqd.resonator_ground,\n",
    "                                     eqd.sample.layer_configuration,\n",
    "                                     r=0)\n",
    "    \n",
    "    eqd.sample.add(extra_top_line)\n",
    "    \n",
    "    eqd.sample.connect(o1=main_coupler_top, p1='port1', o2=extra_top_line, p2='port2')\n",
    "    eqd.sample.connect(o1=extra_top_line, p1='port1', o2=dc_fanout2, p2='center')\n"
   ]
  },
  {
   "cell_type": "code",
   "execution_count": 47,
   "id": "85c0c8bc",
   "metadata": {
    "ExecuteTime": {
     "end_time": "2022-01-07T20:40:22.751637Z",
     "start_time": "2022-01-07T20:40:22.052239Z"
    }
   },
   "outputs": [],
   "source": [
    "eqd.sample.draw_design()\n",
    "# eqd.sample.watch()"
   ]
  },
  {
   "cell_type": "code",
   "execution_count": 48,
   "id": "94c4f843",
   "metadata": {
    "ExecuteTime": {
     "end_time": "2022-01-07T20:40:22.755547Z",
     "start_time": "2022-01-07T20:40:22.752924Z"
    }
   },
   "outputs": [],
   "source": [
    "# sys, connections, elements_ = eqd.sample.get_tls(cutoff=1e11)"
   ]
  },
  {
   "cell_type": "code",
   "execution_count": 49,
   "id": "b68fcef4",
   "metadata": {
    "ExecuteTime": {
     "end_time": "2022-01-07T20:40:22.986114Z",
     "start_time": "2022-01-07T20:40:22.756835Z"
    }
   },
   "outputs": [],
   "source": [
    "# eqd.sample.get_topology()"
   ]
  },
  {
   "cell_type": "code",
   "execution_count": 50,
   "id": "68528241",
   "metadata": {
    "ExecuteTime": {
     "end_time": "2022-01-07T20:40:23.085107Z",
     "start_time": "2022-01-07T20:40:22.991351Z"
    }
   },
   "outputs": [],
   "source": [
    "# coupler_start_x_offset_ = 250\n",
    "coupler_start_x_offset_ = 280\n",
    "inner_coupler_start_y = eqd.pads_left[1].terminal.position[1]\n",
    "\n",
    "central_couplers_positions = [\n",
    "    [(eqd.sample.chip_geometry.sample_horizontal_size / 2 -\n",
    "      (tunable_coupler_length / 2 - coupler_start_x_offset_),\n",
    "      inner_coupler_start_y - 40),\n",
    "     (eqd.sample.chip_geometry.sample_horizontal_size / 2 -\n",
    "      (tunable_coupler_length / 2 - coupler_start_x_offset_) +\n",
    "      tl_coupler_length1, inner_coupler_start_y - 40)],\n",
    "    [(eqd.sample.chip_geometry.sample_horizontal_size / 2 +\n",
    "      (tunable_coupler_length / 2 - coupler_start_x_offset_),\n",
    "      inner_coupler_start_y + 40),\n",
    "     (eqd.sample.chip_geometry.sample_horizontal_size / 2 +\n",
    "      (tunable_coupler_length / 2 - coupler_start_x_offset_) -\n",
    "      tl_coupler_length1, inner_coupler_start_y + 40)]\n",
    "]"
   ]
  },
  {
   "cell_type": "markdown",
   "id": "4526b63b",
   "metadata": {},
   "source": [
    "### Add coupler 6 and 7 "
   ]
  },
  {
   "cell_type": "code",
   "execution_count": 51,
   "id": "f3d8de1e",
   "metadata": {
    "ExecuteTime": {
     "end_time": "2022-01-07T20:40:23.219451Z",
     "start_time": "2022-01-07T20:40:23.087403Z"
    }
   },
   "outputs": [],
   "source": [
    "for i, position in enumerate(central_couplers_positions):\n",
    "    main_coupler = elements.CPWCoupler('TL-purcell coupler',\n",
    "                                       position,\n",
    "                                       coupler_w,\n",
    "                                       coupler_s,\n",
    "                                       coupler_ground,\n",
    "                                       eqd.sample.layer_configuration,\n",
    "                                       r=0)\n",
    "    \n",
    "    eqd.sample.add(main_coupler)\n",
    "    \n",
    "    fanout1 = eqd.sample.fanout(o=main_coupler,\n",
    "                                    port='port1',\n",
    "                                    name='TL-purcell-fanout1',\n",
    "                                    grouping=[1, 2])\n",
    "    fanout2 = eqd.sample.fanout(o=main_coupler,\n",
    "                                    port='port2',\n",
    "                                    name='TL-purcell-fanout2',\n",
    "                                    grouping=[1, 2])\n",
    "    \n",
    "    TL_purcell_couplers.append([fanout1, fanout2])"
   ]
  },
  {
   "cell_type": "markdown",
   "id": "2b452cf4",
   "metadata": {},
   "source": [
    "### Connect all parts of the left reflection TL "
   ]
  },
  {
   "cell_type": "code",
   "execution_count": 52,
   "id": "963737f3",
   "metadata": {
    "ExecuteTime": {
     "end_time": "2022-01-07T20:40:23.333916Z",
     "start_time": "2022-01-07T20:40:23.220893Z"
    }
   },
   "outputs": [],
   "source": [
    "elem1 = (TL_purcell_couplers[0][0], TL_purcell_couplers[0][1],\n",
    "         TL_purcell_couplers[2][0], TL_purcell_couplers[3][0],\n",
    "         TL_purcell_couplers[6][0])\n",
    "elem2 = (TL_extra_bridges[0], TL_extra_bridges[2], TL_extra_bridges[3],\n",
    "         TL_extra_bridges[4], TL_extra_bridges[5])\n",
    "port1 = ('center', 'center', 'center', 'center', 'center')\n",
    "port2 = ('port1', 'port1', 'port1', 'port1', 'port1')\n",
    "\n",
    "left_TL_connections = zip(elem1, elem2, port1, port2)"
   ]
  },
  {
   "cell_type": "code",
   "execution_count": 53,
   "id": "c4beba8d",
   "metadata": {
    "ExecuteTime": {
     "end_time": "2022-01-07T20:40:23.469419Z",
     "start_time": "2022-01-07T20:40:23.340994Z"
    }
   },
   "outputs": [],
   "source": [
    "for coupler, bridge, port1, port2 in left_TL_connections:\n",
    "    eqd.sample.connect_cpw(coupler,\n",
    "                           bridge,\n",
    "                           port1,\n",
    "                           port2,\n",
    "                           'TL', [],\n",
    "                           airbridge=airbridge,\n",
    "                           min_spacing=coupler_bridge_spacing,\n",
    "                           r=80)"
   ]
  },
  {
   "cell_type": "code",
   "execution_count": 54,
   "id": "b9e16cd2",
   "metadata": {
    "ExecuteTime": {
     "end_time": "2022-01-07T20:40:23.625585Z",
     "start_time": "2022-01-07T20:40:23.472411Z"
    }
   },
   "outputs": [
    {
     "data": {
      "text/plain": [
       "OpenEnd left reflection line end"
      ]
     },
     "execution_count": 54,
     "metadata": {},
     "output_type": "execute_result"
    }
   ],
   "source": [
    "# add open end\n",
    "eqd.sample.open_end(TL_purcell_couplers[6][1], 'center', 'left reflection line end')"
   ]
  },
  {
   "cell_type": "markdown",
   "id": "afe2c898",
   "metadata": {},
   "source": [
    "### Connect all parts of the right reflection TL "
   ]
  },
  {
   "cell_type": "code",
   "execution_count": 55,
   "id": "290bc453",
   "metadata": {
    "ExecuteTime": {
     "end_time": "2022-01-07T20:40:23.780642Z",
     "start_time": "2022-01-07T20:40:23.629106Z"
    }
   },
   "outputs": [],
   "source": [
    "elem1 = (TL_purcell_couplers[1][0], TL_purcell_couplers[1][1],\n",
    "         TL_purcell_couplers[5][0], TL_purcell_couplers[4][0],\n",
    "         TL_purcell_couplers[7][0])\n",
    "elem2 = (TL_extra_bridges[1], TL_extra_bridges[9], TL_extra_bridges[8],\n",
    "         TL_extra_bridges[7], TL_extra_bridges[6])\n",
    "port1 = ('center', 'center', 'center', 'center', 'center')\n",
    "port2 = ('port1', 'port1', 'port1', 'port1', 'port1')\n",
    "\n",
    "right_TL_connections = zip(elem1, elem2, port1, port2)"
   ]
  },
  {
   "cell_type": "code",
   "execution_count": 56,
   "id": "e6524b9b",
   "metadata": {
    "ExecuteTime": {
     "end_time": "2022-01-07T20:40:23.892298Z",
     "start_time": "2022-01-07T20:40:23.782720Z"
    }
   },
   "outputs": [],
   "source": [
    "for coupler, bridge, port1, port2 in right_TL_connections:\n",
    "    eqd.sample.connect_cpw(coupler,\n",
    "                           bridge,\n",
    "                           port1,\n",
    "                           port2,\n",
    "                           'TL', [],\n",
    "                           airbridge=airbridge,\n",
    "                           min_spacing=coupler_bridge_spacing,\n",
    "                           r=80)"
   ]
  },
  {
   "cell_type": "code",
   "execution_count": 57,
   "id": "5ab02f19",
   "metadata": {
    "ExecuteTime": {
     "end_time": "2022-01-07T20:40:24.004490Z",
     "start_time": "2022-01-07T20:40:23.893796Z"
    }
   },
   "outputs": [
    {
     "data": {
      "text/plain": [
       "OpenEnd right reflection line end"
      ]
     },
     "execution_count": 57,
     "metadata": {},
     "output_type": "execute_result"
    }
   ],
   "source": [
    "# add open end\n",
    "eqd.sample.open_end(TL_purcell_couplers[7][1], 'center', 'right reflection line end')"
   ]
  },
  {
   "cell_type": "code",
   "execution_count": 58,
   "id": "e30cb9b3",
   "metadata": {
    "ExecuteTime": {
     "end_time": "2022-01-07T20:40:24.724144Z",
     "start_time": "2022-01-07T20:40:24.007394Z"
    }
   },
   "outputs": [],
   "source": [
    "eqd.sample.draw_design()\n",
    "# eqd.sample.watch()"
   ]
  },
  {
   "cell_type": "code",
   "execution_count": 59,
   "id": "aa1b8dbb",
   "metadata": {
    "ExecuteTime": {
     "end_time": "2022-01-07T20:40:24.727696Z",
     "start_time": "2022-01-07T20:40:24.725703Z"
    }
   },
   "outputs": [],
   "source": [
    "# eqd.sample.watch()"
   ]
  },
  {
   "cell_type": "code",
   "execution_count": 60,
   "id": "38317d9f",
   "metadata": {
    "ExecuteTime": {
     "end_time": "2022-01-07T20:40:24.951737Z",
     "start_time": "2022-01-07T20:40:24.728971Z"
    }
   },
   "outputs": [],
   "source": [
    "# eqd.sample.write_to_gds()"
   ]
  },
  {
   "cell_type": "code",
   "execution_count": 122,
   "id": "f09eff48",
   "metadata": {
    "ExecuteTime": {
     "end_time": "2022-01-07T20:09:02.050899Z",
     "start_time": "2022-01-07T20:09:01.951621Z"
    }
   },
   "outputs": [],
   "source": [
    "# Расстояние между двумя cross bridge 1330\n",
    "# На один каплер с учетом fanout уходит 664\n",
    "# На открытый конец считывающей линии уходит 30-40 \n",
    "# Итого: 664*2 + 2 * 30 = 1388\n",
    "# Вердикт: не влезает"
   ]
  },
  {
   "cell_type": "markdown",
   "id": "46174e6b",
   "metadata": {},
   "source": [
    "# Add  purcells and resonators"
   ]
  },
  {
   "cell_type": "code",
   "execution_count": 61,
   "id": "cf9db40e",
   "metadata": {
    "ExecuteTime": {
     "end_time": "2022-01-07T20:40:48.521256Z",
     "start_time": "2022-01-07T20:40:48.513450Z"
    }
   },
   "outputs": [],
   "source": [
    "from QCreator.elements import meander\n",
    "res_pur_coupler_grounding = 10\n",
    "purcell_resonator_coupler_length = 200\n",
    "pur_res_coupler_w = [eqd.resonator_core, 2 * eqd.resonator_ground, eqd.resonator_core]\n",
    "pur_res_coupler_s = [eqd.resonator_gap for i in range(4)]"
   ]
  },
  {
   "cell_type": "markdown",
   "id": "ef899313",
   "metadata": {},
   "source": [
    "### Purcell and resonator for qubit1 "
   ]
  },
  {
   "cell_type": "code",
   "execution_count": 62,
   "id": "7c4ddf58",
   "metadata": {
    "ExecuteTime": {
     "end_time": "2022-01-07T20:40:49.360876Z",
     "start_time": "2022-01-07T20:40:49.353949Z"
    }
   },
   "outputs": [],
   "source": [
    "# Add coupler purcell + resonator with fanout and grounding\n",
    "pur_res_coupler1_position = [(eqd.coaxmon2.center[0] - 470, eqd.coaxmon2.center[1]+445),\n",
    "                             (eqd.coaxmon2.center[0] - 470 + purcell_resonator_coupler_length, eqd.coaxmon2.center[1]+445)]\n",
    "pur_res_coupler1 = elements.CPWCoupler('purcell_resonator_coupler1',\n",
    "                                         pur_res_coupler1_position,\n",
    "                                         pur_res_coupler_w,\n",
    "                                         pur_res_coupler_s,\n",
    "                                         eqd.resonator_ground,\n",
    "                                         eqd.sample.layer_configuration,\n",
    "                                         r=0)\n",
    "eqd.sample.add(pur_res_coupler1)\n",
    "\n",
    "pur_res_coupler1_fanout = eqd.sample.fanout(o=pur_res_coupler1,\n",
    "                                            port='port2',\n",
    "                                            name='res-purcell-coupler-fanout',\n",
    "                                            grouping=[1, 3])\n",
    "pur_res_coupler1_ground = eqd.sample.ground(\n",
    "    o=pur_res_coupler1,\n",
    "    port='port1',\n",
    "    name='res-purcell-coupler-grounding',\n",
    "    grounding_width=res_pur_coupler_grounding,\n",
    "    grounding_between=[(0, 4)])\n",
    "\n",
    "pur_res_coupler1_fanout_ground = eqd.sample.ground(\n",
    "    o=pur_res_coupler1_fanout,\n",
    "    port='center',\n",
    "    name='res-purcell-coupler-fanout-grounding',\n",
    "    grounding_width=res_pur_coupler_grounding,\n",
    "    grounding_between=[(0, 1)])"
   ]
  },
  {
   "cell_type": "code",
   "execution_count": 63,
   "id": "db84c76d",
   "metadata": {
    "ExecuteTime": {
     "end_time": "2022-01-07T20:40:49.801836Z",
     "start_time": "2022-01-07T20:40:49.778652Z"
    }
   },
   "outputs": [
    {
     "name": "stdout",
     "output_type": "stream",
     "text": [
      "A_max, B_max 227.64530749512187 -38.0982636399815\n",
      "A_max, B_max 250.4839806213414 -15.259590513761964\n",
      "A_max, B_max 264.18718449707313 -1.5563866380302471\n",
      "A_max, B_max 273.32265374756093 7.579082612457569\n",
      "173.7354443706821\n",
      "A, K, B =  168.12973517435918 109.47901550578547 5.605709196322919\n",
      "points [(3641.0, 1843.0), (3641.0, 1629.1929185732017), (3549.645307495122, 1629.1929185732017), (3549.645307495122, 1830.0266265838654), (3458.2906149902437, 1830.0266265838654), (3458.2906149902437, 1629.1929185732017), (3366.9359224853656, 1629.1929185732017), (3366.9359224853656, 1830.0266265838654), (3275.5812299804875, 1830.0266265838654), (3275.5812299804875, 1629.1929185732017), (3184.2265374756093, 1629.1929185732017), (3184.2265374756093, 1830.0266265838654), (3092.871844970731, 1830.0266265838654), (3092.871844970731, 1629.1929185732017), (3001.517152465853, 1629.1929185732017), (3001.517152465853, 1830.0266265838654), (2910.162459960975, 1830.0266265838654), (2910.162459960975, 1629.1929185732017), (2818.807767456097, 1629.1929185732017), (2818.807767456097, 1830.0266265838654), (2727.4530749512187, 1830.0266265838654), (2727.4530749512187, 1629.1929185732017), (2636.0983824463406, 1629.1929185732017), (2636.0983824463406, 1830.0266265838654), (2544.7436899414624, 1830.0266265838654), (2544.7436899414624, 1778.7435711351034)] real points [(3641.0, 1843.0), (3641.0, 1674.8702648256408), (3549.645307495122, 1674.8702648256408), (3549.645307495122, 1784.3492803314261), (3458.2906149902437, 1784.3492803314261), (3458.2906149902437, 1674.8702648256408), (3366.9359224853656, 1674.8702648256408), (3366.9359224853656, 1784.3492803314261), (3275.5812299804875, 1784.3492803314261), (3275.5812299804875, 1674.8702648256408), (3184.2265374756093, 1674.8702648256408), (3184.2265374756093, 1784.3492803314261), (3092.871844970731, 1784.3492803314261), (3092.871844970731, 1674.8702648256408), (3001.517152465853, 1674.8702648256408), (3001.517152465853, 1784.3492803314261), (2910.162459960975, 1784.3492803314261), (2910.162459960975, 1674.8702648256408), (2818.807767456097, 1674.8702648256408), (2818.807767456097, 1784.3492803314261), (2727.4530749512187, 1784.3492803314261), (2727.4530749512187, 1674.8702648256408), (2636.0983824463406, 1674.8702648256408), (2636.0983824463406, 1784.3492803314261), (2544.7436899414624, 1784.3492803314264), (2544.7436899414624, 1778.7435711351034)] -1.5707963267948966 1.5707963267948966\n",
      "10.0\n",
      "3100.0000000000014\n"
     ]
    }
   ],
   "source": [
    "# Add resonator for qubit 1\n",
    "name = 'resonator1'\n",
    "begin_point = (pur_res_coupler1_fanout.terminals['down'].position[0],\n",
    "               pur_res_coupler1_fanout.terminals['down'].position[1] - 10)\n",
    "begin_orientation = - np.pi / 2\n",
    "end_point = (eqd.coaxmon1.terminals['coupler1'].position[0]+100,\n",
    "             eqd.coaxmon1.terminals['coupler1'].position[1]+150)\n",
    "end_orientation =   np.pi / 2\n",
    "meander_length = 3100\n",
    "left_limit = 330\n",
    "right_limit = 0\n",
    "radius_limit = (40,80)\n",
    "w = eqd.resonator_core\n",
    "s = eqd.resonator_gap\n",
    "g = eqd.resonator_ground\n",
    "result1, points1, real_points1, resonator1 = meander.meander_creation2(name, begin_point, begin_orientation,\n",
    "                                    end_point, end_orientation, meander_length,\n",
    "                                    left_limit, right_limit, radius_limit, w,\n",
    "                                    s, g, eqd.sample.layer_configuration)\n",
    "\n",
    "eqd.sample.add(resonator1)\n",
    "\n",
    "eqd.sample.generate_bridge_over_cpw(name='resonator1_airbridges', o=resonator1, geometry=airbridge,\n",
    "                                 min_spacing=resonator_min_bridge_spacing, bridge_part_decimation=2)\n",
    "\n",
    "connection = eqd.sample.connect_cpw(resonator1,\n",
    "                           pur_res_coupler1_fanout,\n",
    "                           'port1',\n",
    "                           'down',\n",
    "                           'TL', [],\n",
    "                           airbridge=airbridge,\n",
    "                           min_spacing=coupler_bridge_spacing,\n",
    "                           r=80)\n",
    "print(connection[0].length)\n",
    "print(resonator1.length)"
   ]
  },
  {
   "cell_type": "code",
   "execution_count": 64,
   "id": "0d038f25",
   "metadata": {
    "ExecuteTime": {
     "end_time": "2022-01-07T20:40:50.237038Z",
     "start_time": "2022-01-07T20:40:50.213940Z"
    }
   },
   "outputs": [
    {
     "name": "stdout",
     "output_type": "stream",
     "text": [
      "185.21856986336934\n"
     ]
    }
   ],
   "source": [
    "connection = eqd.sample.connect_cpw(eqd.coaxmon1,\n",
    "                           resonator1,\n",
    "                           'coupler1',\n",
    "                           'port2',\n",
    "                           'TL', [],\n",
    "                           airbridge=airbridge,\n",
    "                           min_spacing=coupler_bridge_spacing,\n",
    "                           r=80)\n",
    "print(connection[0].length)"
   ]
  },
  {
   "cell_type": "code",
   "execution_count": 65,
   "id": "89eaf8bb",
   "metadata": {
    "ExecuteTime": {
     "end_time": "2022-01-07T20:40:50.708620Z",
     "start_time": "2022-01-07T20:40:50.689286Z"
    }
   },
   "outputs": [
    {
     "name": "stdout",
     "output_type": "stream",
     "text": [
      "A_max, B_max 414.75 617.75\n",
      "996.0685985427538\n",
      "A, K, B =  399.8033805820643 663.0685985427538 596.2652179606896\n",
      "points [(3329.0, 2213.0), (3783.053380582064, 2213.0), (3783.053380582064, 2104.5), (3011.4847820393106, 2104.5), (3011.4847820393106, 1996.0), (3662.0, 1996.0)] real points [(3329.0, 2213.0), (3728.803380582064, 2213.0), (3728.803380582064, 2104.5), (3065.7347820393106, 2104.5), (3065.7347820393106, 1996.0), (3662.0, 1996.0)] 0 3.141592653589793\n"
     ]
    },
    {
     "data": {
      "text/plain": [
       "[CPW \"purcell_closed_end_1_airbridgess0\", l=31.975,\n",
       " CPW \"purcell_closed_end_1_airbridgess1\", l=36.000,\n",
       " CPW \"purcell_closed_end_1_airbridgess1\", l=63.951,\n",
       " CPW \"purcell_closed_end_1_airbridgess3\", l=63.951,\n",
       " CPW \"purcell_closed_end_1_airbridgess4\", l=36.000,\n",
       " CPW \"purcell_closed_end_1_airbridgess4\", l=63.951,\n",
       " CPW \"purcell_closed_end_1_airbridgess6\", l=231.769,\n",
       " CPW \"purcell_closed_end_1_airbridgess7\", l=36.000,\n",
       " CPW \"purcell_closed_end_1_airbridgess7\", l=58.724,\n",
       " CPW \"purcell_closed_end_1_airbridgess9\", l=58.724,\n",
       " CPW \"purcell_closed_end_1_airbridgess10\", l=36.000,\n",
       " CPW \"purcell_closed_end_1_airbridgess10\", l=58.724,\n",
       " CPW \"purcell_closed_end_1_airbridgess12\", l=58.724,\n",
       " CPW \"purcell_closed_end_1_airbridgess13\", l=36.000,\n",
       " CPW \"purcell_closed_end_1_airbridgess13\", l=58.724,\n",
       " CPW \"purcell_closed_end_1_airbridgess15\", l=58.724,\n",
       " CPW \"purcell_closed_end_1_airbridgess16\", l=36.000,\n",
       " CPW \"purcell_closed_end_1_airbridgess16\", l=231.482,\n",
       " CPW \"purcell_closed_end_1_airbridgess18\", l=63.378,\n",
       " CPW \"purcell_closed_end_1_airbridgess19\", l=36.000,\n",
       " CPW \"purcell_closed_end_1_airbridgess19\", l=63.378,\n",
       " CPW \"purcell_closed_end_1_airbridgess21\", l=63.378,\n",
       " CPW \"purcell_closed_end_1_airbridgess22\", l=36.000,\n",
       " CPW \"purcell_closed_end_1_airbridgess22\", l=63.378,\n",
       " CPW \"purcell_closed_end_1_airbridgess24\", l=63.378,\n",
       " CPW \"purcell_closed_end_1_airbridgess25\", l=31.689]"
      ]
     },
     "execution_count": 65,
     "metadata": {},
     "output_type": "execute_result"
    }
   ],
   "source": [
    "# Add purcell closed end 1\n",
    "name = 'purcell_closed_end1'\n",
    "begin_point = (TL_purcell_couplers[2][1].terminals['down'].position[0] + 100,\n",
    "               TL_purcell_couplers[2][1].terminals['down'].position[1] - 100)\n",
    "begin_orientation = 0\n",
    "end_point = (pur_res_coupler1_fanout_ground.terminals['narrow'].position[0],\n",
    "             pur_res_coupler1_fanout_ground.terminals['narrow'].position[1] + 80)\n",
    "end_orientation =   np.pi\n",
    "meander_length = 2000\n",
    "left_limit = 350\n",
    "right_limit = 480\n",
    "radius_limit = (40,90)\n",
    "w = eqd.resonator_core\n",
    "s = eqd.resonator_gap\n",
    "g = eqd.resonator_ground\n",
    "\n",
    "result1, points1, real_points1, purcell_closed_end_1 = meander.meander_creation2(name, begin_point, begin_orientation,\n",
    "                                    end_point, end_orientation, meander_length,\n",
    "                                    left_limit, right_limit, radius_limit, w,\n",
    "                                    s, g, eqd.sample.layer_configuration)\n",
    "eqd.sample.add(purcell_closed_end_1)\n",
    "eqd.sample.generate_bridge_over_cpw(name='purcell_closed_end_1_airbridges', o=purcell_closed_end_1, geometry=airbridge,\n",
    "                                 min_spacing=resonator_min_bridge_spacing, bridge_part_decimation=2)\n"
   ]
  },
  {
   "cell_type": "code",
   "execution_count": 66,
   "id": "8e1e6aab",
   "metadata": {
    "ExecuteTime": {
     "end_time": "2022-01-07T20:40:51.156640Z",
     "start_time": "2022-01-07T20:40:51.137947Z"
    }
   },
   "outputs": [
    {
     "name": "stdout",
     "output_type": "stream",
     "text": [
      "A_max, B_max 344.5 -2.5\n",
      "A_max, B_max 389.25 42.25\n",
      "282.91372875185675\n",
      "A, K, B =  248.9884454732714 184.91372875185675 33.92528327858536\n",
      "points [(2607.0, 2303.0), (2607.0, 2009.2615545267286), (2696.5, 2009.2615545267286), (2696.5, 2283.675283278585), (2786.0, 2283.675283278585), (2786.0, 2009.2615545267286), (2875.5, 2009.2615545267286), (2875.5, 2283.675283278585), (2965.0, 2283.675283278585), (2965, 2205)] real points [(2607.0, 2303.0), (2607.0, 2054.0115545267286), (2696.5, 2054.0115545267286), (2696.5, 2238.925283278585), (2786.0, 2238.925283278585), (2786.0, 2054.0115545267286), (2875.5, 2054.0115545267286), (2875.5, 2238.925283278585), (2965.0, 2238.9252832785855), (2965, 2205)] -1.5707963267948966 1.5707963267948966\n",
      "10.0\n"
     ]
    },
    {
     "data": {
      "text/plain": [
       "OpenEnd purcell1-open-end"
      ]
     },
     "execution_count": 66,
     "metadata": {},
     "output_type": "execute_result"
    }
   ],
   "source": [
    "# Add purcell open end\n",
    "name = 'purcell_open_end1'\n",
    "begin_point = (TL_purcell_couplers[2][0].terminals['up'].position[0],\n",
    "               TL_purcell_couplers[2][0].terminals['up'].position[1]-10)\n",
    "begin_orientation = - np.pi / 2\n",
    "end_point = (2965, 2205)\n",
    "end_orientation =   np.pi / 2\n",
    "meander_length = 1400\n",
    "left_limit = 445\n",
    "right_limit = 0\n",
    "radius_limit = (40,90)\n",
    "w = eqd.resonator_core\n",
    "s = eqd.resonator_gap\n",
    "g = eqd.resonator_ground\n",
    "\n",
    "result1, points1, real_points1, purcell_open_end1 = meander.meander_creation2(name, begin_point, begin_orientation,\n",
    "                                    end_point, end_orientation, meander_length,\n",
    "                                    left_limit, right_limit, radius_limit, w,\n",
    "                                    s, g, eqd.sample.layer_configuration)\n",
    "eqd.sample.add(purcell_open_end1)\n",
    "eqd.sample.generate_bridge_over_cpw(name='purcell_open_end1_airbridges', o=purcell_open_end1, geometry=airbridge,\n",
    "                                 min_spacing=resonator_min_bridge_spacing, bridge_part_decimation=2)\n",
    "\n",
    "\n",
    "connection = eqd.sample.connect_cpw(purcell_open_end1,\n",
    "                           TL_purcell_couplers[2][0],\n",
    "                           'port1',\n",
    "                           'up',\n",
    "                           'TL', [],\n",
    "                           airbridge=airbridge,\n",
    "                           min_spacing=coupler_bridge_spacing,\n",
    "                           r=80)\n",
    "print(connection[0].length)\n",
    "\n",
    "# Add open end for purcell \n",
    "eqd.sample.open_end(purcell_open_end1, 'port2', 'purcell1-open-end')"
   ]
  },
  {
   "cell_type": "code",
   "execution_count": 67,
   "id": "58921e58",
   "metadata": {
    "ExecuteTime": {
     "end_time": "2022-01-07T20:40:51.520094Z",
     "start_time": "2022-01-07T20:40:51.513893Z"
    }
   },
   "outputs": [
    {
     "name": "stdout",
     "output_type": "stream",
     "text": [
      "209.82770192589157\n"
     ]
    }
   ],
   "source": [
    "connection= eqd.sample.connect_cpw(purcell_closed_end_1,\n",
    "                           pur_res_coupler1_fanout_ground,\n",
    "                           'port2',\n",
    "                           'narrow',\n",
    "                           'TL', [],\n",
    "                           airbridge=airbridge,\n",
    "                           min_spacing=coupler_bridge_spacing,\n",
    "                           r=40)\n",
    "print(connection[0].length)"
   ]
  },
  {
   "cell_type": "code",
   "execution_count": 68,
   "id": "55def7c9",
   "metadata": {
    "ExecuteTime": {
     "end_time": "2022-01-07T20:40:51.964395Z",
     "start_time": "2022-01-07T20:40:51.955130Z"
    }
   },
   "outputs": [
    {
     "name": "stdout",
     "output_type": "stream",
     "text": [
      "164.18075923224458\n"
     ]
    }
   ],
   "source": [
    "connection =eqd.sample.connect_cpw(TL_purcell_couplers[2][1],\n",
    "                           purcell_closed_end_1,\n",
    "                           'down',\n",
    "                           'port1',\n",
    "                           'TL', [],\n",
    "                           airbridge=airbridge,\n",
    "                           min_spacing=coupler_bridge_spacing,\n",
    "                           r=80)\n",
    "print(connection[0].length)"
   ]
  },
  {
   "cell_type": "code",
   "execution_count": 69,
   "id": "4ddb4326",
   "metadata": {
    "ExecuteTime": {
     "end_time": "2022-01-07T20:40:54.457374Z",
     "start_time": "2022-01-07T20:40:52.401049Z"
    }
   },
   "outputs": [],
   "source": [
    "eqd.sample.draw_design()\n",
    "# eqd.sample.watch()"
   ]
  },
  {
   "cell_type": "code",
   "execution_count": 70,
   "id": "06d5aad1",
   "metadata": {
    "ExecuteTime": {
     "end_time": "2022-01-07T20:40:54.460895Z",
     "start_time": "2022-01-07T20:40:54.458577Z"
    }
   },
   "outputs": [],
   "source": [
    "# eqd.sample.watch()"
   ]
  },
  {
   "cell_type": "markdown",
   "id": "f1652e32",
   "metadata": {},
   "source": [
    "### Purcell and resonator for qubit3"
   ]
  },
  {
   "cell_type": "code",
   "execution_count": 71,
   "id": "a5779409",
   "metadata": {
    "ExecuteTime": {
     "end_time": "2022-01-07T20:40:56.459547Z",
     "start_time": "2022-01-07T20:40:56.452939Z"
    }
   },
   "outputs": [],
   "source": [
    "# Add coupler purcell + resonator with fanout and grounding\n",
    "pur_res_coupler3_position = [(eqd.coaxmon4.center[0]+100 + purcell_resonator_coupler_length, eqd.coaxmon4.center[1]-450),\n",
    "                             (eqd.coaxmon4.center[0]+100,\n",
    "                              eqd.coaxmon4.center[1]-450)]\n",
    "pur_res_coupler3 = elements.CPWCoupler('purcell_resonator_coupler3',\n",
    "                                         pur_res_coupler3_position,\n",
    "                                         pur_res_coupler_w,\n",
    "                                         pur_res_coupler_s,\n",
    "                                         eqd.resonator_ground,\n",
    "                                         eqd.sample.layer_configuration,\n",
    "                                         r=0)\n",
    "eqd.sample.add(pur_res_coupler3)\n",
    "\n",
    "pur_res_coupler3_fanout = eqd.sample.fanout(o=pur_res_coupler3,\n",
    "                                            port='port1',\n",
    "                                            name='res-purcell-coupler-fanout',\n",
    "                                            grouping=[1, 3])\n",
    "pur_res_coupler3_ground = eqd.sample.ground(\n",
    "    o=pur_res_coupler3,\n",
    "    port='port2',\n",
    "    name='res-purcell-coupler-grounding',\n",
    "    grounding_width=res_pur_coupler_grounding,\n",
    "    grounding_between=[(0, 4)])\n",
    "\n",
    "pur_res_coupler3_fanout_ground = eqd.sample.ground(\n",
    "    o=pur_res_coupler3_fanout,\n",
    "    port='center',\n",
    "    name='res-purcell-coupler-fanout-grounding',\n",
    "    grounding_width=res_pur_coupler_grounding,\n",
    "    grounding_between=[(2, 3)])"
   ]
  },
  {
   "cell_type": "code",
   "execution_count": 72,
   "id": "e7df6556",
   "metadata": {
    "ExecuteTime": {
     "end_time": "2022-01-07T20:40:56.921238Z",
     "start_time": "2022-01-07T20:40:56.892183Z"
    }
   },
   "outputs": [
    {
     "name": "stdout",
     "output_type": "stream",
     "text": [
      "A_max, B_max 235.42282572551983 68.23221769825102\n",
      "489.77572326877527\n",
      "A, K, B =  235.4228257255198 326.9663312960441 68.232217698251\n",
      "A_max, B_max 256.31711929413984 89.12651126687106\n",
      "408.03414044476426\n",
      "A, K, B =  256.3171192941398 245.22474847203304 89.12651126687105\n",
      "A_max, B_max 268.8536954353119 101.66308740804308\n",
      "358.9891907503576\n",
      "A, K, B =  262.69249255768045 196.17979877762642 96.29669819267707\n",
      "points [(2611.0, 2852.0), (2611.0, 3164.8387971223683), (2711.292609129376, 3164.8387971223683), (2711.292609129376, 2868.366389215366), (2811.5852182587523, 2868.366389215366), (2811.5852182587523, 3164.8387971223683), (2911.8778273881285, 3164.8387971223683), (2911.8778273881285, 2868.366389215366), (3012.1704365175046, 2868.366389215366), (3012.1704365175046, 3164.8387971223683), (3112.4630456468813, 3164.8387971223683), (3112.4630456468813, 2868.366389215366), (3212.755654776257, 2868.366389215366), (3212.755654776257, 3164.8387971223683), (3313.0482639056336, 3164.8387971223683), (3313.0482639056336, 2868.366389215366), (3413.3408730350097, 2868.366389215366), (3413.3408730350097, 3164.8387971223683), (3513.633482164386, 3164.8387971223683), (3513.633482164386, 2868.366389215366), (3613.926091293762, 2868.366389215366), (3613.926091293762, 3014.809391972731)] real points [(2611.0, 2852.0), (2611.0, 3114.6924925576805), (2711.292609129376, 3114.6924925576805), (2711.292609129376, 2918.512693780054), (2811.5852182587523, 2918.512693780054), (2811.5852182587523, 3114.6924925576805), (2911.8778273881285, 3114.6924925576805), (2911.8778273881285, 2918.512693780054), (3012.1704365175046, 2918.512693780054), (3012.1704365175046, 3114.6924925576805), (3112.4630456468813, 3114.6924925576805), (3112.4630456468813, 2918.512693780054), (3212.755654776257, 2918.512693780054), (3212.755654776257, 3114.6924925576805), (3313.0482639056336, 3114.6924925576805), (3313.0482639056336, 2918.512693780054), (3413.3408730350097, 2918.512693780054), (3413.3408730350097, 3114.6924925576805), (3513.633482164386, 3114.6924925576805), (3513.633482164386, 2918.512693780054), (3613.926091293762, 2918.512693780054), (3613.926091293762, 3014.809391972731)] 1.5707963267948966 -1.5707963267948966\n",
      "10.0\n"
     ]
    }
   ],
   "source": [
    "# Add resonator for qubit 3\n",
    "name = 'resonator3'\n",
    "begin_point = (pur_res_coupler3_fanout.terminals['up'].position[0],\n",
    "               pur_res_coupler3_fanout.terminals['up'].position[1]+10)\n",
    "begin_orientation = np.pi / 2\n",
    "\n",
    "end_point = (eqd.coaxmon3.terminals['coupler1'].position[0]-100,\n",
    "             eqd.coaxmon3.terminals['coupler1'].position[1]-100)\n",
    "end_orientation =  - np.pi / 2\n",
    "meander_length = 3700\n",
    "left_limit = 0\n",
    "right_limit = 330\n",
    "radius_limit = (45,80)\n",
    "w = eqd.resonator_core\n",
    "s = eqd.resonator_gap\n",
    "g = eqd.resonator_ground\n",
    "result1, points1, real_points1, resonator3 = meander.meander_creation2(name, begin_point, begin_orientation,\n",
    "                                    end_point, end_orientation, meander_length,\n",
    "                                    left_limit, right_limit, radius_limit, w,\n",
    "                                    s, g, eqd.sample.layer_configuration)\n",
    "\n",
    "eqd.sample.add(resonator3)\n",
    "eqd.sample.generate_bridge_over_cpw(name='resonator3_airbridges', o=resonator3, geometry=airbridge,\n",
    "                                 min_spacing=resonator_min_bridge_spacing, bridge_part_decimation=2)\n",
    "\n",
    "connection = eqd.sample.connect_cpw(resonator3,\n",
    "                           pur_res_coupler3_fanout,\n",
    "                           'port1',\n",
    "                           'up',\n",
    "                           'TL', [],\n",
    "                           airbridge=airbridge,\n",
    "                           min_spacing=coupler_bridge_spacing,\n",
    "                           r=80)\n",
    "print(connection[0].length)"
   ]
  },
  {
   "cell_type": "code",
   "execution_count": 73,
   "id": "505f2a63",
   "metadata": {
    "ExecuteTime": {
     "end_time": "2022-01-07T20:40:57.403467Z",
     "start_time": "2022-01-07T20:40:57.385273Z"
    }
   },
   "outputs": [
    {
     "name": "stdout",
     "output_type": "stream",
     "text": [
      "A_max, B_max 416.0 777.0\n",
      "951.1637362879451\n",
      "A, K, B =  376.08571640741656 590.1637362879451 575.0780198805285\n",
      "points [(3493.0, 2487.0), (3043.9142835925836, 2487.0), (3043.9142835925836, 2633.0), (3780.0780198805287, 2633.0), (3780.0780198805287, 2779.0), (3132.0, 2779.0)] real points [(3493.0, 2487.0), (3116.9142835925836, 2487.0), (3116.9142835925836, 2633.0), (3707.0780198805287, 2633.0), (3707.0780198805287, 2779.0), (3132.0, 2779.0)] 3.141592653589793 0\n"
     ]
    },
    {
     "data": {
      "text/plain": [
       "[CPW \"purcell_closed_end_3_airbridgess0\", l=29.011,\n",
       " CPW \"purcell_closed_end_3_airbridgess1\", l=36.000,\n",
       " CPW \"purcell_closed_end_3_airbridgess1\", l=58.021,\n",
       " CPW \"purcell_closed_end_3_airbridgess3\", l=58.021,\n",
       " CPW \"purcell_closed_end_3_airbridgess4\", l=36.000,\n",
       " CPW \"purcell_closed_end_3_airbridgess4\", l=58.021,\n",
       " CPW \"purcell_closed_end_3_airbridgess6\", l=289.527,\n",
       " CPW \"purcell_closed_end_3_airbridgess7\", l=36.000,\n",
       " CPW \"purcell_closed_end_3_airbridgess7\", l=62.361,\n",
       " CPW \"purcell_closed_end_3_airbridgess9\", l=62.361,\n",
       " CPW \"purcell_closed_end_3_airbridgess10\", l=36.000,\n",
       " CPW \"purcell_closed_end_3_airbridgess10\", l=62.361,\n",
       " CPW \"purcell_closed_end_3_airbridgess12\", l=62.361,\n",
       " CPW \"purcell_closed_end_3_airbridgess13\", l=36.000,\n",
       " CPW \"purcell_closed_end_3_airbridgess13\", l=62.361,\n",
       " CPW \"purcell_closed_end_3_airbridgess15\", l=290.440,\n",
       " CPW \"purcell_closed_end_3_airbridgess16\", l=36.000,\n",
       " CPW \"purcell_closed_end_3_airbridgess16\", l=59.846,\n",
       " CPW \"purcell_closed_end_3_airbridgess18\", l=59.846,\n",
       " CPW \"purcell_closed_end_3_airbridgess19\", l=36.000,\n",
       " CPW \"purcell_closed_end_3_airbridgess19\", l=59.846,\n",
       " CPW \"purcell_closed_end_3_airbridgess21\", l=59.846,\n",
       " CPW \"purcell_closed_end_3_airbridgess22\", l=36.000,\n",
       " CPW \"purcell_closed_end_3_airbridgess22\", l=59.846,\n",
       " CPW \"purcell_closed_end_3_airbridgess24\", l=29.923]"
      ]
     },
     "execution_count": 73,
     "metadata": {},
     "output_type": "execute_result"
    }
   ],
   "source": [
    "# Add purcell closed end\n",
    "name = 'purcell_closed_end3'\n",
    "begin_point = (TL_purcell_couplers[3][0].terminals['up'].position[0] - 100,\n",
    "               TL_purcell_couplers[3][0].terminals['up'].position[1] + 100)\n",
    "begin_orientation = np.pi\n",
    "end_point = (pur_res_coupler3_fanout_ground.terminals['narrow'].position[0]+500,\n",
    "            pur_res_coupler3_fanout_ground.terminals['narrow'].position[1])\n",
    "end_orientation =   0\n",
    "meander_length = 2000\n",
    "left_limit = 500\n",
    "right_limit = 500\n",
    "radius_limit = (40,90)\n",
    "w = eqd.resonator_core\n",
    "s = eqd.resonator_gap\n",
    "g = eqd.resonator_ground\n",
    "\n",
    "result1, points1, real_points1, purcell_closed_end_3 = meander.meander_creation2(name, begin_point, begin_orientation,\n",
    "                                    end_point, end_orientation, meander_length,\n",
    "                                    left_limit, right_limit, radius_limit, w,\n",
    "                                    s, g, eqd.sample.layer_configuration)\n",
    "eqd.sample.add(purcell_closed_end_3)\n",
    "eqd.sample.generate_bridge_over_cpw(name='purcell_closed_end_3_airbridges', o=purcell_closed_end_3, geometry=airbridge,\n",
    "                                 min_spacing=resonator_min_bridge_spacing, bridge_part_decimation=2)"
   ]
  },
  {
   "cell_type": "code",
   "execution_count": 74,
   "id": "84eedfc7",
   "metadata": {
    "ExecuteTime": {
     "end_time": "2022-01-07T20:40:57.853602Z",
     "start_time": "2022-01-07T20:40:57.834496Z"
    }
   },
   "outputs": [
    {
     "name": "stdout",
     "output_type": "stream",
     "text": [
      "A_max, B_max 228.75 111.75\n",
      "349.3871895494191\n",
      "A, K, B =  228.74999999999997 146.3871895494191 111.74999999999999\n",
      "A_max, B_max 268.875 151.875\n",
      "276.19359477470954\n",
      "A, K, B =  138.09679738735477 73.19359477470955 138.09679738735477\n",
      "points [(2971.0, 2397.0), (2971.0, 2575.221797387355), (2890.75, 2575.221797387355), (2890.75, 2421.778202612645), (2810.5, 2421.778202612645), (2810.5, 2575.221797387355), (2730.25, 2575.221797387355), (2730.25, 2421.778202612645), (2650.0, 2421.778202612645), (2650, 2600)] real points [(2971.0, 2397.0), (2971.0, 2535.096797387355), (2890.75, 2535.096797387355), (2890.75, 2461.903202612645), (2810.5, 2461.903202612645), (2810.5, 2535.096797387355), (2730.25, 2535.096797387355), (2730.25, 2461.903202612645), (2650.0, 2461.903202612645), (2650, 2600)] 1.5707963267948966 -1.5707963267948966\n",
      "10.0\n"
     ]
    },
    {
     "data": {
      "text/plain": [
       "OpenEnd purcell3-open-end"
      ]
     },
     "execution_count": 74,
     "metadata": {},
     "output_type": "execute_result"
    }
   ],
   "source": [
    "# Add purcell open end\n",
    "name = 'purcell_open_end3'\n",
    "begin_point = (TL_purcell_couplers[3][1].terminals['down'].position[0],\n",
    "               TL_purcell_couplers[3][1].terminals['down'].position[1]+10)\n",
    "begin_orientation = np.pi / 2\n",
    "end_point = (2650, 2600)\n",
    "end_orientation =   - np.pi / 2\n",
    "meander_length = 1000\n",
    "left_limit = 0\n",
    "right_limit = 320\n",
    "radius_limit = (40,90)\n",
    "w = eqd.resonator_core\n",
    "s = eqd.resonator_gap\n",
    "g = eqd.resonator_ground\n",
    "\n",
    "result1, points1, real_points1, purcell_open_end3 = meander.meander_creation2(name, begin_point, begin_orientation,\n",
    "                                    end_point, end_orientation, meander_length,\n",
    "                                    left_limit, right_limit, radius_limit, w,\n",
    "                                    s, g, eqd.sample.layer_configuration)\n",
    "eqd.sample.add(purcell_open_end3)\n",
    "eqd.sample.generate_bridge_over_cpw(name='purcell_open_end3_airbridges', o=purcell_open_end3, geometry=airbridge,\n",
    "                                 min_spacing=resonator_min_bridge_spacing, bridge_part_decimation=1)\n",
    "\n",
    "connection = eqd.sample.connect_cpw(purcell_open_end3,\n",
    "                           TL_purcell_couplers[3][1],\n",
    "                           'port1',\n",
    "                           'down',\n",
    "                           'TL', [],\n",
    "                           airbridge=airbridge,\n",
    "                           min_spacing=coupler_bridge_spacing,\n",
    "                           r=80)\n",
    "\n",
    "print(connection[0].length)\n",
    "\n",
    "# Add open end for purcell \n",
    "eqd.sample.open_end(purcell_open_end3, 'port2', 'purcell3-open-end')"
   ]
  },
  {
   "cell_type": "code",
   "execution_count": 75,
   "id": "9540edd2",
   "metadata": {
    "ExecuteTime": {
     "end_time": "2022-01-07T20:40:58.316853Z",
     "start_time": "2022-01-07T20:40:58.301138Z"
    }
   },
   "outputs": [
    {
     "name": "stdout",
     "output_type": "stream",
     "text": [
      "164.1807592322446\n",
      "65.33333333333348\n",
      "151.30577095386928\n"
     ]
    }
   ],
   "source": [
    "connection = eqd.sample.connect_cpw(TL_purcell_couplers[3][0],\n",
    "                           purcell_closed_end_3,\n",
    "                           'up',\n",
    "                           'port1',\n",
    "                           'TL', [],\n",
    "                           airbridge=airbridge,\n",
    "                           min_spacing=coupler_bridge_spacing,\n",
    "                           r=80)\n",
    "print(connection[0].length)\n",
    "\n",
    "connection = eqd.sample.connect_cpw(pur_res_coupler3_fanout_ground,\n",
    "                           purcell_closed_end_3,\n",
    "                           'narrow',\n",
    "                           'port2',\n",
    "                           'TL', [],\n",
    "                           airbridge=airbridge,\n",
    "                           min_spacing=coupler_bridge_spacing / 5,\n",
    "                           r=80)\n",
    "print(connection[0].length)\n",
    "\n",
    "connection = eqd.sample.connect_cpw(eqd.coaxmon3,\n",
    "                           resonator3,\n",
    "                           'coupler1',\n",
    "                           'port2',\n",
    "                           'TL', [],\n",
    "                           airbridge=airbridge,\n",
    "                           min_spacing=coupler_bridge_spacing,\n",
    "                           r=80)\n",
    "\n",
    "print(connection[0].length)"
   ]
  },
  {
   "cell_type": "code",
   "execution_count": 76,
   "id": "fc3dc1e4",
   "metadata": {
    "ExecuteTime": {
     "end_time": "2022-01-07T20:41:02.161371Z",
     "start_time": "2022-01-07T20:40:58.782550Z"
    }
   },
   "outputs": [],
   "source": [
    "eqd.sample.draw_design()\n",
    "# eqd.sample.watch()"
   ]
  },
  {
   "cell_type": "code",
   "execution_count": 77,
   "id": "6db60611",
   "metadata": {
    "ExecuteTime": {
     "end_time": "2022-01-07T20:41:17.261825Z",
     "start_time": "2022-01-07T20:41:08.565965Z"
    }
   },
   "outputs": [],
   "source": [
    "eqd.sample.watch()"
   ]
  },
  {
   "cell_type": "markdown",
   "id": "5c376780",
   "metadata": {},
   "source": [
    "### Purcell and resonator for qubit7"
   ]
  },
  {
   "cell_type": "code",
   "execution_count": 78,
   "id": "bcceb9d6",
   "metadata": {
    "ExecuteTime": {
     "end_time": "2022-01-05T00:05:51.126437Z",
     "start_time": "2022-01-05T00:05:51.120760Z"
    }
   },
   "outputs": [],
   "source": [
    "# Add coupler purcell + resonator with fanout and grounding\n",
    "pur_res_coupler7_position = [(eqd.coaxmon8.center[0] + 470, eqd.coaxmon8.center[1]-445),\n",
    "                             (eqd.coaxmon8.center[0] + 470 - purcell_resonator_coupler_length, eqd.coaxmon8.center[1]-445)]\n",
    "pur_res_coupler7 = elements.CPWCoupler('purcell_resonator_coupler7',\n",
    "                                         pur_res_coupler7_position,\n",
    "                                         pur_res_coupler_w,\n",
    "                                         pur_res_coupler_s,\n",
    "                                         eqd.resonator_ground,\n",
    "                                         eqd.sample.layer_configuration,\n",
    "                                         r=0)\n",
    "eqd.sample.add(pur_res_coupler7)\n",
    "\n",
    "pur_res_coupler7_fanout = eqd.sample.fanout(o=pur_res_coupler7,\n",
    "                                            port='port2',\n",
    "                                            name='res-purcell-coupler-fanout',\n",
    "                                            grouping=[1, 3])\n",
    "pur_res_coupler7_ground = eqd.sample.ground(\n",
    "    o=pur_res_coupler7,\n",
    "    port='port1',\n",
    "    name='res-purcell-coupler-grounding',\n",
    "    grounding_width=res_pur_coupler_grounding,\n",
    "    grounding_between=[(0, 4)])\n",
    "\n",
    "pur_res_coupler7_fanout_ground = eqd.sample.ground(\n",
    "    o=pur_res_coupler7_fanout,\n",
    "    port='center',\n",
    "    name='res-purcell-coupler-fanout-grounding',\n",
    "    grounding_width=res_pur_coupler_grounding,\n",
    "    grounding_between=[(0, 1)])"
   ]
  },
  {
   "cell_type": "code",
   "execution_count": 79,
   "id": "52df5c2f",
   "metadata": {
    "ExecuteTime": {
     "end_time": "2022-01-05T00:05:51.356497Z",
     "start_time": "2022-01-05T00:05:51.128357Z"
    }
   },
   "outputs": [
    {
     "name": "stdout",
     "output_type": "stream",
     "text": [
      "A_max, B_max 141.08949239218646 58.89888436491765\n",
      "371.99548843655265\n",
      "A, K, B =  141.08949239218643 214.18609646382146 58.89888436491764\n",
      "A_max, B_max 163.06711929413984 80.87651126687103\n",
      "318.44896432059727\n",
      "A, K, B =  163.06711929413981 160.6395723478661 80.87651126687102\n",
      "A_max, B_max 176.25369543531187 94.06308740804306\n",
      "286.3210498510241\n",
      "A, K, B =  176.25369543531184 128.51165787829288 94.06308740804305\n",
      "A_max, B_max 185.04474619609323 102.85413816882442\n",
      "264.90244020464195\n",
      "A, K, B =  170.32938984289325 107.09304823191073 94.57305036174866\n",
      "points [(5759.0, 2857.0), (5759.0, 3071.2846436468), (5846.910507607814, 3071.2846436468), (5846.910507607814, 2876.2810878070754), (5934.821015215627, 2876.2810878070754), (5934.821015215627, 3071.2846436468), (6022.73152282344, 3071.2846436468), (6022.73152282344, 2876.2810878070754), (6110.642030431254, 2876.2810878070754), (6110.642030431254, 3071.2846436468), (6198.552538039068, 3071.2846436468), (6198.552538039068, 2876.2810878070754), (6286.463045646881, 2876.2810878070754), (6286.463045646881, 3071.2846436468), (6374.373553254694, 3071.2846436468), (6374.373553254694, 2876.2810878070754), (6462.284060862508, 2876.2810878070754), (6462.284060862508, 3071.2846436468), (6550.194568470322, 3071.2846436468), (6550.194568470322, 2876.2810878070754), (6638.105076078135, 2876.2810878070754), (6638.105076078135, 3071.2846436468), (6726.0155836859485, 3071.2846436468), (6726.0155836859485, 2876.2810878070754), (6813.9260912937625, 2876.2810878070754), (6813.9260912937625, 3014.809391972731)] real points [(5759.0, 2857.0), (5759.0, 3027.3293898428933), (5846.910507607814, 3027.3293898428933), (5846.910507607814, 2920.2363416109824), (5934.821015215627, 2920.2363416109824), (5934.821015215627, 3027.3293898428933), (6022.73152282344, 3027.3293898428933), (6022.73152282344, 2920.2363416109824), (6110.642030431254, 2920.2363416109824), (6110.642030431254, 3027.3293898428933), (6198.552538039068, 3027.3293898428933), (6198.552538039068, 2920.2363416109824), (6286.463045646881, 2920.2363416109824), (6286.463045646881, 3027.3293898428933), (6374.373553254694, 3027.3293898428933), (6374.373553254694, 2920.2363416109824), (6462.284060862508, 2920.2363416109824), (6462.284060862508, 3027.3293898428933), (6550.194568470322, 3027.3293898428933), (6550.194568470322, 2920.2363416109824), (6638.105076078135, 2920.2363416109824), (6638.105076078135, 3027.3293898428933), (6726.0155836859485, 3027.3293898428933), (6726.0155836859485, 2920.2363416109824), (6813.9260912937625, 2920.2363416109824), (6813.9260912937625, 3014.809391972731)] 1.5707963267948966 -1.5707963267948966\n",
      "10.0\n",
      "151.3057709538702\n"
     ]
    }
   ],
   "source": [
    "# Add resonator for qubit 7\n",
    "name = 'resonator7'\n",
    "begin_point = (pur_res_coupler7_fanout.terminals['down'].position[0],\n",
    "               pur_res_coupler7_fanout.terminals['down'].position[1]+10)\n",
    "begin_orientation = np.pi / 2\n",
    "end_point = (eqd.coaxmon7.terminals['coupler1'].position[0]-100,\n",
    "             eqd.coaxmon7.terminals['coupler1'].position[1]-100)\n",
    "end_orientation =   - np.pi / 2\n",
    "meander_length = 3100\n",
    "left_limit = 0\n",
    "right_limit = 240\n",
    "radius_limit = (40,80)\n",
    "w = eqd.resonator_core\n",
    "s = eqd.resonator_gap\n",
    "g = eqd.resonator_ground\n",
    "result1, points1, real_points1, resonator7 = meander.meander_creation2(name, begin_point, begin_orientation,\n",
    "                                    end_point, end_orientation, meander_length,\n",
    "                                    left_limit, right_limit, radius_limit, w,\n",
    "                                    s, g, eqd.sample.layer_configuration)\n",
    "\n",
    "eqd.sample.add(resonator7)\n",
    "eqd.sample.generate_bridge_over_cpw(name='resonator7_airbridges', o=resonator7, geometry=airbridge,\n",
    "                                 min_spacing=resonator_min_bridge_spacing, bridge_part_decimation=2)\n",
    "\n",
    "connection = eqd.sample.connect_cpw(resonator7,\n",
    "                           pur_res_coupler7_fanout,\n",
    "                           'port1',\n",
    "                           'down',\n",
    "                           'TL', [],\n",
    "                           airbridge=airbridge,\n",
    "                           min_spacing=coupler_bridge_spacing,\n",
    "                           r=80)\n",
    "print(connection[0].length)\n",
    "\n",
    "connection = eqd.sample.connect_cpw(eqd.coaxmon7,\n",
    "                           resonator7,\n",
    "                           'coupler1',\n",
    "                           'port2',\n",
    "                           'TL', [],\n",
    "                           airbridge=airbridge,\n",
    "                           min_spacing=coupler_bridge_spacing,\n",
    "                           r=80)\n",
    "print(connection[0].length)"
   ]
  },
  {
   "cell_type": "code",
   "execution_count": 80,
   "id": "45918ba1",
   "metadata": {
    "ExecuteTime": {
     "end_time": "2022-01-05T00:05:51.529439Z",
     "start_time": "2022-01-05T00:05:51.358392Z"
    }
   },
   "outputs": [
    {
     "name": "stdout",
     "output_type": "stream",
     "text": [
      "A_max, B_max 414.75 617.75\n",
      "996.0685985427538\n",
      "A, K, B =  399.8033805820643 663.0685985427538 596.2652179606896\n",
      "points [(6071.0, 2487.0), (5616.946619417936, 2487.0), (5616.946619417936, 2595.5), (6388.515217960689, 2595.5), (6388.515217960689, 2704.0), (5738.0, 2704.0)] real points [(6071.0, 2487.0), (5671.196619417936, 2487.0), (5671.196619417936, 2595.5), (6334.265217960689, 2595.5), (6334.265217960689, 2704.0), (5738.0, 2704.0)] 3.141592653589793 0\n"
     ]
    },
    {
     "data": {
      "text/plain": [
       "[CPW \"purcell_closed_end_7_airbridgess0\", l=31.975,\n",
       " CPW \"purcell_closed_end_7_airbridgess1\", l=36.000,\n",
       " CPW \"purcell_closed_end_7_airbridgess1\", l=63.951,\n",
       " CPW \"purcell_closed_end_7_airbridgess3\", l=63.951,\n",
       " CPW \"purcell_closed_end_7_airbridgess4\", l=36.000,\n",
       " CPW \"purcell_closed_end_7_airbridgess4\", l=63.951,\n",
       " CPW \"purcell_closed_end_7_airbridgess6\", l=231.769,\n",
       " CPW \"purcell_closed_end_7_airbridgess7\", l=36.000,\n",
       " CPW \"purcell_closed_end_7_airbridgess7\", l=58.724,\n",
       " CPW \"purcell_closed_end_7_airbridgess9\", l=58.724,\n",
       " CPW \"purcell_closed_end_7_airbridgess10\", l=36.000,\n",
       " CPW \"purcell_closed_end_7_airbridgess10\", l=58.724,\n",
       " CPW \"purcell_closed_end_7_airbridgess12\", l=58.724,\n",
       " CPW \"purcell_closed_end_7_airbridgess13\", l=36.000,\n",
       " CPW \"purcell_closed_end_7_airbridgess13\", l=58.724,\n",
       " CPW \"purcell_closed_end_7_airbridgess15\", l=58.724,\n",
       " CPW \"purcell_closed_end_7_airbridgess16\", l=36.000,\n",
       " CPW \"purcell_closed_end_7_airbridgess16\", l=231.482,\n",
       " CPW \"purcell_closed_end_7_airbridgess18\", l=63.378,\n",
       " CPW \"purcell_closed_end_7_airbridgess19\", l=36.000,\n",
       " CPW \"purcell_closed_end_7_airbridgess19\", l=63.378,\n",
       " CPW \"purcell_closed_end_7_airbridgess21\", l=63.378,\n",
       " CPW \"purcell_closed_end_7_airbridgess22\", l=36.000,\n",
       " CPW \"purcell_closed_end_7_airbridgess22\", l=63.378,\n",
       " CPW \"purcell_closed_end_7_airbridgess24\", l=63.378,\n",
       " CPW \"purcell_closed_end_7_airbridgess25\", l=31.689]"
      ]
     },
     "execution_count": 80,
     "metadata": {},
     "output_type": "execute_result"
    }
   ],
   "source": [
    "# Add purcell closed end 7\n",
    "name = 'purcell_closed_end7'\n",
    "begin_point = (TL_purcell_couplers[5][1].terminals['down'].position[0] - 100,\n",
    "               TL_purcell_couplers[5][1].terminals['down'].position[1] + 100)\n",
    "begin_orientation = np.pi\n",
    "end_point = (pur_res_coupler7_fanout_ground.terminals['narrow'].position[0],\n",
    "             pur_res_coupler7_fanout_ground.terminals['narrow'].position[1]-80)\n",
    "end_orientation =   0\n",
    "meander_length = 2000\n",
    "left_limit = 480\n",
    "right_limit = 350\n",
    "radius_limit = (40,90)\n",
    "w = eqd.resonator_core\n",
    "s = eqd.resonator_gap\n",
    "g = eqd.resonator_ground\n",
    "\n",
    "result1, points1, real_points1, purcell_closed_end_7 = meander.meander_creation2(name, begin_point, begin_orientation,\n",
    "                                    end_point, end_orientation, meander_length,\n",
    "                                    left_limit, right_limit, radius_limit, w,\n",
    "                                    s, g, eqd.sample.layer_configuration)\n",
    "eqd.sample.add(purcell_closed_end_7)\n",
    "eqd.sample.generate_bridge_over_cpw(name='purcell_closed_end_7_airbridges', o=purcell_closed_end_7, geometry=airbridge,\n",
    "                                 min_spacing=resonator_min_bridge_spacing, bridge_part_decimation=2)"
   ]
  },
  {
   "cell_type": "code",
   "execution_count": 81,
   "id": "7b8f4df1",
   "metadata": {
    "ExecuteTime": {
     "end_time": "2022-01-05T00:05:51.678227Z",
     "start_time": "2022-01-05T00:05:51.532214Z"
    }
   },
   "outputs": [
    {
     "name": "stdout",
     "output_type": "stream",
     "text": [
      "A_max, B_max 338.25 166.25\n",
      "575.3163932226242\n",
      "A, K, B =  338.24999999999994 317.31639322262424 166.24999999999997\n",
      "A_max, B_max 378.625 206.625\n",
      "416.6581966113121\n",
      "A, K, B =  228.2755368624345 158.65819661131212 188.38265974887742\n",
      "points [(6793.0, 2397.0), (6793.0, 2665.6505368624344), (6712.25, 2665.6505368624344), (6712.25, 2426.242340251122), (6631.5, 2426.242340251122), (6631.5, 2665.6505368624344), (6550.75, 2665.6505368624344), (6550.75, 2426.242340251122), (6470.0, 2426.242340251122), (6470, 2655)] real points [(6793.0, 2397.0), (6793.0, 2625.2755368624344), (6712.25, 2625.2755368624344), (6712.25, 2466.617340251122), (6631.5, 2466.617340251122), (6631.5, 2625.2755368624344), (6550.75, 2625.2755368624344), (6550.75, 2466.617340251122), (6470.0, 2466.6173402511226), (6470, 2655)] 1.5707963267948966 -1.5707963267948966\n",
      "10.0\n"
     ]
    }
   ],
   "source": [
    "# Add purcell open end\n",
    "name = 'purcell_open_end7'\n",
    "begin_point = (TL_purcell_couplers[5][0].terminals['up'].position[0],\n",
    "               TL_purcell_couplers[5][0].terminals['up'].position[1]+10)\n",
    "begin_orientation = np.pi / 2\n",
    "end_point = (6470, 2655)\n",
    "end_orientation =   - np.pi / 2\n",
    "meander_length = 1400\n",
    "left_limit = 0\n",
    "right_limit = 430\n",
    "radius_limit = (40,90)\n",
    "w = eqd.resonator_core\n",
    "s = eqd.resonator_gap\n",
    "g = eqd.resonator_ground\n",
    "\n",
    "result1, points1, real_points1, purcell_open_end7 = meander.meander_creation2(name, begin_point, begin_orientation,\n",
    "                                    end_point, end_orientation, meander_length,\n",
    "                                    left_limit, right_limit, radius_limit, w,\n",
    "                                    s, g, eqd.sample.layer_configuration)\n",
    "eqd.sample.add(purcell_open_end7)\n",
    "eqd.sample.generate_bridge_over_cpw(name='purcell_open_end7_airbridges', o=purcell_open_end7, geometry=airbridge,\n",
    "                                 min_spacing=resonator_min_bridge_spacing, bridge_part_decimation=2)\n",
    "\n",
    "\n",
    "connection = eqd.sample.connect_cpw(purcell_open_end7,\n",
    "                           TL_purcell_couplers[5][0],\n",
    "                           'port1',\n",
    "                           'up',\n",
    "                           'TL', [],\n",
    "                           airbridge=airbridge,\n",
    "                           min_spacing=coupler_bridge_spacing,\n",
    "                           r=80)\n",
    "\n",
    "print(connection[0].length)"
   ]
  },
  {
   "cell_type": "code",
   "execution_count": 82,
   "id": "a5404c43",
   "metadata": {
    "ExecuteTime": {
     "end_time": "2022-01-05T00:05:51.775887Z",
     "start_time": "2022-01-05T00:05:51.686092Z"
    }
   },
   "outputs": [
    {
     "name": "stdout",
     "output_type": "stream",
     "text": [
      "209.82770192589226\n"
     ]
    }
   ],
   "source": [
    "connection = eqd.sample.connect_cpw(purcell_closed_end_7,\n",
    "                           pur_res_coupler7_fanout_ground,\n",
    "                           'port2',\n",
    "                           'narrow',\n",
    "                           'TL', [],\n",
    "                           airbridge=airbridge,\n",
    "                           min_spacing=coupler_bridge_spacing,\n",
    "                           r=40)\n",
    "print(connection[0].length)"
   ]
  },
  {
   "cell_type": "code",
   "execution_count": 83,
   "id": "b6fdacd4",
   "metadata": {
    "ExecuteTime": {
     "end_time": "2022-01-05T00:05:51.885367Z",
     "start_time": "2022-01-05T00:05:51.778064Z"
    }
   },
   "outputs": [
    {
     "name": "stdout",
     "output_type": "stream",
     "text": [
      "164.18075923224342\n"
     ]
    }
   ],
   "source": [
    "connection = eqd.sample.connect_cpw(TL_purcell_couplers[5][1],\n",
    "                           purcell_closed_end_7,\n",
    "                           'down',\n",
    "                           'port1',\n",
    "                           'TL', [],\n",
    "                           airbridge=airbridge,\n",
    "                           min_spacing=coupler_bridge_spacing,\n",
    "                           r=80)\n",
    "print(connection[0].length)"
   ]
  },
  {
   "cell_type": "code",
   "execution_count": 84,
   "id": "8513aec9",
   "metadata": {
    "ExecuteTime": {
     "end_time": "2022-01-05T00:05:52.024136Z",
     "start_time": "2022-01-05T00:05:51.886727Z"
    }
   },
   "outputs": [
    {
     "data": {
      "text/plain": [
       "OpenEnd purcell7-open-end"
      ]
     },
     "execution_count": 84,
     "metadata": {},
     "output_type": "execute_result"
    }
   ],
   "source": [
    "# Add open end for purcell \n",
    "eqd.sample.open_end(purcell_open_end7, 'port2', 'purcell7-open-end')"
   ]
  },
  {
   "cell_type": "code",
   "execution_count": 85,
   "id": "e142f389",
   "metadata": {
    "ExecuteTime": {
     "end_time": "2022-01-05T00:05:57.373050Z",
     "start_time": "2022-01-05T00:05:52.028541Z"
    }
   },
   "outputs": [],
   "source": [
    "eqd.sample.draw_design()\n",
    "# eqd.sample.watch()"
   ]
  },
  {
   "cell_type": "markdown",
   "id": "867e1276",
   "metadata": {},
   "source": [
    "### Purcell and resonator for qubit5 "
   ]
  },
  {
   "cell_type": "code",
   "execution_count": 86,
   "id": "c552bf8b",
   "metadata": {
    "ExecuteTime": {
     "end_time": "2022-01-05T00:05:57.383137Z",
     "start_time": "2022-01-05T00:05:57.374244Z"
    }
   },
   "outputs": [],
   "source": [
    "# Add coupler purcell + resonator with fanout and grounding\n",
    "pur_res_coupler5_position = [(eqd.coaxmon6.center[0]-100 - purcell_resonator_coupler_length,\n",
    "                              eqd.coaxmon6.center[1]+450),\n",
    "                             (eqd.coaxmon6.center[0]-100,\n",
    "                              eqd.coaxmon6.center[1]+450)]\n",
    "pur_res_coupler5 = elements.CPWCoupler('purcell_resonator_coupler5',\n",
    "                                         pur_res_coupler5_position,\n",
    "                                         pur_res_coupler_w,\n",
    "                                         pur_res_coupler_s,\n",
    "                                         eqd.resonator_ground,\n",
    "                                         eqd.sample.layer_configuration,\n",
    "                                         r=0)\n",
    "eqd.sample.add(pur_res_coupler5)\n",
    "\n",
    "pur_res_coupler5_fanout = eqd.sample.fanout(o=pur_res_coupler5,\n",
    "                                            port='port1',\n",
    "                                            name='res-purcell-coupler-fanout',\n",
    "                                            grouping=[1, 3])\n",
    "pur_res_coupler5_ground = eqd.sample.ground(\n",
    "    o=pur_res_coupler5,\n",
    "    port='port2',\n",
    "    name='res-purcell-coupler-grounding',\n",
    "    grounding_width=res_pur_coupler_grounding,\n",
    "    grounding_between=[(0, 4)])\n",
    "\n",
    "pur_res_coupler5_fanout_ground = eqd.sample.ground(\n",
    "    o=pur_res_coupler5_fanout,\n",
    "    port='center',\n",
    "    name='res-purcell-coupler-fanout-grounding',\n",
    "    grounding_width=res_pur_coupler_grounding,\n",
    "    grounding_between=[(2, 3)])"
   ]
  },
  {
   "cell_type": "code",
   "execution_count": 87,
   "id": "06e9c763",
   "metadata": {
    "ExecuteTime": {
     "end_time": "2022-01-05T00:05:57.673856Z",
     "start_time": "2022-01-05T00:05:57.384838Z"
    }
   },
   "outputs": [
    {
     "name": "stdout",
     "output_type": "stream",
     "text": [
      "A_max, B_max 235.42282572551977 68.23221769825098\n",
      "489.7757232687751\n",
      "A, K, B =  235.42282572551974 326.9663312960439 68.23221769825096\n",
      "A_max, B_max 256.31711929413984 89.12651126687103\n",
      "408.03414044476415\n",
      "A, K, B =  256.3171192941398 245.22474847203296 89.12651126687102\n",
      "A_max, B_max 268.85369543531186 101.66308740804307\n",
      "358.9891907503575\n",
      "A, K, B =  262.69249255768045 196.17979877762633 96.2966981926771\n",
      "points [(6789.0, 1848.0), (6789.0, 1535.1612028776315), (6688.707390870623, 1535.1612028776315), (6688.707390870623, 1831.6336107846341), (6588.414781741248, 1831.6336107846341), (6588.414781741248, 1535.1612028776315), (6488.122172611871, 1535.1612028776315), (6488.122172611871, 1831.6336107846341), (6387.829563482495, 1831.6336107846341), (6387.829563482495, 1535.1612028776315), (6287.536954353119, 1535.1612028776315), (6287.536954353119, 1831.6336107846341), (6187.244345223742, 1831.6336107846341), (6187.244345223742, 1535.1612028776315), (6086.951736094366, 1535.1612028776315), (6086.951736094366, 1831.6336107846341), (5986.65912696499, 1831.6336107846341), (5986.65912696499, 1535.1612028776315), (5886.366517835614, 1535.1612028776315), (5886.366517835614, 1831.6336107846341), (5786.0739087062375, 1831.6336107846341), (5786.0739087062375, 1685.1906080272688)] real points [(6789.0, 1848.0), (6789.0, 1585.3075074423195), (6688.707390870623, 1585.3075074423195), (6688.707390870623, 1781.4873062199458), (6588.414781741248, 1781.4873062199458), (6588.414781741248, 1585.3075074423195), (6488.122172611871, 1585.3075074423195), (6488.122172611871, 1781.4873062199458), (6387.829563482495, 1781.4873062199458), (6387.829563482495, 1585.3075074423195), (6287.536954353119, 1585.3075074423195), (6287.536954353119, 1781.4873062199458), (6187.244345223742, 1781.4873062199458), (6187.244345223742, 1585.3075074423195), (6086.951736094366, 1585.3075074423195), (6086.951736094366, 1781.4873062199458), (5986.65912696499, 1781.4873062199458), (5986.65912696499, 1585.3075074423195), (5886.366517835614, 1585.3075074423195), (5886.366517835614, 1781.4873062199458), (5786.0739087062375, 1781.4873062199458), (5786.0739087062375, 1685.1906080272688)] -1.5707963267948966 1.5707963267948966\n",
      "10.0\n"
     ]
    }
   ],
   "source": [
    "# Add resonator for qubit 5\n",
    "name = 'resonator5'\n",
    "begin_point = (pur_res_coupler5_fanout.terminals['up'].position[0],\n",
    "               pur_res_coupler5_fanout.terminals['up'].position[1]-10)\n",
    "begin_orientation = - np.pi / 2\n",
    "\n",
    "end_point = (eqd.coaxmon5.terminals['coupler1'].position[0]+100,\n",
    "             eqd.coaxmon5.terminals['coupler1'].position[1]+100)\n",
    "end_orientation =   np.pi / 2\n",
    "meander_length = 3700\n",
    "left_limit = 330\n",
    "right_limit = 0\n",
    "radius_limit = (45,80)\n",
    "w = eqd.resonator_core\n",
    "s = eqd.resonator_gap\n",
    "g = eqd.resonator_ground\n",
    "result1, points1, real_points1, resonator5 = meander.meander_creation2(name, begin_point, begin_orientation,\n",
    "                                    end_point, end_orientation, meander_length,\n",
    "                                    left_limit, right_limit, radius_limit, w,\n",
    "                                    s, g, eqd.sample.layer_configuration)\n",
    "\n",
    "eqd.sample.add(resonator5)\n",
    "eqd.sample.generate_bridge_over_cpw(name='resonator5_airbridges', o=resonator5, geometry=airbridge,\n",
    "                                 min_spacing=resonator_min_bridge_spacing, bridge_part_decimation=2)\n",
    "\n",
    "connection = eqd.sample.connect_cpw(resonator5,\n",
    "                           pur_res_coupler5_fanout,\n",
    "                           'port1',\n",
    "                           'up',\n",
    "                           'TL', [],\n",
    "                           airbridge=airbridge,\n",
    "                           min_spacing=coupler_bridge_spacing,\n",
    "                           r=80)\n",
    "print(connection[0].length)"
   ]
  },
  {
   "cell_type": "code",
   "execution_count": 88,
   "id": "0ff97c3b",
   "metadata": {
    "ExecuteTime": {
     "end_time": "2022-01-05T00:05:57.819496Z",
     "start_time": "2022-01-05T00:05:57.675036Z"
    }
   },
   "outputs": [
    {
     "name": "stdout",
     "output_type": "stream",
     "text": [
      "A_max, B_max 416.0 777.0\n",
      "951.1637362879451\n",
      "A, K, B =  376.08571640741656 590.1637362879451 575.0780198805285\n",
      "points [(5907.0, 2213.0), (6356.085716407417, 2213.0), (6356.085716407417, 2067.0), (5619.921980119472, 2067.0), (5619.921980119472, 1921.0), (6268.0, 1921.0)] real points [(5907.0, 2213.0), (6283.085716407417, 2213.0), (6283.085716407417, 2067.0), (5692.921980119472, 2067.0), (5692.921980119471, 1921.0), (6268.0, 1921.0)] 0 3.141592653589793\n"
     ]
    },
    {
     "data": {
      "text/plain": [
       "[CPW \"purcell_closed_end_5_airbridgess0\", l=29.011,\n",
       " CPW \"purcell_closed_end_5_airbridgess1\", l=36.000,\n",
       " CPW \"purcell_closed_end_5_airbridgess1\", l=58.021,\n",
       " CPW \"purcell_closed_end_5_airbridgess3\", l=58.021,\n",
       " CPW \"purcell_closed_end_5_airbridgess4\", l=36.000,\n",
       " CPW \"purcell_closed_end_5_airbridgess4\", l=58.021,\n",
       " CPW \"purcell_closed_end_5_airbridgess6\", l=289.527,\n",
       " CPW \"purcell_closed_end_5_airbridgess7\", l=36.000,\n",
       " CPW \"purcell_closed_end_5_airbridgess7\", l=62.361,\n",
       " CPW \"purcell_closed_end_5_airbridgess9\", l=62.361,\n",
       " CPW \"purcell_closed_end_5_airbridgess10\", l=36.000,\n",
       " CPW \"purcell_closed_end_5_airbridgess10\", l=62.361,\n",
       " CPW \"purcell_closed_end_5_airbridgess12\", l=62.361,\n",
       " CPW \"purcell_closed_end_5_airbridgess13\", l=36.000,\n",
       " CPW \"purcell_closed_end_5_airbridgess13\", l=62.361,\n",
       " CPW \"purcell_closed_end_5_airbridgess15\", l=290.440,\n",
       " CPW \"purcell_closed_end_5_airbridgess16\", l=36.000,\n",
       " CPW \"purcell_closed_end_5_airbridgess16\", l=59.846,\n",
       " CPW \"purcell_closed_end_5_airbridgess18\", l=59.846,\n",
       " CPW \"purcell_closed_end_5_airbridgess19\", l=36.000,\n",
       " CPW \"purcell_closed_end_5_airbridgess19\", l=59.846,\n",
       " CPW \"purcell_closed_end_5_airbridgess21\", l=59.846,\n",
       " CPW \"purcell_closed_end_5_airbridgess22\", l=36.000,\n",
       " CPW \"purcell_closed_end_5_airbridgess22\", l=59.846,\n",
       " CPW \"purcell_closed_end_5_airbridgess24\", l=29.923]"
      ]
     },
     "execution_count": 88,
     "metadata": {},
     "output_type": "execute_result"
    }
   ],
   "source": [
    "# Add purcell closed end\n",
    "name = 'purcell_closed_end5'\n",
    "begin_point = (TL_purcell_couplers[4][0].terminals['up'].position[0] + 100,\n",
    "               TL_purcell_couplers[4][0].terminals['up'].position[1] - 100)\n",
    "begin_orientation = 0\n",
    "end_point = (pur_res_coupler5_fanout_ground.terminals['narrow'].position[0]-500,\n",
    "            pur_res_coupler5_fanout_ground.terminals['narrow'].position[1])\n",
    "end_orientation =   np.pi\n",
    "meander_length = 2000\n",
    "left_limit = 500\n",
    "right_limit = 500\n",
    "radius_limit = (40,90)\n",
    "w = eqd.resonator_core\n",
    "s = eqd.resonator_gap\n",
    "g = eqd.resonator_ground\n",
    "\n",
    "result1, points1, real_points1, purcell_closed_end_5 = meander.meander_creation2(name, begin_point, begin_orientation,\n",
    "                                    end_point, end_orientation, meander_length,\n",
    "                                    left_limit, right_limit, radius_limit, w,\n",
    "                                    s, g, eqd.sample.layer_configuration)\n",
    "eqd.sample.add(purcell_closed_end_5)\n",
    "eqd.sample.generate_bridge_over_cpw(name='purcell_closed_end_5_airbridges', o=purcell_closed_end_5, geometry=airbridge,\n",
    "                                 min_spacing=resonator_min_bridge_spacing, bridge_part_decimation=2)"
   ]
  },
  {
   "cell_type": "code",
   "execution_count": 89,
   "id": "29452e16",
   "metadata": {
    "ExecuteTime": {
     "end_time": "2022-01-05T00:05:57.937444Z",
     "start_time": "2022-01-05T00:05:57.821081Z"
    }
   },
   "outputs": [
    {
     "name": "stdout",
     "output_type": "stream",
     "text": [
      "A_max, B_max 228.75 36.75\n",
      "311.8871895494191\n",
      "A, K, B =  228.74999999999997 183.8871895494191 36.74999999999999\n",
      "A_max, B_max 268.875 76.875\n",
      "219.94359477470954\n",
      "A, K, B =  164.75499635685983 91.94359477470955 55.18859841784951\n",
      "points [(6429.0, 2303.0), (6429.0, 2098.12000364314), (6509.25, 2098.12000364314), (6509.25, 2270.31359841785), (6589.5, 2270.31359841785), (6589.5, 2098.12000364314), (6669.75, 2098.12000364314), (6669.75, 2270.31359841785), (6750.0, 2270.31359841785), (6750, 2175)] real points [(6429.0, 2303.0), (6429.0, 2138.24500364314), (6509.25, 2138.24500364314), (6509.25, 2230.18859841785), (6589.5, 2230.18859841785), (6589.5, 2138.24500364314), (6669.75, 2138.24500364314), (6669.75, 2230.18859841785), (6750.0, 2230.1885984178493), (6750, 2175)] -1.5707963267948966 1.5707963267948966\n"
     ]
    },
    {
     "data": {
      "text/plain": [
       "OpenEnd purcell3-open-end"
      ]
     },
     "execution_count": 89,
     "metadata": {},
     "output_type": "execute_result"
    }
   ],
   "source": [
    "# Add purcell open end\n",
    "name = 'purcell_open_end5'\n",
    "begin_point = (TL_purcell_couplers[4][1].terminals['down'].position[0],\n",
    "               TL_purcell_couplers[4][1].terminals['down'].position[1]-10)\n",
    "begin_orientation = - np.pi / 2\n",
    "end_point = (6750, 2175)\n",
    "end_orientation =   np.pi / 2\n",
    "meander_length = 1000\n",
    "left_limit = 320\n",
    "right_limit = 0\n",
    "radius_limit = (40,90)\n",
    "w = eqd.resonator_core\n",
    "s = eqd.resonator_gap\n",
    "g = eqd.resonator_ground\n",
    "\n",
    "result1, points1, real_points1, purcell_open_end5 = meander.meander_creation2(name, begin_point, begin_orientation,\n",
    "                                    end_point, end_orientation, meander_length,\n",
    "                                    left_limit, right_limit, radius_limit, w,\n",
    "                                    s, g, eqd.sample.layer_configuration)\n",
    "eqd.sample.add(purcell_open_end5)\n",
    "eqd.sample.generate_bridge_over_cpw(name='purcell_open_end5_airbridges', o=purcell_open_end5, geometry=airbridge,\n",
    "                                 min_spacing=resonator_min_bridge_spacing, bridge_part_decimation=2)\n",
    "\n",
    "\n",
    "\n",
    "connection = eqd.sample.connect_cpw(purcell_open_end5,\n",
    "                           TL_purcell_couplers[4][1],\n",
    "                           'port1',\n",
    "                           'down',\n",
    "                           'TL', [],\n",
    "                           airbridge=airbridge,\n",
    "                           min_spacing=coupler_bridge_spacing,\n",
    "                           r=80)\n",
    "\n",
    "# Add open end for purcell \n",
    "eqd.sample.open_end(purcell_open_end5, 'port2', 'purcell3-open-end')"
   ]
  },
  {
   "cell_type": "code",
   "execution_count": 90,
   "id": "a4bfe394",
   "metadata": {
    "ExecuteTime": {
     "end_time": "2022-01-05T00:05:58.068382Z",
     "start_time": "2022-01-05T00:05:57.939117Z"
    }
   },
   "outputs": [
    {
     "name": "stdout",
     "output_type": "stream",
     "text": [
      "164.18075923224342\n",
      "65.33333333333303\n",
      "151.30577095386911\n"
     ]
    }
   ],
   "source": [
    "connection = eqd.sample.connect_cpw(TL_purcell_couplers[4][0],\n",
    "                           purcell_closed_end_5,\n",
    "                           'up',\n",
    "                           'port1',\n",
    "                           'TL', [],\n",
    "                           airbridge=airbridge,\n",
    "                           min_spacing=coupler_bridge_spacing,\n",
    "                           r=80)\n",
    "print(connection[0].length)\n",
    "\n",
    "connection = eqd.sample.connect_cpw(pur_res_coupler5_fanout_ground,\n",
    "                           purcell_closed_end_5,\n",
    "                           'narrow',\n",
    "                           'port2',\n",
    "                           'TL', [],\n",
    "                           airbridge=airbridge,\n",
    "                           min_spacing=coupler_bridge_spacing/5,\n",
    "                           r=80)\n",
    "print(connection[0].length)\n",
    "\n",
    "connection = eqd.sample.connect_cpw(eqd.coaxmon5,\n",
    "                           resonator5,\n",
    "                           'coupler1',\n",
    "                           'port2',\n",
    "                           'TL', [],\n",
    "                           airbridge=airbridge,\n",
    "                           min_spacing=coupler_bridge_spacing,\n",
    "                           r=80)\n",
    "\n",
    "print(connection[0].length)\n"
   ]
  },
  {
   "cell_type": "code",
   "execution_count": 91,
   "id": "6aa3a832",
   "metadata": {
    "ExecuteTime": {
     "end_time": "2022-01-05T00:06:04.627061Z",
     "start_time": "2022-01-05T00:05:58.070489Z"
    }
   },
   "outputs": [],
   "source": [
    "eqd.sample.draw_design()\n",
    "# eqd.sample.watch()"
   ]
  },
  {
   "cell_type": "markdown",
   "id": "a8473a7b",
   "metadata": {},
   "source": [
    "### Purcell and resonator for qubit4 "
   ]
  },
  {
   "cell_type": "code",
   "execution_count": 92,
   "id": "4cbc389f",
   "metadata": {
    "ExecuteTime": {
     "end_time": "2022-01-05T00:06:04.647813Z",
     "start_time": "2022-01-05T00:06:04.628139Z"
    }
   },
   "outputs": [
    {
     "name": "stdout",
     "output_type": "stream",
     "text": [
      "A_max, B_max 951.75 924.75\n",
      "2154.5641879024947\n",
      "A, K, B =  951.7499999999999 1121.5641879024947 924.7499999999999\n",
      "A_max, B_max 1005.375 978.375\n",
      "1593.7820939512474\n",
      "A, K, B =  796.8910469756237 560.7820939512474 796.8910469756237\n",
      "points [(989.0, 2397.0), (989.0, 3247.516046975624), (881.75, 3247.516046975624), (881.75, 2579.483953024376), (774.5, 2579.483953024376), (774.5, 3247.516046975624), (667.25, 3247.516046975624), (667.25, 2579.483953024376), (560.0, 2579.483953024376), (560, 3430)] real points [(989.0, 2397.0), (989.0, 3193.891046975624), (881.75, 3193.891046975624), (881.75, 2633.108953024376), (774.5, 2633.108953024376), (774.5, 3193.891046975624), (667.25, 3193.891046975624), (667.25, 2633.108953024376), (560.0, 2633.108953024376), (560, 3430)] 1.5707963267948966 -1.5707963267948966\n"
     ]
    },
    {
     "data": {
      "text/plain": [
       "OpenEnd purcell4-open-end"
      ]
     },
     "execution_count": 92,
     "metadata": {},
     "output_type": "execute_result"
    }
   ],
   "source": [
    "# Add open end purcell meander with open ending\n",
    "name = 'purcell_open_end4'\n",
    "begin_point = (TL_purcell_couplers[0][0].terminals['down'].position[0],\n",
    "               TL_purcell_couplers[0][0].terminals['down'].position[1]+10)\n",
    "begin_orientation = np.pi / 2\n",
    "end_point = (560, 3430)\n",
    "end_orientation =   -np.pi / 2\n",
    "meander_length = 3950\n",
    "left_limit = 10\n",
    "right_limit = 1070\n",
    "radius_limit = (40,90)\n",
    "w = eqd.resonator_core\n",
    "s = eqd.resonator_gap\n",
    "g = eqd.resonator_ground\n",
    "\n",
    "result1, points1, real_points1, purcell_open_end4 = meander.meander_creation2(name, begin_point, begin_orientation,\n",
    "                                    end_point, end_orientation, meander_length,\n",
    "                                    left_limit, right_limit, radius_limit, w,\n",
    "                                    s, g, eqd.sample.layer_configuration)\n",
    "eqd.sample.add(purcell_open_end4)\n",
    "eqd.sample.generate_bridge_over_cpw(name='purcell_open_end4_airbridges', o=purcell_open_end4, geometry=airbridge,\n",
    "                                 min_spacing=resonator_min_bridge_spacing, bridge_part_decimation=2)\n",
    "\n",
    "\n",
    "\n",
    "connection = eqd.sample.connect_cpw(purcell_open_end4,\n",
    "                           TL_purcell_couplers[0][0],\n",
    "                           'port1',\n",
    "                           'down',\n",
    "                           'TL', [],\n",
    "                           airbridge=airbridge,\n",
    "                           min_spacing=coupler_bridge_spacing,\n",
    "                           r=80)\n",
    "\n",
    "# Add open end for purcell \n",
    "eqd.sample.open_end(purcell_open_end4, 'port2', 'purcell4-open-end')"
   ]
  },
  {
   "cell_type": "code",
   "execution_count": 93,
   "id": "eccb595e",
   "metadata": {
    "ExecuteTime": {
     "end_time": "2022-01-05T00:06:04.851442Z",
     "start_time": "2022-01-05T00:06:04.649114Z"
    }
   },
   "outputs": [],
   "source": [
    "# Add coupler purcell + resonator with fanout and grounding\n",
    "pur_res_coupler4_position = [\n",
    "    (TL_purcell_couplers[0][1].terminals['up'].position[0] - \n",
    "     purcell_resonator_coupler_length,\n",
    "     TL_purcell_couplers[0][1].terminals['up'].position[1] + 225),\n",
    "    (TL_purcell_couplers[0][1].terminals['up'].position[0],\n",
    "     TL_purcell_couplers[0][1].terminals['up'].position[1] + 225)\n",
    "]\n",
    "pur_res_coupler4 = elements.CPWCoupler('purcell_resonator_coupler4',\n",
    "                                       pur_res_coupler4_position,\n",
    "                                       pur_res_coupler_w,\n",
    "                                       pur_res_coupler_s,\n",
    "                                       eqd.resonator_ground,\n",
    "                                       eqd.sample.layer_configuration,\n",
    "                                       r=0)\n",
    "eqd.sample.add(pur_res_coupler4)\n",
    "\n",
    "pur_res_coupler4_fanout = eqd.sample.fanout(o=pur_res_coupler4,\n",
    "                                            port='port1',\n",
    "                                            name='res-purcell-coupler-fanout',\n",
    "                                            grouping=[0, 2])\n",
    "pur_res_coupler4_ground = eqd.sample.ground(\n",
    "    o=pur_res_coupler4,\n",
    "    port='port2',\n",
    "    name='res-purcell-coupler-grounding',\n",
    "    grounding_width=res_pur_coupler_grounding,\n",
    "    grounding_between=[(0, 4)])\n",
    "\n",
    "pur_res_coupler4_fanout_ground = eqd.sample.ground(\n",
    "    o=pur_res_coupler4_fanout,\n",
    "    port='center',\n",
    "    name='res-purcell-coupler-fanout-grounding',\n",
    "    grounding_width=res_pur_coupler_grounding,\n",
    "    grounding_between=[(0, 1)])"
   ]
  },
  {
   "cell_type": "code",
   "execution_count": 94,
   "id": "34ba0408",
   "metadata": {
    "ExecuteTime": {
     "end_time": "2022-01-05T00:06:04.995192Z",
     "start_time": "2022-01-05T00:06:04.855066Z"
    }
   },
   "outputs": [
    {
     "name": "stdout",
     "output_type": "stream",
     "text": [
      "A_max, B_max 437.0 579.0\n",
      "A, K, B =  218.31859100666537 0 218.31859100666537\n",
      "points [(1369.0, 2591.0), (1098.6814089933346, 2591.0), (1098.6814089933346, 2487.0), (1511.0, 2487.0)] real points [(1369.0, 2591.0), (1150.6814089933346, 2591.0), (1292.6814089933346, 2487.0), (1511.0, 2487.0)] -3.141592653589793 3.141592653589793\n",
      "10.0\n"
     ]
    }
   ],
   "source": [
    "# Add closed end purcell\n",
    "name = 'purcell_closed_end4'\n",
    "begin_point = (pur_res_coupler4_fanout_ground.terminals['narrow'].position[0]-10,\n",
    "               pur_res_coupler4_fanout_ground.terminals['narrow'].position[1])\n",
    "begin_orientation = - np.pi \n",
    "end_point = (TL_purcell_couplers[0][1].terminals['up'].position[0]-100,\n",
    "            TL_purcell_couplers[0][1].terminals['up'].position[1]+100)\n",
    "end_orientation =   np.pi\n",
    "meander_length = 600\n",
    "left_limit = 500\n",
    "right_limit = 100\n",
    "radius_limit = (40,90)\n",
    "w = eqd.resonator_core\n",
    "s = eqd.resonator_gap\n",
    "g = eqd.resonator_ground\n",
    "\n",
    "result1, points1, real_points1, purcell_closed_end4 = meander.meander_creation2(name, begin_point, begin_orientation,\n",
    "                                    end_point, end_orientation, meander_length,\n",
    "                                    left_limit, right_limit, radius_limit, w,\n",
    "                                    s, g, eqd.sample.layer_configuration)\n",
    "eqd.sample.add(purcell_closed_end4)\n",
    "eqd.sample.generate_bridge_over_cpw(name='purcell_closed_end4_airbridges', o=purcell_closed_end4, geometry=airbridge,\n",
    "                                 min_spacing=resonator_min_bridge_spacing, bridge_part_decimation=2)\n",
    "\n",
    "connection = eqd.sample.connect_cpw(purcell_closed_end4,\n",
    "                           pur_res_coupler4_fanout_ground,\n",
    "                           'port1',\n",
    "                           'narrow',\n",
    "                           'TL', [],\n",
    "                           airbridge=airbridge,\n",
    "                           min_spacing=coupler_bridge_spacing,\n",
    "                           r=80)\n",
    "\n",
    "print(connection[0].length)"
   ]
  },
  {
   "cell_type": "code",
   "execution_count": 95,
   "id": "e669fe7d",
   "metadata": {
    "ExecuteTime": {
     "end_time": "2022-01-05T00:06:05.134652Z",
     "start_time": "2022-01-05T00:06:04.997309Z"
    }
   },
   "outputs": [
    {
     "name": "stdout",
     "output_type": "stream",
     "text": [
      "164.18075923224467\n"
     ]
    }
   ],
   "source": [
    "connection = eqd.sample.connect_cpw(TL_purcell_couplers[0][1],\n",
    "                           purcell_closed_end4,\n",
    "                           'up',\n",
    "                           'port2',\n",
    "                           'TL', [],\n",
    "                           airbridge=airbridge,\n",
    "                           min_spacing=coupler_bridge_spacing,\n",
    "                           r=80)\n",
    "print(connection[0].length)"
   ]
  },
  {
   "cell_type": "code",
   "execution_count": 96,
   "id": "c568ec75",
   "metadata": {
    "ExecuteTime": {
     "end_time": "2022-01-05T00:06:05.351326Z",
     "start_time": "2022-01-05T00:06:05.138871Z"
    }
   },
   "outputs": [
    {
     "name": "stdout",
     "output_type": "stream",
     "text": [
      "A_max, B_max 717.2592385882797 268.06863056101093\n",
      "931.3108684296519\n",
      "A, K, B =  687.002856021439 580.5014764569207 244.3080124082125\n",
      "A_max, B_max 744.5061590588532 295.3155510315844\n",
      "737.8103762773451\n",
      "A, K, B =  491.97249477037343 387.00098430461384 245.83788150697157\n",
      "A_max, B_max 758.1296192941398 308.93901126687103\n",
      "641.0601302011916\n",
      "A, K, B =  360.2134313023737 290.25073822846036 280.8466988988178\n",
      "points [(1400.0, 2664.0), (1400.0, 3432.743617433159), (1563.4815228234406, 3432.743617433159), (1563.4815228234406, 2688.760618152798), (1726.963045646881, 2688.760618152798), (1726.963045646881, 3432.743617433159), (1890.4445684703214, 3432.743617433159), (1890.4445684703214, 2688.760618152798), (2053.926091293762, 2688.760618152798), (2053.926091293762, 3014.809391972731)] real points [(1400.0, 2664.0), (1400.0, 3351.002856021439), (1563.4815228234406, 3351.002856021439), (1563.4815228234406, 2770.501379564518), (1726.963045646881, 2770.501379564518), (1726.963045646881, 3351.002856021439), (1890.4445684703214, 3351.002856021439), (1890.4445684703214, 2770.501379564518), (2053.926091293762, 2770.5013795645186), (2053.926091293762, 3014.809391972731)] 1.5707963267948966 -1.5707963267948966\n",
      "10.0\n"
     ]
    }
   ],
   "source": [
    "# Add resonator\n",
    "name = 'resonator4'\n",
    "begin_point = (pur_res_coupler4_fanout.terminals['down'].position[0],\n",
    "               pur_res_coupler4_fanout.terminals['down'].position[1]+10)\n",
    "begin_orientation = np.pi  / 2\n",
    "end_point = (eqd.coaxmon4.terminals['coupler1'].position[0]- 60,\n",
    "            eqd.coaxmon4.terminals['coupler1'].position[1]-100)\n",
    "end_orientation =   - np.pi / 2\n",
    "meander_length = 3700\n",
    "left_limit = 10\n",
    "right_limit = 810\n",
    "radius_limit = (40,90)\n",
    "w = eqd.resonator_core\n",
    "s = eqd.resonator_gap\n",
    "g = eqd.resonator_ground\n",
    "\n",
    "result1, points1, real_points1, resonator4 = meander.meander_creation2(name, begin_point, begin_orientation,\n",
    "                                    end_point, end_orientation, meander_length,\n",
    "                                    left_limit, right_limit, radius_limit, w,\n",
    "                                    s, g, eqd.sample.layer_configuration)\n",
    "eqd.sample.add(resonator4)\n",
    "eqd.sample.generate_bridge_over_cpw(name='resonator4_airbridges', o=resonator4, geometry=airbridge,\n",
    "                                 min_spacing=resonator_min_bridge_spacing, bridge_part_decimation=2)\n",
    "\n",
    "connection = eqd.sample.connect_cpw(resonator4,\n",
    "                           pur_res_coupler4_fanout,\n",
    "                           'port1',\n",
    "                           'down',\n",
    "                           'TL', [],\n",
    "                           airbridge=airbridge,\n",
    "                           min_spacing=coupler_bridge_spacing,\n",
    "                           r=0)\n",
    "\n",
    "print(connection[0].length)"
   ]
  },
  {
   "cell_type": "code",
   "execution_count": 97,
   "id": "2121c0be",
   "metadata": {
    "ExecuteTime": {
     "end_time": "2022-01-05T00:06:05.477614Z",
     "start_time": "2022-01-05T00:06:05.352563Z"
    }
   },
   "outputs": [
    {
     "name": "stdout",
     "output_type": "stream",
     "text": [
      "122.14889754564788\n"
     ]
    }
   ],
   "source": [
    "connection = eqd.sample.connect_cpw(resonator4,\n",
    "                           eqd.coaxmon4,\n",
    "                           'port2',\n",
    "                           'coupler1',\n",
    "                           'TL', [],\n",
    "                           airbridge=airbridge,\n",
    "                           min_spacing=coupler_bridge_spacing,\n",
    "                           r=100)\n",
    "print(connection[0].length)"
   ]
  },
  {
   "cell_type": "code",
   "execution_count": 98,
   "id": "d782774b",
   "metadata": {
    "ExecuteTime": {
     "end_time": "2022-01-05T00:06:12.521538Z",
     "start_time": "2022-01-05T00:06:05.481957Z"
    }
   },
   "outputs": [],
   "source": [
    "eqd.sample.draw_design()\n",
    "# eqd.sample.watch()"
   ]
  },
  {
   "cell_type": "code",
   "execution_count": 99,
   "id": "473e4934",
   "metadata": {
    "ExecuteTime": {
     "end_time": "2022-01-05T00:06:12.525491Z",
     "start_time": "2022-01-05T00:06:12.522886Z"
    }
   },
   "outputs": [],
   "source": [
    "# eqd.sample.watch()"
   ]
  },
  {
   "cell_type": "markdown",
   "id": "e503b5af",
   "metadata": {},
   "source": [
    "### Purcell and resonator for qubit 6 "
   ]
  },
  {
   "cell_type": "code",
   "execution_count": 100,
   "id": "64eb50f2",
   "metadata": {
    "ExecuteTime": {
     "end_time": "2022-01-05T00:06:12.816318Z",
     "start_time": "2022-01-05T00:06:12.526945Z"
    }
   },
   "outputs": [
    {
     "name": "stdout",
     "output_type": "stream",
     "text": [
      "A_max, B_max 954.25 952.25\n",
      "2099.918169536469\n",
      "A, K, B =  954.2499999999999 1041.9181695364691 952.2499999999999\n",
      "A_max, B_max 1006.625 1004.625\n",
      "1578.9590847682346\n",
      "A, K, B =  789.4795423841173 520.9590847682346 789.4795423841173\n",
      "points [(8411.0, 2303.0), (8411.0, 1461.1454576158826), (8515.75, 1461.1454576158826), (8515.75, 2086.854542384117), (8620.5, 2086.854542384117), (8620.5, 1461.1454576158826), (8725.25, 1461.1454576158826), (8725.25, 2086.854542384117), (8830.0, 2086.854542384117), (8830, 1245)] real points [(8411.0, 2303.0), (8411.0, 1513.5204576158826), (8515.75, 1513.5204576158826), (8515.75, 2034.4795423841172), (8620.5, 2034.4795423841172), (8620.5, 1513.5204576158826), (8725.25, 1513.5204576158826), (8725.25, 2034.4795423841172), (8830.0, 2034.4795423841174), (8830, 1245)] -1.5707963267948966 1.5707963267948966\n",
      "10.0\n"
     ]
    },
    {
     "data": {
      "text/plain": [
       "OpenEnd purcell6-open-end"
      ]
     },
     "execution_count": 100,
     "metadata": {},
     "output_type": "execute_result"
    }
   ],
   "source": [
    "# Add open end purcell meander with open ending\n",
    "name = 'purcell_open_end6'\n",
    "begin_point = (TL_purcell_couplers[1][0].terminals['down'].position[0],\n",
    "               TL_purcell_couplers[1][0].terminals['down'].position[1]-10)\n",
    "begin_orientation = - np.pi / 2\n",
    "end_point = (8830, 1245)\n",
    "end_orientation =   np.pi / 2\n",
    "meander_length = 3800\n",
    "left_limit = 1070\n",
    "right_limit = 10\n",
    "radius_limit = (40,90)\n",
    "w = eqd.resonator_core\n",
    "s = eqd.resonator_gap\n",
    "g = eqd.resonator_ground\n",
    "\n",
    "result1, points1, real_points1, purcell_open_end6 = meander.meander_creation2(name, begin_point, begin_orientation,\n",
    "                                    end_point, end_orientation, meander_length,\n",
    "                                    left_limit, right_limit, radius_limit, w,\n",
    "                                    s, g, eqd.sample.layer_configuration)\n",
    "eqd.sample.add(purcell_open_end6)\n",
    "eqd.sample.generate_bridge_over_cpw(name='purcell_open_end6_airbridges', o=purcell_open_end6, geometry=airbridge,\n",
    "                                 min_spacing=resonator_min_bridge_spacing, bridge_part_decimation=2)\n",
    "\n",
    "connection = eqd.sample.connect_cpw(purcell_open_end6,\n",
    "                           TL_purcell_couplers[1][0],\n",
    "                           'port1',\n",
    "                           'down',\n",
    "                           'TL', [],\n",
    "                           airbridge=airbridge,\n",
    "                           min_spacing=coupler_bridge_spacing,\n",
    "                           r=100)\n",
    "print(connection[0].length)\n",
    "\n",
    "# Add open end for purcell \n",
    "eqd.sample.open_end(purcell_open_end6, 'port2', 'purcell6-open-end')"
   ]
  },
  {
   "cell_type": "code",
   "execution_count": 101,
   "id": "00fc5303",
   "metadata": {
    "ExecuteTime": {
     "end_time": "2022-01-05T00:06:12.906754Z",
     "start_time": "2022-01-05T00:06:12.818791Z"
    }
   },
   "outputs": [],
   "source": [
    "# Add coupler purcell + resonator with fanout and grounding\n",
    "pur_res_coupler6_position = [\n",
    "    (TL_purcell_couplers[1][1].terminals['up'].position[0] +\n",
    "     purcell_resonator_coupler_length,\n",
    "     TL_purcell_couplers[1][1].terminals['up'].position[1] - 225),\n",
    "    (TL_purcell_couplers[1][1].terminals['up'].position[0],\n",
    "     TL_purcell_couplers[1][1].terminals['up'].position[1] - 225)\n",
    "]\n",
    "pur_res_coupler6 = elements.CPWCoupler('purcell_resonator_coupler6',\n",
    "                                         pur_res_coupler6_position,\n",
    "                                         pur_res_coupler_w,\n",
    "                                         pur_res_coupler_s,\n",
    "                                         eqd.resonator_ground,\n",
    "                                         eqd.sample.layer_configuration,\n",
    "                                         r=0)\n",
    "eqd.sample.add(pur_res_coupler6)\n",
    "\n",
    "pur_res_coupler6_fanout = eqd.sample.fanout(o=pur_res_coupler6,\n",
    "                                            port='port1',\n",
    "                                            name='res-purcell-coupler-fanout',\n",
    "                                            grouping=[0, 2])\n",
    "pur_res_coupler6_ground = eqd.sample.ground(\n",
    "    o=pur_res_coupler6,\n",
    "    port='port2',\n",
    "    name='res-purcell-coupler-grounding',\n",
    "    grounding_width=res_pur_coupler_grounding,\n",
    "    grounding_between=[(0, 4)])\n",
    "\n",
    "pur_res_coupler6_fanout_ground = eqd.sample.ground(\n",
    "    o=pur_res_coupler6_fanout,\n",
    "    port='center',\n",
    "    name='res-purcell-coupler-fanout-grounding',\n",
    "    grounding_width=res_pur_coupler_grounding,\n",
    "    grounding_between=[(0, 1)])"
   ]
  },
  {
   "cell_type": "code",
   "execution_count": 102,
   "id": "f8089e26",
   "metadata": {
    "ExecuteTime": {
     "end_time": "2022-01-05T00:06:13.044820Z",
     "start_time": "2022-01-05T00:06:12.911151Z"
    }
   },
   "outputs": [
    {
     "name": "stdout",
     "output_type": "stream",
     "text": [
      "A_max, B_max 437.0 559.0\n",
      "A, K, B =  168.31859100666537 0 168.31859100666537\n",
      "points [(8031.0, 2109.0), (8251.318591006666, 2109.0), (8251.318591006666, 2213.0), (7909.0, 2213.0)] real points [(8031.0, 2109.0), (8199.318591006666, 2109.0), (8077.318591006665, 2213.0), (7909.0, 2213.0)] 0 0\n",
      "10.0\n"
     ]
    }
   ],
   "source": [
    "# Add closed end purcell\n",
    "name = 'purcell_closed_end6'\n",
    "begin_point = (pur_res_coupler6_fanout_ground.terminals['narrow'].position[0]+10,\n",
    "               pur_res_coupler6_fanout_ground.terminals['narrow'].position[1])\n",
    "begin_orientation = 0\n",
    "end_point = (TL_purcell_couplers[1][1].terminals['up'].position[0]+120,\n",
    "            TL_purcell_couplers[1][1].terminals['up'].position[1]-100)\n",
    "end_orientation =   0\n",
    "meander_length = 500\n",
    "left_limit = 100\n",
    "right_limit = 500\n",
    "radius_limit = (40,90)\n",
    "w = eqd.resonator_core\n",
    "s = eqd.resonator_gap\n",
    "g = eqd.resonator_ground\n",
    "\n",
    "result1, points1, real_points1, purcell_closed_end6 = meander.meander_creation2(name, begin_point, begin_orientation,\n",
    "                                    end_point, end_orientation, meander_length,\n",
    "                                    left_limit, right_limit, radius_limit, w,\n",
    "                                    s, g, eqd.sample.layer_configuration)\n",
    "eqd.sample.add(purcell_closed_end6)\n",
    "eqd.sample.generate_bridge_over_cpw(name='purcell_closed_end6_airbridges', o=purcell_closed_end6, geometry=airbridge,\n",
    "                                 min_spacing=resonator_min_bridge_spacing, bridge_part_decimation=2)\n",
    "\n",
    "connection = eqd.sample.connect_cpw(purcell_closed_end6,\n",
    "                           pur_res_coupler6_fanout_ground,\n",
    "                           'port1',\n",
    "                           'narrow',\n",
    "                           'TL', [],\n",
    "                           airbridge=airbridge,\n",
    "                           min_spacing=coupler_bridge_spacing,\n",
    "                           r=100)\n",
    "print(connection[0].length)"
   ]
  },
  {
   "cell_type": "code",
   "execution_count": 103,
   "id": "11e47d5b",
   "metadata": {
    "ExecuteTime": {
     "end_time": "2022-01-05T00:06:13.216236Z",
     "start_time": "2022-01-05T00:06:13.046736Z"
    }
   },
   "outputs": [
    {
     "name": "stdout",
     "output_type": "stream",
     "text": [
      "A_max, B_max 717.2592385882797 268.0686305610109\n",
      "993.8108684296518\n",
      "A, K, B =  717.2592385882796 643.0014764569206 268.0686305610108\n",
      "A_max, B_max 744.5061590588531 295.3155510315843\n",
      "779.4770429440116\n",
      "A, K, B =  538.8877403490286 428.6676509712804 240.5893025949829\n",
      "A_max, B_max 758.1296192941398 308.93901126687103\n",
      "672.3101302011914\n",
      "A, K, B =  390.3008596476846 321.5007382284603 282.0092705535069\n",
      "points [(8000.0, 2036.0), (8000.0, 1442.6184187098245), (7891.012318117706, 1442.6184187098245), (7891.012318117706, 1980.2737515633985), (7782.024636235413, 1980.2737515633985), (7782.024636235413, 1442.6184187098245), (7673.036954353119, 1442.6184187098245), (7673.036954353119, 1980.2737515633985), (7564.049272470825, 1980.2737515633985), (7564.049272470825, 1442.6184187098245), (7455.0615905885315, 1442.6184187098245), (7455.0615905885315, 1980.2737515633985), (7346.0739087062375, 1980.2737515633985), (7346.0739087062375, 1685.1906080272688)] real points [(8000.0, 2036.0), (8000.0, 1497.1122596509713), (7891.012318117706, 1497.1122596509713), (7891.012318117706, 1925.7799106222517), (7782.024636235413, 1925.7799106222517), (7782.024636235413, 1497.1122596509713), (7673.036954353119, 1497.1122596509713), (7673.036954353119, 1925.7799106222517), (7564.049272470825, 1925.7799106222517), (7564.049272470825, 1497.1122596509713), (7455.0615905885315, 1497.1122596509713), (7455.0615905885315, 1925.7799106222517), (7346.0739087062375, 1925.7799106222517), (7346.0739087062375, 1685.1906080272688)] -1.5707963267948966 1.5707963267948966\n",
      "10.0\n"
     ]
    }
   ],
   "source": [
    "# Add resonator\n",
    "name = 'resonator6'\n",
    "begin_point = (pur_res_coupler6_fanout.terminals['down'].position[0],\n",
    "               pur_res_coupler6_fanout.terminals['down'].position[1]-10)\n",
    "begin_orientation = - np.pi  / 2\n",
    "end_point = (eqd.coaxmon6.terminals['coupler1'].position[0]+60,\n",
    "            eqd.coaxmon6.terminals['coupler1'].position[1]+100)\n",
    "end_orientation =   np.pi / 2\n",
    "meander_length = 3950\n",
    "left_limit = 810\n",
    "right_limit = 10\n",
    "radius_limit = (40,90)\n",
    "w = eqd.resonator_core\n",
    "s = eqd.resonator_gap\n",
    "g = eqd.resonator_ground\n",
    "\n",
    "result1, points1, real_points1, resonator6 = meander.meander_creation2(name, begin_point, begin_orientation,\n",
    "                                    end_point, end_orientation, meander_length,\n",
    "                                    left_limit, right_limit, radius_limit, w,\n",
    "                                    s, g, eqd.sample.layer_configuration)\n",
    "eqd.sample.add(resonator6)\n",
    "eqd.sample.generate_bridge_over_cpw(name='resonator6_airbridges', o=resonator6, geometry=airbridge,\n",
    "                                 min_spacing=resonator_min_bridge_spacing, bridge_part_decimation=2)\n",
    "\n",
    "connection = eqd.sample.connect_cpw(resonator6,\n",
    "                           pur_res_coupler6_fanout,\n",
    "                           'port1',\n",
    "                           'down',\n",
    "                           'TL', [],\n",
    "                           airbridge=airbridge,\n",
    "                           min_spacing=coupler_bridge_spacing,\n",
    "                           r=100)\n",
    "print(connection[0].length)"
   ]
  },
  {
   "cell_type": "code",
   "execution_count": 104,
   "id": "8066e2d3",
   "metadata": {
    "ExecuteTime": {
     "end_time": "2022-01-05T00:06:13.305667Z",
     "start_time": "2022-01-05T00:06:13.218131Z"
    }
   },
   "outputs": [
    {
     "name": "stdout",
     "output_type": "stream",
     "text": [
      "122.14889754564834\n"
     ]
    }
   ],
   "source": [
    "connection = eqd.sample.connect_cpw(resonator6,\n",
    "                           eqd.coaxmon6,\n",
    "                           'port2',\n",
    "                           'coupler1',\n",
    "                           'TL', [],\n",
    "                           airbridge=airbridge,\n",
    "                           min_spacing=coupler_bridge_spacing,\n",
    "                           r=100)\n",
    "print(connection[0].length)"
   ]
  },
  {
   "cell_type": "code",
   "execution_count": 105,
   "id": "27222eef",
   "metadata": {
    "ExecuteTime": {
     "end_time": "2022-01-05T00:06:13.415282Z",
     "start_time": "2022-01-05T00:06:13.307051Z"
    }
   },
   "outputs": [
    {
     "name": "stdout",
     "output_type": "stream",
     "text": [
      "179.60931522485987\n"
     ]
    }
   ],
   "source": [
    "connection = eqd.sample.connect_cpw(TL_purcell_couplers[1][1],\n",
    "                           purcell_closed_end6,\n",
    "                           'up',\n",
    "                           'port2',\n",
    "                           'TL', [],\n",
    "                           airbridge=airbridge,\n",
    "                           min_spacing=coupler_bridge_spacing,\n",
    "                           r=90)\n",
    "print(connection[0].length)"
   ]
  },
  {
   "cell_type": "code",
   "execution_count": 106,
   "id": "b84165de",
   "metadata": {
    "ExecuteTime": {
     "end_time": "2022-01-05T00:06:21.042130Z",
     "start_time": "2022-01-05T00:06:13.416936Z"
    }
   },
   "outputs": [],
   "source": [
    "eqd.sample.draw_design()\n",
    "# eqd.sample.watch()"
   ]
  },
  {
   "cell_type": "code",
   "execution_count": 107,
   "id": "7ab777e5",
   "metadata": {
    "ExecuteTime": {
     "end_time": "2022-01-05T00:06:21.045488Z",
     "start_time": "2022-01-05T00:06:21.043299Z"
    }
   },
   "outputs": [],
   "source": [
    "# eqd.sample.watch()"
   ]
  },
  {
   "cell_type": "markdown",
   "id": "2ef246c4",
   "metadata": {},
   "source": [
    "### Purcell and resonator for qubit 2"
   ]
  },
  {
   "cell_type": "code",
   "execution_count": 144,
   "id": "dd4f97c3",
   "metadata": {
    "ExecuteTime": {
     "end_time": "2022-01-07T20:35:59.785338Z",
     "start_time": "2022-01-07T20:35:59.778382Z"
    }
   },
   "outputs": [
    {
     "data": {
      "text/plain": [
       "OpenEnd purcell2-open-end"
      ]
     },
     "execution_count": 144,
     "metadata": {},
     "output_type": "execute_result"
    }
   ],
   "source": [
    "# Add purcell open end\n",
    "eqd.sample.open_end(TL_purcell_couplers[6][0], 'up', 'purcell2-open-end')"
   ]
  },
  {
   "cell_type": "code",
   "execution_count": 145,
   "id": "5c414402",
   "metadata": {
    "ExecuteTime": {
     "end_time": "2022-01-07T20:36:00.295941Z",
     "start_time": "2022-01-07T20:36:00.289110Z"
    }
   },
   "outputs": [],
   "source": [
    "# Add coupler purcell + resonator with fanout and grounding\n",
    "pur_res_coupler2_position = [(eqd.coaxmon5.center[0]-220 - purcell_resonator_coupler_length,\n",
    "                              eqd.coaxmon5.center[1]+440),\n",
    "                             (eqd.coaxmon5.center[0]-220,\n",
    "                              eqd.coaxmon5.center[1]+440)]\n",
    "pur_res_coupler2 = elements.CPWCoupler('purcell_resonator_coupler2',\n",
    "                                         pur_res_coupler2_position,\n",
    "                                         pur_res_coupler_w,\n",
    "                                         pur_res_coupler_s,\n",
    "                                         eqd.resonator_ground,\n",
    "                                         eqd.sample.layer_configuration,\n",
    "                                         r=0)\n",
    "eqd.sample.add(pur_res_coupler2)\n",
    "\n",
    "pur_res_coupler2_fanout = eqd.sample.fanout(o=pur_res_coupler2,\n",
    "                                            port='port1',\n",
    "                                            name='res-purcell-coupler-fanout',\n",
    "                                            grouping=[1, 3])\n",
    "pur_res_coupler2_ground = eqd.sample.ground(\n",
    "    o=pur_res_coupler2,\n",
    "    port='port2',\n",
    "    name='res-purcell-coupler-grounding',\n",
    "    grounding_width=res_pur_coupler_grounding,\n",
    "    grounding_between=[(0, 4)])\n",
    "\n",
    "pur_res_coupler2_fanout_ground = eqd.sample.ground(\n",
    "    o=pur_res_coupler2_fanout,\n",
    "    port='center',\n",
    "    name='res-purcell-coupler-fanout-grounding',\n",
    "    grounding_width=res_pur_coupler_grounding,\n",
    "    grounding_between=[(2, 3)])"
   ]
  },
  {
   "cell_type": "code",
   "execution_count": 146,
   "id": "3da0b0dd",
   "metadata": {
    "ExecuteTime": {
     "end_time": "2022-01-07T20:36:22.687798Z",
     "start_time": "2022-01-07T20:36:22.663701Z"
    }
   },
   "outputs": [
    {
     "name": "stdout",
     "output_type": "stream",
     "text": [
      "A_max, B_max 245.42282572551977 73.23221769825098\n",
      "417.02498313800635\n",
      "A, K, B =  245.42282572551974 259.21559116527516 73.23221769825096\n",
      "A_max, B_max 263.81711929413984 91.62651126687103\n",
      "352.2210853466876\n",
      "A, K, B =  262.1756917389896 194.41169337395638 90.04539360769796\n",
      "points [(5069.0, 1843.0), (5069.0, 1525.6414275551501), (4958.63423858828, 1525.6414275551501), (4958.63423858828, 1830.4188823408267), (4848.26847717656, 1830.4188823408267), (4848.26847717656, 1525.6414275551501), (4737.902715764839, 1525.6414275551501), (4737.902715764839, 1830.4188823408267), (4627.536954353119, 1830.4188823408267), (4627.536954353119, 1525.6414275551501), (4517.171192941399, 1525.6414275551501), (4517.171192941399, 1830.4188823408267), (4406.805431529678, 1830.4188823408267), (4406.805431529678, 1525.6414275551501), (4296.439670117958, 1525.6414275551501), (4296.439670117958, 1830.4188823408267), (4186.0739087062375, 1830.4188823408267), (4186.0739087062375, 1685.1906080272688)] real points [(5069.0, 1843.0), (5069.0, 1580.8243082610104), (4958.63423858828, 1580.8243082610104), (4958.63423858828, 1775.2360016349667), (4848.26847717656, 1775.2360016349667), (4848.26847717656, 1580.8243082610104), (4737.902715764839, 1580.8243082610104), (4737.902715764839, 1775.2360016349667), (4627.536954353119, 1775.2360016349667), (4627.536954353119, 1580.8243082610104), (4517.171192941399, 1580.8243082610104), (4517.171192941399, 1775.2360016349667), (4406.805431529678, 1775.2360016349667), (4406.805431529678, 1580.8243082610104), (4296.439670117958, 1580.8243082610104), (4296.439670117958, 1775.2360016349667), (4186.0739087062375, 1775.2360016349667), (4186.0739087062375, 1685.1906080272688)] -1.5707963267948966 1.5707963267948966\n",
      "5.0\n"
     ]
    }
   ],
   "source": [
    "# Add resonator for qubit 2\n",
    "name = 'resonator2'\n",
    "begin_point = (pur_res_coupler2_fanout.terminals['up'].position[0],\n",
    "               pur_res_coupler2_fanout.terminals['up'].position[1]-5)\n",
    "begin_orientation = - np.pi / 2\n",
    "\n",
    "end_point = (eqd.coaxmon2.terminals['coupler1'].position[0]+100,\n",
    "             eqd.coaxmon2.terminals['coupler1'].position[1]+100)\n",
    "end_orientation =   np.pi / 2\n",
    "meander_length = 3100\n",
    "left_limit = 330\n",
    "right_limit = 0\n",
    "radius_limit = (45,80)\n",
    "w = eqd.resonator_core\n",
    "s = eqd.resonator_gap\n",
    "g = eqd.resonator_ground\n",
    "result1, points1, real_points1, resonator2 = meander.meander_creation2(name, begin_point, begin_orientation,\n",
    "                                    end_point, end_orientation, meander_length,\n",
    "                                    left_limit, right_limit, radius_limit, w,\n",
    "                                    s, g, eqd.sample.layer_configuration)\n",
    "\n",
    "eqd.sample.add(resonator2)\n",
    "eqd.sample.generate_bridge_over_cpw(name='resonator2_airbridges', o=resonator2, geometry=airbridge,\n",
    "                                 min_spacing=resonator_min_bridge_spacing, bridge_part_decimation=2)\n",
    "\n",
    "connection = eqd.sample.connect_cpw(resonator2,\n",
    "                           pur_res_coupler2_fanout,\n",
    "                           'port1',\n",
    "                           'up',\n",
    "                           'TL', [],\n",
    "                           airbridge=airbridge,\n",
    "                           min_spacing=coupler_bridge_spacing,\n",
    "                           r=80)\n",
    "print(connection[0].length)"
   ]
  },
  {
   "cell_type": "code",
   "execution_count": 147,
   "id": "bd2d3528",
   "metadata": {
    "ExecuteTime": {
     "end_time": "2022-01-07T20:36:37.432325Z",
     "start_time": "2022-01-07T20:36:37.407439Z"
    }
   },
   "outputs": [
    {
     "name": "stdout",
     "output_type": "stream",
     "text": [
      "A_max, B_max 186.75 211.75\n",
      "589.4801144383925\n",
      "A, K, B =  186.74999999999997 279.4801144383926 211.74999999999997\n",
      "A_max, B_max 219.16666666666669 244.16666666666669\n",
      "496.3200762922618\n",
      "A, K, B =  219.16666666666592 186.32007629226177 244.16666666666603\n",
      "A_max, B_max 235.375 260.375\n",
      "449.7400572191963\n",
      "A, K, B =  224.87002860959814 139.7400572191963 224.87002860959814\n",
      "points [(4013.0, 1961.0), (4013.0, 2234.495028609598), (4110.25, 2234.495028609598), (4110.25, 1997.5049713904018), (4207.5, 1997.5049713904018), (4207.5, 2234.495028609598), (4304.75, 2234.495028609598), (4304.75, 1997.5049713904018), (4402.0, 1997.5049713904018), (4402.0, 2234.495028609598), (4499.25, 2234.495028609598), (4499.25, 1997.5049713904018), (4596.5, 1997.5049713904018), (4596.5, 2234.495028609598), (4693.75, 2234.495028609598), (4693.75, 1997.5049713904018), (4791.0, 1997.5049713904018), (4791.0, 2271.0)] real points [(4013.0, 1961.0), (4013.0, 2185.870028609598), (4110.25, 2185.870028609598), (4110.25, 2046.1299713904018), (4207.5, 2046.1299713904018), (4207.5, 2185.870028609598), (4304.75, 2185.870028609598), (4304.75, 2046.1299713904018), (4402.0, 2046.1299713904018), (4402.0, 2185.870028609598), (4499.25, 2185.870028609598), (4499.25, 2046.1299713904018), (4596.5, 2046.1299713904018), (4596.5, 2185.870028609598), (4693.75, 2185.870028609598), (4693.75, 2046.1299713904018), (4791.0, 2046.1299713904018), (4791.0, 2271.0)] 1.5707963267948966 -1.5707963267948966\n",
      "10.0\n"
     ]
    }
   ],
   "source": [
    "# Add purcell closed end\n",
    "name = 'purcell_closed_end2'\n",
    "begin_point = (pur_res_coupler2_fanout_ground.terminals['narrow'].position[0]-1035,\n",
    "               pur_res_coupler2_fanout_ground.terminals['narrow'].position[1]+ 50)\n",
    "end_point = (TL_purcell_couplers[6][1].terminals['down'].position[0],\n",
    "             TL_purcell_couplers[6][1].terminals['down'].position[1]-10)\n",
    "begin_orientation = np.pi / 2\n",
    "end_orientation = - np.pi / 2\n",
    "meander_length = 2650\n",
    "left_limit = 10\n",
    "right_limit = 295\n",
    "radius_limit = (40, 90)\n",
    "w = eqd.resonator_core\n",
    "s = eqd.resonator_gap\n",
    "g = eqd.resonator_ground\n",
    "\n",
    "result1, points1, real_points1, purcell_closed_end_2 = meander.meander_creation2(\n",
    "    name, begin_point, begin_orientation, end_point, end_orientation,\n",
    "    meander_length, left_limit, right_limit, radius_limit, w, s, g,\n",
    "    eqd.sample.layer_configuration)\n",
    "eqd.sample.add(purcell_closed_end_2)\n",
    "eqd.sample.generate_bridge_over_cpw(name='purcell_closed_end_2_airbridges', o=purcell_closed_end_2, geometry=airbridge,\n",
    "                                 min_spacing=resonator_min_bridge_spacing, bridge_part_decimation=2)\n",
    "\n",
    "\n",
    "connection = eqd.sample.connect_cpw(purcell_closed_end_2,\n",
    "                           TL_purcell_couplers[6][1],\n",
    "                           'port2',\n",
    "                           'down',\n",
    "                           'TL', [],\n",
    "                           airbridge=airbridge,\n",
    "                           min_spacing=coupler_bridge_spacing,\n",
    "                           r=50)\n",
    "print(connection[0].length)"
   ]
  },
  {
   "cell_type": "code",
   "execution_count": 148,
   "id": "82eac6e1",
   "metadata": {
    "ExecuteTime": {
     "end_time": "2022-01-07T20:37:59.102257Z",
     "start_time": "2022-01-07T20:37:59.090395Z"
    }
   },
   "outputs": [
    {
     "data": {
      "text/plain": [
       "955.0"
      ]
     },
     "execution_count": 148,
     "metadata": {},
     "output_type": "execute_result"
    }
   ],
   "source": [
    "purcell_closed_end_2_line = elements.CPW('purcell_closed_end_2_line',\n",
    "                                        [(pur_res_coupler2_fanout_ground.terminals['narrow'].position[0],\n",
    "                                          pur_res_coupler2_fanout_ground.terminals['narrow'].position[1]),\n",
    "                                         (pur_res_coupler2_fanout_ground.terminals['narrow'].position[0]-955,\n",
    "                                          pur_res_coupler2_fanout_ground.terminals['narrow'].position[1])],\n",
    "                                         eqd.resonator_core,\n",
    "                                         eqd.resonator_gap,\n",
    "                                         eqd.resonator_ground,\n",
    "                                         eqd.sample.layer_configuration,\n",
    "                                         r=0)\n",
    "\n",
    "eqd.sample.add(purcell_closed_end_2_line)\n",
    "eqd.sample.generate_bridge_over_cpw(name='purcell_closed_end_2_line_airbridges', o=purcell_closed_end_2_line, geometry=airbridge,\n",
    "                                 min_spacing=resonator_min_bridge_spacing, bridge_part_decimation=2)\n",
    "\n",
    "eqd.sample.connect(purcell_closed_end_2_line, 'port1', pur_res_coupler2_fanout_ground, 'narrow')\n",
    "purcell_closed_end_2_line.length"
   ]
  },
  {
   "cell_type": "code",
   "execution_count": 113,
   "id": "88ec25e6",
   "metadata": {
    "ExecuteTime": {
     "end_time": "2022-01-05T00:06:21.905530Z",
     "start_time": "2022-01-05T00:06:21.768994Z"
    }
   },
   "outputs": [
    {
     "name": "stdout",
     "output_type": "stream",
     "text": [
      "108.59679776502796\n",
      "150.8106560562621\n"
     ]
    }
   ],
   "source": [
    "connection = eqd.sample.connect_cpw(purcell_closed_end_2,\n",
    "                           purcell_closed_end_2_line,\n",
    "                           'port1',\n",
    "                           'port2',\n",
    "                           'TL', [],\n",
    "                           airbridge=airbridge,\n",
    "                           min_spacing=coupler_bridge_spacing,\n",
    "                           r=50)\n",
    "print(connection[0].length)\n",
    "\n",
    "connection = eqd.sample.connect_cpw(eqd.coaxmon2,\n",
    "                           resonator2,\n",
    "                           'coupler1',\n",
    "                           'port2',\n",
    "                           'TL', [],\n",
    "                           airbridge=airbridge,\n",
    "                           min_spacing=coupler_bridge_spacing,\n",
    "                           r=50)\n",
    "print(connection[0].length)"
   ]
  },
  {
   "cell_type": "code",
   "execution_count": 114,
   "id": "bfc237b9",
   "metadata": {
    "ExecuteTime": {
     "end_time": "2022-01-05T00:06:31.180980Z",
     "start_time": "2022-01-05T00:06:21.907826Z"
    }
   },
   "outputs": [],
   "source": [
    "eqd.sample.draw_design()\n",
    "# eqd.sample.watch()"
   ]
  },
  {
   "cell_type": "code",
   "execution_count": 115,
   "id": "0805c9f9",
   "metadata": {
    "ExecuteTime": {
     "end_time": "2022-01-05T00:06:31.184722Z",
     "start_time": "2022-01-05T00:06:31.182340Z"
    }
   },
   "outputs": [],
   "source": [
    "# eqd.sample.write_to_gds()"
   ]
  },
  {
   "cell_type": "markdown",
   "id": "fd134f3c",
   "metadata": {},
   "source": [
    "### Purcell and resonator for qubit 8"
   ]
  },
  {
   "cell_type": "code",
   "execution_count": 116,
   "id": "aab278a8",
   "metadata": {
    "ExecuteTime": {
     "end_time": "2022-01-05T00:06:31.411180Z",
     "start_time": "2022-01-05T00:06:31.186012Z"
    }
   },
   "outputs": [],
   "source": [
    "# Add purcell open end\n",
    "eqd.sample.open_end(TL_purcell_couplers[7][0], 'up', 'purcell2-open-end')\n",
    "\n",
    "# Add coupler purcell + resonator with fanout and grounding\n",
    "pur_res_coupler8_position = [(eqd.coaxmon3.center[0]+220 + purcell_resonator_coupler_length,\n",
    "                              eqd.coaxmon3.center[1]-440),\n",
    "                             (eqd.coaxmon3.center[0]+220,\n",
    "                              eqd.coaxmon3.center[1]-440)]\n",
    "pur_res_coupler8 = elements.CPWCoupler('purcell_resonator_coupler8',\n",
    "                                         pur_res_coupler8_position,\n",
    "                                         pur_res_coupler_w,\n",
    "                                         pur_res_coupler_s,\n",
    "                                         eqd.resonator_ground,\n",
    "                                         eqd.sample.layer_configuration,\n",
    "                                         r=0)\n",
    "eqd.sample.add(pur_res_coupler8)\n",
    "\n",
    "pur_res_coupler8_fanout = eqd.sample.fanout(o=pur_res_coupler8,\n",
    "                                            port='port1',\n",
    "                                            name='res-purcell-coupler-fanout',\n",
    "                                            grouping=[1, 3])\n",
    "pur_res_coupler8_ground = eqd.sample.ground(\n",
    "    o=pur_res_coupler8,\n",
    "    port='port2',\n",
    "    name='res-purcell-coupler-grounding',\n",
    "    grounding_width=res_pur_coupler_grounding,\n",
    "    grounding_between=[(0, 4)])\n",
    "\n",
    "pur_res_coupler8_fanout_ground = eqd.sample.ground(\n",
    "    o=pur_res_coupler8_fanout,\n",
    "    port='center',\n",
    "    name='res-purcell-coupler-fanout-grounding',\n",
    "    grounding_width=res_pur_coupler_grounding,\n",
    "    grounding_between=[(2, 3)])"
   ]
  },
  {
   "cell_type": "code",
   "execution_count": 117,
   "id": "d4a1ac79",
   "metadata": {
    "ExecuteTime": {
     "end_time": "2022-01-05T00:06:31.635324Z",
     "start_time": "2022-01-05T00:06:31.415289Z"
    }
   },
   "outputs": [
    {
     "name": "stdout",
     "output_type": "stream",
     "text": [
      "A_max, B_max 245.42282572551977 73.23221769825098\n",
      "421.19164980467303\n",
      "A, K, B =  245.42282572551974 263.38225783194184 73.23221769825096\n",
      "A_max, B_max 263.81711929413984 91.62651126687103\n",
      "355.3460853466876\n",
      "A, K, B =  263.76831905709184 197.53669337395638 91.57776628875402\n",
      "points [(4331.0, 2857.0), (4331.0, 3175.951199762952), (4441.36576141172, 3175.951199762952), (4441.36576141172, 2868.0487449772754), (4551.73152282344, 2868.0487449772754), (4551.73152282344, 3175.951199762952), (4662.097284235161, 3175.951199762952), (4662.097284235161, 2868.0487449772754), (4772.463045646881, 2868.0487449772754), (4772.463045646881, 3175.951199762952), (4882.828807058601, 3175.951199762952), (4882.828807058601, 2868.0487449772754), (4993.194568470322, 2868.0487449772754), (4993.194568470322, 3175.951199762952), (5103.560329882042, 3175.951199762952), (5103.560329882042, 2868.0487449772754), (5213.9260912937625, 2868.0487449772754), (5213.9260912937625, 3014.809391972731)] real points [(4331.0, 2857.0), (4331.0, 3120.768319057092), (4441.36576141172, 3120.768319057092), (4441.36576141172, 2923.2316256831355), (4551.73152282344, 2923.2316256831355), (4551.73152282344, 3120.768319057092), (4662.097284235161, 3120.768319057092), (4662.097284235161, 2923.2316256831355), (4772.463045646881, 2923.2316256831355), (4772.463045646881, 3120.768319057092), (4882.828807058601, 3120.768319057092), (4882.828807058601, 2923.2316256831355), (4993.194568470322, 2923.2316256831355), (4993.194568470322, 3120.768319057092), (5103.560329882042, 3120.768319057092), (5103.560329882042, 2923.2316256831355), (5213.9260912937625, 2923.231625683977), (5213.9260912937625, 3014.809391972731)] 1.5707963267948966 -1.5707963267948966\n",
      "5.0\n"
     ]
    }
   ],
   "source": [
    "# Add resonator for qubit 8\n",
    "name = 'resonator8'\n",
    "begin_point = (pur_res_coupler8_fanout.terminals['up'].position[0],\n",
    "               pur_res_coupler8_fanout.terminals['up'].position[1]+5)\n",
    "begin_orientation = np.pi / 2\n",
    "\n",
    "end_point = (eqd.coaxmon8.terminals['coupler1'].position[0]-100,\n",
    "             eqd.coaxmon8.terminals['coupler1'].position[1]-100)\n",
    "end_orientation =   - np.pi / 2\n",
    "meander_length = 3125\n",
    "left_limit = 0\n",
    "right_limit = 330\n",
    "radius_limit = (45,80)\n",
    "w = eqd.resonator_core\n",
    "s = eqd.resonator_gap\n",
    "g = eqd.resonator_ground\n",
    "result1, points1, real_points1, resonator8 = meander.meander_creation2(name, begin_point, begin_orientation,\n",
    "                                    end_point, end_orientation, meander_length,\n",
    "                                    left_limit, right_limit, radius_limit, w,\n",
    "                                    s, g, eqd.sample.layer_configuration)\n",
    "\n",
    "eqd.sample.add(resonator8)\n",
    "eqd.sample.generate_bridge_over_cpw(name='resonator8_airbridges', o=resonator8, geometry=airbridge,\n",
    "                                 min_spacing=resonator_min_bridge_spacing, bridge_part_decimation=2)\n",
    "\n",
    "connection = eqd.sample.connect_cpw(resonator8,\n",
    "                           pur_res_coupler8_fanout,\n",
    "                           'port1',\n",
    "                           'up',\n",
    "                           'TL', [],\n",
    "                           airbridge=airbridge,\n",
    "                           min_spacing=coupler_bridge_spacing,\n",
    "                           r=80)\n",
    "print(connection[0].length)"
   ]
  },
  {
   "cell_type": "code",
   "execution_count": 118,
   "id": "fc27aa7a",
   "metadata": {
    "ExecuteTime": {
     "end_time": "2022-01-05T00:06:31.783562Z",
     "start_time": "2022-01-05T00:06:31.637173Z"
    }
   },
   "outputs": [
    {
     "name": "stdout",
     "output_type": "stream",
     "text": [
      "A_max, B_max 191.75 196.75\n",
      "648.2301144383925\n",
      "A, K, B =  191.74999999999997 343.2301144383926 196.74999999999997\n",
      "A_max, B_max 224.16666666666669 229.16666666666669\n",
      "533.8200762922618\n",
      "A, K, B =  224.16666666666666 228.82007629226177 229.16666666666666\n",
      "A_max, B_max 240.375 245.375\n",
      "476.6150572191963\n",
      "A, K, B =  238.30752860959814 171.6150572191963 238.30752860959814\n",
      "points [(5387.0, 2734.0), (5387.0, 2447.067471390402), (5289.75, 2447.067471390402), (5289.75, 2715.932528609598), (5192.5, 2715.932528609598), (5192.5, 2447.067471390402), (5095.25, 2447.067471390402), (5095.25, 2715.932528609598), (4998.0, 2715.932528609598), (4998.0, 2447.067471390402), (4900.75, 2447.067471390402), (4900.75, 2715.932528609598), (4803.5, 2715.932528609598), (4803.5, 2447.067471390402), (4706.25, 2447.067471390402), (4706.25, 2715.932528609598), (4609.0, 2715.932528609598), (4609.0, 2429.0)] real points [(5387.0, 2734.0), (5387.0, 2495.692471390402), (5289.75, 2495.692471390402), (5289.75, 2667.307528609598), (5192.5, 2667.307528609598), (5192.5, 2495.692471390402), (5095.25, 2495.692471390402), (5095.25, 2667.307528609598), (4998.0, 2667.307528609598), (4998.0, 2495.692471390402), (4900.75, 2495.692471390402), (4900.75, 2667.307528609598), (4803.5, 2667.307528609598), (4803.5, 2495.692471390402), (4706.25, 2495.692471390402), (4706.25, 2667.307528609598), (4609.0, 2667.307528609598), (4609.0, 2429.0)] -1.5707963267948966 1.5707963267948966\n",
      "10.0\n"
     ]
    }
   ],
   "source": [
    "# Add purcell closed end\n",
    "name = 'purcell_closed_end8'\n",
    "begin_point = (pur_res_coupler8_fanout_ground.terminals['narrow'].position[0]+1035,\n",
    "               pur_res_coupler8_fanout_ground.terminals['narrow'].position[1]- 55)\n",
    "end_point = (TL_purcell_couplers[7][1].terminals['down'].position[0],\n",
    "             TL_purcell_couplers[7][1].terminals['down'].position[1]+10)\n",
    "begin_orientation = - np.pi / 2\n",
    "end_orientation =  np.pi / 2\n",
    "meander_length = 2900\n",
    "left_limit = 300\n",
    "right_limit = 0\n",
    "radius_limit = (40, 90)\n",
    "w = eqd.resonator_core\n",
    "s = eqd.resonator_gap\n",
    "g = eqd.resonator_ground\n",
    "\n",
    "result1, points1, real_points1, purcell_closed_end_8 = meander.meander_creation2(\n",
    "    name, begin_point, begin_orientation, end_point, end_orientation,\n",
    "    meander_length, left_limit, right_limit, radius_limit, w, s, g,\n",
    "    eqd.sample.layer_configuration)\n",
    "eqd.sample.add(purcell_closed_end_8)\n",
    "eqd.sample.generate_bridge_over_cpw(name='purcell_closed_end_8_airbridges', o=purcell_closed_end_8, geometry=airbridge,\n",
    "                                 min_spacing=resonator_min_bridge_spacing, bridge_part_decimation=2)\n",
    "\n",
    "\n",
    "connection = eqd.sample.connect_cpw(purcell_closed_end_8,\n",
    "                           TL_purcell_couplers[7][1],\n",
    "                           'port2',\n",
    "                           'down',\n",
    "                           'TL', [],\n",
    "                           airbridge=airbridge,\n",
    "                           min_spacing=coupler_bridge_spacing,\n",
    "                           r=50)\n",
    "print(connection[0].length)"
   ]
  },
  {
   "cell_type": "code",
   "execution_count": 119,
   "id": "0171a97f",
   "metadata": {
    "ExecuteTime": {
     "end_time": "2022-01-05T00:06:31.938459Z",
     "start_time": "2022-01-05T00:06:31.785060Z"
    }
   },
   "outputs": [],
   "source": [
    "purcell_closed_end_8_line = elements.CPW('purcell_closed_end_8_line',\n",
    "                                        [(pur_res_coupler8_fanout_ground.terminals['narrow'].position[0],\n",
    "                                          pur_res_coupler8_fanout_ground.terminals['narrow'].position[1]),\n",
    "                                         (pur_res_coupler8_fanout_ground.terminals['narrow'].position[0]+955,\n",
    "                                          pur_res_coupler8_fanout_ground.terminals['narrow'].position[1])],\n",
    "                                         eqd.resonator_core,\n",
    "                                         eqd.resonator_gap,\n",
    "                                         eqd.resonator_ground,\n",
    "                                         eqd.sample.layer_configuration,\n",
    "                                         r=0)\n",
    "\n",
    "eqd.sample.add(purcell_closed_end_8_line)\n",
    "eqd.sample.generate_bridge_over_cpw(name='purcell_closed_end_8_line_airbridges', o=purcell_closed_end_8_line, geometry=airbridge,\n",
    "                                 min_spacing=resonator_min_bridge_spacing, bridge_part_decimation=2)\n",
    "\n",
    "eqd.sample.connect(purcell_closed_end_8_line, 'port1', pur_res_coupler8_fanout_ground, 'narrow')"
   ]
  },
  {
   "cell_type": "code",
   "execution_count": 120,
   "id": "af5130b4",
   "metadata": {
    "ExecuteTime": {
     "end_time": "2022-01-05T00:06:32.152438Z",
     "start_time": "2022-01-05T00:06:31.943179Z"
    }
   },
   "outputs": [
    {
     "name": "stdout",
     "output_type": "stream",
     "text": [
      "112.994316255421\n",
      "150.8106560562647\n"
     ]
    }
   ],
   "source": [
    "connection = eqd.sample.connect_cpw(purcell_closed_end_8,\n",
    "                           purcell_closed_end_8_line,\n",
    "                           'port1',\n",
    "                           'port2',\n",
    "                           'TL', [],\n",
    "                           airbridge=airbridge,\n",
    "                           min_spacing=coupler_bridge_spacing,\n",
    "                           r=50)\n",
    "print(connection[0].length)\n",
    "\n",
    "connection = eqd.sample.connect_cpw(eqd.coaxmon8,\n",
    "                           resonator8,\n",
    "                           'coupler1',\n",
    "                           'port2',\n",
    "                           'TL', [],\n",
    "                           airbridge=airbridge,\n",
    "                           min_spacing=coupler_bridge_spacing,\n",
    "                           r=50)\n",
    "print(connection[0].length)"
   ]
  },
  {
   "cell_type": "code",
   "execution_count": 121,
   "id": "0c582ea7",
   "metadata": {
    "ExecuteTime": {
     "end_time": "2022-01-05T00:06:55.358307Z",
     "start_time": "2022-01-05T00:06:32.153972Z"
    }
   },
   "outputs": [],
   "source": [
    "eqd.sample.draw_design()\n",
    "# eqd.sample.watch()"
   ]
  },
  {
   "cell_type": "code",
   "execution_count": 122,
   "id": "70031096",
   "metadata": {
    "ExecuteTime": {
     "end_time": "2022-01-05T00:06:59.529136Z",
     "start_time": "2022-01-05T00:06:55.361207Z"
    }
   },
   "outputs": [],
   "source": [
    "eqd.sample.watch()"
   ]
  },
  {
   "cell_type": "markdown",
   "id": "23c8086d",
   "metadata": {},
   "source": [
    "# Add grid (vortex trap)"
   ]
  },
  {
   "cell_type": "code",
   "execution_count": 114,
   "id": "156880c3",
   "metadata": {
    "ExecuteTime": {
     "end_time": "2022-01-03T23:37:19.263519Z",
     "start_time": "2022-01-03T23:37:19.257780Z"
    }
   },
   "outputs": [],
   "source": [
    "grid_ground = elements.GridGround(eqd.sample.chip_geometry,\n",
    "                                  eqd.sample.layer_configuration,\n",
    "                                  eqd.sample.objects,\n",
    "                                  width=5,\n",
    "                                  period=25)\n",
    "eqd.sample.add(grid_ground)"
   ]
  },
  {
   "cell_type": "code",
   "execution_count": null,
   "id": "ca22e1f0",
   "metadata": {
    "ExecuteTime": {
     "start_time": "2022-01-03T23:37:29.392Z"
    }
   },
   "outputs": [],
   "source": [
    "eqd.sample.draw_design()\n",
    "eqd.sample.watch()"
   ]
  },
  {
   "cell_type": "code",
   "execution_count": 120,
   "id": "edc2737d",
   "metadata": {
    "ExecuteTime": {
     "end_time": "2022-01-04T22:23:39.316996Z",
     "start_time": "2022-01-04T22:23:39.084485Z"
    }
   },
   "outputs": [
    {
     "name": "stdout",
     "output_type": "stream",
     "text": [
      "Gds file has been writen here:  /home/alena/QCreator/designs/8qubit_desigh/SQC8-script.gds\n"
     ]
    }
   ],
   "source": [
    "eqd.sample.write_to_gds()"
   ]
  },
  {
   "cell_type": "markdown",
   "id": "76263eab",
   "metadata": {},
   "source": [
    "# tlsim simulations"
   ]
  },
  {
   "cell_type": "markdown",
   "id": "d4c24151",
   "metadata": {},
   "source": [
    "## Calculate qubits capacitances  using fastcap"
   ]
  },
  {
   "cell_type": "code",
   "execution_count": 78,
   "id": "9de3298e",
   "metadata": {
    "ExecuteTime": {
     "end_time": "2022-01-07T20:41:25.083853Z",
     "start_time": "2022-01-07T20:41:25.078099Z"
    }
   },
   "outputs": [
    {
     "data": {
      "text/plain": [
       "[<QCreator.elements.coaxmon.Coaxmon at 0x7fd45b7c5820>,\n",
       " <QCreator.elements.coaxmon.Coaxmon at 0x7fd45b7c5880>,\n",
       " <QCreator.elements.coaxmon.Coaxmon at 0x7fd454c32d00>,\n",
       " <QCreator.elements.coaxmon.Coaxmon at 0x7fd454c32880>,\n",
       " <QCreator.elements.coaxmon.Coaxmon at 0x7fd454c329d0>,\n",
       " <QCreator.elements.coaxmon.Coaxmon at 0x7fd454c32820>,\n",
       " <QCreator.elements.coaxmon.Coaxmon at 0x7fd454c32610>,\n",
       " <QCreator.elements.coaxmon.Coaxmon at 0x7fd454c32490>]"
      ]
     },
     "execution_count": 78,
     "metadata": {},
     "output_type": "execute_result"
    }
   ],
   "source": [
    "eqd.sample.qubits"
   ]
  },
  {
   "cell_type": "code",
   "execution_count": 79,
   "id": "ca091406",
   "metadata": {
    "ExecuteTime": {
     "end_time": "2022-01-07T20:41:59.959952Z",
     "start_time": "2022-01-07T20:41:26.927264Z"
    }
   },
   "outputs": [
    {
     "name": "stdout",
     "output_type": "stream",
     "text": [
      "Gds file has been writen here:  /home/alena/QCreator/designs/8qubit_desigh/SQC8-script.gds\n",
      "For 0 conductor total length is:  10314\n",
      "For 1 conductor total length is:  4892\n",
      "For 2 conductor total length is:  1605\n",
      "For 3 conductor total length is:  943\n",
      "For 4 conductor total length is:  931\n",
      "Sum : 18685\n",
      "Data has been written into the file: /home/alena/QCreator/designs/8qubit_desigh/mesh_4k_data\n",
      "Time for fastcap job is:  2.4662957191467285\n",
      "Capacitance results have been writen here:  /home/alena/QCreator/designs/8qubit_desigh/mesh_4k_results\n",
      "Capacitance value in:  femtofarads\n",
      "[<map object at 0x7fd450331d60>, <map object at 0x7fd450331f10>, <map object at 0x7fd450333730>, <map object at 0x7fd450333e20>, <map object at 0x7fd450333310>]\n",
      "       0     1     2     3     4\n",
      "0  151.8 -33.5 -16.1 -11.8 -12.5\n",
      "1  -33.5  66.3  -7.8  -5.2  -5.3\n",
      "2  -16.1  -7.8  40.8  -5.1  -4.0\n",
      "3  -11.8  -5.2  -5.1  27.8  -0.3\n",
      "4  -12.5  -5.3  -4.0  -0.3  27.7\n",
      "Gds file has been writen here:  /home/alena/QCreator/designs/8qubit_desigh/SQC8-script.gds\n",
      "For 0 conductor total length is:  9860\n",
      "For 1 conductor total length is:  4892\n",
      "For 2 conductor total length is:  1597\n",
      "For 3 conductor total length is:  943\n",
      "For 4 conductor total length is:  920\n",
      "For 5 conductor total length is:  780\n",
      "Sum : 18992\n",
      "Data has been written into the file: /home/alena/QCreator/designs/8qubit_desigh/mesh_4k_data\n",
      "Time for fastcap job is:  2.8703806400299072\n",
      "Capacitance results have been writen here:  /home/alena/QCreator/designs/8qubit_desigh/mesh_4k_results\n",
      "Capacitance value in:  femtofarads\n",
      "[<map object at 0x7fd454902610>, <map object at 0x7fd454902a30>, <map object at 0x7fd450333a30>, <map object at 0x7fd450333fd0>, <map object at 0x7fd4503334f0>, <map object at 0x7fd450333ee0>]\n",
      "       0     1     2     3     4     5\n",
      "0  156.7 -29.1 -15.7 -10.6 -15.0 -13.0\n",
      "1  -29.1  66.1  -7.6  -5.5  -5.6  -3.7\n",
      "2  -15.7  -7.6  42.0  -5.0  -0.3  -5.7\n",
      "3  -10.6  -5.5  -5.0  27.7  -0.8  -0.2\n",
      "4  -15.0  -5.6  -0.3  -0.8  27.5  -0.1\n",
      "5  -13.0  -3.7  -5.7  -0.2  -0.1  26.8\n",
      "Gds file has been writen here:  /home/alena/QCreator/designs/8qubit_desigh/SQC8-script.gds\n",
      "For 0 conductor total length is:  9294\n",
      "For 1 conductor total length is:  4881\n",
      "For 2 conductor total length is:  1590\n",
      "For 3 conductor total length is:  938\n",
      "For 4 conductor total length is:  935\n",
      "For 5 conductor total length is:  780\n",
      "Sum : 18418\n",
      "Data has been written into the file: /home/alena/QCreator/designs/8qubit_desigh/mesh_4k_data\n",
      "Time for fastcap job is:  2.6849112510681152\n",
      "Capacitance results have been writen here:  /home/alena/QCreator/designs/8qubit_desigh/mesh_4k_results\n",
      "Capacitance value in:  femtofarads\n",
      "[<map object at 0x7fd4503313a0>, <map object at 0x7fd450331fa0>, <map object at 0x7fd450331100>, <map object at 0x7fd450331ac0>, <map object at 0x7fd4503310d0>, <map object at 0x7fd450331040>]\n",
      "       0     1     2     3     4     5\n",
      "0  156.5 -29.1 -15.7 -10.6 -14.8 -13.2\n",
      "1  -29.1  66.0  -7.6  -5.5  -5.6  -3.7\n",
      "2  -15.7  -7.6  42.0  -5.0  -0.3  -5.7\n",
      "3  -10.6  -5.5  -5.0  27.7  -0.8  -0.2\n",
      "4  -14.8  -5.6  -0.3  -0.8  27.4  -0.1\n",
      "5  -13.2  -3.7  -5.7  -0.2  -0.1  26.9\n",
      "Gds file has been writen here:  /home/alena/QCreator/designs/8qubit_desigh/SQC8-script.gds\n",
      "For 0 conductor total length is:  10246\n",
      "For 1 conductor total length is:  4881\n",
      "For 2 conductor total length is:  1590\n",
      "For 3 conductor total length is:  938\n",
      "For 4 conductor total length is:  935\n",
      "Sum : 18590\n",
      "Data has been written into the file: /home/alena/QCreator/designs/8qubit_desigh/mesh_4k_data\n",
      "Time for fastcap job is:  2.398346185684204\n",
      "Capacitance results have been writen here:  /home/alena/QCreator/designs/8qubit_desigh/mesh_4k_results\n",
      "Capacitance value in:  femtofarads\n",
      "[<map object at 0x7fd450331e50>, <map object at 0x7fd4503310a0>, <map object at 0x7fd450331af0>, <map object at 0x7fd450333a30>, <map object at 0x7fd4503339a0>]\n",
      "       0     1     2     3     4\n",
      "0  157.6 -32.9 -21.6 -10.9 -15.0\n",
      "1  -32.9  66.0  -7.5  -5.5  -5.6\n",
      "2  -21.6  -7.5  42.0  -5.0  -0.3\n",
      "3  -10.9  -5.5  -5.0  27.7  -0.8\n",
      "4  -15.0  -5.6  -0.3  -0.8  27.4\n",
      "Gds file has been writen here:  /home/alena/QCreator/designs/8qubit_desigh/SQC8-script.gds\n",
      "For 0 conductor total length is:  9284\n",
      "For 1 conductor total length is:  4911\n",
      "For 2 conductor total length is:  1599\n",
      "For 3 conductor total length is:  943\n",
      "For 4 conductor total length is:  920\n",
      "For 5 conductor total length is:  780\n",
      "Sum : 18437\n",
      "Data has been written into the file: /home/alena/QCreator/designs/8qubit_desigh/mesh_4k_data\n",
      "Time for fastcap job is:  2.6583762168884277\n",
      "Capacitance results have been writen here:  /home/alena/QCreator/designs/8qubit_desigh/mesh_4k_results\n",
      "Capacitance value in:  femtofarads\n",
      "[<map object at 0x7fd45032e400>, <map object at 0x7fd45032e6d0>, <map object at 0x7fd45032e100>, <map object at 0x7fd45032ea00>, <map object at 0x7fd45032ebe0>, <map object at 0x7fd45032ee20>]\n",
      "       0     1     2     3     4     5\n",
      "0  156.5 -29.1 -15.7 -10.6 -14.8 -13.2\n",
      "1  -29.1  66.0  -7.6  -5.5  -5.6  -3.7\n",
      "2  -15.7  -7.6  42.0  -5.0  -0.3  -5.7\n",
      "3  -10.6  -5.5  -5.0  27.7  -0.8  -0.2\n",
      "4  -14.8  -5.6  -0.3  -0.8  27.4  -0.1\n",
      "5  -13.2  -3.7  -5.7  -0.2  -0.1  26.9\n",
      "Gds file has been writen here:  /home/alena/QCreator/designs/8qubit_desigh/SQC8-script.gds\n",
      "For 0 conductor total length is:  10263\n",
      "For 1 conductor total length is:  4911\n",
      "For 2 conductor total length is:  1599\n",
      "For 3 conductor total length is:  943\n",
      "For 4 conductor total length is:  920\n",
      "Sum : 18636\n",
      "Data has been written into the file: /home/alena/QCreator/designs/8qubit_desigh/mesh_4k_data\n",
      "Time for fastcap job is:  2.454251527786255\n",
      "Capacitance results have been writen here:  /home/alena/QCreator/designs/8qubit_desigh/mesh_4k_results\n",
      "Capacitance value in:  femtofarads\n",
      "[<map object at 0x7fd4503302b0>, <map object at 0x7fd4503307f0>, <map object at 0x7fd4503308e0>, <map object at 0x7fd450330340>, <map object at 0x7fd450330850>]\n",
      "       0     1     2     3     4\n",
      "0  157.5 -32.8 -21.5 -10.8 -15.0\n",
      "1  -32.8  66.0  -7.5  -5.5  -5.6\n",
      "2  -21.5  -7.5  42.0  -5.0  -0.3\n",
      "3  -10.8  -5.5  -5.0  27.7  -0.8\n",
      "4  -15.0  -5.6  -0.3  -0.8  27.4\n",
      "Gds file has been writen here:  /home/alena/QCreator/designs/8qubit_desigh/SQC8-script.gds\n",
      "For 0 conductor total length is:  10233\n",
      "For 1 conductor total length is:  4908\n",
      "For 2 conductor total length is:  1597\n",
      "For 3 conductor total length is:  943\n",
      "For 4 conductor total length is:  928\n",
      "Sum : 18609\n",
      "Data has been written into the file: /home/alena/QCreator/designs/8qubit_desigh/mesh_4k_data\n",
      "Time for fastcap job is:  2.501600503921509\n",
      "Capacitance results have been writen here:  /home/alena/QCreator/designs/8qubit_desigh/mesh_4k_results\n",
      "Capacitance value in:  femtofarads\n",
      "[<map object at 0x7fd45032c910>, <map object at 0x7fd45032c970>, <map object at 0x7fd45032c280>, <map object at 0x7fd45032c4f0>, <map object at 0x7fd45032c790>]\n",
      "       0     1     2     3     4\n",
      "0  151.8 -33.5 -16.1 -11.9 -12.5\n",
      "1  -33.5  66.3  -7.8  -5.2  -5.4\n",
      "2  -16.1  -7.8  40.8  -5.0  -4.1\n",
      "3  -11.9  -5.2  -5.0  27.8  -0.3\n",
      "4  -12.5  -5.4  -4.1  -0.3  27.7\n",
      "Gds file has been writen here:  /home/alena/QCreator/designs/8qubit_desigh/SQC8-script.gds\n",
      "For 0 conductor total length is:  9821\n",
      "For 1 conductor total length is:  4908\n",
      "For 2 conductor total length is:  1597\n",
      "For 3 conductor total length is:  943\n",
      "For 4 conductor total length is:  940\n",
      "For 5 conductor total length is:  780\n",
      "Sum : 18989\n",
      "Data has been written into the file: /home/alena/QCreator/designs/8qubit_desigh/mesh_4k_data\n",
      "Time for fastcap job is:  3.1483352184295654\n",
      "Capacitance results have been writen here:  /home/alena/QCreator/designs/8qubit_desigh/mesh_4k_results\n",
      "Capacitance value in:  femtofarads\n",
      "[<map object at 0x7fd45032ef70>, <map object at 0x7fd45032eb80>, <map object at 0x7fd45032e940>, <map object at 0x7fd45032e100>, <map object at 0x7fd45032ef40>, <map object at 0x7fd45032e850>]\n",
      "       0     1     2     3     4     5\n",
      "0  156.7 -29.1 -15.7 -10.6 -15.0 -13.0\n",
      "1  -29.1  66.1  -7.6  -5.5  -5.6  -3.7\n",
      "2  -15.7  -7.6  42.0  -5.0  -0.3  -5.7\n",
      "3  -10.6  -5.5  -5.0  27.7  -0.8  -0.2\n",
      "4  -15.0  -5.6  -0.3  -0.8  27.5  -0.1\n",
      "5  -13.0  -3.7  -5.7  -0.2  -0.1  26.8\n"
     ]
    }
   ],
   "source": [
    "eqd.sample.draw_cap()\n",
    "for i, qubit in enumerate(eqd.sample.qubits):\n",
    "    caps = eqd.sample.calculate_qubit_capacitance(\n",
    "        cell=eqd.sample.qubit_cap_cells[i],\n",
    "        qubit=eqd.sample.qubits[i],\n",
    "        mesh_volume=10)"
   ]
  },
  {
   "cell_type": "markdown",
   "id": "20263f0d",
   "metadata": {},
   "source": [
    "## Calculate modes "
   ]
  },
  {
   "cell_type": "code",
   "execution_count": 80,
   "id": "3543d54d",
   "metadata": {
    "ExecuteTime": {
     "end_time": "2022-01-07T20:42:18.008208Z",
     "start_time": "2022-01-07T20:42:17.625248Z"
    }
   },
   "outputs": [],
   "source": [
    "# Create transmission line model\n",
    "sys, connections, elements_ = eqd.sample.get_tls(cutoff=1e11)"
   ]
  },
  {
   "cell_type": "code",
   "execution_count": 81,
   "id": "f01f70dd",
   "metadata": {
    "ExecuteTime": {
     "end_time": "2022-01-07T20:54:28.491683Z",
     "start_time": "2022-01-07T20:43:30.398632Z"
    }
   },
   "outputs": [],
   "source": [
    "omegas, kappas, modes = sys.get_modes()"
   ]
  },
  {
   "cell_type": "code",
   "execution_count": 83,
   "id": "6bb78477",
   "metadata": {
    "ExecuteTime": {
     "end_time": "2022-01-07T20:54:59.821451Z",
     "start_time": "2022-01-07T20:54:59.811865Z"
    }
   },
   "outputs": [
    {
     "data": {
      "text/plain": [
       "array([4.90417390e+09, 4.91239989e+09, 4.96487094e+09, 4.96664548e+09,\n",
       "       4.96671045e+09, 4.96988398e+09, 4.96991001e+09, 4.97107008e+09,\n",
       "       5.51357254e+09, 6.92115366e+09, 7.03331420e+09, 7.97907264e+09,\n",
       "       8.61890175e+09, 1.29530236e+10, 1.30542058e+10, 1.30558646e+10,\n",
       "       1.31107551e+10, 1.31122192e+10, 1.41954137e+10, 1.41966978e+10,\n",
       "       1.42262127e+10, 1.42264404e+10, 1.46040085e+10, 1.46075518e+10,\n",
       "       1.60727708e+10, 1.61297156e+10, 1.78405021e+10, 1.78409297e+10,\n",
       "       1.78825476e+10, 1.78834247e+10, 1.81536443e+10, 1.81599984e+10,\n",
       "       1.82742875e+10, 1.82805754e+10, 1.85223115e+10, 1.85297897e+10,\n",
       "       1.93464866e+10, 1.97075850e+10, 2.18118238e+10, 2.38259654e+10,\n",
       "       2.56962567e+10, 2.56962568e+10, 2.77127418e+10, 2.82019314e+10,\n",
       "       2.84164319e+10, 2.85674761e+10, 2.89232586e+10, 2.90058239e+10,\n",
       "       2.97412146e+10, 2.98434840e+10, 3.08384703e+10, 3.09816631e+10,\n",
       "       3.24252892e+10, 3.31663896e+10, 3.35266801e+10, 3.46310564e+10,\n",
       "       3.46310564e+10, 3.48227802e+10, 3.48227802e+10, 3.53534076e+10,\n",
       "       3.53534229e+10, 3.79515321e+10, 3.90867145e+10, 3.95450381e+10,\n",
       "       4.30360255e+10, 4.44523234e+10, 4.51692304e+10, 4.51692304e+10,\n",
       "       4.60649960e+10, 4.60649960e+10, 4.90529512e+10, 5.21123457e+10,\n",
       "       5.34397431e+10, 5.37789406e+10, 5.37789407e+10, 5.85974491e+10,\n",
       "       5.91713538e+10, 5.92986802e+10, 5.96363211e+10, 5.98541404e+10,\n",
       "       6.02959409e+10, 6.04639795e+10, 6.05166879e+10, 6.24764233e+10,\n",
       "       6.24764271e+10, 6.52611613e+10, 6.52611613e+10, 6.61793583e+10,\n",
       "       6.78391947e+10, 6.78416228e+10, 6.85529350e+10, 6.87201808e+10,\n",
       "       6.87202816e+10, 7.31829220e+10, 7.31829220e+10, 7.44201204e+10,\n",
       "       7.44201204e+10, 8.12343670e+10, 8.14548498e+10, 8.17278113e+10,\n",
       "       8.39710864e+10, 8.55770529e+10, 8.75470999e+10, 8.75471005e+10,\n",
       "       8.80130064e+10, 8.86353580e+10, 8.94563763e+10, 8.96979228e+10,\n",
       "       8.98776989e+10, 8.98943631e+10, 9.00936375e+10, 9.01014241e+10,\n",
       "       9.10176775e+10, 9.10379126e+10, 9.11012285e+10, 9.21658445e+10,\n",
       "       9.25494090e+10, 9.25510289e+10, 9.27410612e+10, 9.27697565e+10,\n",
       "       9.28922709e+10, 9.48982346e+10, 9.49212779e+10, 9.49371828e+10,\n",
       "       9.74471602e+10, 9.77063166e+10, 9.94846751e+10, 1.00472660e+11,\n",
       "       1.00472660e+11, 1.02593529e+11, 1.02765357e+11, 1.05061900e+11,\n",
       "       1.05692744e+11, 1.05693075e+11, 1.12673248e+11, 1.12673248e+11,\n",
       "       1.13450955e+11, 1.14085427e+11, 1.14343776e+11, 1.21316764e+11,\n",
       "       1.21316764e+11, 1.22209720e+11, 1.23399392e+11, 1.24197974e+11,\n",
       "       1.25836568e+11, 1.25836568e+11, 1.26963062e+11, 1.30735233e+11,\n",
       "       1.32593096e+11, 1.32593096e+11, 1.37099878e+11, 1.39350615e+11,\n",
       "       1.42727300e+11, 1.42981628e+11, 1.45291373e+11, 1.45309638e+11,\n",
       "       1.46077158e+11, 1.46434811e+11, 1.47688820e+11, 1.47762849e+11,\n",
       "       1.51577270e+11, 1.51758397e+11, 1.52055844e+11, 1.52055846e+11,\n",
       "       1.53087141e+11, 1.53332095e+11, 1.53596527e+11, 1.56941874e+11,\n",
       "       1.60579706e+11, 1.63478298e+11, 1.65089333e+11, 1.72686449e+11,\n",
       "       1.73709449e+11, 1.81436346e+11, 1.83308257e+11, 1.83308257e+11,\n",
       "       1.86578722e+11, 1.89030928e+11, 1.91155329e+11, 1.91843634e+11,\n",
       "       1.92069673e+11, 1.92489897e+11, 1.92489897e+11, 1.92817203e+11,\n",
       "       1.93900056e+11, 1.95816467e+11, 1.97400433e+11, 1.99037557e+11,\n",
       "       1.99037557e+11, 1.99999622e+11, 2.01075893e+11, 2.01102262e+11,\n",
       "       2.01439842e+11, 2.01439842e+11, 2.02884080e+11, 2.06889487e+11,\n",
       "       2.10304715e+11, 2.11955209e+11, 2.15751408e+11, 2.16196462e+11,\n",
       "       2.27321673e+11, 2.28128427e+11, 2.32376859e+11, 2.39236820e+11,\n",
       "       2.40758402e+11, 2.42563412e+11, 2.43332922e+11, 2.49156093e+11,\n",
       "       2.49156093e+11, 2.53683277e+11, 2.53727606e+11, 2.65876085e+11,\n",
       "       2.66113308e+11, 2.67453557e+11, 2.75810794e+11, 2.75810795e+11,\n",
       "       2.77088495e+11, 2.83657058e+11, 2.88404269e+11, 2.88660477e+11,\n",
       "       2.88662834e+11, 2.89009217e+11, 2.89010034e+11, 2.90615986e+11,\n",
       "       2.90627372e+11, 2.91625421e+11, 2.91626187e+11, 2.91897327e+11,\n",
       "       2.91901609e+11, 2.97086475e+11, 2.97138236e+11, 2.97245900e+11,\n",
       "       2.99429679e+11, 2.99557522e+11, 3.04401309e+11, 3.04401311e+11,\n",
       "       3.06905879e+11, 3.11050887e+11, 3.11161681e+11, 3.11161681e+11,\n",
       "       3.20861988e+11, 3.21375547e+11, 3.21375547e+11, 3.21383540e+11,\n",
       "       3.21796024e+11, 3.24255742e+11, 3.24256547e+11, 3.25280449e+11,\n",
       "       3.25280449e+11, 3.26826908e+11, 3.28660243e+11, 3.29054904e+11,\n",
       "       3.45107023e+11, 3.47573505e+11, 3.51555075e+11, 3.61674621e+11,\n",
       "       3.63458768e+11, 3.69367481e+11, 3.70311402e+11, 3.71265792e+11,\n",
       "       3.71871507e+11, 3.72522615e+11, 3.73774651e+11, 3.88299443e+11,\n",
       "       3.88364222e+11, 3.89805686e+11, 3.96214170e+11, 3.96221196e+11,\n",
       "       4.19233011e+11, 4.21259757e+11, 4.30975081e+11, 4.31040523e+11,\n",
       "       4.32173455e+11, 4.34335299e+11, 4.34627740e+11, 4.35897664e+11,\n",
       "       4.35897665e+11, 4.47832554e+11, 4.49246274e+11, 4.51535967e+11,\n",
       "       4.51945145e+11, 4.59905851e+11, 4.66056132e+11, 4.66056132e+11,\n",
       "       4.68414215e+11, 4.69301646e+11, 4.70170955e+11, 4.70174213e+11,\n",
       "       4.78114105e+11, 4.78114105e+11, 4.80480315e+11, 4.96756499e+11,\n",
       "       5.07084141e+11, 5.20893139e+11, 5.20893139e+11, 5.21842063e+11,\n",
       "       5.27396369e+11, 5.28065029e+11, 5.36747304e+11, 5.42664160e+11,\n",
       "       5.42664160e+11, 5.42926999e+11, 5.72101128e+11, 5.73947623e+11,\n",
       "       5.74549094e+11, 5.76944125e+11, 5.78113520e+11, 5.78113843e+11,\n",
       "       5.78472536e+11, 5.82957000e+11, 5.82957001e+11, 5.91491853e+11,\n",
       "       5.93517927e+11, 5.96442979e+11, 5.96803820e+11, 5.98767478e+11,\n",
       "       6.11652969e+11, 6.12278117e+11, 6.16193190e+11, 6.19377133e+11,\n",
       "       6.20915197e+11, 6.24025631e+11, 6.24869043e+11, 6.24869043e+11,\n",
       "       6.25035830e+11, 6.32562440e+11, 6.32741395e+11, 6.36864273e+11,\n",
       "       6.36864273e+11, 6.37741632e+11, 6.48146449e+11, 6.48146449e+11,\n",
       "       6.55316312e+11, 6.64120302e+11, 6.69235859e+11, 6.73644725e+11,\n",
       "       6.73650841e+11, 6.77079886e+11, 6.80752340e+11, 6.81264554e+11,\n",
       "       7.06782177e+11, 7.08436772e+11, 7.12613746e+11, 7.13882413e+11,\n",
       "       7.23604461e+11, 7.24383354e+11, 7.24383354e+11, 7.26220005e+11,\n",
       "       7.26940361e+11, 7.28026389e+11, 7.29217357e+11, 7.29450339e+11,\n",
       "       7.29591641e+11, 7.34955128e+11, 7.35308574e+11, 7.35308574e+11,\n",
       "       7.36025016e+11, 7.44718073e+11, 7.45005373e+11, 7.46491259e+11,\n",
       "       7.52195294e+11, 7.73821270e+11, 7.77060990e+11, 7.84353350e+11,\n",
       "       7.90735145e+11, 7.92082068e+11, 7.96200354e+11, 8.16193442e+11,\n",
       "       8.16193442e+11, 8.19804450e+11, 8.19804451e+11, 8.20925225e+11,\n",
       "       8.24305760e+11, 8.24305760e+11, 8.39514553e+11, 8.39516382e+11,\n",
       "       8.48299990e+11, 8.49003190e+11, 8.66941154e+11, 8.71564548e+11,\n",
       "       8.71600396e+11, 8.79429283e+11, 8.82125912e+11, 8.82125913e+11,\n",
       "       8.88513225e+11, 8.88739223e+11, 8.95558461e+11, 8.95925364e+11,\n",
       "       8.96604963e+11, 8.97128399e+11, 9.06412292e+11, 9.09988711e+11,\n",
       "       9.18486802e+11, 9.19263912e+11, 9.22115771e+11, 9.22117969e+11,\n",
       "       9.22222001e+11, 9.22222307e+11, 9.23963349e+11, 9.23975368e+11,\n",
       "       9.24867375e+11, 9.25459895e+11, 9.25462516e+11, 9.25558776e+11,\n",
       "       9.25558992e+11, 9.35541716e+11, 9.35541716e+11, 9.39422349e+11,\n",
       "       9.47222950e+11, 9.58189422e+11, 9.59008948e+11, 9.64952985e+11,\n",
       "       9.64973153e+11, 9.71548707e+11, 9.73164602e+11, 9.73164602e+11,\n",
       "       9.74174269e+11, 9.79013897e+11, 9.79013897e+11, 9.90311800e+11,\n",
       "       9.90668946e+11, 9.91145540e+11, 9.93908353e+11, 9.94488492e+11,\n",
       "       9.95563894e+11, 9.95563894e+11, 9.99966095e+11, 1.00014494e+12,\n",
       "       1.00492033e+12, 1.00502030e+12, 1.00540105e+12, 1.01227207e+12,\n",
       "       1.01333308e+12, 1.04168261e+12, 1.04269521e+12, 1.04814478e+12,\n",
       "       1.06333823e+12, 1.07087343e+12, 1.07655570e+12, 1.08689788e+12,\n",
       "       1.11976772e+12, 1.12509555e+12, 1.12509555e+12, 1.13960475e+12,\n",
       "       1.14033512e+12, 1.15046450e+12, 1.15046450e+12, 1.15342298e+12,\n",
       "       1.15342298e+12, 1.15448422e+12, 1.15448422e+12, 1.16554041e+12,\n",
       "       1.17002685e+12, 1.17002685e+12, 1.17099696e+12, 1.17130964e+12,\n",
       "       1.18197132e+12, 1.18197132e+12, 1.18336776e+12, 1.18336909e+12,\n",
       "       1.18457037e+12, 1.18457071e+12, 1.26807411e+12, 1.27295705e+12,\n",
       "       1.28742250e+12, 1.33447363e+12, 1.34423838e+12, 1.34660880e+12,\n",
       "       1.34661284e+12, 1.40557868e+12, 1.41707706e+12, 1.47846076e+12,\n",
       "       1.48635064e+12, 1.50752626e+12, 1.52345495e+12, 1.54059034e+12,\n",
       "       1.54075400e+12, 1.54075400e+12, 1.54095282e+12, 1.54095282e+12,\n",
       "       1.54118298e+12, 1.54118298e+12, 1.54137400e+12, 1.54137400e+12,\n",
       "       1.54393977e+12, 1.55123476e+12, 1.55561975e+12, 1.57599441e+12,\n",
       "       1.62442649e+12, 1.64282525e+12, 1.65422011e+12, 1.66963872e+12,\n",
       "       1.68494166e+12, 1.68495702e+12, 1.68504052e+12, 1.68504052e+12,\n",
       "       1.68504154e+12, 1.68504154e+12, 1.68512382e+12, 1.68513697e+12,\n",
       "       1.68520886e+12, 1.68521022e+12, 1.68881841e+12, 1.70030186e+12,\n",
       "       1.70048033e+12, 1.70088815e+12, 1.70430665e+12, 1.71508316e+12,\n",
       "       1.73296233e+12, 1.74599930e+12, 1.76292527e+12, 1.78849936e+12,\n",
       "       1.80797499e+12, 1.82014531e+12, 1.83132234e+12, 1.92604656e+12,\n",
       "       1.93569010e+12, 1.93962020e+12, 1.96379647e+12, 1.96960742e+12,\n",
       "       1.97032259e+12, 1.99682697e+12, 1.99947755e+12, 2.00190038e+12,\n",
       "       2.01898728e+12, 2.03043424e+12, 2.04502580e+12, 2.04605682e+12,\n",
       "       2.05388395e+12, 2.06238296e+12, 2.07245392e+12, 2.09422005e+12,\n",
       "       2.09422005e+12, 2.10018334e+12, 2.14285892e+12, 2.14905185e+12,\n",
       "       2.16754995e+12, 2.24596791e+12, 2.27662482e+12, 2.30372383e+12,\n",
       "       2.37092515e+12, 2.46341148e+12, 2.52571671e+12, 2.52571671e+12,\n",
       "       2.62813263e+12, 2.62813263e+12, 2.67920249e+12, 2.72973277e+12,\n",
       "       2.80607748e+12, 2.80607748e+12, 2.83990375e+12, 2.94864607e+12,\n",
       "       2.99104564e+12, 3.15067754e+12, 3.47742468e+12, 3.50195645e+12,\n",
       "       3.63123568e+12, 3.66277344e+12, 3.66279641e+12, 3.69000214e+12,\n",
       "       3.69295204e+12, 4.05348203e+12, 4.05348203e+12, 4.26598316e+12,\n",
       "       4.31102989e+12, 4.46474242e+12, 4.63407750e+12, 4.95009228e+12,\n",
       "       5.43663671e+12, 5.47419464e+12, 5.47419464e+12, 5.52554505e+12,\n",
       "       5.59316353e+12, 5.63006614e+12, 6.00890234e+12, 6.51574931e+12,\n",
       "       6.51574931e+12, 6.55868387e+12, 6.66914642e+12, 6.66914642e+12,\n",
       "       6.69575234e+12, 6.97179320e+12, 7.14570282e+12, 8.98044741e+12,\n",
       "       8.98044741e+12, 9.32870364e+12, 9.37106281e+12, 1.00793486e+13,\n",
       "       1.01198020e+13, 1.08294521e+13, 1.16680738e+13, 1.55764529e+13,\n",
       "       1.87601316e+13, 1.87601316e+13, 1.94836529e+13, 2.24979246e+13,\n",
       "       2.89193309e+13, 3.34178112e+13, 3.51811517e+13, 5.33349963e+13])"
      ]
     },
     "execution_count": 83,
     "metadata": {},
     "output_type": "execute_result"
    }
   ],
   "source": [
    "omegas / (2 * np.pi)"
   ]
  },
  {
   "cell_type": "code",
   "execution_count": 88,
   "id": "2b3d1035",
   "metadata": {
    "ExecuteTime": {
     "end_time": "2022-01-07T21:03:03.712448Z",
     "start_time": "2022-01-07T21:03:03.709131Z"
    }
   },
   "outputs": [
    {
     "data": {
      "text/plain": [
       "600"
      ]
     },
     "execution_count": 88,
     "metadata": {},
     "output_type": "execute_result"
    }
   ],
   "source": [
    "len(omegas)"
   ]
  },
  {
   "cell_type": "code",
   "execution_count": 84,
   "id": "da5ceecb",
   "metadata": {
    "ExecuteTime": {
     "end_time": "2022-01-07T20:59:06.479122Z",
     "start_time": "2022-01-07T20:59:06.476468Z"
    }
   },
   "outputs": [],
   "source": [
    "import pandas as pd"
   ]
  },
  {
   "cell_type": "code",
   "execution_count": 93,
   "id": "65b21fa1",
   "metadata": {
    "ExecuteTime": {
     "end_time": "2022-01-07T21:15:57.174292Z",
     "start_time": "2022-01-07T21:15:57.164781Z"
    }
   },
   "outputs": [],
   "source": [
    "frequencies = pd.DataFrame(omegas / (2 * np.pi) / 1e9, columns = ['frequency, GHz'])\n",
    "frequencies.to_csv('8_qubit_frequencies.csv')"
   ]
  },
  {
   "cell_type": "code",
   "execution_count": 100,
   "id": "55e98257",
   "metadata": {
    "ExecuteTime": {
     "end_time": "2022-01-07T21:20:38.187648Z",
     "start_time": "2022-01-07T21:20:38.177418Z"
    }
   },
   "outputs": [],
   "source": [
    "relaxation_rates = pd.DataFrame(kappas / (2 * np.pi), columns = ['relaxation_rates, Hz'])\n",
    "relaxation_rates.to_csv('8_qubit_relaxation_rates.csv')"
   ]
  },
  {
   "cell_type": "code",
   "execution_count": 106,
   "id": "8cbf2f91",
   "metadata": {
    "ExecuteTime": {
     "end_time": "2022-01-07T21:23:37.373280Z",
     "start_time": "2022-01-07T21:23:31.908362Z"
    }
   },
   "outputs": [
    {
     "data": {
      "text/html": [
       "<div>\n",
       "<style scoped>\n",
       "    .dataframe tbody tr th:only-of-type {\n",
       "        vertical-align: middle;\n",
       "    }\n",
       "\n",
       "    .dataframe tbody tr th {\n",
       "        vertical-align: top;\n",
       "    }\n",
       "\n",
       "    .dataframe thead th {\n",
       "        text-align: right;\n",
       "    }\n",
       "</style>\n",
       "<table border=\"1\" class=\"dataframe\">\n",
       "  <thead>\n",
       "    <tr style=\"text-align: right;\">\n",
       "      <th></th>\n",
       "      <th>0</th>\n",
       "      <th>1</th>\n",
       "      <th>2</th>\n",
       "      <th>3</th>\n",
       "      <th>4</th>\n",
       "      <th>5</th>\n",
       "      <th>6</th>\n",
       "      <th>7</th>\n",
       "      <th>8</th>\n",
       "      <th>9</th>\n",
       "      <th>...</th>\n",
       "      <th>4464</th>\n",
       "      <th>4465</th>\n",
       "      <th>4466</th>\n",
       "      <th>4467</th>\n",
       "      <th>4468</th>\n",
       "      <th>4469</th>\n",
       "      <th>4470</th>\n",
       "      <th>4471</th>\n",
       "      <th>4472</th>\n",
       "      <th>4473</th>\n",
       "    </tr>\n",
       "  </thead>\n",
       "  <tbody>\n",
       "    <tr>\n",
       "      <th>0</th>\n",
       "      <td>0.0+0.0j</td>\n",
       "      <td>-1.080512e-07+4.942777e-08j</td>\n",
       "      <td>2.652449e-07+1.948372e-07j</td>\n",
       "      <td>3.692369e-06-2.083138e-06j</td>\n",
       "      <td>3.627874e-13-1.886257e-13j</td>\n",
       "      <td>1.693110e-12+2.149270e-12j</td>\n",
       "      <td>-1.634429e-12+7.406914e-13j</td>\n",
       "      <td>-2.068904e-05+6.834684e-06j</td>\n",
       "      <td>4.104200e-06-1.294154e-06j</td>\n",
       "      <td>-1.240423e-07+2.530572e-08j</td>\n",
       "      <td>...</td>\n",
       "      <td>-2.199274e-09+5.104503e-07j</td>\n",
       "      <td>1.076695e-11-2.485793e-09j</td>\n",
       "      <td>4.666928e-06+2.019370e-08j</td>\n",
       "      <td>4.328456e-07+1.864862e-09j</td>\n",
       "      <td>-2.186656e-09+5.075356e-07j</td>\n",
       "      <td>6.646762e-12-1.536114e-09j</td>\n",
       "      <td>-9.650666e-06+8.850895e-10j</td>\n",
       "      <td>2.265180e-07-1.174822e-11j</td>\n",
       "      <td>5.954583e-12+1.146874e-07j</td>\n",
       "      <td>6.748624e-13+7.356489e-09j</td>\n",
       "    </tr>\n",
       "    <tr>\n",
       "      <th>1</th>\n",
       "      <td>0.0+0.0j</td>\n",
       "      <td>8.760857e-08-4.015343e-08j</td>\n",
       "      <td>-1.306323e-05-9.555838e-06j</td>\n",
       "      <td>-5.956296e-08+3.370621e-08j</td>\n",
       "      <td>-4.062153e-10+2.304528e-10j</td>\n",
       "      <td>-9.047569e-10-1.248239e-09j</td>\n",
       "      <td>9.366055e-12-4.300022e-12j</td>\n",
       "      <td>-1.015440e-08+3.360970e-09j</td>\n",
       "      <td>-1.020468e-07+3.223552e-08j</td>\n",
       "      <td>1.498559e-07-3.062445e-08j</td>\n",
       "      <td>...</td>\n",
       "      <td>1.098032e-07+4.920720e-06j</td>\n",
       "      <td>-5.393415e-10-5.536432e-08j</td>\n",
       "      <td>9.253939e-05-1.009872e-06j</td>\n",
       "      <td>4.150989e-06-9.326139e-08j</td>\n",
       "      <td>1.091711e-07+4.859116e-06j</td>\n",
       "      <td>-3.329558e-10-3.051034e-08j</td>\n",
       "      <td>2.326715e-02-2.060482e-08j</td>\n",
       "      <td>-5.399473e-04+4.017068e-11j</td>\n",
       "      <td>-2.167467e-11-2.729207e-04j</td>\n",
       "      <td>-1.564397e-11-1.776578e-05j</td>\n",
       "    </tr>\n",
       "    <tr>\n",
       "      <th>2</th>\n",
       "      <td>0.0+0.0j</td>\n",
       "      <td>1.119291e-09-5.192247e-10j</td>\n",
       "      <td>-1.556832e-08-1.107843e-08j</td>\n",
       "      <td>-8.532762e-10+4.885910e-10j</td>\n",
       "      <td>1.233898e-05-7.089416e-06j</td>\n",
       "      <td>1.474718e-06+2.005167e-06j</td>\n",
       "      <td>-1.427986e-06+6.623891e-07j</td>\n",
       "      <td>2.819558e-10-9.437465e-11j</td>\n",
       "      <td>3.440673e-08-1.099199e-08j</td>\n",
       "      <td>-4.850261e-08+1.002033e-08j</td>\n",
       "      <td>...</td>\n",
       "      <td>1.434858e-10+5.655947e-09j</td>\n",
       "      <td>-7.202724e-13-6.322261e-11j</td>\n",
       "      <td>1.048245e-07-1.334272e-09j</td>\n",
       "      <td>4.822498e-09-1.231561e-10j</td>\n",
       "      <td>1.426417e-10+5.585519e-09j</td>\n",
       "      <td>-4.446394e-13-3.492835e-11j</td>\n",
       "      <td>2.559831e-05-2.068316e-10j</td>\n",
       "      <td>-5.854448e-07+4.173447e-12j</td>\n",
       "      <td>-2.080117e-12-2.927903e-07j</td>\n",
       "      <td>-1.592671e-13-1.975454e-08j</td>\n",
       "    </tr>\n",
       "    <tr>\n",
       "      <th>3</th>\n",
       "      <td>0.0+0.0j</td>\n",
       "      <td>2.569923e-08-1.192550e-08j</td>\n",
       "      <td>2.155233e-07+1.532256e-07j</td>\n",
       "      <td>-3.879036e-08+2.221826e-08j</td>\n",
       "      <td>-1.000358e-06+5.750462e-07j</td>\n",
       "      <td>-2.876580e-08-3.908890e-08j</td>\n",
       "      <td>3.919999e-08-1.819526e-08j</td>\n",
       "      <td>1.130429e-07-3.785325e-08j</td>\n",
       "      <td>1.389696e-05-4.441337e-06j</td>\n",
       "      <td>-1.957485e-05+4.045472e-06j</td>\n",
       "      <td>...</td>\n",
       "      <td>-1.991551e-09-7.990668e-08j</td>\n",
       "      <td>9.999556e-12+1.302652e-10j</td>\n",
       "      <td>-3.368201e-07+1.851863e-08j</td>\n",
       "      <td>-6.885907e-08+1.709986e-09j</td>\n",
       "      <td>-1.979832e-09-7.972553e-08j</td>\n",
       "      <td>6.173015e-12+1.122709e-10j</td>\n",
       "      <td>1.990210e-04-7.936212e-10j</td>\n",
       "      <td>-4.549930e-06+2.629919e-11j</td>\n",
       "      <td>-1.315662e-11-2.274680e-06j</td>\n",
       "      <td>-6.126711e-13-1.536419e-07j</td>\n",
       "    </tr>\n",
       "    <tr>\n",
       "      <th>4</th>\n",
       "      <td>0.0+0.0j</td>\n",
       "      <td>2.118964e-09-9.833534e-10j</td>\n",
       "      <td>1.598366e-07+1.136254e-07j</td>\n",
       "      <td>-9.353459e-09+5.357592e-09j</td>\n",
       "      <td>2.564388e-06-1.474035e-06j</td>\n",
       "      <td>1.335534e-07+1.814973e-07j</td>\n",
       "      <td>-3.588061e-07+1.665076e-07j</td>\n",
       "      <td>4.353787e-08-1.458069e-08j</td>\n",
       "      <td>5.351776e-06-1.710582e-06j</td>\n",
       "      <td>-7.538165e-06+1.558150e-06j</td>\n",
       "      <td>...</td>\n",
       "      <td>-1.478537e-09-5.838082e-08j</td>\n",
       "      <td>7.422576e-12+3.494650e-10j</td>\n",
       "      <td>-6.273132e-07+1.374640e-08j</td>\n",
       "      <td>-5.007564e-08+1.269517e-09j</td>\n",
       "      <td>-1.469838e-09-5.797718e-08j</td>\n",
       "      <td>4.582362e-12+2.091186e-10j</td>\n",
       "      <td>-4.134538e-05-1.598155e-09j</td>\n",
       "      <td>9.448957e-07+4.255487e-11j</td>\n",
       "      <td>-2.127997e-11+4.723825e-07j</td>\n",
       "      <td>-1.234309e-12+3.191864e-08j</td>\n",
       "    </tr>\n",
       "    <tr>\n",
       "      <th>...</th>\n",
       "      <td>...</td>\n",
       "      <td>...</td>\n",
       "      <td>...</td>\n",
       "      <td>...</td>\n",
       "      <td>...</td>\n",
       "      <td>...</td>\n",
       "      <td>...</td>\n",
       "      <td>...</td>\n",
       "      <td>...</td>\n",
       "      <td>...</td>\n",
       "      <td>...</td>\n",
       "      <td>...</td>\n",
       "      <td>...</td>\n",
       "      <td>...</td>\n",
       "      <td>...</td>\n",
       "      <td>...</td>\n",
       "      <td>...</td>\n",
       "      <td>...</td>\n",
       "      <td>...</td>\n",
       "      <td>...</td>\n",
       "      <td>...</td>\n",
       "    </tr>\n",
       "    <tr>\n",
       "      <th>595</th>\n",
       "      <td>0.0+0.0j</td>\n",
       "      <td>-6.502618e-28-4.023540e-29j</td>\n",
       "      <td>4.940982e-19+3.933770e-20j</td>\n",
       "      <td>1.698004e-21-2.086334e-20j</td>\n",
       "      <td>3.467729e-19-1.462631e-19j</td>\n",
       "      <td>-3.595863e-19-9.976123e-21j</td>\n",
       "      <td>-5.189869e-20+9.620604e-20j</td>\n",
       "      <td>4.571299e-30+2.531905e-31j</td>\n",
       "      <td>5.233327e-19+1.762093e-19j</td>\n",
       "      <td>2.102453e-17+1.143617e-16j</td>\n",
       "      <td>...</td>\n",
       "      <td>-1.735236e-18-2.007752e-10j</td>\n",
       "      <td>-1.050308e-15+5.701997e-07j</td>\n",
       "      <td>-1.023188e-03+6.907902e-17j</td>\n",
       "      <td>-5.283337e-03-7.276812e-14j</td>\n",
       "      <td>2.230363e-17-1.350409e-06j</td>\n",
       "      <td>4.556334e-17+1.544986e-03j</td>\n",
       "      <td>2.455487e-15-8.597726e-16j</td>\n",
       "      <td>2.835261e-15-1.612738e-15j</td>\n",
       "      <td>1.268358e-19+2.352628e-19j</td>\n",
       "      <td>-3.006560e-15-8.524832e-15j</td>\n",
       "    </tr>\n",
       "    <tr>\n",
       "      <th>596</th>\n",
       "      <td>0.0+0.0j</td>\n",
       "      <td>2.514558e-29+1.086590e-30j</td>\n",
       "      <td>9.283759e-18+2.768722e-20j</td>\n",
       "      <td>-4.306577e-21+1.415036e-20j</td>\n",
       "      <td>-1.321275e-18+1.498606e-18j</td>\n",
       "      <td>-1.954886e-19-3.001474e-20j</td>\n",
       "      <td>1.711970e-19-1.969234e-19j</td>\n",
       "      <td>1.939108e-32-1.584163e-31j</td>\n",
       "      <td>1.968668e-18-3.770785e-18j</td>\n",
       "      <td>8.336738e-17-1.495935e-15j</td>\n",
       "      <td>...</td>\n",
       "      <td>1.244267e-19+4.178180e-20j</td>\n",
       "      <td>-4.495632e-16-6.304813e-17j</td>\n",
       "      <td>3.989514e-15+6.356878e-15j</td>\n",
       "      <td>2.245924e-14+3.620716e-14j</td>\n",
       "      <td>-9.443463e-18+4.568203e-18j</td>\n",
       "      <td>1.226268e-14-1.714077e-15j</td>\n",
       "      <td>5.204019e-16+1.514102e-16j</td>\n",
       "      <td>1.374962e-15-1.023247e-15j</td>\n",
       "      <td>4.181374e-18+1.068069e-19j</td>\n",
       "      <td>6.808671e-16-2.339220e-15j</td>\n",
       "    </tr>\n",
       "    <tr>\n",
       "      <th>597</th>\n",
       "      <td>0.0+0.0j</td>\n",
       "      <td>-2.508192e-28-1.065929e-29j</td>\n",
       "      <td>-4.896669e-21-7.575062e-21j</td>\n",
       "      <td>-2.949652e-22-1.327073e-21j</td>\n",
       "      <td>2.643906e-19+1.619193e-19j</td>\n",
       "      <td>4.473816e-20+1.379112e-21j</td>\n",
       "      <td>-2.561762e-21-3.919249e-20j</td>\n",
       "      <td>-3.315082e-31-1.261769e-32j</td>\n",
       "      <td>-2.008037e-20+1.867051e-19j</td>\n",
       "      <td>-2.921208e-17+2.541432e-17j</td>\n",
       "      <td>...</td>\n",
       "      <td>8.091632e-20+7.775414e-11j</td>\n",
       "      <td>-2.418278e-16-4.875437e-07j</td>\n",
       "      <td>1.301602e-03+4.129931e-17j</td>\n",
       "      <td>6.714842e-03-5.713871e-15j</td>\n",
       "      <td>1.252222e-18+1.155466e-06j</td>\n",
       "      <td>7.602711e-17-2.919329e-03j</td>\n",
       "      <td>1.246849e-15-1.060178e-16j</td>\n",
       "      <td>3.294414e-15-5.337119e-17j</td>\n",
       "      <td>-1.229886e-19+2.473848e-19j</td>\n",
       "      <td>-5.508120e-16-6.478988e-15j</td>\n",
       "    </tr>\n",
       "    <tr>\n",
       "      <th>598</th>\n",
       "      <td>0.0+0.0j</td>\n",
       "      <td>-2.982896e-29-1.192208e-30j</td>\n",
       "      <td>-1.175042e-18+5.854738e-19j</td>\n",
       "      <td>2.319900e-21-4.607569e-20j</td>\n",
       "      <td>5.814250e-19+1.688636e-18j</td>\n",
       "      <td>-4.949344e-19-7.596828e-20j</td>\n",
       "      <td>-1.750025e-20-7.584900e-19j</td>\n",
       "      <td>-1.283325e-32-1.113963e-33j</td>\n",
       "      <td>7.553932e-19+1.962043e-18j</td>\n",
       "      <td>2.092420e-16-5.105808e-15j</td>\n",
       "      <td>...</td>\n",
       "      <td>4.789121e-20-6.913304e-21j</td>\n",
       "      <td>-1.133356e-14-6.659458e-17j</td>\n",
       "      <td>4.230369e-16-2.762217e-14j</td>\n",
       "      <td>1.673165e-15-1.562743e-13j</td>\n",
       "      <td>3.226230e-17+2.511396e-19j</td>\n",
       "      <td>-6.527432e-14-1.273209e-15j</td>\n",
       "      <td>5.094212e-17+2.157966e-16j</td>\n",
       "      <td>-8.281468e-17-7.314471e-15j</td>\n",
       "      <td>2.603223e-19-2.041121e-20j</td>\n",
       "      <td>1.179567e-15-2.781177e-16j</td>\n",
       "    </tr>\n",
       "    <tr>\n",
       "      <th>599</th>\n",
       "      <td>0.0+0.0j</td>\n",
       "      <td>-1.219788e-29-3.389738e-31j</td>\n",
       "      <td>2.194475e-20-2.262082e-21j</td>\n",
       "      <td>-9.220975e-22+1.132375e-21j</td>\n",
       "      <td>-4.822744e-19-8.346886e-20j</td>\n",
       "      <td>-7.750829e-22-8.992639e-21j</td>\n",
       "      <td>1.944978e-20+7.625103e-21j</td>\n",
       "      <td>1.601089e-31+4.109818e-33j</td>\n",
       "      <td>-8.063363e-20-2.948306e-19j</td>\n",
       "      <td>1.347276e-17+1.601077e-17j</td>\n",
       "      <td>...</td>\n",
       "      <td>-4.265073e-20-2.201415e-11j</td>\n",
       "      <td>5.856996e-16+3.517326e-07j</td>\n",
       "      <td>-1.499906e-03-2.900105e-17j</td>\n",
       "      <td>-7.734334e-03+1.246826e-14j</td>\n",
       "      <td>-1.669401e-18-8.338925e-07j</td>\n",
       "      <td>4.526513e-17+5.369120e-03j</td>\n",
       "      <td>-1.173702e-15+2.013429e-16j</td>\n",
       "      <td>-3.792788e-15+3.492257e-16j</td>\n",
       "      <td>-6.568663e-20-1.296482e-19j</td>\n",
       "      <td>1.669378e-15+9.729371e-15j</td>\n",
       "    </tr>\n",
       "  </tbody>\n",
       "</table>\n",
       "<p>600 rows × 4474 columns</p>\n",
       "</div>"
      ],
      "text/plain": [
       "         0                           1                           2     \\\n",
       "0    0.0+0.0j -1.080512e-07+4.942777e-08j  2.652449e-07+1.948372e-07j   \n",
       "1    0.0+0.0j  8.760857e-08-4.015343e-08j -1.306323e-05-9.555838e-06j   \n",
       "2    0.0+0.0j  1.119291e-09-5.192247e-10j -1.556832e-08-1.107843e-08j   \n",
       "3    0.0+0.0j  2.569923e-08-1.192550e-08j  2.155233e-07+1.532256e-07j   \n",
       "4    0.0+0.0j  2.118964e-09-9.833534e-10j  1.598366e-07+1.136254e-07j   \n",
       "..        ...                         ...                         ...   \n",
       "595  0.0+0.0j -6.502618e-28-4.023540e-29j  4.940982e-19+3.933770e-20j   \n",
       "596  0.0+0.0j  2.514558e-29+1.086590e-30j  9.283759e-18+2.768722e-20j   \n",
       "597  0.0+0.0j -2.508192e-28-1.065929e-29j -4.896669e-21-7.575062e-21j   \n",
       "598  0.0+0.0j -2.982896e-29-1.192208e-30j -1.175042e-18+5.854738e-19j   \n",
       "599  0.0+0.0j -1.219788e-29-3.389738e-31j  2.194475e-20-2.262082e-21j   \n",
       "\n",
       "                           3                           4     \\\n",
       "0    3.692369e-06-2.083138e-06j  3.627874e-13-1.886257e-13j   \n",
       "1   -5.956296e-08+3.370621e-08j -4.062153e-10+2.304528e-10j   \n",
       "2   -8.532762e-10+4.885910e-10j  1.233898e-05-7.089416e-06j   \n",
       "3   -3.879036e-08+2.221826e-08j -1.000358e-06+5.750462e-07j   \n",
       "4   -9.353459e-09+5.357592e-09j  2.564388e-06-1.474035e-06j   \n",
       "..                          ...                         ...   \n",
       "595  1.698004e-21-2.086334e-20j  3.467729e-19-1.462631e-19j   \n",
       "596 -4.306577e-21+1.415036e-20j -1.321275e-18+1.498606e-18j   \n",
       "597 -2.949652e-22-1.327073e-21j  2.643906e-19+1.619193e-19j   \n",
       "598  2.319900e-21-4.607569e-20j  5.814250e-19+1.688636e-18j   \n",
       "599 -9.220975e-22+1.132375e-21j -4.822744e-19-8.346886e-20j   \n",
       "\n",
       "                           5                           6     \\\n",
       "0    1.693110e-12+2.149270e-12j -1.634429e-12+7.406914e-13j   \n",
       "1   -9.047569e-10-1.248239e-09j  9.366055e-12-4.300022e-12j   \n",
       "2    1.474718e-06+2.005167e-06j -1.427986e-06+6.623891e-07j   \n",
       "3   -2.876580e-08-3.908890e-08j  3.919999e-08-1.819526e-08j   \n",
       "4    1.335534e-07+1.814973e-07j -3.588061e-07+1.665076e-07j   \n",
       "..                          ...                         ...   \n",
       "595 -3.595863e-19-9.976123e-21j -5.189869e-20+9.620604e-20j   \n",
       "596 -1.954886e-19-3.001474e-20j  1.711970e-19-1.969234e-19j   \n",
       "597  4.473816e-20+1.379112e-21j -2.561762e-21-3.919249e-20j   \n",
       "598 -4.949344e-19-7.596828e-20j -1.750025e-20-7.584900e-19j   \n",
       "599 -7.750829e-22-8.992639e-21j  1.944978e-20+7.625103e-21j   \n",
       "\n",
       "                           7                           8     \\\n",
       "0   -2.068904e-05+6.834684e-06j  4.104200e-06-1.294154e-06j   \n",
       "1   -1.015440e-08+3.360970e-09j -1.020468e-07+3.223552e-08j   \n",
       "2    2.819558e-10-9.437465e-11j  3.440673e-08-1.099199e-08j   \n",
       "3    1.130429e-07-3.785325e-08j  1.389696e-05-4.441337e-06j   \n",
       "4    4.353787e-08-1.458069e-08j  5.351776e-06-1.710582e-06j   \n",
       "..                          ...                         ...   \n",
       "595  4.571299e-30+2.531905e-31j  5.233327e-19+1.762093e-19j   \n",
       "596  1.939108e-32-1.584163e-31j  1.968668e-18-3.770785e-18j   \n",
       "597 -3.315082e-31-1.261769e-32j -2.008037e-20+1.867051e-19j   \n",
       "598 -1.283325e-32-1.113963e-33j  7.553932e-19+1.962043e-18j   \n",
       "599  1.601089e-31+4.109818e-33j -8.063363e-20-2.948306e-19j   \n",
       "\n",
       "                           9     ...                        4464  \\\n",
       "0   -1.240423e-07+2.530572e-08j  ... -2.199274e-09+5.104503e-07j   \n",
       "1    1.498559e-07-3.062445e-08j  ...  1.098032e-07+4.920720e-06j   \n",
       "2   -4.850261e-08+1.002033e-08j  ...  1.434858e-10+5.655947e-09j   \n",
       "3   -1.957485e-05+4.045472e-06j  ... -1.991551e-09-7.990668e-08j   \n",
       "4   -7.538165e-06+1.558150e-06j  ... -1.478537e-09-5.838082e-08j   \n",
       "..                          ...  ...                         ...   \n",
       "595  2.102453e-17+1.143617e-16j  ... -1.735236e-18-2.007752e-10j   \n",
       "596  8.336738e-17-1.495935e-15j  ...  1.244267e-19+4.178180e-20j   \n",
       "597 -2.921208e-17+2.541432e-17j  ...  8.091632e-20+7.775414e-11j   \n",
       "598  2.092420e-16-5.105808e-15j  ...  4.789121e-20-6.913304e-21j   \n",
       "599  1.347276e-17+1.601077e-17j  ... -4.265073e-20-2.201415e-11j   \n",
       "\n",
       "                           4465                        4466  \\\n",
       "0    1.076695e-11-2.485793e-09j  4.666928e-06+2.019370e-08j   \n",
       "1   -5.393415e-10-5.536432e-08j  9.253939e-05-1.009872e-06j   \n",
       "2   -7.202724e-13-6.322261e-11j  1.048245e-07-1.334272e-09j   \n",
       "3    9.999556e-12+1.302652e-10j -3.368201e-07+1.851863e-08j   \n",
       "4    7.422576e-12+3.494650e-10j -6.273132e-07+1.374640e-08j   \n",
       "..                          ...                         ...   \n",
       "595 -1.050308e-15+5.701997e-07j -1.023188e-03+6.907902e-17j   \n",
       "596 -4.495632e-16-6.304813e-17j  3.989514e-15+6.356878e-15j   \n",
       "597 -2.418278e-16-4.875437e-07j  1.301602e-03+4.129931e-17j   \n",
       "598 -1.133356e-14-6.659458e-17j  4.230369e-16-2.762217e-14j   \n",
       "599  5.856996e-16+3.517326e-07j -1.499906e-03-2.900105e-17j   \n",
       "\n",
       "                           4467                        4468  \\\n",
       "0    4.328456e-07+1.864862e-09j -2.186656e-09+5.075356e-07j   \n",
       "1    4.150989e-06-9.326139e-08j  1.091711e-07+4.859116e-06j   \n",
       "2    4.822498e-09-1.231561e-10j  1.426417e-10+5.585519e-09j   \n",
       "3   -6.885907e-08+1.709986e-09j -1.979832e-09-7.972553e-08j   \n",
       "4   -5.007564e-08+1.269517e-09j -1.469838e-09-5.797718e-08j   \n",
       "..                          ...                         ...   \n",
       "595 -5.283337e-03-7.276812e-14j  2.230363e-17-1.350409e-06j   \n",
       "596  2.245924e-14+3.620716e-14j -9.443463e-18+4.568203e-18j   \n",
       "597  6.714842e-03-5.713871e-15j  1.252222e-18+1.155466e-06j   \n",
       "598  1.673165e-15-1.562743e-13j  3.226230e-17+2.511396e-19j   \n",
       "599 -7.734334e-03+1.246826e-14j -1.669401e-18-8.338925e-07j   \n",
       "\n",
       "                           4469                        4470  \\\n",
       "0    6.646762e-12-1.536114e-09j -9.650666e-06+8.850895e-10j   \n",
       "1   -3.329558e-10-3.051034e-08j  2.326715e-02-2.060482e-08j   \n",
       "2   -4.446394e-13-3.492835e-11j  2.559831e-05-2.068316e-10j   \n",
       "3    6.173015e-12+1.122709e-10j  1.990210e-04-7.936212e-10j   \n",
       "4    4.582362e-12+2.091186e-10j -4.134538e-05-1.598155e-09j   \n",
       "..                          ...                         ...   \n",
       "595  4.556334e-17+1.544986e-03j  2.455487e-15-8.597726e-16j   \n",
       "596  1.226268e-14-1.714077e-15j  5.204019e-16+1.514102e-16j   \n",
       "597  7.602711e-17-2.919329e-03j  1.246849e-15-1.060178e-16j   \n",
       "598 -6.527432e-14-1.273209e-15j  5.094212e-17+2.157966e-16j   \n",
       "599  4.526513e-17+5.369120e-03j -1.173702e-15+2.013429e-16j   \n",
       "\n",
       "                           4471                        4472  \\\n",
       "0    2.265180e-07-1.174822e-11j  5.954583e-12+1.146874e-07j   \n",
       "1   -5.399473e-04+4.017068e-11j -2.167467e-11-2.729207e-04j   \n",
       "2   -5.854448e-07+4.173447e-12j -2.080117e-12-2.927903e-07j   \n",
       "3   -4.549930e-06+2.629919e-11j -1.315662e-11-2.274680e-06j   \n",
       "4    9.448957e-07+4.255487e-11j -2.127997e-11+4.723825e-07j   \n",
       "..                          ...                         ...   \n",
       "595  2.835261e-15-1.612738e-15j  1.268358e-19+2.352628e-19j   \n",
       "596  1.374962e-15-1.023247e-15j  4.181374e-18+1.068069e-19j   \n",
       "597  3.294414e-15-5.337119e-17j -1.229886e-19+2.473848e-19j   \n",
       "598 -8.281468e-17-7.314471e-15j  2.603223e-19-2.041121e-20j   \n",
       "599 -3.792788e-15+3.492257e-16j -6.568663e-20-1.296482e-19j   \n",
       "\n",
       "                           4473  \n",
       "0    6.748624e-13+7.356489e-09j  \n",
       "1   -1.564397e-11-1.776578e-05j  \n",
       "2   -1.592671e-13-1.975454e-08j  \n",
       "3   -6.126711e-13-1.536419e-07j  \n",
       "4   -1.234309e-12+3.191864e-08j  \n",
       "..                          ...  \n",
       "595 -3.006560e-15-8.524832e-15j  \n",
       "596  6.808671e-16-2.339220e-15j  \n",
       "597 -5.508120e-16-6.478988e-15j  \n",
       "598  1.179567e-15-2.781177e-16j  \n",
       "599  1.669378e-15+9.729371e-15j  \n",
       "\n",
       "[600 rows x 4474 columns]"
      ]
     },
     "execution_count": 106,
     "metadata": {},
     "output_type": "execute_result"
    }
   ],
   "source": [
    "modes_vectors = pd.DataFrame(modes)\n",
    "modes_vectors.to_csv('modes_vectors.csv')\n",
    "modes_vectors"
   ]
  },
  {
   "cell_type": "code",
   "execution_count": null,
   "id": "66891e87",
   "metadata": {},
   "outputs": [],
   "source": []
  }
 ],
 "metadata": {
  "kernelspec": {
   "display_name": "Python 3 (ipykernel)",
   "language": "python",
   "name": "python3"
  },
  "language_info": {
   "codemirror_mode": {
    "name": "ipython",
    "version": 3
   },
   "file_extension": ".py",
   "mimetype": "text/x-python",
   "name": "python",
   "nbconvert_exporter": "python",
   "pygments_lexer": "ipython3",
   "version": "3.9.7"
  },
  "toc": {
   "base_numbering": 1,
   "nav_menu": {},
   "number_sections": true,
   "sideBar": true,
   "skip_h1_title": false,
   "title_cell": "Table of Contents",
   "title_sidebar": "Contents",
   "toc_cell": false,
   "toc_position": {
    "height": "calc(100% - 180px)",
    "left": "10px",
    "top": "150px",
    "width": "165px"
   },
   "toc_section_display": true,
   "toc_window_display": true
  }
 },
 "nbformat": 4,
 "nbformat_minor": 5
}
