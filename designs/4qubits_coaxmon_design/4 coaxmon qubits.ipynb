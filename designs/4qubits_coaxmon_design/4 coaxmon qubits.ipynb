{
 "cells": [
  {
   "cell_type": "markdown",
   "metadata": {},
   "source": [
    "# Import design libraries"
   ]
  },
  {
   "cell_type": "code",
   "execution_count": 1,
   "metadata": {
    "ExecuteTime": {
     "end_time": "2020-09-06T10:17:16.449804Z",
     "start_time": "2020-09-06T10:17:16.445814Z"
    }
   },
   "outputs": [],
   "source": [
    "import sys\n",
    "sys.path.append('..')"
   ]
  },
  {
   "cell_type": "code",
   "execution_count": 2,
   "metadata": {
    "ExecuteTime": {
     "end_time": "2020-09-06T10:17:17.766979Z",
     "start_time": "2020-09-06T10:17:17.600892Z"
    }
   },
   "outputs": [],
   "source": [
    "import gdspy\n",
    "import numpy as np\n",
    "from importlib import reload\n",
    "from copy import deepcopy\n",
    "from QCreator import elements\n",
    "from QCreator import general_sample_creator as creator\n",
    "from QCreator import meshing"
   ]
  },
  {
   "cell_type": "markdown",
   "metadata": {},
   "source": [
    "# Specify constants, everything in microns"
   ]
  },
  {
   "cell_type": "code",
   "execution_count": 3,
   "metadata": {
    "ExecuteTime": {
     "end_time": "2020-09-06T10:17:18.718772Z",
     "start_time": "2020-09-06T10:17:18.714784Z"
    }
   },
   "outputs": [],
   "source": [
    "tl_core = 10\n",
    "tl_gap = 10\n",
    "tl_ground = 20"
   ]
  },
  {
   "cell_type": "markdown",
   "metadata": {},
   "source": [
    "# Sample generation"
   ]
  },
  {
   "cell_type": "markdown",
   "metadata": {},
   "source": [
    "## borders with pads"
   ]
  },
  {
   "cell_type": "code",
   "execution_count": 4,
   "metadata": {},
   "outputs": [],
   "source": [
    "reload(gdspy)\n",
    "layers_configuration={\n",
    "    'total':0,\n",
    "    'restricted area':10,\n",
    "    'for removing':100,\n",
    "    'JJs':1,\n",
    "    'flux lines':6,\n",
    "    'air bridges':2,\n",
    "    'air bridge pads':3,\n",
    "    'vertical gridlines':15,\n",
    "    'horizontal gridlines':16\n",
    "}\n",
    "sample = creator.Sample('4_qubits',layers_configuration)\n",
    "\n",
    "#specify sample vertical and horizontal lengths\n",
    "sample.chip_geometry.sample_vertical_size=4.7e3\n",
    "sample.chip_geometry.sample_horizontal_size=4.7e3\n",
    "chip_edge_ground = elements.ChipEdgeGround(sample.chip_geometry, sample.layer_configuration, sample.pads)\n",
    "sample.add(chip_edge_ground)\n",
    "\n",
    "#specify pads for the sample\n",
    "\n",
    "p1 = elements.Pad('p1', (810,  2350), np.pi, tl_core, tl_gap, tl_ground, \n",
    "                  layer_configuration=sample.layer_configuration, chip_geometry=sample.chip_geometry, \n",
    "                  **elements.default_pad_geometry())\n",
    "p2 = elements.Pad('p2', (1111,770),  -np.pi/2, 4, 4, 4,\n",
    "                 layer_configuration=sample.layer_configuration, chip_geometry=sample.chip_geometry, \n",
    "                  **elements.default_pad_geometry())\n",
    "p3 = elements.Pad('p3', (3111,770),  -np.pi/2, tl_core, tl_gap, tl_ground,\n",
    "                 layer_configuration=sample.layer_configuration, chip_geometry=sample.chip_geometry, \n",
    "                  **elements.default_pad_geometry())                  \n",
    "p4 = elements.Pad('p4', (3930,  2350),  0, tl_core, tl_gap, tl_ground,\n",
    "                 layer_configuration=sample.layer_configuration, chip_geometry=sample.chip_geometry, \n",
    "                  **elements.default_pad_geometry())\n",
    "p5 = elements.Pad('p5', (2300,4000),  np.pi/2, tl_core, tl_gap, tl_ground,\n",
    "                 layer_configuration=sample.layer_configuration, chip_geometry=sample.chip_geometry, \n",
    "                  **elements.default_pad_geometry())\n",
    "                  \n",
    "sample.add(p1)\n",
    "sample.add(p2)\n",
    "sample.add(p3)\n",
    "sample.add(p4)\n",
    "sample.add(p5)\n",
    "\n"
   ]
  },
  {
   "cell_type": "code",
   "execution_count": 5,
   "metadata": {
    "ExecuteTime": {
     "end_time": "2020-09-06T10:17:19.778056Z",
     "start_time": "2020-09-06T10:17:19.662594Z"
    }
   },
   "outputs": [],
   "source": [
    "##########################################################################3\n",
    "# add coaxmons\n",
    "shift=-1/10\n",
    "phi1=1/5\n",
    "Couplers2q=[elements.coaxmon.CoaxmonCoupler(arc_start=-1/6-1/100+shift,arc_finish=-3/6+1/100+shift,phi=-1/2,\n",
    "                                          coupler_type=None, w =10),\n",
    "          elements.coaxmon.CoaxmonCoupler(arc_start=1/6+1/100+shift,arc_finish=3/6-1/100+shift,phi=phi1,\n",
    "                                          coupler_type='coupler', w =4,g=4),# for resonator\n",
    "          elements.coaxmon.CoaxmonCoupler(arc_start=3/6+1/100+shift,arc_finish=5/6-1/100+shift,phi=1/2, \n",
    "                                          coupler_type='coupler', w =10,g=40), #one upper\n",
    "          elements.coaxmon.CoaxmonCoupler(arc_start=-1/6+1/100+1+shift,arc_finish=1/6-1/100+1+shift,phi=1,\n",
    "                                          coupler_type=None, w =10),\n",
    "          elements.coaxmon.CoaxmonCoupler(arc_start=-1/6+1/100+shift,arc_finish=1/6-1/100+shift,phi=0,\n",
    "                                          coupler_type='coupler', w =10,g=40),\n",
    "          elements.coaxmon.CoaxmonCoupler(arc_start=-5/6+1/100+shift,arc_finish=-3/6-1/100+shift,phi=1,\n",
    "                                          coupler_type='grounded',w=4,g=4)\n",
    "]\n",
    "\n",
    "\n",
    "jj_coaxmon = {'a1':30,\n",
    "               'b1':0.8,\n",
    "               'a2':0.45,\n",
    "               'b2':0.243,\n",
    "               'c1':0.243,\n",
    "               'c2':10,\n",
    "               'angle_qubit':-np.pi/2-np.pi/3,\n",
    "               'angle_JJ': 0,\n",
    "               'length':10,\n",
    "               'width':4}\n",
    "# add coaxmons 1st line\n",
    "coaxmon= elements.coaxmon.Coaxmon(name='Coaxmon',center=(1750+1000*0,1750+1000*0),\n",
    "                          center_radius = 100,\n",
    "                          inner_couplers_radius = 140,\n",
    "                          outer_couplers_radius = 200,\n",
    "                          inner_ground_radius = 230,\n",
    "                          outer_ground_radius = 250,\n",
    "                          layer_configuration = sample.layer_configuration,\n",
    "                          Couplers=Couplers2q,jj_params= jj_coaxmon,transformations={})\n",
    "\n",
    "sample.add(coaxmon)\n",
    "coaxmon= elements.coaxmon.Coaxmon(name='Coaxmon',center=(1750+1000*1,1750+1000*0),\n",
    "                          center_radius = 100,\n",
    "                          inner_couplers_radius = 140,\n",
    "                          outer_couplers_radius = 200,\n",
    "                          inner_ground_radius = 230,\n",
    "                          outer_ground_radius = 250,\n",
    "                          layer_configuration = sample.layer_configuration,\n",
    "                          Couplers=Couplers2q,jj_params= jj_coaxmon,\n",
    "                                  transformations={'mirror':[(1750+1000*1,1750+1000*0),(1750+1000*1,1750+1000*0+10)]})\n",
    "\n",
    "sample.add(coaxmon)\n",
    "# add coaxmons 2nd line\n",
    "coaxmon= elements.coaxmon.Coaxmon(name='Coaxmon',center=(1750+1000*0,1750+1000*1),\n",
    "                          center_radius = 100,\n",
    "                          inner_couplers_radius = 140,\n",
    "                          outer_couplers_radius = 200,\n",
    "                          inner_ground_radius = 230,\n",
    "                          outer_ground_radius = 250,\n",
    "                          layer_configuration = sample.layer_configuration,\n",
    "                          Couplers=Couplers2q,jj_params= jj_coaxmon,\n",
    "                                  transformations={'mirror':[(1750+1000*0,1750+1000*1),(1750+1000*0+10,1750+1000*1)]})\n",
    "\n",
    "sample.add(coaxmon)\n",
    "coaxmon= elements.coaxmon.Coaxmon(name='Coaxmon',center=(1750+1000*1,1750+1000*1),\n",
    "                          center_radius = 100,\n",
    "                          inner_couplers_radius = 140,\n",
    "                          outer_couplers_radius = 200,\n",
    "                          inner_ground_radius = 230,\n",
    "                          outer_ground_radius = 250,\n",
    "                          layer_configuration = sample.layer_configuration,\n",
    "                          Couplers=Couplers2q,jj_params= jj_coaxmon,\n",
    "                                  transformations={'rotate':[np.pi,(1750+1000*1,1750+1000*1)]})\n",
    "\n",
    "sample.add(coaxmon)\n",
    "sample.draw_design()"
   ]
  },
  {
   "cell_type": "code",
   "execution_count": 6,
   "metadata": {},
   "outputs": [
    {
     "ename": "ValueError",
     "evalue": "Too short segment in line to round corner with given radius",
     "output_type": "error",
     "traceback": [
      "\u001b[1;31m---------------------------------------------------------------------------\u001b[0m",
      "\u001b[1;31mValueError\u001b[0m                                Traceback (most recent call last)",
      "\u001b[1;32m<ipython-input-6-70117514d32a>\u001b[0m in \u001b[0;36m<module>\u001b[1;34m\u001b[0m\n\u001b[0;32m    109\u001b[0m \u001b[0mstart_port\u001b[0m \u001b[1;33m=\u001b[0m \u001b[1;34m'port'\u001b[0m\u001b[1;33m\u001b[0m\u001b[1;33m\u001b[0m\u001b[0m\n\u001b[0;32m    110\u001b[0m \u001b[0mstart_element_position\u001b[0m \u001b[1;33m=\u001b[0m \u001b[0mstart_element\u001b[0m\u001b[1;33m.\u001b[0m\u001b[0mget_terminals\u001b[0m\u001b[1;33m(\u001b[0m\u001b[1;33m)\u001b[0m\u001b[1;33m[\u001b[0m\u001b[0mstart_port\u001b[0m\u001b[1;33m]\u001b[0m\u001b[1;33m.\u001b[0m\u001b[0mposition\u001b[0m\u001b[1;33m\u001b[0m\u001b[1;33m\u001b[0m\u001b[0m\n\u001b[1;32m--> 111\u001b[1;33m sample.connect_cpw(end_element, start_element, end_port, 'port', 'flux line', \n\u001b[0m\u001b[0;32m    112\u001b[0m                    \u001b[1;33m[\u001b[0m\u001b[0mend_element_position\u001b[0m\u001b[1;33m]\u001b[0m\u001b[1;33m+\u001b[0m\u001b[0msample\u001b[0m\u001b[1;33m.\u001b[0m\u001b[0mcpw_shift\u001b[0m\u001b[1;33m(\u001b[0m\u001b[0mend_element\u001b[0m\u001b[1;33m,\u001b[0m\u001b[0mend_port\u001b[0m\u001b[1;33m,\u001b[0m\u001b[1;36m300\u001b[0m\u001b[1;33m)\u001b[0m\u001b[1;33m+\u001b[0m\u001b[0;31m\\\u001b[0m\u001b[1;33m\u001b[0m\u001b[1;33m\u001b[0m\u001b[0m\n\u001b[0;32m    113\u001b[0m                    \u001b[0msample\u001b[0m\u001b[1;33m.\u001b[0m\u001b[0mcpw_shift\u001b[0m\u001b[1;33m(\u001b[0m\u001b[0mstart_element\u001b[0m\u001b[1;33m,\u001b[0m\u001b[0mstart_port\u001b[0m\u001b[1;33m,\u001b[0m\u001b[1;36m200\u001b[0m\u001b[1;33m)\u001b[0m \u001b[1;33m+\u001b[0m \u001b[1;33m[\u001b[0m\u001b[0mstart_element_position\u001b[0m\u001b[1;33m]\u001b[0m\u001b[1;33m\u001b[0m\u001b[1;33m\u001b[0m\u001b[0m\n",
      "\u001b[1;32mD:\\Documents-cloud\\qubits\\simulation\\QCreator\\QCreator\\general_sample_creator.py\u001b[0m in \u001b[0;36mconnect_cpw\u001b[1;34m(self, o1, o2, port1, port2, name, points)\u001b[0m\n\u001b[0;32m    149\u001b[0m         \u001b[0mpoints\u001b[0m \u001b[1;33m=\u001b[0m \u001b[1;33m[\u001b[0m\u001b[0mt1\u001b[0m\u001b[1;33m.\u001b[0m\u001b[0mposition\u001b[0m\u001b[1;33m]\u001b[0m \u001b[1;33m+\u001b[0m \u001b[0mpoints\u001b[0m \u001b[1;33m+\u001b[0m \u001b[1;33m[\u001b[0m\u001b[0mt2\u001b[0m\u001b[1;33m.\u001b[0m\u001b[0mposition\u001b[0m\u001b[1;33m]\u001b[0m\u001b[1;33m\u001b[0m\u001b[1;33m\u001b[0m\u001b[0m\n\u001b[0;32m    150\u001b[0m \u001b[1;33m\u001b[0m\u001b[0m\n\u001b[1;32m--> 151\u001b[1;33m         cpw = elements.CPW(name, points, w, s, g, self.layer_configuration, r=self.default_cpw_radius(w, s, g),\n\u001b[0m\u001b[0;32m    152\u001b[0m                            corner_type='round', orientation1=orientation1, orientation2=orientation2)\n\u001b[0;32m    153\u001b[0m         \u001b[0mself\u001b[0m\u001b[1;33m.\u001b[0m\u001b[0madd\u001b[0m\u001b[1;33m(\u001b[0m\u001b[0mcpw\u001b[0m\u001b[1;33m)\u001b[0m\u001b[1;33m\u001b[0m\u001b[1;33m\u001b[0m\u001b[0m\n",
      "\u001b[1;32mD:\\Documents-cloud\\qubits\\simulation\\QCreator\\QCreator\\elements\\cpw.py\u001b[0m in \u001b[0;36m__init__\u001b[1;34m(self, name, points, w, s, g, layer_configuration, r, corner_type, orientation1, orientation2)\u001b[0m\n\u001b[0;32m    201\u001b[0m                  \u001b[0mlayer_configuration\u001b[0m\u001b[1;33m:\u001b[0m \u001b[0mLayerConfiguration\u001b[0m\u001b[1;33m,\u001b[0m \u001b[0mr\u001b[0m\u001b[1;33m:\u001b[0m \u001b[0mfloat\u001b[0m\u001b[1;33m,\u001b[0m \u001b[0mcorner_type\u001b[0m\u001b[1;33m:\u001b[0m \u001b[0mstr\u001b[0m \u001b[1;33m=\u001b[0m \u001b[1;34m'round'\u001b[0m\u001b[1;33m,\u001b[0m\u001b[1;33m\u001b[0m\u001b[1;33m\u001b[0m\u001b[0m\n\u001b[0;32m    202\u001b[0m                  orientation1: float = None, orientation2: float = None):\n\u001b[1;32m--> 203\u001b[1;33m         \u001b[0msuper\u001b[0m\u001b[1;33m(\u001b[0m\u001b[1;33m)\u001b[0m\u001b[1;33m.\u001b[0m\u001b[0m__init__\u001b[0m\u001b[1;33m(\u001b[0m\u001b[0mname\u001b[0m\u001b[1;33m,\u001b[0m \u001b[0mpoints\u001b[0m\u001b[1;33m,\u001b[0m \u001b[1;33m[\u001b[0m\u001b[0mw\u001b[0m\u001b[1;33m]\u001b[0m\u001b[1;33m,\u001b[0m \u001b[1;33m[\u001b[0m\u001b[0ms\u001b[0m\u001b[1;33m,\u001b[0m \u001b[0ms\u001b[0m\u001b[1;33m]\u001b[0m\u001b[1;33m,\u001b[0m \u001b[0mg\u001b[0m\u001b[1;33m,\u001b[0m \u001b[0mlayer_configuration\u001b[0m\u001b[1;33m,\u001b[0m \u001b[0mr\u001b[0m\u001b[1;33m,\u001b[0m \u001b[0mcorner_type\u001b[0m\u001b[1;33m,\u001b[0m \u001b[0morientation1\u001b[0m\u001b[1;33m,\u001b[0m \u001b[0morientation2\u001b[0m\u001b[1;33m)\u001b[0m\u001b[1;33m\u001b[0m\u001b[1;33m\u001b[0m\u001b[0m\n\u001b[0m\u001b[0;32m    204\u001b[0m \u001b[1;33m\u001b[0m\u001b[0m\n\u001b[0;32m    205\u001b[0m         \u001b[0mself\u001b[0m\u001b[1;33m.\u001b[0m\u001b[0mterminals\u001b[0m\u001b[1;33m[\u001b[0m\u001b[1;34m'port1'\u001b[0m\u001b[1;33m]\u001b[0m\u001b[1;33m.\u001b[0m\u001b[0mtype\u001b[0m \u001b[1;33m=\u001b[0m \u001b[1;34m'cpw'\u001b[0m\u001b[1;33m\u001b[0m\u001b[1;33m\u001b[0m\u001b[0m\n",
      "\u001b[1;32mD:\\Documents-cloud\\qubits\\simulation\\QCreator\\QCreator\\elements\\cpw.py\u001b[0m in \u001b[0;36m__init__\u001b[1;34m(self, name, points, w, s, g, layer_configuration, r, corner_type, orientation1, orientation2)\u001b[0m\n\u001b[0;32m     54\u001b[0m \u001b[1;33m\u001b[0m\u001b[0m\n\u001b[0;32m     55\u001b[0m         \u001b[0mself\u001b[0m\u001b[1;33m.\u001b[0m\u001b[0msegments\u001b[0m \u001b[1;33m=\u001b[0m \u001b[1;33m[\u001b[0m\u001b[1;33m]\u001b[0m\u001b[1;33m\u001b[0m\u001b[1;33m\u001b[0m\u001b[0m\n\u001b[1;32m---> 56\u001b[1;33m         \u001b[0mself\u001b[0m\u001b[1;33m.\u001b[0m\u001b[0mfinalize_points\u001b[0m\u001b[1;33m(\u001b[0m\u001b[1;33m)\u001b[0m\u001b[1;33m\u001b[0m\u001b[1;33m\u001b[0m\u001b[0m\n\u001b[0m\u001b[0;32m     57\u001b[0m \u001b[1;33m\u001b[0m\u001b[0m\n\u001b[0;32m     58\u001b[0m     \u001b[1;32mdef\u001b[0m \u001b[0mfinalize_points\u001b[0m\u001b[1;33m(\u001b[0m\u001b[0mself\u001b[0m\u001b[1;33m)\u001b[0m\u001b[1;33m:\u001b[0m\u001b[1;33m\u001b[0m\u001b[1;33m\u001b[0m\u001b[0m\n",
      "\u001b[1;32mD:\\Documents-cloud\\qubits\\simulation\\QCreator\\QCreator\\elements\\cpw.py\u001b[0m in \u001b[0;36mfinalize_points\u001b[1;34m(self)\u001b[0m\n\u001b[0;32m    116\u001b[0m \u001b[1;33m\u001b[0m\u001b[0m\n\u001b[0;32m    117\u001b[0m                 \u001b[1;32mif\u001b[0m \u001b[0mreplaced_length\u001b[0m \u001b[1;33m>\u001b[0m \u001b[0mlength1\u001b[0m \u001b[1;32mor\u001b[0m \u001b[0mreplaced_length\u001b[0m \u001b[1;33m>\u001b[0m \u001b[0mlength2\u001b[0m\u001b[1;33m:\u001b[0m\u001b[1;33m\u001b[0m\u001b[1;33m\u001b[0m\u001b[0m\n\u001b[1;32m--> 118\u001b[1;33m                     \u001b[1;32mraise\u001b[0m \u001b[0mValueError\u001b[0m\u001b[1;33m(\u001b[0m\u001b[1;34m'Too short segment in line to round corner with given radius'\u001b[0m\u001b[1;33m)\u001b[0m\u001b[1;33m\u001b[0m\u001b[1;33m\u001b[0m\u001b[0m\n\u001b[0m\u001b[0;32m    119\u001b[0m \u001b[1;33m\u001b[0m\u001b[0m\n\u001b[0;32m    120\u001b[0m                 \u001b[0mself\u001b[0m\u001b[1;33m.\u001b[0m\u001b[0msegments\u001b[0m\u001b[1;33m.\u001b[0m\u001b[0mappend\u001b[0m\u001b[1;33m(\u001b[0m\u001b[1;33m{\u001b[0m\u001b[1;34m'type'\u001b[0m\u001b[1;33m:\u001b[0m \u001b[1;34m'segment'\u001b[0m\u001b[1;33m,\u001b[0m \u001b[1;34m'endpoint'\u001b[0m\u001b[1;33m:\u001b[0m \u001b[0mreplaced_point1\u001b[0m\u001b[1;33m}\u001b[0m\u001b[1;33m)\u001b[0m\u001b[1;33m\u001b[0m\u001b[1;33m\u001b[0m\u001b[0m\n",
      "\u001b[1;31mValueError\u001b[0m: Too short segment in line to round corner with given radius"
     ]
    }
   ],
   "source": [
    "jj_coupler = {'indent':40,\n",
    "               'a1':0.243,\n",
    "               'a2':0.243,\n",
    "               'angle': 0}\n",
    "fluxline_parameters_vertical={'w':4,\n",
    "                's':4,\n",
    "                'g':4,\n",
    "                'length_x':20,\n",
    "                'length_y':25,\n",
    "                'width':4}\n",
    "fluxline_parameters_horizontal={'w':4,\n",
    "                's':4,\n",
    "                'g':4,\n",
    "                'length':30,\n",
    "                'width':4}\n",
    "\n",
    "squid_coupler = {'a1':5,\n",
    "               'b1':0.8,\n",
    "               'a2':0.45,\n",
    "               'b2':0.243,\n",
    "               'c1':0.243,\n",
    "               'c2':10,\n",
    "               'angle':0,\n",
    "               'point':((sample.qubits[0].get_terminals()['coupler4'].position[0]+\n",
    "                         sample.qubits[1].get_terminals()['coupler4'].position[0])/2,\n",
    "                        (sample.qubits[0].get_terminals()['coupler4'].position[1]+\n",
    "                         sample.qubits[1].get_terminals()['coupler4'].position[1])/2-5  ),\n",
    "                 'removing':{'left':9,'right':20,'up':0,'down':40}\n",
    "                }\n",
    "# 1st horizontal line of couplers\n",
    "coupler = elements.tqcoupler.MMCoupler('coupler',qubit1=sample.qubits[0],coupler1_name='coupler4',\n",
    "                                       qubit2=sample.qubits[1],coupler2_name='coupler4',\n",
    "                                       core = 10,\n",
    "                                       gap = 25,\n",
    "                                       ground = 20,\n",
    "                                       layer_configuration = sample.layer_configuration,\n",
    "                                        jj_params=jj_coupler,squid_params=squid_coupler,fluxline=fluxline_parameters_horizontal)\n",
    "sample.add(coupler)\n",
    "# 2st horizontal line of couplers\n",
    "squid_coupler = {'a1':5,\n",
    "               'b1':0.8,\n",
    "               'a2':0.45,\n",
    "               'b2':0.243,\n",
    "               'c1':0.243,\n",
    "               'c2':10,\n",
    "               'angle':np.pi,\n",
    "                'point':((sample.qubits[2].get_terminals()['coupler4'].position[0]+\n",
    "                         sample.qubits[3].get_terminals()['coupler4'].position[0])/2,\n",
    "                        (sample.qubits[2].get_terminals()['coupler4'].position[1]+\n",
    "                         sample.qubits[3].get_terminals()['coupler4'].position[1])/2+5),\n",
    "                 'removing':{'left':10,'right':17,'up':0,'down':40}}\n",
    "coupler = elements.tqcoupler.MMCoupler('coupler',qubit1=sample.qubits[2],coupler1_name='coupler4',\n",
    "                                       qubit2=sample.qubits[3],coupler2_name='coupler4',\n",
    "                               core = 10,\n",
    "                               gap = 25,\n",
    "                               ground = 20,\n",
    "                               layer_configuration = sample.layer_configuration,\n",
    "                                jj_params=jj_coupler,squid_params=squid_coupler,fluxline=fluxline_parameters_horizontal)\n",
    "sample.add(coupler)\n",
    "# 1st vertical line of couplers\n",
    "squid_coupler = {'a1':5,\n",
    "               'b1':0.8,\n",
    "               'a2':0.45,\n",
    "               'b2':0.243,\n",
    "               'c1':0.243,\n",
    "               'c2':10,\n",
    "               'angle':0,\n",
    "               'side':'left',\n",
    "                'point':((sample.qubits[0].get_terminals()['coupler2'].position[0]+\n",
    "                         sample.qubits[2].get_terminals()['coupler2'].position[0])/2-25,\n",
    "                        (sample.qubits[0].get_terminals()['coupler2'].position[1]+\n",
    "                         sample.qubits[2].get_terminals()['coupler2'].position[1])/2  ),\n",
    "                 'removing':{'left':30,'right':0,'up':10,'down':40}}\n",
    "coupler = elements.tqcoupler.MMCoupler('coupler',qubit1=sample.qubits[0],coupler1_name='coupler2',\n",
    "                                       qubit2=sample.qubits[2],coupler2_name='coupler2',\n",
    "                               core = 10,\n",
    "                               gap = 25,\n",
    "                               ground = 30,\n",
    "                               layer_configuration = sample.layer_configuration,\n",
    "                                jj_params=jj_coupler,squid_params=squid_coupler,fluxline=fluxline_parameters_vertical)\n",
    "sample.add(coupler)\n",
    "squid_coupler = {'a1':5,\n",
    "               'b1':0.8,\n",
    "               'a2':0.45,\n",
    "               'b2':0.243,\n",
    "               'c1':0.243,\n",
    "               'c2':10,\n",
    "               'angle':0,\n",
    "               'side':'right',\n",
    "               'point':((sample.qubits[1].get_terminals()['coupler2'].position[0]+\n",
    "                         sample.qubits[3].get_terminals()['coupler2'].position[0])/2+25,\n",
    "                        (sample.qubits[1].get_terminals()['coupler2'].position[1]+\n",
    "                         sample.qubits[3].get_terminals()['coupler2'].position[1])/2  ),\n",
    "                 'removing':{'left':0,'right':30,'up':10,'down':40}}\n",
    "\n",
    "coupler = elements.tqcoupler.MMCoupler('coupler',qubit1=sample.qubits[1],coupler1_name='coupler2',\n",
    "                                       qubit2=sample.qubits[3],coupler2_name='coupler2',\n",
    "                               core = 10,\n",
    "                               gap = 25,\n",
    "                               ground = 30,\n",
    "                               layer_configuration = sample.layer_configuration,\n",
    "                                jj_params=jj_coupler,squid_params=squid_coupler,fluxline=fluxline_parameters_vertical)\n",
    "sample.add(coupler)\n",
    "sample.draw_design()\n",
    "end_element = sample.couplers[3]\n",
    "end_port = 'flux line'\n",
    "end_element_position = end_element.get_terminals()[end_port].position\n",
    "start_element = p2\n",
    "start_port = 'port'\n",
    "start_element_position = start_element.get_terminals()[start_port].position\n",
    "sample.connect_cpw(end_element, start_element, end_port, 'port', 'flux line', \n",
    "                   [end_element_position]+sample.cpw_shift(end_element,end_port,300)+\\\n",
    "                   sample.cpw_shift(start_element,start_port,200) + [start_element_position]\n",
    "                  )\n",
    "sample.draw_design()"
   ]
  },
  {
   "cell_type": "code",
   "execution_count": 8,
   "metadata": {},
   "outputs": [],
   "source": [
    "sample.watch()"
   ]
  },
  {
   "cell_type": "code",
   "execution_count": 10,
   "metadata": {},
   "outputs": [
    {
     "name": "stdout",
     "output_type": "stream",
     "text": [
      "Gds file has been writen here:  E:\\Github\\QcreatorWMI\\QCreator\\example_notebooks\\4_qubits.gds\n"
     ]
    }
   ],
   "source": [
    "sample.write_to_gds()"
   ]
  },
  {
   "cell_type": "code",
   "execution_count": null,
   "metadata": {},
   "outputs": [],
   "source": []
  },
  {
   "cell_type": "code",
   "execution_count": null,
   "metadata": {},
   "outputs": [],
   "source": []
  },
  {
   "cell_type": "code",
   "execution_count": null,
   "metadata": {},
   "outputs": [],
   "source": []
  },
  {
   "cell_type": "code",
   "execution_count": null,
   "metadata": {},
   "outputs": [],
   "source": []
  },
  {
   "cell_type": "code",
   "execution_count": null,
   "metadata": {},
   "outputs": [],
   "source": [
    "\n",
    "\n",
    "\n",
    "\n",
    "\n",
    "########################################################################\n",
    "# sample.draw_design()\n",
    "# # #if we want to use reference cell then:\n",
    "# # points=[(1750,1750),(3000,1750),(3000,3000),(1750,3000)]\n",
    "# # angles=[0,180,180,0]\n",
    "# # mirrors=[False,True,False,True]\n",
    "# # for point,angle,mirror in zip(points,angles,mirrors):\n",
    "# #     sample.total_cell.add(gdspy.CellReference(sample.qubit_cell,point,rotation=angle,x_reflection=mirror))\n",
    "\n",
    "# end_element = sample.qubits[0]\n",
    "# end_port = 'flux line'\n",
    "# end_element_position = end_element.get_terminals()[end_port].position\n",
    "# start_element = p3\n",
    "# start_port = 'port'\n",
    "# start_element_position = start_element.get_terminals()[start_port].position\n",
    "# sample.connect_cpw(end_element, start_element, end_port, 'port', 'flux line', \n",
    "#                    [end_element_position]+sample.cpw_shift(end_element,end_port,200)+\\\n",
    "#                    sample.cpw_shift(start_element,start_port,100) + [start_element_position]\n",
    "#                   )\n",
    "\n",
    "# # end_element = sample.qubits[1]\n",
    "# # end_port = 'flux line'\n",
    "# # end_element_position = end_element.get_terminals()[end_port].position\n",
    "# # start_element = p4\n",
    "# # start_port = 'port'\n",
    "# # start_element_position = start_element.get_terminals()[start_port].position\n",
    "# # sample.connect_cpw(end_element, start_element, end_port, 'port', 'flux line', \n",
    "# #                    [end_element_position]+sample.cpw_shift(end_element,end_port,200)+\\\n",
    "# #                    sample.cpw_shift(start_element,start_port,100) + [start_element_position]\n",
    "# #                   )\n",
    "\n",
    "# # resonator = elements.resonators.RoundResonator('res',9.9e9 ,(2000,2000) ,\n",
    "# #                                w = 7,\n",
    "# #                                s = 4,\n",
    "# #                                g = 4,\n",
    "# #                                coupler_length = 200,open_end_length=500,layer_configuration = sample.layer_configuration,\n",
    "# #                                l1=100, l2=150, l3=100,l4 =200 ,l5=100, h_end=10, r=15)\n",
    "# # sample.add(resonator)\n",
    "\n",
    "\n",
    "# jj_coupler = {'indent':40,\n",
    "#                'a1':0.243,\n",
    "#                'a2':0.243,\n",
    "#                'angle': 0}\n",
    "\n",
    "# squid_coupler = {'a1':5,\n",
    "#                'b1':0.8,\n",
    "#                'a2':0.45,\n",
    "#                'b2':0.243,\n",
    "#                'c1':0.243,\n",
    "#                'c2':10,\n",
    "#                'angle':0}\n",
    "# coupler = elements.tqcoupler.MMCoupler('coupler',sample.qubits[0].get_terminals()['coupler4'].position,\n",
    "#                                                 sample.qubits[1].get_terminals()['coupler4'].position ,\n",
    "#                                w = 10,\n",
    "#                                s = 25,\n",
    "#                                g = 20,\n",
    "#                                layer_configuration = sample.layer_configuration,\n",
    "#                                 jj_params=jj_coupler,squid_params=squid_coupler)\n",
    "# sample.add(coupler)\n",
    "\n",
    "# coupler = elements.tqcoupler.MMCoupler('coupler',sample.qubits[0].get_terminals()['coupler2'].position,\n",
    "#                                                 sample.qubits[2].get_terminals()['coupler2'].position ,\n",
    "#                                w = 10,\n",
    "#                                s = 25,\n",
    "#                                g = 20,\n",
    "#                                layer_configuration = sample.layer_configuration,\n",
    "#                                 jj_params=jj_coupler,squid_params=squid_coupler)\n",
    "# sample.add(coupler)\n",
    "# coupler = elements.tqcoupler.MMCoupler('coupler',sample.qubits[1].get_terminals()['coupler2'].position,\n",
    "#                                                 sample.qubits[3].get_terminals()['coupler2'].position ,\n",
    "#                                w = 10,\n",
    "#                                s = 25,\n",
    "#                                g = 10,\n",
    "#                                layer_configuration = sample.layer_configuration,\n",
    "#                                 jj_params=jj_coupler,squid_params={})\n",
    "# sample.add(coupler)\n",
    "\n",
    "# coupler = elements.tqcoupler.MMCoupler('coupler',sample.qubits[2].get_terminals()['coupler4'].position,\n",
    "#                                                 sample.qubits[3].get_terminals()['coupler4'].position ,\n",
    "#                                w = 10,\n",
    "#                                s = 25,\n",
    "#                                g = 10,\n",
    "#                                layer_configuration = sample.layer_configuration,\n",
    "#                                 jj_params=jj_coupler,squid_params={})\n",
    "# sample.add(coupler)\n",
    "\n",
    "\n",
    "\n",
    "# end_element = sample.qubits[1]\n",
    "# end_port = 'coupler1'\n",
    "# end_element_position = end_element.get_terminals()[end_port].position\n",
    "# start_element = p3\n",
    "# start_port = 'port'\n",
    "# start_element_position = start_element.get_terminals()[start_port].position\n",
    "# sample.connect_cpw(end_element, start_element, end_port, 'port', 'flux line', \n",
    "#                    [end_element_position]+sample.cpw_shift(end_element,end_port,200)+\\\n",
    "#                    sample.cpw_shift(start_element,start_port,100) + [start_element_position]\n",
    "#                   )\n",
    "# sample.connect_cpw(end_element, start_element, end_port, 'port', 'flux line', \n",
    "#                    [end_element_position]+sample.cpw_shift(end_element,end_port,200)+\\\n",
    "#                    sample.cpw_shift(start_element,start_port,100) + [start_element_position]\n",
    "#                   )\n",
    "\n",
    "sample.draw_design()\n",
    "\n",
    "# to see all reference cells\n",
    "# sample.total_cell.flatten()"
   ]
  },
  {
   "cell_type": "markdown",
   "metadata": {},
   "source": [
    "# some working functions which i dont need to use now"
   ]
  },
  {
   "cell_type": "code",
   "execution_count": 18,
   "metadata": {},
   "outputs": [
    {
     "name": "stdout",
     "output_type": "stream",
     "text": [
      "Gds file has been writen here:  E:\\Github\\QcreatorWMI\\QCreator\\example_notebooks\\4_qubits.gds\n",
      "For 0 conductor total length is:  51016\n",
      "For 1 conductor total length is:  6060\n",
      "For 2 conductor total length is:  7917\n",
      "For 3 conductor total length is:  8086\n",
      "For 4 conductor total length is:  8038\n",
      "Sum : 81117\n",
      "Data has been written into the file: E:\\Github\\QcreatorWMI\\QCreator\\example_notebooks\\mesh_4k_data\n",
      "Time for fastcap job is:  19.030499696731567\n",
      "Capacitance results have been writen here:  E:\\Github\\QcreatorWMI\\QCreator\\example_notebooks\\mesh_4k_results\n",
      "Capacitance value in:  nanofarads\n"
     ]
    },
    {
     "data": {
      "text/html": [
       "<div>\n",
       "<style scoped>\n",
       "    .dataframe tbody tr th:only-of-type {\n",
       "        vertical-align: middle;\n",
       "    }\n",
       "\n",
       "    .dataframe tbody tr th {\n",
       "        vertical-align: top;\n",
       "    }\n",
       "\n",
       "    .dataframe thead th {\n",
       "        text-align: right;\n",
       "    }\n",
       "</style>\n",
       "<table border=\"1\" class=\"dataframe\">\n",
       "  <thead>\n",
       "    <tr style=\"text-align: right;\">\n",
       "      <th></th>\n",
       "      <th>0</th>\n",
       "      <th>1</th>\n",
       "      <th>2</th>\n",
       "      <th>3</th>\n",
       "      <th>4</th>\n",
       "    </tr>\n",
       "  </thead>\n",
       "  <tbody>\n",
       "    <tr>\n",
       "      <th>0</th>\n",
       "      <td>0.15102</td>\n",
       "      <td>-0.01173</td>\n",
       "      <td>-0.01655</td>\n",
       "      <td>-0.02274</td>\n",
       "      <td>-0.02270</td>\n",
       "    </tr>\n",
       "    <tr>\n",
       "      <th>1</th>\n",
       "      <td>-0.01173</td>\n",
       "      <td>0.02563</td>\n",
       "      <td>-0.00260</td>\n",
       "      <td>-0.00263</td>\n",
       "      <td>-0.00262</td>\n",
       "    </tr>\n",
       "    <tr>\n",
       "      <th>2</th>\n",
       "      <td>-0.01655</td>\n",
       "      <td>-0.00260</td>\n",
       "      <td>0.04026</td>\n",
       "      <td>-0.00669</td>\n",
       "      <td>-0.00674</td>\n",
       "    </tr>\n",
       "    <tr>\n",
       "      <th>3</th>\n",
       "      <td>-0.02274</td>\n",
       "      <td>-0.00263</td>\n",
       "      <td>-0.00669</td>\n",
       "      <td>0.04062</td>\n",
       "      <td>-0.00066</td>\n",
       "    </tr>\n",
       "    <tr>\n",
       "      <th>4</th>\n",
       "      <td>-0.02270</td>\n",
       "      <td>-0.00262</td>\n",
       "      <td>-0.00674</td>\n",
       "      <td>-0.00066</td>\n",
       "      <td>0.04062</td>\n",
       "    </tr>\n",
       "  </tbody>\n",
       "</table>\n",
       "</div>"
      ],
      "text/plain": [
       "         0        1        2        3        4\n",
       "0  0.15102 -0.01173 -0.01655 -0.02274 -0.02270\n",
       "1 -0.01173  0.02563 -0.00260 -0.00263 -0.00262\n",
       "2 -0.01655 -0.00260  0.04026 -0.00669 -0.00674\n",
       "3 -0.02274 -0.00263 -0.00669  0.04062 -0.00066\n",
       "4 -0.02270 -0.00262 -0.00674 -0.00066  0.04062"
      ]
     },
     "execution_count": 18,
     "metadata": {},
     "output_type": "execute_result"
    }
   ],
   "source": [
    "sample.calculate_qubit_capacitance(cell= sample.qubit_cap_cell,\n",
    "                                   mesh_volume=2)"
   ]
  },
  {
   "cell_type": "markdown",
   "metadata": {},
   "source": [
    "# Playground"
   ]
  },
  {
   "cell_type": "code",
   "execution_count": 14,
   "metadata": {},
   "outputs": [],
   "source": [
    "sys, connections = sample.get_tls()"
   ]
  },
  {
   "cell_type": "code",
   "execution_count": 15,
   "metadata": {
    "scrolled": true
   },
   "outputs": [
    {
     "data": {
      "text/plain": [
       "array([[ 1.e+00+0.j,  0.e+00+0.j,  0.e+00+0.j,  0.e+00+0.j,  0.e+00+0.j,\n",
       "         0.e+00+0.j,  5.e+01+0.j,  0.e+00+0.j,  0.e+00+0.j,  0.e+00+0.j],\n",
       "       [ 0.e+00+0.j,  0.e+00+0.j, -1.e+00+0.j,  0.e+00+0.j,  0.e+00+0.j,\n",
       "         0.e+00+0.j,  1.e+00+0.j,  0.e+00+0.j,  0.e+00+0.j,  0.e+00+0.j],\n",
       "       [ 0.e+00+0.j,  1.e+00+0.j,  0.e+00+0.j,  0.e+00+0.j,  0.e+00+0.j,\n",
       "         0.e+00+0.j,  0.e+00+0.j,  5.e+01+0.j,  0.e+00+0.j,  0.e+00+0.j],\n",
       "       [ 0.e+00+0.j,  0.e+00+0.j,  0.e+00+0.j, -1.e+00+0.j,  0.e+00+0.j,\n",
       "         0.e+00+0.j,  0.e+00+0.j,  1.e+00+0.j,  0.e+00+0.j,  0.e+00+0.j],\n",
       "       [ 1.e+00+0.j,  0.e+00+0.j,  0.e+00+0.j,  0.e+00+0.j,  0.e+00+0.j,\n",
       "         0.e+00+0.j,  0.e+00+0.j,  0.e+00+0.j, -1.e+00+0.j,  1.e+00+0.j],\n",
       "       [ 0.e+00+0.j,  1.e+00+0.j,  0.e+00+0.j,  0.e+00+0.j,  0.e+00+0.j,\n",
       "         0.e+00+0.j,  0.e+00+0.j,  0.e+00+0.j, -1.e+00+0.j,  1.e+00+0.j],\n",
       "       [ 0.e+00+0.j,  0.e+00+0.j,  0.e+00+0.j,  0.e+00+0.j,  1.e+00+0.j,\n",
       "         0.e+00+0.j,  0.e+00+0.j,  0.e+00+0.j,  2.e-02+0.j,  2.e-02+0.j],\n",
       "       [ 0.e+00+0.j,  0.e+00+0.j,  0.e+00+0.j,  0.e+00+0.j,  0.e+00+0.j,\n",
       "         1.e+00+0.j,  0.e+00+0.j,  0.e+00+0.j, -2.e-02+0.j, -2.e-02+0.j],\n",
       "       [ 0.e+00+0.j,  0.e+00+0.j,  1.e+00+0.j,  0.e+00+0.j,  1.e+00+0.j,\n",
       "         0.e+00+0.j,  0.e+00+0.j,  0.e+00+0.j,  0.e+00+0.j,  0.e+00+0.j],\n",
       "       [ 0.e+00+0.j,  0.e+00+0.j,  0.e+00+0.j,  1.e+00+0.j,  0.e+00+0.j,\n",
       "         1.e+00+0.j,  0.e+00+0.j,  0.e+00+0.j,  0.e+00+0.j,  0.e+00+0.j]])"
      ]
     },
     "execution_count": 15,
     "metadata": {},
     "output_type": "execute_result"
    }
   ],
   "source": [
    "np.round(sys.create_boundary_problem_matrix(1e9), 2)"
   ]
  },
  {
   "cell_type": "code",
   "execution_count": 16,
   "metadata": {},
   "outputs": [
    {
     "data": {
      "text/plain": [
       "{(<libraries.elements.cpw.CPW at 0x1c1a22b0070>, 'port1'): 1,\n",
       " (<libraries.elements.pad.Pad at 0x1c1a21065e0>, 'port'): 1,\n",
       " (<libraries.elements.cpw.CPW at 0x1c1a22b0070>, 'port2'): 2,\n",
       " (<libraries.elements.pad.Pad at 0x1c1a0a1b520>, 'port'): 2}"
      ]
     },
     "execution_count": 16,
     "metadata": {},
     "output_type": "execute_result"
    }
   ],
   "source": [
    "connections"
   ]
  },
  {
   "cell_type": "markdown",
   "metadata": {},
   "source": [
    "## Feedline"
   ]
  },
  {
   "cell_type": "code",
   "execution_count": 5,
   "metadata": {
    "ExecuteTime": {
     "end_time": "2020-08-18T09:08:16.905070Z",
     "start_time": "2020-08-18T09:08:16.891177Z"
    }
   },
   "outputs": [],
   "source": [
    "points = [p1.position, p2.position]\n",
    "#sample.generate_line('feedline', deepcopy(points), tl_core, tl_gap, tl_ground, None)\n",
    "#('feedline', points, tl_core, tl_gap, tl_ground, sample.layer_configuration, R = 20)\n",
    "sample.add(gdf.CPW('feedline', points, tl_core, tl_gap, tl_ground, None, sample.layer_configuration, R = 100))"
   ]
  },
  {
   "cell_type": "code",
   "execution_count": 6,
   "metadata": {
    "ExecuteTime": {
     "end_time": "2020-08-18T09:08:17.166689Z",
     "start_time": "2020-08-18T09:08:17.139110Z"
    }
   },
   "outputs": [],
   "source": [
    "feedline_bridge_params=creator.Bridges_over_line_param(distance=500, offset=30,\n",
    "                    width=15, length=42, padsize=30, line_type=None)\n",
    "\n",
    "#sample.generate_array_of_bridges(deepcopy(points),feedline_bridge_params)"
   ]
  },
  {
   "cell_type": "code",
   "execution_count": 7,
   "metadata": {},
   "outputs": [
    {
     "name": "stderr",
     "output_type": "stream",
     "text": [
      "<ipython-input-2-1fe8b7b94d80>:1: DeprecationWarning: [GDSPY] Use of the global library is deprecated.  Pass LayoutViewer a GdsLibrary instance.\n",
      "  watch=lambda: gdspy.LayoutViewer(depth=0,pattern={'default': 8},background='#FFFFFF') #this opens a viewer\n"
     ]
    },
    {
     "data": {
      "text/plain": [
       "<gdspy.viewer.LayoutViewer object .!layoutviewer>"
      ]
     },
     "execution_count": 7,
     "metadata": {},
     "output_type": "execute_result"
    }
   ],
   "source": [
    "#sample.finish_him()\n",
    "sample.draw_design()\n",
    "watch()"
   ]
  },
  {
   "cell_type": "code",
   "execution_count": 93,
   "metadata": {},
   "outputs": [
    {
     "data": {
      "text/plain": [
       "{'positive': <gdspy.polygon.PolygonSet at 0x213f036d880>,\n",
       " 'restrict': <gdspy.polygon.PolygonSet at 0x213f036d7c0>,\n",
       " 'remove': <gdspy.polygon.PolygonSet at 0x213f036d580>}"
      ]
     },
     "execution_count": 93,
     "metadata": {},
     "output_type": "execute_result"
    }
   ],
   "source": [
    "sample.objects[3].get()"
   ]
  },
  {
   "cell_type": "markdown",
   "metadata": {},
   "source": [
    "## Resonators"
   ]
  },
  {
   "cell_type": "code",
   "execution_count": 15,
   "metadata": {
    "ExecuteTime": {
     "end_time": "2020-08-18T09:08:17.810027Z",
     "start_time": "2020-08-18T09:08:17.803495Z"
    }
   },
   "outputs": [],
   "source": [
    "ratio=0.04 # to have 100th quality factor\n",
    "def coupler_length(frequency, ratio):\n",
    "    c = 299792458\n",
    "    epsilon_eff = (11.45+1)/2\n",
    "    return c/(4*np.sqrt(epsilon_eff)*frequency)*ratio*1e6"
   ]
  },
  {
   "cell_type": "code",
   "execution_count": 16,
   "metadata": {
    "ExecuteTime": {
     "end_time": "2020-08-18T09:08:18.404361Z",
     "start_time": "2020-08-18T09:08:18.388344Z"
    }
   },
   "outputs": [
    {
     "data": {
      "text/plain": [
       "240.31507815012677"
      ]
     },
     "execution_count": 16,
     "metadata": {},
     "output_type": "execute_result"
    }
   ],
   "source": [
    "coupler_length(5e9,ratio)"
   ]
  },
  {
   "cell_type": "code",
   "execution_count": 17,
   "metadata": {
    "ExecuteTime": {
     "end_time": "2020-08-18T09:08:19.340266Z",
     "start_time": "2020-08-18T09:08:19.015709Z"
    }
   },
   "outputs": [
    {
     "ename": "TypeError",
     "evalue": "'Pads' object is not subscriptable",
     "output_type": "error",
     "traceback": [
      "\u001b[1;31m---------------------------------------------------------------------------\u001b[0m",
      "\u001b[1;31mTypeError\u001b[0m                                 Traceback (most recent call last)",
      "\u001b[1;32m<ipython-input-17-514a41c64ed1>\u001b[0m in \u001b[0;36m<module>\u001b[1;34m\u001b[0m\n\u001b[0;32m     20\u001b[0m \u001b[0mfreqs\u001b[0m\u001b[1;33m=\u001b[0m\u001b[0mnp\u001b[0m\u001b[1;33m.\u001b[0m\u001b[0mlinspace\u001b[0m\u001b[1;33m(\u001b[0m\u001b[0mstart_freq\u001b[0m\u001b[1;33m,\u001b[0m\u001b[0mstop_freq\u001b[0m\u001b[1;33m,\u001b[0m\u001b[0mnum\u001b[0m\u001b[1;33m)\u001b[0m\u001b[1;33m\u001b[0m\u001b[1;33m\u001b[0m\u001b[0m\n\u001b[0;32m     21\u001b[0m \u001b[1;33m\u001b[0m\u001b[0m\n\u001b[1;32m---> 22\u001b[1;33m \u001b[1;32mfor\u001b[0m \u001b[0mstart\u001b[0m\u001b[1;33m,\u001b[0m\u001b[0mfinish\u001b[0m \u001b[1;32min\u001b[0m \u001b[1;33m[\u001b[0m\u001b[1;33m[\u001b[0m\u001b[0msample\u001b[0m\u001b[1;33m.\u001b[0m\u001b[0mpads\u001b[0m\u001b[1;33m[\u001b[0m\u001b[1;36m0\u001b[0m\u001b[1;33m]\u001b[0m\u001b[1;33m.\u001b[0m\u001b[0mcoordinate\u001b[0m\u001b[1;33m,\u001b[0m\u001b[0msample\u001b[0m\u001b[1;33m.\u001b[0m\u001b[0mpads\u001b[0m\u001b[1;33m[\u001b[0m\u001b[1;36m1\u001b[0m\u001b[1;33m]\u001b[0m\u001b[1;33m.\u001b[0m\u001b[0mcoordinate\u001b[0m\u001b[1;33m]\u001b[0m\u001b[1;33m]\u001b[0m\u001b[1;33m:\u001b[0m\u001b[1;33m\u001b[0m\u001b[1;33m\u001b[0m\u001b[0m\n\u001b[0m\u001b[0;32m     23\u001b[0m     \u001b[1;32mif\u001b[0m \u001b[0mfinish\u001b[0m\u001b[1;33m[\u001b[0m\u001b[1;36m0\u001b[0m\u001b[1;33m]\u001b[0m \u001b[1;33m-\u001b[0m \u001b[0mstart\u001b[0m\u001b[1;33m[\u001b[0m\u001b[1;36m0\u001b[0m\u001b[1;33m]\u001b[0m \u001b[1;33m==\u001b[0m \u001b[1;36m0\u001b[0m\u001b[1;33m:\u001b[0m\u001b[1;33m\u001b[0m\u001b[1;33m\u001b[0m\u001b[0m\n\u001b[0;32m     24\u001b[0m         \u001b[0mline_angle\u001b[0m \u001b[1;33m=\u001b[0m \u001b[0mnp\u001b[0m\u001b[1;33m.\u001b[0m\u001b[0mpi\u001b[0m \u001b[1;33m/\u001b[0m \u001b[1;36m2\u001b[0m\u001b[1;33m\u001b[0m\u001b[1;33m\u001b[0m\u001b[0m\n",
      "\u001b[1;31mTypeError\u001b[0m: 'Pads' object is not subscriptable"
     ]
    }
   ],
   "source": [
    "import random\n",
    "open_end={\n",
    "    'type':'open',\n",
    "    'ground':4,\n",
    "    'gap':20,\n",
    "    'end':False,\n",
    "    'begin':True\n",
    "}\n",
    "\n",
    "bridge_params=creator.Bridges_over_line_param(distance=500, offset=30,\n",
    "                    width=15, length=42, padsize=30, line_type=None)\n",
    "\n",
    "\n",
    "distance=500\n",
    "offset=200\n",
    "\n",
    "start_freq = 5.0e9\n",
    "stop_freq = 11e9\n",
    "num=5\n",
    "freqs=np.linspace(start_freq,stop_freq,num)\n",
    "\n",
    "for start,finish in [[sample.pads[0].coordinate,sample.pads[1].coordinate]]:\n",
    "    if finish[0] - start[0] == 0:\n",
    "        line_angle = np.pi / 2\n",
    "    else:\n",
    "        line_angle = np.arctan((finish[1] - start[1]) / (finish[0] - start[0]))\n",
    "    if finish[1] - start[1] < 0 or finish[1] - start[1] == 0 and finish[0] - start[0] < 0:\n",
    "        line_angle += np.pi\n",
    "    line_length = np.sqrt((finish[0] - start[0]) ** 2 + (finish[1] - start[1]) ** 2)\n",
    "    total_bridges = int((line_length - 2 * offset) / distance)\n",
    "    offset = (line_length - total_bridges * float(distance)) / 2\n",
    "    print((int((line_length - 2 * offset) / distance) + 1)*2)\n",
    "    for num_bridge in range(int((line_length - 2 * offset) / distance) + 1):\n",
    "        resonator_center = (start[0] + np.cos(line_angle) * (offset + num_bridge * distance),\n",
    "                         start[1] + np.sin(line_angle) * (offset + num_bridge * distance))\n",
    "        freq_num=random.randint(0,len(freqs)-2)\n",
    "        sample.generate_round_resonator(freqs[freq_num] ,(deepcopy(resonator_center)[0],deepcopy(resonator_center)[1]-30) ,\n",
    "                               core = 7,\n",
    "                               gap = 4,\n",
    "                               ground = 4,\n",
    "                               open_end_length = 700,open_end=open_end,\n",
    "                               coupler_length = coupler_length(freqs[freq_num],ratio),\n",
    "                               l1=100, l2=200, l3=50,l4 =50 ,l5=400, h_end=10, \n",
    "                               corner_type='flush',angle=line_angle)\n",
    "        freqs=np.delete(freqs,freq_num)\n",
    "        freq_num=random.randint(0,len(freqs)-2)\n",
    "        sample.generate_round_resonator( freqs[freq_num],(deepcopy(resonator_center)[0],deepcopy(resonator_center)[1]+30),\n",
    "                               core = 7,\n",
    "                               gap = 4,\n",
    "                               ground = 4,\n",
    "                               open_end_length = 700,open_end=open_end,\n",
    "                               coupler_length = coupler_length(freqs[freq_num],ratio),\n",
    "                               l1=100, l2=200, l3=50,l4 =50 ,l5=400, h_end=10, \n",
    "                               corner_type='flush',angle=line_angle+np.pi)\n",
    "        freqs=np.delete(freqs,freq_num)"
   ]
  },
  {
   "cell_type": "markdown",
   "metadata": {
    "ExecuteTime": {
     "end_time": "2020-08-13T17:39:28.487072Z",
     "start_time": "2020-08-13T17:39:28.482088Z"
    }
   },
   "source": [
    "## Fill holes"
   ]
  },
  {
   "cell_type": "code",
   "execution_count": null,
   "metadata": {
    "ExecuteTime": {
     "end_time": "2020-08-17T11:01:25.917193Z",
     "start_time": "2020-08-17T11:01:25.913176Z"
    }
   },
   "outputs": [],
   "source": [
    "# sample.create_grid(20,20)"
   ]
  },
  {
   "cell_type": "code",
   "execution_count": null,
   "metadata": {
    "ExecuteTime": {
     "end_time": "2020-08-17T11:01:32.049511Z",
     "start_time": "2020-08-17T11:01:26.262865Z"
    }
   },
   "outputs": [],
   "source": [
    "sample.finish_him()\n",
    "watch()"
   ]
  },
  {
   "cell_type": "code",
   "execution_count": 27,
   "metadata": {
    "ExecuteTime": {
     "end_time": "2020-08-17T10:39:42.001958Z",
     "start_time": "2020-08-17T10:39:41.991940Z"
    }
   },
   "outputs": [],
   "source": [
    "gdspy.write_gds('4qubits.gds', cells=None, name='library', unit=1e-06, precision=1e-09, timestamp=None, binary_cells=None)"
   ]
  },
  {
   "cell_type": "markdown",
   "metadata": {},
   "source": [
    "# Resonator analysis"
   ]
  },
  {
   "cell_type": "code",
   "execution_count": 66,
   "metadata": {
    "ExecuteTime": {
     "end_time": "2020-08-17T16:32:48.134554Z",
     "start_time": "2020-08-17T16:32:34.442762Z"
    }
   },
   "outputs": [
    {
     "data": {
      "text/plain": [
       "<module 'libraries.Analys_resonator' from 'E:\\\\Github\\\\QCreator\\\\libraries\\\\Analys_resonator.py'>"
      ]
     },
     "execution_count": 66,
     "metadata": {},
     "output_type": "execute_result"
    }
   ],
   "source": [
    "import libraries.Analys_resonator\n",
    "reload(libraries.Analys_resonator)"
   ]
  },
  {
   "cell_type": "code",
   "execution_count": 35,
   "metadata": {
    "ExecuteTime": {
     "end_time": "2020-08-17T09:38:36.195766Z",
     "start_time": "2020-08-17T09:38:36.190920Z"
    }
   },
   "outputs": [],
   "source": [
    "Resonators=[]\n",
    "freqs=[]\n",
    "Qs=[]\n",
    "for resonator in sample.resonators:\n",
    "    Resonators.append(libraries.Analys_resonator.ResonatorAnalyser(resonator))\n",
    "    Resonators[-1].res.widths=[4,7,4,6,4,7,4]\n",
    "    Resonators[-1].get_conformal_tables(0,2)\n",
    "    f,q=Resonators[-1].simulate_S21()\n",
    "    freqs.append(f)\n",
    "    Qs.append(q)"
   ]
  },
  {
   "cell_type": "code",
   "execution_count": 40,
   "metadata": {
    "ExecuteTime": {
     "end_time": "2020-08-17T09:38:46.089502Z",
     "start_time": "2020-08-17T09:38:45.751111Z"
    }
   },
   "outputs": [
    {
     "data": {
      "image/png": "[encoded data removed]",
      "text/plain": [
       "<Figure size 1080x360 with 3 Axes>"
      ]
     },
     "metadata": {
      "needs_background": "light"
     },
     "output_type": "display_data"
    }
   ],
   "source": [
    "Resonators[0].plot_S21()"
   ]
  },
  {
   "cell_type": "code",
   "execution_count": 41,
   "metadata": {
    "ExecuteTime": {
     "end_time": "2020-08-17T09:38:47.902378Z",
     "start_time": "2020-08-17T09:38:47.855480Z"
    }
   },
   "outputs": [],
   "source": [
    "fitter=res.fit_S21()"
   ]
  },
  {
   "cell_type": "code",
   "execution_count": 42,
   "metadata": {
    "ExecuteTime": {
     "end_time": "2020-08-17T09:38:48.644499Z",
     "start_time": "2020-08-17T09:38:48.286121Z"
    }
   },
   "outputs": [
    {
     "data": {
      "image/png": "[encoded data removed]",
      "text/plain": [
       "<Figure size 720x720 with 3 Axes>"
      ]
     },
     "metadata": {
      "needs_background": "light"
     },
     "output_type": "display_data"
    }
   ],
   "source": [
    "from pylab import rcParams\n",
    "rcParams['figure.figsize'] = 10, 10\n",
    "fitter.plotall()"
   ]
  },
  {
   "cell_type": "code",
   "execution_count": 43,
   "metadata": {
    "ExecuteTime": {
     "end_time": "2020-08-17T09:38:50.624883Z",
     "start_time": "2020-08-17T09:38:50.619315Z"
    }
   },
   "outputs": [
    {
     "data": {
      "text/plain": [
       "{'Qi_dia_corr': 243075205860.25137,\n",
       " 'Qi_no_corr': 324562852293.27356,\n",
       " 'absQc': 87345.53104605802,\n",
       " 'Qc_dia_corr': 87345.53892619415,\n",
       " 'Ql': 87345.50753985673,\n",
       " 'fr': 8349874626.6699705,\n",
       " 'theta0': -3.141167930407307,\n",
       " 'phi0': 0.0004247774919163716,\n",
       " 'phi0_err': 0.02642655183422184,\n",
       " 'Ql_err': 55243.37968913675,\n",
       " 'absQc_err': 44.90265473554724,\n",
       " 'fr_err': 1261.3698213852558,\n",
       " 'chi_square': 6.841299201388535e-07,\n",
       " 'Qi_no_corr_err': 7.631203033108196e+17,\n",
       " 'Qi_dia_corr_err': 4.2802809141776154e+17}"
      ]
     },
     "execution_count": 43,
     "metadata": {},
     "output_type": "execute_result"
    }
   ],
   "source": [
    "fitter.fitresults"
   ]
  },
  {
   "cell_type": "code",
   "execution_count": 44,
   "metadata": {
    "ExecuteTime": {
     "end_time": "2020-08-17T09:38:51.179396Z",
     "start_time": "2020-08-17T09:38:51.171886Z"
    }
   },
   "outputs": [
    {
     "data": {
      "text/plain": [
       "(8.34987462666997, 1.2613698213852558e-06)"
      ]
     },
     "execution_count": 44,
     "metadata": {},
     "output_type": "execute_result"
    }
   ],
   "source": [
    "(fitter.fitresults['fr']/1e9,fitter.fitresults['fr_err']/1e9)"
   ]
  },
  {
   "cell_type": "code",
   "execution_count": 45,
   "metadata": {
    "ExecuteTime": {
     "end_time": "2020-08-17T09:38:51.566094Z",
     "start_time": "2020-08-17T09:38:51.560946Z"
    }
   },
   "outputs": [
    {
     "data": {
      "text/plain": [
       "(87345.50753985673, 55243.37968913675)"
      ]
     },
     "execution_count": 45,
     "metadata": {},
     "output_type": "execute_result"
    }
   ],
   "source": [
    "(fitter.fitresults['Ql'],fitter.fitresults['Ql_err'])"
   ]
  },
  {
   "cell_type": "code",
   "execution_count": null,
   "metadata": {},
   "outputs": [],
   "source": []
  }
 ],
 "metadata": {
  "kernelspec": {
   "display_name": "Python 3",
   "language": "python",
   "name": "python3"
  },
  "language_info": {
   "codemirror_mode": {
    "name": "ipython",
    "version": 3
   },
   "file_extension": ".py",
   "mimetype": "text/x-python",
   "name": "python",
   "nbconvert_exporter": "python",
   "pygments_lexer": "ipython3",
   "version": "3.8.5"
  },
  "toc": {
   "base_numbering": 1,
   "nav_menu": {},
   "number_sections": true,
   "sideBar": true,
   "skip_h1_title": false,
   "title_cell": "Table of Contents",
   "title_sidebar": "Contents",
   "toc_cell": false,
   "toc_position": {},
   "toc_section_display": true,
   "toc_window_display": false
  }
 },
 "nbformat": 4,
 "nbformat_minor": 4
}
