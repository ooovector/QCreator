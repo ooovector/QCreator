{
 "cells": [
  {
   "cell_type": "code",
   "execution_count": 6,
   "metadata": {},
   "outputs": [],
   "source": [
    "from importlib import reload\n",
    "import numpy as np\n",
    "from matplotlib import pyplot as plt\n",
    "import Single_qubit_design_PP_qubits as sqd\n",
    "import QCreator.auxiliary_functions as auxfuncs"
   ]
  },
  {
   "cell_type": "code",
   "execution_count": 7,
   "metadata": {},
   "outputs": [
    {
     "data": {
      "text/plain": [
       "<module 'Single_qubit_design_PP_qubits' from 'H:\\\\Github2.0\\\\QCreator\\\\designs\\\\Single_qubit_design_pp_qubits\\\\Single_qubits_fixed_mw_lines\\\\Single_qubit_design_PP_qubits.py'>"
      ]
     },
     "execution_count": 7,
     "metadata": {},
     "output_type": "execute_result"
    }
   ],
   "source": [
    "reload(sqd)"
   ]
  },
  {
   "cell_type": "code",
   "execution_count": 8,
   "metadata": {},
   "outputs": [],
   "source": [
    "sqd.sample.draw_design(True)\n",
    "sqd.sample.draw_terminals()\n",
    "sqd.sample.watch(True)"
   ]
  },
  {
   "cell_type": "markdown",
   "metadata": {},
   "source": [
    "# Draw a qubit design"
   ]
  },
  {
   "cell_type": "code",
   "execution_count": 4,
   "metadata": {},
   "outputs": [],
   "source": [
    "coupler_start_x,coupler_start_y = (1400,3000)\n",
    "grounding_width=10\n",
    "coupler_length=550"
   ]
  },
  {
   "cell_type": "code",
   "execution_count": 5,
   "metadata": {},
   "outputs": [
    {
     "ename": "ValueError",
     "evalue": "Too short segment in line to round corner with given radius",
     "output_type": "error",
     "traceback": [
      "\u001b[1;31m---------------------------------------------------------------------------\u001b[0m",
      "\u001b[1;31mValueError\u001b[0m                                Traceback (most recent call last)",
      "\u001b[1;32m~\\AppData\\Local\\Temp/ipykernel_9792/3392555996.py\u001b[0m in \u001b[0;36m<module>\u001b[1;34m\u001b[0m\n\u001b[1;32m----> 1\u001b[1;33m res_coupler_q1,res_q1_params = auxfuncs.draw_rounded_single_resonator_plus_qubit(sqd.sample,\n\u001b[0m\u001b[0;32m      2\u001b[0m                           \u001b[1;36m3000\u001b[0m\u001b[1;33m,\u001b[0m \u001b[0mcoupler_start_y\u001b[0m\u001b[1;33m,\u001b[0m \u001b[0mcoupler_length\u001b[0m\u001b[1;33m,\u001b[0m\u001b[1;33m\u001b[0m\u001b[1;33m\u001b[0m\u001b[0m\n\u001b[0;32m      3\u001b[0m                           \u001b[0msqd\u001b[0m\u001b[1;33m.\u001b[0m\u001b[0mresonator_core\u001b[0m\u001b[1;33m,\u001b[0m\u001b[0msqd\u001b[0m\u001b[1;33m.\u001b[0m\u001b[0mresonator_gap\u001b[0m\u001b[1;33m,\u001b[0m \u001b[0msqd\u001b[0m\u001b[1;33m.\u001b[0m\u001b[0mresonator_ground\u001b[0m\u001b[1;33m,\u001b[0m\u001b[1;33m\u001b[0m\u001b[1;33m\u001b[0m\u001b[0m\n\u001b[0;32m      4\u001b[0m                           \u001b[0msqd\u001b[0m\u001b[1;33m.\u001b[0m\u001b[0mtl_core\u001b[0m\u001b[1;33m,\u001b[0m \u001b[0msqd\u001b[0m\u001b[1;33m.\u001b[0m\u001b[0mtl_gap\u001b[0m\u001b[1;33m,\u001b[0m \u001b[0msqd\u001b[0m\u001b[1;33m.\u001b[0m\u001b[0mtl_ground\u001b[0m\u001b[1;33m,\u001b[0m \u001b[0msqd\u001b[0m\u001b[1;33m.\u001b[0m\u001b[0mresonator_tl_ground\u001b[0m\u001b[1;33m,\u001b[0m\u001b[1;33m\u001b[0m\u001b[1;33m\u001b[0m\u001b[0m\n\u001b[0;32m      5\u001b[0m                           \u001b[0mclosed_end_meander_length\u001b[0m\u001b[1;33m=\u001b[0m\u001b[1;36m3400\u001b[0m\u001b[1;33m,\u001b[0m \u001b[0mlength_left\u001b[0m\u001b[1;33m=\u001b[0m\u001b[1;36m1050\u001b[0m\u001b[1;33m,\u001b[0m \u001b[0mlength_right\u001b[0m\u001b[1;33m=\u001b[0m\u001b[1;36m340\u001b[0m\u001b[1;33m,\u001b[0m\u001b[1;33m\u001b[0m\u001b[1;33m\u001b[0m\u001b[0m\n",
      "\u001b[1;32mH:\\Github2.0\\QCreator\\designs\\Single_qubit_design_pp_qubits\\Single_qubits_fixed_mw_lines\\..\\..\\..\\QCreator\\auxiliary_functions.py\u001b[0m in \u001b[0;36mdraw_rounded_single_resonator_plus_qubit\u001b[1;34m(sample, coupler_start_x, coupler_start_y, coupler_length, resonator_core, resonator_gap, resonator_ground, tl_core, tl_gap, tl_ground, resonator_tl_ground, closed_end_meander_length, length_left, length_right, min_bridge_spacing, airbridge, object1, port, open_end_length, port_orientation, meander_orientation, direction_orientation, points_for_the_open_end, transmission)\u001b[0m\n\u001b[0;32m    667\u001b[0m         \u001b[0msample\u001b[0m\u001b[1;33m.\u001b[0m\u001b[0madd\u001b[0m\u001b[1;33m(\u001b[0m\u001b[0mobject1\u001b[0m\u001b[1;33m)\u001b[0m\u001b[1;33m\u001b[0m\u001b[1;33m\u001b[0m\u001b[0m\n\u001b[0;32m    668\u001b[0m     \u001b[1;32melse\u001b[0m\u001b[1;33m:\u001b[0m\u001b[1;33m\u001b[0m\u001b[1;33m\u001b[0m\u001b[0m\n\u001b[1;32m--> 669\u001b[1;33m         open_end = sample.connect_cpw(closed_end_meander[-1], object1, 'port2', port, name='right open end',\n\u001b[0m\u001b[0;32m    670\u001b[0m                                   points=points_for_the_open_end, airbridge=airbridge, min_spacing=min_bridge_spacing)\n\u001b[0;32m    671\u001b[0m         \u001b[0mtotal_length\u001b[0m\u001b[1;33m.\u001b[0m\u001b[0mappend\u001b[0m\u001b[1;33m(\u001b[0m\u001b[0msum\u001b[0m\u001b[1;33m(\u001b[0m\u001b[1;33m[\u001b[0m\u001b[0mline\u001b[0m\u001b[1;33m.\u001b[0m\u001b[0mlength\u001b[0m \u001b[1;32mfor\u001b[0m \u001b[0mline\u001b[0m \u001b[1;32min\u001b[0m \u001b[0mopen_end\u001b[0m\u001b[1;33m]\u001b[0m\u001b[1;33m)\u001b[0m\u001b[1;33m)\u001b[0m\u001b[1;33m\u001b[0m\u001b[1;33m\u001b[0m\u001b[0m\n",
      "\u001b[1;32mH:\\Github2.0\\QCreator\\designs\\Single_qubit_design_pp_qubits\\Single_qubits_fixed_mw_lines\\..\\..\\..\\QCreator\\general_sample_creator.py\u001b[0m in \u001b[0;36mconnect_cpw\u001b[1;34m(self, o1, o2, port1, port2, name, points, airbridge, min_spacing, r)\u001b[0m\n\u001b[0;32m    350\u001b[0m \u001b[1;33m\u001b[0m\u001b[0m\n\u001b[0;32m    351\u001b[0m         \u001b[0mpoints\u001b[0m \u001b[1;33m=\u001b[0m \u001b[1;33m[\u001b[0m\u001b[0mtuple\u001b[0m\u001b[1;33m(\u001b[0m\u001b[0mt1\u001b[0m\u001b[1;33m.\u001b[0m\u001b[0mposition\u001b[0m\u001b[1;33m)\u001b[0m\u001b[1;33m]\u001b[0m \u001b[1;33m+\u001b[0m \u001b[0mpoints\u001b[0m \u001b[1;33m+\u001b[0m \u001b[1;33m[\u001b[0m\u001b[0mtuple\u001b[0m\u001b[1;33m(\u001b[0m\u001b[0mt2\u001b[0m\u001b[1;33m.\u001b[0m\u001b[0mposition\u001b[0m\u001b[1;33m)\u001b[0m\u001b[1;33m]\u001b[0m\u001b[1;33m\u001b[0m\u001b[1;33m\u001b[0m\u001b[0m\n\u001b[1;32m--> 352\u001b[1;33m         cpw = elements.CPW(name, points, w, s, g, self.layer_configuration, r=r,\n\u001b[0m\u001b[0;32m    353\u001b[0m                            corner_type='round', orientation1=orientation1, orientation2=orientation2)\n\u001b[0;32m    354\u001b[0m \u001b[1;33m\u001b[0m\u001b[0m\n",
      "\u001b[1;32mH:\\Github2.0\\QCreator\\designs\\Single_qubit_design_pp_qubits\\Single_qubits_fixed_mw_lines\\..\\..\\..\\QCreator\\elements\\cpw.py\u001b[0m in \u001b[0;36m__init__\u001b[1;34m(self, name, points, w, s, g, layer_configuration, r, corner_type, orientation1, orientation2)\u001b[0m\n\u001b[0;32m    246\u001b[0m                  \u001b[0mlayer_configuration\u001b[0m\u001b[1;33m:\u001b[0m \u001b[0mLayerConfiguration\u001b[0m\u001b[1;33m,\u001b[0m \u001b[0mr\u001b[0m\u001b[1;33m:\u001b[0m \u001b[0mfloat\u001b[0m\u001b[1;33m,\u001b[0m \u001b[0mcorner_type\u001b[0m\u001b[1;33m:\u001b[0m \u001b[0mstr\u001b[0m \u001b[1;33m=\u001b[0m \u001b[1;34m'round'\u001b[0m\u001b[1;33m,\u001b[0m\u001b[1;33m\u001b[0m\u001b[1;33m\u001b[0m\u001b[0m\n\u001b[0;32m    247\u001b[0m                  orientation1: float = None, orientation2: float = None):\n\u001b[1;32m--> 248\u001b[1;33m         \u001b[0msuper\u001b[0m\u001b[1;33m(\u001b[0m\u001b[1;33m)\u001b[0m\u001b[1;33m.\u001b[0m\u001b[0m__init__\u001b[0m\u001b[1;33m(\u001b[0m\u001b[0mname\u001b[0m\u001b[1;33m,\u001b[0m \u001b[0mpoints\u001b[0m\u001b[1;33m,\u001b[0m \u001b[1;33m[\u001b[0m\u001b[0mw\u001b[0m\u001b[1;33m]\u001b[0m\u001b[1;33m,\u001b[0m \u001b[1;33m[\u001b[0m\u001b[0ms\u001b[0m\u001b[1;33m,\u001b[0m \u001b[0ms\u001b[0m\u001b[1;33m]\u001b[0m\u001b[1;33m,\u001b[0m \u001b[0mg\u001b[0m\u001b[1;33m,\u001b[0m \u001b[0mlayer_configuration\u001b[0m\u001b[1;33m,\u001b[0m \u001b[0mr\u001b[0m\u001b[1;33m,\u001b[0m \u001b[0mcorner_type\u001b[0m\u001b[1;33m,\u001b[0m \u001b[0morientation1\u001b[0m\u001b[1;33m,\u001b[0m \u001b[0morientation2\u001b[0m\u001b[1;33m)\u001b[0m\u001b[1;33m\u001b[0m\u001b[1;33m\u001b[0m\u001b[0m\n\u001b[0m\u001b[0;32m    249\u001b[0m \u001b[1;33m\u001b[0m\u001b[0m\n\u001b[0;32m    250\u001b[0m         \u001b[0mself\u001b[0m\u001b[1;33m.\u001b[0m\u001b[0mterminals\u001b[0m\u001b[1;33m[\u001b[0m\u001b[1;34m'port1'\u001b[0m\u001b[1;33m]\u001b[0m\u001b[1;33m.\u001b[0m\u001b[0mtype\u001b[0m \u001b[1;33m=\u001b[0m \u001b[1;34m'cpw'\u001b[0m\u001b[1;33m\u001b[0m\u001b[1;33m\u001b[0m\u001b[0m\n",
      "\u001b[1;32mH:\\Github2.0\\QCreator\\designs\\Single_qubit_design_pp_qubits\\Single_qubits_fixed_mw_lines\\..\\..\\..\\QCreator\\elements\\cpw.py\u001b[0m in \u001b[0;36m__init__\u001b[1;34m(self, name, points, w, s, g, layer_configuration, r, corner_type, orientation1, orientation2, kinetic_inductance)\u001b[0m\n\u001b[0;32m     59\u001b[0m \u001b[1;33m\u001b[0m\u001b[0m\n\u001b[0;32m     60\u001b[0m         \u001b[0mself\u001b[0m\u001b[1;33m.\u001b[0m\u001b[0msegments\u001b[0m \u001b[1;33m=\u001b[0m \u001b[1;33m[\u001b[0m\u001b[1;33m]\u001b[0m\u001b[1;33m\u001b[0m\u001b[1;33m\u001b[0m\u001b[0m\n\u001b[1;32m---> 61\u001b[1;33m         \u001b[0mself\u001b[0m\u001b[1;33m.\u001b[0m\u001b[0mfinalize_points\u001b[0m\u001b[1;33m(\u001b[0m\u001b[1;33m)\u001b[0m\u001b[1;33m\u001b[0m\u001b[1;33m\u001b[0m\u001b[0m\n\u001b[0m\u001b[0;32m     62\u001b[0m \u001b[1;33m\u001b[0m\u001b[0m\n\u001b[0;32m     63\u001b[0m     \u001b[1;32mdef\u001b[0m \u001b[0mfinalize_points\u001b[0m\u001b[1;33m(\u001b[0m\u001b[0mself\u001b[0m\u001b[1;33m)\u001b[0m\u001b[1;33m:\u001b[0m\u001b[1;33m\u001b[0m\u001b[1;33m\u001b[0m\u001b[0m\n",
      "\u001b[1;32mH:\\Github2.0\\QCreator\\designs\\Single_qubit_design_pp_qubits\\Single_qubits_fixed_mw_lines\\..\\..\\..\\QCreator\\elements\\cpw.py\u001b[0m in \u001b[0;36mfinalize_points\u001b[1;34m(self)\u001b[0m\n\u001b[0;32m    141\u001b[0m \u001b[1;33m\u001b[0m\u001b[0m\n\u001b[0;32m    142\u001b[0m                 \u001b[1;32mif\u001b[0m \u001b[0mreplaced_length\u001b[0m \u001b[1;33m>\u001b[0m \u001b[0mlength1\u001b[0m\u001b[1;33m+\u001b[0m\u001b[0meps\u001b[0m \u001b[1;32mor\u001b[0m \u001b[0mreplaced_length\u001b[0m \u001b[1;33m>\u001b[0m \u001b[0mlength2\u001b[0m\u001b[1;33m:\u001b[0m\u001b[1;33m\u001b[0m\u001b[1;33m\u001b[0m\u001b[0m\n\u001b[1;32m--> 143\u001b[1;33m                     \u001b[1;32mraise\u001b[0m \u001b[0mValueError\u001b[0m\u001b[1;33m(\u001b[0m\u001b[1;34m'Too short segment in line to round corner with given radius'\u001b[0m\u001b[1;33m)\u001b[0m\u001b[1;33m\u001b[0m\u001b[1;33m\u001b[0m\u001b[0m\n\u001b[0m\u001b[0;32m    144\u001b[0m \u001b[1;33m\u001b[0m\u001b[0m\n\u001b[0;32m    145\u001b[0m                 \u001b[1;32mif\u001b[0m \u001b[0mlength1\u001b[0m \u001b[1;33m-\u001b[0m \u001b[0mreplaced_length\u001b[0m \u001b[1;33m>\u001b[0m \u001b[0meps\u001b[0m\u001b[1;33m:\u001b[0m\u001b[1;33m\u001b[0m\u001b[1;33m\u001b[0m\u001b[0m\n",
      "\u001b[1;31mValueError\u001b[0m: Too short segment in line to round corner with given radius"
     ]
    }
   ],
   "source": [
    "res_coupler_q1,res_q1_params = auxfuncs.draw_rounded_single_resonator_plus_qubit(sqd.sample,\n",
    "                          3000, coupler_start_y, coupler_length,\n",
    "                          sqd.resonator_core,sqd.resonator_gap, sqd.resonator_ground,\n",
    "                          sqd.tl_core, sqd.tl_gap, sqd.tl_ground, sqd.resonator_tl_ground,\n",
    "                          closed_end_meander_length=3400, length_left=1050, length_right=340,\n",
    "                          min_bridge_spacing = None,\n",
    "                          airbridge = None, object1=sqd.sample.qubits[0], port='coupler0',\n",
    "                          open_end_length = 1000,\n",
    "                          port_orientation='right',meander_orientation='left', direction_orientation='up',\n",
    "                          points_for_the_open_end=[(sqd.sample.qubits[0].terminals['coupler0'].position[0],\n",
    "                                                    sqd.sample.qubits[0].terminals['coupler0'].position[1]-200)])"
   ]
  },
  {
   "cell_type": "code",
   "execution_count": null,
   "metadata": {},
   "outputs": [],
   "source": [
    "res_coupler_q6,res_q6_params = auxfuncs.draw_rounded_single_resonator_plus_qubit(sqd.sample,\n",
    "                          4800, coupler_start_y, coupler_length,\n",
    "                          sqd.resonator_core,sqd.resonator_gap, sqd.resonator_ground,\n",
    "                          sqd.tl_core, sqd.tl_gap, sqd.tl_ground, sqd.resonator_tl_ground,\n",
    "                          closed_end_meander_length=3200, length_left=850, length_right=250,\n",
    "                          min_bridge_spacing = None,\n",
    "                          airbridge = None, object1=sqd.sample.qubits[5], port='coupler0',\n",
    "                          open_end_length = 1000,\n",
    "                          port_orientation='right', direction_orientation='up',\n",
    "                          points_for_the_open_end=[(sqd.sample.qubits[5].terminals['coupler0'].position[0],\n",
    "                                                    sqd.sample.qubits[5].terminals['coupler0'].position[1]-200)])"
   ]
  },
  {
   "cell_type": "code",
   "execution_count": null,
   "metadata": {},
   "outputs": [],
   "source": [
    "res_coupler_q2,res_q2_params = auxfuncs.draw_rounded_single_resonator_plus_qubit(sqd.sample,\n",
    "                          5600, coupler_start_y, coupler_length,\n",
    "                          sqd.resonator_core,sqd.resonator_gap, sqd.resonator_ground,\n",
    "                          sqd.tl_core, sqd.tl_gap, sqd.tl_ground, sqd.resonator_tl_ground,\n",
    "                          closed_end_meander_length=3100, length_left=300, length_right=1000,\n",
    "                          min_bridge_spacing = None,\n",
    "                          airbridge = None, object1=sqd.sample.qubits[1], port='coupler0',\n",
    "                          open_end_length = 500,\n",
    "                          port_orientation='right', direction_orientation='up',\n",
    "                           points_for_the_open_end=[(sqd.sample.qubits[1].terminals['coupler0'].position[0],\n",
    "                                                     sqd.sample.qubits[1].terminals['coupler0'].position[1]-250)])"
   ]
  },
  {
   "cell_type": "code",
   "execution_count": null,
   "metadata": {},
   "outputs": [],
   "source": [
    "res_coupler_q3,res_q3_params = auxfuncs.draw_rounded_single_resonator_plus_qubit(sqd.sample,\n",
    "                          2350, coupler_start_y, coupler_length,\n",
    "                          sqd.resonator_core,sqd.resonator_gap, sqd.resonator_ground,\n",
    "                          sqd.tl_core, sqd.tl_gap, sqd.tl_ground, sqd.resonator_tl_ground,\n",
    "                          closed_end_meander_length=3100, length_left=800, length_right=650,\n",
    "                          min_bridge_spacing = None,\n",
    "                          airbridge = None, object1=sqd.sample.qubits[2], port='coupler0',\n",
    "                          open_end_length = 1000,\n",
    "                          port_orientation='right',meander_orientation='right', direction_orientation='down',\n",
    "                          points_for_the_open_end=[(sqd.sample.qubits[2].terminals['coupler0'].position[0],\n",
    "                                                    sqd.sample.qubits[2].terminals['coupler0'].position[1]+200)])"
   ]
  },
  {
   "cell_type": "code",
   "execution_count": null,
   "metadata": {},
   "outputs": [],
   "source": [
    "res_coupler_q5,res_q5_params = auxfuncs.draw_rounded_single_resonator_plus_qubit(sqd.sample,\n",
    "                          4000, coupler_start_y, coupler_length,\n",
    "                          sqd.resonator_core,sqd.resonator_gap, sqd.resonator_ground,\n",
    "                          sqd.tl_core, sqd.tl_gap, sqd.tl_ground, sqd.resonator_tl_ground,\n",
    "                          closed_end_meander_length=3020, length_left=1000, length_right=410,\n",
    "                          min_bridge_spacing = None,\n",
    "                          airbridge = None, object1=sqd.sample.qubits[4], port='coupler0',\n",
    "                          open_end_length = 1000,\n",
    "                          port_orientation='right',meander_orientation='left', direction_orientation='down',\n",
    "                          points_for_the_open_end=[(sqd.sample.qubits[4].terminals['coupler0'].position[0],\n",
    "                                                    sqd.sample.qubits[4].terminals['coupler0'].position[1]+200)])"
   ]
  },
  {
   "cell_type": "code",
   "execution_count": null,
   "metadata": {},
   "outputs": [],
   "source": [
    "res_coupler_q4,res_q4_params = auxfuncs.draw_rounded_single_resonator_plus_qubit(sqd.sample,\n",
    "                          6300, coupler_start_y, coupler_length,\n",
    "                          sqd.resonator_core,sqd.resonator_gap, sqd.resonator_ground,\n",
    "                          sqd.tl_core, sqd.tl_gap, sqd.tl_ground, sqd.resonator_tl_ground,\n",
    "                          closed_end_meander_length=2920, length_left=1000, length_right=410,\n",
    "                          min_bridge_spacing = None,\n",
    "                          airbridge = None, object1=sqd.sample.qubits[3], port='coupler0',\n",
    "                          open_end_length = 1000,\n",
    "                          port_orientation='right', meander_orientation='left',direction_orientation='down',\n",
    "                          points_for_the_open_end=[(sqd.sample.qubits[3].terminals['coupler0'].position[0],\n",
    "                                                    sqd.sample.qubits[3].terminals['coupler0'].position[1]+200)])"
   ]
  },
  {
   "cell_type": "markdown",
   "metadata": {},
   "source": [
    "# add test resonators"
   ]
  },
  {
   "cell_type": "code",
   "execution_count": null,
   "metadata": {},
   "outputs": [],
   "source": [
    "res_coupler_t1,res_t1_params = auxfuncs.draw_rounded_single_resonator(sqd.sample,\n",
    "                          1500, coupler_start_y, 25,\n",
    "                          sqd.resonator_core,sqd.resonator_gap, sqd.resonator_ground,\n",
    "                          sqd.tl_core, sqd.tl_gap, sqd.tl_ground, sqd.resonator_tl_ground,\n",
    "                          closed_end_meander_length=2700, length_left=200, length_right=200,\n",
    "                          min_bridge_spacing = None,\n",
    "                          airbridge = None,\n",
    "                          open_end_length = 150,\n",
    "                          port_orientation='left',meander_orientation='left', direction_orientation='up',transmission=True)"
   ]
  },
  {
   "cell_type": "code",
   "execution_count": null,
   "metadata": {},
   "outputs": [],
   "source": [
    "res_coupler_t2,res_t2_params = auxfuncs.draw_rounded_single_resonator(sqd.sample,\n",
    "                          7700, coupler_start_y, 25,\n",
    "                          sqd.resonator_core,sqd.resonator_gap, sqd.resonator_ground,\n",
    "                          sqd.tl_core, sqd.tl_gap, sqd.tl_ground, sqd.resonator_tl_ground,\n",
    "                          closed_end_meander_length=2600, length_left=200, length_right=200,\n",
    "                          min_bridge_spacing = None,\n",
    "                          airbridge = None,\n",
    "                          open_end_length = 150,\n",
    "                          port_orientation='left',meander_orientation='left', direction_orientation='down',transmission=True)"
   ]
  },
  {
   "cell_type": "markdown",
   "metadata": {},
   "source": [
    "# Connect resonators into feedline"
   ]
  },
  {
   "cell_type": "code",
   "execution_count": null,
   "metadata": {},
   "outputs": [],
   "source": [
    "sqd.sample.connect_cpw(o1=sqd.p1, o2=sqd.p2, port1='port', port2='port', name='feedline', \n",
    "                       points=[])\n",
    "# sqd.sample.connect_cpw(o1=res_coupler_q1, o2=res_coupler_q2, port1='port1', port2='port2', name='feedline', \n",
    "#                        points=[])"
   ]
  },
  {
   "cell_type": "code",
   "execution_count": null,
   "metadata": {},
   "outputs": [],
   "source": [
    "sqd.sample.qubits[0].terminals"
   ]
  },
  {
   "cell_type": "code",
   "execution_count": 9,
   "metadata": {},
   "outputs": [
    {
     "data": {
      "text/plain": [
       "[CPW \"flux_control_line_qubit_coupler\", l=1036.420]"
      ]
     },
     "execution_count": 9,
     "metadata": {},
     "output_type": "execute_result"
    }
   ],
   "source": [
    "pad=sqd.sample.qubits[0]\n",
    "port='coupler1'\n",
    "narrowing_length=100\n",
    "flux_line_narrowing_position = sqd.sample.cpw_shift(pad, port, narrowing_length/2)[0]\n",
    "\n",
    "flux_line_narrowing = sqd.elements.Narrowing(name='flux_line_narrowing', position=flux_line_narrowing_position, \n",
    "                                         orientation=pad.get_terminals()[port].orientation+np.pi, \n",
    "                                         w1=pad.get_terminals()[port].w, \n",
    "                                         s1=pad.get_terminals()[port].s, g1=pad.get_terminals()[port].g,\n",
    "                                         w2=sqd.tl_core, s2=sqd.tl_gap, g2=sqd.tl_ground, \n",
    "                                         layer_configuration=sqd.sample.layer_configuration, length=narrowing_length)\n",
    "sqd.sample.add(flux_line_narrowing)\n",
    "sqd.sample.connect(flux_line_narrowing, 'port1', pad, port)\n",
    "sqd.sample.connect_cpw(sqd.pads_top[0], flux_line_narrowing, 'port', 'port2', 'flux_control_line_qubit_coupler', points=[],\n",
    "                      airbridge=None, min_spacing=None, r=80)\n",
    "# pad=sqd.sample.qubits[1]\n",
    "# port='coupler1'\n",
    "# narrowing_length=100\n",
    "# flux_line_narrowing_position = sqd.sample.cpw_shift(pad, port, narrowing_length/2)[0]\n",
    "\n",
    "# flux_line_narrowing = sqd.elements.Narrowing(name='flux_line_narrowing', position=flux_line_narrowing_position, \n",
    "#                                          orientation=pad.get_terminals()[port].orientation+np.pi, \n",
    "#                                          w1=pad.get_terminals()[port].w, \n",
    "#                                          s1=pad.get_terminals()[port].s, g1=pad.get_terminals()[port].g,\n",
    "#                                          w2=sqd.tl_core, s2=sqd.tl_gap, g2=sqd.tl_ground, \n",
    "#                                          layer_configuration=sqd.sample.layer_configuration, length=narrowing_length)\n",
    "# sqd.sample.add(flux_line_narrowing)\n",
    "# sqd.sample.connect(flux_line_narrowing, 'port1', pad, port)\n",
    "# sqd.sample.connect_cpw(sqd.pads_top[1], flux_line_narrowing, 'port', 'port2', 'flux_control_line_qubit_coupler', points=[],\n",
    "#                       airbridge=None, min_spacing=None, r=80)\n",
    "pad=sqd.sample.qubits[3]\n",
    "port='coupler1'\n",
    "narrowing_length=200\n",
    "flux_line_narrowing_position = sqd.sample.cpw_shift(pad, port, narrowing_length/2)[0]\n",
    "\n",
    "flux_line_narrowing = sqd.elements.Narrowing(name='flux_line_narrowing', position=flux_line_narrowing_position, \n",
    "                                         orientation=pad.get_terminals()[port].orientation+np.pi, \n",
    "                                         w1=pad.get_terminals()[port].w, \n",
    "                                         s1=pad.get_terminals()[port].s, g1=pad.get_terminals()[port].g,\n",
    "                                         w2=sqd.tl_core, s2=sqd.tl_gap, g2=sqd.tl_ground, \n",
    "                                         layer_configuration=sqd.sample.layer_configuration, length=narrowing_length)\n",
    "sqd.sample.add(flux_line_narrowing)\n",
    "sqd.sample.connect(flux_line_narrowing, 'port1', pad, port)\n",
    "sqd.sample.connect_cpw(sqd.pads_bottom[0], flux_line_narrowing, 'port', 'port2', 'flux_control_line_qubit_coupler', points=[],\n",
    "                      airbridge=None, min_spacing=None, r=80)"
   ]
  },
  {
   "cell_type": "code",
   "execution_count": 10,
   "metadata": {},
   "outputs": [],
   "source": [
    "sqd.sample.draw_design(True)\n",
    "sqd.sample.draw_terminals()\n",
    "sqd.sample.watch(True)"
   ]
  },
  {
   "cell_type": "code",
   "execution_count": null,
   "metadata": {},
   "outputs": [],
   "source": [
    "sqd.sample.write_to_gds()"
   ]
  },
  {
   "cell_type": "markdown",
   "metadata": {},
   "source": [
    "# add ground"
   ]
  },
  {
   "cell_type": "code",
   "execution_count": null,
   "metadata": {},
   "outputs": [],
   "source": [
    "# grid_ground = sqd.elements.GridGround(sqd.sample.chip_geometry, sqd.sample.layer_configuration, sqd.sample.objects, \n",
    "#                                   width=4, period=25)\n",
    "# sqd.sample.add(grid_ground)"
   ]
  },
  {
   "cell_type": "code",
   "execution_count": null,
   "metadata": {},
   "outputs": [],
   "source": []
  }
 ],
 "metadata": {
  "kernelspec": {
   "display_name": "Python 3 (ipykernel)",
   "language": "python",
   "name": "python3"
  },
  "language_info": {
   "codemirror_mode": {
    "name": "ipython",
    "version": 3
   },
   "file_extension": ".py",
   "mimetype": "text/x-python",
   "name": "python",
   "nbconvert_exporter": "python",
   "pygments_lexer": "ipython3",
   "version": "3.9.5"
  }
 },
 "nbformat": 4,
 "nbformat_minor": 4
}
