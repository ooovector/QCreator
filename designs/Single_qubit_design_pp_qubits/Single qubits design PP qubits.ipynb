{
 "cells": [
  {
   "cell_type": "code",
   "execution_count": 1,
   "metadata": {},
   "outputs": [],
   "source": [
    "from importlib import reload\n",
    "import numpy as np\n",
    "from matplotlib import pyplot as plt\n",
    "import Single_qubit_design_PP_qubits as sqd\n",
    "import QCreator.auxiliary_functions as auxfuncs"
   ]
  },
  {
   "cell_type": "code",
   "execution_count": 2,
   "metadata": {},
   "outputs": [
    {
     "data": {
      "text/plain": [
       "<module 'Single_qubit_design_PP_qubits' from 'E:\\\\Github2.0\\\\QCreator\\\\designs\\\\Single_qubit_design_pp_qubits\\\\Single_qubit_design_PP_qubits.py'>"
      ]
     },
     "execution_count": 2,
     "metadata": {},
     "output_type": "execute_result"
    }
   ],
   "source": [
    "reload(sqd)"
   ]
  },
  {
   "cell_type": "code",
   "execution_count": 3,
   "metadata": {},
   "outputs": [],
   "source": [
    "sqd.sample.draw_design(True)\n",
    "sqd.sample.draw_terminals()\n",
    "sqd.sample.watch(True)"
   ]
  },
  {
   "cell_type": "markdown",
   "metadata": {},
   "source": [
    "# Draw a qubit design"
   ]
  },
  {
   "cell_type": "code",
   "execution_count": 4,
   "metadata": {},
   "outputs": [],
   "source": [
    "coupler_start_x,coupler_start_y = (2000,3000)\n",
    "grounding_width=10\n",
    "coupler_length=400"
   ]
  },
  {
   "cell_type": "code",
   "execution_count": 5,
   "metadata": {},
   "outputs": [],
   "source": [
    "res_coupler_q1,res_q1_params = auxfuncs.draw_rounded_single_resonator_plus_qubit(sqd.sample,\n",
    "                          coupler_start_x, coupler_start_y, coupler_length,\n",
    "                          sqd.resonator_core,sqd.resonator_gap, sqd.resonator_ground,\n",
    "                          sqd.tl_core, sqd.tl_gap, sqd.tl_ground, grounding_width,\n",
    "                          closed_end_meander_length=2000, length_left=300, length_right=300,\n",
    "                          min_bridge_spacing = None,\n",
    "                          airbridge = None, object1=sqd.sample.qubits[0], port='coupler0',\n",
    "                          open_end_length = 1000,\n",
    "                          port_orientation='left', direction_orientation='up')"
   ]
  },
  {
   "cell_type": "code",
   "execution_count": 6,
   "metadata": {},
   "outputs": [],
   "source": [
    "res_coupler_q2,res_q2_params = auxfuncs.draw_rounded_single_resonator_plus_qubit(sqd.sample,\n",
    "                          coupler_start_x+5000, coupler_start_y, coupler_length,\n",
    "                          sqd.resonator_core,sqd.resonator_gap, sqd.resonator_ground,\n",
    "                          sqd.tl_core, sqd.tl_gap, sqd.tl_ground, grounding_width,\n",
    "                          closed_end_meander_length=2000, length_left=300, length_right=300,\n",
    "                          min_bridge_spacing = None,\n",
    "                          airbridge = None, object1=sqd.sample.qubits[1], port='coupler0',\n",
    "                          open_end_length = 1000,\n",
    "                          port_orientation='right', direction_orientation='up')"
   ]
  },
  {
   "cell_type": "markdown",
   "metadata": {},
   "source": [
    "# Connect resonators into feedline"
   ]
  },
  {
   "cell_type": "code",
   "execution_count": 9,
   "metadata": {},
   "outputs": [
    {
     "data": {
      "text/plain": [
       "[CPW \"feedline\", l=4600.000]"
      ]
     },
     "execution_count": 9,
     "metadata": {},
     "output_type": "execute_result"
    }
   ],
   "source": [
    "sqd.sample.connect_cpw(o1=sqd.p1, o2=res_coupler_q1, port1='port', port2='port2', name='feedline', \n",
    "                       points=[])\n",
    "sqd.sample.connect_cpw(o1=res_coupler_q1, o2=res_coupler_q2, port1='port1', port2='port2', name='feedline', \n",
    "                       points=[])"
   ]
  },
  {
   "cell_type": "code",
   "execution_count": 10,
   "metadata": {},
   "outputs": [],
   "source": [
    "sqd.sample.draw_design(True)\n",
    "sqd.sample.draw_terminals()\n",
    "sqd.sample.watch(True)"
   ]
  },
  {
   "cell_type": "code",
   "execution_count": 11,
   "metadata": {},
   "outputs": [],
   "source": [
    "# grid_ground = sqd.elements.GridGround(sqd.sample.chip_geometry, sqd.sample.layer_configuration, sqd.sample.objects, \n",
    "#                                   width=4, period=25)\n",
    "# sqd.sample.add(grid_ground)"
   ]
  },
  {
   "cell_type": "code",
   "execution_count": 12,
   "metadata": {},
   "outputs": [
    {
     "name": "stdout",
     "output_type": "stream",
     "text": [
      "Gds file has been writen here:  C:\\Python\\Github\\QCreator\\designs\\Single_qubit_design_pp_qubits/1Q_test.gds\n"
     ]
    }
   ],
   "source": [
    "sqd.sample.write_to_gds()"
   ]
  },
  {
   "cell_type": "code",
   "execution_count": 10,
   "metadata": {},
   "outputs": [
    {
     "name": "stdout",
     "output_type": "stream",
     "text": [
      "Gds file has been writen here:  C:\\Python\\Github\\QCreator\\designs\\Single_qubit_design\\1Q_test.gds\n",
      "For 0 conductor total length is:  16023\n",
      "For 1 conductor total length is:  3024\n",
      "For 2 conductor total length is:  846\n",
      "Sum : 19893\n",
      "Data has been written into the file: C:\\Python\\Github\\QCreator\\designs\\Single_qubit_design\\mesh_4k_data\n",
      "Time for fastcap job is:  1.7464215755462646\n",
      "Capacitance results have been writen here:  C:\\Python\\Github\\QCreator\\designs\\Single_qubit_design\\mesh_4k_results\n",
      "Capacitance value in:  nanofarads\n",
      "[<map object at 0x00000296556DDDF0>, <map object at 0x00000296556DD340>, <map object at 0x00000296556DD310>]\n",
      "      0     1     2\n",
      "0  92.6 -21.9 -10.3\n",
      "1 -21.9  30.0  -2.3\n",
      "2 -10.3  -2.3  15.5\n",
      "Gds file has been writen here:  C:\\Python\\Github\\QCreator\\designs\\Single_qubit_design\\1Q_test.gds\n",
      "For 0 conductor total length is:  33887\n",
      "For 1 conductor total length is:  12258\n",
      "For 2 conductor total length is:  2117\n",
      "Sum : 48262\n",
      "Data has been written into the file: C:\\Python\\Github\\QCreator\\designs\\Single_qubit_design\\mesh_4k_data\n",
      "Time for fastcap job is:  4.585463762283325\n",
      "Capacitance results have been writen here:  C:\\Python\\Github\\QCreator\\designs\\Single_qubit_design\\mesh_4k_results\n",
      "Capacitance value in:  nanofarads\n",
      "[<map object at 0x00000296556DB580>, <map object at 0x00000296556DB7C0>, <map object at 0x00000296556DB400>]\n",
      "       0     1     2\n",
      "0  151.2 -46.2 -15.4\n",
      "1  -46.2  64.6  -4.8\n",
      "2  -15.4  -4.8  25.0\n",
      "Gds file has been writen here:  C:\\Python\\Github\\QCreator\\designs\\Single_qubit_design\\1Q_test.gds\n",
      "For 0 conductor total length is:  33902\n",
      "For 1 conductor total length is:  12195\n",
      "For 2 conductor total length is:  2105\n",
      "Sum : 48202\n",
      "Data has been written into the file: C:\\Python\\Github\\QCreator\\designs\\Single_qubit_design\\mesh_4k_data\n",
      "Time for fastcap job is:  4.615113019943237\n",
      "Capacitance results have been writen here:  C:\\Python\\Github\\QCreator\\designs\\Single_qubit_design\\mesh_4k_results\n",
      "Capacitance value in:  nanofarads\n",
      "[<map object at 0x00000296556DE760>, <map object at 0x00000296556DEFD0>, <map object at 0x00000296556DEAC0>]\n",
      "       0     1     2\n",
      "0  151.2 -46.2 -15.4\n",
      "1  -46.2  64.6  -4.8\n",
      "2  -15.4  -4.8  25.0\n",
      "Gds file has been writen here:  C:\\Python\\Github\\QCreator\\designs\\Single_qubit_design\\1Q_test.gds\n",
      "For 0 conductor total length is:  33902\n",
      "For 1 conductor total length is:  12195\n",
      "For 2 conductor total length is:  2105\n",
      "Sum : 48202\n",
      "Data has been written into the file: C:\\Python\\Github\\QCreator\\designs\\Single_qubit_design\\mesh_4k_data\n",
      "Time for fastcap job is:  4.572106838226318\n",
      "Capacitance results have been writen here:  C:\\Python\\Github\\QCreator\\designs\\Single_qubit_design\\mesh_4k_results\n",
      "Capacitance value in:  nanofarads\n",
      "[<map object at 0x000002965563A130>, <map object at 0x000002965563A640>, <map object at 0x0000029652492940>]\n",
      "       0     1     2\n",
      "0  151.2 -46.2 -15.4\n",
      "1  -46.2  64.6  -4.8\n",
      "2  -15.4  -4.8  25.0\n",
      "Gds file has been writen here:  C:\\Python\\Github\\QCreator\\designs\\Single_qubit_design\\1Q_test.gds\n",
      "For 0 conductor total length is:  8565\n",
      "For 1 conductor total length is:  3549\n",
      "For 2 conductor total length is:  811\n",
      "Sum : 12925\n",
      "Data has been written into the file: C:\\Python\\Github\\QCreator\\designs\\Single_qubit_design\\mesh_4k_data\n",
      "Time for fastcap job is:  0.8598418235778809\n",
      "Capacitance results have been writen here:  C:\\Python\\Github\\QCreator\\designs\\Single_qubit_design\\mesh_4k_results\n",
      "Capacitance value in:  nanofarads\n",
      "[<map object at 0x000002965566C370>, <map object at 0x000002965566C760>, <map object at 0x000002965566C640>]\n",
      "       0     1     2\n",
      "0  145.5 -66.0 -23.1\n",
      "1  -66.0  79.7  -1.6\n",
      "2  -23.1  -1.6  29.4\n",
      "Gds file has been writen here:  C:\\Python\\Github\\QCreator\\designs\\Single_qubit_design\\1Q_test.gds\n",
      "For 0 conductor total length is:  8666\n",
      "For 1 conductor total length is:  3553\n",
      "For 2 conductor total length is:  820\n",
      "Sum : 13039\n",
      "Data has been written into the file: C:\\Python\\Github\\QCreator\\designs\\Single_qubit_design\\mesh_4k_data\n",
      "Time for fastcap job is:  0.8502051830291748\n",
      "Capacitance results have been writen here:  C:\\Python\\Github\\QCreator\\designs\\Single_qubit_design\\mesh_4k_results\n",
      "Capacitance value in:  nanofarads\n",
      "[<map object at 0x00000296556DB4C0>, <map object at 0x00000296556DB7F0>, <map object at 0x00000296556DB4F0>]\n",
      "       0     1     2\n",
      "0  145.6 -66.0 -23.1\n",
      "1  -66.0  79.7  -1.6\n",
      "2  -23.1  -1.6  29.4\n"
     ]
    }
   ],
   "source": [
    "# sqd.sample.draw_cap()\n",
    "# for i,qubit in enumerate(sqd.sample.qubits):\n",
    "#     caps=sqd.sample.calculate_qubit_capacitance(cell= sqd.sample.qubit_cap_cells[i], qubit=sqd.sample.qubits[i],\n",
    "#                                        mesh_volume=10)"
   ]
  },
  {
   "cell_type": "code",
   "execution_count": 12,
   "metadata": {},
   "outputs": [
    {
     "name": "stdout",
     "output_type": "stream",
     "text": [
      "('down',)\n",
      "('up',)\n",
      "Resonance frequencies are, GHz/2pi: [4.52133462 4.52175858 5.82822274 5.94357465 6.23383628 6.35672523\n",
      " 6.52010911 6.64402013 6.67979049 7.37947516 7.56410607]\n",
      "Kappas are, MHz/2pi: [2.21393495e-04 1.70610669e-04 1.81922358e-01 2.07585120e-01\n",
      " 2.21566485e-01 2.56017966e-01 1.80223087e-01 2.77791362e-01\n",
      " 1.00263883e-01 2.75055021e-02 3.00510795e-02]\n",
      "Quality factors are: [1.02110828e+07 1.32516876e+07 1.60184345e+04 1.43159939e+04\n",
      " 1.40676427e+04 1.24146077e+04 1.80889952e+04 1.19586514e+04\n",
      " 3.33110503e+04 1.34145436e+05 1.25854149e+05]\n"
     ]
    }
   ],
   "source": [
    "sys, connections, elements_ = sqd.sample.get_tls(cutoff=2e11)\n",
    "f, delta, modes = sys.get_modes()\n",
    "num_modes=18\n",
    "(res_fr,kappa,_)=auxfuncs.search_for_resonators_qubits(f,delta,0,15)[:num_modes]"
   ]
  },
  {
   "cell_type": "code",
   "execution_count": 13,
   "metadata": {},
   "outputs": [
    {
     "data": {
      "text/plain": [
       "(array([ 4.52133462,  4.52175858,  5.82822274,  5.94357465,  6.23383628,\n",
       "         6.35672523,  6.52010911,  6.64402013,  6.67979049,  7.37947516,\n",
       "         7.56410607, 16.25477751, 17.59409609, 17.95061229, 18.42787245,\n",
       "        18.78509677, 19.11738899, 19.11910219]),\n",
       " array([1.39105635e+03, 1.07197845e+03, 1.14305189e+06, 1.30429578e+06,\n",
       "        1.39214328e+06, 1.60860832e+06, 1.13237505e+06, 1.74541460e+06,\n",
       "        6.29976555e+05, 1.72822167e+05, 1.88816501e+05, 9.38904851e+04,\n",
       "        1.31224967e+07, 1.09455365e+07, 1.77137683e+11, 1.51464579e+07,\n",
       "        4.88919709e+04, 7.48985780e+04]))"
      ]
     },
     "execution_count": 13,
     "metadata": {},
     "output_type": "execute_result"
    }
   ],
   "source": [
    "f[:num_modes]/(2*np.pi)/1e9, delta[:num_modes]"
   ]
  },
  {
   "cell_type": "markdown",
   "metadata": {},
   "source": [
    "# Connect contact pads"
   ]
  },
  {
   "cell_type": "code",
   "execution_count": 14,
   "metadata": {},
   "outputs": [
    {
     "name": "stdout",
     "output_type": "stream",
     "text": [
      "cpw segments [{'type': 'endpoint', 'endpoint': array([1175.,  800.])}, {'type': 'segment', 'endpoint': array([1175.        ,  810.85009967]), 'startpoint': array([1175.,  800.])}, {'type': 'turn', 'turn': 0.6174578771327504}, {'type': 'segment', 'endpoint': array([1080.50840693,  984.74479842]), 'startpoint': array([1151.,  884.])}, {'type': 'turn', 'turn': -1.4477705171092345}, {'type': 'segment', 'endpoint': array([1265.54003408, 1305.98779803]), 'startpoint': array([1099., 1153.])}, {'type': 'turn', 'turn': 0.081351926647796}, {'type': 'endpoint', 'endpoint': array([1274.71845581, 1315.23897193]), 'startpoint': array([1272., 1313.])}]\n",
      "cpw segments [{'type': 'endpoint', 'endpoint': array([1175., 3900.])}, {'type': 'segment', 'endpoint': array([1175.       , 3890.2313846]), 'startpoint': array([1175., 3900.])}, {'type': 'turn', 'turn': -0.4934511584543011}, {'type': 'segment', 'endpoint': array([1105.72054048, 3729.18061479]), 'startpoint': array([1159., 3829.])}, {'type': 'turn', 'turn': 1.5388094156734757}, {'type': 'segment', 'endpoint': array([1158.01362071, 3555.63371757]), 'startpoint': array([1154., 3557.])}, {'type': 'turn', 'turn': -0.956523851743889}, {'type': 'endpoint', 'endpoint': array([1221.78205972, 3450.90142046]), 'startpoint': array([1239., 3470.])}]\n",
      "cpw segments [{'type': 'endpoint', 'endpoint': array([2350.,  800.])}, {'type': 'segment', 'endpoint': array([2350.        ,  815.79218935]), 'startpoint': array([2350.,  800.])}, {'type': 'turn', 'turn': 1.0870986207554911}, {'type': 'segment', 'endpoint': array([2166.92154329,  989.31280042]), 'startpoint': array([2281.,  929.])}, {'type': 'turn', 'turn': -1.9488020948999565}, {'type': 'segment', 'endpoint': array([2197.72193126, 1246.63603618]), 'startpoint': array([2143., 1199.])}, {'type': 'turn', 'turn': 0.08042471582484312}, {'type': 'endpoint', 'endpoint': array([2207.05250703, 1255.45626467]), 'startpoint': array([2205., 1253.])}]\n",
      "cpw segments [{'type': 'endpoint', 'endpoint': array([2350., 3900.])}, {'type': 'segment', 'endpoint': array([2350.        , 3888.81906991]), 'startpoint': array([2350., 3900.])}, {'type': 'turn', 'turn': -1.2454958388663084}, {'type': 'segment', 'endpoint': array([2231.12637641, 3756.81269127]), 'startpoint': array([2262., 3767.])}, {'type': 'turn', 'turn': 2.029317626370359}, {'type': 'segment', 'endpoint': array([2185.01417695, 3541.51527619]), 'startpoint': array([2179., 3545.])}, {'type': 'turn', 'turn': -0.6955339422006008}, {'type': 'endpoint', 'endpoint': array([2222.79567017, 3451.90262898]), 'startpoint': array([2241., 3474.])}]\n",
      "cpw segments [{'type': 'endpoint', 'endpoint': array([3525., 3900.])}, {'type': 'segment', 'endpoint': array([3525.        , 3897.50107746]), 'startpoint': array([3525., 3900.])}, {'type': 'turn', 'turn': -1.5631955595596905}, {'type': 'segment', 'endpoint': array([3327.02711116, 3768.9655221 ]), 'startpoint': array([3397., 3769.])}, {'type': 'turn', 'turn': 1.5631955595596905}, {'type': 'segment', 'endpoint': array([3200.        , 3605.69200006]), 'startpoint': array([3199., 3641.])}, {'type': 'endpoint', 'endpoint': array([3200. , 3605.5]), 'startpoint': array([3200.        , 3605.69200006])}]\n",
      "cpw segments [{'type': 'endpoint', 'endpoint': array([3525.,  800.])}, {'type': 'segment', 'endpoint': array([3525.        ,  800.76776242]), 'startpoint': array([3525.,  800.])}, {'type': 'turn', 'turn': 1.6055285788708549}, {'type': 'segment', 'endpoint': array([3332.44483448,  926.60195802]), 'startpoint': array([3392.,  928.])}, {'type': 'turn', 'turn': -1.6055285788708549}, {'type': 'segment', 'endpoint': array([3200.        , 1094.30799994]), 'startpoint': array([3201., 1056.])}, {'type': 'endpoint', 'endpoint': array([3200. , 1094.5]), 'startpoint': array([3200.        , 1094.30799994])}]\n"
     ]
    }
   ],
   "source": [
    "flux_pads_coaxmons = [\n",
    "    (sqd.sample.qubits[0], sqd.pads_bottom[0], [((1015, 1077))]),\n",
    "    (sqd.sample.qubits[1], sqd.pads_top[0], [(1047, 3620)]),\n",
    "    (sqd.sample.qubits[2], sqd.pads_bottom[1], [(2000, 1077)]),\n",
    "    (sqd.sample.qubits[3], sqd.pads_top[1], [(2036,3691)])]#[(2076, 3691)])]#[(2030, 3640)])]\n",
    "\n",
    "flux_pads_xmons = [(sqd.sample.qubits[4], sqd.pads_top[2], [(3200, 3768)]),\n",
    "                   (sqd.sample.qubits[5], sqd.pads_bottom[2], [(3200, 922)])]\n",
    "\n",
    "\n",
    "for coaxmon, pad, points in flux_pads_coaxmons:  \n",
    "    flux_line_narrowing_position = np.asarray(coaxmon.terminals['flux'].position)\n",
    "    direction = [np.cos(coaxmon.terminals['flux'].orientation), \n",
    "                 np.sin(coaxmon.terminals['flux'].orientation)]\n",
    "    narrowing_length = 25\n",
    "    flux_line_narrowing_position = flux_line_narrowing_position - np.asarray(direction)*narrowing_length/2\n",
    "    flux_line_narrowing = sqd.elements.Narrowing(name='flux_line_narrowing', position=flux_line_narrowing_position, \n",
    "                                             orientation=coaxmon.terminals['flux'].orientation+np.pi, \n",
    "                                             w1=coaxmon.terminals['flux'].w, \n",
    "                                             s1=coaxmon.terminals['flux'].s, g1=coaxmon.terminals['flux'].g,\n",
    "                                             w2=sqd.tl_core, s2=sqd.tl_gap, g2=sqd.tl_ground, \n",
    "                                             layer_configuration=sqd.sample.layer_configuration, length=narrowing_length)\n",
    "    sqd.sample.add(flux_line_narrowing)\n",
    "    sqd.sample.connect(flux_line_narrowing, 'port1', coaxmon, 'flux')\n",
    "\n",
    "    sqd.sample.connect_cpw(pad, flux_line_narrowing, 'port', 'port2', 'flux_control5', points=points)\n",
    "    \n",
    "for xmon, pad, points in flux_pads_xmons:  \n",
    "    flux_line_narrowing_position = np.asarray(xmon.terminals['flux'].position)\n",
    "    direction = [np.cos(xmon.terminals['flux'].orientation), \n",
    "                 np.sin(xmon.terminals['flux'].orientation)]\n",
    "    narrowing_length = 20\n",
    "    flux_line_narrowing_position = flux_line_narrowing_position - np.asarray(direction)*narrowing_length/2\n",
    "    flux_line_narrowing = sqd.elements.Narrowing(name='flux_line_narrowing', position=flux_line_narrowing_position, \n",
    "                                             orientation=xmon.terminals['flux'].orientation+np.pi, \n",
    "                                             w1=xmon.terminals['flux'].w, \n",
    "                                             s1=xmon.terminals['flux'].s, g1=xmon.terminals['flux'].g,\n",
    "                                             w2=sqd.tl_core, s2=sqd.tl_gap, g2=sqd.tl_ground, \n",
    "                                             layer_configuration=sqd.sample.layer_configuration, length=narrowing_length)\n",
    "    sqd.sample.add(flux_line_narrowing)\n",
    "    sqd.sample.connect(flux_line_narrowing, 'port1', xmon, 'flux')\n",
    "\n",
    "    sqd.sample.connect_cpw(pad, flux_line_narrowing, 'port', 'port2', 'flux_control5', points=points)"
   ]
  },
  {
   "cell_type": "code",
   "execution_count": 15,
   "metadata": {},
   "outputs": [
    {
     "name": "stdout",
     "output_type": "stream",
     "text": [
      "('down',)\n",
      "('up',)\n"
     ]
    },
    {
     "name": "stderr",
     "output_type": "stream",
     "text": [
      "C:\\Users\\di82dac\\Anaconda3\\envs\\qcreator\\lib\\site-packages\\numpy\\core\\_asarray.py:102: VisibleDeprecationWarning: Creating an ndarray from ragged nested sequences (which is a list-or-tuple of lists-or-tuples-or ndarrays with different lengths or shapes) is deprecated. If you meant to do this, you must specify 'dtype=object' when creating the ndarray.\n",
      "  return array(a, dtype, copy=False, order=order)\n"
     ]
    },
    {
     "name": "stdout",
     "output_type": "stream",
     "text": [
      "Resonance frequencies are, GHz/2pi: [4.52133462 4.52175859 5.82822274 5.94357465 6.23383628 6.35672523\n",
      " 6.52010911 6.64402013 6.6797905  7.37947516 7.56410607]\n",
      "Kappas are, MHz/2pi: [2.93866718e-04 2.43155157e-04 1.81923200e-01 2.07586056e-01\n",
      " 2.21566789e-01 2.56018345e-01 1.80268100e-01 2.77791952e-01\n",
      " 1.00374634e-01 2.75055002e-02 3.00510816e-02]\n",
      "Quality factors are: [7692832.07148414 9298093.10784708   16018.36037189   14315.92940673\n",
      "   14067.62338358   12414.58934844   18084.47836791   11958.62601791\n",
      "   33274.29567177  134145.44538219  125854.13991798]\n"
     ]
    }
   ],
   "source": [
    "sys, connections, elements_ = sqd.sample.get_tls(cutoff=2e11)\n",
    "f, delta, modes = sys.get_modes()\n",
    "num_modes=18\n",
    "(res_fr,kappa,_)=auxfuncs.search_for_resonators_qubits(f,delta,0,15)[:num_modes]"
   ]
  },
  {
   "cell_type": "code",
   "execution_count": 16,
   "metadata": {},
   "outputs": [
    {
     "data": {
      "text/plain": [
       "(array([ 4.52133462,  4.52175859,  5.82822274,  5.94357465,  6.23383628,\n",
       "         6.35672523,  6.52010911,  6.64402013,  6.6797905 ,  7.37947516,\n",
       "         7.56410607, 16.25477802, 17.59409619, 17.95061247, 18.42787245,\n",
       "        18.78509677, 19.11743335, 19.11914644]),\n",
       " array([1.84641904e+03, 1.52778891e+03, 1.14305717e+06, 1.30430166e+06,\n",
       "        1.39214519e+06, 1.60861070e+06, 1.13265788e+06, 1.74541831e+06,\n",
       "        6.30672425e+05, 1.72822155e+05, 1.88816515e+05, 1.68777657e+05,\n",
       "        1.31377402e+07, 1.09736291e+07, 1.77137683e+11, 1.51464637e+07,\n",
       "        6.01166263e+06, 6.02523120e+06]))"
      ]
     },
     "execution_count": 16,
     "metadata": {},
     "output_type": "execute_result"
    }
   ],
   "source": [
    "f[:num_modes]/(2*np.pi)/1e9, delta[:num_modes]"
   ]
  },
  {
   "cell_type": "code",
   "execution_count": 16,
   "metadata": {},
   "outputs": [
    {
     "name": "stdout",
     "output_type": "stream",
     "text": [
      "Gds file has been writen here:  D:\\Documents-cloud\\qubits\\simulation\\QCreator\\designs\\Single_qubit_design\\1Q_test.gds\n"
     ]
    }
   ],
   "source": [
    "sqd.sample.write_to_gds()"
   ]
  },
  {
   "cell_type": "markdown",
   "metadata": {},
   "source": [
    "# Simulations"
   ]
  },
  {
   "cell_type": "code",
   "execution_count": 17,
   "metadata": {},
   "outputs": [
    {
     "name": "stdout",
     "output_type": "stream",
     "text": [
      "('down',)\n",
      "('up',)\n"
     ]
    },
    {
     "name": "stderr",
     "output_type": "stream",
     "text": [
      "C:\\ProgramData\\Anaconda3\\envs\\py38\\lib\\site-packages\\numpy\\core\\_asarray.py:83: VisibleDeprecationWarning: Creating an ndarray from ragged nested sequences (which is a list-or-tuple of lists-or-tuples-or ndarrays with different lengths or shapes) is deprecated. If you meant to do this, you must specify 'dtype=object' when creating the ndarray\n",
      "  return array(a, dtype, copy=False, order=order)\n"
     ]
    }
   ],
   "source": [
    "sys, connections, elements_ = sqd.sample.get_tls(cutoff=2e11)\n",
    "f, delta, modes = sys.get_modes()"
   ]
  },
  {
   "cell_type": "code",
   "execution_count": 15,
   "metadata": {},
   "outputs": [
    {
     "name": "stdout",
     "output_type": "stream",
     "text": [
      "('down',)\n",
      "('up',)\n"
     ]
    },
    {
     "name": "stderr",
     "output_type": "stream",
     "text": [
      "C:\\Users\\di82dac\\Anaconda3\\envs\\qcreator\\lib\\site-packages\\numpy\\core\\_asarray.py:102: VisibleDeprecationWarning: Creating an ndarray from ragged nested sequences (which is a list-or-tuple of lists-or-tuples-or ndarrays with different lengths or shapes) is deprecated. If you meant to do this, you must specify 'dtype=object' when creating the ndarray.\n",
      "  return array(a, dtype, copy=False, order=order)\n"
     ]
    },
    {
     "name": "stdout",
     "output_type": "stream",
     "text": [
      "Resonance frequencies are, GHz/2pi: [4.52133462 4.52175859 5.82822274 5.94357465 6.23383628 6.35672523\n",
      " 6.52010911 6.64402013 6.6797905  7.37947516 7.56410607]\n",
      "Kappas are, MHz/2pi: [2.93866718e-04 2.43155157e-04 1.81923200e-01 2.07586056e-01\n",
      " 2.21566789e-01 2.56018345e-01 1.80268100e-01 2.77791952e-01\n",
      " 1.00374634e-01 2.75055002e-02 3.00510816e-02]\n",
      "Quality factors are: [7692832.07148414 9298093.10784708   16018.36037189   14315.92940673\n",
      "   14067.62338358   12414.58934844   18084.47836791   11958.62601791\n",
      "   33274.29567177  134145.44538219  125854.13991798]\n"
     ]
    }
   ],
   "source": [
    "num_modes=18\n",
    "(res_fr,kappa,_)=auxfuncs.search_for_resonators_qubits(f,delta,0,15)[:num_modes]"
   ]
  },
  {
   "cell_type": "code",
   "execution_count": 18,
   "metadata": {},
   "outputs": [
    {
     "name": "stdout",
     "output_type": "stream",
     "text": [
      "Resonance frequencies are, GHz/2pi: [4.92754409 4.92786994 4.92816427 4.92841241 5.82237707 5.93725003\n",
      " 6.23048763 6.3594493  6.4989762  6.63882184 7.39054578 7.5763216 ]\n",
      "Kappas are, MHz/2pi: [0.00871181 0.00863901 0.00860897 0.00855075 0.18133009 0.20679175\n",
      " 0.22132931 0.25493007 0.25516803 0.29312784 0.02772073 0.03031085]\n",
      "Quality factors are: [282808.26117442 285210.266044   286222.54725799 288185.93872864\n",
      "  16054.63594337  14355.6261769   14075.15255892  12472.92879454\n",
      "  12734.69930794  11324.10647405 133303.58801683 124977.06592616]\n"
     ]
    }
   ],
   "source": [
    "num_modes=18\n",
    "(res_fr,kappa,_)=sqd.search_for_resonators_qubits(f,delta,0,15)[:num_modes]"
   ]
  },
  {
   "cell_type": "markdown",
   "metadata": {},
   "source": [
    "# Get s21 parameters"
   ]
  },
  {
   "cell_type": "code",
   "execution_count": null,
   "metadata": {},
   "outputs": [],
   "source": [
    "f_ = np.linspace(6.9e9, 7.1e9, 2001)\n",
    "# s11 = sample.get_s21('p1', 'p1', f_)\n",
    "s11 = sample.get_s21('pad-left-0', 'pad-right-0', f_)"
   ]
  },
  {
   "cell_type": "code",
   "execution_count": null,
   "metadata": {},
   "outputs": [],
   "source": [
    "import resonator_tools\n",
    "from resonator_tools.circuit import notch_port, reflection_port"
   ]
  },
  {
   "cell_type": "code",
   "execution_count": null,
   "metadata": {},
   "outputs": [],
   "source": [
    "fitter = notch_port(f_data=f_, z_data_raw=s11)\n",
    "fitter.autofit()"
   ]
  },
  {
   "cell_type": "code",
   "execution_count": null,
   "metadata": {},
   "outputs": [],
   "source": [
    "fitter.plotall()"
   ]
  },
  {
   "cell_type": "code",
   "execution_count": null,
   "metadata": {},
   "outputs": [],
   "source": [
    "fitter.fitresults"
   ]
  },
  {
   "cell_type": "markdown",
   "metadata": {},
   "source": [
    "# Estimate qubit-resonator parameters"
   ]
  },
  {
   "cell_type": "code",
   "execution_count": 9,
   "metadata": {},
   "outputs": [],
   "source": [
    "rfr_ind=2\n",
    "qfr_ind=0"
   ]
  },
  {
   "cell_type": "code",
   "execution_count": 10,
   "metadata": {},
   "outputs": [
    {
     "data": {
      "text/plain": [
       "{'g': (97.56920699063008, 'MHz/2pi')}"
      ]
     },
     "execution_count": 10,
     "metadata": {},
     "output_type": "execute_result"
    }
   ],
   "source": [
    "auxfuncs.get_grounded_qubit_resonator_coupling(par1,sqd.coaxmon1,'coupler2',res_fr[rfr_ind],res_fr[qfr_ind])"
   ]
  },
  {
   "cell_type": "code",
   "execution_count": 11,
   "metadata": {},
   "outputs": [
    {
     "name": "stdout",
     "output_type": "stream",
     "text": [
      "Qubit- resonator detuning: -0.49145585956066373\n"
     ]
    },
    {
     "data": {
      "text/plain": [
       "{'g': (97.56920699063008, 'MHz/2pi'),\n",
       " 'alpha': (-279.1099326319758, 'MHz/2pi'),\n",
       " 'chi': (-7.016274947557198, 'MHz/2pi'),\n",
       " 'T': (16.46560784708201, 'us'),\n",
       " 'protection ratio': 25.371344627775542}"
      ]
     },
     "execution_count": 11,
     "metadata": {},
     "output_type": "execute_result"
    }
   ],
   "source": [
    "auxfuncs.get_grounded_qubit_resonator_parameters(par1,sqd.coaxmon1,'coupler2',res_fr[rfr_ind],res_fr[qfr_ind],kappa[rfr_ind])"
   ]
  },
  {
   "cell_type": "code",
   "execution_count": 12,
   "metadata": {},
   "outputs": [
    {
     "name": "stdout",
     "output_type": "stream",
     "text": [
      "From AWR protection ratio is: 28.397216442594896\n"
     ]
    }
   ],
   "source": [
    "print(\"From AWR protection ratio is:\", kappa[rfr_ind]/kappa[qfr_ind])"
   ]
  },
  {
   "cell_type": "markdown",
   "metadata": {},
   "source": [
    "# Tests"
   ]
  },
  {
   "cell_type": "code",
   "execution_count": 10,
   "metadata": {},
   "outputs": [],
   "source": [
    "g5,g6,res= sqd.draw_single_resonator(sqd.sample,sqd.elements,\n",
    "                            sqd.coupler_start+1500, sqd.central_line_y, sqd.coupler_length,\n",
    "                             sqd.resonator_core,sqd.resonator_gap,sqd.resonator_ground,\n",
    "                             sqd.tl_core, sqd.tl_gap, sqd.tl_ground, grounding_width=10,\n",
    "                             closed_end_meander_length=3000,length_left=400,length_right=400,\n",
    "                             open_end_legth=800,\n",
    "                             port_orientation='right', direction_orientation='up')"
   ]
  }
 ],
 "metadata": {
  "kernelspec": {
   "display_name": "Python 3",
   "language": "python",
   "name": "python3"
  },
  "language_info": {
   "codemirror_mode": {
    "name": "ipython",
    "version": 3
   },
   "file_extension": ".py",
   "mimetype": "text/x-python",
   "name": "python",
   "nbconvert_exporter": "python",
   "pygments_lexer": "ipython3",
   "version": "3.8.5"
  }
 },
 "nbformat": 4,
 "nbformat_minor": 4
}
