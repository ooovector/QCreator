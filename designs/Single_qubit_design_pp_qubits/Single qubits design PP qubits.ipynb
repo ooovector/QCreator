{
 "cells": [
  {
   "cell_type": "code",
   "execution_count": 1,
   "metadata": {},
   "outputs": [],
   "source": [
    "from importlib import reload\n",
    "import numpy as np\n",
    "from matplotlib import pyplot as plt\n",
    "import Single_qubit_design_PP_qubits as sqd\n",
    "import QCreator.auxiliary_functions as auxfuncs"
   ]
  },
  {
   "cell_type": "code",
   "execution_count": 2,
   "metadata": {},
   "outputs": [
    {
     "data": {
      "text/plain": [
       "<module 'Single_qubit_design_PP_qubits' from 'C:\\\\Python\\\\Github\\\\QCreator\\\\designs\\\\Single_qubit_design_pp_qubits\\\\Single_qubit_design_PP_qubits.py'>"
      ]
     },
     "execution_count": 2,
     "metadata": {},
     "output_type": "execute_result"
    }
   ],
   "source": [
    "reload(sqd)"
   ]
  },
  {
   "cell_type": "code",
   "execution_count": 3,
   "metadata": {},
   "outputs": [],
   "source": [
    "sqd.sample.draw_design(True)\n",
    "sqd.sample.draw_terminals()\n",
    "# sqd.sample.watch(True)"
   ]
  },
  {
   "cell_type": "markdown",
   "metadata": {},
   "source": [
    "# Draw a qubit design"
   ]
  },
  {
   "cell_type": "code",
   "execution_count": 4,
   "metadata": {},
   "outputs": [],
   "source": [
    "coupler_start_x,coupler_start_y = (1400,3000)\n",
    "grounding_width=10\n",
    "coupler_length=400"
   ]
  },
  {
   "cell_type": "code",
   "execution_count": 5,
   "metadata": {},
   "outputs": [
    {
     "name": "stdout",
     "output_type": "stream",
     "text": [
      "CPWCoupler \"TL-resonator coupler\", n=1, l=20.000 port2\n"
     ]
    }
   ],
   "source": [
    "res_coupler_q1,res_q1_params = auxfuncs.draw_rounded_single_resonator_plus_qubit(sqd.sample,\n",
    "                          coupler_start_x, coupler_start_y, coupler_length,\n",
    "                          sqd.resonator_core,sqd.resonator_gap, sqd.resonator_ground,\n",
    "                          sqd.tl_core, sqd.tl_gap, sqd.tl_ground, sqd.resonator_tl_ground,\n",
    "                          closed_end_meander_length=2500, length_left=300, length_right=300,\n",
    "                          min_bridge_spacing = None,\n",
    "                          airbridge = None, object1=sqd.sample.qubits[0], port='coupler0',\n",
    "                          open_end_length = 1000,\n",
    "                          port_orientation='right', direction_orientation='up')"
   ]
  },
  {
   "cell_type": "code",
   "execution_count": 6,
   "metadata": {},
   "outputs": [],
   "source": [
    "res_coupler_q2,res_q2_params = auxfuncs.draw_rounded_single_resonator_plus_qubit(sqd.sample,\n",
    "                          5600, coupler_start_y, coupler_length,\n",
    "                          sqd.resonator_core,sqd.resonator_gap, sqd.resonator_ground,\n",
    "                          sqd.tl_core, sqd.tl_gap, sqd.tl_ground, sqd.resonator_tl_ground,\n",
    "                          closed_end_meander_length=2500, length_left=300, length_right=300,\n",
    "                          min_bridge_spacing = None,\n",
    "                          airbridge = None, object1=sqd.sample.qubits[1], port='coupler0',\n",
    "                          open_end_length = 1000,\n",
    "                          port_orientation='right', direction_orientation='up')"
   ]
  },
  {
   "cell_type": "code",
   "execution_count": 7,
   "metadata": {},
   "outputs": [],
   "source": [
    "res_coupler_q3,res_q3_params = auxfuncs.draw_rounded_single_resonator_plus_qubit(sqd.sample,\n",
    "                          2350, coupler_start_y, coupler_length,\n",
    "                          sqd.resonator_core,sqd.resonator_gap, sqd.resonator_ground,\n",
    "                          sqd.tl_core, sqd.tl_gap, sqd.tl_ground, sqd.resonator_tl_ground,\n",
    "                          closed_end_meander_length=2500, length_left=300, length_right=300,\n",
    "                          min_bridge_spacing = None,\n",
    "                          airbridge = None, object1=sqd.sample.qubits[2], port='coupler0',\n",
    "                          open_end_length = 1000,\n",
    "                          port_orientation='right', direction_orientation='down',transmission=False)"
   ]
  },
  {
   "cell_type": "code",
   "execution_count": 8,
   "metadata": {},
   "outputs": [],
   "source": [
    "res_coupler_q4,res_q4_params = auxfuncs.draw_rounded_single_resonator_plus_qubit(sqd.sample,\n",
    "                          7000, coupler_start_y, coupler_length,\n",
    "                          sqd.resonator_core,sqd.resonator_gap, sqd.resonator_ground,\n",
    "                          sqd.tl_core, sqd.tl_gap, sqd.tl_ground, sqd.resonator_tl_ground,\n",
    "                          closed_end_meander_length=2500, length_left=300, length_right=300,\n",
    "                          min_bridge_spacing = None,\n",
    "                          airbridge = None, object1=sqd.sample.qubits[3], port='coupler0',\n",
    "                          open_end_length = 1000,\n",
    "                          port_orientation='right', direction_orientation='down')"
   ]
  },
  {
   "cell_type": "code",
   "execution_count": 7,
   "metadata": {},
   "outputs": [
    {
     "name": "stdout",
     "output_type": "stream",
     "text": [
      "CPWCoupler \"TL-resonator coupler\", n=1, l=50.000 port2\n"
     ]
    },
    {
     "ename": "ValueError",
     "evalue": "Too short segment in line to round corner with given radius",
     "output_type": "error",
     "traceback": [
      "\u001b[1;31m---------------------------------------------------------------------------\u001b[0m",
      "\u001b[1;31mValueError\u001b[0m                                Traceback (most recent call last)",
      "\u001b[1;32m<ipython-input-7-f0f2298a1891>\u001b[0m in \u001b[0;36m<module>\u001b[1;34m\u001b[0m\n\u001b[1;32m----> 1\u001b[1;33m res_coupler_t1,res_t1_params = auxfuncs.draw_rounded_single_resonator(sqd.sample,\n\u001b[0m\u001b[0;32m      2\u001b[0m                           \u001b[1;36m4000\u001b[0m\u001b[1;33m,\u001b[0m \u001b[0mcoupler_start_y\u001b[0m\u001b[1;33m,\u001b[0m \u001b[1;36m10\u001b[0m\u001b[1;33m,\u001b[0m\u001b[1;33m\u001b[0m\u001b[1;33m\u001b[0m\u001b[0m\n\u001b[0;32m      3\u001b[0m                           \u001b[0msqd\u001b[0m\u001b[1;33m.\u001b[0m\u001b[0mresonator_core\u001b[0m\u001b[1;33m,\u001b[0m\u001b[0msqd\u001b[0m\u001b[1;33m.\u001b[0m\u001b[0mresonator_gap\u001b[0m\u001b[1;33m,\u001b[0m \u001b[0msqd\u001b[0m\u001b[1;33m.\u001b[0m\u001b[0mresonator_ground\u001b[0m\u001b[1;33m,\u001b[0m\u001b[1;33m\u001b[0m\u001b[1;33m\u001b[0m\u001b[0m\n\u001b[0;32m      4\u001b[0m                           \u001b[0msqd\u001b[0m\u001b[1;33m.\u001b[0m\u001b[0mtl_core\u001b[0m\u001b[1;33m,\u001b[0m \u001b[0msqd\u001b[0m\u001b[1;33m.\u001b[0m\u001b[0mtl_gap\u001b[0m\u001b[1;33m,\u001b[0m \u001b[0msqd\u001b[0m\u001b[1;33m.\u001b[0m\u001b[0mtl_ground\u001b[0m\u001b[1;33m,\u001b[0m \u001b[0msqd\u001b[0m\u001b[1;33m.\u001b[0m\u001b[0mresonator_tl_ground\u001b[0m\u001b[1;33m,\u001b[0m\u001b[1;33m\u001b[0m\u001b[1;33m\u001b[0m\u001b[0m\n\u001b[0;32m      5\u001b[0m                           \u001b[0mclosed_end_meander_length\u001b[0m\u001b[1;33m=\u001b[0m\u001b[1;36m2000\u001b[0m\u001b[1;33m,\u001b[0m \u001b[0mlength_left\u001b[0m\u001b[1;33m=\u001b[0m\u001b[1;36m150\u001b[0m\u001b[1;33m,\u001b[0m \u001b[0mlength_right\u001b[0m\u001b[1;33m=\u001b[0m\u001b[1;36m150\u001b[0m\u001b[1;33m,\u001b[0m\u001b[1;33m\u001b[0m\u001b[1;33m\u001b[0m\u001b[0m\n",
      "\u001b[1;32mC:\\Python\\Github\\QCreator\\designs\\Single_qubit_design_pp_qubits\\..\\..\\QCreator\\auxiliary_functions.py\u001b[0m in \u001b[0;36mdraw_rounded_single_resonator\u001b[1;34m(sample, coupler_start_x, coupler_start_y, coupler_length, resonator_core, resonator_gap, resonator_ground, tl_core, tl_gap, tl_ground, grounding_width, closed_end_meander_length, length_left, length_right, open_end_length, min_bridge_spacing, airbridge, port_orientation, meander_orientation, direction_orientation, transmission)\u001b[0m\n\u001b[0;32m    754\u001b[0m                           \u001b[0mopen_end_length\u001b[0m\u001b[1;33m,\u001b[0m \u001b[0mmin_bridge_spacing\u001b[0m\u001b[1;33m=\u001b[0m\u001b[1;32mNone\u001b[0m\u001b[1;33m,\u001b[0m \u001b[0mairbridge\u001b[0m\u001b[1;33m=\u001b[0m\u001b[1;32mNone\u001b[0m\u001b[1;33m,\u001b[0m\u001b[1;33m\u001b[0m\u001b[1;33m\u001b[0m\u001b[0m\n\u001b[0;32m    755\u001b[0m                           port_orientation='left',meander_orientation='right', direction_orientation='down',transmission=True):\n\u001b[1;32m--> 756\u001b[1;33m     return draw_rounded_single_resonator_plus_qubit(sample,\n\u001b[0m\u001b[0;32m    757\u001b[0m                                             \u001b[0mcoupler_start_x\u001b[0m\u001b[1;33m,\u001b[0m \u001b[0mcoupler_start_y\u001b[0m\u001b[1;33m,\u001b[0m \u001b[0mcoupler_length\u001b[0m\u001b[1;33m,\u001b[0m\u001b[1;33m\u001b[0m\u001b[1;33m\u001b[0m\u001b[0m\n\u001b[0;32m    758\u001b[0m                                             \u001b[0mresonator_core\u001b[0m\u001b[1;33m,\u001b[0m\u001b[0mresonator_gap\u001b[0m\u001b[1;33m,\u001b[0m \u001b[0mresonator_ground\u001b[0m\u001b[1;33m,\u001b[0m\u001b[1;33m\u001b[0m\u001b[1;33m\u001b[0m\u001b[0m\n",
      "\u001b[1;32mC:\\Python\\Github\\QCreator\\designs\\Single_qubit_design_pp_qubits\\..\\..\\QCreator\\auxiliary_functions.py\u001b[0m in \u001b[0;36mdraw_rounded_single_resonator_plus_qubit\u001b[1;34m(sample, coupler_start_x, coupler_start_y, coupler_length, resonator_core, resonator_gap, resonator_ground, tl_core, tl_gap, tl_ground, resonator_tl_ground, closed_end_meander_length, length_left, length_right, min_bridge_spacing, airbridge, object1, port, open_end_length, port_orientation, meander_orientation, direction_orientation, points_for_the_open_end, transmission)\u001b[0m\n\u001b[0;32m    684\u001b[0m     \u001b[1;31m# 6. Create closed meander of resonator\u001b[0m\u001b[1;33m\u001b[0m\u001b[1;33m\u001b[0m\u001b[1;33m\u001b[0m\u001b[0m\n\u001b[0;32m    685\u001b[0m     \u001b[0mprint\u001b[0m\u001b[1;33m(\u001b[0m\u001b[0mfanout1\u001b[0m\u001b[1;33m,\u001b[0m\u001b[0mfanout1_port\u001b[0m\u001b[1;33m)\u001b[0m\u001b[1;33m\u001b[0m\u001b[1;33m\u001b[0m\u001b[0m\n\u001b[1;32m--> 686\u001b[1;33m     closed_end_meander = sample.connect_meander(name='closed end', o1=fanout1, port1=fanout1_port,\n\u001b[0m\u001b[0;32m    687\u001b[0m                                                 \u001b[0mmeander_length\u001b[0m\u001b[1;33m=\u001b[0m\u001b[0mclosed_end_meander_length\u001b[0m\u001b[1;33m,\u001b[0m\u001b[1;33m\u001b[0m\u001b[1;33m\u001b[0m\u001b[0m\n\u001b[0;32m    688\u001b[0m                                                 \u001b[0mlength_left\u001b[0m\u001b[1;33m=\u001b[0m\u001b[0mlength_left\u001b[0m\u001b[1;33m,\u001b[0m\u001b[1;33m\u001b[0m\u001b[1;33m\u001b[0m\u001b[0m\n",
      "\u001b[1;32mC:\\Python\\Github\\QCreator\\designs\\Single_qubit_design_pp_qubits\\..\\..\\QCreator\\general_sample_creator.py\u001b[0m in \u001b[0;36mconnect_meander\u001b[1;34m(self, name, o1, port1, meander_length, length_left, length_right, first_step_orientation, meander_orientation, end_point, end_orientation, meander_type, airbridge, min_spacing, r)\u001b[0m\n\u001b[0;32m    602\u001b[0m         \u001b[0morientation_\u001b[0m \u001b[1;33m=\u001b[0m \u001b[0mt1\u001b[0m\u001b[1;33m.\u001b[0m\u001b[0morientation\u001b[0m\u001b[1;33m\u001b[0m\u001b[1;33m\u001b[0m\u001b[0m\n\u001b[0;32m    603\u001b[0m \u001b[1;33m\u001b[0m\u001b[0m\n\u001b[1;32m--> 604\u001b[1;33m         meander = elements.meander_creation(name=name, initial_position=initial_position_, w=w_, s=s_, g=g_,\n\u001b[0m\u001b[0;32m    605\u001b[0m                                             \u001b[0morientation\u001b[0m\u001b[1;33m=\u001b[0m\u001b[0morientation_\u001b[0m\u001b[1;33m,\u001b[0m \u001b[0mmeander_length\u001b[0m\u001b[1;33m=\u001b[0m\u001b[0mmeander_length\u001b[0m\u001b[1;33m,\u001b[0m\u001b[1;33m\u001b[0m\u001b[1;33m\u001b[0m\u001b[0m\n\u001b[0;32m    606\u001b[0m                                             \u001b[0mlength_left\u001b[0m\u001b[1;33m=\u001b[0m\u001b[0mlength_left\u001b[0m\u001b[1;33m,\u001b[0m \u001b[0mlength_right\u001b[0m\u001b[1;33m=\u001b[0m\u001b[0mlength_right\u001b[0m\u001b[1;33m,\u001b[0m\u001b[1;33m\u001b[0m\u001b[1;33m\u001b[0m\u001b[0m\n",
      "\u001b[1;32mC:\\Python\\Github\\QCreator\\designs\\Single_qubit_design_pp_qubits\\..\\..\\QCreator\\elements\\meander.py\u001b[0m in \u001b[0;36mmeander_creation\u001b[1;34m(name, initial_position, w, s, g, orientation, meander_length, length_left, length_right, first_step_orientation, meander_orientation, end_point, end_orientation, layer_configuration, meander_type, r)\u001b[0m\n\u001b[0;32m     86\u001b[0m     \u001b[1;31m#     i = 0\u001b[0m\u001b[1;33m\u001b[0m\u001b[1;33m\u001b[0m\u001b[1;33m\u001b[0m\u001b[0m\n\u001b[0;32m     87\u001b[0m     \u001b[1;31m# else:\u001b[0m\u001b[1;33m\u001b[0m\u001b[1;33m\u001b[0m\u001b[1;33m\u001b[0m\u001b[0m\n\u001b[1;32m---> 88\u001b[1;33m     rendering_meander = CPW(name=name, points=deepcopy(points+end_point_indent), w=w, s=s, g=g,\n\u001b[0m\u001b[0;32m     89\u001b[0m                             \u001b[0mlayer_configuration\u001b[0m\u001b[1;33m=\u001b[0m\u001b[0mlayer_configuration\u001b[0m\u001b[1;33m,\u001b[0m \u001b[0mr\u001b[0m\u001b[1;33m=\u001b[0m\u001b[0mbend_radius\u001b[0m\u001b[1;33m,\u001b[0m\u001b[1;33m\u001b[0m\u001b[1;33m\u001b[0m\u001b[0m\n\u001b[0;32m     90\u001b[0m                             corner_type=meander_type)\n",
      "\u001b[1;32mC:\\Python\\Github\\QCreator\\designs\\Single_qubit_design_pp_qubits\\..\\..\\QCreator\\elements\\cpw.py\u001b[0m in \u001b[0;36m__init__\u001b[1;34m(self, name, points, w, s, g, layer_configuration, r, corner_type, orientation1, orientation2)\u001b[0m\n\u001b[0;32m    246\u001b[0m                  \u001b[0mlayer_configuration\u001b[0m\u001b[1;33m:\u001b[0m \u001b[0mLayerConfiguration\u001b[0m\u001b[1;33m,\u001b[0m \u001b[0mr\u001b[0m\u001b[1;33m:\u001b[0m \u001b[0mfloat\u001b[0m\u001b[1;33m,\u001b[0m \u001b[0mcorner_type\u001b[0m\u001b[1;33m:\u001b[0m \u001b[0mstr\u001b[0m \u001b[1;33m=\u001b[0m \u001b[1;34m'round'\u001b[0m\u001b[1;33m,\u001b[0m\u001b[1;33m\u001b[0m\u001b[1;33m\u001b[0m\u001b[0m\n\u001b[0;32m    247\u001b[0m                  orientation1: float = None, orientation2: float = None):\n\u001b[1;32m--> 248\u001b[1;33m         \u001b[0msuper\u001b[0m\u001b[1;33m(\u001b[0m\u001b[1;33m)\u001b[0m\u001b[1;33m.\u001b[0m\u001b[0m__init__\u001b[0m\u001b[1;33m(\u001b[0m\u001b[0mname\u001b[0m\u001b[1;33m,\u001b[0m \u001b[0mpoints\u001b[0m\u001b[1;33m,\u001b[0m \u001b[1;33m[\u001b[0m\u001b[0mw\u001b[0m\u001b[1;33m]\u001b[0m\u001b[1;33m,\u001b[0m \u001b[1;33m[\u001b[0m\u001b[0ms\u001b[0m\u001b[1;33m,\u001b[0m \u001b[0ms\u001b[0m\u001b[1;33m]\u001b[0m\u001b[1;33m,\u001b[0m \u001b[0mg\u001b[0m\u001b[1;33m,\u001b[0m \u001b[0mlayer_configuration\u001b[0m\u001b[1;33m,\u001b[0m \u001b[0mr\u001b[0m\u001b[1;33m,\u001b[0m \u001b[0mcorner_type\u001b[0m\u001b[1;33m,\u001b[0m \u001b[0morientation1\u001b[0m\u001b[1;33m,\u001b[0m \u001b[0morientation2\u001b[0m\u001b[1;33m)\u001b[0m\u001b[1;33m\u001b[0m\u001b[1;33m\u001b[0m\u001b[0m\n\u001b[0m\u001b[0;32m    249\u001b[0m \u001b[1;33m\u001b[0m\u001b[0m\n\u001b[0;32m    250\u001b[0m         \u001b[0mself\u001b[0m\u001b[1;33m.\u001b[0m\u001b[0mterminals\u001b[0m\u001b[1;33m[\u001b[0m\u001b[1;34m'port1'\u001b[0m\u001b[1;33m]\u001b[0m\u001b[1;33m.\u001b[0m\u001b[0mtype\u001b[0m \u001b[1;33m=\u001b[0m \u001b[1;34m'cpw'\u001b[0m\u001b[1;33m\u001b[0m\u001b[1;33m\u001b[0m\u001b[0m\n",
      "\u001b[1;32mC:\\Python\\Github\\QCreator\\designs\\Single_qubit_design_pp_qubits\\..\\..\\QCreator\\elements\\cpw.py\u001b[0m in \u001b[0;36m__init__\u001b[1;34m(self, name, points, w, s, g, layer_configuration, r, corner_type, orientation1, orientation2, kinetic_inductance)\u001b[0m\n\u001b[0;32m     59\u001b[0m \u001b[1;33m\u001b[0m\u001b[0m\n\u001b[0;32m     60\u001b[0m         \u001b[0mself\u001b[0m\u001b[1;33m.\u001b[0m\u001b[0msegments\u001b[0m \u001b[1;33m=\u001b[0m \u001b[1;33m[\u001b[0m\u001b[1;33m]\u001b[0m\u001b[1;33m\u001b[0m\u001b[1;33m\u001b[0m\u001b[0m\n\u001b[1;32m---> 61\u001b[1;33m         \u001b[0mself\u001b[0m\u001b[1;33m.\u001b[0m\u001b[0mfinalize_points\u001b[0m\u001b[1;33m(\u001b[0m\u001b[1;33m)\u001b[0m\u001b[1;33m\u001b[0m\u001b[1;33m\u001b[0m\u001b[0m\n\u001b[0m\u001b[0;32m     62\u001b[0m \u001b[1;33m\u001b[0m\u001b[0m\n\u001b[0;32m     63\u001b[0m     \u001b[1;32mdef\u001b[0m \u001b[0mfinalize_points\u001b[0m\u001b[1;33m(\u001b[0m\u001b[0mself\u001b[0m\u001b[1;33m)\u001b[0m\u001b[1;33m:\u001b[0m\u001b[1;33m\u001b[0m\u001b[1;33m\u001b[0m\u001b[0m\n",
      "\u001b[1;32mC:\\Python\\Github\\QCreator\\designs\\Single_qubit_design_pp_qubits\\..\\..\\QCreator\\elements\\cpw.py\u001b[0m in \u001b[0;36mfinalize_points\u001b[1;34m(self)\u001b[0m\n\u001b[0;32m    141\u001b[0m \u001b[1;33m\u001b[0m\u001b[0m\n\u001b[0;32m    142\u001b[0m                 \u001b[1;32mif\u001b[0m \u001b[0mreplaced_length\u001b[0m \u001b[1;33m>\u001b[0m \u001b[0mlength1\u001b[0m\u001b[1;33m+\u001b[0m\u001b[0meps\u001b[0m \u001b[1;32mor\u001b[0m \u001b[0mreplaced_length\u001b[0m \u001b[1;33m>\u001b[0m \u001b[0mlength2\u001b[0m\u001b[1;33m:\u001b[0m\u001b[1;33m\u001b[0m\u001b[1;33m\u001b[0m\u001b[0m\n\u001b[1;32m--> 143\u001b[1;33m                     \u001b[1;32mraise\u001b[0m \u001b[0mValueError\u001b[0m\u001b[1;33m(\u001b[0m\u001b[1;34m'Too short segment in line to round corner with given radius'\u001b[0m\u001b[1;33m)\u001b[0m\u001b[1;33m\u001b[0m\u001b[1;33m\u001b[0m\u001b[0m\n\u001b[0m\u001b[0;32m    144\u001b[0m \u001b[1;33m\u001b[0m\u001b[0m\n\u001b[0;32m    145\u001b[0m                 \u001b[1;32mif\u001b[0m \u001b[0mlength1\u001b[0m \u001b[1;33m-\u001b[0m \u001b[0mreplaced_length\u001b[0m \u001b[1;33m>\u001b[0m \u001b[0meps\u001b[0m\u001b[1;33m:\u001b[0m\u001b[1;33m\u001b[0m\u001b[1;33m\u001b[0m\u001b[0m\n",
      "\u001b[1;31mValueError\u001b[0m: Too short segment in line to round corner with given radius"
     ]
    }
   ],
   "source": [
    "res_coupler_t1,res_t1_params = auxfuncs.draw_rounded_single_resonator(sqd.sample,\n",
    "                          4000, coupler_start_y, 10,\n",
    "                          sqd.resonator_core,sqd.resonator_gap, sqd.resonator_ground,\n",
    "                          sqd.tl_core, sqd.tl_gap, sqd.tl_ground, sqd.resonator_tl_ground,\n",
    "                          closed_end_meander_length=2000, length_left=150, length_right=150,\n",
    "                          min_bridge_spacing = None,\n",
    "                          airbridge = None,\n",
    "                          open_end_length = 150,\n",
    "                          port_orientation='left',meander_orientation='right', direction_orientation='down',transmission=True)"
   ]
  },
  {
   "cell_type": "markdown",
   "metadata": {},
   "source": [
    "# Connect resonators into feedline"
   ]
  },
  {
   "cell_type": "code",
   "execution_count": 10,
   "metadata": {},
   "outputs": [
    {
     "data": {
      "text/plain": [
       "[CPW \"feedline\", l=8400.000]"
      ]
     },
     "execution_count": 10,
     "metadata": {},
     "output_type": "execute_result"
    }
   ],
   "source": [
    "sqd.sample.connect_cpw(o1=sqd.p1, o2=sqd.p2, port1='port', port2='port', name='feedline', \n",
    "                       points=[])\n",
    "# sqd.sample.connect_cpw(o1=res_coupler_q1, o2=res_coupler_q2, port1='port1', port2='port2', name='feedline', \n",
    "#                        points=[])"
   ]
  },
  {
   "cell_type": "code",
   "execution_count": 11,
   "metadata": {},
   "outputs": [
    {
     "data": {
      "text/plain": [
       "[CPW \"flux_control_line_qubit_coupler\", l=863.467]"
      ]
     },
     "execution_count": 11,
     "metadata": {},
     "output_type": "execute_result"
    }
   ],
   "source": [
    "pad=sqd.sample.qubits[0]\n",
    "port='coupler1'\n",
    "narrowing_length=100\n",
    "flux_line_narrowing_position = sqd.sample.cpw_shift(pad, port, narrowing_length/2)[0]\n",
    "\n",
    "flux_line_narrowing = sqd.elements.Narrowing(name='flux_line_narrowing', position=flux_line_narrowing_position, \n",
    "                                         orientation=pad.get_terminals()[port].orientation+np.pi, \n",
    "                                         w1=pad.get_terminals()[port].w, \n",
    "                                         s1=pad.get_terminals()[port].s, g1=pad.get_terminals()[port].g,\n",
    "                                         w2=sqd.tl_core, s2=sqd.tl_gap, g2=sqd.tl_ground, \n",
    "                                         layer_configuration=sqd.sample.layer_configuration, length=narrowing_length)\n",
    "sqd.sample.add(flux_line_narrowing)\n",
    "sqd.sample.connect(flux_line_narrowing, 'port1', pad, port)\n",
    "sqd.sample.connect_cpw(sqd.pads_top[0], flux_line_narrowing, 'port', 'port2', 'flux_control_line_qubit_coupler', points=[],\n",
    "                      airbridge=None, min_spacing=None, r=80)\n",
    "pad=sqd.sample.qubits[1]\n",
    "port='coupler1'\n",
    "narrowing_length=100\n",
    "flux_line_narrowing_position = sqd.sample.cpw_shift(pad, port, narrowing_length/2)[0]\n",
    "\n",
    "flux_line_narrowing = sqd.elements.Narrowing(name='flux_line_narrowing', position=flux_line_narrowing_position, \n",
    "                                         orientation=pad.get_terminals()[port].orientation+np.pi, \n",
    "                                         w1=pad.get_terminals()[port].w, \n",
    "                                         s1=pad.get_terminals()[port].s, g1=pad.get_terminals()[port].g,\n",
    "                                         w2=sqd.tl_core, s2=sqd.tl_gap, g2=sqd.tl_ground, \n",
    "                                         layer_configuration=sqd.sample.layer_configuration, length=narrowing_length)\n",
    "sqd.sample.add(flux_line_narrowing)\n",
    "sqd.sample.connect(flux_line_narrowing, 'port1', pad, port)\n",
    "sqd.sample.connect_cpw(sqd.pads_top[1], flux_line_narrowing, 'port', 'port2', 'flux_control_line_qubit_coupler', points=[],\n",
    "                      airbridge=None, min_spacing=None, r=80)"
   ]
  },
  {
   "cell_type": "code",
   "execution_count": 16,
   "metadata": {},
   "outputs": [],
   "source": [
    "sqd.sample.draw_design(True)\n",
    "sqd.sample.draw_terminals()\n",
    "sqd.sample.watch(True)"
   ]
  },
  {
   "cell_type": "code",
   "execution_count": 13,
   "metadata": {},
   "outputs": [
    {
     "name": "stdout",
     "output_type": "stream",
     "text": [
      "Gds file has been writen here:  C:\\Python\\Github\\QCreator\\designs\\Single_qubit_design_pp_qubits/Single_qubits_PP_2.gds\n"
     ]
    }
   ],
   "source": [
    "sqd.sample.write_to_gds()"
   ]
  },
  {
   "cell_type": "code",
   "execution_count": 14,
   "metadata": {},
   "outputs": [
    {
     "data": {
      "text/plain": [
       "array([1400. , 3013.5])"
      ]
     },
     "execution_count": 14,
     "metadata": {},
     "output_type": "execute_result"
    }
   ],
   "source": [
    "res_coupler_q1.end"
   ]
  },
  {
   "cell_type": "code",
   "execution_count": null,
   "metadata": {},
   "outputs": [],
   "source": []
  }
 ],
 "metadata": {
  "kernelspec": {
   "display_name": "Python 3",
   "language": "python",
   "name": "python3"
  },
  "language_info": {
   "codemirror_mode": {
    "name": "ipython",
    "version": 3
   },
   "file_extension": ".py",
   "mimetype": "text/x-python",
   "name": "python",
   "nbconvert_exporter": "python",
   "pygments_lexer": "ipython3",
   "version": "3.9.5"
  }
 },
 "nbformat": 4,
 "nbformat_minor": 4
}
