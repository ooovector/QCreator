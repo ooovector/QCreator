{
 "cells": [
  {
   "cell_type": "code",
   "execution_count": 1,
   "metadata": {},
   "outputs": [],
   "source": [
    "from importlib import reload\n",
    "import numpy as np\n",
    "from matplotlib import pyplot as plt\n",
    "import Single_qubit_design_PP_qubits as sqd\n",
    "import QCreator.auxiliary_functions as auxfuncs"
   ]
  },
  {
   "cell_type": "code",
   "execution_count": 2,
   "metadata": {},
   "outputs": [
    {
     "data": {
      "text/plain": [
       "<module 'Single_qubit_design_PP_qubits' from 'C:\\\\Python\\\\Github\\\\QCreator\\\\designs\\\\Single_qubit_design_pp_qubits\\\\Single_qubit_design_PP_qubits.py'>"
      ]
     },
     "execution_count": 2,
     "metadata": {},
     "output_type": "execute_result"
    }
   ],
   "source": [
    "reload(sqd)"
   ]
  },
  {
   "cell_type": "code",
   "execution_count": 3,
   "metadata": {},
   "outputs": [],
   "source": [
    "sqd.sample.draw_design(True)\n",
    "sqd.sample.draw_terminals()\n",
    "# sqd.sample.watch(True)"
   ]
  },
  {
   "cell_type": "markdown",
   "metadata": {},
   "source": [
    "# Draw a qubit design"
   ]
  },
  {
   "cell_type": "code",
   "execution_count": 4,
   "metadata": {},
   "outputs": [],
   "source": [
    "coupler_start_x,coupler_start_y = (1400,3000)\n",
    "grounding_width=10\n",
    "coupler_length=400"
   ]
  },
  {
   "cell_type": "code",
   "execution_count": 5,
   "metadata": {},
   "outputs": [
    {
     "name": "stdout",
     "output_type": "stream",
     "text": [
      "{'port1': Type: cpw, Position: (1930.0, 3213.5), Orientation: 1.571\n",
      "w: 8, s: 7, g: 15\n",
      "reversed: False, 'port2': Type: cpw, Position: (1930.0, 3263.5), Orientation: -1.571\n",
      "w: 8, s: 7, g: 15\n",
      "reversed: True}\n",
      "{'qubit': None, 'coupler0': Type: cpw, Position: (3100.0, 4061.0), Orientation: 1.571\n",
      "w: 8, s: 7, g: 15\n",
      "reversed: True, 'coupler1': Type: cpw, Position: (2752.0, 4514.0), Orientation: 0.0\n",
      "w: 8, s: 7, g: 15\n",
      "reversed: True, 'coupler2': Type: cpw, Position: (2752.0, 4514.0), Orientation: 0.0\n",
      "w: 8, s: 7, g: 15\n",
      "reversed: True}\n"
     ]
    }
   ],
   "source": [
    "res_coupler_q1,res_q1_params = auxfuncs.draw_rounded_single_resonator_plus_qubit(sqd.sample,\n",
    "                          coupler_start_x, coupler_start_y, coupler_length,\n",
    "                          sqd.resonator_core,sqd.resonator_gap, sqd.resonator_ground,\n",
    "                          sqd.tl_core, sqd.tl_gap, sqd.tl_ground, sqd.resonator_tl_ground,\n",
    "                          closed_end_meander_length=2500, length_left=300, length_right=300,\n",
    "                          min_bridge_spacing = None,\n",
    "                          airbridge = None, object1=sqd.sample.qubits[0], port='coupler0',\n",
    "                          open_end_length = 1000,\n",
    "                          port_orientation='right', direction_orientation='up')"
   ]
  },
  {
   "cell_type": "code",
   "execution_count": 6,
   "metadata": {},
   "outputs": [
    {
     "name": "stdout",
     "output_type": "stream",
     "text": [
      "{'port1': Type: cpw, Position: (6930.0, 3213.5), Orientation: 1.571\n",
      "w: 8, s: 7, g: 15\n",
      "reversed: False, 'port2': Type: cpw, Position: (6930.0, 3263.5), Orientation: -1.571\n",
      "w: 8, s: 7, g: 15\n",
      "reversed: True}\n",
      "{'qubit': None, 'coupler0': Type: cpw, Position: (6600.0, 4061.0), Orientation: 1.571\n",
      "w: 8, s: 7, g: 15\n",
      "reversed: True, 'coupler1': Type: cpw, Position: (6948.0, 4486.0), Orientation: -3.142\n",
      "w: 8, s: 7, g: 15\n",
      "reversed: True, 'coupler2': Type: cpw, Position: (6948.0, 4486.0), Orientation: -3.142\n",
      "w: 8, s: 7, g: 15\n",
      "reversed: True}\n"
     ]
    }
   ],
   "source": [
    "res_coupler_q2,res_q2_params = auxfuncs.draw_rounded_single_resonator_plus_qubit(sqd.sample,\n",
    "                          coupler_start_x+5000, coupler_start_y, coupler_length,\n",
    "                          sqd.resonator_core,sqd.resonator_gap, sqd.resonator_ground,\n",
    "                          sqd.tl_core, sqd.tl_gap, sqd.tl_ground, sqd.resonator_tl_ground,\n",
    "                          closed_end_meander_length=2500, length_left=300, length_right=300,\n",
    "                          min_bridge_spacing = None,\n",
    "                          airbridge = None, object1=sqd.sample.qubits[1], port='coupler0',\n",
    "                          open_end_length = 1000,\n",
    "                          port_orientation='right', direction_orientation='up')"
   ]
  },
  {
   "cell_type": "code",
   "execution_count": 7,
   "metadata": {},
   "outputs": [
    {
     "name": "stdout",
     "output_type": "stream",
     "text": [
      "{'port1': Type: cpw, Position: (2220.0, 2786.5), Orientation: -1.571\n",
      "w: 8, s: 7, g: 15\n",
      "reversed: False, 'port2': Type: cpw, Position: (2220.0, 2736.5), Orientation: 1.571\n",
      "w: 8, s: 7, g: 15\n",
      "reversed: True}\n",
      "{'qubit': None, 'coupler0': Type: cpw, Position: (2000.0, 1939.0), Orientation: -1.571\n",
      "w: 8, s: 7, g: 15\n",
      "reversed: True, 'coupler1': Type: cpw, Position: (5348.0, 386.0), Orientation: -3.142\n",
      "w: 8, s: 7, g: 15\n",
      "reversed: True, 'coupler2': Type: cpw, Position: (5348.0, 386.0), Orientation: -3.142\n",
      "w: 8, s: 7, g: 15\n",
      "reversed: True}\n"
     ]
    }
   ],
   "source": [
    "res_coupler_q3,res_q3_params = auxfuncs.draw_rounded_single_resonator_plus_qubit(sqd.sample,\n",
    "                          2350, coupler_start_y, coupler_length,\n",
    "                          sqd.resonator_core,sqd.resonator_gap, sqd.resonator_ground,\n",
    "                          sqd.tl_core, sqd.tl_gap, sqd.tl_ground, sqd.resonator_tl_ground,\n",
    "                          closed_end_meander_length=2500, length_left=300, length_right=300,\n",
    "                          min_bridge_spacing = None,\n",
    "                          airbridge = None, object1=sqd.sample.qubits[2], port='coupler0',\n",
    "                          open_end_length = 1000,\n",
    "                          port_orientation='right', direction_orientation='down')"
   ]
  },
  {
   "cell_type": "markdown",
   "metadata": {},
   "source": [
    "# Connect resonators into feedline"
   ]
  },
  {
   "cell_type": "code",
   "execution_count": 8,
   "metadata": {},
   "outputs": [],
   "source": [
    "# sqd.sample.connect_cpw(o1=sqd.p1, o2=res_coupler_q3, port1='port', port2='port1', name='feedline', \n",
    "#                        points=[])\n",
    "# sqd.sample.connect_cpw(o1=res_coupler_q1, o2=res_coupler_q2, port1='port1', port2='port2', name='feedline', \n",
    "#                        points=[])"
   ]
  },
  {
   "cell_type": "code",
   "execution_count": 9,
   "metadata": {},
   "outputs": [
    {
     "data": {
      "text/plain": [
       "[CPW \"flux_control_line_qubit_coupler\", l=766.806]"
      ]
     },
     "execution_count": 9,
     "metadata": {},
     "output_type": "execute_result"
    }
   ],
   "source": [
    "pad=sqd.sample.qubits[0]\n",
    "port='coupler1'\n",
    "narrowing_length=100\n",
    "flux_line_narrowing_position = sqd.sample.cpw_shift(pad, port, narrowing_length/2)[0]\n",
    "\n",
    "flux_line_narrowing = sqd.elements.Narrowing(name='flux_line_narrowing', position=flux_line_narrowing_position, \n",
    "                                         orientation=pad.get_terminals()[port].orientation+np.pi, \n",
    "                                         w1=pad.get_terminals()[port].w, \n",
    "                                         s1=pad.get_terminals()[port].s, g1=pad.get_terminals()[port].g,\n",
    "                                         w2=sqd.tl_core, s2=sqd.tl_gap, g2=sqd.tl_ground, \n",
    "                                         layer_configuration=sqd.sample.layer_configuration, length=narrowing_length)\n",
    "sqd.sample.add(flux_line_narrowing)\n",
    "sqd.sample.connect(flux_line_narrowing, 'port1', pad, port)\n",
    "sqd.sample.connect_cpw(sqd.pads_top[0], flux_line_narrowing, 'port', 'port2', 'flux_control_line_qubit_coupler', points=[],\n",
    "                      airbridge=None, min_spacing=None, r=80)"
   ]
  },
  {
   "cell_type": "code",
   "execution_count": 10,
   "metadata": {},
   "outputs": [],
   "source": [
    "sqd.sample.draw_design(True)\n",
    "sqd.sample.draw_terminals()\n",
    "# sqd.sample.watch(True)"
   ]
  },
  {
   "cell_type": "code",
   "execution_count": 11,
   "metadata": {},
   "outputs": [
    {
     "name": "stdout",
     "output_type": "stream",
     "text": [
      "Gds file has been writen here:  C:\\Python\\Github\\QCreator\\designs\\Single_qubit_design_pp_qubits/Single_qubits_PP_2.gds\n"
     ]
    }
   ],
   "source": [
    "sqd.sample.write_to_gds()"
   ]
  },
  {
   "cell_type": "code",
   "execution_count": 12,
   "metadata": {},
   "outputs": [
    {
     "data": {
      "text/plain": [
       "array([1400. , 3013.5])"
      ]
     },
     "execution_count": 12,
     "metadata": {},
     "output_type": "execute_result"
    }
   ],
   "source": [
    "res_coupler_q1.end"
   ]
  },
  {
   "cell_type": "code",
   "execution_count": null,
   "metadata": {},
   "outputs": [],
   "source": []
  }
 ],
 "metadata": {
  "kernelspec": {
   "display_name": "Python 3",
   "language": "python",
   "name": "python3"
  },
  "language_info": {
   "codemirror_mode": {
    "name": "ipython",
    "version": 3
   },
   "file_extension": ".py",
   "mimetype": "text/x-python",
   "name": "python",
   "nbconvert_exporter": "python",
   "pygments_lexer": "ipython3",
   "version": "3.9.5"
  }
 },
 "nbformat": 4,
 "nbformat_minor": 4
}
