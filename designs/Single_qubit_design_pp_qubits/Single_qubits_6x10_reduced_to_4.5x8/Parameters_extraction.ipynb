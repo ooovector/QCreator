{
 "cells": [
  {
   "cell_type": "code",
   "execution_count": 1,
   "metadata": {},
   "outputs": [],
   "source": [
    "import numpy as np\n",
    "from scipy.constants import hbar,h,e,c\n",
    "from scipy.constants import elementary_charge as elc\n",
    "F0 = 2.0678e-15"
   ]
  },
  {
   "cell_type": "code",
   "execution_count": 2,
   "metadata": {},
   "outputs": [],
   "source": [
    "e_eff=(11.45+1)/2## for all calculations\n",
    "Mhz=(2*np.pi*1e6)## divide on it to obtain value in mhz\n",
    "j=0.5e-3      # critical current density nA/nm^2"
   ]
  },
  {
   "cell_type": "code",
   "execution_count": 3,
   "metadata": {},
   "outputs": [],
   "source": [
    "import pandas as pd"
   ]
  },
  {
   "cell_type": "markdown",
   "metadata": {},
   "source": [
    "# Q1 related parameters"
   ]
  },
  {
   "cell_type": "code",
   "execution_count": 4,
   "metadata": {},
   "outputs": [],
   "source": [
    "def cap_func(Q1,Qg1,Qg2):\n",
    "    return Q1+(1/Qg1+1/Qg2)**(-1)"
   ]
  },
  {
   "cell_type": "code",
   "execution_count": 5,
   "metadata": {},
   "outputs": [],
   "source": [
    "def Ec(C):#fF\n",
    "    return np.round((elc)**2/(2*C)/h/1e9*1e15,1) # return in MHz"
   ]
  },
  {
   "cell_type": "code",
   "execution_count": 6,
   "metadata": {},
   "outputs": [],
   "source": [
    "path=r'E:\\Github2.0\\QCreator\\designs\\ThreeQubitsPlusTwoQubits\\maxwell_simulations'\n",
    "path=r'C:\\Python\\Github\\QCreator\\designs\\Single_qubit_design_pp_qubits'"
   ]
  },
  {
   "cell_type": "code",
   "execution_count": 7,
   "metadata": {},
   "outputs": [],
   "source": [
    "data=pd.read_csv(path+'\\Q1_sim.csv',sep=',')# matrix should be done on pF"
   ]
  },
  {
   "cell_type": "code",
   "execution_count": 8,
   "metadata": {},
   "outputs": [
    {
     "data": {
      "text/html": [
       "<div>\n",
       "<style scoped>\n",
       "    .dataframe tbody tr th:only-of-type {\n",
       "        vertical-align: middle;\n",
       "    }\n",
       "\n",
       "    .dataframe tbody tr th {\n",
       "        vertical-align: top;\n",
       "    }\n",
       "\n",
       "    .dataframe thead th {\n",
       "        text-align: right;\n",
       "    }\n",
       "</style>\n",
       "<table border=\"1\" class=\"dataframe\">\n",
       "  <thead>\n",
       "    <tr style=\"text-align: right;\">\n",
       "      <th></th>\n",
       "      <th>Unnamed: 0</th>\n",
       "      <th>Bottom</th>\n",
       "      <th>Claw</th>\n",
       "      <th>Ground</th>\n",
       "      <th>MWLine</th>\n",
       "      <th>Top</th>\n",
       "    </tr>\n",
       "  </thead>\n",
       "  <tbody>\n",
       "    <tr>\n",
       "      <th>0</th>\n",
       "      <td>Bottom</td>\n",
       "      <td>0.139790</td>\n",
       "      <td>-0.001197</td>\n",
       "      <td>-0.093560</td>\n",
       "      <td>-0.000277</td>\n",
       "      <td>-0.044760</td>\n",
       "    </tr>\n",
       "    <tr>\n",
       "      <th>1</th>\n",
       "      <td>Claw</td>\n",
       "      <td>-0.001197</td>\n",
       "      <td>0.130900</td>\n",
       "      <td>-0.116230</td>\n",
       "      <td>-0.000023</td>\n",
       "      <td>-0.013456</td>\n",
       "    </tr>\n",
       "    <tr>\n",
       "      <th>2</th>\n",
       "      <td>Ground</td>\n",
       "      <td>-0.093560</td>\n",
       "      <td>-0.116230</td>\n",
       "      <td>0.323010</td>\n",
       "      <td>-0.030567</td>\n",
       "      <td>-0.082658</td>\n",
       "    </tr>\n",
       "    <tr>\n",
       "      <th>3</th>\n",
       "      <td>MWLine</td>\n",
       "      <td>-0.000277</td>\n",
       "      <td>-0.000023</td>\n",
       "      <td>-0.030567</td>\n",
       "      <td>0.031050</td>\n",
       "      <td>-0.000183</td>\n",
       "    </tr>\n",
       "    <tr>\n",
       "      <th>4</th>\n",
       "      <td>Top</td>\n",
       "      <td>-0.044760</td>\n",
       "      <td>-0.013456</td>\n",
       "      <td>-0.082658</td>\n",
       "      <td>-0.000183</td>\n",
       "      <td>0.141060</td>\n",
       "    </tr>\n",
       "  </tbody>\n",
       "</table>\n",
       "</div>"
      ],
      "text/plain": [
       "  Unnamed: 0    Bottom      Claw    Ground    MWLine       Top\n",
       "0     Bottom  0.139790 -0.001197 -0.093560 -0.000277 -0.044760\n",
       "1       Claw -0.001197  0.130900 -0.116230 -0.000023 -0.013456\n",
       "2     Ground -0.093560 -0.116230  0.323010 -0.030567 -0.082658\n",
       "3     MWLine -0.000277 -0.000023 -0.030567  0.031050 -0.000183\n",
       "4        Top -0.044760 -0.013456 -0.082658 -0.000183  0.141060"
      ]
     },
     "execution_count": 8,
     "metadata": {},
     "output_type": "execute_result"
    }
   ],
   "source": [
    "data"
   ]
  },
  {
   "cell_type": "code",
   "execution_count": 9,
   "metadata": {},
   "outputs": [],
   "source": [
    "q_name=''\n",
    "Q1_cap_ground_top=data[q_name+'Top'][4]+data[q_name+'Top'][0]\n",
    "Q1_cap_ground_bottom=data[q_name+'Bottom'][0]+data[q_name+'Bottom'][4]\n",
    "Q1_cap_top_bottom=-data[q_name+'Bottom'][4]\n",
    "Q1_cap=cap_func(Q1_cap_top_bottom,Q1_cap_ground_top,Q1_cap_ground_bottom)"
   ]
  },
  {
   "cell_type": "code",
   "execution_count": 10,
   "metadata": {},
   "outputs": [
    {
     "data": {
      "text/plain": [
       "(0.04476, 0.09503, 0.0963)"
      ]
     },
     "execution_count": 10,
     "metadata": {},
     "output_type": "execute_result"
    }
   ],
   "source": [
    "Q1_cap_top_bottom,Q1_cap_ground_bottom,Q1_cap_ground_top"
   ]
  },
  {
   "cell_type": "code",
   "execution_count": 11,
   "metadata": {},
   "outputs": [
    {
     "data": {
      "text/plain": [
       "0.09259039251554906"
      ]
     },
     "execution_count": 11,
     "metadata": {},
     "output_type": "execute_result"
    }
   ],
   "source": [
    "Q1_cap"
   ]
  },
  {
   "cell_type": "code",
   "execution_count": 12,
   "metadata": {},
   "outputs": [
    {
     "data": {
      "text/plain": [
       "209.2"
      ]
     },
     "execution_count": 12,
     "metadata": {},
     "output_type": "execute_result"
    }
   ],
   "source": [
    "Ec(Q1_cap)"
   ]
  },
  {
   "cell_type": "code",
   "execution_count": 50,
   "metadata": {},
   "outputs": [],
   "source": [
    "def I(f,Ec):\n",
    "    Ej=Ejf(f,Ec)\n",
    "    I=Ej*2*np.pi/F0*h*1e18\n",
    "    return I\n",
    "def Ejf(f,Ec):\n",
    "    Ej=(f+Ec)**2/(8*Ec)\n",
    "    return Ej\n",
    "def Eji(I):#nA\n",
    "    return I*F0/(2*np.pi)/1e9/h/1e9\n",
    "def IEj(Ej):\n",
    "    return Ej/(F0/(Q2*np.pi)/1e9/h/1e9)\n",
    "def f(Ej,Ec):\n",
    "    return np.sqrt(8*Ej*Ec)-Ec\n",
    "def Ec(C):#fF\n",
    "    return elc**2/(2*C)/h/1e9*1e15"
   ]
  },
  {
   "cell_type": "code",
   "execution_count": 68,
   "metadata": {},
   "outputs": [
    {
     "name": "stdout",
     "output_type": "stream",
     "text": [
      "Critical current density is:  0.5 uA/um^2\n",
      "Critical current:  25.500000000000004  nA\n",
      "Ej:  12.665222203840148  GHz\n",
      "junction area  in um:  0.051000000000000004\n"
     ]
    }
   ],
   "source": [
    "a1    = 0.170\n",
    "a2    = 0.300 # Junction width in um\n",
    "#Calculate Qubit frequency:\n",
    "JJ_area = a1*a2*1e6 #in nm^2\n",
    "print('Critical current density is: ',j*1e3, 'uA/um^2')\n",
    "Ic = JJ_area*j #in nA\n",
    "print('Critical current: ',Ic ,' nA')\n",
    "print('Ej: ',Eji(Ic) ,' GHz')\n",
    "\n",
    "print('junction area  in um: ',JJ_area*1e-6)"
   ]
  },
  {
   "cell_type": "code",
   "execution_count": 69,
   "metadata": {},
   "outputs": [
    {
     "data": {
      "text/plain": [
       "4.394801894827204"
      ]
     },
     "execution_count": 69,
     "metadata": {},
     "output_type": "execute_result"
    }
   ],
   "source": [
    "f(Eji(Ic),Ec(Q1_cap)/1e3)"
   ]
  },
  {
   "cell_type": "markdown",
   "metadata": {},
   "source": [
    "### Resonator coupling"
   ]
  },
  {
   "cell_type": "code",
   "execution_count": 23,
   "metadata": {},
   "outputs": [],
   "source": [
    "def line_qubit_coupling(Q1g,Q2g,Q1gc,Q2gc):\n",
    "    return np.abs((Q1g*Q2gc-Q2g*Q1gc)/(Q1g+Q2gc+Q2g+Q1gc))"
   ]
  },
  {
   "cell_type": "code",
   "execution_count": 31,
   "metadata": {},
   "outputs": [],
   "source": [
    "def cap_pretty_print(args,coeff):\n",
    "    for i in args:\n",
    "        print(np.round(i*coeff,1))# return in fF"
   ]
  },
  {
   "cell_type": "code",
   "execution_count": 33,
   "metadata": {},
   "outputs": [],
   "source": [
    "Q1_cap_res_top=-data[q_name+'Top'][1]\n",
    "Q1_cap_res_bottom=-data[q_name+'Bottom'][1]\n",
    "Ccr=line_qubit_coupling(Q1_cap_ground_top,Q1_cap_ground_bottom,Q1_cap_res_top,Q1_cap_res_bottom)"
   ]
  },
  {
   "cell_type": "code",
   "execution_count": 34,
   "metadata": {},
   "outputs": [
    {
     "name": "stdout",
     "output_type": "stream",
     "text": [
      "13.5\n",
      "1.2\n",
      "5.6\n"
     ]
    }
   ],
   "source": [
    "cap_pretty_print([Q1_cap_res_top,Q1_cap_res_bottom,Ccr],1e3)"
   ]
  },
  {
   "cell_type": "code",
   "execution_count": 35,
   "metadata": {},
   "outputs": [],
   "source": [
    "def qubit_res_coupling(Cc,Cq,wq,wr,Zr):# capacitances in fF, frequencies in GHz\n",
    "    g= Cc*10**(-12)/2*np.sqrt((2*np.pi*wq*10**(9)*Zr/(Cq*10**(-12))))*wr*10**(9)\n",
    "    return np.round(g/1e6,1)# return g/2pi in MHz"
   ]
  },
  {
   "cell_type": "code",
   "execution_count": 61,
   "metadata": {},
   "outputs": [
    {
     "data": {
      "text/plain": [
       "59.3"
      ]
     },
     "execution_count": 61,
     "metadata": {},
     "output_type": "execute_result"
    }
   ],
   "source": [
    "Zr=50\n",
    "omega_r=5.5\n",
    "omega_q=4.3\n",
    "gqr=qubit_res_coupling(Ccr,Q1_cap,omega_q,omega_r,Zr)\n",
    "gqr"
   ]
  },
  {
   "cell_type": "markdown",
   "metadata": {},
   "source": [
    "### Dispersive shift"
   ]
  },
  {
   "cell_type": "code",
   "execution_count": 62,
   "metadata": {},
   "outputs": [],
   "source": [
    "def dispersive_shift(gqr,wq,wr,Ec): # gqr in MHz,wq,wr in GHZ, EC in MHz and positive\n",
    "    chi=gqr**2/((wq-wr)*10**(3))/(1+(wq-wr)*10**(3)/(-Ec))\n",
    "    return chi # in MHz"
   ]
  },
  {
   "cell_type": "code",
   "execution_count": 63,
   "metadata": {},
   "outputs": [
    {
     "data": {
      "text/plain": [
       "-0.4350340805219836"
      ]
     },
     "execution_count": 63,
     "metadata": {},
     "output_type": "execute_result"
    }
   ],
   "source": [
    "chi=dispersive_shift(gqr,omega_q,omega_r,Ec(Q1_cap))\n",
    "chi"
   ]
  },
  {
   "cell_type": "markdown",
   "metadata": {},
   "source": [
    "### Readout resonator properties"
   ]
  },
  {
   "cell_type": "code",
   "execution_count": 64,
   "metadata": {},
   "outputs": [
    {
     "data": {
      "text/plain": [
       "(246.0, 0.65)"
      ]
     },
     "execution_count": 64,
     "metadata": {},
     "output_type": "execute_result"
    }
   ],
   "source": [
    "Q=8500\n",
    "k=2*np.pi*omega_r*1e9/Q \n",
    "np.round(1/k*1e9,1), np.round(k/Mhz,2)# first value in ns"
   ]
  },
  {
   "cell_type": "code",
   "execution_count": 65,
   "metadata": {},
   "outputs": [
    {
     "data": {
      "text/plain": [
       "100.72319032200237"
      ]
     },
     "execution_count": 65,
     "metadata": {},
     "output_type": "execute_result"
    }
   ],
   "source": [
    "Tp=(1/k)*((omega_q-omega_r)*10**3/gqr)**2\n",
    "Tp*1e6#us"
   ]
  },
  {
   "cell_type": "markdown",
   "metadata": {},
   "source": [
    "### Charge line"
   ]
  },
  {
   "cell_type": "code",
   "execution_count": 41,
   "metadata": {},
   "outputs": [
    {
     "name": "stdout",
     "output_type": "stream",
     "text": [
      "183.3\n",
      "276.9\n",
      "48.2\n"
     ]
    }
   ],
   "source": [
    "Q1_cap_charge_line_top=-data[q_name+'Top'][3]\n",
    "Q1_cap_charge_line_bottom=-data[q_name+'Bottom'][3]\n",
    "Cc_charge=line_qubit_coupling(Q1_cap_ground_top,Q1_cap_ground_bottom,Q1_cap_charge_line_top,Q1_cap_charge_line_bottom)\n",
    "cap_pretty_print([Q1_cap_charge_line_top,Q1_cap_charge_line_bottom,Cc_charge],1e6)#in aF"
   ]
  },
  {
   "cell_type": "code",
   "execution_count": 42,
   "metadata": {},
   "outputs": [
    {
     "data": {
      "text/plain": [
       "48.231213739015594"
      ]
     },
     "execution_count": 42,
     "metadata": {},
     "output_type": "execute_result"
    }
   ],
   "source": [
    "Cc_charge*1e6"
   ]
  },
  {
   "cell_type": "code",
   "execution_count": 43,
   "metadata": {},
   "outputs": [],
   "source": [
    "omega_q=4.4"
   ]
  },
  {
   "cell_type": "code",
   "execution_count": 44,
   "metadata": {},
   "outputs": [],
   "source": [
    "Z0=50\n",
    "Tcharge=(Cc_charge+Q1_cap)/(Z0*(2*np.pi*omega_q*Cc_charge)**2)*1e-6"
   ]
  },
  {
   "cell_type": "code",
   "execution_count": 45,
   "metadata": {},
   "outputs": [
    {
     "data": {
      "text/plain": [
       "1042.0789379473458"
      ]
     },
     "execution_count": 45,
     "metadata": {},
     "output_type": "execute_result"
    }
   ],
   "source": [
    "Tcharge*1e6#in us"
   ]
  },
  {
   "cell_type": "markdown",
   "metadata": {},
   "source": [
    "### Total relaxation= resonator+charge line"
   ]
  },
  {
   "cell_type": "code",
   "execution_count": 53,
   "metadata": {},
   "outputs": [
    {
     "data": {
      "text/plain": [
       "74.96545412923993"
      ]
     },
     "execution_count": 53,
     "metadata": {},
     "output_type": "execute_result"
    }
   ],
   "source": [
    "Tp*Tcharge/(Tp+Tcharge)*1e6"
   ]
  }
 ],
 "metadata": {
  "kernelspec": {
   "display_name": "Python 3",
   "language": "python",
   "name": "python3"
  },
  "language_info": {
   "codemirror_mode": {
    "name": "ipython",
    "version": 3
   },
   "file_extension": ".py",
   "mimetype": "text/x-python",
   "name": "python",
   "nbconvert_exporter": "python",
   "pygments_lexer": "ipython3",
   "version": "3.9.5"
  }
 },
 "nbformat": 4,
 "nbformat_minor": 4
}
