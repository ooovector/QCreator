{
 "cells": [
  {
   "cell_type": "code",
   "execution_count": 1,
   "metadata": {},
   "outputs": [],
   "source": [
    "from importlib import reload\n",
    "import numpy as np\n",
    "from matplotlib import pyplot as plt\n",
    "import Single_qubit_design_PP_qubits as sqd\n",
    "import QCreator.auxiliary_functions as auxfuncs"
   ]
  },
  {
   "cell_type": "code",
   "execution_count": 2,
   "metadata": {},
   "outputs": [
    {
     "data": {
      "text/plain": [
       "<module 'Single_qubit_design_PP_qubits' from 'C:\\\\Python\\\\Github\\\\QCreator\\\\designs\\\\Single_qubit_design_pp_qubits\\\\Single_qubits_fixed_mw_lines\\\\Single_qubit_design_PP_qubits.py'>"
      ]
     },
     "execution_count": 2,
     "metadata": {},
     "output_type": "execute_result"
    }
   ],
   "source": [
    "reload(sqd)"
   ]
  },
  {
   "cell_type": "code",
   "execution_count": 3,
   "metadata": {},
   "outputs": [],
   "source": [
    "sqd.sample.draw_design(True)\n",
    "sqd.sample.draw_terminals()\n",
    "sqd.sample.watch(True)"
   ]
  },
  {
   "cell_type": "markdown",
   "metadata": {},
   "source": [
    "# Draw a qubit design"
   ]
  },
  {
   "cell_type": "code",
   "execution_count": 4,
   "metadata": {},
   "outputs": [],
   "source": [
    "coupler_start_x,coupler_start_y = (1400,3000)\n",
    "grounding_width=10\n",
    "coupler_length=550\n",
    "resonator_lengths=[]"
   ]
  },
  {
   "cell_type": "code",
   "execution_count": 5,
   "metadata": {},
   "outputs": [],
   "source": [
    "res_coupler_q1,res_q1_params = auxfuncs.draw_rounded_single_resonator_plus_qubit(sqd.sample,\n",
    "                          3000, coupler_start_y, coupler_length,\n",
    "                          sqd.resonator_core,sqd.resonator_gap, sqd.resonator_ground,\n",
    "                          sqd.tl_core, sqd.tl_gap, sqd.tl_ground, sqd.resonator_tl_ground,\n",
    "                          closed_end_meander_length=3400, length_left=1150, length_right=340,\n",
    "                          min_bridge_spacing = None,\n",
    "                          airbridge = None, object1=sqd.sample.qubits[0], port='coupler0',\n",
    "                          open_end_length = 1000,\n",
    "                          port_orientation='right',meander_orientation='left', direction_orientation='up',\n",
    "                          points_for_the_open_end=[(sqd.sample.qubits[0].terminals['coupler0'].position[0],\n",
    "                                                    sqd.sample.qubits[0].terminals['coupler0'].position[1]-200)])\n",
    "resonator_lengths.append(res_q1_params[0])"
   ]
  },
  {
   "cell_type": "code",
   "execution_count": 6,
   "metadata": {},
   "outputs": [],
   "source": [
    "res_coupler_q6,res_q6_params = auxfuncs.draw_rounded_single_resonator_plus_qubit(sqd.sample,\n",
    "                          4800, coupler_start_y, coupler_length,\n",
    "                          sqd.resonator_core,sqd.resonator_gap, sqd.resonator_ground,\n",
    "                          sqd.tl_core, sqd.tl_gap, sqd.tl_ground, sqd.resonator_tl_ground,\n",
    "                          closed_end_meander_length=3200, length_left=850, length_right=250,\n",
    "                          min_bridge_spacing = None,\n",
    "                          airbridge = None, object1=sqd.sample.qubits[5], port='coupler0',\n",
    "                          open_end_length = 1000,\n",
    "                          port_orientation='right', direction_orientation='up',\n",
    "                          points_for_the_open_end=[(sqd.sample.qubits[5].terminals['coupler0'].position[0],\n",
    "                                                    sqd.sample.qubits[5].terminals['coupler0'].position[1]-200)])\n",
    "resonator_lengths.append(res_q6_params[0])"
   ]
  },
  {
   "cell_type": "code",
   "execution_count": 7,
   "metadata": {},
   "outputs": [],
   "source": [
    "res_coupler_q2,res_q2_params = auxfuncs.draw_rounded_single_resonator_plus_qubit(sqd.sample,\n",
    "                          5600, coupler_start_y, coupler_length,\n",
    "                          sqd.resonator_core,sqd.resonator_gap, sqd.resonator_ground,\n",
    "                          sqd.tl_core, sqd.tl_gap, sqd.tl_ground, sqd.resonator_tl_ground,\n",
    "                          closed_end_meander_length=3100, length_left=300, length_right=1000,\n",
    "                          min_bridge_spacing = None,\n",
    "                          airbridge = None, object1=sqd.sample.qubits[1], port='coupler0',\n",
    "                          open_end_length = 500,\n",
    "                          port_orientation='right', direction_orientation='up',\n",
    "                           points_for_the_open_end=[(sqd.sample.qubits[1].terminals['coupler0'].position[0],\n",
    "                                                     sqd.sample.qubits[1].terminals['coupler0'].position[1]-250)])\n",
    "resonator_lengths.append(res_q2_params[0])"
   ]
  },
  {
   "cell_type": "code",
   "execution_count": 8,
   "metadata": {},
   "outputs": [],
   "source": [
    "res_coupler_q3,res_q3_params = auxfuncs.draw_rounded_single_resonator_plus_qubit(sqd.sample,\n",
    "                          2350, coupler_start_y, coupler_length,\n",
    "                          sqd.resonator_core,sqd.resonator_gap, sqd.resonator_ground,\n",
    "                          sqd.tl_core, sqd.tl_gap, sqd.tl_ground, sqd.resonator_tl_ground,\n",
    "                          closed_end_meander_length=3100, length_left=800, length_right=650,\n",
    "                          min_bridge_spacing = None,\n",
    "                          airbridge = None, object1=sqd.sample.qubits[2], port='coupler0',\n",
    "                          open_end_length = 1000,\n",
    "                          port_orientation='right',meander_orientation='right', direction_orientation='down',\n",
    "                          points_for_the_open_end=[(sqd.sample.qubits[2].terminals['coupler0'].position[0],\n",
    "                                                    sqd.sample.qubits[2].terminals['coupler0'].position[1]+200)])\n",
    "resonator_lengths.append(res_q3_params[0])"
   ]
  },
  {
   "cell_type": "code",
   "execution_count": 9,
   "metadata": {},
   "outputs": [],
   "source": [
    "res_coupler_q5,res_q5_params = auxfuncs.draw_rounded_single_resonator_plus_qubit(sqd.sample,\n",
    "                          4000, coupler_start_y, coupler_length,\n",
    "                          sqd.resonator_core,sqd.resonator_gap, sqd.resonator_ground,\n",
    "                          sqd.tl_core, sqd.tl_gap, sqd.tl_ground, sqd.resonator_tl_ground,\n",
    "                          closed_end_meander_length=3020, length_left=1000, length_right=410,\n",
    "                          min_bridge_spacing = None,\n",
    "                          airbridge = None, object1=sqd.sample.qubits[4], port='coupler0',\n",
    "                          open_end_length = 1000,\n",
    "                          port_orientation='right',meander_orientation='left', direction_orientation='down',\n",
    "                          points_for_the_open_end=[(sqd.sample.qubits[4].terminals['coupler0'].position[0],\n",
    "                                                    sqd.sample.qubits[4].terminals['coupler0'].position[1]+200)])\n",
    "resonator_lengths.append(res_q5_params[0])"
   ]
  },
  {
   "cell_type": "code",
   "execution_count": 10,
   "metadata": {},
   "outputs": [],
   "source": [
    "res_coupler_q4,res_q4_params = auxfuncs.draw_rounded_single_resonator_plus_qubit(sqd.sample,\n",
    "                          6300, coupler_start_y, coupler_length,\n",
    "                          sqd.resonator_core,sqd.resonator_gap, sqd.resonator_ground,\n",
    "                          sqd.tl_core, sqd.tl_gap, sqd.tl_ground, sqd.resonator_tl_ground,\n",
    "                          closed_end_meander_length=2920, length_left=1000, length_right=410,\n",
    "                          min_bridge_spacing = None,\n",
    "                          airbridge = None, object1=sqd.sample.qubits[3], port='coupler0',\n",
    "                          open_end_length = 1000,\n",
    "                          port_orientation='right', meander_orientation='left',direction_orientation='down',\n",
    "                          points_for_the_open_end=[(sqd.sample.qubits[3].terminals['coupler0'].position[0],\n",
    "                                                    sqd.sample.qubits[3].terminals['coupler0'].position[1]+200)])\n",
    "resonator_lengths.append(res_q4_params[0])"
   ]
  },
  {
   "cell_type": "markdown",
   "metadata": {},
   "source": [
    "# add test resonators"
   ]
  },
  {
   "cell_type": "code",
   "execution_count": 11,
   "metadata": {},
   "outputs": [],
   "source": [
    "res_coupler_t1,res_t1_params = auxfuncs.draw_rounded_single_resonator(sqd.sample,\n",
    "                          1500, coupler_start_y, 25+30+50,\n",
    "                          sqd.resonator_core,sqd.resonator_gap, sqd.resonator_ground,\n",
    "                          sqd.tl_core, sqd.tl_gap, sqd.tl_ground, 25,\n",
    "                          closed_end_meander_length=3900, length_left=200, length_right=200,\n",
    "                          min_bridge_spacing = None,\n",
    "                          airbridge = None,\n",
    "                          open_end_length = 150,\n",
    "                          port_orientation='left',meander_orientation='left', direction_orientation='up',transmission=True)\n",
    "resonator_lengths.append(res_t1_params[0])"
   ]
  },
  {
   "cell_type": "code",
   "execution_count": 12,
   "metadata": {},
   "outputs": [],
   "source": [
    "res_coupler_t2,res_t2_params = auxfuncs.draw_rounded_single_resonator(sqd.sample,\n",
    "                          7700, coupler_start_y, 25+30+50,\n",
    "                          sqd.resonator_core,sqd.resonator_gap, sqd.resonator_ground,\n",
    "                          sqd.tl_core, sqd.tl_gap, sqd.tl_ground, 25,\n",
    "                          closed_end_meander_length=3800, length_left=200, length_right=200,\n",
    "                          min_bridge_spacing = None,\n",
    "                          airbridge = None,\n",
    "                          open_end_length = 150,\n",
    "                          port_orientation='left',meander_orientation='left', direction_orientation='down',transmission=True)\n",
    "resonator_lengths.append(res_t2_params[0])"
   ]
  },
  {
   "cell_type": "markdown",
   "metadata": {},
   "source": [
    "# Connect resonators into feedline"
   ]
  },
  {
   "cell_type": "code",
   "execution_count": 13,
   "metadata": {},
   "outputs": [
    {
     "data": {
      "text/plain": [
       "[CPW \"feedline\", l=8400.000]"
      ]
     },
     "execution_count": 13,
     "metadata": {},
     "output_type": "execute_result"
    }
   ],
   "source": [
    "sqd.sample.connect_cpw(o1=sqd.p1, o2=sqd.p2, port1='port', port2='port', name='feedline', \n",
    "                       points=[])\n",
    "# sqd.sample.connect_cpw(o1=res_coupler_q1, o2=res_coupler_q2, port1='port1', port2='port2', name='feedline', \n",
    "#                        points=[])"
   ]
  },
  {
   "cell_type": "code",
   "execution_count": 14,
   "metadata": {},
   "outputs": [
    {
     "data": {
      "text/plain": [
       "[CPW \"flux_control_line_qubit_coupler\", l=973.848]"
      ]
     },
     "execution_count": 14,
     "metadata": {},
     "output_type": "execute_result"
    }
   ],
   "source": [
    "pad=sqd.sample.qubits[0]\n",
    "port='coupler1'\n",
    "narrowing_length=100\n",
    "flux_line_narrowing_position = sqd.sample.cpw_shift(pad, port, narrowing_length/2)[0]\n",
    "\n",
    "flux_line_narrowing = sqd.elements.Narrowing(name='flux_line_narrowing', position=flux_line_narrowing_position, \n",
    "                                         orientation=pad.get_terminals()[port].orientation+np.pi, \n",
    "                                         w1=pad.get_terminals()[port].w, \n",
    "                                         s1=pad.get_terminals()[port].s, g1=pad.get_terminals()[port].g,\n",
    "                                         w2=sqd.tl_core, s2=sqd.tl_gap, g2=sqd.tl_ground, \n",
    "                                         layer_configuration=sqd.sample.layer_configuration, length=narrowing_length)\n",
    "sqd.sample.add(flux_line_narrowing)\n",
    "sqd.sample.connect(flux_line_narrowing, 'port1', pad, port)\n",
    "sqd.sample.connect_cpw(sqd.pads_top[0], flux_line_narrowing, 'port', 'port2', 'flux_control_line_qubit_coupler', points=[],\n",
    "                      airbridge=None, min_spacing=None, r=80)\n",
    "pad=sqd.sample.qubits[1]\n",
    "port='coupler1'\n",
    "narrowing_length=100\n",
    "flux_line_narrowing_position = sqd.sample.cpw_shift(pad, port, narrowing_length/2)[0]\n",
    "\n",
    "flux_line_narrowing = sqd.elements.Narrowing(name='flux_line_narrowing', position=flux_line_narrowing_position, \n",
    "                                         orientation=pad.get_terminals()[port].orientation+np.pi, \n",
    "                                         w1=pad.get_terminals()[port].w, \n",
    "                                         s1=pad.get_terminals()[port].s, g1=pad.get_terminals()[port].g,\n",
    "                                         w2=sqd.tl_core, s2=sqd.tl_gap, g2=sqd.tl_ground, \n",
    "                                         layer_configuration=sqd.sample.layer_configuration, length=narrowing_length)\n",
    "sqd.sample.add(flux_line_narrowing)\n",
    "sqd.sample.connect(flux_line_narrowing, 'port1', pad, port)\n",
    "sqd.sample.connect_cpw(sqd.pads_top[1], flux_line_narrowing, 'port', 'port2', 'flux_control_line_qubit_coupler', points=[],\n",
    "                      airbridge=None, min_spacing=None, r=80)\n",
    "pad=sqd.sample.qubits[3]\n",
    "port='coupler1'\n",
    "narrowing_length=200\n",
    "flux_line_narrowing_position = sqd.sample.cpw_shift(pad, port, narrowing_length/2)[0]\n",
    "\n",
    "flux_line_narrowing = sqd.elements.Narrowing(name='flux_line_narrowing', position=flux_line_narrowing_position, \n",
    "                                         orientation=pad.get_terminals()[port].orientation+np.pi, \n",
    "                                         w1=pad.get_terminals()[port].w, \n",
    "                                         s1=pad.get_terminals()[port].s, g1=pad.get_terminals()[port].g,\n",
    "                                         w2=sqd.tl_core, s2=sqd.tl_gap, g2=sqd.tl_ground, \n",
    "                                         layer_configuration=sqd.sample.layer_configuration, length=narrowing_length)\n",
    "sqd.sample.add(flux_line_narrowing)\n",
    "sqd.sample.connect(flux_line_narrowing, 'port1', pad, port)\n",
    "sqd.sample.connect_cpw(sqd.pads_bottom[0], flux_line_narrowing, 'port', 'port2', 'flux_control_line_qubit_coupler', points=[],\n",
    "                      airbridge=None, min_spacing=None, r=80)"
   ]
  },
  {
   "cell_type": "code",
   "execution_count": 18,
   "metadata": {},
   "outputs": [],
   "source": [
    "sqd.sample.draw_design(True)\n",
    "# sqd.sample.draw_terminals()\n",
    "# sqd.sample.watch(True)"
   ]
  },
  {
   "cell_type": "code",
   "execution_count": 19,
   "metadata": {},
   "outputs": [
    {
     "name": "stdout",
     "output_type": "stream",
     "text": [
      "Gds file has been writen here:  C:\\Python\\Github\\QCreator\\designs\\Single_qubit_design_pp_qubits\\Single_qubits_fixed_mw_lines/Single_qubits_PP_mw_lines.gds\n"
     ]
    }
   ],
   "source": [
    "sqd.sample.write_to_gds()"
   ]
  },
  {
   "cell_type": "markdown",
   "metadata": {},
   "source": [
    "# add ground"
   ]
  },
  {
   "cell_type": "code",
   "execution_count": 17,
   "metadata": {},
   "outputs": [],
   "source": [
    "grid_ground = sqd.elements.GridGround(sqd.sample.chip_geometry, sqd.sample.layer_configuration, sqd.sample.objects, \n",
    "                                  width=22, period=25)\n",
    "sqd.sample.add(grid_ground)"
   ]
  },
  {
   "cell_type": "code",
   "execution_count": null,
   "metadata": {},
   "outputs": [],
   "source": []
  }
 ],
 "metadata": {
  "kernelspec": {
   "display_name": "Python 3",
   "language": "python",
   "name": "python3"
  },
  "language_info": {
   "codemirror_mode": {
    "name": "ipython",
    "version": 3
   },
   "file_extension": ".py",
   "mimetype": "text/x-python",
   "name": "python",
   "nbconvert_exporter": "python",
   "pygments_lexer": "ipython3",
   "version": "3.9.5"
  }
 },
 "nbformat": 4,
 "nbformat_minor": 4
}
