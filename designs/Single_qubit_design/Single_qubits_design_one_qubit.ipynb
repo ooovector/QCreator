{
 "cells": [
  {
   "cell_type": "code",
   "execution_count": 1,
   "metadata": {},
   "outputs": [],
   "source": [
    "import sys\n",
    "sys.path.append('../..')\n",
    "\n",
    "from importlib import reload\n",
    "import numpy as np\n",
    "from matplotlib import pyplot as plt\n",
    "import Single_qubit_design as sqd\n",
    "import QCreator.auxiliary_functions as auxfuncs\n",
    "import QCreator.elements as elements"
   ]
  },
  {
   "cell_type": "code",
   "execution_count": 2,
   "metadata": {},
   "outputs": [],
   "source": [
    "# single qubit and resonator\n",
    "sqd.sample.add(sqd.xmon1)\n",
    "sqd.sample.draw_design()"
   ]
  },
  {
   "cell_type": "code",
   "execution_count": 3,
   "metadata": {},
   "outputs": [],
   "source": [
    "ebanoe_govno = 0.5*(sqd.resonator_core+ sqd.resonator_ground+ sqd.tl_core + sqd.resonator_gap + sqd.resonator_gap + sqd.tl_gap + sqd.tl_gap +2*sqd.tl_ground)\n",
    "coupler_start_y = sqd.central_line_y+(-ebanoe_govno+sqd.tl_ground + sqd.tl_gap +0.5*sqd.tl_core)"
   ]
  },
  {
   "cell_type": "code",
   "execution_count": 4,
   "metadata": {},
   "outputs": [],
   "source": [
    "g1, g2, par = auxfuncs.draw_single_resonator_plus_qubit(sqd.sample,\n",
    "                            sqd.coupler_start, coupler_start_y, sqd.coupler_length,\n",
    "                             sqd.resonator_core,sqd.resonator_gap,sqd.resonator_ground, \n",
    "                             sqd.tl_core, sqd.tl_gap, sqd.tl_ground, grounding_width=10,\n",
    "                             closed_end_meander_length=3400,length_left=250,length_right=360,\n",
    "                             open_end_length=600,\n",
    "                             object1=sqd.xmon1, port='crab_up',\n",
    "                            port_orientation='left', direction_orientation ='down')\n",
    "\n"
   ]
  },
  {
   "cell_type": "code",
   "execution_count": 5,
   "metadata": {},
   "outputs": [
    {
     "data": {
      "text/plain": [
       "[CPW \"right TL\", l=2348.000]"
      ]
     },
     "execution_count": 5,
     "metadata": {},
     "output_type": "execute_result"
    }
   ],
   "source": [
    "sqd.sample.connect_cpw(o1=sqd.p1, o2=g1, port1='port', port2='narrow', name='right TL', points=[])\n",
    "sqd.sample.connect_cpw(o1=g2, o2=sqd.p2, port1='narrow', port2='port', name='right TL', points=[])"
   ]
  },
  {
   "cell_type": "code",
   "execution_count": 6,
   "metadata": {},
   "outputs": [
    {
     "name": "stderr",
     "output_type": "stream",
     "text": [
      "/home/alena/anaconda3/lib/python3.7/site-packages/gdspy/path.py:828: UserWarning: [GDSPY] Possible inconsistency found in `FlexPath` due to sharp corner.\n",
      "  \"[GDSPY] Possible inconsistency found in \"\n"
     ]
    }
   ],
   "source": [
    "sqd.sample.draw_design()\n",
    "sqd.sample.watch()"
   ]
  },
  {
   "cell_type": "code",
   "execution_count": 7,
   "metadata": {},
   "outputs": [
    {
     "name": "stdout",
     "output_type": "stream",
     "text": [
      "Gds file has been writen here:  /home/alena/QCreator/designs/Single_qubit_design/1Q_test.gds\n",
      "For 0 conductor total length is:  6910\n",
      "For 1 conductor total length is:  1229\n",
      "For 2 conductor total length is:  2353\n",
      "Sum : 10492\n",
      "Data has been written into the file: /home/alena/QCreator/designs/Single_qubit_design/mesh_4k_data\n",
      "Time for fastcap job is:  1.731391429901123\n",
      "Capacitance results have been writen here:  /home/alena/QCreator/designs/Single_qubit_design/mesh_4k_results\n",
      "Capacitance value in:  nanofarads\n",
      "[<map object at 0x7fa24849d240>, <map object at 0x7fa248556828>, <map object at 0x7fa21c451048>]\n",
      "       0     1     2\n",
      "0  188.4 -61.8 -58.9\n",
      "1  -61.8  72.4  -2.7\n",
      "2  -58.9  -2.7  73.5\n"
     ]
    }
   ],
   "source": [
    "sqd.sample.draw_cap()\n",
    "for i,qubit in enumerate(sqd.sample.qubits):\n",
    "    caps=sqd.sample.calculate_qubit_capacitance(cell= sqd.sample.qubit_cap_cells[i], qubit=sqd.sample.qubits[i],\n",
    "                                       mesh_volume=10)"
   ]
  },
  {
   "cell_type": "code",
   "execution_count": 8,
   "metadata": {},
   "outputs": [
    {
     "name": "stdout",
     "output_type": "stream",
     "text": [
      "('up',)\n",
      "Resonance frequencies are, GHz: [4.56697519 5.94733679]\n",
      "Kappas are, us^-1: [1.10803011e-04 2.50564977e-01]\n",
      "Quality factors are: [2.58974472e+08 1.49135843e+05]\n"
     ]
    }
   ],
   "source": [
    "sys, connections, elements_ = sqd.sample.get_tls(cutoff=2e11)\n",
    "f, delta, modes = sys.get_modes()\n",
    "num_modes=18\n",
    "(res_fr,kappa,_)=auxfuncs.search_for_resonators_qubits(f,delta,0,15)[:num_modes]"
   ]
  },
  {
   "cell_type": "code",
   "execution_count": 15,
   "metadata": {},
   "outputs": [
    {
     "data": {
      "text/plain": [
       "array([4.56697519e+09, 5.94733679e+09, 1.80448967e+10, 1.81703792e+10,\n",
       "       3.06805612e+10, 3.59617690e+10, 3.83898659e+10, 4.14610959e+10,\n",
       "       4.47032959e+10, 5.30904874e+10, 5.53848212e+10, 5.74465809e+10,\n",
       "       6.01703918e+10, 6.02963873e+10, 6.22965875e+10, 6.22978868e+10,\n",
       "       6.36998390e+10, 6.42240178e+10, 6.42252276e+10, 1.42078384e+11,\n",
       "       3.19327135e+11, 3.80869508e+11, 9.28523901e+11, 9.47298462e+11,\n",
       "       1.59045935e+12, 1.73296590e+12, 2.22107095e+12, 2.81969494e+12,\n",
       "       3.53612716e+12, 3.84535770e+12, 3.95607429e+12, 5.46376849e+12,\n",
       "       8.71503645e+12])"
      ]
     },
     "execution_count": 15,
     "metadata": {},
     "output_type": "execute_result"
    }
   ],
   "source": [
    "f / (2* np.pi)"
   ]
  },
  {
   "cell_type": "code",
   "execution_count": 20,
   "metadata": {},
   "outputs": [
    {
     "data": {
      "text/plain": [
       "array([[-1.52654411e+08, -3.53340568e+06, -2.25158715e+05,\n",
       "        -5.39842236e+04],\n",
       "       [-3.53340568e+06, -2.04464378e+04, -2.60581098e+03,\n",
       "        -6.24771209e+02],\n",
       "       [-2.25158715e+05, -2.60581098e+03, -8.30248640e+01,\n",
       "        -3.98122083e+01],\n",
       "       [-5.39842236e+04, -6.24771209e+02, -3.98122083e+01,\n",
       "        -4.77270257e+00]])"
      ]
     },
     "execution_count": 20,
     "metadata": {},
     "output_type": "execute_result"
    }
   ],
   "source": [
    "kerr = sys.get_perturbation([0,1,2,3])\n",
    "kerr"
   ]
  },
  {
   "cell_type": "code",
   "execution_count": 7,
   "metadata": {},
   "outputs": [
    {
     "data": {
      "text/plain": [
       "<module 'Single_qubit_design' from '/home/alena/QCreator/designs/Single_qubit_design/Single_qubit_design.py'>"
      ]
     },
     "execution_count": 7,
     "metadata": {},
     "output_type": "execute_result"
    }
   ],
   "source": [
    "reload(sqd)"
   ]
  },
  {
   "cell_type": "code",
   "execution_count": 22,
   "metadata": {},
   "outputs": [
    {
     "data": {
      "text/plain": [
       "[JJ Xmon1 jj3, JJ Xmon1 jj1, JJ Xmon1 jj2]"
      ]
     },
     "execution_count": 22,
     "metadata": {},
     "output_type": "execute_result"
    }
   ],
   "source": [
    "sys.JJs"
   ]
  },
  {
   "cell_type": "code",
   "execution_count": null,
   "metadata": {},
   "outputs": [],
   "source": []
  },
  {
   "cell_type": "code",
   "execution_count": null,
   "metadata": {},
   "outputs": [],
   "source": []
  },
  {
   "cell_type": "code",
   "execution_count": null,
   "metadata": {},
   "outputs": [],
   "source": []
  },
  {
   "cell_type": "code",
   "execution_count": null,
   "metadata": {},
   "outputs": [],
   "source": []
  },
  {
   "cell_type": "code",
   "execution_count": null,
   "metadata": {},
   "outputs": [],
   "source": []
  },
  {
   "cell_type": "code",
   "execution_count": 12,
   "metadata": {},
   "outputs": [],
   "source": [
    "airbridge = elements.AirBridgeGeometry(pad_width = 36,pad_length = 22,pad_distance = 62,\n",
    "                                      narrow_width = 20, narrow_length = 46, sm_pad_length = 10,\n",
    "                                      sm_pad_distance = 70, layer_configuration = sqd.sample.layer_configuration)"
   ]
  },
  {
   "cell_type": "code",
   "execution_count": 13,
   "metadata": {},
   "outputs": [],
   "source": []
  },
  {
   "cell_type": "markdown",
   "metadata": {},
   "source": [
    "# Draw a qubit design"
   ]
  },
  {
   "cell_type": "code",
   "execution_count": 11,
   "metadata": {},
   "outputs": [
    {
     "ename": "NameError",
     "evalue": "name 'airbridge' is not defined",
     "output_type": "error",
     "traceback": [
      "\u001b[0;31m---------------------------------------------------------------------------\u001b[0m",
      "\u001b[0;31mNameError\u001b[0m                                 Traceback (most recent call last)",
      "\u001b[0;32m<ipython-input-11-4da166ab128a>\u001b[0m in \u001b[0;36m<module>\u001b[0;34m\u001b[0m\n\u001b[1;32m      9\u001b[0m                              \u001b[0mobject2\u001b[0m\u001b[0;34m=\u001b[0m\u001b[0msqd\u001b[0m\u001b[0;34m.\u001b[0m\u001b[0mcoaxmon1\u001b[0m\u001b[0;34m,\u001b[0m \u001b[0mport2\u001b[0m\u001b[0;34m=\u001b[0m\u001b[0;34m'coupler2'\u001b[0m\u001b[0;34m,\u001b[0m \u001b[0mmeander_r\u001b[0m\u001b[0;34m=\u001b[0m\u001b[0;36m55\u001b[0m\u001b[0;34m,\u001b[0m\u001b[0;34m\u001b[0m\u001b[0;34m\u001b[0m\u001b[0m\n\u001b[1;32m     10\u001b[0m                             \u001b[0mport_orientation\u001b[0m\u001b[0;34m=\u001b[0m\u001b[0;34m'left'\u001b[0m\u001b[0;34m,\u001b[0m \u001b[0mmeander_first_intend_orientation\u001b[0m\u001b[0;34m=\u001b[0m\u001b[0;34m'right'\u001b[0m\u001b[0;34m,\u001b[0m\u001b[0;34m\u001b[0m\u001b[0;34m\u001b[0m\u001b[0m\n\u001b[0;32m---> 11\u001b[0;31m                             \u001b[0mairbridge\u001b[0m\u001b[0;34m=\u001b[0m\u001b[0mairbridge\u001b[0m\u001b[0;34m,\u001b[0m \u001b[0mmin_bridge_spacing_closed_end\u001b[0m\u001b[0;34m=\u001b[0m\u001b[0;36m150\u001b[0m\u001b[0;34m,\u001b[0m\u001b[0mmin_bridge_spacing_open_end\u001b[0m\u001b[0;34m=\u001b[0m\u001b[0;36m150\u001b[0m\u001b[0;34m,\u001b[0m\u001b[0;34m\u001b[0m\u001b[0;34m\u001b[0m\u001b[0m\n\u001b[0m\u001b[1;32m     12\u001b[0m                                                                     object2_airbridges=True)\n",
      "\u001b[0;31mNameError\u001b[0m: name 'airbridge' is not defined"
     ]
    }
   ],
   "source": [
    "g1,g2, par1, par2= auxfuncs.draw_double_resonator_plus_double_qubit(sqd.sample,\n",
    "                            sqd.coupler_start, sqd.central_line_y, sqd.coupler_length,\n",
    "                             sqd.resonator_core,sqd.resonator_gap,sqd.resonator_ground, \n",
    "                             sqd.tl_core, sqd.tl_gap, sqd.tl_ground, grounding_width=10,\n",
    "                             closed_end_meander_length1=3400,length_left1=250,length_right1=360,\n",
    "                             closed_end_meander_length2=2850,length_left2=360,length_right2=260,\n",
    "                             open_end_shift_length1=600, open_end_shift_length2=400,\n",
    "                             object1=sqd.xmon1, port1='crab_up',\n",
    "                             object2=sqd.coaxmon1, port2='coupler2', meander_r=55,\n",
    "                            port_orientation='left', meander_first_intend_orientation='right',\n",
    "                            airbridge=airbridge, min_bridge_spacing_closed_end=150,min_bridge_spacing_open_end=150,\n",
    "                                                                    object2_airbridges=True)"
   ]
  },
  {
   "cell_type": "code",
   "execution_count": 4,
   "metadata": {
    "collapsed": true
   },
   "outputs": [],
   "source": [
    "g3,g4, par3, par4= auxfuncs.draw_double_resonator_plus_double_qubit(sqd.sample,\n",
    "                            sqd.coupler_start+900, sqd.central_line_y, sqd.coupler_length,\n",
    "                             sqd.resonator_core,sqd.resonator_gap,sqd.resonator_ground, \n",
    "                             sqd.tl_core, sqd.tl_gap, sqd.tl_ground, grounding_width=10,\n",
    "                             closed_end_meander_length1=2950,length_left1=260,length_right1=360,\n",
    "                              closed_end_meander_length2=2700,length_left2=360,length_right2=240,\n",
    "                             open_end_shift_length1=400, open_end_shift_length2=400,\n",
    "                             object1=sqd.coaxmon2, port1='coupler2',\n",
    "                             object2=sqd.coaxmon3, port2='coupler2',port_orientation='left',meander_r=55,\n",
    "                             airbridge=airbridge, \n",
    "                             min_bridge_spacing_closed_end=150,min_bridge_spacing_open_end=150,\n",
    "                              object1_airbridges=True, object2_airbridges=True, )"
   ]
  },
  {
   "cell_type": "code",
   "execution_count": 4,
   "metadata": {
    "collapsed": true
   },
   "outputs": [],
   "source": [
    "g5,g6, par5, par6= auxfuncs.draw_double_resonator_plus_double_qubit(sqd.sample,\n",
    "                            sqd.coupler_start+1750, sqd.central_line_y, sqd.coupler_length,\n",
    "                            sqd.resonator_core,sqd.resonator_gap,sqd.resonator_ground, \n",
    "                            sqd.tl_core, sqd.tl_gap, sqd.tl_ground, grounding_width=10,\n",
    "                            closed_end_meander_length1=2400,length_left1=250,length_right1=360,\n",
    "                            closed_end_meander_length2=1900,length_left2=360,length_right2=250,\n",
    "                            open_end_shift_length1=400, open_end_shift_length2=400,\n",
    "                            object1=sqd.xmon2, port1='crab_up',\n",
    "                            object2=sqd.coaxmon4, port2='coupler2',port_orientation='left',meander_r=55,\n",
    "                            airbridge=airbridge, \n",
    "                            min_bridge_spacing_closed_end=150,min_bridge_spacing_open_end=150,\n",
    "                             object2_airbridges=True, )"
   ]
  },
  {
   "cell_type": "code",
   "execution_count": 11,
   "metadata": {
    "collapsed": true
   },
   "outputs": [],
   "source": [
    "g7, g8, _1, _2 = auxfuncs.draw_double_resonator(sqd.sample, \n",
    "                            sqd.coupler_start+2450, sqd.central_line_y, 180,\n",
    "                             sqd.resonator_core,sqd.resonator_gap,15, \n",
    "                             sqd.tl_core, sqd.tl_gap, sqd.tl_ground, grounding_width=20,\n",
    "                             closed_end_meander_length1=2200,length_left1=130,length_right1=140,\n",
    "                             closed_end_meander_length2=2300,length_left2=140,length_right2=130,\n",
    "                             open_end_length1=1000,open_end_length2=1000,port_orientation='left',meander_r=55,\n",
    "                             airbridge=airbridge, \n",
    "                             min_bridge_spacing_closed_end=100,min_bridge_spacing_open_end=150, )"
   ]
  },
  {
   "cell_type": "markdown",
   "metadata": {},
   "source": [
    "# Connect resonators into feedline"
   ]
  },
  {
   "cell_type": "code",
   "execution_count": 3,
   "metadata": {},
   "outputs": [
    {
     "data": {
      "text/plain": [
       "[CPW \"right TL\", l=28.000]"
      ]
     },
     "execution_count": 3,
     "metadata": {},
     "output_type": "execute_result"
    }
   ],
   "source": [
    "sqd.sample.connect_cpw(o1=sqd.p1, o2=g7, port1='port', port2='narrow', name='right TL', points=[])\n",
    "sqd.sample.connect_cpw(o1=g8, o2=sqd.p2, port1='narrow', port2='port', name='right TL', points=[])"
   ]
  },
  {
   "cell_type": "code",
   "execution_count": 8,
   "metadata": {},
   "outputs": [
    {
     "data": {
      "text/plain": [
       "[CPW \"right TL\", l=28.000]"
      ]
     },
     "execution_count": 8,
     "metadata": {},
     "output_type": "execute_result"
    }
   ],
   "source": [
    "sqd.sample.connect_cpw(o1=sqd.p1, o2=g1, port1='port', port2='narrow', name='right TL', points=[])\n",
    "sqd.sample.connect_cpw(o1=g2, o2=g3, port1='narrow', port2='narrow', name='right TL', points=[])\n",
    "sqd.sample.connect_cpw(o1=g4, o2=g5, port1='narrow', port2='narrow', name='right TL', points=[])\n",
    "sqd.sample.connect_cpw(o1=g6, o2=g7, port1='narrow', port2='narrow', name='right TL', points=[])\n",
    "sqd.sample.connect_cpw(o1=g8, o2=sqd.p2, port1='narrow', port2='port', name='right TL', points=[])"
   ]
  },
  {
   "cell_type": "code",
   "execution_count": 12,
   "metadata": {},
   "outputs": [
    {
     "data": {
      "text/plain": [
       "[CPW \"right TLs0\", l=28.000]"
      ]
     },
     "execution_count": 12,
     "metadata": {},
     "output_type": "execute_result"
    }
   ],
   "source": [
    "sqd.sample.connect_cpw(o1=sqd.p1, o2=g1, port1='port', port2='narrow', name='right TL', points=[],\n",
    "                       airbridge=airbridge, min_spacing=150)\n",
    "sqd.sample.connect_cpw(o1=g2, o2=g3, port1='narrow', port2='narrow', name='right TL', points=[],\n",
    "                       airbridge=airbridge, min_spacing=150)\n",
    "sqd.sample.connect_cpw(o1=g4, o2=g5, port1='narrow', port2='narrow', name='right TL', points=[],\n",
    "                       airbridge=airbridge, min_spacing=150)\n",
    "sqd.sample.connect_cpw(o1=g6, o2=g7, port1='narrow', port2='narrow', name='right TL', points=[],\n",
    "                       airbridge=airbridge, min_spacing=150)\n",
    "sqd.sample.connect_cpw(o1=g8, o2=sqd.p2, port1='narrow', port2='port', name='right TL', points=[],\n",
    "                       airbridge=airbridge, min_spacing=150)"
   ]
  },
  {
   "cell_type": "code",
   "execution_count": 5,
   "metadata": {},
   "outputs": [
    {
     "data": {
      "text/plain": [
       "[CPW \"right TLs0\", l=85.429,\n",
       " CPW \"right TLs1\", l=170.857,\n",
       " CPW \"right TLs2\", l=170.857,\n",
       " CPW \"right TLs3\", l=170.857,\n",
       " CPW \"right TLs4\", l=170.857,\n",
       " CPW \"right TLs5\", l=170.857,\n",
       " CPW \"right TLs6\", l=170.857,\n",
       " CPW \"right TLs7\", l=85.429]"
      ]
     },
     "execution_count": 5,
     "metadata": {},
     "output_type": "execute_result"
    }
   ],
   "source": [
    "sqd.sample.connect_cpw(o1=sqd.p1, o2=g3, port1='port', port2='narrow', name='right TL', points=[],\n",
    "                       airbridge=airbridge, min_spacing=150)\n",
    "sqd.sample.connect_cpw(o1=g4, o2=sqd.p2, port1='narrow',port2='port', name='right TL', points=[],\n",
    "                       airbridge=airbridge, min_spacing=150)"
   ]
  },
  {
   "cell_type": "code",
   "execution_count": 6,
   "metadata": {},
   "outputs": [
    {
     "name": "stderr",
     "output_type": "stream",
     "text": [
      "C:\\Users\\Elena\\Anaconda3\\lib\\site-packages\\gdspy\\path.py:828: UserWarning: [GDSPY] Possible inconsistency found in `FlexPath` due to sharp corner.\n",
      "  \"[GDSPY] Possible inconsistency found in \"\n"
     ]
    },
    {
     "name": "stdout",
     "output_type": "stream",
     "text": [
      "Gds file has been writen here:  C:\\Users\\Elena\\QCreator\\designs\\Single_qubit_design\\1Q_test.gds\n",
      "For 0 conductor total length is:  18640\n",
      "For 1 conductor total length is:  14161\n",
      "For 2 conductor total length is:  1179\n",
      "Sum : 33980\n",
      "Data has been written into the file: C:\\Users\\Elena\\QCreator\\designs\\Single_qubit_design\\mesh_4k_data\n",
      "Time for fastcap job is:  3.921976089477539\n",
      "Capacitance results have been writen here:  C:\\Users\\Elena\\QCreator\\designs\\Single_qubit_design\\mesh_4k_results\n",
      "Capacitance value in:  nanofarads\n",
      "[<map object at 0x0000023BA08BD160>, <map object at 0x0000023BA0933DD8>, <map object at 0x0000023BA09F4EF0>]\n",
      "       0      1     2\n",
      "0  212.1  -87.1 -16.8\n",
      "1  -87.1  125.0  -8.6\n",
      "2  -16.8   -8.6  31.2\n",
      "Gds file has been writen here:  C:\\Users\\Elena\\QCreator\\designs\\Single_qubit_design\\1Q_test.gds\n",
      "For 0 conductor total length is:  13557\n",
      "For 1 conductor total length is:  4892\n",
      "For 2 conductor total length is:  847\n",
      "Sum : 19296\n",
      "Data has been written into the file: C:\\Users\\Elena\\QCreator\\designs\\Single_qubit_design\\mesh_4k_data\n",
      "Time for fastcap job is:  2.2428674697875977\n",
      "Capacitance results have been writen here:  C:\\Users\\Elena\\QCreator\\designs\\Single_qubit_design\\mesh_4k_results\n",
      "Capacitance value in:  nanofarads\n",
      "[<map object at 0x0000023BA09F4CC0>, <map object at 0x0000023BA09F4E80>, <map object at 0x0000023BA08BD518>]\n",
      "       0     1     2\n",
      "0  155.4 -47.5 -15.4\n",
      "1  -47.5  66.6  -5.0\n",
      "2  -15.4  -5.0  25.5\n"
     ]
    }
   ],
   "source": [
    "sqd.sample.draw_cap()\n",
    "for i,qubit in enumerate(sqd.sample.qubits):\n",
    "    caps=sqd.sample.calculate_qubit_capacitance(cell= sqd.sample.qubit_cap_cells[i], qubit=sqd.sample.qubits[i],\n",
    "                                       mesh_volume=10)"
   ]
  },
  {
   "cell_type": "code",
   "execution_count": 7,
   "metadata": {},
   "outputs": [
    {
     "name": "stdout",
     "output_type": "stream",
     "text": [
      "Resonance frequencies are, GHz: [8.40748049 8.64899624]\n",
      "Kappas are, us^-1: [0.4336185 0.4826621]\n",
      "Quality factors are: [121825.42377663 112590.66415231]\n"
     ]
    }
   ],
   "source": [
    "# без мостов \n",
    "sys, connections, elements_ = sqd.sample.get_tls(cutoff=2e11)\n",
    "f, delta, modes = sys.get_modes()\n",
    "num_modes=18\n",
    "(res_fr,kappa,_)=auxfuncs.search_for_resonators_qubits(f,delta,0,15)[:num_modes]"
   ]
  },
  {
   "cell_type": "code",
   "execution_count": 6,
   "metadata": {},
   "outputs": [
    {
     "name": "stdout",
     "output_type": "stream",
     "text": [
      "Resonance frequencies are, GHz: [8.36450632 8.60656155]\n",
      "Kappas are, us^-1: [0.42897409 0.47771709]\n",
      "Quality factors are: [122514.95876709 113198.00363591]\n"
     ]
    }
   ],
   "source": [
    "# с мостами тестовые\n",
    "sys, connections, elements_ = sqd.sample.get_tls(cutoff=2e11)\n",
    "f, delta, modes = sys.get_modes()\n",
    "num_modes=18\n",
    "(res_fr,kappa,_)=auxfuncs.search_for_resonators_qubits(f,delta,0,15)[:num_modes]"
   ]
  },
  {
   "cell_type": "code",
   "execution_count": 7,
   "metadata": {},
   "outputs": [
    {
     "name": "stdout",
     "output_type": "stream",
     "text": [
      "('up',)\n",
      "Resonance frequencies are, GHz: [6.4941911  6.64785633 7.38405038 8.89416297]\n",
      "Kappas are, us^-1: [0.00149588 0.00156631 0.48104469 0.84178018]\n",
      "Quality factors are: [27277763.23929125 26667633.25178742    96447.08189021    66387.49069069]\n"
     ]
    }
   ],
   "source": [
    "# с мостами третья пара\n",
    "sys, connections, elements_ = sqd.sample.get_tls(cutoff=2e11)\n",
    "f, delta, modes = sys.get_modes()\n",
    "num_modes=18\n",
    "(res_fr,kappa,_)=auxfuncs.search_for_resonators_qubits(f,delta,0,15)[:num_modes]"
   ]
  },
  {
   "cell_type": "code",
   "execution_count": 7,
   "metadata": {},
   "outputs": [
    {
     "name": "stdout",
     "output_type": "stream",
     "text": [
      "Resonance frequencies are, GHz: [4.58835409 4.67603047 6.6038406  7.18904665]\n",
      "Kappas are, us^-1: [3.95017836e-04 2.10878039e-04 3.40462813e-01 4.44198495e-01]\n",
      "Quality factors are: [7.29827274e+07 1.39323972e+08 1.21872794e+05 1.01689026e+05]\n"
     ]
    }
   ],
   "source": [
    "# с мостами вторая пара\n",
    "sys, connections, elements_ = sqd.sample.get_tls(cutoff=2e11)\n",
    "f, delta, modes = sys.get_modes()\n",
    "num_modes=18\n",
    "(res_fr,kappa,_)=auxfuncs.search_for_resonators_qubits(f,delta,0,15)[:num_modes]"
   ]
  },
  {
   "cell_type": "code",
   "execution_count": 7,
   "metadata": {},
   "outputs": [
    {
     "name": "stdout",
     "output_type": "stream",
     "text": [
      "('up',)\n",
      "Resonance frequencies are, GHz: [4.56696029 4.67584366 5.91216628 6.94639906]\n",
      "Kappas are, us^-1: [1.15682397e-04 2.37142590e-04 2.45285172e-01 3.98962671e-01]\n",
      "Quality factors are: [2.48050339e+08 1.23888299e+08 1.51445096e+05 1.09397484e+05]\n"
     ]
    }
   ],
   "source": [
    "# с мостами первая пара с пп-конденсатором\n",
    "sys, connections, elements_ = sqd.sample.get_tls(cutoff=2e11)\n",
    "f, delta, modes = sys.get_modes()\n",
    "num_modes=18\n",
    "(res_fr,kappa,_)=auxfuncs.search_for_resonators_qubits(f,delta,0,15)[:num_modes]"
   ]
  },
  {
   "cell_type": "code",
   "execution_count": 12,
   "metadata": {},
   "outputs": [
    {
     "name": "stdout",
     "output_type": "stream",
     "text": [
      "('up',)\n",
      "('up',)\n",
      "Resonance frequencies are, GHz: [4.65131807 4.67126494 4.75969078 4.75989685 5.96937014 6.6093101\n",
      " 6.7049871  6.76698466 7.03203158 7.29678576 7.45899308 8.4074802\n",
      " 8.64899592 9.04731812]\n",
      "Kappas are, us^-1: [1.28082795e-04 4.16569186e-04 2.50462435e-04 2.19290109e-04\n",
      " 2.54557075e-01 1.72783985e-03 3.58131674e-01 1.61845268e-03\n",
      " 4.17901152e-01 4.67491869e-01 4.96910549e-01 4.34828615e-01\n",
      " 4.84032573e-01 8.91320422e-01]\n",
      "Quality factors are: [2.28173452e+08 7.04574996e+07 1.19403212e+08 1.36382412e+08\n",
      " 1.47340862e+05 2.40343572e+07 1.17634601e+05 2.62709062e+07\n",
      " 1.05727293e+05 9.80702770e+04 9.43152359e+04 1.21486384e+05\n",
      " 1.12271874e+05 6.37772622e+04]\n"
     ]
    }
   ],
   "source": [
    "# без мостов\n",
    "sys, connections, elements_ = sqd.sample.get_tls(cutoff=2e11)\n",
    "f, delta, modes = sys.get_modes()\n",
    "num_modes=18\n",
    "(res_fr,kappa,_)=auxfuncs.search_for_resonators_qubits(f,delta,0,15)[:num_modes]"
   ]
  },
  {
   "cell_type": "code",
   "execution_count": 12,
   "metadata": {},
   "outputs": [
    {
     "name": "stdout",
     "output_type": "stream",
     "text": [
      "('up',)\n",
      "('up',)\n"
     ]
    },
    {
     "name": "stderr",
     "output_type": "stream",
     "text": [
      "C:\\Users\\Elena\\Anaconda3\\lib\\site-packages\\numpy\\core\\_asarray.py:83: VisibleDeprecationWarning: Creating an ndarray from ragged nested sequences (which is a list-or-tuple of lists-or-tuples-or ndarrays with different lengths or shapes) is deprecated. If you meant to do this, you must specify 'dtype=object' when creating the ndarray\n",
      "  return array(a, dtype, copy=False, order=order)\n"
     ]
    },
    {
     "name": "stdout",
     "output_type": "stream",
     "text": [
      "Resonance frequencies are, GHz: [4.65157744 4.6720574  4.76017694 4.76028483 6.53820033 6.61080395\n",
      " 6.76832177 7.31409621 7.73277942 7.95873732 8.14141066 9.4031083\n",
      " 9.71054187 9.74765376]\n",
      "Kappas are, us^-1: [7.09702410e-04 2.07584762e-03 9.13411710e-04 9.00099282e-04\n",
      " 3.33126328e-01 5.78035869e-03 7.05105450e-03 4.63353230e-01\n",
      " 5.52685866e-01 6.04424478e-01 6.46979366e-01 6.08512193e-01\n",
      " 6.87512025e-01 1.11264282e+00]\n",
      "Quality factors are: [41181659.50116893 14141405.24908105 32744351.1613837  33229391.80663831\n",
      "   123318.75560839  7185870.02950175  6031242.54097162    99180.96787316\n",
      "    87909.76751518    82733.61387899    79065.87824586    97091.68134236\n",
      "    88744.82454104    55045.80044669]\n"
     ]
    }
   ],
   "source": [
    "###с мостами\n",
    "sys, connections, elements_ = sqd.sample.get_tls(cutoff=2e11)\n",
    "f, delta, modes = sys.get_modes()\n",
    "num_modes=18\n",
    "(res_fr,kappa,_)=auxfuncs.search_for_resonators_qubits(f,delta,0,15)[:num_modes]"
   ]
  },
  {
   "cell_type": "markdown",
   "metadata": {},
   "source": [
    "# Connect contact pads"
   ]
  },
  {
   "cell_type": "code",
   "execution_count": 9,
   "metadata": {
    "collapsed": true
   },
   "outputs": [],
   "source": [
    "flux_pads_coaxmons = [\n",
    "    (sqd.sample.qubits[1], sqd.pads_top[0], []),\n",
    "    (sqd.sample.qubits[2], sqd.pads_bottom[1], []),\n",
    "    (sqd.sample.qubits[3], sqd.pads_top[1], []),\n",
    "    (sqd.sample.qubits[5], sqd.pads_top[2], [])]\n",
    "\n",
    "flux_pads_xmons = [(sqd.sample.qubits[0], sqd.pads_bottom[0],[]),\n",
    "                  (sqd.sample.qubits[4], sqd.pads_bottom[2], [])]\n",
    "\n",
    "\n",
    "\n",
    "for coaxmon, pad, points in flux_pads_coaxmons:  \n",
    "    flux_line_narrowing_position = np.asarray(coaxmon.terminals['flux'].position)\n",
    "    direction = [np.cos(coaxmon.terminals['flux'].orientation), \n",
    "                 np.sin(coaxmon.terminals['flux'].orientation)]\n",
    "    narrowing_length = 10\n",
    "    flux_line_narrowing_position = flux_line_narrowing_position - np.asarray(direction)*narrowing_length/2\n",
    "    flux_line_narrowing = elements.Narrowing(name='flux_line_narrowing', position=flux_line_narrowing_position, \n",
    "                                             orientation=coaxmon.terminals['flux'].orientation+np.pi, \n",
    "                                             w1=coaxmon.terminals['flux'].w, \n",
    "                                             s1=coaxmon.terminals['flux'].s, g1=coaxmon.terminals['flux'].g,\n",
    "                                             w2=sqd.tl_core, s2=sqd.tl_gap, g2=sqd.tl_ground, \n",
    "                                             layer_configuration=sqd.sample.layer_configuration, length=narrowing_length)\n",
    "    sqd.sample.add(flux_line_narrowing)\n",
    "    sqd.sample.connect_cpw(pad, flux_line_narrowing, 'port', 'port2', 'flux_control5', points=[])\n",
    "    \n",
    "for xmon, pad, points in flux_pads_xmons:  \n",
    "    \n",
    "    narrowing_length = 25\n",
    "    flux_line_narrowing_position = np.asarray(xmon.terminals['flux'].position)\n",
    "    direction = [np.cos(xmon.terminals['flux'].orientation), \n",
    "                 np.sin(xmon.terminals['flux'].orientation)]\n",
    "    flux_line_narrowing_position = flux_line_narrowing_position - np.asarray(direction)*narrowing_length/2\n",
    "    flux_line_narrowing = elements.Narrowing(name='flux_line_narrowing', position=flux_line_narrowing_position, \n",
    "                                             orientation=xmon.terminals['flux'].orientation+np.pi, \n",
    "                                             w1=xmon.terminals['flux'].w, \n",
    "                                             s1=xmon.terminals['flux'].s, g1=xmon.terminals['flux'].g,\n",
    "                                             w2=sqd.tl_core, s2=sqd.tl_gap, g2=sqd.tl_ground, \n",
    "                                             layer_configuration=sqd.sample.layer_configuration, length=narrowing_length)\n",
    "    sqd.sample.add(flux_line_narrowing)\n",
    "    sqd.sample.connect_cpw(pad, flux_line_narrowing, 'port', 'port2', 'flux_control5', points=[])"
   ]
  },
  {
   "cell_type": "code",
   "execution_count": 5,
   "metadata": {},
   "outputs": [],
   "source": [
    "flux_pads_coaxmons = [\n",
    "    (sqd.sample.qubits[1], sqd.pads_top[0], []),\n",
    "    (sqd.sample.qubits[2], sqd.pads_bottom[1], []),\n",
    "    (sqd.sample.qubits[3], sqd.pads_top[1], []),\n",
    "    (sqd.sample.qubits[5], sqd.pads_top[2], [])]\n",
    "\n",
    "flux_pads_xmons = [(sqd.sample.qubits[0], sqd.pads_bottom[0],[]),\n",
    "                  (sqd.sample.qubits[4], sqd.pads_bottom[2], [])]\n",
    "\n",
    "\n",
    "\n",
    "for coaxmon, pad, points in flux_pads_coaxmons:  \n",
    "    bridge, port = sqd.sample.airbridge(\n",
    "            coaxmon, 'flux', name='Airbridge over %s qubit flux coupler' % coaxmon.name, geometry=airbridge)\n",
    "    \n",
    "    narrowing_length = 25\n",
    "    flux_line_narrowing_position = sqd.sample.cpw_shift(bridge, port, narrowing_length/2)[0]\n",
    "\n",
    "    flux_line_narrowing = sqd.elements.Narrowing(name='flux_line_narrowing', position=flux_line_narrowing_position, \n",
    "                                             orientation=bridge.terminals[port].orientation+np.pi, \n",
    "                                             w1=bridge.terminals[port].w, \n",
    "                                             s1=bridge.terminals[port].s, g1=bridge.terminals[port].g,\n",
    "                                             w2=sqd.tl_core, s2=sqd.tl_gap, g2=sqd.tl_ground, \n",
    "                                             layer_configuration=sqd.sample.layer_configuration, length=narrowing_length)\n",
    "    sqd.sample.add(flux_line_narrowing)\n",
    "    sqd.sample.connect(flux_line_narrowing, 'port1', bridge, port)\n",
    "    sqd.sample.connect_cpw(pad, flux_line_narrowing, 'port', 'port2', 'flux_control_line_qubit_'+coaxmon.name, points=points,\n",
    "                          airbridge=airbridge, min_spacing=100, r=80)\n",
    "#     sqd.sample.connect_cpw(pad, flux_line_narrowing, 'port', 'port2', 'flux_control5', points=points)\n",
    "    \n",
    "for xmon, pad, points in flux_pads_xmons:  \n",
    "    bridge, port = sqd.sample.airbridge(\n",
    "            xmon, 'flux', name='Airbridge over %s qubit flux coupler' % coaxmon.name, geometry=airbridge)\n",
    "    \n",
    "    narrowing_length = 25\n",
    "    flux_line_narrowing_position = sqd.sample.cpw_shift(bridge, port, narrowing_length/2)[0]\n",
    "    \n",
    "    flux_line_narrowing = sqd.elements.Narrowing(name='flux_line_narrowing', position=flux_line_narrowing_position, \n",
    "                                             orientation=bridge.terminals[port].orientation+np.pi, \n",
    "                                             w1=bridge.terminals[port].w, \n",
    "                                             s1=bridge.terminals[port].s, g1=bridge.terminals[port].g,\n",
    "                                             w2=sqd.tl_core, s2=sqd.tl_gap, g2=sqd.tl_ground, \n",
    "                                             layer_configuration=sqd.sample.layer_configuration, length=narrowing_length)\n",
    "    sqd.sample.add(flux_line_narrowing)\n",
    "    sqd.sample.connect(flux_line_narrowing, 'port1', bridge, port)\n",
    "#     sqd.sample.connect_cpw(pad, flux_line_narrowing, 'port', 'port2', 'flux_control5', points=points)\n",
    "    sqd.sample.connect_cpw(pad, flux_line_narrowing, 'port', 'port2', 'flux_control_line_qubit_'+xmon.name, points=points,\n",
    "                          airbridge=airbridge, min_spacing=100, r=80)"
   ]
  },
  {
   "cell_type": "code",
   "execution_count": 10,
   "metadata": {
    "collapsed": true
   },
   "outputs": [],
   "source": [
    "grid_ground = elements.GridGround(sqd.sample.chip_geometry, sqd.sample.layer_configuration, sqd.sample.objects, \n",
    "                                  width=4, period=250)\n",
    "sqd.sample.add(grid_ground)"
   ]
  },
  {
   "cell_type": "code",
   "execution_count": 7,
   "metadata": {},
   "outputs": [],
   "source": [
    "sqd.sample.draw_design()\n",
    "sqd.sample.watch()"
   ]
  },
  {
   "cell_type": "code",
   "execution_count": 12,
   "metadata": {},
   "outputs": [
    {
     "name": "stdout",
     "output_type": "stream",
     "text": [
      "Gds file has been writen here:  C:\\Users\\Elena\\QCreator\\designs\\Single_qubit_design\\1Q_test.gds\n"
     ]
    }
   ],
   "source": [
    "sqd.sample.write_to_gds()"
   ]
  },
  {
   "cell_type": "code",
   "execution_count": 8,
   "metadata": {},
   "outputs": [
    {
     "name": "stdout",
     "output_type": "stream",
     "text": [
      "('up',)\n",
      "Resonance frequencies are, GHz: [6.61671305 6.81201887]\n",
      "Kappas are, us^-1: [0.00517315 0.00608158]\n",
      "Quality factors are: [8036500.51541977 7037838.7546899 ]\n"
     ]
    },
    {
     "name": "stderr",
     "output_type": "stream",
     "text": [
      "C:\\Users\\Elena\\Anaconda3\\lib\\site-packages\\numpy\\core\\_asarray.py:83: VisibleDeprecationWarning: Creating an ndarray from ragged nested sequences (which is a list-or-tuple of lists-or-tuples-or ndarrays with different lengths or shapes) is deprecated. If you meant to do this, you must specify 'dtype=object' when creating the ndarray\n",
      "  return array(a, dtype, copy=False, order=order)\n"
     ]
    }
   ],
   "source": [
    "sys, connections, elements_ = sqd.sample.get_tls(cutoff=2e11)\n",
    "f, delta, modes = sys.get_modes()\n",
    "num_modes=18\n",
    "(res_fr,kappa,_)=auxfuncs.search_for_resonators_qubits(f,delta,0,15)[:num_modes]"
   ]
  },
  {
   "cell_type": "code",
   "execution_count": 12,
   "metadata": {},
   "outputs": [
    {
     "name": "stdout",
     "output_type": "stream",
     "text": [
      "Gds file has been writen here:  E:\\Github2.0\\QCreator\\designs\\Single_qubit_design\\1Q_test.gds\n"
     ]
    }
   ],
   "source": [
    "sqd.sample.write_to_gds()"
   ]
  },
  {
   "cell_type": "markdown",
   "metadata": {},
   "source": [
    "# Simulations"
   ]
  },
  {
   "cell_type": "code",
   "execution_count": 17,
   "metadata": {},
   "outputs": [
    {
     "name": "stdout",
     "output_type": "stream",
     "text": [
      "('down',)\n",
      "('up',)\n"
     ]
    },
    {
     "name": "stderr",
     "output_type": "stream",
     "text": [
      "C:\\ProgramData\\Anaconda3\\envs\\py38\\lib\\site-packages\\numpy\\core\\_asarray.py:83: VisibleDeprecationWarning: Creating an ndarray from ragged nested sequences (which is a list-or-tuple of lists-or-tuples-or ndarrays with different lengths or shapes) is deprecated. If you meant to do this, you must specify 'dtype=object' when creating the ndarray\n",
      "  return array(a, dtype, copy=False, order=order)\n"
     ]
    }
   ],
   "source": [
    "sys, connections, elements_ = sqd.sample.get_tls(cutoff=2e11)\n",
    "f, delta, modes = sys.get_modes()"
   ]
  },
  {
   "cell_type": "code",
   "execution_count": 9,
   "metadata": {},
   "outputs": [
    {
     "name": "stdout",
     "output_type": "stream",
     "text": [
      "Resonance frequencies are, GHz: [8.13953611 9.72479585]\n",
      "Kappas are, us^-1: [0.64579841 1.10192574]\n",
      "Quality factors are: [79192.22566646 55450.82777106]\n"
     ]
    }
   ],
   "source": [
    "num_modes=18\n",
    "(res_fr,kappa,_)=auxfuncs.search_for_resonators_qubits(f,delta,0,15)[:num_modes]"
   ]
  },
  {
   "cell_type": "code",
   "execution_count": 20,
   "metadata": {},
   "outputs": [
    {
     "ename": "AttributeError",
     "evalue": "module 'Single_qubit_design' has no attribute 'search_for_resonators_qubits'",
     "output_type": "error",
     "traceback": [
      "\u001b[1;31m---------------------------------------------------------------------------\u001b[0m",
      "\u001b[1;31mAttributeError\u001b[0m                            Traceback (most recent call last)",
      "\u001b[1;32m<ipython-input-20-08e7aae9defa>\u001b[0m in \u001b[0;36m<module>\u001b[1;34m()\u001b[0m\n\u001b[0;32m      1\u001b[0m \u001b[0mnum_modes\u001b[0m\u001b[1;33m=\u001b[0m\u001b[1;36m18\u001b[0m\u001b[1;33m\u001b[0m\u001b[0m\n\u001b[1;32m----> 2\u001b[1;33m \u001b[1;33m(\u001b[0m\u001b[0mres_fr\u001b[0m\u001b[1;33m,\u001b[0m\u001b[0mkappa\u001b[0m\u001b[1;33m,\u001b[0m\u001b[0m_\u001b[0m\u001b[1;33m)\u001b[0m\u001b[1;33m=\u001b[0m\u001b[0msqd\u001b[0m\u001b[1;33m.\u001b[0m\u001b[0msearch_for_resonators_qubits\u001b[0m\u001b[1;33m(\u001b[0m\u001b[0mf\u001b[0m\u001b[1;33m,\u001b[0m\u001b[0mdelta\u001b[0m\u001b[1;33m,\u001b[0m\u001b[1;36m0\u001b[0m\u001b[1;33m,\u001b[0m\u001b[1;36m15\u001b[0m\u001b[1;33m)\u001b[0m\u001b[1;33m[\u001b[0m\u001b[1;33m:\u001b[0m\u001b[0mnum_modes\u001b[0m\u001b[1;33m]\u001b[0m\u001b[1;33m\u001b[0m\u001b[0m\n\u001b[0m",
      "\u001b[1;31mAttributeError\u001b[0m: module 'Single_qubit_design' has no attribute 'search_for_resonators_qubits'"
     ]
    }
   ],
   "source": [
    "num_modes=18\n",
    "(res_fr,kappa,_)=sqd.search_for_resonators_qubits(f,delta,0,15)[:num_modes]"
   ]
  },
  {
   "cell_type": "markdown",
   "metadata": {},
   "source": [
    "# Get s21 parameters"
   ]
  },
  {
   "cell_type": "code",
   "execution_count": null,
   "metadata": {
    "collapsed": true
   },
   "outputs": [],
   "source": [
    "f_ = np.linspace(6.9e9, 7.1e9, 2001)\n",
    "# s11 = sample.get_s21('p1', 'p1', f_)\n",
    "s11 = sample.get_s21('pad-left-0', 'pad-right-0', f_)"
   ]
  },
  {
   "cell_type": "code",
   "execution_count": null,
   "metadata": {
    "collapsed": true
   },
   "outputs": [],
   "source": [
    "import resonator_tools\n",
    "from resonator_tools.circuit import notch_port, reflection_port"
   ]
  },
  {
   "cell_type": "code",
   "execution_count": null,
   "metadata": {
    "collapsed": true
   },
   "outputs": [],
   "source": [
    "fitter = notch_port(f_data=f_, z_data_raw=s11)\n",
    "fitter.autofit()"
   ]
  },
  {
   "cell_type": "code",
   "execution_count": null,
   "metadata": {
    "collapsed": true
   },
   "outputs": [],
   "source": [
    "fitter.plotall()"
   ]
  },
  {
   "cell_type": "code",
   "execution_count": null,
   "metadata": {
    "collapsed": true
   },
   "outputs": [],
   "source": [
    "fitter.fitresults"
   ]
  },
  {
   "cell_type": "markdown",
   "metadata": {},
   "source": [
    "# Estimate qubit-resonator parameters"
   ]
  },
  {
   "cell_type": "code",
   "execution_count": 10,
   "metadata": {},
   "outputs": [
    {
     "data": {
      "text/plain": [
       "{'g': (97.56920699063008, 'MHz/2pi')}"
      ]
     },
     "execution_count": 10,
     "metadata": {},
     "output_type": "execute_result"
    }
   ],
   "source": [
    "auxfuncs.get_grounded_qubit_resonator_coupling(par1,sqd.coaxmon1,'coupler2',res_fr[rfr_ind],res_fr[qfr_ind])"
   ]
  },
  {
   "cell_type": "code",
   "execution_count": 8,
   "metadata": {},
   "outputs": [
    {
     "name": "stdout",
     "output_type": "stream",
     "text": [
      "Qubit- resonator detuning: -1.5621529329048762\n",
      "{'g': (41.938464376136274, 'MHz/2pi'), 'alpha': (-257.9258232311467, 'MHz/2pi'), 'chi': (-0.1595534299309614, 'MHz/2pi'), 'T': (11311.17289550212, 'us'), 'protection ratio': 1387.4650386671494} 5.9119415823460795 4.349788649441203\n",
      "Qubit- resonator detuning: -2.4922460574341585\n",
      "{'g': (100.25617245762723, 'MHz/2pi'), 'alpha': (-270.5339291153509, 'MHz/2pi'), 'chi': (-0.394917847847182, 'MHz/2pi'), 'T': (3097.3504743215617, 'us'), 'protection ratio': 617.9589047390298} 6.94590285016691 4.453656792732751\n"
     ]
    }
   ],
   "source": [
    "#min qubit freqs setup, first pair\n",
    "res1 = 2\n",
    "q1 = 0\n",
    "res2 = 3\n",
    "q2 = 1\n",
    "\n",
    "res_indxs = [[res1, q1, sqd.xmon1, 'crab_up', par1], [res2, q2, sqd.coaxmon1, 'coupler2', par2]]\n",
    "for i in res_indxs:\n",
    "    print(auxfuncs.get_grounded_qubit_resonator_parameters(i[4],i[2],i[3],res_fr[i[0]],res_fr[i[1]],kappa[i[0]]), res_fr[i[0]],res_fr[i[1]])"
   ]
  },
  {
   "cell_type": "code",
   "execution_count": 8,
   "metadata": {},
   "outputs": [
    {
     "name": "stdout",
     "output_type": "stream",
     "text": [
      "Qubit- resonator detuning: -1.3452059982459303\n",
      "{'g': (42.97345949311406, 'MHz/2pi'), 'alpha': (-257.9258232311467, 'MHz/2pi'), 'chi': (-0.22087035523301632, 'MHz/2pi'), 'T': (7989.795387885008, 'us'), 'protection ratio': 979.8891662674614} 5.912166284000326 4.566960285754396\n",
      "Qubit- resonator detuning: -2.2705553969539327\n",
      "{'g': (102.73022758419359, 'MHz/2pi'), 'alpha': (-270.5339291153509, 'MHz/2pi'), 'chi': (-0.49484160441165387, 'MHz/2pi'), 'T': (2448.8683403744176, 'us'), 'protection ratio': 488.50352745269146} 6.94639905830045 4.6758436613465175\n"
     ]
    }
   ],
   "source": [
    "#max qubit freqs setup, first pair\n",
    "res1 = 2\n",
    "q1 = 0\n",
    "res2 = 3\n",
    "q2 = 1\n",
    "\n",
    "res_indxs = [[res1, q1, sqd.xmon1, 'crab_up', par1], [res2, q2, sqd.coaxmon1, 'coupler2', par2]]\n",
    "for i in res_indxs:\n",
    "    print(auxfuncs.get_grounded_qubit_resonator_parameters(i[4],i[2],i[3],res_fr[i[0]],res_fr[i[1]],kappa[i[0]]), res_fr[i[0]],res_fr[i[1]])"
   ]
  },
  {
   "cell_type": "code",
   "execution_count": 8,
   "metadata": {},
   "outputs": [
    {
     "name": "stdout",
     "output_type": "stream",
     "text": [
      "Qubit- resonator detuning: -2.3380902326942836\n",
      "{'g': (116.89439687451646, 'MHz/2pi'), 'alpha': (-144.98674644205929, 'MHz/2pi'), 'chi': (-0.3412433855906794, 'MHz/2pi'), 'T': (2349.110411127659, 'us'), 'protection ratio': 400.06922622865375} 6.602653105535525 4.264562872841242\n",
      "Qubit- resonator detuning: -2.7348024528318993\n",
      "{'g': (104.15398488821553, 'MHz/2pi'), 'alpha': (-270.5339291153509, 'MHz/2pi'), 'chi': (-0.3570709109519594, 'MHz/2pi'), 'T': (3103.8937376558547, 'us'), 'protection ratio': 689.4458161101097} 7.188596771688874 4.453794318856975\n"
     ]
    }
   ],
   "source": [
    "#min qubit freqs setup, second pair\n",
    "res3 = 2\n",
    "q3 = 0\n",
    "res4 = 3\n",
    "q4 = 1\n",
    "\n",
    "res_indxs = [[res3, q3, sqd.coaxmon2, 'coupler2', par3],[res4, q4, sqd.coaxmon3 , 'coupler2', par4]]\n",
    "for i in res_indxs:\n",
    "    print(auxfuncs.get_grounded_qubit_resonator_parameters(i[4],i[2],i[3],res_fr[i[0]],res_fr[i[1]],kappa[i[0]]), res_fr[i[0]],res_fr[i[1]])"
   ]
  },
  {
   "cell_type": "code",
   "execution_count": 8,
   "metadata": {},
   "outputs": [
    {
     "name": "stdout",
     "output_type": "stream",
     "text": [
      "Qubit- resonator detuning: -1.927810134704898\n",
      "{'g': (122.41486286309042, 'MHz/2pi'), 'alpha': (-144.98674644205929, 'MHz/2pi'), 'chi': (-0.5437203645655521, 'MHz/2pi'), 'T': (1456.8690937151848, 'us'), 'protection ratio': 248.00487476675755} 6.603840600156148 4.67603046545125\n",
      "Qubit- resonator detuning: -2.6006925583776646\n",
      "{'g': (105.71895562636038, 'MHz/2pi'), 'alpha': (-270.5339291153509, 'MHz/2pi'), 'chi': (-0.40492165354813175, 'MHz/2pi'), 'T': (2724.7409248577155, 'us'), 'protection ratio': 605.1629086444551} 7.1890466512667945 4.58835409288913\n"
     ]
    }
   ],
   "source": [
    "#max qubit freqs setup, second pair\n",
    "res3 = 2\n",
    "q3 = 1\n",
    "res4 = 3\n",
    "q4 = 0\n",
    "\n",
    "res_indxs = [[res3, q3, sqd.coaxmon2, 'coupler2', par3],[res4, q4, sqd.coaxmon3 , 'coupler2', par4]]\n",
    "for i in res_indxs:\n",
    "    print(auxfuncs.get_grounded_qubit_resonator_parameters(i[4],i[2],i[3],res_fr[i[0]],res_fr[i[1]],kappa[i[0]]), res_fr[i[0]],res_fr[i[1]])"
   ]
  },
  {
   "cell_type": "code",
   "execution_count": 8,
   "metadata": {},
   "outputs": [
    {
     "name": "stdout",
     "output_type": "stream",
     "text": [
      "Qubit- resonator detuning: -3.0008069657137906\n",
      "{'g': (50.80984189826817, 'MHz/2pi'), 'alpha': (-257.58283676408405, 'MHz/2pi'), 'chi': (-0.06800980219428263, 'MHz/2pi'), 'T': (14458.80256912179, 'us'), 'protection ratio': 3488.031765790557} 7.3809596278004665 4.380152662086676\n",
      "Qubit- resonator detuning: -4.403442447012559\n",
      "{'g': (132.15110008450128, 'MHz/2pi'), 'alpha': (-270.15661540668225, 'MHz/2pi'), 'chi': (-0.2292521383263052, 'MHz/2pi'), 'T': (2634.039632728667, 'us'), 'protection ratio': 1110.307014392502} 8.888397150400582 4.4849547033880235\n"
     ]
    }
   ],
   "source": [
    "#min qubit freqs setup, third pair\n",
    "res5 = 2\n",
    "q5 = 0\n",
    "res6 = 3\n",
    "q6 = 1\n",
    "\n",
    "res_indxs = [[res5, q5, sqd.xmon2, 'crab_up', par5], [res6, q6, sqd.coaxmon4, 'coupler2', par6]]\n",
    "for i in res_indxs:\n",
    "    print(auxfuncs.get_grounded_qubit_resonator_parameters(i[4],i[2],i[3],res_fr[i[0]],res_fr[i[1]],kappa[i[0]]), res_fr[i[0]],res_fr[i[1]])"
   ]
  },
  {
   "cell_type": "code",
   "execution_count": 8,
   "metadata": {},
   "outputs": [
    {
     "name": "stdout",
     "output_type": "stream",
     "text": [
      "Qubit- resonator detuning: -0.8898592776299301\n",
      "{'g': (61.880905887449266, 'MHz/2pi'), 'alpha': (-257.58283676408405, 'MHz/2pi'), 'chi': (-0.9660022299744658, 'MHz/2pi'), 'T': (859.7534120933153, 'us'), 'protection ratio': 206.7899079368374} 7.3840503815281 6.49419110389817\n",
      "Qubit- resonator detuning: -2.2463066367110436\n",
      "{'g': (160.94347733597752, 'MHz/2pi'), 'alpha': (-270.15661540668225, 'MHz/2pi'), 'chi': (-1.2379489464444777, 'MHz/2pi'), 'T': (462.83118942066534, 'us'), 'protection ratio': 194.80106173055125} 8.89416296821078 6.647856331499737\n"
     ]
    }
   ],
   "source": [
    "#max qubit freqs setup, third pair\n",
    "res5 = 2\n",
    "q5 = 0\n",
    "res6 = 3\n",
    "q6 = 1\n",
    "\n",
    "res_indxs = [[res5, q5, sqd.xmon2, 'crab_up', par5], [res6, q6, sqd.coaxmon4, 'coupler2', par6]]\n",
    "for i in res_indxs:\n",
    "    print(auxfuncs.get_grounded_qubit_resonator_parameters(i[4],i[2],i[3],res_fr[i[0]],res_fr[i[1]],kappa[i[0]]), res_fr[i[0]],res_fr[i[1]])"
   ]
  },
  {
   "cell_type": "code",
   "execution_count": 12,
   "metadata": {},
   "outputs": [
    {
     "name": "stdout",
     "output_type": "stream",
     "text": [
      "From AWR protection ratio is: 28.397216442594896\n"
     ]
    }
   ],
   "source": [
    "print(\"From AWR protection ratio is:\", kappa[rfr_ind]/kappa[qfr_ind])"
   ]
  },
  {
   "cell_type": "markdown",
   "metadata": {},
   "source": [
    "# Tests"
   ]
  },
  {
   "cell_type": "code",
   "execution_count": 10,
   "metadata": {
    "collapsed": true
   },
   "outputs": [],
   "source": [
    "g5,g6,res= sqd.draw_single_resonator(sqd.sample,sqd.elements,\n",
    "                            sqd.coupler_start+1500, sqd.central_line_y, sqd.coupler_length,\n",
    "                             sqd.resonator_core,sqd.resonator_gap,sqd.resonator_ground,\n",
    "                             sqd.tl_core, sqd.tl_gap, sqd.tl_ground, grounding_width=10,\n",
    "                             closed_end_meander_length=3000,length_left=400,length_right=400,\n",
    "                             open_end_legth=800,\n",
    "                             port_orientation='right', direction_orientation='up')"
   ]
  }
 ],
 "metadata": {
  "kernelspec": {
   "display_name": "Python 3",
   "language": "python",
   "name": "python3"
  },
  "language_info": {
   "codemirror_mode": {
    "name": "ipython",
    "version": 3
   },
   "file_extension": ".py",
   "mimetype": "text/x-python",
   "name": "python",
   "nbconvert_exporter": "python",
   "pygments_lexer": "ipython3",
   "version": "3.7.3"
  }
 },
 "nbformat": 4,
 "nbformat_minor": 4
}
