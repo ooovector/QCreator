{
 "cells": [
  {
   "cell_type": "code",
   "execution_count": 1,
   "metadata": {
    "collapsed": true
   },
   "outputs": [],
   "source": [
    "from importlib import reload\n",
    "import numpy as np\n",
    "from matplotlib import pyplot as plt\n",
    "import Single_qubit_design as sqd\n",
    "import QCreator.auxiliary_functions as auxfuncs\n",
    "import QCreator.elements as elements"
   ]
  },
  {
   "cell_type": "code",
   "execution_count": 2,
   "metadata": {},
   "outputs": [
    {
     "data": {
      "text/plain": [
       "<module 'Single_qubit_design' from 'C:\\\\Users\\\\Elena\\\\QCreator\\\\designs\\\\Single_qubit_design\\\\Single_qubit_design.py'>"
      ]
     },
     "execution_count": 2,
     "metadata": {},
     "output_type": "execute_result"
    }
   ],
   "source": [
    "reload(sqd)"
   ]
  },
  {
   "cell_type": "code",
   "execution_count": 2,
   "metadata": {
    "collapsed": true
   },
   "outputs": [],
   "source": [
    "sqd.sample.add(sqd.xmon1)\n",
    "sqd.sample.add(sqd.coaxmon1)\n",
    "sqd.sample.add(sqd.coaxmon2)\n",
    "sqd.sample.add(sqd.coaxmon3)\n",
    "sqd.sample.add(sqd.xmon2)\n",
    "sqd.sample.add(sqd.coaxmon4)\n",
    "\n",
    "sqd.sample.draw_design()"
   ]
  },
  {
   "cell_type": "code",
   "execution_count": 3,
   "metadata": {},
   "outputs": [],
   "source": [
    "sqd.sample.draw_design()\n",
    "sqd.sample.watch()"
   ]
  },
  {
   "cell_type": "code",
   "execution_count": 3,
   "metadata": {},
   "outputs": [],
   "source": [
    "airbridge = elements.AirBridgeGeometry(pad_width = 5,\n",
    "                                       pad_length = 4,\n",
    "                                       bridge_width = 4,\n",
    "                                       bridge_length = 38,\n",
    "                                       pad_distance = 32,\n",
    "                                       layer_configuration = sqd.sample.layer_configuration)"
   ]
  },
  {
   "cell_type": "markdown",
   "metadata": {},
   "source": [
    "# Draw a qubit design"
   ]
  },
  {
   "cell_type": "code",
   "execution_count": 4,
   "metadata": {
    "collapsed": true
   },
   "outputs": [],
   "source": [
    "g1,g2, par1, par2= auxfuncs.draw_double_resonator_plus_double_qubit(sqd.sample,\n",
    "                            sqd.coupler_start, sqd.central_line_y, sqd.coupler_length,\n",
    "                             sqd.resonator_core,sqd.resonator_gap,sqd.resonator_ground, \n",
    "                             sqd.tl_core, sqd.tl_gap, sqd.tl_ground, grounding_width=10,\n",
    "                             closed_end_meander_length1=3800,length_left1=250,length_right1=350,\n",
    "                             closed_end_meander_length2=3400,length_left2=300,length_right2=280,\n",
    "                             open_end_shift_length1=600, open_end_shift_length2=400,\n",
    "                             object1=sqd.xmon1, port1='crab_up',\n",
    "                             object2=sqd.coaxmon1, port2='coupler2',\n",
    "                             airbridge=airbridge, \n",
    "                             min_bridge_spacing_closed_end=150,min_bridge_spacing_open_end=150,\n",
    "                             port_orientation='left',\n",
    "                            meander_first_intend_orientation='right')"
   ]
  },
  {
   "cell_type": "code",
   "execution_count": 5,
   "metadata": {
    "collapsed": true
   },
   "outputs": [],
   "source": [
    "g3,g4, par3, par4= auxfuncs.draw_double_resonator_plus_double_qubit(sqd.sample,\n",
    "                            sqd.coupler_start+900, sqd.central_line_y, sqd.coupler_length,\n",
    "                             sqd.resonator_core,sqd.resonator_gap,sqd.resonator_ground, \n",
    "                             sqd.tl_core, sqd.tl_gap, sqd.tl_ground, grounding_width=10,\n",
    "                             closed_end_meander_length1=3200,length_left1=300,length_right1=350,\n",
    "                              closed_end_meander_length2=3050,length_left2=350,length_right2=300,\n",
    "                             open_end_shift_length1=400, open_end_shift_length2=400,\n",
    "                             object1=sqd.coaxmon2, port1='coupler2',\n",
    "                             object2=sqd.coaxmon3, port2='coupler2',\n",
    "                             airbridge=airbridge, \n",
    "                             min_bridge_spacing_closed_end=150,min_bridge_spacing_open_end=150,\n",
    "                             port_orientation='left')"
   ]
  },
  {
   "cell_type": "code",
   "execution_count": 6,
   "metadata": {
    "collapsed": true
   },
   "outputs": [],
   "source": [
    "g5,g6, par5, par6= auxfuncs.draw_double_resonator_plus_double_qubit(sqd.sample,\n",
    "                            sqd.coupler_start+1750, sqd.central_line_y, sqd.coupler_length,\n",
    "                            sqd.resonator_core,sqd.resonator_gap,sqd.resonator_ground, \n",
    "                            sqd.tl_core, sqd.tl_gap, sqd.tl_ground, grounding_width=10,\n",
    "                            closed_end_meander_length1=2800,length_left1=300,length_right1=350,\n",
    "                            closed_end_meander_length2=2200,length_left2=350,length_right2=300,\n",
    "                            open_end_shift_length1=600, open_end_shift_length2=400,\n",
    "                            object1=sqd.xmon2, port1='crab_up',\n",
    "                            object2=sqd.coaxmon4, port2='coupler2',\n",
    "                            airbridge=airbridge, \n",
    "                            min_bridge_spacing_closed_end=150,min_bridge_spacing_open_end=150,\n",
    "                            port_orientation='left')"
   ]
  },
  {
   "cell_type": "code",
   "execution_count": 7,
   "metadata": {
    "collapsed": true
   },
   "outputs": [],
   "source": [
    "g7, g8, _1, _2 = auxfuncs.draw_double_resonator(sqd.sample, \n",
    "                            sqd.coupler_start+2450, sqd.central_line_y, 150,\n",
    "                             sqd.resonator_core,sqd.resonator_gap,15, \n",
    "                             sqd.tl_core, sqd.tl_gap, sqd.tl_ground, grounding_width=10,\n",
    "                             closed_end_meander_length1=2300,length_left1=100,length_right1=100,\n",
    "                             closed_end_meander_length2=2400,length_left2=100,length_right2=100,\n",
    "                             open_end_length1=1000,open_end_length2=1000,port_orientation='left',\n",
    "                             airbridge=airbridge, \n",
    "                             min_bridge_spacing_closed_end=50,min_bridge_spacing_open_end=150)"
   ]
  },
  {
   "cell_type": "markdown",
   "metadata": {},
   "source": [
    "# Connect resonators into feedline"
   ]
  },
  {
   "cell_type": "code",
   "execution_count": 8,
   "metadata": {},
   "outputs": [
    {
     "data": {
      "text/plain": [
       "[CPW \"right TLs0\", l=68.000]"
      ]
     },
     "execution_count": 8,
     "metadata": {},
     "output_type": "execute_result"
    }
   ],
   "source": [
    "sqd.sample.connect_cpw(o1=sqd.p1, o2=g1, port1='port', port2='narrow', name='right TL', points=[],\n",
    "                       airbridge=airbridge, min_spacing=150)\n",
    "sqd.sample.connect_cpw(o1=g2, o2=g3, port1='narrow', port2='narrow', name='right TL', points=[],\n",
    "                       airbridge=airbridge, min_spacing=150)\n",
    "sqd.sample.connect_cpw(o1=g4, o2=g5, port1='narrow', port2='narrow', name='right TL', points=[],\n",
    "                       airbridge=airbridge, min_spacing=150)\n",
    "sqd.sample.connect_cpw(o1=g6, o2=g7, port1='narrow', port2='narrow', name='right TL', points=[],\n",
    "                       airbridge=airbridge, min_spacing=150)\n",
    "sqd.sample.connect_cpw(o1=g8, o2=sqd.p2, port1='narrow', port2='port', name='right TL', points=[],\n",
    "                       airbridge=airbridge, min_spacing=150)"
   ]
  },
  {
   "cell_type": "code",
   "execution_count": 5,
   "metadata": {},
   "outputs": [
    {
     "data": {
      "text/plain": [
       "[CPW \"right TLs0\", l=196.000,\n",
       " CPW \"right TLs1\", l=196.000,\n",
       " CPW \"right TLs2\", l=196.000]"
      ]
     },
     "execution_count": 5,
     "metadata": {},
     "output_type": "execute_result"
    }
   ],
   "source": [
    "sqd.sample.connect_cpw(o1=sqd.p1, o2=g5, port1='port', port2='narrow', name='right TL', points=[],\n",
    "                       airbridge=airbridge, min_spacing=150)\n",
    "sqd.sample.connect_cpw(o1=g6, o2=sqd.p2, port1='narrow',port2='port', name='right TL', points=[],\n",
    "                       airbridge=airbridge, min_spacing=150)"
   ]
  },
  {
   "cell_type": "code",
   "execution_count": 9,
   "metadata": {},
   "outputs": [
    {
     "name": "stderr",
     "output_type": "stream",
     "text": [
      "C:\\Users\\Elena\\Anaconda3\\lib\\site-packages\\gdspy\\path.py:828: UserWarning: [GDSPY] Possible inconsistency found in `FlexPath` due to sharp corner.\n",
      "  \"[GDSPY] Possible inconsistency found in \"\n"
     ]
    },
    {
     "name": "stdout",
     "output_type": "stream",
     "text": [
      "Gds file has been writen here:  C:\\Users\\Elena\\QCreator\\designs\\Single_qubit_design\\1Q_test.gds\n",
      "For 0 conductor total length is:  5156\n",
      "For 1 conductor total length is:  1229\n",
      "For 2 conductor total length is:  2219\n",
      "Sum : 8604\n",
      "Data has been written into the file: C:\\Users\\Elena\\QCreator\\designs\\Single_qubit_design\\mesh_4k_data\n",
      "Time for fastcap job is:  1.1737453937530518\n",
      "Capacitance results have been writen here:  C:\\Users\\Elena\\QCreator\\designs\\Single_qubit_design\\mesh_4k_results\n",
      "Capacitance value in:  nanofarads\n",
      "[<map object at 0x0000026B3A0DD198>, <map object at 0x0000026B3A0DD0F0>, <map object at 0x0000026B3A0DDFD0>]\n",
      "       0     1     2\n",
      "0  169.2 -57.8 -51.7\n",
      "1  -57.8  69.3  -3.0\n",
      "2  -51.7  -3.0  66.8\n",
      "Gds file has been writen here:  C:\\Users\\Elena\\QCreator\\designs\\Single_qubit_design\\1Q_test.gds\n",
      "For 0 conductor total length is:  13734\n",
      "For 1 conductor total length is:  4885\n",
      "For 2 conductor total length is:  846\n",
      "Sum : 19465\n",
      "Data has been written into the file: C:\\Users\\Elena\\QCreator\\designs\\Single_qubit_design\\mesh_4k_data\n",
      "Time for fastcap job is:  2.7843704223632812\n",
      "Capacitance results have been writen here:  C:\\Users\\Elena\\QCreator\\designs\\Single_qubit_design\\mesh_4k_results\n",
      "Capacitance value in:  nanofarads\n",
      "[<map object at 0x0000026B38F006D8>, <map object at 0x0000026B3A0DDEF0>, <map object at 0x0000026B3A0DD0F0>]\n",
      "       0     1     2\n",
      "0  150.7 -46.0 -15.2\n",
      "1  -46.0  64.4  -4.8\n",
      "2  -15.2  -4.8  24.8\n",
      "Gds file has been writen here:  C:\\Users\\Elena\\QCreator\\designs\\Single_qubit_design\\1Q_test.gds\n",
      "For 0 conductor total length is:  16657\n",
      "For 1 conductor total length is:  9608\n",
      "For 2 conductor total length is:  1031\n",
      "Sum : 27296\n",
      "Data has been written into the file: C:\\Users\\Elena\\QCreator\\designs\\Single_qubit_design\\mesh_4k_data\n",
      "Time for fastcap job is:  3.587427854537964\n",
      "Capacitance results have been writen here:  C:\\Users\\Elena\\QCreator\\designs\\Single_qubit_design\\mesh_4k_results\n",
      "Capacitance value in:  nanofarads\n",
      "[<map object at 0x0000026B3A0DD208>, <map object at 0x0000026B3A0DDE10>, <map object at 0x0000026B3A0DD2B0>]\n",
      "       0     1     2\n",
      "0  181.8 -67.5 -15.9\n",
      "1  -67.5  95.9  -6.8\n",
      "2  -15.9  -6.8  27.9\n",
      "Gds file has been writen here:  C:\\Users\\Elena\\QCreator\\designs\\Single_qubit_design\\1Q_test.gds\n",
      "For 0 conductor total length is:  13713\n",
      "For 1 conductor total length is:  4892\n",
      "For 2 conductor total length is:  847\n",
      "Sum : 19452\n",
      "Data has been written into the file: C:\\Users\\Elena\\QCreator\\designs\\Single_qubit_design\\mesh_4k_data\n",
      "Time for fastcap job is:  2.6352102756500244\n",
      "Capacitance results have been writen here:  C:\\Users\\Elena\\QCreator\\designs\\Single_qubit_design\\mesh_4k_results\n",
      "Capacitance value in:  nanofarads\n",
      "[<map object at 0x0000026B3A0DD128>, <map object at 0x0000026B3A1E8390>, <map object at 0x0000026B3A1E80F0>]\n",
      "       0     1     2\n",
      "0  150.7 -46.0 -15.2\n",
      "1  -46.0  64.4  -4.8\n",
      "2  -15.2  -4.8  24.8\n",
      "Gds file has been writen here:  C:\\Users\\Elena\\QCreator\\designs\\Single_qubit_design\\1Q_test.gds\n",
      "For 0 conductor total length is:  3481\n",
      "For 1 conductor total length is:  1229\n",
      "For 2 conductor total length is:  2105\n",
      "Sum : 6815\n",
      "Data has been written into the file: C:\\Users\\Elena\\QCreator\\designs\\Single_qubit_design\\mesh_4k_data\n",
      "Time for fastcap job is:  0.8341445922851562\n",
      "Capacitance results have been writen here:  C:\\Users\\Elena\\QCreator\\designs\\Single_qubit_design\\mesh_4k_results\n",
      "Capacitance value in:  nanofarads\n",
      "[<map object at 0x0000026B3A1E8630>, <map object at 0x0000026B3A1E8668>, <map object at 0x0000026B3A1E81D0>]\n",
      "       0     1     2\n",
      "0  153.7 -55.3 -45.9\n",
      "1  -55.3  68.6  -3.6\n",
      "2  -45.9  -3.6  62.3\n",
      "Gds file has been writen here:  C:\\Users\\Elena\\QCreator\\designs\\Single_qubit_design\\1Q_test.gds\n",
      "For 0 conductor total length is:  13713\n",
      "For 1 conductor total length is:  4892\n",
      "For 2 conductor total length is:  847\n",
      "Sum : 19452\n",
      "Data has been written into the file: C:\\Users\\Elena\\QCreator\\designs\\Single_qubit_design\\mesh_4k_data\n",
      "Time for fastcap job is:  3.1190171241760254\n",
      "Capacitance results have been writen here:  C:\\Users\\Elena\\QCreator\\designs\\Single_qubit_design\\mesh_4k_results\n",
      "Capacitance value in:  nanofarads\n",
      "[<map object at 0x0000026B3A1E8780>, <map object at 0x0000026B3A1E85F8>, <map object at 0x0000026B3A1E8198>]\n",
      "       0     1     2\n",
      "0  150.7 -46.0 -15.2\n",
      "1  -46.0  64.4  -4.8\n",
      "2  -15.2  -4.8  24.8\n"
     ]
    }
   ],
   "source": [
    "sqd.sample.draw_cap()\n",
    "for i,qubit in enumerate(sqd.sample.qubits):\n",
    "    caps=sqd.sample.calculate_qubit_capacitance(cell= sqd.sample.qubit_cap_cells[i], qubit=sqd.sample.qubits[i],\n",
    "                                       mesh_volume=10)"
   ]
  },
  {
   "cell_type": "code",
   "execution_count": 8,
   "metadata": {},
   "outputs": [
    {
     "name": "stdout",
     "output_type": "stream",
     "text": [
      "('up',)\n",
      "Resonance frequencies are, GHz: [4.65963408 4.78560195]\n",
      "Kappas are, us^-1: [0.00063494 0.00073829]\n",
      "Quality factors are: [46110200.74132381 40727447.69089574]\n"
     ]
    },
    {
     "name": "stderr",
     "output_type": "stream",
     "text": [
      "C:\\Users\\Elena\\Anaconda3\\lib\\site-packages\\numpy\\core\\_asarray.py:83: VisibleDeprecationWarning: Creating an ndarray from ragged nested sequences (which is a list-or-tuple of lists-or-tuples-or ndarrays with different lengths or shapes) is deprecated. If you meant to do this, you must specify 'dtype=object' when creating the ndarray\n",
      "  return array(a, dtype, copy=False, order=order)\n"
     ]
    }
   ],
   "source": [
    "sys, connections, elements_ = sqd.sample.get_tls(cutoff=2e11)\n",
    "f, delta, modes = sys.get_modes()\n",
    "num_modes=18\n",
    "(res_fr,kappa,_)=auxfuncs.search_for_resonators_qubits(f,delta,0,15)[:num_modes]"
   ]
  },
  {
   "cell_type": "markdown",
   "metadata": {},
   "source": [
    "# Connect contact pads"
   ]
  },
  {
   "cell_type": "code",
   "execution_count": 11,
   "metadata": {
    "collapsed": true
   },
   "outputs": [],
   "source": [
    "flux_pads_coaxmons = [\n",
    "    (sqd.sample.qubits[1], sqd.pads_top[0], [(1047, 3620)]),\n",
    "    (sqd.sample.qubits[2], sqd.pads_bottom[1], [(2323,941)]),#[(2000, 1077)]),\n",
    "    (sqd.sample.qubits[3], sqd.pads_top[1], [(2036,3691)]),\n",
    "    (sqd.sample.qubits[5], sqd.pads_top[2], [])]#[(3200, 3768)])]\n",
    "\n",
    "flux_pads_xmons = [(sqd.sample.qubits[0], sqd.pads_bottom[0],[(1531,1029)]),#[((1177, 935))]),\n",
    "                  (sqd.sample.qubits[4], sqd.pads_bottom[2], [])]#[(3441, 952)])]#[(3377,920)])]\n",
    "\n",
    "\n",
    "\n",
    "for coaxmon, pad, points in flux_pads_coaxmons:  \n",
    "    flux_line_narrowing_position = np.asarray(coaxmon.terminals['flux'].position)\n",
    "    direction = [np.cos(coaxmon.terminals['flux'].orientation), \n",
    "                 np.sin(coaxmon.terminals['flux'].orientation)]\n",
    "    narrowing_length = 25\n",
    "    flux_line_narrowing_position = flux_line_narrowing_position - np.asarray(direction)*narrowing_length/2\n",
    "    flux_line_narrowing = sqd.elements.Narrowing(name='flux_line_narrowing', position=flux_line_narrowing_position, \n",
    "                                             orientation=coaxmon.terminals['flux'].orientation+np.pi, \n",
    "                                             w1=coaxmon.terminals['flux'].w, \n",
    "                                             s1=coaxmon.terminals['flux'].s, g1=coaxmon.terminals['flux'].g,\n",
    "                                             w2=sqd.tl_core, s2=sqd.tl_gap, g2=sqd.tl_ground, \n",
    "                                             layer_configuration=sqd.sample.layer_configuration, length=narrowing_length)\n",
    "    sqd.sample.add(flux_line_narrowing)\n",
    "    sqd.sample.connect(flux_line_narrowing, 'port1', coaxmon, 'flux')\n",
    "#     sqd.sample.connect_cpw(pad, flux_line_narrowing, 'port', 'port2', 'flux_control5', points=points,\n",
    "#                           airbridge=airbridge, min_spacing=0)\n",
    "    sqd.sample.connect_cpw(pad, flux_line_narrowing, 'port', 'port2', 'flux_control5', points=points)\n",
    "    \n",
    "for xmon, pad, points in flux_pads_xmons:  \n",
    "    flux_line_narrowing_position = np.asarray(xmon.terminals['flux'].position)\n",
    "    direction = [np.cos(xmon.terminals['flux'].orientation), \n",
    "                 np.sin(xmon.terminals['flux'].orientation)]\n",
    "    narrowing_length = 20\n",
    "    flux_line_narrowing_position = flux_line_narrowing_position - np.asarray(direction)*narrowing_length/2\n",
    "    flux_line_narrowing = sqd.elements.Narrowing(name='flux_line_narrowing', position=flux_line_narrowing_position, \n",
    "                                             orientation=xmon.terminals['flux'].orientation+np.pi, \n",
    "                                             w1=xmon.terminals['flux'].w, \n",
    "                                             s1=xmon.terminals['flux'].s, g1=xmon.terminals['flux'].g,\n",
    "                                             w2=sqd.tl_core, s2=sqd.tl_gap, g2=sqd.tl_ground, \n",
    "                                             layer_configuration=sqd.sample.layer_configuration, length=narrowing_length)\n",
    "    sqd.sample.add(flux_line_narrowing)\n",
    "    sqd.sample.connect(flux_line_narrowing, 'port1', xmon, 'flux')\n",
    "#     sqd.sample.connect_cpw(pad, flux_line_narrowing, 'port', 'port2', 'flux_control5', points=points)\n",
    "    sqd.sample.connect_cpw(pad, flux_line_narrowing, 'port', 'port2', 'flux_control5', points=points,\n",
    "                          airbridge=airbridge, min_spacing=100)"
   ]
  },
  {
   "cell_type": "code",
   "execution_count": 12,
   "metadata": {},
   "outputs": [],
   "source": [
    "sqd.sample.draw_design()\n",
    "sqd.sample.watch()"
   ]
  },
  {
   "cell_type": "code",
   "execution_count": 13,
   "metadata": {},
   "outputs": [
    {
     "name": "stdout",
     "output_type": "stream",
     "text": [
      "Gds file has been writen here:  C:\\Users\\Elena\\QCreator\\designs\\Single_qubit_design\\1Q_test.gds\n"
     ]
    }
   ],
   "source": [
    "sqd.sample.write_to_gds()"
   ]
  },
  {
   "cell_type": "code",
   "execution_count": 6,
   "metadata": {},
   "outputs": [
    {
     "ename": "TypeError",
     "evalue": "unsupported operand type(s) for *: 'NoneType' and 'float'",
     "output_type": "error",
     "traceback": [
      "\u001b[1;31m---------------------------------------------------------------------------\u001b[0m",
      "\u001b[1;31mTypeError\u001b[0m                                 Traceback (most recent call last)",
      "\u001b[1;32m<ipython-input-6-97ce0e317b91>\u001b[0m in \u001b[0;36m<module>\u001b[1;34m()\u001b[0m\n\u001b[1;32m----> 1\u001b[1;33m \u001b[0msys\u001b[0m\u001b[1;33m,\u001b[0m \u001b[0mconnections\u001b[0m\u001b[1;33m,\u001b[0m \u001b[0melements_\u001b[0m \u001b[1;33m=\u001b[0m \u001b[0msqd\u001b[0m\u001b[1;33m.\u001b[0m\u001b[0msample\u001b[0m\u001b[1;33m.\u001b[0m\u001b[0mget_tls\u001b[0m\u001b[1;33m(\u001b[0m\u001b[0mcutoff\u001b[0m\u001b[1;33m=\u001b[0m\u001b[1;36m2e11\u001b[0m\u001b[1;33m)\u001b[0m\u001b[1;33m\u001b[0m\u001b[0m\n\u001b[0m\u001b[0;32m      2\u001b[0m \u001b[0mf\u001b[0m\u001b[1;33m,\u001b[0m \u001b[0mdelta\u001b[0m\u001b[1;33m,\u001b[0m \u001b[0mmodes\u001b[0m \u001b[1;33m=\u001b[0m \u001b[0msys\u001b[0m\u001b[1;33m.\u001b[0m\u001b[0mget_modes\u001b[0m\u001b[1;33m(\u001b[0m\u001b[1;33m)\u001b[0m\u001b[1;33m\u001b[0m\u001b[0m\n\u001b[0;32m      3\u001b[0m \u001b[0mnum_modes\u001b[0m\u001b[1;33m=\u001b[0m\u001b[1;36m18\u001b[0m\u001b[1;33m\u001b[0m\u001b[0m\n\u001b[0;32m      4\u001b[0m \u001b[1;33m(\u001b[0m\u001b[0mres_fr\u001b[0m\u001b[1;33m,\u001b[0m\u001b[0mkappa\u001b[0m\u001b[1;33m,\u001b[0m\u001b[0m_\u001b[0m\u001b[1;33m)\u001b[0m\u001b[1;33m=\u001b[0m\u001b[0mauxfuncs\u001b[0m\u001b[1;33m.\u001b[0m\u001b[0msearch_for_resonators_qubits\u001b[0m\u001b[1;33m(\u001b[0m\u001b[0mf\u001b[0m\u001b[1;33m,\u001b[0m\u001b[0mdelta\u001b[0m\u001b[1;33m,\u001b[0m\u001b[1;36m0\u001b[0m\u001b[1;33m,\u001b[0m\u001b[1;36m15\u001b[0m\u001b[1;33m)\u001b[0m\u001b[1;33m[\u001b[0m\u001b[1;33m:\u001b[0m\u001b[0mnum_modes\u001b[0m\u001b[1;33m]\u001b[0m\u001b[1;33m\u001b[0m\u001b[0m\n",
      "\u001b[1;32m~\\QCreator\\QCreator\\general_sample_creator.py\u001b[0m in \u001b[0;36mget_tls\u001b[1;34m(self, cutoff)\u001b[0m\n\u001b[0;32m    362\u001b[0m                         \u001b[0mterminal_node_assignments\u001b[0m\u001b[1;33m[\u001b[0m\u001b[0mterminal_identifier\u001b[0m\u001b[1;33m]\u001b[0m \u001b[1;33m=\u001b[0m \u001b[0mmax_connection_id\u001b[0m\u001b[1;33m\u001b[0m\u001b[0m\n\u001b[0;32m    363\u001b[0m             element_assignments[object_.name] = object_.add_to_tls(tls, terminal_node_assignments,\n\u001b[1;32m--> 364\u001b[1;33m                                                                    cutoff=cutoff, epsilon=self.epsilon)\n\u001b[0m\u001b[0;32m    365\u001b[0m         \u001b[1;32mreturn\u001b[0m \u001b[0mtls\u001b[0m\u001b[1;33m,\u001b[0m \u001b[0mconnections_flat\u001b[0m\u001b[1;33m,\u001b[0m \u001b[0melement_assignments\u001b[0m\u001b[1;33m\u001b[0m\u001b[0m\n\u001b[0;32m    366\u001b[0m \u001b[1;33m\u001b[0m\u001b[0m\n",
      "\u001b[1;32m~\\QCreator\\QCreator\\elements\\xmon.py\u001b[0m in \u001b[0;36madd_to_tls\u001b[1;34m(self, tls_instance, terminal_mapping, track_changes, cutoff, epsilon)\u001b[0m\n\u001b[0;32m    775\u001b[0m         \u001b[0mjj2\u001b[0m \u001b[1;33m=\u001b[0m \u001b[0mtlsim\u001b[0m\u001b[1;33m.\u001b[0m\u001b[0mJosephsonJunction\u001b[0m\u001b[1;33m(\u001b[0m\u001b[0me_j\u001b[0m\u001b[1;33m=\u001b[0m\u001b[0mself\u001b[0m\u001b[1;33m.\u001b[0m\u001b[0mjj\u001b[0m\u001b[1;33m[\u001b[0m\u001b[1;34m'ic_l'\u001b[0m\u001b[1;33m]\u001b[0m\u001b[1;33m*\u001b[0m\u001b[0mhbar\u001b[0m\u001b[1;33m/\u001b[0m\u001b[1;33m(\u001b[0m\u001b[1;36m2\u001b[0m\u001b[1;33m*\u001b[0m\u001b[0me\u001b[0m\u001b[1;33m)\u001b[0m\u001b[1;33m,\u001b[0m \u001b[0mname\u001b[0m\u001b[1;33m=\u001b[0m\u001b[0mself\u001b[0m\u001b[1;33m.\u001b[0m\u001b[0mname\u001b[0m \u001b[1;33m+\u001b[0m \u001b[1;34m' jj2'\u001b[0m\u001b[1;33m)\u001b[0m\u001b[1;33m\u001b[0m\u001b[0m\n\u001b[0;32m    776\u001b[0m         \u001b[0mm\u001b[0m \u001b[1;33m=\u001b[0m \u001b[0mtlsim\u001b[0m\u001b[1;33m.\u001b[0m\u001b[0mInductor\u001b[0m\u001b[1;33m(\u001b[0m\u001b[0mself\u001b[0m\u001b[1;33m.\u001b[0m\u001b[0mjgeom\u001b[0m\u001b[1;33m[\u001b[0m\u001b[1;34m'lm'\u001b[0m\u001b[1;33m]\u001b[0m\u001b[1;33m,\u001b[0m \u001b[0mname\u001b[0m\u001b[1;33m=\u001b[0m\u001b[0mself\u001b[0m\u001b[1;33m.\u001b[0m\u001b[0mname\u001b[0m \u001b[1;33m+\u001b[0m \u001b[1;34m' flux-wire'\u001b[0m\u001b[1;33m)\u001b[0m\u001b[1;33m\u001b[0m\u001b[0m\n\u001b[1;32m--> 777\u001b[1;33m         \u001b[0mc\u001b[0m \u001b[1;33m=\u001b[0m \u001b[0mtlsim\u001b[0m\u001b[1;33m.\u001b[0m\u001b[0mCapacitor\u001b[0m\u001b[1;33m(\u001b[0m\u001b[0mc\u001b[0m\u001b[1;33m=\u001b[0m\u001b[0mself\u001b[0m\u001b[1;33m.\u001b[0m\u001b[0mC\u001b[0m\u001b[1;33m[\u001b[0m\u001b[1;34m'qubit'\u001b[0m\u001b[1;33m]\u001b[0m\u001b[1;33m*\u001b[0m\u001b[0mscal_C\u001b[0m\u001b[1;33m,\u001b[0m \u001b[0mname\u001b[0m\u001b[1;33m=\u001b[0m\u001b[0mself\u001b[0m\u001b[1;33m.\u001b[0m\u001b[0mname\u001b[0m\u001b[1;33m+\u001b[0m\u001b[1;34m' qubit-ground'\u001b[0m\u001b[1;33m)\u001b[0m\u001b[1;33m\u001b[0m\u001b[0m\n\u001b[0m\u001b[0;32m    778\u001b[0m         \u001b[0mcache\u001b[0m \u001b[1;33m=\u001b[0m \u001b[1;33m[\u001b[0m\u001b[0mjj1\u001b[0m\u001b[1;33m,\u001b[0m \u001b[0mjj2\u001b[0m\u001b[1;33m,\u001b[0m \u001b[0mm\u001b[0m\u001b[1;33m,\u001b[0m \u001b[0mc\u001b[0m\u001b[1;33m]\u001b[0m\u001b[1;33m\u001b[0m\u001b[0m\n\u001b[0;32m    779\u001b[0m         \u001b[1;32mif\u001b[0m \u001b[0mself\u001b[0m\u001b[1;33m.\u001b[0m\u001b[0mjj\u001b[0m\u001b[1;33m[\u001b[0m\u001b[1;34m'type'\u001b[0m\u001b[1;33m]\u001b[0m \u001b[1;33m==\u001b[0m \u001b[1;36m2\u001b[0m\u001b[1;33m:\u001b[0m\u001b[1;33m\u001b[0m\u001b[0m\n",
      "\u001b[1;31mTypeError\u001b[0m: unsupported operand type(s) for *: 'NoneType' and 'float'"
     ]
    }
   ],
   "source": [
    "sys, connections, elements_ = sqd.sample.get_tls(cutoff=2e11)\n",
    "f, delta, modes = sys.get_modes()\n",
    "num_modes=18\n",
    "(res_fr,kappa,_)=auxfuncs.search_for_resonators_qubits(f,delta,0,15)[:num_modes]"
   ]
  },
  {
   "cell_type": "code",
   "execution_count": 12,
   "metadata": {},
   "outputs": [
    {
     "name": "stdout",
     "output_type": "stream",
     "text": [
      "Gds file has been writen here:  E:\\Github2.0\\QCreator\\designs\\Single_qubit_design\\1Q_test.gds\n"
     ]
    }
   ],
   "source": [
    "sqd.sample.write_to_gds()"
   ]
  },
  {
   "cell_type": "markdown",
   "metadata": {},
   "source": [
    "# Simulations"
   ]
  },
  {
   "cell_type": "code",
   "execution_count": 17,
   "metadata": {},
   "outputs": [
    {
     "name": "stdout",
     "output_type": "stream",
     "text": [
      "('down',)\n",
      "('up',)\n"
     ]
    },
    {
     "name": "stderr",
     "output_type": "stream",
     "text": [
      "C:\\ProgramData\\Anaconda3\\envs\\py38\\lib\\site-packages\\numpy\\core\\_asarray.py:83: VisibleDeprecationWarning: Creating an ndarray from ragged nested sequences (which is a list-or-tuple of lists-or-tuples-or ndarrays with different lengths or shapes) is deprecated. If you meant to do this, you must specify 'dtype=object' when creating the ndarray\n",
      "  return array(a, dtype, copy=False, order=order)\n"
     ]
    }
   ],
   "source": [
    "sys, connections, elements_ = sqd.sample.get_tls(cutoff=2e11)\n",
    "f, delta, modes = sys.get_modes()"
   ]
  },
  {
   "cell_type": "code",
   "execution_count": 15,
   "metadata": {},
   "outputs": [
    {
     "name": "stdout",
     "output_type": "stream",
     "text": [
      "('down',)\n",
      "('up',)\n"
     ]
    },
    {
     "name": "stderr",
     "output_type": "stream",
     "text": [
      "C:\\Users\\di82dac\\Anaconda3\\envs\\qcreator\\lib\\site-packages\\numpy\\core\\_asarray.py:102: VisibleDeprecationWarning: Creating an ndarray from ragged nested sequences (which is a list-or-tuple of lists-or-tuples-or ndarrays with different lengths or shapes) is deprecated. If you meant to do this, you must specify 'dtype=object' when creating the ndarray.\n",
      "  return array(a, dtype, copy=False, order=order)\n"
     ]
    },
    {
     "name": "stdout",
     "output_type": "stream",
     "text": [
      "Resonance frequencies are, GHz/2pi: [4.52133462 4.52175859 5.82822274 5.94357465 6.23383628 6.35672523\n",
      " 6.52010911 6.64402013 6.6797905  7.37947516 7.56410607]\n",
      "Kappas are, MHz/2pi: [2.93866718e-04 2.43155157e-04 1.81923200e-01 2.07586056e-01\n",
      " 2.21566789e-01 2.56018345e-01 1.80268100e-01 2.77791952e-01\n",
      " 1.00374634e-01 2.75055002e-02 3.00510816e-02]\n",
      "Quality factors are: [7692832.07148414 9298093.10784708   16018.36037189   14315.92940673\n",
      "   14067.62338358   12414.58934844   18084.47836791   11958.62601791\n",
      "   33274.29567177  134145.44538219  125854.13991798]\n"
     ]
    }
   ],
   "source": [
    "num_modes=18\n",
    "(res_fr,kappa,_)=auxfuncs.search_for_resonators_qubits(f,delta,0,15)[:num_modes]"
   ]
  },
  {
   "cell_type": "code",
   "execution_count": 20,
   "metadata": {},
   "outputs": [
    {
     "ename": "AttributeError",
     "evalue": "module 'Single_qubit_design' has no attribute 'search_for_resonators_qubits'",
     "output_type": "error",
     "traceback": [
      "\u001b[1;31m---------------------------------------------------------------------------\u001b[0m",
      "\u001b[1;31mAttributeError\u001b[0m                            Traceback (most recent call last)",
      "\u001b[1;32m<ipython-input-20-08e7aae9defa>\u001b[0m in \u001b[0;36m<module>\u001b[1;34m()\u001b[0m\n\u001b[0;32m      1\u001b[0m \u001b[0mnum_modes\u001b[0m\u001b[1;33m=\u001b[0m\u001b[1;36m18\u001b[0m\u001b[1;33m\u001b[0m\u001b[0m\n\u001b[1;32m----> 2\u001b[1;33m \u001b[1;33m(\u001b[0m\u001b[0mres_fr\u001b[0m\u001b[1;33m,\u001b[0m\u001b[0mkappa\u001b[0m\u001b[1;33m,\u001b[0m\u001b[0m_\u001b[0m\u001b[1;33m)\u001b[0m\u001b[1;33m=\u001b[0m\u001b[0msqd\u001b[0m\u001b[1;33m.\u001b[0m\u001b[0msearch_for_resonators_qubits\u001b[0m\u001b[1;33m(\u001b[0m\u001b[0mf\u001b[0m\u001b[1;33m,\u001b[0m\u001b[0mdelta\u001b[0m\u001b[1;33m,\u001b[0m\u001b[1;36m0\u001b[0m\u001b[1;33m,\u001b[0m\u001b[1;36m15\u001b[0m\u001b[1;33m)\u001b[0m\u001b[1;33m[\u001b[0m\u001b[1;33m:\u001b[0m\u001b[0mnum_modes\u001b[0m\u001b[1;33m]\u001b[0m\u001b[1;33m\u001b[0m\u001b[0m\n\u001b[0m",
      "\u001b[1;31mAttributeError\u001b[0m: module 'Single_qubit_design' has no attribute 'search_for_resonators_qubits'"
     ]
    }
   ],
   "source": [
    "num_modes=18\n",
    "(res_fr,kappa,_)=sqd.search_for_resonators_qubits(f,delta,0,15)[:num_modes]"
   ]
  },
  {
   "cell_type": "markdown",
   "metadata": {},
   "source": [
    "# Get s21 parameters"
   ]
  },
  {
   "cell_type": "code",
   "execution_count": null,
   "metadata": {
    "collapsed": true
   },
   "outputs": [],
   "source": [
    "f_ = np.linspace(6.9e9, 7.1e9, 2001)\n",
    "# s11 = sample.get_s21('p1', 'p1', f_)\n",
    "s11 = sample.get_s21('pad-left-0', 'pad-right-0', f_)"
   ]
  },
  {
   "cell_type": "code",
   "execution_count": null,
   "metadata": {
    "collapsed": true
   },
   "outputs": [],
   "source": [
    "import resonator_tools\n",
    "from resonator_tools.circuit import notch_port, reflection_port"
   ]
  },
  {
   "cell_type": "code",
   "execution_count": null,
   "metadata": {
    "collapsed": true
   },
   "outputs": [],
   "source": [
    "fitter = notch_port(f_data=f_, z_data_raw=s11)\n",
    "fitter.autofit()"
   ]
  },
  {
   "cell_type": "code",
   "execution_count": null,
   "metadata": {
    "collapsed": true
   },
   "outputs": [],
   "source": [
    "fitter.plotall()"
   ]
  },
  {
   "cell_type": "code",
   "execution_count": null,
   "metadata": {
    "collapsed": true
   },
   "outputs": [],
   "source": [
    "fitter.fitresults"
   ]
  },
  {
   "cell_type": "markdown",
   "metadata": {},
   "source": [
    "# Estimate qubit-resonator parameters"
   ]
  },
  {
   "cell_type": "code",
   "execution_count": 10,
   "metadata": {},
   "outputs": [
    {
     "data": {
      "text/plain": [
       "{'g': (97.56920699063008, 'MHz/2pi')}"
      ]
     },
     "execution_count": 10,
     "metadata": {},
     "output_type": "execute_result"
    }
   ],
   "source": [
    "auxfuncs.get_grounded_qubit_resonator_coupling(par1,sqd.coaxmon1,'coupler2',res_fr[rfr_ind],res_fr[qfr_ind])"
   ]
  },
  {
   "cell_type": "code",
   "execution_count": 8,
   "metadata": {},
   "outputs": [
    {
     "name": "stdout",
     "output_type": "stream",
     "text": [
      "Qubit- resonator detuning: -1.2084820314830544\n",
      "{'g': (44.89295674433046, 'MHz/2pi'), 'alpha': (-267.9146517933488, 'MHz/2pi'), 'chi': (-0.3026283615568064, 'MHz/2pi'), 'T': (826.8150859104236, 'us'), 'protection ratio': 724.6427893214454} 5.641219365883182 4.4327373344001275\n",
      "Qubit- resonator detuning: -1.8721295043225368\n",
      "{'g': (87.39410453668847, 'MHz/2pi'), 'alpha': (-279.9166087378485, 'MHz/2pi'), 'chi': (-0.5306467160484062, 'MHz/2pi'), 'T': (351.4258296567374, 'us'), 'protection ratio': 458.88884614066905} 6.401871020487285 4.529741516164748\n"
     ]
    }
   ],
   "source": [
    "#min qubit freqs setup, first pair\n",
    "res1 = 2\n",
    "q1 = 0\n",
    "res2 = 3\n",
    "q2 = 1\n",
    "\n",
    "res_indxs = [[res1, q1, sqd.xmon1, 'crab_up', par1], [res2, q2, sqd.coaxmon1, 'coupler2', par2]]\n",
    "for i in res_indxs:\n",
    "    print(auxfuncs.get_grounded_qubit_resonator_parameters(i[4],i[2],i[3],res_fr[i[0]],res_fr[i[1]],kappa[i[0]]), res_fr[i[0]],res_fr[i[1]])"
   ]
  },
  {
   "cell_type": "code",
   "execution_count": 9,
   "metadata": {},
   "outputs": [
    {
     "name": "stdout",
     "output_type": "stream",
     "text": [
      "Qubit- resonator detuning: -0.9878288889517002\n",
      "{'g': (46.00085269832497, 'MHz/2pi'), 'alpha': (-267.9146517933488, 'MHz/2pi'), 'chi': (-0.4570308890307561, 'MHz/2pi'), 'T': (526.43630562547, 'us'), 'protection ratio': 461.1388175713164} 5.641676454062395 4.653847565110695\n",
      "Qubit- resonator detuning: -1.6470439163573252\n",
      "{'g': (89.55073236711583, 'MHz/2pi'), 'alpha': (-279.9166087378485, 'MHz/2pi'), 'chi': (-0.7072760540903339, 'MHz/2pi'), 'T': (259.163229446203, 'us'), 'protection ratio': 338.2766916668066} 6.402579092973859 4.755535176616534\n"
     ]
    }
   ],
   "source": [
    "#max qubit freqs setup, first pair\n",
    "res1 = 2\n",
    "q1 = 0\n",
    "res2 = 3\n",
    "q2 = 1\n",
    "\n",
    "res_indxs = [[res1, q1, sqd.xmon1, 'crab_up', par1], [res2, q2, sqd.coaxmon1, 'coupler2', par2]]\n",
    "for i in res_indxs:\n",
    "    print(auxfuncs.get_grounded_qubit_resonator_parameters(i[4],i[2],i[3],res_fr[i[0]],res_fr[i[1]],kappa[i[0]]), res_fr[i[0]],res_fr[i[1]])"
   ]
  },
  {
   "cell_type": "code",
   "execution_count": 8,
   "metadata": {},
   "outputs": [
    {
     "name": "stdout",
     "output_type": "stream",
     "text": [
      "Qubit- resonator detuning: -2.1308231332819965\n",
      "{'g': (103.09741629006668, 'MHz/2pi'), 'alpha': (-188.6098278934676, 'MHz/2pi'), 'chi': (-0.40563054815165084, 'MHz/2pi'), 'T': (316.64842088195064, 'us'), 'protection ratio': 427.16852275882667} 6.549950799873056 4.419127666591059\n",
      "Qubit- resonator detuning: -2.3889768876765185\n",
      "{'g': (94.77270005124936, 'MHz/2pi'), 'alpha': (-279.9166087378485, 'MHz/2pi'), 'chi': (-0.3943228861441443, 'MHz/2pi'), 'T': (377.2635037716402, 'us'), 'protection ratio': 635.4148917134507} 6.919157177173179 4.53018028949666\n"
     ]
    }
   ],
   "source": [
    "#min qubit freqs setup, second pair\n",
    "res3 = 2\n",
    "q3 = 0\n",
    "res4 = 3\n",
    "q4 = 1\n",
    "\n",
    "res_indxs = [[res3, q3, sqd.coaxmon2, 'coupler2', par3],[res4, q4, sqd.coaxmon3 , 'coupler2', par4]]\n",
    "for i in res_indxs:\n",
    "    print(auxfuncs.get_grounded_qubit_resonator_parameters(i[4],i[2],i[3],res_fr[i[0]],res_fr[i[1]],kappa[i[0]]), res_fr[i[0]],res_fr[i[1]])"
   ]
  },
  {
   "cell_type": "code",
   "execution_count": 10,
   "metadata": {},
   "outputs": [
    {
     "name": "stdout",
     "output_type": "stream",
     "text": [
      "Qubit- resonator detuning: -1.794642924803802\n",
      "{'g': (106.96364036537564, 'MHz/2pi'), 'alpha': (-188.6098278934676, 'MHz/2pi'), 'chi': (-0.6062902052747718, 'MHz/2pi'), 'T': (208.75565684150814, 'us'), 'protection ratio': 281.5034695729143} 6.55080535337172 4.756162428567918\n",
      "Qubit- resonator detuning: -2.2535519361965823\n",
      "{'g': (96.18792241248643, 'MHz/2pi'), 'alpha': (-279.9166087378485, 'MHz/2pi'), 'chi': (-0.4536142286464867, 'MHz/2pi'), 'T': (325.9503932447289, 'us'), 'protection ratio': 548.9010405487765} 6.9196838417966395 4.666131905600057\n"
     ]
    }
   ],
   "source": [
    "#max qubit freqs setup, second pair\n",
    "res3 = 2\n",
    "q3 = 1\n",
    "res4 = 3\n",
    "q4 = 0\n",
    "\n",
    "res_indxs = [[res3, q3, sqd.coaxmon2, 'coupler2', par3],[res4, q4, sqd.coaxmon3 , 'coupler2', par4]]\n",
    "for i in res_indxs:\n",
    "    print(auxfuncs.get_grounded_qubit_resonator_parameters(i[4],i[2],i[3],res_fr[i[0]],res_fr[i[1]],kappa[i[0]]), res_fr[i[0]],res_fr[i[1]])"
   ]
  },
  {
   "cell_type": "code",
   "execution_count": 8,
   "metadata": {},
   "outputs": [
    {
     "name": "stdout",
     "output_type": "stream",
     "text": [
      "Qubit- resonator detuning: -2.6241418242385324\n",
      "{'g': (67.86430940249657, 'MHz/2pi'), 'alpha': (-268.2857247182704, 'MHz/2pi'), 'chi': (-0.16279109345257872, 'MHz/2pi'), 'T': (845.3426056875485, 'us'), 'protection ratio': 1495.174006933627} 7.093848969382076 4.469707145143544\n",
      "Qubit- resonator detuning: -3.9588416040096526\n",
      "{'g': (119.24510815676855, 'MHz/2pi'), 'alpha': (-279.9166087378485, 'MHz/2pi'), 'chi': (-0.23719364096705736, 'MHz/2pi'), 'T': (352.0669958191608, 'us'), 'protection ratio': 1102.1865517200176} 8.523987941563593 4.565146337553941\n"
     ]
    }
   ],
   "source": [
    "#min qubit freqs setup, third pair\n",
    "res5 = 2\n",
    "q5 = 0\n",
    "res6 = 3\n",
    "q6 = 1\n",
    "\n",
    "res_indxs = [[res5, q5, sqd.xmon2, 'crab_up', par5], [res6, q6, sqd.coaxmon4, 'coupler2', par6]]\n",
    "for i in res_indxs:\n",
    "    print(auxfuncs.get_grounded_qubit_resonator_parameters(i[4],i[2],i[3],res_fr[i[0]],res_fr[i[1]],kappa[i[0]]), res_fr[i[0]],res_fr[i[1]])"
   ]
  },
  {
   "cell_type": "code",
   "execution_count": 8,
   "metadata": {},
   "outputs": [
    {
     "name": "stdout",
     "output_type": "stream",
     "text": [
      "Qubit- resonator detuning: -0.487782699796961\n",
      "{'g': (82.65091926361663, 'MHz/2pi'), 'alpha': (-268.2857247182704, 'MHz/2pi'), 'chi': (-4.969417065864554, 'MHz/2pi'), 'T': (20.164061851852715, 'us'), 'protection ratio': 34.83031560449323} 7.106057519889514 6.618274820092553\n",
      "Qubit- resonator detuning: -1.7657321870396663\n",
      "{'g': (145.22539943000146, 'MHz/2pi'), 'alpha': (-279.9166087378485, 'MHz/2pi'), 'chi': (-1.634398364032193, 'MHz/2pi'), 'T': (47.353297017376114, 'us'), 'protection ratio': 147.8306573846093} 8.53114431148578 6.765412124446114\n"
     ]
    }
   ],
   "source": [
    "#max qubit freqs setup, third pair\n",
    "res5 = 2\n",
    "q5 = 0\n",
    "res6 = 3\n",
    "q6 = 1\n",
    "\n",
    "res_indxs = [[res5, q5, sqd.xmon2, 'crab_up', par5], [res6, q6, sqd.coaxmon4, 'coupler2', par6]]\n",
    "for i in res_indxs:\n",
    "    print(auxfuncs.get_grounded_qubit_resonator_parameters(i[4],i[2],i[3],res_fr[i[0]],res_fr[i[1]],kappa[i[0]]), res_fr[i[0]],res_fr[i[1]])"
   ]
  },
  {
   "cell_type": "code",
   "execution_count": 12,
   "metadata": {},
   "outputs": [
    {
     "name": "stdout",
     "output_type": "stream",
     "text": [
      "From AWR protection ratio is: 28.397216442594896\n"
     ]
    }
   ],
   "source": [
    "print(\"From AWR protection ratio is:\", kappa[rfr_ind]/kappa[qfr_ind])"
   ]
  },
  {
   "cell_type": "markdown",
   "metadata": {},
   "source": [
    "# Tests"
   ]
  },
  {
   "cell_type": "code",
   "execution_count": 10,
   "metadata": {
    "collapsed": true
   },
   "outputs": [],
   "source": [
    "g5,g6,res= sqd.draw_single_resonator(sqd.sample,sqd.elements,\n",
    "                            sqd.coupler_start+1500, sqd.central_line_y, sqd.coupler_length,\n",
    "                             sqd.resonator_core,sqd.resonator_gap,sqd.resonator_ground,\n",
    "                             sqd.tl_core, sqd.tl_gap, sqd.tl_ground, grounding_width=10,\n",
    "                             closed_end_meander_length=3000,length_left=400,length_right=400,\n",
    "                             open_end_legth=800,\n",
    "                             port_orientation='right', direction_orientation='up')"
   ]
  }
 ],
 "metadata": {
  "kernelspec": {
   "display_name": "Python 3",
   "language": "python",
   "name": "python3"
  },
  "language_info": {
   "codemirror_mode": {
    "name": "ipython",
    "version": 3
   },
   "file_extension": ".py",
   "mimetype": "text/x-python",
   "name": "python",
   "nbconvert_exporter": "python",
   "pygments_lexer": "ipython3",
   "version": "3.6.3"
  }
 },
 "nbformat": 4,
 "nbformat_minor": 4
}
