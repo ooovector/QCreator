{
 "cells": [
  {
   "cell_type": "code",
   "execution_count": 1,
   "metadata": {},
   "outputs": [],
   "source": [
    "from importlib import reload\n",
    "import numpy as np\n",
    "from matplotlib import pyplot as plt\n",
    "import Single_qubit_design as sqd\n",
    "import QCreator.auxiliary_functions as auxfuncs\n",
    "import QCreator.elements as elements"
   ]
  },
  {
   "cell_type": "code",
   "execution_count": 2,
   "metadata": {},
   "outputs": [
    {
     "data": {
      "text/plain": [
       "<module 'Single_qubit_design' from 'C:\\\\Users\\\\Elena\\\\QCreator\\\\designs\\\\Single_qubit_design\\\\Single_qubit_design.py'>"
      ]
     },
     "execution_count": 2,
     "metadata": {},
     "output_type": "execute_result"
    }
   ],
   "source": [
    "reload(sqd)"
   ]
  },
  {
   "cell_type": "code",
   "execution_count": 2,
   "metadata": {},
   "outputs": [],
   "source": [
    "sqd.sample.add(sqd.xmon1)\n",
    "sqd.sample.add(sqd.coaxmon1)\n",
    "sqd.sample.add(sqd.coaxmon2)\n",
    "sqd.sample.add(sqd.coaxmon3)\n",
    "sqd.sample.add(sqd.xmon2)\n",
    "sqd.sample.add(sqd.coaxmon4)\n",
    "\n",
    "\n",
    "sqd.sample.draw_design()"
   ]
  },
  {
   "cell_type": "code",
   "execution_count": 3,
   "metadata": {},
   "outputs": [],
   "source": [
    "airbridge = elements.AirBridgeGeometry(pad_width = 36,pad_length = 22,pad_distance = 62,\n",
    "                                      narrow_width = 20, narrow_length = 46, sm_pad_length = 10,\n",
    "                                      sm_pad_distance = 70, layer_configuration = sqd.sample.layer_configuration)"
   ]
  },
  {
   "cell_type": "code",
   "execution_count": 4,
   "metadata": {
    "collapsed": true
   },
   "outputs": [],
   "source": [
    "sqd.sample.draw_design()\n",
    "# sqd.sample.watch()"
   ]
  },
  {
   "cell_type": "markdown",
   "metadata": {},
   "source": [
    "# Draw a qubit design"
   ]
  },
  {
   "cell_type": "code",
   "execution_count": 5,
   "metadata": {},
   "outputs": [],
   "source": [
    "g1,g2, par1, par2= auxfuncs.draw_double_resonator_plus_double_qubit(sqd.sample,\n",
    "                            sqd.coupler_start, sqd.central_line_y, sqd.coupler_length,\n",
    "                             sqd.resonator_core,sqd.resonator_gap,sqd.resonator_ground, \n",
    "                             sqd.tl_core, sqd.tl_gap, sqd.tl_ground, grounding_width=10,\n",
    "                             closed_end_meander_length1=3400,length_left1=250,length_right1=360,\n",
    "                             closed_end_meander_length2=2850,length_left2=360,length_right2=260,\n",
    "                             open_end_shift_length1=600, open_end_shift_length2=400,\n",
    "                             object1=sqd.xmon1, port1='crab_up',\n",
    "                             object2=sqd.coaxmon1, port2='coupler2',\n",
    "                             airbridge=airbridge, \n",
    "                             min_bridge_spacing_closed_end=150,min_bridge_spacing_open_end=150,\n",
    "                             port_orientation='left',\n",
    "                            meander_first_intend_orientation='right',object2_airbridges=True, meander_r=55)"
   ]
  },
  {
   "cell_type": "code",
   "execution_count": 6,
   "metadata": {
    "collapsed": true
   },
   "outputs": [],
   "source": [
    "g3,g4, par3, par4= auxfuncs.draw_double_resonator_plus_double_qubit(sqd.sample,\n",
    "                            sqd.coupler_start+900, sqd.central_line_y, sqd.coupler_length,\n",
    "                             sqd.resonator_core,sqd.resonator_gap,sqd.resonator_ground, \n",
    "                             sqd.tl_core, sqd.tl_gap, sqd.tl_ground, grounding_width=10,\n",
    "                             closed_end_meander_length1=2950,length_left1=260,length_right1=360,\n",
    "                              closed_end_meander_length2=2700,length_left2=360,length_right2=240,\n",
    "                             open_end_shift_length1=400, open_end_shift_length2=400,\n",
    "                             object1=sqd.coaxmon2, port1='coupler2',\n",
    "                             object2=sqd.coaxmon3, port2='coupler2',\n",
    "                             airbridge=airbridge, \n",
    "                             min_bridge_spacing_closed_end=150,min_bridge_spacing_open_end=150,\n",
    "                             port_orientation='left', object1_airbridges=True, object2_airbridges=True, meander_r=55)"
   ]
  },
  {
   "cell_type": "code",
   "execution_count": 7,
   "metadata": {
    "collapsed": true
   },
   "outputs": [],
   "source": [
    "g5,g6, par5, par6= auxfuncs.draw_double_resonator_plus_double_qubit(sqd.sample,\n",
    "                            sqd.coupler_start+1750, sqd.central_line_y, sqd.coupler_length,\n",
    "                            sqd.resonator_core,sqd.resonator_gap,sqd.resonator_ground, \n",
    "                            sqd.tl_core, sqd.tl_gap, sqd.tl_ground, grounding_width=10,\n",
    "                            closed_end_meander_length1=2400,length_left1=250,length_right1=360,\n",
    "                            closed_end_meander_length2=1900,length_left2=360,length_right2=250,\n",
    "                            open_end_shift_length1=400, open_end_shift_length2=400,\n",
    "                            object1=sqd.xmon2, port1='crab_up',\n",
    "                            object2=sqd.coaxmon4, port2='coupler2',\n",
    "                            airbridge=airbridge, \n",
    "                            min_bridge_spacing_closed_end=150,min_bridge_spacing_open_end=150,\n",
    "                            port_orientation='left', object2_airbridges=True, meander_r=55)"
   ]
  },
  {
   "cell_type": "code",
   "execution_count": 8,
   "metadata": {
    "collapsed": true
   },
   "outputs": [],
   "source": [
    "g7, g8, _1, _2 = auxfuncs.draw_double_resonator(sqd.sample, \n",
    "                            sqd.coupler_start+2450, sqd.central_line_y, 180,\n",
    "                             sqd.resonator_core,sqd.resonator_gap,15, \n",
    "                             sqd.tl_core, sqd.tl_gap, sqd.tl_ground, grounding_width=20,\n",
    "                             closed_end_meander_length1=2200,length_left1=130,length_right1=140,\n",
    "                             closed_end_meander_length2=2300,length_left2=140,length_right2=130,\n",
    "                             open_end_length1=1000,open_end_length2=1000,port_orientation='left',\n",
    "                             airbridge=airbridge, \n",
    "                             min_bridge_spacing_closed_end=100,min_bridge_spacing_open_end=150, meander_r=55)"
   ]
  },
  {
   "cell_type": "markdown",
   "metadata": {},
   "source": [
    "# Connect resonators into feedline"
   ]
  },
  {
   "cell_type": "code",
   "execution_count": 9,
   "metadata": {},
   "outputs": [
    {
     "data": {
      "text/plain": [
       "[CPW \"right TLs0\", l=28.000]"
      ]
     },
     "execution_count": 9,
     "metadata": {},
     "output_type": "execute_result"
    }
   ],
   "source": [
    "sqd.sample.connect_cpw(o1=sqd.p1, o2=g1, port1='port', port2='narrow', name='right TL', points=[],\n",
    "                       airbridge=airbridge, min_spacing=150)\n",
    "sqd.sample.connect_cpw(o1=g2, o2=g3, port1='narrow', port2='narrow', name='right TL', points=[],\n",
    "                       airbridge=airbridge, min_spacing=150)\n",
    "sqd.sample.connect_cpw(o1=g4, o2=g5, port1='narrow', port2='narrow', name='right TL', points=[],\n",
    "                       airbridge=airbridge, min_spacing=150)\n",
    "sqd.sample.connect_cpw(o1=g6, o2=g7, port1='narrow', port2='narrow', name='right TL', points=[],\n",
    "                       airbridge=airbridge, min_spacing=150)\n",
    "sqd.sample.connect_cpw(o1=g8, o2=sqd.p2, port1='narrow', port2='port', name='right TL', points=[],\n",
    "                       airbridge=airbridge, min_spacing=150)"
   ]
  },
  {
   "cell_type": "code",
   "execution_count": 7,
   "metadata": {},
   "outputs": [
    {
     "name": "stderr",
     "output_type": "stream",
     "text": [
      "C:\\Users\\Elena\\Anaconda3\\lib\\site-packages\\gdspy\\path.py:828: UserWarning: [GDSPY] Possible inconsistency found in `FlexPath` due to sharp corner.\n",
      "  \"[GDSPY] Possible inconsistency found in \"\n"
     ]
    },
    {
     "name": "stdout",
     "output_type": "stream",
     "text": [
      "Gds file has been writen here:  C:\\Users\\Elena\\QCreator\\designs\\Single_qubit_design/1Q_test.gds\n",
      "For 0 conductor total length is:  6911\n",
      "For 1 conductor total length is:  1229\n",
      "For 2 conductor total length is:  2359\n",
      "Sum : 10499\n",
      "Data has been written into the file: C:\\Users\\Elena\\QCreator\\designs\\Single_qubit_design/mesh_4k_data\n",
      "Time for fastcap job is:  2.036407232284546\n",
      "Capacitance results have been writen here:  C:\\Users\\Elena\\QCreator\\designs\\Single_qubit_design/mesh_4k_results\n",
      "Capacitance value in:  nanofarads\n",
      "[<map object at 0x00000119B5AD53C8>, <map object at 0x00000119B5AD5470>, <map object at 0x00000119B5AD52E8>]\n",
      "       0     1     2\n",
      "0  188.4 -61.7 -58.9\n",
      "1  -61.7  72.3  -2.7\n",
      "2  -58.9  -2.7  73.7\n",
      "Gds file has been writen here:  C:\\Users\\Elena\\QCreator\\designs\\Single_qubit_design/1Q_test.gds\n",
      "For 0 conductor total length is:  13572\n",
      "For 1 conductor total length is:  4885\n",
      "For 2 conductor total length is:  840\n",
      "Sum : 19297\n",
      "Data has been written into the file: C:\\Users\\Elena\\QCreator\\designs\\Single_qubit_design/mesh_4k_data\n",
      "Time for fastcap job is:  4.097494840621948\n",
      "Capacitance results have been writen here:  C:\\Users\\Elena\\QCreator\\designs\\Single_qubit_design/mesh_4k_results\n",
      "Capacitance value in:  nanofarads\n",
      "[<map object at 0x00000119B5AD56D8>, <map object at 0x00000119B5AD5240>, <map object at 0x00000119B5AD5B38>]\n",
      "       0     1     2\n",
      "0  155.3 -47.5 -15.4\n",
      "1  -47.5  66.6  -5.0\n",
      "2  -15.4  -5.0  25.6\n"
     ]
    }
   ],
   "source": [
    "sqd.sample.draw_cap()\n",
    "for i,qubit in enumerate(sqd.sample.qubits):\n",
    "    caps=sqd.sample.calculate_qubit_capacitance(cell= sqd.sample.qubit_cap_cells[i], qubit=sqd.sample.qubits[i],\n",
    "                                       mesh_volume=10)"
   ]
  },
  {
   "cell_type": "code",
   "execution_count": 12,
   "metadata": {
    "collapsed": true
   },
   "outputs": [],
   "source": [
    "# sys, connections, elements_ = sqd.sample.get_tls(cutoff=2e11)\n",
    "# f, delta, modes = sys.get_modes()\n",
    "# num_modes=18\n",
    "# (res_fr,kappa,_)=auxfuncs.search_for_resonators_qubits(f,delta,0,15)[:num_modes]"
   ]
  },
  {
   "cell_type": "markdown",
   "metadata": {},
   "source": [
    "# Connect contact pads"
   ]
  },
  {
   "cell_type": "code",
   "execution_count": 10,
   "metadata": {},
   "outputs": [],
   "source": [
    "flux_pads_coaxmons = [\n",
    "    (sqd.sample.qubits[1], sqd.pads_top[0], []),\n",
    "    (sqd.sample.qubits[2], sqd.pads_bottom[1], []),\n",
    "    (sqd.sample.qubits[3], sqd.pads_top[1], []),\n",
    "    (sqd.sample.qubits[5], sqd.pads_top[2], [])]\n",
    "\n",
    "flux_pads_xmons = [(sqd.sample.qubits[0], sqd.pads_bottom[0],[(1531,929)]),\n",
    "                  (sqd.sample.qubits[4], sqd.pads_bottom[2], [])]\n",
    "\n",
    "\n",
    "\n",
    "\n",
    "\n",
    "for coaxmon, pad, points in flux_pads_coaxmons:  \n",
    "    bridge, port = sqd.sample.airbridge(\n",
    "            coaxmon, 'flux', name='Airbridge over %s qubit flux coupler' % coaxmon.name, geometry=airbridge)\n",
    "    \n",
    "    narrowing_length = 25\n",
    "    flux_line_narrowing_position = sqd.sample.cpw_shift(bridge, port, narrowing_length/2)[0]\n",
    "\n",
    "    flux_line_narrowing = sqd.elements.Narrowing(name='flux_line_narrowing', position=flux_line_narrowing_position, \n",
    "                                             orientation=bridge.terminals[port].orientation+np.pi, \n",
    "                                             w1=bridge.terminals[port].w, \n",
    "                                             s1=bridge.terminals[port].s, g1=bridge.terminals[port].g,\n",
    "                                             w2=sqd.tl_core, s2=sqd.tl_gap, g2=sqd.tl_ground, \n",
    "                                             layer_configuration=sqd.sample.layer_configuration, length=narrowing_length)\n",
    "    sqd.sample.add(flux_line_narrowing)\n",
    "    sqd.sample.connect(flux_line_narrowing, 'port1', bridge, port)\n",
    "    sqd.sample.connect_cpw(pad, flux_line_narrowing, 'port', 'port2', 'flux_control_line_qubit_'+coaxmon.name, points=points,\n",
    "                          airbridge=airbridge, min_spacing=100, r=80)\n",
    "#     sqd.sample.connect_cpw(pad, flux_line_narrowing, 'port', 'port2', 'flux_control5', points=points)\n",
    "    \n",
    "for xmon, pad, points in flux_pads_xmons:  \n",
    "    bridge, port = sqd.sample.airbridge(\n",
    "            xmon, 'flux', name='Airbridge over %s qubit flux coupler' % coaxmon.name, geometry=airbridge)\n",
    "    \n",
    "    narrowing_length = 25\n",
    "    flux_line_narrowing_position = sqd.sample.cpw_shift(bridge, port, narrowing_length/2)[0]\n",
    "    \n",
    "    flux_line_narrowing = sqd.elements.Narrowing(name='flux_line_narrowing', position=flux_line_narrowing_position, \n",
    "                                             orientation=bridge.terminals[port].orientation+np.pi, \n",
    "                                             w1=bridge.terminals[port].w, \n",
    "                                             s1=bridge.terminals[port].s, g1=bridge.terminals[port].g,\n",
    "                                             w2=sqd.tl_core, s2=sqd.tl_gap, g2=sqd.tl_ground, \n",
    "                                             layer_configuration=sqd.sample.layer_configuration, length=narrowing_length)\n",
    "    sqd.sample.add(flux_line_narrowing)\n",
    "    sqd.sample.connect(flux_line_narrowing, 'port1', bridge, port)\n",
    "#     sqd.sample.connect_cpw(pad, flux_line_narrowing, 'port', 'port2', 'flux_control5', points=points)\n",
    "    sqd.sample.connect_cpw(pad, flux_line_narrowing, 'port', 'port2', 'flux_control_line_qubit_'+xmon.name, points=points,\n",
    "                          airbridge=airbridge, min_spacing=100, r=80)"
   ]
  },
  {
   "cell_type": "code",
   "execution_count": 13,
   "metadata": {
    "collapsed": true
   },
   "outputs": [],
   "source": [
    "grid_ground = elements.GridGround(sqd.sample.chip_geometry, sqd.sample.layer_configuration, sqd.sample.objects, \n",
    "                                  width=4, period=25)\n",
    "sqd.sample.add(grid_ground)"
   ]
  },
  {
   "cell_type": "code",
   "execution_count": 14,
   "metadata": {},
   "outputs": [
    {
     "name": "stderr",
     "output_type": "stream",
     "text": [
      "C:\\Users\\Elena\\Anaconda3\\lib\\site-packages\\gdspy\\path.py:828: UserWarning: [GDSPY] Possible inconsistency found in `FlexPath` due to sharp corner.\n",
      "  \"[GDSPY] Possible inconsistency found in \"\n"
     ]
    }
   ],
   "source": [
    "sqd.sample.draw_design()"
   ]
  },
  {
   "cell_type": "code",
   "execution_count": null,
   "metadata": {
    "collapsed": true
   },
   "outputs": [],
   "source": [
    "sqd.sample.render_negative([0], sqd.sample.layer_configuration.inverted)\n"
   ]
  },
  {
   "cell_type": "code",
   "execution_count": null,
   "metadata": {
    "collapsed": true
   },
   "outputs": [],
   "source": [
    "sqd.sample.layer_expansion(0.8, sqd.sample.layer_configuration.inverted, 101, 8)"
   ]
  },
  {
   "cell_type": "code",
   "execution_count": 12,
   "metadata": {},
   "outputs": [],
   "source": [
    "sqd.sample.watch()"
   ]
  },
  {
   "cell_type": "code",
   "execution_count": 15,
   "metadata": {},
   "outputs": [
    {
     "name": "stdout",
     "output_type": "stream",
     "text": [
      "Gds file has been writen here:  C:\\Users\\Elena\\QCreator\\designs\\Single_qubit_design/1Q_test.gds\n"
     ]
    }
   ],
   "source": [
    "sqd.sample.write_to_gds()"
   ]
  },
  {
   "cell_type": "code",
   "execution_count": 20,
   "metadata": {},
   "outputs": [
    {
     "ename": "TypeError",
     "evalue": "unsupported operand type(s) for *: 'NoneType' and 'float'",
     "output_type": "error",
     "traceback": [
      "\u001b[1;31m---------------------------------------------------------------------------\u001b[0m",
      "\u001b[1;31mTypeError\u001b[0m                                 Traceback (most recent call last)",
      "\u001b[1;32m<ipython-input-20-2ffd6500804d>\u001b[0m in \u001b[0;36m<module>\u001b[1;34m\u001b[0m\n\u001b[1;32m----> 1\u001b[1;33m \u001b[0msys\u001b[0m\u001b[1;33m,\u001b[0m \u001b[0mconnections\u001b[0m\u001b[1;33m,\u001b[0m \u001b[0melements_\u001b[0m \u001b[1;33m=\u001b[0m \u001b[0msqd\u001b[0m\u001b[1;33m.\u001b[0m\u001b[0msample\u001b[0m\u001b[1;33m.\u001b[0m\u001b[0mget_tls\u001b[0m\u001b[1;33m(\u001b[0m\u001b[0mcutoff\u001b[0m\u001b[1;33m=\u001b[0m\u001b[1;36m2e11\u001b[0m\u001b[1;33m)\u001b[0m\u001b[1;33m\u001b[0m\u001b[1;33m\u001b[0m\u001b[0m\n\u001b[0m\u001b[0;32m      2\u001b[0m \u001b[0mf\u001b[0m\u001b[1;33m,\u001b[0m \u001b[0mdelta\u001b[0m\u001b[1;33m,\u001b[0m \u001b[0mmodes\u001b[0m \u001b[1;33m=\u001b[0m \u001b[0msys\u001b[0m\u001b[1;33m.\u001b[0m\u001b[0mget_modes\u001b[0m\u001b[1;33m(\u001b[0m\u001b[1;33m)\u001b[0m\u001b[1;33m\u001b[0m\u001b[1;33m\u001b[0m\u001b[0m\n\u001b[0;32m      3\u001b[0m \u001b[0mnum_modes\u001b[0m\u001b[1;33m=\u001b[0m\u001b[1;36m18\u001b[0m\u001b[1;33m\u001b[0m\u001b[1;33m\u001b[0m\u001b[0m\n\u001b[0;32m      4\u001b[0m \u001b[1;33m(\u001b[0m\u001b[0mres_fr\u001b[0m\u001b[1;33m,\u001b[0m\u001b[0mkappa\u001b[0m\u001b[1;33m,\u001b[0m\u001b[0m_\u001b[0m\u001b[1;33m)\u001b[0m\u001b[1;33m=\u001b[0m\u001b[0mauxfuncs\u001b[0m\u001b[1;33m.\u001b[0m\u001b[0msearch_for_resonators_qubits\u001b[0m\u001b[1;33m(\u001b[0m\u001b[0mf\u001b[0m\u001b[1;33m,\u001b[0m\u001b[0mdelta\u001b[0m\u001b[1;33m,\u001b[0m\u001b[1;36m0\u001b[0m\u001b[1;33m,\u001b[0m\u001b[1;36m15\u001b[0m\u001b[1;33m)\u001b[0m\u001b[1;33m[\u001b[0m\u001b[1;33m:\u001b[0m\u001b[0mnum_modes\u001b[0m\u001b[1;33m]\u001b[0m\u001b[1;33m\u001b[0m\u001b[1;33m\u001b[0m\u001b[0m\n",
      "\u001b[1;32mD:\\Documents-cloud\\qubits\\simulation\\QCreator\\QCreator\\general_sample_creator.py\u001b[0m in \u001b[0;36mget_tls\u001b[1;34m(self, cutoff)\u001b[0m\n\u001b[0;32m    465\u001b[0m                         \u001b[0mconnections_flat\u001b[0m\u001b[1;33m[\u001b[0m\u001b[1;33m(\u001b[0m\u001b[0mobject_\u001b[0m\u001b[1;33m,\u001b[0m \u001b[0mterminal_name\u001b[0m\u001b[1;33m,\u001b[0m \u001b[0mconductor_id\u001b[0m\u001b[1;33m)\u001b[0m\u001b[1;33m]\u001b[0m \u001b[1;33m=\u001b[0m \u001b[0mmax_connection_id\u001b[0m\u001b[1;33m\u001b[0m\u001b[1;33m\u001b[0m\u001b[0m\n\u001b[0;32m    466\u001b[0m                         \u001b[0mterminal_node_assignments\u001b[0m\u001b[1;33m[\u001b[0m\u001b[0mterminal_identifier\u001b[0m\u001b[1;33m]\u001b[0m \u001b[1;33m=\u001b[0m \u001b[0mmax_connection_id\u001b[0m\u001b[1;33m\u001b[0m\u001b[1;33m\u001b[0m\u001b[0m\n\u001b[1;32m--> 467\u001b[1;33m             element_assignments[object_.name] = object_.add_to_tls(tls, terminal_node_assignments,\n\u001b[0m\u001b[0;32m    468\u001b[0m                                                                    cutoff=cutoff, epsilon=self.epsilon)\n\u001b[0;32m    469\u001b[0m         \u001b[1;32mreturn\u001b[0m \u001b[0mtls\u001b[0m\u001b[1;33m,\u001b[0m \u001b[0mconnections_flat\u001b[0m\u001b[1;33m,\u001b[0m \u001b[0melement_assignments\u001b[0m\u001b[1;33m\u001b[0m\u001b[1;33m\u001b[0m\u001b[0m\n",
      "\u001b[1;32mD:\\Documents-cloud\\qubits\\simulation\\QCreator\\QCreator\\elements\\xmon.py\u001b[0m in \u001b[0;36madd_to_tls\u001b[1;34m(self, tls_instance, terminal_mapping, track_changes, cutoff, epsilon)\u001b[0m\n\u001b[0;32m    892\u001b[0m         \u001b[0mjj2\u001b[0m \u001b[1;33m=\u001b[0m \u001b[0mtlsim\u001b[0m\u001b[1;33m.\u001b[0m\u001b[0mJosephsonJunction\u001b[0m\u001b[1;33m(\u001b[0m\u001b[0me_j\u001b[0m\u001b[1;33m=\u001b[0m\u001b[0mself\u001b[0m\u001b[1;33m.\u001b[0m\u001b[0mjj\u001b[0m\u001b[1;33m[\u001b[0m\u001b[1;34m'ic_l'\u001b[0m\u001b[1;33m]\u001b[0m\u001b[1;33m*\u001b[0m\u001b[0mhbar\u001b[0m\u001b[1;33m/\u001b[0m\u001b[1;33m(\u001b[0m\u001b[1;36m2\u001b[0m\u001b[1;33m*\u001b[0m\u001b[0me\u001b[0m\u001b[1;33m)\u001b[0m\u001b[1;33m,\u001b[0m \u001b[0mname\u001b[0m\u001b[1;33m=\u001b[0m\u001b[0mself\u001b[0m\u001b[1;33m.\u001b[0m\u001b[0mname\u001b[0m \u001b[1;33m+\u001b[0m \u001b[1;34m' jj2'\u001b[0m\u001b[1;33m)\u001b[0m\u001b[1;33m\u001b[0m\u001b[1;33m\u001b[0m\u001b[0m\n\u001b[0;32m    893\u001b[0m         \u001b[0mm\u001b[0m \u001b[1;33m=\u001b[0m \u001b[0mtlsim\u001b[0m\u001b[1;33m.\u001b[0m\u001b[0mInductor\u001b[0m\u001b[1;33m(\u001b[0m\u001b[0mself\u001b[0m\u001b[1;33m.\u001b[0m\u001b[0mjgeom\u001b[0m\u001b[1;33m[\u001b[0m\u001b[1;34m'lm'\u001b[0m\u001b[1;33m]\u001b[0m\u001b[1;33m,\u001b[0m \u001b[0mname\u001b[0m\u001b[1;33m=\u001b[0m\u001b[0mself\u001b[0m\u001b[1;33m.\u001b[0m\u001b[0mname\u001b[0m \u001b[1;33m+\u001b[0m \u001b[1;34m' flux-wire'\u001b[0m\u001b[1;33m)\u001b[0m\u001b[1;33m\u001b[0m\u001b[1;33m\u001b[0m\u001b[0m\n\u001b[1;32m--> 894\u001b[1;33m         \u001b[0mc\u001b[0m \u001b[1;33m=\u001b[0m \u001b[0mtlsim\u001b[0m\u001b[1;33m.\u001b[0m\u001b[0mCapacitor\u001b[0m\u001b[1;33m(\u001b[0m\u001b[0mc\u001b[0m\u001b[1;33m=\u001b[0m\u001b[0mself\u001b[0m\u001b[1;33m.\u001b[0m\u001b[0mC\u001b[0m\u001b[1;33m[\u001b[0m\u001b[1;34m'qubit'\u001b[0m\u001b[1;33m]\u001b[0m\u001b[1;33m*\u001b[0m\u001b[0mscal_C\u001b[0m\u001b[1;33m,\u001b[0m \u001b[0mname\u001b[0m\u001b[1;33m=\u001b[0m\u001b[0mself\u001b[0m\u001b[1;33m.\u001b[0m\u001b[0mname\u001b[0m\u001b[1;33m+\u001b[0m\u001b[1;34m' qubit-ground'\u001b[0m\u001b[1;33m)\u001b[0m\u001b[1;33m\u001b[0m\u001b[1;33m\u001b[0m\u001b[0m\n\u001b[0m\u001b[0;32m    895\u001b[0m         \u001b[0mcache\u001b[0m \u001b[1;33m=\u001b[0m \u001b[1;33m[\u001b[0m\u001b[0mjj1\u001b[0m\u001b[1;33m,\u001b[0m \u001b[0mjj2\u001b[0m\u001b[1;33m,\u001b[0m \u001b[0mm\u001b[0m\u001b[1;33m,\u001b[0m \u001b[0mc\u001b[0m\u001b[1;33m]\u001b[0m\u001b[1;33m\u001b[0m\u001b[1;33m\u001b[0m\u001b[0m\n\u001b[0;32m    896\u001b[0m         \u001b[1;32mif\u001b[0m \u001b[0mself\u001b[0m\u001b[1;33m.\u001b[0m\u001b[0mjj\u001b[0m\u001b[1;33m[\u001b[0m\u001b[1;34m'type'\u001b[0m\u001b[1;33m]\u001b[0m \u001b[1;33m==\u001b[0m \u001b[1;36m2\u001b[0m\u001b[1;33m:\u001b[0m\u001b[1;33m\u001b[0m\u001b[1;33m\u001b[0m\u001b[0m\n",
      "\u001b[1;31mTypeError\u001b[0m: unsupported operand type(s) for *: 'NoneType' and 'float'"
     ]
    }
   ],
   "source": [
    "sys, connections, elements_ = sqd.sample.get_tls(cutoff=2e11)\n",
    "f, delta, modes = sys.get_modes()\n",
    "num_modes=18\n",
    "(res_fr,kappa,_)=auxfuncs.search_for_resonators_qubits(f,delta,0,15)[:num_modes]"
   ]
  },
  {
   "cell_type": "code",
   "execution_count": null,
   "metadata": {
    "collapsed": true,
    "jupyter": {
     "outputs_hidden": true
    }
   },
   "outputs": [],
   "source": [
    "sqd.sample.write_to_gds()"
   ]
  },
  {
   "cell_type": "markdown",
   "metadata": {},
   "source": [
    "# Simulations"
   ]
  },
  {
   "cell_type": "code",
   "execution_count": 12,
   "metadata": {
    "jupyter": {
     "outputs_hidden": true
    }
   },
   "outputs": [
    {
     "name": "stdout",
     "output_type": "stream",
     "text": [
      "('up',)\n"
     ]
    }
   ],
   "source": [
    "sys, connections, elements_ = sqd.sample.get_tls(cutoff=2e11)\n",
    "f, delta, modes = sys.get_modes()"
   ]
  },
  {
   "cell_type": "code",
   "execution_count": 13,
   "metadata": {
    "jupyter": {
     "outputs_hidden": true
    }
   },
   "outputs": [
    {
     "name": "stdout",
     "output_type": "stream",
     "text": [
      "Resonance frequencies are, GHz: [4.88948764 5.09285867 7.49879958 9.01822338]\n",
      "Kappas are, us^-1: [0.02072006 0.02489236 0.54150327 0.94410573]\n",
      "Quality factors are: [1482696.54109402 1285509.75994269   87010.27321844   60017.82079187]\n"
     ]
    }
   ],
   "source": [
    "num_modes=18\n",
    "(res_fr,kappa,_)=auxfuncs.search_for_resonators_qubits(f,delta,0,15)[:num_modes]"
   ]
  },
  {
   "cell_type": "code",
   "execution_count": null,
   "metadata": {
    "collapsed": true,
    "jupyter": {
     "outputs_hidden": true
    }
   },
   "outputs": [],
   "source": [
    "num_modes=18\n",
    "(res_fr,kappa,_)=sqd.search_for_resonators_qubits(f,delta,0,15)[:num_modes]"
   ]
  },
  {
   "cell_type": "markdown",
   "metadata": {},
   "source": [
    "# Get s21 parameters"
   ]
  },
  {
   "cell_type": "code",
   "execution_count": null,
   "metadata": {
    "collapsed": true,
    "jupyter": {
     "outputs_hidden": true
    }
   },
   "outputs": [],
   "source": [
    "f_ = np.linspace(6.9e9, 7.1e9, 2001)\n",
    "# s11 = sample.get_s21('p1', 'p1', f_)\n",
    "s11 = sample.get_s21('pad-left-0', 'pad-right-0', f_)"
   ]
  },
  {
   "cell_type": "code",
   "execution_count": null,
   "metadata": {
    "collapsed": true,
    "jupyter": {
     "outputs_hidden": true
    }
   },
   "outputs": [],
   "source": [
    "import resonator_tools\n",
    "from resonator_tools.circuit import notch_port, reflection_port"
   ]
  },
  {
   "cell_type": "code",
   "execution_count": null,
   "metadata": {
    "collapsed": true,
    "jupyter": {
     "outputs_hidden": true
    }
   },
   "outputs": [],
   "source": [
    "fitter = notch_port(f_data=f_, z_data_raw=s11)\n",
    "fitter.autofit()"
   ]
  },
  {
   "cell_type": "code",
   "execution_count": null,
   "metadata": {
    "collapsed": true,
    "jupyter": {
     "outputs_hidden": true
    }
   },
   "outputs": [],
   "source": [
    "fitter.plotall()"
   ]
  },
  {
   "cell_type": "code",
   "execution_count": null,
   "metadata": {
    "collapsed": true,
    "jupyter": {
     "outputs_hidden": true
    }
   },
   "outputs": [],
   "source": [
    "fitter.fitresults"
   ]
  },
  {
   "cell_type": "markdown",
   "metadata": {},
   "source": [
    "# Estimate qubit-resonator parameters"
   ]
  },
  {
   "cell_type": "code",
   "execution_count": null,
   "metadata": {
    "collapsed": true,
    "jupyter": {
     "outputs_hidden": true
    }
   },
   "outputs": [],
   "source": [
    "auxfuncs.get_grounded_qubit_resonator_coupling(par1,sqd.coaxmon1,'coupler2',res_fr[rfr_ind],res_fr[qfr_ind])"
   ]
  },
  {
   "cell_type": "code",
   "execution_count": 13,
   "metadata": {
    "jupyter": {
     "outputs_hidden": true
    }
   },
   "outputs": [
    {
     "name": "stdout",
     "output_type": "stream",
     "text": [
      "Qubit- resonator detuning: -1.3809151384314058\n",
      "{'g': (42.51782218502497, 'MHz/2pi'), 'alpha': (-267.9146517933488, 'MHz/2pi'), 'chi': (-0.21271380272816579, 'MHz/2pi'), 'T': (7736.8516776441875, 'us'), 'protection ratio': 1054.8530395470957} 5.986871589185402 4.605956450753996\n",
      "Qubit- resonator detuning: -2.226132952512488\n",
      "{'g': (104.1923512638563, 'MHz/2pi'), 'alpha': (-290.8442841540409, 'MHz/2pi'), 'chi': (-0.5635102555357862, 'MHz/2pi'), 'T': (2064.888097812473, 'us'), 'protection ratio': 456.4892129242523} 7.023551406559037 4.797418454046549\n"
     ]
    }
   ],
   "source": [
    "#min qubit freqs setup, first pair\n",
    "res1 = 2\n",
    "q1 = 0\n",
    "res2 = 3\n",
    "q2 = 1\n",
    "\n",
    "res_indxs = [[res1, q1, sqd.xmon1, 'crab_up', par1], [res2, q2, sqd.coaxmon1, 'coupler2', par2]]\n",
    "for i in res_indxs:\n",
    "    print(auxfuncs.get_grounded_qubit_resonator_parameters(i[4],i[2],i[3],res_fr[i[0]],res_fr[i[1]],kappa[i[0]]), res_fr[i[0]],res_fr[i[1]])"
   ]
  },
  {
   "cell_type": "code",
   "execution_count": 14,
   "metadata": {
    "jupyter": {
     "outputs_hidden": true
    }
   },
   "outputs": [
    {
     "name": "stdout",
     "output_type": "stream",
     "text": [
      "Qubit- resonator detuning: -1.2550351894022596\n",
      "{'g': (43.09616606935238, 'MHz/2pi'), 'alpha': (-267.9146517933488, 'MHz/2pi'), 'chi': (-0.26033480504258427, 'MHz/2pi'), 'T': (6221.147768073701, 'us'), 'protection ratio': 848.0755326809153} 5.98702589863998 4.731990709237721\n",
      "Qubit- resonator detuning: -2.0953496964712777\n",
      "{'g': (105.60954030310333, 'MHz/2pi'), 'alpha': (-290.8442841540409, 'MHz/2pi'), 'chi': (-0.648790643871574, 'MHz/2pi'), 'T': (1780.9149139789395, 'us'), 'protection ratio': 393.6467974320258} 7.023909873519066 4.928560177047788\n"
     ]
    }
   ],
   "source": [
    "#max qubit freqs setup, first pair\n",
    "res1 = 2\n",
    "q1 = 0\n",
    "res2 = 3\n",
    "q2 = 1\n",
    "\n",
    "res_indxs = [[res1, q1, sqd.xmon1, 'crab_up', par1], [res2, q2, sqd.coaxmon1, 'coupler2', par2]]\n",
    "for i in res_indxs:\n",
    "    print(auxfuncs.get_grounded_qubit_resonator_parameters(i[4],i[2],i[3],res_fr[i[0]],res_fr[i[1]],kappa[i[0]]), res_fr[i[0]],res_fr[i[1]])"
   ]
  },
  {
   "cell_type": "code",
   "execution_count": 12,
   "metadata": {
    "jupyter": {
     "outputs_hidden": true
    }
   },
   "outputs": [
    {
     "name": "stdout",
     "output_type": "stream",
     "text": [
      "Qubit- resonator detuning: -2.4670797640316016\n",
      "{'g': (117.59390551413243, 'MHz/2pi'), 'alpha': (-154.961834597273, 'MHz/2pi'), 'chi': (-0.3312619923178191, 'MHz/2pi'), 'T': (2296.784218344806, 'us'), 'protection ratio': 440.1459939413652} 6.714327385714651 4.24724762168305\n",
      "Qubit- resonator detuning: -2.474759434101996\n",
      "{'g': (108.33641434022779, 'MHz/2pi'), 'alpha': (-290.8442841540409, 'MHz/2pi'), 'chi': (-0.4987541348352773, 'MHz/2pi'), 'T': (2114.7614515306204, 'us'), 'protection ratio': 521.815604415953} 7.272383289946583 4.797623855844587\n"
     ]
    }
   ],
   "source": [
    "#min qubit freqs setup, second pair\n",
    "res3 = 2\n",
    "q3 = 0\n",
    "res4 = 3\n",
    "q4 = 1\n",
    "\n",
    "res_indxs = [[res3, q3, sqd.coaxmon2, 'coupler2', par3],[res4, q4, sqd.coaxmon3 , 'coupler2', par4]]\n",
    "for i in res_indxs:\n",
    "    print(auxfuncs.get_grounded_qubit_resonator_parameters(i[4],i[2],i[3],res_fr[i[0]],res_fr[i[1]],kappa[i[0]]), res_fr[i[0]],res_fr[i[1]])"
   ]
  },
  {
   "cell_type": "code",
   "execution_count": 12,
   "metadata": {
    "jupyter": {
     "outputs_hidden": true
    }
   },
   "outputs": [
    {
     "name": "stdout",
     "output_type": "stream",
     "text": [
      "Qubit- resonator detuning: -2.2078262892878353\n",
      "{'g': (121.14834997326065, 'MHz/2pi'), 'alpha': (-154.961834597273, 'MHz/2pi'), 'chi': (-0.435983523288228, 'MHz/2pi'), 'T': (1733.5665487314902, 'us'), 'protection ratio': 332.11981986233764} 6.715156244314437 4.507329955026601\n",
      "Qubit- resonator detuning: -2.3438936794575875\n",
      "{'g': (109.80997693347335, 'MHz/2pi'), 'alpha': (-290.8442841540409, 'MHz/2pi'), 'chi': (-0.5678959830282865, 'MHz/2pi'), 'T': (1846.6529482365474, 'us'), 'protection ratio': 455.6089168511798} 7.272701456988509 4.928807777530921\n"
     ]
    }
   ],
   "source": [
    "#max qubit freqs setup, second pair\n",
    "res3 = 2\n",
    "q3 = 0\n",
    "res4 = 3\n",
    "q4 = 1\n",
    "\n",
    "res_indxs = [[res3, q3, sqd.coaxmon2, 'coupler2', par3],[res4, q4, sqd.coaxmon3 , 'coupler2', par4]]\n",
    "for i in res_indxs:\n",
    "    print(auxfuncs.get_grounded_qubit_resonator_parameters(i[4],i[2],i[3],res_fr[i[0]],res_fr[i[1]],kappa[i[0]]), res_fr[i[0]],res_fr[i[1]])"
   ]
  },
  {
   "cell_type": "code",
   "execution_count": 14,
   "metadata": {
    "jupyter": {
     "outputs_hidden": true
    }
   },
   "outputs": [
    {
     "name": "stdout",
     "output_type": "stream",
     "text": [
      "Qubit- resonator detuning: -2.6093119350661507\n",
      "{'g': (55.22225860964567, 'MHz/2pi'), 'alpha': (-267.54460393175583, 'MHz/2pi'), 'chi': (-0.10868768060408371, 'MHz/2pi'), 'T': (8246.175701254537, 'us'), 'protection ratio': 2232.665546401237} 7.498799576286569 4.889487641220418\n",
      "Qubit- resonator detuning: -3.925364715494797\n",
      "{'g': (141.96273072108326, 'MHz/2pi'), 'alpha': (-290.4082357520108, 'MHz/2pi'), 'chi': (-0.3536717654270386, 'MHz/2pi'), 'T': (1619.648229519856, 'us'), 'protection ratio': 764.5595888561568} 9.018223381345821 5.092858665851025\n"
     ]
    }
   ],
   "source": [
    "#min qubit freqs setup, third pair\n",
    "res5 = 2\n",
    "q5 = 0\n",
    "res6 = 3\n",
    "q6 = 1\n",
    "\n",
    "res_indxs = [[res5, q5, sqd.xmon2, 'crab_up', par5], [res6, q6, sqd.coaxmon4, 'coupler2', par6]]\n",
    "for i in res_indxs:\n",
    "    print(auxfuncs.get_grounded_qubit_resonator_parameters(i[4],i[2],i[3],res_fr[i[0]],res_fr[i[1]],kappa[i[0]]), res_fr[i[0]],res_fr[i[1]])"
   ]
  },
  {
   "cell_type": "code",
   "execution_count": 13,
   "metadata": {
    "jupyter": {
     "outputs_hidden": true
    }
   },
   "outputs": [
    {
     "name": "stdout",
     "output_type": "stream",
     "text": [
      "Qubit- resonator detuning: 0.9833437565401306\n",
      "{'g': (72.67921676414076, 'MHz/2pi'), 'alpha': (-267.54460393175583, 'MHz/2pi'), 'chi': (-2.0077985138297074, 'MHz/2pi'), 'T': (680.6334775457019, 'us'), 'protection ratio': 183.05864885028015} 7.492843870791369 8.4761876273315\n",
      "Qubit- resonator detuning: -0.3782678057515003\n",
      "{'g': (186.83434982319972, 'MHz/2pi'), 'alpha': (-290.4082357520108, 'MHz/2pi'), 'chi': (-40.07811023911636, 'MHz/2pi'), 'T': (11.202951721229402, 'us'), 'protection ratio': 4.099069768651841} 9.110293499348613 8.732025693597112\n"
     ]
    }
   ],
   "source": [
    "#max qubit freqs setup, third pair\n",
    "res5 = 0\n",
    "q5 = 1\n",
    "res6 = 3\n",
    "q6 = 2\n",
    "\n",
    "res_indxs = [[res5, q5, sqd.xmon2, 'crab_up', par5], [res6, q6, sqd.coaxmon4, 'coupler2', par6]]\n",
    "for i in res_indxs:\n",
    "    print(auxfuncs.get_grounded_qubit_resonator_parameters(i[4],i[2],i[3],res_fr[i[0]],res_fr[i[1]],kappa[i[0]]), res_fr[i[0]],res_fr[i[1]])"
   ]
  },
  {
   "cell_type": "code",
   "execution_count": null,
   "metadata": {
    "collapsed": true,
    "jupyter": {
     "outputs_hidden": true
    }
   },
   "outputs": [],
   "source": [
    "print(\"From AWR protection ratio is:\", kappa[rfr_ind]/kappa[qfr_ind])"
   ]
  },
  {
   "cell_type": "markdown",
   "metadata": {},
   "source": [
    "# Tests"
   ]
  },
  {
   "cell_type": "code",
   "execution_count": null,
   "metadata": {
    "collapsed": true,
    "jupyter": {
     "outputs_hidden": true
    }
   },
   "outputs": [],
   "source": [
    "g5,g6,res= sqd.draw_single_resonator(sqd.sample,sqd.elements,\n",
    "                            sqd.coupler_start+1500, sqd.central_line_y, sqd.coupler_length,\n",
    "                             sqd.resonator_core,sqd.resonator_gap,sqd.resonator_ground,\n",
    "                             sqd.tl_core, sqd.tl_gap, sqd.tl_ground, grounding_width=10,\n",
    "                             closed_end_meander_length=3000,length_left=400,length_right=400,\n",
    "                             open_end_legth=800,\n",
    "                             port_orientation='right', direction_orientation='up')"
   ]
  }
 ],
 "metadata": {
  "kernelspec": {
   "display_name": "Python 3",
   "language": "python",
   "name": "python3"
  },
  "language_info": {
   "codemirror_mode": {
    "name": "ipython",
    "version": 3
   },
   "file_extension": ".py",
   "mimetype": "text/x-python",
   "name": "python",
   "nbconvert_exporter": "python",
   "pygments_lexer": "ipython3",
   "version": "3.6.3"
  }
 },
 "nbformat": 4,
 "nbformat_minor": 4
}
