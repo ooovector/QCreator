{
 "cells": [
  {
   "cell_type": "code",
   "execution_count": 1,
   "metadata": {
    "collapsed": true
   },
   "outputs": [],
   "source": [
    "from importlib import reload\n",
    "import numpy as np\n",
    "from matplotlib import pyplot as plt\n",
    "import Single_qubit_design as sqd\n",
    "import QCreator.auxiliary_functions as auxfuncs\n",
    "import QCreator.elements as elements"
   ]
  },
  {
   "cell_type": "code",
   "execution_count": 2,
   "metadata": {},
   "outputs": [
    {
     "data": {
      "text/plain": [
       "<module 'Single_qubit_design' from 'D:\\\\Documents-cloud\\\\qubits\\\\simulation\\\\QCreator\\\\designs\\\\Single_qubit_design\\\\Single_qubit_design.py'>"
      ]
     },
     "execution_count": 2,
     "metadata": {},
     "output_type": "execute_result"
    }
   ],
   "source": [
    "reload(sqd)"
   ]
  },
  {
   "cell_type": "code",
   "execution_count": 2,
   "metadata": {
    "collapsed": true
   },
   "outputs": [],
   "source": [
    "sqd.sample.add(sqd.xmon1)\n",
    "sqd.sample.add(sqd.coaxmon1)\n",
    "sqd.sample.add(sqd.coaxmon2)\n",
    "sqd.sample.add(sqd.coaxmon3)\n",
    "sqd.sample.add(sqd.xmon2)\n",
    "sqd.sample.add(sqd.coaxmon4)\n",
    "\n",
    "\n",
    "sqd.sample.draw_design()"
   ]
  },
  {
   "cell_type": "code",
   "execution_count": 3,
   "metadata": {
    "collapsed": true
   },
   "outputs": [],
   "source": [
    "airbridge = elements.AirBridgeGeometry(pad_width = 36,pad_length = 22,pad_distance = 62,\n",
    "                                      narrow_width = 20, narrow_length = 46, sm_pad_length = 10,\n",
    "                                      sm_pad_distance = 70, layer_configuration = sqd.sample.layer_configuration)"
   ]
  },
  {
   "cell_type": "code",
   "execution_count": 12,
   "metadata": {},
   "outputs": [
    {
     "name": "stderr",
     "output_type": "stream",
     "text": [
      "C:\\Users\\Elena\\Anaconda3\\lib\\site-packages\\gdspy\\path.py:828: UserWarning: [GDSPY] Possible inconsistency found in `FlexPath` due to sharp corner.\n",
      "  \"[GDSPY] Possible inconsistency found in \"\n"
     ]
    }
   ],
   "source": [
    "sqd.sample.draw_design()\n",
    "sqd.sample.watch()"
   ]
  },
  {
   "cell_type": "markdown",
   "metadata": {},
   "source": [
    "# Draw a qubit design"
   ]
  },
  {
   "cell_type": "code",
   "execution_count": 8,
   "metadata": {
    "collapsed": true
   },
   "outputs": [],
   "source": [
    "g1,g2, par1, par2= auxfuncs.draw_double_resonator_plus_double_qubit(sqd.sample,\n",
    "                            sqd.coupler_start, sqd.central_line_y, sqd.coupler_length,\n",
    "                             sqd.resonator_core,sqd.resonator_gap,sqd.resonator_ground, \n",
    "                             sqd.tl_core, sqd.tl_gap, sqd.tl_ground, grounding_width=10,\n",
    "                             closed_end_meander_length1=3400,length_left1=250,length_right1=360,\n",
    "                             closed_end_meander_length2=2850,length_left2=360,length_right2=260,\n",
    "                             open_end_shift_length1=600, open_end_shift_length2=400,\n",
    "                             object1=sqd.xmon1, port1='crab_up',\n",
    "                             object2=sqd.coaxmon1, port2='coupler2',\n",
    "                             airbridge=airbridge, \n",
    "                             min_bridge_spacing_closed_end=150,min_bridge_spacing_open_end=150,\n",
    "                             port_orientation='left',\n",
    "                            meander_first_intend_orientation='right',object2_airbridges=True, meander_r=55)"
   ]
  },
  {
   "cell_type": "code",
   "execution_count": 9,
   "metadata": {
    "collapsed": true
   },
   "outputs": [],
   "source": [
    "g3,g4, par3, par4= auxfuncs.draw_double_resonator_plus_double_qubit(sqd.sample,\n",
    "                            sqd.coupler_start+900, sqd.central_line_y, sqd.coupler_length,\n",
    "                             sqd.resonator_core,sqd.resonator_gap,sqd.resonator_ground, \n",
    "                             sqd.tl_core, sqd.tl_gap, sqd.tl_ground, grounding_width=10,\n",
    "                             closed_end_meander_length1=2950,length_left1=260,length_right1=360,\n",
    "                              closed_end_meander_length2=2700,length_left2=360,length_right2=240,\n",
    "                             open_end_shift_length1=400, open_end_shift_length2=400,\n",
    "                             object1=sqd.coaxmon2, port1='coupler2',\n",
    "                             object2=sqd.coaxmon3, port2='coupler2',\n",
    "                             airbridge=airbridge, \n",
    "                             min_bridge_spacing_closed_end=150,min_bridge_spacing_open_end=150,\n",
    "                             port_orientation='left', object1_airbridges=True, object2_airbridges=True, meander_r=55)"
   ]
  },
  {
   "cell_type": "code",
   "execution_count": 10,
   "metadata": {},
   "outputs": [],
   "source": [
    "g5,g6, par5, par6= auxfuncs.draw_double_resonator_plus_double_qubit(sqd.sample,\n",
    "                            sqd.coupler_start+1750, sqd.central_line_y, sqd.coupler_length,\n",
    "                            sqd.resonator_core,sqd.resonator_gap,sqd.resonator_ground, \n",
    "                            sqd.tl_core, sqd.tl_gap, sqd.tl_ground, grounding_width=10,\n",
    "                            closed_end_meander_length1=2400,length_left1=250,length_right1=360,\n",
    "                            closed_end_meander_length2=1900,length_left2=360,length_right2=250,\n",
    "                            open_end_shift_length1=400, open_end_shift_length2=400,\n",
    "                            object1=sqd.xmon2, port1='crab_up',\n",
    "                            object2=sqd.coaxmon4, port2='coupler2',\n",
    "                            airbridge=airbridge, \n",
    "                            min_bridge_spacing_closed_end=150,min_bridge_spacing_open_end=150,\n",
    "                            port_orientation='left', object2_airbridges=True, meander_r=55)"
   ]
  },
  {
   "cell_type": "code",
   "execution_count": 3,
   "metadata": {
    "collapsed": true
   },
   "outputs": [],
   "source": [
    "g7, g8, _1, _2 = auxfuncs.draw_double_resonator(sqd.sample, \n",
    "                            sqd.coupler_start+2450, sqd.central_line_y, 180,\n",
    "                             sqd.resonator_core,sqd.resonator_gap,15, \n",
    "                             sqd.tl_core, sqd.tl_gap, sqd.tl_ground, grounding_width=20,\n",
    "                             closed_end_meander_length1=2200,length_left1=130,length_right1=140,\n",
    "                             closed_end_meander_length2=2300,length_left2=140,length_right2=130,\n",
    "                             open_end_length1=1000,open_end_length2=1000,port_orientation='left',\n",
    "                             airbridge=airbridge, \n",
    "                             min_bridge_spacing_closed_end=100,min_bridge_spacing_open_end=150, meander_r=55)"
   ]
  },
  {
   "cell_type": "markdown",
   "metadata": {},
   "source": [
    "# Connect resonators into feedline"
   ]
  },
  {
   "cell_type": "code",
   "execution_count": 11,
   "metadata": {},
   "outputs": [
    {
     "data": {
      "text/plain": [
       "[CPW \"right TLs0\", l=28.000]"
      ]
     },
     "execution_count": 11,
     "metadata": {},
     "output_type": "execute_result"
    }
   ],
   "source": [
    "sqd.sample.connect_cpw(o1=sqd.p1, o2=g1, port1='port', port2='narrow', name='right TL', points=[],\n",
    "                       airbridge=airbridge, min_spacing=150)\n",
    "sqd.sample.connect_cpw(o1=g2, o2=g3, port1='narrow', port2='narrow', name='right TL', points=[],\n",
    "                       airbridge=airbridge, min_spacing=150)\n",
    "sqd.sample.connect_cpw(o1=g4, o2=g5, port1='narrow', port2='narrow', name='right TL', points=[],\n",
    "                       airbridge=airbridge, min_spacing=150)\n",
    "sqd.sample.connect_cpw(o1=g6, o2=g7, port1='narrow', port2='narrow', name='right TL', points=[],\n",
    "                       airbridge=airbridge, min_spacing=150)\n",
    "sqd.sample.connect_cpw(o1=g8, o2=sqd.p2, port1='narrow', port2='port', name='right TL', points=[],\n",
    "                       airbridge=airbridge, min_spacing=150)"
   ]
  },
  {
   "cell_type": "code",
   "execution_count": 4,
   "metadata": {},
   "outputs": [
    {
     "data": {
      "text/plain": [
       "[CPW \"right TLs0\", l=28.000]"
      ]
     },
     "execution_count": 4,
     "metadata": {},
     "output_type": "execute_result"
    }
   ],
   "source": [
    "sqd.sample.connect_cpw(o1=sqd.p1, o2=g7, port1='port', port2='narrow', name='right TL', points=[],\n",
    "                       airbridge=airbridge, min_spacing=150)\n",
    "sqd.sample.connect_cpw(o1=g8, o2=sqd.p2, port1='narrow',port2='port', name='right TL', points=[],\n",
    "                       airbridge=airbridge, min_spacing=150)"
   ]
  },
  {
   "cell_type": "code",
   "execution_count": 5,
   "metadata": {},
   "outputs": [
    {
     "name": "stderr",
     "output_type": "stream",
     "text": [
      "C:\\Users\\Elena\\Anaconda3\\lib\\site-packages\\gdspy\\path.py:828: UserWarning: [GDSPY] Possible inconsistency found in `FlexPath` due to sharp corner.\n",
      "  \"[GDSPY] Possible inconsistency found in \"\n"
     ]
    }
   ],
   "source": [
    "sqd.sample.draw_cap()\n",
    "for i,qubit in enumerate(sqd.sample.qubits):\n",
    "    caps=sqd.sample.calculate_qubit_capacitance(cell= sqd.sample.qubit_cap_cells[i], qubit=sqd.sample.qubits[i],\n",
    "                                       mesh_volume=10)"
   ]
  },
  {
   "cell_type": "code",
   "execution_count": 6,
   "metadata": {},
   "outputs": [
    {
     "name": "stdout",
     "output_type": "stream",
     "text": [
      "Resonance frequencies are, GHz: [7.78793223 8.02195743]\n",
      "Kappas are, us^-1: [0.3332311  0.36730876]\n",
      "Quality factors are: [146844.10278823 137223.63912654]\n"
     ]
    }
   ],
   "source": [
    "sys, connections, elements_ = sqd.sample.get_tls(cutoff=2e11)\n",
    "f, delta, modes = sys.get_modes()\n",
    "num_modes=18\n",
    "(res_fr,kappa,_)=auxfuncs.search_for_resonators_qubits(f,delta,0,15)[:num_modes]"
   ]
  },
  {
   "cell_type": "markdown",
   "metadata": {},
   "source": [
    "# Connect contact pads"
   ]
  },
  {
   "cell_type": "code",
   "execution_count": 4,
   "metadata": {},
   "outputs": [],
   "source": [
    "flux_pads_coaxmons = [\n",
    "    (sqd.sample.qubits[1], sqd.pads_top[0], []),\n",
    "    (sqd.sample.qubits[2], sqd.pads_bottom[1], []),\n",
    "    (sqd.sample.qubits[3], sqd.pads_top[1], []),\n",
    "    (sqd.sample.qubits[5], sqd.pads_top[2], [])]\n",
    "\n",
    "flux_pads_xmons = [(sqd.sample.qubits[0], sqd.pads_bottom[0],[(1531,929)]),\n",
    "                  (sqd.sample.qubits[4], sqd.pads_bottom[2], [])]\n",
    "\n",
    "\n",
    "\n",
    "for coaxmon, pad, points in flux_pads_coaxmons:  \n",
    "    bridge, port = sqd.sample.airbridge(\n",
    "            coaxmon, 'flux', name='Airbridge over %s qubit flux coupler' % coaxmon.name, geometry=airbridge)\n",
    "    \n",
    "    narrowing_length = 25\n",
    "    flux_line_narrowing_position = sqd.sample.cpw_shift(bridge, port, narrowing_length/2)[0]\n",
    "\n",
    "    flux_line_narrowing = sqd.elements.Narrowing(name='flux_line_narrowing', position=flux_line_narrowing_position, \n",
    "                                             orientation=bridge.terminals[port].orientation+np.pi, \n",
    "                                             w1=bridge.terminals[port].w, \n",
    "                                             s1=bridge.terminals[port].s, g1=bridge.terminals[port].g,\n",
    "                                             w2=sqd.tl_core, s2=sqd.tl_gap, g2=sqd.tl_ground, \n",
    "                                             layer_configuration=sqd.sample.layer_configuration, length=narrowing_length)\n",
    "    sqd.sample.add(flux_line_narrowing)\n",
    "    sqd.sample.connect(flux_line_narrowing, 'port1', bridge, port)\n",
    "    sqd.sample.connect_cpw(pad, flux_line_narrowing, 'port', 'port2', 'flux_control_line_qubit_'+coaxmon.name, points=points,\n",
    "                          airbridge=airbridge, min_spacing=100, r=80)\n",
    "#     sqd.sample.connect_cpw(pad, flux_line_narrowing, 'port', 'port2', 'flux_control5', points=points)\n",
    "    \n",
    "for xmon, pad, points in flux_pads_xmons:  \n",
    "    bridge, port = sqd.sample.airbridge(\n",
    "            xmon, 'flux', name='Airbridge over %s qubit flux coupler' % coaxmon.name, geometry=airbridge)\n",
    "    \n",
    "    narrowing_length = 25\n",
    "    flux_line_narrowing_position = sqd.sample.cpw_shift(bridge, port, narrowing_length/2)[0]\n",
    "    \n",
    "    flux_line_narrowing = sqd.elements.Narrowing(name='flux_line_narrowing', position=flux_line_narrowing_position, \n",
    "                                             orientation=bridge.terminals[port].orientation+np.pi, \n",
    "                                             w1=bridge.terminals[port].w, \n",
    "                                             s1=bridge.terminals[port].s, g1=bridge.terminals[port].g,\n",
    "                                             w2=sqd.tl_core, s2=sqd.tl_gap, g2=sqd.tl_ground, \n",
    "                                             layer_configuration=sqd.sample.layer_configuration, length=narrowing_length)\n",
    "    sqd.sample.add(flux_line_narrowing)\n",
    "    sqd.sample.connect(flux_line_narrowing, 'port1', bridge, port)\n",
    "#     sqd.sample.connect_cpw(pad, flux_line_narrowing, 'port', 'port2', 'flux_control5', points=points)\n",
    "    sqd.sample.connect_cpw(pad, flux_line_narrowing, 'port', 'port2', 'flux_control_line_qubit_'+xmon.name, points=points,\n",
    "                          airbridge=airbridge, min_spacing=100, r=80)"
   ]
  },
  {
   "cell_type": "code",
   "execution_count": 11,
   "metadata": {
    "collapsed": true
   },
   "outputs": [],
   "source": [
    "grid_ground = elements.GridGround(sqd.sample.chip_geometry, sqd.sample.layer_configuration, sqd.sample.objects, \n",
    "                                  width=4, period=25)\n",
    "sqd.sample.add(grid_ground)"
   ]
  },
  {
   "cell_type": "code",
   "execution_count": 5,
   "metadata": {},
   "outputs": [],
   "source": [
    "sqd.sample.draw_design()\n",
    "sqd.sample.watch()"
   ]
  },
  {
   "cell_type": "code",
   "execution_count": 15,
   "metadata": {},
   "outputs": [
    {
     "name": "stdout",
     "output_type": "stream",
     "text": [
      "Gds file has been writen here:  D:\\Documents-cloud\\qubits\\simulation\\QCreator\\designs\\Single_qubit_design\\1Q_test.gds\n"
     ]
    }
   ],
   "source": [
    "sqd.sample.write_to_gds()"
   ]
  },
  {
   "cell_type": "code",
   "execution_count": 8,
   "metadata": {},
   "outputs": [
    {
     "name": "stdout",
     "output_type": "stream",
     "text": [
      "('up',)\n",
      "Resonance frequencies are, GHz: [6.61671305 6.81201887]\n",
      "Kappas are, us^-1: [0.00517315 0.00608158]\n",
      "Quality factors are: [8036500.51541977 7037838.7546899 ]\n"
     ]
    },
    {
     "name": "stderr",
     "output_type": "stream",
     "text": [
      "C:\\Users\\Elena\\Anaconda3\\lib\\site-packages\\numpy\\core\\_asarray.py:83: VisibleDeprecationWarning: Creating an ndarray from ragged nested sequences (which is a list-or-tuple of lists-or-tuples-or ndarrays with different lengths or shapes) is deprecated. If you meant to do this, you must specify 'dtype=object' when creating the ndarray\n",
      "  return array(a, dtype, copy=False, order=order)\n"
     ]
    }
   ],
   "source": [
    "sys, connections, elements_ = sqd.sample.get_tls(cutoff=2e11)\n",
    "f, delta, modes = sys.get_modes()\n",
    "num_modes=18\n",
    "(res_fr,kappa,_)=auxfuncs.search_for_resonators_qubits(f,delta,0,15)[:num_modes]"
   ]
  },
  {
   "cell_type": "code",
   "execution_count": 10,
   "metadata": {},
   "outputs": [
    {
     "data": {
      "text/plain": [
       "(196.07843137254903, 166.66666666666666)"
      ]
     },
     "execution_count": 10,
     "metadata": {},
     "output_type": "execute_result"
    }
   ],
   "source": [
    "1e3/5.1, 1e3/6"
   ]
  },
  {
   "cell_type": "code",
   "execution_count": 12,
   "metadata": {},
   "outputs": [
    {
     "name": "stdout",
     "output_type": "stream",
     "text": [
      "Gds file has been writen here:  E:\\Github2.0\\QCreator\\designs\\Single_qubit_design\\1Q_test.gds\n"
     ]
    }
   ],
   "source": [
    "sqd.sample.write_to_gds()"
   ]
  },
  {
   "cell_type": "markdown",
   "metadata": {},
   "source": [
    "# Simulations"
   ]
  },
  {
   "cell_type": "code",
   "execution_count": 17,
   "metadata": {},
   "outputs": [
    {
     "name": "stdout",
     "output_type": "stream",
     "text": [
      "('down',)\n",
      "('up',)\n"
     ]
    },
    {
     "name": "stderr",
     "output_type": "stream",
     "text": [
      "C:\\ProgramData\\Anaconda3\\envs\\py38\\lib\\site-packages\\numpy\\core\\_asarray.py:83: VisibleDeprecationWarning: Creating an ndarray from ragged nested sequences (which is a list-or-tuple of lists-or-tuples-or ndarrays with different lengths or shapes) is deprecated. If you meant to do this, you must specify 'dtype=object' when creating the ndarray\n",
      "  return array(a, dtype, copy=False, order=order)\n"
     ]
    }
   ],
   "source": [
    "sys, connections, elements_ = sqd.sample.get_tls(cutoff=2e11)\n",
    "f, delta, modes = sys.get_modes()"
   ]
  },
  {
   "cell_type": "code",
   "execution_count": 15,
   "metadata": {},
   "outputs": [
    {
     "name": "stdout",
     "output_type": "stream",
     "text": [
      "('down',)\n",
      "('up',)\n"
     ]
    },
    {
     "name": "stderr",
     "output_type": "stream",
     "text": [
      "C:\\Users\\di82dac\\Anaconda3\\envs\\qcreator\\lib\\site-packages\\numpy\\core\\_asarray.py:102: VisibleDeprecationWarning: Creating an ndarray from ragged nested sequences (which is a list-or-tuple of lists-or-tuples-or ndarrays with different lengths or shapes) is deprecated. If you meant to do this, you must specify 'dtype=object' when creating the ndarray.\n",
      "  return array(a, dtype, copy=False, order=order)\n"
     ]
    },
    {
     "name": "stdout",
     "output_type": "stream",
     "text": [
      "Resonance frequencies are, GHz/2pi: [4.52133462 4.52175859 5.82822274 5.94357465 6.23383628 6.35672523\n",
      " 6.52010911 6.64402013 6.6797905  7.37947516 7.56410607]\n",
      "Kappas are, MHz/2pi: [2.93866718e-04 2.43155157e-04 1.81923200e-01 2.07586056e-01\n",
      " 2.21566789e-01 2.56018345e-01 1.80268100e-01 2.77791952e-01\n",
      " 1.00374634e-01 2.75055002e-02 3.00510816e-02]\n",
      "Quality factors are: [7692832.07148414 9298093.10784708   16018.36037189   14315.92940673\n",
      "   14067.62338358   12414.58934844   18084.47836791   11958.62601791\n",
      "   33274.29567177  134145.44538219  125854.13991798]\n"
     ]
    }
   ],
   "source": [
    "num_modes=18\n",
    "(res_fr,kappa,_)=auxfuncs.search_for_resonators_qubits(f,delta,0,15)[:num_modes]"
   ]
  },
  {
   "cell_type": "code",
   "execution_count": 20,
   "metadata": {},
   "outputs": [
    {
     "ename": "AttributeError",
     "evalue": "module 'Single_qubit_design' has no attribute 'search_for_resonators_qubits'",
     "output_type": "error",
     "traceback": [
      "\u001b[1;31m---------------------------------------------------------------------------\u001b[0m",
      "\u001b[1;31mAttributeError\u001b[0m                            Traceback (most recent call last)",
      "\u001b[1;32m<ipython-input-20-08e7aae9defa>\u001b[0m in \u001b[0;36m<module>\u001b[1;34m()\u001b[0m\n\u001b[0;32m      1\u001b[0m \u001b[0mnum_modes\u001b[0m\u001b[1;33m=\u001b[0m\u001b[1;36m18\u001b[0m\u001b[1;33m\u001b[0m\u001b[0m\n\u001b[1;32m----> 2\u001b[1;33m \u001b[1;33m(\u001b[0m\u001b[0mres_fr\u001b[0m\u001b[1;33m,\u001b[0m\u001b[0mkappa\u001b[0m\u001b[1;33m,\u001b[0m\u001b[0m_\u001b[0m\u001b[1;33m)\u001b[0m\u001b[1;33m=\u001b[0m\u001b[0msqd\u001b[0m\u001b[1;33m.\u001b[0m\u001b[0msearch_for_resonators_qubits\u001b[0m\u001b[1;33m(\u001b[0m\u001b[0mf\u001b[0m\u001b[1;33m,\u001b[0m\u001b[0mdelta\u001b[0m\u001b[1;33m,\u001b[0m\u001b[1;36m0\u001b[0m\u001b[1;33m,\u001b[0m\u001b[1;36m15\u001b[0m\u001b[1;33m)\u001b[0m\u001b[1;33m[\u001b[0m\u001b[1;33m:\u001b[0m\u001b[0mnum_modes\u001b[0m\u001b[1;33m]\u001b[0m\u001b[1;33m\u001b[0m\u001b[0m\n\u001b[0m",
      "\u001b[1;31mAttributeError\u001b[0m: module 'Single_qubit_design' has no attribute 'search_for_resonators_qubits'"
     ]
    }
   ],
   "source": [
    "num_modes=18\n",
    "(res_fr,kappa,_)=sqd.search_for_resonators_qubits(f,delta,0,15)[:num_modes]"
   ]
  },
  {
   "cell_type": "markdown",
   "metadata": {},
   "source": [
    "# Get s21 parameters"
   ]
  },
  {
   "cell_type": "code",
   "execution_count": null,
   "metadata": {
    "collapsed": true
   },
   "outputs": [],
   "source": [
    "f_ = np.linspace(6.9e9, 7.1e9, 2001)\n",
    "# s11 = sample.get_s21('p1', 'p1', f_)\n",
    "s11 = sample.get_s21('pad-left-0', 'pad-right-0', f_)"
   ]
  },
  {
   "cell_type": "code",
   "execution_count": null,
   "metadata": {
    "collapsed": true
   },
   "outputs": [],
   "source": [
    "import resonator_tools\n",
    "from resonator_tools.circuit import notch_port, reflection_port"
   ]
  },
  {
   "cell_type": "code",
   "execution_count": null,
   "metadata": {
    "collapsed": true
   },
   "outputs": [],
   "source": [
    "fitter = notch_port(f_data=f_, z_data_raw=s11)\n",
    "fitter.autofit()"
   ]
  },
  {
   "cell_type": "code",
   "execution_count": null,
   "metadata": {
    "collapsed": true
   },
   "outputs": [],
   "source": [
    "fitter.plotall()"
   ]
  },
  {
   "cell_type": "code",
   "execution_count": null,
   "metadata": {
    "collapsed": true
   },
   "outputs": [],
   "source": [
    "fitter.fitresults"
   ]
  },
  {
   "cell_type": "markdown",
   "metadata": {},
   "source": [
    "# Estimate qubit-resonator parameters"
   ]
  },
  {
   "cell_type": "code",
   "execution_count": 10,
   "metadata": {},
   "outputs": [
    {
     "data": {
      "text/plain": [
       "{'g': (97.56920699063008, 'MHz/2pi')}"
      ]
     },
     "execution_count": 10,
     "metadata": {},
     "output_type": "execute_result"
    }
   ],
   "source": [
    "auxfuncs.get_grounded_qubit_resonator_coupling(par1,sqd.coaxmon1,'coupler2',res_fr[rfr_ind],res_fr[qfr_ind])"
   ]
  },
  {
   "cell_type": "code",
   "execution_count": 8,
   "metadata": {},
   "outputs": [
    {
     "name": "stdout",
     "output_type": "stream",
     "text": [
      "Qubit- resonator detuning: -1.639939457106264\n",
      "{'g': (43.560879755758094, 'MHz/2pi'), 'alpha': (-267.54460393175583, 'MHz/2pi'), 'chi': (-0.1622933585272724, 'MHz/2pi'), 'T': (12487.164368738844, 'us'), 'protection ratio': 1417.30182371981} 6.07019672640302 4.430257269296756\n",
      "Qubit- resonator detuning: -2.089685460140843\n",
      "{'g': (96.61469579379391, 'MHz/2pi'), 'alpha': (-280.3216978966588, 'MHz/2pi'), 'chi': (-0.5283388151441436, 'MHz/2pi'), 'T': (3262.4229563051404, 'us'), 'protection ratio': 467.8164191318839} 6.623187340914859 4.533501880774016\n"
     ]
    }
   ],
   "source": [
    "#min qubit freqs setup, first pair\n",
    "res1 = 2\n",
    "q1 = 0\n",
    "res2 = 3\n",
    "q2 = 1\n",
    "\n",
    "res_indxs = [[res1, q1, sqd.xmon1, 'crab_up', par1], [res2, q2, sqd.coaxmon1, 'coupler2', par2]]\n",
    "for i in res_indxs:\n",
    "    print(auxfuncs.get_grounded_qubit_resonator_parameters(i[4],i[2],i[3],res_fr[i[0]],res_fr[i[1]],kappa[i[0]]), res_fr[i[0]],res_fr[i[1]])"
   ]
  },
  {
   "cell_type": "code",
   "execution_count": 8,
   "metadata": {},
   "outputs": [
    {
     "name": "stdout",
     "output_type": "stream",
     "text": [
      "Qubit- resonator detuning: -1.0091511765875056\n",
      "{'g': (41.73626277024678, 'MHz/2pi'), 'alpha': (-267.54460393175583, 'MHz/2pi'), 'chi': (-0.3617259436652967, 'MHz/2pi'), 'T': (6426.183451702276, 'us'), 'protection ratio': 584.635719235214} 5.660348601932248 4.651197425344742\n",
      "Qubit- resonator detuning: -1.864102479084064\n",
      "{'g': (98.99889861562147, 'MHz/2pi'), 'alpha': (-280.3216978966588, 'MHz/2pi'), 'chi': (-0.6872851526849144, 'MHz/2pi'), 'T': (2476.7135991298005, 'us'), 'protection ratio': 354.5511040212878} 6.623727423636023 4.759624944551959\n"
     ]
    }
   ],
   "source": [
    "#max qubit freqs setup, first pair\n",
    "res1 = 2\n",
    "q1 = 0\n",
    "res2 = 3\n",
    "q2 = 1\n",
    "\n",
    "res_indxs = [[res1, q1, sqd.xmon1, 'crab_up', par1], [res2, q2, sqd.coaxmon1, 'coupler2', par2]]\n",
    "for i in res_indxs:\n",
    "    print(auxfuncs.get_grounded_qubit_resonator_parameters(i[4],i[2],i[3],res_fr[i[0]],res_fr[i[1]],kappa[i[0]]), res_fr[i[0]],res_fr[i[1]])"
   ]
  },
  {
   "cell_type": "code",
   "execution_count": 8,
   "metadata": {},
   "outputs": [
    {
     "name": "stdout",
     "output_type": "stream",
     "text": [
      "Qubit- resonator detuning: -1.9343645178641076\n",
      "{'g': (113.14489842545753, 'MHz/2pi'), 'alpha': (-150.27330740619954, 'MHz/2pi'), 'chi': (-0.4770708354163282, 'MHz/2pi'), 'T': (2224.5164513586988, 'us'), 'protection ratio': 292.2851028362525} 6.275914212133671 4.341549694269563\n",
      "Qubit- resonator detuning: -2.3483086423800446\n",
      "{'g': (100.57485543341393, 'MHz/2pi'), 'alpha': (-280.3216978966588, 'MHz/2pi'), 'chi': (-0.45935754724702704, 'MHz/2pi'), 'T': (3088.659377984026, 'us'), 'protection ratio': 545.1694598621409} 6.881939248111961 4.533630605731917\n"
     ]
    }
   ],
   "source": [
    "#min qubit freqs setup, second pair\n",
    "res3 = 2\n",
    "q3 = 0\n",
    "res4 = 3\n",
    "q4 = 1\n",
    "\n",
    "res_indxs = [[res3, q3, sqd.coaxmon2, 'coupler2', par3],[res4, q4, sqd.coaxmon3 , 'coupler2', par4]]\n",
    "for i in res_indxs:\n",
    "    print(auxfuncs.get_grounded_qubit_resonator_parameters(i[4],i[2],i[3],res_fr[i[0]],res_fr[i[1]],kappa[i[0]]), res_fr[i[0]],res_fr[i[1]])"
   ]
  },
  {
   "cell_type": "code",
   "execution_count": 8,
   "metadata": {},
   "outputs": [
    {
     "name": "stdout",
     "output_type": "stream",
     "text": [
      "Qubit- resonator detuning: -1.5174552393323424\n",
      "{'g': (118.4825577328822, 'MHz/2pi'), 'alpha': (-150.27330740619954, 'MHz/2pi'), 'chi': (-0.8335841239678518, 'MHz/2pi'), 'T': (1249.4812375114207, 'us'), 'protection ratio': 164.02986864525178} 6.277268767937512 4.75981352860517\n",
      "Qubit- resonator detuning: -2.211404343729134\n",
      "{'g': (102.0910552334349, 'MHz/2pi'), 'alpha': (-280.3216978966588, 'MHz/2pi'), 'chi': (-0.5302292125157887, 'MHz/2pi'), 'T': (2658.8224343501233, 'us'), 'protection ratio': 469.2031629137821} 6.882426552331257 4.671022208602123\n"
     ]
    }
   ],
   "source": [
    "#max qubit freqs setup, second pair\n",
    "res3 = 2\n",
    "q3 = 1\n",
    "res4 = 3\n",
    "q4 = 0\n",
    "\n",
    "res_indxs = [[res3, q3, sqd.coaxmon2, 'coupler2', par3],[res4, q4, sqd.coaxmon3 , 'coupler2', par4]]\n",
    "for i in res_indxs:\n",
    "    print(auxfuncs.get_grounded_qubit_resonator_parameters(i[4],i[2],i[3],res_fr[i[0]],res_fr[i[1]],kappa[i[0]]), res_fr[i[0]],res_fr[i[1]])"
   ]
  },
  {
   "cell_type": "code",
   "execution_count": 8,
   "metadata": {},
   "outputs": [
    {
     "name": "stdout",
     "output_type": "stream",
     "text": [
      "Qubit- resonator detuning: -2.7004032629140395\n",
      "{'g': (49.577418903139716, 'MHz/2pi'), 'alpha': (-266.8075664553598, 'MHz/2pi'), 'chi': (-0.08184439408328922, 'MHz/2pi'), 'T': (13748.801331965833, 'us'), 'protection ratio': 2966.8078710870077} 7.158306798266886 4.4579035353528464\n",
      "Qubit- resonator detuning: -3.9031358843247874\n",
      "{'g': (127.33670251618406, 'MHz/2pi'), 'alpha': (-279.9166087378485, 'MHz/2pi'), 'chi': (-0.27798981260166666, 'MHz/2pi'), 'T': (2643.050356503504, 'us'), 'protection ratio': 939.5505339857126} 8.468410629059159 4.565274744734372\n"
     ]
    }
   ],
   "source": [
    "#min qubit freqs setup, third pair\n",
    "res5 = 2\n",
    "q5 = 0\n",
    "res6 = 3\n",
    "q6 = 1\n",
    "\n",
    "res_indxs = [[res5, q5, sqd.xmon2, 'crab_up', par5], [res6, q6, sqd.coaxmon4, 'coupler2', par6]]\n",
    "for i in res_indxs:\n",
    "    print(auxfuncs.get_grounded_qubit_resonator_parameters(i[4],i[2],i[3],res_fr[i[0]],res_fr[i[1]],kappa[i[0]]), res_fr[i[0]],res_fr[i[1]])"
   ]
  },
  {
   "cell_type": "code",
   "execution_count": 8,
   "metadata": {},
   "outputs": [
    {
     "name": "stdout",
     "output_type": "stream",
     "text": [
      "Qubit- resonator detuning: -0.5547439036440975\n",
      "{'g': (60.37997377791513, 'MHz/2pi'), 'alpha': (-266.8075664553598, 'MHz/2pi'), 'chi': (-2.1343059075223194, 'MHz/2pi'), 'T': (394.2935700477071, 'us'), 'protection ratio': 84.41103713262197} 7.1628193343228705 6.608075430678773\n",
      "Qubit- resonator detuning: -1.7090568434849995\n",
      "{'g': (155.08054021737527, 'MHz/2pi'), 'alpha': (-279.9166087378485, 'MHz/2pi'), 'chi': (-1.9804221917528417, 'MHz/2pi'), 'T': (342.76592680541097, 'us'), 'protection ratio': 121.45024771485839} 8.475070932396289 6.766014088911289\n"
     ]
    }
   ],
   "source": [
    "#max qubit freqs setup, third pair\n",
    "res5 = 2\n",
    "q5 = 0\n",
    "res6 = 3\n",
    "q6 = 1\n",
    "\n",
    "res_indxs = [[res5, q5, sqd.xmon2, 'crab_up', par5], [res6, q6, sqd.coaxmon4, 'coupler2', par6]]\n",
    "for i in res_indxs:\n",
    "    print(auxfuncs.get_grounded_qubit_resonator_parameters(i[4],i[2],i[3],res_fr[i[0]],res_fr[i[1]],kappa[i[0]]), res_fr[i[0]],res_fr[i[1]])"
   ]
  },
  {
   "cell_type": "code",
   "execution_count": 12,
   "metadata": {},
   "outputs": [
    {
     "name": "stdout",
     "output_type": "stream",
     "text": [
      "From AWR protection ratio is: 28.397216442594896\n"
     ]
    }
   ],
   "source": [
    "print(\"From AWR protection ratio is:\", kappa[rfr_ind]/kappa[qfr_ind])"
   ]
  },
  {
   "cell_type": "markdown",
   "metadata": {},
   "source": [
    "# Tests"
   ]
  },
  {
   "cell_type": "code",
   "execution_count": 10,
   "metadata": {
    "collapsed": true
   },
   "outputs": [],
   "source": [
    "g5,g6,res= sqd.draw_single_resonator(sqd.sample,sqd.elements,\n",
    "                            sqd.coupler_start+1500, sqd.central_line_y, sqd.coupler_length,\n",
    "                             sqd.resonator_core,sqd.resonator_gap,sqd.resonator_ground,\n",
    "                             sqd.tl_core, sqd.tl_gap, sqd.tl_ground, grounding_width=10,\n",
    "                             closed_end_meander_length=3000,length_left=400,length_right=400,\n",
    "                             open_end_legth=800,\n",
    "                             port_orientation='right', direction_orientation='up')"
   ]
  }
 ],
 "metadata": {
  "kernelspec": {
   "display_name": "Python 3",
   "language": "python",
   "name": "python3"
  },
  "language_info": {
   "codemirror_mode": {
    "name": "ipython",
    "version": 3
   },
   "file_extension": ".py",
   "mimetype": "text/x-python",
   "name": "python",
   "nbconvert_exporter": "python",
   "pygments_lexer": "ipython3",
   "version": "3.6.3"
  }
 },
 "nbformat": 4,
 "nbformat_minor": 4
}
