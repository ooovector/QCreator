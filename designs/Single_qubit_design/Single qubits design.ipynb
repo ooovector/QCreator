{
 "cells": [
  {
   "cell_type": "code",
   "execution_count": 1,
   "metadata": {},
   "outputs": [],
   "source": [
    "from importlib import reload\n",
    "import numpy as np\n",
    "from matplotlib import pyplot as plt\n",
    "import Single_qubit_design as sqd\n",
    "import QCreator.auxiliary_functions as auxfuncs\n",
    "import QCreator.elements as elements"
   ]
  },
  {
   "cell_type": "code",
   "execution_count": 2,
   "metadata": {},
   "outputs": [
    {
     "data": {
      "text/plain": [
       "<module 'Single_qubit_design' from 'D:\\\\Documents-cloud\\\\qubits\\\\simulation\\\\QCreator\\\\designs\\\\Single_qubit_design\\\\Single_qubit_design.py'>"
      ]
     },
     "execution_count": 2,
     "metadata": {},
     "output_type": "execute_result"
    }
   ],
   "source": [
    "reload(sqd)"
   ]
  },
  {
   "cell_type": "code",
   "execution_count": 3,
   "metadata": {},
   "outputs": [],
   "source": [
    "sqd.sample.add(sqd.coaxmon1)\n",
    "sqd.sample.add(sqd.coaxmon2)\n",
    "sqd.sample.add(sqd.coaxmon3)\n",
    "sqd.sample.add(sqd.coaxmon4)\n",
    "sqd.sample.add(sqd.xmon1)\n",
    "sqd.sample.add(sqd.xmon2)\n",
    "sqd.sample.draw_design()"
   ]
  },
  {
   "cell_type": "code",
   "execution_count": 4,
   "metadata": {},
   "outputs": [],
   "source": [
    "airbridge = elements.AirBridgeGeometry(pad_width = 36,pad_length = 22,pad_distance = 62,\n",
    "                                      narrow_width = 20, narrow_length = 46, sm_pad_length = 10,\n",
    "                                      sm_pad_distance = 70, layer_configuration = sqd.sample.layer_configuration)"
   ]
  },
  {
   "cell_type": "code",
   "execution_count": null,
   "metadata": {},
   "outputs": [],
   "source": [
    "sqd.sample.draw_design()\n",
    "sqd.sample.watch()"
   ]
  },
  {
   "cell_type": "markdown",
   "metadata": {},
   "source": [
    "# Draw a qubit design"
   ]
  },
  {
   "cell_type": "code",
   "execution_count": null,
   "metadata": {},
   "outputs": [],
   "source": [
    "g1,g2, par1, par2= auxfuncs.draw_double_resonator_plus_double_qubit(sqd.sample,\n",
    "                            sqd.coupler_start, sqd.central_line_y, sqd.coupler_length,\n",
    "                             sqd.resonator_core,sqd.resonator_gap,sqd.resonator_ground, \n",
    "                             sqd.tl_core, sqd.tl_gap, sqd.tl_ground, grounding_width=10,\n",
    "                             closed_end_meander_length1=3800,length_left1=250,length_right1=360,\n",
    "                             closed_end_meander_length2=3400,length_left2=360,length_right2=260,\n",
    "                             open_end_shift_length1=600, open_end_shift_length2=400,\n",
    "                             object1=sqd.xmon1, port1='crab_up',\n",
    "                             object2=sqd.coaxmon1, port2='coupler2',\n",
    "                             airbridge=airbridge, \n",
    "                             min_bridge_spacing_closed_end=150,min_bridge_spacing_open_end=150,\n",
    "                             port_orientation='left',\n",
    "                            meander_first_intend_orientation='right',object2_airbridges=True, meander_r=55)"
   ]
  },
  {
   "cell_type": "code",
   "execution_count": null,
   "metadata": {},
   "outputs": [],
   "source": [
    "g3,g4, par3, par4= auxfuncs.draw_double_resonator_plus_double_qubit(sqd.sample,\n",
    "                            sqd.coupler_start+900, sqd.central_line_y, sqd.coupler_length,\n",
    "                             sqd.resonator_core,sqd.resonator_gap,sqd.resonator_ground, \n",
    "                             sqd.tl_core, sqd.tl_gap, sqd.tl_ground, grounding_width=10,\n",
    "                             closed_end_meander_length1=3150,length_left1=260,length_right1=360,\n",
    "                              closed_end_meander_length2=3050,length_left2=360,length_right2=240,\n",
    "                             open_end_shift_length1=400, open_end_shift_length2=400,\n",
    "                             object1=sqd.coaxmon2, port1='coupler2',\n",
    "                             object2=sqd.coaxmon3, port2='coupler2',\n",
    "                             airbridge=airbridge, \n",
    "                             min_bridge_spacing_closed_end=150,min_bridge_spacing_open_end=150,\n",
    "                             port_orientation='left', object1_airbridges=True, object2_airbridges=True, meander_r=55)"
   ]
  },
  {
   "cell_type": "code",
   "execution_count": null,
   "metadata": {},
   "outputs": [],
   "source": [
    "g5,g6, par5, par6= auxfuncs.draw_double_resonator_plus_double_qubit(sqd.sample,\n",
    "                            sqd.coupler_start+1750, sqd.central_line_y, sqd.coupler_length,\n",
    "                            sqd.resonator_core,sqd.resonator_gap,sqd.resonator_ground, \n",
    "                            sqd.tl_core, sqd.tl_gap, sqd.tl_ground, grounding_width=10,\n",
    "                            closed_end_meander_length1=2800,length_left1=250,length_right1=360,\n",
    "                            closed_end_meander_length2=2200,length_left2=360,length_right2=250,\n",
    "                            open_end_shift_length1=400, open_end_shift_length2=400,\n",
    "                            object1=sqd.xmon2, port1='crab_up',\n",
    "                            object2=sqd.coaxmon4, port2='coupler2',\n",
    "                            airbridge=airbridge, \n",
    "                            min_bridge_spacing_closed_end=150,min_bridge_spacing_open_end=150,\n",
    "                            port_orientation='left', object2_airbridges=True, meander_r=55)"
   ]
  },
  {
   "cell_type": "code",
   "execution_count": 9,
   "metadata": {},
   "outputs": [],
   "source": [
    "g7, g8, _1, _2 = auxfuncs.draw_double_resonator(sqd.sample, \n",
    "                            sqd.coupler_start+2450, sqd.central_line_y, 180,\n",
    "                             sqd.resonator_core,sqd.resonator_gap,15, \n",
    "                             sqd.tl_core, sqd.tl_gap, sqd.tl_ground, grounding_width=20,\n",
    "                             closed_end_meander_length1=2300,length_left1=130,length_right1=140,\n",
    "                             closed_end_meander_length2=2400,length_left2=140,length_right2=130,\n",
    "                             open_end_length1=1000,open_end_length2=1000,port_orientation='left',\n",
    "                             airbridge=airbridge, \n",
    "                             min_bridge_spacing_closed_end=100,min_bridge_spacing_open_end=150, meander_r=55)"
   ]
  },
  {
   "cell_type": "markdown",
   "metadata": {},
   "source": [
    "# Connect resonators into feedline"
   ]
  },
  {
   "cell_type": "code",
   "execution_count": 10,
   "metadata": {},
   "outputs": [
    {
     "data": {
      "text/plain": [
       "[CPW \"right TLs0\", l=28.000]"
      ]
     },
     "execution_count": 10,
     "metadata": {},
     "output_type": "execute_result"
    }
   ],
   "source": [
    "sqd.sample.connect_cpw(o1=sqd.p1, o2=g1, port1='port', port2='narrow', name='right TL', points=[],\n",
    "                       airbridge=airbridge, min_spacing=150)\n",
    "sqd.sample.connect_cpw(o1=g2, o2=g3, port1='narrow', port2='narrow', name='right TL', points=[],\n",
    "                       airbridge=airbridge, min_spacing=150)\n",
    "sqd.sample.connect_cpw(o1=g4, o2=g5, port1='narrow', port2='narrow', name='right TL', points=[],\n",
    "                       airbridge=airbridge, min_spacing=150)\n",
    "sqd.sample.connect_cpw(o1=g6, o2=g7, port1='narrow', port2='narrow', name='right TL', points=[],\n",
    "                       airbridge=airbridge, min_spacing=150)\n",
    "sqd.sample.connect_cpw(o1=g8, o2=sqd.p2, port1='narrow', port2='port', name='right TL', points=[],\n",
    "                       airbridge=airbridge, min_spacing=150)"
   ]
  },
  {
   "cell_type": "code",
   "execution_count": 11,
   "metadata": {},
   "outputs": [],
   "source": [
    "# sqd.sample.connect_cpw(o1=sqd.p1, o2=g3, port1='port', port2='narrow', name='right TL', points=[],\n",
    "#                        airbridge=airbridge, min_spacing=150)\n",
    "# sqd.sample.connect_cpw(o1=g4, o2=sqd.p2, port1='narrow',port2='port', name='right TL', points=[],\n",
    "#                        airbridge=airbridge, min_spacing=150)"
   ]
  },
  {
   "cell_type": "code",
   "execution_count": 12,
   "metadata": {},
   "outputs": [
    {
     "name": "stderr",
     "output_type": "stream",
     "text": [
      "C:\\ProgramData\\Anaconda3\\envs\\py38\\lib\\site-packages\\gdspy\\path.py:827: UserWarning: [GDSPY] Possible inconsistency found in `FlexPath` due to sharp corner.\n",
      "  warnings.warn(\n"
     ]
    },
    {
     "name": "stdout",
     "output_type": "stream",
     "text": [
      "Gds file has been writen here:  D:\\Documents-cloud\\qubits\\simulation\\QCreator\\designs\\Single_qubit_design\\1Q_test.gds\n",
      "For 0 conductor total length is:  13500\n",
      "For 1 conductor total length is:  4885\n",
      "For 2 conductor total length is:  846\n",
      "Sum : 19231\n",
      "Data has been written into the file: D:\\Documents-cloud\\qubits\\simulation\\QCreator\\designs\\Single_qubit_design\\mesh_4k_data\n",
      "Time for fastcap job is:  2.2801384925842285\n",
      "Capacitance results have been writen here:  D:\\Documents-cloud\\qubits\\simulation\\QCreator\\designs\\Single_qubit_design\\mesh_4k_results\n",
      "Capacitance value in:  nanofarads\n",
      "[<map object at 0x00000150B03E3610>, <map object at 0x00000150AE085F40>, <map object at 0x00000150ABD1A310>]\n",
      "       0     1     2\n",
      "0  149.0 -45.8 -14.3\n",
      "1  -45.8  64.3  -4.9\n",
      "2  -14.3  -4.9  24.3\n",
      "Gds file has been writen here:  D:\\Documents-cloud\\qubits\\simulation\\QCreator\\designs\\Single_qubit_design\\1Q_test.gds\n",
      "For 0 conductor total length is:  18557\n",
      "For 1 conductor total length is:  14161\n",
      "For 2 conductor total length is:  1179\n",
      "Sum : 33897\n",
      "Data has been written into the file: D:\\Documents-cloud\\qubits\\simulation\\QCreator\\designs\\Single_qubit_design\\mesh_4k_data\n",
      "Time for fastcap job is:  4.046496629714966\n",
      "Capacitance results have been writen here:  D:\\Documents-cloud\\qubits\\simulation\\QCreator\\designs\\Single_qubit_design\\mesh_4k_results\n",
      "Capacitance value in:  nanofarads\n",
      "[<map object at 0x00000150B13FD820>, <map object at 0x00000150B13FD640>, <map object at 0x00000150B13FD4C0>]\n",
      "       0      1     2\n",
      "0  203.6  -83.9 -15.5\n",
      "1  -83.9  120.6  -8.3\n",
      "2  -15.5   -8.3  29.7\n",
      "Gds file has been writen here:  D:\\Documents-cloud\\qubits\\simulation\\QCreator\\designs\\Single_qubit_design\\1Q_test.gds\n",
      "For 0 conductor total length is:  13549\n",
      "For 1 conductor total length is:  4892\n",
      "For 2 conductor total length is:  847\n",
      "Sum : 19288\n",
      "Data has been written into the file: D:\\Documents-cloud\\qubits\\simulation\\QCreator\\designs\\Single_qubit_design\\mesh_4k_data\n",
      "Time for fastcap job is:  2.353823661804199\n",
      "Capacitance results have been writen here:  D:\\Documents-cloud\\qubits\\simulation\\QCreator\\designs\\Single_qubit_design\\mesh_4k_results\n",
      "Capacitance value in:  nanofarads\n",
      "[<map object at 0x00000150B13FD3D0>, <map object at 0x00000150B13FD9A0>, <map object at 0x00000150B13FD730>]\n",
      "       0     1     2\n",
      "0  149.0 -45.8 -14.3\n",
      "1  -45.8  64.3  -4.9\n",
      "2  -14.3  -4.9  24.3\n",
      "Gds file has been writen here:  D:\\Documents-cloud\\qubits\\simulation\\QCreator\\designs\\Single_qubit_design\\1Q_test.gds\n",
      "For 0 conductor total length is:  13678\n",
      "For 1 conductor total length is:  4892\n",
      "For 2 conductor total length is:  847\n",
      "Sum : 19417\n",
      "Data has been written into the file: D:\\Documents-cloud\\qubits\\simulation\\QCreator\\designs\\Single_qubit_design\\mesh_4k_data\n",
      "Time for fastcap job is:  2.371757984161377\n",
      "Capacitance results have been writen here:  D:\\Documents-cloud\\qubits\\simulation\\QCreator\\designs\\Single_qubit_design\\mesh_4k_results\n",
      "Capacitance value in:  nanofarads\n",
      "[<map object at 0x00000150B13FD370>, <map object at 0x00000150B13FD730>, <map object at 0x00000150B13FDA00>]\n",
      "       0     1     2\n",
      "0  149.1 -45.9 -14.3\n",
      "1  -45.9  64.4  -4.9\n",
      "2  -14.3  -4.9  24.3\n",
      "Gds file has been writen here:  D:\\Documents-cloud\\qubits\\simulation\\QCreator\\designs\\Single_qubit_design\\1Q_test.gds\n",
      "For 0 conductor total length is:  13994\n",
      "For 1 conductor total length is:  1229\n",
      "For 2 conductor total length is:  2866\n",
      "Sum : 18089\n",
      "Data has been written into the file: D:\\Documents-cloud\\qubits\\simulation\\QCreator\\designs\\Single_qubit_design\\mesh_4k_data\n",
      "Time for fastcap job is:  2.2041971683502197\n",
      "Capacitance results have been writen here:  D:\\Documents-cloud\\qubits\\simulation\\QCreator\\designs\\Single_qubit_design\\mesh_4k_results\n",
      "Capacitance value in:  nanofarads\n",
      "[<map object at 0x00000150B13FDEE0>, <map object at 0x00000150B13FDF70>, <map object at 0x00000150B13FDFA0>]\n",
      "       0     1     2\n",
      "0  221.0 -62.9 -74.0\n",
      "1  -62.9  70.4  -1.7\n",
      "2  -74.0  -1.7  86.3\n",
      "Gds file has been writen here:  D:\\Documents-cloud\\qubits\\simulation\\QCreator\\designs\\Single_qubit_design\\1Q_test.gds\n",
      "For 0 conductor total length is:  13831\n",
      "For 1 conductor total length is:  1229\n",
      "For 2 conductor total length is:  2858\n",
      "Sum : 17918\n",
      "Data has been written into the file: D:\\Documents-cloud\\qubits\\simulation\\QCreator\\designs\\Single_qubit_design\\mesh_4k_data\n",
      "Time for fastcap job is:  2.440357208251953\n",
      "Capacitance results have been writen here:  D:\\Documents-cloud\\qubits\\simulation\\QCreator\\designs\\Single_qubit_design\\mesh_4k_results\n",
      "Capacitance value in:  nanofarads\n",
      "[<map object at 0x00000150B13FDCD0>, <map object at 0x00000150B13FDDF0>, <map object at 0x00000150B13FDA30>]\n",
      "       0     1     2\n",
      "0  220.6 -63.2 -74.0\n",
      "1  -63.2  70.7  -1.7\n",
      "2  -74.0  -1.7  86.3\n"
     ]
    }
   ],
   "source": [
    "sqd.sample.draw_cap()\n",
    "for i,qubit in enumerate(sqd.sample.qubits):\n",
    "    caps=sqd.sample.calculate_qubit_capacitance(cell= sqd.sample.qubit_cap_cells[i], qubit=sqd.sample.qubits[i],\n",
    "                                       mesh_volume=10)"
   ]
  },
  {
   "cell_type": "code",
   "execution_count": 13,
   "metadata": {},
   "outputs": [
    {
     "name": "stdout",
     "output_type": "stream",
     "text": [
      "('up',)\n",
      "('up',)\n",
      "Resonance frequencies are, GHz: [4.34119032 4.52918091 4.52980614 4.66114063 5.21413022 5.8341109\n",
      " 6.05172211 6.31965787 6.37337639 6.62645536 6.75651641 7.49586974\n",
      " 7.71033006 7.79778607]\n",
      "Kappas are, us^-1: [6.06151798e-05 6.59737266e-05 4.77811868e-05 3.60037120e-05\n",
      " 2.89094946e-02 3.89415588e-02 4.63383000e-02 5.40725601e-02\n",
      " 5.68584587e-02 1.07653824e-03 1.01484864e-03 2.96648794e-01\n",
      " 3.26253846e-01 1.04177162e-01]\n",
      "Quality factors are: [4.49994595e+08 4.31348726e+08 5.95665644e+08 8.13438634e+08\n",
      " 1.13323830e+06 9.41328519e+05 8.20575883e+05 7.34338848e+05\n",
      " 7.04294591e+05 3.86751213e+07 4.18313065e+07 1.58766661e+05\n",
      " 1.48489997e+05 4.70303990e+05]\n"
     ]
    }
   ],
   "source": [
    "sys, connections, elements_ = sqd.sample.get_tls(cutoff=2e11)\n",
    "f, delta, modes = sys.get_modes()\n",
    "num_modes=18\n",
    "(res_fr,kappa,_)=auxfuncs.search_for_resonators_qubits(f,delta,0,15)[:num_modes]"
   ]
  },
  {
   "cell_type": "markdown",
   "metadata": {},
   "source": [
    "# Connect contact pads"
   ]
  },
  {
   "cell_type": "code",
   "execution_count": 12,
   "metadata": {},
   "outputs": [],
   "source": [
    "flux_pads_coaxmons = [\n",
    "    (sqd.sample.qubits[0], sqd.pads_top[0], []),\n",
    "    (sqd.sample.qubits[1], sqd.pads_bottom[1], []),\n",
    "    (sqd.sample.qubits[2], sqd.pads_top[1], []),\n",
    "    (sqd.sample.qubits[3], sqd.pads_top[2], [])]#(3380,3700)])]#[(3375,3700)])]\n",
    "\n",
    "flux_pads_xmons = [(sqd.sample.qubits[4], sqd.pads_bottom[0],[(1531,929)]),#[((1177, 935))]),\n",
    "                  (sqd.sample.qubits[5], sqd.pads_bottom[2], [])]#[(3452,920)])]#[(3410,1000)])]\n",
    "\n",
    "\n",
    "\n",
    "for coaxmon, pad, points in flux_pads_coaxmons:  \n",
    "    bridge, port = sqd.sample.airbridge(\n",
    "            coaxmon, 'flux', name='Airbridge over %s qubit flux coupler' % coaxmon.name, geometry=airbridge)\n",
    "    \n",
    "    narrowing_length = 25\n",
    "    flux_line_narrowing_position = sqd.sample.cpw_shift(bridge, port, narrowing_length/2)[0]\n",
    "\n",
    "    flux_line_narrowing = sqd.elements.Narrowing(name='flux_line_narrowing', position=flux_line_narrowing_position, \n",
    "                                             orientation=bridge.terminals[port].orientation+np.pi, \n",
    "                                             w1=bridge.terminals[port].w, \n",
    "                                             s1=bridge.terminals[port].s, g1=bridge.terminals[port].g,\n",
    "                                             w2=sqd.tl_core, s2=sqd.tl_gap, g2=sqd.tl_ground, \n",
    "                                             layer_configuration=sqd.sample.layer_configuration, length=narrowing_length)\n",
    "    sqd.sample.add(flux_line_narrowing)\n",
    "    sqd.sample.connect(flux_line_narrowing, 'port1', bridge, port)\n",
    "    sqd.sample.connect_cpw(pad, flux_line_narrowing, 'port', 'port2', 'flux_control_line_qubit_'+coaxmon.name, points=points,\n",
    "                          airbridge=airbridge, min_spacing=100, r=80)\n",
    "#     sqd.sample.connect_cpw(pad, flux_line_narrowing, 'port', 'port2', 'flux_control5', points=points)\n",
    "    \n",
    "for xmon, pad, points in flux_pads_xmons:  \n",
    "    bridge, port = sqd.sample.airbridge(\n",
    "            xmon, 'flux', name='Airbridge over %s qubit flux coupler' % coaxmon.name, geometry=airbridge)\n",
    "    \n",
    "    narrowing_length = 25\n",
    "    flux_line_narrowing_position = sqd.sample.cpw_shift(bridge, port, narrowing_length/2)[0]\n",
    "    \n",
    "    flux_line_narrowing = sqd.elements.Narrowing(name='flux_line_narrowing', position=flux_line_narrowing_position, \n",
    "                                             orientation=bridge.terminals[port].orientation+np.pi, \n",
    "                                             w1=bridge.terminals[port].w, \n",
    "                                             s1=bridge.terminals[port].s, g1=bridge.terminals[port].g,\n",
    "                                             w2=sqd.tl_core, s2=sqd.tl_gap, g2=sqd.tl_ground, \n",
    "                                             layer_configuration=sqd.sample.layer_configuration, length=narrowing_length)\n",
    "    sqd.sample.add(flux_line_narrowing)\n",
    "    sqd.sample.connect(flux_line_narrowing, 'port1', bridge, port)\n",
    "#     sqd.sample.connect_cpw(pad, flux_line_narrowing, 'port', 'port2', 'flux_control5', points=points)\n",
    "    sqd.sample.connect_cpw(pad, flux_line_narrowing, 'port', 'port2', 'flux_control_line_qubit_'+xmon.name, points=points,\n",
    "                          airbridge=airbridge, min_spacing=100, r=80)"
   ]
  },
  {
   "cell_type": "code",
   "execution_count": 13,
   "metadata": {},
   "outputs": [],
   "source": [
    "grid_ground = elements.GridGround(sqd.sample.chip_geometry, sqd.sample.layer_configuration, sqd.sample.objects, \n",
    "                                  width=4, period=25)\n",
    "sqd.sample.add(grid_ground)"
   ]
  },
  {
   "cell_type": "code",
   "execution_count": 14,
   "metadata": {},
   "outputs": [
    {
     "name": "stderr",
     "output_type": "stream",
     "text": [
      "C:\\ProgramData\\Anaconda3\\envs\\py38\\lib\\site-packages\\gdspy\\path.py:827: UserWarning: [GDSPY] Possible inconsistency found in `FlexPath` due to sharp corner.\n",
      "  warnings.warn(\n"
     ]
    }
   ],
   "source": [
    "sqd.sample.draw_design()\n",
    "sqd.sample.watch()"
   ]
  },
  {
   "cell_type": "code",
   "execution_count": 15,
   "metadata": {},
   "outputs": [
    {
     "name": "stdout",
     "output_type": "stream",
     "text": [
      "Gds file has been writen here:  D:\\Documents-cloud\\qubits\\simulation\\QCreator\\designs\\Single_qubit_design\\1Q_test.gds\n"
     ]
    }
   ],
   "source": [
    "sqd.sample.write_to_gds()"
   ]
  },
  {
   "cell_type": "code",
   "execution_count": null,
   "metadata": {},
   "outputs": [
    {
     "name": "stdout",
     "output_type": "stream",
     "text": [
      "('up',)\n",
      "('up',)\n"
     ]
    },
    {
     "name": "stderr",
     "output_type": "stream",
     "text": [
      "C:\\ProgramData\\Anaconda3\\envs\\py38\\lib\\site-packages\\numpy\\core\\_asarray.py:83: VisibleDeprecationWarning: Creating an ndarray from ragged nested sequences (which is a list-or-tuple of lists-or-tuples-or ndarrays with different lengths or shapes) is deprecated. If you meant to do this, you must specify 'dtype=object' when creating the ndarray\n",
      "  return array(a, dtype, copy=False, order=order)\n"
     ]
    }
   ],
   "source": [
    "sys, connections, elements_ = sqd.sample.get_tls(cutoff=2e11)\n",
    "f, delta, modes = sys.get_modes()\n",
    "num_modes=18\n",
    "(res_fr,kappa,_)=auxfuncs.search_for_resonators_qubits(f,delta,0,15)[:num_modes]"
   ]
  },
  {
   "cell_type": "code",
   "execution_count": 12,
   "metadata": {},
   "outputs": [
    {
     "name": "stdout",
     "output_type": "stream",
     "text": [
      "Gds file has been writen here:  E:\\Github2.0\\QCreator\\designs\\Single_qubit_design\\1Q_test.gds\n"
     ]
    }
   ],
   "source": [
    "sqd.sample.write_to_gds()"
   ]
  },
  {
   "cell_type": "markdown",
   "metadata": {},
   "source": [
    "# Simulations"
   ]
  },
  {
   "cell_type": "code",
   "execution_count": 17,
   "metadata": {},
   "outputs": [
    {
     "name": "stdout",
     "output_type": "stream",
     "text": [
      "('down',)\n",
      "('up',)\n"
     ]
    },
    {
     "name": "stderr",
     "output_type": "stream",
     "text": [
      "C:\\ProgramData\\Anaconda3\\envs\\py38\\lib\\site-packages\\numpy\\core\\_asarray.py:83: VisibleDeprecationWarning: Creating an ndarray from ragged nested sequences (which is a list-or-tuple of lists-or-tuples-or ndarrays with different lengths or shapes) is deprecated. If you meant to do this, you must specify 'dtype=object' when creating the ndarray\n",
      "  return array(a, dtype, copy=False, order=order)\n"
     ]
    }
   ],
   "source": [
    "sys, connections, elements_ = sqd.sample.get_tls(cutoff=2e11)\n",
    "f, delta, modes = sys.get_modes()"
   ]
  },
  {
   "cell_type": "code",
   "execution_count": 15,
   "metadata": {},
   "outputs": [
    {
     "name": "stdout",
     "output_type": "stream",
     "text": [
      "('down',)\n",
      "('up',)\n"
     ]
    },
    {
     "name": "stderr",
     "output_type": "stream",
     "text": [
      "C:\\Users\\di82dac\\Anaconda3\\envs\\qcreator\\lib\\site-packages\\numpy\\core\\_asarray.py:102: VisibleDeprecationWarning: Creating an ndarray from ragged nested sequences (which is a list-or-tuple of lists-or-tuples-or ndarrays with different lengths or shapes) is deprecated. If you meant to do this, you must specify 'dtype=object' when creating the ndarray.\n",
      "  return array(a, dtype, copy=False, order=order)\n"
     ]
    },
    {
     "name": "stdout",
     "output_type": "stream",
     "text": [
      "Resonance frequencies are, GHz/2pi: [4.52133462 4.52175859 5.82822274 5.94357465 6.23383628 6.35672523\n",
      " 6.52010911 6.64402013 6.6797905  7.37947516 7.56410607]\n",
      "Kappas are, MHz/2pi: [2.93866718e-04 2.43155157e-04 1.81923200e-01 2.07586056e-01\n",
      " 2.21566789e-01 2.56018345e-01 1.80268100e-01 2.77791952e-01\n",
      " 1.00374634e-01 2.75055002e-02 3.00510816e-02]\n",
      "Quality factors are: [7692832.07148414 9298093.10784708   16018.36037189   14315.92940673\n",
      "   14067.62338358   12414.58934844   18084.47836791   11958.62601791\n",
      "   33274.29567177  134145.44538219  125854.13991798]\n"
     ]
    }
   ],
   "source": [
    "num_modes=18\n",
    "(res_fr,kappa,_)=auxfuncs.search_for_resonators_qubits(f,delta,0,15)[:num_modes]"
   ]
  },
  {
   "cell_type": "code",
   "execution_count": 20,
   "metadata": {},
   "outputs": [
    {
     "ename": "AttributeError",
     "evalue": "module 'Single_qubit_design' has no attribute 'search_for_resonators_qubits'",
     "output_type": "error",
     "traceback": [
      "\u001b[1;31m---------------------------------------------------------------------------\u001b[0m",
      "\u001b[1;31mAttributeError\u001b[0m                            Traceback (most recent call last)",
      "\u001b[1;32m<ipython-input-20-08e7aae9defa>\u001b[0m in \u001b[0;36m<module>\u001b[1;34m()\u001b[0m\n\u001b[0;32m      1\u001b[0m \u001b[0mnum_modes\u001b[0m\u001b[1;33m=\u001b[0m\u001b[1;36m18\u001b[0m\u001b[1;33m\u001b[0m\u001b[0m\n\u001b[1;32m----> 2\u001b[1;33m \u001b[1;33m(\u001b[0m\u001b[0mres_fr\u001b[0m\u001b[1;33m,\u001b[0m\u001b[0mkappa\u001b[0m\u001b[1;33m,\u001b[0m\u001b[0m_\u001b[0m\u001b[1;33m)\u001b[0m\u001b[1;33m=\u001b[0m\u001b[0msqd\u001b[0m\u001b[1;33m.\u001b[0m\u001b[0msearch_for_resonators_qubits\u001b[0m\u001b[1;33m(\u001b[0m\u001b[0mf\u001b[0m\u001b[1;33m,\u001b[0m\u001b[0mdelta\u001b[0m\u001b[1;33m,\u001b[0m\u001b[1;36m0\u001b[0m\u001b[1;33m,\u001b[0m\u001b[1;36m15\u001b[0m\u001b[1;33m)\u001b[0m\u001b[1;33m[\u001b[0m\u001b[1;33m:\u001b[0m\u001b[0mnum_modes\u001b[0m\u001b[1;33m]\u001b[0m\u001b[1;33m\u001b[0m\u001b[0m\n\u001b[0m",
      "\u001b[1;31mAttributeError\u001b[0m: module 'Single_qubit_design' has no attribute 'search_for_resonators_qubits'"
     ]
    }
   ],
   "source": [
    "num_modes=18\n",
    "(res_fr,kappa,_)=sqd.search_for_resonators_qubits(f,delta,0,15)[:num_modes]"
   ]
  },
  {
   "cell_type": "markdown",
   "metadata": {},
   "source": [
    "# Get s21 parameters"
   ]
  },
  {
   "cell_type": "code",
   "execution_count": null,
   "metadata": {
    "collapsed": true
   },
   "outputs": [],
   "source": [
    "f_ = np.linspace(6.9e9, 7.1e9, 2001)\n",
    "# s11 = sample.get_s21('p1', 'p1', f_)\n",
    "s11 = sample.get_s21('pad-left-0', 'pad-right-0', f_)"
   ]
  },
  {
   "cell_type": "code",
   "execution_count": null,
   "metadata": {
    "collapsed": true
   },
   "outputs": [],
   "source": [
    "import resonator_tools\n",
    "from resonator_tools.circuit import notch_port, reflection_port"
   ]
  },
  {
   "cell_type": "code",
   "execution_count": null,
   "metadata": {
    "collapsed": true
   },
   "outputs": [],
   "source": [
    "fitter = notch_port(f_data=f_, z_data_raw=s11)\n",
    "fitter.autofit()"
   ]
  },
  {
   "cell_type": "code",
   "execution_count": null,
   "metadata": {
    "collapsed": true
   },
   "outputs": [],
   "source": [
    "fitter.plotall()"
   ]
  },
  {
   "cell_type": "code",
   "execution_count": null,
   "metadata": {
    "collapsed": true
   },
   "outputs": [],
   "source": [
    "fitter.fitresults"
   ]
  },
  {
   "cell_type": "markdown",
   "metadata": {},
   "source": [
    "# Estimate qubit-resonator parameters"
   ]
  },
  {
   "cell_type": "code",
   "execution_count": 10,
   "metadata": {},
   "outputs": [
    {
     "data": {
      "text/plain": [
       "{'g': (97.56920699063008, 'MHz/2pi')}"
      ]
     },
     "execution_count": 10,
     "metadata": {},
     "output_type": "execute_result"
    }
   ],
   "source": [
    "auxfuncs.get_grounded_qubit_resonator_coupling(par1,sqd.coaxmon1,'coupler2',res_fr[rfr_ind],res_fr[qfr_ind])"
   ]
  },
  {
   "cell_type": "code",
   "execution_count": 8,
   "metadata": {},
   "outputs": [
    {
     "name": "stdout",
     "output_type": "stream",
     "text": [
      "Qubit- resonator detuning: -1.2084820314830544\n",
      "{'g': (44.89295674433046, 'MHz/2pi'), 'alpha': (-267.9146517933488, 'MHz/2pi'), 'chi': (-0.3026283615568064, 'MHz/2pi'), 'T': (826.8150859104236, 'us'), 'protection ratio': 724.6427893214454} 5.641219365883182 4.4327373344001275\n",
      "Qubit- resonator detuning: -1.8721295043225368\n",
      "{'g': (87.39410453668847, 'MHz/2pi'), 'alpha': (-279.9166087378485, 'MHz/2pi'), 'chi': (-0.5306467160484062, 'MHz/2pi'), 'T': (351.4258296567374, 'us'), 'protection ratio': 458.88884614066905} 6.401871020487285 4.529741516164748\n"
     ]
    }
   ],
   "source": [
    "#min qubit freqs setup, first pair\n",
    "res1 = 2\n",
    "q1 = 0\n",
    "res2 = 3\n",
    "q2 = 1\n",
    "\n",
    "res_indxs = [[res1, q1, sqd.xmon1, 'crab_up', par1], [res2, q2, sqd.coaxmon1, 'coupler2', par2]]\n",
    "for i in res_indxs:\n",
    "    print(auxfuncs.get_grounded_qubit_resonator_parameters(i[4],i[2],i[3],res_fr[i[0]],res_fr[i[1]],kappa[i[0]]), res_fr[i[0]],res_fr[i[1]])"
   ]
  },
  {
   "cell_type": "code",
   "execution_count": 9,
   "metadata": {},
   "outputs": [
    {
     "name": "stdout",
     "output_type": "stream",
     "text": [
      "Qubit- resonator detuning: -0.9878288889517002\n",
      "{'g': (46.00085269832497, 'MHz/2pi'), 'alpha': (-267.9146517933488, 'MHz/2pi'), 'chi': (-0.4570308890307561, 'MHz/2pi'), 'T': (526.43630562547, 'us'), 'protection ratio': 461.1388175713164} 5.641676454062395 4.653847565110695\n",
      "Qubit- resonator detuning: -1.6470439163573252\n",
      "{'g': (89.55073236711583, 'MHz/2pi'), 'alpha': (-279.9166087378485, 'MHz/2pi'), 'chi': (-0.7072760540903339, 'MHz/2pi'), 'T': (259.163229446203, 'us'), 'protection ratio': 338.2766916668066} 6.402579092973859 4.755535176616534\n"
     ]
    }
   ],
   "source": [
    "#max qubit freqs setup, first pair\n",
    "res1 = 2\n",
    "q1 = 0\n",
    "res2 = 3\n",
    "q2 = 1\n",
    "\n",
    "res_indxs = [[res1, q1, sqd.xmon1, 'crab_up', par1], [res2, q2, sqd.coaxmon1, 'coupler2', par2]]\n",
    "for i in res_indxs:\n",
    "    print(auxfuncs.get_grounded_qubit_resonator_parameters(i[4],i[2],i[3],res_fr[i[0]],res_fr[i[1]],kappa[i[0]]), res_fr[i[0]],res_fr[i[1]])"
   ]
  },
  {
   "cell_type": "code",
   "execution_count": 8,
   "metadata": {},
   "outputs": [
    {
     "name": "stdout",
     "output_type": "stream",
     "text": [
      "Qubit- resonator detuning: -2.209197526804073\n",
      "{'g': (110.29025917099025, 'MHz/2pi'), 'alpha': (-150.38997922871988, 'MHz/2pi'), 'chi': (-0.35093168172391054, 'MHz/2pi'), 'T': (320.5096455744862, 'us'), 'protection ratio': 401.23127898314897} 6.552536318125025 4.343338791320952\n",
      "Qubit- resonator detuning: -2.3598849945702955\n",
      "{'g': (94.75972829801786, 'MHz/2pi'), 'alpha': (-279.9166087378485, 'MHz/2pi'), 'chi': (-0.40347269987867035, 'MHz/2pi'), 'T': (405.531270506771, 'us'), 'protection ratio': 620.2032875187385} 6.8901246829131555 4.53023968834286\n"
     ]
    }
   ],
   "source": [
    "#min qubit freqs setup, second pair\n",
    "res3 = 2\n",
    "q3 = 0\n",
    "res4 = 3\n",
    "q4 = 1\n",
    "\n",
    "res_indxs = [[res3, q3, sqd.coaxmon2, 'coupler2', par3],[res4, q4, sqd.coaxmon3 , 'coupler2', par4]]\n",
    "for i in res_indxs:\n",
    "    print(auxfuncs.get_grounded_qubit_resonator_parameters(i[4],i[2],i[3],res_fr[i[0]],res_fr[i[1]],kappa[i[0]]), res_fr[i[0]],res_fr[i[1]])"
   ]
  },
  {
   "cell_type": "code",
   "execution_count": 9,
   "metadata": {},
   "outputs": [
    {
     "name": "stdout",
     "output_type": "stream",
     "text": [
      "Qubit- resonator detuning: -1.7975222379578044\n",
      "{'g': (115.42432571731052, 'MHz/2pi'), 'alpha': (-150.38997922871988, 'MHz/2pi'), 'chi': (-0.5722290983712558, 'MHz/2pi'), 'T': (193.85987348501382, 'us'), 'protection ratio': 242.5235135986589} 6.553756390721402 4.756234152763597\n",
      "Qubit- resonator detuning: -2.2175547859200524\n",
      "{'g': (96.24561972461558, 'MHz/2pi'), 'alpha': (-279.9166087378485, 'MHz/2pi'), 'chi': (-0.4681831008342664, 'MHz/2pi'), 'T': (347.17302605469337, 'us'), 'protection ratio': 530.8682716785049} 6.890635723098805 4.673080937178753\n"
     ]
    }
   ],
   "source": [
    "#max qubit freqs setup, second pair\n",
    "res3 = 2\n",
    "q3 = 1\n",
    "res4 = 3\n",
    "q4 = 0\n",
    "\n",
    "res_indxs = [[res3, q3, sqd.coaxmon2, 'coupler2', par3],[res4, q4, sqd.coaxmon3 , 'coupler2', par4]]\n",
    "for i in res_indxs:\n",
    "    print(auxfuncs.get_grounded_qubit_resonator_parameters(i[4],i[2],i[3],res_fr[i[0]],res_fr[i[1]],kappa[i[0]]), res_fr[i[0]],res_fr[i[1]])"
   ]
  },
  {
   "cell_type": "code",
   "execution_count": 8,
   "metadata": {},
   "outputs": [
    {
     "name": "stdout",
     "output_type": "stream",
     "text": [
      "Qubit- resonator detuning: -2.6241418242385324\n",
      "{'g': (67.86430940249657, 'MHz/2pi'), 'alpha': (-268.2857247182704, 'MHz/2pi'), 'chi': (-0.16279109345257872, 'MHz/2pi'), 'T': (845.3426056875485, 'us'), 'protection ratio': 1495.174006933627} 7.093848969382076 4.469707145143544\n",
      "Qubit- resonator detuning: -3.9588416040096526\n",
      "{'g': (119.24510815676855, 'MHz/2pi'), 'alpha': (-279.9166087378485, 'MHz/2pi'), 'chi': (-0.23719364096705736, 'MHz/2pi'), 'T': (352.0669958191608, 'us'), 'protection ratio': 1102.1865517200176} 8.523987941563593 4.565146337553941\n"
     ]
    }
   ],
   "source": [
    "#min qubit freqs setup, third pair\n",
    "res5 = 2\n",
    "q5 = 0\n",
    "res6 = 3\n",
    "q6 = 1\n",
    "\n",
    "res_indxs = [[res5, q5, sqd.xmon2, 'crab_up', par5], [res6, q6, sqd.coaxmon4, 'coupler2', par6]]\n",
    "for i in res_indxs:\n",
    "    print(auxfuncs.get_grounded_qubit_resonator_parameters(i[4],i[2],i[3],res_fr[i[0]],res_fr[i[1]],kappa[i[0]]), res_fr[i[0]],res_fr[i[1]])"
   ]
  },
  {
   "cell_type": "code",
   "execution_count": 8,
   "metadata": {},
   "outputs": [
    {
     "name": "stdout",
     "output_type": "stream",
     "text": [
      "Qubit- resonator detuning: -0.487782699796961\n",
      "{'g': (82.65091926361663, 'MHz/2pi'), 'alpha': (-268.2857247182704, 'MHz/2pi'), 'chi': (-4.969417065864554, 'MHz/2pi'), 'T': (20.164061851852715, 'us'), 'protection ratio': 34.83031560449323} 7.106057519889514 6.618274820092553\n",
      "Qubit- resonator detuning: -1.7657321870396663\n",
      "{'g': (145.22539943000146, 'MHz/2pi'), 'alpha': (-279.9166087378485, 'MHz/2pi'), 'chi': (-1.634398364032193, 'MHz/2pi'), 'T': (47.353297017376114, 'us'), 'protection ratio': 147.8306573846093} 8.53114431148578 6.765412124446114\n"
     ]
    }
   ],
   "source": [
    "#max qubit freqs setup, third pair\n",
    "res5 = 2\n",
    "q5 = 0\n",
    "res6 = 3\n",
    "q6 = 1\n",
    "\n",
    "res_indxs = [[res5, q5, sqd.xmon2, 'crab_up', par5], [res6, q6, sqd.coaxmon4, 'coupler2', par6]]\n",
    "for i in res_indxs:\n",
    "    print(auxfuncs.get_grounded_qubit_resonator_parameters(i[4],i[2],i[3],res_fr[i[0]],res_fr[i[1]],kappa[i[0]]), res_fr[i[0]],res_fr[i[1]])"
   ]
  },
  {
   "cell_type": "code",
   "execution_count": 12,
   "metadata": {},
   "outputs": [
    {
     "name": "stdout",
     "output_type": "stream",
     "text": [
      "From AWR protection ratio is: 28.397216442594896\n"
     ]
    }
   ],
   "source": [
    "print(\"From AWR protection ratio is:\", kappa[rfr_ind]/kappa[qfr_ind])"
   ]
  },
  {
   "cell_type": "markdown",
   "metadata": {},
   "source": [
    "# Tests"
   ]
  },
  {
   "cell_type": "code",
   "execution_count": 10,
   "metadata": {
    "collapsed": true
   },
   "outputs": [],
   "source": [
    "g5,g6,res= sqd.draw_single_resonator(sqd.sample,sqd.elements,\n",
    "                            sqd.coupler_start+1500, sqd.central_line_y, sqd.coupler_length,\n",
    "                             sqd.resonator_core,sqd.resonator_gap,sqd.resonator_ground,\n",
    "                             sqd.tl_core, sqd.tl_gap, sqd.tl_ground, grounding_width=10,\n",
    "                             closed_end_meander_length=3000,length_left=400,length_right=400,\n",
    "                             open_end_legth=800,\n",
    "                             port_orientation='right', direction_orientation='up')"
   ]
  }
 ],
 "metadata": {
  "kernelspec": {
   "display_name": "Python 3",
   "language": "python",
   "name": "python3"
  },
  "language_info": {
   "codemirror_mode": {
    "name": "ipython",
    "version": 3
   },
   "file_extension": ".py",
   "mimetype": "text/x-python",
   "name": "python",
   "nbconvert_exporter": "python",
   "pygments_lexer": "ipython3",
   "version": "3.8.5"
  }
 },
 "nbformat": 4,
 "nbformat_minor": 4
}
