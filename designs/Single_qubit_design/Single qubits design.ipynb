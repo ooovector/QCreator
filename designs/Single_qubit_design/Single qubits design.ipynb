{
 "cells": [
  {
   "cell_type": "code",
   "execution_count": 1,
   "metadata": {},
   "outputs": [],
   "source": [
    "from importlib import reload\n",
    "import numpy as np\n",
    "from matplotlib import pyplot as plt\n",
    "import Single_qubit_design as sqd\n",
    "import QCreator.auxiliary_functions as auxfuncs\n",
    "import QCreator.elements as elements"
   ]
  },
  {
   "cell_type": "code",
   "execution_count": 2,
   "metadata": {},
   "outputs": [
    {
     "data": {
      "text/plain": [
       "<module 'Single_qubit_design' from 'D:\\\\Documents-cloud\\\\qubits\\\\simulation\\\\QCreator\\\\designs\\\\Single_qubit_design\\\\Single_qubit_design.py'>"
      ]
     },
     "execution_count": 2,
     "metadata": {},
     "output_type": "execute_result"
    }
   ],
   "source": [
    "reload(sqd)"
   ]
  },
  {
   "cell_type": "code",
   "execution_count": 3,
   "metadata": {},
   "outputs": [],
   "source": [
    "sqd.sample.add(sqd.xmon1)\n",
    "sqd.sample.add(sqd.coaxmon1)\n",
    "sqd.sample.add(sqd.coaxmon2)\n",
    "sqd.sample.add(sqd.coaxmon3)\n",
    "sqd.sample.add(sqd.xmon2)\n",
    "sqd.sample.add(sqd.coaxmon4)\n",
    "\n",
    "\n",
    "sqd.sample.draw_design()"
   ]
  },
  {
   "cell_type": "code",
   "execution_count": 4,
   "metadata": {},
   "outputs": [],
   "source": [
    "airbridge = elements.AirBridgeGeometry(pad_width = 36,pad_length = 22,pad_distance = 62,\n",
    "                                      narrow_width = 20, narrow_length = 46, sm_pad_length = 10,\n",
    "                                      sm_pad_distance = 70, layer_configuration = sqd.sample.layer_configuration)"
   ]
  },
  {
   "cell_type": "code",
   "execution_count": 5,
   "metadata": {},
   "outputs": [],
   "source": [
    "sqd.sample.draw_design()\n",
    "# sqd.sample.watch()"
   ]
  },
  {
   "cell_type": "markdown",
   "metadata": {},
   "source": [
    "# Draw a qubit design"
   ]
  },
  {
   "cell_type": "code",
   "execution_count": 6,
   "metadata": {},
   "outputs": [],
   "source": [
    "g1,g2, par1, par2, res12 = auxfuncs.draw_double_resonator_plus_double_qubit(sqd.sample,\n",
    "                            sqd.coupler_start, sqd.central_line_y, sqd.coupler_length,\n",
    "                             sqd.resonator_core,sqd.resonator_gap,sqd.resonator_ground, \n",
    "                             sqd.tl_core, sqd.tl_gap, sqd.tl_ground, grounding_width=10,\n",
    "                             closed_end_meander_length1=3400,length_left1=250,length_right1=360,\n",
    "                             closed_end_meander_length2=2850,length_left2=360,length_right2=260,\n",
    "                             open_end_shift_length1=600, open_end_shift_length2=400,\n",
    "                             object1=sqd.xmon1, port1='crab_up',\n",
    "                             object2=sqd.coaxmon1, port2='coupler2',\n",
    "                             airbridge=airbridge, \n",
    "                             min_bridge_spacing_closed_end=150,min_bridge_spacing_open_end=150,\n",
    "                             port_orientation='left',\n",
    "                            meander_first_intend_orientation='right',object2_airbridges=True, meander_r=55)\n",
    "res1 = res12['resonator1']\n",
    "res2 = res12['resonator2']"
   ]
  },
  {
   "cell_type": "code",
   "execution_count": 7,
   "metadata": {},
   "outputs": [],
   "source": [
    "g3,g4, par3, par4, res34 = auxfuncs.draw_double_resonator_plus_double_qubit(sqd.sample,\n",
    "                            sqd.coupler_start+900, sqd.central_line_y, sqd.coupler_length,\n",
    "                             sqd.resonator_core,sqd.resonator_gap,sqd.resonator_ground, \n",
    "                             sqd.tl_core, sqd.tl_gap, sqd.tl_ground, grounding_width=10,\n",
    "                             closed_end_meander_length1=2950,length_left1=260,length_right1=360,\n",
    "                              closed_end_meander_length2=2700,length_left2=360,length_right2=240,\n",
    "                             open_end_shift_length1=400, open_end_shift_length2=400,\n",
    "                             object1=sqd.coaxmon2, port1='coupler2',\n",
    "                             object2=sqd.coaxmon3, port2='coupler2',\n",
    "                             airbridge=airbridge, \n",
    "                             min_bridge_spacing_closed_end=150,min_bridge_spacing_open_end=150,\n",
    "                             port_orientation='left', object1_airbridges=True, object2_airbridges=True, meander_r=55)\n",
    "res3 = res34['resonator1']\n",
    "res4 = res34['resonator2']"
   ]
  },
  {
   "cell_type": "code",
   "execution_count": 8,
   "metadata": {},
   "outputs": [],
   "source": [
    "g5,g6, par5, par6, res56 = auxfuncs.draw_double_resonator_plus_double_qubit(sqd.sample,\n",
    "                            sqd.coupler_start+1750, sqd.central_line_y, sqd.coupler_length,\n",
    "                            sqd.resonator_core,sqd.resonator_gap,sqd.resonator_ground, \n",
    "                            sqd.tl_core, sqd.tl_gap, sqd.tl_ground, grounding_width=10,\n",
    "                            closed_end_meander_length1=2400,length_left1=250,length_right1=360,\n",
    "                            closed_end_meander_length2=1900,length_left2=360,length_right2=250,\n",
    "                            open_end_shift_length1=400, open_end_shift_length2=400,\n",
    "                            object1=sqd.xmon2, port1='crab_up',\n",
    "                            object2=sqd.coaxmon4, port2='coupler2',\n",
    "                            airbridge=airbridge, \n",
    "                            min_bridge_spacing_closed_end=150,min_bridge_spacing_open_end=150,\n",
    "                            port_orientation='left', object2_airbridges=True, meander_r=55)\n",
    "res5 = res56['resonator1']\n",
    "res6 = res56['resonator2']"
   ]
  },
  {
   "cell_type": "code",
   "execution_count": 9,
   "metadata": {},
   "outputs": [],
   "source": [
    "g7, g8, _1, _2, res78 = auxfuncs.draw_double_resonator(sqd.sample, \n",
    "                            sqd.coupler_start+2450, sqd.central_line_y, 180,\n",
    "                             sqd.resonator_core,sqd.resonator_gap,15, \n",
    "                             sqd.tl_core, sqd.tl_gap, sqd.tl_ground, grounding_width=20,\n",
    "                             closed_end_meander_length1=2200,length_left1=130,length_right1=140,\n",
    "                             closed_end_meander_length2=2300,length_left2=140,length_right2=130,\n",
    "                             open_end_length1=1000,open_end_length2=1000,port_orientation='left',\n",
    "                             airbridge=airbridge, \n",
    "                             min_bridge_spacing_closed_end=100,min_bridge_spacing_open_end=150, meander_r=55)\n",
    "res7 = res78['resonator1']\n",
    "res8 = res78['resonator2']"
   ]
  },
  {
   "cell_type": "markdown",
   "metadata": {},
   "source": [
    "# Connect resonators into feedline"
   ]
  },
  {
   "cell_type": "code",
   "execution_count": 10,
   "metadata": {},
   "outputs": [
    {
     "data": {
      "text/plain": [
       "[CPW \"right TLs0\", l=28.000]"
      ]
     },
     "execution_count": 10,
     "metadata": {},
     "output_type": "execute_result"
    }
   ],
   "source": [
    "sqd.sample.connect_cpw(o1=sqd.p1, o2=g1, port1='port', port2='narrow', name='right TL', points=[],\n",
    "                       airbridge=airbridge, min_spacing=150)\n",
    "sqd.sample.connect_cpw(o1=g2, o2=g3, port1='narrow', port2='narrow', name='right TL', points=[],\n",
    "                       airbridge=airbridge, min_spacing=150)\n",
    "sqd.sample.connect_cpw(o1=g4, o2=g5, port1='narrow', port2='narrow', name='right TL', points=[],\n",
    "                       airbridge=airbridge, min_spacing=150)\n",
    "sqd.sample.connect_cpw(o1=g6, o2=g7, port1='narrow', port2='narrow', name='right TL', points=[],\n",
    "                       airbridge=airbridge, min_spacing=150)\n",
    "sqd.sample.connect_cpw(o1=g8, o2=sqd.p2, port1='narrow', port2='port', name='right TL', points=[],\n",
    "                       airbridge=airbridge, min_spacing=150)"
   ]
  },
  {
   "cell_type": "code",
   "execution_count": 11,
   "metadata": {},
   "outputs": [
    {
     "name": "stderr",
     "output_type": "stream",
     "text": [
      "C:\\ProgramData\\Anaconda3\\envs\\py38\\lib\\site-packages\\gdspy\\path.py:616: UserWarning: [GDSPY] Possible inconsistency found in `FlexPath` due to sharp corner.\n",
      "  warnings.warn(\n"
     ]
    },
    {
     "name": "stdout",
     "output_type": "stream",
     "text": [
      "Gds file has been writen here:  D:\\Documents-cloud\\qubits\\simulation\\QCreator\\designs\\Single_qubit_design/1Q_test.gds\n",
      "For 0 conductor total length is:  6911\n",
      "For 1 conductor total length is:  1229\n",
      "For 2 conductor total length is:  2359\n",
      "Sum : 10499\n",
      "Data has been written into the file: D:\\Documents-cloud\\qubits\\simulation\\QCreator\\designs\\Single_qubit_design/mesh_4k_data\n",
      "Time for fastcap job is:  1.1440753936767578\n",
      "Capacitance results have been writen here:  D:\\Documents-cloud\\qubits\\simulation\\QCreator\\designs\\Single_qubit_design/mesh_4k_results\n",
      "Capacitance value in:  nanofarads\n",
      "[<map object at 0x0000017523DDE250>, <map object at 0x0000017523DDE370>, <map object at 0x0000017520089E50>]\n",
      "       0     1     2\n",
      "0  188.4 -61.7 -58.9\n",
      "1  -61.7  72.3  -2.7\n",
      "2  -58.9  -2.7  73.7\n",
      "Gds file has been writen here:  D:\\Documents-cloud\\qubits\\simulation\\QCreator\\designs\\Single_qubit_design/1Q_test.gds\n",
      "For 0 conductor total length is:  13572\n",
      "For 1 conductor total length is:  4885\n",
      "For 2 conductor total length is:  840\n",
      "Sum : 19297\n",
      "Data has been written into the file: D:\\Documents-cloud\\qubits\\simulation\\QCreator\\designs\\Single_qubit_design/mesh_4k_data\n",
      "Time for fastcap job is:  2.2660787105560303\n",
      "Capacitance results have been writen here:  D:\\Documents-cloud\\qubits\\simulation\\QCreator\\designs\\Single_qubit_design/mesh_4k_results\n",
      "Capacitance value in:  nanofarads\n",
      "[<map object at 0x0000017525046AC0>, <map object at 0x0000017525046880>, <map object at 0x00000175250467C0>]\n",
      "       0     1     2\n",
      "0  155.3 -47.5 -15.4\n",
      "1  -47.5  66.6  -5.0\n",
      "2  -15.4  -5.0  25.6\n",
      "Gds file has been writen here:  D:\\Documents-cloud\\qubits\\simulation\\QCreator\\designs\\Single_qubit_design/1Q_test.gds\n",
      "For 0 conductor total length is:  18534\n",
      "For 1 conductor total length is:  14161\n",
      "For 2 conductor total length is:  1200\n",
      "Sum : 33895\n",
      "Data has been written into the file: D:\\Documents-cloud\\qubits\\simulation\\QCreator\\designs\\Single_qubit_design/mesh_4k_data\n",
      "Time for fastcap job is:  3.9836015701293945\n",
      "Capacitance results have been writen here:  D:\\Documents-cloud\\qubits\\simulation\\QCreator\\designs\\Single_qubit_design/mesh_4k_results\n",
      "Capacitance value in:  nanofarads\n",
      "[<map object at 0x0000017525046970>, <map object at 0x0000017525046670>, <map object at 0x0000017525046A30>]\n",
      "       0      1     2\n",
      "0  212.0  -87.0 -16.8\n",
      "1  -87.0  125.0  -8.6\n",
      "2  -16.8   -8.6  31.3\n",
      "Gds file has been writen here:  D:\\Documents-cloud\\qubits\\simulation\\QCreator\\designs\\Single_qubit_design/1Q_test.gds\n",
      "For 0 conductor total length is:  13574\n",
      "For 1 conductor total length is:  4892\n",
      "For 2 conductor total length is:  840\n",
      "Sum : 19306\n",
      "Data has been written into the file: D:\\Documents-cloud\\qubits\\simulation\\QCreator\\designs\\Single_qubit_design/mesh_4k_data\n",
      "Time for fastcap job is:  2.2255265712738037\n",
      "Capacitance results have been writen here:  D:\\Documents-cloud\\qubits\\simulation\\QCreator\\designs\\Single_qubit_design/mesh_4k_results\n",
      "Capacitance value in:  nanofarads\n",
      "[<map object at 0x0000017525046700>, <map object at 0x0000017525046AF0>, <map object at 0x0000017525046DC0>]\n",
      "       0     1     2\n",
      "0  155.3 -47.5 -15.4\n",
      "1  -47.5  66.6  -5.0\n",
      "2  -15.4  -5.0  25.6\n",
      "Gds file has been writen here:  D:\\Documents-cloud\\qubits\\simulation\\QCreator\\designs\\Single_qubit_design/1Q_test.gds\n",
      "For 0 conductor total length is:  6809\n",
      "For 1 conductor total length is:  1229\n",
      "For 2 conductor total length is:  2372\n",
      "Sum : 10410\n",
      "Data has been written into the file: D:\\Documents-cloud\\qubits\\simulation\\QCreator\\designs\\Single_qubit_design/mesh_4k_data\n",
      "Time for fastcap job is:  1.0960688591003418\n",
      "Capacitance results have been writen here:  D:\\Documents-cloud\\qubits\\simulation\\QCreator\\designs\\Single_qubit_design/mesh_4k_results\n",
      "Capacitance value in:  nanofarads\n",
      "[<map object at 0x00000175250469D0>, <map object at 0x0000017525046B20>, <map object at 0x0000017525059790>]\n",
      "       0     1     2\n",
      "0  188.1 -61.8 -58.9\n",
      "1  -61.8  72.4  -2.7\n",
      "2  -58.9  -2.7  73.6\n",
      "Gds file has been writen here:  D:\\Documents-cloud\\qubits\\simulation\\QCreator\\designs\\Single_qubit_design/1Q_test.gds\n",
      "For 0 conductor total length is:  13720\n",
      "For 1 conductor total length is:  4892\n",
      "For 2 conductor total length is:  840\n",
      "Sum : 19452\n",
      "Data has been written into the file: D:\\Documents-cloud\\qubits\\simulation\\QCreator\\designs\\Single_qubit_design/mesh_4k_data\n",
      "Time for fastcap job is:  2.2320644855499268\n",
      "Capacitance results have been writen here:  D:\\Documents-cloud\\qubits\\simulation\\QCreator\\designs\\Single_qubit_design/mesh_4k_results\n",
      "Capacitance value in:  nanofarads\n",
      "[<map object at 0x0000017525046DC0>, <map object at 0x00000175250594F0>, <map object at 0x0000017525059C10>]\n",
      "       0     1     2\n",
      "0  155.4 -47.6 -15.4\n",
      "1  -47.6  66.7  -5.0\n",
      "2  -15.4  -5.0  25.6\n"
     ]
    }
   ],
   "source": [
    "sqd.sample.draw_cap()\n",
    "for i,qubit in enumerate(sqd.sample.qubits):\n",
    "    caps=sqd.sample.calculate_qubit_capacitance(cell= sqd.sample.qubit_cap_cells[i], qubit=sqd.sample.qubits[i],\n",
    "                                       mesh_volume=10)"
   ]
  },
  {
   "cell_type": "code",
   "execution_count": 12,
   "metadata": {},
   "outputs": [],
   "source": [
    "# sys, connections, elements_ = sqd.sample.get_tls(cutoff=2e11)\n",
    "# f, delta, modes = sys.get_modes()\n",
    "# num_modes=18\n",
    "# (res_fr,kappa,_)=auxfuncs.search_for_resonators_qubits(f,delta,0,15)[:num_modes]"
   ]
  },
  {
   "cell_type": "markdown",
   "metadata": {},
   "source": [
    "# Connect contact pads"
   ]
  },
  {
   "cell_type": "code",
   "execution_count": 13,
   "metadata": {},
   "outputs": [],
   "source": [
    "flux_pads_coaxmons = [\n",
    "    (sqd.sample.qubits[1], sqd.pads_top[0], []),\n",
    "    (sqd.sample.qubits[2], sqd.pads_bottom[1], []),\n",
    "    (sqd.sample.qubits[3], sqd.pads_top[1], []),\n",
    "    (sqd.sample.qubits[5], sqd.pads_top[2], [])]\n",
    "\n",
    "flux_pads_xmons = [(sqd.sample.qubits[0], sqd.pads_bottom[0],[(1531,929)]),\n",
    "                  (sqd.sample.qubits[4], sqd.pads_bottom[2], [])]\n",
    "\n",
    "\n",
    "\n",
    "\n",
    "\n",
    "for coaxmon, pad, points in flux_pads_coaxmons:  \n",
    "    bridge, port = sqd.sample.airbridge(\n",
    "            coaxmon, 'flux', name='Airbridge over %s qubit flux coupler' % coaxmon.name, geometry=airbridge)\n",
    "    \n",
    "    narrowing_length = 25\n",
    "    flux_line_narrowing_position = sqd.sample.cpw_shift(bridge, port, narrowing_length/2)[0]\n",
    "\n",
    "    flux_line_narrowing = sqd.elements.Narrowing(name='flux_line_narrowing', position=flux_line_narrowing_position, \n",
    "                                             orientation=bridge.terminals[port].orientation+np.pi, \n",
    "                                             w1=bridge.terminals[port].w, \n",
    "                                             s1=bridge.terminals[port].s, g1=bridge.terminals[port].g,\n",
    "                                             w2=sqd.tl_core, s2=sqd.tl_gap, g2=sqd.tl_ground, \n",
    "                                             layer_configuration=sqd.sample.layer_configuration, length=narrowing_length)\n",
    "    sqd.sample.add(flux_line_narrowing)\n",
    "    sqd.sample.connect(flux_line_narrowing, 'port1', bridge, port)\n",
    "    sqd.sample.connect_cpw(pad, flux_line_narrowing, 'port', 'port2', 'flux_control_line_qubit_'+coaxmon.name, points=points,\n",
    "                          airbridge=airbridge, min_spacing=100, r=80)\n",
    "#     sqd.sample.connect_cpw(pad, flux_line_narrowing, 'port', 'port2', 'flux_control5', points=points)\n",
    "    \n",
    "for xmon, pad, points in flux_pads_xmons:  \n",
    "    bridge, port = sqd.sample.airbridge(\n",
    "            xmon, 'flux', name='Airbridge over %s qubit flux coupler' % coaxmon.name, geometry=airbridge)\n",
    "    \n",
    "    narrowing_length = 25\n",
    "    flux_line_narrowing_position = sqd.sample.cpw_shift(bridge, port, narrowing_length/2)[0]\n",
    "    \n",
    "    flux_line_narrowing = sqd.elements.Narrowing(name='flux_line_narrowing', position=flux_line_narrowing_position, \n",
    "                                             orientation=bridge.terminals[port].orientation+np.pi, \n",
    "                                             w1=bridge.terminals[port].w, \n",
    "                                             s1=bridge.terminals[port].s, g1=bridge.terminals[port].g,\n",
    "                                             w2=sqd.tl_core, s2=sqd.tl_gap, g2=sqd.tl_ground, \n",
    "                                             layer_configuration=sqd.sample.layer_configuration, length=narrowing_length)\n",
    "    sqd.sample.add(flux_line_narrowing)\n",
    "    sqd.sample.connect(flux_line_narrowing, 'port1', bridge, port)\n",
    "#     sqd.sample.connect_cpw(pad, flux_line_narrowing, 'port', 'port2', 'flux_control5', points=points)\n",
    "    sqd.sample.connect_cpw(pad, flux_line_narrowing, 'port', 'port2', 'flux_control_line_qubit_'+xmon.name, points=points,\n",
    "                          airbridge=airbridge, min_spacing=100, r=80)"
   ]
  },
  {
   "cell_type": "code",
   "execution_count": 14,
   "metadata": {},
   "outputs": [],
   "source": [
    "grid_ground = elements.GridGround(sqd.sample.chip_geometry, sqd.sample.layer_configuration, sqd.sample.objects, \n",
    "                                  width=4, period=25)\n",
    "sqd.sample.add(grid_ground)"
   ]
  },
  {
   "cell_type": "code",
   "execution_count": null,
   "metadata": {},
   "outputs": [
    {
     "name": "stderr",
     "output_type": "stream",
     "text": [
      "C:\\ProgramData\\Anaconda3\\envs\\py38\\lib\\site-packages\\gdspy\\path.py:616: UserWarning: [GDSPY] Possible inconsistency found in `FlexPath` due to sharp corner.\n",
      "  warnings.warn(\n"
     ]
    }
   ],
   "source": [
    "sqd.sample.draw_design()"
   ]
  },
  {
   "cell_type": "code",
   "execution_count": null,
   "metadata": {},
   "outputs": [],
   "source": [
    "sqd.sample.render_negative([0], sqd.sample.layer_configuration.inverted)\n"
   ]
  },
  {
   "cell_type": "code",
   "execution_count": null,
   "metadata": {},
   "outputs": [],
   "source": [
    "sqd.sample.layer_expansion(0.8, sqd.sample.layer_configuration.inverted, 101, 8)"
   ]
  },
  {
   "cell_type": "code",
   "execution_count": null,
   "metadata": {},
   "outputs": [],
   "source": [
    "sqd.sample.watch()"
   ]
  },
  {
   "cell_type": "code",
   "execution_count": null,
   "metadata": {},
   "outputs": [],
   "source": [
    "sqd.sample.write_to_gds()"
   ]
  },
  {
   "cell_type": "markdown",
   "metadata": {},
   "source": [
    "# Simulations"
   ]
  },
  {
   "cell_type": "code",
   "execution_count": 18,
   "metadata": {
    "jupyter": {
     "outputs_hidden": true
    }
   },
   "outputs": [
    {
     "name": "stdout",
     "output_type": "stream",
     "text": [
      "('up',)\n",
      "('up',)\n"
     ]
    }
   ],
   "source": [
    "sys, connections, elements_ = sqd.sample.get_tls(cutoff=2e11)\n"
   ]
  },
  {
   "cell_type": "code",
   "execution_count": 19,
   "metadata": {},
   "outputs": [
    {
     "data": {
      "text/plain": [
       "(2556, 2556)"
      ]
     },
     "execution_count": 19,
     "metadata": {},
     "output_type": "execute_result"
    }
   ],
   "source": [
    "sys.create_dynamic_equation_matrices()[0].shape"
   ]
  },
  {
   "cell_type": "code",
   "execution_count": null,
   "metadata": {},
   "outputs": [],
   "source": [
    "omegas, delta, modes = sys.get_modes()"
   ]
  },
  {
   "cell_type": "code",
   "execution_count": null,
   "metadata": {},
   "outputs": [],
   "source": [
    "omegas/(2*np.pi)"
   ]
  },
  {
   "cell_type": "code",
   "execution_count": 37,
   "metadata": {},
   "outputs": [
    {
     "data": {
      "text/plain": [
       "([CPW \"closed end 1s0\", l=207.144,\n",
       "  CPW \"closed end 1s1\", l=386.788,\n",
       "  CPW \"closed end 1s2\", l=214.000,\n",
       "  CPW \"closed end 1s3\", l=386.788,\n",
       "  CPW \"closed end 1s4\", l=214.000,\n",
       "  CPW \"closed end 1s5\", l=386.788,\n",
       "  CPW \"closed end 1s6\", l=214.000,\n",
       "  CPW \"closed end 1s7\", l=386.788,\n",
       "  CPW \"closed end 1s8\", l=214.000,\n",
       "  CPW \"closed end 1s9\", l=465.706,\n",
       "  CPWCoupler \"TL-resonator coupler\", n=5, l=320.000,\n",
       "  CPW \"right open end1s0\", l=82.000,\n",
       "  CPW \"right open end1s1\", l=164.000,\n",
       "  CPW \"right open end1s2\", l=164.000,\n",
       "  CPW \"right open end1s3\", l=180.500],\n",
       " [TL closed end 1s0 (n=1),\n",
       "  TL closed end 1s1 (n=1),\n",
       "  TL closed end 1s2 (n=1),\n",
       "  TL closed end 1s3 (n=1),\n",
       "  TL closed end 1s4 (n=1),\n",
       "  TL closed end 1s5 (n=1),\n",
       "  TL closed end 1s6 (n=1),\n",
       "  TL closed end 1s7 (n=1),\n",
       "  TL closed end 1s8 (n=1),\n",
       "  TL closed end 1s9 (n=1),\n",
       "  TL TL-resonator coupler (n=5),\n",
       "  TL right open end1s0 (n=1),\n",
       "  TL right open end1s1 (n=1),\n",
       "  TL right open end1s2 (n=1),\n",
       "  TL right open end1s3 (n=1)])"
      ]
     },
     "execution_count": 37,
     "metadata": {},
     "output_type": "execute_result"
    }
   ],
   "source": [
    "res1_elements = [f for e in res1 for f in e.tls_cache[-1]]\n",
    "res1, res1_elements"
   ]
  },
  {
   "cell_type": "code",
   "execution_count": 39,
   "metadata": {},
   "outputs": [
    {
     "data": {
      "text/plain": [
       "[Short ,\n",
       " Port pad-left-0,\n",
       " Port pad-right-0,\n",
       " Port pad-bottom-0,\n",
       " Port pad-top-0,\n",
       " Port pad-bottom-1,\n",
       " Port pad-top-1,\n",
       " Port pad-bottom-2,\n",
       " Port pad-top-2,\n",
       " JJ Xmon1 jj3,\n",
       " JJ Xmon1 jj1,\n",
       " JJ Xmon1 jj2,\n",
       " L Xmon1 flux-wire,\n",
       " C Xmon1 qubit-ground,\n",
       " C Xmon1 qubit-crabup,\n",
       " C Xmon1 crabup-ground,\n",
       " JJ Coaxmon1 jj3,\n",
       " JJ Coaxmon1 jj1,\n",
       " JJ Coaxmon1 jj2,\n",
       " L Coaxmon1 flux-wire,\n",
       " C Coaxmon1 qubit-ground,\n",
       " C Coaxmon1 qubit-coupler2,\n",
       " C Coaxmon1 coupler2-ground,\n",
       " JJ Coaxmon2 jj3,\n",
       " JJ Coaxmon2 jj1,\n",
       " JJ Coaxmon2 jj2,\n",
       " L Coaxmon2 flux-wire,\n",
       " C Coaxmon2 qubit-ground,\n",
       " C Coaxmon2 qubit-coupler2,\n",
       " C Coaxmon2 coupler2-ground,\n",
       " JJ Coaxmon3 jj3,\n",
       " JJ Coaxmon3 jj1,\n",
       " JJ Coaxmon3 jj2,\n",
       " L Coaxmon3 flux-wire,\n",
       " C Coaxmon3 qubit-ground,\n",
       " C Coaxmon3 qubit-coupler2,\n",
       " C Coaxmon3 coupler2-ground,\n",
       " JJ Xmon2 jj1,\n",
       " JJ Xmon2 jj2,\n",
       " L Xmon2 flux-wire,\n",
       " C Xmon2 qubit-ground,\n",
       " C Xmon2 qubit-crabup,\n",
       " C Xmon2 crabup-ground,\n",
       " JJ Coaxmon4 jj1,\n",
       " JJ Coaxmon4 jj2,\n",
       " L Coaxmon4 flux-wire,\n",
       " C Coaxmon4 qubit-ground,\n",
       " C Coaxmon4 qubit-coupler2,\n",
       " C Coaxmon4 coupler2-ground,\n",
       " TL TL-resonator coupler (n=5),\n",
       " TL closed end resonator fanout_line_0 (n=1),\n",
       " TL closed end resonator fanout_line_1 (n=3),\n",
       " TL closed end resonator fanout_line_2 (n=1),\n",
       " TL closed end resonator fanout_coupled_line_3 (n=5),\n",
       " TL open end resonator fanout_line_0 (n=1),\n",
       " TL open end resonator fanout_line_1 (n=3),\n",
       " TL open end resonator fanout_line_2 (n=1),\n",
       " TL open end resonator fanout_coupled_line_3 (n=5),\n",
       " R cl10,\n",
       " R cl11,\n",
       " TL cl1 (n=1),\n",
       " R cl20,\n",
       " R cl21,\n",
       " TL cl2 (n=1),\n",
       " TL closed end 1s0 (n=1),\n",
       " L closed end 1b0_l,\n",
       " C closed end 1b0_c1,\n",
       " C closed end 1b0_c2,\n",
       " TL closed end 1s1 (n=1),\n",
       " L closed end 1b1_l,\n",
       " C closed end 1b1_c1,\n",
       " C closed end 1b1_c2,\n",
       " TL closed end 1s2 (n=1),\n",
       " L closed end 1b2_l,\n",
       " C closed end 1b2_c1,\n",
       " C closed end 1b2_c2,\n",
       " TL closed end 1s3 (n=1),\n",
       " L closed end 1b3_l,\n",
       " C closed end 1b3_c1,\n",
       " C closed end 1b3_c2,\n",
       " TL closed end 1s4 (n=1),\n",
       " L closed end 1b4_l,\n",
       " C closed end 1b4_c1,\n",
       " C closed end 1b4_c2,\n",
       " TL closed end 1s5 (n=1),\n",
       " L closed end 1b5_l,\n",
       " C closed end 1b5_c1,\n",
       " C closed end 1b5_c2,\n",
       " TL closed end 1s6 (n=1),\n",
       " L closed end 1b6_l,\n",
       " C closed end 1b6_c1,\n",
       " C closed end 1b6_c2,\n",
       " TL closed end 1s7 (n=1),\n",
       " L closed end 1b7_l,\n",
       " C closed end 1b7_c1,\n",
       " C closed end 1b7_c2,\n",
       " TL closed end 1s8 (n=1),\n",
       " L closed end 1b8_l,\n",
       " C closed end 1b8_c1,\n",
       " C closed end 1b8_c2,\n",
       " TL closed end 1s9 (n=1),\n",
       " TL closed end 2s0 (n=1),\n",
       " L closed end 2b0_l,\n",
       " C closed end 2b0_c1,\n",
       " C closed end 2b0_c2,\n",
       " TL closed end 2s1 (n=1),\n",
       " L closed end 2b1_l,\n",
       " C closed end 2b1_c1,\n",
       " C closed end 2b1_c2,\n",
       " TL closed end 2s2 (n=1),\n",
       " L closed end 2b2_l,\n",
       " C closed end 2b2_c1,\n",
       " C closed end 2b2_c2,\n",
       " TL closed end 2s3 (n=1),\n",
       " L closed end 2b3_l,\n",
       " C closed end 2b3_c1,\n",
       " C closed end 2b3_c2,\n",
       " TL closed end 2s4 (n=1),\n",
       " L closed end 2b4_l,\n",
       " C closed end 2b4_c1,\n",
       " C closed end 2b4_c2,\n",
       " TL closed end 2s5 (n=1),\n",
       " L closed end 2b5_l,\n",
       " C closed end 2b5_c1,\n",
       " C closed end 2b5_c2,\n",
       " TL closed end 2s6 (n=1),\n",
       " L closed end 2b6_l,\n",
       " C closed end 2b6_c1,\n",
       " C closed end 2b6_c2,\n",
       " TL closed end 2s7 (n=1),\n",
       " L closed end 2b7_l,\n",
       " C closed end 2b7_c1,\n",
       " C closed end 2b7_c2,\n",
       " TL closed end 2s8 (n=1),\n",
       " L Airbridge over Xmon1 readout resonator_l,\n",
       " C Airbridge over Xmon1 readout resonator_c1,\n",
       " C Airbridge over Xmon1 readout resonator_c2,\n",
       " L Airbridge over Coaxmon1 readout resonator_l,\n",
       " C Airbridge over Coaxmon1 readout resonator_c1,\n",
       " C Airbridge over Coaxmon1 readout resonator_c2,\n",
       " TL right open end1s0 (n=1),\n",
       " L right open end1b0_l,\n",
       " C right open end1b0_c1,\n",
       " C right open end1b0_c2,\n",
       " TL right open end1s1 (n=1),\n",
       " L right open end1b1_l,\n",
       " C right open end1b1_c1,\n",
       " C right open end1b1_c2,\n",
       " TL right open end1s2 (n=1),\n",
       " L right open end1b2_l,\n",
       " C right open end1b2_c1,\n",
       " C right open end1b2_c2,\n",
       " TL right open end1s3 (n=1),\n",
       " TL right open end2s0 (n=1),\n",
       " L right open end2b0_l,\n",
       " C right open end2b0_c1,\n",
       " C right open end2b0_c2,\n",
       " TL right open end2s1 (n=1),\n",
       " L right open end2b1_l,\n",
       " C right open end2b1_c1,\n",
       " C right open end2b1_c2,\n",
       " TL right open end2s2 (n=1),\n",
       " L right open end2b2_l,\n",
       " C right open end2b2_c1,\n",
       " C right open end2b2_c2,\n",
       " TL right open end2s3 (n=1),\n",
       " R resonator ground 11,\n",
       " R resonator ground 21,\n",
       " TL TL-resonator coupler (n=5),\n",
       " TL closed end resonator fanout_line_0 (n=1),\n",
       " TL closed end resonator fanout_line_1 (n=3),\n",
       " TL closed end resonator fanout_line_2 (n=1),\n",
       " TL closed end resonator fanout_coupled_line_3 (n=5),\n",
       " TL open end resonator fanout_line_0 (n=1),\n",
       " TL open end resonator fanout_line_1 (n=3),\n",
       " TL open end resonator fanout_line_2 (n=1),\n",
       " TL open end resonator fanout_coupled_line_3 (n=5),\n",
       " R cl10,\n",
       " R cl11,\n",
       " TL cl1 (n=1),\n",
       " R cl20,\n",
       " R cl21,\n",
       " TL cl2 (n=1),\n",
       " TL closed end 1s0 (n=1),\n",
       " L closed end 1b0_l,\n",
       " C closed end 1b0_c1,\n",
       " C closed end 1b0_c2,\n",
       " TL closed end 1s1 (n=1),\n",
       " L closed end 1b1_l,\n",
       " C closed end 1b1_c1,\n",
       " C closed end 1b1_c2,\n",
       " TL closed end 1s2 (n=1),\n",
       " L closed end 1b2_l,\n",
       " C closed end 1b2_c1,\n",
       " C closed end 1b2_c2,\n",
       " TL closed end 1s3 (n=1),\n",
       " L closed end 1b3_l,\n",
       " C closed end 1b3_c1,\n",
       " C closed end 1b3_c2,\n",
       " TL closed end 1s4 (n=1),\n",
       " L closed end 1b4_l,\n",
       " C closed end 1b4_c1,\n",
       " C closed end 1b4_c2,\n",
       " TL closed end 1s5 (n=1),\n",
       " L closed end 1b5_l,\n",
       " C closed end 1b5_c1,\n",
       " C closed end 1b5_c2,\n",
       " TL closed end 1s6 (n=1),\n",
       " L closed end 1b6_l,\n",
       " C closed end 1b6_c1,\n",
       " C closed end 1b6_c2,\n",
       " TL closed end 1s7 (n=1),\n",
       " L closed end 1b7_l,\n",
       " C closed end 1b7_c1,\n",
       " C closed end 1b7_c2,\n",
       " TL closed end 1s8 (n=1),\n",
       " TL closed end 2s0 (n=1),\n",
       " L closed end 2b0_l,\n",
       " C closed end 2b0_c1,\n",
       " C closed end 2b0_c2,\n",
       " TL closed end 2s1 (n=1),\n",
       " L closed end 2b1_l,\n",
       " C closed end 2b1_c1,\n",
       " C closed end 2b1_c2,\n",
       " TL closed end 2s2 (n=1),\n",
       " L closed end 2b2_l,\n",
       " C closed end 2b2_c1,\n",
       " C closed end 2b2_c2,\n",
       " TL closed end 2s3 (n=1),\n",
       " L closed end 2b3_l,\n",
       " C closed end 2b3_c1,\n",
       " C closed end 2b3_c2,\n",
       " TL closed end 2s4 (n=1),\n",
       " L closed end 2b4_l,\n",
       " C closed end 2b4_c1,\n",
       " C closed end 2b4_c2,\n",
       " TL closed end 2s5 (n=1),\n",
       " L closed end 2b5_l,\n",
       " C closed end 2b5_c1,\n",
       " C closed end 2b5_c2,\n",
       " TL closed end 2s6 (n=1),\n",
       " L closed end 2b6_l,\n",
       " C closed end 2b6_c1,\n",
       " C closed end 2b6_c2,\n",
       " TL closed end 2s7 (n=1),\n",
       " L Airbridge over Coaxmon2 readout resonator_l,\n",
       " C Airbridge over Coaxmon2 readout resonator_c1,\n",
       " C Airbridge over Coaxmon2 readout resonator_c2,\n",
       " L Airbridge over Coaxmon3 readout resonator_l,\n",
       " C Airbridge over Coaxmon3 readout resonator_c1,\n",
       " C Airbridge over Coaxmon3 readout resonator_c2,\n",
       " TL right open end1s0 (n=1),\n",
       " L right open end1b0_l,\n",
       " C right open end1b0_c1,\n",
       " C right open end1b0_c2,\n",
       " TL right open end1s1 (n=1),\n",
       " L right open end1b1_l,\n",
       " C right open end1b1_c1,\n",
       " C right open end1b1_c2,\n",
       " TL right open end1s2 (n=1),\n",
       " L right open end1b2_l,\n",
       " C right open end1b2_c1,\n",
       " C right open end1b2_c2,\n",
       " TL right open end1s3 (n=1),\n",
       " TL right open end2s0 (n=1),\n",
       " L right open end2b0_l,\n",
       " C right open end2b0_c1,\n",
       " C right open end2b0_c2,\n",
       " TL right open end2s1 (n=1),\n",
       " L right open end2b1_l,\n",
       " C right open end2b1_c1,\n",
       " C right open end2b1_c2,\n",
       " TL right open end2s2 (n=1),\n",
       " L right open end2b2_l,\n",
       " C right open end2b2_c1,\n",
       " C right open end2b2_c2,\n",
       " TL right open end2s3 (n=1),\n",
       " R resonator ground 11,\n",
       " R resonator ground 21,\n",
       " TL TL-resonator coupler (n=5),\n",
       " TL closed end resonator fanout_line_0 (n=1),\n",
       " TL closed end resonator fanout_line_1 (n=3),\n",
       " TL closed end resonator fanout_line_2 (n=1),\n",
       " TL closed end resonator fanout_coupled_line_3 (n=5),\n",
       " TL open end resonator fanout_line_0 (n=1),\n",
       " TL open end resonator fanout_line_1 (n=3),\n",
       " TL open end resonator fanout_line_2 (n=1),\n",
       " TL open end resonator fanout_coupled_line_3 (n=5),\n",
       " R cl10,\n",
       " R cl11,\n",
       " TL cl1 (n=1),\n",
       " R cl20,\n",
       " R cl21,\n",
       " TL cl2 (n=1),\n",
       " TL closed end 1s0 (n=1),\n",
       " L closed end 1b0_l,\n",
       " C closed end 1b0_c1,\n",
       " C closed end 1b0_c2,\n",
       " TL closed end 1s1 (n=1),\n",
       " L closed end 1b1_l,\n",
       " C closed end 1b1_c1,\n",
       " C closed end 1b1_c2,\n",
       " TL closed end 1s2 (n=1),\n",
       " L closed end 1b2_l,\n",
       " C closed end 1b2_c1,\n",
       " C closed end 1b2_c2,\n",
       " TL closed end 1s3 (n=1),\n",
       " L closed end 1b3_l,\n",
       " C closed end 1b3_c1,\n",
       " C closed end 1b3_c2,\n",
       " TL closed end 1s4 (n=1),\n",
       " L closed end 1b4_l,\n",
       " C closed end 1b4_c1,\n",
       " C closed end 1b4_c2,\n",
       " TL closed end 1s5 (n=1),\n",
       " L closed end 1b5_l,\n",
       " C closed end 1b5_c1,\n",
       " C closed end 1b5_c2,\n",
       " TL closed end 1s6 (n=1),\n",
       " TL closed end 2s0 (n=1),\n",
       " L closed end 2b0_l,\n",
       " C closed end 2b0_c1,\n",
       " C closed end 2b0_c2,\n",
       " TL closed end 2s1 (n=1),\n",
       " L closed end 2b1_l,\n",
       " C closed end 2b1_c1,\n",
       " C closed end 2b1_c2,\n",
       " TL closed end 2s2 (n=1),\n",
       " L closed end 2b2_l,\n",
       " C closed end 2b2_c1,\n",
       " C closed end 2b2_c2,\n",
       " TL closed end 2s3 (n=1),\n",
       " L closed end 2b3_l,\n",
       " C closed end 2b3_c1,\n",
       " C closed end 2b3_c2,\n",
       " TL closed end 2s4 (n=1),\n",
       " L Airbridge over Xmon2 readout resonator_l,\n",
       " C Airbridge over Xmon2 readout resonator_c1,\n",
       " C Airbridge over Xmon2 readout resonator_c2,\n",
       " L Airbridge over Coaxmon4 readout resonator_l,\n",
       " C Airbridge over Coaxmon4 readout resonator_c1,\n",
       " C Airbridge over Coaxmon4 readout resonator_c2,\n",
       " TL right open end1s0 (n=1),\n",
       " L right open end1b0_l,\n",
       " C right open end1b0_c1,\n",
       " C right open end1b0_c2,\n",
       " TL right open end1s1 (n=1),\n",
       " L right open end1b1_l,\n",
       " C right open end1b1_c1,\n",
       " C right open end1b1_c2,\n",
       " TL right open end1s2 (n=1),\n",
       " L right open end1b2_l,\n",
       " C right open end1b2_c1,\n",
       " C right open end1b2_c2,\n",
       " TL right open end1s3 (n=1),\n",
       " TL right open end2s0 (n=1),\n",
       " L right open end2b0_l,\n",
       " C right open end2b0_c1,\n",
       " C right open end2b0_c2,\n",
       " TL right open end2s1 (n=1),\n",
       " L right open end2b1_l,\n",
       " C right open end2b1_c1,\n",
       " C right open end2b1_c2,\n",
       " TL right open end2s2 (n=1),\n",
       " L right open end2b2_l,\n",
       " C right open end2b2_c1,\n",
       " C right open end2b2_c2,\n",
       " TL right open end2s3 (n=1),\n",
       " R resonator ground 11,\n",
       " R resonator ground 21,\n",
       " TL TL-resonator coupler (n=5),\n",
       " TL closed end resonator fanout_line_0 (n=1),\n",
       " TL closed end resonator fanout_line_1 (n=3),\n",
       " TL closed end resonator fanout_line_2 (n=1),\n",
       " TL closed end resonator fanout_coupled_line_3 (n=5),\n",
       " TL open end resonator fanout_line_0 (n=1),\n",
       " TL open end resonator fanout_line_1 (n=3),\n",
       " TL open end resonator fanout_line_2 (n=1),\n",
       " TL open end resonator fanout_coupled_line_3 (n=5),\n",
       " R cl10,\n",
       " R cl11,\n",
       " TL cl1 (n=1),\n",
       " R cl20,\n",
       " R cl21,\n",
       " TL cl2 (n=1),\n",
       " TL closed end 1s0 (n=1),\n",
       " L closed end 1b0_l,\n",
       " C closed end 1b0_c1,\n",
       " C closed end 1b0_c2,\n",
       " TL closed end 1s1 (n=1),\n",
       " L closed end 1b1_l,\n",
       " C closed end 1b1_c1,\n",
       " C closed end 1b1_c2,\n",
       " TL closed end 1s2 (n=1),\n",
       " L closed end 1b2_l,\n",
       " C closed end 1b2_c1,\n",
       " C closed end 1b2_c2,\n",
       " TL closed end 1s3 (n=1),\n",
       " L closed end 1b3_l,\n",
       " C closed end 1b3_c1,\n",
       " C closed end 1b3_c2,\n",
       " TL closed end 1s4 (n=1),\n",
       " L closed end 1b4_l,\n",
       " C closed end 1b4_c1,\n",
       " C closed end 1b4_c2,\n",
       " TL closed end 1s5 (n=1),\n",
       " L closed end 1b5_l,\n",
       " C closed end 1b5_c1,\n",
       " C closed end 1b5_c2,\n",
       " TL closed end 1s6 (n=1),\n",
       " TL closed end 2s0 (n=1),\n",
       " L closed end 2b0_l,\n",
       " C closed end 2b0_c1,\n",
       " C closed end 2b0_c2,\n",
       " TL closed end 2s1 (n=1),\n",
       " L closed end 2b1_l,\n",
       " C closed end 2b1_c1,\n",
       " C closed end 2b1_c2,\n",
       " TL closed end 2s2 (n=1),\n",
       " L closed end 2b2_l,\n",
       " C closed end 2b2_c1,\n",
       " C closed end 2b2_c2,\n",
       " TL closed end 2s3 (n=1),\n",
       " L closed end 2b3_l,\n",
       " C closed end 2b3_c1,\n",
       " C closed end 2b3_c2,\n",
       " TL closed end 2s4 (n=1),\n",
       " L closed end 2b4_l,\n",
       " C closed end 2b4_c1,\n",
       " C closed end 2b4_c2,\n",
       " TL closed end 2s5 (n=1),\n",
       " L closed end 2b5_l,\n",
       " C closed end 2b5_c1,\n",
       " C closed end 2b5_c2,\n",
       " TL closed end 2s6 (n=1),\n",
       " C open_end,\n",
       " C open_end,\n",
       " TL right open end1s0 (n=1),\n",
       " L right open end1b0_l,\n",
       " C right open end1b0_c1,\n",
       " C right open end1b0_c2,\n",
       " TL right open end1s1 (n=1),\n",
       " L right open end1b1_l,\n",
       " C right open end1b1_c1,\n",
       " C right open end1b1_c2,\n",
       " TL right open end1s2 (n=1),\n",
       " L right open end1b2_l,\n",
       " C right open end1b2_c1,\n",
       " C right open end1b2_c2,\n",
       " TL right open end1s3 (n=1),\n",
       " L right open end1b3_l,\n",
       " C right open end1b3_c1,\n",
       " C right open end1b3_c2,\n",
       " TL right open end1s4 (n=1),\n",
       " L right open end1b4_l,\n",
       " C right open end1b4_c1,\n",
       " C right open end1b4_c2,\n",
       " TL right open end1s5 (n=1),\n",
       " TL right open end2s0 (n=1),\n",
       " L right open end2b0_l,\n",
       " C right open end2b0_c1,\n",
       " C right open end2b0_c2,\n",
       " TL right open end2s1 (n=1),\n",
       " L right open end2b1_l,\n",
       " C right open end2b1_c1,\n",
       " C right open end2b1_c2,\n",
       " TL right open end2s2 (n=1),\n",
       " L right open end2b2_l,\n",
       " C right open end2b2_c1,\n",
       " C right open end2b2_c2,\n",
       " TL right open end2s3 (n=1),\n",
       " L right open end2b3_l,\n",
       " C right open end2b3_c1,\n",
       " C right open end2b3_c2,\n",
       " TL right open end2s4 (n=1),\n",
       " L right open end2b4_l,\n",
       " C right open end2b4_c1,\n",
       " C right open end2b4_c2,\n",
       " TL right open end2s5 (n=1),\n",
       " R resonator ground 11,\n",
       " R resonator ground 21,\n",
       " TL right TLs0 (n=1),\n",
       " L right TLb0_l,\n",
       " C right TLb0_c1,\n",
       " C right TLb0_c2,\n",
       " TL right TLs1 (n=1),\n",
       " TL right TLs0 (n=1),\n",
       " L right TLb0_l,\n",
       " C right TLb0_c1,\n",
       " C right TLb0_c2,\n",
       " TL right TLs1 (n=1),\n",
       " L right TLb1_l,\n",
       " C right TLb1_c1,\n",
       " C right TLb1_c2,\n",
       " TL right TLs2 (n=1),\n",
       " TL right TLs0 (n=1),\n",
       " L right TLb0_l,\n",
       " C right TLb0_c1,\n",
       " C right TLb0_c2,\n",
       " TL right TLs1 (n=1),\n",
       " L right TLb1_l,\n",
       " C right TLb1_c1,\n",
       " C right TLb1_c2,\n",
       " TL right TLs2 (n=1),\n",
       " TL right TLs0 (n=1),\n",
       " L right TLb0_l,\n",
       " C right TLb0_c1,\n",
       " C right TLb0_c2,\n",
       " TL right TLs1 (n=1),\n",
       " TL right TLs0 (n=1),\n",
       " L Airbridge over Coaxmon1 qubit flux coupler_l,\n",
       " C Airbridge over Coaxmon1 qubit flux coupler_c1,\n",
       " C Airbridge over Coaxmon1 qubit flux coupler_c2,\n",
       " L CPW Narrowing flux_line_narrowing L,\n",
       " C CPW Narrowing flux_line_narrowing C1,\n",
       " C CPW Narrowing flux_line_narrowing C2,\n",
       " TL flux_control_line_qubit_Coaxmon1s0 (n=1),\n",
       " L flux_control_line_qubit_Coaxmon1b0_l,\n",
       " C flux_control_line_qubit_Coaxmon1b0_c1,\n",
       " C flux_control_line_qubit_Coaxmon1b0_c2,\n",
       " TL flux_control_line_qubit_Coaxmon1s1 (n=1),\n",
       " L Airbridge over Coaxmon2 qubit flux coupler_l,\n",
       " C Airbridge over Coaxmon2 qubit flux coupler_c1,\n",
       " C Airbridge over Coaxmon2 qubit flux coupler_c2,\n",
       " L CPW Narrowing flux_line_narrowing L,\n",
       " C CPW Narrowing flux_line_narrowing C1,\n",
       " C CPW Narrowing flux_line_narrowing C2,\n",
       " TL flux_control_line_qubit_Coaxmon2s0 (n=1),\n",
       " L Airbridge over Coaxmon3 qubit flux coupler_l,\n",
       " C Airbridge over Coaxmon3 qubit flux coupler_c1,\n",
       " C Airbridge over Coaxmon3 qubit flux coupler_c2,\n",
       " L CPW Narrowing flux_line_narrowing L,\n",
       " C CPW Narrowing flux_line_narrowing C1,\n",
       " C CPW Narrowing flux_line_narrowing C2,\n",
       " TL flux_control_line_qubit_Coaxmon3s0 (n=1),\n",
       " L flux_control_line_qubit_Coaxmon3b0_l,\n",
       " C flux_control_line_qubit_Coaxmon3b0_c1,\n",
       " C flux_control_line_qubit_Coaxmon3b0_c2,\n",
       " TL flux_control_line_qubit_Coaxmon3s1 (n=1),\n",
       " L Airbridge over Coaxmon4 qubit flux coupler_l,\n",
       " C Airbridge over Coaxmon4 qubit flux coupler_c1,\n",
       " C Airbridge over Coaxmon4 qubit flux coupler_c2,\n",
       " L CPW Narrowing flux_line_narrowing L,\n",
       " C CPW Narrowing flux_line_narrowing C1,\n",
       " C CPW Narrowing flux_line_narrowing C2,\n",
       " TL flux_control_line_qubit_Coaxmon4s0 (n=1),\n",
       " L flux_control_line_qubit_Coaxmon4b0_l,\n",
       " C flux_control_line_qubit_Coaxmon4b0_c1,\n",
       " C flux_control_line_qubit_Coaxmon4b0_c2,\n",
       " TL flux_control_line_qubit_Coaxmon4s1 (n=1),\n",
       " L Airbridge over Coaxmon4 qubit flux coupler_l,\n",
       " C Airbridge over Coaxmon4 qubit flux coupler_c1,\n",
       " C Airbridge over Coaxmon4 qubit flux coupler_c2,\n",
       " L CPW Narrowing flux_line_narrowing L,\n",
       " C CPW Narrowing flux_line_narrowing C1,\n",
       " C CPW Narrowing flux_line_narrowing C2,\n",
       " TL flux_control_line_qubit_Xmon1s0 (n=1),\n",
       " L flux_control_line_qubit_Xmon1b0_l,\n",
       " C flux_control_line_qubit_Xmon1b0_c1,\n",
       " C flux_control_line_qubit_Xmon1b0_c2,\n",
       " TL flux_control_line_qubit_Xmon1s1 (n=1),\n",
       " L Airbridge over Coaxmon4 qubit flux coupler_l,\n",
       " C Airbridge over Coaxmon4 qubit flux coupler_c1,\n",
       " C Airbridge over Coaxmon4 qubit flux coupler_c2,\n",
       " L CPW Narrowing flux_line_narrowing L,\n",
       " C CPW Narrowing flux_line_narrowing C1,\n",
       " C CPW Narrowing flux_line_narrowing C2,\n",
       " TL flux_control_line_qubit_Xmon2s0 (n=1),\n",
       " L flux_control_line_qubit_Xmon2b0_l,\n",
       " C flux_control_line_qubit_Xmon2b0_c1,\n",
       " C flux_control_line_qubit_Xmon2b0_c2,\n",
       " TL flux_control_line_qubit_Xmon2s1 (n=1)]"
      ]
     },
     "execution_count": 39,
     "metadata": {},
     "output_type": "execute_result"
    }
   ],
   "source": [
    "sys.elements"
   ]
  },
  {
   "cell_type": "code",
   "execution_count": 40,
   "metadata": {},
   "outputs": [
    {
     "data": {
      "text/plain": [
       "[('14', 1.4243168498932092e-14),\n",
       " ('23', 1.3364391385861173e-14),\n",
       " ('4', 1.1224831817586956e-14),\n",
       " ('121', 1.1191276045589706e-14),\n",
       " ('31', 1.047805837922934e-14),\n",
       " ('38', 9.518938551239564e-15),\n",
       " ('45', 8.783307619295428e-15),\n",
       " ('63', 8.598877672270912e-15),\n",
       " ('54', 7.202813144111378e-15),\n",
       " ('73', 5.951719922301829e-15),\n",
       " ('90', 5.228879492556468e-15),\n",
       " ('82', 5.159855148211965e-15),\n",
       " ('125', 4.6998740014018875e-15),\n",
       " ('98', 4.462732616150279e-15),\n",
       " ('139', 4.07370167141629e-15),\n",
       " ('131', 3.753406568987736e-15),\n",
       " ('113', 3.537058215696453e-15),\n",
       " ('150', 3.5178044421688055e-15),\n",
       " ('104', 2.860360664910105e-15),\n",
       " ('159', 2.356390897318824e-15),\n",
       " ('168', 2.1785380148301457e-15),\n",
       " ('177', 2.1549425648464535e-15),\n",
       " ('197', 1.9918556298858017e-15),\n",
       " ('187', 1.9660228370909877e-15),\n",
       " ('211', 1.6706571603131103e-15),\n",
       " ('303', 1.631492104922199e-15),\n",
       " ('221', 1.6271862077002794e-15),\n",
       " ('206', 1.5805442234005146e-15),\n",
       " ('228', 1.4269548966120447e-15),\n",
       " ('243', 1.389174377940098e-15),\n",
       " ('236', 1.3706856619019669e-15),\n",
       " ('17', 1.2294723895849113e-15),\n",
       " ('134', 1.0843479659549437e-15),\n",
       " ('25', 1.0829728391465221e-15),\n",
       " ('269', 1.0665079070573938e-15),\n",
       " ('327', 9.962172726410485e-16),\n",
       " ('298', 9.790950376433784e-16),\n",
       " ('250', 9.786418953244265e-16),\n",
       " ('297', 9.61072272363601e-16),\n",
       " ('6', 9.502984941762041e-16),\n",
       " ('34', 8.473332653496284e-16),\n",
       " ('105', 8.312374978569967e-16),\n",
       " ('42', 7.886266916668525e-16),\n",
       " ('62', 7.622463746666517e-16),\n",
       " ('289', 7.559415553119463e-16),\n",
       " ('306', 7.508892600809613e-16),\n",
       " ('319', 7.296330956912468e-16),\n",
       " ('51', 6.913256236168361e-16),\n",
       " ('264', 6.775412998068007e-16),\n",
       " ('280', 6.530794375268767e-16),\n",
       " ('321', 6.012159662490365e-16),\n",
       " ('144', 5.865505633739187e-16),\n",
       " ('331', 5.837318086187026e-16),\n",
       " ('116', 5.626037029820404e-16),\n",
       " ('275', 5.45492004892912e-16),\n",
       " ('309', 4.871176606987076e-16),\n",
       " ('71', 4.842031002389627e-16),\n",
       " ('46', 4.664375180014742e-16),\n",
       " ('248', 4.63810870235504e-16),\n",
       " ('37', 4.3911041976115375e-16),\n",
       " ('87', 4.31472755226799e-16),\n",
       " ('333', 4.172463207084992e-16),\n",
       " ('315', 4.08522996988201e-16),\n",
       " ('79', 4.065872002662781e-16),\n",
       " ('27', 3.956931585622213e-16),\n",
       " ('15', 3.923351562802996e-16),\n",
       " ('57', 3.778042135379702e-16),\n",
       " ('97', 3.550542021616991e-16),\n",
       " ('286', 3.540631571772193e-16),\n",
       " ('249', 3.4881318471548367e-16),\n",
       " ('153', 3.0159636094510874e-16),\n",
       " ('68', 2.6694836965294264e-16),\n",
       " ('227', 2.0085278962323618e-16),\n",
       " ('162', 2.0069215089202155e-16),\n",
       " ('180', 1.959067981878863e-16),\n",
       " ('171', 1.7339819037685436e-16),\n",
       " ('78', 1.6688262450776286e-16),\n",
       " ('193', 1.5880039419513788e-16),\n",
       " ('207', 1.512469574887448e-16),\n",
       " ('199', 1.3114741396430237e-16),\n",
       " ('133', 1.3083994262459716e-16),\n",
       " ('117', 1.2636588863230649e-16),\n",
       " ('141', 1.247829577957899e-16),\n",
       " ('202', 1.2377968261504784e-16),\n",
       " ('106', 1.120181873312869e-16),\n",
       " ('88', 1.0713461724139647e-16),\n",
       " ('151', 1.0264985253051592e-16),\n",
       " ('176', 9.660681098139933e-17),\n",
       " ('190', 9.140277038409185e-17),\n",
       " ('96', 8.985208172046718e-17),\n",
       " ('167', 8.713921838137875e-17),\n",
       " ('217', 8.495408281540132e-17),\n",
       " ('214', 8.374747752228301e-17),\n",
       " ('253', 7.082669961880894e-17),\n",
       " ('231', 7.017392257459312e-17),\n",
       " ('1', 5.104745996833994e-17),\n",
       " ('254', 3.00255427462725e-17),\n",
       " ('242', 2.6543534151972114e-17),\n",
       " ('2', 7.88380387637421e-18),\n",
       " ('53', 2.183160347597469e-18),\n",
       " ('61', 1.5924832178785116e-18),\n",
       " ('245', 1.481399630730888e-18),\n",
       " ('279', 1.4811827742051103e-18),\n",
       " ('244', 1.0550533698800294e-18),\n",
       " ('130', 8.046168194973729e-19),\n",
       " ('126', 6.32486944849509e-19),\n",
       " ('251', 6.222798453577522e-19),\n",
       " ('77', 4.809859293175513e-19),\n",
       " ('83', 4.749372261148223e-19),\n",
       " ('72', 4.721329013597386e-19),\n",
       " ('69', 4.461846015510408e-19),\n",
       " ('48', 4.362572790613659e-19),\n",
       " ('89', 4.345684281439977e-19),\n",
       " ('47', 4.3424419256437595e-19),\n",
       " ('122', 4.3302424038061306e-19),\n",
       " ('43', 4.109441167526279e-19),\n",
       " ('66', 4.105219855666926e-19),\n",
       " ('50', 4.090713928147822e-19),\n",
       " ('56', 4.0820663208506675e-19),\n",
       " ('30', 4.0390899660192937e-19),\n",
       " ('59', 3.8503886495236283e-19),\n",
       " ('44', 3.701828729379452e-19),\n",
       " ('49', 3.567726255027473e-19),\n",
       " ('91', 3.514662389313116e-19),\n",
       " ('70', 3.504682197254264e-19),\n",
       " ('81', 3.3929874883300493e-19),\n",
       " ('64', 3.373225857676377e-19),\n",
       " ('41', 3.3148095133076366e-19),\n",
       " ('36', 3.286400184390645e-19),\n",
       " ('58', 3.2614392486340757e-19),\n",
       " ('60', 3.1968861539617997e-19),\n",
       " ('99', 3.0967466048207936e-19),\n",
       " ('32', 2.975408775175795e-19),\n",
       " ('35', 2.7345663974671377e-19),\n",
       " ('40', 2.6752919756862657e-19),\n",
       " ('67', 2.5672302854419426e-19),\n",
       " ('100', 2.44745334366331e-19),\n",
       " ('39', 2.4256194291038144e-19),\n",
       " ('28', 2.42007880569577e-19),\n",
       " ('33', 2.3351382036594697e-19),\n",
       " ('75', 2.2020159541546037e-19),\n",
       " ('247', 2.192335818644765e-19),\n",
       " ('26', 2.1680295436574527e-19),\n",
       " ('84', 2.0987532898597174e-19),\n",
       " ('232', 2.0851818960297605e-19),\n",
       " ('108', 2.067942752785475e-19),\n",
       " ('149', 2.0170496521906991e-19),\n",
       " ('204', 1.924660017067737e-19),\n",
       " ('24', 1.9160019124773616e-19),\n",
       " ('109', 1.882154757069826e-19),\n",
       " ('22', 1.8081657993389224e-19),\n",
       " ('127', 1.7948011246552608e-19),\n",
       " ('215', 1.7893225014670503e-19),\n",
       " ('76', 1.6892616359677944e-19),\n",
       " ('29', 1.6062490030299725e-19),\n",
       " ('132', 1.599202231524339e-19),\n",
       " ('85', 1.5231703074498791e-19),\n",
       " ('92', 1.41698092282225e-19),\n",
       " ('86', 1.4161310483154087e-19),\n",
       " ('94', 1.300228825091112e-19),\n",
       " ('19', 1.2463041687050628e-19),\n",
       " ('118', 1.2114408728816258e-19),\n",
       " ('218', 1.187139193772044e-19),\n",
       " ('246', 1.1737053841447414e-19),\n",
       " ('160', 1.0743414502971254e-19),\n",
       " ('136', 1.0454652516570874e-19),\n",
       " ('93', 1.0207968644425351e-19),\n",
       " ('200', 9.97245240559944e-20),\n",
       " ('18', 9.280617848283017e-20),\n",
       " ('119', 8.888638705174505e-20),\n",
       " ('20', 8.605416216489087e-20),\n",
       " ('16', 8.257311659531589e-20),\n",
       " ('276', 8.196675342475814e-20),\n",
       " ('212', 8.100345768922746e-20),\n",
       " ('95', 8.02684222811666e-20),\n",
       " ('21', 8.001664673999738e-20),\n",
       " ('146', 6.642067909739016e-20),\n",
       " ('101', 6.079792917508568e-20),\n",
       " ('210', 5.641346323813851e-20),\n",
       " ('158', 5.120291607570084e-20),\n",
       " ('107', 5.103886119177512e-20),\n",
       " ('137', 5.03909350766197e-20),\n",
       " ('209', 4.948687541629142e-20),\n",
       " ('102', 4.649209075089627e-20),\n",
       " ('156', 4.504378428359224e-20),\n",
       " ('147', 4.479567053055248e-20),\n",
       " ('103', 3.9248754065558595e-20),\n",
       " ('291', 3.5920271401577835e-20),\n",
       " ('189', 3.2032718759904435e-20),\n",
       " ('181', 2.706934358775831e-20),\n",
       " ('216', 2.6593472545823693e-20),\n",
       " ('203', 2.6473547452980805e-20),\n",
       " ('205', 2.5610490496683717e-20),\n",
       " ('230', 2.308252257952749e-20),\n",
       " ('110', 1.974931301562811e-20),\n",
       " ('129', 1.9737670556407624e-20),\n",
       " ('182', 1.9249998433432792e-20),\n",
       " ('192', 1.9064846609074552e-20),\n",
       " ('201', 1.843407056414301e-20),\n",
       " ('241', 1.843263335705465e-20),\n",
       " ('178', 1.6012901654845323e-20),\n",
       " ('123', 1.583913778072943e-20),\n",
       " ('13', 1.533768844953988e-20),\n",
       " ('111', 1.515301892805588e-20),\n",
       " ('114', 1.3768877288295525e-20),\n",
       " ('175', 1.3141079895263844e-20),\n",
       " ('198', 1.2807389572278688e-20),\n",
       " ('229', 1.2014996025501638e-20),\n",
       " ('226', 1.164943170943095e-20),\n",
       " ('8', 1.044288607456186e-20),\n",
       " ('238', 1.037605761275212e-20),\n",
       " ('140', 1.0210829753266393e-20),\n",
       " ('169', 1.0159710238313934e-20),\n",
       " ('194', 1.014649968344423e-20),\n",
       " ('12', 9.977808130974965e-21),\n",
       " ('224', 9.863033355996947e-21),\n",
       " ('120', 9.718064637294312e-21),\n",
       " ('196', 9.650555226148215e-21),\n",
       " ('143', 9.38335909158174e-21),\n",
       " ('172', 9.167643585880852e-21),\n",
       " ('7', 8.850120944296126e-21),\n",
       " ('5', 7.352349887031637e-21),\n",
       " ('170', 7.005764424845122e-21),\n",
       " ('11', 6.794618294900542e-21),\n",
       " ('234', 6.519933331627969e-21),\n",
       " ('186', 6.1715698393849934e-21),\n",
       " ('9', 6.1524583276963955e-21),\n",
       " ('145', 5.76525305299376e-21),\n",
       " ('184', 4.8112253847736225e-21),\n",
       " ('165', 4.712899452543435e-21),\n",
       " ('239', 4.241693975004646e-21),\n",
       " ('163', 3.703184553472509e-21),\n",
       " ('208', 3.701988667897668e-21),\n",
       " ('195', 3.392350765191985e-21),\n",
       " ('148', 3.243276619467338e-21),\n",
       " ('233', 3.231917462627449e-21),\n",
       " ('142', 2.875571009868679e-21),\n",
       " ('225', 2.765906999560872e-21),\n",
       " ('164', 2.592776546621763e-21),\n",
       " ('220', 2.5225305137105115e-21),\n",
       " ('161', 2.36926396606023e-21),\n",
       " ('166', 1.883733583094985e-21),\n",
       " ('237', 1.8380982782508402e-21),\n",
       " ('222', 1.1098763348706265e-21),\n",
       " ('223', 9.357331471410256e-22),\n",
       " ('157', 7.242482422161536e-22),\n",
       " ('285', 5.836862517311404e-22),\n",
       " ('311', 5.474033556615547e-22),\n",
       " ('174', 4.887169517249045e-22),\n",
       " ('155', 4.130195762525059e-22),\n",
       " ('10', 3.566201733720057e-22),\n",
       " ('173', 2.1090544118591474e-22),\n",
       " ('235', 2.0432979278034573e-22),\n",
       " ('154', 1.3456821812266957e-22),\n",
       " ('277', 1.2476065998950715e-22),\n",
       " ('0', 5.374121650482154e-23),\n",
       " ('240', 5.209816171214659e-23),\n",
       " ('263', 4.298278199461369e-23),\n",
       " ('152', 4.296711170077605e-23),\n",
       " ('290', 3.392103214737627e-23),\n",
       " ('3', 2.776284827588904e-23),\n",
       " ('323', 1.07712682205925e-23),\n",
       " ('293', 2.2963669068131818e-24),\n",
       " ('213', 1.834717496813791e-24),\n",
       " ('252', 1.105606973205706e-25),\n",
       " ('262', 7.180985040855313e-26),\n",
       " ('278', 3.1286243308670307e-26),\n",
       " ('335', 1.800978230690141e-26),\n",
       " ('310', 1.1476428259837357e-26),\n",
       " ('268', 8.22156904820614e-27),\n",
       " ('284', 1.1653140378081411e-27),\n",
       " ('267', 7.599697727307138e-28),\n",
       " ('295', 1.8937764898705504e-28),\n",
       " ('287', 1.3846902649007035e-28),\n",
       " ('301', 1.3712623104687363e-28),\n",
       " ('314', 1.2086440200260137e-28),\n",
       " ('304', 7.670635785771759e-29),\n",
       " ('266', 4.1572181179691456e-29),\n",
       " ('305', 2.5232181289348224e-29),\n",
       " ('55', 2.2022229505591433e-29),\n",
       " ('265', 2.132940367876287e-29),\n",
       " ('302', 1.2226908178312378e-29),\n",
       " ('185', 1.1867272007355514e-29),\n",
       " ('183', 3.9366764320886836e-30),\n",
       " ('112', 3.605716947323807e-30),\n",
       " ('322', 3.5163088528384665e-30),\n",
       " ('292', 2.8985001535952214e-30),\n",
       " ('260', 2.8228398367514248e-30),\n",
       " ('282', 5.273225904710808e-31),\n",
       " ('135', 3.855676882362859e-31),\n",
       " ('256', 2.8501643383244276e-31),\n",
       " ('330', 2.5105848675940154e-31),\n",
       " ('74', 4.909194080702406e-32),\n",
       " ('294', 4.580984392476542e-32),\n",
       " ('258', 1.1318127564900614e-32),\n",
       " ('296', 9.417746166843006e-33),\n",
       " ('273', 1.1708341591954601e-33),\n",
       " ('318', 1.0904776162388455e-33),\n",
       " ('179', 5.440526268122166e-34),\n",
       " ('288', 1.2386004422256923e-34),\n",
       " ('281', 1.01776088692532e-34),\n",
       " ('255', 2.5278459596600043e-35),\n",
       " ('188', 2.424555520393988e-35),\n",
       " ('271', 1.1447685947928355e-35),\n",
       " ('334', 1.1133485899089241e-35),\n",
       " ('325', 1.0281407308735328e-35),\n",
       " ('191', 5.472004010046849e-36),\n",
       " ('326', 3.1193974003866577e-36),\n",
       " ('272', 2.0597540064666425e-36),\n",
       " ('274', 1.647948731372238e-36),\n",
       " ('307', 6.7944728293095394e-37),\n",
       " ('329', 5.966024318100742e-37),\n",
       " ('308', 2.2249298234880663e-37),\n",
       " ('313', 2.0528835005109525e-37),\n",
       " ('257', 1.4568780209314866e-37),\n",
       " ('317', 1.0753089884751277e-37),\n",
       " ('283', 9.448368538592572e-38),\n",
       " ('259', 7.642111404823378e-38),\n",
       " ('261', 7.641971167314253e-38),\n",
       " ('138', 2.9561565407043397e-38),\n",
       " ('316', 8.522373198877578e-39),\n",
       " ('270', 7.473737130198707e-39),\n",
       " ('219', 5.2514456057064784e-39),\n",
       " ('299', 4.432741312561243e-39),\n",
       " ('80', 2.7758522748469127e-39),\n",
       " ('128', 2.4675186233413342e-39),\n",
       " ('115', 1.023938782000478e-39),\n",
       " ('300', 6.628832645954534e-40),\n",
       " ('52', 6.613399067096343e-40),\n",
       " ('328', 5.212247149972509e-40),\n",
       " ('124', 1.8133581645893458e-40),\n",
       " ('320', 5.717048379812556e-41),\n",
       " ('65', 4.59141810194016e-41),\n",
       " ('332', 2.5311305735107007e-41),\n",
       " ('312', 2.1248276280718595e-42),\n",
       " ('324', 7.344683010288894e-43)]"
      ]
     },
     "execution_count": 40,
     "metadata": {},
     "output_type": "execute_result"
    }
   ],
   "source": [
    "distribution_resonator = sys.energy_distribution_cell(modes, element_cell=res1_elements)\n",
    "distribution_resonator"
   ]
  },
  {
   "cell_type": "markdown",
   "metadata": {},
   "source": [
    "# galvanic connection graph"
   ]
  },
  {
   "cell_type": "code",
   "execution_count": 19,
   "metadata": {},
   "outputs": [],
   "source": [
    "g = sys.get_graph()\n",
    "g.remove_node(0)  # remove ground node so that it doesn't connect different stuff"
   ]
  },
  {
   "cell_type": "code",
   "execution_count": 22,
   "metadata": {},
   "outputs": [],
   "source": [
    "%matplotlib qt\n",
    "import matplotlib.pyplot as plt\n",
    "import networkx as nx\n",
    "plt.figure(figsize=(10,10))\n",
    "nx.draw(g, node_size=10, with_labels=True)"
   ]
  },
  {
   "cell_type": "code",
   "execution_count": null,
   "metadata": {
    "jupyter": {
     "outputs_hidden": true
    }
   },
   "outputs": [],
   "source": [
    "# num_modes=18\n",
    "# (res_fr,kappa,_)=auxfuncs.search_for_resonators_qubits(f,delta,0,15)[:num_modes]"
   ]
  },
  {
   "cell_type": "code",
   "execution_count": null,
   "metadata": {
    "jupyter": {
     "outputs_hidden": true
    }
   },
   "outputs": [],
   "source": [
    "# num_modes=18\n",
    "# (res_fr,kappa,_)=sqd.search_for_resonators_qubits(f,delta,0,15)[:num_modes]"
   ]
  },
  {
   "cell_type": "markdown",
   "metadata": {},
   "source": [
    "# Get s21 parameters"
   ]
  },
  {
   "cell_type": "code",
   "execution_count": null,
   "metadata": {
    "collapsed": true,
    "jupyter": {
     "outputs_hidden": true
    }
   },
   "outputs": [],
   "source": [
    "f_ = np.linspace(6.9e9, 7.1e9, 2001)\n",
    "# s11 = sample.get_s21('p1', 'p1', f_)\n",
    "s11 = sample.get_s21('pad-left-0', 'pad-right-0', f_)"
   ]
  },
  {
   "cell_type": "code",
   "execution_count": null,
   "metadata": {
    "collapsed": true,
    "jupyter": {
     "outputs_hidden": true
    }
   },
   "outputs": [],
   "source": [
    "import resonator_tools\n",
    "from resonator_tools.circuit import notch_port, reflection_port"
   ]
  },
  {
   "cell_type": "code",
   "execution_count": null,
   "metadata": {
    "collapsed": true,
    "jupyter": {
     "outputs_hidden": true
    }
   },
   "outputs": [],
   "source": [
    "fitter = notch_port(f_data=f_, z_data_raw=s11)\n",
    "fitter.autofit()"
   ]
  },
  {
   "cell_type": "code",
   "execution_count": null,
   "metadata": {
    "collapsed": true,
    "jupyter": {
     "outputs_hidden": true
    }
   },
   "outputs": [],
   "source": [
    "fitter.plotall()"
   ]
  },
  {
   "cell_type": "code",
   "execution_count": null,
   "metadata": {
    "collapsed": true,
    "jupyter": {
     "outputs_hidden": true
    }
   },
   "outputs": [],
   "source": [
    "fitter.fitresults"
   ]
  },
  {
   "cell_type": "markdown",
   "metadata": {},
   "source": [
    "# Estimate qubit-resonator parameters"
   ]
  },
  {
   "cell_type": "code",
   "execution_count": null,
   "metadata": {
    "collapsed": true,
    "jupyter": {
     "outputs_hidden": true
    }
   },
   "outputs": [],
   "source": [
    "auxfuncs.get_grounded_qubit_resonator_coupling(par1,sqd.coaxmon1,'coupler2',res_fr[rfr_ind],res_fr[qfr_ind])"
   ]
  },
  {
   "cell_type": "code",
   "execution_count": 13,
   "metadata": {
    "jupyter": {
     "outputs_hidden": true
    }
   },
   "outputs": [
    {
     "name": "stdout",
     "output_type": "stream",
     "text": [
      "Qubit- resonator detuning: -1.3809151384314058\n",
      "{'g': (42.51782218502497, 'MHz/2pi'), 'alpha': (-267.9146517933488, 'MHz/2pi'), 'chi': (-0.21271380272816579, 'MHz/2pi'), 'T': (7736.8516776441875, 'us'), 'protection ratio': 1054.8530395470957} 5.986871589185402 4.605956450753996\n",
      "Qubit- resonator detuning: -2.226132952512488\n",
      "{'g': (104.1923512638563, 'MHz/2pi'), 'alpha': (-290.8442841540409, 'MHz/2pi'), 'chi': (-0.5635102555357862, 'MHz/2pi'), 'T': (2064.888097812473, 'us'), 'protection ratio': 456.4892129242523} 7.023551406559037 4.797418454046549\n"
     ]
    }
   ],
   "source": [
    "#min qubit freqs setup, first pair\n",
    "res1 = 2\n",
    "q1 = 0\n",
    "res2 = 3\n",
    "q2 = 1\n",
    "\n",
    "res_indxs = [[res1, q1, sqd.xmon1, 'crab_up', par1], [res2, q2, sqd.coaxmon1, 'coupler2', par2]]\n",
    "for i in res_indxs:\n",
    "    print(auxfuncs.get_grounded_qubit_resonator_parameters(i[4],i[2],i[3],res_fr[i[0]],res_fr[i[1]],kappa[i[0]]), res_fr[i[0]],res_fr[i[1]])"
   ]
  },
  {
   "cell_type": "code",
   "execution_count": 14,
   "metadata": {
    "jupyter": {
     "outputs_hidden": true
    }
   },
   "outputs": [
    {
     "name": "stdout",
     "output_type": "stream",
     "text": [
      "Qubit- resonator detuning: -1.2550351894022596\n",
      "{'g': (43.09616606935238, 'MHz/2pi'), 'alpha': (-267.9146517933488, 'MHz/2pi'), 'chi': (-0.26033480504258427, 'MHz/2pi'), 'T': (6221.147768073701, 'us'), 'protection ratio': 848.0755326809153} 5.98702589863998 4.731990709237721\n",
      "Qubit- resonator detuning: -2.0953496964712777\n",
      "{'g': (105.60954030310333, 'MHz/2pi'), 'alpha': (-290.8442841540409, 'MHz/2pi'), 'chi': (-0.648790643871574, 'MHz/2pi'), 'T': (1780.9149139789395, 'us'), 'protection ratio': 393.6467974320258} 7.023909873519066 4.928560177047788\n"
     ]
    }
   ],
   "source": [
    "#max qubit freqs setup, first pair\n",
    "res1 = 2\n",
    "q1 = 0\n",
    "res2 = 3\n",
    "q2 = 1\n",
    "\n",
    "res_indxs = [[res1, q1, sqd.xmon1, 'crab_up', par1], [res2, q2, sqd.coaxmon1, 'coupler2', par2]]\n",
    "for i in res_indxs:\n",
    "    print(auxfuncs.get_grounded_qubit_resonator_parameters(i[4],i[2],i[3],res_fr[i[0]],res_fr[i[1]],kappa[i[0]]), res_fr[i[0]],res_fr[i[1]])"
   ]
  },
  {
   "cell_type": "code",
   "execution_count": 12,
   "metadata": {
    "jupyter": {
     "outputs_hidden": true
    }
   },
   "outputs": [
    {
     "name": "stdout",
     "output_type": "stream",
     "text": [
      "Qubit- resonator detuning: -2.4670797640316016\n",
      "{'g': (117.59390551413243, 'MHz/2pi'), 'alpha': (-154.961834597273, 'MHz/2pi'), 'chi': (-0.3312619923178191, 'MHz/2pi'), 'T': (2296.784218344806, 'us'), 'protection ratio': 440.1459939413652} 6.714327385714651 4.24724762168305\n",
      "Qubit- resonator detuning: -2.474759434101996\n",
      "{'g': (108.33641434022779, 'MHz/2pi'), 'alpha': (-290.8442841540409, 'MHz/2pi'), 'chi': (-0.4987541348352773, 'MHz/2pi'), 'T': (2114.7614515306204, 'us'), 'protection ratio': 521.815604415953} 7.272383289946583 4.797623855844587\n"
     ]
    }
   ],
   "source": [
    "#min qubit freqs setup, second pair\n",
    "res3 = 2\n",
    "q3 = 0\n",
    "res4 = 3\n",
    "q4 = 1\n",
    "\n",
    "res_indxs = [[res3, q3, sqd.coaxmon2, 'coupler2', par3],[res4, q4, sqd.coaxmon3 , 'coupler2', par4]]\n",
    "for i in res_indxs:\n",
    "    print(auxfuncs.get_grounded_qubit_resonator_parameters(i[4],i[2],i[3],res_fr[i[0]],res_fr[i[1]],kappa[i[0]]), res_fr[i[0]],res_fr[i[1]])"
   ]
  },
  {
   "cell_type": "code",
   "execution_count": 12,
   "metadata": {
    "jupyter": {
     "outputs_hidden": true
    }
   },
   "outputs": [
    {
     "name": "stdout",
     "output_type": "stream",
     "text": [
      "Qubit- resonator detuning: -2.2078262892878353\n",
      "{'g': (121.14834997326065, 'MHz/2pi'), 'alpha': (-154.961834597273, 'MHz/2pi'), 'chi': (-0.435983523288228, 'MHz/2pi'), 'T': (1733.5665487314902, 'us'), 'protection ratio': 332.11981986233764} 6.715156244314437 4.507329955026601\n",
      "Qubit- resonator detuning: -2.3438936794575875\n",
      "{'g': (109.80997693347335, 'MHz/2pi'), 'alpha': (-290.8442841540409, 'MHz/2pi'), 'chi': (-0.5678959830282865, 'MHz/2pi'), 'T': (1846.6529482365474, 'us'), 'protection ratio': 455.6089168511798} 7.272701456988509 4.928807777530921\n"
     ]
    }
   ],
   "source": [
    "#max qubit freqs setup, second pair\n",
    "res3 = 2\n",
    "q3 = 0\n",
    "res4 = 3\n",
    "q4 = 1\n",
    "\n",
    "res_indxs = [[res3, q3, sqd.coaxmon2, 'coupler2', par3],[res4, q4, sqd.coaxmon3 , 'coupler2', par4]]\n",
    "for i in res_indxs:\n",
    "    print(auxfuncs.get_grounded_qubit_resonator_parameters(i[4],i[2],i[3],res_fr[i[0]],res_fr[i[1]],kappa[i[0]]), res_fr[i[0]],res_fr[i[1]])"
   ]
  },
  {
   "cell_type": "code",
   "execution_count": 14,
   "metadata": {
    "jupyter": {
     "outputs_hidden": true
    }
   },
   "outputs": [
    {
     "name": "stdout",
     "output_type": "stream",
     "text": [
      "Qubit- resonator detuning: -2.6093119350661507\n",
      "{'g': (55.22225860964567, 'MHz/2pi'), 'alpha': (-267.54460393175583, 'MHz/2pi'), 'chi': (-0.10868768060408371, 'MHz/2pi'), 'T': (8246.175701254537, 'us'), 'protection ratio': 2232.665546401237} 7.498799576286569 4.889487641220418\n",
      "Qubit- resonator detuning: -3.925364715494797\n",
      "{'g': (141.96273072108326, 'MHz/2pi'), 'alpha': (-290.4082357520108, 'MHz/2pi'), 'chi': (-0.3536717654270386, 'MHz/2pi'), 'T': (1619.648229519856, 'us'), 'protection ratio': 764.5595888561568} 9.018223381345821 5.092858665851025\n"
     ]
    }
   ],
   "source": [
    "#min qubit freqs setup, third pair\n",
    "res5 = 2\n",
    "q5 = 0\n",
    "res6 = 3\n",
    "q6 = 1\n",
    "\n",
    "res_indxs = [[res5, q5, sqd.xmon2, 'crab_up', par5], [res6, q6, sqd.coaxmon4, 'coupler2', par6]]\n",
    "for i in res_indxs:\n",
    "    print(auxfuncs.get_grounded_qubit_resonator_parameters(i[4],i[2],i[3],res_fr[i[0]],res_fr[i[1]],kappa[i[0]]), res_fr[i[0]],res_fr[i[1]])"
   ]
  },
  {
   "cell_type": "code",
   "execution_count": 13,
   "metadata": {
    "jupyter": {
     "outputs_hidden": true
    }
   },
   "outputs": [
    {
     "name": "stdout",
     "output_type": "stream",
     "text": [
      "Qubit- resonator detuning: 0.9833437565401306\n",
      "{'g': (72.67921676414076, 'MHz/2pi'), 'alpha': (-267.54460393175583, 'MHz/2pi'), 'chi': (-2.0077985138297074, 'MHz/2pi'), 'T': (680.6334775457019, 'us'), 'protection ratio': 183.05864885028015} 7.492843870791369 8.4761876273315\n",
      "Qubit- resonator detuning: -0.3782678057515003\n",
      "{'g': (186.83434982319972, 'MHz/2pi'), 'alpha': (-290.4082357520108, 'MHz/2pi'), 'chi': (-40.07811023911636, 'MHz/2pi'), 'T': (11.202951721229402, 'us'), 'protection ratio': 4.099069768651841} 9.110293499348613 8.732025693597112\n"
     ]
    }
   ],
   "source": [
    "#max qubit freqs setup, third pair\n",
    "res5 = 0\n",
    "q5 = 1\n",
    "res6 = 3\n",
    "q6 = 2\n",
    "\n",
    "res_indxs = [[res5, q5, sqd.xmon2, 'crab_up', par5], [res6, q6, sqd.coaxmon4, 'coupler2', par6]]\n",
    "for i in res_indxs:\n",
    "    print(auxfuncs.get_grounded_qubit_resonator_parameters(i[4],i[2],i[3],res_fr[i[0]],res_fr[i[1]],kappa[i[0]]), res_fr[i[0]],res_fr[i[1]])"
   ]
  },
  {
   "cell_type": "code",
   "execution_count": null,
   "metadata": {
    "collapsed": true,
    "jupyter": {
     "outputs_hidden": true
    }
   },
   "outputs": [],
   "source": [
    "print(\"From AWR protection ratio is:\", kappa[rfr_ind]/kappa[qfr_ind])"
   ]
  },
  {
   "cell_type": "markdown",
   "metadata": {},
   "source": [
    "# Tests"
   ]
  },
  {
   "cell_type": "code",
   "execution_count": null,
   "metadata": {
    "collapsed": true,
    "jupyter": {
     "outputs_hidden": true
    }
   },
   "outputs": [],
   "source": [
    "g5,g6,res= sqd.draw_single_resonator(sqd.sample,sqd.elements,\n",
    "                            sqd.coupler_start+1500, sqd.central_line_y, sqd.coupler_length,\n",
    "                             sqd.resonator_core,sqd.resonator_gap,sqd.resonator_ground,\n",
    "                             sqd.tl_core, sqd.tl_gap, sqd.tl_ground, grounding_width=10,\n",
    "                             closed_end_meander_length=3000,length_left=400,length_right=400,\n",
    "                             open_end_legth=800,\n",
    "                             port_orientation='right', direction_orientation='up')"
   ]
  }
 ],
 "metadata": {
  "kernelspec": {
   "display_name": "Python 3 (ipykernel)",
   "language": "python",
   "name": "python3"
  },
  "language_info": {
   "codemirror_mode": {
    "name": "ipython",
    "version": 3
   },
   "file_extension": ".py",
   "mimetype": "text/x-python",
   "name": "python",
   "nbconvert_exporter": "python",
   "pygments_lexer": "ipython3",
   "version": "3.8.5"
  }
 },
 "nbformat": 4,
 "nbformat_minor": 4
}
