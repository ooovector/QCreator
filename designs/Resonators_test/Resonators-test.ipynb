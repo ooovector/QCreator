{
 "cells": [
  {
   "cell_type": "code",
   "execution_count": 9,
   "metadata": {},
   "outputs": [
    {
     "data": {
      "text/plain": [
       "<module 'gdspy' from 'C:\\\\Users\\\\iliab\\\\anaconda3\\\\lib\\\\site-packages\\\\gdspy\\\\__init__.py'>"
      ]
     },
     "execution_count": 9,
     "metadata": {},
     "output_type": "execute_result"
    }
   ],
   "source": [
    "import sys\n",
    "sys.path.append('..\\\\..')\n",
    "import gdspy\n",
    "import numpy as np\n",
    "from importlib import reload\n",
    "from copy import deepcopy\n",
    "from QCreator import elements\n",
    "from QCreator import general_sample_creator as creator\n",
    "from QCreator import meshing\n",
    "import QCreator.auxiliary_functions as auxfuncs\n",
    "from matplotlib import pyplot as plt\n",
    "reload(gdspy)"
   ]
  },
  {
   "cell_type": "code",
   "execution_count": 10,
   "metadata": {},
   "outputs": [],
   "source": [
    "tl_core = 11.\n",
    "tl_gap = 6.\n",
    "tl_ground = 20."
   ]
  },
  {
   "cell_type": "code",
   "execution_count": 11,
   "metadata": {},
   "outputs": [],
   "source": [
    "pad_offset = 1100\n",
    "pad_element_offset = 400\n",
    "\n",
    "\n",
    "\n",
    "layers_configuration = {\n",
    "    'total':0,\n",
    "    'restricted area':10,\n",
    "    'for removing':100,\n",
    "    'JJs':3,\n",
    "    'air bridges':2,\n",
    "    'air bridge pads':1,\n",
    "    'air bridge sm pads':4,\n",
    "    'vertical gridlines':15,\n",
    "    'horizontal gridlines':16,\n",
    "    'inverted':17,\n",
    "    'bandages':101\n",
    "}\n",
    "\n",
    "sample = creator.Sample('Res-test-16-bridges',layers_configuration, epsilon=11.45)\n",
    "\n",
    "\n",
    "airbridge = elements.AirBridgeGeometry(pad_width = 30,\n",
    "                                       pad_length = 30,\n",
    "                                       narrow_width = 10,\n",
    "                                       narrow_length = 56,\n",
    "                                       pad_distance = 36,\n",
    "                                       sm_pad_length = 10,\n",
    "                                       sm_pad_distance = 56,\n",
    "                                       layer_configuration = sample.layer_configuration,\n",
    "                                       bridge_style='misis')\n",
    "\n",
    "# airbridge = elements.AirBridgeGeometry(pad_width = 36,\n",
    "#                                        pad_length = 22,\n",
    "#                                        pad_distance = 62,\n",
    "#                                        narrow_width = 20,\n",
    "#                                        narrow_length = 46,\n",
    "#                                        sm_pad_length = 10,\n",
    "#                                        sm_pad_distance = 70,\n",
    "#                                        layer_configuration = sample.layer_configuration)"
   ]
  },
  {
   "cell_type": "code",
   "execution_count": 12,
   "metadata": {},
   "outputs": [],
   "source": [
    "#specify sample vertical and horizontal lengths\n",
    "sample.chip_geometry.sample_vertical_size=4.7e3\n",
    "sample.chip_geometry.sample_horizontal_size=9.7e3\n",
    "central_line_y = sample.chip_geometry.sample_vertical_size/2\n",
    "chip_edge_ground = elements.ChipEdgeGround(sample.chip_geometry, sample.layer_configuration, sample.pads, 800)\n",
    "sample.add(chip_edge_ground)\n",
    "\n",
    "# grid_ground = elements.GridGround(sample.chip_geometry, sample.layer_configuration, sample.objects, \n",
    "#                                   width=4, period=25)\n",
    "# sample.add(grid_ground)"
   ]
  },
  {
   "cell_type": "code",
   "execution_count": 13,
   "metadata": {},
   "outputs": [],
   "source": [
    "# 1. Create contact pads:\n",
    "pads_left = []\n",
    "pads_right = []\n",
    "for pad_side_id in range(1):\n",
    "    pad = elements.Pad('pad-left-' + str(pad_side_id),\n",
    "                       (pad_offset, sample.chip_geometry.sample_vertical_size / 2), np.pi, tl_core,\n",
    "                       tl_gap, tl_ground,\n",
    "                       layer_configuration=sample.layer_configuration, chip_geometry=sample.chip_geometry,\n",
    "                       **elements.default_pad_geometry())\n",
    "    pads_left.append(pad)\n",
    "    sample.add(pad)\n",
    "    pad = elements.Pad('pad-right-' + str(pad_side_id),\n",
    "                       (sample.chip_geometry.sample_horizontal_size - pad_offset,\n",
    "                        sample.chip_geometry.sample_vertical_size / 2), 0, tl_core,\n",
    "                       tl_gap, tl_ground,\n",
    "                       layer_configuration=sample.layer_configuration, chip_geometry=sample.chip_geometry,\n",
    "                       **elements.default_pad_geometry())\n",
    "    pads_right.append(pad)\n",
    "    sample.add(pad)\n",
    "\n",
    "pad0 = pads_left[0]\n",
    "pad1 = pads_right[0]"
   ]
  },
  {
   "cell_type": "code",
   "execution_count": 14,
   "metadata": {},
   "outputs": [
    {
     "data": {
      "text/plain": [
       "[CPW \"right TLs0\", l=81.125,\n",
       " CPW \"right TLs1\", l=162.250,\n",
       " CPW \"right TLs2\", l=81.125]"
      ]
     },
     "execution_count": 14,
     "metadata": {},
     "output_type": "execute_result"
    }
   ],
   "source": [
    "initial_spacing = 200\n",
    "\n",
    "coupler_lengths = [280, 300, 330, 365, 390, 420, 460, 520]\n",
    "coupler_starts = [[pad_offset + initial_spacing,\n",
    "                  sample.chip_geometry.sample_vertical_size / 2]]\n",
    "for i in range(1, 8):\n",
    "    coupler_starts.append([pad_offset + i * (sample.chip_geometry.sample_horizontal_size - 2*pad_offset)/8,\n",
    "                           sample.chip_geometry.sample_vertical_size / 2])\n",
    "    \n",
    "closed_end_meander_lengths1 = [2900, 3110, 3400, 3680, 4000, 4450, 5000, 5600]\n",
    "closed_end_meander_lengths2 = [3000, 3250, 3600, 3850, 4250, 4730, 5300, 6000]\n",
    "length_lefts1 = [150, 200, 200, 200, 200, 200, 300, 400]\n",
    "length_rights1 = [150, 200, 200, 200, 200, 350, 150, 150]\n",
    "length_lefts2 = [150, 200, 200, 200, 200, 350, 150, 150]\n",
    "length_rights2 = [150, 200, 200, 200, 200, 200, 300, 400]\n",
    "    \n",
    "object_left = pad0\n",
    "port_left = 'port'\n",
    "    \n",
    "for resonator_pair_id in range(8):\n",
    "    g1, g2, par1, par2, res12 = auxfuncs.draw_double_resonator(\n",
    "        sample,\n",
    "        coupler_starts[resonator_pair_id][0],\n",
    "        coupler_starts[resonator_pair_id][1],\n",
    "        coupler_lengths[resonator_pair_id],\n",
    "        resonator_core = 7,\n",
    "        resonator_gap = 8,\n",
    "        resonator_ground = 20,\n",
    "        tl_core = 11,\n",
    "        tl_gap = 6,\n",
    "        tl_ground = 20,\n",
    "        grounding_width = 10,\n",
    "        closed_end_meander_length1 = closed_end_meander_lengths1[resonator_pair_id],\n",
    "        length_left1 = length_lefts1[resonator_pair_id],\n",
    "        length_right1 = length_rights1[resonator_pair_id],\n",
    "        closed_end_meander_length2 = closed_end_meander_lengths2[resonator_pair_id],\n",
    "        length_left2 = length_lefts2[resonator_pair_id],\n",
    "        length_right2 = length_rights2[resonator_pair_id],\n",
    "        open_end_length1 = 500,\n",
    "        open_end_length2 = 500,\n",
    "        port_orientation='left',\n",
    "        airbridge=airbridge,\n",
    "        min_bridge_spacing_closed_end=100,\n",
    "        min_bridge_spacing_open_end=150,\n",
    "        meander_r=55)\n",
    "\n",
    "    sample.connect_cpw(object_left, g1, port1=port_left, port2='narrow', name='right TL {}'.format(resonator_pair_id), \n",
    "                       points=[], airbridge=airbridge, min_spacing=150)\n",
    "    object_left = g2\n",
    "    port_left = 'narrow'\n",
    "    \n",
    "\n",
    "sample.connect_cpw(object_left, pad1, port1=port_left, port2='port', name='right TL', points=[],\n",
    "                   airbridge=airbridge, min_spacing=150)"
   ]
  },
  {
   "cell_type": "code",
   "execution_count": 15,
   "metadata": {},
   "outputs": [],
   "source": [
    "sample.draw_design()\n",
    "sample.watch()"
   ]
  },
  {
   "cell_type": "code",
   "execution_count": 16,
   "metadata": {},
   "outputs": [],
   "source": [
    "sys, connections, elements_ = sample.get_tls(cutoff=2e11)\n",
    "#f, delta, modes = sys.get_modes()\n",
    "#num_modes=10\n",
    "\n",
    "#(res_fr,kappa,_)=auxfuncs.search_for_resonators_qubits(f,delta,0,15)[:num_modes]"
   ]
  },
  {
   "cell_type": "code",
   "execution_count": 52,
   "metadata": {},
   "outputs": [
    {
     "data": {
      "text/plain": [
       "(6304, 6304)"
      ]
     },
     "execution_count": 52,
     "metadata": {},
     "output_type": "execute_result"
    }
   ],
   "source": [
    "sys.create_dynamic_equation_matrices()[0].shape"
   ]
  },
  {
   "cell_type": "code",
   "execution_count": null,
   "metadata": {},
   "outputs": [],
   "source": [
    "f, delta, modes = sys.get_modes()"
   ]
  },
  {
   "cell_type": "code",
   "execution_count": null,
   "metadata": {
    "scrolled": true
   },
   "outputs": [],
   "source": [
    "num_modes=16\n",
    "(res_fr,kappa,_)=auxfuncs.search_for_resonators_qubits(f,delta,0,10)[:num_modes]\n",
    "#f[:num_modes]/(2e6*np.pi), delta[:num_modes]/(2e6*np.pi), f/(2*np.pi*2*delta)"
   ]
  },
  {
   "cell_type": "code",
   "execution_count": null,
   "metadata": {},
   "outputs": [],
   "source": [
    "f_ = np.linspace(3e9, 10e9, 1601)"
   ]
  },
  {
   "cell_type": "code",
   "execution_count": null,
   "metadata": {},
   "outputs": [],
   "source": [
    "s21 = sample.get_s21('pad-left-0', 'pad-right-0', f_)\n",
    "#plt.plot(f_, s21)\n"
   ]
  },
  {
   "cell_type": "code",
   "execution_count": null,
   "metadata": {},
   "outputs": [],
   "source": [
    "plt.plot(f_, abs(s21))"
   ]
  },
  {
   "cell_type": "code",
   "execution_count": 53,
   "metadata": {},
   "outputs": [
    {
     "name": "stdout",
     "output_type": "stream",
     "text": [
      "Gds file has been writen here:  C:\\Users\\avasi\\Documents\\GitHub\\QCreator\\designs\\Resonators_test/Res-test-16-bridges.gds\n"
     ]
    }
   ],
   "source": [
    "sample.write_to_gds()"
   ]
  },
  {
   "cell_type": "code",
   "execution_count": null,
   "metadata": {},
   "outputs": [],
   "source": [
    "from math import sqrt\n",
    "l = 3400e-6\n",
    "f0 = (3e8/sqrt(11.45)) * 1/(4*l)\n",
    "f0/1e9"
   ]
  },
  {
   "cell_type": "code",
   "execution_count": null,
   "metadata": {},
   "outputs": [],
   "source": [
    "f_bridge = [\n",
    "    4.1424458,\n",
    "    4.59551078,\n",
    "    4.88016854,\n",
    "    5.51433467,\n",
    "    5.94025965,\n",
    "    6.90750097,\n",
    "    7.1425325,\n",
    "    7.69999696,\n",
    "    7.9779454,\n",
    "    8.68035539\n",
    "]\n",
    "\n",
    "f_nobridge = [\n",
    "    4.18101758,\n",
    "    4.63208409,\n",
    "    4.92084733,\n",
    "    5.55735695,\n",
    "    5.99094905,\n",
    "    6.96159938,\n",
    "    7.19772259,\n",
    "    7.75222642,\n",
    "    8.04561973,\n",
    "    8.7448298\n",
    "]\n",
    "\n",
    "numbers = np.arange(10)\n",
    "\n",
    "lengths = [\n",
    "    3350,\n",
    "    3650,\n",
    "    3790,\n",
    "    4090,\n",
    "    4230,\n",
    "    4930,\n",
    "    5320,\n",
    "    6020,\n",
    "    6400,\n",
    "    7100\n",
    "]"
   ]
  },
  {
   "cell_type": "code",
   "execution_count": null,
   "metadata": {},
   "outputs": [],
   "source": [
    "import matplotlib.pyplot as plt\n",
    "from matplotlib.ticker import (MultipleLocator, FormatStrFormatter,\n",
    "                               AutoMinorLocator)\n",
    "\n",
    "\n",
    "fig, ax = plt.subplots(figsize=(10, 8))\n",
    "ax.set_xlabel(\"№\", fontsize=14)\n",
    "ax.set_ylabel(\"frequency\", fontsize=14)\n",
    "ax.grid(which=\"major\", linewidth=1.2)\n",
    "ax.grid(which=\"minor\", linestyle=\"--\", color=\"gray\", linewidth=0.5)\n",
    "ax.scatter(numbers,f_bridge, c = 'red', label = 'bridges')\n",
    "ax.scatter(numbers,f_nobridge, c = 'blue', label = 'w/o bridges')\n",
    "ax.legend()\n",
    "\n",
    "#ax.xaxis.set_minor_locator(AutoMinorLocator())\n",
    "ax.yaxis.set_minor_locator(AutoMinorLocator())\n",
    "ax.tick_params(which='major', length=10, width=2)\n",
    "ax.tick_params(which='minor', length=5, width=1)\n",
    "plt.savefig('demo.png', transparent=True)"
   ]
  },
  {
   "cell_type": "code",
   "execution_count": null,
   "metadata": {},
   "outputs": [],
   "source": [
    "diff = np.empty(len(f_bridge))\n",
    "diff = np.array(f_nobridge) - np.array(f_bridge)\n",
    "diff"
   ]
  },
  {
   "cell_type": "code",
   "execution_count": null,
   "metadata": {},
   "outputs": [],
   "source": [
    "plt.plot(numbers, diff)"
   ]
  },
  {
   "cell_type": "code",
   "execution_count": null,
   "metadata": {},
   "outputs": [],
   "source": [
    "fig, ax = plt.subplots(figsize=(10, 8))\n",
    "ax.set_xlabel(\"№\", fontsize=14)\n",
    "ax.set_ylabel(\"frequency\", fontsize=14)\n",
    "ax.grid(which=\"major\", linewidth=1.2)\n",
    "ax.grid(which=\"minor\", linestyle=\"--\", color=\"gray\", linewidth=0.5)\n",
    "ax.scatter(numbers,diff, c = 'red', label = 'difference')\n",
    "#ax.scatter(numbers,f_nobridge, c = 'blue', label = 'bridges')\n",
    "ax.legend()\n",
    "\n",
    "#ax.xaxis.set_minor_locator(AutoMinorLocator())\n",
    "ax.yaxis.set_minor_locator(AutoMinorLocator())\n",
    "ax.tick_params(which='major', length=10, width=2)\n",
    "ax.tick_params(which='minor', length=5, width=1)\n",
    "plt.savefig('demo1.png', transparent=True)"
   ]
  },
  {
   "cell_type": "code",
   "execution_count": null,
   "metadata": {},
   "outputs": [],
   "source": [
    "plt.plot(lengths, diff)"
   ]
  },
  {
   "cell_type": "code",
   "execution_count": null,
   "metadata": {},
   "outputs": [],
   "source": [
    "fig, ax = plt.subplots(figsize=(10, 8))\n",
    "ax.set_xlabel(\"length\", fontsize=14)\n",
    "ax.set_ylabel(\"difference\", fontsize=14)\n",
    "ax.grid(which=\"major\", linewidth=1.2)\n",
    "ax.grid(which=\"minor\", linestyle=\"--\", color=\"gray\", linewidth=0.5)\n",
    "ax.scatter(lengths,diff, c = 'red', label = 'difference')\n",
    "#ax.scatter(numbers,f_nobridge, c = 'blue', label = 'bridges')\n",
    "ax.legend()\n",
    "\n",
    "#ax.xaxis.set_minor_locator(AutoMinorLocator())\n",
    "ax.yaxis.set_minor_locator(AutoMinorLocator())\n",
    "ax.tick_params(which='major', length=10, width=2)\n",
    "ax.tick_params(which='minor', length=5, width=1)\n",
    "plt.savefig('demo1.png', transparent=True)"
   ]
  },
  {
   "cell_type": "code",
   "execution_count": null,
   "metadata": {},
   "outputs": [],
   "source": [
    "import resonator_tools\n",
    "from resonator_tools.circuit import notch_port, reflection_port"
   ]
  },
  {
   "cell_type": "code",
   "execution_count": null,
   "metadata": {},
   "outputs": [],
   "source": []
  }
 ],
 "metadata": {
  "kernelspec": {
   "display_name": "Python 3 (ipykernel)",
   "language": "python",
   "name": "python3"
  },
  "language_info": {
   "codemirror_mode": {
    "name": "ipython",
    "version": 3
   },
   "file_extension": ".py",
   "mimetype": "text/x-python",
   "name": "python",
   "nbconvert_exporter": "python",
   "pygments_lexer": "ipython3",
   "version": "3.9.12"
  }
 },
 "nbformat": 4,
 "nbformat_minor": 4
}
