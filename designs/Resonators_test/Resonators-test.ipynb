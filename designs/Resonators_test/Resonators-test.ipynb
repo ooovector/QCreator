{
 "cells": [
  {
   "cell_type": "code",
   "execution_count": 70,
   "metadata": {},
   "outputs": [
    {
     "data": {
      "text/plain": [
       "<module 'gdspy' from 'C:\\\\Users\\\\avasi\\\\anaconda3\\\\lib\\\\site-packages\\\\gdspy\\\\__init__.py'>"
      ]
     },
     "execution_count": 70,
     "metadata": {},
     "output_type": "execute_result"
    }
   ],
   "source": [
    "import sys\n",
    "sys.path.append('..\\\\..')\n",
    "import gdspy\n",
    "import numpy as np\n",
    "from importlib import reload\n",
    "from copy import deepcopy\n",
    "from QCreator import elements\n",
    "from QCreator import general_sample_creator as creator\n",
    "from QCreator import meshing\n",
    "import QCreator.auxiliary_functions as auxfuncs\n",
    "from matplotlib import pyplot as plt\n",
    "reload(gdspy)"
   ]
  },
  {
   "cell_type": "code",
   "execution_count": 71,
   "metadata": {},
   "outputs": [],
   "source": [
    "tl_core = 11.\n",
    "tl_gap = 6.\n",
    "tl_ground = 20."
   ]
  },
  {
   "cell_type": "code",
   "execution_count": 72,
   "metadata": {},
   "outputs": [],
   "source": [
    "pad_offset = 1100\n",
    "pad_element_offset = 400\n",
    "\n",
    "\n",
    "\n",
    "layers_configuration = {\n",
    "    'total':0,\n",
    "    'restricted area':10,\n",
    "    'for removing':100,\n",
    "    'JJs':3,\n",
    "    'air bridges':2,\n",
    "    'air bridge pads':1,\n",
    "    'air bridge sm pads':4,\n",
    "    'vertical gridlines':15,\n",
    "    'horizontal gridlines':16,\n",
    "    'inverted':17\n",
    "}\n",
    "\n",
    "sample = creator.Sample('Res-test-16-bridges',layers_configuration, epsilon=11.45)\n",
    "\n",
    "\n",
    "airbridge = elements.AirBridgeGeometry(pad_width = 30,\n",
    "                                       pad_length = 30,\n",
    "                                       narrow_width = 10,\n",
    "                                       narrow_length = 56,\n",
    "                                       pad_distance = 36,\n",
    "                                       sm_pad_length = 10,\n",
    "                                       sm_pad_distance = 56,\n",
    "                                       layer_configuration = sample.layer_configuration,\n",
    "                                       bridge_style='misis')\n",
    "\n",
    "# airbridge = elements.AirBridgeGeometry(pad_width = 36,\n",
    "#                                        pad_length = 22,\n",
    "#                                        pad_distance = 62,\n",
    "#                                        narrow_width = 20,\n",
    "#                                        narrow_length = 46,\n",
    "#                                        sm_pad_length = 10,\n",
    "#                                        sm_pad_distance = 70,\n",
    "#                                        layer_configuration = sample.layer_configuration)"
   ]
  },
  {
   "cell_type": "code",
   "execution_count": 73,
   "metadata": {},
   "outputs": [],
   "source": [
    "#specify sample vertical and horizontal lengths\n",
    "sample.chip_geometry.sample_vertical_size=4.7e3\n",
    "sample.chip_geometry.sample_horizontal_size=9.7e3\n",
    "central_line_y = sample.chip_geometry.sample_vertical_size/2\n",
    "chip_edge_ground = elements.ChipEdgeGround(sample.chip_geometry, sample.layer_configuration, sample.pads, 800)\n",
    "sample.add(chip_edge_ground)\n",
    "\n",
    "#grid_ground = elements.GridGround(sample.chip_geometry, sample.layer_configuration, sample.objects, \n",
    "#                                  width=4, period=50)\n",
    "#sample.add(grid_ground)"
   ]
  },
  {
   "cell_type": "code",
   "execution_count": 74,
   "metadata": {},
   "outputs": [],
   "source": [
    "# 1. Create contact pads:\n",
    "pads_left = []\n",
    "pads_right = []\n",
    "for pad_side_id in range(1):\n",
    "    pad = elements.Pad('pad-left-' + str(pad_side_id),\n",
    "                       (pad_offset, sample.chip_geometry.sample_vertical_size / 2), np.pi, tl_core,\n",
    "                       tl_gap, tl_ground,\n",
    "                       layer_configuration=sample.layer_configuration, chip_geometry=sample.chip_geometry,\n",
    "                       **elements.default_pad_geometry())\n",
    "    pads_left.append(pad)\n",
    "    sample.add(pad)\n",
    "    pad = elements.Pad('pad-right-' + str(pad_side_id),\n",
    "                       (sample.chip_geometry.sample_horizontal_size - pad_offset,\n",
    "                        sample.chip_geometry.sample_vertical_size / 2), 0, tl_core,\n",
    "                       tl_gap, tl_ground,\n",
    "                       layer_configuration=sample.layer_configuration, chip_geometry=sample.chip_geometry,\n",
    "                       **elements.default_pad_geometry())\n",
    "    pads_right.append(pad)\n",
    "    sample.add(pad)\n",
    "\n",
    "pad0 = pads_left[0]\n",
    "pad1 = pads_right[0]"
   ]
  },
  {
   "cell_type": "code",
   "execution_count": 75,
   "metadata": {},
   "outputs": [],
   "source": [
    "#sample.draw_design()\n",
    "#sample.watch()"
   ]
  },
  {
   "cell_type": "code",
   "execution_count": 76,
   "metadata": {},
   "outputs": [],
   "source": [
    "#pad0.get_terminals()\n"
   ]
  },
  {
   "cell_type": "code",
   "execution_count": 77,
   "metadata": {},
   "outputs": [
    {
     "data": {
      "text/plain": [
       "{'port': Type: cpw, Position: (8600.0, 2350.0), Orientation: 0\n",
       " w: 11.0, s: 6.0, g: 20.0\n",
       " reversed: True}"
      ]
     },
     "execution_count": 77,
     "metadata": {},
     "output_type": "execute_result"
    }
   ],
   "source": [
    "pad1.get_terminals()"
   ]
  },
  {
   "cell_type": "code",
   "execution_count": 78,
   "metadata": {},
   "outputs": [],
   "source": [
    "#sample.connect_cpw(pad0, pad1, 'port', 'port', 'name', points = [])"
   ]
  },
  {
   "cell_type": "code",
   "execution_count": 79,
   "metadata": {},
   "outputs": [
    {
     "data": {
      "text/plain": [
       "[CPW \"right TL\", l=384.500]"
      ]
     },
     "execution_count": 79,
     "metadata": {},
     "output_type": "execute_result"
    }
   ],
   "source": [
    "initial_spacing = 200\n",
    "\n",
    "coupler_length_1 = 280\n",
    "coupler_start_1 = [pad_offset + initial_spacing,\n",
    "                 sample.chip_geometry.sample_vertical_size / 2]\n",
    "# coupler_start_1 = [sample.chip_geometry.sample_horizontal_size / 9 + coupler_length_1/2,\n",
    "#                  sample.chip_geometry.sample_vertical_size / 2]\n",
    "\n",
    "g1,g2, par1, par2= auxfuncs.draw_double_resonator(sample,\n",
    "                                                  coupler_start_1[0],\n",
    "                                                  coupler_start_1[1],\n",
    "                                                  coupler_length_1,\n",
    "                                                  resonator_core = 7,\n",
    "                                                  resonator_gap = 8,\n",
    "                                                  resonator_ground = 20,\n",
    "                                                  tl_core = 11,\n",
    "                                                  tl_gap = 6,\n",
    "                                                  tl_ground = 20,\n",
    "                                                  grounding_width = 10,\n",
    "                                                  closed_end_meander_length1 = 2900,\n",
    "                                                  length_left1 = 150,\n",
    "                                                  length_right1 = 150,\n",
    "                                                  closed_end_meander_length2 = 3000,\n",
    "                                                  length_left2 = 150,\n",
    "                                                  length_right2 = 150,\n",
    "                                                  open_end_length1 = 500,\n",
    "                                                  open_end_length2 = 500,\n",
    "                                                  port_orientation='left',\n",
    "                                                  airbridge=airbridge,\n",
    "                                                  min_bridge_spacing_closed_end=100,\n",
    "                                                  min_bridge_spacing_open_end=150,\n",
    "                                                  meander_r=55)\n",
    "coupler_length_2 = 300\n",
    "coupler_start_2 = [pad_offset + 1 * (sample.chip_geometry.sample_horizontal_size - 2*pad_offset)/8,\n",
    "                 sample.chip_geometry.sample_vertical_size / 2]\n",
    "\n",
    "g3,g4, par3, par4= auxfuncs.draw_double_resonator(sample,\n",
    "                                                  coupler_start_2[0],\n",
    "                                                  coupler_start_2[1],\n",
    "                                                  coupler_length_2,\n",
    "                                                  resonator_core = 7,\n",
    "                                                  resonator_gap = 8,\n",
    "                                                  resonator_ground = 20,\n",
    "                                                  tl_core = 11,\n",
    "                                                  tl_gap = 6,\n",
    "                                                  tl_ground = 20,\n",
    "                                                  grounding_width = 10,\n",
    "                                                  closed_end_meander_length1 = 3110,\n",
    "                                                  length_left1 = 200,\n",
    "                                                  length_right1 = 200,\n",
    "                                                  closed_end_meander_length2 = 3250,\n",
    "                                                  length_left2 = 200,\n",
    "                                                  length_right2 = 200,\n",
    "                                                  open_end_length1 = 500,\n",
    "                                                  open_end_length2 = 500,\n",
    "                                                  port_orientation='left',\n",
    "                                                  airbridge=airbridge,\n",
    "                                                  min_bridge_spacing_closed_end=100,\n",
    "                                                  min_bridge_spacing_open_end=150,\n",
    "                                                  meander_r=55)\n",
    "\n",
    "\n",
    "coupler_length_3 = 330\n",
    "coupler_start_3 = [pad_offset + 2 * (sample.chip_geometry.sample_horizontal_size - 2*pad_offset)/8,\n",
    "                 sample.chip_geometry.sample_vertical_size / 2]\n",
    "\n",
    "g5,g6, par5, par6= auxfuncs.draw_double_resonator(sample,\n",
    "                                                  coupler_start_3[0],\n",
    "                                                  coupler_start_3[1],\n",
    "                                                  coupler_length_3,\n",
    "                                                  resonator_core = 7,\n",
    "                                                  resonator_gap = 8,\n",
    "                                                  resonator_ground = 20,\n",
    "                                                  tl_core = 11,\n",
    "                                                  tl_gap = 6,\n",
    "                                                  tl_ground = 20,\n",
    "                                                  grounding_width = 10,\n",
    "                                                  closed_end_meander_length1 = 3400,\n",
    "                                                  length_left1 = 200,\n",
    "                                                  length_right1 = 200,\n",
    "                                                  closed_end_meander_length2 = 3600,\n",
    "                                                  length_left2 = 200,\n",
    "                                                  length_right2 = 200,\n",
    "                                                  open_end_length1 = 500,\n",
    "                                                  open_end_length2 = 500,\n",
    "                                                  port_orientation='left',\n",
    "                                                  airbridge=airbridge,\n",
    "                                                  min_bridge_spacing_closed_end=100,\n",
    "                                                  min_bridge_spacing_open_end=150,\n",
    "                                                  meander_r=55)\n",
    "coupler_length_4 = 365\n",
    "coupler_start_4 = [pad_offset + 3 *(sample.chip_geometry.sample_horizontal_size - 2*pad_offset)/8,\n",
    "                 sample.chip_geometry.sample_vertical_size / 2]\n",
    "\n",
    "g7,g8, par7, par8= auxfuncs.draw_double_resonator(sample,\n",
    "                                                  coupler_start_4[0],\n",
    "                                                  coupler_start_4[1],\n",
    "                                                  coupler_length_4,\n",
    "                                                  resonator_core = 7,\n",
    "                                                  resonator_gap = 8,\n",
    "                                                  resonator_ground = 20,\n",
    "                                                  tl_core = 11,\n",
    "                                                  tl_gap = 6,\n",
    "                                                  tl_ground = 20,\n",
    "                                                  grounding_width = 10,\n",
    "                                                  closed_end_meander_length1 = 3680,\n",
    "                                                  length_left1 = 200,\n",
    "                                                  length_right1 = 200,\n",
    "                                                  closed_end_meander_length2 = 3850,\n",
    "                                                  length_left2 = 200,\n",
    "                                                  length_right2 = 200,\n",
    "                                                  open_end_length1 = 500,\n",
    "                                                  open_end_length2 = 500,\n",
    "                                                  port_orientation='left',\n",
    "                                                  airbridge=airbridge,\n",
    "                                                  min_bridge_spacing_closed_end=100,\n",
    "                                                  min_bridge_spacing_open_end=150,\n",
    "                                                  meander_r=55)\n",
    "coupler_length_5 = 390\n",
    "coupler_start_5 = [pad_offset + 4 * (sample.chip_geometry.sample_horizontal_size - 2*pad_offset)/8,\n",
    "                 sample.chip_geometry.sample_vertical_size / 2]\n",
    "\n",
    "g9,g10, par9, par10= auxfuncs.draw_double_resonator(sample,\n",
    "                                                  coupler_start_5[0],\n",
    "                                                  coupler_start_5[1],\n",
    "                                                  coupler_length_5,\n",
    "                                                  resonator_core = 7,\n",
    "                                                  resonator_gap = 8,\n",
    "                                                  resonator_ground = 20,\n",
    "                                                  tl_core = 11,\n",
    "                                                  tl_gap = 6,\n",
    "                                                  tl_ground = 20,\n",
    "                                                  grounding_width = 10,\n",
    "                                                  closed_end_meander_length1 = 4000,\n",
    "                                                  length_left1 = 200,\n",
    "                                                  length_right1 = 200,\n",
    "                                                  closed_end_meander_length2 = 4250,\n",
    "                                                  length_left2 = 200,\n",
    "                                                  length_right2 = 200,\n",
    "                                                  open_end_length1 = 500,\n",
    "                                                  open_end_length2 = 500,\n",
    "                                                  port_orientation='left',\n",
    "                                                  airbridge=airbridge,\n",
    "                                                  min_bridge_spacing_closed_end=100,\n",
    "                                                  min_bridge_spacing_open_end=150,\n",
    "                                                  meander_r=55)\n",
    "\n",
    "\n",
    "coupler_length_6 = 420\n",
    "coupler_start_6 = [pad_offset + 5 * (sample.chip_geometry.sample_horizontal_size - 2*pad_offset)/8,\n",
    "                 sample.chip_geometry.sample_vertical_size / 2]\n",
    "\n",
    "g11,g12, par11, par12= auxfuncs.draw_double_resonator(sample,\n",
    "                                                  coupler_start_6[0],\n",
    "                                                  coupler_start_6[1],\n",
    "                                                  coupler_length_6,\n",
    "                                                  resonator_core = 7,\n",
    "                                                  resonator_gap = 8,\n",
    "                                                  resonator_ground = 20,\n",
    "                                                  tl_core = 11,\n",
    "                                                  tl_gap = 6,\n",
    "                                                  tl_ground = 20,\n",
    "                                                  grounding_width = 10,\n",
    "                                                  closed_end_meander_length1 = 4450,\n",
    "                                                  length_left1 = 200,\n",
    "                                                  length_right1 = 350,\n",
    "                                                  closed_end_meander_length2 = 4730,\n",
    "                                                  length_left2 = 350,\n",
    "                                                  length_right2 = 200,\n",
    "                                                  open_end_length1 = 500,\n",
    "                                                  open_end_length2 = 500,\n",
    "                                                  port_orientation='left',\n",
    "                                                  airbridge=airbridge,\n",
    "                                                  min_bridge_spacing_closed_end=100,\n",
    "                                                  min_bridge_spacing_open_end=150,\n",
    "                                                  meander_r=55)\n",
    "\n",
    "coupler_length_7 = 460\n",
    "coupler_start_7 = [pad_offset + 6 *(sample.chip_geometry.sample_horizontal_size - 2*pad_offset)/8,\n",
    "                 sample.chip_geometry.sample_vertical_size / 2]\n",
    "\n",
    "g13,g14, par13, par14= auxfuncs.draw_double_resonator(sample,\n",
    "                                                  coupler_start_7[0],\n",
    "                                                  coupler_start_7[1],\n",
    "                                                  coupler_length_7,\n",
    "                                                  resonator_core = 7,\n",
    "                                                  resonator_gap = 8,\n",
    "                                                  resonator_ground = 20,\n",
    "                                                  tl_core = 11,\n",
    "                                                  tl_gap = 6,\n",
    "                                                  tl_ground = 20,\n",
    "                                                  grounding_width = 10,\n",
    "                                                  closed_end_meander_length1 = 5000,\n",
    "                                                  length_left1 = 300,\n",
    "                                                  length_right1 = 150,\n",
    "                                                  closed_end_meander_length2 = 5300,\n",
    "                                                  length_left2 = 150,\n",
    "                                                  length_right2 = 300,\n",
    "                                                  open_end_length1 = 500,\n",
    "                                                  open_end_length2 = 500,\n",
    "                                                  port_orientation='left',\n",
    "                                                  airbridge=airbridge,\n",
    "                                                  min_bridge_spacing_closed_end=100,\n",
    "                                                  min_bridge_spacing_open_end=150,\n",
    "                                                  meander_r=55)\n",
    "\n",
    "coupler_length_8 = 520\n",
    "coupler_start_8 = [pad_offset + 7*(sample.chip_geometry.sample_horizontal_size - 2*pad_offset)/8,\n",
    "                   sample.chip_geometry.sample_vertical_size / 2]\n",
    "# coupler_start_8 = [8 * sample.chip_geometry.sample_horizontal_size / 9 - coupler_length_8,\n",
    "#                   sample.chip_geometry.sample_vertical_size / 2]\n",
    "\n",
    "g15,g16, par15, par16= auxfuncs.draw_double_resonator(sample,\n",
    "                                                  coupler_start_8[0],\n",
    "                                                  coupler_start_8[1],\n",
    "                                                  coupler_length_8,\n",
    "                                                  resonator_core = 7,\n",
    "                                                  resonator_gap = 8,\n",
    "                                                  resonator_ground = 20,\n",
    "                                                  tl_core = 11,\n",
    "                                                  tl_gap = 6,\n",
    "                                                  tl_ground = 20,\n",
    "                                                  grounding_width = 10,\n",
    "                                                  closed_end_meander_length1 = 5600,\n",
    "                                                  length_left1 = 400,\n",
    "                                                  length_right1 = 150,\n",
    "                                                  closed_end_meander_length2 = 6000,\n",
    "                                                  length_left2 = 150,\n",
    "                                                  length_right2 = 400,\n",
    "                                                  open_end_length1 = 500,\n",
    "                                                  open_end_length2 = 500,\n",
    "                                                  port_orientation='left',\n",
    "                                                  airbridge=airbridge,\n",
    "                                                  min_bridge_spacing_closed_end=100,\n",
    "                                                  min_bridge_spacing_open_end=150,\n",
    "                                                  meander_r=55)\n",
    "\n",
    "\n",
    "sample.connect_cpw(pad0, g1, port1='port', port2='narrow', name='right TL', points=[],\n",
    "                   airbridge=airbridge, min_spacing=150)\n",
    "\n",
    "sample.connect_cpw(g2, g3, port1='narrow', port2='narrow', name='right TL', points=[],\n",
    "                   airbridge=airbridge, min_spacing=150)\n",
    "sample.connect_cpw(g4, g5, port1='narrow', port2='narrow', name='right TL', points=[], \n",
    "                   airbridge=airbridge, min_spacing=150)\n",
    "sample.connect_cpw(g6, g7, port1='narrow', port2='narrow', name='right TL', points=[], \n",
    "                   airbridge=airbridge, min_spacing=150)\n",
    "sample.connect_cpw(g8, g9, port1='narrow', port2='narrow', name='right TL', points=[], \n",
    "                   airbridge=airbridge, min_spacing=150)\n",
    "sample.connect_cpw(g10, g11, port1='narrow', port2='narrow', name='right TL', points=[],\n",
    "                   airbridge=airbridge, min_spacing=150)\n",
    "sample.connect_cpw(g12, g13, port1='narrow', port2='narrow', name='right TL', points=[],\n",
    "                   airbridge=airbridge, min_spacing=150)\n",
    "sample.connect_cpw(g14, g15, port1='narrow', port2='narrow', name='right TL', points=[], \n",
    "                   airbridge=airbridge, min_spacing=150)\n",
    "\n",
    "\n",
    "\n",
    "\n",
    "\n",
    "sample.connect_cpw(g16, pad1, port1='narrow', port2='port', name='right TL', points=[])\n",
    "                   #airbridge=airbridge, min_spacing=150)"
   ]
  },
  {
   "cell_type": "code",
   "execution_count": 80,
   "metadata": {},
   "outputs": [],
   "source": [
    "sample.draw_design()\n",
    "sample.watch()"
   ]
  },
  {
   "cell_type": "code",
   "execution_count": 81,
   "metadata": {},
   "outputs": [],
   "source": [
    "sys, connections, elements_ = sample.get_tls(cutoff=2e11)\n",
    "#f, delta, modes = sys.get_modes()\n",
    "#num_modes=10\n",
    "\n",
    "#(res_fr,kappa,_)=auxfuncs.search_for_resonators_qubits(f,delta,0,15)[:num_modes]"
   ]
  },
  {
   "cell_type": "code",
   "execution_count": 82,
   "metadata": {},
   "outputs": [
    {
     "data": {
      "text/plain": [
       "(6276, 6276)"
      ]
     },
     "execution_count": 82,
     "metadata": {},
     "output_type": "execute_result"
    }
   ],
   "source": [
    "sys.create_dynamic_equation_matrices()[0].shape"
   ]
  },
  {
   "cell_type": "code",
   "execution_count": null,
   "metadata": {},
   "outputs": [],
   "source": [
    "f, delta, modes = sys.get_modes()"
   ]
  },
  {
   "cell_type": "code",
   "execution_count": 145,
   "metadata": {
    "scrolled": true
   },
   "outputs": [
    {
     "name": "stdout",
     "output_type": "stream",
     "text": [
      "Resonance frequencies are, GHz: [7.77368208 7.98039795]\n",
      "Kappas are, us^-1: [0.4525602  0.52268488]\n",
      "Quality factors are: [107927.04529418  95932.21730358]\n"
     ]
    }
   ],
   "source": [
    "num_modes=16\n",
    "(res_fr,kappa,_)=auxfuncs.search_for_resonators_qubits(f,delta,0,10)[:num_modes]\n",
    "#f[:num_modes]/(2e6*np.pi), delta[:num_modes]/(2e6*np.pi), f/(2*np.pi*2*delta)"
   ]
  },
  {
   "cell_type": "code",
   "execution_count": 407,
   "metadata": {},
   "outputs": [],
   "source": [
    "f_ = np.linspace(3e9, 10e9, 1601)"
   ]
  },
  {
   "cell_type": "code",
   "execution_count": null,
   "metadata": {},
   "outputs": [],
   "source": [
    "s21 = sample.get_s21('pad-left-0', 'pad-right-0', f_)\n",
    "#plt.plot(f_, s21)\n"
   ]
  },
  {
   "cell_type": "code",
   "execution_count": null,
   "metadata": {},
   "outputs": [],
   "source": [
    "plt.plot(f_, abs(s21))"
   ]
  },
  {
   "cell_type": "code",
   "execution_count": 83,
   "metadata": {},
   "outputs": [
    {
     "name": "stdout",
     "output_type": "stream",
     "text": [
      "Gds file has been writen here:  C:\\Users\\avasi\\Documents\\GitHub\\QCreator\\designs\\Resonators_test\\Res-test-16-bridges.gds\n"
     ]
    }
   ],
   "source": [
    "sample.write_to_gds()"
   ]
  },
  {
   "cell_type": "code",
   "execution_count": null,
   "metadata": {},
   "outputs": [],
   "source": [
    "from math import sqrt\n",
    "l = 3400e-6\n",
    "f0 = (3e8/sqrt(11.45)) * 1/(4*l)\n",
    "f0/1e9"
   ]
  },
  {
   "cell_type": "code",
   "execution_count": null,
   "metadata": {},
   "outputs": [],
   "source": [
    "f_bridge = [\n",
    "    4.1424458,\n",
    "    4.59551078,\n",
    "    4.88016854,\n",
    "    5.51433467,\n",
    "    5.94025965,\n",
    "    6.90750097,\n",
    "    7.1425325,\n",
    "    7.69999696,\n",
    "    7.9779454,\n",
    "    8.68035539\n",
    "]\n",
    "\n",
    "f_nobridge = [\n",
    "    4.18101758,\n",
    "    4.63208409,\n",
    "    4.92084733,\n",
    "    5.55735695,\n",
    "    5.99094905,\n",
    "    6.96159938,\n",
    "    7.19772259,\n",
    "    7.75222642,\n",
    "    8.04561973,\n",
    "    8.7448298\n",
    "]\n",
    "\n",
    "numbers = np.arange(10)\n",
    "\n",
    "lengths = [\n",
    "    3350,\n",
    "    3650,\n",
    "    3790,\n",
    "    4090,\n",
    "    4230,\n",
    "    4930,\n",
    "    5320,\n",
    "    6020,\n",
    "    6400,\n",
    "    7100\n",
    "]"
   ]
  },
  {
   "cell_type": "code",
   "execution_count": null,
   "metadata": {},
   "outputs": [],
   "source": [
    "import matplotlib.pyplot as plt\n",
    "from matplotlib.ticker import (MultipleLocator, FormatStrFormatter,\n",
    "                               AutoMinorLocator)\n",
    "\n",
    "\n",
    "fig, ax = plt.subplots(figsize=(10, 8))\n",
    "ax.set_xlabel(\"№\", fontsize=14)\n",
    "ax.set_ylabel(\"frequency\", fontsize=14)\n",
    "ax.grid(which=\"major\", linewidth=1.2)\n",
    "ax.grid(which=\"minor\", linestyle=\"--\", color=\"gray\", linewidth=0.5)\n",
    "ax.scatter(numbers,f_bridge, c = 'red', label = 'bridges')\n",
    "ax.scatter(numbers,f_nobridge, c = 'blue', label = 'w/o bridges')\n",
    "ax.legend()\n",
    "\n",
    "#ax.xaxis.set_minor_locator(AutoMinorLocator())\n",
    "ax.yaxis.set_minor_locator(AutoMinorLocator())\n",
    "ax.tick_params(which='major', length=10, width=2)\n",
    "ax.tick_params(which='minor', length=5, width=1)\n",
    "plt.savefig('demo.png', transparent=True)"
   ]
  },
  {
   "cell_type": "code",
   "execution_count": null,
   "metadata": {},
   "outputs": [],
   "source": [
    "diff = np.empty(len(f_bridge))\n",
    "diff = np.array(f_nobridge) - np.array(f_bridge)\n",
    "diff"
   ]
  },
  {
   "cell_type": "code",
   "execution_count": null,
   "metadata": {},
   "outputs": [],
   "source": [
    "plt.plot(numbers, diff)"
   ]
  },
  {
   "cell_type": "code",
   "execution_count": null,
   "metadata": {},
   "outputs": [],
   "source": [
    "fig, ax = plt.subplots(figsize=(10, 8))\n",
    "ax.set_xlabel(\"№\", fontsize=14)\n",
    "ax.set_ylabel(\"frequency\", fontsize=14)\n",
    "ax.grid(which=\"major\", linewidth=1.2)\n",
    "ax.grid(which=\"minor\", linestyle=\"--\", color=\"gray\", linewidth=0.5)\n",
    "ax.scatter(numbers,diff, c = 'red', label = 'difference')\n",
    "#ax.scatter(numbers,f_nobridge, c = 'blue', label = 'bridges')\n",
    "ax.legend()\n",
    "\n",
    "#ax.xaxis.set_minor_locator(AutoMinorLocator())\n",
    "ax.yaxis.set_minor_locator(AutoMinorLocator())\n",
    "ax.tick_params(which='major', length=10, width=2)\n",
    "ax.tick_params(which='minor', length=5, width=1)\n",
    "plt.savefig('demo1.png', transparent=True)"
   ]
  },
  {
   "cell_type": "code",
   "execution_count": null,
   "metadata": {},
   "outputs": [],
   "source": [
    "plt.plot(lengths, diff)"
   ]
  },
  {
   "cell_type": "code",
   "execution_count": null,
   "metadata": {},
   "outputs": [],
   "source": [
    "fig, ax = plt.subplots(figsize=(10, 8))\n",
    "ax.set_xlabel(\"length\", fontsize=14)\n",
    "ax.set_ylabel(\"difference\", fontsize=14)\n",
    "ax.grid(which=\"major\", linewidth=1.2)\n",
    "ax.grid(which=\"minor\", linestyle=\"--\", color=\"gray\", linewidth=0.5)\n",
    "ax.scatter(lengths,diff, c = 'red', label = 'difference')\n",
    "#ax.scatter(numbers,f_nobridge, c = 'blue', label = 'bridges')\n",
    "ax.legend()\n",
    "\n",
    "#ax.xaxis.set_minor_locator(AutoMinorLocator())\n",
    "ax.yaxis.set_minor_locator(AutoMinorLocator())\n",
    "ax.tick_params(which='major', length=10, width=2)\n",
    "ax.tick_params(which='minor', length=5, width=1)\n",
    "plt.savefig('demo1.png', transparent=True)"
   ]
  },
  {
   "cell_type": "code",
   "execution_count": 408,
   "metadata": {},
   "outputs": [
    {
     "ename": "ModuleNotFoundError",
     "evalue": "No module named 'resonator_tools'",
     "output_type": "error",
     "traceback": [
      "\u001b[1;31m---------------------------------------------------------------------------\u001b[0m",
      "\u001b[1;31mModuleNotFoundError\u001b[0m                       Traceback (most recent call last)",
      "\u001b[1;32m<ipython-input-408-26b05d1452fb>\u001b[0m in \u001b[0;36m<module>\u001b[1;34m\u001b[0m\n\u001b[1;32m----> 1\u001b[1;33m \u001b[1;32mimport\u001b[0m \u001b[0mresonator_tools\u001b[0m\u001b[1;33m\u001b[0m\u001b[1;33m\u001b[0m\u001b[0m\n\u001b[0m\u001b[0;32m      2\u001b[0m \u001b[1;32mfrom\u001b[0m \u001b[0mresonator_tools\u001b[0m\u001b[1;33m.\u001b[0m\u001b[0mcircuit\u001b[0m \u001b[1;32mimport\u001b[0m \u001b[0mnotch_port\u001b[0m\u001b[1;33m,\u001b[0m \u001b[0mreflection_port\u001b[0m\u001b[1;33m\u001b[0m\u001b[1;33m\u001b[0m\u001b[0m\n",
      "\u001b[1;31mModuleNotFoundError\u001b[0m: No module named 'resonator_tools'"
     ]
    }
   ],
   "source": [
    "import resonator_tools\n",
    "from resonator_tools.circuit import notch_port, reflection_port"
   ]
  },
  {
   "cell_type": "code",
   "execution_count": null,
   "metadata": {},
   "outputs": [],
   "source": []
  }
 ],
 "metadata": {
  "kernelspec": {
   "display_name": "Python 3",
   "language": "python",
   "name": "python3"
  },
  "language_info": {
   "codemirror_mode": {
    "name": "ipython",
    "version": 3
   },
   "file_extension": ".py",
   "mimetype": "text/x-python",
   "name": "python",
   "nbconvert_exporter": "python",
   "pygments_lexer": "ipython3",
   "version": "3.8.3"
  }
 },
 "nbformat": 4,
 "nbformat_minor": 4
}
