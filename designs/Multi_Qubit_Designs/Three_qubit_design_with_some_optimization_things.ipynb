{
 "cells": [
  {
   "cell_type": "code",
   "execution_count": 1,
   "id": "framed-caribbean",
   "metadata": {},
   "outputs": [
    {
     "name": "stdout",
     "output_type": "stream",
     "text": [
      "<QCreator.elements.pp_transmon.PP_Transmon_Coupler object at 0x000001919F89EE50>\n",
      "0\n",
      "-------------\n",
      "<QCreator.elements.fungus_squid_coupler.PP_Squid_Fluxline object at 0x000001919F89E9D0>\n",
      "1\n",
      "-------------\n",
      "uploaded\n"
     ]
    }
   ],
   "source": [
    "from importlib import reload\n",
    "import numpy as np\n",
    "from matplotlib import pyplot as plt\n",
    "import Three_qubit_design as tqd\n",
    "import QCreator.auxiliary_functions as auxfuncs"
   ]
  },
  {
   "cell_type": "code",
   "execution_count": 2,
   "id": "protecting-cattle",
   "metadata": {},
   "outputs": [],
   "source": [
    "# reload(tqd)"
   ]
  },
  {
   "cell_type": "code",
   "execution_count": 3,
   "id": "recovered-basketball",
   "metadata": {},
   "outputs": [],
   "source": [
    "# tqd.sample.draw_design()\n",
    "# tqd.sample.watch(True)"
   ]
  },
  {
   "cell_type": "markdown",
   "id": "tracked-professional",
   "metadata": {},
   "source": [
    "# Connect fluxlines to couplers"
   ]
  },
  {
   "cell_type": "code",
   "execution_count": 4,
   "id": "major-underground",
   "metadata": {},
   "outputs": [
    {
     "data": {
      "text/plain": [
       "[CPW \"flux_control_T1_part1\", l=37.500]"
      ]
     },
     "execution_count": 4,
     "metadata": {},
     "output_type": "execute_result"
    }
   ],
   "source": [
    "flux_line_narrowing_position = np.asarray(tqd.T1.terminals['coupler1'].position)\n",
    "direction = [np.cos(tqd.T1.terminals['coupler1'].orientation), \n",
    "             np.sin(tqd.T1.terminals['coupler1'].orientation)]\n",
    "narrowing_length = 25\n",
    "flux_line_narrowing_position = flux_line_narrowing_position - np.asarray(direction)*narrowing_length*2\n",
    "flux_line_narrowing = tqd.elements.Narrowing(name='flux_line_narrowing_T1', \n",
    "                                             position=flux_line_narrowing_position, \n",
    "                                             orientation=tqd.T1.terminals['coupler1'].orientation+np.pi, \n",
    "                                             w1=tqd.T1.terminals['coupler1'].w, \n",
    "                                             s1=tqd.T1.terminals['coupler1'].s, \n",
    "                                             g1=tqd.T1.terminals['coupler1'].g,\n",
    "                                             w2=tqd.tl_core, \n",
    "                                             s2=tqd.tl_gap, \n",
    "                                             g2=tqd.tl_ground, \n",
    "                                             layer_configuration=tqd.sample.layer_configuration, \n",
    "                                             length=narrowing_length)\n",
    "tqd.sample.add(flux_line_narrowing)\n",
    "tqd.sample.connect(flux_line_narrowing, 'port1', tqd.T1, 'coupler1')\n",
    "points=tqd.sample.cpw_shift(tqd.pads_left[0],'port',100)+tqd.sample.cpw_shift(flux_line_narrowing,'port2',100)\n",
    "tqd.sample.connect_cpw(tqd.pads_left[0], flux_line_narrowing, 'port', 'port2', 'flux_control_T1_part2', points=points)\n",
    "tqd.sample.connect_cpw(tqd.T1, flux_line_narrowing, 'coupler1', 'port1', 'flux_control_T1_part1', points=[])"
   ]
  },
  {
   "cell_type": "code",
   "execution_count": 5,
   "id": "encouraging-central",
   "metadata": {},
   "outputs": [
    {
     "data": {
      "text/plain": [
       "[CPW \"flux_control_T1_part1\", l=37.500]"
      ]
     },
     "execution_count": 5,
     "metadata": {},
     "output_type": "execute_result"
    }
   ],
   "source": [
    "flux_line_narrowing_position = np.asarray(tqd.T2.terminals['coupler1'].position)\n",
    "direction = [np.cos(tqd.T2.terminals['coupler1'].orientation), \n",
    "             np.sin(tqd.T2.terminals['coupler1'].orientation)]\n",
    "narrowing_length = 25\n",
    "flux_line_narrowing_position = flux_line_narrowing_position - np.asarray(direction)*narrowing_length*2\n",
    "flux_line_narrowing = tqd.elements.Narrowing(name='flux_line_narrowing_T2', \n",
    "                                             position=flux_line_narrowing_position, \n",
    "                                             orientation=tqd.T2.terminals['coupler1'].orientation+np.pi, \n",
    "                                             w1=tqd.T2.terminals['coupler1'].w, \n",
    "                                             s1=tqd.T2.terminals['coupler1'].s, \n",
    "                                             g1=tqd.T2.terminals['coupler1'].g,\n",
    "                                             w2=tqd.tl_core, \n",
    "                                             s2=tqd.tl_gap, \n",
    "                                             g2=tqd.tl_ground, \n",
    "                                             layer_configuration=tqd.sample.layer_configuration, \n",
    "                                             length=narrowing_length)\n",
    "tqd.sample.add(flux_line_narrowing)\n",
    "tqd.sample.connect(flux_line_narrowing, 'port1', tqd.T2, 'coupler1')\n",
    "points=tqd.sample.cpw_shift(tqd.pads_top[2],'port',100)+tqd.sample.cpw_shift(flux_line_narrowing,'port2',100)\n",
    "tqd.sample.connect_cpw(tqd.pads_top[2], flux_line_narrowing, 'port', 'port2', 'flux_control_T1_part2', points=points)\n",
    "tqd.sample.connect_cpw(tqd.T2, flux_line_narrowing, 'coupler1', 'port1', 'flux_control_T1_part1', points=[])"
   ]
  },
  {
   "cell_type": "markdown",
   "id": "dangerous-oxygen",
   "metadata": {},
   "source": [
    "# Connect microwave lines to qubits"
   ]
  },
  {
   "cell_type": "code",
   "execution_count": 6,
   "id": "assumed-aircraft",
   "metadata": {},
   "outputs": [
    {
     "data": {
      "text/plain": [
       "[CPW \"microwave_control_Q1_part1\", l=37.500]"
      ]
     },
     "execution_count": 6,
     "metadata": {},
     "output_type": "execute_result"
    }
   ],
   "source": [
    "microwave_line_narrowing_position = np.asarray(tqd.Q1.terminals['coupler1'].position)\n",
    "direction = [np.cos(tqd.Q1.terminals['coupler1'].orientation), \n",
    "             np.sin(tqd.Q1.terminals['coupler1'].orientation)]\n",
    "narrowing_length = 25\n",
    "microwave_line_narrowing_position = microwave_line_narrowing_position - np.asarray(direction)*narrowing_length*2\n",
    "microwave_line_narrowing = tqd.elements.Narrowing(name='microwave_line_narrowing_Q1', \n",
    "                                             position=microwave_line_narrowing_position, \n",
    "                                             orientation=tqd.Q1.terminals['coupler1'].orientation+np.pi, \n",
    "                                             w1=tqd.Q1.terminals['coupler1'].w, \n",
    "                                             s1=tqd.Q1.terminals['coupler1'].s, \n",
    "                                             g1=tqd.Q1.terminals['coupler1'].g,\n",
    "                                             w2=tqd.tl_core, \n",
    "                                             s2=tqd.tl_gap, \n",
    "                                             g2=tqd.tl_ground, \n",
    "                                             layer_configuration=tqd.sample.layer_configuration, \n",
    "                                             length=narrowing_length)\n",
    "tqd.sample.add(microwave_line_narrowing)\n",
    "tqd.sample.connect(microwave_line_narrowing, 'port1', tqd.Q1, 'coupler1')\n",
    "points=tqd.sample.cpw_shift(tqd.pads_bottom[0],'port',100)+tqd.sample.cpw_shift(microwave_line_narrowing,'port2',100)\n",
    "tqd.sample.connect_cpw(tqd.pads_bottom[0], microwave_line_narrowing, 'port', 'port2', 'microwave_control_Q1_part2', points=points)\n",
    "tqd.sample.connect_cpw(tqd.Q1, microwave_line_narrowing, 'coupler1', 'port1', 'microwave_control_Q1_part1', points=[])"
   ]
  },
  {
   "cell_type": "code",
   "execution_count": 7,
   "id": "collective-proceeding",
   "metadata": {},
   "outputs": [
    {
     "data": {
      "text/plain": [
       "[CPW \"microwave_control_Q3_part1\", l=37.500]"
      ]
     },
     "execution_count": 7,
     "metadata": {},
     "output_type": "execute_result"
    }
   ],
   "source": [
    "microwave_line_narrowing_position = np.asarray(tqd.Q3.terminals['coupler0'].position)\n",
    "direction = [np.cos(tqd.Q3.terminals['coupler0'].orientation), \n",
    "             np.sin(tqd.Q3.terminals['coupler0'].orientation)]\n",
    "narrowing_length = 25\n",
    "microwave_line_narrowing_position = microwave_line_narrowing_position - np.asarray(direction)*narrowing_length*2\n",
    "microwave_line_narrowing = tqd.elements.Narrowing(name='microwave_line_narrowing_Q3', \n",
    "                                             position=microwave_line_narrowing_position, \n",
    "                                             orientation=tqd.Q3.terminals['coupler0'].orientation+np.pi, \n",
    "                                             w1=tqd.Q3.terminals['coupler0'].w, \n",
    "                                             s1=tqd.Q3.terminals['coupler0'].s, \n",
    "                                             g1=tqd.Q3.terminals['coupler0'].g,\n",
    "                                             w2=tqd.tl_core, \n",
    "                                             s2=tqd.tl_gap, \n",
    "                                             g2=tqd.tl_ground, \n",
    "                                             layer_configuration=tqd.sample.layer_configuration, \n",
    "                                             length=narrowing_length)\n",
    "tqd.sample.add(microwave_line_narrowing)\n",
    "tqd.sample.connect(microwave_line_narrowing, 'port1', tqd.Q3, 'coupler0')\n",
    "points=tqd.sample.cpw_shift(tqd.pads_right[0],'port',100)+tqd.sample.cpw_shift(microwave_line_narrowing,'port2',100)\n",
    "tqd.sample.connect_cpw(tqd.pads_right[0], microwave_line_narrowing, 'port', 'port2', 'microwave_control_Q3_part2', points=points)\n",
    "tqd.sample.connect_cpw(tqd.Q3, microwave_line_narrowing, 'coupler0', 'port1', 'microwave_control_Q3_part1', points=[])"
   ]
  },
  {
   "cell_type": "markdown",
   "id": "quantitative-glass",
   "metadata": {},
   "source": [
    "# Create resonators for the right bottom corner"
   ]
  },
  {
   "cell_type": "code",
   "execution_count": 8,
   "id": "exclusive-dividend",
   "metadata": {},
   "outputs": [
    {
     "name": "stdout",
     "output_type": "stream",
     "text": [
      "<QCreator.elements.pp_transmon.PP_Transmon_Coupler object at 0x000001AEA77BDDC0>\n",
      "0\n",
      "-------------\n",
      "<QCreator.elements.fungus_squid_coupler.PP_Squid_Fluxline object at 0x000001AEA77D71C0>\n",
      "1\n",
      "-------------\n",
      "<QCreator.elements.fungus_squid_coupler.PP_Squid_Fluxline object at 0x000001AEA77BD9D0>\n",
      "2\n",
      "-------------\n"
     ]
    },
    {
     "name": "stderr",
     "output_type": "stream",
     "text": [
      "E:\\py38\\lib\\site-packages\\gdspy\\path.py:827: UserWarning: [GDSPY] Possible inconsistency found in `FlexPath` due to sharp corner.\n",
      "  warnings.warn(\n"
     ]
    },
    {
     "data": {
      "text/plain": [
       "(4182.221201175187, 56.784268722636455, 1.4656184980033523e-16)"
      ]
     },
     "execution_count": 8,
     "metadata": {},
     "output_type": "execute_result"
    }
   ],
   "source": [
    "# Q1 resonator\n",
    "coupler_w = [tqd.resonator_core, tqd.resonator_ground, tqd.tl_core]\n",
    "coupler_s = [tqd.resonator_gap, tqd.resonator_gap, tqd.tl_gap, tqd.tl_gap]\n",
    "(coupler_start_x,coupler_start_y)=(3060,1120)\n",
    "coupler_length=400\n",
    "# 2. Create main coupler:\n",
    "coupler_start_x, coupler_length = coupler_start_x + coupler_length, -coupler_length\n",
    "angle = np.pi\n",
    "\n",
    "main_coupler = tqd.elements.CPWCoupler('TL-resonator Q1 coupler',\n",
    "                                   [(coupler_start_x, coupler_start_y),\n",
    "                                    (coupler_start_x + coupler_length, coupler_start_y)],\n",
    "                                   coupler_w, coupler_s, tqd.tl_ground, tqd.sample.layer_configuration, r=100)\n",
    "tqd.sample.add(main_coupler)\n",
    "total_length = [coupler_length]\n",
    "\n",
    "# 3. Create fanout to create closed and opened ends of resonator\n",
    "grounding_width=10\n",
    "fanout1 = tqd.sample.fanout(o=main_coupler, port='port1', name='closed end resonator fanout', grouping=[1, 3])\n",
    "g1 = tqd.sample.ground(o=fanout1, port='center', name='cl1', grounding_width=grounding_width, grounding_between=[(2, 3)])\n",
    "fanout2 = tqd.sample.fanout(o=main_coupler, port='port2', name='open end resonator fanout', grouping=[1, 3])\n",
    "g2 = tqd.sample.ground(o=fanout2, port='center', name='cl2', grounding_width=grounding_width, grounding_between=[(0, 1)])\n",
    "fanout1_port = 'up'\n",
    "fanout2_port = 'down'\n",
    "\n",
    "port_orientation='right'\n",
    "direction_orientation='up'\n",
    "if port_orientation == 'right':\n",
    "    fanout1, fanout2 = fanout2, fanout1\n",
    "    fanout1_port, fanout2_port = fanout2_port, fanout1_port\n",
    "if direction_orientation == 'up':\n",
    "    fanout1, fanout2 = fanout2, fanout1\n",
    "    fanout1_port, fanout2_port = fanout2_port, fanout1_port\n",
    "\n",
    "# 6. Create closed meander of resonator\n",
    "\n",
    "closed_end_meander_length=2750\n",
    "length_left=350\n",
    "length_right=200\n",
    "closed_end_meander = tqd.sample.connect_meander(name='closed end', o1=fanout1, port1=fanout1_port,\n",
    "                                            meander_length=closed_end_meander_length,\n",
    "                                            length_left=length_left,\n",
    "                                            length_right=length_right,\n",
    "                                            first_step_orientation='left',\n",
    "                                            meander_orientation=angle,\n",
    "                                            meander_type='round')\n",
    "\n",
    "total_length.append(sum([line.length for line in closed_end_meander]))\n",
    "# # 7. Create grounding of resonator\n",
    "resonator_ground_ = tqd.sample.ground(o=closed_end_meander[-1], port='port2', name='resonator ground', grounding_width=30,\n",
    "                                      grounding_between=[(0, 2)])\n",
    "\n",
    "points=[(tqd.Q1.terminals['coupler0'].position[0]+100,tqd.Q1.terminals['coupler0'].position[1]),\n",
    "       (tqd.Q1.terminals['coupler0'].position[0]+100,tqd.Q1.terminals['coupler0'].position[1]+250),\n",
    "       (tqd.Q1.terminals['coupler0'].position[0]+400,tqd.Q1.terminals['coupler0'].position[1]+250)]\n",
    "# tqd.sample.cpw_shift(fanout2,fanout2_port,100)+tqd.sample.cpw_shift(tqd.Q1,'coupler0',100)\n",
    "\n",
    "open_end = tqd.sample.connect_cpw(tqd.Q1,fanout2, 'coupler0', fanout2_port,name='right open end',\n",
    "                                    points=points)\n",
    "\n",
    "cl, ll = open_end[0].cm(tqd.sample.epsilon)\n",
    "total_length.append(sum([np.abs(line.length) for line in open_end]))\n",
    "z01 = np.sqrt(ll[0] / cl[0])[0]\n",
    "res_params = (sum(np.abs(total_length)), z01, cl[0, 0])\n",
    "if direction_orientation == 'up':\n",
    "    g1, g2 = g2, g1\n",
    "res_Q1_g1=g1\n",
    "res_Q1_g2=g2\n",
    "tqd.sample.draw_design()\n",
    "res_params"
   ]
  },
  {
   "cell_type": "code",
   "execution_count": 9,
   "id": "documented-vanilla",
   "metadata": {},
   "outputs": [],
   "source": [
    "points=[(tqd.pads_bottom[1].position[0]-750,tqd.pads_bottom[1].position[1]+50),\n",
    "       (tqd.pads_bottom[1].position[0]-750,tqd.pads_bottom[1].position[1]+400)]\n",
    "tqd.sample.connect_cpw(o1=tqd.pads_bottom[1], o2=res_Q1_g1, port1='port', port2='narrow', name='right TL', points=points)\n",
    "tqd.sample.draw_design()"
   ]
  },
  {
   "cell_type": "code",
   "execution_count": 10,
   "id": "defensive-straight",
   "metadata": {},
   "outputs": [
    {
     "data": {
      "text/plain": [
       "(4367.27777547412, 56.784268722636455, 1.4656184980033523e-16)"
      ]
     },
     "execution_count": 10,
     "metadata": {},
     "output_type": "execute_result"
    }
   ],
   "source": [
    "# T2 resonator\n",
    "coupler_w = [tqd.resonator_core, tqd.resonator_ground, tqd.tl_core]\n",
    "coupler_s = [tqd.resonator_gap, tqd.resonator_gap, tqd.tl_gap, tqd.tl_gap]\n",
    "(coupler_start_x,coupler_start_y)=(4060-200,1120)\n",
    "coupler_length=400\n",
    "# 2. Create main coupler:\n",
    "coupler_start_x, coupler_length = coupler_start_x + coupler_length, -coupler_length\n",
    "angle = np.pi\n",
    "\n",
    "main_coupler = tqd.elements.CPWCoupler('TL-resonator T1 coupler',\n",
    "                                   [(coupler_start_x, coupler_start_y),\n",
    "                                    (coupler_start_x + coupler_length, coupler_start_y)],\n",
    "                                   coupler_w, coupler_s, tqd.tl_ground, tqd.sample.layer_configuration, r=100)\n",
    "tqd.sample.add(main_coupler)\n",
    "total_length = [coupler_length]\n",
    "\n",
    "# 3. Create fanout to create closed and opened ends of resonator\n",
    "grounding_width=10\n",
    "fanout1 = tqd.sample.fanout(o=main_coupler, port='port1', name='closed end resonator fanout', grouping=[1, 3])\n",
    "g1 = tqd.sample.ground(o=fanout1, port='center', name='cl1', grounding_width=grounding_width, grounding_between=[(2, 3)])\n",
    "fanout2 = tqd.sample.fanout(o=main_coupler, port='port2', name='open end resonator fanout', grouping=[1, 3])\n",
    "g2 = tqd.sample.ground(o=fanout2, port='center', name='cl2', grounding_width=grounding_width, grounding_between=[(0, 1)])\n",
    "fanout1_port = 'up'\n",
    "fanout2_port = 'down'\n",
    "\n",
    "port_orientation='right'\n",
    "direction_orientation='up'\n",
    "if port_orientation == 'right':\n",
    "    fanout1, fanout2 = fanout2, fanout1\n",
    "    fanout1_port, fanout2_port = fanout2_port, fanout1_port\n",
    "if direction_orientation == 'up':\n",
    "    fanout1, fanout2 = fanout2, fanout1\n",
    "    fanout1_port, fanout2_port = fanout2_port, fanout1_port\n",
    "\n",
    "# 6. Create closed meander of resonator\n",
    "\n",
    "closed_end_meander_length=2750\n",
    "length_left=350\n",
    "length_right=200\n",
    "closed_end_meander = tqd.sample.connect_meander(name='closed end', o1=fanout1, port1=fanout1_port,\n",
    "                                            meander_length=closed_end_meander_length,\n",
    "                                            length_left=length_left,\n",
    "                                            length_right=length_right,\n",
    "                                            first_step_orientation='left',\n",
    "                                            meander_orientation=angle,\n",
    "                                            meander_type='round')\n",
    "\n",
    "total_length.append(sum([line.length for line in closed_end_meander]))\n",
    "# # 7. Create grounding of resonator\n",
    "resonator_ground_ = tqd.sample.ground(o=closed_end_meander[-1], port='port2', name='resonator ground', grounding_width=30,\n",
    "                                      grounding_between=[(0, 2)])\n",
    "\n",
    "points=[(tqd.T2.terminals['coupler0'].position[0],tqd.T2.terminals['coupler0'].position[1]-350),\n",
    "       (tqd.T2.terminals['coupler0'].position[0]+450,tqd.T2.terminals['coupler0'].position[1]-350),]\n",
    "#        (tqd.T2.terminals['coupler0'].position[0]+400,tqd.T2.terminals['coupler0'].position[1]+250)]\n",
    "tqd.sample.cpw_shift(fanout2,fanout2_port,100)+tqd.sample.cpw_shift(tqd.Q1,'coupler0',100)\n",
    "\n",
    "open_end = tqd.sample.connect_cpw(tqd.T2,fanout2, 'coupler0', fanout2_port,name='right open end',\n",
    "                                    points=points)\n",
    "\n",
    "cl, ll = open_end[0].cm(tqd.sample.epsilon)\n",
    "total_length.append(sum([np.abs(line.length) for line in open_end]))\n",
    "z01 = np.sqrt(ll[0] / cl[0])[0]\n",
    "res_params = (sum(np.abs(total_length)), z01, cl[0, 0])\n",
    "if direction_orientation == 'up':\n",
    "    g1, g2 = g2, g1\n",
    "res_T2_g1=g1\n",
    "res_T2_g2=g2\n",
    "tqd.sample.draw_design()\n",
    "res_params"
   ]
  },
  {
   "cell_type": "code",
   "execution_count": 11,
   "id": "sunset-transition",
   "metadata": {},
   "outputs": [
    {
     "data": {
      "text/plain": [
       "[CPW \"right TL\", l=336.000]"
      ]
     },
     "execution_count": 11,
     "metadata": {},
     "output_type": "execute_result"
    }
   ],
   "source": [
    "tqd.sample.connect_cpw(o1=res_Q1_g2, o2=res_T2_g1, port1='narrow', port2='narrow', name='right TL', points=[])"
   ]
  },
  {
   "cell_type": "code",
   "execution_count": 12,
   "id": "opponent-playing",
   "metadata": {},
   "outputs": [
    {
     "data": {
      "text/plain": [
       "(4331.817640002547, 56.784268722636455, 1.4656184980033523e-16)"
      ]
     },
     "execution_count": 12,
     "metadata": {},
     "output_type": "execute_result"
    }
   ],
   "source": [
    "# Q3 resonator\n",
    "coupler_w = [tqd.resonator_core, tqd.resonator_ground, tqd.tl_core]\n",
    "coupler_s = [tqd.resonator_gap, tqd.resonator_gap, tqd.tl_gap, tqd.tl_gap]\n",
    "(coupler_start_x,coupler_start_y)=(5060-200,1120)\n",
    "coupler_length=400\n",
    "# 2. Create main coupler:\n",
    "coupler_start_x, coupler_length = coupler_start_x + coupler_length, -coupler_length\n",
    "angle = np.pi\n",
    "\n",
    "main_coupler = tqd.elements.CPWCoupler('TL-resonator Q3 coupler',\n",
    "                                   [(coupler_start_x, coupler_start_y),\n",
    "                                    (coupler_start_x + coupler_length, coupler_start_y)],\n",
    "                                   coupler_w, coupler_s, tqd.tl_ground, tqd.sample.layer_configuration, r=100)\n",
    "tqd.sample.add(main_coupler)\n",
    "total_length = [coupler_length]\n",
    "\n",
    "# 3. Create fanout to create closed and opened ends of resonator\n",
    "grounding_width=10\n",
    "fanout1 = tqd.sample.fanout(o=main_coupler, port='port1', name='closed end resonator fanout', grouping=[1, 3])\n",
    "g1 = tqd.sample.ground(o=fanout1, port='center', name='cl1', grounding_width=grounding_width, grounding_between=[(2, 3)])\n",
    "fanout2 = tqd.sample.fanout(o=main_coupler, port='port2', name='open end resonator fanout', grouping=[1, 3])\n",
    "g2 = tqd.sample.ground(o=fanout2, port='center', name='cl2', grounding_width=grounding_width, grounding_between=[(0, 1)])\n",
    "fanout1_port = 'up'\n",
    "fanout2_port = 'down'\n",
    "\n",
    "port_orientation='right'\n",
    "direction_orientation='up'\n",
    "if port_orientation == 'right':\n",
    "    fanout1, fanout2 = fanout2, fanout1\n",
    "    fanout1_port, fanout2_port = fanout2_port, fanout1_port\n",
    "if direction_orientation == 'up':\n",
    "    fanout1, fanout2 = fanout2, fanout1\n",
    "    fanout1_port, fanout2_port = fanout2_port, fanout1_port\n",
    "\n",
    "# 6. Create closed meander of resonator\n",
    "\n",
    "closed_end_meander_length=2750\n",
    "length_left=350\n",
    "length_right=200\n",
    "closed_end_meander = tqd.sample.connect_meander(name='closed end', o1=fanout1, port1=fanout1_port,\n",
    "                                            meander_length=closed_end_meander_length,\n",
    "                                            length_left=length_left,\n",
    "                                            length_right=length_right,\n",
    "                                            first_step_orientation='left',\n",
    "                                            meander_orientation=angle,\n",
    "                                            meander_type='round')\n",
    "\n",
    "total_length.append(sum([line.length for line in closed_end_meander]))\n",
    "# # 7. Create grounding of resonator\n",
    "resonator_ground_ = tqd.sample.ground(o=closed_end_meander[-1], port='port2', name='resonator ground', grounding_width=30,\n",
    "                                      grounding_between=[(0, 2)])\n",
    "\n",
    "points=tqd.sample.cpw_shift(tqd.Q3,'coupler1',100)+[(tqd.Q3.terminals['coupler1'].position[0]+50,tqd.Q3.terminals['coupler1'].position[1]-250),\n",
    "       (tqd.Q3.terminals['coupler1'].position[0]+450,tqd.Q3.terminals['coupler1'].position[1]-250),]\n",
    "\n",
    "open_end = tqd.sample.connect_cpw(tqd.Q3,fanout2, 'coupler1', fanout2_port,name='right open end',\n",
    "                                    points=points)\n",
    "\n",
    "cl, ll = open_end[0].cm(tqd.sample.epsilon)\n",
    "total_length.append(sum([np.abs(line.length) for line in open_end]))\n",
    "z01 = np.sqrt(ll[0] / cl[0])[0]\n",
    "res_params = (sum(np.abs(total_length)), z01, cl[0, 0])\n",
    "if direction_orientation == 'up':\n",
    "    g1, g2 = g2, g1\n",
    "res_Q3_g1=g1\n",
    "res_Q3_g2=g2\n",
    "tqd.sample.draw_design()\n",
    "res_params"
   ]
  },
  {
   "cell_type": "code",
   "execution_count": 13,
   "id": "internal-spider",
   "metadata": {},
   "outputs": [
    {
     "data": {
      "text/plain": [
       "[CPW \"right TL\", l=799.226]"
      ]
     },
     "execution_count": 13,
     "metadata": {},
     "output_type": "execute_result"
    }
   ],
   "source": [
    "tqd.sample.connect_cpw(o1=res_T2_g2, o2=res_Q3_g1, port1='narrow', port2='narrow', name='right TL', points=[])\n",
    "tqd.sample.connect_cpw(o1=res_Q3_g2, o2=tqd.pads_bottom[2], port1='narrow', port2='port', name='right TL', points=[])"
   ]
  },
  {
   "cell_type": "code",
   "execution_count": 14,
   "id": "worst-alias",
   "metadata": {},
   "outputs": [],
   "source": [
    "tqd.sample.draw_design()\n",
    "# tqd.sample.watch(True)"
   ]
  },
  {
   "cell_type": "markdown",
   "id": "damaged-penetration",
   "metadata": {},
   "source": [
    "# Create resonators for the left top corner"
   ]
  },
  {
   "cell_type": "code",
   "execution_count": 15,
   "id": "alternate-bandwidth",
   "metadata": {},
   "outputs": [
    {
     "data": {
      "text/plain": [
       "(4331.817640002547, 56.784268722636455, 1.4656184980033523e-16)"
      ]
     },
     "execution_count": 15,
     "metadata": {},
     "output_type": "execute_result"
    }
   ],
   "source": [
    "# T1 resonator\n",
    "coupler_w = [tqd.resonator_core, tqd.resonator_ground, tqd.tl_core]\n",
    "coupler_s = [tqd.resonator_gap, tqd.resonator_gap, tqd.tl_gap, tqd.tl_gap]\n",
    "(coupler_start_x,coupler_start_y)=(1200,2700)\n",
    "coupler_length=400\n",
    "# 2. Create main coupler:\n",
    "angle = 0\n",
    "\n",
    "main_coupler = tqd.elements.CPWCoupler('TL-resonator T1 coupler',\n",
    "                                   [(coupler_start_x, coupler_start_y),\n",
    "                                    (coupler_start_x + coupler_length, coupler_start_y)],\n",
    "                                   coupler_w, coupler_s, tqd.tl_ground, tqd.sample.layer_configuration, r=100)\n",
    "tqd.sample.add(main_coupler)\n",
    "total_length = [coupler_length]\n",
    "\n",
    "# 3. Create fanout to create closed and opened ends of resonator\n",
    "grounding_width=10\n",
    "fanout1 = tqd.sample.fanout(o=main_coupler, port='port1', name='closed end resonator fanout', grouping=[1, 3])\n",
    "g1 = tqd.sample.ground(o=fanout1, port='center', name='cl1', grounding_width=grounding_width, grounding_between=[(2, 3)])\n",
    "fanout2 = tqd.sample.fanout(o=main_coupler, port='port2', name='open end resonator fanout', grouping=[1, 3])\n",
    "g2 = tqd.sample.ground(o=fanout2, port='center', name='cl2', grounding_width=grounding_width, grounding_between=[(0, 1)])\n",
    "fanout1_port = 'up'\n",
    "fanout2_port = 'down'\n",
    "\n",
    "port_orientation='right'\n",
    "direction_orientation='up'\n",
    "if port_orientation == 'right':\n",
    "    fanout1, fanout2 = fanout2, fanout1\n",
    "    fanout1_port, fanout2_port = fanout2_port, fanout1_port\n",
    "if direction_orientation == 'up':\n",
    "    fanout1, fanout2 = fanout2, fanout1\n",
    "    fanout1_port, fanout2_port = fanout2_port, fanout1_port\n",
    "\n",
    "# 6. Create closed meander of resonator\n",
    "\n",
    "closed_end_meander_length=2750\n",
    "length_left=200\n",
    "length_right=200\n",
    "closed_end_meander = tqd.sample.connect_meander(name='closed end', o1=fanout1, port1=fanout1_port,\n",
    "                                            meander_length=closed_end_meander_length,\n",
    "                                            length_left=length_left,\n",
    "                                            length_right=length_right,\n",
    "                                            first_step_orientation='left',\n",
    "                                            meander_orientation=angle,\n",
    "                                            meander_type='round')\n",
    "\n",
    "total_length.append(sum([line.length for line in closed_end_meander]))\n",
    "# # 7. Create grounding of resonator\n",
    "resonator_ground_ = tqd.sample.ground(o=closed_end_meander[-1], port='port2', name='resonator ground', grounding_width=30,\n",
    "                                      grounding_between=[(0, 2)])\n",
    "\n",
    "# points=tqd.sample.cpw_shift(tqd.T1,'coupler1',100)+[(tqd.T1.terminals['coupler1'].position[0]+50,tqd.Q3.terminals['coupler1'].position[1]-250),\n",
    "#        (tqd.Q3.terminals['coupler1'].position[0]+450,tqd.T1.terminals['coupler1'].position[1]-250),]\n",
    "\n",
    "# open_end = tqd.sample.connect_cpw(tqd.Q3,fanout2, 'coupler1', fanout2_port,name='right open end',\n",
    "#                                     points=points)\n",
    "\n",
    "# cl, ll = open_end[0].cm(tqd.sample.epsilon)\n",
    "# total_length.append(sum([np.abs(line.length) for line in open_end]))\n",
    "# z01 = np.sqrt(ll[0] / cl[0])[0]\n",
    "# res_params = (sum(np.abs(total_length)), z01, cl[0, 0])\n",
    "if direction_orientation == 'up':\n",
    "    g1, g2 = g2, g1\n",
    "res_T1_g1=g1\n",
    "res_T1_g2=g2\n",
    "tqd.sample.draw_design()\n",
    "res_params"
   ]
  },
  {
   "cell_type": "code",
   "execution_count": 16,
   "id": "proper-eclipse",
   "metadata": {},
   "outputs": [
    {
     "data": {
      "text/plain": [
       "(4331.817640002547, 56.784268722636455, 1.4656184980033523e-16)"
      ]
     },
     "execution_count": 16,
     "metadata": {},
     "output_type": "execute_result"
    }
   ],
   "source": [
    "# Q2 resonator\n",
    "coupler_w = [tqd.resonator_core, tqd.resonator_ground, tqd.tl_core]\n",
    "coupler_s = [tqd.resonator_gap, tqd.resonator_gap, tqd.tl_gap, tqd.tl_gap]\n",
    "(coupler_start_x,coupler_start_y)=(2900,3200)\n",
    "coupler_length=400\n",
    "# 2. Create main coupler:\n",
    "angle = 0\n",
    "\n",
    "main_coupler = tqd.elements.CPWCoupler('TL-resonator T1 coupler',\n",
    "                                   [(coupler_start_x, coupler_start_y),\n",
    "                                    (coupler_start_x + coupler_length, coupler_start_y)],\n",
    "                                   coupler_w, coupler_s, tqd.tl_ground, tqd.sample.layer_configuration, r=100)\n",
    "tqd.sample.add(main_coupler)\n",
    "total_length = [coupler_length]\n",
    "\n",
    "# 3. Create fanout to create closed and opened ends of resonator\n",
    "grounding_width=10\n",
    "fanout1 = tqd.sample.fanout(o=main_coupler, port='port1', name='closed end resonator fanout', grouping=[1, 3])\n",
    "g1 = tqd.sample.ground(o=fanout1, port='center', name='cl1', grounding_width=grounding_width, grounding_between=[(2, 3)])\n",
    "fanout2 = tqd.sample.fanout(o=main_coupler, port='port2', name='open end resonator fanout', grouping=[1, 3])\n",
    "g2 = tqd.sample.ground(o=fanout2, port='center', name='cl2', grounding_width=grounding_width, grounding_between=[(0, 1)])\n",
    "fanout1_port = 'up'\n",
    "fanout2_port = 'down'\n",
    "\n",
    "port_orientation='left'\n",
    "direction_orientation='up'\n",
    "if port_orientation == 'right':\n",
    "    fanout1, fanout2 = fanout2, fanout1\n",
    "    fanout1_port, fanout2_port = fanout2_port, fanout1_port\n",
    "if direction_orientation == 'up':\n",
    "    fanout1, fanout2 = fanout2, fanout1\n",
    "    fanout1_port, fanout2_port = fanout2_port, fanout1_port\n",
    "\n",
    "# 6. Create closed meander of resonator\n",
    "\n",
    "closed_end_meander_length=2750\n",
    "length_left=350\n",
    "length_right=350\n",
    "closed_end_meander = tqd.sample.connect_meander(name='closed end', o1=fanout1, port1=fanout1_port,\n",
    "                                            meander_length=closed_end_meander_length,\n",
    "                                            length_left=length_left,\n",
    "                                            length_right=length_right,\n",
    "                                            first_step_orientation='right',\n",
    "                                            meander_orientation=angle,\n",
    "                                            meander_type='round')\n",
    "\n",
    "total_length.append(sum([line.length for line in closed_end_meander]))\n",
    "# # 7. Create grounding of resonator\n",
    "resonator_ground_ = tqd.sample.ground(o=closed_end_meander[-1], port='port2', name='resonator ground', grounding_width=30,\n",
    "                                      grounding_between=[(0, 2)])\n",
    "\n",
    "# points=tqd.sample.cpw_shift(tqd.T1,'coupler1',100)+[(tqd.T1.terminals['coupler1'].position[0]+50,tqd.Q3.terminals['coupler1'].position[1]-250),\n",
    "#        (tqd.Q3.terminals['coupler1'].position[0]+450,tqd.T1.terminals['coupler1'].position[1]-250),]\n",
    "\n",
    "# open_end = tqd.sample.connect_cpw(tqd.Q3,fanout2, 'coupler1', fanout2_port,name='right open end',\n",
    "#                                     points=points)\n",
    "\n",
    "# cl, ll = open_end[0].cm(tqd.sample.epsilon)\n",
    "# total_length.append(sum([np.abs(line.length) for line in open_end]))\n",
    "# z01 = np.sqrt(ll[0] / cl[0])[0]\n",
    "# res_params = (sum(np.abs(total_length)), z01, cl[0, 0])\n",
    "if direction_orientation == 'up':\n",
    "    g1, g2 = g2, g1\n",
    "res_Q2_g1=g1\n",
    "res_Q2_g2=g2\n",
    "tqd.sample.draw_design()\n",
    "res_params"
   ]
  },
  {
   "cell_type": "code",
   "execution_count": 17,
   "id": "catholic-dover",
   "metadata": {},
   "outputs": [
    {
     "ename": "ValueError",
     "evalue": "Too short segment in line to round corner with given radius",
     "output_type": "error",
     "traceback": [
      "\u001b[1;31m---------------------------------------------------------------------------\u001b[0m",
      "\u001b[1;31mValueError\u001b[0m                                Traceback (most recent call last)",
      "\u001b[1;32m<ipython-input-17-1c3d6a689edf>\u001b[0m in \u001b[0;36m<module>\u001b[1;34m\u001b[0m\n\u001b[0;32m      2\u001b[0m        \u001b[1;33m(\u001b[0m\u001b[0mtqd\u001b[0m\u001b[1;33m.\u001b[0m\u001b[0mpads_top\u001b[0m\u001b[1;33m[\u001b[0m\u001b[1;36m0\u001b[0m\u001b[1;33m]\u001b[0m\u001b[1;33m.\u001b[0m\u001b[0mposition\u001b[0m\u001b[1;33m[\u001b[0m\u001b[1;36m0\u001b[0m\u001b[1;33m]\u001b[0m\u001b[1;33m-\u001b[0m\u001b[1;36m200\u001b[0m\u001b[1;33m,\u001b[0m\u001b[0mtqd\u001b[0m\u001b[1;33m.\u001b[0m\u001b[0mpads_top\u001b[0m\u001b[1;33m[\u001b[0m\u001b[1;36m0\u001b[0m\u001b[1;33m]\u001b[0m\u001b[1;33m.\u001b[0m\u001b[0mposition\u001b[0m\u001b[1;33m[\u001b[0m\u001b[1;36m1\u001b[0m\u001b[1;33m]\u001b[0m\u001b[1;33m-\u001b[0m\u001b[1;36m50\u001b[0m\u001b[1;33m)\u001b[0m\u001b[1;33m,\u001b[0m\u001b[1;33m\u001b[0m\u001b[1;33m\u001b[0m\u001b[0m\n\u001b[0;32m      3\u001b[0m        (tqd.pads_top[0].position[0]-200,tqd.pads_top[0].position[1]-250)]\n\u001b[1;32m----> 4\u001b[1;33m \u001b[0mtqd\u001b[0m\u001b[1;33m.\u001b[0m\u001b[0msample\u001b[0m\u001b[1;33m.\u001b[0m\u001b[0mconnect_cpw\u001b[0m\u001b[1;33m(\u001b[0m\u001b[0mo1\u001b[0m\u001b[1;33m=\u001b[0m\u001b[0mres_T1_g2\u001b[0m\u001b[1;33m,\u001b[0m \u001b[0mo2\u001b[0m\u001b[1;33m=\u001b[0m\u001b[0mtqd\u001b[0m\u001b[1;33m.\u001b[0m\u001b[0mpads_top\u001b[0m\u001b[1;33m[\u001b[0m\u001b[1;36m0\u001b[0m\u001b[1;33m]\u001b[0m\u001b[1;33m,\u001b[0m \u001b[0mport1\u001b[0m\u001b[1;33m=\u001b[0m\u001b[1;34m'narrow'\u001b[0m\u001b[1;33m,\u001b[0m \u001b[0mport2\u001b[0m\u001b[1;33m=\u001b[0m\u001b[1;34m'port'\u001b[0m\u001b[1;33m,\u001b[0m \u001b[0mname\u001b[0m\u001b[1;33m=\u001b[0m\u001b[1;34m'right TL'\u001b[0m\u001b[1;33m,\u001b[0m \u001b[0mpoints\u001b[0m\u001b[1;33m=\u001b[0m\u001b[0mpoints\u001b[0m\u001b[1;33m)\u001b[0m\u001b[1;33m\u001b[0m\u001b[1;33m\u001b[0m\u001b[0m\n\u001b[0m\u001b[0;32m      5\u001b[0m \u001b[0mtqd\u001b[0m\u001b[1;33m.\u001b[0m\u001b[0msample\u001b[0m\u001b[1;33m.\u001b[0m\u001b[0mconnect_cpw\u001b[0m\u001b[1;33m(\u001b[0m\u001b[0mo1\u001b[0m\u001b[1;33m=\u001b[0m\u001b[0mres_Q2_g1\u001b[0m\u001b[1;33m,\u001b[0m \u001b[0mo2\u001b[0m\u001b[1;33m=\u001b[0m\u001b[0mtqd\u001b[0m\u001b[1;33m.\u001b[0m\u001b[0mpads_top\u001b[0m\u001b[1;33m[\u001b[0m\u001b[1;36m1\u001b[0m\u001b[1;33m]\u001b[0m\u001b[1;33m,\u001b[0m \u001b[0mport1\u001b[0m\u001b[1;33m=\u001b[0m\u001b[1;34m'narrow'\u001b[0m\u001b[1;33m,\u001b[0m \u001b[0mport2\u001b[0m\u001b[1;33m=\u001b[0m\u001b[1;34m'port'\u001b[0m\u001b[1;33m,\u001b[0m \u001b[0mname\u001b[0m\u001b[1;33m=\u001b[0m\u001b[1;34m'right TL'\u001b[0m\u001b[1;33m,\u001b[0m \u001b[0mpoints\u001b[0m\u001b[1;33m=\u001b[0m\u001b[1;33m[\u001b[0m\u001b[1;33m]\u001b[0m\u001b[1;33m)\u001b[0m\u001b[1;33m\u001b[0m\u001b[1;33m\u001b[0m\u001b[0m\n",
      "\u001b[1;32mE:\\Github2.0\\QCreator\\QCreator\\general_sample_creator.py\u001b[0m in \u001b[0;36mconnect_cpw\u001b[1;34m(self, o1, o2, port1, port2, name, points, airbridge, min_spacing)\u001b[0m\n\u001b[0;32m    236\u001b[0m \u001b[1;33m\u001b[0m\u001b[0m\n\u001b[0;32m    237\u001b[0m         \u001b[0mpoints\u001b[0m \u001b[1;33m=\u001b[0m \u001b[1;33m[\u001b[0m\u001b[0mtuple\u001b[0m\u001b[1;33m(\u001b[0m\u001b[0mt1\u001b[0m\u001b[1;33m.\u001b[0m\u001b[0mposition\u001b[0m\u001b[1;33m)\u001b[0m\u001b[1;33m]\u001b[0m \u001b[1;33m+\u001b[0m \u001b[0mpoints\u001b[0m \u001b[1;33m+\u001b[0m \u001b[1;33m[\u001b[0m\u001b[0mtuple\u001b[0m\u001b[1;33m(\u001b[0m\u001b[0mt2\u001b[0m\u001b[1;33m.\u001b[0m\u001b[0mposition\u001b[0m\u001b[1;33m)\u001b[0m\u001b[1;33m]\u001b[0m\u001b[1;33m\u001b[0m\u001b[1;33m\u001b[0m\u001b[0m\n\u001b[1;32m--> 238\u001b[1;33m         cpw = elements.CPW(name, points, w, s, g, self.layer_configuration, r=self.default_cpw_radius(w, s, g),\n\u001b[0m\u001b[0;32m    239\u001b[0m                            corner_type='round', orientation1=orientation1, orientation2=orientation2)\n\u001b[0;32m    240\u001b[0m \u001b[1;33m\u001b[0m\u001b[0m\n",
      "\u001b[1;32mE:\\Github2.0\\QCreator\\QCreator\\elements\\cpw.py\u001b[0m in \u001b[0;36m__init__\u001b[1;34m(self, name, points, w, s, g, layer_configuration, r, corner_type, orientation1, orientation2)\u001b[0m\n\u001b[0;32m    243\u001b[0m                  \u001b[0mlayer_configuration\u001b[0m\u001b[1;33m:\u001b[0m \u001b[0mLayerConfiguration\u001b[0m\u001b[1;33m,\u001b[0m \u001b[0mr\u001b[0m\u001b[1;33m:\u001b[0m \u001b[0mfloat\u001b[0m\u001b[1;33m,\u001b[0m \u001b[0mcorner_type\u001b[0m\u001b[1;33m:\u001b[0m \u001b[0mstr\u001b[0m \u001b[1;33m=\u001b[0m \u001b[1;34m'round'\u001b[0m\u001b[1;33m,\u001b[0m\u001b[1;33m\u001b[0m\u001b[1;33m\u001b[0m\u001b[0m\n\u001b[0;32m    244\u001b[0m                  orientation1: float = None, orientation2: float = None):\n\u001b[1;32m--> 245\u001b[1;33m         \u001b[0msuper\u001b[0m\u001b[1;33m(\u001b[0m\u001b[1;33m)\u001b[0m\u001b[1;33m.\u001b[0m\u001b[0m__init__\u001b[0m\u001b[1;33m(\u001b[0m\u001b[0mname\u001b[0m\u001b[1;33m,\u001b[0m \u001b[0mpoints\u001b[0m\u001b[1;33m,\u001b[0m \u001b[1;33m[\u001b[0m\u001b[0mw\u001b[0m\u001b[1;33m]\u001b[0m\u001b[1;33m,\u001b[0m \u001b[1;33m[\u001b[0m\u001b[0ms\u001b[0m\u001b[1;33m,\u001b[0m \u001b[0ms\u001b[0m\u001b[1;33m]\u001b[0m\u001b[1;33m,\u001b[0m \u001b[0mg\u001b[0m\u001b[1;33m,\u001b[0m \u001b[0mlayer_configuration\u001b[0m\u001b[1;33m,\u001b[0m \u001b[0mr\u001b[0m\u001b[1;33m,\u001b[0m \u001b[0mcorner_type\u001b[0m\u001b[1;33m,\u001b[0m \u001b[0morientation1\u001b[0m\u001b[1;33m,\u001b[0m \u001b[0morientation2\u001b[0m\u001b[1;33m)\u001b[0m\u001b[1;33m\u001b[0m\u001b[1;33m\u001b[0m\u001b[0m\n\u001b[0m\u001b[0;32m    246\u001b[0m \u001b[1;33m\u001b[0m\u001b[0m\n\u001b[0;32m    247\u001b[0m         \u001b[0mself\u001b[0m\u001b[1;33m.\u001b[0m\u001b[0mterminals\u001b[0m\u001b[1;33m[\u001b[0m\u001b[1;34m'port1'\u001b[0m\u001b[1;33m]\u001b[0m\u001b[1;33m.\u001b[0m\u001b[0mtype\u001b[0m \u001b[1;33m=\u001b[0m \u001b[1;34m'cpw'\u001b[0m\u001b[1;33m\u001b[0m\u001b[1;33m\u001b[0m\u001b[0m\n",
      "\u001b[1;32mE:\\Github2.0\\QCreator\\QCreator\\elements\\cpw.py\u001b[0m in \u001b[0;36m__init__\u001b[1;34m(self, name, points, w, s, g, layer_configuration, r, corner_type, orientation1, orientation2, kinetic_inductance)\u001b[0m\n\u001b[0;32m     59\u001b[0m \u001b[1;33m\u001b[0m\u001b[0m\n\u001b[0;32m     60\u001b[0m         \u001b[0mself\u001b[0m\u001b[1;33m.\u001b[0m\u001b[0msegments\u001b[0m \u001b[1;33m=\u001b[0m \u001b[1;33m[\u001b[0m\u001b[1;33m]\u001b[0m\u001b[1;33m\u001b[0m\u001b[1;33m\u001b[0m\u001b[0m\n\u001b[1;32m---> 61\u001b[1;33m         \u001b[0mself\u001b[0m\u001b[1;33m.\u001b[0m\u001b[0mfinalize_points\u001b[0m\u001b[1;33m(\u001b[0m\u001b[1;33m)\u001b[0m\u001b[1;33m\u001b[0m\u001b[1;33m\u001b[0m\u001b[0m\n\u001b[0m\u001b[0;32m     62\u001b[0m \u001b[1;33m\u001b[0m\u001b[0m\n\u001b[0;32m     63\u001b[0m     \u001b[1;32mdef\u001b[0m \u001b[0mfinalize_points\u001b[0m\u001b[1;33m(\u001b[0m\u001b[0mself\u001b[0m\u001b[1;33m)\u001b[0m\u001b[1;33m:\u001b[0m\u001b[1;33m\u001b[0m\u001b[1;33m\u001b[0m\u001b[0m\n",
      "\u001b[1;32mE:\\Github2.0\\QCreator\\QCreator\\elements\\cpw.py\u001b[0m in \u001b[0;36mfinalize_points\u001b[1;34m(self)\u001b[0m\n\u001b[0;32m    141\u001b[0m \u001b[1;33m\u001b[0m\u001b[0m\n\u001b[0;32m    142\u001b[0m                 \u001b[1;32mif\u001b[0m \u001b[0mreplaced_length\u001b[0m \u001b[1;33m>\u001b[0m \u001b[0mlength1\u001b[0m \u001b[1;32mor\u001b[0m \u001b[0mreplaced_length\u001b[0m \u001b[1;33m>\u001b[0m \u001b[0mlength2\u001b[0m\u001b[1;33m:\u001b[0m\u001b[1;33m\u001b[0m\u001b[1;33m\u001b[0m\u001b[0m\n\u001b[1;32m--> 143\u001b[1;33m                     \u001b[1;32mraise\u001b[0m \u001b[0mValueError\u001b[0m\u001b[1;33m(\u001b[0m\u001b[1;34m'Too short segment in line to round corner with given radius'\u001b[0m\u001b[1;33m)\u001b[0m\u001b[1;33m\u001b[0m\u001b[1;33m\u001b[0m\u001b[0m\n\u001b[0m\u001b[0;32m    144\u001b[0m \u001b[1;33m\u001b[0m\u001b[0m\n\u001b[0;32m    145\u001b[0m                 self.segments.append({'type': 'segment', 'startpoint': last_point, 'endpoint': replaced_point1,\n",
      "\u001b[1;31mValueError\u001b[0m: Too short segment in line to round corner with given radius"
     ]
    }
   ],
   "source": [
    "points=[(tqd.pads_top[0].position[0],tqd.pads_top[0].position[1]-50),\n",
    "       (tqd.pads_top[0].position[0]-200,tqd.pads_top[0].position[1]-50),\n",
    "       (tqd.pads_top[0].position[0]-200,tqd.pads_top[0].position[1]-250)]\n",
    "tqd.sample.connect_cpw(o1=res_T1_g2, o2=tqd.pads_top[0], port1='narrow', port2='port', name='right TL', points=points)\n",
    "tqd.sample.connect_cpw(o1=res_Q2_g1, o2=tqd.pads_top[1], port1='narrow', port2='port', name='right TL', points=[])"
   ]
  },
  {
   "cell_type": "code",
   "execution_count": null,
   "id": "brilliant-ministry",
   "metadata": {},
   "outputs": [],
   "source": [
    "points"
   ]
  },
  {
   "cell_type": "code",
   "execution_count": null,
   "id": "blond-property",
   "metadata": {},
   "outputs": [],
   "source": [
    "tqd.sample.draw_design()\n",
    "tqd.sample.write_to_gds()\n",
    "# tqd.sample.watch(True)"
   ]
  },
  {
   "cell_type": "code",
   "execution_count": null,
   "id": "solid-helen",
   "metadata": {},
   "outputs": [],
   "source": [
    "res_T1_g2.terminals"
   ]
  },
  {
   "cell_type": "code",
   "execution_count": null,
   "id": "detailed-genealogy",
   "metadata": {},
   "outputs": [],
   "source": []
  },
  {
   "cell_type": "code",
   "execution_count": null,
   "id": "ambient-bunny",
   "metadata": {},
   "outputs": [],
   "source": []
  },
  {
   "cell_type": "code",
   "execution_count": null,
   "id": "superb-accounting",
   "metadata": {},
   "outputs": [],
   "source": []
  },
  {
   "cell_type": "code",
   "execution_count": null,
   "id": "talented-setting",
   "metadata": {},
   "outputs": [],
   "source": [
    "stop it"
   ]
  },
  {
   "cell_type": "markdown",
   "id": "classical-jenny",
   "metadata": {},
   "source": [
    "# Some calculations"
   ]
  },
  {
   "cell_type": "code",
   "execution_count": 2,
   "id": "numerous-vector",
   "metadata": {},
   "outputs": [],
   "source": [
    "import numpy as np\n",
    "from scipy.constants import hbar,h,e,c\n",
    "from scipy.constants import elementary_charge as elc\n",
    "F0 = 2.0678e-15"
   ]
  },
  {
   "cell_type": "code",
   "execution_count": 3,
   "id": "ancient-snapshot",
   "metadata": {},
   "outputs": [],
   "source": [
    "e_eff=(11.4+1)/2## for all calculations\n",
    "Mhz=(2*np.pi*1e6)## divide on it to obtain value in mhz\n",
    "j=0.5e-3      # critical current density nA/nm^2"
   ]
  },
  {
   "cell_type": "code",
   "execution_count": 4,
   "id": "sudden-forty",
   "metadata": {},
   "outputs": [],
   "source": [
    "def Ec(C):#fF\n",
    "    return (elc)**2/(2*C)/h/1e9*1e15"
   ]
  },
  {
   "cell_type": "code",
   "execution_count": 19,
   "id": "fourth-silver",
   "metadata": {},
   "outputs": [],
   "source": [
    "C1g=58.37\n",
    "C2g=142.4\n",
    "C12=30.1\n",
    "Cs=C12+(1/C1g+1/C2g)**(-1)"
   ]
  },
  {
   "cell_type": "code",
   "execution_count": 20,
   "id": "disturbed-nowhere",
   "metadata": {},
   "outputs": [
    {
     "data": {
      "text/plain": [
       "71.50004980823829"
      ]
     },
     "execution_count": 20,
     "metadata": {},
     "output_type": "execute_result"
    }
   ],
   "source": [
    "Cs"
   ]
  },
  {
   "cell_type": "code",
   "execution_count": 21,
   "id": "happy-scientist",
   "metadata": {},
   "outputs": [
    {
     "data": {
      "text/plain": [
       "(0.2709121095245345, 0.29800332047698797)"
      ]
     },
     "execution_count": 21,
     "metadata": {},
     "output_type": "execute_result"
    }
   ],
   "source": [
    "#### Qubit's itself capacitance \n",
    "Ec(Cs),Ec(Cs)*1.1"
   ]
  },
  {
   "cell_type": "code",
   "execution_count": 5,
   "id": "sealed-consistency",
   "metadata": {},
   "outputs": [],
   "source": [
    "C1g=142.4\n",
    "C2g=39.7\n",
    "C12=21.9\n",
    "Cs=C12+(1/C1g+1/C2g)**(-1)"
   ]
  },
  {
   "cell_type": "code",
   "execution_count": 10,
   "id": "sweet-sessions",
   "metadata": {},
   "outputs": [],
   "source": [
    "Cs=90.6"
   ]
  },
  {
   "cell_type": "code",
   "execution_count": 11,
   "id": "neutral-increase",
   "metadata": {},
   "outputs": [
    {
     "data": {
      "text/plain": [
       "(0.21379944066952675, 0.23517938473647945)"
      ]
     },
     "execution_count": 11,
     "metadata": {},
     "output_type": "execute_result"
    }
   ],
   "source": [
    "#### Qubit's itself capacitance \n",
    "Ec(Cs),Ec(Cs)*1.1"
   ]
  },
  {
   "cell_type": "code",
   "execution_count": 13,
   "id": "collected-taxation",
   "metadata": {},
   "outputs": [
    {
     "data": {
      "text/plain": [
       "103.77000000000001"
      ]
     },
     "execution_count": 13,
     "metadata": {},
     "output_type": "execute_result"
    }
   ],
   "source": [
    "77.65+21.8+3.7+0.42+0.2"
   ]
  },
  {
   "cell_type": "markdown",
   "id": "rising-concentration",
   "metadata": {},
   "source": [
    "# some other things"
   ]
  },
  {
   "cell_type": "code",
   "execution_count": null,
   "id": "successful-spine",
   "metadata": {},
   "outputs": [],
   "source": []
  },
  {
   "cell_type": "code",
   "execution_count": null,
   "id": "studied-banana",
   "metadata": {},
   "outputs": [],
   "source": []
  },
  {
   "cell_type": "code",
   "execution_count": null,
   "id": "convinced-federal",
   "metadata": {},
   "outputs": [],
   "source": [
    "from QCreator.elements import twoqtc_sample"
   ]
  },
  {
   "cell_type": "code",
   "execution_count": null,
   "id": "related-passage",
   "metadata": {},
   "outputs": [],
   "source": [
    "#to suppress printing\n",
    "@contextmanager\n",
    "def suppress_stdout():\n",
    "    with open(os.devnull, \"w\") as devnull:\n",
    "        old_stdout = sys.stdout\n",
    "        sys.stdout = devnull\n",
    "        try:  \n",
    "            yield\n",
    "        finally:\n",
    "            sys.stdout = old_stdout"
   ]
  },
  {
   "cell_type": "code",
   "execution_count": null,
   "id": "certain-budget",
   "metadata": {},
   "outputs": [],
   "source": [
    "def I(f,Ec):\n",
    "    Ej=Ejf(f,Ec)\n",
    "    I=Ej*2*np.pi/F0*h*1e18\n",
    "    return I\n",
    "def Ejf(f,Ec):\n",
    "    Ej=(f+Ec)**2/(8*Ec)\n",
    "    return Ej\n",
    "def Eji(I):#nA\n",
    "    return I*F0/(2*np.pi)/1e9/h/1e9\n",
    "def IEj(Ej):\n",
    "    return Ej/(F0/(2*np.pi)/1e9/h/1e9)\n",
    "def f(Ej,Ec):\n",
    "    return np.sqrt(8*Ej*Ec)-Ec\n",
    "\n",
    "def Ec(C):#fF\n",
    "    return (elc)**2/(2*C)/h/1e9*1e15\n",
    "\n",
    "def cE(Ec):\n",
    "    return elc**2/(2*Ec)/h/1e9*1e15\n",
    "\n",
    "#C_sum from Capacitance matrix (0 is ground )\n",
    "def C_sum(C,i):\n",
    "    C_SUM =  -C[2*i+1][2*i+2]\n",
    "    for j in [0,1,2,3,4,5,6]:\n",
    "        if j == 2*i+1 or j == 2*i+2:\n",
    "            continue\n",
    "        C_SUM += -(C[2*i+1][j]*C[2*i+2][j])/(C[2*i+1][j]+C[2*i+2][j])\n",
    "    return C_SUM\n",
    "\n",
    "#C_c from Capacitance matrix (0 is ground)\n",
    "def C_c(C,i,j):\n",
    "    #print([2*i+2],[2*j+1])\n",
    "    C_C =  -C[2*i+1][2*j+1]\n",
    "    C_C += C[2*i+2][2*j+1]\n",
    "    C_C += -C[2*i+2][2*j+2]\n",
    "    C_C += C[2*i+1][2*j+2] \n",
    "    for k in (2*i+1,2*i+2):\n",
    "        for l in (2*j+1,2*j+2):\n",
    "            if l == 2*j+2:\n",
    "                continue\n",
    "            C_C += -(C[0][k]*C[0][l])/(C[0][k]+C[0][l])*(-1)**(l+k) #checking the sign\n",
    "    #print('C_C',C_C)\n",
    "    return -C_C\n",
    "\n",
    "\n",
    "def C_c_Stefan(C,i,j):\n",
    "    Cisum = C_sum(C,i)\n",
    "    Cjsum = C_sum(C,j)\n",
    "    i1,i2 = (2*i+1),(2*i+2)\n",
    "    j1,j2 = (2*j+1),(2*j+2)\n",
    "    \n",
    "    denominator = ((C[i1][j1]+C[i1][j2]+C[i2][j1]+C[i2][j2])**2+2*(C[j1][j2]-Cjsum)*(-2*C[i1][i2]+Cisum+Cjsum))\n",
    "    \n",
    "    nominator = -(C[i1][j2])**2*C[i2][j1]+(C[i1][j1])**2*C[i2][j2]+(C[i2][j1]-C[i2][j2])*(C[i1][i2]-Cisum)*(C[j1][j2]-Cjsum)-C[i1][j2]*(C[i2][j1]*(C[i2][j1]+C[i2][j2])+(C[i1][i2]-Cisum)*(-C[j1][j2]+Cjsum))\n",
    "    \n",
    "    nominator+= C[i1][j1]*(C[i1][j2]*(-C[i2][j1]+C[i2][j2])+C[i2][j2]*(C[i2][j1]+C[i2][j2])+(C[i1][i2]-Cisum)*(-C[j1][j2]+Cjsum))\n",
    "          \n",
    "    C_c = nominator/denominator\n",
    "    \n",
    "    return C_c\n",
    "\n",
    "\"\"\"\n",
    "\n",
    "    (−〖C1122〗^2⁢C1221+〖C1121〗^2⁢C1222+(C1221−C1222)⁢(C1112−Cq1Σ)⁢(C2122−Cq2Σ)\n",
    "−C1122⁢(C1221⁢(C1221+C1222)+(C1112−Cq2Σ)⁢(−C2122+Cq2Σ))\n",
    "+C1121⁢(C1122⁢(−C1221+C1222)+C1222⁢(C1221+C1222)+(C1112−Cq2Σ)⁢(−C2122+Cq2Σ)))  \n",
    "/ (C1121+C1122+C1221+C1222)^2+2⁢(C2122−Cq2Σ)⁢(−2⁢C1112+Cq1Σ+Cq2Σ)\n",
    "\n",
    "\"\"\"\n",
    "    \n",
    "    \n",
    "    \n",
    "\n",
    "def g(Ej1,Ej2,Ec1,Ec2,Ecc):\n",
    "    return pow(Ej1*Ej2/(4*Ec1*Ec2),0.25)*2*Ec1*Ec2/Ecc\n",
    "\n",
    "\n",
    "def g_2(w1,w2,C1,C2,Cc):\n",
    "    return 0.5*np.sqrt(w1*w2)*Cc/np.sqrt(C1*C2)\n",
    "\n"
   ]
  },
  {
   "cell_type": "code",
   "execution_count": null,
   "id": "affected-promise",
   "metadata": {},
   "outputs": [],
   "source": [
    "###############################################\n",
    "#Set desired values here in GHz/2pi\n",
    "w1 = 6.2\n",
    "U1 = -0.295\n",
    "\n",
    "w2 = 5.9\n",
    "U2 = -0.2\n",
    "\n",
    "wtc= 8.1\n",
    "Utc= -0.1758\n",
    "d  = None #defined as (y-1)/(y+1)\n",
    "y  = 17/8\n",
    "\n",
    "g1 = 0.142\n",
    "g2 = 0.116\n",
    "\n",
    "g12= 0.00905\n",
    "###############################################"
   ]
  },
  {
   "cell_type": "code",
   "execution_count": null,
   "id": "legal-aquatic",
   "metadata": {},
   "outputs": [],
   "source": [
    "Ec1 = -U1\n",
    "Ej1 = Ejf(w1,Ec1)\n",
    "\n",
    "Ec2 = -U2\n",
    "Ej2 = Ejf(w2,Ec2)\n",
    "\n",
    "#TC\n",
    "\n",
    "Ectc = -Utc\n",
    "Ejtc = Ejf(wtc,Ectc)\n",
    "\n",
    "\n",
    "Ic1   = IEj(Ej1)\n",
    "jj_a1 = np.sqrt(Ic1/j)*1e-3\n",
    "\n",
    "Ic2   = IEj(Ej2)\n",
    "jj_a2 = np.sqrt(Ic2/j)*1e-3\n",
    "\n",
    "print(jj_a2)"
   ]
  },
  {
   "cell_type": "code",
   "execution_count": null,
   "id": "biological-edition",
   "metadata": {},
   "outputs": [],
   "source": [
    "#general settings\n",
    "center=(1750,1750)\n",
    "name = 'Martinis_Design'\n",
    "layer_configuration={\n",
    "    'total':0,\n",
    "    'restricted area':10,\n",
    "    'for removing':100,\n",
    "    'JJs':1,\n",
    "    'flux lines':6,\n",
    "    'air bridges':2,\n",
    "    'air bridge pads':3,\n",
    "    'vertical gridlines':15,\n",
    "    'horizontal gridlines':16,\n",
    "    'inverted':999\n",
    "}\n",
    "\n",
    "l, t_m, t_r, gap, l_arm, h_arm, s_gap = 100, 12, 6, 5, 20, 50, 5\n",
    "fluxline = {'l':l,'t_m':t_m,'t_r':t_r,'gap':gap,'l_arm':l_arm,'h_arm':h_arm,'s_gap':s_gap}\n",
    "\n",
    "Couplers = []\n",
    "\n",
    "\n",
    "# initial settings\n",
    "g_w   = 310\n",
    "g_h   = 650\n",
    "g_t   = 10\n",
    "b_g   = 10 # for JJ_manhatten\n",
    "b_w   = 16 # JJ design\n",
    "\n",
    "\n",
    "\n",
    "width = [75,75,75]\n",
    "height= [550,550,300]\n",
    "gap   = [70,70,70]\n",
    "\n",
    "\n",
    "a1    = jj_a1 #Junction height in um\n",
    "a2    = a1 # Junction width in um\n",
    "\n",
    "#jj_pp = { 'a1':a1,\"a2\":a2,'angle_JJ':np.pi/2}\n",
    "jj_pp = { 'a1':a1,\"a2\":a2,'angle_JJ':0,'manhatten':True,'h_w':5 ,'h_d':8 }\n",
    "\n",
    "\n",
    "\n",
    "#,'bridge_gap':bridge_gap\n",
    "Q1 = {'name':'Q1','width' : width[0],'height':height[0],'b_g':b_g,'b_w':b_w,'gap':gap[0],'g_w':g_w,'g_h':g_h,'g_t':g_t,\n",
    "     'jj_pp' : jj_pp, 'Couplers': Couplers, 'transformations':{},'empty_ground':0.66\n",
    "     }\n",
    "\n",
    "\n",
    "Q2 = Q1.copy()\n",
    "Q2['name'] = 'Q2'\n",
    "\n",
    "\n",
    "\n",
    "TC = Q1.copy()\n",
    "TC['fluxline'] = fluxline\n",
    "TC['name'] = 'TC'\n",
    "TC['g_w'] = 750\n",
    "TC['g_h'] = 15/7*200\n",
    "TC['gap'] = 1.9/7*200\n",
    "TC['width'] = 2.1/7*200\n",
    "TC['height'] = 11/7*200\n",
    "\n",
    "lph,lg,lpw,lw = 85,0,55,0.5*200/7\n",
    "rph,rg,rpw,rw = lph,lg,lpw,lw\n",
    "\n",
    "TC['arms'] = {'l.ph':lph,'l.g':lg,'l.pw':lpw,'l.w':lw,'r.ph':rph,'r.g':rg,'r.pw':rpw,'r.w':rw}\n",
    "\n",
    "#Q1['width'],Q1['height'],Q1['gap'] = 308,670,275\n",
    "\n",
    "d1,d2,mesh_volume = 0,0,50\n",
    "\n",
    "print(Q1)"
   ]
  },
  {
   "cell_type": "code",
   "execution_count": null,
   "id": "middle-africa",
   "metadata": {
    "scrolled": true
   },
   "outputs": [],
   "source": [
    "d1,d2,mesh_volume = 0,0,50\n",
    "C_Matrix = twoqtc_sample.twoqtc_Caps(name,layer_configuration,center,Q1,Q2,TC,d1,d2,mesh_volume,plot = True)"
   ]
  },
  {
   "cell_type": "code",
   "execution_count": null,
   "id": "orange-booking",
   "metadata": {},
   "outputs": [],
   "source": [
    "print(C_Matrix/6.225)"
   ]
  },
  {
   "cell_type": "code",
   "execution_count": null,
   "id": "cultural-situation",
   "metadata": {},
   "outputs": [],
   "source": [
    "print(C_Matrix)"
   ]
  },
  {
   "cell_type": "code",
   "execution_count": null,
   "id": "entire-newman",
   "metadata": {},
   "outputs": [],
   "source": [
    "C_Matrix2 = np.array([[0.043071,-0.0089447,-0.0068652,-0.0068713,-0.0089472,-0.0056849,-0.0057579],[-0.0089447,0.015124,-0.0047549,-0.00023452,-0.00023108,-0.00067197,-0.00028649],[-0.0068652,-0.0047549,0.014569,-0.00024721,-0.00023463,-0.0020928,-0.0003746],[-0.0068713,-0.00023452,-0.00024721,0.01457,-0.0047545,-0.0003784,-0.0020844],[-0.0089472,-0.00023108,-0.00023463,-0.0047545,0.015124,-0.00028975,-0.00066677],[-0.0056849,-0.00067197,-0.0020928,-0.0003784,-0.00028975,0.012224,-0.0031063],[-0.0057579,-0.00028649,-0.0003746,-0.0020844,-0.00066677,-0.0031063,0.012276]])\n",
    "C_Matrix2 = 6225*C_Matrix2\n",
    "print(C_Matrix2)"
   ]
  },
  {
   "cell_type": "markdown",
   "id": "aggregate-qualification",
   "metadata": {},
   "source": [
    "## Optimization 1 for Qubit Parameters"
   ]
  },
  {
   "cell_type": "code",
   "execution_count": null,
   "id": "inside-disposition",
   "metadata": {},
   "outputs": [],
   "source": [
    "#Calculate values for w from here\n",
    "Ec1_sim = Ec(C_sum(C_Matrix,0))\n",
    "Ec2_sim = Ec(C_sum(C_Matrix,1))\n",
    "Ectc_sim = Ec(C_sum(C_Matrix,2))\n",
    "\n",
    "w1_sim = f(Ej1,Ec1_sim)\n",
    "w2_sim = f(Ej2,Ec2_sim)\n",
    "wtc_sim = f(Ejtc,Ectc_sim)\n",
    "\n",
    "\n",
    "print(Ec1_sim,Ec2_sim,Ectc_sim)\n",
    "\n",
    "print(w1_sim,w2_sim,wtc_sim)"
   ]
  },
  {
   "cell_type": "code",
   "execution_count": null,
   "id": "impaired-heavy",
   "metadata": {
    "scrolled": true
   },
   "outputs": [],
   "source": [
    "#optimization parameters\n",
    "tol   = 0.001 # GHz\n",
    "mesh_v = 5\n",
    "\n",
    "width_steps  = [-3,0,2,3,4,5,6,7,8,9,10,12,15]\n",
    "height_steps = [-3,0,2,2.5,2.9,3,3.2,3.3,4,5,6,7,8]\n",
    "gap_steps    = [-3,0,2,3,4,5,6,7,8,9,10,12,15]\n",
    "\n",
    "#from here change values to get correct qubit values in a loop \n",
    "d_Ec = [Ec1 - Ec1_sim, Ec2 - Ec2_sim,Ectc - Ectc_sim]\n",
    "d_w = [w1 - w1_sim, w2 - w2_sim,wtc - wtc_sim]\n",
    "max_iter = 20\n",
    "k = 1\n",
    "while np.sum(np.abs(d_w)) > 3*tol and k < max_iter:\n",
    "    Ec1_sim = Ec(C_sum(C_Matrix,0))\n",
    "    Ec2_sim = Ec(C_sum(C_Matrix,1))\n",
    "    Ectc_sim = Ec(C_sum(C_Matrix,2))\n",
    "\n",
    "    w1_sim = f(Ej1,Ec1_sim)\n",
    "    w2_sim = f(Ej2,Ec2_sim)\n",
    "    wtc_sim = f(Ejtc,Ectc_sim)\n",
    "    d_w = [w1 - w1_sim, w2 - w2_sim,wtc - wtc_sim]\n",
    "    d_Ec = [Ec1 - Ec1_sim, Ec2 - Ec2_sim,Ectc - Ectc_sim]\n",
    "    print('__________________________________________')\n",
    "    print('Pass '+str(k)+' Adjusting Qubit parameters')\n",
    "    print('Current Error: \\033[93m' + str(np.sum(np.abs(d_w))) + ' GHz\\033[0m')\n",
    "    mesh_volume = mesh_v\n",
    "    if np.sum(np.abs(d_w)) > 0.1:\n",
    "        print('Using coarse mesh')\n",
    "        mesh_volume = 40\n",
    "    else:\n",
    "        print('Refining mesh')\n",
    "    for i in [0,1,2]:\n",
    "        d = d_Ec[i]\n",
    "        if np.sum(np.abs(d_w[i])) > 0.5:\n",
    "            width_step,height_step,gap_step = np.random.choice(width_steps[-5:]),np.random.choice(height_steps[-5:]),np.random.choice(gap_steps[-5:])\n",
    "        else:\n",
    "            width_step,height_step,gap_step = np.random.choice(width_steps[:10]),np.random.choice(height_steps[:10]),np.random.choice(gap_steps[:10])\n",
    "\n",
    "        if np.abs(d) < tol*0.01:\n",
    "            continue\n",
    "        if d > 0 :\n",
    "            width[i]  += -width_step\n",
    "            height[i] += -height_step\n",
    "            gap[i]    += gap_step\n",
    "        if d < 0 :\n",
    "            width[i]  += width_step\n",
    "            height[i] += height_step\n",
    "            gap[i]    += -gap_step\n",
    "    print('Running Fastcap simulation')\n",
    "    Q1['width'] = width[0]\n",
    "    Q1['height']= height[0]\n",
    "    Q1['gap']= gap[0]\n",
    " \n",
    "    Q2['width'] = width[1]\n",
    "    Q2['height']= height[1]\n",
    "    Q2['gap']= gap[1]\n",
    "\n",
    "    TC['width'] = width[2]\n",
    "    TC['height']= height[2]\n",
    "    TC['gap']= gap[2]\n",
    "    with suppress_stdout():\n",
    "        C_Matrix = twoqtc_sample.twoqtc_Caps(name,layer_configuration,center,Q1,Q2,TC,d1,d2,mesh_volume)\n",
    "    k += 1\n",
    "print(Q1)\n",
    "print(Q2)\n",
    "print(TC)"
   ]
  },
  {
   "cell_type": "code",
   "execution_count": null,
   "id": "round-vanilla",
   "metadata": {
    "scrolled": true
   },
   "outputs": [],
   "source": [
    "#Calculate values for w from here\n",
    "Ec1_sim = Ec(C_sum(C_Matrix,0))\n",
    "Ec2_sim = Ec(C_sum(C_Matrix,1))\n",
    "Ectc_sim = Ec(C_sum(C_Matrix,2))\n",
    "\n",
    "w1_sim = f(Ej1,Ec1_sim)\n",
    "w2_sim = f(Ej2,Ec2_sim)\n",
    "wtc_sim = f(Ejtc,Ectc_sim)\n",
    "\n",
    "print(w1_sim,w2_sim,wtc_sim)\n",
    "print(w1,w2,wtc)"
   ]
  },
  {
   "cell_type": "code",
   "execution_count": null,
   "id": "experimental-newspaper",
   "metadata": {},
   "outputs": [],
   "source": [
    "print(Q1)\n",
    "twoqtc_sample.twoqtc_Caps(name,layer_configuration,center,Q1,Q2,TC,d1,d2,mesh_volume,save = True)"
   ]
  },
  {
   "cell_type": "markdown",
   "id": "nervous-covering",
   "metadata": {},
   "source": [
    "## Optimization 2 for Coupling Parameters"
   ]
  },
  {
   "cell_type": "code",
   "execution_count": null,
   "id": "removable-principal",
   "metadata": {},
   "outputs": [],
   "source": [
    "Ecc12_sim = Ec(C_c(C_Matrix,0,1))\n",
    "Ecc1tc_sim = Ec(C_c(C_Matrix,0,2))\n",
    "\n",
    "print(Ecc12_sim,Ecc1tc_sim)"
   ]
  },
  {
   "cell_type": "code",
   "execution_count": null,
   "id": "authentic-light",
   "metadata": {},
   "outputs": [],
   "source": [
    "C_c(C_Matrix,0,2)"
   ]
  },
  {
   "cell_type": "code",
   "execution_count": null,
   "id": "chubby-mailing",
   "metadata": {},
   "outputs": [],
   "source": [
    "#fastcap matrix\n",
    "w1_sim = 4.973 \n",
    "w2_sim = 5.163\n",
    "wtc_sim= 7.18\n",
    "\n",
    "Ec1_sim = Ec(C_sum(C_Matrix,0))\n",
    "Ec2_sim = Ec(C_sum(C_Matrix,1))\n",
    "Ectc_sim=Ec(C_sum(C_Matrix,2))\n",
    "\n",
    "\n",
    "Ej1 = Ejf(w1_sim,Ec1_sim) \n",
    "Ej2 = Ejf(w2_sim,Ec2_sim)\n",
    "Ejtc = Ejf(wtc_sim,Ectc_sim)\n",
    "\n",
    "\n",
    "\n",
    "Cc = C_c(C_Matrix,0,2)\n",
    "Cc2= C_c_Stefan(C_Matrix,0,2)\n",
    "\n",
    "print('C_c from equ1 : ',C_c(C_Matrix,0,2),'fF')\n",
    "print('C_c from equ2 : ',C_c_Stefan(C_Matrix,0,2),'fF')\n",
    "\n",
    "print('C_sum1             C_sum2            C_sumtc')\n",
    "print(C_sum(C_Matrix,0),C_sum(C_Matrix,1),C_sum(C_Matrix,2))\n",
    "print('Ec1                Ec2               Ectc')\n",
    "print(Ec1_sim,Ec2_sim,Ectc_sim)\n",
    "\n",
    "print('------')\n",
    "#(Ej1,Ej2,Ec1,Ec2,Ecc)\n",
    "print(g(Ej1,Ejtc,Ec1_sim,Ectc_sim,Ec(Cc2)))\n",
    "print(g_2(w1_sim,wtc_sim,C_sum(C_Matrix,0),C_sum(C_Matrix,2),Cc2))"
   ]
  },
  {
   "cell_type": "code",
   "execution_count": null,
   "id": "concrete-cruise",
   "metadata": {},
   "outputs": [],
   "source": [
    "#hfss Matrix\n",
    "w1_sim = 4.973 \n",
    "w2_sim = 5.163\n",
    "wtc_sim= 7.18\n",
    "\n",
    "Ec1_sim = Ec(C_sum(C_Matrix2,0))\n",
    "Ec2_sim = Ec(C_sum(C_Matrix2,1))\n",
    "Ectc_sim=Ec(C_sum(C_Matrix2,2))\n",
    "\n",
    "\n",
    "Ej1 = Ejf(w1_sim,Ec1_sim) \n",
    "Ej2 = Ejf(w2_sim,Ec2_sim)\n",
    "Ejtc = Ejf(wtc_sim,Ectc_sim)\n",
    "\n",
    "\n",
    "Cc = C_c(C_Matrix2,0,2)\n",
    "Cc2= C_c_Stefan(C_Matrix2,0,2)\n",
    "\n",
    "print('C_c from equ1 : ',C_c(C_Matrix2,0,2),'fF')\n",
    "print('C_c from equ2 : ',C_c_Stefan(C_Matrix2,0,2),'fF')\n",
    "\n",
    "print('C_sum1             C_sum2            C_sumtc')\n",
    "print(C_sum(C_Matrix2,0),C_sum(C_Matrix2,1),C_sum(C_Matrix2,2))\n",
    "print('Ec1                Ec2               Ectc')\n",
    "print(Ec1_sim,Ec2_sim,Ectc_sim)\n",
    "\n",
    "print('------')\n",
    "#(Ej1,Ej2,Ec1,Ec2,Ecc)\n",
    "print(g(Ej1,Ejtc,Ec1_sim,Ectc_sim,Ec(Cc2)))\n",
    "print(g_2(w1_sim,wtc_sim,C_sum(C_Matrix2,0),C_sum(C_Matrix2,2),Cc2))"
   ]
  },
  {
   "cell_type": "code",
   "execution_count": null,
   "id": "figured-report",
   "metadata": {
    "scrolled": true
   },
   "outputs": [],
   "source": [
    "g12_sim = g(Ej1,Ej2,Ec1_sim,Ec2_sim,Ec(C_c(C_Matrix,0,1)))\n",
    "g1_sim = g(Ej1,Ejtc,Ec1_sim,Ectc_sim,Ec(C_c(C_Matrix,0,2)))\n",
    "g2_sim = g(Ej2,Ejtc,Ec2_sim,Ectc_sim,Ec(C_c(C_Matrix,1,2)))\n",
    "print(g12_sim,g1_sim,g2_sim)"
   ]
  },
  {
   "cell_type": "code",
   "execution_count": null,
   "id": "collaborative-criterion",
   "metadata": {},
   "outputs": [],
   "source": [
    "pad = [50,50]\n",
    "g_w = [1000,1000,1500]\n",
    "#optimization parameters\n",
    "tol   = 0.01 # GHz\n",
    "mesh_v = 10\n",
    "\n",
    "distance_steps  = [-5,0,5,10,15,20,25,30,40,50]\n",
    "\n",
    "\n",
    "#from here change values to get correct qubit values in a loop \n",
    "d_g = [g1 - g1_sim, g2 - g2_sim,g12 - g12_sim]\n",
    "\n",
    "max_iter = 15\n",
    "k = 1\n",
    "while np.sum(np.abs(d_g)) > tol*3 and k < max_iter:\n",
    "    Ec1_sim = Ec(C_sum(C_Matrix,0))\n",
    "    Ec2_sim = Ec(C_sum(C_Matrix,1))\n",
    "    Ectc_sim = Ec(C_sum(C_Matrix,2))\n",
    "    \n",
    "    g12_sim = g(Ej1,Ej2,Ec1_sim,Ec2_sim,Ec(C_c(C_Matrix,0,1)))\n",
    "    g1_sim = g(Ej1,Ejtc,Ec1_sim,Ectc_sim,Ec(C_c(C_Matrix,0,2)))\n",
    "    g2_sim = g(Ej2,Ejtc,Ec2_sim,Ectc_sim,Ec(C_c(C_Matrix,1,2)))\n",
    "    d_g = [g1 - g1_sim, g2 - g2_sim,g12 - g12_sim]\n",
    "    print(d_g)\n",
    "    \n",
    "    print('__________________________________________')\n",
    "    print('Pass '+str(k)+' Adjusting Qubit coupling parameters')\n",
    "    print('Current Error: \\033[93m' + str(1000*np.sum(np.abs(d_g))) + ' MHz\\033[0m')\n",
    "    mesh_volume = mesh_v\n",
    "    if np.sum(np.abs(d_g)) > 0.1:\n",
    "        print('Using coarse mesh')\n",
    "        mesh_volume = 60\n",
    "    else:\n",
    "        print('Refining mesh')\n",
    "    \n",
    "    for i in [0,1,2]:\n",
    "        d = d_g[i]\n",
    "        if np.sum(np.abs(d_g[i])) > 0.5:\n",
    "            d_step = np.random.choice(distance_steps[-5:])\n",
    "            height_step,gap_step = np.random.choice(height_steps[-5:]),np.random.choice(gap_steps[-5:])\n",
    "        else:\n",
    "            d_step = np.random.choice(distance_steps[:10])\n",
    "            height_step,gap_step = np.random.choice(height_steps[:10]),np.random.choice(gap_steps[:10])\n",
    "        if np.abs(d) < tol*0.01:\n",
    "            continue\n",
    "        if i == 0:\n",
    "            if d < 0 :\n",
    "                pad[0]  -= height_step\n",
    "            if d > 0 :\n",
    "                pad[0]  += height_step            \n",
    "        if i == 1:\n",
    "            if d < 0 :\n",
    "                pad[1]  -= height_step\n",
    "            if d > 0 :\n",
    "                pad[1]  += height_step             \n",
    "        if i ==2:\n",
    "            if d < 0 :\n",
    "                g_w[2]  += d_step\n",
    "            if d > 0 :\n",
    "                g_w[2]  -= d_step\n",
    "            \n",
    "    print('Running Fastcap simulation')\n",
    "    Q1['g_w'] = g_w[0]\n",
    "    Q2['g_w'] = g_w[1]\n",
    "    TC['g_w'] = g_w[2]\n",
    "\n",
    "    \n",
    "    Q1['height']= height[0]\n",
    "    Q1['gap']= gap[0]\n",
    " \n",
    "    Q2['width'] = width[1]\n",
    "    Q2['gap']= gap[1]\n",
    "\n",
    "    TC['width'] = width[2]\n",
    "    TC['gap']= gap[2]\n",
    "    TC['arms'] = {'l.ph':pad[0],'l.g':lg,'l.pw':lpw,'l.w':lw,'r.ph':pad[1],'r.g':rg,'r.pw':rpw,'r.w':rw}\n",
    "    \n",
    "    with suppress_stdout():\n",
    "        C_Matrix = twoqtc_sample.twoqtc_Caps(name,layer_configuration,center,Q1,Q2,TC,d1,d2,mesh_volume)\n",
    "    k += 1\n",
    "    \n",
    "    \n",
    "print('Simulation finished')"
   ]
  },
  {
   "cell_type": "code",
   "execution_count": null,
   "id": "polish-capacity",
   "metadata": {},
   "outputs": [],
   "source": [
    "g12_sim = g(Ej1,Ej2,Ec1_sim,Ec2_sim,Ec(C_c(C_Matrix,0,1)))\n",
    "g1_sim = g(Ej1,Ejtc,Ec1_sim,Ectc_sim,Ec(C_c(C_Matrix,0,2)))\n",
    "g2_sim = g(Ej2,Ejtc,Ec2_sim,Ectc_sim,Ec(C_c(C_Matrix,1,2)))\n",
    "\n",
    "\n",
    "g1 - g1_sim, g2 - g2_sim,g12 - g12_sim\n",
    "print(g1,g2,g12)\n",
    "print(g1_sim,g2_sim,g12_sim)\n",
    "\n",
    "\n",
    "#Calculate values for w from here\n",
    "Ec1_sim = Ec(C_sum(C_Matrix,0))\n",
    "Ec2_sim = Ec(C_sum(C_Matrix,1))\n",
    "Ectc_sim = Ec(C_sum(C_Matrix,2))\n",
    "\n",
    "w1_sim = f(Ej1,Ec1_sim)\n",
    "w2_sim = f(Ej2,Ec2_sim)\n",
    "wtc_sim = f(Ejtc,Ectc_sim)\n",
    "\n",
    "print(w1_sim,w2_sim,wtc_sim)\n",
    "print(w1,w2,wtc)"
   ]
  },
  {
   "cell_type": "code",
   "execution_count": null,
   "id": "undefined-traveler",
   "metadata": {},
   "outputs": [],
   "source": [
    "twoqtc_sample.twoqtc_Caps(name,layer_configuration,center,Q1,Q2,TC,d1,d2,mesh_volume,plot = True)"
   ]
  },
  {
   "cell_type": "code",
   "execution_count": null,
   "id": "traditional-shell",
   "metadata": {},
   "outputs": [],
   "source": [
    "print(((0,None),)*11)"
   ]
  },
  {
   "cell_type": "code",
   "execution_count": null,
   "id": "arctic-wisconsin",
   "metadata": {},
   "outputs": [],
   "source": []
  }
 ],
 "metadata": {
  "kernelspec": {
   "display_name": "Python 3",
   "language": "python",
   "name": "python3"
  },
  "language_info": {
   "codemirror_mode": {
    "name": "ipython",
    "version": 3
   },
   "file_extension": ".py",
   "mimetype": "text/x-python",
   "name": "python",
   "nbconvert_exporter": "python",
   "pygments_lexer": "ipython3",
   "version": "3.9.1"
  }
 },
 "nbformat": 4,
 "nbformat_minor": 5
}
