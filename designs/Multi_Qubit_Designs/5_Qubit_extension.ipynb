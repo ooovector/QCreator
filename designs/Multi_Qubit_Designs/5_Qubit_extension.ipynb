{
 "cells": [
  {
   "cell_type": "code",
   "execution_count": 8,
   "id": "amazing-mozambique",
   "metadata": {},
   "outputs": [],
   "source": [
    "from importlib import reload\n",
    "import numpy as np\n",
    "from matplotlib import pyplot as plt\n",
    "import five_Qubit_extension as fqd\n",
    "import QCreator.auxiliary_functions as auxfuncs"
   ]
  },
  {
   "cell_type": "code",
   "execution_count": 17,
   "id": "fancy-mozambique",
   "metadata": {},
   "outputs": [
    {
     "name": "stdout",
     "output_type": "stream",
     "text": [
      "uploaded\n"
     ]
    },
    {
     "data": {
      "text/plain": [
       "<module 'five_Qubit_extension' from '\\\\\\\\badwwmi\\\\user\\\\home\\\\di82riv\\\\Documents\\\\Desktop\\\\Master\\\\CircuitDesign\\\\QCreator\\\\QCreator\\\\designs\\\\Multi_Qubit_Designs\\\\five_Qubit_extension.py'>"
      ]
     },
     "execution_count": 17,
     "metadata": {},
     "output_type": "execute_result"
    }
   ],
   "source": [
    "reload(fqd)"
   ]
  },
  {
   "cell_type": "code",
   "execution_count": null,
   "id": "terminal-prisoner",
   "metadata": {},
   "outputs": [],
   "source": [
    "fqd.sample.draw_design()\n",
    "fqd.sample.watch(True)\n",
    "#tqd.sample.write_to_gds()"
   ]
  },
  {
   "cell_type": "code",
   "execution_count": null,
   "id": "liked-restaurant",
   "metadata": {},
   "outputs": [],
   "source": []
  }
 ],
 "metadata": {
  "kernelspec": {
   "display_name": "Python 3",
   "language": "python",
   "name": "python3"
  },
  "language_info": {
   "codemirror_mode": {
    "name": "ipython",
    "version": 3
   },
   "file_extension": ".py",
   "mimetype": "text/x-python",
   "name": "python",
   "nbconvert_exporter": "python",
   "pygments_lexer": "ipython3",
   "version": "3.8.3"
  }
 },
 "nbformat": 4,
 "nbformat_minor": 5
}
