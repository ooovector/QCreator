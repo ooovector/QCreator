{
 "cells": [
  {
   "cell_type": "code",
   "execution_count": 8,
   "metadata": {},
   "outputs": [],
   "source": [
    "import numpy as np\n",
    "from scipy.constants import hbar,h,e,c\n",
    "from scipy.constants import elementary_charge as elc\n",
    "F0 = 2.0678e-15"
   ]
  },
  {
   "cell_type": "code",
   "execution_count": 9,
   "metadata": {},
   "outputs": [],
   "source": [
    "e_eff=(11.45+1)/2## for all calculations\n",
    "Mhz=(2*np.pi*1e6)## divide on it to obtain value in mhz\n",
    "j=0.5e-3      # critical current density nA/nm^2"
   ]
  },
  {
   "cell_type": "code",
   "execution_count": 10,
   "metadata": {},
   "outputs": [],
   "source": [
    "import pandas as pd"
   ]
  },
  {
   "cell_type": "markdown",
   "metadata": {},
   "source": [
    "# Q1 related parameters"
   ]
  },
  {
   "cell_type": "code",
   "execution_count": 11,
   "metadata": {},
   "outputs": [],
   "source": [
    "def cap_func(Q1,Qg1,Qg2):\n",
    "    return Q1+(1/Qg1+1/Qg2)**(-1)"
   ]
  },
  {
   "cell_type": "code",
   "execution_count": 12,
   "metadata": {},
   "outputs": [],
   "source": [
    "def Ec(C):#fF\n",
    "    return np.round((elc)**2/(2*C)/h/1e9*1e15,1) # return in MHz"
   ]
  },
  {
   "cell_type": "code",
   "execution_count": 13,
   "metadata": {},
   "outputs": [],
   "source": [
    "path=r'E:\\Github2.0\\QCreator\\designs\\ThreeQubitsPlusTwoQubits\\maxwell_simulations'\n",
    "path=r'C:\\Python\\Github\\QCreator\\designs\\Single_qubit_design_pp_qubits\\Single_qubits_6x10_reduced_to_4.5x8'\n",
    "path=r'D:\\NextCloud\\Quantum Computing\\ChipDesigns\\Ivan_Gerhard_designs\\Two_qubits_plus_coupler\\Hamiltonian_creation'"
   ]
  },
  {
   "cell_type": "code",
   "execution_count": 82,
   "metadata": {},
   "outputs": [],
   "source": [
    "data=pd.read_csv(path+'\\Design_single_qubit_2.txt',sep='\\t')# matrix should be done on pF"
   ]
  },
  {
   "cell_type": "code",
   "execution_count": 83,
   "metadata": {},
   "outputs": [
    {
     "data": {
      "text/html": [
       "<div>\n",
       "<style scoped>\n",
       "    .dataframe tbody tr th:only-of-type {\n",
       "        vertical-align: middle;\n",
       "    }\n",
       "\n",
       "    .dataframe tbody tr th {\n",
       "        vertical-align: top;\n",
       "    }\n",
       "\n",
       "    .dataframe thead th {\n",
       "        text-align: right;\n",
       "    }\n",
       "</style>\n",
       "<table border=\"1\" class=\"dataframe\">\n",
       "  <thead>\n",
       "    <tr style=\"text-align: right;\">\n",
       "      <th></th>\n",
       "      <th>Charge</th>\n",
       "      <th>ground</th>\n",
       "      <th>Q1_bottom</th>\n",
       "      <th>Q1_top</th>\n",
       "      <th>Resonator</th>\n",
       "    </tr>\n",
       "  </thead>\n",
       "  <tbody>\n",
       "    <tr>\n",
       "      <th>Charge</th>\n",
       "      <td>4.433900e-02</td>\n",
       "      <td>-0.044332</td>\n",
       "      <td>-0.000001</td>\n",
       "      <td>-0.000005</td>\n",
       "      <td>-3.061000e-07</td>\n",
       "    </tr>\n",
       "    <tr>\n",
       "      <th>ground</th>\n",
       "      <td>-4.433200e-02</td>\n",
       "      <td>0.407970</td>\n",
       "      <td>-0.124430</td>\n",
       "      <td>-0.214430</td>\n",
       "      <td>-2.477400e-02</td>\n",
       "    </tr>\n",
       "    <tr>\n",
       "      <th>Q1_bottom</th>\n",
       "      <td>-1.464700e-06</td>\n",
       "      <td>-0.124430</td>\n",
       "      <td>0.157740</td>\n",
       "      <td>-0.030558</td>\n",
       "      <td>-2.754500e-03</td>\n",
       "    </tr>\n",
       "    <tr>\n",
       "      <th>Q1_top</th>\n",
       "      <td>-5.211000e-06</td>\n",
       "      <td>-0.214430</td>\n",
       "      <td>-0.030558</td>\n",
       "      <td>0.260080</td>\n",
       "      <td>-1.508600e-02</td>\n",
       "    </tr>\n",
       "    <tr>\n",
       "      <th>Resonator</th>\n",
       "      <td>-3.061000e-07</td>\n",
       "      <td>-0.024774</td>\n",
       "      <td>-0.002755</td>\n",
       "      <td>-0.015086</td>\n",
       "      <td>4.261500e-02</td>\n",
       "    </tr>\n",
       "  </tbody>\n",
       "</table>\n",
       "</div>"
      ],
      "text/plain": [
       "                 Charge    ground  Q1_bottom    Q1_top     Resonator\n",
       "Charge     4.433900e-02 -0.044332  -0.000001 -0.000005 -3.061000e-07\n",
       "ground    -4.433200e-02  0.407970  -0.124430 -0.214430 -2.477400e-02\n",
       "Q1_bottom -1.464700e-06 -0.124430   0.157740 -0.030558 -2.754500e-03\n",
       "Q1_top    -5.211000e-06 -0.214430  -0.030558  0.260080 -1.508600e-02\n",
       "Resonator -3.061000e-07 -0.024774  -0.002755 -0.015086  4.261500e-02"
      ]
     },
     "execution_count": 83,
     "metadata": {},
     "output_type": "execute_result"
    }
   ],
   "source": [
    "data"
   ]
  },
  {
   "cell_type": "code",
   "execution_count": 84,
   "metadata": {},
   "outputs": [],
   "source": [
    "q_name='Q1_'\n",
    "Q1_cap_ground_top=data[q_name+'top'][3]+data[q_name+'top'][2]\n",
    "Q1_cap_ground_bottom=data[q_name+'bottom'][2]+data[q_name+'bottom'][3]\n",
    "Q1_cap_top_bottom=-data[q_name+'bottom'][3]\n",
    "Q1_cap=cap_func(Q1_cap_top_bottom,Q1_cap_ground_top,Q1_cap_ground_bottom)"
   ]
  },
  {
   "cell_type": "code",
   "execution_count": 85,
   "metadata": {},
   "outputs": [
    {
     "data": {
      "text/plain": [
       "(0.030558, 0.127182, 0.22952199999999998)"
      ]
     },
     "execution_count": 85,
     "metadata": {},
     "output_type": "execute_result"
    }
   ],
   "source": [
    "Q1_cap_top_bottom,Q1_cap_ground_bottom,Q1_cap_ground_top"
   ]
  },
  {
   "cell_type": "code",
   "execution_count": 86,
   "metadata": {},
   "outputs": [
    {
     "data": {
      "text/plain": [
       "0.1123935471315152"
      ]
     },
     "execution_count": 86,
     "metadata": {},
     "output_type": "execute_result"
    }
   ],
   "source": [
    "Q1_cap"
   ]
  },
  {
   "cell_type": "code",
   "execution_count": 87,
   "metadata": {},
   "outputs": [
    {
     "data": {
      "text/plain": [
       "172.3428952908961"
      ]
     },
     "execution_count": 87,
     "metadata": {},
     "output_type": "execute_result"
    }
   ],
   "source": [
    "Ec(Q1_cap)"
   ]
  },
  {
   "cell_type": "code",
   "execution_count": 88,
   "metadata": {},
   "outputs": [],
   "source": [
    "def I(f,Ec):\n",
    "    Ej=Ejf(f,Ec)\n",
    "    I=Ej*2*np.pi/F0*h*1e18\n",
    "    return I\n",
    "def Ejf(f,Ec):\n",
    "    Ej=(f+Ec)**2/(8*Ec)\n",
    "    return Ej\n",
    "def Eji(I):#nA\n",
    "    return I*F0/(2*np.pi)/1e9/h/1e9\n",
    "def IEj(Ej):\n",
    "    return Ej/(F0/(Q2*np.pi)/1e9/h/1e9)\n",
    "def f(Ej,Ec):\n",
    "    return np.sqrt(8*Ej*Ec)-Ec\n",
    "def Ec(C):#fF\n",
    "    return elc**2/(2*C)/h/1e9*1e15"
   ]
  },
  {
   "cell_type": "code",
   "execution_count": 89,
   "metadata": {},
   "outputs": [
    {
     "name": "stdout",
     "output_type": "stream",
     "text": [
      "Critical current density is:  0.5 uA/um^2\n",
      "Critical current:  24.2  nA\n",
      "Ej:  12.019544209134573  GHz\n",
      "junction area  in um:  0.0484\n"
     ]
    }
   ],
   "source": [
    "a1    = 0.220\n",
    "a2    = 0.220 # Junction width in um\n",
    "#Calculate Qubit frequency:\n",
    "JJ_area = a1*a2*1e6 #in nm^2\n",
    "print('Critical current density is: ',j*1e3, 'uA/um^2')\n",
    "Ic = JJ_area*j #in nA\n",
    "print('Critical current: ',Ic ,' nA')\n",
    "print('Ej: ',Eji(Ic) ,' GHz')\n",
    "\n",
    "print('junction area  in um: ',JJ_area*1e-6)"
   ]
  },
  {
   "cell_type": "code",
   "execution_count": 90,
   "metadata": {},
   "outputs": [
    {
     "data": {
      "text/plain": [
       "3.8985125912909364"
      ]
     },
     "execution_count": 90,
     "metadata": {},
     "output_type": "execute_result"
    }
   ],
   "source": [
    "f(Eji(Ic),Ec(Q1_cap)/1e3)"
   ]
  },
  {
   "cell_type": "code",
   "execution_count": 91,
   "metadata": {},
   "outputs": [
    {
     "data": {
      "text/plain": [
       "69.74203484771964"
      ]
     },
     "execution_count": 91,
     "metadata": {},
     "output_type": "execute_result"
    }
   ],
   "source": [
    "Eji(Ic)/(Ec(Q1_cap)/1e3)"
   ]
  },
  {
   "cell_type": "markdown",
   "metadata": {},
   "source": [
    "### Resonator coupling"
   ]
  },
  {
   "cell_type": "code",
   "execution_count": 92,
   "metadata": {},
   "outputs": [],
   "source": [
    "def line_qubit_coupling(Q1g,Q2g,Q1gc,Q2gc):\n",
    "    return np.abs((Q1g*Q2gc-Q2g*Q1gc)/(Q1g+Q2gc+Q2g+Q1gc))"
   ]
  },
  {
   "cell_type": "code",
   "execution_count": 93,
   "metadata": {},
   "outputs": [],
   "source": [
    "def cap_pretty_print(args,coeff):\n",
    "    for i in args:\n",
    "        print(np.round(i*coeff,2))# return in fF"
   ]
  },
  {
   "cell_type": "code",
   "execution_count": 94,
   "metadata": {},
   "outputs": [],
   "source": [
    "Q1_cap_res_top=-data[q_name+'top'][-1]\n",
    "Q1_cap_res_bottom=-data[q_name+'bottom'][-1]\n",
    "Ccr=line_qubit_coupling(Q1_cap_ground_top,Q1_cap_ground_bottom,Q1_cap_res_top,Q1_cap_res_bottom)"
   ]
  },
  {
   "cell_type": "code",
   "execution_count": 95,
   "metadata": {},
   "outputs": [
    {
     "name": "stdout",
     "output_type": "stream",
     "text": [
      "15.09\n",
      "2.75\n",
      "3.43\n"
     ]
    }
   ],
   "source": [
    "cap_pretty_print([Q1_cap_res_top,Q1_cap_res_bottom,Ccr],1e3)"
   ]
  },
  {
   "cell_type": "code",
   "execution_count": 96,
   "metadata": {},
   "outputs": [],
   "source": [
    "def qubit_res_coupling(Cc,Cq,wq,wr,Zr):# capacitances in fF, frequencies in GHz\n",
    "    g= Cc*10**(-12)/2*np.sqrt((2*np.pi*wq*10**(9)*Zr/(Cq*10**(-12))))*wr*10**(9)\n",
    "    return np.round(g/1e6,1)# return g/2pi in MHz"
   ]
  },
  {
   "cell_type": "code",
   "execution_count": 117,
   "metadata": {},
   "outputs": [
    {
     "data": {
      "text/plain": [
       "42.8"
      ]
     },
     "execution_count": 117,
     "metadata": {},
     "output_type": "execute_result"
    }
   ],
   "source": [
    "Zr=52.6\n",
    "omega_r=5.7\n",
    "omega_q=6.5\n",
    "gqr=qubit_res_coupling(Ccr,Q1_cap,omega_q,omega_r,Zr)\n",
    "gqr"
   ]
  },
  {
   "cell_type": "markdown",
   "metadata": {},
   "source": [
    "### Dispersive shift"
   ]
  },
  {
   "cell_type": "code",
   "execution_count": 118,
   "metadata": {},
   "outputs": [],
   "source": [
    "def dispersive_shift(gqr,wq,wr,Ec): # gqr in MHz,wq,wr in GHZ, EC in MHz and positive\n",
    "    chi=gqr**2/((wq-wr)*10**(3))/(1+(wq-wr)*10**(3)/(-Ec))\n",
    "    return chi # in MHz"
   ]
  },
  {
   "cell_type": "code",
   "execution_count": 119,
   "metadata": {},
   "outputs": [
    {
     "data": {
      "text/plain": [
       "-0.628736229824071"
      ]
     },
     "execution_count": 119,
     "metadata": {},
     "output_type": "execute_result"
    }
   ],
   "source": [
    "chi=dispersive_shift(gqr,omega_q,omega_r,Ec(Q1_cap))\n",
    "chi"
   ]
  },
  {
   "cell_type": "markdown",
   "metadata": {},
   "source": [
    "### Readout resonator properties"
   ]
  },
  {
   "cell_type": "code",
   "execution_count": 120,
   "metadata": {},
   "outputs": [
    {
     "data": {
      "text/plain": [
       "(558.4, 0.29)"
      ]
     },
     "execution_count": 120,
     "metadata": {},
     "output_type": "execute_result"
    }
   ],
   "source": [
    "Q=20000\n",
    "k=2*np.pi*omega_r*1e9/Q \n",
    "np.round(1/k*1e9,1), np.round(k/Mhz,2)# first value in ns"
   ]
  },
  {
   "cell_type": "code",
   "execution_count": 121,
   "metadata": {},
   "outputs": [
    {
     "data": {
      "text/plain": [
       "195.1046892527444"
      ]
     },
     "execution_count": 121,
     "metadata": {},
     "output_type": "execute_result"
    }
   ],
   "source": [
    "Tp=(1/k)*((omega_q-omega_r)*10**3/gqr)**2\n",
    "Tp*1e6#us"
   ]
  },
  {
   "cell_type": "markdown",
   "metadata": {},
   "source": [
    "### Charge line"
   ]
  },
  {
   "cell_type": "code",
   "execution_count": 59,
   "metadata": {},
   "outputs": [
    {
     "name": "stdout",
     "output_type": "stream",
     "text": [
      "76.6\n",
      "93.6\n",
      "10.5\n"
     ]
    }
   ],
   "source": [
    "Q1_cap_charge_line_top=-data[q_name+'top'][0]\n",
    "Q1_cap_charge_line_bottom=-data[q_name+'bottom'][0]\n",
    "Cc_charge=line_qubit_coupling(Q1_cap_ground_top,Q1_cap_ground_bottom,Q1_cap_charge_line_top,Q1_cap_charge_line_bottom)\n",
    "cap_pretty_print([Q1_cap_charge_line_top,Q1_cap_charge_line_bottom,Cc_charge],1e6)#in aF"
   ]
  },
  {
   "cell_type": "code",
   "execution_count": 60,
   "metadata": {},
   "outputs": [
    {
     "data": {
      "text/plain": [
       "10.545244379730185"
      ]
     },
     "execution_count": 60,
     "metadata": {},
     "output_type": "execute_result"
    }
   ],
   "source": [
    "Cc_charge*1e6"
   ]
  },
  {
   "cell_type": "code",
   "execution_count": 62,
   "metadata": {},
   "outputs": [],
   "source": [
    "omega_q=4.2"
   ]
  },
  {
   "cell_type": "code",
   "execution_count": 63,
   "metadata": {},
   "outputs": [],
   "source": [
    "Z0=50\n",
    "Tcharge=(Cc_charge+Q1_cap)/(Z0*(2*np.pi*omega_q*Cc_charge)**2)*1e-6"
   ]
  },
  {
   "cell_type": "code",
   "execution_count": 64,
   "metadata": {},
   "outputs": [
    {
     "data": {
      "text/plain": [
       "25026.113067607275"
      ]
     },
     "execution_count": 64,
     "metadata": {},
     "output_type": "execute_result"
    }
   ],
   "source": [
    "Tcharge*1e6#in us"
   ]
  },
  {
   "cell_type": "markdown",
   "metadata": {},
   "source": [
    "### Total relaxation= resonator+charge line"
   ]
  },
  {
   "cell_type": "code",
   "execution_count": 65,
   "metadata": {},
   "outputs": [
    {
     "data": {
      "text/plain": [
       "119.71086492265829"
      ]
     },
     "execution_count": 65,
     "metadata": {},
     "output_type": "execute_result"
    }
   ],
   "source": [
    "Tp*Tcharge/(Tp+Tcharge)*1e6"
   ]
  },
  {
   "cell_type": "code",
   "execution_count": null,
   "metadata": {},
   "outputs": [],
   "source": []
  },
  {
   "cell_type": "code",
   "execution_count": 33,
   "metadata": {},
   "outputs": [],
   "source": [
    "# f1=4.5\n",
    "# f2=4.7\n",
    "fmin=4.3\n",
    "fmax=6.5"
   ]
  },
  {
   "cell_type": "code",
   "execution_count": 34,
   "metadata": {},
   "outputs": [
    {
     "data": {
      "text/plain": [
       "(14.516838057820976, 32.31219111036426)"
      ]
     },
     "execution_count": 34,
     "metadata": {},
     "output_type": "execute_result"
    }
   ],
   "source": [
    "Ejf(fmin,Ec(Q1_cap)/1e3),Ejf(fmax,Ec(Q1_cap)/1e3)"
   ]
  },
  {
   "cell_type": "code",
   "execution_count": 35,
   "metadata": {},
   "outputs": [
    {
     "data": {
      "text/plain": [
       "(47.14249085289066, 17.91447064790799)"
      ]
     },
     "execution_count": 35,
     "metadata": {},
     "output_type": "execute_result"
    }
   ],
   "source": [
    "(I(fmin,Ec(Q1_cap)/1e3)+I(fmax,Ec(Q1_cap)/1e3))/2,(I(fmax,Ec(Q1_cap)/1e3)-I(fmin,Ec(Q1_cap)/1e3))/2"
   ]
  },
  {
   "cell_type": "code",
   "execution_count": 36,
   "metadata": {},
   "outputs": [
    {
     "data": {
      "text/plain": [
       "(377.1399268231253, 358.2894129581598)"
      ]
     },
     "execution_count": 36,
     "metadata": {},
     "output_type": "execute_result"
    }
   ],
   "source": [
    "(I(fmin,Ec(Q1_cap)/1e3)+I(fmax,Ec(Q1_cap)/1e3))/2/j/250,(I(fmax,Ec(Q1_cap)/1e3)-I(fmin,Ec(Q1_cap)/1e3))/2/j/100"
   ]
  },
  {
   "cell_type": "code",
   "execution_count": 37,
   "metadata": {},
   "outputs": [
    {
     "data": {
      "text/plain": [
       "(307.001628660175, 189.208879284245)"
      ]
     },
     "execution_count": 37,
     "metadata": {},
     "output_type": "execute_result"
    }
   ],
   "source": [
    "np.sqrt(250*377),np.sqrt(358*100)"
   ]
  },
  {
   "cell_type": "code",
   "execution_count": 1,
   "metadata": {},
   "outputs": [
    {
     "data": {
      "text/plain": [
       "498.67195767195767"
      ]
     },
     "execution_count": 1,
     "metadata": {},
     "output_type": "execute_result"
    }
   ],
   "source": [
    "307*307/189"
   ]
  },
  {
   "cell_type": "code",
   "execution_count": null,
   "metadata": {},
   "outputs": [],
   "source": []
  }
 ],
 "metadata": {
  "kernelspec": {
   "display_name": "Python 3",
   "language": "python",
   "name": "python3"
  },
  "language_info": {
   "codemirror_mode": {
    "name": "ipython",
    "version": 3
   },
   "file_extension": ".py",
   "mimetype": "text/x-python",
   "name": "python",
   "nbconvert_exporter": "python",
   "pygments_lexer": "ipython3",
   "version": "3.9.5"
  }
 },
 "nbformat": 4,
 "nbformat_minor": 4
}
