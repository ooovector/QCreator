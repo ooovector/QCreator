{
 "cells": [
  {
   "cell_type": "code",
   "execution_count": 2,
   "metadata": {},
   "outputs": [],
   "source": [
    "import numpy as np\n",
    "from scipy.constants import hbar,h,e,c\n",
    "from scipy.constants import elementary_charge as elc\n",
    "F0 = 2.0678e-15"
   ]
  },
  {
   "cell_type": "code",
   "execution_count": 3,
   "metadata": {},
   "outputs": [],
   "source": [
    "e_eff=(11.45+1)/2## for all calculations\n",
    "Mhz=(2*np.pi*1e6)## divide on it to obtain value in mhz\n",
    "j=0.5e-3      # critical current density nA/nm^2"
   ]
  },
  {
   "cell_type": "code",
   "execution_count": 4,
   "metadata": {},
   "outputs": [],
   "source": [
    "import pandas as pd"
   ]
  },
  {
   "cell_type": "markdown",
   "metadata": {},
   "source": [
    "# Q1 related parameters"
   ]
  },
  {
   "cell_type": "code",
   "execution_count": 5,
   "metadata": {},
   "outputs": [],
   "source": [
    "def cap_func(Q1,Qg1,Qg2):\n",
    "    return Q1+(1/Qg1+1/Qg2)**(-1)"
   ]
  },
  {
   "cell_type": "code",
   "execution_count": 39,
   "metadata": {},
   "outputs": [],
   "source": [
    "def Ec(C):#fF\n",
    "    return np.round((elc)**2/(2*C)/h/1e9*1e15,1) # return in MHz"
   ]
  },
  {
   "cell_type": "code",
   "execution_count": 7,
   "metadata": {},
   "outputs": [],
   "source": [
    "path=r'E:\\Github2.0\\QCreator\\designs\\ThreeQubitsPlusTwoQubits\\maxwell_simulations'\n",
    "path=r'C:\\Python\\Github\\QCreator\\designs\\Single_qubit_design_pp_qubits\\Single_qubits_6x10_reduced_to_4.5x8'\n",
    "path=r'D:\\NextCloud\\Quantum Computing\\ChipDesigns\\Ivan_Gerhard_designs\\Two_qubits_plus_coupler\\Hamiltonian_creation'"
   ]
  },
  {
   "cell_type": "code",
   "execution_count": 8,
   "metadata": {},
   "outputs": [],
   "source": [
    "data=pd.read_csv(path+'\\Design_single_qubit_1.txt',sep='\\t')# matrix should be done on pF"
   ]
  },
  {
   "cell_type": "code",
   "execution_count": 9,
   "metadata": {},
   "outputs": [
    {
     "data": {
      "text/html": [
       "<div>\n",
       "<style scoped>\n",
       "    .dataframe tbody tr th:only-of-type {\n",
       "        vertical-align: middle;\n",
       "    }\n",
       "\n",
       "    .dataframe tbody tr th {\n",
       "        vertical-align: top;\n",
       "    }\n",
       "\n",
       "    .dataframe thead th {\n",
       "        text-align: right;\n",
       "    }\n",
       "</style>\n",
       "<table border=\"1\" class=\"dataframe\">\n",
       "  <thead>\n",
       "    <tr style=\"text-align: right;\">\n",
       "      <th></th>\n",
       "      <th>Charge</th>\n",
       "      <th>ground</th>\n",
       "      <th>Q1_bottom</th>\n",
       "      <th>Q1_top</th>\n",
       "      <th>Resonator</th>\n",
       "    </tr>\n",
       "  </thead>\n",
       "  <tbody>\n",
       "    <tr>\n",
       "      <th>Charge</th>\n",
       "      <td>0.044879</td>\n",
       "      <td>-0.044700</td>\n",
       "      <td>-0.000094</td>\n",
       "      <td>-0.000077</td>\n",
       "      <td>-0.000009</td>\n",
       "    </tr>\n",
       "    <tr>\n",
       "      <th>ground</th>\n",
       "      <td>-0.044700</td>\n",
       "      <td>0.306900</td>\n",
       "      <td>-0.122920</td>\n",
       "      <td>-0.116300</td>\n",
       "      <td>-0.022986</td>\n",
       "    </tr>\n",
       "    <tr>\n",
       "      <th>Q1_bottom</th>\n",
       "      <td>-0.000094</td>\n",
       "      <td>-0.122920</td>\n",
       "      <td>0.157590</td>\n",
       "      <td>-0.033236</td>\n",
       "      <td>-0.001340</td>\n",
       "    </tr>\n",
       "    <tr>\n",
       "      <th>Q1_top</th>\n",
       "      <td>-0.000077</td>\n",
       "      <td>-0.116300</td>\n",
       "      <td>-0.033236</td>\n",
       "      <td>0.163650</td>\n",
       "      <td>-0.014042</td>\n",
       "    </tr>\n",
       "    <tr>\n",
       "      <th>Resonator</th>\n",
       "      <td>-0.000009</td>\n",
       "      <td>-0.022986</td>\n",
       "      <td>-0.001340</td>\n",
       "      <td>-0.014042</td>\n",
       "      <td>0.038377</td>\n",
       "    </tr>\n",
       "  </tbody>\n",
       "</table>\n",
       "</div>"
      ],
      "text/plain": [
       "             Charge    ground  Q1_bottom    Q1_top  Resonator\n",
       "Charge     0.044879 -0.044700  -0.000094 -0.000077  -0.000009\n",
       "ground    -0.044700  0.306900  -0.122920 -0.116300  -0.022986\n",
       "Q1_bottom -0.000094 -0.122920   0.157590 -0.033236  -0.001340\n",
       "Q1_top    -0.000077 -0.116300  -0.033236  0.163650  -0.014042\n",
       "Resonator -0.000009 -0.022986  -0.001340 -0.014042   0.038377"
      ]
     },
     "execution_count": 9,
     "metadata": {},
     "output_type": "execute_result"
    }
   ],
   "source": [
    "data"
   ]
  },
  {
   "cell_type": "code",
   "execution_count": 10,
   "metadata": {},
   "outputs": [],
   "source": [
    "q_name='Q1_'\n",
    "Q1_cap_ground_top=data[q_name+'top'][3]+data[q_name+'top'][2]\n",
    "Q1_cap_ground_bottom=data[q_name+'bottom'][2]+data[q_name+'bottom'][3]\n",
    "Q1_cap_top_bottom=-data[q_name+'bottom'][3]\n",
    "Q1_cap=cap_func(Q1_cap_top_bottom,Q1_cap_ground_top,Q1_cap_ground_bottom)"
   ]
  },
  {
   "cell_type": "code",
   "execution_count": 11,
   "metadata": {},
   "outputs": [
    {
     "data": {
      "text/plain": [
       "(0.033236, 0.124354, 0.13041399999999997)"
      ]
     },
     "execution_count": 11,
     "metadata": {},
     "output_type": "execute_result"
    }
   ],
   "source": [
    "Q1_cap_top_bottom,Q1_cap_ground_bottom,Q1_cap_ground_top"
   ]
  },
  {
   "cell_type": "code",
   "execution_count": 12,
   "metadata": {},
   "outputs": [
    {
     "data": {
      "text/plain": [
       "0.09689196368460716"
      ]
     },
     "execution_count": 12,
     "metadata": {},
     "output_type": "execute_result"
    }
   ],
   "source": [
    "Q1_cap"
   ]
  },
  {
   "cell_type": "code",
   "execution_count": 40,
   "metadata": {},
   "outputs": [
    {
     "data": {
      "text/plain": [
       "199.9"
      ]
     },
     "execution_count": 40,
     "metadata": {},
     "output_type": "execute_result"
    }
   ],
   "source": [
    "Ec(Q1_cap)"
   ]
  },
  {
   "cell_type": "code",
   "execution_count": 14,
   "metadata": {},
   "outputs": [],
   "source": [
    "def I(f,Ec):\n",
    "    Ej=Ejf(f,Ec)\n",
    "    I=Ej*2*np.pi/F0*h*1e18\n",
    "    return I\n",
    "def Ejf(f,Ec):\n",
    "    Ej=(f+Ec)**2/(8*Ec)\n",
    "    return Ej\n",
    "def Eji(I):#nA\n",
    "    return I*F0/(2*np.pi)/1e9/h/1e9\n",
    "def IEj(Ej):\n",
    "    return Ej/(F0/(Q2*np.pi)/1e9/h/1e9)\n",
    "def f(Ej,Ec):\n",
    "    return np.sqrt(8*Ej*Ec)-Ec\n",
    "def Ec(C):#fF\n",
    "    return elc**2/(2*C)/h/1e9*1e15"
   ]
  },
  {
   "cell_type": "code",
   "execution_count": 31,
   "metadata": {},
   "outputs": [
    {
     "name": "stdout",
     "output_type": "stream",
     "text": [
      "Critical current density is:  0.5 uA/um^2\n",
      "Critical current:  22.049999999999997  nA\n",
      "Ej:  10.951692140967653  GHz\n",
      "junction area  in um:  0.04409999999999999\n"
     ]
    }
   ],
   "source": [
    "a1    = 0.210\n",
    "a2    = 0.210 # Junction width in um\n",
    "#Calculate Qubit frequency:\n",
    "JJ_area = a1*a2*1e6 #in nm^2\n",
    "print('Critical current density is: ',j*1e3, 'uA/um^2')\n",
    "Ic = JJ_area*j #in nA\n",
    "print('Critical current: ',Ic ,' nA')\n",
    "print('Ej: ',Eji(Ic) ,' GHz')\n",
    "\n",
    "print('junction area  in um: ',JJ_area*1e-6)"
   ]
  },
  {
   "cell_type": "code",
   "execution_count": 32,
   "metadata": {},
   "outputs": [
    {
     "data": {
      "text/plain": [
       "3.985215761538089"
      ]
     },
     "execution_count": 32,
     "metadata": {},
     "output_type": "execute_result"
    }
   ],
   "source": [
    "f(Eji(Ic),Ec(Q1_cap)/1e3)"
   ]
  },
  {
   "cell_type": "code",
   "execution_count": 17,
   "metadata": {},
   "outputs": [
    {
     "data": {
      "text/plain": [
       "60.123048700017996"
      ]
     },
     "execution_count": 17,
     "metadata": {},
     "output_type": "execute_result"
    }
   ],
   "source": [
    "Eji(Ic)/(Ec(Q1_cap)/1e3)"
   ]
  },
  {
   "cell_type": "markdown",
   "metadata": {},
   "source": [
    "### Resonator coupling"
   ]
  },
  {
   "cell_type": "code",
   "execution_count": 18,
   "metadata": {},
   "outputs": [],
   "source": [
    "def line_qubit_coupling(Q1g,Q2g,Q1gc,Q2gc):\n",
    "    return np.abs((Q1g*Q2gc-Q2g*Q1gc)/(Q1g+Q2gc+Q2g+Q1gc))"
   ]
  },
  {
   "cell_type": "code",
   "execution_count": 19,
   "metadata": {},
   "outputs": [],
   "source": [
    "def cap_pretty_print(args,coeff):\n",
    "    for i in args:\n",
    "        print(np.round(i*coeff,1))# return in fF"
   ]
  },
  {
   "cell_type": "code",
   "execution_count": 20,
   "metadata": {},
   "outputs": [],
   "source": [
    "Q1_cap_res_top=-data[q_name+'top'][-1]\n",
    "Q1_cap_res_bottom=-data[q_name+'bottom'][-1]\n",
    "Ccr=line_qubit_coupling(Q1_cap_ground_top,Q1_cap_ground_bottom,Q1_cap_res_top,Q1_cap_res_bottom)"
   ]
  },
  {
   "cell_type": "code",
   "execution_count": 21,
   "metadata": {},
   "outputs": [
    {
     "name": "stdout",
     "output_type": "stream",
     "text": [
      "14.0\n",
      "1.3\n",
      "5.8\n"
     ]
    }
   ],
   "source": [
    "cap_pretty_print([Q1_cap_res_top,Q1_cap_res_bottom,Ccr],1e3)"
   ]
  },
  {
   "cell_type": "code",
   "execution_count": 22,
   "metadata": {},
   "outputs": [],
   "source": [
    "def qubit_res_coupling(Cc,Cq,wq,wr,Zr):# capacitances in fF, frequencies in GHz\n",
    "    g= Cc*10**(-12)/2*np.sqrt((2*np.pi*wq*10**(9)*Zr/(Cq*10**(-12))))*wr*10**(9)\n",
    "    return np.round(g/1e6,1)# return g/2pi in MHz"
   ]
  },
  {
   "cell_type": "code",
   "execution_count": 118,
   "metadata": {},
   "outputs": [
    {
     "data": {
      "text/plain": [
       "53.7"
      ]
     },
     "execution_count": 118,
     "metadata": {},
     "output_type": "execute_result"
    }
   ],
   "source": [
    "Zr=52.6\n",
    "omega_r=5\n",
    "omega_q=4\n",
    "gqr=qubit_res_coupling(Ccr,Q1_cap,omega_q,omega_r,Zr)\n",
    "gqr"
   ]
  },
  {
   "cell_type": "markdown",
   "metadata": {},
   "source": [
    "### Dispersive shift"
   ]
  },
  {
   "cell_type": "code",
   "execution_count": 119,
   "metadata": {},
   "outputs": [],
   "source": [
    "def dispersive_shift(gqr,wq,wr,Ec): # gqr in MHz,wq,wr in GHZ, EC in MHz and positive\n",
    "    chi=gqr**2/((wq-wr)*10**(3))/(1+(wq-wr)*10**(3)/(-Ec))\n",
    "    return chi # in MHz"
   ]
  },
  {
   "cell_type": "code",
   "execution_count": 120,
   "metadata": {},
   "outputs": [
    {
     "data": {
      "text/plain": [
       "-0.4804147270605885"
      ]
     },
     "execution_count": 120,
     "metadata": {},
     "output_type": "execute_result"
    }
   ],
   "source": [
    "chi=dispersive_shift(gqr,omega_q,omega_r,Ec(Q1_cap))\n",
    "chi"
   ]
  },
  {
   "cell_type": "markdown",
   "metadata": {},
   "source": [
    "### Readout resonator properties"
   ]
  },
  {
   "cell_type": "code",
   "execution_count": 121,
   "metadata": {},
   "outputs": [
    {
     "data": {
      "text/plain": [
       "(318.3, 0.5)"
      ]
     },
     "execution_count": 121,
     "metadata": {},
     "output_type": "execute_result"
    }
   ],
   "source": [
    "Q=10000\n",
    "k=2*np.pi*omega_r*1e9/Q \n",
    "np.round(1/k*1e9,1), np.round(k/Mhz,4)# first value in ns"
   ]
  },
  {
   "cell_type": "code",
   "execution_count": 122,
   "metadata": {},
   "outputs": [
    {
     "data": {
      "text/plain": [
       "110.38283802481915"
      ]
     },
     "execution_count": 122,
     "metadata": {},
     "output_type": "execute_result"
    }
   ],
   "source": [
    "Tp=(1/k)*((omega_q-omega_r)*10**3/gqr)**2\n",
    "Tp*1e6#us"
   ]
  },
  {
   "cell_type": "markdown",
   "metadata": {},
   "source": [
    "### Charge line"
   ]
  },
  {
   "cell_type": "code",
   "execution_count": 76,
   "metadata": {},
   "outputs": [
    {
     "name": "stdout",
     "output_type": "stream",
     "text": [
      "76.6\n",
      "93.6\n",
      "10.5\n"
     ]
    }
   ],
   "source": [
    "Q1_cap_charge_line_top=-data[q_name+'top'][0]\n",
    "Q1_cap_charge_line_bottom=-data[q_name+'bottom'][0]\n",
    "Cc_charge=line_qubit_coupling(Q1_cap_ground_top,Q1_cap_ground_bottom,Q1_cap_charge_line_top,Q1_cap_charge_line_bottom)\n",
    "cap_pretty_print([Q1_cap_charge_line_top,Q1_cap_charge_line_bottom,Cc_charge],1e6)#in aF"
   ]
  },
  {
   "cell_type": "code",
   "execution_count": 60,
   "metadata": {},
   "outputs": [
    {
     "data": {
      "text/plain": [
       "10.545244379730185"
      ]
     },
     "execution_count": 60,
     "metadata": {},
     "output_type": "execute_result"
    }
   ],
   "source": [
    "Cc_charge*1e6"
   ]
  },
  {
   "cell_type": "code",
   "execution_count": 62,
   "metadata": {},
   "outputs": [],
   "source": [
    "omega_q=4"
   ]
  },
  {
   "cell_type": "code",
   "execution_count": 63,
   "metadata": {},
   "outputs": [],
   "source": [
    "Z0=50\n",
    "Tcharge=(Cc_charge+Q1_cap)/(Z0*(2*np.pi*omega_q*Cc_charge)**2)*1e-6"
   ]
  },
  {
   "cell_type": "code",
   "execution_count": 64,
   "metadata": {},
   "outputs": [
    {
     "data": {
      "text/plain": [
       "25026.113067607275"
      ]
     },
     "execution_count": 64,
     "metadata": {},
     "output_type": "execute_result"
    }
   ],
   "source": [
    "Tcharge*1e6#in us"
   ]
  },
  {
   "cell_type": "markdown",
   "metadata": {},
   "source": [
    "### Total relaxation= resonator+charge line"
   ]
  },
  {
   "cell_type": "code",
   "execution_count": 65,
   "metadata": {},
   "outputs": [
    {
     "data": {
      "text/plain": [
       "119.71086492265829"
      ]
     },
     "execution_count": 65,
     "metadata": {},
     "output_type": "execute_result"
    }
   ],
   "source": [
    "Tp*Tcharge/(Tp+Tcharge)*1e6"
   ]
  },
  {
   "cell_type": "code",
   "execution_count": 87,
   "metadata": {},
   "outputs": [],
   "source": [
    "# f1=4.5\n",
    "# f2=4.7\n",
    "fmin=3.9\n",
    "fmax=4.7"
   ]
  },
  {
   "cell_type": "code",
   "execution_count": 88,
   "metadata": {},
   "outputs": [
    {
     "data": {
      "text/plain": [
       "(10.510993002751375, 15.01314407828915)"
      ]
     },
     "execution_count": 88,
     "metadata": {},
     "output_type": "execute_result"
    }
   ],
   "source": [
    "Ejf(fmin,Ec(Q1_cap)/1e3),Ejf(fmax,Ec(Q1_cap)/1e3)"
   ]
  },
  {
   "cell_type": "code",
   "execution_count": 89,
   "metadata": {},
   "outputs": [
    {
     "data": {
      "text/plain": [
       "(25.694989203157775, 4.532287336869777)"
      ]
     },
     "execution_count": 89,
     "metadata": {},
     "output_type": "execute_result"
    }
   ],
   "source": [
    "(I(fmin,Ec(Q1_cap)/1e3)+I(fmax,Ec(Q1_cap)/1e3))/2,(I(fmax,Ec(Q1_cap)/1e3)-I(fmin,Ec(Q1_cap)/1e3))/2"
   ]
  },
  {
   "cell_type": "code",
   "execution_count": 91,
   "metadata": {},
   "outputs": [
    {
     "data": {
      "text/plain": [
       "(205.55991362526217, 90.64574673739553)"
      ]
     },
     "execution_count": 91,
     "metadata": {},
     "output_type": "execute_result"
    }
   ],
   "source": [
    "(I(fmin,Ec(Q1_cap)/1e3)+I(fmax,Ec(Q1_cap)/1e3))/2/j/250,(I(fmax,Ec(Q1_cap)/1e3)-I(fmin,Ec(Q1_cap)/1e3))/2/j/100"
   ]
  },
  {
   "cell_type": "code",
   "execution_count": 92,
   "metadata": {},
   "outputs": [
    {
     "data": {
      "text/plain": [
       "(226.38462845343543, 94.86832980505137)"
      ]
     },
     "execution_count": 92,
     "metadata": {},
     "output_type": "execute_result"
    }
   ],
   "source": [
    "np.sqrt(250*205),np.sqrt(90*100)"
   ]
  },
  {
   "cell_type": "code",
   "execution_count": 55,
   "metadata": {},
   "outputs": [],
   "source": [
    "# f1=4.5\n",
    "# f2=4.7\n",
    "fmin=4\n",
    "fmax=4"
   ]
  },
  {
   "cell_type": "code",
   "execution_count": 56,
   "metadata": {},
   "outputs": [
    {
     "data": {
      "text/plain": [
       "(11.029990001250628, 11.029990001250628)"
      ]
     },
     "execution_count": 56,
     "metadata": {},
     "output_type": "execute_result"
    }
   ],
   "source": [
    "Ejf(fmin,Ec(Q1_cap)/1e3),Ejf(fmax,Ec(Q1_cap)/1e3)"
   ]
  },
  {
   "cell_type": "code",
   "execution_count": 57,
   "metadata": {},
   "outputs": [
    {
     "data": {
      "text/plain": [
       "(22.207643932738137, 0.0)"
      ]
     },
     "execution_count": 57,
     "metadata": {},
     "output_type": "execute_result"
    }
   ],
   "source": [
    "(I(fmin,Ec(Q1_cap)/1e3)+I(fmax,Ec(Q1_cap)/1e3))/2,(I(fmax,Ec(Q1_cap)/1e3)-I(fmin,Ec(Q1_cap)/1e3))/2"
   ]
  },
  {
   "cell_type": "code",
   "execution_count": 60,
   "metadata": {},
   "outputs": [
    {
     "data": {
      "text/plain": [
       "(211.50137078798227, 0.0)"
      ]
     },
     "execution_count": 60,
     "metadata": {},
     "output_type": "execute_result"
    }
   ],
   "source": [
    "(I(fmin,Ec(Q1_cap)/1e3)+I(fmax,Ec(Q1_cap)/1e3))/2/j/210,(I(fmax,Ec(Q1_cap)/1e3)-I(fmin,Ec(Q1_cap)/1e3))/2/j/100"
   ]
  },
  {
   "cell_type": "code",
   "execution_count": 105,
   "metadata": {},
   "outputs": [
    {
     "data": {
      "text/plain": [
       "210.74866547620178"
      ]
     },
     "execution_count": 105,
     "metadata": {},
     "output_type": "execute_result"
    }
   ],
   "source": [
    "np.sqrt(210*211.5)"
   ]
  },
  {
   "cell_type": "code",
   "execution_count": 149,
   "metadata": {},
   "outputs": [],
   "source": [
    "# flux line relaxation"
   ]
  },
  {
   "cell_type": "code",
   "execution_count": 162,
   "metadata": {},
   "outputs": [],
   "source": [
    "Z0=50\n",
    "omega_q=4.2*2*np.pi*1e9\n",
    "\n",
    "# Ls=0.14e-15\n",
    "# Cc=0.5e-15\n",
    "\n",
    "Ls=40e-12\n",
    "Cc=10e-15\n",
    "\n",
    "omega_s=1/np.sqrt(Ls*Cc)\n",
    "Y=1/Z0*(omega_q/omega_s)**4\n",
    "\n",
    "Tflux=(65e-15)/Y"
   ]
  },
  {
   "cell_type": "code",
   "execution_count": 163,
   "metadata": {},
   "outputs": [
    {
     "data": {
      "text/plain": [
       "41.88386424723761"
      ]
     },
     "execution_count": 163,
     "metadata": {},
     "output_type": "execute_result"
    }
   ],
   "source": [
    "Tflux*1e6"
   ]
  },
  {
   "cell_type": "code",
   "execution_count": null,
   "metadata": {},
   "outputs": [],
   "source": []
  }
 ],
 "metadata": {
  "kernelspec": {
   "display_name": "Python 3",
   "language": "python",
   "name": "python3"
  },
  "language_info": {
   "codemirror_mode": {
    "name": "ipython",
    "version": 3
   },
   "file_extension": ".py",
   "mimetype": "text/x-python",
   "name": "python",
   "nbconvert_exporter": "python",
   "pygments_lexer": "ipython3",
   "version": "3.9.5"
  }
 },
 "nbformat": 4,
 "nbformat_minor": 4
}
