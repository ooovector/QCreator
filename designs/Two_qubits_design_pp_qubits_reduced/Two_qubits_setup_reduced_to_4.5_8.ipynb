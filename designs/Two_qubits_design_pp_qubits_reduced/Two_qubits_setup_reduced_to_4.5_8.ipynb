{
 "cells": [
  {
   "cell_type": "code",
   "execution_count": 1,
   "id": "hazardous-cleaner",
   "metadata": {},
   "outputs": [
    {
     "name": "stdout",
     "output_type": "stream",
     "text": [
      "<class 'int'>\n",
      "{'l': 100, 't_m': 5, 't_r': 3, 'flux_distance': 0, 'gap': 5, 'l_arm': [58.494, 13.333333333333334], 'h_arm': 50, 's_gap': 3, 'g': 3, 'w': 5, 's': 3, 'asymmetry': 0, 'rotation': 0.7853981633974483, 'translation': (-72.66, -14.540000000000001), 'bandages_extension': 2.5, 'connection_pad_width': 0.9, 'connection_pad_gap': 0.5, 'inverted_extension': 0}\n",
      "-72.66 -14.540000000000001\n",
      "-72.66 -14.540000000000001\n",
      "-72.66 -14.540000000000001\n",
      "-72.66 -14.540000000000001\n"
     ]
    }
   ],
   "source": [
    "from importlib import reload\n",
    "import numpy as np\n",
    "from matplotlib import pyplot as plt\n",
    "import Two_qubits_design_PP_qubits as tqd\n",
    "import QCreator.auxiliary_functions as auxfuncs\n",
    "import QCreator.elements as elements\n",
    "check = False"
   ]
  },
  {
   "cell_type": "code",
   "execution_count": 2,
   "id": "potential-associate",
   "metadata": {},
   "outputs": [
    {
     "name": "stdout",
     "output_type": "stream",
     "text": [
      "<class 'int'>\n",
      "{'l': 100, 't_m': 5, 't_r': 3, 'flux_distance': 0, 'gap': 5, 'l_arm': [58.494, 13.333333333333334], 'h_arm': 50, 's_gap': 3, 'g': 3, 'w': 5, 's': 3, 'asymmetry': 0, 'rotation': 0.7853981633974483, 'translation': (-72.66, -14.540000000000001), 'bandages_extension': 2.5, 'connection_pad_width': 0.9, 'connection_pad_gap': 0.5, 'inverted_extension': 0}\n",
      "-72.66 -14.540000000000001\n",
      "-72.66 -14.540000000000001\n",
      "-72.66 -14.540000000000001\n",
      "-72.66 -14.540000000000001\n"
     ]
    },
    {
     "data": {
      "text/plain": [
       "<module 'Two_qubits_design_PP_qubits' from '\\\\\\\\badwwmi\\\\user\\\\home\\\\di82riv\\\\Documents\\\\Desktop\\\\Master\\\\CircuitDesign\\\\QCreator\\\\QCreator\\\\designs\\\\Two_qubits_design_pp_qubits_reduced\\\\Two_qubits_design_PP_qubits.py'>"
      ]
     },
     "execution_count": 2,
     "metadata": {},
     "output_type": "execute_result"
    }
   ],
   "source": [
    "reload(tqd)"
   ]
  },
  {
   "cell_type": "code",
   "execution_count": null,
   "id": "palestinian-chapter",
   "metadata": {},
   "outputs": [],
   "source": [
    "check = True\n",
    "tqd.sample.watch(True)"
   ]
  },
  {
   "cell_type": "code",
   "execution_count": null,
   "id": "complete-start",
   "metadata": {},
   "outputs": [],
   "source": [
    "tqd.sample.draw_design(True)\n",
    "tqd.sample.draw_terminals()\n",
    "tqd.sample.watch(True)"
   ]
  },
  {
   "cell_type": "markdown",
   "id": "7938e2a5",
   "metadata": {},
   "source": [
    "# Create qubit resonators"
   ]
  },
  {
   "cell_type": "code",
   "execution_count": null,
   "id": "560156c2",
   "metadata": {},
   "outputs": [],
   "source": [
    "coupler_start_x,coupler_start_y = (2000,3200)\n",
    "grounding_width=10\n",
    "coupler_length=400\n",
    "resonator_lengths=[]"
   ]
  },
  {
   "cell_type": "code",
   "execution_count": null,
   "id": "46bc3e82",
   "metadata": {},
   "outputs": [],
   "source": [
    "res_coupler_q1,res_q1_params = auxfuncs.draw_rounded_single_resonator_plus_qubit(tqd.sample,\n",
    "                          2000, coupler_start_y, coupler_length,\n",
    "                          tqd.resonator_core,tqd.resonator_gap, tqd.resonator_ground,\n",
    "                          tqd.tl_core, tqd.tl_gap, tqd.tl_ground, tqd.resonator_tl_ground,\n",
    "                          closed_end_meander_length=4062-600-40, length_left=800, length_right=400,\n",
    "                          min_bridge_spacing = None,\n",
    "                          airbridge = None, object1=tqd.sample.qubits[0], port='coupler0',\n",
    "                          open_end_length = 1000,\n",
    "                          port_orientation='right',meander_orientation='left', direction_orientation='down',\n",
    "                          points_for_the_open_end=[(2860,2170)]+tqd.sample.cpw_shift(tqd.sample.qubits[0],'coupler0',200))\n",
    "resonator_lengths.append(res_q1_params[0])"
   ]
  },
  {
   "cell_type": "code",
   "execution_count": null,
   "id": "7515ec73",
   "metadata": {},
   "outputs": [],
   "source": [
    "res_coupler_q2,res_q2_params = auxfuncs.draw_rounded_single_resonator_plus_qubit(tqd.sample,\n",
    "                          4400, coupler_start_y, coupler_length,\n",
    "                          tqd.resonator_core,tqd.resonator_gap, tqd.resonator_ground,\n",
    "                          tqd.tl_core, tqd.tl_gap, tqd.tl_ground, tqd.resonator_tl_ground,\n",
    "                          closed_end_meander_length=5062-600-40-60+280-40, length_left=950, length_right=300,\n",
    "                          min_bridge_spacing = None,\n",
    "                          airbridge = None, object1=tqd.sample.qubits[1], port='coupler1',\n",
    "                          open_end_length = 1000,\n",
    "                          port_orientation='right',meander_orientation='left', direction_orientation='down',\n",
    "                          points_for_the_open_end=tqd.sample.cpw_shift(tqd.sample.qubits[1],'coupler1',200))\n",
    "resonator_lengths.append(res_q2_params[0])"
   ]
  },
  {
   "cell_type": "code",
   "execution_count": null,
   "id": "1ccd39e2",
   "metadata": {},
   "outputs": [],
   "source": [
    "res_coupler_q3,res_q3_params = auxfuncs.draw_rounded_single_resonator_plus_qubit(tqd.sample,\n",
    "                          3400, coupler_start_y, coupler_length,\n",
    "                          tqd.resonator_core,tqd.resonator_gap, tqd.resonator_ground,\n",
    "                          tqd.tl_core, tqd.tl_gap, tqd.tl_ground, tqd.resonator_tl_ground,\n",
    "                          closed_end_meander_length=4000-80, length_left=620, length_right=250,\n",
    "                          min_bridge_spacing = None,\n",
    "                          airbridge = None, object1=tqd.sample.qubits[2], port='coupler0',\n",
    "                          open_end_length = 1000,\n",
    "                          port_orientation='right',meander_orientation='left', direction_orientation='down',\n",
    "                          points_for_the_open_end=tqd.sample.cpw_shift(tqd.sample.qubits[2],'coupler0',200))\n",
    "resonator_lengths.append(res_q3_params[0])"
   ]
  },
  {
   "cell_type": "markdown",
   "id": "b6c1ef1f",
   "metadata": {},
   "source": [
    "# Create test resonators"
   ]
  },
  {
   "cell_type": "code",
   "execution_count": null,
   "id": "4bc53e1c",
   "metadata": {},
   "outputs": [],
   "source": [
    "res_coupler_t1,res_t1_params = auxfuncs.draw_rounded_single_resonator_plus_qubit(tqd.sample,\n",
    "                          2700, coupler_start_y, 60,\n",
    "                          tqd.resonator_core,tqd.resonator_gap, tqd.resonator_ground,\n",
    "                          tqd.tl_core, tqd.tl_gap, tqd.tl_ground, grounding_width,\n",
    "                          closed_end_meander_length=3870, length_left=400, length_right=400,\n",
    "                          min_bridge_spacing = None,\n",
    "                          airbridge = None, object1=None, port=None,\n",
    "                          open_end_length = 50,\n",
    "                          port_orientation='left',meander_orientation='right', direction_orientation='up')\n",
    "resonator_lengths.append(res_t1_params[0])"
   ]
  },
  {
   "cell_type": "code",
   "execution_count": null,
   "id": "8bad67fd",
   "metadata": {},
   "outputs": [],
   "source": [
    "res_coupler_t2,res_t2_params = auxfuncs.draw_rounded_single_resonator_plus_qubit(tqd.sample,\n",
    "                          5500, coupler_start_y, 60,\n",
    "                          tqd.resonator_core,tqd.resonator_gap, tqd.resonator_ground,\n",
    "                          tqd.tl_core, tqd.tl_gap, tqd.tl_ground, grounding_width,\n",
    "                          closed_end_meander_length=3800, length_left=400, length_right=400,\n",
    "                          min_bridge_spacing = None,\n",
    "                          airbridge = None, object1=None, port=None,\n",
    "                          open_end_length = 50,\n",
    "                          port_orientation='right',meander_orientation='left', direction_orientation='up')\n",
    "resonator_lengths.append(res_t2_params[0])"
   ]
  },
  {
   "cell_type": "markdown",
   "id": "9f100c2b",
   "metadata": {},
   "source": [
    "# Connect resonators to the feedline"
   ]
  },
  {
   "cell_type": "code",
   "execution_count": null,
   "id": "found-jordan",
   "metadata": {},
   "outputs": [],
   "source": [
    "tqd.sample.connect_cpw(o1=tqd.p1, o2=res_coupler_q1, port1='port', port2='port1', name='feedline', \n",
    "                       points=[(1500,3200)])\n",
    "# test resonator 1\n",
    "tqd.sample.connect_cpw(o1=res_coupler_q1, o2=res_coupler_t1, port1='port2', port2='port2', name='feedline', \n",
    "                       points=[])\n",
    "\n",
    "tqd.sample.connect_cpw(o1=res_coupler_t1, o2=res_coupler_q3, port1='port1', port2='port1', name='feedline', \n",
    "                       points=[])\n",
    "tqd.sample.connect_cpw(o1=res_coupler_q3, o2=res_coupler_q2, port1='port2', port2='port1', name='feedline', \n",
    "                       points=[])\n",
    "# test resonator 2\n",
    "tqd.sample.connect_cpw(o1=res_coupler_q2, o2=res_coupler_t2, port1='port2', port2='port2', name='feedline', \n",
    "                       points=[])\n",
    "\n",
    "tqd.sample.connect_cpw(o1=res_coupler_t2, o2=tqd.p2, port1='port1', port2='port', name='feedline', \n",
    "                       points=[(6500,3200)])"
   ]
  },
  {
   "cell_type": "code",
   "execution_count": null,
   "id": "64426716",
   "metadata": {},
   "outputs": [],
   "source": [
    "print(resonator_lengths)"
   ]
  },
  {
   "cell_type": "markdown",
   "id": "40f61a4d",
   "metadata": {},
   "source": [
    "# Connect flux lines"
   ]
  },
  {
   "cell_type": "code",
   "execution_count": null,
   "id": "ae813b88",
   "metadata": {},
   "outputs": [],
   "source": [
    "pad=tqd.sample.qubits[2]\n",
    "port='coupler1'\n",
    "narrowing_length=100\n",
    "flux_line_narrowing_position = tqd.sample.cpw_shift(pad, port, narrowing_length/2)[0]\n",
    "\n",
    "flux_line_narrowing = tqd.elements.Narrowing(name='flux_line_narrowing', position=flux_line_narrowing_position, \n",
    "                                         orientation=pad.get_terminals()[port].orientation+np.pi, \n",
    "                                         w1=pad.get_terminals()[port].w, \n",
    "                                         s1=pad.get_terminals()[port].s, g1=pad.get_terminals()[port].g,\n",
    "                                         w2=tqd.tl_core, s2=tqd.tl_gap, g2=tqd.tl_ground, \n",
    "                                         layer_configuration=tqd.sample.layer_configuration, length=narrowing_length+0.5)\n",
    "tqd.sample.add(flux_line_narrowing)\n",
    "tqd.sample.connect(flux_line_narrowing, 'port1', pad, port)\n",
    "tqd.sample.connect_cpw(tqd.pads_bottom[0], flux_line_narrowing, 'port', 'port2', 'flux_control_line_qubit_coupler', points=[],\n",
    "                      airbridge=None, min_spacing=None, r=80)"
   ]
  },
  {
   "cell_type": "markdown",
   "id": "470eebd3",
   "metadata": {},
   "source": [
    "# Connect microwave or flux lines to data qubits"
   ]
  },
  {
   "cell_type": "code",
   "execution_count": null,
   "id": "cd537c34",
   "metadata": {},
   "outputs": [],
   "source": [
    "pad=tqd.sample.qubits[0]\n",
    "port='coupler1'\n",
    "narrowing_length=100\n",
    "flux_line_narrowing_position = tqd.sample.cpw_shift(pad, port, narrowing_length/2)[0]\n",
    "\n",
    "flux_line_narrowing = tqd.elements.Narrowing(name='microwave_line_narrowing', position=flux_line_narrowing_position, \n",
    "                                         orientation=pad.get_terminals()[port].orientation+np.pi, \n",
    "                                         w1=pad.get_terminals()[port].w, \n",
    "                                         s1=pad.get_terminals()[port].s, g1=pad.get_terminals()[port].g,\n",
    "                                         w2=tqd.tl_core, s2=tqd.tl_gap, g2=tqd.tl_ground, \n",
    "                                         layer_configuration=tqd.sample.layer_configuration, length=narrowing_length+0.5)\n",
    "tqd.sample.add(flux_line_narrowing)\n",
    "tqd.sample.connect(flux_line_narrowing, 'port1', pad, port)\n",
    "tqd.sample.connect_cpw(tqd.pads_left[0], flux_line_narrowing, 'port', 'port2', 'microwave_control_line_qubit_1', points=[],\n",
    "                      airbridge=None, min_spacing=None, r=80)\n",
    "pad=tqd.sample.qubits[1]\n",
    "port='coupler0'\n",
    "narrowing_length=100\n",
    "flux_line_narrowing_position = tqd.sample.cpw_shift(pad, port, narrowing_length/2)[0]\n",
    "\n",
    "flux_line_narrowing = tqd.elements.Narrowing(name='microwave_line_narrowing', position=flux_line_narrowing_position, \n",
    "                                         orientation=pad.get_terminals()[port].orientation+np.pi, \n",
    "                                         w1=pad.get_terminals()[port].w, \n",
    "                                         s1=pad.get_terminals()[port].s, g1=pad.get_terminals()[port].g,\n",
    "                                         w2=tqd.tl_core, s2=tqd.tl_gap, g2=tqd.tl_ground, \n",
    "                                         layer_configuration=tqd.sample.layer_configuration, length=narrowing_length)\n",
    "tqd.sample.add(flux_line_narrowing)\n",
    "tqd.sample.connect(flux_line_narrowing, 'port1', pad, port)\n",
    "tqd.sample.connect_cpw(tqd.pads_right[0], flux_line_narrowing, 'port', 'port2', 'microwave_control_line_qubit_2', points=[],\n",
    "                      airbridge=None, min_spacing=None, r=80)"
   ]
  },
  {
   "cell_type": "code",
   "execution_count": null,
   "id": "560c0ca1",
   "metadata": {},
   "outputs": [],
   "source": [
    "tqd.sample.draw_design(True)\n",
    "tqd.sample.draw_terminals()\n",
    "# tqd.sample.watch(True)"
   ]
  },
  {
   "cell_type": "code",
   "execution_count": null,
   "id": "0167f13d",
   "metadata": {},
   "outputs": [],
   "source": [
    "tqd.create_restricted(False)\n",
    "check = True\n",
    "tqd.sample.watch(True)"
   ]
  },
  {
   "cell_type": "code",
   "execution_count": null,
   "id": "catholic-shopping",
   "metadata": {},
   "outputs": [],
   "source": [
    "tqd.sample.write_to_gds()"
   ]
  },
  {
   "cell_type": "markdown",
   "id": "dac574b4",
   "metadata": {},
   "source": [
    "# Add ground"
   ]
  },
  {
   "cell_type": "code",
   "execution_count": null,
   "id": "upper-smoke",
   "metadata": {},
   "outputs": [],
   "source": [
    "# grid_ground =tqd.elements.GridGround(tqd.sample.chip_geometry, tqd.sample.layer_configuration, tqd.sample.objects,width=22, period=25)\n",
    "# tqd.sample.add(grid_ground)"
   ]
  },
  {
   "cell_type": "code",
   "execution_count": null,
   "id": "f207ed2f",
   "metadata": {},
   "outputs": [],
   "source": []
  }
 ],
 "metadata": {
  "kernelspec": {
   "display_name": "Python 3",
   "language": "python",
   "name": "python3"
  },
  "language_info": {
   "codemirror_mode": {
    "name": "ipython",
    "version": 3
   },
   "file_extension": ".py",
   "mimetype": "text/x-python",
   "name": "python",
   "nbconvert_exporter": "python",
   "pygments_lexer": "ipython3",
   "version": "3.8.3"
  }
 },
 "nbformat": 4,
 "nbformat_minor": 5
}
