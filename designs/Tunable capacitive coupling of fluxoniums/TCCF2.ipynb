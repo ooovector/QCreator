{
 "cells": [
  {
   "cell_type": "code",
   "execution_count": 80,
   "id": "bf21cc98",
   "metadata": {},
   "outputs": [],
   "source": [
    "import sys\n",
    "sys.path.append('../..')\n",
    "\n",
    "from importlib import reload\n",
    "import numpy as np\n",
    "from matplotlib import pyplot as plt\n",
    "import TCCF2 as design\n",
    "import QCreator.elements as elements\n",
    "import QCreator.auxiliary_functions as auxfuncs"
   ]
  },
  {
   "cell_type": "code",
   "execution_count": 81,
   "id": "636971d2",
   "metadata": {},
   "outputs": [
    {
     "data": {
      "text/plain": [
       "<module 'TCCF2' from 'D:\\\\Documents-cloud\\\\qubits\\\\simulation\\\\QCreator\\\\designs\\\\Tunable capacitive coupling of fluxoniums\\\\TCCF2.py'>"
      ]
     },
     "execution_count": 81,
     "metadata": {},
     "output_type": "execute_result"
    }
   ],
   "source": [
    "from importlib import reload\n",
    "reload(design)"
   ]
  },
  {
   "cell_type": "code",
   "execution_count": 82,
   "id": "f76967df",
   "metadata": {},
   "outputs": [
    {
     "name": "stdout",
     "output_type": "stream",
     "text": [
      "{'jjs_height': 0.1, 'jjs_width': 0.1, 'jj_lead_width': 0.5, 'chain_width': 0.5, 'ics': 1.0000000000000002e-08, 'icb': 2.5e-07, 'chain_junctions': 45, 'lm': 3.3e-12, 'squid_orientation': 'horizontal', 'jjs_distance': 0.16, 'chain_jj_distance': 0.1, 'chain_top_offset': 1.0, 'flux_line_outer_extension': 11}\n"
     ]
    }
   ],
   "source": [
    "from QCreator.elements.gflux_squid import GFluxControllableSquid\n",
    "\n",
    "fluxonium_id = 0\n",
    "sl_position = (4850, 4850)\n",
    "squid = GFluxControllableSquid(name='fluxonium-squid' + str(fluxonium_id), \n",
    "                           position=sl_position, w=8, s=design.coupler_s, g=30,\n",
    "                           layer_configuration=design.sample.layer_configuration, \n",
    "                           squid_params=design.squid_coupler_horizontal,\n",
    "                           flux_w=design.flux_w, flux_s=design.flux_s, flux_g=design.flux_g)\n",
    "\n",
    "design.sample.add(squid)"
   ]
  },
  {
   "cell_type": "code",
   "execution_count": 83,
   "id": "12baa43b",
   "metadata": {},
   "outputs": [],
   "source": [
    "fluxonium_cap_length = 300\n",
    "open_ends = []\n",
    "capacitors = []\n",
    "for open_end_id, port_name in enumerate(['port1', 'port2']):\n",
    "    position = -np.exp(1j*squid.get_terminals()[port_name].orientation)*fluxonium_cap_length\n",
    "    position = np.asarray([np.real(position), np.imag(position)])\n",
    "    position += squid.get_terminals()[port_name].position\n",
    "    \n",
    "    open_end = elements.OpenEnd(name='fluxonium-open-end'+str(open_end_id),\n",
    "                                position=position,\n",
    "                                 w=[squid.get_terminals()[port_name].w],\n",
    "                                 s=[squid.get_terminals()[port_name].s, squid.get_terminals()[port_name].s],\n",
    "                                 g=squid.get_terminals()[port_name].g,\n",
    "                                 orientation=squid.get_terminals()[port_name].orientation+np.pi,\n",
    "                                 layer_configuration=design.sample.layer_configuration,\n",
    "                                 h1=20,\n",
    "                                 h2=10)\n",
    "    open_ends.append(open_end)\n",
    "    design.sample.add(open_end)\n",
    "    capacitor = design.sample.connect_cpw(open_end, squid, 'wide', port_name, points=[], \n",
    "                                          name='fluxonium-cap'+str(open_end_id))"
   ]
  },
  {
   "cell_type": "code",
   "execution_count": 84,
   "id": "1bc36994",
   "metadata": {},
   "outputs": [],
   "source": [
    "coupler = elements.CPWCoupler(name='resonator-fluxonium coupler', \n",
    "                    points=[[4000, 4000], [5000, 4000]], \n",
    "                    w=[8,8], \n",
    "                    s=[26,26,26], \n",
    "                    g=30, \n",
    "                    layer_configuration=design.sample.layer_configuration, \n",
    "                    r=50)\n",
    "design.sample.add(coupler)"
   ]
  },
  {
   "cell_type": "code",
   "execution_count": 85,
   "id": "1fdded36",
   "metadata": {},
   "outputs": [],
   "source": [
    "fanout = design.sample.fanout(o=coupler, \n",
    "                     port='port2',\n",
    "                     name='fanout',\n",
    "                     grouping = [0, 1])"
   ]
  },
  {
   "cell_type": "code",
   "execution_count": 86,
   "id": "b4fc5006",
   "metadata": {},
   "outputs": [
    {
     "data": {
      "text/plain": [
       "{'wide': Type: mc-cpw, Position: (5000, 4000), Orientation: 6.283\n",
       " w: [8, 8], s: [26, 26, 26], g: 30\n",
       " reversed: False,\n",
       " 'middle': Type: mc-cpw, Position: (0, 0), Orientation: 6.283\n",
       " w: [8, 8], s: [26, 26, 26], g: 30\n",
       " reversed: True,\n",
       " 'center': Type: cpw, Position: (5060.0, 3983.0), Orientation: 3.142\n",
       " w: 8, s: 26, g: 30\n",
       " reversed: True,\n",
       " 'up': Type: cpw, Position: (5030.0, 4077.0), Orientation: 4.712\n",
       " w: 8, s: 26, g: 30\n",
       " reversed: True}"
      ]
     },
     "execution_count": 86,
     "metadata": {},
     "output_type": "execute_result"
    }
   ],
   "source": [
    "fanout.get_terminals()"
   ]
  },
  {
   "cell_type": "code",
   "execution_count": 87,
   "id": "adc321cd",
   "metadata": {},
   "outputs": [
    {
     "data": {
      "text/plain": [
       "OpenEnd fluxonium-fanout-openend"
      ]
     },
     "execution_count": 87,
     "metadata": {},
     "output_type": "execute_result"
    }
   ],
   "source": [
    "design.sample.open_end(fanout, 'center', 'fluxonium-fanout-openend')"
   ]
  },
  {
   "cell_type": "code",
   "execution_count": 88,
   "id": "8b040516",
   "metadata": {},
   "outputs": [],
   "source": [
    "design.sample.draw_design()\n",
    "design.sample.watch()"
   ]
  },
  {
   "cell_type": "code",
   "execution_count": 79,
   "id": "3890db4f",
   "metadata": {},
   "outputs": [],
   "source": [
    "tls, connections_flat, element_assignments = design.sample.get_tls()"
   ]
  },
  {
   "cell_type": "code",
   "execution_count": 14,
   "id": "c40626eb",
   "metadata": {},
   "outputs": [],
   "source": [
    "ω, γ, modes = tls.get_modes()"
   ]
  },
  {
   "cell_type": "code",
   "execution_count": 15,
   "id": "b0687148",
   "metadata": {},
   "outputs": [
    {
     "data": {
      "text/plain": [
       "array([3.68804375e+10, 7.89377903e+10, 5.39337578e+11, 5.60272485e+11,\n",
       "       1.08123218e+12, 1.12263522e+12, 1.53791310e+12, 1.56460364e+12,\n",
       "       1.75635447e+12, 1.79196923e+12, 1.91165429e+12, 1.91165429e+12,\n",
       "       1.91878224e+12, 1.91878224e+12, 1.94441765e+12, 1.94441765e+12,\n",
       "       1.96387132e+12, 1.96387132e+12, 1.97723224e+12, 1.97970805e+12,\n",
       "       3.43116225e+12, 3.96229884e+12, 3.96353551e+12, 4.41897260e+12,\n",
       "       5.33623282e+12, 5.33657087e+12, 6.15899732e+12, 6.15899732e+12,\n",
       "       6.15901389e+12, 6.15901389e+12, 6.24528786e+12, 6.24607351e+12,\n",
       "       6.73367377e+12, 6.73367377e+12, 6.73421443e+12, 6.73421443e+12,\n",
       "       8.28280320e+12, 1.17431579e+13, 1.41499251e+13, 2.04210875e+13,\n",
       "       2.08181636e+13, 2.58046930e+13, 2.88504797e+13, 3.03989487e+13,\n",
       "       3.23437301e+13, 3.23437301e+13, 3.28860100e+13, 3.28860100e+13,\n",
       "       3.56919436e+13, 4.01496075e+13, 4.87175039e+13, 4.99263773e+13,\n",
       "       5.35068244e+13, 5.69200013e+13, 5.73118895e+13, 6.15991022e+13,\n",
       "       6.15991022e+13, 6.17963400e+13, 6.17963400e+13, 6.27999769e+13,\n",
       "       6.30795737e+13, 6.30795737e+13, 6.75674026e+13, 6.75674026e+13,\n",
       "       6.84381640e+13, 6.84381640e+13, 6.85320324e+13, 6.85320324e+13,\n",
       "       9.28867340e+13, 1.29800733e+14])"
      ]
     },
     "execution_count": 15,
     "metadata": {},
     "output_type": "execute_result"
    }
   ],
   "source": [
    "ω/2*np.pi"
   ]
  },
  {
   "cell_type": "code",
   "execution_count": 16,
   "id": "e1d74008",
   "metadata": {},
   "outputs": [
    {
     "data": {
      "text/plain": [
       "[Short ,\n",
       " Port pad-0-side-0,\n",
       " Port pad-1-side-0,\n",
       " Port pad-2-side-0,\n",
       " Port pad-3-side-0,\n",
       " Port pad-4-side-0,\n",
       " Port pad-5-side-0,\n",
       " Port pad-6-side-0,\n",
       " Port pad-7-side-0,\n",
       " Port pad-0-side-1,\n",
       " Port pad-1-side-1,\n",
       " Port pad-2-side-1,\n",
       " Port pad-3-side-1,\n",
       " Port pad-4-side-1,\n",
       " Port pad-5-side-1,\n",
       " Port pad-6-side-1,\n",
       " Port pad-7-side-1,\n",
       " Port pad-0-side-2,\n",
       " Port pad-1-side-2,\n",
       " Port pad-2-side-2,\n",
       " Port pad-3-side-2,\n",
       " Port pad-4-side-2,\n",
       " Port pad-5-side-2,\n",
       " Port pad-6-side-2,\n",
       " Port pad-7-side-2,\n",
       " Port pad-0-side-3,\n",
       " Port pad-1-side-3,\n",
       " Port pad-2-side-3,\n",
       " Port pad-3-side-3,\n",
       " Port pad-4-side-3,\n",
       " Port pad-5-side-3,\n",
       " Port pad-6-side-3,\n",
       " Port pad-7-side-3,\n",
       " JJ fluxonium-squid0 jj small,\n",
       " JJ fluxonium-squid0 jj big left,\n",
       " JJ fluxonium-squid0 jj big right,\n",
       " L fluxonium-squid0 flux-wire,\n",
       " C open_end,\n",
       " TL fluxonium-cap0 (n=1),\n",
       " C open_end,\n",
       " TL fluxonium-cap1 (n=1),\n",
       " TL resonator-fluxonium coupler (n=2),\n",
       " TL fanout_line_0 (n=1),\n",
       " TL fanout_line_1 (n=1),\n",
       " TL fanout_coupled_line_2 (n=2),\n",
       " C open_end]"
      ]
     },
     "execution_count": 16,
     "metadata": {},
     "output_type": "execute_result"
    }
   ],
   "source": [
    "tls.elements"
   ]
  },
  {
   "cell_type": "code",
   "execution_count": 17,
   "id": "e47b0edb",
   "metadata": {},
   "outputs": [
    {
     "ename": "AttributeError",
     "evalue": "'Capacitor' object has no attribute 'L_lin'",
     "output_type": "error",
     "traceback": [
      "\u001b[1;31m---------------------------------------------------------------------------\u001b[0m",
      "\u001b[1;31mAttributeError\u001b[0m                            Traceback (most recent call last)",
      "\u001b[1;32m~\\AppData\\Local\\Temp/ipykernel_25992/2574438546.py\u001b[0m in \u001b[0;36m<module>\u001b[1;34m\u001b[0m\n\u001b[1;32m----> 1\u001b[1;33m \u001b[0mtls\u001b[0m\u001b[1;33m.\u001b[0m\u001b[0melements\u001b[0m\u001b[1;33m[\u001b[0m\u001b[1;33m-\u001b[0m\u001b[1;36m7\u001b[0m\u001b[1;33m]\u001b[0m\u001b[1;33m.\u001b[0m\u001b[0mL_lin\u001b[0m\u001b[1;33m(\u001b[0m\u001b[1;33m)\u001b[0m\u001b[1;33m,\u001b[0m \u001b[0mtls\u001b[0m\u001b[1;33m.\u001b[0m\u001b[0melements\u001b[0m\u001b[1;33m[\u001b[0m\u001b[1;33m-\u001b[0m\u001b[1;36m8\u001b[0m\u001b[1;33m]\u001b[0m\u001b[1;33m.\u001b[0m\u001b[0mL_lin\u001b[0m\u001b[1;33m(\u001b[0m\u001b[1;33m)\u001b[0m\u001b[1;33m,\u001b[0m \u001b[0mtls\u001b[0m\u001b[1;33m.\u001b[0m\u001b[0melements\u001b[0m\u001b[1;33m[\u001b[0m\u001b[1;33m-\u001b[0m\u001b[1;36m9\u001b[0m\u001b[1;33m]\u001b[0m\u001b[1;33m.\u001b[0m\u001b[0mL_lin\u001b[0m\u001b[1;33m(\u001b[0m\u001b[1;33m)\u001b[0m\u001b[1;33m\u001b[0m\u001b[1;33m\u001b[0m\u001b[0m\n\u001b[0m",
      "\u001b[1;31mAttributeError\u001b[0m: 'Capacitor' object has no attribute 'L_lin'"
     ]
    }
   ],
   "source": [
    "tls.elements[-7].L_lin(), tls.elements[-8].L_lin(), tls.elements[-9].L_lin()"
   ]
  },
  {
   "cell_type": "code",
   "execution_count": 18,
   "id": "f1786f27",
   "metadata": {},
   "outputs": [
    {
     "data": {
      "text/plain": [
       "array([[3.05864727e-15]])"
      ]
     },
     "execution_count": 18,
     "metadata": {},
     "output_type": "execute_result"
    }
   ],
   "source": [
    "tls.elements[-4].Cl*tls.elements[-4].l"
   ]
  },
  {
   "cell_type": "code",
   "execution_count": 19,
   "id": "bf3ce7c9",
   "metadata": {},
   "outputs": [
    {
     "ename": "AttributeError",
     "evalue": "'Capacitor' object has no attribute 'L_lin'",
     "output_type": "error",
     "traceback": [
      "\u001b[1;31m---------------------------------------------------------------------------\u001b[0m",
      "\u001b[1;31mAttributeError\u001b[0m                            Traceback (most recent call last)",
      "\u001b[1;32m~\\AppData\\Local\\Temp/ipykernel_25992/2419743625.py\u001b[0m in \u001b[0;36m<module>\u001b[1;34m\u001b[0m\n\u001b[1;32m----> 1\u001b[1;33m \u001b[1;36m1\u001b[0m\u001b[1;33m/\u001b[0m\u001b[0mnp\u001b[0m\u001b[1;33m.\u001b[0m\u001b[0msqrt\u001b[0m\u001b[1;33m(\u001b[0m\u001b[0mtls\u001b[0m\u001b[1;33m.\u001b[0m\u001b[0melements\u001b[0m\u001b[1;33m[\u001b[0m\u001b[1;33m-\u001b[0m\u001b[1;36m9\u001b[0m\u001b[1;33m]\u001b[0m\u001b[1;33m.\u001b[0m\u001b[0mL_lin\u001b[0m\u001b[1;33m(\u001b[0m\u001b[1;33m)\u001b[0m\u001b[1;33m*\u001b[0m\u001b[0mtls\u001b[0m\u001b[1;33m.\u001b[0m\u001b[0melements\u001b[0m\u001b[1;33m[\u001b[0m\u001b[1;33m-\u001b[0m\u001b[1;36m4\u001b[0m\u001b[1;33m]\u001b[0m\u001b[1;33m.\u001b[0m\u001b[0mCl\u001b[0m\u001b[1;33m*\u001b[0m\u001b[0mtls\u001b[0m\u001b[1;33m.\u001b[0m\u001b[0melements\u001b[0m\u001b[1;33m[\u001b[0m\u001b[1;33m-\u001b[0m\u001b[1;36m4\u001b[0m\u001b[1;33m]\u001b[0m\u001b[1;33m.\u001b[0m\u001b[0ml\u001b[0m\u001b[1;33m)\u001b[0m\u001b[1;33m\u001b[0m\u001b[1;33m\u001b[0m\u001b[0m\n\u001b[0m",
      "\u001b[1;31mAttributeError\u001b[0m: 'Capacitor' object has no attribute 'L_lin'"
     ]
    }
   ],
   "source": [
    "1/np.sqrt(tls.elements[-9].L_lin()*tls.elements[-4].Cl*tls.elements[-4].l)"
   ]
  },
  {
   "cell_type": "code",
   "execution_count": 20,
   "id": "6cda49d5",
   "metadata": {},
   "outputs": [
    {
     "ename": "AttributeError",
     "evalue": "'TLCoupler' object has no attribute 'C'",
     "output_type": "error",
     "traceback": [
      "\u001b[1;31m---------------------------------------------------------------------------\u001b[0m",
      "\u001b[1;31mAttributeError\u001b[0m                            Traceback (most recent call last)",
      "\u001b[1;32m~\\AppData\\Local\\Temp/ipykernel_25992/2714054718.py\u001b[0m in \u001b[0;36m<module>\u001b[1;34m\u001b[0m\n\u001b[1;32m----> 1\u001b[1;33m \u001b[0mtls\u001b[0m\u001b[1;33m.\u001b[0m\u001b[0melements\u001b[0m\u001b[1;33m[\u001b[0m\u001b[1;33m-\u001b[0m\u001b[1;36m3\u001b[0m\u001b[1;33m]\u001b[0m\u001b[1;33m.\u001b[0m\u001b[0mC\u001b[0m\u001b[1;33m\u001b[0m\u001b[1;33m\u001b[0m\u001b[0m\n\u001b[0m",
      "\u001b[1;31mAttributeError\u001b[0m: 'TLCoupler' object has no attribute 'C'"
     ]
    }
   ],
   "source": [
    "tls.elements[-3].C"
   ]
  },
  {
   "cell_type": "code",
   "execution_count": 21,
   "id": "ed6eaad6",
   "metadata": {},
   "outputs": [
    {
     "data": {
      "text/plain": [
       "[CPW \"flux-control-line\", l=4274.256]"
      ]
     },
     "execution_count": 21,
     "metadata": {},
     "output_type": "execute_result"
    }
   ],
   "source": [
    "design.sample.connect_cpw(squid, design.pads_top[4], 'flux', 'port', points= [], name='flux-control-line')"
   ]
  },
  {
   "cell_type": "code",
   "execution_count": 22,
   "id": "416b8091",
   "metadata": {},
   "outputs": [
    {
     "data": {
      "text/plain": [
       "{'port': Type: cpw, Position: (5388.889, 9150.0), Orientation: 1.571\n",
       " w: 10, s: 6, g: 20\n",
       " reversed: True}"
      ]
     },
     "execution_count": 22,
     "metadata": {},
     "output_type": "execute_result"
    }
   ],
   "source": [
    "design.pads_bottom[4].get_terminals()"
   ]
  },
  {
   "cell_type": "code",
   "execution_count": 23,
   "id": "3a07d63b",
   "metadata": {},
   "outputs": [
    {
     "data": {
      "text/plain": [
       "{'port1': Type: cpw, Position: (4831.0, 4850.0), Orientation: 0\n",
       " w: 8, s: 26, g: 30\n",
       " reversed: True,\n",
       " 'port2': Type: cpw, Position: (4869.0, 4850.0), Orientation: 3.142\n",
       " w: 8, s: 26, g: 30\n",
       " reversed: True,\n",
       " 'flux': Type: cpw, Position: (4850.0, 4790.0), Orientation: 1.571\n",
       " w: 10, s: 6, g: 20\n",
       " reversed: True}"
      ]
     },
     "execution_count": 23,
     "metadata": {},
     "output_type": "execute_result"
    }
   ],
   "source": [
    "squid.get_terminals()"
   ]
  },
  {
   "cell_type": "code",
   "execution_count": null,
   "id": "e32427f0",
   "metadata": {},
   "outputs": [],
   "source": []
  },
  {
   "cell_type": "code",
   "execution_count": null,
   "id": "77ad331f",
   "metadata": {},
   "outputs": [],
   "source": []
  },
  {
   "cell_type": "code",
   "execution_count": null,
   "id": "cc84e853",
   "metadata": {},
   "outputs": [],
   "source": []
  }
 ],
 "metadata": {
  "kernelspec": {
   "display_name": "Python 3 (ipykernel)",
   "language": "python",
   "name": "python3"
  },
  "language_info": {
   "codemirror_mode": {
    "name": "ipython",
    "version": 3
   },
   "file_extension": ".py",
   "mimetype": "text/x-python",
   "name": "python",
   "nbconvert_exporter": "python",
   "pygments_lexer": "ipython3",
   "version": "3.8.5"
  }
 },
 "nbformat": 4,
 "nbformat_minor": 5
}
