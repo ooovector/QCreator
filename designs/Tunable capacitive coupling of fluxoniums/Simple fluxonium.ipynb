{
 "cells": [
  {
   "cell_type": "code",
   "execution_count": 1,
   "id": "553edf2b",
   "metadata": {},
   "outputs": [
    {
     "data": {
      "text/plain": [
       "<module 'gdspy' from 'C:\\\\ProgramData\\\\Anaconda3\\\\envs\\\\py38\\\\lib\\\\site-packages\\\\gdspy\\\\__init__.py'>"
      ]
     },
     "execution_count": 1,
     "metadata": {},
     "output_type": "execute_result"
    }
   ],
   "source": [
    "import sys\n",
    "sys.path.append('..\\\\..')\n",
    "import gdspy\n",
    "import numpy as np\n",
    "from importlib import reload\n",
    "from copy import deepcopy\n",
    "from QCreator import elements\n",
    "from QCreator import general_sample_creator as creator\n",
    "from QCreator import meshing\n",
    "reload(gdspy)\n"
   ]
  },
  {
   "cell_type": "code",
   "execution_count": 2,
   "id": "062ed383",
   "metadata": {},
   "outputs": [],
   "source": [
    "jc = 0.5e-6  # 1e-6 # uA/um^2\n",
    "layers_configuration = {\n",
    "    'total': 0,\n",
    "    'restricted area': 10,\n",
    "    'for removing': 100,\n",
    "    'JJs': 1,\n",
    "    'air bridges': 2,\n",
    "    'air bridge pads': 3,\n",
    "    'air bridge sm pads': 4,\n",
    "    'vertical gridlines': 0,\n",
    "    'horizontal gridlines': 0,\n",
    "    'inverted': 101,\n",
    "    'bandages': 20\n",
    "}\n",
    "\n",
    "sample = creator.Sample('simple_fluxonium', layers_configuration)\n",
    "\n",
    "# specify sample vertical and horizontal lengths\n",
    "sample.chip_geometry.sample_vertical_size = 4.7e3\n",
    "sample.chip_geometry.sample_horizontal_size = 4.7e3\n",
    "chip_edge_ground = elements.ChipEdgeGround(sample.chip_geometry, sample.layer_configuration, sample.pads, 350)\n",
    "sample.add(chip_edge_ground)"
   ]
  },
  {
   "cell_type": "code",
   "execution_count": 3,
   "id": "7c69193a",
   "metadata": {},
   "outputs": [],
   "source": [
    "# qubit params\n",
    "flux_w = 10\n",
    "flux_s = 6\n",
    "flux_g = 20"
   ]
  },
  {
   "cell_type": "code",
   "execution_count": 4,
   "id": "aa741ba5",
   "metadata": {},
   "outputs": [],
   "source": [
    "fluxonium_squid =  {'jjs_height': 0.1,\n",
    "                             'jjs_width': 0.115,\n",
    "                             'jj_lead_width':0.5,\n",
    "                             'chain_width':1.0,\n",
    "                             'ics': 0.1*0.115*jc,\n",
    "                             'icb': 0.5*1.0*jc,\n",
    "                             'chain_junctions': 45,\n",
    "                             'lm': 3.3e-12,\n",
    "                             'squid_orientation': 'horizontal',\n",
    "                             'jjs_distance': 0.16,\n",
    "                             'chain_jj_distance': 0.1,\n",
    "                             'chain_top_offset': 1.0,\n",
    "                             'flux_line_outer_extension': 11}"
   ]
  },
  {
   "cell_type": "code",
   "execution_count": 5,
   "id": "a0d7e714",
   "metadata": {},
   "outputs": [
    {
     "name": "stdout",
     "output_type": "stream",
     "text": [
      "{'jjs_height': 0.1, 'jjs_width': 0.115, 'jj_lead_width': 0.5, 'chain_width': 1.0, 'ics': 5.75e-09, 'icb': 2.5e-07, 'chain_junctions': 45, 'lm': 3.3e-12, 'squid_orientation': 'horizontal', 'jjs_distance': 0.16, 'chain_jj_distance': 0.1, 'chain_top_offset': 1.0, 'flux_line_outer_extension': 11}\n"
     ]
    }
   ],
   "source": [
    "from QCreator.elements.gflux_squid import GFluxControllableSquid\n",
    "\n",
    "sl_position = (2350, 2350)\n",
    "\n",
    "fluxonium_w = 20\n",
    "fluxonium_s = 15\n",
    "fluxonium_g = 30\n",
    "\n",
    "squid = GFluxControllableSquid(name='fluxonium-squid', \n",
    "                               position=sl_position, \n",
    "                               w=fluxonium_w, s=fluxonium_s, g=fluxonium_g,\n",
    "                               layer_configuration=sample.layer_configuration, \n",
    "                               squid_params=fluxonium_squid,\n",
    "                               flux_w=flux_w, flux_s=flux_s, flux_g=flux_g)\n",
    "\n",
    "sample.add(squid)"
   ]
  },
  {
   "cell_type": "code",
   "execution_count": 6,
   "id": "7b50b6bc",
   "metadata": {},
   "outputs": [],
   "source": [
    "fluxonium_cap_length = 400\n",
    "open_ends = []\n",
    "capacitors = []\n",
    "for open_end_id, port_name in enumerate(['port1', 'port2']):\n",
    "    position = -np.exp(1j*squid.get_terminals()[port_name].orientation)*fluxonium_cap_length\n",
    "    position = np.asarray([np.real(position), np.imag(position)])\n",
    "    position += squid.get_terminals()[port_name].position\n",
    "    \n",
    "    open_end = elements.OpenEnd(name='fluxonium-open-end'+str(open_end_id),\n",
    "                                position=position,\n",
    "                                 w=[squid.get_terminals()[port_name].w],\n",
    "                                 s=[squid.get_terminals()[port_name].s, squid.get_terminals()[port_name].s],\n",
    "                                 g=squid.get_terminals()[port_name].g,\n",
    "                                 orientation=squid.get_terminals()[port_name].orientation+np.pi,\n",
    "                                 layer_configuration=sample.layer_configuration,\n",
    "                                 h1=20,\n",
    "                                 h2=10)\n",
    "    open_ends.append(open_end)\n",
    "    sample.add(open_end)\n",
    "    capacitor = sample.connect_cpw(open_end, squid, 'wide', port_name, points=[], \n",
    "                                   name='fluxonium-cap'+str(open_end_id))"
   ]
  },
  {
   "cell_type": "markdown",
   "id": "2f42bc72",
   "metadata": {},
   "source": [
    "# Add DC line"
   ]
  },
  {
   "cell_type": "code",
   "execution_count": 7,
   "id": "b323600e",
   "metadata": {},
   "outputs": [
    {
     "data": {
      "text/plain": [
       "[CPW \"flux-line\", l=1695.000]"
      ]
     },
     "execution_count": 7,
     "metadata": {},
     "output_type": "execute_result"
    }
   ],
   "source": [
    "pad_geometry = {'pad_w': 250, 'pad_s': 146, 'pad_g': 8, 'pad_length': 250, 'narrowing_length': 100, 'stub_length': 100,\n",
    "                'z0': 50}\n",
    "pad = elements.Pad('pad',\n",
    "                   (2350, 600),\n",
    "                   -np.pi/2,\n",
    "                   flux_w,\n",
    "                   flux_s, flux_g,\n",
    "                   layer_configuration=sample.layer_configuration, chip_geometry=sample.chip_geometry,\n",
    "                   **pad_geometry)\n",
    "sample.add(pad)\n",
    "sample.connect_cpw(pad, squid, 'port', 'flux', name='flux-line', points=[])"
   ]
  },
  {
   "cell_type": "code",
   "execution_count": 8,
   "id": "e50d86d5",
   "metadata": {},
   "outputs": [],
   "source": [
    "sample.draw_design()\n",
    "sample.watch()"
   ]
  },
  {
   "cell_type": "markdown",
   "id": "7b99669e",
   "metadata": {},
   "source": [
    "# TLS simulation"
   ]
  },
  {
   "cell_type": "code",
   "execution_count": 14,
   "id": "b4e282a1",
   "metadata": {},
   "outputs": [
    {
     "data": {
      "text/plain": [
       "array([2.63968085e+09, 4.62027710e+09, 3.52904445e+10, 6.95610536e+10,\n",
       "       8.85696048e+10, 8.90747435e+10, 9.75815628e+10, 1.01024231e+11,\n",
       "       1.16399483e+11, 1.17534290e+11, 1.50245721e+11, 1.50341745e+11,\n",
       "       3.01095656e+11, 3.01143596e+11, 4.05504263e+11, 4.05517367e+11,\n",
       "       4.68027634e+11, 4.68027634e+11, 4.68028275e+11, 4.68028275e+11,\n",
       "       4.74583096e+11, 4.74613537e+11, 5.11696558e+11, 5.11696558e+11,\n",
       "       5.11717516e+11, 5.11717516e+11])"
      ]
     },
     "execution_count": 14,
     "metadata": {},
     "output_type": "execute_result"
    }
   ],
   "source": [
    "tls, connections_flat, element_assignments = sample.get_tls()\n",
    "omegas, gammas, modes = tls.get_modes()\n",
    "omegas/(2*np.pi)"
   ]
  },
  {
   "cell_type": "code",
   "execution_count": 10,
   "id": "7e2b09f0",
   "metadata": {},
   "outputs": [
    {
     "data": {
      "text/plain": [
       "array([[-3.49989879e+06, -3.98236900e+06],\n",
       "       [-3.98236900e+06, -4.23274961e+08]])"
      ]
     },
     "execution_count": 10,
     "metadata": {},
     "output_type": "execute_result"
    }
   ],
   "source": [
    "kerr_matrix = tls.get_perturbation([0, 1])\n",
    "kerr_matrix"
   ]
  },
  {
   "cell_type": "markdown",
   "id": "fe7c595e",
   "metadata": {},
   "source": [
    "## Zero flux "
   ]
  },
  {
   "cell_type": "code",
   "execution_count": 11,
   "id": "0e9194bf",
   "metadata": {},
   "outputs": [
    {
     "data": {
      "text/plain": [
       "{'0': {'subsystem_id': [0],\n",
       "  'Ec': array([[6.2795444e-25]]),\n",
       "  'El': array([[6.36007375e-28]]),\n",
       "  'Ej': [1.8923593762338568e-24, 3.70244225784885e-21, 3.70244225784885e-21],\n",
       "  'alpha': array([[1.09759904e-05],\n",
       "         [9.06397276e-03],\n",
       "         [9.06371177e-03]]),\n",
       "  'dc_phase': array([[0.],\n",
       "         [0.],\n",
       "         [0.]])},\n",
       " '1': {'subsystem_id': [1],\n",
       "  'Ec': array([[6.27634928e-25]]),\n",
       "  'El': array([[5.83502789e-27]]),\n",
       "  'Ej': [1.8923593762338568e-24, 3.70244225784885e-21, 3.70244225784885e-21],\n",
       "  'alpha': array([[ 0.81426122],\n",
       "         [-0.00904747],\n",
       "         [ 0.00904672]]),\n",
       "  'dc_phase': array([[0.],\n",
       "         [0.],\n",
       "         [0.]])}}"
      ]
     },
     "execution_count": 11,
     "metadata": {},
     "output_type": "execute_result"
    }
   ],
   "source": [
    "modes_subsystems = tls.define_modes_parameters(\n",
    "            omegas[:2]/(2 * np.pi), modes[:2], kerr_matrix,\n",
    "            tls.get_phi_dc(modes[:2], tls.i_dc()), epsilon_cross=0.005)\n",
    "\n",
    "modes_subsystems"
   ]
  },
  {
   "cell_type": "code",
   "execution_count": 12,
   "id": "b0d41de5",
   "metadata": {},
   "outputs": [
    {
     "data": {
      "image/png": "[encoded data removed]",
      "text/plain": [
       "<Figure size 432x288 with 1 Axes>"
      ]
     },
     "metadata": {
      "needs_background": "light"
     },
     "output_type": "display_data"
    },
    {
     "data": {
      "text/plain": [
       "array([4.18016207e+09, 3.70472325e+09, 3.20065371e+09, 2.71640611e+09])"
      ]
     },
     "execution_count": 12,
     "metadata": {},
     "output_type": "execute_result"
    }
   ],
   "source": [
    "subsystem = modes_subsystems['1']\n",
    "phi_grid = np.linspace(-np.pi*2.5, np.pi*2.5, 601)\n",
    "dc_phase = modes_subsystems['1']['dc_phase']\n",
    "tls.plot_wavefunctions_1d(subsystem, phi_grid, dc_phase, cutoff=5)\n",
    "energies, wavefunctions = tls.solve_hamiltonian_eig_1d(subsystem, phi_grid, dc_phase, cutoff=5)\n",
    "(energies[1:] - energies[:-1]) / (2 * np.pi * 1.054e-34)"
   ]
  },
  {
   "cell_type": "code",
   "execution_count": 13,
   "id": "9aa7aedd",
   "metadata": {},
   "outputs": [
    {
     "data": {
      "image/png": "[encoded data removed]",
      "text/plain": [
       "<Figure size 432x288 with 1 Axes>"
      ]
     },
     "metadata": {
      "needs_background": "light"
     },
     "output_type": "display_data"
    },
    {
     "data": {
      "text/plain": [
       "array([2.64072018e+09, 2.64033073e+09, 2.63997835e+09, 2.63991098e+09])"
      ]
     },
     "execution_count": 13,
     "metadata": {},
     "output_type": "execute_result"
    }
   ],
   "source": [
    "subsystem = modes_subsystems['0']\n",
    "phi_grid = np.linspace(-np.pi*2.5, np.pi*2.5, 301)\n",
    "dc_phase = modes_subsystems['0']['dc_phase']\n",
    "tls.plot_wavefunctions_1d(subsystem, phi_grid, dc_phase, cutoff=5)\n",
    "energies, wavefunctions = tls.solve_hamiltonian_eig_1d(subsystem, phi_grid, dc_phase, cutoff=5)\n",
    "(energies[1:] - energies[:-1]) / (2 * np.pi * 1.054e-34)"
   ]
  },
  {
   "cell_type": "markdown",
   "id": "fc649505",
   "metadata": {},
   "source": [
    "## Half flux quantum"
   ]
  },
  {
   "cell_type": "code",
   "execution_count": 27,
   "id": "fbe10c12",
   "metadata": {},
   "outputs": [
    {
     "name": "stdout",
     "output_type": "stream",
     "text": [
      "[[0.+0.j]\n",
      " [0.+0.j]\n",
      " [0.+0.j]\n",
      " [0.+0.j]\n",
      " [0.+0.j]\n",
      " [0.+0.j]\n",
      " [0.+0.j]\n",
      " [0.+0.j]\n",
      " [0.+0.j]\n",
      " [0.+0.j]\n",
      " [0.+0.j]\n",
      " [0.+0.j]\n",
      " [0.+0.j]\n",
      " [0.+0.j]\n",
      " [0.+0.j]\n",
      " [0.+0.j]\n",
      " [0.+0.j]\n",
      " [0.+0.j]\n",
      " [0.+0.j]\n",
      " [0.+0.j]\n",
      " [0.+0.j]\n",
      " [0.+0.j]\n",
      " [0.+0.j]\n",
      " [0.+0.j]\n",
      " [0.+0.j]\n",
      " [0.+0.j]\n",
      " [0.+0.j]\n",
      " [0.+0.j]\n",
      " [0.+0.j]\n",
      " [0.+0.j]\n",
      " [0.+0.j]\n",
      " [0.+0.j]\n",
      " [0.+0.j]\n",
      " [0.+0.j]\n",
      " [0.+0.j]\n",
      " [0.+0.j]\n",
      " [0.+0.j]]\n"
     ]
    },
    {
     "ename": "UFuncTypeError",
     "evalue": "Cannot cast ufunc 'add' output from dtype('complex128') to dtype('float64') with casting rule 'same_kind'",
     "output_type": "error",
     "traceback": [
      "\u001b[1;31m---------------------------------------------------------------------------\u001b[0m",
      "\u001b[1;31mUFuncTypeError\u001b[0m                            Traceback (most recent call last)",
      "\u001b[1;32m~\\AppData\\Local\\Temp/ipykernel_3488/763227331.py\u001b[0m in \u001b[0;36m<module>\u001b[1;34m\u001b[0m\n\u001b[0;32m      9\u001b[0m     \u001b[0mprint\u001b[0m\u001b[1;33m(\u001b[0m\u001b[0mdc_phase\u001b[0m\u001b[1;33m)\u001b[0m\u001b[1;33m\u001b[0m\u001b[1;33m\u001b[0m\u001b[0m\n\u001b[0;32m     10\u001b[0m     \u001b[0mmodes_subsystems\u001b[0m \u001b[1;33m=\u001b[0m \u001b[0mtls\u001b[0m\u001b[1;33m.\u001b[0m\u001b[0mdefine_modes_parameters\u001b[0m\u001b[1;33m(\u001b[0m\u001b[0momegas\u001b[0m\u001b[1;33m[\u001b[0m\u001b[1;33m:\u001b[0m\u001b[1;36m2\u001b[0m\u001b[1;33m]\u001b[0m\u001b[1;33m,\u001b[0m \u001b[0mmodes\u001b[0m\u001b[1;33m[\u001b[0m\u001b[1;33m:\u001b[0m\u001b[1;36m2\u001b[0m\u001b[1;33m]\u001b[0m\u001b[1;33m,\u001b[0m \u001b[0mkerr_matrix\u001b[0m\u001b[1;33m,\u001b[0m \u001b[0mdc_phase\u001b[0m\u001b[1;33m,\u001b[0m \u001b[0mepsilon_cross\u001b[0m\u001b[1;33m=\u001b[0m\u001b[1;36m0.005\u001b[0m\u001b[1;33m)\u001b[0m\u001b[1;33m\u001b[0m\u001b[1;33m\u001b[0m\u001b[0m\n\u001b[1;32m---> 11\u001b[1;33m     \u001b[0mE\u001b[0m\u001b[1;33m,\u001b[0m \u001b[0mwavefunctions\u001b[0m \u001b[1;33m=\u001b[0m \u001b[0mtls\u001b[0m\u001b[1;33m.\u001b[0m\u001b[0msolve_hamiltonian_eig_1d\u001b[0m\u001b[1;33m(\u001b[0m\u001b[0mmodes_subsystems\u001b[0m\u001b[1;33m[\u001b[0m\u001b[1;34m'1'\u001b[0m\u001b[1;33m]\u001b[0m\u001b[1;33m,\u001b[0m \u001b[0mphi_grid\u001b[0m\u001b[1;33m,\u001b[0m \u001b[0mdc_phase\u001b[0m\u001b[1;33m,\u001b[0m \u001b[0mcutoff\u001b[0m\u001b[1;33m=\u001b[0m\u001b[0mcutoff\u001b[0m\u001b[1;33m)\u001b[0m\u001b[1;33m\u001b[0m\u001b[1;33m\u001b[0m\u001b[0m\n\u001b[0m\u001b[0;32m     12\u001b[0m     \u001b[0menergies\u001b[0m\u001b[1;33m[\u001b[0m\u001b[0mcurrent_id\u001b[0m\u001b[1;33m,\u001b[0m \u001b[1;33m:\u001b[0m\u001b[1;33m]\u001b[0m \u001b[1;33m=\u001b[0m \u001b[0mnp\u001b[0m\u001b[1;33m.\u001b[0m\u001b[0masarray\u001b[0m\u001b[1;33m(\u001b[0m\u001b[0mE\u001b[0m\u001b[1;33m)\u001b[0m\u001b[1;33m\u001b[0m\u001b[1;33m\u001b[0m\u001b[0m\n\u001b[0;32m     13\u001b[0m \u001b[1;33m\u001b[0m\u001b[0m\n",
      "\u001b[1;32mD:\\Documents-cloud\\qubits\\simulation\\QCreator\\QCreator\\transmission_line_simulator.py\u001b[0m in \u001b[0;36msolve_hamiltonian_eig_1d\u001b[1;34m(self, subsystem, phi_grid, dc_phase, cutoff)\u001b[0m\n\u001b[0;32m   1678\u001b[0m         \u001b[1;32mfrom\u001b[0m \u001b[0mscipy\u001b[0m\u001b[1;33m.\u001b[0m\u001b[0mlinalg\u001b[0m \u001b[1;32mimport\u001b[0m \u001b[0meig\u001b[0m\u001b[1;33m\u001b[0m\u001b[1;33m\u001b[0m\u001b[0m\n\u001b[0;32m   1679\u001b[0m         \u001b[0md\u001b[0m \u001b[1;33m=\u001b[0m \u001b[0mnp\u001b[0m\u001b[1;33m.\u001b[0m\u001b[0mabs\u001b[0m\u001b[1;33m(\u001b[0m\u001b[0mphi_grid\u001b[0m\u001b[1;33m[\u001b[0m\u001b[1;36m0\u001b[0m\u001b[1;33m]\u001b[0m \u001b[1;33m-\u001b[0m \u001b[0mphi_grid\u001b[0m\u001b[1;33m[\u001b[0m\u001b[1;36m1\u001b[0m\u001b[1;33m]\u001b[0m\u001b[1;33m)\u001b[0m  \u001b[1;31m# step of grid\u001b[0m\u001b[1;33m\u001b[0m\u001b[1;33m\u001b[0m\u001b[0m\n\u001b[1;32m-> 1680\u001b[1;33m         u = potential_1d(phi=phi_grid, e_l=subsystem['El'], e_j=subsystem['Ej'],\n\u001b[0m\u001b[0;32m   1681\u001b[0m                          alpha=subsystem['alpha'], phi_dc=dc_phase)\n\u001b[0;32m   1682\u001b[0m         \u001b[1;31m# u = np.asarray(\u001b[0m\u001b[1;33m\u001b[0m\u001b[1;33m\u001b[0m\u001b[1;33m\u001b[0m\u001b[0m\n",
      "\u001b[1;32mD:\\Documents-cloud\\qubits\\simulation\\QCreator\\QCreator\\transmission_line_simulator.py\u001b[0m in \u001b[0;36mpotential_1d\u001b[1;34m(phi, e_l, e_j, alpha, phi_dc)\u001b[0m\n\u001b[0;32m   2331\u001b[0m     \u001b[1;32mfor\u001b[0m \u001b[0mjj_id\u001b[0m\u001b[1;33m,\u001b[0m \u001b[0me_j\u001b[0m \u001b[1;32min\u001b[0m \u001b[0menumerate\u001b[0m\u001b[1;33m(\u001b[0m\u001b[0me_j\u001b[0m\u001b[1;33m)\u001b[0m\u001b[1;33m:\u001b[0m\u001b[1;33m\u001b[0m\u001b[1;33m\u001b[0m\u001b[0m\n\u001b[0;32m   2332\u001b[0m         \u001b[0mphi_dc_jj\u001b[0m \u001b[1;33m=\u001b[0m \u001b[0mphi_dc\u001b[0m\u001b[1;33m[\u001b[0m\u001b[0mjj_id\u001b[0m\u001b[1;33m]\u001b[0m\u001b[1;33m[\u001b[0m\u001b[1;36m0\u001b[0m\u001b[1;33m]\u001b[0m\u001b[1;33m\u001b[0m\u001b[1;33m\u001b[0m\u001b[0m\n\u001b[1;32m-> 2333\u001b[1;33m         \u001b[0mpotential\u001b[0m \u001b[1;33m+=\u001b[0m \u001b[0me_j\u001b[0m \u001b[1;33m*\u001b[0m \u001b[1;33m(\u001b[0m\u001b[1;36m1\u001b[0m \u001b[1;33m-\u001b[0m \u001b[0mnp\u001b[0m\u001b[1;33m.\u001b[0m\u001b[0mcos\u001b[0m\u001b[1;33m(\u001b[0m\u001b[0malpha\u001b[0m\u001b[1;33m[\u001b[0m\u001b[0mjj_id\u001b[0m\u001b[1;33m]\u001b[0m\u001b[1;33m[\u001b[0m\u001b[1;36m0\u001b[0m\u001b[1;33m]\u001b[0m \u001b[1;33m*\u001b[0m \u001b[0mphi\u001b[0m \u001b[1;33m+\u001b[0m \u001b[0mphi_dc_jj\u001b[0m\u001b[1;33m)\u001b[0m\u001b[1;33m)\u001b[0m\u001b[1;33m\u001b[0m\u001b[1;33m\u001b[0m\u001b[0m\n\u001b[0m\u001b[0;32m   2334\u001b[0m     \u001b[1;32mreturn\u001b[0m \u001b[0mpotential\u001b[0m\u001b[1;33m\u001b[0m\u001b[1;33m\u001b[0m\u001b[0m\n\u001b[0;32m   2335\u001b[0m \u001b[1;33m\u001b[0m\u001b[0m\n",
      "\u001b[1;31mUFuncTypeError\u001b[0m: Cannot cast ufunc 'add' output from dtype('complex128') to dtype('float64') with casting rule 'same_kind'"
     ]
    }
   ],
   "source": [
    "currents = np.linspace(-1e-4, 1e-4)\n",
    "# tls.dc_energy_spectrum_1d('1', pad, phi_grid, currents, omegas[:2], modes[:2], kerr_matrix,\n",
    "#                               cutoff=4)\n",
    "cutoff = 5\n",
    "energies = np.zeros((len(currents), cutoff))\n",
    "for current_id, current in enumerate(currents):\n",
    "    pad.idc = current\n",
    "    psi_dc = tls.get_psi_dc(modes[:2], tls.i_dc())\n",
    "    dc_phase = tls.get_phi_dc(modes[:2], tls.i_dc())\n",
    "    print(dc_phase)\n",
    "    modes_subsystems = tls.define_modes_parameters(omegas[:2], modes[:2], kerr_matrix, dc_phase, epsilon_cross=0.005)\n",
    "    E, wavefunctions = tls.solve_hamiltonian_eig_1d(modes_subsystems['1'], phi_grid, dc_phase, cutoff=cutoff)\n",
    "    energies[current_id, :] = np.asarray(E)\n",
    "\n",
    "plt.plot(currents, energies)"
   ]
  },
  {
   "cell_type": "code",
   "execution_count": 25,
   "id": "8c5cbe74",
   "metadata": {},
   "outputs": [
    {
     "name": "stdout",
     "output_type": "stream",
     "text": [
      "> \u001b[1;32md:\\documents-cloud\\qubits\\simulation\\qcreator\\qcreator\\transmission_line_simulator.py\u001b[0m(2333)\u001b[0;36mpotential_1d\u001b[1;34m()\u001b[0m\n",
      "\u001b[1;32m   2331 \u001b[1;33m    \u001b[1;32mfor\u001b[0m \u001b[0mjj_id\u001b[0m\u001b[1;33m,\u001b[0m \u001b[0me_j\u001b[0m \u001b[1;32min\u001b[0m \u001b[0menumerate\u001b[0m\u001b[1;33m(\u001b[0m\u001b[0me_j\u001b[0m\u001b[1;33m)\u001b[0m\u001b[1;33m:\u001b[0m\u001b[1;33m\u001b[0m\u001b[1;33m\u001b[0m\u001b[0m\n",
      "\u001b[0m\u001b[1;32m   2332 \u001b[1;33m        \u001b[0mphi_dc_jj\u001b[0m \u001b[1;33m=\u001b[0m \u001b[0mphi_dc\u001b[0m\u001b[1;33m[\u001b[0m\u001b[0mjj_id\u001b[0m\u001b[1;33m]\u001b[0m\u001b[1;33m[\u001b[0m\u001b[1;36m0\u001b[0m\u001b[1;33m]\u001b[0m\u001b[1;33m\u001b[0m\u001b[1;33m\u001b[0m\u001b[0m\n",
      "\u001b[0m\u001b[1;32m-> 2333 \u001b[1;33m        \u001b[0mpotential\u001b[0m \u001b[1;33m+=\u001b[0m \u001b[0me_j\u001b[0m \u001b[1;33m*\u001b[0m \u001b[1;33m(\u001b[0m\u001b[1;36m1\u001b[0m \u001b[1;33m-\u001b[0m \u001b[0mnp\u001b[0m\u001b[1;33m.\u001b[0m\u001b[0mcos\u001b[0m\u001b[1;33m(\u001b[0m\u001b[0malpha\u001b[0m\u001b[1;33m[\u001b[0m\u001b[0mjj_id\u001b[0m\u001b[1;33m]\u001b[0m\u001b[1;33m[\u001b[0m\u001b[1;36m0\u001b[0m\u001b[1;33m]\u001b[0m \u001b[1;33m*\u001b[0m \u001b[0mphi\u001b[0m \u001b[1;33m+\u001b[0m \u001b[0mphi_dc_jj\u001b[0m\u001b[1;33m)\u001b[0m\u001b[1;33m)\u001b[0m\u001b[1;33m\u001b[0m\u001b[1;33m\u001b[0m\u001b[0m\n",
      "\u001b[0m\u001b[1;32m   2334 \u001b[1;33m    \u001b[1;32mreturn\u001b[0m \u001b[0mpotential\u001b[0m\u001b[1;33m\u001b[0m\u001b[1;33m\u001b[0m\u001b[0m\n",
      "\u001b[0m\u001b[1;32m   2335 \u001b[1;33m\u001b[1;33m\u001b[0m\u001b[0m\n",
      "\u001b[0m\n",
      "ipdb> phi\n",
      "array([-7.85398163, -7.80162176, -7.74926188, -7.696902  , -7.64454212,\n",
      "       -7.59218225, -7.53982237, -7.48746249, -7.43510261, -7.38274274,\n",
      "       -7.33038286, -7.27802298, -7.2256631 , -7.17330323, -7.12094335,\n",
      "       -7.06858347, -7.01622359, -6.96386372, -6.91150384, -6.85914396,\n",
      "       -6.80678408, -6.75442421, -6.70206433, -6.64970445, -6.59734457,\n",
      "       -6.54498469, -6.49262482, -6.44026494, -6.38790506, -6.33554518,\n",
      "       -6.28318531, -6.23082543, -6.17846555, -6.12610567, -6.0737458 ,\n",
      "       -6.02138592, -5.96902604, -5.91666616, -5.86430629, -5.81194641,\n",
      "       -5.75958653, -5.70722665, -5.65486678, -5.6025069 , -5.55014702,\n",
      "       -5.49778714, -5.44542727, -5.39306739, -5.34070751, -5.28834763,\n",
      "       -5.23598776, -5.18362788, -5.131268  , -5.07890812, -5.02654825,\n",
      "       -4.97418837, -4.92182849, -4.86946861, -4.81710874, -4.76474886,\n",
      "       -4.71238898, -4.6600291 , -4.60766923, -4.55530935, -4.50294947,\n",
      "       -4.45058959, -4.39822972, -4.34586984, -4.29350996, -4.24115008,\n",
      "       -4.1887902 , -4.13643033, -4.08407045, -4.03171057, -3.97935069,\n",
      "       -3.92699082, -3.87463094, -3.82227106, -3.76991118, -3.71755131,\n",
      "       -3.66519143, -3.61283155, -3.56047167, -3.5081118 , -3.45575192,\n",
      "       -3.40339204, -3.35103216, -3.29867229, -3.24631241, -3.19395253,\n",
      "       -3.14159265, -3.08923278, -3.0368729 , -2.98451302, -2.93215314,\n",
      "       -2.87979327, -2.82743339, -2.77507351, -2.72271363, -2.67035376,\n",
      "       -2.61799388, -2.565634  , -2.51327412, -2.46091425, -2.40855437,\n",
      "       -2.35619449, -2.30383461, -2.25147474, -2.19911486, -2.14675498,\n",
      "       -2.0943951 , -2.04203522, -1.98967535, -1.93731547, -1.88495559,\n",
      "       -1.83259571, -1.78023584, -1.72787596, -1.67551608, -1.6231562 ,\n",
      "       -1.57079633, -1.51843645, -1.46607657, -1.41371669, -1.36135682,\n",
      "       -1.30899694, -1.25663706, -1.20427718, -1.15191731, -1.09955743,\n",
      "       -1.04719755, -0.99483767, -0.9424778 , -0.89011792, -0.83775804,\n",
      "       -0.78539816, -0.73303829, -0.68067841, -0.62831853, -0.57595865,\n",
      "       -0.52359878, -0.4712389 , -0.41887902, -0.36651914, -0.31415927,\n",
      "       -0.26179939, -0.20943951, -0.15707963, -0.10471976, -0.05235988,\n",
      "        0.        ,  0.05235988,  0.10471976,  0.15707963,  0.20943951,\n",
      "        0.26179939,  0.31415927,  0.36651914,  0.41887902,  0.4712389 ,\n",
      "        0.52359878,  0.57595865,  0.62831853,  0.68067841,  0.73303829,\n",
      "        0.78539816,  0.83775804,  0.89011792,  0.9424778 ,  0.99483767,\n",
      "        1.04719755,  1.09955743,  1.15191731,  1.20427718,  1.25663706,\n",
      "        1.30899694,  1.36135682,  1.41371669,  1.46607657,  1.51843645,\n",
      "        1.57079633,  1.6231562 ,  1.67551608,  1.72787596,  1.78023584,\n",
      "        1.83259571,  1.88495559,  1.93731547,  1.98967535,  2.04203522,\n",
      "        2.0943951 ,  2.14675498,  2.19911486,  2.25147474,  2.30383461,\n",
      "        2.35619449,  2.40855437,  2.46091425,  2.51327412,  2.565634  ,\n",
      "        2.61799388,  2.67035376,  2.72271363,  2.77507351,  2.82743339,\n",
      "        2.87979327,  2.93215314,  2.98451302,  3.0368729 ,  3.08923278,\n",
      "        3.14159265,  3.19395253,  3.24631241,  3.29867229,  3.35103216,\n",
      "        3.40339204,  3.45575192,  3.5081118 ,  3.56047167,  3.61283155,\n",
      "        3.66519143,  3.71755131,  3.76991118,  3.82227106,  3.87463094,\n",
      "        3.92699082,  3.97935069,  4.03171057,  4.08407045,  4.13643033,\n",
      "        4.1887902 ,  4.24115008,  4.29350996,  4.34586984,  4.39822972,\n",
      "        4.45058959,  4.50294947,  4.55530935,  4.60766923,  4.6600291 ,\n",
      "        4.71238898,  4.76474886,  4.81710874,  4.86946861,  4.92182849,\n",
      "        4.97418837,  5.02654825,  5.07890812,  5.131268  ,  5.18362788,\n",
      "        5.23598776,  5.28834763,  5.34070751,  5.39306739,  5.44542727,\n",
      "        5.49778714,  5.55014702,  5.6025069 ,  5.65486678,  5.70722665,\n",
      "        5.75958653,  5.81194641,  5.86430629,  5.91666616,  5.96902604,\n",
      "        6.02138592,  6.0737458 ,  6.12610567,  6.17846555,  6.23082543,\n",
      "        6.28318531,  6.33554518,  6.38790506,  6.44026494,  6.49262482,\n",
      "        6.54498469,  6.59734457,  6.64970445,  6.70206433,  6.75442421,\n",
      "        6.80678408,  6.85914396,  6.91150384,  6.96386372,  7.01622359,\n",
      "        7.06858347,  7.12094335,  7.17330323,  7.2256631 ,  7.27802298,\n",
      "        7.33038286,  7.38274274,  7.43510261,  7.48746249,  7.53982237,\n",
      "        7.59218225,  7.64454212,  7.696902  ,  7.74926188,  7.80162176,\n",
      "        7.85398163])\n",
      "ipdb> phi_dc_jj\n",
      "0j\n",
      "ipdb> quit\n"
     ]
    }
   ],
   "source": [
    "%debug"
   ]
  },
  {
   "cell_type": "code",
   "execution_count": null,
   "id": "793d7cfc",
   "metadata": {},
   "outputs": [],
   "source": []
  }
 ],
 "metadata": {
  "kernelspec": {
   "display_name": "Python 3 (ipykernel)",
   "language": "python",
   "name": "python3"
  },
  "language_info": {
   "codemirror_mode": {
    "name": "ipython",
    "version": 3
   },
   "file_extension": ".py",
   "mimetype": "text/x-python",
   "name": "python",
   "nbconvert_exporter": "python",
   "pygments_lexer": "ipython3",
   "version": "3.8.5"
  }
 },
 "nbformat": 4,
 "nbformat_minor": 5
}
