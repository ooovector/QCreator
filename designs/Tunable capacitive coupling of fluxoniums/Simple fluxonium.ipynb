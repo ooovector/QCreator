{
 "cells": [
  {
   "cell_type": "code",
   "execution_count": 1,
   "id": "e7521291",
   "metadata": {},
   "outputs": [],
   "source": [
    "import sys\n",
    "sys.path.append('..\\\\..')\n",
    "import gdspy\n",
    "import numpy as np\n",
    "from importlib import reload\n",
    "from copy import deepcopy\n",
    "from QCreator import elements\n",
    "from QCreator import general_sample_creator as creator\n",
    "from QCreator import meshing\n",
    "reload(gdspy)\n",
    "\n",
    "import matplotlib.pyplot as plt"
   ]
  },
  {
   "cell_type": "code",
   "execution_count": 2,
   "id": "08ef98ea",
   "metadata": {},
   "outputs": [],
   "source": [
    "jc = 0.5e-6  # 1e-6 # uA/um^2\n",
    "layers_configuration = {\n",
    "    'total': 0,\n",
    "    'restricted area': 10,\n",
    "    'for removing': 100,\n",
    "    'JJs': 1,\n",
    "    'air bridges': 2,\n",
    "    'air bridge pads': 3,\n",
    "    'air bridge sm pads': 4,\n",
    "    'vertical gridlines': 0,\n",
    "    'horizontal gridlines': 0,\n",
    "    'inverted': 101,\n",
    "    'bandages': 20\n",
    "}\n",
    "\n",
    "sample = creator.Sample('simple_fluxonium', layers_configuration)\n",
    "\n",
    "# specify sample vertical and horizontal lengths\n",
    "sample.chip_geometry.sample_vertical_size = 4.7e3\n",
    "sample.chip_geometry.sample_horizontal_size = 4.7e3\n",
    "chip_edge_ground = elements.ChipEdgeGround(sample.chip_geometry, sample.layer_configuration, sample.pads, 350)\n",
    "sample.add(chip_edge_ground)"
   ]
  },
  {
   "cell_type": "code",
   "execution_count": 3,
   "id": "32c34528",
   "metadata": {},
   "outputs": [],
   "source": [
    "# qubit params\n",
    "flux_w = 10\n",
    "flux_s = 6\n",
    "flux_g = 20"
   ]
  },
  {
   "cell_type": "code",
   "execution_count": 4,
   "id": "0aee5f42",
   "metadata": {},
   "outputs": [],
   "source": [
    "fluxonium_squid =  {'jjs_height': 0.1,\n",
    "                             'jjs_width': 0.115,\n",
    "                             'jj_lead_width':0.5,\n",
    "                             'chain_width':1.0,\n",
    "                             'ics': 0.1*0.115*jc,\n",
    "                             'icb': 0.5*1.0*jc,\n",
    "                             'chain_junctions': 45,\n",
    "                             'lm': 3.3e-12,\n",
    "                             'squid_orientation': 'horizontal',\n",
    "                             'jjs_distance': 0.16,\n",
    "                             'chain_jj_distance': 0.1,\n",
    "                             'chain_top_offset': 1.0,\n",
    "                             'flux_line_outer_extension': 11}"
   ]
  },
  {
   "cell_type": "code",
   "execution_count": 5,
   "id": "caa2aa5c",
   "metadata": {},
   "outputs": [
    {
     "name": "stdout",
     "output_type": "stream",
     "text": [
      "{'jjs_height': 0.1, 'jjs_width': 0.115, 'jj_lead_width': 0.5, 'chain_width': 1.0, 'ics': 5.75e-09, 'icb': 2.5e-07, 'chain_junctions': 45, 'lm': 3.3e-12, 'squid_orientation': 'horizontal', 'jjs_distance': 0.16, 'chain_jj_distance': 0.1, 'chain_top_offset': 1.0, 'flux_line_outer_extension': 11}\n"
     ]
    }
   ],
   "source": [
    "from QCreator.elements.gflux_squid import GFluxControllableSquid\n",
    "\n",
    "sl_position = (2350, 2350)\n",
    "\n",
    "fluxonium_w = 20\n",
    "fluxonium_s = 15\n",
    "fluxonium_g = 30\n",
    "\n",
    "squid = GFluxControllableSquid(name='fluxonium-squid', \n",
    "                               position=sl_position, \n",
    "                               w=fluxonium_w, s=fluxonium_s, g=fluxonium_g,\n",
    "                               layer_configuration=sample.layer_configuration, \n",
    "                               squid_params=fluxonium_squid,\n",
    "                               flux_w=flux_w, flux_s=flux_s, flux_g=flux_g)\n",
    "\n",
    "sample.add(squid)"
   ]
  },
  {
   "cell_type": "code",
   "execution_count": 6,
   "id": "2999a87f",
   "metadata": {},
   "outputs": [],
   "source": [
    "fluxonium_cap_length = 400\n",
    "open_ends = []\n",
    "capacitors = []\n",
    "for open_end_id, port_name in enumerate(['port1', 'port2']):\n",
    "    position = -np.exp(1j*squid.get_terminals()[port_name].orientation)*fluxonium_cap_length\n",
    "    position = np.asarray([np.real(position), np.imag(position)])\n",
    "    position += squid.get_terminals()[port_name].position\n",
    "    \n",
    "    open_end = elements.OpenEnd(name='fluxonium-open-end'+str(open_end_id),\n",
    "                                position=position,\n",
    "                                 w=[squid.get_terminals()[port_name].w],\n",
    "                                 s=[squid.get_terminals()[port_name].s, squid.get_terminals()[port_name].s],\n",
    "                                 g=squid.get_terminals()[port_name].g,\n",
    "                                 orientation=squid.get_terminals()[port_name].orientation+np.pi,\n",
    "                                 layer_configuration=sample.layer_configuration,\n",
    "                                 h1=20,\n",
    "                                 h2=10)\n",
    "    open_ends.append(open_end)\n",
    "    sample.add(open_end)\n",
    "    capacitor = sample.connect_cpw(open_end, squid, 'wide', port_name, points=[], \n",
    "                                   name='fluxonium-cap'+str(open_end_id))"
   ]
  },
  {
   "cell_type": "markdown",
   "id": "86006eb6",
   "metadata": {},
   "source": [
    "# Add DC line"
   ]
  },
  {
   "cell_type": "code",
   "execution_count": 7,
   "id": "f40a2dfa",
   "metadata": {},
   "outputs": [
    {
     "data": {
      "text/plain": [
       "[CPW \"flux-line\", l=1695.000]"
      ]
     },
     "execution_count": 7,
     "metadata": {},
     "output_type": "execute_result"
    }
   ],
   "source": [
    "pad_geometry = {'pad_w': 250, 'pad_s': 146, 'pad_g': 8, 'pad_length': 250, 'narrowing_length': 100, 'stub_length': 100,\n",
    "                'z0': 50}\n",
    "pad = elements.Pad('pad',\n",
    "                   (2350, 600),\n",
    "                   -np.pi/2,\n",
    "                   flux_w,\n",
    "                   flux_s, flux_g,\n",
    "                   layer_configuration=sample.layer_configuration, chip_geometry=sample.chip_geometry,\n",
    "                   **pad_geometry)\n",
    "sample.add(pad)\n",
    "sample.connect_cpw(pad, squid, 'port', 'flux', name='flux-line', points=[])"
   ]
  },
  {
   "cell_type": "code",
   "execution_count": 23,
   "id": "581ea571",
   "metadata": {},
   "outputs": [],
   "source": [
    "sample.draw_design()\n",
    "sample.watch()"
   ]
  },
  {
   "cell_type": "markdown",
   "id": "74b127c5",
   "metadata": {},
   "source": [
    "# TLS simulation"
   ]
  },
  {
   "cell_type": "code",
   "execution_count": 10,
   "id": "7d33330f",
   "metadata": {},
   "outputs": [
    {
     "data": {
      "text/plain": [
       "array([2.63968085e+09, 4.62027710e+09, 3.52904445e+10, 6.95610536e+10,\n",
       "       8.85696048e+10, 8.90747435e+10, 9.75815628e+10, 1.01024231e+11,\n",
       "       1.16399483e+11, 1.17534290e+11, 1.50245721e+11, 1.50341745e+11,\n",
       "       3.01095656e+11, 3.01143596e+11, 4.05504263e+11, 4.05517367e+11,\n",
       "       4.68027634e+11, 4.68027634e+11, 4.68028275e+11, 4.68028275e+11,\n",
       "       4.74583096e+11, 4.74613537e+11, 5.11696558e+11, 5.11696558e+11,\n",
       "       5.11717516e+11, 5.11717516e+11])"
      ]
     },
     "execution_count": 10,
     "metadata": {},
     "output_type": "execute_result"
    }
   ],
   "source": [
    "tls, connections_flat, element_assignments = sample.get_tls()\n",
    "omegas, gammas, modes = tls.get_modes()\n",
    "omegas/(2*np.pi)"
   ]
  },
  {
   "cell_type": "code",
   "execution_count": 22,
   "id": "2cadd170",
   "metadata": {},
   "outputs": [
    {
     "data": {
      "text/plain": [
       "array([ 3.28979850e+07,  5.80499398e+07,  6.66106712e-01,  1.27691052e+00,\n",
       "        4.69101815e-01,  8.47457021e-01,  6.75566136e+00,  5.24978112e+00,\n",
       "       -9.67252273e-01, -9.53782119e-01,  9.65334943e+08,  9.66711268e+08,\n",
       "        1.95573814e+09,  1.95383543e+09,  7.09982965e+09,  7.20461039e+09,\n",
       "        9.84092730e-01, -9.84092730e-01,  9.84028690e-01, -9.84028690e-01,\n",
       "        3.09722950e+09,  3.08271630e+09, -8.49970034e-01,  8.49970034e-01,\n",
       "       -8.50039702e-01,  8.50039702e-01])"
      ]
     },
     "execution_count": 22,
     "metadata": {},
     "output_type": "execute_result"
    }
   ],
   "source": [
    "omegas/(2*gammas)"
   ]
  },
  {
   "cell_type": "code",
   "execution_count": 13,
   "id": "133b5cbd",
   "metadata": {},
   "outputs": [
    {
     "data": {
      "text/plain": [
       "array([[-3.49989879e+06, -3.98236900e+06],\n",
       "       [-3.98236900e+06, -4.23274961e+08]])"
      ]
     },
     "execution_count": 13,
     "metadata": {},
     "output_type": "execute_result"
    }
   ],
   "source": [
    "kerr_matrix = tls.get_perturbation([0, 1])\n",
    "kerr_matrix"
   ]
  },
  {
   "cell_type": "markdown",
   "id": "e620642a",
   "metadata": {},
   "source": [
    "## Zero flux \n",
    "\n",
    "$\n",
    "\\hat{H} = 4 E_c \\hat{n}^2 + \\frac{1}{2} E_L \\hat{\\phi}^2 + \\sum\\limits_{i=1}^3 E_{ji} \\left(1-\\cos\\left(\\alpha_i\\phi_i\\right)\\right)$"
   ]
  },
  {
   "cell_type": "code",
   "execution_count": 14,
   "id": "f4b67e51",
   "metadata": {},
   "outputs": [
    {
     "data": {
      "text/plain": [
       "{'0': {'subsystem_id': [0],\n",
       "  'Ec': array([[6.2795444e-25]]),\n",
       "  'El': array([[6.36007375e-28]]),\n",
       "  'Ej': [1.8923593762338568e-24, 3.70244225784885e-21, 3.70244225784885e-21],\n",
       "  'alpha': array([[1.09759905e-05],\n",
       "         [9.06397276e-03],\n",
       "         [9.06371177e-03]]),\n",
       "  'dc_phase': array([[0.],\n",
       "         [0.],\n",
       "         [0.]])},\n",
       " '1': {'subsystem_id': [1],\n",
       "  'Ec': array([[6.27634928e-25]]),\n",
       "  'El': array([[5.83502789e-27]]),\n",
       "  'Ej': [1.8923593762338568e-24, 3.70244225784885e-21, 3.70244225784885e-21],\n",
       "  'alpha': array([[ 0.81426122],\n",
       "         [-0.00904747],\n",
       "         [ 0.00904672]]),\n",
       "  'dc_phase': array([[0.],\n",
       "         [0.],\n",
       "         [0.]])}}"
      ]
     },
     "execution_count": 14,
     "metadata": {},
     "output_type": "execute_result"
    }
   ],
   "source": [
    "modes_subsystems = tls.define_modes_parameters(\n",
    "            omegas[:2]/(2 * np.pi), modes[:2], kerr_matrix,\n",
    "            tls.get_phi_dc(modes[:2], tls.i_dc()), epsilon_cross=0.005)\n",
    "\n",
    "modes_subsystems"
   ]
  },
  {
   "cell_type": "markdown",
   "id": "727e227b",
   "metadata": {},
   "source": [
    "$$\n",
    "\\hat{H} = 4 \\left\\{ \\hat{n}_1 \\hat{n}_2 \\right\\}^T \\mathbf{E}_{c} \\left\\{ \\hat{n}_1 \\hat{n}_2 \\right\\} + \\frac{1}{2} \\left\\{ \\hat{\\phi}_1 \\hat{\\phi}_2 \\right\\} \\mathbf{E}_{L} \\left\\{ \\hat{\\phi}_1 \\hat{\\phi}_2 \\right\\}^T + \\sum\\limits_{i=1}^3 E_{ji} \\left(1-\\cos\\left(\\alpha_{i2}\\phi_{1} + \\alpha_{i2}\\phi_{2}\\right)\\right)$$"
   ]
  },
  {
   "cell_type": "code",
   "execution_count": 24,
   "id": "ec8870e1",
   "metadata": {},
   "outputs": [
    {
     "data": {
      "text/plain": [
       "{'0': {'subsystem_id': [1, 0],\n",
       "  'Ec': array([[6.27634928e-25, 0.00000000e+00],\n",
       "         [0.00000000e+00, 6.27954440e-25]]),\n",
       "  'El': array([[5.83502789e-27, 0.00000000e+00],\n",
       "         [0.00000000e+00, 6.36007375e-28]]),\n",
       "  'Ej': [1.8923593762338568e-24,\n",
       "   3.70244225784885e-21,\n",
       "   3.70244225784885e-21,\n",
       "   1.8923593762338568e-24,\n",
       "   3.70244225784885e-21,\n",
       "   3.70244225784885e-21],\n",
       "  'alpha': array([[ 8.14261223e-01,  1.09759905e-05],\n",
       "         [-9.04746865e-03,  9.06397276e-03],\n",
       "         [ 9.04672125e-03,  9.06371177e-03]]),\n",
       "  'dc_phase': array([[-1.96477289, -1.96477289],\n",
       "         [-0.03469167, -0.03469167],\n",
       "         [-0.07834893, -0.07834893]])}}"
      ]
     },
     "execution_count": 24,
     "metadata": {},
     "output_type": "execute_result"
    }
   ],
   "source": [
    "modes_subsystems = tls.define_modes_parameters(\n",
    "            omegas[:2]/(2 * np.pi), modes[:2], kerr_matrix,\n",
    "            tls.get_phi_dc(modes[:2], tls.i_dc()), epsilon_cross=0.001)\n",
    "\n",
    "modes_subsystems"
   ]
  },
  {
   "cell_type": "code",
   "execution_count": 15,
   "id": "80b5cd60",
   "metadata": {},
   "outputs": [
    {
     "data": {
      "image/png": "[encoded data removed]",
      "text/plain": [
       "<Figure size 432x288 with 1 Axes>"
      ]
     },
     "metadata": {
      "needs_background": "light"
     },
     "output_type": "display_data"
    },
    {
     "data": {
      "text/plain": [
       "array([4.18016207e+09, 3.70472325e+09, 3.20065371e+09, 2.71640611e+09])"
      ]
     },
     "execution_count": 15,
     "metadata": {},
     "output_type": "execute_result"
    }
   ],
   "source": [
    "subsystem = modes_subsystems['1']\n",
    "phi_grid = np.linspace(-np.pi*2.5, np.pi*2.5, 601)\n",
    "dc_phase = modes_subsystems['1']['dc_phase']\n",
    "tls.plot_wavefunctions_1d(subsystem, phi_grid, dc_phase, cutoff=5)\n",
    "energies, wavefunctions = tls.solve_hamiltonian_eig_1d(subsystem, phi_grid, dc_phase, cutoff=5)\n",
    "(energies[1:] - energies[:-1]) / (2 * np.pi * 1.054e-34)"
   ]
  },
  {
   "cell_type": "code",
   "execution_count": 16,
   "id": "550a5ab3",
   "metadata": {},
   "outputs": [
    {
     "data": {
      "image/png": "[encoded data removed]",
      "text/plain": [
       "<Figure size 432x288 with 1 Axes>"
      ]
     },
     "metadata": {
      "needs_background": "light"
     },
     "output_type": "display_data"
    },
    {
     "data": {
      "text/plain": [
       "array([2.64072018e+09, 2.64033073e+09, 2.63997835e+09, 2.63991098e+09])"
      ]
     },
     "execution_count": 16,
     "metadata": {},
     "output_type": "execute_result"
    }
   ],
   "source": [
    "subsystem = modes_subsystems['0']\n",
    "phi_grid = np.linspace(-np.pi*2.5, np.pi*2.5, 301)\n",
    "dc_phase = modes_subsystems['0']['dc_phase']\n",
    "tls.plot_wavefunctions_1d(subsystem, phi_grid, dc_phase, cutoff=5)\n",
    "energies, wavefunctions = tls.solve_hamiltonian_eig_1d(subsystem, phi_grid, dc_phase, cutoff=5)\n",
    "(energies[1:] - energies[:-1]) / (2 * np.pi * 1.054e-34)"
   ]
  },
  {
   "cell_type": "markdown",
   "id": "063dcfbd",
   "metadata": {},
   "source": [
    "## Half flux quantum"
   ]
  },
  {
   "cell_type": "code",
   "execution_count": 17,
   "id": "a7816e6a",
   "metadata": {},
   "outputs": [
    {
     "name": "stdout",
     "output_type": "stream",
     "text": [
      "{'subsystem_id': [1], 'Ec': array([[6.27634928e-25]]), 'El': array([[5.83502789e-27]]), 'Ej': [1.8923593762338568e-24, 3.70244225784885e-21, 3.70244225784885e-21], 'alpha': array([[ 0.81426122],\n",
      "       [-0.00904747],\n",
      "       [ 0.00904672]]), 'dc_phase': array([[-0.02967001],\n",
      "       [-0.00075057],\n",
      "       [-0.00140983]])}\n"
     ]
    },
    {
     "data": {
      "image/png": "[encoded data removed]",
      "text/plain": [
       "<Figure size 432x288 with 1 Axes>"
      ]
     },
     "metadata": {
      "needs_background": "light"
     },
     "output_type": "display_data"
    },
    {
     "data": {
      "text/plain": [
       "array([4.18010118e+09, 3.70505235e+09, 3.20683652e+09, 2.75774904e+09])"
      ]
     },
     "execution_count": 17,
     "metadata": {},
     "output_type": "execute_result"
    }
   ],
   "source": [
    "pad.tls_cache[-1].idc = 0.1e-4\n",
    "modes_subsystems = tls.define_modes_parameters(\n",
    "            omegas[:2]/(2 * np.pi), modes[:2], kerr_matrix,\n",
    "            tls.get_phi_dc(modes[:2], tls.i_dc()), epsilon_cross=0.005)\n",
    "\n",
    "\n",
    "subsystem = modes_subsystems['1']\n",
    "print (subsystem)\n",
    "phi_grid = np.linspace(-2*np.pi, np.pi*4, 601)\n",
    "dc_phase = modes_subsystems['1']['dc_phase']\n",
    "tls.plot_wavefunctions_1d(subsystem, phi_grid, dc_phase, cutoff=5)\n",
    "energies, wavefunctions = tls.solve_hamiltonian_eig_1d(subsystem, phi_grid, dc_phase, cutoff=5)\n",
    "(energies[1:] - energies[:-1]) / (2 * np.pi * 1.054e-34)"
   ]
  },
  {
   "cell_type": "code",
   "execution_count": 18,
   "id": "29fa5a0a",
   "metadata": {},
   "outputs": [
    {
     "name": "stderr",
     "output_type": "stream",
     "text": [
      "C:\\Users\\iliab\\anaconda3\\lib\\site-packages\\scipy\\optimize\\_minimize.py:527: RuntimeWarning: Method BFGS does not use Hessian information (hess).\n",
      "  warn('Method %s does not use Hessian information (hess).' % method,\n"
     ]
    },
    {
     "name": "stdout",
     "output_type": "stream",
     "text": [
      "{'subsystem_id': [1], 'Ec': array([[6.27634928e-25]]), 'El': array([[5.83502789e-27]]), 'Ej': [1.8923593762338568e-24, 3.70244225784885e-21, 3.70244225784885e-21], 'alpha': array([[ 0.81426122],\n",
      "       [-0.00904747],\n",
      "       [ 0.00904672]]), 'dc_phase': array([[-1.96477289],\n",
      "       [-0.03469167],\n",
      "       [-0.07834893]])}\n",
      "[[1.1601693780984839], [0.021089591029805937], [-0.021089589642413465]]\n"
     ]
    },
    {
     "data": {
      "image/png": "[encoded data removed]",
      "text/plain": [
       "<Figure size 432x288 with 1 Axes>"
      ]
     },
     "metadata": {
      "needs_background": "light"
     },
     "output_type": "display_data"
    },
    {
     "data": {
      "text/plain": [
       "array([1.03915929e+09, 2.23178491e+09, 2.38667271e+09, 2.66396374e+09])"
      ]
     },
     "execution_count": 18,
     "metadata": {},
     "output_type": "execute_result"
    }
   ],
   "source": [
    "pad.tls_cache[-1].idc = 3.05e-4\n",
    "subsystems = tls.get_scdc_subsystems()\n",
    "tls.set_scdc_subsystem_phases(subsystems)\n",
    "\n",
    "modes_subsystems = tls.define_modes_parameters(\n",
    "            omegas[:2]/(2 * np.pi), modes[:2], kerr_matrix,\n",
    "            tls.get_phi_dc(modes[:2], tls.i_dc()), epsilon_cross=0.005)\n",
    "\n",
    "\n",
    "subsystem = modes_subsystems['1']\n",
    "print (subsystem)\n",
    "phi_grid = np.linspace(-2*np.pi, np.pi*4, 601)\n",
    "dc_phase = [[tls.elements[1].stationary_phase/tls.elements[1].n_junctions], \n",
    "            [tls.elements[2].stationary_phase/tls.elements[2].n_junctions], \n",
    "            [tls.elements[3].stationary_phase/tls.elements[3].n_junctions]]\n",
    "print (dc_phase)\n",
    "tls.plot_wavefunctions_1d(subsystem, phi_grid, dc_phase, cutoff=5)\n",
    "energies, wavefunctions = tls.solve_hamiltonian_eig_1d(subsystem, phi_grid, dc_phase, cutoff=5)\n",
    "(energies[1:] - energies[:-1]) / (2 * np.pi * 1.054e-34)"
   ]
  },
  {
   "cell_type": "code",
   "execution_count": 67,
   "id": "a2639053",
   "metadata": {},
   "outputs": [
    {
     "data": {
      "text/plain": [
       "0.0006060606060606061"
      ]
     },
     "execution_count": 67,
     "metadata": {},
     "output_type": "execute_result"
    }
   ],
   "source": [
    "2e-15/tls.elements[4].L"
   ]
  },
  {
   "cell_type": "code",
   "execution_count": null,
   "id": "bbba01f7",
   "metadata": {},
   "outputs": [],
   "source": []
  }
 ],
 "metadata": {
  "kernelspec": {
   "display_name": "Python 3 (ipykernel)",
   "language": "python",
   "name": "python3"
  },
  "language_info": {
   "codemirror_mode": {
    "name": "ipython",
    "version": 3
   },
   "file_extension": ".py",
   "mimetype": "text/x-python",
   "name": "python",
   "nbconvert_exporter": "python",
   "pygments_lexer": "ipython3",
   "version": "3.9.12"
  }
 },
 "nbformat": 4,
 "nbformat_minor": 5
}
