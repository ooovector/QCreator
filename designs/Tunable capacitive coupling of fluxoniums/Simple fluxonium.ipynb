{
 "cells": [
  {
   "cell_type": "code",
   "execution_count": 1,
   "id": "a032fc3a",
   "metadata": {},
   "outputs": [
    {
     "data": {
      "text/plain": [
       "<module 'gdspy' from 'C:\\\\ProgramData\\\\Anaconda3\\\\envs\\\\py38\\\\lib\\\\site-packages\\\\gdspy\\\\__init__.py'>"
      ]
     },
     "execution_count": 1,
     "metadata": {},
     "output_type": "execute_result"
    }
   ],
   "source": [
    "import sys\n",
    "sys.path.append('..\\\\..')\n",
    "import gdspy\n",
    "import numpy as np\n",
    "from importlib import reload\n",
    "from copy import deepcopy\n",
    "from QCreator import elements\n",
    "from QCreator import general_sample_creator as creator\n",
    "from QCreator import meshing\n",
    "reload(gdspy)\n"
   ]
  },
  {
   "cell_type": "code",
   "execution_count": 2,
   "id": "fa754d11",
   "metadata": {},
   "outputs": [],
   "source": [
    "jc = 0.5e-6  # 1e-6 # uA/um^2\n",
    "layers_configuration = {\n",
    "    'total': 0,\n",
    "    'restricted area': 10,\n",
    "    'for removing': 100,\n",
    "    'JJs': 1,\n",
    "    'air bridges': 2,\n",
    "    'air bridge pads': 3,\n",
    "    'air bridge sm pads': 4,\n",
    "    'vertical gridlines': 0,\n",
    "    'horizontal gridlines': 0,\n",
    "    'inverted': 101,\n",
    "    'bandages': 20\n",
    "}\n",
    "\n",
    "sample = creator.Sample('simple_fluxonium', layers_configuration)\n",
    "\n",
    "# specify sample vertical and horizontal lengths\n",
    "sample.chip_geometry.sample_vertical_size = 4.7e3\n",
    "sample.chip_geometry.sample_horizontal_size = 4.7e3\n",
    "chip_edge_ground = elements.ChipEdgeGround(sample.chip_geometry, sample.layer_configuration, sample.pads, 350)\n",
    "sample.add(chip_edge_ground)"
   ]
  },
  {
   "cell_type": "code",
   "execution_count": 3,
   "id": "91ad52d4",
   "metadata": {},
   "outputs": [],
   "source": [
    "# qubit params\n",
    "flux_w = 10\n",
    "flux_s = 6\n",
    "flux_g = 20"
   ]
  },
  {
   "cell_type": "code",
   "execution_count": 4,
   "id": "fff7ba4c",
   "metadata": {},
   "outputs": [],
   "source": [
    "fluxonium_squid =  {'jjs_height': 0.1,\n",
    "                             'jjs_width': 0.115,\n",
    "                             'jj_lead_width':0.5,\n",
    "                             'chain_width':1.0,\n",
    "                             'ics': 0.1*0.115*jc,\n",
    "                             'icb': 0.5*1.0*jc,\n",
    "                             'chain_junctions': 45,\n",
    "                             'lm': 3.3e-12,\n",
    "                             'squid_orientation': 'horizontal',\n",
    "                             'jjs_distance': 0.16,\n",
    "                             'chain_jj_distance': 0.1,\n",
    "                             'chain_top_offset': 1.0,\n",
    "                             'flux_line_outer_extension': 11}"
   ]
  },
  {
   "cell_type": "code",
   "execution_count": 5,
   "id": "cb7816dc",
   "metadata": {},
   "outputs": [
    {
     "name": "stdout",
     "output_type": "stream",
     "text": [
      "{'jjs_height': 0.1, 'jjs_width': 0.115, 'jj_lead_width': 0.5, 'chain_width': 1.0, 'ics': 5.75e-09, 'icb': 2.5e-07, 'chain_junctions': 45, 'lm': 3.3e-12, 'squid_orientation': 'horizontal', 'jjs_distance': 0.16, 'chain_jj_distance': 0.1, 'chain_top_offset': 1.0, 'flux_line_outer_extension': 11}\n"
     ]
    }
   ],
   "source": [
    "from QCreator.elements.gflux_squid import GFluxControllableSquid\n",
    "\n",
    "sl_position = (2350, 2350)\n",
    "\n",
    "fluxonium_w = 20\n",
    "fluxonium_s = 15\n",
    "fluxonium_g = 30\n",
    "\n",
    "squid = GFluxControllableSquid(name='fluxonium-squid', \n",
    "                               position=sl_position, \n",
    "                               w=fluxonium_w, s=fluxonium_s, g=fluxonium_g,\n",
    "                               layer_configuration=sample.layer_configuration, \n",
    "                               squid_params=fluxonium_squid,\n",
    "                               flux_w=flux_w, flux_s=flux_s, flux_g=flux_g)\n",
    "\n",
    "sample.add(squid)"
   ]
  },
  {
   "cell_type": "code",
   "execution_count": 6,
   "id": "fc4cb008",
   "metadata": {},
   "outputs": [],
   "source": [
    "fluxonium_cap_length = 400\n",
    "open_ends = []\n",
    "capacitors = []\n",
    "for open_end_id, port_name in enumerate(['port1', 'port2']):\n",
    "    position = -np.exp(1j*squid.get_terminals()[port_name].orientation)*fluxonium_cap_length\n",
    "    position = np.asarray([np.real(position), np.imag(position)])\n",
    "    position += squid.get_terminals()[port_name].position\n",
    "    \n",
    "    open_end = elements.OpenEnd(name='fluxonium-open-end'+str(open_end_id),\n",
    "                                position=position,\n",
    "                                 w=[squid.get_terminals()[port_name].w],\n",
    "                                 s=[squid.get_terminals()[port_name].s, squid.get_terminals()[port_name].s],\n",
    "                                 g=squid.get_terminals()[port_name].g,\n",
    "                                 orientation=squid.get_terminals()[port_name].orientation+np.pi,\n",
    "                                 layer_configuration=sample.layer_configuration,\n",
    "                                 h1=20,\n",
    "                                 h2=10)\n",
    "    open_ends.append(open_end)\n",
    "    sample.add(open_end)\n",
    "    capacitor = sample.connect_cpw(open_end, squid, 'wide', port_name, points=[], \n",
    "                                   name='fluxonium-cap'+str(open_end_id))"
   ]
  },
  {
   "cell_type": "code",
   "execution_count": 7,
   "id": "6096b043",
   "metadata": {},
   "outputs": [],
   "source": [
    "sample.draw_design()\n",
    "sample.watch()"
   ]
  },
  {
   "cell_type": "code",
   "execution_count": 8,
   "id": "74fa2a78",
   "metadata": {},
   "outputs": [
    {
     "data": {
      "text/plain": [
       "array([2.63968085e+09, 4.62027710e+09, 1.50245721e+11, 1.50341745e+11,\n",
       "       3.01095656e+11, 3.01143596e+11, 4.05504263e+11, 4.05517367e+11,\n",
       "       4.68027634e+11, 4.68027634e+11, 4.68028275e+11, 4.68028275e+11,\n",
       "       4.74583096e+11, 4.74613537e+11, 5.11696558e+11, 5.11696558e+11,\n",
       "       5.11717516e+11, 5.11717516e+11])"
      ]
     },
     "execution_count": 8,
     "metadata": {},
     "output_type": "execute_result"
    }
   ],
   "source": [
    "tls, connections_flat, element_assignments = sample.get_tls()\n",
    "omegas, γ, modes = tls.get_modes()\n",
    "omegas/(2*np.pi)"
   ]
  },
  {
   "cell_type": "code",
   "execution_count": null,
   "id": "eae26e79",
   "metadata": {},
   "outputs": [],
   "source": []
  }
 ],
 "metadata": {
  "kernelspec": {
   "display_name": "Python 3 (ipykernel)",
   "language": "python",
   "name": "python3"
  },
  "language_info": {
   "codemirror_mode": {
    "name": "ipython",
    "version": 3
   },
   "file_extension": ".py",
   "mimetype": "text/x-python",
   "name": "python",
   "nbconvert_exporter": "python",
   "pygments_lexer": "ipython3",
   "version": "3.8.5"
  }
 },
 "nbformat": 4,
 "nbformat_minor": 5
}
