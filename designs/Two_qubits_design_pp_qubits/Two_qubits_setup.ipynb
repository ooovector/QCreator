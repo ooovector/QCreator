{
 "cells": [
  {
   "cell_type": "code",
   "execution_count": 13,
   "id": "hazardous-cleaner",
   "metadata": {},
   "outputs": [],
   "source": [
    "from importlib import reload\n",
    "import numpy as np\n",
    "from matplotlib import pyplot as plt\n",
    "import Two_qubits_design_PP_qubits as tqd\n",
    "import QCreator.auxiliary_functions as auxfuncs"
   ]
  },
  {
   "cell_type": "code",
   "execution_count": 14,
   "id": "potential-associate",
   "metadata": {},
   "outputs": [
    {
     "data": {
      "text/plain": [
       "<module 'Two_qubits_design_PP_qubits' from 'C:\\\\Python\\\\Github\\\\QCreator\\\\designs\\\\Two_qubits_design_pp_qubits\\\\Two_qubits_design_PP_qubits.py'>"
      ]
     },
     "execution_count": 14,
     "metadata": {},
     "output_type": "execute_result"
    }
   ],
   "source": [
    "reload(tqd)"
   ]
  },
  {
   "cell_type": "code",
   "execution_count": 15,
   "id": "complete-start",
   "metadata": {},
   "outputs": [
    {
     "name": "stdout",
     "output_type": "stream",
     "text": [
      "C:\\Python\\Github\\QCreator\\designs\\Two_qubits_design_pp_qubits\n"
     ]
    }
   ],
   "source": [
    "tqd.sample.draw_design()\n",
    "tqd.sample.watch(True)"
   ]
  },
  {
   "cell_type": "markdown",
   "id": "arctic-search",
   "metadata": {},
   "source": [
    "# Connect resonators into feedline"
   ]
  },
  {
   "cell_type": "code",
   "execution_count": 5,
   "id": "found-jordan",
   "metadata": {},
   "outputs": [
    {
     "data": {
      "text/plain": [
       "[CPW \"feedline\", l=9125.310]"
      ]
     },
     "execution_count": 5,
     "metadata": {},
     "output_type": "execute_result"
    }
   ],
   "source": [
    "tqd.sample.connect_cpw(o1=tqd.p1, o2=tqd.p2, port1='port', port2='port', name='feedline', \n",
    "                       points=[(2200,3000),(2200,3300),(6500,3300),(6500,4000),(5000,4000)])"
   ]
  },
  {
   "cell_type": "code",
   "execution_count": 6,
   "id": "genuine-tragedy",
   "metadata": {},
   "outputs": [],
   "source": [
    "tqd.sample.draw_design()\n",
    "tqd.sample.watch(True)"
   ]
  },
  {
   "cell_type": "code",
   "execution_count": null,
   "id": "polished-reviewer",
   "metadata": {},
   "outputs": [],
   "source": []
  },
  {
   "cell_type": "code",
   "execution_count": null,
   "id": "dramatic-morgan",
   "metadata": {},
   "outputs": [],
   "source": []
  },
  {
   "cell_type": "code",
   "execution_count": null,
   "id": "catholic-shopping",
   "metadata": {},
   "outputs": [],
   "source": []
  },
  {
   "cell_type": "code",
   "execution_count": null,
   "id": "danish-farming",
   "metadata": {},
   "outputs": [],
   "source": []
  },
  {
   "cell_type": "code",
   "execution_count": null,
   "id": "upper-smoke",
   "metadata": {},
   "outputs": [],
   "source": []
  },
  {
   "cell_type": "code",
   "execution_count": null,
   "id": "cardiovascular-buffer",
   "metadata": {},
   "outputs": [],
   "source": []
  },
  {
   "cell_type": "code",
   "execution_count": null,
   "id": "administrative-keeping",
   "metadata": {},
   "outputs": [],
   "source": []
  },
  {
   "cell_type": "code",
   "execution_count": null,
   "id": "southeast-helmet",
   "metadata": {},
   "outputs": [],
   "source": []
  },
  {
   "cell_type": "code",
   "execution_count": null,
   "id": "corresponding-grounds",
   "metadata": {},
   "outputs": [],
   "source": []
  },
  {
   "cell_type": "code",
   "execution_count": null,
   "id": "productive-chile",
   "metadata": {},
   "outputs": [],
   "source": []
  },
  {
   "cell_type": "code",
   "execution_count": null,
   "id": "collective-persian",
   "metadata": {},
   "outputs": [],
   "source": []
  },
  {
   "cell_type": "code",
   "execution_count": null,
   "id": "shaped-mountain",
   "metadata": {},
   "outputs": [],
   "source": []
  },
  {
   "cell_type": "markdown",
   "id": "short-engine",
   "metadata": {},
   "source": [
    "# Some calculations"
   ]
  },
  {
   "cell_type": "code",
   "execution_count": null,
   "id": "applied-statistics",
   "metadata": {},
   "outputs": [],
   "source": [
    "from QCreator.elements import twoqtc_sample"
   ]
  },
  {
   "cell_type": "code",
   "execution_count": null,
   "id": "toxic-infrared",
   "metadata": {},
   "outputs": [],
   "source": [
    "import numpy as np\n",
    "from scipy.constants import hbar,h,e,c\n",
    "from scipy.constants import elementary_charge as elc\n",
    "F0 = 2.0678e-15"
   ]
  },
  {
   "cell_type": "code",
   "execution_count": null,
   "id": "occupied-wrapping",
   "metadata": {},
   "outputs": [],
   "source": [
    "#to suppress printing\n",
    "@contextmanager\n",
    "def suppress_stdout():\n",
    "    with open(os.devnull, \"w\") as devnull:\n",
    "        old_stdout = sys.stdout\n",
    "        sys.stdout = devnull\n",
    "        try:  \n",
    "            yield\n",
    "        finally:\n",
    "            sys.stdout = old_stdout"
   ]
  },
  {
   "cell_type": "code",
   "execution_count": null,
   "id": "enormous-experiment",
   "metadata": {},
   "outputs": [],
   "source": [
    "e_eff=(11.45+1)/2## for all calculations\n",
    "Mhz=(2*np.pi*1e6)## divide on it to obtain value in mhz\n",
    "j=0.5e-3      # critical current density nA/nm^2"
   ]
  },
  {
   "cell_type": "code",
   "execution_count": null,
   "id": "upset-launch",
   "metadata": {},
   "outputs": [],
   "source": [
    "def I(f,Ec):\n",
    "    Ej=Ejf(f,Ec)\n",
    "    I=Ej*2*np.pi/F0*h*1e18\n",
    "    return I\n",
    "def Ejf(f,Ec):\n",
    "    Ej=(f+Ec)**2/(8*Ec)\n",
    "    return Ej\n",
    "def Eji(I):#nA\n",
    "    return I*F0/(2*np.pi)/1e9/h/1e9\n",
    "def IEj(Ej):\n",
    "    return Ej/(F0/(2*np.pi)/1e9/h/1e9)\n",
    "def f(Ej,Ec):\n",
    "    return np.sqrt(8*Ej*Ec)-Ec\n",
    "\n",
    "def Ec(C):#fF\n",
    "    return (elc)**2/(2*C)/h/1e9*1e15\n",
    "\n",
    "def cE(Ec):\n",
    "    return elc**2/(2*Ec)/h/1e9*1e15\n",
    "\n",
    "#C_sum from Capacitance matrix (0 is ground )\n",
    "def C_sum(C,i):\n",
    "    C_SUM =  -C[2*i+1][2*i+2]\n",
    "    for j in [0,1,2,3,4,5,6]:\n",
    "        if j == 2*i+1 or j == 2*i+2:\n",
    "            continue\n",
    "        C_SUM += -(C[2*i+1][j]*C[2*i+2][j])/(C[2*i+1][j]+C[2*i+2][j])\n",
    "    return C_SUM\n",
    "\n",
    "#C_c from Capacitance matrix (0 is ground)\n",
    "def C_c(C,i,j):\n",
    "    #print([2*i+2],[2*j+1])\n",
    "    C_C =  -C[2*i+1][2*j+1]\n",
    "    C_C += C[2*i+2][2*j+1]\n",
    "    C_C += -C[2*i+2][2*j+2]\n",
    "    C_C += C[2*i+1][2*j+2] \n",
    "    for k in (2*i+1,2*i+2):\n",
    "        for l in (2*j+1,2*j+2):\n",
    "            if l == 2*j+2:\n",
    "                continue\n",
    "            C_C += -(C[0][k]*C[0][l])/(C[0][k]+C[0][l])*(-1)**(l+k) #checking the sign\n",
    "    #print('C_C',C_C)\n",
    "    return -C_C\n",
    "\n",
    "\n",
    "def C_c_Stefan(C,i,j):\n",
    "    Cisum = C_sum(C,i)\n",
    "    Cjsum = C_sum(C,j)\n",
    "    i1,i2 = (2*i+1),(2*i+2)\n",
    "    j1,j2 = (2*j+1),(2*j+2)\n",
    "    \n",
    "    denominator = ((C[i1][j1]+C[i1][j2]+C[i2][j1]+C[i2][j2])**2+2*(C[j1][j2]-Cjsum)*(-2*C[i1][i2]+Cisum+Cjsum))\n",
    "    \n",
    "    nominator = -(C[i1][j2])**2*C[i2][j1]+(C[i1][j1])**2*C[i2][j2]+(C[i2][j1]-C[i2][j2])*(C[i1][i2]-Cisum)*(C[j1][j2]-Cjsum)-C[i1][j2]*(C[i2][j1]*(C[i2][j1]+C[i2][j2])+(C[i1][i2]-Cisum)*(-C[j1][j2]+Cjsum))\n",
    "    \n",
    "    nominator+= C[i1][j1]*(C[i1][j2]*(-C[i2][j1]+C[i2][j2])+C[i2][j2]*(C[i2][j1]+C[i2][j2])+(C[i1][i2]-Cisum)*(-C[j1][j2]+Cjsum))\n",
    "          \n",
    "    C_c = nominator/denominator\n",
    "    \n",
    "    return C_c\n",
    "\n",
    "\"\"\"\n",
    "\n",
    "    (−〖C1122〗^2⁢C1221+〖C1121〗^2⁢C1222+(C1221−C1222)⁢(C1112−Cq1Σ)⁢(C2122−Cq2Σ)\n",
    "−C1122⁢(C1221⁢(C1221+C1222)+(C1112−Cq2Σ)⁢(−C2122+Cq2Σ))\n",
    "+C1121⁢(C1122⁢(−C1221+C1222)+C1222⁢(C1221+C1222)+(C1112−Cq2Σ)⁢(−C2122+Cq2Σ)))  \n",
    "/ (C1121+C1122+C1221+C1222)^2+2⁢(C2122−Cq2Σ)⁢(−2⁢C1112+Cq1Σ+Cq2Σ)\n",
    "\n",
    "\"\"\"\n",
    "    \n",
    "    \n",
    "    \n",
    "\n",
    "def g(Ej1,Ej2,Ec1,Ec2,Ecc):\n",
    "    return pow(Ej1*Ej2/(4*Ec1*Ec2),0.25)*2*Ec1*Ec2/Ecc\n",
    "\n",
    "\n",
    "def g_2(w1,w2,C1,C2,Cc):\n",
    "    return 0.5*np.sqrt(w1*w2)*Cc/np.sqrt(C1*C2)\n",
    "\n"
   ]
  },
  {
   "cell_type": "code",
   "execution_count": null,
   "id": "appreciated-stock",
   "metadata": {},
   "outputs": [],
   "source": [
    "###############################################\n",
    "#Set desired values here in GHz/2pi\n",
    "w1 = 6.2\n",
    "U1 = -0.295\n",
    "\n",
    "w2 = 5.9\n",
    "U2 = -0.2\n",
    "\n",
    "wtc= 8.1\n",
    "Utc= -0.1758\n",
    "d  = None #defined as (y-1)/(y+1)\n",
    "y  = 17/8\n",
    "\n",
    "g1 = 0.142\n",
    "g2 = 0.116\n",
    "\n",
    "g12= 0.00905\n",
    "###############################################"
   ]
  },
  {
   "cell_type": "code",
   "execution_count": null,
   "id": "lesbian-dover",
   "metadata": {},
   "outputs": [],
   "source": [
    "Ec1 = -U1\n",
    "Ej1 = Ejf(w1,Ec1)\n",
    "\n",
    "Ec2 = -U2\n",
    "Ej2 = Ejf(w2,Ec2)\n",
    "\n",
    "#TC\n",
    "\n",
    "Ectc = -Utc\n",
    "Ejtc = Ejf(wtc,Ectc)\n",
    "\n",
    "\n",
    "Ic1   = IEj(Ej1)\n",
    "jj_a1 = np.sqrt(Ic1/j)*1e-3\n",
    "\n",
    "Ic2   = IEj(Ej2)\n",
    "jj_a2 = np.sqrt(Ic2/j)*1e-3\n",
    "\n",
    "print(jj_a2)"
   ]
  },
  {
   "cell_type": "code",
   "execution_count": null,
   "id": "powered-morning",
   "metadata": {},
   "outputs": [],
   "source": [
    "#general settings\n",
    "center=(1750,1750)\n",
    "name = 'Martinis_Design'\n",
    "layer_configuration={\n",
    "    'total':0,\n",
    "    'restricted area':10,\n",
    "    'for removing':100,\n",
    "    'JJs':1,\n",
    "    'flux lines':6,\n",
    "    'air bridges':2,\n",
    "    'air bridge pads':3,\n",
    "    'vertical gridlines':15,\n",
    "    'horizontal gridlines':16,\n",
    "    'inverted':999\n",
    "}\n",
    "\n",
    "l, t_m, t_r, gap, l_arm, h_arm, s_gap = 100, 12, 6, 5, 20, 50, 5\n",
    "fluxline = {'l':l,'t_m':t_m,'t_r':t_r,'gap':gap,'l_arm':l_arm,'h_arm':h_arm,'s_gap':s_gap}\n",
    "\n",
    "Couplers = []\n",
    "\n",
    "\n",
    "# initial settings\n",
    "g_w   = 310\n",
    "g_h   = 650\n",
    "g_t   = 10\n",
    "b_g   = 10 # for JJ_manhatten\n",
    "b_w   = 16 # JJ design\n",
    "\n",
    "\n",
    "\n",
    "width = [75,75,75]\n",
    "height= [550,550,300]\n",
    "gap   = [70,70,70]\n",
    "\n",
    "\n",
    "a1    = jj_a1 #Junction height in um\n",
    "a2    = a1 # Junction width in um\n",
    "\n",
    "#jj_pp = { 'a1':a1,\"a2\":a2,'angle_JJ':np.pi/2}\n",
    "jj_pp = { 'a1':a1,\"a2\":a2,'angle_JJ':0,'manhatten':True,'h_w':5 ,'h_d':8 }\n",
    "\n",
    "\n",
    "\n",
    "#,'bridge_gap':bridge_gap\n",
    "Q1 = {'name':'Q1','width' : width[0],'height':height[0],'b_g':b_g,'b_w':b_w,'gap':gap[0],'g_w':g_w,'g_h':g_h,'g_t':g_t,\n",
    "     'jj_pp' : jj_pp, 'Couplers': Couplers, 'transformations':{},'empty_ground':0.66\n",
    "     }\n",
    "\n",
    "\n",
    "Q2 = Q1.copy()\n",
    "Q2['name'] = 'Q2'\n",
    "\n",
    "\n",
    "\n",
    "TC = Q1.copy()\n",
    "TC['fluxline'] = fluxline\n",
    "TC['name'] = 'TC'\n",
    "TC['g_w'] = 750\n",
    "TC['g_h'] = 15/7*200\n",
    "TC['gap'] = 1.9/7*200\n",
    "TC['width'] = 2.1/7*200\n",
    "TC['height'] = 11/7*200\n",
    "\n",
    "lph,lg,lpw,lw = 85,0,55,0.5*200/7\n",
    "rph,rg,rpw,rw = lph,lg,lpw,lw\n",
    "\n",
    "TC['arms'] = {'l.ph':lph,'l.g':lg,'l.pw':lpw,'l.w':lw,'r.ph':rph,'r.g':rg,'r.pw':rpw,'r.w':rw}\n",
    "\n",
    "#Q1['width'],Q1['height'],Q1['gap'] = 308,670,275\n",
    "\n",
    "d1,d2,mesh_volume = 0,0,50\n",
    "\n",
    "print(Q1)"
   ]
  },
  {
   "cell_type": "code",
   "execution_count": null,
   "id": "wooden-motion",
   "metadata": {
    "scrolled": true
   },
   "outputs": [],
   "source": [
    "d1,d2,mesh_volume = 0,0,50\n",
    "C_Matrix = twoqtc_sample.twoqtc_Caps(name,layer_configuration,center,Q1,Q2,TC,d1,d2,mesh_volume,plot = True)"
   ]
  },
  {
   "cell_type": "code",
   "execution_count": null,
   "id": "finite-penny",
   "metadata": {},
   "outputs": [],
   "source": [
    "print(C_Matrix/6.225)"
   ]
  },
  {
   "cell_type": "code",
   "execution_count": null,
   "id": "breeding-diana",
   "metadata": {},
   "outputs": [],
   "source": [
    "print(C_Matrix)"
   ]
  },
  {
   "cell_type": "code",
   "execution_count": null,
   "id": "artificial-criterion",
   "metadata": {},
   "outputs": [],
   "source": [
    "C_Matrix2 = np.array([[0.043071,-0.0089447,-0.0068652,-0.0068713,-0.0089472,-0.0056849,-0.0057579],[-0.0089447,0.015124,-0.0047549,-0.00023452,-0.00023108,-0.00067197,-0.00028649],[-0.0068652,-0.0047549,0.014569,-0.00024721,-0.00023463,-0.0020928,-0.0003746],[-0.0068713,-0.00023452,-0.00024721,0.01457,-0.0047545,-0.0003784,-0.0020844],[-0.0089472,-0.00023108,-0.00023463,-0.0047545,0.015124,-0.00028975,-0.00066677],[-0.0056849,-0.00067197,-0.0020928,-0.0003784,-0.00028975,0.012224,-0.0031063],[-0.0057579,-0.00028649,-0.0003746,-0.0020844,-0.00066677,-0.0031063,0.012276]])\n",
    "C_Matrix2 = 6225*C_Matrix2\n",
    "print(C_Matrix2)"
   ]
  },
  {
   "cell_type": "markdown",
   "id": "described-washington",
   "metadata": {},
   "source": [
    "## Optimization 1 for Qubit Parameters"
   ]
  },
  {
   "cell_type": "code",
   "execution_count": null,
   "id": "sensitive-portsmouth",
   "metadata": {},
   "outputs": [],
   "source": [
    "#Calculate values for w from here\n",
    "Ec1_sim = Ec(C_sum(C_Matrix,0))\n",
    "Ec2_sim = Ec(C_sum(C_Matrix,1))\n",
    "Ectc_sim = Ec(C_sum(C_Matrix,2))\n",
    "\n",
    "w1_sim = f(Ej1,Ec1_sim)\n",
    "w2_sim = f(Ej2,Ec2_sim)\n",
    "wtc_sim = f(Ejtc,Ectc_sim)\n",
    "\n",
    "\n",
    "print(Ec1_sim,Ec2_sim,Ectc_sim)\n",
    "\n",
    "print(w1_sim,w2_sim,wtc_sim)"
   ]
  },
  {
   "cell_type": "code",
   "execution_count": null,
   "id": "infrared-sacrifice",
   "metadata": {
    "scrolled": true
   },
   "outputs": [],
   "source": [
    "#optimization parameters\n",
    "tol   = 0.001 # GHz\n",
    "mesh_v = 5\n",
    "\n",
    "width_steps  = [-3,0,2,3,4,5,6,7,8,9,10,12,15]\n",
    "height_steps = [-3,0,2,2.5,2.9,3,3.2,3.3,4,5,6,7,8]\n",
    "gap_steps    = [-3,0,2,3,4,5,6,7,8,9,10,12,15]\n",
    "\n",
    "#from here change values to get correct qubit values in a loop \n",
    "d_Ec = [Ec1 - Ec1_sim, Ec2 - Ec2_sim,Ectc - Ectc_sim]\n",
    "d_w = [w1 - w1_sim, w2 - w2_sim,wtc - wtc_sim]\n",
    "max_iter = 20\n",
    "k = 1\n",
    "while np.sum(np.abs(d_w)) > 3*tol and k < max_iter:\n",
    "    Ec1_sim = Ec(C_sum(C_Matrix,0))\n",
    "    Ec2_sim = Ec(C_sum(C_Matrix,1))\n",
    "    Ectc_sim = Ec(C_sum(C_Matrix,2))\n",
    "\n",
    "    w1_sim = f(Ej1,Ec1_sim)\n",
    "    w2_sim = f(Ej2,Ec2_sim)\n",
    "    wtc_sim = f(Ejtc,Ectc_sim)\n",
    "    d_w = [w1 - w1_sim, w2 - w2_sim,wtc - wtc_sim]\n",
    "    d_Ec = [Ec1 - Ec1_sim, Ec2 - Ec2_sim,Ectc - Ectc_sim]\n",
    "    print('__________________________________________')\n",
    "    print('Pass '+str(k)+' Adjusting Qubit parameters')\n",
    "    print('Current Error: \\033[93m' + str(np.sum(np.abs(d_w))) + ' GHz\\033[0m')\n",
    "    mesh_volume = mesh_v\n",
    "    if np.sum(np.abs(d_w)) > 0.1:\n",
    "        print('Using coarse mesh')\n",
    "        mesh_volume = 40\n",
    "    else:\n",
    "        print('Refining mesh')\n",
    "    for i in [0,1,2]:\n",
    "        d = d_Ec[i]\n",
    "        if np.sum(np.abs(d_w[i])) > 0.5:\n",
    "            width_step,height_step,gap_step = np.random.choice(width_steps[-5:]),np.random.choice(height_steps[-5:]),np.random.choice(gap_steps[-5:])\n",
    "        else:\n",
    "            width_step,height_step,gap_step = np.random.choice(width_steps[:10]),np.random.choice(height_steps[:10]),np.random.choice(gap_steps[:10])\n",
    "\n",
    "        if np.abs(d) < tol*0.01:\n",
    "            continue\n",
    "        if d > 0 :\n",
    "            width[i]  += -width_step\n",
    "            height[i] += -height_step\n",
    "            gap[i]    += gap_step\n",
    "        if d < 0 :\n",
    "            width[i]  += width_step\n",
    "            height[i] += height_step\n",
    "            gap[i]    += -gap_step\n",
    "    print('Running Fastcap simulation')\n",
    "    Q1['width'] = width[0]\n",
    "    Q1['height']= height[0]\n",
    "    Q1['gap']= gap[0]\n",
    " \n",
    "    Q2['width'] = width[1]\n",
    "    Q2['height']= height[1]\n",
    "    Q2['gap']= gap[1]\n",
    "\n",
    "    TC['width'] = width[2]\n",
    "    TC['height']= height[2]\n",
    "    TC['gap']= gap[2]\n",
    "    with suppress_stdout():\n",
    "        C_Matrix = twoqtc_sample.twoqtc_Caps(name,layer_configuration,center,Q1,Q2,TC,d1,d2,mesh_volume)\n",
    "    k += 1\n",
    "print(Q1)\n",
    "print(Q2)\n",
    "print(TC)"
   ]
  },
  {
   "cell_type": "code",
   "execution_count": null,
   "id": "voluntary-barrel",
   "metadata": {
    "scrolled": true
   },
   "outputs": [],
   "source": [
    "#Calculate values for w from here\n",
    "Ec1_sim = Ec(C_sum(C_Matrix,0))\n",
    "Ec2_sim = Ec(C_sum(C_Matrix,1))\n",
    "Ectc_sim = Ec(C_sum(C_Matrix,2))\n",
    "\n",
    "w1_sim = f(Ej1,Ec1_sim)\n",
    "w2_sim = f(Ej2,Ec2_sim)\n",
    "wtc_sim = f(Ejtc,Ectc_sim)\n",
    "\n",
    "print(w1_sim,w2_sim,wtc_sim)\n",
    "print(w1,w2,wtc)"
   ]
  },
  {
   "cell_type": "code",
   "execution_count": null,
   "id": "twelve-kentucky",
   "metadata": {},
   "outputs": [],
   "source": [
    "print(Q1)\n",
    "twoqtc_sample.twoqtc_Caps(name,layer_configuration,center,Q1,Q2,TC,d1,d2,mesh_volume,save = True)"
   ]
  },
  {
   "cell_type": "markdown",
   "id": "hydraulic-crazy",
   "metadata": {},
   "source": [
    "## Optimization 2 for Coupling Parameters"
   ]
  },
  {
   "cell_type": "code",
   "execution_count": null,
   "id": "dressed-asset",
   "metadata": {},
   "outputs": [],
   "source": [
    "Ecc12_sim = Ec(C_c(C_Matrix,0,1))\n",
    "Ecc1tc_sim = Ec(C_c(C_Matrix,0,2))\n",
    "\n",
    "print(Ecc12_sim,Ecc1tc_sim)"
   ]
  },
  {
   "cell_type": "code",
   "execution_count": null,
   "id": "aggressive-sword",
   "metadata": {},
   "outputs": [],
   "source": [
    "C_c(C_Matrix,0,2)"
   ]
  },
  {
   "cell_type": "code",
   "execution_count": null,
   "id": "aggressive-verse",
   "metadata": {},
   "outputs": [],
   "source": [
    "#fastcap matrix\n",
    "w1_sim = 4.973 \n",
    "w2_sim = 5.163\n",
    "wtc_sim= 7.18\n",
    "\n",
    "Ec1_sim = Ec(C_sum(C_Matrix,0))\n",
    "Ec2_sim = Ec(C_sum(C_Matrix,1))\n",
    "Ectc_sim=Ec(C_sum(C_Matrix,2))\n",
    "\n",
    "\n",
    "Ej1 = Ejf(w1_sim,Ec1_sim) \n",
    "Ej2 = Ejf(w2_sim,Ec2_sim)\n",
    "Ejtc = Ejf(wtc_sim,Ectc_sim)\n",
    "\n",
    "\n",
    "\n",
    "Cc = C_c(C_Matrix,0,2)\n",
    "Cc2= C_c_Stefan(C_Matrix,0,2)\n",
    "\n",
    "print('C_c from equ1 : ',C_c(C_Matrix,0,2),'fF')\n",
    "print('C_c from equ2 : ',C_c_Stefan(C_Matrix,0,2),'fF')\n",
    "\n",
    "print('C_sum1             C_sum2            C_sumtc')\n",
    "print(C_sum(C_Matrix,0),C_sum(C_Matrix,1),C_sum(C_Matrix,2))\n",
    "print('Ec1                Ec2               Ectc')\n",
    "print(Ec1_sim,Ec2_sim,Ectc_sim)\n",
    "\n",
    "print('------')\n",
    "#(Ej1,Ej2,Ec1,Ec2,Ecc)\n",
    "print(g(Ej1,Ejtc,Ec1_sim,Ectc_sim,Ec(Cc2)))\n",
    "print(g_2(w1_sim,wtc_sim,C_sum(C_Matrix,0),C_sum(C_Matrix,2),Cc2))"
   ]
  },
  {
   "cell_type": "code",
   "execution_count": null,
   "id": "center-diving",
   "metadata": {},
   "outputs": [],
   "source": [
    "#hfss Matrix\n",
    "w1_sim = 4.973 \n",
    "w2_sim = 5.163\n",
    "wtc_sim= 7.18\n",
    "\n",
    "Ec1_sim = Ec(C_sum(C_Matrix2,0))\n",
    "Ec2_sim = Ec(C_sum(C_Matrix2,1))\n",
    "Ectc_sim=Ec(C_sum(C_Matrix2,2))\n",
    "\n",
    "\n",
    "Ej1 = Ejf(w1_sim,Ec1_sim) \n",
    "Ej2 = Ejf(w2_sim,Ec2_sim)\n",
    "Ejtc = Ejf(wtc_sim,Ectc_sim)\n",
    "\n",
    "\n",
    "Cc = C_c(C_Matrix2,0,2)\n",
    "Cc2= C_c_Stefan(C_Matrix2,0,2)\n",
    "\n",
    "print('C_c from equ1 : ',C_c(C_Matrix2,0,2),'fF')\n",
    "print('C_c from equ2 : ',C_c_Stefan(C_Matrix2,0,2),'fF')\n",
    "\n",
    "print('C_sum1             C_sum2            C_sumtc')\n",
    "print(C_sum(C_Matrix2,0),C_sum(C_Matrix2,1),C_sum(C_Matrix2,2))\n",
    "print('Ec1                Ec2               Ectc')\n",
    "print(Ec1_sim,Ec2_sim,Ectc_sim)\n",
    "\n",
    "print('------')\n",
    "#(Ej1,Ej2,Ec1,Ec2,Ecc)\n",
    "print(g(Ej1,Ejtc,Ec1_sim,Ectc_sim,Ec(Cc2)))\n",
    "print(g_2(w1_sim,wtc_sim,C_sum(C_Matrix2,0),C_sum(C_Matrix2,2),Cc2))"
   ]
  },
  {
   "cell_type": "code",
   "execution_count": null,
   "id": "understood-annual",
   "metadata": {
    "scrolled": true
   },
   "outputs": [],
   "source": [
    "g12_sim = g(Ej1,Ej2,Ec1_sim,Ec2_sim,Ec(C_c(C_Matrix,0,1)))\n",
    "g1_sim = g(Ej1,Ejtc,Ec1_sim,Ectc_sim,Ec(C_c(C_Matrix,0,2)))\n",
    "g2_sim = g(Ej2,Ejtc,Ec2_sim,Ectc_sim,Ec(C_c(C_Matrix,1,2)))\n",
    "print(g12_sim,g1_sim,g2_sim)"
   ]
  },
  {
   "cell_type": "code",
   "execution_count": null,
   "id": "duplicate-identification",
   "metadata": {},
   "outputs": [],
   "source": [
    "pad = [50,50]\n",
    "g_w = [1000,1000,1500]\n",
    "#optimization parameters\n",
    "tol   = 0.01 # GHz\n",
    "mesh_v = 10\n",
    "\n",
    "distance_steps  = [-5,0,5,10,15,20,25,30,40,50]\n",
    "\n",
    "\n",
    "#from here change values to get correct qubit values in a loop \n",
    "d_g = [g1 - g1_sim, g2 - g2_sim,g12 - g12_sim]\n",
    "\n",
    "max_iter = 15\n",
    "k = 1\n",
    "while np.sum(np.abs(d_g)) > tol*3 and k < max_iter:\n",
    "    Ec1_sim = Ec(C_sum(C_Matrix,0))\n",
    "    Ec2_sim = Ec(C_sum(C_Matrix,1))\n",
    "    Ectc_sim = Ec(C_sum(C_Matrix,2))\n",
    "    \n",
    "    g12_sim = g(Ej1,Ej2,Ec1_sim,Ec2_sim,Ec(C_c(C_Matrix,0,1)))\n",
    "    g1_sim = g(Ej1,Ejtc,Ec1_sim,Ectc_sim,Ec(C_c(C_Matrix,0,2)))\n",
    "    g2_sim = g(Ej2,Ejtc,Ec2_sim,Ectc_sim,Ec(C_c(C_Matrix,1,2)))\n",
    "    d_g = [g1 - g1_sim, g2 - g2_sim,g12 - g12_sim]\n",
    "    print(d_g)\n",
    "    \n",
    "    print('__________________________________________')\n",
    "    print('Pass '+str(k)+' Adjusting Qubit coupling parameters')\n",
    "    print('Current Error: \\033[93m' + str(1000*np.sum(np.abs(d_g))) + ' MHz\\033[0m')\n",
    "    mesh_volume = mesh_v\n",
    "    if np.sum(np.abs(d_g)) > 0.1:\n",
    "        print('Using coarse mesh')\n",
    "        mesh_volume = 60\n",
    "    else:\n",
    "        print('Refining mesh')\n",
    "    \n",
    "    for i in [0,1,2]:\n",
    "        d = d_g[i]\n",
    "        if np.sum(np.abs(d_g[i])) > 0.5:\n",
    "            d_step = np.random.choice(distance_steps[-5:])\n",
    "            height_step,gap_step = np.random.choice(height_steps[-5:]),np.random.choice(gap_steps[-5:])\n",
    "        else:\n",
    "            d_step = np.random.choice(distance_steps[:10])\n",
    "            height_step,gap_step = np.random.choice(height_steps[:10]),np.random.choice(gap_steps[:10])\n",
    "        if np.abs(d) < tol*0.01:\n",
    "            continue\n",
    "        if i == 0:\n",
    "            if d < 0 :\n",
    "                pad[0]  -= height_step\n",
    "            if d > 0 :\n",
    "                pad[0]  += height_step            \n",
    "        if i == 1:\n",
    "            if d < 0 :\n",
    "                pad[1]  -= height_step\n",
    "            if d > 0 :\n",
    "                pad[1]  += height_step             \n",
    "        if i ==2:\n",
    "            if d < 0 :\n",
    "                g_w[2]  += d_step\n",
    "            if d > 0 :\n",
    "                g_w[2]  -= d_step\n",
    "            \n",
    "    print('Running Fastcap simulation')\n",
    "    Q1['g_w'] = g_w[0]\n",
    "    Q2['g_w'] = g_w[1]\n",
    "    TC['g_w'] = g_w[2]\n",
    "\n",
    "    \n",
    "    Q1['height']= height[0]\n",
    "    Q1['gap']= gap[0]\n",
    " \n",
    "    Q2['width'] = width[1]\n",
    "    Q2['gap']= gap[1]\n",
    "\n",
    "    TC['width'] = width[2]\n",
    "    TC['gap']= gap[2]\n",
    "    TC['arms'] = {'l.ph':pad[0],'l.g':lg,'l.pw':lpw,'l.w':lw,'r.ph':pad[1],'r.g':rg,'r.pw':rpw,'r.w':rw}\n",
    "    \n",
    "    with suppress_stdout():\n",
    "        C_Matrix = twoqtc_sample.twoqtc_Caps(name,layer_configuration,center,Q1,Q2,TC,d1,d2,mesh_volume)\n",
    "    k += 1\n",
    "    \n",
    "    \n",
    "print('Simulation finished')"
   ]
  },
  {
   "cell_type": "code",
   "execution_count": null,
   "id": "wicked-potter",
   "metadata": {},
   "outputs": [],
   "source": [
    "g12_sim = g(Ej1,Ej2,Ec1_sim,Ec2_sim,Ec(C_c(C_Matrix,0,1)))\n",
    "g1_sim = g(Ej1,Ejtc,Ec1_sim,Ectc_sim,Ec(C_c(C_Matrix,0,2)))\n",
    "g2_sim = g(Ej2,Ejtc,Ec2_sim,Ectc_sim,Ec(C_c(C_Matrix,1,2)))\n",
    "\n",
    "\n",
    "g1 - g1_sim, g2 - g2_sim,g12 - g12_sim\n",
    "print(g1,g2,g12)\n",
    "print(g1_sim,g2_sim,g12_sim)\n",
    "\n",
    "\n",
    "#Calculate values for w from here\n",
    "Ec1_sim = Ec(C_sum(C_Matrix,0))\n",
    "Ec2_sim = Ec(C_sum(C_Matrix,1))\n",
    "Ectc_sim = Ec(C_sum(C_Matrix,2))\n",
    "\n",
    "w1_sim = f(Ej1,Ec1_sim)\n",
    "w2_sim = f(Ej2,Ec2_sim)\n",
    "wtc_sim = f(Ejtc,Ectc_sim)\n",
    "\n",
    "print(w1_sim,w2_sim,wtc_sim)\n",
    "print(w1,w2,wtc)"
   ]
  },
  {
   "cell_type": "code",
   "execution_count": null,
   "id": "diverse-daisy",
   "metadata": {},
   "outputs": [],
   "source": [
    "twoqtc_sample.twoqtc_Caps(name,layer_configuration,center,Q1,Q2,TC,d1,d2,mesh_volume,plot = True)"
   ]
  },
  {
   "cell_type": "code",
   "execution_count": null,
   "id": "heated-extent",
   "metadata": {},
   "outputs": [],
   "source": [
    "print(((0,None),)*11)"
   ]
  },
  {
   "cell_type": "code",
   "execution_count": null,
   "id": "traditional-radiation",
   "metadata": {},
   "outputs": [],
   "source": []
  }
 ],
 "metadata": {
  "kernelspec": {
   "display_name": "Python 3",
   "language": "python",
   "name": "python3"
  },
  "language_info": {
   "codemirror_mode": {
    "name": "ipython",
    "version": 3
   },
   "file_extension": ".py",
   "mimetype": "text/x-python",
   "name": "python",
   "nbconvert_exporter": "python",
   "pygments_lexer": "ipython3",
   "version": "3.9.5"
  }
 },
 "nbformat": 4,
 "nbformat_minor": 5
}
