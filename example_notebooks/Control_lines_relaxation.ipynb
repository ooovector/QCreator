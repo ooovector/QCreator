{
 "cells": [
  {
   "cell_type": "code",
   "execution_count": 1,
   "id": "5dcdf3a7-60c1-41db-949a-d54bdce60aa1",
   "metadata": {},
   "outputs": [],
   "source": [
    "import sys\n",
    "sys.path.append('..')\n",
    "from QCreator.transmission_line_simulator import *"
   ]
  },
  {
   "cell_type": "code",
   "execution_count": 2,
   "id": "9b8668b5-a9c8-4675-8f01-2de150a5533c",
   "metadata": {},
   "outputs": [],
   "source": [
    "import matplotlib.pyplot as plt\n",
    "from pylab import rcParams\n",
    "rcParams['figure.figsize'] = 10, 10"
   ]
  },
  {
   "cell_type": "code",
   "execution_count": 3,
   "id": "cab1f869-7653-463e-b363-35bd731579d3",
   "metadata": {},
   "outputs": [],
   "source": [
    "import matplotlib.pyplot as plt"
   ]
  },
  {
   "cell_type": "markdown",
   "id": "f1507fe3-c645-48c1-97f2-d085ab073a05",
   "metadata": {},
   "source": [
    "# Setup the circuit"
   ]
  },
  {
   "cell_type": "code",
   "execution_count": null,
   "id": "ee97fdb2-3a5a-4319-9042-8d224aab6bf8",
   "metadata": {},
   "outputs": [],
   "source": []
  }
 ],
 "metadata": {
  "kernelspec": {
   "display_name": "Python 3",
   "language": "python",
   "name": "python3"
  },
  "language_info": {
   "codemirror_mode": {
    "name": "ipython",
    "version": 3
   },
   "file_extension": ".py",
   "mimetype": "text/x-python",
   "name": "python",
   "nbconvert_exporter": "python",
   "pygments_lexer": "ipython3",
   "version": "3.9.6"
  }
 },
 "nbformat": 4,
 "nbformat_minor": 5
}
