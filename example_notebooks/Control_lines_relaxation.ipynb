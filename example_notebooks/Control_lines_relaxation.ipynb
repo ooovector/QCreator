{
 "cells": [
  {
   "cell_type": "code",
   "execution_count": 1,
   "id": "5dcdf3a7-60c1-41db-949a-d54bdce60aa1",
   "metadata": {},
   "outputs": [],
   "source": [
    "import sys\n",
    "sys.path.append('..')\n",
    "from QCreator.transmission_line_simulator import *"
   ]
  },
  {
   "cell_type": "code",
   "execution_count": 2,
   "id": "9b8668b5-a9c8-4675-8f01-2de150a5533c",
   "metadata": {},
   "outputs": [],
   "source": [
    "import matplotlib.pyplot as plt\n",
    "from pylab import rcParams\n",
    "rcParams['figure.figsize'] = 10, 10"
   ]
  },
  {
   "cell_type": "code",
   "execution_count": 3,
   "id": "cab1f869-7653-463e-b363-35bd731579d3",
   "metadata": {},
   "outputs": [],
   "source": [
    "import matplotlib.pyplot as plt"
   ]
  },
  {
   "cell_type": "markdown",
   "id": "f1507fe3-c645-48c1-97f2-d085ab073a05",
   "metadata": {},
   "source": [
    "# Setup the circuit"
   ]
  },
  {
   "cell_type": "code",
   "execution_count": 17,
   "id": "ee97fdb2-3a5a-4319-9042-8d224aab6bf8",
   "metadata": {},
   "outputs": [],
   "source": [
    "line_qubit_capacitor = Capacitor()\n",
    "line_ground_capacitor = Capacitor()\n",
    "line_end = Resistor()\n",
    "\n",
    "GND = Short()\n",
    "line = TLCoupler(n=1)\n",
    "\n",
    "qubit_cap = Capacitor()\n",
    "qubit_inductor = Inductor()\n",
    "\n",
    "circuit = TLSystem()\n",
    "\n",
    "circuit.add_element(qubit_cap, [1,0])\n",
    "circuit.add_element(qubit_inductor, [1,0])\n",
    "circuit.add_element(line_qubit_capacitor, [1,2])\n",
    "circuit.add_element(line_ground_capacitor, [2,0])\n",
    "circuit.add_element(line, [2,3])\n",
    "circuit.add_element(line_end, [3,0])\n",
    "circuit.add_element(GND, [0])"
   ]
  },
  {
   "cell_type": "code",
   "execution_count": 27,
   "id": "5cc22794-7883-48d0-b949-29046395c3fc",
   "metadata": {},
   "outputs": [],
   "source": [
    "line.l = 10e-3\n",
    "line.Cl = 146.305e-12\n",
    "line.Ll = 529.989e-9\n",
    "line.Rl = 0\n",
    "line.Gl = 0\n",
    "\n",
    "line_end.R=50\n",
    "\n",
    "qubit_cap.C= 80e-15\n",
    "qubit_inductor.L=20e-9\n",
    "\n",
    "line_qubit_capacitor.C=50e-15\n",
    "line_ground_capacitor.C=1e-9"
   ]
  },
  {
   "cell_type": "code",
   "execution_count": 28,
   "id": "c3435ea0-05c5-415b-a30f-1397e05f85a8",
   "metadata": {},
   "outputs": [],
   "source": [
    "f, delta, modes=circuit.get_modes()"
   ]
  },
  {
   "cell_type": "code",
   "execution_count": 29,
   "id": "726c7c60-62cf-48f8-a827-e2e4e55bc9eb",
   "metadata": {},
   "outputs": [
    {
     "data": {
      "text/plain": [
       "(array([ 3.12131524,  5.67871479, 11.40359321, 15.43683772, 16.14283832,\n",
       "        17.01691099, 17.86804166, 18.41182037, 19.03314313]),\n",
       " array([ 2.67396251e-04,  2.70351346e+04,  2.77207443e+04,  9.15134065e+03,\n",
       "         1.07748444e+05,  1.86736305e+04,  1.76941034e+05, -1.18528397e+05,\n",
       "        -1.27763166e+05]))"
      ]
     },
     "execution_count": 33,
     "metadata": {},
     "output_type": "execute_result"
    }
   ],
   "source": [
    "f/2/np.pi/1e9,2*delta/1e6"
   ]
  },
  {
   "cell_type": "code",
   "execution_count": 30,
   "id": "5d74ef86-befe-4f62-bd23-f3952c7ff568",
   "metadata": {},
   "outputs": [
    {
     "data": {
      "text/plain": [
       "(array([ 3.12131524,  5.67871479, 11.40359321, 15.43683772, 16.14283832,\n",
       "        17.01691099, 17.86804166, 18.41182037, 19.03314313]),\n",
       " array([ 2.67396251e-04,  2.70351346e+04,  2.77207443e+04,  9.15134065e+03,\n",
       "         1.07748444e+05,  1.86736305e+04,  1.76941034e+05, -1.18528397e+05,\n",
       "        -1.27763166e+05]))"
      ]
     },
     "execution_count": 34,
     "metadata": {},
     "output_type": "execute_result"
    }
   ],
   "source": [
    "f/2/np.pi/1e9,2*delta/1e6"
   ]
  },
  {
   "cell_type": "code",
   "execution_count": null,
   "id": "e2a8e22c-589c-403f-aa9d-04e779d72280",
   "metadata": {},
   "outputs": [],
   "source": []
  }
 ],
 "metadata": {
  "kernelspec": {
   "display_name": "Python 3",
   "language": "python",
   "name": "python3"
  },
  "language_info": {
   "codemirror_mode": {
    "name": "ipython",
    "version": 3
   },
   "file_extension": ".py",
   "mimetype": "text/x-python",
   "name": "python",
   "nbconvert_exporter": "python",
   "pygments_lexer": "ipython3",
   "version": "3.9.6"
  }
 },
 "nbformat": 4,
 "nbformat_minor": 5
}
