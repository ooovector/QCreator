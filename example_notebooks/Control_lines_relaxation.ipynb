{
 "cells": [
  {
   "cell_type": "code",
   "execution_count": 1,
   "id": "5dcdf3a7-60c1-41db-949a-d54bdce60aa1",
   "metadata": {},
   "outputs": [],
   "source": [
    "import sys\n",
    "sys.path.append('..')\n",
    "from QCreator.transmission_line_simulator import *"
   ]
  },
  {
   "cell_type": "code",
   "execution_count": 2,
   "id": "9b8668b5-a9c8-4675-8f01-2de150a5533c",
   "metadata": {},
   "outputs": [],
   "source": [
    "import matplotlib.pyplot as plt\n",
    "from pylab import rcParams\n",
    "rcParams['figure.figsize'] = 10, 10"
   ]
  },
  {
   "cell_type": "code",
   "execution_count": 3,
   "id": "cab1f869-7653-463e-b363-35bd731579d3",
   "metadata": {},
   "outputs": [],
   "source": [
    "import matplotlib.pyplot as plt"
   ]
  },
  {
   "cell_type": "markdown",
   "id": "f1507fe3-c645-48c1-97f2-d085ab073a05",
   "metadata": {},
   "source": [
    "# Setup the circuit for the capacitive coupling"
   ]
  },
  {
   "cell_type": "code",
   "execution_count": 17,
   "id": "ee97fdb2-3a5a-4319-9042-8d224aab6bf8",
   "metadata": {},
   "outputs": [],
   "source": [
    "line_qubit_capacitor = Capacitor()\n",
    "line_ground_capacitor = Capacitor()\n",
    "line_end = Resistor()\n",
    "\n",
    "GND = Short()\n",
    "line = TLCoupler(n=1)\n",
    "\n",
    "qubit_cap = Capacitor()\n",
    "qubit_inductor = Inductor()\n",
    "\n",
    "circuit = TLSystem()\n",
    "\n",
    "circuit.add_element(qubit_cap, [1,0])\n",
    "circuit.add_element(qubit_inductor, [1,0])\n",
    "circuit.add_element(line_qubit_capacitor, [1,2])\n",
    "circuit.add_element(line_ground_capacitor, [2,0])\n",
    "circuit.add_element(line, [2,3])\n",
    "circuit.add_element(line_end, [3,0])\n",
    "circuit.add_element(GND, [0])"
   ]
  },
  {
   "cell_type": "code",
   "execution_count": 27,
   "id": "5cc22794-7883-48d0-b949-29046395c3fc",
   "metadata": {},
   "outputs": [],
   "source": [
    "line.l = 10e-3\n",
    "line.Cl = 146.305e-12\n",
    "line.Ll = 529.989e-9\n",
    "line.Rl = 0\n",
    "line.Gl = 0\n",
    "\n",
    "line_end.R=50\n",
    "\n",
    "qubit_cap.C= 80e-15\n",
    "qubit_inductor.L=20e-9\n",
    "\n",
    "line_qubit_capacitor.C=50e-15\n",
    "line_ground_capacitor.C=1e-9"
   ]
  },
  {
   "cell_type": "code",
   "execution_count": 28,
   "id": "c3435ea0-05c5-415b-a30f-1397e05f85a8",
   "metadata": {},
   "outputs": [],
   "source": [
    "f, delta, modes=circuit.get_modes()"
   ]
  },
  {
   "cell_type": "code",
   "execution_count": 29,
   "id": "726c7c60-62cf-48f8-a827-e2e4e55bc9eb",
   "metadata": {},
   "outputs": [
    {
     "data": {
      "text/plain": [
       "(array([ 3.12131524,  5.67871479, 11.40359321, 15.43683772, 16.14283832,\n",
       "        17.01691099, 17.86804166, 18.41182037, 19.03314313]),\n",
       " array([ 2.67396251e-04,  2.70351346e+04,  2.77207443e+04,  9.15134065e+03,\n",
       "         1.07748444e+05,  1.86736305e+04,  1.76941034e+05, -1.18528397e+05,\n",
       "        -1.27763166e+05]))"
      ]
     },
     "execution_count": 33,
     "metadata": {},
     "output_type": "execute_result"
    }
   ],
   "source": [
    "f/2/np.pi/1e9,2*delta/1e6"
   ]
  },
  {
   "cell_type": "code",
   "execution_count": 30,
   "id": "5d74ef86-befe-4f62-bd23-f3952c7ff568",
   "metadata": {},
   "outputs": [
    {
     "data": {
      "text/plain": [
       "(array([ 3.12131524,  5.67871479, 11.40359321, 15.43683772, 16.14283832,\n",
       "        17.01691099, 17.86804166, 18.41182037, 19.03314313]),\n",
       " array([ 2.67396251e-04,  2.70351346e+04,  2.77207443e+04,  9.15134065e+03,\n",
       "         1.07748444e+05,  1.86736305e+04,  1.76941034e+05, -1.18528397e+05,\n",
       "        -1.27763166e+05]))"
      ]
     },
     "execution_count": 34,
     "metadata": {},
     "output_type": "execute_result"
    }
   ],
   "source": [
    "f/2/np.pi/1e9,2*delta/1e6"
   ]
  },
  {
   "cell_type": "markdown",
   "id": "5c4232f5-19d1-4329-9d6c-79f47b096e54",
   "metadata": {
    "tags": []
   },
   "source": [
    "# Setup the circuit for the capacitive coupling + inductive end"
   ]
  },
  {
   "cell_type": "code",
   "execution_count": 15,
   "id": "170b510f-ff6c-4fa6-a8f7-0b71ab6965b8",
   "metadata": {},
   "outputs": [],
   "source": [
    "line_qubit_capacitor = Capacitor()\n",
    "line_coupler_middle_inductor = Inductor()\n",
    "line_ground_inductor = Inductor()\n",
    "line_end = Resistor()\n",
    "\n",
    "GND = Short()\n",
    "line = TLCoupler(n=1)\n",
    "\n",
    "qubit_cap = Capacitor()\n",
    "qubit_inductor = Inductor()\n",
    "\n",
    "circuit = TLSystem()\n",
    "\n",
    "circuit.add_element(qubit_cap, [1,0])\n",
    "circuit.add_element(qubit_inductor, [1,0])\n",
    "circuit.add_element(line_qubit_capacitor, [1,2])\n",
    "circuit.add_element(line_ground_inductor, [2,0])\n",
    "circuit.add_element(line_coupler_middle_inductor, [2,3])\n",
    "circuit.add_element(line, [3,4])\n",
    "circuit.add_element(line_end, [4,0])\n",
    "circuit.add_element(GND, [0])"
   ]
  },
  {
   "cell_type": "code",
   "execution_count": 48,
   "id": "d106b0e3-2f64-423d-9ef8-d636e2719ab3",
   "metadata": {},
   "outputs": [],
   "source": [
    "line.l = 10e-3\n",
    "line.Cl = 146.305e-12\n",
    "line.Ll = 529.989e-9\n",
    "line.Rl = 0\n",
    "line.Gl = 0\n",
    "\n",
    "line_end.R=50\n",
    "\n",
    "qubit_cap.C= 80e-15\n",
    "qubit_inductor.L=20e-9\n",
    "\n",
    "line_qubit_capacitor.C=1e-15\n",
    "line_coupler_middle_inductor.L=40e-9*0\n",
    "line_ground_inductor.L=1e-9"
   ]
  },
  {
   "cell_type": "code",
   "execution_count": 49,
   "id": "67034991-0e91-4cd0-bced-c65a21f24166",
   "metadata": {},
   "outputs": [],
   "source": [
    "f, delta, modes=circuit.get_modes()"
   ]
  },
  {
   "cell_type": "code",
   "execution_count": 50,
   "id": "56d337ef-da7f-490c-a149-fb38204becd8",
   "metadata": {},
   "outputs": [
    {
     "data": {
      "text/plain": [
       "(array([ 3.95422252,  4.81358367,  9.88872228, 14.84176287, 16.46915238,\n",
       "        16.81703247, 16.90254592, 18.54694097, 18.89968708, 28.33166236]),\n",
       " array([ 7.13665251e-02,  2.34866463e+04,  2.50300085e+04,  1.29153266e+04,\n",
       "         1.04568236e+04,  1.44024288e+05,  8.26575541e+04, -1.26629338e+05,\n",
       "        -1.17529556e+05,  3.20658961e+05]))"
      ]
     },
     "execution_count": 50,
     "metadata": {},
     "output_type": "execute_result"
    }
   ],
   "source": [
    "f/2/np.pi/1e9,2*delta/1e6"
   ]
  },
  {
   "cell_type": "code",
   "execution_count": 43,
   "id": "a680370b-b543-4080-8d24-0caa6c866d71",
   "metadata": {},
   "outputs": [
    {
     "data": {
      "text/plain": [
       "(array([  3.95422445,  32.16531914,  86.44291807, 143.83354894,\n",
       "        161.98400148, 163.32684199, 168.70277872, 184.03114446,\n",
       "        191.13097916, 252.51543579]),\n",
       " array([ 7.01220083e-02,  2.40217853e+05,  2.63764063e+05,  1.80929597e+05,\n",
       "         9.04799388e+04,  1.37172316e+06,  6.53167936e+05, -1.25689385e+06,\n",
       "        -1.18231240e+06,  2.77976398e+06]))"
      ]
     },
     "execution_count": 43,
     "metadata": {},
     "output_type": "execute_result"
    }
   ],
   "source": [
    "f/2/np.pi/1e9,2*delta/1e6"
   ]
  },
  {
   "cell_type": "markdown",
   "id": "d70dbb23-ab36-4726-90b7-ed4314aafdc7",
   "metadata": {
    "tags": []
   },
   "source": [
    "# Setup the circuit for the qubit+resonator+feedline"
   ]
  },
  {
   "cell_type": "code",
   "execution_count": null,
   "id": "fa0cbe43-e8a6-48a6-9328-d9aa6ca9b524",
   "metadata": {},
   "outputs": [],
   "source": [
    "source = Port()\n",
    "analyzer = Port()\n",
    "GND = Short()\n",
    "circuit_res_qubit = TLSystem()\n",
    "\n",
    "resonator_short_end = TLCoupler(n=1)\n",
    "resonator_claw_end = TLCoupler(n=1)\n",
    "coupler = TLCoupler()\n",
    "\n",
    "claw_res_ground = Capacitor()\n",
    "claw_res_qubit = Capacitor()\n",
    "\n",
    "qubit_L=Inductor()\n",
    "qubit_C=Capacitor()\n",
    "\n",
    "\n",
    "circuit_res_qubit.add_element(source, [1])\n",
    "circuit_res_qubit.add_element(coupler, [1, 2, 3, 4])\n",
    "circuit_res_qubit.add_element(analyzer, [3])\n",
    "circuit_res_qubit.add_element(resonator_short_end, [4, 0])\n",
    "circuit_res_qubit.add_element(resonator_claw_end, [2, 5])\n",
    "circuit_res_qubit.add_element(claw_res_qubit, [5, 6])\n",
    "circuit_res_qubit.add_element(claw_res_ground, [5, 0])\n",
    "\n",
    "circuit_res_qubit.add_element(qubit_C, [6, 0])\n",
    "circuit_res_qubit.add_element(qubit_L, [6, 0])\n",
    "\n",
    "circuit_res_qubit.add_element(GND, [0])\n"
   ]
  },
  {
   "cell_type": "code",
   "execution_count": null,
   "id": "b96fd57a-4d5a-4fdc-9037-47c31aea10d0",
   "metadata": {},
   "outputs": [],
   "source": [
    "source.Z0=50\n",
    "analyzer.Z0=50\n",
    "\n",
    "coupler.l=0.4e-3\n",
    "# resonator_feedline distances 12 21 12 8 10 15 10 Zr=52.5\n",
    "coupler.Ll=np.asarray([[423.058e-9,41.177e-9],\n",
    "                      [41.177e-9,442.626e-9]])\n",
    "coupler.Cl=np.asarray([[165.215e-12,-15.37e-12],\n",
    "                      [-15.37e-12,157.911e-12]])\n",
    "coupler.Rl=np.zeros(coupler.Ll.shape, dtype=np.int)\n",
    "coupler.Gl=np.zeros(coupler.Ll.shape, dtype=np.int)\n",
    "\n",
    "\n",
    "resonator_short_end.l = 3.6e-3\n",
    "resonator_short_end.Cl = 158.581e-12\n",
    "resonator_short_end.Ll = 436.764e-9\n",
    "resonator_short_end.Rl = 0\n",
    "resonator_short_end.Gl = 0\n",
    "\n",
    "resonator_claw_end.l = 1.0e-3\n",
    "resonator_claw_end.Cl = 158.581e-12\n",
    "resonator_claw_end.Ll = 436.764e-9\n",
    "resonator_claw_end.Rl = 0\n",
    "resonator_claw_end.Gl = 0\n",
    "\n",
    "claw_res_ground.C=40e-15\n",
    "claw_res_qubit.C=2e-15\n",
    "\n",
    "qubit_C.C=80e-15\n",
    "qubit_L.L=30e-9"
   ]
  },
  {
   "cell_type": "code",
   "execution_count": null,
   "id": "d49a233a-76e2-450d-887b-80ee799c11a9",
   "metadata": {},
   "outputs": [],
   "source": [
    "1/2/np.pi/np.sqrt(qubit_C.C*qubit_L.L)/1e9"
   ]
  },
  {
   "cell_type": "markdown",
   "id": "9be4d9c3-3ff0-454c-9e56-ce96afe69852",
   "metadata": {
    "tags": []
   },
   "source": [
    "# Get resonance modes and Qs"
   ]
  },
  {
   "cell_type": "code",
   "execution_count": 75,
   "id": "98b22b3d-4fee-4a1a-9a3c-d9b8161a6c64",
   "metadata": {},
   "outputs": [],
   "source": [
    "from QCreator.auxiliary_functions import search_for_resonators_qubits"
   ]
  },
  {
   "cell_type": "code",
   "execution_count": 76,
   "id": "39fce18d-8988-49b8-b95b-b4e69a50892f",
   "metadata": {},
   "outputs": [],
   "source": [
    "f, delta, modes=circuit_res_qubit.get_modes()"
   ]
  },
  {
   "cell_type": "code",
   "execution_count": 77,
   "id": "844a8207-026a-4141-b486-60f39d66da35",
   "metadata": {},
   "outputs": [
    {
     "data": {
      "text/plain": [
       "(array([  3.20877628,   5.70720533,  17.11858317,  28.60951987,\n",
       "         39.80416816,  46.42515622,  53.58784598,  54.89827881,\n",
       "         54.90090105,  55.21508579,  55.2165133 ,  78.97234622,\n",
       "        114.13643741, 147.65748627, 148.70975048, 169.27877937,\n",
       "        185.34855862, 196.90649537, 197.85816671, 197.92166022,\n",
       "        198.54920027, 198.58521888, 284.7502958 , 291.20133513,\n",
       "        302.52112918, 387.01577781, 418.85706017, 419.66181456,\n",
       "        439.94809384, 481.43489987, 481.61976574, 495.43301257,\n",
       "        495.96834101, 515.04995101, 515.32738587, 726.56639206]),\n",
       " array([ 5.33621908e-05,  2.92124788e+00,  2.61058843e+01,  6.72089627e+01,\n",
       "         9.50778967e+01,  5.99415129e+01,  1.93286538e+02,  3.56838375e+05,\n",
       "        -3.56945219e+05, -3.63360858e+05,  3.63469977e+05,  6.15398169e+02,\n",
       "         3.07469967e+02,  3.03008257e+06,  4.98725990e-01,  4.72400225e+01,\n",
       "         4.18441716e+06,  6.30289625e+02,  1.28265236e+06, -1.28681885e+06,\n",
       "        -1.30626002e+06,  1.31060952e+06,  2.30549274e+02,  2.41057430e+06,\n",
       "         2.64478587e+06,  7.71914471e+02,  4.52261191e+05,  4.63499563e+05,\n",
       "         9.01791172e+02,  3.35990936e+06, -3.35827006e+06, -3.23956581e+06,\n",
       "        -3.24253748e+06, -3.01351888e+06,  3.00845609e+06,  1.69104219e+04]))"
      ]
     },
     "execution_count": 77,
     "metadata": {},
     "output_type": "execute_result"
    }
   ],
   "source": [
    "f/2/np.pi/1e9, 2*delta/1e6"
   ]
  },
  {
   "cell_type": "code",
   "execution_count": 78,
   "id": "3744254c-c4e2-4846-81c3-0c98b01e082a",
   "metadata": {
    "tags": []
   },
   "outputs": [
    {
     "name": "stdout",
     "output_type": "stream",
     "text": [
      "Resonance frequencies are, GHz: [3.20877628 5.70720533]\n",
      "Kappas are, us^-1: [5.33621908e-05 2.92124788e+00]\n",
      "Quality factors are: [3.77820619e+08 1.22753803e+04]\n"
     ]
    }
   ],
   "source": [
    "num_modes=18\n",
    "(res_fr,kappa,_)=search_for_resonators_qubits(f,delta,0,15)[:num_modes]"
   ]
  },
  {
   "cell_type": "code",
   "execution_count": 123,
   "id": "ce7639dc-2a56-4fd9-99cd-5a6f74e638b8",
   "metadata": {},
   "outputs": [],
   "source": [
    "Zr=52.5\n",
    "g_coupling_without_freqs=0.5*claw_res_qubit.C/np.sqrt(qubit_C.C)*np.sqrt(Zr)\n",
    "def freqs_T1(Ls,circuit_model,g_coupling_without_freqs):\n",
    "    # works for qubit freqs below the 2nd fundamental resonator mode\n",
    "    qubit_freqs=[]\n",
    "    kappas=[]\n",
    "    single_mode_purcell=[]\n",
    "    counter=0\n",
    "    for L in Ls:\n",
    "        qubit_L.L=L\n",
    "        f, delta, modes=circuit_model.get_modes()\n",
    "        if np.abs(f[0]/2/np.pi/1e9-f[1]/2/np.pi/1e9)>0.09:\n",
    "            if counter==0:\n",
    "                qubit_freqs.append(f[0]/2/np.pi/1e9)\n",
    "                kappas.append(1/(2*delta[0]/1e6))\n",
    "                g=g_coupling_without_freqs*np.sqrt(f[0])*f[1]/2/np.pi/1e9\n",
    "                kappa_res=1/(2*delta[1]/1e6)\n",
    "            else:\n",
    "                qubit_freqs.append(f[1]/2/np.pi/1e9)\n",
    "                kappas.append(1/(2*delta[1]/1e6))\n",
    "                g=g_coupling_without_freqs*np.sqrt(f[1])*f[0]/2/np.pi/1e9\n",
    "                kappa_res=2*delta[0]/1e6\n",
    "            single_mode_purcell.append(kappa_res/(g/(f[0]/2/np.pi/1e9-f[1]/2/np.pi/1e9))**2)\n",
    "        else:\n",
    "            counter=1\n",
    "    return qubit_freqs,kappas,single_mode_purcell"
   ]
  },
  {
   "cell_type": "code",
   "execution_count": 124,
   "id": "cfe7010d-117f-457a-8960-70f713f52bb9",
   "metadata": {},
   "outputs": [],
   "source": [
    "Ls=np.linspace(30e-9,5e-9,200)"
   ]
  },
  {
   "cell_type": "code",
   "execution_count": 125,
   "id": "7a536cb8-0fdf-4c15-b369-a567ed714929",
   "metadata": {},
   "outputs": [],
   "source": [
    "qubit_freqs,T1,single_mode_purcell=freqs_T1(Ls,circuit_res_qubit,g_coupling_without_freqs)"
   ]
  },
  {
   "cell_type": "code",
   "execution_count": 96,
   "id": "5fb7c46d-e3d8-4332-9b6b-d8754ab5a66f",
   "metadata": {},
   "outputs": [],
   "source": [
    "import matplotlib.pyplot as plt"
   ]
  },
  {
   "cell_type": "code",
   "execution_count": 126,
   "id": "b1be8088-b5db-4d97-a6a1-325b66978af3",
   "metadata": {},
   "outputs": [
    {
     "data": {
      "image/png": "[encoded data removed]",
      "text/plain": [
       "<Figure size 1000x1000 with 1 Axes>"
      ]
     },
     "metadata": {},
     "output_type": "display_data"
    }
   ],
   "source": [
    "plt.semilogy(qubit_freqs,T1,'k')\n",
    "plt.semilogy(qubit_freqs,single_mode_purcell,'r')\n",
    "plt.show()"
   ]
  },
  {
   "cell_type": "markdown",
   "id": "0a3fbfcf-1dbd-4f04-b10c-71c97128250f",
   "metadata": {},
   "source": [
    "## Simulate scattering parameter S21"
   ]
  },
  {
   "cell_type": "code",
   "execution_count": 5,
   "id": "ca47bdac-7872-4901-9893-034b9dd0cf64",
   "metadata": {
    "ExecuteTime": {
     "end_time": "2020-08-07T08:28:52.526309Z",
     "start_time": "2020-08-07T08:28:52.511187Z"
    }
   },
   "outputs": [],
   "source": [
    "nop = 5000\n",
    "frequency = np.linspace(4e9+0j, 6.5e9+0j, nop)\n",
    "y = np.zeros(nop, dtype=complex)"
   ]
  },
  {
   "cell_type": "code",
   "execution_count": 14,
   "id": "3a3c774d-80dd-4055-8856-861325ea2362",
   "metadata": {
    "ExecuteTime": {
     "end_time": "2020-08-07T08:28:52.947220Z",
     "start_time": "2020-08-07T08:28:52.881467Z"
    }
   },
   "outputs": [],
   "source": [
    "matrix_of_curcuit=circuit.create_boundary_problem_matrix(frequency[0]*2*np.pi)"
   ]
  },
  {
   "cell_type": "code",
   "execution_count": 15,
   "id": "704d15ec-d1bf-46a6-8249-cbed844e97d5",
   "metadata": {
    "ExecuteTime": {
     "end_time": "2020-08-07T08:29:10.527524Z",
     "start_time": "2020-08-07T08:28:53.742841Z"
    }
   },
   "outputs": [],
   "source": [
    "perturbation = np.zeros((matrix_of_curcuit.shape[0],1))\n",
    "perturbation[0]=1\n",
    "for i in range(nop):\n",
    "    matrix_of_curcuit=circuit.create_boundary_problem_matrix(frequency[i]*2*np.pi)\n",
    "    s21= np.linalg.solve(matrix_of_curcuit, perturbation)\n",
    "    y[i]=s21[2]\n",
    "S21 = y/np.max(y)"
   ]
  },
  {
   "cell_type": "code",
   "execution_count": 16,
   "id": "ab60a404-7ad2-4f7c-b1a6-fa49cdcc8729",
   "metadata": {
    "ExecuteTime": {
     "end_time": "2020-08-07T09:09:25.054217Z",
     "start_time": "2020-08-07T09:09:24.563165Z"
    }
   },
   "outputs": [
    {
     "data": {
      "image/png": "[encoded data removed]",
      "text/plain": [
       "<Figure size 1000x1000 with 1 Axes>"
      ]
     },
     "metadata": {},
     "output_type": "display_data"
    }
   ],
   "source": [
    "plt.plot(frequency.real, np.real(S21), label = '$S_{21}$')\n",
    "plt.xlabel('Frequency, $f$ (GHz)')\n",
    "plt.ylabel('Power transmission, $S_{21}$ (dB)')\n",
    "plt.legend()\n",
    "plt.show()"
   ]
  },
  {
   "cell_type": "markdown",
   "id": "4e9feabc-f2f2-41c2-8569-4c50cae857a8",
   "metadata": {},
   "source": [
    "# PLayground"
   ]
  },
  {
   "cell_type": "code",
   "execution_count": null,
   "id": "eb2b867c-dd13-4ada-a64a-e0288e190eb9",
   "metadata": {},
   "outputs": [],
   "source": [
    "import SchemDraw \n",
    "from matplotlib import pyplot as plt\n",
    "from SchemDraw import elements as el\n",
    "d = SchemDraw.Drawing()\n",
    "d.add(el.GND)\n",
    "d.add(el.DOT)\n",
    "d.add(el.INDUCTOR, d='left', l=d.unit, label='M=12 pH', lblloc='bot')\n",
    "d.push()\n",
    "d.add(el.DOT, d='down', label='1')\n",
    "d.add(el.RES, label='$Z_0=50\\\\Omega$', d='down')\n",
    "d.add(el.GND)\n",
    "d.pop()\n",
    "d.add(el.JJ, d='up', label='219 nA')\n",
    "d.add(el.LINE, d='right', l=d.unit)\n",
    "d.add(el.DOT, lblloc='rgt', label='2')\n",
    "d.add(el.JJ, d='down', label='32 nA')\n",
    "d.add(el.LINE, d='right', l=d.unit)\n",
    "d.add(el.CAP, d='up', label='70 fF', l=d.unit*2)\n",
    "d.add(el.LINE, d='left', l=d.unit)\n",
    "d.add(el.DOT, label='3')\n",
    "d.add(el.JJ, d='down', label='32 nA')\n",
    "d.draw()"
   ]
  }
 ],
 "metadata": {
  "kernelspec": {
   "display_name": "Python 3",
   "language": "python",
   "name": "python3"
  },
  "language_info": {
   "codemirror_mode": {
    "name": "ipython",
    "version": 3
   },
   "file_extension": ".py",
   "mimetype": "text/x-python",
   "name": "python",
   "nbconvert_exporter": "python",
   "pygments_lexer": "ipython3",
   "version": "3.9.6"
  }
 },
 "nbformat": 4,
 "nbformat_minor": 5
}
