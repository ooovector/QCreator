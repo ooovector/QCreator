{
 "cells": [
  {
   "cell_type": "code",
   "execution_count": 1,
   "metadata": {
    "ExecuteTime": {
     "end_time": "2020-08-06T22:22:28.307391Z",
     "start_time": "2020-08-06T22:22:28.212332Z"
    }
   },
   "outputs": [],
   "source": [
    "from transmission_line_simulator import *\n",
    "import scipy.constants"
   ]
  },
  {
   "cell_type": "markdown",
   "metadata": {},
   "source": [
    "# Create a curcuit"
   ]
  },
  {
   "cell_type": "markdown",
   "metadata": {},
   "source": [
    "Firstly, we need to create a topology of our curcuit.\n",
    "Each element has a type, a name and number of nodes characterized him.\n",
    "1. element_1 = type()\n",
    "2. circuit = transmission_line_system()\n",
    "3. circuit.add_element(element_1, list of nodes)\n"
   ]
  },
  {
   "cell_type": "code",
   "execution_count": 2,
   "metadata": {
    "ExecuteTime": {
     "end_time": "2020-08-06T22:22:28.795054Z",
     "start_time": "2020-08-06T22:22:28.785045Z"
    }
   },
   "outputs": [],
   "source": [
    "claw = capacitor()\n",
    "#qubit_cap = capacitor()\n",
    "#qubit_inductor = inductor()\n",
    "source = port()\n",
    "# analyzer_feedline = transmission_line_coupler(n=1)\n",
    "analyzer = port()\n",
    "\n",
    "GND = short()\n",
    "resonator_short_end = transmission_line_coupler(n=1)\n",
    "resonator_claw_end = transmission_line_coupler(n=1)\n",
    "coupler = transmission_line_coupler()\n",
    "\n",
    "circuit = transmission_line_system()\n",
    "\n",
    "circuit.add_element(source, [1])\n",
    "circuit.add_element(coupler, [1, 2, 3, 4])\n",
    "circuit.add_element(analyzer, [3])\n",
    "circuit.add_element(resonator_short_end, [4, 0])\n",
    "circuit.add_element(resonator_claw_end, [2, 5])\n",
    "circuit.add_element(claw, [5, 0])\n",
    "#circuit.add_element(qubit_cap, [6, 0])\n",
    "#circuit.add_element(qubit_inductor, [6, 0])\n",
    "circuit.add_element(GND, [0])"
   ]
  },
  {
   "cell_type": "code",
   "execution_count": 3,
   "metadata": {
    "ExecuteTime": {
     "end_time": "2020-08-06T22:22:28.933843Z",
     "start_time": "2020-08-06T22:22:28.926871Z"
    }
   },
   "outputs": [],
   "source": [
    "source.Z0=50\n",
    "analyzer.Z0=50\n",
    "\n",
    "coupler.l=0.4e-3\n",
    "coupler.Ll=np.asarray([[363.456e-9,19.689e-9],\n",
    "                        [19.689e-9,574.195e-9]])\n",
    "coupler.Cl=np.asarray([[190.921e-12,-6.547e-12],\n",
    "                        [-6.547e-12,120.850e-12]])\n",
    "coupler.Rl=np.zeros(coupler.Ll.shape, dtype=np.int)\n",
    "coupler.Gl=np.zeros(coupler.Ll.shape, dtype=np.int)\n",
    "\n",
    "\n",
    "resonator_short_end.l = 3.6e-3\n",
    "resonator_short_end.Cl = 120.850e-12\n",
    "resonator_short_end.Ll = 574.195e-9\n",
    "resonator_short_end.Rl = 0\n",
    "resonator_short_end.Gl = 0\n",
    "\n",
    "resonator_claw_end.l = 1.0e-3\n",
    "resonator_claw_end.Cl = 120.850e-12\n",
    "resonator_claw_end.Ll = 574.195e-9\n",
    "resonator_claw_end.Rl = 0\n",
    "resonator_claw_end.Gl = 0\n",
    "\n",
    "claw.C=1e-15*0\n",
    "#qubit_cap.C=70e-15\n",
    "#qubit_inductor.L=19e-9"
   ]
  },
  {
   "cell_type": "code",
   "execution_count": 4,
   "metadata": {
    "ExecuteTime": {
     "end_time": "2020-08-06T22:22:29.094960Z",
     "start_time": "2020-08-06T22:22:29.091954Z"
    }
   },
   "outputs": [],
   "source": [
    "from scipy.constants import c,epsilon_0"
   ]
  },
  {
   "cell_type": "code",
   "execution_count": 5,
   "metadata": {
    "ExecuteTime": {
     "end_time": "2020-08-06T22:22:29.264843Z",
     "start_time": "2020-08-06T22:22:29.260845Z"
    }
   },
   "outputs": [],
   "source": [
    "ep=(11.45+1)/2"
   ]
  },
  {
   "cell_type": "code",
   "execution_count": 6,
   "metadata": {
    "ExecuteTime": {
     "end_time": "2020-08-06T22:22:29.382190Z",
     "start_time": "2020-08-06T22:22:29.374175Z"
    }
   },
   "outputs": [
    {
     "data": {
      "text/plain": [
       "5.562882133283824"
      ]
     },
     "execution_count": 6,
     "metadata": {},
     "output_type": "execute_result"
    }
   ],
   "source": [
    "1/4/5e-3/1e9/(np.sqrt(147.125e-12*549.103e-9))"
   ]
  },
  {
   "cell_type": "code",
   "execution_count": 7,
   "metadata": {
    "ExecuteTime": {
     "end_time": "2020-08-06T22:22:29.732133Z",
     "start_time": "2020-08-06T22:22:29.727163Z"
    }
   },
   "outputs": [
    {
     "data": {
      "text/plain": [
       "6.002289989946649"
      ]
     },
     "execution_count": 7,
     "metadata": {},
     "output_type": "execute_result"
    }
   ],
   "source": [
    "1/4/5e-3/1e9/(np.sqrt(120.85e-12*574.195e-9))"
   ]
  },
  {
   "cell_type": "markdown",
   "metadata": {},
   "source": [
    "# Simulate scattering parameter S21"
   ]
  },
  {
   "cell_type": "code",
   "execution_count": 8,
   "metadata": {
    "ExecuteTime": {
     "end_time": "2020-08-06T22:22:30.093792Z",
     "start_time": "2020-08-06T22:22:30.089775Z"
    }
   },
   "outputs": [],
   "source": [
    "nop = 10000\n",
    "frequency = np.linspace(5.98e9+0j, 6.05e9+0j, nop)\n",
    "y = np.zeros(nop, dtype=complex)"
   ]
  },
  {
   "cell_type": "code",
   "execution_count": 9,
   "metadata": {
    "ExecuteTime": {
     "end_time": "2020-08-06T22:22:30.318464Z",
     "start_time": "2020-08-06T22:22:30.304501Z"
    }
   },
   "outputs": [
    {
     "data": {
      "text/plain": [
       "(29, 29)"
      ]
     },
     "execution_count": 9,
     "metadata": {},
     "output_type": "execute_result"
    }
   ],
   "source": [
    "matrix_of_curcuit=circuit.create_boundary_problem_matrix(frequency[0]*2*np.pi)\n",
    "matrix_of_curcuit.shape"
   ]
  },
  {
   "cell_type": "code",
   "execution_count": 10,
   "metadata": {
    "ExecuteTime": {
     "end_time": "2020-08-06T22:22:39.512723Z",
     "start_time": "2020-08-06T22:22:30.479894Z"
    }
   },
   "outputs": [],
   "source": [
    "perturbation = np.zeros((matrix_of_curcuit.shape[0],1))\n",
    "perturbation[0]=1\n",
    "for i in range(nop):\n",
    "    matrix_of_curcuit=circuit.create_boundary_problem_matrix(frequency[i]*2*np.pi)\n",
    "    s21= np.linalg.solve(matrix_of_curcuit, perturbation)\n",
    "    y[i]=s21[1]\n",
    "S21 = 1-y/np.max(y)"
   ]
  },
  {
   "cell_type": "code",
   "execution_count": 11,
   "metadata": {
    "ExecuteTime": {
     "end_time": "2020-08-06T22:22:40.129778Z",
     "start_time": "2020-08-06T22:22:39.514458Z"
    }
   },
   "outputs": [
    {
     "data": {
      "image/png": "[encoded data removed]",
      "text/plain": [
       "<Figure size 432x288 with 1 Axes>"
      ]
     },
     "metadata": {
      "needs_background": "light"
     },
     "output_type": "display_data"
    }
   ],
   "source": [
    "import matplotlib.pyplot as plt\n",
    "#fig, ax = plt.subplots(figsize=(20, 10))\n",
    "plt.plot(frequency.real, np.abs(S21), label = '$S_{21}$')\n",
    "plt.xlabel('Frequency, $f$ (GHz)')\n",
    "plt.ylabel('Power transmission, $S_{21}$ (dB)')\n",
    "plt.legend()\n",
    "plt.show()"
   ]
  },
  {
   "cell_type": "code",
   "execution_count": 14,
   "metadata": {
    "ExecuteTime": {
     "end_time": "2020-08-06T22:25:01.326939Z",
     "start_time": "2020-08-06T22:25:01.323949Z"
    }
   },
   "outputs": [],
   "source": [
    "import resonator_tools\n",
    "# from resonator_tools.circuit import notch_port, reflection_port"
   ]
  },
  {
   "cell_type": "code",
   "execution_count": 16,
   "metadata": {
    "ExecuteTime": {
     "end_time": "2020-08-06T22:25:35.607828Z",
     "start_time": "2020-08-06T22:25:35.599823Z"
    }
   },
   "outputs": [
    {
     "ename": "AttributeError",
     "evalue": "module 'resonator_tools' has no attribute 'notch_port'",
     "output_type": "error",
     "traceback": [
      "\u001b[1;31m---------------------------------------------------------------------------\u001b[0m",
      "\u001b[1;31mAttributeError\u001b[0m                            Traceback (most recent call last)",
      "\u001b[1;32m<ipython-input-16-e4b9be4da4e6>\u001b[0m in \u001b[0;36m<module>\u001b[1;34m\u001b[0m\n\u001b[1;32m----> 1\u001b[1;33m \u001b[0mresonator_tools\u001b[0m\u001b[1;33m.\u001b[0m\u001b[0mnotch_port\u001b[0m\u001b[1;33m\u001b[0m\u001b[1;33m\u001b[0m\u001b[0m\n\u001b[0m",
      "\u001b[1;31mAttributeError\u001b[0m: module 'resonator_tools' has no attribute 'notch_port'"
     ]
    }
   ],
   "source": [
    "import"
   ]
  },
  {
   "cell_type": "code",
   "execution_count": null,
   "metadata": {
    "ExecuteTime": {
     "end_time": "2020-08-06T22:22:40.202583Z",
     "start_time": "2020-08-06T22:22:31.038Z"
    }
   },
   "outputs": [],
   "source": [
    "fitter = notch_port(f_data=frequency.real, z_data_raw=S21)"
   ]
  },
  {
   "cell_type": "code",
   "execution_count": null,
   "metadata": {
    "ExecuteTime": {
     "end_time": "2020-08-06T22:22:40.203608Z",
     "start_time": "2020-08-06T22:22:31.256Z"
    }
   },
   "outputs": [],
   "source": [
    "fitter.autofit()"
   ]
  },
  {
   "cell_type": "code",
   "execution_count": null,
   "metadata": {
    "ExecuteTime": {
     "end_time": "2020-08-06T22:22:40.203608Z",
     "start_time": "2020-08-06T22:22:31.465Z"
    }
   },
   "outputs": [],
   "source": [
    "fitter.plotall()"
   ]
  },
  {
   "cell_type": "code",
   "execution_count": null,
   "metadata": {
    "ExecuteTime": {
     "end_time": "2020-08-06T22:22:40.204622Z",
     "start_time": "2020-08-06T22:22:31.793Z"
    }
   },
   "outputs": [],
   "source": [
    "fitter.fitresults"
   ]
  },
  {
   "cell_type": "code",
   "execution_count": null,
   "metadata": {
    "ExecuteTime": {
     "end_time": "2020-08-06T22:22:40.205606Z",
     "start_time": "2020-08-06T22:22:32.863Z"
    }
   },
   "outputs": [],
   "source": [
    "fitter.GUIfit()"
   ]
  },
  {
   "cell_type": "code",
   "execution_count": null,
   "metadata": {},
   "outputs": [],
   "source": []
  }
 ],
 "metadata": {
  "kernelspec": {
   "display_name": "Python 3",
   "language": "python",
   "name": "python3"
  },
  "language_info": {
   "codemirror_mode": {
    "name": "ipython",
    "version": 3
   },
   "file_extension": ".py",
   "mimetype": "text/x-python",
   "name": "python",
   "nbconvert_exporter": "python",
   "pygments_lexer": "ipython3",
   "version": "3.9.6"
  },
  "toc": {
   "base_numbering": 1,
   "nav_menu": {},
   "number_sections": true,
   "sideBar": true,
   "skip_h1_title": false,
   "title_cell": "Table of Contents",
   "title_sidebar": "Contents",
   "toc_cell": false,
   "toc_position": {},
   "toc_section_display": true,
   "toc_window_display": false
  }
 },
 "nbformat": 4,
 "nbformat_minor": 4
}
