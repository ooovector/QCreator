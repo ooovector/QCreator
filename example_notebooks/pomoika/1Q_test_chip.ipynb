{
 "cells": [
  {
   "cell_type": "markdown",
   "metadata": {},
   "source": [
    "## Import design libraries"
   ]
  },
  {
   "cell_type": "code",
   "execution_count": 1,
   "metadata": {
    "collapsed": true
   },
   "outputs": [],
   "source": [
    "import sys\n",
    "sys.path.append('..')"
   ]
  },
  {
   "cell_type": "code",
   "execution_count": 2,
   "metadata": {
    "collapsed": true
   },
   "outputs": [],
   "source": [
    "import gdspy\n",
    "import numpy as np\n",
    "from importlib import reload\n",
    "from copy import deepcopy\n",
    "from QCreator import elements\n",
    "from QCreator import general_sample_creator as creator\n",
    "from QCreator import meshing"
   ]
  },
  {
   "cell_type": "markdown",
   "metadata": {},
   "source": [
    "# Specify constant, everything in microns"
   ]
  },
  {
   "cell_type": "code",
   "execution_count": 3,
   "metadata": {
    "collapsed": true
   },
   "outputs": [],
   "source": [
    "tl_core = 20.\n",
    "tl_gap = 12.\n",
    "tl_ground = 10."
   ]
  },
  {
   "cell_type": "markdown",
   "metadata": {},
   "source": [
    "# Sample generation"
   ]
  },
  {
   "cell_type": "markdown",
   "metadata": {},
   "source": [
    "## ground and grid, layer config"
   ]
  },
  {
   "cell_type": "code",
   "execution_count": 4,
   "metadata": {
    "collapsed": true
   },
   "outputs": [],
   "source": [
    "reload(gdspy)\n",
    "reload(creator)\n",
    "reload(elements)\n",
    "\n",
    "\n",
    "# resonator_core = 7\n",
    "# resonator_gap = 4\n",
    "# resonator_ground = 16\n",
    "resonator_core = 8\n",
    "resonator_gap = 7\n",
    "resonator_ground = 16\n",
    "\n",
    "pad_offset = 800\n",
    "pad_element_offset = 1000\n",
    "qubit_position_offset = 800\n",
    "\n",
    "coupler_start = pad_offset + pad_element_offset\n",
    "coupler_delta = 500\n",
    "coupler_length = 450\n",
    "num_couplers = 1\n",
    "\n",
    "\n",
    "layers_configuration = {\n",
    "    'total':0,\n",
    "    'restricted area':10,\n",
    "    'for removing':100,\n",
    "    'JJs':1,\n",
    "    'air bridges':2,\n",
    "    'air bridge pads':3,\n",
    "    'vertical gridlines':15,\n",
    "    'horizontal gridlines':16,\n",
    "    'inverted':17\n",
    "}\n",
    "\n",
    "sample = creator.Sample('1Q_test',layers_configuration)\n",
    "\n",
    "#specify sample vertical and horizontal lengths\n",
    "sample.chip_geometry.sample_vertical_size=4.7e3\n",
    "sample.chip_geometry.sample_horizontal_size=4.7e3\n",
    "num_qubits_line = 3\n",
    "\n",
    "central_line_y = sample.chip_geometry.sample_vertical_size/2\n",
    "\n",
    "ChichkovAB = elements.AirBridge(width=15, \n",
    "                                length=60, \n",
    "                                padsize=30, \n",
    "                                min_spacing = 30,\n",
    "                                layer_configuration=sample.layer_configuration)\n",
    "\n",
    "chip_edge_ground = elements.ChipEdgeGround(sample.chip_geometry, sample.layer_configuration, sample.pads)\n",
    "sample.add(chip_edge_ground)\n",
    "\n"
   ]
  },
  {
   "cell_type": "markdown",
   "metadata": {},
   "source": [
    "## microwave contact pads"
   ]
  },
  {
   "cell_type": "code",
   "execution_count": 5,
   "metadata": {
    "collapsed": true
   },
   "outputs": [],
   "source": [
    "# 1. Create contact pads:\n",
    "pads_left = []\n",
    "pads_right = []\n",
    "for pad_side_id in range(1):\n",
    "    pad = elements.Pad('pad-left-'+str(pad_side_id), \n",
    "                       (pad_offset,  sample.chip_geometry.sample_vertical_size/2), np.pi, tl_core, \n",
    "                       tl_gap, tl_ground, \n",
    "                       layer_configuration=sample.layer_configuration, chip_geometry=sample.chip_geometry, \n",
    "                       **elements.default_pad_geometry())\n",
    "    pads_left.append(pad)\n",
    "    sample.add(pad)\n",
    "    pad = elements.Pad('pad-right-'+str(pad_side_id), \n",
    "                       (sample.chip_geometry.sample_horizontal_size-pad_offset,  \n",
    "                        sample.chip_geometry.sample_vertical_size/2), 0, tl_core, \n",
    "                       tl_gap, tl_ground, \n",
    "                       layer_configuration=sample.layer_configuration, chip_geometry=sample.chip_geometry, \n",
    "                       **elements.default_pad_geometry())\n",
    "    pads_right.append(pad)\n",
    "    sample.add(pad)\n",
    "    \n",
    "pads_top = []\n",
    "pads_bottom = []\n",
    "for pad_side_id in range(3):\n",
    "    pad = elements.Pad('pad-bottom-'+str(pad_side_id), \n",
    "                       (sample.chip_geometry.sample_horizontal_size/4*(pad_side_id+1), pad_offset), \n",
    "                       -np.pi/2, tl_core, tl_gap, tl_ground, \n",
    "                       layer_configuration=sample.layer_configuration, chip_geometry=sample.chip_geometry, \n",
    "                       **elements.default_pad_geometry())\n",
    "    pads_bottom.append(pad)\n",
    "    sample.add(pad)\n",
    "    pad = elements.Pad('pad-top-'+str(pad_side_id), \n",
    "                       (sample.chip_geometry.sample_horizontal_size/4*(pad_side_id+1),\n",
    "                        sample.chip_geometry.sample_vertical_size-pad_offset), \n",
    "                        np.pi/2, tl_core, tl_gap, tl_ground, \n",
    "                       layer_configuration=sample.layer_configuration, chip_geometry=sample.chip_geometry, \n",
    "                       **elements.default_pad_geometry())\n",
    "    pads_top.append(pad)\n",
    "    sample.add(pad)\n",
    "    \n",
    "p1 = pads_left[0]\n",
    "p2 = pads_right[0]"
   ]
  },
  {
   "cell_type": "code",
   "execution_count": 15,
   "metadata": {
    "collapsed": true
   },
   "outputs": [],
   "source": [
    "sample.watch()"
   ]
  },
  {
   "cell_type": "markdown",
   "metadata": {},
   "source": [
    "# Coaxmons"
   ]
  },
  {
   "cell_type": "code",
   "execution_count": 6,
   "metadata": {
    "collapsed": true
   },
   "outputs": [],
   "source": [
    "##########################################################################3\n",
    "# для расчета резонаторов\n",
    "# RUN ME\n",
    "\n",
    "shift=-1/10\n",
    "shift1=shift+4/5\n",
    "phi1=1/5\n",
    "\n",
    "\n",
    "# resonator_core = 7\n",
    "# resonator_gap = 4\n",
    "# resonator_ground = 16\n",
    "resonator_core = 8\n",
    "resonator_gap = 7\n",
    "resonator_ground = 16\n",
    "\n",
    "# Couplers1q_corner=[elements.coaxmon.CoaxmonCoupler(arc_start=-1/6-1/100+shift,arc_finish=-3/6+1/100+shift,phi=-1/2,\n",
    "#                                           coupler_type=None, w =10,g=4),\n",
    "#           elements.coaxmon.CoaxmonCoupler(arc_start=1/6+1/100+shift,arc_finish=3/6-1/100+shift,phi=phi1,\n",
    "#                                           coupler_type=None, w =10,g=4),\n",
    "#           elements.coaxmon.CoaxmonCoupler(arc_start=3/6+1/100+shift,arc_finish=5/6-1/100+shift,phi=1/2, \n",
    "#                                           coupler_type='coupler', w =7,g=10, s=4), #one upper\n",
    "#           elements.coaxmon.CoaxmonCoupler(arc_start=-1/6+1/100+1+shift,arc_finish=1/6-1/100+1+shift,phi=1,\n",
    "#                                           coupler_type=None, w =10,g=4),\n",
    "#           elements.coaxmon.CoaxmonCoupler(arc_start=-1/6+1/100+shift,arc_finish=1/6-1/100+shift,phi=0,\n",
    "#                                           coupler_type=None, w =10,g=4),\n",
    "#           elements.coaxmon.CoaxmonCoupler(arc_start=-5/6+1/100+shift,arc_finish=-3/6-1/100+shift,phi=1,\n",
    "#                                           coupler_type='grounded',w=11,g=4)]\n",
    "Couplers1q_corner=[elements.coaxmon.CoaxmonCoupler(arc_start=-1/6-1/100+shift,arc_finish=-3/6+1/100+shift,phi=-1/2,\n",
    "                                          coupler_type=None, w =10,g=4),\n",
    "          elements.coaxmon.CoaxmonCoupler(arc_start=1/6+1/100+shift,arc_finish=3/6-1/100+shift,phi=phi1,\n",
    "                                          coupler_type=None, w =10,g=4),\n",
    "          elements.coaxmon.CoaxmonCoupler(arc_start=3/6+1/100+shift,arc_finish=5/6-1/100+shift,phi=1/2, \n",
    "                                          coupler_type='coupler', w =8,g=10, s=7), #one upper\n",
    "          elements.coaxmon.CoaxmonCoupler(arc_start=-1/6+1/100+1+shift,arc_finish=1/6-1/100+1+shift,phi=1,\n",
    "                                          coupler_type=None, w =10,g=4),\n",
    "          elements.coaxmon.CoaxmonCoupler(arc_start=-1/6+1/100+shift,arc_finish=1/6-1/100+shift,phi=0,\n",
    "                                          coupler_type=None, w =10,g=4),\n",
    "          elements.coaxmon.CoaxmonCoupler(arc_start=-5/6+1/100+shift,arc_finish=-3/6-1/100+shift,phi=1,\n",
    "                                          coupler_type='grounded',w=11,g=4)]\n",
    "Couplers1q_corner1=[elements.coaxmon.CoaxmonCoupler(arc_start=-1/6-1/100+shift,arc_finish=-3/6+1/100+shift,phi=-1/2+1/8,\n",
    "                                          coupler_type='grounded', w =11,g=4),\n",
    "          elements.coaxmon.CoaxmonCoupler(arc_start=1/6+1/100+shift,arc_finish=3/6-1/100+shift,phi=phi1,\n",
    "                                          coupler_type=None, w =10,g=4),\n",
    "          elements.coaxmon.CoaxmonCoupler(arc_start=3/6+1/100+shift,arc_finish=5/6-1/100+shift,phi=1/2, \n",
    "                                          coupler_type='coupler', w =8,g=10, s=7), #one upper\n",
    "          elements.coaxmon.CoaxmonCoupler(arc_start=-1/6+1/100+1+shift,arc_finish=1/6-1/100+1+shift,phi=1,\n",
    "                                          coupler_type=None, w =10,g=4),\n",
    "          elements.coaxmon.CoaxmonCoupler(arc_start=-1/6+1/100+shift,arc_finish=1/6-1/100+shift,phi=0,\n",
    "                                          coupler_type=None, w =10,g=4),\n",
    "          elements.coaxmon.CoaxmonCoupler(arc_start=-5/6+1/100+shift,arc_finish=-3/6-1/100+shift,phi=-1/2-1/6,\n",
    "                                          coupler_type=None,w=10,g=4)\n",
    "]\n",
    "\n",
    "Couplers2q_corner=[elements.coaxmon.CoaxmonCoupler(arc_start=-3/6+1/100+shift1,arc_finish=-1/6-1/100+shift1,phi=1/2,\n",
    "                                          coupler_type='coupler', w =7,g=10, s=4),\n",
    "                   elements.coaxmon.CoaxmonCoupler(arc_start=1/6+1/100+shift1,arc_finish=3/6-1/100+shift1,phi=-1,\n",
    "                                          coupler_type=None, w =10,g=4),\n",
    "          elements.coaxmon.CoaxmonCoupler(arc_start=3/6+1/100+shift1,arc_finish=5/6-1/100+shift1,phi=-1/2-1/6, \n",
    "                                          coupler_type=None, w =10,g=4), \n",
    "          elements.coaxmon.CoaxmonCoupler(arc_start=-1/6+1/100+1+shift1,arc_finish=1/6-1/100+1+shift1,phi=-1/2+1/6,\n",
    "                                          coupler_type='grounded', w =11,g=4),\n",
    "          elements.coaxmon.CoaxmonCoupler(arc_start=-1/6+1/100+shift1,arc_finish=1/6-1/100+shift1,phi=1-1/4-1/12,\n",
    "                                          coupler_type='coupler', w =8,g=10, s=7),\n",
    "          elements.coaxmon.CoaxmonCoupler(arc_start=-5/6+1/100+shift1,arc_finish=-3/6-1/100+shift1,phi=0,\n",
    "                                          coupler_type=None,w=10,g=10)]\n",
    "\n",
    "Couplers2q_line=[elements.coaxmon.CoaxmonCoupler(arc_start=-1/6-1/100+shift,arc_finish=-3/6+1/100+shift,phi=-1/2,\n",
    "                                          coupler_type=None, w =10,g=4),\n",
    "          elements.coaxmon.CoaxmonCoupler(arc_start=1/6+1/100+shift,arc_finish=3/6-1/100+shift,phi=phi1,\n",
    "                                          coupler_type='coupler', w =8,g=10, s=7),# for resonator\n",
    "          elements.coaxmon.CoaxmonCoupler(arc_start=3/6+1/100+shift,arc_finish=5/6-1/100+shift,phi=1/2, \n",
    "                                          coupler_type=None, w =10,g=40), #one upper\n",
    "          elements.coaxmon.CoaxmonCoupler(arc_start=-1/6+1/100+1+shift,arc_finish=1/6-1/100+1+shift,phi=1,\n",
    "                                          coupler_type='coupler', w =10,g=40),\n",
    "          elements.coaxmon.CoaxmonCoupler(arc_start=-1/6+1/100+shift,arc_finish=1/6-1/100+shift,phi=0,\n",
    "                                          coupler_type='coupler', w =10,g=40),\n",
    "          elements.coaxmon.CoaxmonCoupler(arc_start=-5/6+1/100+shift,arc_finish=-3/6-1/100+shift,phi=1,\n",
    "                                          coupler_type='grounded',w=4,g=4)\n",
    "]\n",
    "\n",
    "\n",
    "\n",
    "jj_coaxmon = {'a1':30,\n",
    "               'b1':0.8,\n",
    "               'a2':0.45,\n",
    "               'b2':0.243,\n",
    "               'c1':0.243,\n",
    "               'c2':10,\n",
    "               'angle_qubit':-np.pi/2-np.pi/3,\n",
    "               'angle_JJ': 0,\n",
    "               'length':10,\n",
    "               'width':4}\n",
    "jj_geometry = {\n",
    "    'gwidth': 56,\n",
    "    'gheight': 18,\n",
    "    'iwidth': 48,\n",
    "    'iheight': 10,\n",
    "    'ithick': 4,\n",
    "    'fheight1': 20,\n",
    "    'fheight2': 40,\n",
    "    'hdist': 4,\n",
    "    'fshoulder': 15,\n",
    "    'fthick': 4\n",
    "        }\n",
    "jj = {\n",
    "    'type': 2,\n",
    "    'up_rect_h': 12,\n",
    "    'up_rect_w': 12,\n",
    "    'side_rect_h': 6,\n",
    "    'side_rect_w': 6,\n",
    "    'side_l_thick': 0.44,\n",
    "    'side_r_thick': 0.44,\n",
    "    'up_l_thick': 0.44,\n",
    "    'up_r_thick': 0.44\n",
    "}\n",
    "\n",
    "# add coaxmons 1st line\n",
    "for line_id in range(2):\n",
    "    for qubit_id in range(2):\n",
    "        jj_coaxmon_ = {k:v for k, v in jj_coaxmon.items()} \n",
    "        if qubit_id == 0:\n",
    "            couplers_ = Couplers1q_corner\n",
    "\n",
    "        elif qubit_id == 1:\n",
    "            couplers_ = Couplers1q_corner1\n",
    "            jj_coaxmon_['angle_qubit'] = -np.pi/2+np.pi/4\n",
    "#             \n",
    "        elif qubit_id == 2:\n",
    "            couplers_ = Couplers2q_corner\n",
    "#             jj_coaxmon_['angle_qubit'] = np.pi/8\n",
    "            jj_coaxmon_['angle_qubit'] = -np.pi/2+np.pi/4#7*np.pi/24#np.pi/4\n",
    "        else:\n",
    "            couplers_ = Couplers2q_corner\n",
    "\n",
    "            \n",
    "        if qubit_id==0:\n",
    "            x_shift = 400\n",
    "        else:\n",
    "            x_shift = 700\n",
    "        if line_id == 0:\n",
    "            transformations = {}\n",
    "#             transformations = {'mirror':[(sample.chip_geometry.sample_horizontal_size/2+qubit_position_offset*(qubit_id-(num_qubits_line-1)/2),\n",
    "#                         sample.chip_geometry.sample_vertical_size/2+2*qubit_position_offset*(line_id-0.5)),\n",
    "#                        (sample.chip_geometry.sample_horizontal_size/2+qubit_position_offset*(qubit_id-(num_qubits_line-1)/2),\n",
    "#                         sample.chip_geometry.sample_vertical_size/2+2*qubit_position_offset*(line_id-0.5)+10)]}\n",
    "            coaxmon= elements.coaxmon.Coaxmon(name='Coaxmon',\n",
    "                        center=(sample.chip_geometry.sample_horizontal_size/2+1.2*qubit_position_offset*(qubit_id-(num_qubits_line-1)/2)+x_shift,\n",
    "                                sample.chip_geometry.sample_vertical_size/2+2*qubit_position_offset*(line_id-0.5)),\n",
    "                        center_radius = 100,\n",
    "                        inner_couplers_radius = 140,\n",
    "                        outer_couplers_radius = 200,\n",
    "                        inner_ground_radius = 230,\n",
    "                        outer_ground_radius = 250,\n",
    "                        layer_configuration = sample.layer_configuration,\n",
    "                        Couplers=couplers_,jj_params= jj_coaxmon_,\n",
    "                                  transformations=transformations,\n",
    "                                  calculate_capacitance=True)\n",
    "            sample.add(coaxmon)\n",
    "        else:\n",
    "            transformations = {'mirror':[(sample.chip_geometry.sample_horizontal_size/2+1.2*qubit_position_offset*(qubit_id-(num_qubits_line-1)/2)+x_shift,\n",
    "                                sample.chip_geometry.sample_vertical_size/2+2*qubit_position_offset*(line_id-0.5)),\n",
    "                       (sample.chip_geometry.sample_horizontal_size/2+1.2*qubit_position_offset*(qubit_id-(num_qubits_line-1)/2)+x_shift+10,\n",
    "                                sample.chip_geometry.sample_vertical_size/2+2*qubit_position_offset*(line_id-0.5))]}\n",
    "#             if qubit_id==2:\n",
    "#                 coaxmon= elements.coaxmon.Coaxmon(name='Coaxmon',\n",
    "#                         center=(sample.chip_geometry.sample_horizontal_size/2+1.2*qubit_position_offset*(qubit_id-(num_qubits_line-1)/2)+x_shift,\n",
    "#                                 sample.chip_geometry.sample_vertical_size/2+2*qubit_position_offset*(line_id-0.5)),\n",
    "#                         center_radius = 100,\n",
    "#                         inner_couplers_radius = 140,\n",
    "#                         outer_couplers_radius = 200,\n",
    "#                         inner_ground_radius = 230,\n",
    "#                         outer_ground_radius = 250,\n",
    "#                         layer_configuration = sample.layer_configuration,\n",
    "#                         Couplers=couplers_,jj_params= jj_coaxmon_,\n",
    "#                                   transformations=transformations,\n",
    "#                                   calculate_capacitance=True)\n",
    "#                 sample.add(coaxmon)\n",
    "#             else:\n",
    "\n",
    "#                 xmon = elements.xmon.Xmon(name = 'Xmon',\n",
    "# #                           center=(sample.chip_geometry.sample_horizontal_size/2+qubit_position_offset*(qubit_id-(num_qubits_line-1)/2),\n",
    "# #                                 sample.chip_geometry.sample_vertical_size/2+2*qubit_position_offset*(line_id-0.5)),\n",
    "#                           center=(sample.chip_geometry.sample_horizontal_size/4*(qubit_id+1),\n",
    "#                                   sample.chip_geometry.sample_vertical_size/2+2*qubit_position_offset*(line_id-0.5)),\n",
    "#                           length = 250,\n",
    "#                           width_gap = 5,\n",
    "#                           center_width = 10,\n",
    "#                           crab_position = ('right', 'left'),\n",
    "#                           crab_shoulder = 30,\n",
    "#                           crab_thickness = 8,\n",
    "#                           ground_thickness = 10,\n",
    "#                           delete_ground = '',\n",
    "#                           jj_position = 'up',\n",
    "#                           jj_params1 = jj_geometry,\n",
    "#                           jj_params2 = jj,\n",
    "#                           layer_configuration = sample.layer_configuration)\n",
    "#                 sample.add(xmon)\n",
    "\n",
    "        \n",
    "        \n",
    "\n",
    "sample.draw_design()"
   ]
  },
  {
   "cell_type": "code",
   "execution_count": 6,
   "metadata": {
    "collapsed": true
   },
   "outputs": [],
   "source": [
    "\n",
    "##########################################################################3\n",
    "# add coaxmons\n",
    "\n",
    "shift=-1/10\n",
    "shift1=shift+4/5\n",
    "phi1=1/5\n",
    "\n",
    "\n",
    "# resonator_core = 7\n",
    "# resonator_gap = 4\n",
    "# resonator_ground = 16\n",
    "resonator_core = 8\n",
    "resonator_gap = 7\n",
    "resonator_ground = 16\n",
    "\n",
    "# Couplers1q_corner=[elements.coaxmon.CoaxmonCoupler(arc_start=-1/6-1/100+shift,arc_finish=-3/6+1/100+shift,phi=-1/2,\n",
    "#                                           coupler_type=None, w =10,g=4),\n",
    "#           elements.coaxmon.CoaxmonCoupler(arc_start=1/6+1/100+shift,arc_finish=3/6-1/100+shift,phi=phi1,\n",
    "#                                           coupler_type=None, w =10,g=4),\n",
    "#           elements.coaxmon.CoaxmonCoupler(arc_start=3/6+1/100+shift,arc_finish=5/6-1/100+shift,phi=1/2, \n",
    "#                                           coupler_type='coupler', w =7,g=10, s=4), #one upper\n",
    "#           elements.coaxmon.CoaxmonCoupler(arc_start=-1/6+1/100+1+shift,arc_finish=1/6-1/100+1+shift,phi=1,\n",
    "#                                           coupler_type=None, w =10,g=4),\n",
    "#           elements.coaxmon.CoaxmonCoupler(arc_start=-1/6+1/100+shift,arc_finish=1/6-1/100+shift,phi=0,\n",
    "#                                           coupler_type=None, w =10,g=4),\n",
    "#           elements.coaxmon.CoaxmonCoupler(arc_start=-5/6+1/100+shift,arc_finish=-3/6-1/100+shift,phi=1,\n",
    "#                                           coupler_type='grounded',w=11,g=4)]\n",
    "Couplers1q_corner=[elements.coaxmon.CoaxmonCoupler(arc_start=-1/6-1/100+shift,arc_finish=-3/6+1/100+shift,phi=-1/2,\n",
    "                                          coupler_type=None, w =10,g=4),\n",
    "          elements.coaxmon.CoaxmonCoupler(arc_start=1/6+1/100+shift,arc_finish=3/6-1/100+shift,phi=phi1,\n",
    "                                          coupler_type=None, w =10,g=4),\n",
    "          elements.coaxmon.CoaxmonCoupler(arc_start=3/6+1/100+shift,arc_finish=5/6-1/100+shift,phi=1/2, \n",
    "                                          coupler_type='coupler', w =8,g=10, s=7), #one upper\n",
    "          elements.coaxmon.CoaxmonCoupler(arc_start=-1/6+1/100+1+shift,arc_finish=1/6-1/100+1+shift,phi=1,\n",
    "                                          coupler_type=None, w =10,g=4),\n",
    "          elements.coaxmon.CoaxmonCoupler(arc_start=-1/6+1/100+shift,arc_finish=1/6-1/100+shift,phi=0,\n",
    "                                          coupler_type=None, w =10,g=4),\n",
    "          elements.coaxmon.CoaxmonCoupler(arc_start=-5/6+1/100+shift,arc_finish=-3/6-1/100+shift,phi=1,\n",
    "                                          coupler_type='grounded',w=11,g=4)]\n",
    "Couplers1q_corner1=[elements.coaxmon.CoaxmonCoupler(arc_start=-1/6-1/100+shift,arc_finish=-3/6+1/100+shift,phi=-1/2+1/8,\n",
    "                                          coupler_type='grounded', w =11,g=4),\n",
    "          elements.coaxmon.CoaxmonCoupler(arc_start=1/6+1/100+shift,arc_finish=3/6-1/100+shift,phi=phi1,\n",
    "                                          coupler_type=None, w =10,g=4),\n",
    "          elements.coaxmon.CoaxmonCoupler(arc_start=3/6+1/100+shift,arc_finish=5/6-1/100+shift,phi=1/2, \n",
    "                                          coupler_type='coupler', w =8,g=10, s=7), #one upper\n",
    "          elements.coaxmon.CoaxmonCoupler(arc_start=-1/6+1/100+1+shift,arc_finish=1/6-1/100+1+shift,phi=1,\n",
    "                                          coupler_type=None, w =10,g=4),\n",
    "          elements.coaxmon.CoaxmonCoupler(arc_start=-1/6+1/100+shift,arc_finish=1/6-1/100+shift,phi=0,\n",
    "                                          coupler_type=None, w =10,g=4),\n",
    "          elements.coaxmon.CoaxmonCoupler(arc_start=-5/6+1/100+shift,arc_finish=-3/6-1/100+shift,phi=-1/2-1/6,\n",
    "                                          coupler_type=None,w=10,g=4)\n",
    "]\n",
    "\n",
    "Couplers2q_corner=[elements.coaxmon.CoaxmonCoupler(arc_start=-3/6+1/100+shift1,arc_finish=-1/6-1/100+shift1,phi=1/2,\n",
    "                                          coupler_type='coupler', w =7,g=10, s=4),\n",
    "                   elements.coaxmon.CoaxmonCoupler(arc_start=1/6+1/100+shift1,arc_finish=3/6-1/100+shift1,phi=-1,\n",
    "                                          coupler_type=None, w =10,g=4),\n",
    "          elements.coaxmon.CoaxmonCoupler(arc_start=3/6+1/100+shift1,arc_finish=5/6-1/100+shift1,phi=-1/2-1/6, \n",
    "                                          coupler_type=None, w =10,g=4), \n",
    "          elements.coaxmon.CoaxmonCoupler(arc_start=-1/6+1/100+1+shift1,arc_finish=1/6-1/100+1+shift1,phi=-1/2+1/6,\n",
    "                                          coupler_type='grounded', w =11,g=4),\n",
    "          elements.coaxmon.CoaxmonCoupler(arc_start=-1/6+1/100+shift1,arc_finish=1/6-1/100+shift1,phi=1-1/4-1/12,\n",
    "                                          coupler_type='coupler', w =8,g=10, s=7),\n",
    "          elements.coaxmon.CoaxmonCoupler(arc_start=-5/6+1/100+shift1,arc_finish=-3/6-1/100+shift1,phi=0,\n",
    "                                          coupler_type=None,w=10,g=10)]\n",
    "\n",
    "Couplers2q_line=[elements.coaxmon.CoaxmonCoupler(arc_start=-1/6-1/100+shift,arc_finish=-3/6+1/100+shift,phi=-1/2,\n",
    "                                          coupler_type=None, w =10,g=4),\n",
    "          elements.coaxmon.CoaxmonCoupler(arc_start=1/6+1/100+shift,arc_finish=3/6-1/100+shift,phi=phi1,\n",
    "                                          coupler_type='coupler', w =8,g=10, s=7),# for resonator\n",
    "          elements.coaxmon.CoaxmonCoupler(arc_start=3/6+1/100+shift,arc_finish=5/6-1/100+shift,phi=1/2, \n",
    "                                          coupler_type=None, w =10,g=40), #one upper\n",
    "          elements.coaxmon.CoaxmonCoupler(arc_start=-1/6+1/100+1+shift,arc_finish=1/6-1/100+1+shift,phi=1,\n",
    "                                          coupler_type='coupler', w =10,g=40),\n",
    "          elements.coaxmon.CoaxmonCoupler(arc_start=-1/6+1/100+shift,arc_finish=1/6-1/100+shift,phi=0,\n",
    "                                          coupler_type='coupler', w =10,g=40),\n",
    "          elements.coaxmon.CoaxmonCoupler(arc_start=-5/6+1/100+shift,arc_finish=-3/6-1/100+shift,phi=1,\n",
    "                                          coupler_type='grounded',w=4,g=4)\n",
    "]\n",
    "\n",
    "\n",
    "\n",
    "jj_coaxmon = {'a1':30,\n",
    "               'b1':0.8,\n",
    "               'a2':0.45,\n",
    "               'b2':0.243,\n",
    "               'c1':0.243,\n",
    "               'c2':10,\n",
    "               'angle_qubit':-np.pi/2-np.pi/3,\n",
    "               'angle_JJ': 0,\n",
    "               'length':10,\n",
    "               'width':4}\n",
    "jj_geometry = {\n",
    "    'gwidth': 56,\n",
    "    'gheight': 18,\n",
    "    'iwidth': 48,\n",
    "    'iheight': 10,\n",
    "    'ithick': 4,\n",
    "    'fheight1': 20,\n",
    "    'fheight2': 40,\n",
    "    'hdist': 4,\n",
    "    'fshoulder': 15,\n",
    "    'fthick': 4\n",
    "        }\n",
    "jj = {\n",
    "    'type': 2,\n",
    "    'up_rect_h': 12,\n",
    "    'up_rect_w': 12,\n",
    "    'side_rect_h': 6,\n",
    "    'side_rect_w': 6,\n",
    "    'side_l_thick': 0.44,\n",
    "    'side_r_thick': 0.44,\n",
    "    'up_l_thick': 0.44,\n",
    "    'up_r_thick': 0.44\n",
    "}\n",
    "\n",
    "# add coaxmons 1st line\n",
    "for line_id in range(2):\n",
    "    for qubit_id in range(3):\n",
    "        jj_coaxmon_ = {k:v for k, v in jj_coaxmon.items()} \n",
    "        if qubit_id == 0:\n",
    "            couplers_ = Couplers1q_corner\n",
    "\n",
    "        elif qubit_id == 1:\n",
    "            couplers_ = Couplers1q_corner1\n",
    "            jj_coaxmon_['angle_qubit'] = -np.pi/2+np.pi/4\n",
    "#             \n",
    "        elif qubit_id == 2:\n",
    "            couplers_ = Couplers2q_corner\n",
    "#             jj_coaxmon_['angle_qubit'] = np.pi/8\n",
    "            jj_coaxmon_['angle_qubit'] = -np.pi/2+np.pi/4#7*np.pi/24#np.pi/4\n",
    "        else:\n",
    "            couplers_ = Couplers2q_corner\n",
    "\n",
    "            \n",
    "        if qubit_id==2:\n",
    "            x_shift = 200\n",
    "        else:\n",
    "            x_shift = 100\n",
    "        if line_id == 0:\n",
    "            transformations = {}\n",
    "#             transformations = {'mirror':[(sample.chip_geometry.sample_horizontal_size/2+qubit_position_offset*(qubit_id-(num_qubits_line-1)/2),\n",
    "#                         sample.chip_geometry.sample_vertical_size/2+2*qubit_position_offset*(line_id-0.5)),\n",
    "#                        (sample.chip_geometry.sample_horizontal_size/2+qubit_position_offset*(qubit_id-(num_qubits_line-1)/2),\n",
    "#                         sample.chip_geometry.sample_vertical_size/2+2*qubit_position_offset*(line_id-0.5)+10)]}\n",
    "            coaxmon= elements.coaxmon.Coaxmon(name='Coaxmon',\n",
    "                        center=(sample.chip_geometry.sample_horizontal_size/2+1.2*qubit_position_offset*(qubit_id-(num_qubits_line-1)/2)+x_shift,\n",
    "                                sample.chip_geometry.sample_vertical_size/2+2*qubit_position_offset*(line_id-0.5)),\n",
    "                        center_radius = 100,\n",
    "                        inner_couplers_radius = 140,\n",
    "                        outer_couplers_radius = 200,\n",
    "                        inner_ground_radius = 230,\n",
    "                        outer_ground_radius = 250,\n",
    "                        layer_configuration = sample.layer_configuration,\n",
    "                        Couplers=couplers_,jj_params= jj_coaxmon_,\n",
    "                                  transformations=transformations,\n",
    "                                  calculate_capacitance=True)\n",
    "            sample.add(coaxmon)\n",
    "        else:\n",
    "            transformations = {'mirror':[(sample.chip_geometry.sample_horizontal_size/2+1.2*qubit_position_offset*(qubit_id-(num_qubits_line-1)/2)+x_shift,\n",
    "                                sample.chip_geometry.sample_vertical_size/2+2*qubit_position_offset*(line_id-0.5)),\n",
    "                       (sample.chip_geometry.sample_horizontal_size/2+1.2*qubit_position_offset*(qubit_id-(num_qubits_line-1)/2)+x_shift+10,\n",
    "                                sample.chip_geometry.sample_vertical_size/2+2*qubit_position_offset*(line_id-0.5))]}\n",
    "            if qubit_id==2:\n",
    "                coaxmon= elements.coaxmon.Coaxmon(name='Coaxmon',\n",
    "                        center=(sample.chip_geometry.sample_horizontal_size/2+1.2*qubit_position_offset*(qubit_id-(num_qubits_line-1)/2)+x_shift,\n",
    "                                sample.chip_geometry.sample_vertical_size/2+2*qubit_position_offset*(line_id-0.5)),\n",
    "                        center_radius = 100,\n",
    "                        inner_couplers_radius = 140,\n",
    "                        outer_couplers_radius = 200,\n",
    "                        inner_ground_radius = 230,\n",
    "                        outer_ground_radius = 250,\n",
    "                        layer_configuration = sample.layer_configuration,\n",
    "                        Couplers=couplers_,jj_params= jj_coaxmon_,\n",
    "                                  transformations=transformations,\n",
    "                                  calculate_capacitance=True)\n",
    "                sample.add(coaxmon)\n",
    "            else:\n",
    "\n",
    "                xmon = elements.xmon.Xmon(name = 'Xmon',\n",
    "#                           center=(sample.chip_geometry.sample_horizontal_size/2+qubit_position_offset*(qubit_id-(num_qubits_line-1)/2),\n",
    "#                                 sample.chip_geometry.sample_vertical_size/2+2*qubit_position_offset*(line_id-0.5)),\n",
    "                          center=(sample.chip_geometry.sample_horizontal_size/4*(qubit_id+1),\n",
    "                                  sample.chip_geometry.sample_vertical_size/2+2*qubit_position_offset*(line_id-0.5)),\n",
    "                          length = 250,\n",
    "                          width_gap = 5,\n",
    "                          center_width = 10,\n",
    "                          crab_position = ('right', 'left'),\n",
    "                          crab_shoulder = 30,\n",
    "                          crab_thickness = 8,\n",
    "                          ground_thickness = 10,\n",
    "                          delete_ground = '',\n",
    "                          jj_position = 'up',\n",
    "                          jj_params1 = jj_geometry,\n",
    "                          jj_params2 = jj,\n",
    "                          layer_configuration = sample.layer_configuration)\n",
    "                sample.add(xmon)\n",
    "\n",
    "        \n",
    "        \n",
    "\n",
    "sample.draw_design()"
   ]
  },
  {
   "cell_type": "code",
   "execution_count": 7,
   "metadata": {
    "collapsed": true
   },
   "outputs": [],
   "source": [
    "sample.draw_design()\n",
    "sample.watch()"
   ]
  },
  {
   "cell_type": "markdown",
   "metadata": {},
   "source": [
    "## couplers"
   ]
  },
  {
   "cell_type": "code",
   "execution_count": 7,
   "metadata": {
    "collapsed": true
   },
   "outputs": [],
   "source": [
    "jj_coupler = {'indent':40,\n",
    "               'a1':0.243,\n",
    "               'a2':0.243,\n",
    "               'angle': 0}\n",
    "fluxline_parameters_vertical={'w':4,\n",
    "                's':4,\n",
    "                'g':4,\n",
    "                'length_x':20,\n",
    "                'length_y':25,\n",
    "                'width':4}\n",
    "\n",
    "\n",
    "################# vertical coupler\n",
    "squid_coupler = {'a1':5,\n",
    "               'b1':0.8,\n",
    "               'a2':0.45,\n",
    "               'b2':0.243,\n",
    "               'c1':0.243,\n",
    "               'c2':10,\n",
    "               'angle':0,\n",
    "               'side':'right',\n",
    "               'point':((sample.qubits[5].get_terminals()['coupler0'].position[0]+\n",
    "                         sample.qubits[2].get_terminals()['coupler0'].position[0])/2+25,\n",
    "                        (sample.chip_geometry.sample_vertical_size/2+15)),\n",
    "                'removing':{'left':0,'right':30,'up':10,'down':40}}\n",
    "#                         (sample.qubits[5].get_terminals()['coupler0'].position[1]+\n",
    "#                          sample.qubits[2].get_terminals()['coupler0'].position[1])/2  ),\n",
    "               \n",
    "########### fix in the future, qubit4 should be qubit1 and qubit 9= qubit2\n",
    "coupler_qq = elements.tqcoupler.MMCoupler('coupler',qubit1=sample.qubits[2],coupler1_name='coupler0',\n",
    "                                       qubit2=sample.qubits[5],coupler2_name='coupler0',\n",
    "                               core = 10,\n",
    "                               gap = 25,\n",
    "                               ground = 30,\n",
    "                               layer_configuration = sample.layer_configuration,\n",
    "                                jj_params=jj_coupler,squid_params=squid_coupler,fluxline=fluxline_parameters_vertical)\n",
    "sample.add(coupler_qq)"
   ]
  },
  {
   "cell_type": "code",
   "execution_count": 7,
   "metadata": {
    "collapsed": true
   },
   "outputs": [],
   "source": [
    "sample.draw_design()"
   ]
  },
  {
   "cell_type": "code",
   "execution_count": 10,
   "metadata": {
    "collapsed": true
   },
   "outputs": [],
   "source": [
    "sample.watch()"
   ]
  },
  {
   "cell_type": "markdown",
   "metadata": {},
   "source": [
    "# Feedlines+Resonators"
   ]
  },
  {
   "cell_type": "code",
   "execution_count": 8,
   "metadata": {},
   "outputs": [
    {
     "name": "stdout",
     "output_type": "stream",
     "text": [
      "Meander\n",
      "[(1279.0, 2280.0), (1279.0, 2230.0), (1509.0, 2230.0), (1509.0, 2146.0), (919.0, 2146.0), (919.0, 2062.0), (1509.0, 2062.0), (1509.0, 1978.0), (919.0, 1978.0), (919.0, 1894.0), (1509.0, 1894.0), (1509.0, 1810.0), (780.1503837897533, 1810.0)]\n",
      "3600.0\n",
      "3600.0\n",
      "Meander\n",
      "[(2539.0, 2280.0), (2539.0, 2230.0), (2769.0, 2230.0), (2769.0, 2146.0), (2179.0, 2146.0), (2179.0, 2062.0), (2769.0, 2062.0), (2769.0, 1978.0), (2179.0, 1978.0), (2179.0, 1894.0), (2769.0, 1894.0), (2769.0, 1810.0), (2179.0, 1810.0), (2179.0, 1726.0), (2768.185910066655, 1726.0)]\n",
      "4100.0\n",
      "4100.0\n"
     ]
    }
   ],
   "source": [
    "# RUN ME\n",
    "left_element = pads_left[0]\n",
    "left_port = 'port'\n",
    "ebanoe_govno = 0.5*(resonator_core+ resonator_ground+ tl_core + resonator_gap + resonator_gap + tl_gap + tl_gap +2*tl_ground)\n",
    "for coupler_id in [0, 1]:\n",
    "    # coupler_start_x = sample.chip_geometry.sample_horizontal_size/2+qubit_position_offset*(coupler_id-(num_qubits_line-1)/2)-440\n",
    "    if coupler_id == 2 or coupler_id ==5:\n",
    "        start_shift=280\n",
    "        coupler_name = 'coupler4'\n",
    "    else:\n",
    "        start_shift=50\n",
    "        coupler_name='coupler2'\n",
    "        \n",
    "    coupler_start_x = list(sample.qubits[coupler_id].get_terminals()[coupler_name].position)[0]-start_shift\n",
    "    # 2. Create main copler:\n",
    "    total_length=0\n",
    "    main_coupler = elements.CPWCoupler('TL-resonator coupler', [(coupler_start_x-coupler_length, central_line_y-ebanoe_govno+tl_ground + tl_gap +0.5*tl_core), \n",
    "                                                                (coupler_start_x, central_line_y-ebanoe_govno+tl_ground + tl_gap +0.5*tl_core)],\n",
    "                                       [resonator_core, resonator_ground, tl_core],[resonator_gap, resonator_gap, tl_gap, tl_gap],\n",
    "                                       tl_ground, sample.layer_configuration, r=100)\n",
    "    sample.add(main_coupler)\n",
    "    total_length = total_length + coupler_length\n",
    "\n",
    "    # 3. Create fanout to create closed end of resonator\n",
    "    fanout_for_closed_end = sample.fanout(o=main_coupler, port='port1', name='closed end resonator fanout', grouping=[1, 3])\n",
    "\n",
    "    # 4. \n",
    "    g1 = sample.ground(o=fanout_for_closed_end, port='center', name='cl1', grounding_width=10, grounding_between = [(2,3)])\n",
    "\n",
    "    # 6. Create closed meander of resonator\n",
    "    if coupler_id == 2:\n",
    "        length_right= 300\n",
    "        length_left = 0\n",
    "    else:\n",
    "        length_right= 230\n",
    "        length_left = 360\n",
    "    meander_length= 3600+500*coupler_id\n",
    "    closed_end_meander = sample.connect_meander(name='closed end', o1=fanout_for_closed_end, port1='up',\n",
    "                                                meander_length=meander_length,\n",
    "                                                length_left =length_left,\n",
    "                                                length_right =length_right,\n",
    "                                                first_step_orientation ='right',\n",
    "                                                meander_orientation = 0,meander_type='round')\n",
    "\n",
    "\n",
    "    print(closed_end_meander.length)\n",
    "    #                                                 end_point=(1500,1500),\n",
    "    #                                                end_orientation=0)\n",
    "    total_length = total_length + closed_end_meander.length\n",
    "    # 7. Create grounding of resonator\n",
    "    resonator_ground_ = sample.ground(o=closed_end_meander, port='port2', name='resonator ground', grounding_width=30, grounding_between = [(0,2)])\n",
    "\n",
    "    # 8. Create fanout to create open end of resonator\n",
    "    fanout_for_open_end = sample.fanout(o=main_coupler, port='port2', name='open end resonator fanout', grouping=[1, 3])\n",
    "\n",
    "    #     # 9. \n",
    "    # g2 = sample.ground(o=fanout_for_open_end, port='center', name='cl2', grounding_width=10, grounding_between = [(0,1)])\n",
    "\n",
    "        # 10. Create open end of resonator\n",
    "    # open_end = elements.OpenEnd(name='open end',position=(fanout_for_open_end.get_terminals()['down'].position[0],\n",
    "    #                                                                    fanout_for_open_end.get_terminals()['down'].position[1]-open_length),\n",
    "    #                                          w=[resonator_core],\n",
    "    #                                          s=[resonator_gap, resonator_gap],\n",
    "    #                                          g=tl_ground,\n",
    "    #                                          orientation=-np.pi/2,\n",
    "    #                                          layer_configuration=sample.layer_configuration,\n",
    "    #                                          h1=20,\n",
    "    #                                           h2=10,\n",
    "    #                                          )\n",
    "    #     sample.add(open_end)\n",
    "    #     # 11. Connect open end with the coupler part of the resonator\n",
    "    #     open_end_resonator = sample.connect_cpw(fanout_for_open_end,open_end,'down','wide',name='right open end',points=[])\n",
    "    #     total_length = total_length + open_end_resonator.length\n",
    "    # res_params = total_length#,open_end_resonator.z0,open_end_resonator.cl)\n",
    "\n",
    "\n",
    "    left_TL = sample.connect_cpw(o1=left_element, o2=g1, port1=left_port, port2='narrow', name='left TL'+str(coupler_id), \n",
    "                                 points=[])\n",
    "    if coupler_id ==2 or coupler_id ==5:\n",
    "        port1='coupler4'\n",
    "    else:\n",
    "        port1='coupler2'\n",
    "    c1 = sample.connect_cpw(sample.qubits[coupler_id], fanout_for_open_end, port1=port1, port2='down', \n",
    "                       name='open end res'+str(coupler_id), \n",
    "                            points=sample.cpw_shift(sample.qubits[coupler_id],port1,-20))\n",
    "    g2 = sample.ground(o=fanout_for_open_end, port='center', name='right grounding'+str(coupler_id), \n",
    "                           grounding_width=10, grounding_between = [(0,1), (3, 4)])\n",
    "\n",
    "    left_element = g2\n",
    "    left_port = 'narrow'"
   ]
  },
  {
   "cell_type": "code",
   "execution_count": null,
   "metadata": {
    "collapsed": true
   },
   "outputs": [],
   "source": []
  },
  {
   "cell_type": "code",
   "execution_count": null,
   "metadata": {
    "collapsed": true
   },
   "outputs": [],
   "source": []
  },
  {
   "cell_type": "code",
   "execution_count": 9,
   "metadata": {
    "collapsed": true
   },
   "outputs": [],
   "source": [
    "##для расчета резонаторов\n",
    "left_element = pads_left[0]\n",
    "left_port = 'port'\n",
    "ebanoe_govno = 0.5*(resonator_core+ resonator_ground+ tl_core + resonator_gap + resonator_gap + tl_gap + tl_gap +2*tl_ground)\n",
    "\n",
    "coupler_id=0   \n",
    "# coupler_start_x = sample.chip_geometry.sample_horizontal_size/2+qubit_position_offset*(coupler_id-(num_qubits_line-1)/2)-440\n",
    "if coupler_id == 2 or coupler_id ==5:\n",
    "    start_shift=280\n",
    "    coupler_name = 'coupler4'\n",
    "    coupler_length = 350\n",
    "else:\n",
    "    start_shift=50\n",
    "    coupler_name='coupler2'\n",
    "    coupler_length= 450\n",
    "if coupler_id == 2 or coupler_id ==5:\n",
    "    start_shift=280\n",
    "    coupler_name = 'coupler4'\n",
    "else:\n",
    "    start_shift=50\n",
    "    coupler_name='coupler2'\n",
    "\n",
    "coupler_start_x = list(sample.qubits[coupler_id].get_terminals()[coupler_name].position)[0]-start_shift\n",
    "\n",
    "\n",
    "central_line = sample.chip_geometry.sample_vertical_size/2\n",
    "# 2. Create main copler:\n",
    "total_length=0\n",
    "main_coupler = elements.CPWCoupler('TL-resonator coupler', [(coupler_start_x-coupler_length, central_line_y-ebanoe_govno+tl_ground + tl_gap +0.5*tl_core), \n",
    "                                                            (coupler_start_x, central_line_y-ebanoe_govno+tl_ground + tl_gap +0.5*tl_core)],\n",
    "                                   [resonator_core, resonator_ground, tl_core],[resonator_gap, resonator_gap, tl_gap, tl_gap],\n",
    "                                   tl_ground, sample.layer_configuration, r=100)\n",
    "sample.add(main_coupler)\n",
    "total_length = total_length + coupler_length\n",
    "\n",
    "# 3. Create fanout to create closed end of resonator\n",
    "fanout_for_closed_end = sample.fanout(o=main_coupler, port='port1', name='closed end resonator fanout', grouping=[1, 3])\n",
    "\n",
    "# 4. \n",
    "g1 = sample.ground(o=fanout_for_closed_end, port='center', name='cl1', grounding_width=10, grounding_between = [(2,3)])\n"
   ]
  },
  {
   "cell_type": "code",
   "execution_count": 10,
   "metadata": {},
   "outputs": [
    {
     "name": "stdout",
     "output_type": "stream",
     "text": [
      "Meander\n",
      "[(979.0, 2280.0), (979.0, 2230.0), (1219.0, 2230.0), (1219.0, 2146.0), (739.0, 2146.0), (739.0, 2062.0), (1219.0, 2062.0), (1219.0, 1978.0), (739.0, 1978.0), (739.0, 1894.0), (1219.0, 1894.0), (1219.0, 1810.0), (739.0, 1810.0), (739.0, 1726.0), (1219.0, 1726.0), (1219.0, 1642.0), (719.4777960769368, 1642.0)]\n",
      "4000.0\n",
      "4000.0\n"
     ]
    }
   ],
   "source": [
    "\n",
    "# 6. Create closed meander of resonator\n",
    "if coupler_id == 2:\n",
    "    length_right= 300\n",
    "    length_left = 0\n",
    "else:\n",
    "    length_right= 240\n",
    "    length_left = 240\n",
    "meander_length= 4000+200*coupler_id\n",
    "closed_end_meander = sample.connect_meander(name='closed end', o1=fanout_for_closed_end, port1='up',\n",
    "                                            meander_length=meander_length,\n",
    "                                            length_left =length_left,\n",
    "                                            length_right =length_right,\n",
    "                                            first_step_orientation ='right',\n",
    "                                            meander_orientation = 0,meander_type='round')\n",
    "\n",
    "\n",
    "print(closed_end_meander.length)\n",
    "#                                                 end_point=(1500,1500),\n",
    "#                                                end_orientation=0)\n",
    "total_length = total_length + closed_end_meander.length\n",
    "# 7. Create grounding of resonator\n",
    "resonator_ground_ = sample.ground(o=closed_end_meander, port='port2', name='resonator ground', grounding_width=10, grounding_between = [(0,2)])\n"
   ]
  },
  {
   "cell_type": "code",
   "execution_count": 11,
   "metadata": {
    "collapsed": true
   },
   "outputs": [],
   "source": [
    "\n",
    "# 8. Create fanout to create open end of resonator\n",
    "fanout_for_open_end = sample.fanout(o=main_coupler, port='port2', name='open end resonator fanout', grouping=[1, 3])\n",
    "\n",
    "\n",
    "left_TL = sample.connect_cpw(o1=left_element, o2=g1, port1=left_port, port2='narrow', name='left TL'+str(coupler_id), \n",
    "                             points=[])\n",
    "if coupler_id ==2 or coupler_id ==5:\n",
    "    port1='coupler4'\n",
    "else:\n",
    "    port1='coupler2'\n",
    "c1 = sample.connect_cpw(sample.qubits[coupler_id], fanout_for_open_end, port1=port1, port2='down', \n",
    "                   name='open end res'+str(coupler_id), \n",
    "                        points=sample.cpw_shift(sample.qubits[coupler_id],port1,-20))\n",
    "g2 = sample.ground(o=fanout_for_open_end, port='center', name='right grounding'+str(coupler_id), \n",
    "                       grounding_width=10, grounding_between = [(0,1), (3, 4)])\n",
    "\n",
    "\n",
    "left_element = g2\n",
    "left_port = 'narrow'"
   ]
  },
  {
   "cell_type": "code",
   "execution_count": null,
   "metadata": {
    "collapsed": true
   },
   "outputs": [],
   "source": []
  },
  {
   "cell_type": "code",
   "execution_count": null,
   "metadata": {
    "collapsed": true
   },
   "outputs": [],
   "source": []
  },
  {
   "cell_type": "code",
   "execution_count": null,
   "metadata": {
    "collapsed": true
   },
   "outputs": [],
   "source": []
  },
  {
   "cell_type": "code",
   "execution_count": null,
   "metadata": {
    "collapsed": true
   },
   "outputs": [],
   "source": []
  },
  {
   "cell_type": "code",
   "execution_count": 9,
   "metadata": {},
   "outputs": [
    {
     "name": "stderr",
     "output_type": "stream",
     "text": [
      "C:\\Users\\Elena\\Anaconda3\\lib\\site-packages\\gdspy\\path.py:828: UserWarning: [GDSPY] Possible inconsistency found in `FlexPath` due to sharp corner.\n",
      "  \"[GDSPY] Possible inconsistency found in \"\n"
     ]
    }
   ],
   "source": [
    "sample.draw_design()\n",
    "sample.watch()"
   ]
  },
  {
   "cell_type": "code",
   "execution_count": 11,
   "metadata": {},
   "outputs": [
    {
     "ename": "IndentationError",
     "evalue": "unexpected indent (<ipython-input-11-adc994a8e520>, line 39)",
     "output_type": "error",
     "traceback": [
      "\u001b[1;36m  File \u001b[1;32m\"<ipython-input-11-adc994a8e520>\"\u001b[1;36m, line \u001b[1;32m39\u001b[0m\n\u001b[1;33m    g1 = sample.ground(o=fanout_for_closed_end, port='center', name='cl1', grounding_width=10, grounding_between = [(2,3)])\u001b[0m\n\u001b[1;37m    ^\u001b[0m\n\u001b[1;31mIndentationError\u001b[0m\u001b[1;31m:\u001b[0m unexpected indent\n"
     ]
    }
   ],
   "source": [
    "left_element = pads_left[0]\n",
    "left_port = 'port'\n",
    "for coupler_id in [0, 1, 2]:\n",
    "    # coupler_start_x = sample.chip_geometry.sample_horizontal_size/2+qubit_position_offset*(coupler_id-(num_qubits_line-1)/2)-440\n",
    "    if coupler_id == 2 or coupler_id ==5:\n",
    "        start_shift=280\n",
    "        coupler_name = 'coupler4'\n",
    "    else:\n",
    "        start_shift=50\n",
    "        coupler_name='coupler2'\n",
    "        \n",
    "        \n",
    "    coupler_start_x = list(sample.qubits[coupler_id].get_terminals()[coupler_name].position)[0]-start_shift\n",
    "    # 2. Create main copler:\n",
    "    total_length=0\n",
    "\n",
    "    main_coupler = elements.CPWCoupler('TL-resonator coupler', [(coupler_start_x-coupler_length, central_line_y), \n",
    "                                                                (coupler_start_x, central_line_y)],#+\\\n",
    "#                                                                 resonator_ground+resonator_gap+resonator_core+resonator_gap+resonator_ground)],\n",
    "                                   [resonator_core, resonator_ground, tl_core, resonator_ground, resonator_core],\n",
    "                                   [resonator_gap, resonator_gap, tl_gap, tl_gap, resonator_gap, resonator_gap],\n",
    "                                   tl_ground, sample.layer_configuration, r=100)\n",
    "    \n",
    "    sample.add(main_coupler)\n",
    "    total_length = total_length + coupler_length\n",
    "    \n",
    "    \n",
    "    resonator_ground_ = sample.ground(o=closed_end_meander, port='port2', name='resonator ground', grounding_width=30, grounding_between = [(0,1), (3, 4)])\n",
    "    # 3. Create fanout to create closed end of resonator\n",
    "    fanout_for_closed_end = sample.fanout(o=main_coupler, port='port1', name='closed end resonator fanout', grouping=[1, 4]) #мб grouping (1,3)\n",
    "\n",
    "    fanout_for_closed_end = sample.fanout(o=main_coupler, port='port1', name='closed end resonator fanout', grouping=[1, 4])\n",
    "\n",
    "# 4. \n",
    "g1 = sample.ground(o=fanout_for_closed_end, port='center', name='cl1', grounding_width=10, grounding_between = [(0,1),(3,4)])\n",
    "\n",
    "    \n",
    "    # 4. \n",
    "    g1 = sample.ground(o=fanout_for_closed_end, port='center', name='cl1', grounding_width=10, grounding_between = [(2,3)])\n",
    "\n",
    "    # 6. Create closed meander of resonator\n",
    "    if coupler_id == 2:\n",
    "        length_right= 350\n",
    "        length_left = 50\n",
    "    else:\n",
    "        length_right= 150\n",
    "        length_left = 150\n",
    "    closed_end_meander = sample.connect_meander(name='closed end', o1=fanout_for_closed_end, port1='up',\n",
    "                                                meander_length=3900,\n",
    "                                                length_left =length_left,\n",
    "                                                length_right =length_right,\n",
    "                                                first_step_orientation ='right',\n",
    "                                                meander_orientation = 0,meander_type='flush')\n",
    "\n",
    "\n",
    "    print(closed_end_meander.length)\n",
    "    #                                                 end_point=(1500,1500),\n",
    "    #                                                end_orientation=0)\n",
    "    total_length = total_length + closed_end_meander.length\n",
    "    \n",
    "    \n",
    "    # 7. Create grounding of resonator\n",
    "    resonator_ground_ = sample.ground(o=closed_end_meander, port='port2', name='resonator ground', grounding_width=30, grounding_between = [(0,2)])\n",
    "\n",
    "    # 8. Create fanout to create open end of resonator\n",
    "    fanout_for_open_end = sample.fanout(o=main_coupler, port='port2', name='open end resonator fanout', grouping=[1, 3])\n",
    "\n",
    "    #     # 9. \n",
    "    # g2 = sample.ground(o=fanout_for_open_end, port='center', name='cl2', grounding_width=10, grounding_between = [(0,1)])\n",
    "\n",
    "        # 10. Create open end of resonator\n",
    "    # open_end = elements.OpenEnd(name='open end',position=(fanout_for_open_end.get_terminals()['down'].position[0],\n",
    "    #                                                                    fanout_for_open_end.get_terminals()['down'].position[1]-open_length),\n",
    "    #                                          w=[resonator_core],\n",
    "    #                                          s=[resonator_gap, resonator_gap],\n",
    "    #                                          g=tl_ground,\n",
    "    #                                          orientation=-np.pi/2,\n",
    "    #                                          layer_configuration=sample.layer_configuration,\n",
    "    #                                          h1=20,\n",
    "    #                                           h2=10,\n",
    "    #                                          )\n",
    "    #     sample.add(open_end)\n",
    "    #     # 11. Connect open end with the coupler part of the resonator\n",
    "    #     open_end_resonator = sample.connect_cpw(fanout_for_open_end,open_end,'down','wide',name='right open end',points=[])\n",
    "    #     total_length = total_length + open_end_resonator.length\n",
    "    # res_params = total_length#,open_end_resonator.z0,open_end_resonator.cl)\n",
    "\n",
    "\n",
    "    left_TL = sample.connect_cpw(o1=left_element, o2=g1, port1=left_port, port2='narrow', name='left TL'+str(coupler_id), \n",
    "                                 points=[])\n",
    "    if coupler_id ==2 or coupler_id ==5:\n",
    "        port1='coupler4'\n",
    "    else:\n",
    "        port1='coupler2'\n",
    "    c1 = sample.connect_cpw(sample.qubits[coupler_id], fanout_for_open_end, port1=port1, port2='down', \n",
    "                       name='open end res'+str(coupler_id), \n",
    "                            points=sample.cpw_shift(sample.qubits[coupler_id],port1,-20))\n",
    "    g2 = sample.ground(o=fanout_for_open_end, port='center', name='right grounding'+str(coupler_id), \n",
    "                           grounding_width=10, grounding_between = [(0,1), (3, 4)])\n",
    "\n",
    "    left_element = g2\n",
    "    left_port = 'narrow'"
   ]
  },
  {
   "cell_type": "code",
   "execution_count": 10,
   "metadata": {},
   "outputs": [
    {
     "name": "stderr",
     "output_type": "stream",
     "text": [
      "C:\\Users\\Elena\\Anaconda3\\lib\\site-packages\\gdspy\\path.py:828: UserWarning: [GDSPY] Possible inconsistency found in `FlexPath` due to sharp corner.\n",
      "  \"[GDSPY] Possible inconsistency found in \"\n"
     ]
    }
   ],
   "source": [
    "sample.draw_design()\n",
    "sample.watch()"
   ]
  },
  {
   "cell_type": "code",
   "execution_count": 15,
   "metadata": {},
   "outputs": [
    {
     "name": "stdout",
     "output_type": "stream",
     "text": [
      "Meander\n",
      "[(2684.482810556029, 2287.0), (2684.482810556029, 2237.0), (3034.482810556029, 2237.0), (3034.482810556029, 2167.0), (2634.482810556029, 2167.0), (2634.482810556029, 2097.0), (3034.482810556029, 2097.0), (3034.482810556029, 2027.0), (2634.482810556029, 2027.0), (2634.482810556029, 1957.0), (3034.482810556029, 1957.0), (3034.482810556029, 1887.0), (2634.482810556029, 1887.0), (2634.482810556029, 1817.0), (3034.482810556029, 1817.0), (3034.482810556029, 1747.0), (2634.482810556029, 1747.0), (2634.482810556029, 1677.0), (2774.482810556029, 1677.0)]\n",
      "3900.0\n",
      "Meander\n",
      "[(2684.482810556029, 2413.0), (2684.482810556029, 2463.0), (2634.482810556029, 2463.0), (2634.482810556029, 2533.0), (3034.482810556029, 2533.0), (3034.482810556029, 2603.0), (2634.482810556029, 2603.0), (2634.482810556029, 2673.0), (3034.482810556029, 2673.0), (3034.482810556029, 2743.0), (2634.482810556029, 2743.0), (2634.482810556029, 2813.0), (3034.482810556029, 2813.0), (3034.482810556029, 2883.0), (2634.482810556029, 2883.0), (2634.482810556029, 2953.0), (3034.482810556029, 2953.0), (3034.482810556029, 3023.0), (2634.482810556029, 3023.0), (2594.482810556029, 3023.0)]\n",
      "3900.0\n"
     ]
    }
   ],
   "source": [
    "left_element = pads_left[0]\n",
    "left_port = 'port'\n",
    "ebanoe_govno = 0.5*(resonator_core+ resonator_ground+ tl_core + resonator_core+ resonator_ground+\\\n",
    "                    resonator_gap + resonator_gap + tl_gap + tl_gap +resonator_gap + resonator_gap+2*tl_ground)\n",
    "coupler_id=2\n",
    "# coupler_start_x = sample.chip_geometry.sample_horizontal_size/2+qubit_position_offset*(coupler_id-(num_qubits_line-1)/2)-440\n",
    "if coupler_id == 2 or coupler_id ==5:\n",
    "    start_shift=280#-50+6\n",
    "    coupler_name = 'coupler4'\n",
    "else:\n",
    "    start_shift=50\n",
    "    coupler_name='coupler2'\n",
    "\n",
    "coupler_start_x = list(sample.qubits[coupler_id].get_terminals()[coupler_name].position)[0]-start_shift\n",
    "# 2. Create main copler:\n",
    "total_length=0\n",
    "main_coupler = elements.CPWCoupler('TL-resonator coupler', [(coupler_start_x-coupler_length, central_line_y), \n",
    "                                                                (coupler_start_x, central_line_y)],#+\\\n",
    "#                                                                 resonator_ground+resonator_gap+resonator_core+resonator_gap+resonator_ground)],\n",
    "                                   [resonator_core, resonator_ground, tl_core, resonator_ground, resonator_core],\n",
    "                                   [resonator_gap, resonator_gap, tl_gap, tl_gap, resonator_gap, resonator_gap],\n",
    "                                   tl_ground, sample.layer_configuration, r=100)\n",
    "sample.add(main_coupler)\n",
    "total_length = total_length + coupler_length\n",
    "\n",
    "# 3. Create fanout to create closed end of resonator\n",
    "fanout_for_closed_end = sample.fanout(o=main_coupler, port='port1', name='closed end resonator fanout', grouping=[1, 4])\n",
    "\n",
    "# 4. \n",
    "g1 = sample.ground(o=fanout_for_closed_end, port='center', name='cl1', grounding_width=10, grounding_between = [(0,1),(3,4)])\n",
    "\n",
    "# 6. Create closed meander of resonator\n",
    "if coupler_id == 2 or 5: \n",
    "    length_right= 350\n",
    "    length_left = 50\n",
    "else:\n",
    "    length_right= 150\n",
    "    length_left = 150\n",
    "\n",
    "closed_end_meander1 = sample.connect_meander(name='closed end 1', o1=fanout_for_closed_end, port1='up',\n",
    "                                             meander_length=3900,\n",
    "                                            length_left =length_left,\n",
    "                                            length_right =length_right,\n",
    "                                            first_step_orientation ='right',\n",
    "                                            meander_orientation = 0,meander_type='flush')\n",
    "\n",
    "closed_end_meander2 = sample.connect_meander(name='closed end 2', o1=fanout_for_closed_end, port1='down',\n",
    "                                             meander_length=3900,\n",
    "                                            length_left =length_left,\n",
    "                                            length_right =length_right,\n",
    "                                            first_step_orientation ='left',\n",
    "                                            meander_orientation = np.pi,meander_type='flush')\n",
    "\n",
    "\n",
    "\n",
    "\n",
    "# 7. Create grounding of resonator\n",
    "# resonator_ground_ = sample.ground(o=closed_end_meander, port='port2', name='resonator ground', grounding_width=30, grounding_between = [(0,2)])\n",
    "\n",
    "# 8. Create fanout to create open end of resonator\n",
    "fanout_for_open_end = sample.fanout(o=main_coupler, port='port2', name='open end resonator fanout', grouping=[1, 4])\n",
    "\n",
    "g2 = sample.ground(o=fanout_for_open_end, port='center', name='cl2', grounding_width=10, grounding_between = [(0,1), (3,4)])\n",
    "#     # 9. \n",
    "# g2 = sample.ground(o=fanout_for_open_end, port='center', name='cl2', grounding_width=10, grounding_between = [(0,1)])\n",
    "\n",
    "    # 10. Create open end of resonator\n",
    "# open_end = elements.OpenEnd(name='open end',position=(fanout_for_open_end.get_terminals()['down'].position[0],\n",
    "#                                                                    fanout_for_open_end.get_terminals()['down'].position[1]-open_length),\n",
    "#                                          w=[resonator_core],\n",
    "#                                          s=[resonator_gap, resonator_gap],\n",
    "#                                          g=tl_ground,\n",
    "#                                          orientation=-np.pi/2,\n",
    "#                                          layer_configuration=sample.layer_configuration,\n",
    "#                                          h1=20,\n",
    "#                                           h2=10,\n",
    "#                                          )\n",
    "#     sample.add(open_end)\n",
    "#     # 11. Connect open end with the coupler part of the resonator\n",
    "#     open_end_resonator = sample.connect_cpw(fanout_for_open_end,open_end,'down','wide',name='right open end',points=[])\n",
    "#     total_length = total_length + open_end_resonator.length\n",
    "# res_params = total_length#,open_end_resonator.z0,open_end_resonator.cl)\n",
    "\n",
    "\n",
    "left_TL = sample.connect_cpw(o1=left_element, o2=g1, port1=left_port, port2='narrow', name='left TL'+str(coupler_id), \n",
    "                             points=[])\n",
    "if coupler_id ==2 or coupler_id ==5:\n",
    "    port1='coupler4'\n",
    "else:\n",
    "    port1='coupler2'\n",
    "    \n",
    "open_length1 = 0\n",
    "open_length2=0\n",
    "# open_end_resonator1 = elements.CPW(name='open end resonator 1', points=[fanout_for_open_end.get_terminals()['down'].position, \n",
    "#                                                                          (fanout_for_open_end.get_terminals()['down'].position[0],\n",
    "#                                                                           fanout_for_open_end.get_terminals()['down'].position[1]-open_length1)],\n",
    "#                                       w=fanout_for_open_end.get_terminals()['down'].w, s=fanout_for_open_end.get_terminals()['down'].s,\n",
    "#                                       g=fanout_for_open_end.get_terminals()['down'].g, layer_configuration=sample.layer_configuration, r=25)\n",
    "# sample.add(open_end_resonator1)\n",
    "# sample.connections.append(((fanout_for_open_end, 'down', 0), (open_end_resonator1, 'port1', 0)))\n",
    "\n",
    "# open_end_resonator2 = elements.CPW(name='open end resonator 2', points=[fanout_for_open_end.get_terminals()['up'].position, \n",
    "#                                                                      (fanout_for_open_end.get_terminals()['up'].position[0],\n",
    "#                                                                       fanout_for_open_end.get_terminals()['up'].position[1]+open_length2)],\n",
    "#                                   w=fanout_for_open_end.get_terminals()['up'].w, s=fanout_for_open_end.get_terminals()['up'].s,\n",
    "#                                   g=fanout_for_open_end.get_terminals()['up'].g, layer_configuration=sample.layer_configuration, r=25)\n",
    "# sample.add(open_end_resonator2)\n",
    "# sample.connections.append(((fanout_for_open_end, 'up', 0), (open_end_resonator2, 'port1', 0)))\n",
    "\n",
    "# 11. Create grounding of resonator\n",
    "resonator_ground_1 = sample.ground(o=closed_end_meander1, port='port2', name='resonator ground 1', grounding_width=30, grounding_between = [(0,2)])\n",
    "resonator_ground_2 = sample.ground(o=closed_end_meander2, port='port2', name='resonator ground 2', grounding_width=30, grounding_between = [(0,2)])\n",
    "    \n",
    "\n",
    "\n",
    "\n",
    "\n",
    "\n",
    "\n",
    "\n",
    "\n",
    "# c1 = sample.connect_cpw(sample.qubits[coupler_id], fanout_for_open_end, port1=port1, port2='up', \n",
    "#                    name='open end res'+str(coupler_id), \n",
    "#                         points=sample.cpw_shift(sample.qubits[coupler_id],port1,-20))\n",
    "# g2 = sample.ground(o=fanout_for_open_end, port='center', name='right grounding'+str(coupler_id), \n",
    "#                        grounding_width=10, grounding_between = [(0,1), (3, 4)])\n",
    "\n",
    "# left_element = g2\n",
    "# left_port = 'narrow'"
   ]
  },
  {
   "cell_type": "code",
   "execution_count": 18,
   "metadata": {
    "collapsed": true
   },
   "outputs": [],
   "source": [
    "sample.draw_design()\n",
    "sample.watch()"
   ]
  },
  {
   "cell_type": "markdown",
   "metadata": {},
   "source": [
    "## connect contact pads to qubits"
   ]
  },
  {
   "cell_type": "code",
   "execution_count": 9,
   "metadata": {
    "collapsed": true
   },
   "outputs": [],
   "source": [
    "flux_pads = [\n",
    "    (sample.qubits[0], pads_bottom[0]),\n",
    "    (sample.qubits[1], pads_bottom[1])]#,\n",
    "#     (sample.qubits[2], pads_bottom[2]),\n",
    "#     (sample.qubits[5], pads_top[2]),\n",
    "#     (coupler_qq, pads_right[0])]\n",
    "\n",
    "for coaxmon, pad in flux_pads:  \n",
    "    flux_line_narrowing_position = np.asarray(coaxmon.terminals['flux_line'].position)\n",
    "    direction = [np.cos(coaxmon.terminals['flux_line'].orientation), \n",
    "                 np.sin(coaxmon.terminals['flux_line'].orientation)]\n",
    "    narrowing_length = 5.0\n",
    "    flux_line_narrowing_position = flux_line_narrowing_position - np.asarray(direction)*narrowing_length/2\n",
    "    flux_line_narrowing = elements.Narrowing(name='flux_line_narrowing', position=flux_line_narrowing_position, \n",
    "                                             orientation=coaxmon.terminals['flux_line'].orientation+np.pi, \n",
    "                                             w1=coaxmon.terminals['flux_line'].w, \n",
    "                                             s1=coaxmon.terminals['flux_line'].s, g1=coaxmon.terminals['flux_line'].g,\n",
    "                                             w2=tl_core, s2=tl_gap, g2=tl_ground, \n",
    "                                             layer_configuration=sample.layer_configuration, length=narrowing_length)\n",
    "    sample.add(flux_line_narrowing)\n",
    "\n",
    "    sample.connect_cpw(pad, flux_line_narrowing, 'port', 'port2', 'flux_control5', points=[])\n",
    "\n",
    "#sample.connect_cpw(pads_bottom[0], sample.qubits[6], 'port', 'flux_line', 'flux_control6', points=[])\n",
    "#sample.connect_cpw(pads_bottom[2], sample.qubits[7], 'port', 'flux_line', 'flux_control7', points=[])\n",
    "#sample.connect_cpw(pads_top[4], sample.qubits[8], 'port', 'flux_line', 'flux_control8', points=[])"
   ]
  },
  {
   "cell_type": "code",
   "execution_count": 10,
   "metadata": {},
   "outputs": [
    {
     "name": "stderr",
     "output_type": "stream",
     "text": [
      "C:\\Users\\Elena\\Anaconda3\\lib\\site-packages\\gdspy\\path.py:828: UserWarning: [GDSPY] Possible inconsistency found in `FlexPath` due to sharp corner.\n",
      "  \"[GDSPY] Possible inconsistency found in \"\n"
     ]
    }
   ],
   "source": [
    "sample.draw_design()"
   ]
  },
  {
   "cell_type": "code",
   "execution_count": 12,
   "metadata": {
    "collapsed": true
   },
   "outputs": [],
   "source": [
    "sample.watch()"
   ]
  },
  {
   "cell_type": "markdown",
   "metadata": {},
   "source": [
    "# Finalize"
   ]
  },
  {
   "cell_type": "code",
   "execution_count": 11,
   "metadata": {
    "collapsed": true
   },
   "outputs": [],
   "source": [
    "grid_ground = elements.GridGround(sample.chip_geometry, sample.layer_configuration, sample.objects, \n",
    "                                  width=4, period=100)\n",
    "sample.add(grid_ground)\n",
    "sample.draw_design()"
   ]
  },
  {
   "cell_type": "code",
   "execution_count": 13,
   "metadata": {},
   "outputs": [],
   "source": [
    "sample.draw_cap()"
   ]
  },
  {
   "cell_type": "code",
   "execution_count": 18,
   "metadata": {},
   "outputs": [
    {
     "data": {
      "text/plain": [
       "{'JJ': <gdspy.polygon.PolygonSet at 0x2ccc7b3faf8>,\n",
       " 'positive': <gdspy.polygon.PolygonSet at 0x2ccc7b3fa68>,\n",
       " 'qubit': <gdspy.polygon.PolygonSet at 0x2ccc7b3fc60>,\n",
       " 'qubit_cap': [<gdspy.polygon.PolygonSet at 0x2ccc7b3f630>,\n",
       "  <gdspy.polygon.PolygonSet at 0x2ccc7b3f948>,\n",
       "  <gdspy.polygon.PolygonSet at 0x2ccc7b3f7e0>],\n",
       " 'restrict': <gdspy.polygon.Round at 0x2ccc7af1458>}"
      ]
     },
     "execution_count": 18,
     "metadata": {},
     "output_type": "execute_result"
    }
   ],
   "source": [
    "sample.objects[10].get()"
   ]
  },
  {
   "cell_type": "code",
   "execution_count": 19,
   "metadata": {},
   "outputs": [
    {
     "data": {
      "text/plain": [
       "<gdspy.library.Cell at 0x24a887c0dc8>"
      ]
     },
     "execution_count": 19,
     "metadata": {},
     "output_type": "execute_result"
    }
   ],
   "source": [
    "sample.qubit_cap_cells[0]"
   ]
  },
  {
   "cell_type": "code",
   "execution_count": 11,
   "metadata": {},
   "outputs": [
    {
     "name": "stdout",
     "output_type": "stream",
     "text": [
      "Gds file has been writen here:  C:\\Users\\Elena\\git\\QCreator\\example_notebooks\\1Q_test.gds\n"
     ]
    },
    {
     "ename": "ValueError",
     "evalue": "not enough values to unpack (expected at least 1, got 0)",
     "output_type": "error",
     "traceback": [
      "\u001b[1;31m---------------------------------------------------------------------------\u001b[0m",
      "\u001b[1;31mValueError\u001b[0m                                Traceback (most recent call last)",
      "\u001b[1;32m<ipython-input-11-4257d9d84629>\u001b[0m in \u001b[0;36m<module>\u001b[1;34m()\u001b[0m\n\u001b[0;32m      1\u001b[0m sample.calculate_qubit_capacitance(cell= sample.qubit_cap_cells[0], qubit=sample.qubits[0],\n\u001b[1;32m----> 2\u001b[1;33m                                    mesh_volume=10)\n\u001b[0m",
      "\u001b[1;32m~\\git\\QCreator\\QCreator\\general_sample_creator.py\u001b[0m in \u001b[0;36mcalculate_qubit_capacitance\u001b[1;34m(self, cell, qubit, mesh_volume, name)\u001b[0m\n\u001b[0;32m    273\u001b[0m         \u001b[0mmesh\u001b[0m\u001b[1;33m.\u001b[0m\u001b[0mread_data_from_gds_file\u001b[0m\u001b[1;33m(\u001b[0m\u001b[1;33m)\u001b[0m\u001b[1;33m\u001b[0m\u001b[0m\n\u001b[0;32m    274\u001b[0m         \u001b[0mmesh\u001b[0m\u001b[1;33m.\u001b[0m\u001b[0mprepare_for_meshing\u001b[0m\u001b[1;33m(\u001b[0m\u001b[1;33m)\u001b[0m\u001b[1;33m\u001b[0m\u001b[0m\n\u001b[1;32m--> 275\u001b[1;33m         \u001b[0mmesh\u001b[0m\u001b[1;33m.\u001b[0m\u001b[0mrun_meshing\u001b[0m\u001b[1;33m(\u001b[0m\u001b[0mmesh_volume\u001b[0m\u001b[1;33m=\u001b[0m\u001b[0mmesh_volume\u001b[0m\u001b[1;33m)\u001b[0m\u001b[1;33m\u001b[0m\u001b[0m\n\u001b[0m\u001b[0;32m    276\u001b[0m         \u001b[0mmesh\u001b[0m\u001b[1;33m.\u001b[0m\u001b[0mwrite_into_file\u001b[0m\u001b[1;33m(\u001b[0m\u001b[0mos\u001b[0m\u001b[1;33m.\u001b[0m\u001b[0mgetcwd\u001b[0m\u001b[1;33m(\u001b[0m\u001b[1;33m)\u001b[0m \u001b[1;33m+\u001b[0m \u001b[1;34m'\\\\'\u001b[0m \u001b[1;33m+\u001b[0m \u001b[1;34m'mesh_4k_data'\u001b[0m\u001b[1;33m)\u001b[0m\u001b[1;33m\u001b[0m\u001b[0m\n\u001b[0;32m    277\u001b[0m         \u001b[0mmesh\u001b[0m\u001b[1;33m.\u001b[0m\u001b[0mrun_fastcap\u001b[0m\u001b[1;33m(\u001b[0m\u001b[0mos\u001b[0m\u001b[1;33m.\u001b[0m\u001b[0mgetcwd\u001b[0m\u001b[1;33m(\u001b[0m\u001b[1;33m)\u001b[0m \u001b[1;33m+\u001b[0m \u001b[1;34m'\\\\'\u001b[0m \u001b[1;33m+\u001b[0m \u001b[1;34m'mesh_4k_results'\u001b[0m\u001b[1;33m)\u001b[0m\u001b[1;33m\u001b[0m\u001b[0m\n",
      "\u001b[1;32m~\\git\\QCreator\\QCreator\\meshing.py\u001b[0m in \u001b[0;36mrun_meshing\u001b[1;34m(self, mesh_volume)\u001b[0m\n\u001b[0;32m     61\u001b[0m             \u001b[0mtotal_length\u001b[0m \u001b[1;33m=\u001b[0m \u001b[1;36m0\u001b[0m\u001b[1;33m\u001b[0m\u001b[0m\n\u001b[0;32m     62\u001b[0m             \u001b[1;32mfor\u001b[0m \u001b[0mconductor\u001b[0m\u001b[1;33m,\u001b[0m \u001b[0mvolume\u001b[0m \u001b[1;32min\u001b[0m \u001b[0mzip\u001b[0m\u001b[1;33m(\u001b[0m\u001b[0mpolygons\u001b[0m\u001b[1;33m,\u001b[0m \u001b[1;33m[\u001b[0m\u001b[0mmesh_volume\u001b[0m\u001b[1;33m]\u001b[0m \u001b[1;33m*\u001b[0m \u001b[0mlen\u001b[0m\u001b[1;33m(\u001b[0m\u001b[0mpolygons\u001b[0m\u001b[1;33m)\u001b[0m\u001b[1;33m)\u001b[0m\u001b[1;33m:\u001b[0m\u001b[1;33m\u001b[0m\u001b[0m\n\u001b[1;32m---> 63\u001b[1;33m                 \u001b[0mdata\u001b[0m \u001b[1;33m=\u001b[0m \u001b[0mcreate_mesh\u001b[0m\u001b[1;33m(\u001b[0m\u001b[0mconductor\u001b[0m\u001b[1;33m,\u001b[0m \u001b[0mmax_volume\u001b[0m\u001b[1;33m=\u001b[0m\u001b[0mvolume\u001b[0m\u001b[1;33m)\u001b[0m\u001b[1;33m\u001b[0m\u001b[0m\n\u001b[0m\u001b[0;32m     64\u001b[0m                 \u001b[0mmesh_points_list\u001b[0m\u001b[1;33m.\u001b[0m\u001b[0mappend\u001b[0m\u001b[1;33m(\u001b[0m\u001b[0mdata\u001b[0m\u001b[1;33m[\u001b[0m\u001b[1;36m0\u001b[0m\u001b[1;33m]\u001b[0m\u001b[1;33m)\u001b[0m\u001b[1;33m\u001b[0m\u001b[0m\n\u001b[0;32m     65\u001b[0m                 \u001b[0mmesh_tris_list\u001b[0m\u001b[1;33m.\u001b[0m\u001b[0mappend\u001b[0m\u001b[1;33m(\u001b[0m\u001b[0mdata\u001b[0m\u001b[1;33m[\u001b[0m\u001b[1;36m1\u001b[0m\u001b[1;33m]\u001b[0m\u001b[1;33m)\u001b[0m\u001b[1;33m\u001b[0m\u001b[0m\n",
      "\u001b[1;32m~\\git\\QCreator\\QCreator\\meshing.py\u001b[0m in \u001b[0;36mcreate_mesh\u001b[1;34m(WSP_points, max_volume, min_angle)\u001b[0m\n\u001b[0;32m    173\u001b[0m \u001b[1;33m\u001b[0m\u001b[0m\n\u001b[0;32m    174\u001b[0m \u001b[1;32mdef\u001b[0m \u001b[0mcreate_mesh\u001b[0m\u001b[1;33m(\u001b[0m\u001b[0mWSP_points\u001b[0m\u001b[1;33m,\u001b[0m \u001b[0mmax_volume\u001b[0m\u001b[1;33m=\u001b[0m\u001b[1;36m10000\u001b[0m\u001b[1;33m,\u001b[0m \u001b[0mmin_angle\u001b[0m\u001b[1;33m=\u001b[0m\u001b[1;36m25\u001b[0m\u001b[1;33m)\u001b[0m\u001b[1;33m:\u001b[0m\u001b[1;33m\u001b[0m\u001b[0m\n\u001b[1;32m--> 175\u001b[1;33m     \u001b[0mouter_polygon\u001b[0m\u001b[1;33m,\u001b[0m \u001b[1;33m*\u001b[0m\u001b[0minner_polygons\u001b[0m \u001b[1;33m=\u001b[0m \u001b[0msimplify\u001b[0m\u001b[1;33m(\u001b[0m\u001b[0mWSP_points\u001b[0m\u001b[1;33m)\u001b[0m\u001b[1;33m\u001b[0m\u001b[0m\n\u001b[0m\u001b[0;32m    176\u001b[0m     \u001b[0minner_points_of_holes\u001b[0m \u001b[1;33m=\u001b[0m \u001b[1;33m[\u001b[0m\u001b[0minner_point\u001b[0m\u001b[1;33m(\u001b[0m\u001b[0mpol\u001b[0m\u001b[1;33m)\u001b[0m \u001b[1;32mfor\u001b[0m \u001b[0mpol\u001b[0m \u001b[1;32min\u001b[0m \u001b[0minner_polygons\u001b[0m\u001b[1;33m]\u001b[0m\u001b[1;33m\u001b[0m\u001b[0m\n\u001b[0;32m    177\u001b[0m \u001b[1;33m\u001b[0m\u001b[0m\n",
      "\u001b[1;31mValueError\u001b[0m: not enough values to unpack (expected at least 1, got 0)"
     ]
    }
   ],
   "source": [
    "sample.calculate_qubit_capacitance(cell= sample.qubit_cap_cells[0], qubit=sample.qubits[0],\n",
    "                                   mesh_volume=10)"
   ]
  },
  {
   "cell_type": "code",
   "execution_count": 15,
   "metadata": {},
   "outputs": [
    {
     "name": "stdout",
     "output_type": "stream",
     "text": [
      "Gds file has been writen here:  C:\\Users\\Elena\\git\\QCreator\\example_notebooks\\1Q_test.gds\n"
     ]
    },
    {
     "ename": "ValueError",
     "evalue": "not enough values to unpack (expected at least 1, got 0)",
     "output_type": "error",
     "traceback": [
      "\u001b[1;31m---------------------------------------------------------------------------\u001b[0m",
      "\u001b[1;31mValueError\u001b[0m                                Traceback (most recent call last)",
      "\u001b[1;32m<ipython-input-15-9cea8fd6b202>\u001b[0m in \u001b[0;36m<module>\u001b[1;34m()\u001b[0m\n\u001b[0;32m      1\u001b[0m \u001b[1;32mfor\u001b[0m \u001b[0mi\u001b[0m\u001b[1;33m,\u001b[0m\u001b[0mqubit\u001b[0m \u001b[1;32min\u001b[0m \u001b[0menumerate\u001b[0m\u001b[1;33m(\u001b[0m\u001b[0msample\u001b[0m\u001b[1;33m.\u001b[0m\u001b[0mqubits\u001b[0m\u001b[1;33m)\u001b[0m\u001b[1;33m:\u001b[0m\u001b[1;33m\u001b[0m\u001b[0m\n\u001b[0;32m      2\u001b[0m     sample.calculate_qubit_capacitance(cell= sample.qubit_cap_cells[i], qubit=sample.qubits[i],\n\u001b[1;32m----> 3\u001b[1;33m                                        mesh_volume=10)\n\u001b[0m",
      "\u001b[1;32m~\\git\\QCreator\\QCreator\\general_sample_creator.py\u001b[0m in \u001b[0;36mcalculate_qubit_capacitance\u001b[1;34m(self, cell, qubit, mesh_volume, name)\u001b[0m\n\u001b[0;32m    273\u001b[0m         \u001b[0mmesh\u001b[0m\u001b[1;33m.\u001b[0m\u001b[0mread_data_from_gds_file\u001b[0m\u001b[1;33m(\u001b[0m\u001b[1;33m)\u001b[0m\u001b[1;33m\u001b[0m\u001b[0m\n\u001b[0;32m    274\u001b[0m         \u001b[0mmesh\u001b[0m\u001b[1;33m.\u001b[0m\u001b[0mprepare_for_meshing\u001b[0m\u001b[1;33m(\u001b[0m\u001b[1;33m)\u001b[0m\u001b[1;33m\u001b[0m\u001b[0m\n\u001b[1;32m--> 275\u001b[1;33m         \u001b[0mmesh\u001b[0m\u001b[1;33m.\u001b[0m\u001b[0mrun_meshing\u001b[0m\u001b[1;33m(\u001b[0m\u001b[0mmesh_volume\u001b[0m\u001b[1;33m=\u001b[0m\u001b[0mmesh_volume\u001b[0m\u001b[1;33m)\u001b[0m\u001b[1;33m\u001b[0m\u001b[0m\n\u001b[0m\u001b[0;32m    276\u001b[0m         \u001b[0mmesh\u001b[0m\u001b[1;33m.\u001b[0m\u001b[0mwrite_into_file\u001b[0m\u001b[1;33m(\u001b[0m\u001b[0mos\u001b[0m\u001b[1;33m.\u001b[0m\u001b[0mgetcwd\u001b[0m\u001b[1;33m(\u001b[0m\u001b[1;33m)\u001b[0m \u001b[1;33m+\u001b[0m \u001b[1;34m'\\\\'\u001b[0m \u001b[1;33m+\u001b[0m \u001b[1;34m'mesh_4k_data'\u001b[0m\u001b[1;33m)\u001b[0m\u001b[1;33m\u001b[0m\u001b[0m\n\u001b[0;32m    277\u001b[0m         \u001b[0mmesh\u001b[0m\u001b[1;33m.\u001b[0m\u001b[0mrun_fastcap\u001b[0m\u001b[1;33m(\u001b[0m\u001b[0mos\u001b[0m\u001b[1;33m.\u001b[0m\u001b[0mgetcwd\u001b[0m\u001b[1;33m(\u001b[0m\u001b[1;33m)\u001b[0m \u001b[1;33m+\u001b[0m \u001b[1;34m'\\\\'\u001b[0m \u001b[1;33m+\u001b[0m \u001b[1;34m'mesh_4k_results'\u001b[0m\u001b[1;33m)\u001b[0m\u001b[1;33m\u001b[0m\u001b[0m\n",
      "\u001b[1;32m~\\git\\QCreator\\QCreator\\meshing.py\u001b[0m in \u001b[0;36mrun_meshing\u001b[1;34m(self, mesh_volume)\u001b[0m\n\u001b[0;32m     61\u001b[0m             \u001b[0mtotal_length\u001b[0m \u001b[1;33m=\u001b[0m \u001b[1;36m0\u001b[0m\u001b[1;33m\u001b[0m\u001b[0m\n\u001b[0;32m     62\u001b[0m             \u001b[1;32mfor\u001b[0m \u001b[0mconductor\u001b[0m\u001b[1;33m,\u001b[0m \u001b[0mvolume\u001b[0m \u001b[1;32min\u001b[0m \u001b[0mzip\u001b[0m\u001b[1;33m(\u001b[0m\u001b[0mpolygons\u001b[0m\u001b[1;33m,\u001b[0m \u001b[1;33m[\u001b[0m\u001b[0mmesh_volume\u001b[0m\u001b[1;33m]\u001b[0m \u001b[1;33m*\u001b[0m \u001b[0mlen\u001b[0m\u001b[1;33m(\u001b[0m\u001b[0mpolygons\u001b[0m\u001b[1;33m)\u001b[0m\u001b[1;33m)\u001b[0m\u001b[1;33m:\u001b[0m\u001b[1;33m\u001b[0m\u001b[0m\n\u001b[1;32m---> 63\u001b[1;33m                 \u001b[0mdata\u001b[0m \u001b[1;33m=\u001b[0m \u001b[0mcreate_mesh\u001b[0m\u001b[1;33m(\u001b[0m\u001b[0mconductor\u001b[0m\u001b[1;33m,\u001b[0m \u001b[0mmax_volume\u001b[0m\u001b[1;33m=\u001b[0m\u001b[0mvolume\u001b[0m\u001b[1;33m)\u001b[0m\u001b[1;33m\u001b[0m\u001b[0m\n\u001b[0m\u001b[0;32m     64\u001b[0m                 \u001b[0mmesh_points_list\u001b[0m\u001b[1;33m.\u001b[0m\u001b[0mappend\u001b[0m\u001b[1;33m(\u001b[0m\u001b[0mdata\u001b[0m\u001b[1;33m[\u001b[0m\u001b[1;36m0\u001b[0m\u001b[1;33m]\u001b[0m\u001b[1;33m)\u001b[0m\u001b[1;33m\u001b[0m\u001b[0m\n\u001b[0;32m     65\u001b[0m                 \u001b[0mmesh_tris_list\u001b[0m\u001b[1;33m.\u001b[0m\u001b[0mappend\u001b[0m\u001b[1;33m(\u001b[0m\u001b[0mdata\u001b[0m\u001b[1;33m[\u001b[0m\u001b[1;36m1\u001b[0m\u001b[1;33m]\u001b[0m\u001b[1;33m)\u001b[0m\u001b[1;33m\u001b[0m\u001b[0m\n",
      "\u001b[1;32m~\\git\\QCreator\\QCreator\\meshing.py\u001b[0m in \u001b[0;36mcreate_mesh\u001b[1;34m(WSP_points, max_volume, min_angle)\u001b[0m\n\u001b[0;32m    173\u001b[0m \u001b[1;33m\u001b[0m\u001b[0m\n\u001b[0;32m    174\u001b[0m \u001b[1;32mdef\u001b[0m \u001b[0mcreate_mesh\u001b[0m\u001b[1;33m(\u001b[0m\u001b[0mWSP_points\u001b[0m\u001b[1;33m,\u001b[0m \u001b[0mmax_volume\u001b[0m\u001b[1;33m=\u001b[0m\u001b[1;36m10000\u001b[0m\u001b[1;33m,\u001b[0m \u001b[0mmin_angle\u001b[0m\u001b[1;33m=\u001b[0m\u001b[1;36m25\u001b[0m\u001b[1;33m)\u001b[0m\u001b[1;33m:\u001b[0m\u001b[1;33m\u001b[0m\u001b[0m\n\u001b[1;32m--> 175\u001b[1;33m     \u001b[0mouter_polygon\u001b[0m\u001b[1;33m,\u001b[0m \u001b[1;33m*\u001b[0m\u001b[0minner_polygons\u001b[0m \u001b[1;33m=\u001b[0m \u001b[0msimplify\u001b[0m\u001b[1;33m(\u001b[0m\u001b[0mWSP_points\u001b[0m\u001b[1;33m)\u001b[0m\u001b[1;33m\u001b[0m\u001b[0m\n\u001b[0m\u001b[0;32m    176\u001b[0m     \u001b[0minner_points_of_holes\u001b[0m \u001b[1;33m=\u001b[0m \u001b[1;33m[\u001b[0m\u001b[0minner_point\u001b[0m\u001b[1;33m(\u001b[0m\u001b[0mpol\u001b[0m\u001b[1;33m)\u001b[0m \u001b[1;32mfor\u001b[0m \u001b[0mpol\u001b[0m \u001b[1;32min\u001b[0m \u001b[0minner_polygons\u001b[0m\u001b[1;33m]\u001b[0m\u001b[1;33m\u001b[0m\u001b[0m\n\u001b[0;32m    177\u001b[0m \u001b[1;33m\u001b[0m\u001b[0m\n",
      "\u001b[1;31mValueError\u001b[0m: not enough values to unpack (expected at least 1, got 0)"
     ]
    }
   ],
   "source": [
    "for i,qubit in enumerate(sample.qubits):\n",
    "    sample.calculate_qubit_capacitance(cell= sample.qubit_cap_cells[i], qubit=sample.qubits[i],\n",
    "                                       mesh_volume=10)"
   ]
  },
  {
   "cell_type": "code",
   "execution_count": 15,
   "metadata": {},
   "outputs": [
    {
     "ename": "AttributeError",
     "evalue": "'Sample' object has no attribute 'qubit_cap_cell'",
     "output_type": "error",
     "traceback": [
      "\u001b[1;31m---------------------------------------------------------------------------\u001b[0m",
      "\u001b[1;31mAttributeError\u001b[0m                            Traceback (most recent call last)",
      "\u001b[1;32m<ipython-input-15-e0be75d58bb9>\u001b[0m in \u001b[0;36m<module>\u001b[1;34m()\u001b[0m\n\u001b[1;32m----> 1\u001b[1;33m sample.calculate_qubit_capacitance(cell= sample.qubit_cap_cell,\n\u001b[0m\u001b[0;32m      2\u001b[0m                                    mesh_volume=2)\n",
      "\u001b[1;31mAttributeError\u001b[0m: 'Sample' object has no attribute 'qubit_cap_cell'"
     ]
    }
   ],
   "source": [
    "sample.calculate_qubit_capacitance(cell= sample.qubit_cap_cell,\n",
    "                                   mesh_volume=2)"
   ]
  },
  {
   "cell_type": "code",
   "execution_count": 14,
   "metadata": {},
   "outputs": [
    {
     "name": "stdout",
     "output_type": "stream",
     "text": [
      "Gds file has been writen here:  C:\\Users\\Elena\\git\\QCreator\\example_notebooks\\1Q_test.gds\n"
     ]
    },
    {
     "ename": "ValueError",
     "evalue": "not enough values to unpack (expected at least 1, got 0)",
     "output_type": "error",
     "traceback": [
      "\u001b[1;31m---------------------------------------------------------------------------\u001b[0m",
      "\u001b[1;31mValueError\u001b[0m                                Traceback (most recent call last)",
      "\u001b[1;32m<ipython-input-14-9cea8fd6b202>\u001b[0m in \u001b[0;36m<module>\u001b[1;34m()\u001b[0m\n\u001b[0;32m      1\u001b[0m \u001b[1;32mfor\u001b[0m \u001b[0mi\u001b[0m\u001b[1;33m,\u001b[0m\u001b[0mqubit\u001b[0m \u001b[1;32min\u001b[0m \u001b[0menumerate\u001b[0m\u001b[1;33m(\u001b[0m\u001b[0msample\u001b[0m\u001b[1;33m.\u001b[0m\u001b[0mqubits\u001b[0m\u001b[1;33m)\u001b[0m\u001b[1;33m:\u001b[0m\u001b[1;33m\u001b[0m\u001b[0m\n\u001b[0;32m      2\u001b[0m     sample.calculate_qubit_capacitance(cell= sample.qubit_cap_cells[i], qubit=sample.qubits[i],\n\u001b[1;32m----> 3\u001b[1;33m                                        mesh_volume=10)\n\u001b[0m",
      "\u001b[1;32m~\\git\\QCreator\\QCreator\\general_sample_creator.py\u001b[0m in \u001b[0;36mcalculate_qubit_capacitance\u001b[1;34m(self, cell, qubit, mesh_volume, name)\u001b[0m\n\u001b[0;32m    273\u001b[0m         \u001b[0mmesh\u001b[0m\u001b[1;33m.\u001b[0m\u001b[0mread_data_from_gds_file\u001b[0m\u001b[1;33m(\u001b[0m\u001b[1;33m)\u001b[0m\u001b[1;33m\u001b[0m\u001b[0m\n\u001b[0;32m    274\u001b[0m         \u001b[0mmesh\u001b[0m\u001b[1;33m.\u001b[0m\u001b[0mprepare_for_meshing\u001b[0m\u001b[1;33m(\u001b[0m\u001b[1;33m)\u001b[0m\u001b[1;33m\u001b[0m\u001b[0m\n\u001b[1;32m--> 275\u001b[1;33m         \u001b[0mmesh\u001b[0m\u001b[1;33m.\u001b[0m\u001b[0mrun_meshing\u001b[0m\u001b[1;33m(\u001b[0m\u001b[0mmesh_volume\u001b[0m\u001b[1;33m=\u001b[0m\u001b[0mmesh_volume\u001b[0m\u001b[1;33m)\u001b[0m\u001b[1;33m\u001b[0m\u001b[0m\n\u001b[0m\u001b[0;32m    276\u001b[0m         \u001b[0mmesh\u001b[0m\u001b[1;33m.\u001b[0m\u001b[0mwrite_into_file\u001b[0m\u001b[1;33m(\u001b[0m\u001b[0mos\u001b[0m\u001b[1;33m.\u001b[0m\u001b[0mgetcwd\u001b[0m\u001b[1;33m(\u001b[0m\u001b[1;33m)\u001b[0m \u001b[1;33m+\u001b[0m \u001b[1;34m'\\\\'\u001b[0m \u001b[1;33m+\u001b[0m \u001b[1;34m'mesh_4k_data'\u001b[0m\u001b[1;33m)\u001b[0m\u001b[1;33m\u001b[0m\u001b[0m\n\u001b[0;32m    277\u001b[0m         \u001b[0mmesh\u001b[0m\u001b[1;33m.\u001b[0m\u001b[0mrun_fastcap\u001b[0m\u001b[1;33m(\u001b[0m\u001b[0mos\u001b[0m\u001b[1;33m.\u001b[0m\u001b[0mgetcwd\u001b[0m\u001b[1;33m(\u001b[0m\u001b[1;33m)\u001b[0m \u001b[1;33m+\u001b[0m \u001b[1;34m'\\\\'\u001b[0m \u001b[1;33m+\u001b[0m \u001b[1;34m'mesh_4k_results'\u001b[0m\u001b[1;33m)\u001b[0m\u001b[1;33m\u001b[0m\u001b[0m\n",
      "\u001b[1;32m~\\git\\QCreator\\QCreator\\meshing.py\u001b[0m in \u001b[0;36mrun_meshing\u001b[1;34m(self, mesh_volume)\u001b[0m\n\u001b[0;32m     61\u001b[0m             \u001b[0mtotal_length\u001b[0m \u001b[1;33m=\u001b[0m \u001b[1;36m0\u001b[0m\u001b[1;33m\u001b[0m\u001b[0m\n\u001b[0;32m     62\u001b[0m             \u001b[1;32mfor\u001b[0m \u001b[0mconductor\u001b[0m\u001b[1;33m,\u001b[0m \u001b[0mvolume\u001b[0m \u001b[1;32min\u001b[0m \u001b[0mzip\u001b[0m\u001b[1;33m(\u001b[0m\u001b[0mpolygons\u001b[0m\u001b[1;33m,\u001b[0m \u001b[1;33m[\u001b[0m\u001b[0mmesh_volume\u001b[0m\u001b[1;33m]\u001b[0m \u001b[1;33m*\u001b[0m \u001b[0mlen\u001b[0m\u001b[1;33m(\u001b[0m\u001b[0mpolygons\u001b[0m\u001b[1;33m)\u001b[0m\u001b[1;33m)\u001b[0m\u001b[1;33m:\u001b[0m\u001b[1;33m\u001b[0m\u001b[0m\n\u001b[1;32m---> 63\u001b[1;33m                 \u001b[0mdata\u001b[0m \u001b[1;33m=\u001b[0m \u001b[0mcreate_mesh\u001b[0m\u001b[1;33m(\u001b[0m\u001b[0mconductor\u001b[0m\u001b[1;33m,\u001b[0m \u001b[0mmax_volume\u001b[0m\u001b[1;33m=\u001b[0m\u001b[0mvolume\u001b[0m\u001b[1;33m)\u001b[0m\u001b[1;33m\u001b[0m\u001b[0m\n\u001b[0m\u001b[0;32m     64\u001b[0m                 \u001b[0mmesh_points_list\u001b[0m\u001b[1;33m.\u001b[0m\u001b[0mappend\u001b[0m\u001b[1;33m(\u001b[0m\u001b[0mdata\u001b[0m\u001b[1;33m[\u001b[0m\u001b[1;36m0\u001b[0m\u001b[1;33m]\u001b[0m\u001b[1;33m)\u001b[0m\u001b[1;33m\u001b[0m\u001b[0m\n\u001b[0;32m     65\u001b[0m                 \u001b[0mmesh_tris_list\u001b[0m\u001b[1;33m.\u001b[0m\u001b[0mappend\u001b[0m\u001b[1;33m(\u001b[0m\u001b[0mdata\u001b[0m\u001b[1;33m[\u001b[0m\u001b[1;36m1\u001b[0m\u001b[1;33m]\u001b[0m\u001b[1;33m)\u001b[0m\u001b[1;33m\u001b[0m\u001b[0m\n",
      "\u001b[1;32m~\\git\\QCreator\\QCreator\\meshing.py\u001b[0m in \u001b[0;36mcreate_mesh\u001b[1;34m(WSP_points, max_volume, min_angle)\u001b[0m\n\u001b[0;32m    173\u001b[0m \u001b[1;33m\u001b[0m\u001b[0m\n\u001b[0;32m    174\u001b[0m \u001b[1;32mdef\u001b[0m \u001b[0mcreate_mesh\u001b[0m\u001b[1;33m(\u001b[0m\u001b[0mWSP_points\u001b[0m\u001b[1;33m,\u001b[0m \u001b[0mmax_volume\u001b[0m\u001b[1;33m=\u001b[0m\u001b[1;36m10000\u001b[0m\u001b[1;33m,\u001b[0m \u001b[0mmin_angle\u001b[0m\u001b[1;33m=\u001b[0m\u001b[1;36m25\u001b[0m\u001b[1;33m)\u001b[0m\u001b[1;33m:\u001b[0m\u001b[1;33m\u001b[0m\u001b[0m\n\u001b[1;32m--> 175\u001b[1;33m     \u001b[0mouter_polygon\u001b[0m\u001b[1;33m,\u001b[0m \u001b[1;33m*\u001b[0m\u001b[0minner_polygons\u001b[0m \u001b[1;33m=\u001b[0m \u001b[0msimplify\u001b[0m\u001b[1;33m(\u001b[0m\u001b[0mWSP_points\u001b[0m\u001b[1;33m)\u001b[0m\u001b[1;33m\u001b[0m\u001b[0m\n\u001b[0m\u001b[0;32m    176\u001b[0m     \u001b[0minner_points_of_holes\u001b[0m \u001b[1;33m=\u001b[0m \u001b[1;33m[\u001b[0m\u001b[0minner_point\u001b[0m\u001b[1;33m(\u001b[0m\u001b[0mpol\u001b[0m\u001b[1;33m)\u001b[0m \u001b[1;32mfor\u001b[0m \u001b[0mpol\u001b[0m \u001b[1;32min\u001b[0m \u001b[0minner_polygons\u001b[0m\u001b[1;33m]\u001b[0m\u001b[1;33m\u001b[0m\u001b[0m\n\u001b[0;32m    177\u001b[0m \u001b[1;33m\u001b[0m\u001b[0m\n",
      "\u001b[1;31mValueError\u001b[0m: not enough values to unpack (expected at least 1, got 0)"
     ]
    }
   ],
   "source": [
    "for i,qubit in enumerate(sample.qubits):\n",
    "    sample.calculate_qubit_capacitance(cell= sample.qubit_cap_cells[i], qubit=sample.qubits[i],\n",
    "                                       mesh_volume=10)"
   ]
  },
  {
   "cell_type": "code",
   "execution_count": 15,
   "metadata": {},
   "outputs": [
    {
     "ename": "TypeError",
     "evalue": "unsupported operand type(s) for *: 'NoneType' and 'float'",
     "output_type": "error",
     "traceback": [
      "\u001b[1;31m---------------------------------------------------------------------------\u001b[0m",
      "\u001b[1;31mTypeError\u001b[0m                                 Traceback (most recent call last)",
      "\u001b[1;32m<ipython-input-15-2ee2e1e2bd57>\u001b[0m in \u001b[0;36m<module>\u001b[1;34m()\u001b[0m\n\u001b[1;32m----> 1\u001b[1;33m \u001b[0msys\u001b[0m\u001b[1;33m,\u001b[0m \u001b[0mconnections\u001b[0m\u001b[1;33m,\u001b[0m \u001b[0melements_\u001b[0m \u001b[1;33m=\u001b[0m \u001b[0msample\u001b[0m\u001b[1;33m.\u001b[0m\u001b[0mget_tls\u001b[0m\u001b[1;33m(\u001b[0m\u001b[1;33m)\u001b[0m\u001b[1;33m\u001b[0m\u001b[0m\n\u001b[0m\u001b[0;32m      2\u001b[0m \u001b[0mf\u001b[0m\u001b[1;33m,\u001b[0m \u001b[0mdelta\u001b[0m\u001b[1;33m,\u001b[0m \u001b[0mmodes\u001b[0m \u001b[1;33m=\u001b[0m \u001b[0msys\u001b[0m\u001b[1;33m.\u001b[0m\u001b[0mget_modes\u001b[0m\u001b[1;33m(\u001b[0m\u001b[1;33m)\u001b[0m\u001b[1;33m\u001b[0m\u001b[0m\n\u001b[0;32m      3\u001b[0m \u001b[0mf\u001b[0m\u001b[1;33m[\u001b[0m\u001b[1;33m:\u001b[0m\u001b[1;36m10\u001b[0m\u001b[1;33m]\u001b[0m\u001b[1;33m/\u001b[0m\u001b[1;33m(\u001b[0m\u001b[1;36m2\u001b[0m\u001b[1;33m*\u001b[0m\u001b[0mnp\u001b[0m\u001b[1;33m.\u001b[0m\u001b[0mpi\u001b[0m\u001b[1;33m)\u001b[0m\u001b[1;33m/\u001b[0m\u001b[1;36m1e9\u001b[0m\u001b[1;33m,\u001b[0m \u001b[0mdelta\u001b[0m\u001b[1;33m[\u001b[0m\u001b[1;33m:\u001b[0m\u001b[1;36m10\u001b[0m\u001b[1;33m]\u001b[0m\u001b[1;33m/\u001b[0m\u001b[1;36m1e6\u001b[0m\u001b[1;33m,\u001b[0m\u001b[0mf\u001b[0m\u001b[1;33m[\u001b[0m\u001b[1;33m:\u001b[0m\u001b[1;36m10\u001b[0m\u001b[1;33m]\u001b[0m\u001b[1;33m/\u001b[0m\u001b[0mdelta\u001b[0m\u001b[1;33m[\u001b[0m\u001b[1;33m:\u001b[0m\u001b[1;36m10\u001b[0m\u001b[1;33m]\u001b[0m\u001b[1;33m/\u001b[0m\u001b[1;36m2\u001b[0m\u001b[1;33m\u001b[0m\u001b[0m\n",
      "\u001b[1;32m~\\git\\QCreator\\QCreator\\general_sample_creator.py\u001b[0m in \u001b[0;36mget_tls\u001b[1;34m(self)\u001b[0m\n\u001b[0;32m    370\u001b[0m                         \u001b[0mconnections_flat\u001b[0m\u001b[1;33m[\u001b[0m\u001b[1;33m(\u001b[0m\u001b[0mobject_\u001b[0m\u001b[1;33m,\u001b[0m \u001b[0mterminal_name\u001b[0m\u001b[1;33m,\u001b[0m \u001b[0mconductor_id\u001b[0m\u001b[1;33m)\u001b[0m\u001b[1;33m]\u001b[0m \u001b[1;33m=\u001b[0m \u001b[0mmax_connection_id\u001b[0m\u001b[1;33m\u001b[0m\u001b[0m\n\u001b[0;32m    371\u001b[0m                         \u001b[0mterminal_node_assignments\u001b[0m\u001b[1;33m[\u001b[0m\u001b[0mterminal_identifier\u001b[0m\u001b[1;33m]\u001b[0m \u001b[1;33m=\u001b[0m \u001b[0mmax_connection_id\u001b[0m\u001b[1;33m\u001b[0m\u001b[0m\n\u001b[1;32m--> 372\u001b[1;33m             \u001b[0melement_assignments\u001b[0m\u001b[1;33m[\u001b[0m\u001b[0mobject_\u001b[0m\u001b[1;33m.\u001b[0m\u001b[0mname\u001b[0m\u001b[1;33m]\u001b[0m \u001b[1;33m=\u001b[0m \u001b[0mobject_\u001b[0m\u001b[1;33m.\u001b[0m\u001b[0madd_to_tls\u001b[0m\u001b[1;33m(\u001b[0m\u001b[0mtls\u001b[0m\u001b[1;33m,\u001b[0m \u001b[0mterminal_node_assignments\u001b[0m\u001b[1;33m)\u001b[0m\u001b[1;33m\u001b[0m\u001b[0m\n\u001b[0m\u001b[0;32m    373\u001b[0m         \u001b[1;32mreturn\u001b[0m \u001b[0mtls\u001b[0m\u001b[1;33m,\u001b[0m \u001b[0mconnections_flat\u001b[0m\u001b[1;33m,\u001b[0m \u001b[0melement_assignments\u001b[0m\u001b[1;33m\u001b[0m\u001b[0m\n\u001b[0;32m    374\u001b[0m \u001b[1;33m\u001b[0m\u001b[0m\n",
      "\u001b[1;32m~\\git\\QCreator\\QCreator\\elements\\coaxmon.py\u001b[0m in \u001b[0;36madd_to_tls\u001b[1;34m(self, tls_instance, terminal_mapping, track_changes)\u001b[0m\n\u001b[0;32m    220\u001b[0m         \u001b[0mscal_C\u001b[0m \u001b[1;33m=\u001b[0m \u001b[1;36m1e-15\u001b[0m\u001b[1;33m\u001b[0m\u001b[0m\n\u001b[0;32m    221\u001b[0m         \u001b[0mJJ\u001b[0m \u001b[1;33m=\u001b[0m \u001b[0mtlsim\u001b[0m\u001b[1;33m.\u001b[0m\u001b[0mInductor\u001b[0m\u001b[1;33m(\u001b[0m\u001b[0mself\u001b[0m\u001b[1;33m.\u001b[0m\u001b[0mL\u001b[0m\u001b[1;33m)\u001b[0m\u001b[1;33m\u001b[0m\u001b[0m\n\u001b[1;32m--> 222\u001b[1;33m         \u001b[0mC\u001b[0m \u001b[1;33m=\u001b[0m \u001b[0mtlsim\u001b[0m\u001b[1;33m.\u001b[0m\u001b[0mCapacitor\u001b[0m\u001b[1;33m(\u001b[0m\u001b[0mc\u001b[0m\u001b[1;33m=\u001b[0m\u001b[0mself\u001b[0m\u001b[1;33m.\u001b[0m\u001b[0mC\u001b[0m\u001b[1;33m[\u001b[0m\u001b[1;34m'qubit'\u001b[0m\u001b[1;33m]\u001b[0m\u001b[1;33m*\u001b[0m\u001b[0mscal_C\u001b[0m\u001b[1;33m,\u001b[0m \u001b[0mname\u001b[0m\u001b[1;33m=\u001b[0m\u001b[0mself\u001b[0m\u001b[1;33m.\u001b[0m\u001b[0mname\u001b[0m\u001b[1;33m+\u001b[0m\u001b[1;34m' qubit-ground'\u001b[0m\u001b[1;33m)\u001b[0m\u001b[1;33m\u001b[0m\u001b[0m\n\u001b[0m\u001b[0;32m    223\u001b[0m         \u001b[0mtls_instance\u001b[0m\u001b[1;33m.\u001b[0m\u001b[0madd_element\u001b[0m\u001b[1;33m(\u001b[0m\u001b[0mJJ\u001b[0m\u001b[1;33m,\u001b[0m \u001b[1;33m[\u001b[0m\u001b[1;36m0\u001b[0m\u001b[1;33m,\u001b[0m \u001b[0mterminal_mapping\u001b[0m\u001b[1;33m[\u001b[0m\u001b[1;34m'qubit'\u001b[0m\u001b[1;33m]\u001b[0m\u001b[1;33m]\u001b[0m\u001b[1;33m)\u001b[0m\u001b[1;33m\u001b[0m\u001b[0m\n\u001b[0;32m    224\u001b[0m         \u001b[0mtls_instance\u001b[0m\u001b[1;33m.\u001b[0m\u001b[0madd_element\u001b[0m\u001b[1;33m(\u001b[0m\u001b[0mC\u001b[0m\u001b[1;33m,\u001b[0m \u001b[1;33m[\u001b[0m\u001b[1;36m0\u001b[0m\u001b[1;33m,\u001b[0m \u001b[0mterminal_mapping\u001b[0m\u001b[1;33m[\u001b[0m\u001b[1;34m'qubit'\u001b[0m\u001b[1;33m]\u001b[0m\u001b[1;33m]\u001b[0m\u001b[1;33m)\u001b[0m\u001b[1;33m\u001b[0m\u001b[0m\n",
      "\u001b[1;31mTypeError\u001b[0m: unsupported operand type(s) for *: 'NoneType' and 'float'"
     ]
    }
   ],
   "source": [
    "sys, connections, elements_ = sample.get_tls()\n",
    "f, delta, modes = sys.get_modes()\n",
    "f[:10]/(2*np.pi)/1e9, delta[:10]/1e6,f[:10]/delta[:10]/2 "
   ]
  },
  {
   "cell_type": "code",
   "execution_count": 19,
   "metadata": {},
   "outputs": [
    {
     "ename": "TypeError",
     "evalue": "unsupported operand type(s) for *: 'NoneType' and 'float'",
     "output_type": "error",
     "traceback": [
      "\u001b[1;31m---------------------------------------------------------------------------\u001b[0m",
      "\u001b[1;31mTypeError\u001b[0m                                 Traceback (most recent call last)",
      "\u001b[1;32m<ipython-input-19-8f7f18c359b1>\u001b[0m in \u001b[0;36m<module>\u001b[1;34m()\u001b[0m\n\u001b[0;32m      1\u001b[0m \u001b[0mf_\u001b[0m \u001b[1;33m=\u001b[0m \u001b[0mnp\u001b[0m\u001b[1;33m.\u001b[0m\u001b[0mlinspace\u001b[0m\u001b[1;33m(\u001b[0m\u001b[1;36m8e9\u001b[0m\u001b[1;33m,\u001b[0m \u001b[1;36m8.2e9\u001b[0m\u001b[1;33m,\u001b[0m \u001b[1;36m5001\u001b[0m\u001b[1;33m)\u001b[0m\u001b[1;33m\u001b[0m\u001b[0m\n\u001b[0;32m      2\u001b[0m \u001b[1;31m# s11 = sample.get_s21('p1', 'p1', f_)\u001b[0m\u001b[1;33m\u001b[0m\u001b[1;33m\u001b[0m\u001b[0m\n\u001b[1;32m----> 3\u001b[1;33m \u001b[0ms21\u001b[0m \u001b[1;33m=\u001b[0m \u001b[0msample\u001b[0m\u001b[1;33m.\u001b[0m\u001b[0mget_s21\u001b[0m\u001b[1;33m(\u001b[0m\u001b[1;34m'p1'\u001b[0m\u001b[1;33m,\u001b[0m \u001b[1;34m'p2'\u001b[0m\u001b[1;33m,\u001b[0m \u001b[0mf_\u001b[0m\u001b[1;33m)\u001b[0m\u001b[1;33m\u001b[0m\u001b[0m\n\u001b[0m",
      "\u001b[1;32m~\\git\\QCreator\\QCreator\\general_sample_creator.py\u001b[0m in \u001b[0;36mget_s21\u001b[1;34m(self, p1, p2, frequencies)\u001b[0m\n\u001b[0;32m    381\u001b[0m         \u001b[1;33m:\u001b[0m\u001b[1;32mreturn\u001b[0m\u001b[1;33m:\u001b[0m\u001b[1;33m\u001b[0m\u001b[0m\n\u001b[0;32m    382\u001b[0m         \"\"\"\n\u001b[1;32m--> 383\u001b[1;33m         \u001b[0msys\u001b[0m\u001b[1;33m,\u001b[0m \u001b[0mconnections\u001b[0m\u001b[1;33m,\u001b[0m \u001b[0melements_\u001b[0m \u001b[1;33m=\u001b[0m \u001b[0mself\u001b[0m\u001b[1;33m.\u001b[0m\u001b[0mget_tls\u001b[0m\u001b[1;33m(\u001b[0m\u001b[1;33m)\u001b[0m\u001b[1;33m\u001b[0m\u001b[0m\n\u001b[0m\u001b[0;32m    384\u001b[0m         \u001b[0ms\u001b[0m \u001b[1;33m=\u001b[0m \u001b[1;33m[\u001b[0m\u001b[1;33m]\u001b[0m\u001b[1;33m\u001b[0m\u001b[0m\n\u001b[0;32m    385\u001b[0m         \u001b[1;32mfor\u001b[0m \u001b[0mf_id\u001b[0m\u001b[1;33m,\u001b[0m \u001b[0mf\u001b[0m \u001b[1;32min\u001b[0m \u001b[0menumerate\u001b[0m\u001b[1;33m(\u001b[0m\u001b[0mfrequencies\u001b[0m\u001b[1;33m)\u001b[0m\u001b[1;33m:\u001b[0m\u001b[1;33m\u001b[0m\u001b[0m\n",
      "\u001b[1;32m~\\git\\QCreator\\QCreator\\general_sample_creator.py\u001b[0m in \u001b[0;36mget_tls\u001b[1;34m(self)\u001b[0m\n\u001b[0;32m    370\u001b[0m                         \u001b[0mconnections_flat\u001b[0m\u001b[1;33m[\u001b[0m\u001b[1;33m(\u001b[0m\u001b[0mobject_\u001b[0m\u001b[1;33m,\u001b[0m \u001b[0mterminal_name\u001b[0m\u001b[1;33m,\u001b[0m \u001b[0mconductor_id\u001b[0m\u001b[1;33m)\u001b[0m\u001b[1;33m]\u001b[0m \u001b[1;33m=\u001b[0m \u001b[0mmax_connection_id\u001b[0m\u001b[1;33m\u001b[0m\u001b[0m\n\u001b[0;32m    371\u001b[0m                         \u001b[0mterminal_node_assignments\u001b[0m\u001b[1;33m[\u001b[0m\u001b[0mterminal_identifier\u001b[0m\u001b[1;33m]\u001b[0m \u001b[1;33m=\u001b[0m \u001b[0mmax_connection_id\u001b[0m\u001b[1;33m\u001b[0m\u001b[0m\n\u001b[1;32m--> 372\u001b[1;33m             \u001b[0melement_assignments\u001b[0m\u001b[1;33m[\u001b[0m\u001b[0mobject_\u001b[0m\u001b[1;33m.\u001b[0m\u001b[0mname\u001b[0m\u001b[1;33m]\u001b[0m \u001b[1;33m=\u001b[0m \u001b[0mobject_\u001b[0m\u001b[1;33m.\u001b[0m\u001b[0madd_to_tls\u001b[0m\u001b[1;33m(\u001b[0m\u001b[0mtls\u001b[0m\u001b[1;33m,\u001b[0m \u001b[0mterminal_node_assignments\u001b[0m\u001b[1;33m)\u001b[0m\u001b[1;33m\u001b[0m\u001b[0m\n\u001b[0m\u001b[0;32m    373\u001b[0m         \u001b[1;32mreturn\u001b[0m \u001b[0mtls\u001b[0m\u001b[1;33m,\u001b[0m \u001b[0mconnections_flat\u001b[0m\u001b[1;33m,\u001b[0m \u001b[0melement_assignments\u001b[0m\u001b[1;33m\u001b[0m\u001b[0m\n\u001b[0;32m    374\u001b[0m \u001b[1;33m\u001b[0m\u001b[0m\n",
      "\u001b[1;32m~\\git\\QCreator\\QCreator\\elements\\coaxmon.py\u001b[0m in \u001b[0;36madd_to_tls\u001b[1;34m(self, tls_instance, terminal_mapping, track_changes)\u001b[0m\n\u001b[0;32m    220\u001b[0m         \u001b[0mscal_C\u001b[0m \u001b[1;33m=\u001b[0m \u001b[1;36m1e-15\u001b[0m\u001b[1;33m\u001b[0m\u001b[0m\n\u001b[0;32m    221\u001b[0m         \u001b[0mJJ\u001b[0m \u001b[1;33m=\u001b[0m \u001b[0mtlsim\u001b[0m\u001b[1;33m.\u001b[0m\u001b[0mInductor\u001b[0m\u001b[1;33m(\u001b[0m\u001b[0mself\u001b[0m\u001b[1;33m.\u001b[0m\u001b[0mL\u001b[0m\u001b[1;33m)\u001b[0m\u001b[1;33m\u001b[0m\u001b[0m\n\u001b[1;32m--> 222\u001b[1;33m         \u001b[0mC\u001b[0m \u001b[1;33m=\u001b[0m \u001b[0mtlsim\u001b[0m\u001b[1;33m.\u001b[0m\u001b[0mCapacitor\u001b[0m\u001b[1;33m(\u001b[0m\u001b[0mc\u001b[0m\u001b[1;33m=\u001b[0m\u001b[0mself\u001b[0m\u001b[1;33m.\u001b[0m\u001b[0mC\u001b[0m\u001b[1;33m[\u001b[0m\u001b[1;34m'qubit'\u001b[0m\u001b[1;33m]\u001b[0m\u001b[1;33m*\u001b[0m\u001b[0mscal_C\u001b[0m\u001b[1;33m,\u001b[0m \u001b[0mname\u001b[0m\u001b[1;33m=\u001b[0m\u001b[0mself\u001b[0m\u001b[1;33m.\u001b[0m\u001b[0mname\u001b[0m\u001b[1;33m+\u001b[0m\u001b[1;34m' qubit-ground'\u001b[0m\u001b[1;33m)\u001b[0m\u001b[1;33m\u001b[0m\u001b[0m\n\u001b[0m\u001b[0;32m    223\u001b[0m         \u001b[0mtls_instance\u001b[0m\u001b[1;33m.\u001b[0m\u001b[0madd_element\u001b[0m\u001b[1;33m(\u001b[0m\u001b[0mJJ\u001b[0m\u001b[1;33m,\u001b[0m \u001b[1;33m[\u001b[0m\u001b[1;36m0\u001b[0m\u001b[1;33m,\u001b[0m \u001b[0mterminal_mapping\u001b[0m\u001b[1;33m[\u001b[0m\u001b[1;34m'qubit'\u001b[0m\u001b[1;33m]\u001b[0m\u001b[1;33m]\u001b[0m\u001b[1;33m)\u001b[0m\u001b[1;33m\u001b[0m\u001b[0m\n\u001b[0;32m    224\u001b[0m         \u001b[0mtls_instance\u001b[0m\u001b[1;33m.\u001b[0m\u001b[0madd_element\u001b[0m\u001b[1;33m(\u001b[0m\u001b[0mC\u001b[0m\u001b[1;33m,\u001b[0m \u001b[1;33m[\u001b[0m\u001b[1;36m0\u001b[0m\u001b[1;33m,\u001b[0m \u001b[0mterminal_mapping\u001b[0m\u001b[1;33m[\u001b[0m\u001b[1;34m'qubit'\u001b[0m\u001b[1;33m]\u001b[0m\u001b[1;33m]\u001b[0m\u001b[1;33m)\u001b[0m\u001b[1;33m\u001b[0m\u001b[0m\n",
      "\u001b[1;31mTypeError\u001b[0m: unsupported operand type(s) for *: 'NoneType' and 'float'"
     ]
    }
   ],
   "source": [
    "f_ = np.linspace(8e9, 8.2e9, 5001)\n",
    "# s11 = sample.get_s21('p1', 'p1', f_)\n",
    "s21 = sample.get_s21('p1', 'p2', f_)"
   ]
  },
  {
   "cell_type": "code",
   "execution_count": null,
   "metadata": {
    "collapsed": true
   },
   "outputs": [],
   "source": []
  },
  {
   "cell_type": "code",
   "execution_count": null,
   "metadata": {
    "collapsed": true
   },
   "outputs": [],
   "source": []
  },
  {
   "cell_type": "markdown",
   "metadata": {},
   "source": [
    "# Feedline"
   ]
  },
  {
   "cell_type": "code",
   "execution_count": 33,
   "metadata": {},
   "outputs": [
    {
     "ename": "AttributeError",
     "evalue": "'Sample' object has no attribute 'generate_line'",
     "output_type": "error",
     "traceback": [
      "\u001b[1;31m---------------------------------------------------------------------------\u001b[0m",
      "\u001b[1;31mAttributeError\u001b[0m                            Traceback (most recent call last)",
      "\u001b[1;32m<ipython-input-33-ed0e7db4bde3>\u001b[0m in \u001b[0;36m<module>\u001b[1;34m()\u001b[0m\n\u001b[0;32m      1\u001b[0m \u001b[0mpoints\u001b[0m \u001b[1;33m=\u001b[0m \u001b[1;33m[\u001b[0m\u001b[0mp1\u001b[0m\u001b[1;33m.\u001b[0m\u001b[0mposition\u001b[0m\u001b[1;33m,\u001b[0m \u001b[0mp2\u001b[0m\u001b[1;33m.\u001b[0m\u001b[0mposition\u001b[0m\u001b[1;33m]\u001b[0m\u001b[1;33m\u001b[0m\u001b[0m\n\u001b[1;32m----> 2\u001b[1;33m \u001b[0msample\u001b[0m\u001b[1;33m.\u001b[0m\u001b[0mgenerate_line\u001b[0m\u001b[1;33m(\u001b[0m\u001b[1;34m'feedline'\u001b[0m\u001b[1;33m,\u001b[0m \u001b[0mdeepcopy\u001b[0m\u001b[1;33m(\u001b[0m\u001b[0mpoints\u001b[0m\u001b[1;33m)\u001b[0m\u001b[1;33m,\u001b[0m \u001b[0mtl_core\u001b[0m\u001b[1;33m,\u001b[0m \u001b[0mtl_gap\u001b[0m\u001b[1;33m,\u001b[0m \u001b[0mtl_ground\u001b[0m\u001b[1;33m,\u001b[0m \u001b[1;32mNone\u001b[0m\u001b[1;33m)\u001b[0m\u001b[1;33m\u001b[0m\u001b[0m\n\u001b[0m\u001b[0;32m      3\u001b[0m \u001b[1;31m#('feedline', points, tl_core, tl_gap, tl_ground, sample.layer_configuration, R = 20)\u001b[0m\u001b[1;33m\u001b[0m\u001b[1;33m\u001b[0m\u001b[0m\n\u001b[0;32m      4\u001b[0m \u001b[0msample\u001b[0m\u001b[1;33m.\u001b[0m\u001b[0madd\u001b[0m\u001b[1;33m(\u001b[0m\u001b[0mgdf\u001b[0m\u001b[1;33m.\u001b[0m\u001b[0mCPW\u001b[0m\u001b[1;33m(\u001b[0m\u001b[1;34m'feedline'\u001b[0m\u001b[1;33m,\u001b[0m \u001b[0mpoints\u001b[0m\u001b[1;33m,\u001b[0m \u001b[0mtl_core\u001b[0m\u001b[1;33m,\u001b[0m \u001b[0mtl_gap\u001b[0m\u001b[1;33m,\u001b[0m \u001b[0mtl_ground\u001b[0m\u001b[1;33m,\u001b[0m \u001b[1;32mNone\u001b[0m\u001b[1;33m,\u001b[0m \u001b[0msample\u001b[0m\u001b[1;33m.\u001b[0m\u001b[0mlayer_configuration\u001b[0m\u001b[1;33m,\u001b[0m \u001b[0mR\u001b[0m \u001b[1;33m=\u001b[0m \u001b[1;36m100\u001b[0m\u001b[1;33m)\u001b[0m\u001b[1;33m)\u001b[0m\u001b[1;33m\u001b[0m\u001b[0m\n",
      "\u001b[1;31mAttributeError\u001b[0m: 'Sample' object has no attribute 'generate_line'"
     ]
    }
   ],
   "source": [
    "points = [p1.position, p2.position]\n",
    "sample.generate_line('feedline', deepcopy(points), tl_core, tl_gap, tl_ground, None)\n",
    "#('feedline', points, tl_core, tl_gap, tl_ground, sample.layer_configuration, R = 20)\n",
    "sample.add(gdf.CPW('feedline', points, tl_core, tl_gap, tl_ground, None, sample.layer_configuration, R = 100))"
   ]
  },
  {
   "cell_type": "code",
   "execution_count": 32,
   "metadata": {},
   "outputs": [
    {
     "ename": "AttributeError",
     "evalue": "'Sample' object has no attribute 'generate_array_of_bridges'",
     "output_type": "error",
     "traceback": [
      "\u001b[1;31m---------------------------------------------------------------------------\u001b[0m",
      "\u001b[1;31mAttributeError\u001b[0m                            Traceback (most recent call last)",
      "\u001b[1;32m<ipython-input-32-c3b239fbb863>\u001b[0m in \u001b[0;36m<module>\u001b[1;34m()\u001b[0m\n\u001b[0;32m      2\u001b[0m                     width=15, length=42, padsize=30, line_type=None)\n\u001b[0;32m      3\u001b[0m \u001b[1;33m\u001b[0m\u001b[0m\n\u001b[1;32m----> 4\u001b[1;33m \u001b[0msample\u001b[0m\u001b[1;33m.\u001b[0m\u001b[0mgenerate_array_of_bridges\u001b[0m\u001b[1;33m(\u001b[0m\u001b[0mdeepcopy\u001b[0m\u001b[1;33m(\u001b[0m\u001b[0mpoints\u001b[0m\u001b[1;33m)\u001b[0m\u001b[1;33m,\u001b[0m\u001b[0mfeedline_bridge_params\u001b[0m\u001b[1;33m)\u001b[0m\u001b[1;33m\u001b[0m\u001b[0m\n\u001b[0m",
      "\u001b[1;31mAttributeError\u001b[0m: 'Sample' object has no attribute 'generate_array_of_bridges'"
     ]
    }
   ],
   "source": [
    "feedline_bridge_params=creator.Bridges_over_line_param(distance=500, offset=30,\n",
    "                    width=15, length=42, padsize=30, line_type=None)\n",
    "\n",
    "sample.generate_array_of_bridges(deepcopy(points),feedline_bridge_params)"
   ]
  },
  {
   "cell_type": "markdown",
   "metadata": {},
   "source": [
    "# Draw design"
   ]
  },
  {
   "cell_type": "code",
   "execution_count": 14,
   "metadata": {
    "collapsed": true
   },
   "outputs": [],
   "source": [
    "sample.draw_design()"
   ]
  },
  {
   "cell_type": "code",
   "execution_count": 15,
   "metadata": {
    "collapsed": true
   },
   "outputs": [],
   "source": [
    "sample.watch()"
   ]
  },
  {
   "cell_type": "code",
   "execution_count": 11,
   "metadata": {},
   "outputs": [
    {
     "name": "stdout",
     "output_type": "stream",
     "text": [
      "Gds file has been writen here:  C:\\Users\\Elena\\git\\QCreator\\example_notebooks\\1Q_test.gds\n"
     ]
    }
   ],
   "source": [
    "sample.write_to_gds()"
   ]
  },
  {
   "cell_type": "code",
   "execution_count": null,
   "metadata": {
    "collapsed": true
   },
   "outputs": [],
   "source": []
  }
 ],
 "metadata": {
  "kernelspec": {
   "display_name": "Python 3",
   "language": "python",
   "name": "python3"
  },
  "language_info": {
   "codemirror_mode": {
    "name": "ipython",
    "version": 3
   },
   "file_extension": ".py",
   "mimetype": "text/x-python",
   "name": "python",
   "nbconvert_exporter": "python",
   "pygments_lexer": "ipython3",
   "version": "3.6.3"
  }
 },
 "nbformat": 4,
 "nbformat_minor": 2
}
