{
 "cells": [
  {
   "cell_type": "code",
   "execution_count": 4,
   "metadata": {},
   "outputs": [],
   "source": [
    "from transmission_line_simulator import *\n",
    "import scipy.constants"
   ]
  },
  {
   "cell_type": "markdown",
   "metadata": {},
   "source": [
    "#  Create a curcuit\n"
   ]
  },
  {
   "cell_type": "code",
   "execution_count": 5,
   "metadata": {},
   "outputs": [],
   "source": [
    "resonator_claw_ground = capacitor()\n",
    "resonator_claw_qubit = capacitor()\n",
    "GND = short()\n",
    "GND1 = short()\n",
    "GND2 = short()\n",
    "GND3 = short()\n",
    "GND4 = short()\n",
    "GND5 = short()\n",
    "\n",
    "feedline_cap = capacitor()\n",
    "purcell_cap = capacitor()\n",
    "qubit_cap = capacitor()\n",
    "qubit_inductor = inductor()\n",
    "#L = inductor()\n",
    "source = port()\n",
    "#source_feedline = transmission_line()\n",
    "analyzer_feedline = transmission_line_coupler(n=1)\n",
    "# analyzer = port()\n",
    "\n",
    "\n",
    "resonator_short_end = transmission_line_coupler(n=1)\n",
    "resonator_claw_end = transmission_line_coupler(n=1)#\n",
    "feedline_coupler = transmission_line_coupler()\n",
    "purcell_coupler = transmission_line_coupler()\n",
    "purcell_short_end_before_coupler = transmission_line_coupler(n=1)\n",
    "purcell_claw_end = transmission_line_coupler(n=1)#\n",
    "\n",
    "circuit = transmission_line_system()\n",
    "circuit.add_element(source, [1])\n",
    "circuit.add_element(feedline_coupler, [1, 2, 3, 4])\n",
    "circuit.add_element(analyzer_feedline, [3, 5])\n",
    "circuit.add_element(feedline_cap, [5, 12])\n",
    "\n",
    "circuit.add_element(purcell_claw_end, [2, 6])\n",
    "circuit.add_element(purcell_cap, [6, 13])\n",
    "circuit.add_element(purcell_short_end_before_coupler, [4, 7])\n",
    "circuit.add_element(purcell_coupler, [7, 8,14,15])\n",
    "# circuit.add_element(GND, [9])\n",
    "# circuit.add_element(GND, [10])\n",
    "circuit.add_element(resonator_short_end, [8,9])\n",
    "\n",
    "circuit.add_element(resonator_claw_end, [9,10])\n",
    "circuit.add_element(resonator_claw_ground, [10,16])\n",
    "circuit.add_element(resonator_claw_qubit, [10,11])\n",
    "circuit.add_element(qubit_cap, [11, 0])\n",
    "circuit.add_element(qubit_inductor, [11, 0])\n",
    "circuit.add_element(GND, [0])\n",
    "circuit.add_element(GND1, [12])\n",
    "circuit.add_element(GND2, [13])\n",
    "circuit.add_element(GND3, [14])\n",
    "circuit.add_element(GND4, [15])\n",
    "circuit.add_element(GND5, [16])"
   ]
  },
  {
   "cell_type": "code",
   "execution_count": 6,
   "metadata": {},
   "outputs": [],
   "source": [
    "source.Z0=50\n",
    "\n",
    "feedline_coupler.l=0.4e-3\n",
    "feedline_coupler.Ll=np.asarray([[473.815e-9,175.09e-9],[175e-9,556.2e-9]])\n",
    "feedline_coupler.Cl=np.asarray([[164.76e-12,-51.866e-12],[-51.866e-12,140.355e-12]])\n",
    "feedline_coupler.Rl=np.zeros(feedline_coupler.Ll.shape, dtype=np.int)\n",
    "feedline_coupler.Gl=np.zeros(feedline_coupler.Ll.shape, dtype=np.int)\n",
    "\n",
    "analyzer_feedline.l = 1e-3\n",
    "analyzer_feedline.Cl = 176.494e-12\n",
    "analyzer_feedline.Ll = 401.892e-9\n",
    "analyzer_feedline.Rl = 0\n",
    "analyzer_feedline.Gl = 0\n",
    "\n",
    "feedline_cap.C=10e-15\n",
    "\n",
    "purcell_claw_end.l = 1e-3\n",
    "purcell_claw_end.Cl = 176.494e-12\n",
    "purcell_claw_end.Ll = 401.892e-9\n",
    "purcell_claw_end.Rl = 0\n",
    "purcell_claw_end.Gl = 0\n",
    "\n",
    "purcell_cap.C=10e-15\n",
    "\n",
    "purcell_short_end_before_coupler.l = 3.6e-3\n",
    "purcell_short_end_before_coupler.Cl = 176.494e-12\n",
    "purcell_short_end_before_coupler.Ll = 401.892e-9\n",
    "purcell_short_end_before_coupler.Rl = 0\n",
    "purcell_short_end_before_coupler.Gl = 0\n",
    "\n",
    "purcell_coupler.l=20e-6\n",
    "purcell_coupler.Ll=np.asarray([[473.815e-9,175.09e-9],[175e-9,556.2e-9]])\n",
    "purcell_coupler.Cl=np.asarray([[164.76e-12,-51.866e-12],[-51.866e-12,140.355e-12]])\n",
    "purcell_coupler.Rl=np.zeros(purcell_coupler.Ll.shape, dtype=np.int)\n",
    "purcell_coupler.Gl=np.zeros(purcell_coupler.Ll.shape, dtype=np.int)\n",
    "\n",
    "\n",
    "resonator_short_end.l = 4e-3\n",
    "resonator_short_end.Cl = 176.494e-12\n",
    "resonator_short_end.Ll = 401.892e-9\n",
    "resonator_short_end.Rl = 0\n",
    "resonator_short_end.Gl = 0\n",
    "\n",
    "resonator_claw_end.l = 1e-3\n",
    "resonator_claw_end.Cl = 176.494e-12\n",
    "resonator_claw_end.Ll = 401.892e-9\n",
    "resonator_claw_end.Rl = 0\n",
    "resonator_claw_end.Gl = 0\n",
    "\n",
    "resonator_claw_ground.C=10e-15\n",
    "resonator_claw_qubit.C=10e-15\n",
    "qubit_cap.C=70e-15\n",
    "qubit_inductor.L=19e-9"
   ]
  },
  {
   "cell_type": "markdown",
   "metadata": {},
   "source": [
    "# Simulate scattering parameter S21\n"
   ]
  },
  {
   "cell_type": "code",
   "execution_count": 7,
   "metadata": {},
   "outputs": [],
   "source": [
    "nop = 5000\n",
    "frequency = np.linspace(5.8e9+0j, 6.25e9+0j, nop)\n",
    "y = np.zeros(nop, dtype=complex)"
   ]
  },
  {
   "cell_type": "code",
   "execution_count": 8,
   "metadata": {},
   "outputs": [
    {
     "data": {
      "text/plain": [
       "(73, 73)"
      ]
     },
     "execution_count": 8,
     "metadata": {},
     "output_type": "execute_result"
    }
   ],
   "source": [
    "matrix_of_curcuit=circuit.create_boundary_problem_matrix(frequency[0]*2*np.pi)\n",
    "matrix_of_curcuit.shape"
   ]
  },
  {
   "cell_type": "code",
   "execution_count": 9,
   "metadata": {},
   "outputs": [],
   "source": [
    "perturbation = np.zeros((matrix_of_curcuit.shape[0],1))\n",
    "perturbation[0]=-1\n",
    "for i in range(nop):\n",
    "    matrix_of_curcuit=circuit.create_boundary_problem_matrix(frequency[i]*2*np.pi)\n",
    "    s21= np.linalg.solve(matrix_of_curcuit, perturbation)\n",
    "    y[i]=s21[2]\n",
    "abs_S21 = np.abs(y)"
   ]
  },
  {
   "cell_type": "code",
   "execution_count": 10,
   "metadata": {},
   "outputs": [],
   "source": [
    "#np.argmax(abs_S21)\n",
    "#norm_abs_S21 = abs_S21[np.argmax(abs_S21)]\n",
    "s21_new =  abs_S21#/(np.max( abs_S21))"
   ]
  },
  {
   "cell_type": "code",
   "execution_count": 11,
   "metadata": {},
   "outputs": [
    {
     "data": {
      "text/plain": [
       "<Figure size 640x480 with 1 Axes>"
      ]
     },
     "metadata": {},
     "output_type": "display_data"
    }
   ],
   "source": [
    "import matplotlib.pyplot as plt\n",
    "#fig, ax = plt.subplots(figsize=(20, 10))\n",
    "plt.plot(frequency.real, s21_new, label = '$S_{21}$')\n",
    "plt.xlabel('Frequency, $f$ (GHz)')\n",
    "plt.ylabel('Power transmission, $S_{21}$ (dB)')\n",
    "plt.show()\n"
   ]
  },
  {
   "cell_type": "code",
   "execution_count": 78,
   "metadata": {},
   "outputs": [
    {
     "data": {
      "image/png": "[encoded data removed]",
      "text/plain": [
       "<Figure size 1080x360 with 3 Axes>"
      ]
     },
     "metadata": {
      "needs_background": "light"
     },
     "output_type": "display_data"
    }
   ],
   "source": [
    "import matplotlib.pyplot as plt\n",
    "plt.figure(figsize=(15,5))\n",
    "plt.subplot(131)\n",
    "plt.plot(frequency.real, s21_new, label = '$S_{21}$')\n",
    "plt.xlabel('Frequency, $f$ (GHz)')\n",
    "plt.ylabel('Power transmission, $S_{21}$ (dB)')\n",
    "plt.legend()\n",
    "plt.subplot(132)\n",
    "plt.plot(frequency.real, np.angle(y), label = '$\\\\angle S_{21}$')\n",
    "plt.xlabel('Frequency, $f$ (GHz)')\n",
    "plt.legend()\n",
    "plt.subplot(133)\n",
    "plt.plot(y.real, y.imag, label = '$S_{21}$')\n",
    "plt.legend()\n",
    "plt.show()"
   ]
  },
  {
   "cell_type": "code",
   "execution_count": 51,
   "metadata": {},
   "outputs": [],
   "source": [
    "# import resonator_tools\n",
    "# from resonator_tools.circuit import notch_port, reflection_port"
   ]
  },
  {
   "cell_type": "code",
   "execution_count": 52,
   "metadata": {},
   "outputs": [],
   "source": [
    "# fitter = notch_port(f_data=frequency.real, z_data_raw=y)"
   ]
  },
  {
   "cell_type": "code",
   "execution_count": 53,
   "metadata": {},
   "outputs": [],
   "source": [
    "# fitter.autofit()"
   ]
  },
  {
   "cell_type": "code",
   "execution_count": 54,
   "metadata": {},
   "outputs": [],
   "source": [
    "# fitter.plotall()"
   ]
  },
  {
   "cell_type": "markdown",
   "metadata": {},
   "source": [
    "# Fitting S21"
   ]
  },
  {
   "cell_type": "code",
   "execution_count": 55,
   "metadata": {},
   "outputs": [],
   "source": [
    "import numpy as np\n",
    "import matplotlib as mpl\n",
    "import matplotlib.pyplot as plt\n",
    "# import scipy.io\n",
    "import lmfit\n",
    "# import pprint\n",
    "# import os"
   ]
  },
  {
   "cell_type": "code",
   "execution_count": 56,
   "metadata": {},
   "outputs": [],
   "source": [
    "f = frequency.real\n",
    "s = y"
   ]
  },
  {
   "cell_type": "code",
   "execution_count": 63,
   "metadata": {},
   "outputs": [],
   "source": [
    "def fit_and_plot_abs(freq, s21, plotfit=True, plotguess=True, label=None, plot_filename=True, **guessvals):\n",
    "    def s21func(x, A, phi, kP, gR, wR, wP, J, k): \n",
    "        y = (A + k*(x-np.mean(x)))*np.abs(np.cos(phi) - np.exp(1j*phi)*kP*(gR-2j*(x-wR))/(4*J*J+(kP-2j*(x-wP))*(gR-2j*(x-wR))))\n",
    "        return y\n",
    "    model = lmfit.Model(s21func)\n",
    "    def_guessvals = dict(\n",
    "        A=0.5,\n",
    "        phi=-0.6,\n",
    "        kP=50.8,\n",
    "        gR=0.5,\n",
    "        wR=np.mean(freq),\n",
    "        wP=np.mean(freq),\n",
    "        J=12,\n",
    "        k=0,\n",
    "    )\n",
    "    def_guessvals.update(guessvals)\n",
    "    pars = model.make_params(**def_guessvals)\n",
    "    pars['kP'].min = 0\n",
    "    pars['gR'].min = 0\n",
    "    pars['J'].min = 0\n",
    "    pars['wP'].min = freq.min()\n",
    "    pars['wR'].min = freq.min()\n",
    "    pars['wP'].max = freq.max()\n",
    "    pars['wR'].max = freq.max()\n",
    "    fit = model.fit(np.abs(s21), x=freq, params=pars)\n",
    "    s21fit = fit.best_fit\n",
    "    s21guess = s21func(freq, **def_guessvals)\n",
    "    \n",
    "    plt.plot(freq, np.abs(s21),'blue',  linewidth=1.2, label=label)\n",
    "    if plotfit: plt.plot(freq,s21fit, 'r--',linewidth=0.8, label='Fit')\n",
    "    if plotguess: plt.plot(freq, s21guess,'k--',  linewidth=2, label='Simulation')\n",
    "    plt.xlabel('Frequency, $f$ [MHz]')\n",
    "    plt.ylabel('Normalized transmission\\n amplitude, $|S_{21}|/ \\\\mathrm{max}(|S_{21}|)$')\n",
    "    if label is not None: plt.legend()\n",
    "    plt.gcf().set_size_inches(4.5*2,3*2)\n",
    "    if plot_filename is not None: plt.savefig(plot_filename+'.png', bbox_inches='tight')\n",
    "    plt.show()\n",
    "\n",
    "    \n",
    "    return fit, s21fit"
   ]
  },
  {
   "cell_type": "code",
   "execution_count": 64,
   "metadata": {},
   "outputs": [],
   "source": [
    "datatransform = lambda f, s: (f/1e6, s/np.abs(s).max())"
   ]
  },
  {
   "cell_type": "code",
   "execution_count": 75,
   "metadata": {},
   "outputs": [],
   "source": [
    "my_params = {\n",
    "'figure.dpi':  120,\n",
    "'figure.figsize': [32,16],\n",
    "'figure.subplot.left' : 0.15,\n",
    "'figure.subplot.right'      : 0.9,\n",
    "'figure.subplot.bottom'     : 0.12,\n",
    "'axes.titlesize'    : 'medium',\n",
    "'axes.labelsize'    : 10.0 ,\n",
    "'xtick.direction' : 'in',\n",
    "'ytick.direction' : 'in',\n",
    "'ytick.labelsize'   :'small',\n",
    "'xtick.labelsize'   :'small',\n",
    "'legend.fontsize'   : 8,  #small,\n",
    "'legend.loc'        : 'best',\n",
    "'font.size'         : 10.0,\n",
    "'font.family'       : 'serif',\n",
    "'text.usetex' : False,    # if you have latex\n",
    "}\n",
    "\n",
    "guessvals = {'A': 1,\n",
    "            'J': 25,\n",
    "            'gR': 1,\n",
    "            'k': 0.1,\n",
    "            'kP': 50,\n",
    "            'phi': 25,\n",
    "            'wP': 6000,\n",
    "            'wR': 6050}"
   ]
  },
  {
   "cell_type": "code",
   "execution_count": 85,
   "metadata": {},
   "outputs": [
    {
     "data": {
      "image/png": "[encoded data removed]",
      "text/plain": [
       "<Figure size 648x432 with 1 Axes>"
      ]
     },
     "metadata": {
      "needs_background": "light"
     },
     "output_type": "display_data"
    },
    {
     "name": "stdout",
     "output_type": "stream",
     "text": [
      "{'A': 1.0002971286237685,\n",
      " 'J': 10.247890710079712,\n",
      " 'gR': 0.5838217334521596,\n",
      " 'k': -1.32098296009024e-05,\n",
      " 'kP': 12.422168105191679,\n",
      " 'phi': 25.011193129674957,\n",
      " 'wP': 6040.910780697981,\n",
      " 'wR': 6023.4881397729505}\n"
     ]
    }
   ],
   "source": [
    "fit, s21fit = fit_and_plot_abs(*datatransform(f,s), **guessvals, plotguess=False,label='qubit simulation', plot_filename='purcell and resonator')\n",
    "pprint.pprint(fit.best_values)"
   ]
  },
  {
   "cell_type": "code",
   "execution_count": 83,
   "metadata": {},
   "outputs": [
    {
     "data": {
      "text/html": [
       "<h2> Model</h2> Model(s21func) <h2>Fit Statistics</h2><table><tr><td>fitting method</td><td>leastsq</td><td></td></tr><tr><td># function evals</td><td>350</td><td></td></tr><tr><td># data points</td><td>5000</td><td></td></tr><tr><td># variables</td><td>8</td><td></td></tr><tr><td>chi-square</td><td> 0.19593840</td><td></td></tr><tr><td>reduced chi-square</td><td> 3.9250e-05</td><td></td></tr><tr><td>Akaike info crit.</td><td>-50719.7408</td><td></td></tr><tr><td>Bayesian info crit.</td><td>-50667.6032</td><td></td></tr></table><h2>Variables</h2><table><tr><th> name </th><th> value </th><th> standard error </th><th> relative error </th><th> initial value </th><th> min </th><th> max </th><th> vary </th></tr><tr><td> A </td><td>  1.00029713 </td><td>  1.3534e-04 </td><td> (0.01%) </td><td> 1 </td><td>        -inf </td><td>         inf </td><td> True </td></tr><tr><td> phi </td><td>  25.0111931 </td><td>  8.4358e-04 </td><td> (0.00%) </td><td> 25 </td><td>        -inf </td><td>         inf </td><td> True </td></tr><tr><td> kP </td><td>  12.4221681 </td><td>  0.01639311 </td><td> (0.13%) </td><td> 50 </td><td>  0.00000000 </td><td>         inf </td><td> True </td></tr><tr><td> gR </td><td>  0.58382173 </td><td>  0.00904321 </td><td> (1.55%) </td><td> 1 </td><td>  0.00000000 </td><td>         inf </td><td> True </td></tr><tr><td> wR </td><td>  6023.48814 </td><td>  0.01375981 </td><td> (0.00%) </td><td> 6050 </td><td>  5800.00000 </td><td>  6250.00000 </td><td> True </td></tr><tr><td> wP </td><td>  6040.91078 </td><td>  0.01604214 </td><td> (0.00%) </td><td> 6000 </td><td>  5800.00000 </td><td>  6250.00000 </td><td> True </td></tr><tr><td> J </td><td>  10.2478907 </td><td>  0.01214111 </td><td> (0.12%) </td><td> 25 </td><td>  0.00000000 </td><td>         inf </td><td> True </td></tr><tr><td> k </td><td> -1.3210e-05 </td><td>  7.4661e-07 </td><td> (5.65%) </td><td> 0.1 </td><td>        -inf </td><td>         inf </td><td> True </td></tr></table><h2>Correlations (unreported correlations are < 0.100)</h2><table><tr><td>wR</td><td>J</td><td>0.9691</td></tr><tr><td>wP</td><td>J</td><td>-0.8430</td></tr><tr><td>wR</td><td>wP</td><td>-0.8426</td></tr><tr><td>A</td><td>phi</td><td>-0.7089</td></tr><tr><td>phi</td><td>wP</td><td>0.4333</td></tr><tr><td>phi</td><td>k</td><td>-0.3709</td></tr><tr><td>A</td><td>wP</td><td>-0.3145</td></tr><tr><td>A</td><td>k</td><td>0.2939</td></tr><tr><td>gR</td><td>wR</td><td>-0.2579</td></tr><tr><td>kP</td><td>gR</td><td>-0.2411</td></tr><tr><td>gR</td><td>J</td><td>-0.2298</td></tr><tr><td>gR</td><td>wP</td><td>0.1733</td></tr><tr><td>wP</td><td>k</td><td>-0.1517</td></tr><tr><td>phi</td><td>gR</td><td>-0.1345</td></tr><tr><td>A</td><td>gR</td><td>0.1321</td></tr><tr><td>phi</td><td>kP</td><td>0.1142</td></tr><tr><td>A</td><td>kP</td><td>0.1071</td></tr></table>"
      ],
      "text/plain": [
       "<lmfit.model.ModelResult at 0x7f491f49dba8>"
      ]
     },
     "execution_count": 83,
     "metadata": {},
     "output_type": "execute_result"
    }
   ],
   "source": [
    "fit"
   ]
  },
  {
   "cell_type": "code",
   "execution_count": null,
   "metadata": {},
   "outputs": [],
   "source": []
  },
  {
   "cell_type": "code",
   "execution_count": null,
   "metadata": {},
   "outputs": [],
   "source": []
  }
 ],
 "metadata": {
  "kernelspec": {
   "display_name": "Python 3",
   "language": "python",
   "name": "python3"
  },
  "language_info": {
   "codemirror_mode": {
    "name": "ipython",
    "version": 3
   },
   "file_extension": ".py",
   "mimetype": "text/x-python",
   "name": "python",
   "nbconvert_exporter": "python",
   "pygments_lexer": "ipython3",
   "version": "3.7.3"
  },
  "toc": {
   "base_numbering": 1,
   "nav_menu": {},
   "number_sections": true,
   "sideBar": true,
   "skip_h1_title": false,
   "title_cell": "Table of Contents",
   "title_sidebar": "Contents",
   "toc_cell": false,
   "toc_position": {},
   "toc_section_display": true,
   "toc_window_display": false
  }
 },
 "nbformat": 4,
 "nbformat_minor": 2
}
