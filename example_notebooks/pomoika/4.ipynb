{
 "cells": [
  {
   "cell_type": "markdown",
   "metadata": {},
   "source": [
    "# Import design libraries"
   ]
  },
  {
   "cell_type": "code",
   "execution_count": 89,
   "metadata": {
    "ExecuteTime": {
     "end_time": "2020-08-22T19:10:22.231327Z",
     "start_time": "2020-08-22T19:10:22.227339Z"
    }
   },
   "outputs": [],
   "source": [
    "import gdspy\n",
    "import numpy as np\n",
    "from importlib import reload\n",
    "import libraries.general_design_functions as gdf\n",
    "import libraries.general_sample_creator as creator\n",
    "import libraries.squid3JJ\n",
    "import libraries.JJ4q\n",
    "from copy import deepcopy\n",
    "# reload(gdspy)\n",
    "# from design_coaxmons import *\n",
    "\n",
    "# from loops_and_JJs_coaxmons import*\n",
    "# from coaxmons import *\n",
    "# from airbridges import *"
   ]
  },
  {
   "cell_type": "code",
   "execution_count": 49,
   "metadata": {
    "ExecuteTime": {
     "end_time": "2020-08-22T18:51:28.374888Z",
     "start_time": "2020-08-22T18:51:27.997425Z"
    }
   },
   "outputs": [
    {
     "data": {
      "text/plain": [
       "<module 'libraries.general_design_functions' from 'E:\\\\Github\\\\QCreator\\\\libraries\\\\general_design_functions.py'>"
      ]
     },
     "execution_count": 49,
     "metadata": {},
     "output_type": "execute_result"
    }
   ],
   "source": [
    "reload(gdspy)\n",
    "reload(creator)\n",
    "reload(gdf)"
   ]
  },
  {
   "cell_type": "markdown",
   "metadata": {},
   "source": [
    "# Specify constants, everything in microns"
   ]
  },
  {
   "cell_type": "markdown",
   "metadata": {},
   "source": [
    "Parameters for the transmission lines"
   ]
  },
  {
   "cell_type": "code",
   "execution_count": 50,
   "metadata": {
    "ExecuteTime": {
     "end_time": "2020-08-22T18:51:29.471847Z",
     "start_time": "2020-08-22T18:51:29.467859Z"
    }
   },
   "outputs": [],
   "source": [
    "tl_core = 10\n",
    "tl_gap = 10\n",
    "tl_ground = 20"
   ]
  },
  {
   "cell_type": "code",
   "execution_count": 51,
   "metadata": {
    "ExecuteTime": {
     "end_time": "2020-08-22T18:51:29.897120Z",
     "start_time": "2020-08-22T18:51:29.865172Z"
    }
   },
   "outputs": [],
   "source": [
    "watch=lambda: gdspy.LayoutViewer(depth=0,pattern={'default': 8},background='#FFFFFF') #this opens a viewer"
   ]
  },
  {
   "cell_type": "code",
   "execution_count": 52,
   "metadata": {
    "ExecuteTime": {
     "end_time": "2020-08-22T18:51:30.977151Z",
     "start_time": "2020-08-22T18:51:30.968663Z"
    }
   },
   "outputs": [
    {
     "data": {
      "text/plain": [
       "<module 'libraries.general_design_functions' from 'E:\\\\Github\\\\QCreator\\\\libraries\\\\general_design_functions.py'>"
      ]
     },
     "execution_count": 52,
     "metadata": {},
     "output_type": "execute_result"
    }
   ],
   "source": [
    "reload(gdspy)\n",
    "reload(creator)\n",
    "reload(gdf)"
   ]
  },
  {
   "cell_type": "markdown",
   "metadata": {},
   "source": [
    "# Sample generation"
   ]
  },
  {
   "cell_type": "markdown",
   "metadata": {},
   "source": [
    "## borders with pads"
   ]
  },
  {
   "cell_type": "markdown",
   "metadata": {},
   "source": [
    "Function names should be lowercase, with words separated by underscores as necessary to improve readability.\n",
    "\n",
    "Variable names follow the same convention as function name"
   ]
  },
  {
   "cell_type": "code",
   "execution_count": 170,
   "metadata": {
    "ExecuteTime": {
     "end_time": "2020-08-22T19:26:54.489202Z",
     "start_time": "2020-08-22T19:26:54.470231Z"
    }
   },
   "outputs": [],
   "source": [
    "reload(gdspy)\n",
    "reload(creator)\n",
    "reload(gdf)\n",
    "layers_configuration={\n",
    "    'total':0,\n",
    "    'restricted area':10,\n",
    "    'for removing':100,\n",
    "    'JJs':1,\n",
    "    'air bridges':2,\n",
    "    'air bridge pads':3,\n",
    "    'vertical gridlines':4,\n",
    "    'horizontal gridlines':5\n",
    "}\n",
    "sample = creator.Sample('4_qubits',layers_configuration)\n",
    "\n",
    "#specify sample vertical and horizontal lengths\n",
    "sample.sample_vertical_size=4.7e3\n",
    "sample.sample_horizontal_size=4.7e3\n",
    "# be aware of the fact that the minimum distance beetween structures must be bigger than 4um\n",
    "# min_distance = 4\n",
    "\n",
    "#specify pads for the sample\n",
    "sample.add_pad(tl_core,tl_gap,tl_ground,(760,2360))\n",
    "sample.add_pad(tl_core,tl_gap,tl_ground,(3930, 2360))\n",
    "sample.add_pad(tl_core,tl_gap,tl_ground,(1111,3905-10))\n",
    "sample.add_pad(tl_core,tl_gap,tl_ground,(1111+1250,3905-10))\n",
    "sample.add_pad(tl_core,tl_gap,tl_ground,(1111+1250*2,3905-10))\n",
    "sample.add_pad(tl_core,tl_gap,tl_ground,(1111,770))\n",
    "sample.add_pad(tl_core,tl_gap,tl_ground,(1111+1250,770))\n",
    "sample.add_pad(tl_core,tl_gap,tl_ground,(1111+1250*2,770))\n",
    "\n",
    "#generate borders with pads\n",
    "sample.generate_sample_edges_and_pads()"
   ]
  },
  {
   "cell_type": "markdown",
   "metadata": {},
   "source": [
    "## first coaxmon qubit"
   ]
  },
  {
   "cell_type": "markdown",
   "metadata": {},
   "source": [
    "### coaxmon qubit"
   ]
  },
  {
   "cell_type": "code",
   "execution_count": 171,
   "metadata": {
    "ExecuteTime": {
     "end_time": "2020-08-22T19:26:55.021202Z",
     "start_time": "2020-08-22T19:26:54.973815Z"
    }
   },
   "outputs": [],
   "source": [
    "shift=-1/10\n",
    "phi1=1/5\n",
    "couplers=[gdf.QubitCoupler(arc_start=-1/6-1/100+shift,arc_finish=-3/6+1/100+shift,phi=-1/2, w =4),\n",
    "          gdf.QubitCoupler(arc_start=3/6+1/100+shift,arc_finish=5/6-1/100+shift,phi=phi1, w =4),\n",
    "          gdf.QubitCoupler(arc_start=1/6+1/100+shift,arc_finish=3/6-1/100+shift,phi=1/2, w =4),\n",
    "          gdf.QubitCoupler(arc_start=-1/6+1/100+1+shift,arc_finish=1/6-1/100+1+shift,phi=1, w =10),\n",
    "          gdf.QubitCoupler(arc_start=-1/6+1/100+shift,arc_finish=1/6-1/100+shift,phi=0, w =10),\n",
    "          gdf.QubitCoupler(arc_start=-5/6+1/100+shift,arc_finish=-3/6-1/100+shift,phi=1, w =10, grounded=True)]\n",
    "JJ_coaxmon1 = {'a1':15,\n",
    "               'b1':0.8,\n",
    "               'a2':0.45,\n",
    "               'b2':0.243,\n",
    "               'c1':0.243,\n",
    "               'c2':10,\n",
    "               'angle_qubit':3*np.pi/2-1*np.pi/3,\n",
    "               'angle_JJ':0}\n",
    "\n",
    "sample.add_qubit(gdf.Coaxmon,*[100,140,200,230,250,couplers,JJ_coaxmon1],**{'angle':0,'coordinate':(1750,1750)})"
   ]
  },
  {
   "cell_type": "markdown",
   "metadata": {},
   "source": [
    "### fluxline"
   ]
  },
  {
   "cell_type": "code",
   "execution_count": 172,
   "metadata": {
    "ExecuteTime": {
     "end_time": "2020-08-22T19:26:55.461441Z",
     "start_time": "2020-08-22T19:26:55.448348Z"
    }
   },
   "outputs": [],
   "source": [
    "points = [sample.pads[5].coordinate,(1111,1230),(1500,1350)]\n",
    "bridge_params=creator.Bridges_over_line_param(distance=90, offset=40,\n",
    "                    width=15, length=90, padsize=(30,30), line_type=None)\n",
    "sample.generate_line(points, tl_core, tl_gap, tl_ground, None,bridge_params=bridge_params)\n",
    "                     \n",
    "fluxline=[4,4,4]\n",
    "point = sample.generate_narrowing_part(sample.lines[-1],fluxline)\n",
    "\n",
    "end = {'type':'fluxline',\n",
    "       'JJ': sample.qubits[0].JJ,\n",
    "        'length':50,\n",
    "        \"width\":4}\n",
    "points = [point,\n",
    "         (point[0]+10*np.cos(sample.lines[-1].angle),point[1]+10*np.sin(sample.lines[-1].angle)),\n",
    "         (1663,1450),\n",
    "          (sample.qubits[0].JJ._x0,sample.qubits[0].JJ._y0-45-50)]\n",
    "sample.generate_line(points,4,3,4,None,end)\n",
    "# sample.generate_bridge((sample.lines[-1].end[0],sample.lines[-1].end[1]),15, 90, 30,sample.lines[-1].angle+np.pi/2)\n"
   ]
  },
  {
   "cell_type": "markdown",
   "metadata": {},
   "source": [
    "## second coaxmon qubit"
   ]
  },
  {
   "cell_type": "code",
   "execution_count": 173,
   "metadata": {
    "ExecuteTime": {
     "end_time": "2020-08-22T19:26:56.080876Z",
     "start_time": "2020-08-22T19:26:56.047384Z"
    }
   },
   "outputs": [],
   "source": [
    "JJ_coaxmon1 = {'a1':10,\n",
    "               'b1':0.8,\n",
    "               'a2':0.45,\n",
    "               'b2':0.243,\n",
    "               'c1':0.243,\n",
    "               'c2':10,\n",
    "               'angle_qubit':-np.pi/4,\n",
    "               'angle_JJ':0}\n",
    "sample.add_qubit(gdf.Coaxmon,*[100,140,200,230,250,couplers,JJ_coaxmon1],**{'angle':1*np.pi/2,'coordinate':(1750+1250,1750)})\n"
   ]
  },
  {
   "cell_type": "code",
   "execution_count": 174,
   "metadata": {
    "ExecuteTime": {
     "end_time": "2020-08-22T19:26:59.039884Z",
     "start_time": "2020-08-22T19:26:56.384478Z"
    }
   },
   "outputs": [
    {
     "data": {
      "text/plain": [
       "<gdspy.viewer.LayoutViewer object .!layoutviewer>"
      ]
     },
     "execution_count": 174,
     "metadata": {},
     "output_type": "execute_result"
    }
   ],
   "source": [
    "sample.finish_him()\n",
    "watch()"
   ]
  },
  {
   "cell_type": "markdown",
   "metadata": {},
   "source": [
    "### fluxline"
   ]
  },
  {
   "cell_type": "code",
   "execution_count": 175,
   "metadata": {
    "ExecuteTime": {
     "end_time": "2020-08-22T19:27:01.379833Z",
     "start_time": "2020-08-22T19:27:01.365871Z"
    }
   },
   "outputs": [],
   "source": [
    "points = [(1111+1250*2,770),(1111+1250*2,1230),(3206,1311)]\n",
    "bridge_params=creator.Bridges_over_line_param(distance=90, offset=40,\n",
    "                    width=15, length=90, padsize=(30,30), line_type=None)\n",
    "sample.generate_line(deepcopy(points), tl_core, tl_gap, tl_ground, None,bridge_params=bridge_params)\n",
    "fluxline=[4,3,4]\n",
    "# point = sample.lines[-1].end\n",
    "point = sample.generate_narrowing_part(sample.lines[-1],fluxline)\n",
    "\n",
    "end = {'type':'fluxline',\n",
    "       'JJ': sample.qubits[-1].JJ,\n",
    "        'length':20,\n",
    "        \"width\":4}\n",
    "points = [point,(point[0]+50*np.cos(sample.lines[-1].angle),point[1]+50*np.sin(sample.lines[-1].angle)),\n",
    "         (3073,1610)]\n",
    "\n",
    "sample.generate_line(points,4,3,4,None,end)"
   ]
  },
  {
   "cell_type": "markdown",
   "metadata": {},
   "source": [
    "## third coaxmon qubit"
   ]
  },
  {
   "cell_type": "code",
   "execution_count": 176,
   "metadata": {
    "ExecuteTime": {
     "end_time": "2020-08-22T19:27:02.145401Z",
     "start_time": "2020-08-22T19:27:02.113205Z"
    }
   },
   "outputs": [],
   "source": [
    "#3 coaxmon\n",
    "JJ_coaxmon1 = {'a1':10,\n",
    "               'b1':0.8,\n",
    "               'a2':0.45,\n",
    "               'b2':0.243,\n",
    "               'c1':0.243,\n",
    "               'c2':10,\n",
    "               'angle_qubit':+np.pi/4,\n",
    "               'angle_JJ':np.pi}\n",
    "\n",
    "sample.add_qubit(gdf.Coaxmon,*[100,140,200,230,250,couplers,JJ_coaxmon1],**{'angle':np.pi,'coordinate':(1750+1250,1750+1250)})"
   ]
  },
  {
   "cell_type": "markdown",
   "metadata": {},
   "source": [
    "## fourth coaxmon qubit"
   ]
  },
  {
   "cell_type": "code",
   "execution_count": 177,
   "metadata": {
    "ExecuteTime": {
     "end_time": "2020-08-22T19:27:03.004910Z",
     "start_time": "2020-08-22T19:27:02.968933Z"
    }
   },
   "outputs": [],
   "source": [
    "#4 coaxmon\n",
    "JJ_coaxmon1 = {'a1':10,\n",
    "               'b1':0.8,\n",
    "               'a2':0.45,\n",
    "               'b2':0.243,\n",
    "               'c1':0.243,\n",
    "               'c2':10,\n",
    "               'angle_qubit':-np.pi/4+np.pi,\n",
    "               'angle_JJ':np.pi}\n",
    "sample.add_qubit(gdf.Coaxmon,*[100,140,200,230,250,couplers,JJ_coaxmon1],**{'angle':-np.pi/2,'coordinate':(1750,1750+1250)})"
   ]
  },
  {
   "cell_type": "markdown",
   "metadata": {},
   "source": [
    "## Qubit couplers"
   ]
  },
  {
   "cell_type": "markdown",
   "metadata": {},
   "source": [
    "### Qubit 1-2 coupler"
   ]
  },
  {
   "cell_type": "code",
   "execution_count": 179,
   "metadata": {
    "ExecuteTime": {
     "end_time": "2020-08-22T19:27:34.251200Z",
     "start_time": "2020-08-22T19:27:34.130147Z"
    }
   },
   "outputs": [
    {
     "name": "stdout",
     "output_type": "stream",
     "text": [
      "2040.0 1738.5\n",
      "2710.0 1738.5\n"
     ]
    }
   ],
   "source": [
    "coupler_core=10\n",
    "coupler_gap=25\n",
    "coupler_ground=20\n",
    "JJ={'indent':60,\n",
    "   'angle_JJ':0,\n",
    "   'a1':0.5,\n",
    "   'a2':0.5}\n",
    "squid={'x':2360,\n",
    "       'y':1750+1,\n",
    "       'a1':0.5,\n",
    "       'b1':0.5,\n",
    "       'a2':0.5,\n",
    "       'b2':0.5,\n",
    "       'c1':10,\n",
    "       'c2':10,\n",
    "      \"angle\":0}\n",
    "sample.add_qubit_coupler(coupler_core,coupler_gap,coupler_ground,sample.qubits[0],sample.qubits[1],JJ,squid)"
   ]
  },
  {
   "cell_type": "code",
   "execution_count": 182,
   "metadata": {
    "ExecuteTime": {
     "end_time": "2020-08-22T19:29:30.254780Z",
     "start_time": "2020-08-22T19:29:30.242349Z"
    }
   },
   "outputs": [
    {
     "data": {
      "text/plain": [
       "[<gdspy.PolygonSet at 0x2b0e620b3c8>,\n",
       " Rectangle((2315.0, 1617.5), (2405.0, 1632.5), 2, 0)]"
      ]
     },
     "execution_count": 182,
     "metadata": {},
     "output_type": "execute_result"
    }
   ],
   "source": [
    "points = [(2360,770),(2360,1500)]\n",
    "sample.generate_line(points,tl_core,tl_gap,tl_ground,None)\n",
    "fluxline=[4,3,4]\n",
    "point = sample.generate_narrowing_part(sample.lines[-1],fluxline)\n",
    "end = {'type':'fluxline',\n",
    "       'JJ': sample.couplers[0].squid,\n",
    "        'length':20,\n",
    "        \"width\":4}\n",
    "points = [point,(point[0]+10*np.cos(sample.lines[-1].angle),point[1]+10*np.sin(sample.lines[-1].angle)),\n",
    "         (2360,1650)]\n",
    "sample.generate_line(points,4,3,4,None,end)\n",
    "sample.generate_bridge((sample.lines[-1].end[0],sample.lines[-1].end[1]-25),15, 90, (30,30),0)\n",
    "# print(sample.lines[-1].angle)"
   ]
  },
  {
   "cell_type": "markdown",
   "metadata": {},
   "source": [
    "### Qubit 2-3 coupler"
   ]
  },
  {
   "cell_type": "code",
   "execution_count": 185,
   "metadata": {
    "ExecuteTime": {
     "end_time": "2020-08-22T19:30:41.404283Z",
     "start_time": "2020-08-22T19:30:41.397180Z"
    }
   },
   "outputs": [
    {
     "name": "stdout",
     "output_type": "stream",
     "text": [
      "3000.0 2011.0\n",
      "3000.0 2681.0\n"
     ]
    }
   ],
   "source": [
    "JJ={'indent':60,\n",
    "   'angle_JJ':0,\n",
    "   'a1':0.5,\n",
    "   'a2':0.5}\n",
    "squid={'x':3036,\n",
    "       'y':2156,\n",
    "       'a1':0.5,\n",
    "       'b1':0.5,\n",
    "       'a2':0.5,\n",
    "       'b2':0.5,\n",
    "       'c1':10,\n",
    "       'c2':10,\n",
    "      \"angle\":0}\n",
    "sample.add_qubit_coupler(coupler_core,coupler_gap,coupler_ground,sample.qubits[1],sample.qubits[2],JJ,squid)"
   ]
  },
  {
   "cell_type": "code",
   "execution_count": 186,
   "metadata": {
    "ExecuteTime": {
     "end_time": "2020-08-22T19:30:41.835411Z",
     "start_time": "2020-08-22T19:30:41.824453Z"
    }
   },
   "outputs": [],
   "source": [
    "points = [(3930, 2360),(3800,2360),(3209,2090)]\n",
    "sample.generate_line(points,tl_core,tl_gap,tl_ground,None)\n",
    "fluxline=[4,3,4]\n",
    "point = sample.generate_narrowing_part(sample.lines[-1],fluxline)\n",
    "end = {'type':'fluxline',\n",
    "       'JJ': sample.couplers[1].squid,\n",
    "        'length':20,\n",
    "        \"width\":4}\n",
    "points = [point,(point[0]+10*np.cos(sample.lines[-1].angle),point[1]+10*np.sin(sample.lines[-1].angle)),\n",
    "         (3060,2090)]\n",
    "sample.generate_line(points,4,3,4,None,end)\n",
    "# sample.generate_bridge((sample.lines[-1].end[0],sample.lines[-1].end[1]-25),15, 90, 30,3*np.pi/2)"
   ]
  },
  {
   "cell_type": "code",
   "execution_count": 187,
   "metadata": {
    "ExecuteTime": {
     "end_time": "2020-08-22T19:38:05.531968Z",
     "start_time": "2020-08-22T19:30:52.555973Z"
    }
   },
   "outputs": [
    {
     "data": {
      "text/plain": [
       "<gdspy.viewer.LayoutViewer object .!layoutviewer>"
      ]
     },
     "execution_count": 187,
     "metadata": {},
     "output_type": "execute_result"
    }
   ],
   "source": [
    "sample.finish_him()\n",
    "watch()"
   ]
  },
  {
   "cell_type": "markdown",
   "metadata": {},
   "source": [
    "### Qubit 3-4 coupler"
   ]
  },
  {
   "cell_type": "code",
   "execution_count": 45,
   "metadata": {
    "ExecuteTime": {
     "end_time": "2020-08-08T12:11:58.340126Z",
     "start_time": "2020-08-08T12:11:58.332178Z"
    }
   },
   "outputs": [
    {
     "name": "stdout",
     "output_type": "stream",
     "text": [
      "2710.0 2988.5\n",
      "2040.0 2988.5\n"
     ]
    }
   ],
   "source": [
    "JJ={'indent':60,\n",
    "   'angle_JJ':0,\n",
    "   'a1':0.5,\n",
    "   'a2':0.5}\n",
    "squid={'x':2360,\n",
    "       'y':3000,\n",
    "       'a1':0.5,\n",
    "       'b1':0.5,\n",
    "       'a2':0.5,\n",
    "       'b2':0.5,\n",
    "       'c1':10,\n",
    "       'c2':10,\n",
    "      \"angle\":np.pi}\n",
    "sample.add_qubit_coupler(coupler_core,coupler_gap,coupler_ground,sample.coaxmons[2],sample.coaxmons[3],JJ,squid)"
   ]
  },
  {
   "cell_type": "code",
   "execution_count": 46,
   "metadata": {
    "ExecuteTime": {
     "end_time": "2020-08-08T12:11:59.009105Z",
     "start_time": "2020-08-08T12:11:58.990153Z"
    }
   },
   "outputs": [],
   "source": [
    "#third coupler  fluxline\n",
    "points = [sample.pads[3].coordinate,(2360,3200)]\n",
    "sample.generate_line(points,tl_core,tl_gap,tl_ground,None)\n",
    "fluxline=[4,3,4]\n",
    "point = sample.generate_narrowing_part(sample.lines[-1],fluxline)\n",
    "end = {'type':'fluxline',\n",
    "       'JJ': sample.couplers[2].squid,\n",
    "        'length':20,\n",
    "        \"width\":4}\n",
    "points = [point,(point[0]+10*np.cos(sample.lines[-1].angle),point[1]+10*np.sin(sample.lines[-1].angle)),\n",
    "         (2360,3016)]\n",
    "sample.generate_line(points,4,3,4,None,end)\n",
    "# sample.generate_bridge((sample.lines[-1].end[0],sample.lines[-1].end[1]-25),15, 90, 30,3*np.pi/2)"
   ]
  },
  {
   "cell_type": "code",
   "execution_count": 21,
   "metadata": {
    "ExecuteTime": {
     "end_time": "2020-08-09T13:12:26.754088Z",
     "start_time": "2020-08-09T13:10:44.245398Z"
    }
   },
   "outputs": [
    {
     "data": {
      "text/plain": [
       "<gdspy.viewer.LayoutViewer object .!layoutviewer>"
      ]
     },
     "execution_count": 21,
     "metadata": {},
     "output_type": "execute_result"
    }
   ],
   "source": [
    "# sample.create_grid(100,100)\n",
    "sample.finish_him()\n",
    "watch()"
   ]
  },
  {
   "cell_type": "markdown",
   "metadata": {},
   "source": [
    "## Feedline"
   ]
  },
  {
   "cell_type": "code",
   "execution_count": 21,
   "metadata": {
    "ExecuteTime": {
     "end_time": "2020-08-07T14:01:28.300185Z",
     "start_time": "2020-08-07T14:01:28.292208Z"
    }
   },
   "outputs": [],
   "source": [
    "points = [(760,2360),(2100,2360)]\n",
    "sample.generate_line(points,tl_core,tl_gap,tl_ground,None)\n",
    "# couplers = sample.generate_resonator_coupler(sample.lines[-1].end,(2320,2360),TL_core,TL_gap,TL_ground,4,4,4,2.5,0,'1')"
   ]
  },
  {
   "cell_type": "markdown",
   "metadata": {},
   "source": [
    "### Resonator+Purcell"
   ]
  },
  {
   "cell_type": "markdown",
   "metadata": {},
   "source": [
    "#### Purcell"
   ]
  },
  {
   "cell_type": "code",
   "execution_count": 9,
   "metadata": {
    "ExecuteTime": {
     "end_time": "2020-08-07T16:32:55.650053Z",
     "start_time": "2020-08-07T16:32:55.646063Z"
    }
   },
   "outputs": [],
   "source": [
    "#purcell\n",
    "# start_x=-20\n",
    "# start_y=40\n",
    "# ap=130\n",
    "# bp=510\n",
    "# purcell_point=(2340.75,2340.5)\n",
    "# par_end, par_begin = sample.generate_purcell(purcell_begin = (purcell_point[0]-ap-start_x,purcell_point[1]-bp+150-start_y),\n",
    "#                         purcell_end=(purcell_point[0]-start_x,purcell_point[1]-start_y), \n",
    "#                         restricted_area_points0=(purcell_point[0]-ap-start_x,purcell_point[1]-bp-start_y),\n",
    "#                         a_restricted_area=ap, b_restricted_area=bp,  \n",
    "#                         purcell_core=4, purcell_ground=4, purcell_gap=4, length_of_purcell_meander=3000,\n",
    "#              begin_coupler=None)\n",
    "\n",
    "# points = [par_begin,(par_begin[0]+5,par_begin[1]),\n",
    "#          (par_begin[0]+5,par_begin[1]+17),(couplers[1][0],par_begin[1]+17),couplers[1]]\n",
    "# sample.generate_line(points,4,4,4,None,corner_type=None)\n",
    "\n",
    "\n",
    "# points = [couplers[0],(couplers[0][0],couplers[0][1]-200),(couplers[0][0]+20,couplers[0][1]-200),\n",
    "#          (couplers[0][0]+20,couplers[0][1]-10),(couplers[0][0]+150,couplers[0][1]-10)]\n",
    "# end_type={'type':'open',\n",
    "#           'gap':10,\n",
    "#           'ground':10}\n",
    "# sample.generate_line(points,4,4,4,None,end=end_type,corner_type=None)\n",
    "\n",
    "\n",
    "\n",
    "\n",
    "\n",
    "# couplers = sample.generate_resonator_coupler((2100,2360),(2320,2360),TL_core,TL_gap,TL_ground,4,4,4,2.5,0,'1')\n"
   ]
  },
  {
   "cell_type": "code",
   "execution_count": 20,
   "metadata": {
    "ExecuteTime": {
     "end_time": "2020-08-07T17:14:46.139628Z",
     "start_time": "2020-08-07T17:14:22.318743Z"
    }
   },
   "outputs": [
    {
     "data": {
      "text/plain": [
       "<gdspy.viewer.LayoutViewer object .!layoutviewer>"
      ]
     },
     "execution_count": 20,
     "metadata": {},
     "output_type": "execute_result"
    }
   ],
   "source": [
    "watch()"
   ]
  },
  {
   "cell_type": "code",
   "execution_count": 11,
   "metadata": {
    "ExecuteTime": {
     "end_time": "2020-08-08T18:27:34.224702Z",
     "start_time": "2020-08-08T18:26:44.307685Z"
    }
   },
   "outputs": [
    {
     "data": {
      "text/plain": [
       "<gdspy.viewer.LayoutViewer object .!layoutviewer>"
      ]
     },
     "execution_count": 11,
     "metadata": {},
     "output_type": "execute_result"
    }
   ],
   "source": [
    "# sample.create_grid(100,100)\n",
    "sample.finish_him()\n",
    "watch()"
   ]
  },
  {
   "cell_type": "code",
   "execution_count": 11,
   "metadata": {
    "ExecuteTime": {
     "end_time": "2020-08-04T17:56:00.867497Z",
     "start_time": "2020-08-04T17:54:38.659318Z"
    },
    "scrolled": true
   },
   "outputs": [
    {
     "data": {
      "text/plain": [
       "<gdspy.viewer.LayoutViewer object .!layoutviewer>"
      ]
     },
     "execution_count": 11,
     "metadata": {},
     "output_type": "execute_result"
    }
   ],
   "source": [
    "# feedline\n",
    "points = [(760,2360),(1920,2360),(2010,2560),(2100,2400)]\n",
    "sample.generate_line(points,TL_core,TL_gap,TL_ground,None)\n",
    "\n",
    "\n",
    "# #resonator\n",
    "# ar=180\n",
    "# br=400\n",
    "# coupler_length=70\n",
    "# resonator_point=(2340.75,2340.5)\n",
    "# res_begin, res_end =sample.generate_resonator(resonator_begin=(resonator_point[0]-ap-coupler_length-ar-start_x,\n",
    "#                                                                resonator_point[1]-br+250-start_y-200), \n",
    "#                           resonator_end=(resonator_point[0]-ap-coupler_length-start_x,\n",
    "#                                          resonator_point[1]-bp-start_y+150), \n",
    "#                           restricted_area_points0=(resonator_point[0]-ap-coupler_length-ar-start_x,\n",
    "#                                                    resonator_point[1]-br-start_y), \n",
    "#                           a_restricted_area=ar, \n",
    "#                           b_restricted_area=br,\n",
    "#                           resonator_core=4, resonator_ground=4, resonator_gap=4, length_of_all_resonator=3800,\n",
    "#                angle=0)\n",
    "\n",
    "\n",
    "# sample.generate_coupler_purcell_resonator(res_end,par_end,\n",
    "#                                          [4,4,4],\n",
    "#                                          [4,4,4],\n",
    "#                                          5,20,20+10)# тут косяк, надо починить\n",
    "\n",
    "# distance=(res_begin[0]-\n",
    "#          (sample.coaxmons[0].center.x+(sample.coaxmons[0].R4)*np.cos(np.pi*phi1)))/np.cos(np.pi*phi1)\n",
    "# points = [(res_begin[0],res_begin[1]),\n",
    "#           (res_begin[0],res_begin[1]-20),\n",
    "#           (sample.coaxmons[0].center.x+(sample.coaxmons[0].R4+distance)*np.cos(np.pi*phi1),\n",
    "#          sample.coaxmons[0].center.y+(sample.coaxmons[0].R4+distance)*np.sin(np.pi*phi1)),\n",
    "#          (sample.coaxmons[0].center.x+(sample.coaxmons[0].R4-0.1)*np.cos(np.pi*phi1),\n",
    "#          sample.coaxmons[0].center.y+(sample.coaxmons[0].R4-0.1)*np.sin(np.pi*phi1))]\n",
    "# sample.generate_line(points,4,4,4,None,corner_type='rect')\n",
    "\n",
    "\n",
    "# #second resonator and purcell \n",
    "# points = [(2320,2360),(2400,2360)]\n",
    "# sample.generate_line(points,TL_core,TL_gap,TL_ground,None)\n",
    "\n",
    "# start_x=-20\n",
    "# start_y=40\n",
    "# ap=130\n",
    "# bp=510\n",
    "# # coupler_end=(2820,2360)\n",
    "# couplers = sample.generate_resonator_coupler(sample.lines[-1].end,(2820,2360),TL_core,TL_gap,TL_ground,4,4,4,2.5,0,'1')\n",
    "# par_begin,par_end = sample.generate_purcell(purcell_begin = (2440.75-ap-start_x,2340.5-bp+150-start_y),\n",
    "#                         purcell_end=(2440.75-start_x,2340.5-start_y), \n",
    "#                         restricted_area_points0=(2440.75-ap-start_x,2340.5-bp-start_y),\n",
    "#                         a_restricted_area=ap, b_restricted_area=bp,  \n",
    "#                         purcell_core=4, purcell_ground=4, purcell_gap=4, length_of_purcell_meander=3000,\n",
    "#              begin_coupler=None,type_mirror=\"mirror\")\n",
    "\n",
    "# points = [par_begin,(par_begin[0]-5,par_begin[1]),\n",
    "#          (par_begin[0]-5,par_begin[1]+17),(couplers[1][0],par_begin[1]+17),couplers[1]]\n",
    "# sample.generate_line(points,4,4,4,None,corner_type=None)\n",
    "\n",
    "# points = [couplers[0],(couplers[0][0],couplers[0][1]-500)]\n",
    "# end_type={'type':'open',\n",
    "#           'gap':10,\n",
    "#           'ground':10}\n",
    "# sample.generate_line(points,4,4,4,None,end=end_type,corner_type=None)\n",
    "\n",
    "# ar=240\n",
    "# br=325\n",
    "# coupler_length=70\n",
    "# res_begin, res_end =sample.generate_resonator(resonator_begin=(2850.75-ap-coupler_length-ar-start_x,2340.5-br+250-start_y-200), \n",
    "#                           resonator_end=(2850.75-ap-coupler_length-start_x,2340.5-bp+150-start_y+100), \n",
    "#                           restricted_area_points0=(2850.75-ap-coupler_length-ar-start_x,2340.5-br-start_y), \n",
    "#                           a_restricted_area=ar, \n",
    "#                           b_restricted_area=br,\n",
    "#                           resonator_core=4, resonator_ground=4, resonator_gap=4, length_of_all_resonator=3800,\n",
    "#                angle=0,type_mirror=\"mirror\")\n",
    "\n",
    "\n",
    "# points = [res_begin,(res_begin[0],par_end[1])]\n",
    "\n",
    "# sample.generate_line(points,4,4,4,None)\n",
    "\n",
    "# sample.generate_coupler_purcell_resonator(par_end,\n",
    "#                                           points[-1],\n",
    "#                                          [4,4,4],\n",
    "#                                          [4,4,4],\n",
    "#                                          10,20,20+10)# тут косяк, надо починить\n",
    "\n",
    "# points = [res_begin,(res_begin[0],par_end[1])]\n",
    "# sample.generate_line(points,4,4,4,None)\n",
    "\n",
    "# points = [coupler_end,(coupler_end[0]+105,coupler_end[1])]\n",
    "# sample.generate_line(points,TL_core,TL_gap,TL_ground,None)\n",
    "# end_point, center_point = sample.generate_bridge_over_feedline(sample.lines[-1], \n",
    "#                                              [15, 90, 30],\n",
    "#                                              [TL_core,TL_gap,TL_ground],\n",
    "#                                              5)\n",
    "# points = [end_point,(3400,2360)]\n",
    "# end = {'type':'open',\n",
    "#        'ground':10,\n",
    "#        'gap':10}\n",
    "# sample.generate_line(points,TL_core,TL_gap,TL_ground,None,end)\n",
    "\n",
    "\n"
   ]
  },
  {
   "cell_type": "code",
   "execution_count": 17,
   "metadata": {
    "ExecuteTime": {
     "end_time": "2020-08-07T13:35:57.567263Z",
     "start_time": "2020-08-07T13:35:57.518360Z"
    }
   },
   "outputs": [
    {
     "ename": "AttributeError",
     "evalue": "'Sample' object has no attribute 'sample_size_x'",
     "output_type": "error",
     "traceback": [
      "\u001b[1;31m---------------------------------------------------------------------------\u001b[0m",
      "\u001b[1;31mAttributeError\u001b[0m                            Traceback (most recent call last)",
      "\u001b[1;32m<ipython-input-17-f313ad0ebeef>\u001b[0m in \u001b[0;36m<module>\u001b[1;34m\u001b[0m\n\u001b[0;32m      1\u001b[0m \u001b[0msample\u001b[0m\u001b[1;33m.\u001b[0m\u001b[0mfinish_him\u001b[0m\u001b[1;33m(\u001b[0m\u001b[1;33m)\u001b[0m\u001b[1;33m\u001b[0m\u001b[1;33m\u001b[0m\u001b[0m\n\u001b[0;32m      2\u001b[0m \u001b[1;31m#\u001b[0m\u001b[1;33m\u001b[0m\u001b[1;33m\u001b[0m\u001b[1;33m\u001b[0m\u001b[0m\n\u001b[1;32m----> 3\u001b[1;33m \u001b[0msample\u001b[0m\u001b[1;33m.\u001b[0m\u001b[0mcreate_grid\u001b[0m\u001b[1;33m(\u001b[0m\u001b[1;36m100\u001b[0m\u001b[1;33m,\u001b[0m\u001b[1;36m100\u001b[0m\u001b[1;33m)\u001b[0m\u001b[1;33m\u001b[0m\u001b[1;33m\u001b[0m\u001b[0m\n\u001b[0m\u001b[0;32m      4\u001b[0m \u001b[1;33m\u001b[0m\u001b[0m\n\u001b[0;32m      5\u001b[0m \u001b[0mgdspy\u001b[0m\u001b[1;33m.\u001b[0m\u001b[0mLayoutViewer\u001b[0m\u001b[1;33m(\u001b[0m\u001b[0mdepth\u001b[0m\u001b[1;33m=\u001b[0m\u001b[1;36m0\u001b[0m\u001b[1;33m,\u001b[0m\u001b[0mpattern\u001b[0m\u001b[1;33m=\u001b[0m\u001b[1;33m{\u001b[0m\u001b[1;34m'default'\u001b[0m\u001b[1;33m:\u001b[0m \u001b[1;36m8\u001b[0m\u001b[1;33m}\u001b[0m\u001b[1;33m,\u001b[0m\u001b[0mbackground\u001b[0m\u001b[1;33m=\u001b[0m\u001b[1;34m'#FFFFFF'\u001b[0m\u001b[1;33m)\u001b[0m \u001b[1;31m#this opens a viewer\u001b[0m\u001b[1;33m\u001b[0m\u001b[1;33m\u001b[0m\u001b[0m\n",
      "\u001b[1;32mE:\\Github\\QCreator\\libraries\\transmon_sample_creator.py\u001b[0m in \u001b[0;36mcreate_grid\u001b[1;34m(self, width, gap)\u001b[0m\n\u001b[0;32m    177\u001b[0m         \u001b[0mresult_y\u001b[0m \u001b[1;33m=\u001b[0m \u001b[1;32mNone\u001b[0m\u001b[1;33m\u001b[0m\u001b[1;33m\u001b[0m\u001b[0m\n\u001b[0;32m    178\u001b[0m         \u001b[0mi\u001b[0m \u001b[1;33m=\u001b[0m \u001b[1;36m0\u001b[0m\u001b[1;33m\u001b[0m\u001b[1;33m\u001b[0m\u001b[0m\n\u001b[1;32m--> 179\u001b[1;33m         \u001b[1;32mwhile\u001b[0m \u001b[0mgap\u001b[0m \u001b[1;33m*\u001b[0m \u001b[0mi\u001b[0m \u001b[1;33m+\u001b[0m \u001b[0mwidth\u001b[0m \u001b[1;33m*\u001b[0m \u001b[1;33m(\u001b[0m\u001b[0mi\u001b[0m \u001b[1;33m+\u001b[0m \u001b[1;36m1\u001b[0m\u001b[1;33m)\u001b[0m \u001b[1;33m<\u001b[0m \u001b[0mself\u001b[0m\u001b[1;33m.\u001b[0m\u001b[0msample_size_x\u001b[0m\u001b[1;33m:\u001b[0m\u001b[1;33m\u001b[0m\u001b[1;33m\u001b[0m\u001b[0m\n\u001b[0m\u001b[0;32m    180\u001b[0m             rect_x = gdspy.Rectangle((gap * i + width * i, 0), (gap * i + width * (i + 1), self.sample_size_y),\n\u001b[0;32m    181\u001b[0m                                      layer=self.gridline_x_layer)\n",
      "\u001b[1;31mAttributeError\u001b[0m: 'Sample' object has no attribute 'sample_size_x'"
     ]
    }
   ],
   "source": [
    "sample.finish_him()\n",
    "# \n",
    "sample.create_grid(100,100)\n",
    "\n",
    "gdspy.LayoutViewer(depth=0,pattern={'default': 8},background='#FFFFFF') #this opens a viewer"
   ]
  },
  {
   "cell_type": "code",
   "execution_count": 46,
   "metadata": {},
   "outputs": [],
   "source": [
    "def length(freq):\n",
    "    c=299792458\n",
    "    n=np.sqrt((11.45+1)/2)\n",
    "    return c/(4*n*freq*1e9)*1e3"
   ]
  },
  {
   "cell_type": "code",
   "execution_count": 48,
   "metadata": {},
   "outputs": [
    {
     "data": {
      "text/plain": [
       "(4.291340681252264, 3.3377094187517606)"
      ]
     },
     "execution_count": 48,
     "metadata": {},
     "output_type": "execute_result"
    }
   ],
   "source": [
    "length(7),length(9)"
   ]
  },
  {
   "cell_type": "code",
   "execution_count": 37,
   "metadata": {},
   "outputs": [
    {
     "data": {
      "text/plain": [
       "1062.6718739192922"
      ]
     },
     "execution_count": 37,
     "metadata": {},
     "output_type": "execute_result"
    }
   ],
   "source": [
    "calculate_total_length(points)"
   ]
  },
  {
   "cell_type": "code",
   "execution_count": 12,
   "metadata": {
    "ExecuteTime": {
     "end_time": "2020-08-08T18:37:46.022340Z",
     "start_time": "2020-08-08T18:37:46.012915Z"
    }
   },
   "outputs": [],
   "source": [
    "gdspy.write_gds('test1.gds', cells=None, name='library', unit=1e-06, precision=1e-09, timestamp=None, binary_cells=None)"
   ]
  },
  {
   "cell_type": "code",
   "execution_count": null,
   "metadata": {},
   "outputs": [],
   "source": []
  }
 ],
 "metadata": {
  "kernelspec": {
   "display_name": "Python 3",
   "language": "python",
   "name": "python3"
  },
  "language_info": {
   "codemirror_mode": {
    "name": "ipython",
    "version": 3
   },
   "file_extension": ".py",
   "mimetype": "text/x-python",
   "name": "python",
   "nbconvert_exporter": "python",
   "pygments_lexer": "ipython3",
   "version": "3.7.3"
  },
  "toc": {
   "base_numbering": 1,
   "nav_menu": {},
   "number_sections": true,
   "sideBar": true,
   "skip_h1_title": false,
   "title_cell": "Table of Contents",
   "title_sidebar": "Contents",
   "toc_cell": false,
   "toc_position": {},
   "toc_section_display": true,
   "toc_window_display": false
  }
 },
 "nbformat": 4,
 "nbformat_minor": 2
}
