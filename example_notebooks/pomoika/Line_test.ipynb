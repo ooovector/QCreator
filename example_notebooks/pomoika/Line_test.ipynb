{
 "cells": [
  {
   "cell_type": "code",
   "execution_count": 1,
   "metadata": {},
   "outputs": [
    {
     "name": "stderr",
     "output_type": "stream",
     "text": [
      "..\\..\\QCreator\\elements\\cross_lines.py:150: SyntaxWarning: \"is not\" with a literal. Did you mean \"!=\"?\n",
      "  if self.orientation is not 0:\n"
     ]
    },
    {
     "data": {
      "text/plain": [
       "<module 'gdspy' from 'C:\\\\Users\\\\avasi\\\\anaconda3\\\\lib\\\\site-packages\\\\gdspy\\\\__init__.py'>"
      ]
     },
     "execution_count": 1,
     "metadata": {},
     "output_type": "execute_result"
    }
   ],
   "source": [
    "import sys\n",
    "sys.path.append('..\\\\..')\n",
    "import gdspy\n",
    "import numpy as np\n",
    "from importlib import reload\n",
    "from copy import deepcopy\n",
    "from QCreator import elements\n",
    "from QCreator import general_sample_creator as creator\n",
    "from QCreator import meshing\n",
    "import QCreator.auxiliary_functions as auxfuncs\n",
    "from matplotlib import pyplot as plt\n",
    "reload(gdspy)"
   ]
  },
  {
   "cell_type": "code",
   "execution_count": 2,
   "metadata": {},
   "outputs": [],
   "source": [
    "tl_core = 11.\n",
    "tl_gap = 6.\n",
    "tl_ground = 20."
   ]
  },
  {
   "cell_type": "code",
   "execution_count": 3,
   "metadata": {},
   "outputs": [],
   "source": [
    "pad_offset = 1100\n",
    "pad_element_offset = 400\n",
    "\n",
    "\n",
    "\n",
    "layers_configuration = {\n",
    "    'total':0,\n",
    "    'restricted area':10,\n",
    "    'for removing':100,\n",
    "    'JJs':3,\n",
    "    'air bridges':2,\n",
    "    'air bridge pads':1,\n",
    "    'air bridge sm pads':4,\n",
    "    'vertical gridlines':15,\n",
    "    'horizontal gridlines':16,\n",
    "    'inverted':17,\n",
    "    'bandages': 20\n",
    "}\n",
    "\n",
    "sample = creator.Sample('Res-test-16-bridges-10x10',layers_configuration, epsilon=11.45)\n",
    "\n",
    "\n",
    "# airbridge = elements.AirBridgeGeometry(pad_width = 30,\n",
    "#                                        pad_length = 30,\n",
    "#                                        narrow_width = 10,\n",
    "#                                        narrow_length = 56,\n",
    "#                                        pad_distance = 36,\n",
    "#                                        sm_pad_length = 10,\n",
    "#                                        sm_pad_distance = 56,\n",
    "#                                        layer_configuration = sample.layer_configuration,\n",
    "#                                        bridge_style='misis')\n",
    "\n",
    "airbridge = elements.AirBridgeGeometry(pad_width = 36,\n",
    "                                       pad_length = 22,\n",
    "                                       pad_distance = 62,\n",
    "                                       narrow_width = 20,\n",
    "                                       narrow_length = 46,\n",
    "                                       sm_pad_length = 10,\n",
    "                                       sm_pad_distance = 70,\n",
    "                                       layer_configuration = sample.layer_configuration)"
   ]
  },
  {
   "cell_type": "code",
   "execution_count": 4,
   "metadata": {},
   "outputs": [],
   "source": [
    "sample.chip_geometry.sample_vertical_size=4.7e3\n",
    "sample.chip_geometry.sample_horizontal_size=9.7e3\n",
    "central_line_y = sample.chip_geometry.sample_vertical_size/2\n",
    "chip_edge_ground = elements.ChipEdgeGround(sample.chip_geometry, sample.layer_configuration, sample.pads, 800)\n",
    "sample.add(chip_edge_ground)"
   ]
  },
  {
   "cell_type": "code",
   "execution_count": 5,
   "metadata": {},
   "outputs": [],
   "source": [
    "pad0 = elements.Pad('pad-left',\n",
    "                   (pad_offset, sample.chip_geometry.sample_vertical_size / 2), np.pi, tl_core,\n",
    "                   tl_gap, tl_ground,\n",
    "                   layer_configuration=sample.layer_configuration, chip_geometry=sample.chip_geometry,\n",
    "                   **elements.default_pad_geometry())\n",
    "sample.add(pad0)\n",
    "pad1 = elements.Pad('pad-right',\n",
    "                   (sample.chip_geometry.sample_horizontal_size - pad_offset,\n",
    "                    sample.chip_geometry.sample_vertical_size / 2), 0, tl_core,\n",
    "                   tl_gap, tl_ground,\n",
    "                   layer_configuration=sample.layer_configuration, chip_geometry=sample.chip_geometry,\n",
    "                   **elements.default_pad_geometry())\n",
    "sample.add(pad1)\n",
    "\n",
    "pad2 = elements.Pad('pad-up',\n",
    "                   (sample.chip_geometry.sample_horizontal_size / 2,\n",
    "                    sample.chip_geometry.sample_vertical_size - pad_offset), np.pi/2, 7,\n",
    "                   5, 7,\n",
    "                   layer_configuration=sample.layer_configuration, chip_geometry=sample.chip_geometry,\n",
    "                   **elements.default_pad_geometry())\n",
    "sample.add(pad2)\n",
    "\n",
    "pad3 = elements.Pad('pad-down',\n",
    "                   (sample.chip_geometry.sample_horizontal_size / 2, pad_offset), 3*np.pi/2, 7,\n",
    "                   5, 7,\n",
    "                   layer_configuration=sample.layer_configuration, chip_geometry=sample.chip_geometry,\n",
    "                   **elements.default_pad_geometry())\n",
    "sample.add(pad3)"
   ]
  },
  {
   "cell_type": "code",
   "execution_count": 6,
   "metadata": {},
   "outputs": [],
   "source": [
    "br_pos = [sample.chip_geometry.sample_horizontal_size/2, sample.chip_geometry.sample_vertical_size/2]\n",
    "cl = elements.CrossLinesViaAirbridges('aaa', br_pos,\n",
    "                                     orientation=0,\n",
    "                                     top_w=tl_core,\n",
    "                                     top_s=tl_gap,\n",
    "                                     top_g=tl_ground,\n",
    "                                     bot_w=7,\n",
    "                                     bot_s=5,\n",
    "                                     bot_g=7,\n",
    "                                     narrowing_length=20,\n",
    "                                     geometry=airbridge)\n",
    "sample.add(cl)"
   ]
  },
  {
   "cell_type": "code",
   "execution_count": null,
   "metadata": {},
   "outputs": [],
   "source": [
    "# nar_pos_1 = [sample.chip_geometry.sample_horizontal_size/2 - 63,sample.chip_geometry.sample_vertical_size/2]\n",
    "# Narrowing_1 = elements.Narrowing('narrowing', nar_pos_1,\n",
    "#                               orientation = 0,\n",
    "#                               w1 = tl_core,\n",
    "#                               s1 = tl_gap,\n",
    "#                               g1 = tl_ground,\n",
    "#                               w2 = 36,\n",
    "#                               s2 = tl_gap,\n",
    "#                               g2 = 36,\n",
    "#                               layer_configuration = sample.layer_configuration,\n",
    "#                               length = 20)\n",
    "# sample.add(Narrowing_1)\n",
    "\n",
    "\n",
    "# nar_pos_2 = [sample.chip_geometry.sample_horizontal_size/2 + 63,sample.chip_geometry.sample_vertical_size/2]\n",
    "# Narrowing_2 = elements.Narrowing('narrowing', nar_pos_2,\n",
    "#                               orientation = np.pi,\n",
    "#                               w1 = tl_core,\n",
    "#                               s1 = tl_gap,\n",
    "#                               g1 = tl_ground,\n",
    "#                               w2 = 36,\n",
    "#                               s2 = tl_gap,\n",
    "#                               g2 = 36,\n",
    "#                               layer_configuration = sample.layer_configuration,\n",
    "#                               length = 20)\n",
    "# sample.add(Narrowing_2)\n"
   ]
  },
  {
   "cell_type": "code",
   "execution_count": null,
   "metadata": {},
   "outputs": [],
   "source": [
    "# Couler_1 = elements.CPWCoupler('coupler', [(nar_pos_1[0] + 20, nar_pos_1[1]), (nar_pos_1[0] + 40, nar_pos_1[1])],\n",
    "#                               [36, 0], [tl_gap, 0], 36, sample.layer_configuration, r = None)"
   ]
  },
  {
   "cell_type": "code",
   "execution_count": null,
   "metadata": {},
   "outputs": [],
   "source": [
    "\n",
    "# Bridge_1 = elements.AirbridgeOverCPW('bridge1', br_pos,\n",
    "#                                     np.pi/2,\n",
    "#                                     tl_core,\n",
    "#                                     tl_gap,\n",
    "#                                     tl_ground,\n",
    "#                                     geometry= airbridge)\n",
    "# sample.add(Bridge_1)\n",
    "\n",
    "# br_pos_1 = [br_pos[0], br_pos[1] + 36 + tl_gap]\n",
    "# Bridge_2 = elements.AirbridgeOverCPW('bridge2', br_pos_1,\n",
    "#                                     np.pi/2,\n",
    "#                                     tl_core,\n",
    "#                                     tl_gap,\n",
    "#                                     tl_ground,\n",
    "#                                     geometry= airbridge)\n",
    "# sample.add(Bridge_2)\n",
    "# br_pos = [sample.chip_geometry.sample_horizontal_size/2, sample.chip_geometry.sample_vertical_size/2]\n",
    "# br_pos_2 = [br_pos[0], br_pos[1] - 36 - tl_gap]\n",
    "# Bridge_3 = elements.AirbridgeOverCPW('bridge3', br_pos_2,\n",
    "#                                     np.pi/2,\n",
    "#                                     tl_core,\n",
    "#                                     tl_gap,\n",
    "#                                     tl_ground,\n",
    "#                                     geometry= airbridge)\n",
    "# sample.add(Bridge_3)\n",
    "\n"
   ]
  },
  {
   "cell_type": "code",
   "execution_count": null,
   "metadata": {},
   "outputs": [],
   "source": [
    "# sample.connect_cpw(pad0, Narrowing_1, port1='port', port2='port1', name='right TL', points=[])\n",
    "# sample.connect_cpw(Narrowing_2, pad1, port1='port1', port2='port', name='right TL', points=[])"
   ]
  },
  {
   "cell_type": "code",
   "execution_count": null,
   "metadata": {},
   "outputs": [],
   "source": [
    "# sample.connect_cpw(Bridge_2, Bridge_1, port1='port1', port2='port2', name='down TL', points=[])\n",
    "# sample.connect_cpw(Bridge_1, Bridge_3, port1='port1', port2='port2', name='down TL', points=[])"
   ]
  },
  {
   "cell_type": "code",
   "execution_count": null,
   "metadata": {},
   "outputs": [],
   "source": [
    "#sample.connect_cpw(Narrowing, pad1, port1='port2', port2='port', name='right TL', points=[])"
   ]
  },
  {
   "cell_type": "code",
   "execution_count": 7,
   "metadata": {},
   "outputs": [],
   "source": [
    "sample.draw_design()\n",
    "sample.watch()"
   ]
  },
  {
   "cell_type": "code",
   "execution_count": null,
   "metadata": {},
   "outputs": [],
   "source": [
    "# sample.connect_cpw(Bridge_2, Bridge_1, port1='port1', port2='port2', name='down TL', points=[])\n",
    "# sample.connect_cpw(Bridge_1, Bridge_3, port1='port1', port2='port2', name='down TL', points=[])"
   ]
  },
  {
   "cell_type": "code",
   "execution_count": null,
   "metadata": {},
   "outputs": [],
   "source": [
    "cl.get_terminals()"
   ]
  },
  {
   "cell_type": "code",
   "execution_count": null,
   "metadata": {},
   "outputs": [],
   "source": [
    "sample.connect_cpw(pad0, cl, port1='port', port2='bottom_1', name='right TL', points=[])\n",
    "sample.connect_cpw(cl, pad1, port1='bottom_2', port2='port', name='right TL', points=[])"
   ]
  },
  {
   "cell_type": "code",
   "execution_count": null,
   "metadata": {},
   "outputs": [],
   "source": [
    "sample.connect_cpw(pad2, cl, port1='port', port2='top_2', name='down TL', points=[])\n",
    "sample.connect_cpw(cl, pad3, port1='top_1', port2='port', name='down TL', points=[])"
   ]
  },
  {
   "cell_type": "code",
   "execution_count": null,
   "metadata": {},
   "outputs": [],
   "source": [
    "sample.draw_design()\n",
    "sample.watch()"
   ]
  },
  {
   "cell_type": "code",
   "execution_count": null,
   "metadata": {},
   "outputs": [],
   "source": []
  }
 ],
 "metadata": {
  "kernelspec": {
   "display_name": "Python 3",
   "language": "python",
   "name": "python3"
  },
  "language_info": {
   "codemirror_mode": {
    "name": "ipython",
    "version": 3
   },
   "file_extension": ".py",
   "mimetype": "text/x-python",
   "name": "python",
   "nbconvert_exporter": "python",
   "pygments_lexer": "ipython3",
   "version": "3.8.3"
  }
 },
 "nbformat": 4,
 "nbformat_minor": 4
}
