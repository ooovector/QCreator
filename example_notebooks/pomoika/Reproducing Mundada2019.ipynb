{
 "cells": [
  {
   "cell_type": "code",
   "execution_count": 65,
   "id": "05bdc487",
   "metadata": {},
   "outputs": [],
   "source": [
    "import sys\n",
    "sys.path.append('..')\n",
    "from QCreator import transmission_line_simulator as tlsim\n",
    "from QCreator import conformal_mapping as cm\n",
    "import pandas as pd\n",
    "from scipy.constants import hbar, e, epsilon_0, mu_0\n",
    "import numpy as np\n",
    "import matplotlib.pyplot as plt\n",
    "import tqdm"
   ]
  },
  {
   "cell_type": "code",
   "execution_count": 66,
   "id": "f53788f2",
   "metadata": {},
   "outputs": [],
   "source": [
    "#50 Ohm line\n",
    "cl_tl, Ll_tl = cm.ConformalMapping([6, 10, 6]).cl_and_Ll()"
   ]
  },
  {
   "cell_type": "markdown",
   "id": "7e6c1dff",
   "metadata": {},
   "source": [
    "# Device A"
   ]
  },
  {
   "cell_type": "code",
   "execution_count": 493,
   "id": "4cff91e0",
   "metadata": {},
   "outputs": [
    {
     "name": "stdout",
     "output_type": "stream",
     "text": [
      "cq_full [fF]:  55.34351235616892\n",
      "cc_full [fF]:  25.826972432878833\n",
      "bus length [um]:  8443.128458269883\n",
      "Ej1 [GHz]:  11.1720175\n",
      "Ej2 [GHz]:  12.193088928571429\n",
      "Ejcmax [GHz]:  10.270416666666666\n",
      "g1+ [GHz] 160348784.09930417\n",
      "g2+ [GHz] 160348784.09930417\n",
      "g1- [GHz] 140400368.39393625\n",
      "g2- [GHz] 140400368.39393625\n"
     ]
    }
   ],
   "source": [
    "Ec = 350e6\n",
    "Ecc = 750e6\n",
    "f1 = 6.143e9-0.9e9\n",
    "f2 = 6.393e9-0.9e9\n",
    "\n",
    "fbus = 7.063e9\n",
    "fcmax = 7.1e9\n",
    "epsilon = 11.45\n",
    "\n",
    "ccp = 5.15e-15\n",
    "ccm = 0.87e-15#2.5e-15\n",
    "\n",
    "lbus = (np.sqrt(2/(epsilon_0*mu_0*(epsilon+1)))/(2*fbus) - 2*ccp/cl_tl[0,0]/1e6)\n",
    "cq_full = e**2/(2*Ec*2*np.pi*hbar)\n",
    "cc_full = e**2/(2*Ecc*2*np.pi*hbar)\n",
    "Ej1 = (f1 + Ec)**2/(8*Ec)\n",
    "Ej2 = (f2 + Ec)**2/(8*Ec)\n",
    "Ejcmax = (fcmax + Ecc)**2/(8*Ecc)\n",
    "\n",
    "print ('cq_full [fF]: ', cq_full/1e-15)\n",
    "print ('cc_full [fF]: ', cc_full/1e-15)\n",
    "print ('bus length [um]: ', lbus/1e-6)\n",
    "print ('Ej1 [GHz]: ', Ej1/1e9)\n",
    "print ('Ej2 [GHz]: ', Ej2/1e9)\n",
    "print ('Ejcmax [GHz]: ', Ejcmax/1e9)\n",
    "\n",
    "print ('g1+ [GHz]', ccp*np.sqrt(fbus*f1)/np.sqrt(cq_full*(lbus * cl_tl[0,0]*1e6)/2))\n",
    "print ('g2+ [GHz]', ccp*np.sqrt(fbus*f1)/np.sqrt(cq_full*(lbus * cl_tl[0,0]*1e6)/2))\n",
    "\n",
    "print ('g1- [GHz]', ccm*np.sqrt(fcmax*f1)/np.sqrt(cq_full*cc_full))\n",
    "print ('g2- [GHz]', ccm*np.sqrt(fcmax*f1)/np.sqrt(cq_full*cc_full))"
   ]
  },
  {
   "cell_type": "markdown",
   "id": "0038351d",
   "metadata": {},
   "source": [
    "# Device B"
   ]
  },
  {
   "cell_type": "code",
   "execution_count": 472,
   "id": "c1c643a2",
   "metadata": {},
   "outputs": [
    {
     "name": "stdout",
     "output_type": "stream",
     "text": [
      "cq_full [fF]:  58.69766462017915\n",
      "cc_full [fF]:  66.79389422296248\n",
      "bus length [um]:  8469.428497419933\n",
      "Ej1 [GHz]:  15.871109469696972\n",
      "Ej2 [GHz]:  17.26363674242424\n",
      "Ejcmax [GHz]:  23.53969827586207\n",
      "g1+ [GHz] 98022916.23237535\n",
      "g2+ [GHz] 98022916.23237535\n",
      "g1- [GHz] 79104629.7077287\n",
      "g2- [GHz] 79104629.7077287\n"
     ]
    }
   ],
   "source": [
    "Ec = 330e6\n",
    "Ecc = 290e6\n",
    "f1 = 6.143e9\n",
    "f2 = 6.421e9\n",
    "\n",
    "fbus = 7.073e9\n",
    "fcmax = 7.191e9\n",
    "epsilon = 11.45\n",
    "\n",
    "ccp = 3e-15\n",
    "ccm = 1.5e-15#2.5e-15\n",
    "#cqq = 0.05e-15\n",
    "\n",
    "lbus = (np.sqrt(2/(epsilon_0*mu_0*(epsilon+1)))/(2*fbus) - 2*ccp/cl_tl[0,0]/1e6)\n",
    "cq_full = e**2/(2*Ec*2*np.pi*hbar)\n",
    "cc_full = e**2/(2*Ecc*2*np.pi*hbar)\n",
    "Ej1 = (f1 + Ec)**2/(8*Ec)\n",
    "Ej2 = (f2 + Ec)**2/(8*Ec)\n",
    "Ejcmax = (fcmax + Ecc)**2/(8*Ecc)\n",
    "\n",
    "\n",
    "print ('cq_full [fF]: ', cq_full/1e-15)\n",
    "print ('cc_full [fF]: ', cc_full/1e-15)\n",
    "print ('bus length [um]: ', lbus/1e-6)\n",
    "print ('Ej1 [GHz]: ', Ej1/1e9)\n",
    "print ('Ej2 [GHz]: ', Ej2/1e9)\n",
    "print ('Ejcmax [GHz]: ', Ejcmax/1e9)\n",
    "\n",
    "print ('g1+ [GHz]', ccp*np.sqrt(fbus*f1)/np.sqrt(cq_full*(lbus * cl_tl[0,0]*1e6)/2))\n",
    "print ('g2+ [GHz]', ccp*np.sqrt(fbus*f1)/np.sqrt(cq_full*(lbus * cl_tl[0,0]*1e6)/2))\n",
    "\n",
    "print ('g1- [GHz]', ccm*np.sqrt(fcmax*f1)/np.sqrt(cq_full*cc_full)/2)\n",
    "print ('g2- [GHz]', ccm*np.sqrt(fcmax*f1)/np.sqrt(cq_full*cc_full)/2)"
   ]
  },
  {
   "cell_type": "code",
   "execution_count": 494,
   "id": "dc2bb858",
   "metadata": {},
   "outputs": [],
   "source": [
    "\n",
    "\n",
    "tls = tlsim.TLSystem()\n",
    "\n",
    "q1c = tlsim.Capacitor(c=cq_full-ccp-ccm, name='q1c')\n",
    "q2c = tlsim.Capacitor(c=cq_full-ccp-ccm, name='q2c')\n",
    "cmc = tlsim.Capacitor(c=cc_full, name='q2c')\n",
    "\n",
    "jj1 = tlsim.JosephsonJunction(e_j=Ej1*hbar*2*np.pi, name='jj1')\n",
    "jj2 = tlsim.JosephsonJunction(e_j=Ej2*hbar*2*np.pi, name='jj2')\n",
    "jjcmax = tlsim.JosephsonJunction(e_j=Ejcmax*hbar*2*np.pi, name='jjcmax')\n",
    "\n",
    "cptl = tlsim.TLCoupler(n=1, l=lbus*1e6, ll=Ll_tl, cl=cl_tl, \n",
    "                      rl=np.zeros((1,1)), gl=np.zeros((1,1)), name='cptl')\n",
    "\n",
    "cpc1 = tlsim.Capacitor(c=ccp, name='cpc1')\n",
    "cpc2 = tlsim.Capacitor(c=ccp, name='cpc2')\n",
    "\n",
    "cmc1 = tlsim.Capacitor(c=ccm, name='cmc1')\n",
    "cmc2 = tlsim.Capacitor(c=ccm, name='cmc2')\n",
    "\n",
    "cqq = tlsim.Capacitor(c=cqq, name='cqq')\n",
    "\n",
    "tls.add_element(tlsim.Short(), [0])\n",
    "tls.add_element(q1c, [0, 1])\n",
    "tls.add_element(q2c, [0, 2])\n",
    "tls.add_element(jj1, [0, 1])\n",
    "tls.add_element(jj2, [0, 2])\n",
    "tls.add_element(cpc1, [1, 3])\n",
    "tls.add_element(cpc2, [2, 4])\n",
    "tls.add_element(cptl, [3, 4])\n",
    "tls.add_element(cmc1, [1, 5])\n",
    "tls.add_element(cmc2, [2, 6])\n",
    "tls.add_element(cmc, [5, 6])\n",
    "tls.add_element(jjcmax, [5, 6])\n",
    "#tls.add_element(cqq, [1, 2])"
   ]
  },
  {
   "cell_type": "code",
   "execution_count": 495,
   "id": "9c8a8a8f",
   "metadata": {},
   "outputs": [],
   "source": [
    "omega, delta, modes = tls.get_modes()"
   ]
  },
  {
   "cell_type": "code",
   "execution_count": 496,
   "id": "456d66f0",
   "metadata": {},
   "outputs": [
    {
     "data": {
      "text/plain": [
       "array([5.60878760e+09, 5.86448655e+09, 7.07721544e+09, 7.78695894e+09,\n",
       "       1.41697372e+10, 1.91632100e+10, 2.22502644e+10, 2.22502644e+10,\n",
       "       2.23384447e+10, 2.40877655e+10, 2.40877655e+10, 1.66184918e+11])"
      ]
     },
     "execution_count": 496,
     "metadata": {},
     "output_type": "execute_result"
    }
   ],
   "source": [
    "omega/(2*np.pi)"
   ]
  },
  {
   "cell_type": "code",
   "execution_count": 497,
   "id": "78a44521",
   "metadata": {
    "scrolled": true
   },
   "outputs": [
    {
     "data": {
      "text/html": [
       "<div>\n",
       "<style scoped>\n",
       "    .dataframe tbody tr th:only-of-type {\n",
       "        vertical-align: middle;\n",
       "    }\n",
       "\n",
       "    .dataframe tbody tr th {\n",
       "        vertical-align: top;\n",
       "    }\n",
       "\n",
       "    .dataframe thead th {\n",
       "        text-align: right;\n",
       "    }\n",
       "</style>\n",
       "<table border=\"1\" class=\"dataframe\">\n",
       "  <thead>\n",
       "    <tr style=\"text-align: right;\">\n",
       "      <th></th>\n",
       "      <th>0</th>\n",
       "      <th>1</th>\n",
       "      <th>2</th>\n",
       "      <th>3</th>\n",
       "    </tr>\n",
       "  </thead>\n",
       "  <tbody>\n",
       "    <tr>\n",
       "      <th>0</th>\n",
       "      <td>-3.409827e+08</td>\n",
       "      <td>-1.632940e+07</td>\n",
       "      <td>-2.656751e+06</td>\n",
       "      <td>-6.612684e+05</td>\n",
       "    </tr>\n",
       "    <tr>\n",
       "      <th>1</th>\n",
       "      <td>-1.632940e+07</td>\n",
       "      <td>-3.409602e+08</td>\n",
       "      <td>-3.892132e+06</td>\n",
       "      <td>-7.094162e+05</td>\n",
       "    </tr>\n",
       "    <tr>\n",
       "      <th>2</th>\n",
       "      <td>-2.656751e+06</td>\n",
       "      <td>-3.892132e+06</td>\n",
       "      <td>-1.593226e+04</td>\n",
       "      <td>-1.130487e+05</td>\n",
       "    </tr>\n",
       "    <tr>\n",
       "      <th>3</th>\n",
       "      <td>-6.612684e+05</td>\n",
       "      <td>-7.094162e+05</td>\n",
       "      <td>-1.130487e+05</td>\n",
       "      <td>-7.369116e+08</td>\n",
       "    </tr>\n",
       "  </tbody>\n",
       "</table>\n",
       "</div>"
      ],
      "text/plain": [
       "              0             1             2             3\n",
       "0 -3.409827e+08 -1.632940e+07 -2.656751e+06 -6.612684e+05\n",
       "1 -1.632940e+07 -3.409602e+08 -3.892132e+06 -7.094162e+05\n",
       "2 -2.656751e+06 -3.892132e+06 -1.593226e+04 -1.130487e+05\n",
       "3 -6.612684e+05 -7.094162e+05 -1.130487e+05 -7.369116e+08"
      ]
     },
     "execution_count": 497,
     "metadata": {},
     "output_type": "execute_result"
    }
   ],
   "source": [
    "pd.DataFrame(tls.get_perturbation([0,1,2,3]))"
   ]
  },
  {
   "cell_type": "code",
   "execution_count": 498,
   "id": "e7f740ad",
   "metadata": {},
   "outputs": [
    {
     "data": {
      "text/html": [
       "<div>\n",
       "<style scoped>\n",
       "    .dataframe tbody tr th:only-of-type {\n",
       "        vertical-align: middle;\n",
       "    }\n",
       "\n",
       "    .dataframe tbody tr th {\n",
       "        vertical-align: top;\n",
       "    }\n",
       "\n",
       "    .dataframe thead th {\n",
       "        text-align: right;\n",
       "    }\n",
       "</style>\n",
       "<table border=\"1\" class=\"dataframe\">\n",
       "  <thead>\n",
       "    <tr style=\"text-align: right;\">\n",
       "      <th></th>\n",
       "      <th>0</th>\n",
       "    </tr>\n",
       "  </thead>\n",
       "  <tbody>\n",
       "    <tr>\n",
       "      <th>0</th>\n",
       "      <td>5.213191e+09</td>\n",
       "    </tr>\n",
       "    <tr>\n",
       "      <th>1</th>\n",
       "      <td>5.470228e+09</td>\n",
       "    </tr>\n",
       "    <tr>\n",
       "      <th>2</th>\n",
       "      <td>7.074474e+09</td>\n",
       "    </tr>\n",
       "    <tr>\n",
       "      <th>3</th>\n",
       "      <td>6.903445e+09</td>\n",
       "    </tr>\n",
       "  </tbody>\n",
       "</table>\n",
       "</div>"
      ],
      "text/plain": [
       "              0\n",
       "0  5.213191e+09\n",
       "1  5.470228e+09\n",
       "2  7.074474e+09\n",
       "3  6.903445e+09"
      ]
     },
     "execution_count": 498,
     "metadata": {},
     "output_type": "execute_result"
    }
   ],
   "source": [
    "omega, kerr = tls.get_perturbation_hamiltonian_kerr([0,1,2,3], [5,5,5,5], truncation='intermediate')\n",
    "pd.DataFrame(omega)"
   ]
  },
  {
   "cell_type": "code",
   "execution_count": 499,
   "id": "a944caca",
   "metadata": {},
   "outputs": [
    {
     "data": {
      "text/html": [
       "<div>\n",
       "<style scoped>\n",
       "    .dataframe tbody tr th:only-of-type {\n",
       "        vertical-align: middle;\n",
       "    }\n",
       "\n",
       "    .dataframe tbody tr th {\n",
       "        vertical-align: top;\n",
       "    }\n",
       "\n",
       "    .dataframe thead th {\n",
       "        text-align: right;\n",
       "    }\n",
       "</style>\n",
       "<table border=\"1\" class=\"dataframe\">\n",
       "  <thead>\n",
       "    <tr style=\"text-align: right;\">\n",
       "      <th></th>\n",
       "      <th>0</th>\n",
       "      <th>1</th>\n",
       "      <th>2</th>\n",
       "      <th>3</th>\n",
       "    </tr>\n",
       "  </thead>\n",
       "  <tbody>\n",
       "    <tr>\n",
       "      <th>0</th>\n",
       "      <td>-3.236380e+08</td>\n",
       "      <td>2.467346e+07</td>\n",
       "      <td>-1.918931e+06</td>\n",
       "      <td>-1.668060e+06</td>\n",
       "    </tr>\n",
       "    <tr>\n",
       "      <th>1</th>\n",
       "      <td>2.467346e+07</td>\n",
       "      <td>-3.551684e+08</td>\n",
       "      <td>-2.478537e+06</td>\n",
       "      <td>-1.979590e+06</td>\n",
       "    </tr>\n",
       "    <tr>\n",
       "      <th>2</th>\n",
       "      <td>-1.918931e+06</td>\n",
       "      <td>-2.478537e+06</td>\n",
       "      <td>-7.367118e+03</td>\n",
       "      <td>-1.500228e+05</td>\n",
       "    </tr>\n",
       "    <tr>\n",
       "      <th>3</th>\n",
       "      <td>-1.668060e+06</td>\n",
       "      <td>-1.979590e+06</td>\n",
       "      <td>-1.500228e+05</td>\n",
       "      <td>-6.189174e+08</td>\n",
       "    </tr>\n",
       "  </tbody>\n",
       "</table>\n",
       "</div>"
      ],
      "text/plain": [
       "              0             1             2             3\n",
       "0 -3.236380e+08  2.467346e+07 -1.918931e+06 -1.668060e+06\n",
       "1  2.467346e+07 -3.551684e+08 -2.478537e+06 -1.979590e+06\n",
       "2 -1.918931e+06 -2.478537e+06 -7.367118e+03 -1.500228e+05\n",
       "3 -1.668060e+06 -1.979590e+06 -1.500228e+05 -6.189174e+08"
      ]
     },
     "execution_count": 499,
     "metadata": {},
     "output_type": "execute_result"
    }
   ],
   "source": [
    "pd.DataFrame(kerr)"
   ]
  },
  {
   "cell_type": "code",
   "execution_count": 500,
   "id": "fd46d927",
   "metadata": {},
   "outputs": [
    {
     "data": {
      "text/plain": [
       "6.80525013030625e-24"
      ]
     },
     "execution_count": 500,
     "metadata": {},
     "output_type": "execute_result"
    }
   ],
   "source": [
    "jjcmax.E_J"
   ]
  },
  {
   "cell_type": "code",
   "execution_count": 505,
   "id": "65710bd8",
   "metadata": {},
   "outputs": [
    {
     "name": "stderr",
     "output_type": "stream",
     "text": [
      " 88%|████████████████████████████████████████████████████████████████████████▎         | 45/51 [00:29<00:03,  1.54it/s]\n"
     ]
    },
    {
     "ename": "ValueError",
     "evalue": "Shifts are non-dispersive, cannot attribute states to modes",
     "output_type": "error",
     "traceback": [
      "\u001b[1;31m---------------------------------------------------------------------------\u001b[0m",
      "\u001b[1;31mValueError\u001b[0m                                Traceback (most recent call last)",
      "\u001b[1;32m<ipython-input-505-45603f521d10>\u001b[0m in \u001b[0;36m<module>\u001b[1;34m\u001b[0m\n\u001b[0;32m      5\u001b[0m     \u001b[1;31m#print (ej_id, ej )\u001b[0m\u001b[1;33m\u001b[0m\u001b[1;33m\u001b[0m\u001b[1;33m\u001b[0m\u001b[0m\n\u001b[0;32m      6\u001b[0m     \u001b[0mjjcmax\u001b[0m\u001b[1;33m.\u001b[0m\u001b[0mE_J\u001b[0m \u001b[1;33m=\u001b[0m \u001b[0mej\u001b[0m\u001b[1;33m\u001b[0m\u001b[1;33m\u001b[0m\u001b[0m\n\u001b[1;32m----> 7\u001b[1;33m     \u001b[0momegas\u001b[0m\u001b[1;33m[\u001b[0m\u001b[0mej_id\u001b[0m\u001b[1;33m,\u001b[0m \u001b[1;33m:\u001b[0m\u001b[1;33m]\u001b[0m\u001b[1;33m,\u001b[0m \u001b[0mkerrs\u001b[0m\u001b[1;33m[\u001b[0m\u001b[0mej_id\u001b[0m\u001b[1;33m,\u001b[0m \u001b[1;33m:\u001b[0m\u001b[1;33m,\u001b[0m \u001b[1;33m:\u001b[0m\u001b[1;33m]\u001b[0m \u001b[1;33m=\u001b[0m \u001b[0mtls\u001b[0m\u001b[1;33m.\u001b[0m\u001b[0mget_perturbation_hamiltonian_kerr\u001b[0m\u001b[1;33m(\u001b[0m\u001b[1;33m[\u001b[0m\u001b[1;36m0\u001b[0m\u001b[1;33m,\u001b[0m\u001b[1;36m1\u001b[0m\u001b[1;33m,\u001b[0m\u001b[1;36m2\u001b[0m\u001b[1;33m,\u001b[0m\u001b[1;36m3\u001b[0m\u001b[1;33m]\u001b[0m\u001b[1;33m,\u001b[0m \u001b[1;33m[\u001b[0m\u001b[1;36m5\u001b[0m\u001b[1;33m,\u001b[0m\u001b[1;36m5\u001b[0m\u001b[1;33m,\u001b[0m\u001b[1;36m5\u001b[0m\u001b[1;33m,\u001b[0m\u001b[1;36m5\u001b[0m\u001b[1;33m]\u001b[0m\u001b[1;33m,\u001b[0m \u001b[0mtruncation\u001b[0m\u001b[1;33m=\u001b[0m\u001b[1;34m'intermediate'\u001b[0m\u001b[1;33m)\u001b[0m\u001b[1;33m\u001b[0m\u001b[1;33m\u001b[0m\u001b[0m\n\u001b[0m",
      "\u001b[1;32mD:\\Documents-cloud\\qubits\\simulation\\QCreator\\QCreator\\transmission_line_simulator.py\u001b[0m in \u001b[0;36mget_perturbation_hamiltonian_kerr\u001b[1;34m(self, modes, num_levels, truncation)\u001b[0m\n\u001b[0;32m   1607\u001b[0m \u001b[1;33m\u001b[0m\u001b[0m\n\u001b[0;32m   1608\u001b[0m         \u001b[1;32mif\u001b[0m \u001b[0mlen\u001b[0m\u001b[1;33m(\u001b[0m\u001b[0mset\u001b[0m\u001b[1;33m(\u001b[0m\u001b[0mall_ids\u001b[0m\u001b[1;33m)\u001b[0m\u001b[1;33m)\u001b[0m \u001b[1;33m<\u001b[0m \u001b[0mlen\u001b[0m\u001b[1;33m(\u001b[0m\u001b[0mall_ids\u001b[0m\u001b[1;33m)\u001b[0m\u001b[1;33m:\u001b[0m\u001b[1;33m\u001b[0m\u001b[1;33m\u001b[0m\u001b[0m\n\u001b[1;32m-> 1609\u001b[1;33m             \u001b[1;32mraise\u001b[0m \u001b[0mValueError\u001b[0m\u001b[1;33m(\u001b[0m\u001b[1;34m'Shifts are non-dispersive, cannot attribute states to modes'\u001b[0m\u001b[1;33m)\u001b[0m\u001b[1;33m\u001b[0m\u001b[1;33m\u001b[0m\u001b[0m\n\u001b[0m\u001b[0;32m   1610\u001b[0m \u001b[1;33m\u001b[0m\u001b[0m\n\u001b[0;32m   1611\u001b[0m         \u001b[0momegas\u001b[0m \u001b[1;33m=\u001b[0m \u001b[0mvals\u001b[0m\u001b[1;33m[\u001b[0m\u001b[0msingle_excitation_state_ids\u001b[0m\u001b[1;33m]\u001b[0m \u001b[1;33m-\u001b[0m \u001b[0mvals\u001b[0m\u001b[1;33m[\u001b[0m\u001b[0mground_state_id\u001b[0m\u001b[1;33m]\u001b[0m\u001b[1;33m\u001b[0m\u001b[1;33m\u001b[0m\u001b[0m\n",
      "\u001b[1;31mValueError\u001b[0m: Shifts are non-dispersive, cannot attribute states to modes"
     ]
    }
   ],
   "source": [
    "EJs = np.linspace(1e-24, 4e-24, 51)\n",
    "omegas = np.zeros((len(EJs), 4))\n",
    "kerrs = np.zeros((len(EJs), 4, 4))\n",
    "for ej_id, ej in enumerate(tqdm.tqdm(EJs)):\n",
    "    #print (ej_id, ej )\n",
    "    jjcmax.E_J = ej\n",
    "    omegas[ej_id, :], kerrs[ej_id, :, :] = tls.get_perturbation_hamiltonian_kerr([0,1,2,3], [5,5,5,5], truncation='intermediate')"
   ]
  },
  {
   "cell_type": "code",
   "execution_count": 506,
   "id": "69d1393d",
   "metadata": {},
   "outputs": [
    {
     "data": {
      "text/plain": [
       "[<matplotlib.lines.Line2D at 0x1dbeb3d6970>,\n",
       " <matplotlib.lines.Line2D at 0x1dbeb3d6a30>,\n",
       " <matplotlib.lines.Line2D at 0x1dbeb3d6af0>,\n",
       " <matplotlib.lines.Line2D at 0x1dbeb3d6bb0>]"
      ]
     },
     "execution_count": 506,
     "metadata": {},
     "output_type": "execute_result"
    },
    {
     "data": {
      "image/png": "[encoded data removed]",
      "text/plain": [
       "<Figure size 432x288 with 1 Axes>"
      ]
     },
     "metadata": {
      "needs_background": "light"
     },
     "output_type": "display_data"
    }
   ],
   "source": [
    "plt.plot(EJs, omegas)"
   ]
  },
  {
   "cell_type": "code",
   "execution_count": 507,
   "id": "f55ab47b",
   "metadata": {},
   "outputs": [
    {
     "data": {
      "text/plain": [
       "[<matplotlib.lines.Line2D at 0x1dbeb5392b0>]"
      ]
     },
     "execution_count": 507,
     "metadata": {},
     "output_type": "execute_result"
    },
    {
     "data": {
      "image/png": "[encoded data removed]",
      "text/plain": [
       "<Figure size 432x288 with 1 Axes>"
      ]
     },
     "metadata": {
      "needs_background": "light"
     },
     "output_type": "display_data"
    }
   ],
   "source": [
    "plt.plot(omegas[:, 0]-omegas[:, 1], kerrs[:, 1, 2])\n",
    "#plt.plot(omegas[:, 0]-omegas[:, 1], kerrs[:, 0, 1])\n",
    "#plt.ylim([-5e6, 5e6])"
   ]
  },
  {
   "cell_type": "markdown",
   "id": "ca0c0e82",
   "metadata": {},
   "source": [
    "# rubbish"
   ]
  },
  {
   "cell_type": "code",
   "execution_count": 10,
   "id": "97959305",
   "metadata": {},
   "outputs": [
    {
     "data": {
      "text/plain": [
       "(9, 9)"
      ]
     },
     "execution_count": 10,
     "metadata": {},
     "output_type": "execute_result"
    }
   ],
   "source": [
    "H, basis = tls.get_perturbation_hamiltonian([0,1], [3,3])\n",
    "H.shape"
   ]
  },
  {
   "cell_type": "code",
   "execution_count": 10,
   "id": "f9cb030f",
   "metadata": {
    "scrolled": true
   },
   "outputs": [
    {
     "ename": "NameError",
     "evalue": "name 'H' is not defined",
     "output_type": "error",
     "traceback": [
      "\u001b[1;31m---------------------------------------------------------------------------\u001b[0m",
      "\u001b[1;31mNameError\u001b[0m                                 Traceback (most recent call last)",
      "\u001b[1;32m<ipython-input-10-a6e23f38bf86>\u001b[0m in \u001b[0;36m<module>\u001b[1;34m\u001b[0m\n\u001b[1;32m----> 1\u001b[1;33m \u001b[0mnp\u001b[0m\u001b[1;33m.\u001b[0m\u001b[0msum\u001b[0m\u001b[1;33m(\u001b[0m\u001b[0mnp\u001b[0m\u001b[1;33m.\u001b[0m\u001b[0mabs\u001b[0m\u001b[1;33m(\u001b[0m\u001b[0mH\u001b[0m\u001b[1;33m-\u001b[0m\u001b[0mnp\u001b[0m\u001b[1;33m.\u001b[0m\u001b[0mconj\u001b[0m\u001b[1;33m(\u001b[0m\u001b[0mH\u001b[0m\u001b[1;33m)\u001b[0m\u001b[1;33m.\u001b[0m\u001b[0mT\u001b[0m\u001b[1;33m)\u001b[0m\u001b[1;33m)\u001b[0m\u001b[1;33m/\u001b[0m\u001b[0mnp\u001b[0m\u001b[1;33m.\u001b[0m\u001b[0msum\u001b[0m\u001b[1;33m(\u001b[0m\u001b[0mnp\u001b[0m\u001b[1;33m.\u001b[0m\u001b[0mabs\u001b[0m\u001b[1;33m(\u001b[0m\u001b[0mH\u001b[0m\u001b[1;33m)\u001b[0m\u001b[1;33m)\u001b[0m\u001b[1;33m\u001b[0m\u001b[1;33m\u001b[0m\u001b[0m\n\u001b[0m",
      "\u001b[1;31mNameError\u001b[0m: name 'H' is not defined"
     ]
    }
   ],
   "source": [
    "np.sum(np.abs(H-np.conj(H).T))/np.sum(np.abs(H))"
   ]
  },
  {
   "cell_type": "code",
   "execution_count": 12,
   "id": "9c79c8ff",
   "metadata": {},
   "outputs": [],
   "source": [
    "energies, vecs = np.linalg.eigh(H)"
   ]
  },
  {
   "cell_type": "code",
   "execution_count": 13,
   "id": "ee1707d9",
   "metadata": {},
   "outputs": [
    {
     "data": {
      "text/plain": [
       "array([-1.51443087e+08,  4.83785629e+09,  5.03079668e+09,  9.54267206e+09,\n",
       "        9.92003743e+09,  1.00262244e+10,  1.47119059e+10,  1.49046753e+10,\n",
       "        1.95960233e+10])"
      ]
     },
     "execution_count": 13,
     "metadata": {},
     "output_type": "execute_result"
    }
   ],
   "source": [
    "energies"
   ]
  },
  {
   "cell_type": "code",
   "execution_count": 21,
   "id": "c419831d",
   "metadata": {},
   "outputs": [
    {
     "data": {
      "text/plain": [
       "array([0.  , 0.01, 1.  , 0.  , 0.  , 0.  , 0.02, 0.  , 0.  ])"
      ]
     },
     "execution_count": 21,
     "metadata": {},
     "output_type": "execute_result"
    }
   ],
   "source": [
    "np.round(np.abs(vecs[1,:]),2)"
   ]
  },
  {
   "cell_type": "code",
   "execution_count": 22,
   "id": "e8d0cdd9",
   "metadata": {},
   "outputs": [
    {
     "data": {
      "text/plain": [
       "(4837856288.900802-6.938893903907228e-18j)"
      ]
     },
     "execution_count": 22,
     "metadata": {},
     "output_type": "execute_result"
    }
   ],
   "source": [
    "np.conj(vecs[:,1])@H@vecs[:,1]"
   ]
  },
  {
   "cell_type": "code",
   "execution_count": null,
   "id": "aec6ba7d",
   "metadata": {},
   "outputs": [],
   "source": [
    "omega"
   ]
  },
  {
   "cell_type": "code",
   "execution_count": null,
   "id": "f177e3c7",
   "metadata": {},
   "outputs": [],
   "source": [
    "kerr"
   ]
  },
  {
   "cell_type": "code",
   "execution_count": null,
   "id": "70223e5c",
   "metadata": {},
   "outputs": [],
   "source": [
    "e"
   ]
  }
 ],
 "metadata": {
  "kernelspec": {
   "display_name": "Python 3",
   "language": "python",
   "name": "python3"
  },
  "language_info": {
   "codemirror_mode": {
    "name": "ipython",
    "version": 3
   },
   "file_extension": ".py",
   "mimetype": "text/x-python",
   "name": "python",
   "nbconvert_exporter": "python",
   "pygments_lexer": "ipython3",
   "version": "3.8.5"
  }
 },
 "nbformat": 4,
 "nbformat_minor": 5
}
