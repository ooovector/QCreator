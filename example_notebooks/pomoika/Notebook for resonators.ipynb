{
 "cells": [
  {
   "cell_type": "code",
   "execution_count": 1,
   "metadata": {},
   "outputs": [],
   "source": [
    "import sys\n",
    "sys.path.append('..')\n",
    "import gdspy\n",
    "import numpy as np\n",
    "from importlib import reload\n",
    "#import libraries.conformal_mapping as cm\n",
    "#import libraries.general_design_functions as gdf\n",
    "#import libraries.general_sample_creator as creator\n",
    "#from  ..libraries import general_design_functions as gdf\n",
    "#fr\n",
    "from copy import deepcopy\n",
    "from QCreator import elements\n",
    "from QCreator import general_sample_creator as creator"
   ]
  },
  {
   "cell_type": "code",
   "execution_count": 2,
   "metadata": {},
   "outputs": [],
   "source": [
    "tl_core = 20\n",
    "tl_gap = 12\n",
    "tl_ground = 10\n",
    "\n",
    "resonator_core = 8\n",
    "resonator_gap = 7\n",
    "resonator_ground = 16\n",
    "\n",
    "pad_offset = 1000\n",
    "pad_element_offset = 1000\n",
    "\n",
    "coupler_start = pad_offset + pad_element_offset\n",
    "coupler_delta = 500\n",
    "coupler_length = 300\n",
    "num_couplers = 1"
   ]
  },
  {
   "cell_type": "markdown",
   "metadata": {},
   "source": [
    "# Transmission line with resonator (failed version)"
   ]
  },
  {
   "cell_type": "code",
   "execution_count": 9,
   "metadata": {},
   "outputs": [],
   "source": [
    "reload(gdspy)\n",
    "reload(creator)\n",
    "reload(elements)\n",
    "\n",
    "layers_configuration = {\n",
    "    'total':0,\n",
    "    'restricted area':10,\n",
    "    'for removing':100,\n",
    "    'JJs':1,\n",
    "    'air bridges':2,\n",
    "    'air bridge pads':3,\n",
    "    'vertical gridlines':15,\n",
    "    'horizontal gridlines':16,\n",
    "     'inverted':20\n",
    "}\n",
    "sample = creator.Sample('4_qubits',layers_configuration)\n",
    "\n",
    "#specify sample vertical and horizontal lengths\n",
    "sample.chip_geometry.sample_vertical_size=4.7e3\n",
    "sample.chip_geometry.sample_horizontal_size=9.7e3\n",
    "\n",
    "central_line_y = sample.chip_geometry.sample_vertical_size/2\n",
    "\n",
    "ChichkovAB = elements.AirBridge(width=15, \n",
    "                                length=60, \n",
    "                                padsize=30, \n",
    "                                min_spacing = 30,\n",
    "                                layer_configuration=sample.layer_configuration)\n",
    "\n",
    "chip_edge_ground = elements.ChipEdgeGround(sample.chip_geometry, sample.layer_configuration, sample.pads)\n",
    "sample.add(chip_edge_ground)\n",
    "\n",
    "grid_ground = elements.GridGround(sample.chip_geometry, sample.layer_configuration, sample.objects, \n",
    "                                  width=4, period=500)\n",
    "sample.add(grid_ground)\n",
    "\n",
    "# 1. Create contact pads:\n",
    "\n",
    "p1 = elements.Pad('p1', (pad_offset,  central_line_y), np.pi, tl_core, tl_gap, tl_ground, \n",
    "                  layer_configuration=sample.layer_configuration, chip_geometry=sample.chip_geometry, \n",
    "                  **elements.default_pad_geometry())\n",
    "p2 = elements.Pad('p2', (sample.chip_geometry.sample_horizontal_size-pad_offset,  central_line_y), \n",
    "                  0, tl_core, tl_gap, tl_ground, \n",
    "                  layer_configuration=sample.layer_configuration, chip_geometry=sample.chip_geometry, \n",
    "                  **elements.default_pad_geometry())\n",
    "sample.add(p1)\n",
    "sample.add(p2)\n",
    "\n",
    "def draw_single_resonator(coupler_start_x, coupler_start_y, coupler_length,\n",
    "                         resonator_core, resonator_ground, tl_core, resonator_gap, tl_gap, grounding_width,\n",
    "                         closed_end_meander_length, open_length):\n",
    "    # 2. Create main copler:\n",
    "    total_length=0\n",
    "\n",
    "    main_coupler = elements.CPWCoupler('TL-resonator coupler', [(coupler_start_x, central_line_y), \n",
    "                                                                (coupler_start_x+coupler_length, central_line_y)],\n",
    "                                       [resonator_core, resonator_ground, tl_core],[resonator_gap, resonator_gap, tl_gap, tl_gap],\n",
    "                                       tl_ground, sample.layer_configuration, r=100)\n",
    "    sample.add(main_coupler)\n",
    "    total_length = total_length + coupler_length\n",
    "\n",
    "    # 3. Create fanout to create closed end of resonator\n",
    "    fanout_for_closed_end = sample.fanout(o=main_coupler, port='port1', name='closed end resonator fanout', grouping=[1, 3])\n",
    "\n",
    "    # 4. \n",
    "    g1 = sample.ground(o=fanout_for_closed_end, port='center', name='cl1', grounding_width=grounding_width, grounding_between = [(2,3)])\n",
    "\n",
    "    # 6. Create closed meander of resonator\n",
    "    closed_end_meander = sample.connect_meander(name='closed end', o1=fanout_for_closed_end, port1='up',\n",
    "                                                meander_length=closed_end_meander_length,\n",
    "                                                length_left =150,\n",
    "                                                length_right =300,\n",
    "                                                first_step_orientation ='left',\n",
    "                                                meander_orientation = 0,meander_type='round')\n",
    "    print(closed_end_meander.length)\n",
    "#                                                 end_point=(1500,1500),\n",
    "#                                                end_orientation=0)\n",
    "    total_length = total_length + closed_end_meander.length\n",
    "    # 7. Create grounding of resonator\n",
    "# #     resonator_ground_ = sample.ground(o=closed_end_meander, port='port2', name='resonator ground', grounding_width=30, grounding_between = [(0,2)])\n",
    "   \n",
    "#     # 8. Create fanout to create open end of resonator\n",
    "#     fanout_for_open_end = sample.fanout(o=main_coupler, port='port2', name='open end resonator fanout', grouping=[1, 3])\n",
    "\n",
    "#     # 9. \n",
    "#     g2 = sample.ground(o=fanout_for_open_end, port='center', name='cl2', grounding_width=10, grounding_between = [(0,1)])\n",
    "\n",
    "#     # 10. Create open end of resonator\n",
    "#     open_end = elements.OpenEnd(name='open end',position=(fanout_for_open_end.get_terminals()['down'].position[0],\n",
    "#                                                                    fanout_for_open_end.get_terminals()['down'].position[1]-open_length),\n",
    "#                                          w=[resonator_core],\n",
    "#                                          s=[resonator_gap, resonator_gap],\n",
    "#                                          g=tl_ground,\n",
    "#                                          orientation=-np.pi/2,\n",
    "#                                          layer_configuration=sample.layer_configuration,\n",
    "#                                          h1=20,\n",
    "#                                           h2=10,\n",
    "#                                          )\n",
    "#     sample.add(open_end)\n",
    "#     # 11. Connect open end with the coupler part of the resonator\n",
    "#     open_end_resonator = sample.connect_cpw(fanout_for_open_end,open_end,'down','wide',name='right open end',points=[])\n",
    "#     total_length = total_length + open_end_resonator.length\n",
    "    res_params = total_length#,open_end_resonator.z0,open_end_resonator.cl)\n",
    "    g2=0\n",
    "    return g1, g2, res_params,closed_end_meander"
   ]
  },
  {
   "cell_type": "code",
   "execution_count": 10,
   "metadata": {},
   "outputs": [
    {
     "name": "stdout",
     "output_type": "stream",
     "text": [
      "Meander\n",
      "meander is too small, N=0\n",
      "[(1989.0, 2299.0), (1989.0, 2249.0), (2139.0, 2249.0), (2207.0, 2249.0)]\n",
      "250.83185307179588\n",
      "250.83185307179588\n"
     ]
    }
   ],
   "source": [
    "g1, g2,res_params,meander = draw_single_resonator(coupler_start, central_line_y, coupler_length,\n",
    "                        resonator_core, resonator_ground, tl_core, resonator_gap, tl_gap, grounding_width=10,\n",
    "                        closed_end_meander_length=250, open_length=1000)\n",
    "# g3, g4 = draw_single_resonator(coupler_start+1000, central_line_y, coupler_length,\n",
    "#                         resonator_core, resonator_ground, tl_core, resonator_gap, tl_gap, grounding_width=10,\n",
    "#                         closed_end_meander_length=2500, open_length=1100)\n",
    "# 5. Create left part of transmission line\n",
    "# left_TL = sample.connect_cpw(o1=p1, o2=g1, port1='port', port2='narrow', name='left TL', points=[])\n",
    "# 9. Create middle part of transmission line\n",
    "# middle_TL = sample.connect_cpw(o1=g3, o2=g2, port1='narrow', port2='narrow', name='middle TL', points=[])\n",
    "# 9. Create left part of transmission line\n",
    "# right_TL = sample.connect_cpw(o1=p2, o2=g2, port1='port', port2='narrow', name='right TL', points=[])"
   ]
  },
  {
   "cell_type": "code",
   "execution_count": 11,
   "metadata": {},
   "outputs": [
    {
     "name": "stdout",
     "output_type": "stream",
     "text": [
      "Gds file has been writen here:  C:\\Python\\Github\\QCreator\\example_notebooks\\4_qubits.gds\n"
     ]
    }
   ],
   "source": [
    "design = sample.draw_design()\n",
    "sample.write_to_gds()\n",
    "sample.watch()"
   ]
  },
  {
   "cell_type": "code",
   "execution_count": 12,
   "metadata": {},
   "outputs": [],
   "source": [
    "def search_for_resonators(f,delta):\n",
    "    res_modes = []\n",
    "    qs=f/delta*2\n",
    "    min_freq=4e9\n",
    "    max_freq=10e9\n",
    "    min_Q=1e3\n",
    "    max_Q=100e3\n",
    "    for mode_id in range(len(qs)):\n",
    "#         print(qs[mode_id])\n",
    "#         print(f[mode_id])\n",
    "        if min_Q<=qs[mode_id]<=max_Q and min_freq<=f[mode_id]/2/np.pi<=max_freq:\n",
    "            res_modes.append(mode_id)\n",
    "    print(f[res_modes]/(2*np.pi)/1e9, delta[res_modes]/1e6, qs[res_modes])\n",
    "    return f[res_modes]/(2*np.pi)/1e9, delta[res_modes]/1e6, qs[res_modes]"
   ]
  },
  {
   "cell_type": "code",
   "execution_count": null,
   "metadata": {},
   "outputs": [],
   "source": []
  },
  {
   "cell_type": "code",
   "execution_count": 16,
   "metadata": {},
   "outputs": [
    {
     "name": "stdout",
     "output_type": "stream",
     "text": [
      "Wall time: 413 ms\n"
     ]
    },
    {
     "data": {
      "text/plain": [
       "(array([ 7.80908273,  8.08398634, 15.9885595 , 19.61257439, 20.16517046,\n",
       "        24.25191625, 24.59531461, 26.29920764, 26.3684321 , 31.12777179]),\n",
       " array([ 7.30791791e+04,  7.04520780e-01,  7.04234789e+04,  1.17396573e+05,\n",
       "         7.45943853e+04,  6.19778668e+00,  2.38444996e+05,  1.47253965e+04,\n",
       "         1.40476199e+04, -1.01863457e+05]),\n",
       " array([ 3.35703784e-01,  3.60480384e+04,  7.13249925e-01,  5.24842575e-01,\n",
       "         8.49269702e-01,  1.22930404e+04,  3.24051505e-01,  5.61080970e+00,\n",
       "         5.89700414e+00, -9.60018268e-01]))"
      ]
     },
     "execution_count": 16,
     "metadata": {},
     "output_type": "execute_result"
    }
   ],
   "source": [
    "%%time\n",
    "sys, connections, elements_ = sample.get_tls()\n",
    "f, delta, modes = sys.get_modes()\n",
    "f[:10]/(2*np.pi)/1e9, delta[:10]/1e6,f[:10]/delta[:10]/2 \n",
    "# search_for_resonators(f,delta)"
   ]
  },
  {
   "cell_type": "code",
   "execution_count": 19,
   "metadata": {},
   "outputs": [
    {
     "data": {
      "text/plain": [
       "(7.713980526131971, 39598.561727055116)"
      ]
     },
     "execution_count": 19,
     "metadata": {},
     "output_type": "execute_result"
    }
   ],
   "source": [
    "f[0]/(2*np.pi) / 1e9, (f[0]/(2*np.pi)) / (delta[0]/(2*np.pi) * 2)"
   ]
  },
  {
   "cell_type": "code",
   "execution_count": 20,
   "metadata": {},
   "outputs": [
    {
     "name": "stdout",
     "output_type": "stream",
     "text": [
      "[7.67501764] [0.54469301] [44266.73081401]\n",
      "Wall time: 913 ms\n"
     ]
    },
    {
     "data": {
      "text/plain": [
       "(array([7.67501764]), array([0.54469301]), array([44266.73081401]))"
      ]
     },
     "execution_count": 20,
     "metadata": {},
     "output_type": "execute_result"
    }
   ],
   "source": [
    "%%time\n",
    "sys, connections, elements_ = sample.get_tls()\n",
    "f, delta, modes = sys.get_modes()\n",
    "# f[:10]/(2*np.pi)/1e9, delta[:10]/1e6,f[:10]/delta[:10]/2 \n",
    "search_for_resonators(f,delta)"
   ]
  },
  {
   "cell_type": "code",
   "execution_count": 38,
   "metadata": {},
   "outputs": [
    {
     "data": {
      "text/plain": [
       "(3599.8739999580002, 56.784268722636455, 1.4656184980033523e-16)"
      ]
     },
     "execution_count": 38,
     "metadata": {},
     "output_type": "execute_result"
    }
   ],
   "source": [
    "res_params"
   ]
  },
  {
   "cell_type": "code",
   "execution_count": 25,
   "metadata": {},
   "outputs": [
    {
     "data": {
      "text/plain": [
       "3872.79631947357"
      ]
     },
     "execution_count": 25,
     "metadata": {},
     "output_type": "execute_result"
    }
   ],
   "source": [
    "res_params[0]+40e-15/res_params[-1]"
   ]
  },
  {
   "cell_type": "code",
   "execution_count": 20,
   "metadata": {},
   "outputs": [
    {
     "name": "stderr",
     "output_type": "stream",
     "text": [
      "..\\QCreator\\general_sample_creator.py:388: FutureWarning: `rcond` parameter will change to the default of machine precision times ``max(M, N)`` where M and N are the input matrix dimensions.\n",
      "To use the future default and silence this warning we advise to pass `rcond=None`, to keep using the old, explicitly pass `rcond=-1`.\n",
      "  s.append(np.linalg.lstsq(m, boundary)[0][a2[0]])\n"
     ]
    },
    {
     "name": "stdout",
     "output_type": "stream",
     "text": [
      "Wall time: 27.1 s\n"
     ]
    },
    {
     "data": {
      "text/plain": [
       "[<matplotlib.lines.Line2D at 0x1a2ac742580>]"
      ]
     },
     "execution_count": 20,
     "metadata": {},
     "output_type": "execute_result"
    },
    {
     "data": {
      "image/png": "[encoded data removed]",
      "text/plain": [
       "<Figure size 432x288 with 1 Axes>"
      ]
     },
     "metadata": {
      "needs_background": "light"
     },
     "output_type": "display_data"
    }
   ],
   "source": [
    "%%time\n",
    "f_ = np.linspace(8e9, 8.2e9, 5001)\n",
    "# s11 = sample.get_s21('p1', 'p1', f_)\n",
    "s21 = sample.get_s21('p1', 'p2', f_)\n",
    "from matplotlib import pyplot as plt\n",
    "# plt.plot(f_, np.abs(s11))\n",
    "plt.plot(f_, np.abs(s21))"
   ]
  },
  {
   "cell_type": "code",
   "execution_count": 24,
   "metadata": {},
   "outputs": [
    {
     "ename": "ModuleNotFoundError",
     "evalue": "No module named 'resonator_tools'",
     "output_type": "error",
     "traceback": [
      "\u001b[1;31m---------------------------------------------------------------------------\u001b[0m",
      "\u001b[1;31mModuleNotFoundError\u001b[0m                       Traceback (most recent call last)",
      "\u001b[1;32m<ipython-input-24-26b05d1452fb>\u001b[0m in \u001b[0;36m<module>\u001b[1;34m\u001b[0m\n\u001b[1;32m----> 1\u001b[1;33m \u001b[1;32mimport\u001b[0m \u001b[0mresonator_tools\u001b[0m\u001b[1;33m\u001b[0m\u001b[1;33m\u001b[0m\u001b[0m\n\u001b[0m\u001b[0;32m      2\u001b[0m \u001b[1;32mfrom\u001b[0m \u001b[0mresonator_tools\u001b[0m\u001b[1;33m.\u001b[0m\u001b[0mcircuit\u001b[0m \u001b[1;32mimport\u001b[0m \u001b[0mnotch_port\u001b[0m\u001b[1;33m,\u001b[0m \u001b[0mreflection_port\u001b[0m\u001b[1;33m\u001b[0m\u001b[1;33m\u001b[0m\u001b[0m\n",
      "\u001b[1;31mModuleNotFoundError\u001b[0m: No module named 'resonator_tools'"
     ]
    }
   ],
   "source": [
    "import resonator_tools\n",
    "from resonator_tools.circuit import notch_port, reflection_port"
   ]
  },
  {
   "cell_type": "code",
   "execution_count": 32,
   "metadata": {},
   "outputs": [],
   "source": [
    "fitter = notch_port(f_data=f_, z_data_raw=s21)"
   ]
  },
  {
   "cell_type": "code",
   "execution_count": 33,
   "metadata": {},
   "outputs": [
    {
     "name": "stderr",
     "output_type": "stream",
     "text": [
      "E:\\py38\\lib\\site-packages\\scipy\\optimize\\minpack.py:475: RuntimeWarning: Number of calls to function has reached maxfev = 200.\n",
      "  warnings.warn(errors[info][0], RuntimeWarning)\n"
     ]
    }
   ],
   "source": [
    "fitter.autofit()"
   ]
  },
  {
   "cell_type": "code",
   "execution_count": 34,
   "metadata": {},
   "outputs": [
    {
     "data": {
      "image/png": "[encoded data removed]",
      "text/plain": [
       "<Figure size 1080x360 with 3 Axes>"
      ]
     },
     "metadata": {
      "needs_background": "light"
     },
     "output_type": "display_data"
    }
   ],
   "source": [
    "fitter.plotall()"
   ]
  },
  {
   "cell_type": "code",
   "execution_count": 35,
   "metadata": {},
   "outputs": [
    {
     "data": {
      "text/plain": [
       "{'Qi_dia_corr': -61786634147.744675,\n",
       " 'Qi_no_corr': -563357774.5257353,\n",
       " 'absQc': 53844.26363585252,\n",
       " 'Qc_dia_corr': 53849.36348997791,\n",
       " 'Ql': 53849.41042175394,\n",
       " 'fr': 6942189472.323195,\n",
       " 'theta0': -3.127829986616499,\n",
       " 'phi0': 0.013762806859149091,\n",
       " 'chi_square': 4.4929781902268117e-07,\n",
       " 'delay': 6.327872346361034e-11,\n",
       " 'a': 0.9997246446119027,\n",
       " 'alpha': 3.090242741026523}"
      ]
     },
     "execution_count": 35,
     "metadata": {},
     "output_type": "execute_result"
    }
   ],
   "source": [
    "fitter.fitresults"
   ]
  },
  {
   "cell_type": "code",
   "execution_count": null,
   "metadata": {},
   "outputs": [],
   "source": []
  },
  {
   "cell_type": "code",
   "execution_count": 4,
   "metadata": {},
   "outputs": [],
   "source": [
    "def draw_double_resonator(coupler_start_x, coupler_start_y, coupler_length,\n",
    "                         resonator_core, resonator_ground, tl_core, resonator_gap, tl_gap, grounding_width,\n",
    "                         closed_end_meander_length1, open_length1, closed_end_meander_length2, open_length2):\n",
    "    # 2. Create main copler:\n",
    "\n",
    "    main_coupler = elements.CPWCoupler('TL-resonator coupler', [(coupler_start, central_line_y), \n",
    "                                                                (coupler_start+coupler_length, central_line_y)],\n",
    "                                       [resonator_core, resonator_ground, tl_core, resonator_ground, resonator_core],\n",
    "                                       [resonator_gap, resonator_gap, tl_gap, tl_gap, resonator_gap, resonator_gap],\n",
    "                                       tl_ground, sample.layer_configuration, r=100)\n",
    "    sample.add(main_coupler)\n",
    "\n",
    "    # 3. Create fanout to create closed end of resonator\n",
    "    fanout_for_closed_end = sample.fanout(o=main_coupler, port='port1', name='closed end resonator fanout', grouping=[1, 4])\n",
    "\n",
    "    # 4. \n",
    "    g1 = sample.ground(o=fanout_for_closed_end, port='center', name='cl1', grounding_width=grounding_width, grounding_between = [(0,1), (3,4)])\n",
    "\n",
    "    # 6. Create closed meander of resonator\n",
    "    closed_end_meander1 = sample.connect_meander(name='closed end 1', o1=fanout_for_closed_end, port1='up',\n",
    "                                                meander_length=closed_end_meander_length1,restricted_scale=400, constant_scale=900, radius=0)\n",
    "    \n",
    "    closed_end_meander2 = sample.connect_meander(name='closed end 2', o1=fanout_for_closed_end, port1='down',\n",
    "                                                meander_length=closed_end_meander_length2,restricted_scale=400, constant_scale=900, radius=0)\n",
    "\n",
    "    # 7. Create fanout to create closed enfd of resonator\n",
    "    fanout_for_open_end = sample.fanout(o=main_coupler, port='port2', name='open end resonator fanout', grouping=[1, 4])\n",
    "\n",
    "    # 8. \n",
    "    g2 = sample.ground(o=fanout_for_open_end, port='center', name='cl2', grounding_width=10, grounding_between = [(0,1), (3,4)])\n",
    "\n",
    "    # 10. Create closed meander of resonator\n",
    "    open_end_resonator1 = elements.CPW(name='open end resonator 1', points=[fanout_for_open_end.get_terminals()['down'].position, \n",
    "                                                                         (fanout_for_open_end.get_terminals()['down'].position[0],\n",
    "                                                                          fanout_for_open_end.get_terminals()['down'].position[1]-open_length1)],\n",
    "                                      w=fanout_for_open_end.get_terminals()['down'].w, s=fanout_for_open_end.get_terminals()['down'].s,\n",
    "                                      g=fanout_for_open_end.get_terminals()['down'].g, layer_configuration=sample.layer_configuration, r=25)\n",
    "    sample.add(open_end_resonator1)\n",
    "    sample.connections.append(((fanout_for_open_end, 'down', 0), (open_end_resonator1, 'port1', 0)))\n",
    "    \n",
    "    open_end_resonator2 = elements.CPW(name='open end resonator 2', points=[fanout_for_open_end.get_terminals()['up'].position, \n",
    "                                                                         (fanout_for_open_end.get_terminals()['up'].position[0],\n",
    "                                                                          fanout_for_open_end.get_terminals()['up'].position[1]+open_length2)],\n",
    "                                      w=fanout_for_open_end.get_terminals()['up'].w, s=fanout_for_open_end.get_terminals()['up'].s,\n",
    "                                      g=fanout_for_open_end.get_terminals()['up'].g, layer_configuration=sample.layer_configuration, r=25)\n",
    "    sample.add(open_end_resonator2)\n",
    "    sample.connections.append(((fanout_for_open_end, 'up', 0), (open_end_resonator2, 'port1', 0)))\n",
    "\n",
    "    # 11. Create grounding of resonator\n",
    "    resonator_ground_1 = sample.ground(o=closed_end_meander1, port='port2', name='resonator ground 1', grounding_width=30, grounding_between = [(0,2)])\n",
    "    resonator_ground_2 = sample.ground(o=closed_end_meander2, port='port2', name='resonator ground 2', grounding_width=30, grounding_between = [(0,2)])\n",
    "    \n",
    "    return g1, g2"
   ]
  }
 ],
 "metadata": {
  "kernelspec": {
   "display_name": "Python 3",
   "language": "python",
   "name": "python3"
  },
  "language_info": {
   "codemirror_mode": {
    "name": "ipython",
    "version": 3
   },
   "file_extension": ".py",
   "mimetype": "text/x-python",
   "name": "python",
   "nbconvert_exporter": "python",
   "pygments_lexer": "ipython3",
   "version": "3.9.1"
  }
 },
 "nbformat": 4,
 "nbformat_minor": 2
}
