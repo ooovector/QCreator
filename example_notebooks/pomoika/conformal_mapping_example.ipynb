{
 "cells": [
  {
   "cell_type": "markdown",
   "metadata": {},
   "source": [
    "This calculation is based on the paper used in the website:\n",
    "https://smm.misis.ru/CPW-resonator-coupling/"
   ]
  },
  {
   "cell_type": "code",
   "execution_count": 1,
   "metadata": {
    "ExecuteTime": {
     "end_time": "2020-08-15T17:03:25.962967Z",
     "start_time": "2020-08-15T17:03:25.291380Z"
    }
   },
   "outputs": [],
   "source": [
    "from сonformal_mapping import *\n",
    "import numpy as np\n",
    "import pandas as pd"
   ]
  },
  {
   "cell_type": "markdown",
   "metadata": {},
   "source": [
    "an **epsilon value** of an used dielectric wafer can be changed inside the сonformal_mapping library\n",
    "\n",
    "the **default value is 11.45**"
   ]
  },
  {
   "cell_type": "markdown",
   "metadata": {},
   "source": [
    "# Used structure"
   ]
  },
  {
   "cell_type": "markdown",
   "metadata": {},
   "source": [
    "picture is taken from the website specified above"
   ]
  },
  {
   "cell_type": "markdown",
   "metadata": {
    "ExecuteTime": {
     "end_time": "2020-08-05T21:59:26.600930Z",
     "start_time": "2020-08-05T21:59:26.567957Z"
    }
   },
   "source": [
    "![alt text](example.png \"Title\")"
   ]
  },
  {
   "cell_type": "markdown",
   "metadata": {},
   "source": [
    "write down the widths of lines and spaces sequentially: AB,BC..."
   ]
  },
  {
   "cell_type": "code",
   "execution_count": 2,
   "metadata": {
    "ExecuteTime": {
     "end_time": "2020-08-15T17:03:27.863769Z",
     "start_time": "2020-08-15T17:03:27.859741Z"
    }
   },
   "outputs": [],
   "source": [
    "result=ConformalMapping([4,7,4,6,4,7,4])\n",
    "feedline=0\n",
    "resonator=2"
   ]
  },
  {
   "cell_type": "code",
   "execution_count": 3,
   "metadata": {
    "ExecuteTime": {
     "end_time": "2020-08-15T17:03:28.692401Z",
     "start_time": "2020-08-15T17:03:28.670462Z"
    }
   },
   "outputs": [],
   "source": [
    "C, L,Z = result.cl_and_Ll()\n",
    "reduced_table_C=np.asarray([[C[feedline,feedline],C[feedline,resonator]],\n",
    "                            [C[resonator,feedline],C[resonator,resonator]]])\n",
    "reduced_table_L=np.asarray([[L[feedline,feedline],L[feedline,resonator]],\n",
    "                            [L[resonator,feedline],L[resonator,resonator]]])\n",
    "cap, ind=pd.DataFrame(reduced_table_C*1e12),pd.DataFrame(reduced_table_L*1e9)"
   ]
  },
  {
   "cell_type": "code",
   "execution_count": 4,
   "metadata": {
    "ExecuteTime": {
     "end_time": "2020-08-15T17:03:29.205827Z",
     "start_time": "2020-08-15T17:03:29.195856Z"
    }
   },
   "outputs": [
    {
     "data": {
      "text/plain": [
       "array([[66.92711636, 61.69188694, 47.47323038],\n",
       "       [61.69188694, 80.60811746, 61.69188694],\n",
       "       [47.47323038, 61.69188694, 66.92711636]])"
      ]
     },
     "execution_count": 4,
     "metadata": {},
     "output_type": "execute_result"
    }
   ],
   "source": [
    "Z"
   ]
  },
  {
   "cell_type": "code",
   "execution_count": 5,
   "metadata": {
    "ExecuteTime": {
     "end_time": "2020-08-15T17:03:38.237429Z",
     "start_time": "2020-08-15T17:03:38.216468Z"
    }
   },
   "outputs": [
    {
     "data": {
      "text/html": [
       "<div>\n",
       "<style scoped>\n",
       "    .dataframe tbody tr th:only-of-type {\n",
       "        vertical-align: middle;\n",
       "    }\n",
       "\n",
       "    .dataframe tbody tr th {\n",
       "        vertical-align: top;\n",
       "    }\n",
       "\n",
       "    .dataframe thead th {\n",
       "        text-align: right;\n",
       "    }\n",
       "</style>\n",
       "<table border=\"1\" class=\"dataframe\">\n",
       "  <thead>\n",
       "    <tr style=\"text-align: right;\">\n",
       "      <th></th>\n",
       "      <th>0</th>\n",
       "      <th>1</th>\n",
       "    </tr>\n",
       "  </thead>\n",
       "  <tbody>\n",
       "    <tr>\n",
       "      <th>0</th>\n",
       "      <td>165.604763</td>\n",
       "      <td>-10.808861</td>\n",
       "    </tr>\n",
       "    <tr>\n",
       "      <th>1</th>\n",
       "      <td>-10.808861</td>\n",
       "      <td>165.604763</td>\n",
       "    </tr>\n",
       "  </tbody>\n",
       "</table>\n",
       "</div>"
      ],
      "text/plain": [
       "            0           1\n",
       "0  165.604763  -10.808861\n",
       "1  -10.808861  165.604763"
      ]
     },
     "execution_count": 5,
     "metadata": {},
     "output_type": "execute_result"
    }
   ],
   "source": [
    "cap"
   ]
  },
  {
   "cell_type": "code",
   "execution_count": 6,
   "metadata": {
    "ExecuteTime": {
     "end_time": "2020-08-15T17:03:38.873213Z",
     "start_time": "2020-08-15T17:03:38.866230Z"
    }
   },
   "outputs": [
    {
     "data": {
      "text/html": [
       "<div>\n",
       "<style scoped>\n",
       "    .dataframe tbody tr th:only-of-type {\n",
       "        vertical-align: middle;\n",
       "    }\n",
       "\n",
       "    .dataframe tbody tr th {\n",
       "        vertical-align: top;\n",
       "    }\n",
       "\n",
       "    .dataframe thead th {\n",
       "        text-align: right;\n",
       "    }\n",
       "</style>\n",
       "<table border=\"1\" class=\"dataframe\">\n",
       "  <thead>\n",
       "    <tr style=\"text-align: right;\">\n",
       "      <th></th>\n",
       "      <th>0</th>\n",
       "      <th>1</th>\n",
       "    </tr>\n",
       "  </thead>\n",
       "  <tbody>\n",
       "    <tr>\n",
       "      <th>0</th>\n",
       "      <td>500.619333</td>\n",
       "      <td>108.005291</td>\n",
       "    </tr>\n",
       "    <tr>\n",
       "      <th>1</th>\n",
       "      <td>108.005291</td>\n",
       "      <td>500.619333</td>\n",
       "    </tr>\n",
       "  </tbody>\n",
       "</table>\n",
       "</div>"
      ],
      "text/plain": [
       "            0           1\n",
       "0  500.619333  108.005291\n",
       "1  108.005291  500.619333"
      ]
     },
     "execution_count": 6,
     "metadata": {},
     "output_type": "execute_result"
    }
   ],
   "source": [
    "ind"
   ]
  },
  {
   "cell_type": "code",
   "execution_count": 12,
   "metadata": {
    "ExecuteTime": {
     "end_time": "2020-08-15T17:04:29.103874Z",
     "start_time": "2020-08-15T17:04:29.092475Z"
    }
   },
   "outputs": [],
   "source": [
    "coupling_matrix = np.sqrt(reduced_table_L@np.linalg.inv(reduced_table_C))"
   ]
  },
  {
   "cell_type": "code",
   "execution_count": 14,
   "metadata": {
    "ExecuteTime": {
     "end_time": "2020-08-15T17:05:00.234512Z",
     "start_time": "2020-08-15T17:05:00.229494Z"
    }
   },
   "outputs": [
    {
     "data": {
      "text/plain": [
       "array([[66.92711636, 61.69188694, 47.47323038],\n",
       "       [61.69188694, 80.60811746, 61.69188694],\n",
       "       [47.47323038, 61.69188694, 66.92711636]])"
      ]
     },
     "execution_count": 14,
     "metadata": {},
     "output_type": "execute_result"
    }
   ],
   "source": [
    "np.sqrt(L@np.linalg.inv(C))"
   ]
  },
  {
   "cell_type": "code",
   "execution_count": 13,
   "metadata": {
    "ExecuteTime": {
     "end_time": "2020-08-15T17:04:30.931430Z",
     "start_time": "2020-08-15T17:04:30.926870Z"
    }
   },
   "outputs": [
    {
     "data": {
      "text/plain": [
       "array([[55.48566933, 29.20835839],\n",
       "       [29.20835839, 55.48566933]])"
      ]
     },
     "execution_count": 13,
     "metadata": {},
     "output_type": "execute_result"
    }
   ],
   "source": [
    "coupling_matrix"
   ]
  },
  {
   "cell_type": "code",
   "execution_count": null,
   "metadata": {},
   "outputs": [],
   "source": []
  }
 ],
 "metadata": {
  "kernelspec": {
   "display_name": "Python 3",
   "language": "python",
   "name": "python3"
  },
  "language_info": {
   "codemirror_mode": {
    "name": "ipython",
    "version": 3
   },
   "file_extension": ".py",
   "mimetype": "text/x-python",
   "name": "python",
   "nbconvert_exporter": "python",
   "pygments_lexer": "ipython3",
   "version": "3.8.5"
  },
  "toc": {
   "base_numbering": 1,
   "nav_menu": {},
   "number_sections": true,
   "sideBar": true,
   "skip_h1_title": false,
   "title_cell": "Table of Contents",
   "title_sidebar": "Contents",
   "toc_cell": false,
   "toc_position": {},
   "toc_section_display": true,
   "toc_window_display": false
  }
 },
 "nbformat": 4,
 "nbformat_minor": 2
}
