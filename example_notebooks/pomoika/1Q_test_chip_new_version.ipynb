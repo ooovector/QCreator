{
 "cells": [
  {
   "cell_type": "markdown",
   "metadata": {},
   "source": [
    "## Import design libraries"
   ]
  },
  {
   "cell_type": "code",
   "execution_count": 1,
   "metadata": {},
   "outputs": [],
   "source": [
    "import sys\n",
    "sys.path.append('..')\n",
    "import gdspy\n",
    "import numpy as np\n",
    "from importlib import reload\n",
    "from copy import deepcopy\n",
    "from QCreator import elements\n",
    "from QCreator import general_sample_creator as creator\n",
    "from QCreator import meshing\n",
    "from QCreator.auxiliary_functions import *"
   ]
  },
  {
   "cell_type": "markdown",
   "metadata": {},
   "source": [
    "# Specify constant, everything in microns"
   ]
  },
  {
   "cell_type": "code",
   "execution_count": 2,
   "metadata": {},
   "outputs": [],
   "source": [
    "tl_core = 20.\n",
    "tl_gap = 12.\n",
    "tl_ground = 10.\n",
    "\n",
    "\n",
    "# resonator_core = 7\n",
    "# resonator_gap = 4\n",
    "# resonator_ground = 16\n",
    "resonator_core = 8\n",
    "resonator_gap = 7\n",
    "resonator_ground = 16\n",
    "\n",
    "pad_offset = 800\n",
    "pad_element_offset = 1000\n",
    "qubit_position_offset = 800\n",
    "\n",
    "coupler_start = pad_offset + pad_element_offset\n",
    "coupler_delta = 500\n",
    "coupler_length = 450\n",
    "num_couplers = 1\n"
   ]
  },
  {
   "cell_type": "markdown",
   "metadata": {},
   "source": [
    "# Sample generation"
   ]
  },
  {
   "cell_type": "markdown",
   "metadata": {},
   "source": [
    "## ground and grid, layer config"
   ]
  },
  {
   "cell_type": "code",
   "execution_count": 3,
   "metadata": {},
   "outputs": [],
   "source": [
    "reload(gdspy)\n",
    "reload(creator)\n",
    "reload(elements)\n",
    "\n",
    "\n",
    "layers_configuration = {\n",
    "    'total':0,\n",
    "    'restricted area':10,\n",
    "    'for removing':100,\n",
    "    'JJs':1,\n",
    "    'air bridges':2,\n",
    "    'air bridge pads':3,\n",
    "    'vertical gridlines':15,\n",
    "    'horizontal gridlines':16,\n",
    "    'inverted':17\n",
    "}\n",
    "\n",
    "sample = creator.Sample('1Q_test',layers_configuration)\n",
    "\n",
    "#specify sample vertical and horizontal lengths\n",
    "sample.chip_geometry.sample_vertical_size=4.7e3\n",
    "sample.chip_geometry.sample_horizontal_size=4.7e3\n",
    "# num_qubits_line = 3\n",
    "\n",
    "central_line_y = sample.chip_geometry.sample_vertical_size/2\n",
    "\n",
    "# ChichkovAB = elements.AirBridge(width=15, \n",
    "#                                 length=60, \n",
    "#                                 padsize=30, \n",
    "#                                 min_spacing = 30,\n",
    "#                                 layer_configuration=sample.layer_configuration)\n",
    "\n",
    "chip_edge_ground = elements.ChipEdgeGround(sample.chip_geometry, sample.layer_configuration, sample.pads)\n",
    "sample.add(chip_edge_ground)\n",
    "\n"
   ]
  },
  {
   "cell_type": "markdown",
   "metadata": {},
   "source": [
    "# Contact pads"
   ]
  },
  {
   "cell_type": "code",
   "execution_count": 4,
   "metadata": {},
   "outputs": [],
   "source": [
    "# 1. Create contact pads:\n",
    "pads_left = []\n",
    "pads_right = []\n",
    "for pad_side_id in range(1):\n",
    "    pad = elements.Pad('pad-left-'+str(pad_side_id), \n",
    "                       (pad_offset,  sample.chip_geometry.sample_vertical_size/2), np.pi, tl_core, \n",
    "                       tl_gap, tl_ground, \n",
    "                       layer_configuration=sample.layer_configuration, chip_geometry=sample.chip_geometry, \n",
    "                       **elements.default_pad_geometry())\n",
    "    pads_left.append(pad)\n",
    "    sample.add(pad)\n",
    "    pad = elements.Pad('pad-right-'+str(pad_side_id), \n",
    "                       (sample.chip_geometry.sample_horizontal_size-pad_offset,  \n",
    "                        sample.chip_geometry.sample_vertical_size/2), 0, tl_core, \n",
    "                       tl_gap, tl_ground, \n",
    "                       layer_configuration=sample.layer_configuration, chip_geometry=sample.chip_geometry, \n",
    "                       **elements.default_pad_geometry())\n",
    "    pads_right.append(pad)\n",
    "    sample.add(pad)\n",
    "    \n",
    "pads_top = []\n",
    "pads_bottom = []\n",
    "for pad_side_id in range(3):\n",
    "    pad = elements.Pad('pad-bottom-'+str(pad_side_id), \n",
    "                       (sample.chip_geometry.sample_horizontal_size/4*(pad_side_id+1), pad_offset), \n",
    "                       -np.pi/2, tl_core, tl_gap, tl_ground, \n",
    "                       layer_configuration=sample.layer_configuration, chip_geometry=sample.chip_geometry, \n",
    "                       **elements.default_pad_geometry())\n",
    "    pads_bottom.append(pad)\n",
    "    sample.add(pad)\n",
    "    pad = elements.Pad('pad-top-'+str(pad_side_id), \n",
    "                       (sample.chip_geometry.sample_horizontal_size/4*(pad_side_id+1),\n",
    "                        sample.chip_geometry.sample_vertical_size-pad_offset), \n",
    "                        np.pi/2, tl_core, tl_gap, tl_ground, \n",
    "                       layer_configuration=sample.layer_configuration, chip_geometry=sample.chip_geometry, \n",
    "                       **elements.default_pad_geometry())\n",
    "    pads_top.append(pad)\n",
    "    sample.add(pad)\n",
    "    \n",
    "p1 = pads_left[0]\n",
    "p2 = pads_right[0]"
   ]
  },
  {
   "cell_type": "markdown",
   "metadata": {},
   "source": [
    "# Coaxmons"
   ]
  },
  {
   "cell_type": "code",
   "execution_count": 5,
   "metadata": {
    "scrolled": true
   },
   "outputs": [
    {
     "name": "stderr",
     "output_type": "stream",
     "text": [
      "C:\\Users\\di82dac\\Anaconda3\\envs\\qcreator\\lib\\site-packages\\gdspy\\path.py:827: UserWarning: [GDSPY] Possible inconsistency found in `FlexPath` due to sharp corner.\n",
      "  warnings.warn(\n"
     ]
    }
   ],
   "source": [
    "shift=-1/10\n",
    "phi1=1/5\n",
    "Couplers_qubit_alone=[elements.coaxmon.CoaxmonCoupler(arc_start=-1/6-1/100+shift,arc_finish=-3/6+1/100+shift,phi=-1/2,\n",
    "                                          coupler_type= None, w =10,g=10),\n",
    "        elements.coaxmon.CoaxmonCoupler(arc_start=3/6+1/100+shift,arc_finish=5/6-1/100+shift,phi=1/2, \n",
    "                                          coupler_type=None, w =8,g=10,s=7), #one upper\n",
    "          elements.coaxmon.CoaxmonCoupler(arc_start=1/6+1/100+shift+1/20,arc_finish=3/6-1/100+shift-1/10,phi=phi1,\n",
    "                                          coupler_type='coupler', w =8,g=10,s=7),# for resonator\n",
    "          elements.coaxmon.CoaxmonCoupler(arc_start=-1/6+1/100+1+shift,arc_finish=1/6-1/100+1+shift,phi=1,\n",
    "                                          coupler_type=None, w =10),\n",
    "          elements.coaxmon.CoaxmonCoupler(arc_start=-1/6+1/100+shift,arc_finish=1/6-1/100+shift,phi=0,\n",
    "                                          coupler_type=None, w =10,g=40),\n",
    "          elements.coaxmon.CoaxmonCoupler(arc_start=-5/6+1/100+shift,arc_finish=-3/6-1/100+shift,phi=1,\n",
    "                                          coupler_type='grounded',w=4,g=4)\n",
    "]\n",
    "Couplers_two_qubits=[elements.coaxmon.CoaxmonCoupler(arc_start=-1/6-1/100+shift,arc_finish=-3/6+1/100+shift,phi=-1/2,\n",
    "                                          coupler_type=None, w =10,g=4),\n",
    "          elements.coaxmon.CoaxmonCoupler(arc_start=1/6+1/100+shift+1/20,arc_finish=3/6-1/100+shift-1/20,phi=phi1,\n",
    "                                          coupler_type='coupler', w =8,g=10, s=7),# for resonator\n",
    "          elements.coaxmon.CoaxmonCoupler(arc_start=3/6+1/100+shift,arc_finish=5/6-1/100+shift,phi=1/2, \n",
    "                                          coupler_type=None, w =10,g=40), #one upper -!!!!!!!! should be coupler\n",
    "          elements.coaxmon.CoaxmonCoupler(arc_start=-1/6+1/100+1+shift,arc_finish=1/6-1/100+1+shift,phi=1,\n",
    "                                          coupler_type=None, w =10,g=40),\n",
    "          elements.coaxmon.CoaxmonCoupler(arc_start=-1/6+1/100+shift,arc_finish=1/6-1/100+shift,phi=0,\n",
    "                                          coupler_type=None, w =10,g=40),\n",
    "          elements.coaxmon.CoaxmonCoupler(arc_start=-5/6+1/100+shift,arc_finish=-3/6-1/100+shift,phi=1,\n",
    "                                          coupler_type='grounded',w=4,g=4)\n",
    "]\n",
    "\n",
    "jj_coaxmon = {'a1':30,\n",
    "               'b1':0.8,\n",
    "               'a2':0.45,\n",
    "               'b2':0.243,\n",
    "               'c1':0.243,\n",
    "               'c2':10,\n",
    "               'angle_qubit':-np.pi/2-np.pi/3,\n",
    "               'angle_JJ': 0,\n",
    "               'length':10,\n",
    "               'width':4}\n",
    "# add first coaxmon\n",
    "coaxmon1= elements.coaxmon.Coaxmon(name='Coaxmon1',center=(coupler_start-500,central_line_y-500),\n",
    "                          center_radius = 100,\n",
    "                          inner_couplers_radius = 140,\n",
    "                          outer_couplers_radius = 200,\n",
    "                          inner_ground_radius = 230,\n",
    "                          outer_ground_radius = 250,\n",
    "                          layer_configuration = sample.layer_configuration,\n",
    "                          Couplers=Couplers_two_qubits,jj_params= jj_coaxmon,transformations={},\n",
    "                          calculate_capacitance = True)\n",
    "sample.add(coaxmon1)\n",
    "transformations={'mirror':[(coupler_start,central_line_y),(coupler_start+10,central_line_y)]}\n",
    "coaxmon2= elements.coaxmon.Coaxmon(name='Coaxmon2',center=(coupler_start-500,central_line_y-500),\n",
    "                          center_radius = 100,\n",
    "                          inner_couplers_radius = 140,\n",
    "                          outer_couplers_radius = 200,\n",
    "                          inner_ground_radius = 230,\n",
    "                          outer_ground_radius = 250,\n",
    "                          layer_configuration = sample.layer_configuration,\n",
    "                          Couplers=Couplers_two_qubits,jj_params= jj_coaxmon,transformations=transformations,\n",
    "                          calculate_capacitance = True)\n",
    "\n",
    "sample.add(coaxmon2)\n",
    "sample.draw_design()\n",
    "g1,g2 = draw_double_resonator_plus_double_qubit(sample,elements,\n",
    "                         coupler_start-200, central_line_y, coupler_length,\n",
    "                         resonator_core,resonator_gap,resonator_ground,\n",
    "                         tl_core, tl_gap,tl_ground, \n",
    "                         grounding_width=10,\n",
    "                         closed_end_meander_length1=2300,length_left1=150,length_right1=150,\n",
    "                         closed_end_meander_length2=3000,length_left2=350,length_right2=50,\n",
    "                         open_end_shift_length1=50,open_end_shift_length2=50,\n",
    "                         qubit1=coaxmon1 ,coupler_name1='coupler1', qubit2 =coaxmon2,coupler_name2='coupler1',\n",
    "                             orientation='right')\n",
    "# add third coaxmon\n",
    "coaxmon3= elements.coaxmon.Coaxmon(name='Coaxmon3',center=(coupler_start+600,central_line_y-1000),\n",
    "                          center_radius = 100,\n",
    "                          inner_couplers_radius = 140,\n",
    "                          outer_couplers_radius = 200,\n",
    "                          inner_ground_radius = 230,\n",
    "                          outer_ground_radius = 250,\n",
    "                          layer_configuration = sample.layer_configuration,\n",
    "                          Couplers=Couplers_qubit_alone,jj_params= jj_coaxmon,transformations={},\n",
    "                          calculate_capacitance = True)\n",
    "sample.add(coaxmon3)\n",
    "# add fourth coaxmon\n",
    "transformations={'mirror':[(coupler_start+600,central_line_y),(coupler_start+600+10,central_line_y)]}\n",
    "coaxmon4= elements.coaxmon.Coaxmon(name='Coaxmon4',center=(coupler_start+600,central_line_y-1000),\n",
    "                          center_radius = 100,\n",
    "                          inner_couplers_radius = 140,\n",
    "                          outer_couplers_radius = 200,\n",
    "                          inner_ground_radius = 230,\n",
    "                          outer_ground_radius = 250,\n",
    "                          layer_configuration = sample.layer_configuration,\n",
    "                          Couplers=Couplers_qubit_alone,jj_params= jj_coaxmon,transformations=transformations,\n",
    "                          calculate_capacitance = True)\n",
    "sample.add(coaxmon4)\n",
    "sample.draw_design()\n",
    "g3,g4 = draw_double_resonator_plus_double_qubit(sample,elements,coupler_start+600, central_line_y, coupler_length,\n",
    "                        resonator_core,resonator_gap,resonator_ground,\n",
    "                         tl_core, tl_gap,tl_ground, grounding_width=10,\n",
    "                         closed_end_meander_length1=2300,length_left1=150,length_right1=150,\n",
    "                              closed_end_meander_length2=2300,length_left2=250,length_right2=50,\n",
    "                         open_end_shift_length1=500,open_end_shift_length2=500,\n",
    "                         qubit1=coaxmon3 ,coupler_name1='coupler2', qubit2 =coaxmon4,coupler_name2='coupler2',\n",
    "                             orientation='left')\n",
    "\n"
   ]
  },
  {
   "cell_type": "code",
   "execution_count": 10,
   "metadata": {},
   "outputs": [],
   "source": [
    "sample.draw_design()\n",
    "sample.watch()"
   ]
  },
  {
   "cell_type": "markdown",
   "metadata": {},
   "source": [
    "# Coaxmon two qubit couplers"
   ]
  },
  {
   "cell_type": "code",
   "execution_count": 8,
   "metadata": {},
   "outputs": [],
   "source": [
    "# jj_coupler = {'indent':40,\n",
    "#                'a1':0.243,\n",
    "#                'a2':0.243,\n",
    "#                'angle': 0}\n",
    "# fluxline_parameters_vertical={'w':4,\n",
    "#                 's':4,\n",
    "#                 'g':4,\n",
    "#                 'length_x':20,\n",
    "#                 'length_y':25,\n",
    "#                 'width':4}\n",
    "\n",
    "\n",
    "# ################# vertical coupler\n",
    "# squid_coupler = {'a1':5,\n",
    "#                'b1':0.8,\n",
    "#                'a2':0.45,\n",
    "#                'b2':0.243,\n",
    "#                'c1':0.243,\n",
    "#                'c2':10,\n",
    "#                'angle':0,\n",
    "#                'side':'left',\n",
    "#                'point':((coaxmon1.get_terminals()['coupler2'].position[0]+\n",
    "#                          coaxmon2.get_terminals()['coupler2'].position[0])/2-25,\n",
    "#                         (sample.chip_geometry.sample_vertical_size/2+15)),\n",
    "#                 'removing':{'left':30,'right':0,'up':10,'down':37}}\n",
    "               \n",
    "# coupler_qq = elements.tqcoupler.MMCoupler('coupler',qubit1=coaxmon1,coupler1_name='coupler2',\n",
    "#                                        qubit2=coaxmon2,coupler2_name='coupler2',\n",
    "#                                core = 10,\n",
    "#                                gap = 25,\n",
    "#                                ground = 30,\n",
    "#                                layer_configuration = sample.layer_configuration,\n",
    "#                                 jj_params=jj_coupler,squid_params=squid_coupler,fluxline=fluxline_parameters_vertical)\n",
    "# sample.add(coupler_qq)"
   ]
  },
  {
   "cell_type": "markdown",
   "metadata": {},
   "source": [
    "# Xmon qubits"
   ]
  },
  {
   "cell_type": "code",
   "execution_count": 6,
   "metadata": {},
   "outputs": [
    {
     "name": "stderr",
     "output_type": "stream",
     "text": [
      "C:\\Users\\di82dac\\Anaconda3\\envs\\qcreator\\lib\\site-packages\\gdspy\\path.py:827: UserWarning: [GDSPY] Possible inconsistency found in `FlexPath` due to sharp corner.\n",
      "  warnings.warn(\n"
     ]
    }
   ],
   "source": [
    "jj_geometry = {\n",
    "    'gwidth': 56,\n",
    "    'gheight': 18,\n",
    "    'iwidth': 48,\n",
    "    'iheight': 10,\n",
    "    'ithick': 4,\n",
    "    'fheight1': 20,\n",
    "    'fheight2': 40,\n",
    "    'hdist': 4,\n",
    "    'fshoulder': 15,\n",
    "    'fcore': 4,\n",
    "    'fgap': 4,\n",
    "    'gter':4\n",
    "        }\n",
    "jj = {\n",
    "    'type': 2,\n",
    "    'up_rect_h': 12,\n",
    "    'up_rect_w': 12,\n",
    "    'side_rect_h': 6,\n",
    "    'side_rect_w': 6,\n",
    "    'side_l_thick': 0.44,\n",
    "    'side_r_thick': 0.44,\n",
    "    'up_l_thick': 0.44,\n",
    "    'up_r_thick': 0.44\n",
    "}\n",
    "\n",
    "# this will be changed in the future\n",
    "crab_terminals = {\n",
    "    'up_w':8,\n",
    "    'up_s':7,\n",
    "    'up_g':10,\n",
    "    'down_w':8,\n",
    "    'down_s':7,\n",
    "    'down_g':10,\n",
    "    'left_w':10,\n",
    "    'left_s':10,\n",
    "    'left_g':20,\n",
    "    'right_w':10,\n",
    "    'right_s':10,\n",
    "    'right_g':20\n",
    "}\n",
    "xmon1 = elements.xmon.Xmon(name = 'Xmon1',\n",
    "                         center=(coupler_start+1400, central_line_y+1000),\n",
    "                          length = 150,\n",
    "                          width_gap = 4,\n",
    "                          center_width = 10,\n",
    "                          crab_position = ('down',),\n",
    "                          crab_shoulder = 30,\n",
    "                          crab_thickness = 8,\n",
    "                          crab_terminals = crab_terminals,\n",
    "                          ground_thickness = 10,\n",
    "                          delete_ground = '',\n",
    "                          jj_position = 'up',\n",
    "                          jj_params1 = jj_geometry,\n",
    "                          jj_params2 = jj,\n",
    "                          layer_configuration = sample.layer_configuration)\n",
    "sample.add(xmon1)\n",
    "xmon2 = elements.xmon.Xmon(name = 'Xmon2',\n",
    "                         center=(coupler_start+1400, central_line_y-1000),\n",
    "                          length = 150,\n",
    "                          width_gap = 4,\n",
    "                          center_width = 10,\n",
    "                          crab_position = ('up',),\n",
    "                          crab_shoulder = 30,\n",
    "                          crab_thickness = 8,\n",
    "                          crab_terminals = crab_terminals,\n",
    "                          ground_thickness = 10,\n",
    "                          delete_ground = '',\n",
    "                          jj_position = 'down',\n",
    "                          jj_params1 = jj_geometry,\n",
    "                          jj_params2 = jj,\n",
    "                          layer_configuration = sample.layer_configuration)\n",
    "sample.add(xmon2)\n",
    "sample.draw_design()\n",
    "g5,g6 = draw_double_resonator_plus_double_qubit(sample,elements,coupler_start+1500, central_line_y, coupler_length,\n",
    "                        resonator_core,resonator_gap,resonator_ground,\n",
    "                         tl_core, tl_gap,tl_ground, grounding_width=10,\n",
    "                         closed_end_meander_length1=2300,length_left1=150,length_right1=150,\n",
    "                              closed_end_meander_length2=2300,length_left2=250,length_right2=50,\n",
    "                         open_end_shift_length1=500,open_end_shift_length2=500,\n",
    "                         qubit1=xmon2 ,coupler_name1='crab_up', qubit2 =xmon1,coupler_name2='crab_down',\n",
    "                             orientation='left')"
   ]
  },
  {
   "cell_type": "code",
   "execution_count": 7,
   "metadata": {},
   "outputs": [],
   "source": [
    "sample.draw_design()\n",
    "# sample.watch()"
   ]
  },
  {
   "cell_type": "markdown",
   "metadata": {},
   "source": [
    "# Free standing resonators"
   ]
  },
  {
   "cell_type": "code",
   "execution_count": 8,
   "metadata": {},
   "outputs": [],
   "source": [
    "g5,g6= draw_double_resonator(sample,elements,\n",
    "                            coupler_start+1500, central_line_y, coupler_length,\n",
    "                             resonator_core,resonator_gap,resonator_ground, \n",
    "                             tl_core, tl_gap, tl_ground, grounding_width=10,\n",
    "                             closed_end_meander_length1=2300,length_left1=150,length_right1=150,\n",
    "                              closed_end_meander_length2=2300,length_left2=250,length_right2=50,\n",
    "                             open_length1=800,open_length2=800,orientation='left')"
   ]
  },
  {
   "cell_type": "markdown",
   "metadata": {},
   "source": [
    "# Connect contact pads to qubits"
   ]
  },
  {
   "cell_type": "code",
   "execution_count": 11,
   "metadata": {},
   "outputs": [],
   "source": [
    "# flux_pads = [\n",
    "#     (sample.qubits[0], pads_bottom[0]),\n",
    "#     (sample.qubits[1], pads_bottom[1])]#,\n",
    "# #     (sample.qubits[2], pads_bottom[2]),\n",
    "# #     (sample.qubits[5], pads_top[2]),\n",
    "# #     (coupler_qq, pads_right[0])]\n",
    "\n",
    "# for coaxmon, pad in flux_pads:  \n",
    "#     flux_line_narrowing_position = np.asarray(coaxmon.terminals['flux_line'].position)\n",
    "#     direction = [np.cos(coaxmon.terminals['flux_line'].orientation), \n",
    "#                  np.sin(coaxmon.terminals['flux_line'].orientation)]\n",
    "#     narrowing_length = 5.0\n",
    "#     flux_line_narrowing_position = flux_line_narrowing_position - np.asarray(direction)*narrowing_length/2\n",
    "#     flux_line_narrowing = elements.Narrowing(name='flux_line_narrowing', position=flux_line_narrowing_position, \n",
    "#                                              orientation=coaxmon.terminals['flux_line'].orientation+np.pi, \n",
    "#                                              w1=coaxmon.terminals['flux_line'].w, \n",
    "#                                              s1=coaxmon.terminals['flux_line'].s, g1=coaxmon.terminals['flux_line'].g,\n",
    "#                                              w2=tl_core, s2=tl_gap, g2=tl_ground, \n",
    "#                                              layer_configuration=sample.layer_configuration, length=narrowing_length)\n",
    "#     sample.add(flux_line_narrowing)\n",
    "\n",
    "#     sample.connect_cpw(pad, flux_line_narrowing, 'port', 'port2', 'flux_control5', points=[])\n",
    "\n",
    "# #sample.connect_cpw(pads_bottom[0], sample.qubits[6], 'port', 'flux_line', 'flux_control6', points=[])\n",
    "# #sample.connect_cpw(pads_bottom[2], sample.qubits[7], 'port', 'flux_line', 'flux_control7', points=[])\n",
    "# #sample.connect_cpw(pads_top[4], sample.qubits[8], 'port', 'flux_line', 'flux_control8', points=[])"
   ]
  },
  {
   "cell_type": "markdown",
   "metadata": {},
   "source": [
    "# Feedline"
   ]
  },
  {
   "cell_type": "code",
   "execution_count": 9,
   "metadata": {},
   "outputs": [
    {
     "data": {
      "text/plain": [
       "CPW \"right TL\", l=118.000"
      ]
     },
     "execution_count": 9,
     "metadata": {},
     "output_type": "execute_result"
    }
   ],
   "source": [
    "open_end_transmission_line = elements.OpenEnd(name='open end feedline',\n",
    "                             position=(g2.get_terminals()['narrow'].position[0]-50,\n",
    "                                       g2.get_terminals()['narrow'].position[1]),\n",
    "                                         w=[tl_core],\n",
    "                                         s=[tl_gap, tl_gap],\n",
    "                                         g=tl_ground,\n",
    "                                         orientation=g2.get_terminals()['narrow'].orientation+np.pi,\n",
    "                                         layer_configuration=sample.layer_configuration,\n",
    "                                         h1=20,\n",
    "                                          h2=10,\n",
    "                                         )\n",
    "sample.add(open_end_transmission_line)\n",
    "sample.connect_cpw(g2,open_end_transmission_line,'narrow','wide', name='left TL', points=[])\n",
    "sample.connect_cpw(o1=g1, o2=g3, port1='narrow', port2='narrow', name='right TL', points=[])\n",
    "sample.connect_cpw(o1=g4, o2=g5, port1='narrow', port2='narrow', name='right TL', points=[])\n",
    "sample.connect_cpw(o1=g6, o2=p2, port1='narrow', port2='port', name='right TL', points=[])"
   ]
  },
  {
   "cell_type": "code",
   "execution_count": 7,
   "metadata": {},
   "outputs": [
    {
     "data": {
      "text/plain": [
       "CPW \"right TL\", l=119.000"
      ]
     },
     "execution_count": 7,
     "metadata": {},
     "output_type": "execute_result"
    }
   ],
   "source": [
    "sample.connect_cpw(o1=p1, o2=g5, port1='port', port2='narrow', name='right TL', points=[])\n",
    "sample.connect_cpw(o1=g6, o2=p2, port1='narrow', port2='port', name='right TL', points=[])"
   ]
  },
  {
   "cell_type": "code",
   "execution_count": 10,
   "metadata": {},
   "outputs": [],
   "source": [
    "sample.draw_design()"
   ]
  },
  {
   "cell_type": "code",
   "execution_count": 8,
   "metadata": {},
   "outputs": [],
   "source": [
    "sample.watch()"
   ]
  },
  {
   "cell_type": "markdown",
   "metadata": {},
   "source": [
    "# Grid structure"
   ]
  },
  {
   "cell_type": "code",
   "execution_count": 15,
   "metadata": {},
   "outputs": [],
   "source": [
    "# grid_ground = elements.GridGround(sample.chip_geometry, sample.layer_configuration, sample.objects, \n",
    "#                                   width=4, period=100)\n",
    "# sample.add(grid_ground)\n",
    "# sample.draw_design()"
   ]
  },
  {
   "cell_type": "markdown",
   "metadata": {},
   "source": [
    "# Simulate the chip"
   ]
  },
  {
   "cell_type": "code",
   "execution_count": 11,
   "metadata": {},
   "outputs": [],
   "source": [
    "sample.draw_cap()"
   ]
  },
  {
   "cell_type": "code",
   "execution_count": 11,
   "metadata": {},
   "outputs": [],
   "source": [
    "sample.watch()"
   ]
  },
  {
   "cell_type": "code",
   "execution_count": 10,
   "metadata": {},
   "outputs": [
    {
     "ename": "AttributeError",
     "evalue": "'Sample' object has no attribute 'wacth'",
     "output_type": "error",
     "traceback": [
      "\u001b[1;31m---------------------------------------------------------------------------\u001b[0m",
      "\u001b[1;31mAttributeError\u001b[0m                            Traceback (most recent call last)",
      "\u001b[1;32m<ipython-input-10-c97fd06db90c>\u001b[0m in \u001b[0;36m<module>\u001b[1;34m\u001b[0m\n\u001b[1;32m----> 1\u001b[1;33m \u001b[0msample\u001b[0m\u001b[1;33m.\u001b[0m\u001b[0mwacth\u001b[0m\u001b[1;33m\u001b[0m\u001b[1;33m\u001b[0m\u001b[0m\n\u001b[0m",
      "\u001b[1;31mAttributeError\u001b[0m: 'Sample' object has no attribute 'wacth'"
     ]
    }
   ],
   "source": [
    "sample.wacth"
   ]
  },
  {
   "cell_type": "code",
   "execution_count": 12,
   "metadata": {},
   "outputs": [
    {
     "name": "stdout",
     "output_type": "stream",
     "text": [
      "Gds file has been writen here:  C:\\Python\\Github\\QCreator\\example_notebooks\\1Q_test.gds\n",
      "For 0 conductor total length is:  33856\n",
      "For 1 conductor total length is:  12258\n",
      "For 2 conductor total length is:  2725\n",
      "Sum : 48839\n",
      "Data has been written into the file: C:\\Python\\Github\\QCreator\\example_notebooks\\mesh_4k_data\n",
      "Time for fastcap job is:  4.675353765487671\n",
      "Capacitance results have been writen here:  C:\\Python\\Github\\QCreator\\example_notebooks\\mesh_4k_results\n",
      "Capacitance value in:  nanofarads\n",
      "[<map object at 0x0000029A408CE220>, <map object at 0x0000029A408B5AC0>, <map object at 0x0000029A401BFFA0>]\n",
      "       0     1     2\n",
      "0  153.3 -45.7 -18.4\n",
      "1  -45.7  64.8  -5.7\n",
      "2  -18.4  -5.7  29.7\n",
      "{'coupler0': None, 'coupler1': None, 'coupler2': None, 'coupler3': None, 'coupler4': None, 'qubit': 64.8}\n",
      "coupler1 Type: cpw, Position: (1486.074, 1985.191), Orientation: 3.77\n",
      "w: 8, s: 7, g: 10\n",
      "reversed: True\n",
      "Gds file has been writen here:  C:\\Python\\Github\\QCreator\\example_notebooks\\1Q_test.gds\n",
      "For 0 conductor total length is:  33856\n",
      "For 1 conductor total length is:  12258\n",
      "For 2 conductor total length is:  2725\n",
      "Sum : 48839\n",
      "Data has been written into the file: C:\\Python\\Github\\QCreator\\example_notebooks\\mesh_4k_data\n",
      "Time for fastcap job is:  4.708695411682129\n",
      "Capacitance results have been writen here:  C:\\Python\\Github\\QCreator\\example_notebooks\\mesh_4k_results\n",
      "Capacitance value in:  nanofarads\n",
      "[<map object at 0x0000029A433783D0>, <map object at 0x0000029A43378790>, <map object at 0x0000029A43378EE0>]\n",
      "       0     1     2\n",
      "0  153.3 -45.7 -18.4\n",
      "1  -45.7  64.8  -5.7\n",
      "2  -18.4  -5.7  29.7\n",
      "{'coupler0': None, 'coupler1': None, 'coupler2': None, 'coupler3': None, 'coupler4': None, 'qubit': 64.8}\n",
      "coupler1 Type: cpw, Position: (1486, 2715), Orientation: 2.514\n",
      "w: 8, s: 7, g: 10\n",
      "reversed: True\n",
      "Gds file has been writen here:  C:\\Python\\Github\\QCreator\\example_notebooks\\1Q_test.gds\n",
      "For 0 conductor total length is:  33902\n",
      "For 1 conductor total length is:  12195\n",
      "For 2 conductor total length is:  2105\n",
      "Sum : 48202\n",
      "Data has been written into the file: C:\\Python\\Github\\QCreator\\example_notebooks\\mesh_4k_data\n",
      "Time for fastcap job is:  4.643645763397217\n",
      "Capacitance results have been writen here:  C:\\Python\\Github\\QCreator\\example_notebooks\\mesh_4k_results\n",
      "Capacitance value in:  nanofarads\n",
      "[<map object at 0x0000029A43378D00>, <map object at 0x0000029A43378BB0>, <map object at 0x0000029A43378C70>]\n",
      "       0     1     2\n",
      "0  151.2 -46.2 -15.4\n",
      "1  -46.2  64.6  -4.8\n",
      "2  -15.4  -4.8  25.0\n",
      "{'coupler0': None, 'coupler1': None, 'coupler2': None, 'coupler3': None, 'coupler4': None, 'qubit': 64.6}\n",
      "coupler2 Type: cpw, Position: (2586.074, 1485.191), Orientation: 3.77\n",
      "w: 8, s: 7, g: 10\n",
      "reversed: True\n",
      "Gds file has been writen here:  C:\\Python\\Github\\QCreator\\example_notebooks\\1Q_test.gds\n",
      "For 0 conductor total length is:  33902\n",
      "For 1 conductor total length is:  12195\n",
      "For 2 conductor total length is:  2105\n",
      "Sum : 48202\n",
      "Data has been written into the file: C:\\Python\\Github\\QCreator\\example_notebooks\\mesh_4k_data\n",
      "Time for fastcap job is:  4.635719299316406\n",
      "Capacitance results have been writen here:  C:\\Python\\Github\\QCreator\\example_notebooks\\mesh_4k_results\n",
      "Capacitance value in:  nanofarads\n",
      "[<map object at 0x0000029A433789A0>, <map object at 0x0000029A43378550>, <map object at 0x0000029A43378220>]\n",
      "       0     1     2\n",
      "0  151.2 -46.2 -15.4\n",
      "1  -46.2  64.6  -4.8\n",
      "2  -15.4  -4.8  25.0\n",
      "{'coupler0': None, 'coupler1': None, 'coupler2': None, 'coupler3': None, 'coupler4': None, 'qubit': 64.6}\n",
      "coupler2 Type: cpw, Position: (2586, 3215), Orientation: 2.514\n",
      "w: 8, s: 7, g: 10\n",
      "reversed: True\n"
     ]
    }
   ],
   "source": [
    "for i,qubit in enumerate(sample.qubits):\n",
    "    caps=sample.calculate_qubit_capacitance(cell= sample.qubit_cap_cells[i], qubit=sample.qubits[i],\n",
    "                                       mesh_volume=4)"
   ]
  },
  {
   "cell_type": "code",
   "execution_count": 24,
   "metadata": {},
   "outputs": [
    {
     "name": "stderr",
     "output_type": "stream",
     "text": [
      "..\\QCreator\\general_sample_creator.py:393: FutureWarning: `rcond` parameter will change to the default of machine precision times ``max(M, N)`` where M and N are the input matrix dimensions.\n",
      "To use the future default and silence this warning we advise to pass `rcond=None`, to keep using the old, explicitly pass `rcond=-1`.\n",
      "  s.append(np.linalg.lstsq(m, boundary)[0][a2[0]])\n"
     ]
    }
   ],
   "source": [
    "f_ = np.linspace(7e9, 10e9, 12001)\n",
    "# s11 = sample.get_s21('p1', 'p1', f_)\n",
    "s11 = sample.get_s21('pad-right-0', 'pad-right-0', f_)"
   ]
  },
  {
   "cell_type": "code",
   "execution_count": 25,
   "metadata": {},
   "outputs": [
    {
     "data": {
      "text/plain": [
       "[<matplotlib.lines.Line2D at 0x20b1fcec880>]"
      ]
     },
     "execution_count": 25,
     "metadata": {},
     "output_type": "execute_result"
    },
    {
     "data": {
      "image/png": "[encoded data removed]",
      "text/plain": [
       "<Figure size 432x288 with 1 Axes>"
      ]
     },
     "metadata": {
      "needs_background": "light"
     },
     "output_type": "display_data"
    }
   ],
   "source": [
    "from matplotlib import pyplot as plt\n",
    "# plt.plot(f_, np.abs(s11))\n",
    "plt.plot(f_, np.abs(s11))"
   ]
  },
  {
   "cell_type": "code",
   "execution_count": 13,
   "metadata": {},
   "outputs": [
    {
     "data": {
      "text/plain": [
       "(array([4.89088582, 4.8919711 , 4.93048728, 4.93061949, 7.33011846,\n",
       "        7.45630915, 7.77912253, 8.00009262, 8.50142387, 8.85576446]),\n",
       " array([5.69673411e-05, 2.71801396e-04, 7.19266430e-04, 1.84112423e-04,\n",
       "        2.21399150e-02, 6.03980566e-01, 2.46341354e+00, 6.03014304e-01,\n",
       "        3.03097726e+00, 3.04469354e+00]),\n",
       " array([2.69718942e+08, 5.65434201e+07, 2.15352503e+07, 8.41333663e+07,\n",
       "        1.04012352e+06, 3.87838407e+04, 9.92071926e+03, 4.16789984e+04,\n",
       "        8.81168299e+03, 9.13760423e+03]))"
      ]
     },
     "execution_count": 13,
     "metadata": {},
     "output_type": "execute_result"
    }
   ],
   "source": [
    "sys, connections, elements_ = sample.get_tls()\n",
    "f, delta, modes = sys.get_modes()\n",
    "f[:10]/(2*np.pi)/1e9, delta[:10]/1e6,f[:10]/delta[:10]/2 "
   ]
  },
  {
   "cell_type": "code",
   "execution_count": 12,
   "metadata": {},
   "outputs": [
    {
     "name": "stdout",
     "output_type": "stream",
     "text": [
      "('down',)\n",
      "('up',)\n"
     ]
    },
    {
     "data": {
      "text/plain": [
       "(array([ 4.04315406,  4.04315769,  6.82626163,  7.26939625, 19.21544458,\n",
       "        20.36826289, 22.10649478, 33.81629174, 37.0298643 , 38.92216433]),\n",
       " array([8.42967767e-06, 2.48136139e-07, 6.71548778e-01, 5.63943770e-01,\n",
       "        1.91840629e+05, 1.15308400e+01, 3.57832000e-02, 1.03401248e+01,\n",
       "        1.10363279e+01, 1.91180345e+05]),\n",
       " array([1.50681243e+09, 5.11894581e+10, 3.19341410e+04, 4.04960265e+04,\n",
       "        3.14673174e-01, 5.54936025e+03, 1.94084379e+06, 1.02742487e+04,\n",
       "        1.05408928e+04, 6.39592869e-01]))"
      ]
     },
     "execution_count": 12,
     "metadata": {},
     "output_type": "execute_result"
    }
   ],
   "source": [
    "sys, connections, elements_ = sample.get_tls()\n",
    "f, delta, modes = sys.get_modes()\n",
    "f[:10]/(2*np.pi)/1e9, delta[:10]/1e6,f[:10]/delta[:10]/2 "
   ]
  },
  {
   "cell_type": "code",
   "execution_count": null,
   "metadata": {},
   "outputs": [],
   "source": []
  }
 ],
 "metadata": {
  "kernelspec": {
   "display_name": "Python 3",
   "language": "python",
   "name": "python3"
  },
  "language_info": {
   "codemirror_mode": {
    "name": "ipython",
    "version": 3
   },
   "file_extension": ".py",
   "mimetype": "text/x-python",
   "name": "python",
   "nbconvert_exporter": "python",
   "pygments_lexer": "ipython3",
   "version": "3.8.5"
  }
 },
 "nbformat": 4,
 "nbformat_minor": 2
}
