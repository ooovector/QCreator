{
 "cells": [
  {
   "cell_type": "markdown",
   "metadata": {},
   "source": [
    "# Import design libraries"
   ]
  },
  {
   "cell_type": "code",
   "execution_count": 1,
   "metadata": {
    "ExecuteTime": {
     "end_time": "2020-09-06T10:17:16.449804Z",
     "start_time": "2020-09-06T10:17:16.445814Z"
    }
   },
   "outputs": [],
   "source": [
    "import sys\n",
    "sys.path.append('..')"
   ]
  },
  {
   "cell_type": "code",
   "execution_count": 2,
   "metadata": {
    "ExecuteTime": {
     "end_time": "2020-09-06T10:17:17.766979Z",
     "start_time": "2020-09-06T10:17:17.600892Z"
    }
   },
   "outputs": [],
   "source": [
    "import gdspy\n",
    "import numpy as np\n",
    "from importlib import reload\n",
    "#import libraries.conformal_mapping as cm\n",
    "#import libraries.general_design_functions as gdf\n",
    "#import libraries.general_sample_creator as creator\n",
    "#from  ..libraries import general_design_functions as gdf\n",
    "#fr\n",
    "from copy import deepcopy\n",
    "from QCreator import elements\n",
    "from QCreator import general_sample_creator as creator"
   ]
  },
  {
   "cell_type": "code",
   "execution_count": 3,
   "metadata": {
    "ExecuteTime": {
     "end_time": "2020-09-06T10:17:18.100214Z",
     "start_time": "2020-09-06T10:17:18.096225Z"
    }
   },
   "outputs": [],
   "source": [
    "watch=lambda: gdspy.LayoutViewer(depth=0,pattern={'default': 8},background='#FFFFFF') #this opens a viewer"
   ]
  },
  {
   "cell_type": "markdown",
   "metadata": {},
   "source": [
    "# Specify constants, everything in microns"
   ]
  },
  {
   "cell_type": "code",
   "execution_count": 4,
   "metadata": {
    "ExecuteTime": {
     "end_time": "2020-09-06T10:17:18.718772Z",
     "start_time": "2020-09-06T10:17:18.714784Z"
    }
   },
   "outputs": [],
   "source": [
    "tl_core = 20\n",
    "tl_gap = 12\n",
    "tl_ground = 10\n",
    "\n",
    "resonator_core = 8\n",
    "resonator_gap = 7\n",
    "resonator_ground = 16\n",
    "\n",
    "coupler_ground = 5\n",
    "\n",
    "pad_offset = 1000\n",
    "pad_element_offset = 200\n",
    "\n",
    "coupler_start = pad_offset + pad_element_offset\n",
    "coupler_delta = 500\n",
    "coupler_length = 300\n",
    "num_couplers = 1"
   ]
  },
  {
   "cell_type": "markdown",
   "metadata": {},
   "source": [
    "# Sample generation"
   ]
  },
  {
   "cell_type": "markdown",
   "metadata": {},
   "source": [
    "## borders with pads"
   ]
  },
  {
   "cell_type": "code",
   "execution_count": 6,
   "metadata": {
    "ExecuteTime": {
     "end_time": "2020-09-06T10:17:19.778056Z",
     "start_time": "2020-09-06T10:17:19.662594Z"
    }
   },
   "outputs": [
    {
     "data": {
      "text/plain": [
       "CPW \"connection1\", l=7138.808"
      ]
     },
     "execution_count": 6,
     "metadata": {},
     "output_type": "execute_result"
    }
   ],
   "source": [
    "reload(gdspy)\n",
    "reload(creator)\n",
    "#reload(elements)\n",
    "layers_configuration={\n",
    "    'total':0,\n",
    "    'restricted area':10,\n",
    "    'for removing':100,\n",
    "    'JJs':1,\n",
    "    'air bridges':2,\n",
    "    'air bridge pads':3,\n",
    "    'vertical gridlines':15,\n",
    "    'horizontal gridlines':16\n",
    "}\n",
    "sample = creator.Sample('4_qubits',layers_configuration)\n",
    "\n",
    "#specify sample vertical and horizontal lengths\n",
    "sample.chip_geometry.sample_vertical_size=4.7e3\n",
    "sample.chip_geometry.sample_horizontal_size=9.7e3\n",
    "\n",
    "central_line_y = sample.chip_geometry.sample_vertical_size/2\n",
    "\n",
    "ChichkovAB = elements.AirBridge(width=15, \n",
    "                                length=60, \n",
    "                                padsize=30, \n",
    "                                min_spacing = 30,\n",
    "                                layer_configuration=sample.layer_configuration)\n",
    "\n",
    "chip_edge_ground = elements.ChipEdgeGround(sample.chip_geometry, sample.layer_configuration, sample.pads)\n",
    "sample.add(chip_edge_ground)\n",
    "\n",
    "grid_ground = elements.GridGround(sample.chip_geometry, sample.layer_configuration, sample.objects, \n",
    "                                  width=4, period=500)\n",
    "sample.add(grid_ground)\n",
    "\n",
    "#specify pads for the sample\n",
    "\n",
    "p1 = elements.Pad('p1', (pad_offset,  central_line_y), np.pi, tl_core, tl_gap, tl_ground, \n",
    "                  layer_configuration=sample.layer_configuration, chip_geometry=sample.chip_geometry, \n",
    "                  **elements.default_pad_geometry())\n",
    "p2 = elements.Pad('p2', (sample.chip_geometry.sample_horizontal_size-pad_offset,  central_line_y), \n",
    "                  0, tl_core, tl_gap, tl_ground, \n",
    "                  layer_configuration=sample.layer_configuration, chip_geometry=sample.chip_geometry, \n",
    "                  **elements.default_pad_geometry())\n",
    "sample.add(p1)\n",
    "sample.add(p2)\n",
    "\n",
    "# add coupler elements\n",
    "\n",
    "fl_end_el = p1\n",
    "fl_end_port_name = 'port'\n",
    "\n",
    "for coupler_id in range(num_couplers):\n",
    "    coupler = elements.CPWCoupler('coupler'+str(coupler_id), [(coupler_start+coupler_id*coupler_delta, central_line_y), \n",
    "                                                              (coupler_start+coupler_id*coupler_delta+coupler_length, central_line_y)], \n",
    "                                  [resonator_core, coupler_ground, tl_core, coupler_ground, resonator_core], \n",
    "                                  [resonator_gap, resonator_gap, tl_gap, tl_gap, resonator_gap, resonator_gap], \n",
    "                                  tl_ground, sample.layer_configuration, r=100)\n",
    "    sample.add(coupler)\n",
    "    fo1_left = sample.fanout(coupler, 'port1', 'fo-left'+str(coupler_id), [1, 4])\n",
    "    fo1_right = sample.fanout(coupler, 'port2', 'fo-right'+str(coupler_id), [1, 4])\n",
    "    \n",
    "    #grounding_left = sample.grounding(fo1_left, '')\n",
    "    fo2_left = sample.fanout(fo1_left, 'center', 'fo2-left'+str(coupler_id), [1, 2])\n",
    "    fo2_right = sample.fanout(fo1_right, 'center', 'fo2-right'+str(coupler_id), [1, 2])\n",
    "    \n",
    "    sample.connect_cpw(fl_end_el, fo2_left, fl_end_port_name, 'center', 'connection'+str(coupler_id), [])\n",
    "    fl_end_el = fo2_right\n",
    "    fl_end_port_name = 'center'\n",
    "    \n",
    "    cpw_up = elements.CPW('resonator-up-element'+str(coupler_id), \n",
    "                          [[coupler_start+coupler_id*coupler_delta, central_line_y-500],\n",
    "                           [coupler_start+coupler_id*coupler_delta, central_line_y-1000],\n",
    "                           [coupler_start+coupler_id*coupler_delta+7000, central_line_y-1000]],\n",
    "                          resonator_core, resonator_gap, tl_ground, sample.layer_configuration, r=40)\n",
    "    cpw_down = elements.CPW('resonator-down-element'+str(coupler_id), \n",
    "                            [[coupler_start+coupler_id*coupler_delta, central_line_y+500],\n",
    "                             [coupler_start+coupler_id*coupler_delta, central_line_y+1000],\n",
    "                             [coupler_start+coupler_id*coupler_delta+7000, central_line_y+1000]],\n",
    "                            resonator_core, resonator_gap, tl_ground, sample.layer_configuration, r=40)\n",
    "    sample.add(cpw_up)\n",
    "    sample.add(cpw_down)\n",
    "    sample.connect_cpw(cpw_up, fo1_left, 'port1', 'up', 'resonator-up-left'+str(coupler_id), [])\n",
    "    sample.connect_cpw(cpw_down, fo1_left, 'port1', 'down', 'resonator-down-left'+str(coupler_id), [])\n",
    "    \n",
    "sample.connect_cpw(fl_end_el, p2, fl_end_port_name, 'port', 'connection'+str(num_couplers), [])"
   ]
  },
  {
   "cell_type": "code",
   "execution_count": 7,
   "metadata": {},
   "outputs": [
    {
     "data": {
      "text/plain": [
       "RectFanout fo-left0, n=5, grouping=(1, 4)"
      ]
     },
     "execution_count": 7,
     "metadata": {},
     "output_type": "execute_result"
    }
   ],
   "source": [
    "fo1_left"
   ]
  },
  {
   "cell_type": "code",
   "execution_count": 8,
   "metadata": {},
   "outputs": [],
   "source": [
    "\n",
    "#sample.add_pad('p1', tl_core, tl_gap, tl_ground, (810,  2350), 50, np.pi, sample.layer_configuration, sample.chip_geometry)\n",
    "#sample.add_pad('p2', tl_core, tl_gap, tl_ground, (8890, 2350), 50, np.pi, sample.layer_configuration, sample.chip_geometry)\n",
    "#generate borders with pads\n",
    "#sample.generate_sample_edges_and_pads()\n",
    "#sample.add(p1)\n",
    "#sample.add(p2)\n",
    "\n",
    "\n",
    "#chip_edge_ground.render()\n",
    "# dist = 1000\n",
    "# end_element = p1\n",
    "# end_port = 'port'\n",
    "\n",
    "# n1 = elements.Narrowing(name = 'adapter', \n",
    "#                         position = (p1.position[0]+dist, p1.position[1]), \n",
    "#                         orientation = 0,\n",
    "#                         w1 = tl_core,\n",
    "#                         s1 = tl_gap,\n",
    "#                         g1 = tl_ground,\n",
    "#                         w2 = tl_core*5,\n",
    "#                         s2 = tl_gap,\n",
    "#                         g2 = tl_ground*2,\n",
    "#                         layer_configuration = sample.layer_configuration,\n",
    "#                         length = 200)\n",
    "# n2 = elements.Narrowing(name = 'adapter', \n",
    "#                         position = (p1.position[0]+7*dist, p1.position[1]), \n",
    "#                         orientation = 0,\n",
    "#                         w2 = tl_core,\n",
    "#                         s2 = tl_gap,\n",
    "#                         g2 = tl_ground,\n",
    "#                         w1 = tl_core*5,\n",
    "#                         s1 = tl_gap,\n",
    "#                         g1 = tl_ground*2,\n",
    "#                         layer_configuration = sample.layer_configuration,\n",
    "#                         length = 200)\n",
    "\n",
    "\n",
    "# ab1  =elements.CPWGroundAirBridge(name='ab1', \n",
    "#                                   position=(p1.position[0]+(5)*dist, p1.position[1]), \n",
    "#                                   orientation=0, \n",
    "#                                   geometry=ChichkovAB,\n",
    "#                                   w = tl_core,\n",
    "#                                   s = tl_gap,\n",
    "#                                   g = tl_ground,\n",
    "#                                   layer_configuration=sample.layer_configuration,\n",
    "#                                   l=0,\n",
    "#                                   c=0)\n",
    "# #sample.add(n1)\n",
    "# #sample.add(n2)\n",
    "# #sample.add(ab1)\n",
    "# #sample.connect_cpw(p1, n1, 'port', 'port1', \n",
    "# #                   'feedline-narrow-el', [])\n",
    "# #sample.connect_cpw(n1, n2, 'port2', 'port1', \n",
    "# #                   'feedline-thick-el', [(5000, 1000), (6000, 1000)])\n",
    "# #sample.connect_cpw(n2, p2, 'port2', 'port', \n",
    "# #                   'feedline-thick-el2', [])\n",
    "\n",
    "# coupler1 = elements.CPWCoupler('coupler1', [(2000, 1000), (3000, 1500)], [10, 10, 10], [5,5,5,5], 10, sample.layer_configuration, r=100)\n",
    "# fanout1 = elements.RectFanout('fo1', coupler1.get_terminals()['port1'], [1,2], sample.layer_configuration)\n",
    "# fanout2 = elements.RectFanout('fo2', coupler1.get_terminals()['port2'], [1,2], sample.layer_configuration)\n",
    "\n",
    "# section2 = elements.CPW('section-open-1', [(2500, 700), (3200, 1300)], 10, 5, 10, sample.layer_configuration, r=50)\n",
    "# #section3 = elements.CPW('section-open-2', [(1800, 1300), (2800, 1700)], 10, 5, 10, sample.layer_configuration, r=50)\n",
    "\n",
    "# sample.add(coupler1)\n",
    "# sample.add(fanout1)\n",
    "# #sample.add(fanout2)\n",
    "# sample.add(section2)\n",
    "# #sample.add(section3)\n",
    "\n",
    "\n",
    "# sample.connect_cpw(fanout1, section2, 'up', 'port1',  'connection', [])\n",
    "#sample.connect_cpw(fanout2, section2, 'center', 'port2', 'connection2', [])\n",
    "\n",
    "#sample.connect_cpw(fanout1, section3, 'center', 'port1', 'connection3', [])\n",
    "#sample.connect_cpw(fanout2, section3, 'up', 'port2', 'connection3', [])"
   ]
  },
  {
   "cell_type": "code",
   "execution_count": 6,
   "metadata": {},
   "outputs": [
    {
     "data": {
      "text/plain": [
       "(array([7.23308590e+09, 7.24293883e+09, 7.39229065e+09, 1.44647431e+10,\n",
       "        1.44831384e+10, 1.50619185e+10, 2.16997963e+10, 2.17242364e+10,\n",
       "        2.29433496e+10, 2.85672499e+10, 2.85876517e+10, 2.88106588e+10,\n",
       "        2.92842489e+10, 3.05668684e+10, 3.09763545e+10, 3.24111556e+10,\n",
       "        3.24236259e+10, 3.32155092e+10, 3.35924686e+10, 3.45113384e+10,\n",
       "        3.52507162e+10, 3.52534973e+10, 3.52534973e+10, 3.52764312e+10,\n",
       "        3.62213089e+10, 3.62213089e+10, 3.62289313e+10, 3.62391777e+10,\n",
       "        3.65013243e+10, 3.65381464e+10, 3.65478524e+10, 3.65478525e+10,\n",
       "        3.71502412e+10, 3.71679441e+10, 3.71783695e+10, 3.71783695e+10,\n",
       "        3.78485147e+10, 3.79136035e+10, 3.85822396e+10, 3.87095906e+10,\n",
       "        4.87713288e+10, 4.88127219e+10, 1.00306897e+11, 1.02019835e+11,\n",
       "        1.37756969e+11, 1.39283449e+11, 1.41099283e+11, 1.69210955e+11,\n",
       "        1.69331323e+11, 2.13301302e+11, 2.35857114e+11, 2.37035453e+11,\n",
       "        2.72003285e+11, 2.77141782e+11, 3.11213958e+11, 3.11801773e+11,\n",
       "        3.53890761e+11, 3.82052270e+11, 3.82139310e+11, 4.16986341e+11,\n",
       "        4.22991458e+11, 4.53708257e+11, 4.54998685e+11, 4.68210920e+11,\n",
       "        5.14395664e+11, 5.15469224e+11, 5.57427595e+11, 5.59190026e+11,\n",
       "        5.64207135e+11, 5.67239212e+11, 5.70467564e+11, 6.09632760e+11,\n",
       "        6.10611763e+11, 6.11567780e+11, 6.11567780e+11, 6.13055085e+11,\n",
       "        6.13055085e+11, 6.13280681e+11, 6.14216622e+11, 6.23471682e+11,\n",
       "        6.23472048e+11, 6.24004734e+11, 6.24004734e+11, 6.25560852e+11,\n",
       "        6.25560852e+11, 6.26011764e+11, 6.26012200e+11, 6.33261355e+11,\n",
       "        6.35991836e+11, 6.87407035e+11, 7.01093632e+11, 7.06451627e+11,\n",
       "        7.55966564e+11, 7.56858166e+11, 7.93056861e+11, 7.95179105e+11,\n",
       "        7.95930373e+11, 7.96177801e+11, 7.97498740e+11, 8.39390041e+11,\n",
       "        8.41980469e+11, 8.59127708e+11, 8.89130098e+11, 8.89365077e+11,\n",
       "        8.89947782e+11, 8.90870146e+11, 8.91842353e+11, 8.91842353e+11,\n",
       "        8.95342763e+11, 8.95342763e+11, 9.01713142e+11, 9.02455895e+11,\n",
       "        9.03466734e+11, 9.04845412e+11, 9.04845412e+11, 9.08007478e+11,\n",
       "        9.08600068e+11, 9.08752369e+11, 9.09293157e+11, 9.10383421e+11,\n",
       "        9.13591530e+11, 9.13591530e+11, 9.14397893e+11, 9.14397893e+11,\n",
       "        9.14581817e+11, 9.16219532e+11, 9.16219532e+11, 9.16562489e+11,\n",
       "        9.16804511e+11, 9.16811579e+11, 9.17691629e+11, 9.20074421e+11,\n",
       "        9.20486081e+11, 9.22498945e+11, 9.24065796e+11, 9.24089143e+11,\n",
       "        9.24089143e+11, 9.25459947e+11, 9.25568874e+11, 9.25568874e+11,\n",
       "        9.28598253e+11, 9.29965913e+11, 9.56659225e+11, 1.12427673e+12,\n",
       "        1.14868941e+12, 1.15551910e+12, 1.23659596e+12, 1.29636425e+12,\n",
       "        1.31227117e+12, 1.45458392e+12, 1.69801630e+12, 1.72905690e+12,\n",
       "        1.73174301e+12, 1.73284492e+12, 1.77551000e+12, 1.84084443e+12,\n",
       "        1.85698084e+12, 1.89044915e+12, 1.94775968e+12, 1.94870707e+12,\n",
       "        1.97256344e+12, 1.98737983e+12, 1.98766042e+12, 2.00408002e+12,\n",
       "        2.15572020e+12, 2.17491460e+12, 2.18028997e+12, 2.52044269e+12,\n",
       "        2.52457645e+12, 2.53976803e+12, 2.65543352e+12, 2.66378598e+12,\n",
       "        2.95606471e+12, 3.11725456e+12, 3.11939180e+12, 3.35004289e+12,\n",
       "        3.35628353e+12, 3.36898708e+12, 3.62329842e+12, 3.66372213e+12,\n",
       "        3.85873382e+12, 4.05049235e+12, 4.05372821e+12, 4.19549579e+12,\n",
       "        4.19695498e+12, 4.28737210e+12, 4.54289075e+12, 4.55286304e+12,\n",
       "        4.80253211e+12, 5.01074731e+12, 5.02666110e+12, 5.07052282e+12,\n",
       "        5.09669084e+12, 5.24471444e+12, 5.53765875e+12, 5.57854770e+12,\n",
       "        5.70680659e+12, 5.91679786e+12, 5.92213121e+12, 6.02178057e+12,\n",
       "        6.02955567e+12, 6.15151099e+12, 6.46592799e+12, 6.47055966e+12,\n",
       "        6.73329806e+12, 6.75350531e+12, 6.77258426e+12, 6.85806971e+12,\n",
       "        6.87790021e+12, 7.18282526e+12, 7.21651998e+12, 7.22439414e+12,\n",
       "        7.26187701e+12, 7.26283972e+12, 7.34708448e+12, 7.48344190e+12,\n",
       "        7.49690591e+12, 7.53966348e+12, 7.66825321e+12, 7.67730086e+12,\n",
       "        7.75047742e+12, 7.76097276e+12, 7.76620282e+12, 8.00700932e+12,\n",
       "        8.01253827e+12, 8.02812046e+12, 8.03451791e+12, 8.09872341e+12,\n",
       "        8.11993776e+12, 8.12022514e+12, 8.12022514e+12, 8.12033354e+12,\n",
       "        8.12562631e+12, 8.12989889e+12, 8.14604041e+12, 8.19143376e+12,\n",
       "        8.25988579e+12, 8.26397695e+12, 8.26397695e+12, 8.27388812e+12,\n",
       "        8.27417861e+12, 8.27440929e+12, 8.29247720e+12, 8.31595337e+12,\n",
       "        8.31821564e+12, 8.32453972e+12, 8.32453972e+12, 8.32589808e+12,\n",
       "        8.33146492e+12, 8.33415518e+12, 8.33444659e+12, 8.33618812e+12,\n",
       "        8.33836615e+12, 8.33844962e+12, 8.33850156e+12, 8.33850156e+12,\n",
       "        8.34985684e+12, 8.36050870e+12, 8.36050870e+12, 8.38850722e+12,\n",
       "        8.38850722e+12, 8.39700716e+12, 8.39772447e+12, 8.39896230e+12,\n",
       "        8.40057836e+12, 8.41186486e+12, 8.41186486e+12, 8.41253858e+12,\n",
       "        8.42504757e+12, 8.43053441e+12, 8.43103541e+12, 8.43246975e+12,\n",
       "        8.44547669e+12, 8.44964139e+12, 8.44964139e+12, 8.46905573e+12,\n",
       "        8.46954948e+12, 8.47410498e+12, 8.48904965e+12, 8.49463889e+12,\n",
       "        8.49725064e+12, 8.50434397e+12, 8.53589430e+12, 8.53589430e+12,\n",
       "        8.54661197e+12, 8.54661197e+12, 8.54905140e+12, 8.55680693e+12,\n",
       "        8.55680693e+12, 8.56052706e+12, 8.59725730e+12, 8.59796727e+12,\n",
       "        8.60944625e+12, 8.61395152e+12, 8.65586995e+12, 8.67122367e+12,\n",
       "        8.68367978e+12, 8.68367978e+12, 8.70125564e+12, 8.70125564e+12,\n",
       "        8.73345338e+12, 8.74686663e+12, 8.75234972e+12, 8.75798093e+12,\n",
       "        8.76553741e+12, 8.82322311e+12, 8.86446630e+12, 8.86485851e+12,\n",
       "        8.86582104e+12, 8.86582104e+12, 8.88066981e+12, 8.88181334e+12,\n",
       "        8.88247856e+12, 8.88363091e+12, 8.88363091e+12, 8.88930700e+12,\n",
       "        8.89007638e+12, 8.90789450e+12, 8.90789450e+12, 8.96438185e+12,\n",
       "        8.97830659e+12, 9.00654633e+12, 9.00740194e+12, 9.00740194e+12,\n",
       "        9.01086727e+12, 9.01658969e+12, 9.02862970e+12, 9.02862971e+12,\n",
       "        9.06498511e+12, 9.20632499e+12, 9.21509495e+12, 9.21509495e+12,\n",
       "        9.23255043e+12, 9.29348500e+12, 9.29622084e+12, 9.35127958e+12,\n",
       "        9.35483549e+12, 9.35962527e+12, 9.37512489e+12, 9.37887134e+12,\n",
       "        9.37887134e+12, 9.39619253e+12, 9.44379023e+12, 9.45532966e+12,\n",
       "        9.45971674e+12, 9.48397129e+12, 9.48887966e+12, 9.48887966e+12,\n",
       "        9.49138594e+12, 9.49138594e+12, 9.51076960e+12, 9.51245113e+12,\n",
       "        9.51457928e+12, 9.54360125e+12, 9.83146768e+12, 9.84112804e+12,\n",
       "        9.86414008e+12, 9.86414008e+12, 9.93634257e+12, 9.93721157e+12,\n",
       "        9.96328816e+12, 1.00136959e+13, 1.00136959e+13, 1.00474796e+13,\n",
       "        1.09967540e+13, 1.30054365e+13, 1.43074171e+13, 1.96718215e+13,\n",
       "        1.96903687e+13, 2.08149849e+13, 2.11266192e+13, 4.54242830e+13,\n",
       "        4.78273222e+13]),\n",
       " array([ 1.97416275e-02,  6.52045608e+06,  6.02708016e+10,  1.49917070e-01,\n",
       "         2.68475401e+07,  5.77941181e+10, -2.40017065e-01,  6.33098253e+07,\n",
       "         5.50418487e+10, -4.69309123e+01,  8.81175590e+07,  2.40357986e+11,\n",
       "         6.25244312e+10,  1.63063029e+11,  9.89018945e+10, -3.94735606e+01,\n",
       "         7.37573516e+07,  1.75379221e+10,  1.50599925e+10,  4.94632538e+11,\n",
       "         7.34534345e+10,  7.34053920e+10, -7.34053921e+10, -7.34439992e+10,\n",
       "         2.01034882e+11, -2.01034882e+11,  2.01039143e+11, -2.01191293e+11,\n",
       "        -5.82029769e+10,  5.78648986e+10,  5.80009184e+10, -5.80009184e+10,\n",
       "        -1.96525118e+11,  1.96709069e+11, -1.96707334e+11,  1.96707334e+11,\n",
       "        -7.23457648e+10, -7.14271113e+10, -2.10063945e+11, -2.09526514e+11,\n",
       "         7.30162251e+01,  2.70989713e+09,  1.03848046e+10, -3.83151257e+01,\n",
       "         7.05373048e+09,  7.99086387e+00,  8.53290724e+11,  3.27505834e+08,\n",
       "        -8.27009088e+00,  7.62078325e+11,  3.73862702e+09, -1.45844844e+00,\n",
       "         2.61241854e+10,  1.13423809e+01,  5.75401087e+08, -5.55600049e+01,\n",
       "         7.29724802e+11, -7.49717362e+01,  6.51711615e+08,  2.62052452e+10,\n",
       "         4.87853827e+01,  3.94846285e+08, -9.34958020e+01,  9.02806699e+11,\n",
       "         1.56434065e+09, -9.72271419e+01,  9.45388759e+09,  1.79861462e+03,\n",
       "         8.85081531e+11,  1.12485745e+10, -4.26717124e+02,  1.12909683e+12,\n",
       "        -1.12390912e+12, -1.14150336e+12,  1.14150336e+12, -1.18360911e+12,\n",
       "         1.18360911e+12, -1.20142825e+12,  1.19874816e+12, -3.41305898e+12,\n",
       "         3.41305765e+12,  3.40459126e+12, -3.40459126e+12, -3.37892041e+12,\n",
       "         3.37892041e+12,  3.36978965e+12, -3.36978792e+12,  4.56106892e+08,\n",
       "         9.82306080e+02,  9.60810554e+11,  1.25979163e+10,  6.75242374e+01,\n",
       "        -2.72791261e+02,  5.95952064e+07,  4.25608367e+09,  3.68070575e+11,\n",
       "         5.80999723e+01,  1.46554149e+12,  4.06513526e+11,  1.33348278e+02,\n",
       "         6.05350814e+08,  1.98339476e+12, -1.69450394e+12,  1.69979345e+12,\n",
       "        -1.61073042e+12,  1.61005918e+12, -1.70644996e+12,  1.70644996e+12,\n",
       "        -1.61364211e+12,  1.61364211e+12, -1.70617626e+12, -1.71790629e+12,\n",
       "         3.90134252e+09, -1.80757150e+12,  1.80757149e+12,  1.82771704e+12,\n",
       "         2.90309070e+00,  4.90379513e+12, -1.83012335e+12, -4.90504223e+12,\n",
       "        -1.72967749e+12,  1.72967749e+12, -4.93771876e+12,  4.93771876e+12,\n",
       "        -4.94241953e+12,  4.95755890e+12, -4.95755890e+12,  4.98697274e+12,\n",
       "         1.74176767e+12, -1.75100482e+12,  4.94139786e+12, -4.99382746e+12,\n",
       "        -4.99822462e+12,  5.05185994e+12,  5.00683982e+12, -5.03771244e+12,\n",
       "         5.03771244e+12, -5.05575108e+12, -5.06086457e+12,  5.06086457e+12,\n",
       "        -5.10469378e+12,  5.11030037e+12,  2.21107197e+12,  2.46975853e+12,\n",
       "         8.72638572e+09, -9.21109163e+02,  2.43850883e+12, -2.96639507e+01,\n",
       "         2.89534692e+10,  2.13362299e+12,  8.84909543e+11,  7.17963713e+01,\n",
       "         2.89022234e+10,  7.51549684e+11,  2.86932649e+12, -1.51190459e+02,\n",
       "         1.00062840e+11,  4.20991758e+12, -3.70319400e+12, -3.69164348e+12,\n",
       "         1.08626460e+13, -1.07905406e+13, -1.07891635e+13,  1.07078891e+13,\n",
       "         3.89587606e+12,  2.06030570e+10,  3.37378185e+01,  4.15594876e+12,\n",
       "         5.06807515e+10, -2.47258438e+02,  4.23315163e+10,  4.86876896e+01,\n",
       "         4.29707276e+12,  2.87210870e+08,  1.85122260e+00, -1.02860267e+01,\n",
       "         4.29706830e+12,  9.21877879e+09, -5.70958466e+00,  1.47854306e+11,\n",
       "         4.10772245e+12,  1.40865892e+09,  7.51392582e-01,  2.89823802e+10,\n",
       "        -4.84009790e+01,  4.25409274e+12,  6.10223788e+10, -3.93038247e+01,\n",
       "         4.23954521e+12,  1.78008364e+10, -2.25084446e+01,  1.84944900e+02,\n",
       "         9.42613023e+09,  4.57802526e+12, -1.15644568e+02,  1.00349519e+11,\n",
       "         4.46711888e+12,  2.77999764e+09,  8.88663750e+02, -2.18495062e+02,\n",
       "         4.22480103e+10,  4.38936530e+12,  3.13126846e+10, -1.95027708e+02,\n",
       "         3.68113583e+12,  1.76678422e+03,  8.14496857e+09,  5.40969505e+10,\n",
       "        -6.12367891e+02,  3.05761670e+12,  4.71738817e+02,  1.25215648e+09,\n",
       "         1.84477184e+09,  1.31847930e+03,  2.54807301e+12,  2.59405927e+03,\n",
       "         3.54449662e+10,  2.27750060e+12, -1.98541341e+03,  8.00021103e+08,\n",
       "         1.34759024e+03,  4.21006932e+10,  2.71758579e+12,  3.07338605e+10,\n",
       "         3.40442325e+03,  1.40372814e+13,  1.62081350e+13,  2.54160959e+12,\n",
       "         1.55869850e+13, -1.55945510e+13,  1.55945510e+13, -1.55849112e+13,\n",
       "         1.08469490e+13,  1.80638861e+13,  4.81272981e+13,  4.55314762e+13,\n",
       "        -1.56068916e+13,  1.79184351e+13, -1.79184351e+13, -1.79446925e+13,\n",
       "         1.79488341e+13,  5.14250153e+13, -1.56445325e+13,  2.01220068e+13,\n",
       "         2.81738333e+12,  4.81531359e+13, -4.81531359e+13, -2.92908559e+02,\n",
       "         1.70928988e+08, -4.81743909e+13,  4.81757973e+13, -1.71237452e+13,\n",
       "         4.53015609e+13, -4.52995527e+13, -4.53079045e+13,  4.53079045e+13,\n",
       "        -1.69197192e+13, -1.58603560e+13,  1.58603560e+13,  1.65302159e+13,\n",
       "        -1.65302159e+13,  4.71897044e+09,  1.30452199e+13, -1.30460528e+13,\n",
       "        -5.41369185e+03, -1.29610211e+13,  1.29610211e+13,  1.56740726e+13,\n",
       "         1.61634572e+13,  6.75136371e+12,  4.30397923e+13,  1.60343470e+13,\n",
       "        -4.75716717e+13, -1.51977088e+13,  1.51977088e+13,  5.51216245e+13,\n",
       "        -4.74287996e+13, -4.58377255e+13,  3.86531262e+12, -1.47118966e+13,\n",
       "        -4.59747820e+13,  1.66081603e+13, -4.71622713e+13,  4.71622713e+13,\n",
       "        -4.64042968e+13,  4.64042968e+13,  2.25253768e+13,  1.69343044e+13,\n",
       "        -1.69343045e+13, -1.45093696e+13,  4.68325246e+13,  4.69401718e+13,\n",
       "         4.63985204e+13, -1.71781513e+13, -1.67524279e+13,  4.71606963e+13,\n",
       "         4.60966951e+13, -4.60966951e+13,  4.76758137e+13, -4.76758137e+13,\n",
       "        -4.81070058e+13,  3.32193386e+03, -4.79615673e+13,  5.98697367e+10,\n",
       "        -4.57904969e+13, -4.58103273e+13, -4.95104889e+13,  4.95088286e+13,\n",
       "        -4.95008946e+13,  4.95008946e+13, -1.85400396e+13,  1.85432939e+13,\n",
       "         3.95887048e+13,  1.85287457e+13, -1.85287457e+13,  4.41980432e+13,\n",
       "        -4.41989900e+13, -4.41650464e+13,  4.41650464e+13,  2.55753291e+13,\n",
       "         1.45106439e+13,  1.88768066e+13,  1.89389246e+13, -1.89389246e+13,\n",
       "        -1.88820996e+13, -1.48394469e+13, -1.44794070e+13,  1.44794071e+13,\n",
       "         5.84485853e+13,  5.15399556e+13, -5.19064492e+13,  5.19064492e+13,\n",
       "        -5.17519741e+13, -1.78802420e+13, -1.74881979e+13, -1.79138136e+13,\n",
       "         3.31010584e+13, -1.75063534e+13,  2.03014680e+13,  2.01822440e+13,\n",
       "        -2.01822440e+13, -2.01945551e+13,  5.37189849e+13, -4.90134821e+13,\n",
       "         4.86700670e+13, -5.16761165e+13,  5.35228041e+13, -5.35228041e+13,\n",
       "        -4.89309610e+13,  4.89309610e+13, -5.14523846e+13, -5.36231731e+13,\n",
       "        -5.18358431e+13, -5.16181588e+13, -5.24165577e+13,  4.20334977e+11,\n",
       "        -5.21976091e+13,  5.21976091e+13,  4.41219628e+03,  5.27618592e+13,\n",
       "        -1.78104280e+13, -1.75406176e+13,  1.75406176e+13,  1.80904310e+13,\n",
       "         6.71652329e+13,  9.13763390e+13,  1.41033849e+14,  6.77454034e+08,\n",
       "        -6.80328735e+03,  2.84724216e+04,  2.55010601e+10, -1.59159022e+03,\n",
       "         1.05502655e+13]))"
      ]
     },
     "execution_count": 6,
     "metadata": {},
     "output_type": "execute_result"
    }
   ],
   "source": [
    "sys, connections, elements_ = sample.get_tls()\n",
    "f, delta, modes = sys.get_modes()\n",
    "f/(2*np.pi), delta"
   ]
  },
  {
   "cell_type": "code",
   "execution_count": 18,
   "metadata": {},
   "outputs": [
    {
     "data": {
      "text/plain": [
       "([Port p1,\n",
       "  Port p2,\n",
       "  TL coupler0 (n=5),\n",
       "  TL fo-left0_group0 (n=1),\n",
       "  TL fo-left0_group1 (n=3),\n",
       "  TL fo-left0_group2 (n=1),\n",
       "  TL fo-right0_group0 (n=1),\n",
       "  TL fo-right0_group1 (n=3),\n",
       "  TL fo-right0_group2 (n=1),\n",
       "  TL fo2-left0_group0 (n=1),\n",
       "  TL fo2-left0_group1 (n=1),\n",
       "  TL fo2-left0_group2 (n=1),\n",
       "  TL fo2-right0_group0 (n=1),\n",
       "  TL fo2-right0_group1 (n=1),\n",
       "  TL fo2-right0_group2 (n=1),\n",
       "  TL connection0 (n=1),\n",
       "  TL resonator-up-element0 (n=1),\n",
       "  TL resonator-down-element0 (n=1),\n",
       "  TL resonator-up-left0 (n=1),\n",
       "  TL resonator-down-left0 (n=1),\n",
       "  TL connection1 (n=1)],\n",
       " array([0.00000000e+00, 0.00000000e+00, 1.68205456e-16, 1.84762615e-20,\n",
       "        1.95685603e-17, 1.84762615e-20, 5.93349893e-21, 1.39650307e-17,\n",
       "        5.93349891e-21, 6.47201348e-19, 1.79159634e-17, 6.47201348e-19,\n",
       "        3.08810062e-19, 1.17286526e-17, 3.08810062e-19, 9.34998136e-17,\n",
       "        1.37361693e-18, 1.37361692e-18, 2.05966622e-19, 2.05966621e-19,\n",
       "        1.51271144e-14]))"
      ]
     },
     "execution_count": 18,
     "metadata": {},
     "output_type": "execute_result"
    }
   ],
   "source": [
    "#np.sum(np.abs(modes[0])**2)\n",
    "sys.elements, np.real(sys.get_element_energies_from_dynamic(modes[2]))"
   ]
  },
  {
   "cell_type": "code",
   "execution_count": 9,
   "metadata": {},
   "outputs": [
    {
     "name": "stderr",
     "output_type": "stream",
     "text": [
      "C:\\ProgramData\\Anaconda3\\envs\\py38\\lib\\site-packages\\gdspy\\path.py:814: UserWarning: [GDSPY] Possible inconsistency found in `FlexPath` due to sharp corner.\n",
      "  warnings.warn(\n",
      "<ipython-input-3-1fe8b7b94d80>:1: DeprecationWarning: [GDSPY] Use of the global library is deprecated.  Pass LayoutViewer a GdsLibrary instance.\n",
      "  watch=lambda: gdspy.LayoutViewer(depth=0,pattern={'default': 8},background='#FFFFFF') #this opens a viewer\n"
     ]
    },
    {
     "ename": "KeyboardInterrupt",
     "evalue": "",
     "output_type": "error",
     "traceback": [
      "\u001b[1;31m---------------------------------------------------------------------------\u001b[0m",
      "\u001b[1;31mKeyboardInterrupt\u001b[0m                         Traceback (most recent call last)",
      "\u001b[1;32m<ipython-input-9-fe5f8b4ee2ae>\u001b[0m in \u001b[0;36m<module>\u001b[1;34m\u001b[0m\n\u001b[0;32m      1\u001b[0m \u001b[0mdesign\u001b[0m \u001b[1;33m=\u001b[0m \u001b[0msample\u001b[0m\u001b[1;33m.\u001b[0m\u001b[0mdraw_design\u001b[0m\u001b[1;33m(\u001b[0m\u001b[1;33m)\u001b[0m\u001b[1;33m\u001b[0m\u001b[1;33m\u001b[0m\u001b[0m\n\u001b[1;32m----> 2\u001b[1;33m \u001b[0mwatch\u001b[0m\u001b[1;33m(\u001b[0m\u001b[1;33m)\u001b[0m\u001b[1;33m\u001b[0m\u001b[1;33m\u001b[0m\u001b[0m\n\u001b[0m",
      "\u001b[1;32m<ipython-input-3-1fe8b7b94d80>\u001b[0m in \u001b[0;36m<lambda>\u001b[1;34m()\u001b[0m\n\u001b[1;32m----> 1\u001b[1;33m \u001b[0mwatch\u001b[0m\u001b[1;33m=\u001b[0m\u001b[1;32mlambda\u001b[0m\u001b[1;33m:\u001b[0m \u001b[0mgdspy\u001b[0m\u001b[1;33m.\u001b[0m\u001b[0mLayoutViewer\u001b[0m\u001b[1;33m(\u001b[0m\u001b[0mdepth\u001b[0m\u001b[1;33m=\u001b[0m\u001b[1;36m0\u001b[0m\u001b[1;33m,\u001b[0m\u001b[0mpattern\u001b[0m\u001b[1;33m=\u001b[0m\u001b[1;33m{\u001b[0m\u001b[1;34m'default'\u001b[0m\u001b[1;33m:\u001b[0m \u001b[1;36m8\u001b[0m\u001b[1;33m}\u001b[0m\u001b[1;33m,\u001b[0m\u001b[0mbackground\u001b[0m\u001b[1;33m=\u001b[0m\u001b[1;34m'#FFFFFF'\u001b[0m\u001b[1;33m)\u001b[0m \u001b[1;31m#this opens a viewer\u001b[0m\u001b[1;33m\u001b[0m\u001b[1;33m\u001b[0m\u001b[0m\n\u001b[0m",
      "\u001b[1;32mC:\\ProgramData\\Anaconda3\\envs\\py38\\lib\\site-packages\\gdspy\\viewer.py\u001b[0m in \u001b[0;36m__init__\u001b[1;34m(self, library, cells, hidden_types, depth, color, pattern, background, width, height)\u001b[0m\n\u001b[0;32m    385\u001b[0m         \u001b[0mself\u001b[0m\u001b[1;33m.\u001b[0m\u001b[0m_update_canvas\u001b[0m\u001b[1;33m(\u001b[0m\u001b[1;33m)\u001b[0m\u001b[1;33m\u001b[0m\u001b[1;33m\u001b[0m\u001b[0m\n\u001b[0;32m    386\u001b[0m         \u001b[0mself\u001b[0m\u001b[1;33m.\u001b[0m\u001b[0mmaster\u001b[0m\u001b[1;33m.\u001b[0m\u001b[0mtitle\u001b[0m\u001b[1;33m(\u001b[0m\u001b[1;34m\"Gdspy - Layout Viewer\"\u001b[0m\u001b[1;33m)\u001b[0m\u001b[1;33m\u001b[0m\u001b[1;33m\u001b[0m\u001b[0m\n\u001b[1;32m--> 387\u001b[1;33m         \u001b[0mself\u001b[0m\u001b[1;33m.\u001b[0m\u001b[0mmainloop\u001b[0m\u001b[1;33m(\u001b[0m\u001b[1;33m)\u001b[0m\u001b[1;33m\u001b[0m\u001b[1;33m\u001b[0m\u001b[0m\n\u001b[0m\u001b[0;32m    388\u001b[0m \u001b[1;33m\u001b[0m\u001b[0m\n\u001b[0;32m    389\u001b[0m     \u001b[1;32mdef\u001b[0m \u001b[0m_update_depth\u001b[0m\u001b[1;33m(\u001b[0m\u001b[0mself\u001b[0m\u001b[1;33m,\u001b[0m \u001b[1;33m*\u001b[0m\u001b[0margs\u001b[0m\u001b[1;33m)\u001b[0m\u001b[1;33m:\u001b[0m\u001b[1;33m\u001b[0m\u001b[1;33m\u001b[0m\u001b[0m\n",
      "\u001b[1;32mC:\\ProgramData\\Anaconda3\\envs\\py38\\lib\\tkinter\\__init__.py\u001b[0m in \u001b[0;36mmainloop\u001b[1;34m(self, n)\u001b[0m\n\u001b[0;32m   1418\u001b[0m     \u001b[1;32mdef\u001b[0m \u001b[0mmainloop\u001b[0m\u001b[1;33m(\u001b[0m\u001b[0mself\u001b[0m\u001b[1;33m,\u001b[0m \u001b[0mn\u001b[0m\u001b[1;33m=\u001b[0m\u001b[1;36m0\u001b[0m\u001b[1;33m)\u001b[0m\u001b[1;33m:\u001b[0m\u001b[1;33m\u001b[0m\u001b[1;33m\u001b[0m\u001b[0m\n\u001b[0;32m   1419\u001b[0m         \u001b[1;34m\"\"\"Call the mainloop of Tk.\"\"\"\u001b[0m\u001b[1;33m\u001b[0m\u001b[1;33m\u001b[0m\u001b[0m\n\u001b[1;32m-> 1420\u001b[1;33m         \u001b[0mself\u001b[0m\u001b[1;33m.\u001b[0m\u001b[0mtk\u001b[0m\u001b[1;33m.\u001b[0m\u001b[0mmainloop\u001b[0m\u001b[1;33m(\u001b[0m\u001b[0mn\u001b[0m\u001b[1;33m)\u001b[0m\u001b[1;33m\u001b[0m\u001b[1;33m\u001b[0m\u001b[0m\n\u001b[0m\u001b[0;32m   1421\u001b[0m \u001b[1;33m\u001b[0m\u001b[0m\n\u001b[0;32m   1422\u001b[0m     \u001b[1;32mdef\u001b[0m \u001b[0mquit\u001b[0m\u001b[1;33m(\u001b[0m\u001b[0mself\u001b[0m\u001b[1;33m)\u001b[0m\u001b[1;33m:\u001b[0m\u001b[1;33m\u001b[0m\u001b[1;33m\u001b[0m\u001b[0m\n",
      "\u001b[1;31mKeyboardInterrupt\u001b[0m: "
     ]
    }
   ],
   "source": [
    "design = sample.draw_design()\n",
    "watch()"
   ]
  },
  {
   "cell_type": "code",
   "execution_count": 12,
   "metadata": {},
   "outputs": [],
   "source": [
    "from scipy.linalg import eig\n",
    "eig?"
   ]
  },
  {
   "cell_type": "code",
   "execution_count": null,
   "metadata": {},
   "outputs": [],
   "source": []
  },
  {
   "cell_type": "code",
   "execution_count": 13,
   "metadata": {},
   "outputs": [
    {
     "name": "stdout",
     "output_type": "stream",
     "text": [
      "[            nan           +nanj             nan           +nanj\n",
      "             nan           +nanj             nan           +nanj\n",
      "             nan           +nanj             nan           +nanj\n",
      "             nan           +nanj             nan           +nanj\n",
      "             nan           +nanj             nan           +nanj\n",
      " -4.62780929e+11+1.41112739e+13j -4.62780929e+11-1.41112739e+13j\n",
      " -9.24846817e-02+1.34482784e+13j -9.24846817e-02-1.34482784e+13j\n",
      " -1.02910705e+13+0.00000000e+00j -5.77258489e+12+4.46364026e+12j\n",
      " -5.77258489e+12-4.46364026e+12j -7.72870421e+08+6.90109058e+12j\n",
      " -7.72870421e+08-6.90109058e+12j  2.44428897e-01+6.83435616e+12j\n",
      "  2.44428897e-01-6.83435616e+12j  1.53474002e-01+6.74751368e+12j\n",
      "  1.53474002e-01-6.74751368e+12j -6.51661821e+08+6.72727030e+12j\n",
      " -6.51661821e+08-6.72727030e+12j -3.26993524e+12+4.33278966e+12j\n",
      " -3.26993524e+12-4.33278966e+12j -1.95573483e-01+4.73395934e+12j\n",
      " -1.95573483e-01-4.73395934e+12j -2.98886749e+10+4.69665892e+12j\n",
      " -2.98886749e+10-4.69665892e+12j -1.71146205e+12+3.96701562e+12j\n",
      " -1.71146205e+12-3.96701562e+12j -2.81152957e+09+3.94055906e+12j\n",
      " -2.81152957e+09-3.94055906e+12j -2.54915715e-02+3.93620221e+12j\n",
      " -2.54915715e-02-3.93620221e+12j -5.93184566e+11+3.60353054e+12j\n",
      " -5.93184566e+11-3.60353054e+12j -1.55419710e+08+3.82599648e+12j\n",
      " -1.55419710e+08-3.82599648e+12j -3.43299872e-02+3.82857417e+12j\n",
      " -3.43299872e-02-3.82857417e+12j -4.43545035e+09+3.59256359e+12j\n",
      " -4.43545035e+09-3.59256359e+12j -2.17815315e-01+3.57670526e+12j\n",
      " -2.17815315e-01-3.57670526e+12j -3.21678453e+11+3.46605788e+12j\n",
      " -3.21678453e+11-3.46605788e+12j -2.32428072e+11+3.36723335e+12j\n",
      " -2.32428072e+11-3.36723335e+12j -4.91713130e+09+3.35939198e+12j\n",
      " -4.91713130e+09-3.35939198e+12j  2.72096035e-02+3.36739599e+12j\n",
      "  2.72096035e-02-3.36739599e+12j -2.00982120e+11+3.22842978e+12j\n",
      " -2.00982120e+11-3.22842978e+12j -5.62263542e+08+3.23839656e+12j\n",
      " -5.62263542e+08-3.23839656e+12j  5.33042441e-02+3.23104847e+12j\n",
      "  5.33042441e-02-3.23104847e+12j  1.60649705e-01+3.21374785e+12j\n",
      "  1.60649705e-01-3.21374785e+12j -2.01245218e+07+3.21417675e+12j\n",
      " -2.01245218e+07-3.21417675e+12j -2.14842478e+11+3.09603333e+12j\n",
      " -2.14842478e+11-3.09603333e+12j -3.34515950e+11+2.76693270e+12j\n",
      " -3.34515950e+11-2.76693270e+12j -2.18562615e+11+2.98957123e+12j\n",
      " -2.18562615e+11-2.98957123e+12j -2.45303006e+11+2.91504081e+12j\n",
      " -2.45303006e+11-2.91504081e+12j -4.17146739e+09+3.08481026e+12j\n",
      " -4.17146739e+09-3.08481026e+12j -1.17070355e-01+3.07806679e+12j\n",
      " -1.17070355e-01-3.07806679e+12j  1.70988736e-01+2.97097516e+12j\n",
      "  1.70988736e-01-2.97097516e+12j -7.96635412e+07+2.97046285e+12j\n",
      " -7.96635412e+07-2.97046285e+12j  8.47545302e-02+2.93477891e+12j\n",
      "  8.47545302e-02-2.93477891e+12j -5.77901828e+08+2.94089739e+12j\n",
      " -5.77901828e+08-2.94089739e+12j -6.11090575e+11+2.26584116e+12j\n",
      " -6.11090575e+11-2.26584116e+12j  1.28262774e-02+2.70676717e+12j\n",
      "  1.28262774e-02-2.70676717e+12j -3.22229375e+08+2.71494730e+12j\n",
      " -3.22229375e+08-2.71494730e+12j  2.05515566e-03+2.75179175e+12j\n",
      "  2.05515566e-03-2.75179175e+12j -2.68972513e+09+2.74217874e+12j\n",
      " -2.68972513e+09-2.74217874e+12j  7.56781187e-02+2.48065132e+12j\n",
      "  7.56781187e-02-2.48065132e+12j -7.69413989e+09+2.47259967e+12j\n",
      " -7.69413989e+09-2.47259967e+12j -6.65036638e+11+1.72594589e+12j\n",
      " -6.65036638e+11-1.72594589e+12j -1.32817556e-01+2.14883365e+12j\n",
      " -1.32817556e-01-2.14883365e+12j -1.36120920e+09+2.14852149e+12j\n",
      " -1.36120920e+09-2.14852149e+12j  3.82589973e-02+2.06090500e+12j\n",
      "  3.82589973e-02-2.06090500e+12j -6.16775211e+07+2.05883881e+12j\n",
      " -6.16775211e+07-2.05883881e+12j -2.13507948e+10+1.65095817e+12j\n",
      " -2.13507948e+10-1.65095817e+12j  1.35617335e-02+1.61767670e+12j\n",
      "  1.35617335e-02-1.61767670e+12j -6.20568996e+11+1.26337467e+12j\n",
      " -6.20568996e+11-1.26337467e+12j -9.32097875e+08+1.37116276e+12j\n",
      " -9.32097875e+08-1.37116276e+12j -2.07877392e-02+1.35117588e+12j\n",
      " -2.07877392e-02-1.35117588e+12j -5.50757968e+11+9.35205563e+11j\n",
      " -5.50757968e+11-9.35205563e+11j -7.37743496e+08+1.13975531e+12j\n",
      " -7.37743496e+08-1.13975531e+12j  1.41169641e-02+1.13266388e+12j\n",
      "  1.41169641e-02-1.13266388e+12j -3.76055985e+11+6.57937127e+11j\n",
      " -3.76055985e+11-6.57937127e+11j  1.90587880e-02+7.47166592e+11j\n",
      "  1.90587880e-02-7.47166592e+11j -1.46649078e+09+7.48009426e+11j\n",
      " -1.46649078e+09-7.48009426e+11j -7.72119224e-03+7.03748733e+11j\n",
      " -7.72119224e-03-7.03748733e+11j -5.68852142e+09+6.84023478e+11j\n",
      " -5.68852142e+09-6.84023478e+11j -7.06239206e+10+6.96239569e+11j\n",
      " -7.06239206e+10-6.96239569e+11j -7.80324442e+10+6.83195668e+11j\n",
      " -7.80324442e+10-6.83195668e+11j -2.34298932e+11+4.26070894e+11j\n",
      " -2.34298932e+11-4.26070894e+11j  1.08763638e-02+4.27929619e+11j\n",
      "  1.08763638e-02-4.27929619e+11j -1.37498879e+09+4.25151594e+11j\n",
      " -1.37498879e+09-4.25151594e+11j -6.88377532e-03+4.16477719e+11j\n",
      " -6.88377532e-03-4.16477719e+11j -3.75454274e+09+4.10662252e+11j\n",
      " -3.75454274e+09-4.10662252e+11j -1.41974776e+11+2.17792814e+11j\n",
      " -1.41974776e+11-2.17792814e+11j -3.95392469e+10+3.28651582e+11j\n",
      " -3.95392469e+10-3.28651582e+11j -2.14024714e-02+3.34718800e+11j\n",
      " -2.14024714e-02-3.34718800e+11j -8.75949715e+07+3.34409901e+11j\n",
      " -8.75949715e+07-3.34409901e+11j -1.36042108e+09+3.23152579e+11j\n",
      " -1.36042108e+09-3.23152579e+11j -1.47347809e-02+3.25373424e+11j\n",
      " -1.47347809e-02-3.25373424e+11j -2.81845573e+10+3.14560167e+11j\n",
      " -2.81845573e+10-3.14560167e+11j -1.33689997e+11+1.34083047e+11j\n",
      " -1.33689997e+11-1.34083047e+11j -6.90257709e+07+2.89908717e+11j\n",
      " -6.90257709e+07-2.89908717e+11j -2.76695897e-03+2.90271254e+11j\n",
      " -2.76695897e-03-2.90271254e+11j -1.43909884e-03+2.67958248e+11j\n",
      " -1.43909884e-03-2.67958248e+11j -3.18596938e+09+2.64045059e+11j\n",
      " -3.18596938e+09-2.64045059e+11j  2.48339676e-03+2.35415258e+11j\n",
      "  2.48339676e-03-2.35415258e+11j -2.79561973e+08+2.34859232e+11j\n",
      " -2.79561973e+08-2.34859232e+11j  3.22294224e-03+2.06006697e+11j\n",
      "  3.22294224e-03-2.06006697e+11j -7.43055329e+05+2.06001804e+11j\n",
      " -7.43055329e+05-2.06001804e+11j -9.93242543e+10+0.00000000e+00j\n",
      " -3.06764945e+07+1.58893156e+11j -3.06764945e+07-1.58893156e+11j\n",
      " -1.88282170e-03+1.58878308e+11j -1.88282170e-03-1.58878308e+11j\n",
      "  7.93567779e-03+1.37328625e+11j  7.93567779e-03-1.37328625e+11j\n",
      " -1.61277269e+09+1.34957459e+11j -1.61277269e+09-1.34957459e+11j\n",
      " -1.51688789e+09+8.40179058e+10j -1.51688789e+09-8.40179058e+10j\n",
      " -4.06692095e-03+8.51839523e+10j -4.06692095e-03-8.51839523e+10j\n",
      " -1.18773559e+08+3.18588377e+10j -1.18773559e+08-3.18588377e+10j\n",
      "  1.69476148e-03+3.17250256e+10j  1.69476148e-03-3.17250256e+10j\n",
      " -1.02948335e+10+3.40431474e+09j -1.02948335e+10-3.40431474e+09j\n",
      " -8.41654062e+09+5.51096152e+09j -8.41654062e+09-5.51096152e+09j\n",
      " -7.51929086e-03+1.44989820e+10j -7.51929086e-03-1.44989820e+10j\n",
      " -2.56812677e+06+1.45099212e+10j -2.56812677e+06-1.45099212e+10j\n",
      " -1.47038079e+09+1.35114909e+10j -1.47038079e+09-1.35114909e+10j\n",
      " -1.42098771e+09+1.33328286e+10j -1.42098771e+09-1.33328286e+10j\n",
      "  1.65111553e-03+1.21208098e+10j  1.65111553e-03-1.21208098e+10j\n",
      " -8.99450388e+05+1.21255920e+10j -8.99450388e+05-1.21255920e+10j\n",
      " -1.09109085e+06+7.33144104e+09j -1.09109085e+06-7.33144104e+09j\n",
      "  1.88010936e-03+7.32121406e+09j  1.88010936e-03-7.32121406e+09j\n",
      " -2.46648705e-03+0.00000000e+00j             nan           +nanj\n",
      "             nan           +nanj             nan           +nanj\n",
      "             nan           +nanj             nan           +nanj\n",
      "             nan           +nanj             nan           +nanj\n",
      "             nan           +nanj             nan           +nanj\n",
      "             nan           +nanj             nan           +nanj\n",
      "             nan           +nanj             nan           +nanj\n",
      "             nan           +nanj             nan           +nanj\n",
      "             nan           +nanj             nan           +nanj\n",
      "             nan           +nanj             nan           +nanj\n",
      "             nan           +nanj             nan           +nanj\n",
      "             nan           +nanj             nan           +nanj\n",
      "             nan           +nanj             nan           +nanj\n",
      "             nan           +nanj             nan           +nanj\n",
      "             nan           +nanj             nan           +nanj\n",
      "             nan           +nanj             nan           +nanj\n",
      "             nan           +nanj             nan           +nanj\n",
      "             nan           +nanj             nan           +nanj\n",
      "             nan           +nanj             nan           +nanj\n",
      "             nan           +nanj             nan           +nanj\n",
      "             nan           +nanj             nan           +nanj\n",
      "             nan           +nanj             nan           +nanj\n",
      "             nan           +nanj             nan           +nanj\n",
      "             nan           +nanj             nan           +nanj\n",
      "             nan           +nanj             nan           +nanj\n",
      "             nan           +nanj             nan           +nanj\n",
      "             nan           +nanj             nan           +nanj\n",
      "             nan           +nanj             nan           +nanj\n",
      "             nan           +nanj             nan           +nanj\n",
      "             nan           +nanj             nan           +nanj\n",
      "             nan           +nanj             nan           +nanj\n",
      "             nan           +nanj             nan           +nanj\n",
      "             nan           +nanj             nan           +nanj\n",
      "             nan           +nanj             nan           +nanj\n",
      "             nan           +nanj             nan           +nanj\n",
      "             nan           +nanj             nan           +nanj\n",
      "             nan           +nanj             nan           +nanj\n",
      "             nan           +nanj             nan           +nanj\n",
      "             nan           +nanj             nan           +nanj\n",
      "             nan           +nanj             nan           +nanj\n",
      "             nan           +nanj             nan           +nanj\n",
      "             nan           +nanj             nan           +nanj\n",
      "             nan           +nanj             nan           +nanj\n",
      "             nan           +nanj             nan           +nanj\n",
      "             nan           +nanj             nan           +nanj\n",
      "             nan           +nanj             nan           +nanj\n",
      "             nan           +nanj             nan           +nanj\n",
      "             nan           +nanj             nan           +nanj\n",
      "             nan           +nanj             nan           +nanj\n",
      "             nan           +nanj             nan           +nanj\n",
      "             nan           +nanj             nan           +nanj\n",
      "             nan           +nanj             nan           +nanj\n",
      "             nan           +nanj             nan           +nanj\n",
      "             nan           +nanj             nan           +nanj\n",
      "             nan           +nanj             nan           +nanj\n",
      "             nan           +nanj             nan           +nanj\n",
      "             nan           +nanj             nan           +nanj\n",
      "             nan           +nanj             nan           +nanj\n",
      "             nan           +nanj             nan           +nanj\n",
      "             nan           +nanj             nan           +nanj\n",
      "             nan           +nanj             nan           +nanj\n",
      "             nan           +nanj             nan           +nanj\n",
      "             nan           +nanj             nan           +nanj\n",
      "             nan           +nanj             nan           +nanj\n",
      "             nan           +nanj             nan           +nanj\n",
      "             nan           +nanj  5.80577186e-04+0.00000000e+00j\n",
      "  3.45823735e-04+0.00000000e+00j -2.82233139e-04+0.00000000e+00j\n",
      "             nan           +nanj             nan           +nanj\n",
      "             nan           +nanj             nan           +nanj\n",
      "             nan           +nanj             nan           +nanj\n",
      "             nan           +nanj             nan           +nanj]\n"
     ]
    },
    {
     "name": "stderr",
     "output_type": "stream",
     "text": [
      "<ipython-input-13-534ada8303a8>:4: RuntimeWarning: invalid value encountered in true_divide\n",
      "  print (w/2/np.pi)\n"
     ]
    }
   ],
   "source": [
    "from scipy.linalg import eig\n",
    "a,b = sys.create_dynamic_equation_matrices()\n",
    "w, v = eig(a, b)\n",
    "print (w/2/np.pi)"
   ]
  },
  {
   "cell_type": "code",
   "execution_count": 16,
   "metadata": {},
   "outputs": [
    {
     "data": {
      "text/plain": [
       "[<matplotlib.lines.Line2D at 0x1ed4e613430>]"
      ]
     },
     "execution_count": 16,
     "metadata": {},
     "output_type": "execute_result"
    },
    {
     "data": {
      "image/png": "[encoded data removed]",
      "text/plain": [
       "<Figure size 432x288 with 1 Axes>"
      ]
     },
     "metadata": {
      "needs_background": "light"
     },
     "output_type": "display_data"
    }
   ],
   "source": [
    "f = np.linspace(7.1e9, 7.4e9, 1001)\n",
    "s11 = sample.get_s21('p1', 'p1', f)\n",
    "s21 = sample.get_s21('p1', 'p2', f)\n",
    "from matplotlib import pyplot as plt\n",
    "plt.plot(f, np.abs(s11))\n",
    "plt.plot(f, np.abs(s21))"
   ]
  },
  {
   "cell_type": "code",
   "execution_count": 11,
   "metadata": {},
   "outputs": [
    {
     "name": "stdout",
     "output_type": "stream",
     "text": [
      "> \u001b[1;32mc:\\documents-cloud\\qubits\\simulation\\qcreator\\qcreator\\transmission_line_simulator.py\u001b[0m(136)\u001b[0;36mboundary_condition\u001b[1;34m()\u001b[0m\n",
      "\u001b[1;32m    134 \u001b[1;33m            \u001b[0mboundary_condition_matrix\u001b[0m\u001b[1;33m[\u001b[0m       \u001b[1;36m0\u001b[0m\u001b[1;33m:\u001b[0m\u001b[0mself\u001b[0m\u001b[1;33m.\u001b[0m\u001b[0mn\u001b[0m\u001b[1;33m,\u001b[0m  \u001b[0mself\u001b[0m\u001b[1;33m.\u001b[0m\u001b[0mn\u001b[0m\u001b[1;33m*\u001b[0m\u001b[1;36m4\u001b[0m\u001b[1;33m+\u001b[0m\u001b[0mmode_pair_id\u001b[0m\u001b[1;33m]\u001b[0m \u001b[1;33m=\u001b[0m \u001b[1;33m-\u001b[0m\u001b[0mnp\u001b[0m\u001b[1;33m.\u001b[0m\u001b[0masarray\u001b[0m\u001b[1;33m(\u001b[0m\u001b[0mmode_pair\u001b[0m\u001b[1;33m[\u001b[0m\u001b[1;36m1\u001b[0m\u001b[1;33m]\u001b[0m\u001b[1;33m[\u001b[0m\u001b[1;33m:\u001b[0m\u001b[0mself\u001b[0m\u001b[1;33m.\u001b[0m\u001b[0mn\u001b[0m\u001b[1;33m]\u001b[0m\u001b[1;33m)\u001b[0m\u001b[1;33m\u001b[0m\u001b[1;33m\u001b[0m\u001b[0m\n",
      "\u001b[0m\u001b[1;32m    135 \u001b[1;33m            \u001b[0mboundary_condition_matrix\u001b[0m\u001b[1;33m[\u001b[0m  \u001b[0mself\u001b[0m\u001b[1;33m.\u001b[0m\u001b[0mn\u001b[0m\u001b[1;33m:\u001b[0m\u001b[0mself\u001b[0m\u001b[1;33m.\u001b[0m\u001b[0mn\u001b[0m\u001b[1;33m*\u001b[0m\u001b[1;36m2\u001b[0m\u001b[1;33m,\u001b[0m\u001b[0mself\u001b[0m\u001b[1;33m.\u001b[0m\u001b[0mn\u001b[0m\u001b[1;33m*\u001b[0m\u001b[1;36m4\u001b[0m\u001b[1;33m+\u001b[0m\u001b[0mmode_pair_id\u001b[0m\u001b[1;33m]\u001b[0m \u001b[1;33m=\u001b[0m \u001b[1;33m-\u001b[0m\u001b[0mnp\u001b[0m\u001b[1;33m.\u001b[0m\u001b[0masarray\u001b[0m\u001b[1;33m(\u001b[0m\u001b[0mmode_pair\u001b[0m\u001b[1;33m[\u001b[0m\u001b[1;36m1\u001b[0m\u001b[1;33m]\u001b[0m\u001b[1;33m[\u001b[0m\u001b[1;33m:\u001b[0m\u001b[0mself\u001b[0m\u001b[1;33m.\u001b[0m\u001b[0mn\u001b[0m\u001b[1;33m]\u001b[0m\u001b[1;33m)\u001b[0m\u001b[1;33m*\u001b[0m\u001b[0mnp\u001b[0m\u001b[1;33m.\u001b[0m\u001b[0mexp\u001b[0m\u001b[1;33m(\u001b[0m\u001b[1;36m1j\u001b[0m\u001b[1;33m*\u001b[0m\u001b[0mmode_pair\u001b[0m\u001b[1;33m[\u001b[0m\u001b[1;36m0\u001b[0m\u001b[1;33m]\u001b[0m\u001b[1;33m*\u001b[0m\u001b[0mself\u001b[0m\u001b[1;33m.\u001b[0m\u001b[0ml\u001b[0m\u001b[1;33m*\u001b[0m\u001b[0momega\u001b[0m\u001b[1;33m)\u001b[0m\u001b[1;33m\u001b[0m\u001b[1;33m\u001b[0m\u001b[0m\n",
      "\u001b[0m\u001b[1;32m--> 136 \u001b[1;33m            \u001b[0mboundary_condition_matrix\u001b[0m\u001b[1;33m[\u001b[0m\u001b[0mself\u001b[0m\u001b[1;33m.\u001b[0m\u001b[0mn\u001b[0m\u001b[1;33m*\u001b[0m\u001b[1;36m2\u001b[0m\u001b[1;33m:\u001b[0m\u001b[0mself\u001b[0m\u001b[1;33m.\u001b[0m\u001b[0mn\u001b[0m\u001b[1;33m*\u001b[0m\u001b[1;36m3\u001b[0m\u001b[1;33m,\u001b[0m\u001b[0mself\u001b[0m\u001b[1;33m.\u001b[0m\u001b[0mn\u001b[0m\u001b[1;33m*\u001b[0m\u001b[1;36m4\u001b[0m\u001b[1;33m+\u001b[0m\u001b[0mmode_pair_id\u001b[0m\u001b[1;33m]\u001b[0m \u001b[1;33m=\u001b[0m \u001b[0mnp\u001b[0m\u001b[1;33m.\u001b[0m\u001b[0masarray\u001b[0m\u001b[1;33m(\u001b[0m\u001b[0mmode_pair\u001b[0m\u001b[1;33m[\u001b[0m\u001b[1;36m1\u001b[0m\u001b[1;33m]\u001b[0m\u001b[1;33m[\u001b[0m\u001b[0mself\u001b[0m\u001b[1;33m.\u001b[0m\u001b[0mn\u001b[0m\u001b[1;33m:\u001b[0m\u001b[1;33m]\u001b[0m\u001b[1;33m)\u001b[0m\u001b[1;33m\u001b[0m\u001b[1;33m\u001b[0m\u001b[0m\n",
      "\u001b[0m\u001b[1;32m    137 \u001b[1;33m            \u001b[0mboundary_condition_matrix\u001b[0m\u001b[1;33m[\u001b[0m\u001b[0mself\u001b[0m\u001b[1;33m.\u001b[0m\u001b[0mn\u001b[0m\u001b[1;33m*\u001b[0m\u001b[1;36m3\u001b[0m\u001b[1;33m:\u001b[0m        \u001b[1;33m,\u001b[0m\u001b[0mself\u001b[0m\u001b[1;33m.\u001b[0m\u001b[0mn\u001b[0m\u001b[1;33m*\u001b[0m\u001b[1;36m4\u001b[0m\u001b[1;33m+\u001b[0m\u001b[0mmode_pair_id\u001b[0m\u001b[1;33m]\u001b[0m \u001b[1;33m=\u001b[0m \u001b[1;33m-\u001b[0m\u001b[0mnp\u001b[0m\u001b[1;33m.\u001b[0m\u001b[0masarray\u001b[0m\u001b[1;33m(\u001b[0m\u001b[0mmode_pair\u001b[0m\u001b[1;33m[\u001b[0m\u001b[1;36m1\u001b[0m\u001b[1;33m]\u001b[0m\u001b[1;33m[\u001b[0m\u001b[0mself\u001b[0m\u001b[1;33m.\u001b[0m\u001b[0mn\u001b[0m\u001b[1;33m:\u001b[0m\u001b[1;33m]\u001b[0m\u001b[1;33m)\u001b[0m\u001b[1;33m*\u001b[0m\u001b[0mnp\u001b[0m\u001b[1;33m.\u001b[0m\u001b[0mexp\u001b[0m\u001b[1;33m(\u001b[0m\u001b[1;36m1j\u001b[0m\u001b[1;33m*\u001b[0m\u001b[0mmode_pair\u001b[0m\u001b[1;33m[\u001b[0m\u001b[1;36m0\u001b[0m\u001b[1;33m]\u001b[0m\u001b[1;33m*\u001b[0m\u001b[0mself\u001b[0m\u001b[1;33m.\u001b[0m\u001b[0ml\u001b[0m\u001b[1;33m*\u001b[0m\u001b[0momega\u001b[0m\u001b[1;33m)\u001b[0m\u001b[1;33m\u001b[0m\u001b[1;33m\u001b[0m\u001b[0m\n",
      "\u001b[0m\u001b[1;32m    138 \u001b[1;33m        \u001b[1;31m#print(mode_pair)\u001b[0m\u001b[1;33m\u001b[0m\u001b[1;33m\u001b[0m\u001b[1;33m\u001b[0m\u001b[0m\n",
      "\u001b[0m\n",
      "ipdb> self\n",
      "TL fo-left0_group0 (n=1)\n",
      "ipdb> quit\n"
     ]
    }
   ],
   "source": [
    "%debug"
   ]
  },
  {
   "cell_type": "code",
   "execution_count": 19,
   "metadata": {},
   "outputs": [],
   "source": [
    "sys, connections, elements_ = sample.get_tls()"
   ]
  },
  {
   "cell_type": "code",
   "execution_count": 20,
   "metadata": {},
   "outputs": [
    {
     "data": {
      "text/plain": [
       "{'chip_edge_ground': [],\n",
       " 'p1': [<QCreator.transmission_line_simulator.Port at 0x2407ef908b0>],\n",
       " 'p2': [<QCreator.transmission_line_simulator.Port at 0x2407ef90640>],\n",
       " 'coupler0': [<QCreator.transmission_line_simulator.TLCoupler at 0x2407ef54940>],\n",
       " 'fo-left0': [<QCreator.transmission_line_simulator.TLCoupler at 0x2407d2a5ee0>,\n",
       "  <QCreator.transmission_line_simulator.TLCoupler at 0x2407bbb07c0>,\n",
       "  <QCreator.transmission_line_simulator.TLCoupler at 0x2407ef54880>],\n",
       " 'fo-right0': [<QCreator.transmission_line_simulator.TLCoupler at 0x2407ef900a0>,\n",
       "  <QCreator.transmission_line_simulator.TLCoupler at 0x2407ef90070>,\n",
       "  <QCreator.transmission_line_simulator.TLCoupler at 0x2407ef90040>],\n",
       " 'connection0': [<QCreator.transmission_line_simulator.TLCoupler at 0x2407ef54790>],\n",
       " 'resonator-up-element0': [<QCreator.transmission_line_simulator.TLCoupler at 0x2407ef54ee0>],\n",
       " 'resonator-down-element0': [<QCreator.transmission_line_simulator.TLCoupler at 0x2407ef90a90>],\n",
       " 'resonator-up-left0': [<QCreator.transmission_line_simulator.TLCoupler at 0x2407ef902b0>],\n",
       " 'resonator-down-left0': [<QCreator.transmission_line_simulator.TLCoupler at 0x2407ef90130>],\n",
       " 'connection1': [<QCreator.transmission_line_simulator.TLCoupler at 0x2407ef901c0>]}"
      ]
     },
     "execution_count": 20,
     "metadata": {},
     "output_type": "execute_result"
    }
   ],
   "source": [
    "elements_"
   ]
  },
  {
   "cell_type": "code",
   "execution_count": 14,
   "metadata": {},
   "outputs": [
    {
     "data": {
      "text/plain": [
       "{(CPWCoupler \"coupler0\", n=3, 'port1', 0): 1,\n",
       " (RectFanout fo-left0, n=3, grouping=(1, 2), 'wide', 0): 1,\n",
       " (CPWCoupler \"coupler0\", n=3, 'port1', 1): 2,\n",
       " (RectFanout fo-left0, n=3, grouping=(1, 2), 'wide', 1): 2,\n",
       " (CPWCoupler \"coupler0\", n=3, 'port1', 2): 3,\n",
       " (RectFanout fo-left0, n=3, grouping=(1, 2), 'wide', 2): 3,\n",
       " (CPWCoupler \"coupler0\", n=3, 'port2', 0): 4,\n",
       " (RectFanout fo-right0, n=3, grouping=(1, 2), 'wide', 0): 4,\n",
       " (CPWCoupler \"coupler0\", n=3, 'port2', 1): 5,\n",
       " (RectFanout fo-right0, n=3, grouping=(1, 2), 'wide', 1): 5,\n",
       " (CPWCoupler \"coupler0\", n=3, 'port2', 2): 6,\n",
       " (RectFanout fo-right0, n=3, grouping=(1, 2), 'wide', 2): 6,\n",
       " (CPW \"connection0\", 'port1', 0): 7,\n",
       " (<QCreator.elements.pad.Pad at 0x2407d2a51c0>, 'port', 0): 7,\n",
       " (CPW \"connection0\", 'port2', 0): 8,\n",
       " (RectFanout fo-left0, n=3, grouping=(1, 2), 'center', 0): 8,\n",
       " (CPW \"resonator-up-left0\", 'port1', 0): 9,\n",
       " (CPW \"resonator-up-element0\", 'port1', 0): 9,\n",
       " (CPW \"resonator-up-left0\", 'port2', 0): 10,\n",
       " (RectFanout fo-left0, n=3, grouping=(1, 2), 'up', 0): 10,\n",
       " (CPW \"resonator-down-left0\", 'port1', 0): 11,\n",
       " (CPW \"resonator-down-element0\", 'port1', 0): 11,\n",
       " (CPW \"resonator-down-left0\", 'port2', 0): 12,\n",
       " (RectFanout fo-left0, n=3, grouping=(1, 2), 'down', 0): 12,\n",
       " (CPW \"connection1\", 'port1', 0): 13,\n",
       " (RectFanout fo-right0, n=3, grouping=(1, 2), 'center', 0): 13,\n",
       " (CPW \"connection1\", 'port2', 0): 14,\n",
       " (<QCreator.elements.pad.Pad at 0x2407d22c5e0>, 'port', 0): 14,\n",
       " (RectFanout fo-right0, n=3, grouping=(1, 2), 'down', 0): 15,\n",
       " (RectFanout fo-right0, n=3, grouping=(1, 2), 'up', 0): 16,\n",
       " (CPW \"resonator-up-element0\", 'port2', 0): 17,\n",
       " (CPW \"resonator-down-element0\", 'port2', 0): 18}"
      ]
     },
     "execution_count": 14,
     "metadata": {},
     "output_type": "execute_result"
    }
   ],
   "source": [
    "connections"
   ]
  },
  {
   "cell_type": "code",
   "execution_count": 27,
   "metadata": {},
   "outputs": [
    {
     "data": {
      "text/plain": [
       "[<matplotlib.lines.Line2D at 0x1266a8462b0>]"
      ]
     },
     "execution_count": 27,
     "metadata": {},
     "output_type": "execute_result"
    },
    {
     "data": {
      "image/png": "[encoded data removed]",
      "text/plain": [
       "<Figure size 432x288 with 1 Axes>"
      ]
     },
     "metadata": {
      "needs_background": "light"
     },
     "output_type": "display_data"
    }
   ],
   "source": [
    "frequencies = np.linspace(1, 30e3, 1001)\n",
    "fields = []\n",
    "for f_id, f in enumerate(frequencies):\n",
    "    eq_vi, eq_dof = sys.get_element_dynamic_equations(elements_['p1'][0])\n",
    "    v1, i1, a1 = sys.get_element_dofs(elements_['p1'][0])\n",
    "    v2, i2, a2 = sys.get_element_dofs(elements_['p2'][0])\n",
    "    m = sys.create_boundary_problem_matrix(f*np.pi*2)\n",
    "    boundary = np.zeros(len(sys.dof_mapping))\n",
    "    boundary[eq_vi] = 1\n",
    "    fields.append(np.linalg.solve(m, boundary))\n",
    "#plt.plot(frequencies, np.abs(np.asarray(fields)[:, v1[0]]))\n",
    "plt.plot(frequencies, np.abs(np.asarray(fields)[:, a1[0]]))\n",
    "plt.plot(frequencies, np.abs(np.asarray(fields)[:, a2[0]]))"
   ]
  },
  {
   "cell_type": "code",
   "execution_count": 29,
   "metadata": {},
   "outputs": [],
   "source": [
    "design.write_gds('results/test_ilya1.gds')"
   ]
  },
  {
   "cell_type": "code",
   "execution_count": 39,
   "metadata": {},
   "outputs": [
    {
     "data": {
      "text/plain": [
       "[1]"
      ]
     },
     "execution_count": 39,
     "metadata": {},
     "output_type": "execute_result"
    }
   ],
   "source": [
    "v2"
   ]
  },
  {
   "cell_type": "code",
   "execution_count": 36,
   "metadata": {},
   "outputs": [
    {
     "data": {
      "text/plain": [
       "array([[  1.,  50.,   0.],\n",
       "       [  1., -50.,   1.],\n",
       "       [  0.,   1.,   0.]])"
      ]
     },
     "execution_count": 36,
     "metadata": {},
     "output_type": "execute_result"
    }
   ],
   "source": [
    "np.round(np.real((sys.create_boundary_problem_matrix(0))),4)"
   ]
  },
  {
   "cell_type": "code",
   "execution_count": 33,
   "metadata": {},
   "outputs": [
    {
     "data": {
      "text/plain": [
       "array([[50.90224235]])"
      ]
     },
     "execution_count": 33,
     "metadata": {},
     "output_type": "execute_result"
    }
   ],
   "source": [
    "np.sqrt(elements_['feedline'][0].Ll/elements_['feedline'][0].Cl)"
   ]
  },
  {
   "cell_type": "code",
   "execution_count": 20,
   "metadata": {},
   "outputs": [
    {
     "data": {
      "text/plain": [
       "({'p1': [<QCreator.transmission_line_simulator.Port at 0x2537f1735b0>],\n",
       "  'p2': [<QCreator.transmission_line_simulator.Port at 0x2537f173370>],\n",
       "  'chip_edge_ground': [],\n",
       "  'feedline': [<QCreator.transmission_line_simulator.TLCoupler at 0x2537f173640>]},\n",
       " array([[ 1.0e+00+0.j  ,  0.0e+00+0.j  ,  0.0e+00+0.j  ,  0.0e+00+0.j  ,\n",
       "          0.0e+00+0.j  ,  0.0e+00+0.j  ,  5.0e+01+0.j  ,  0.0e+00+0.j  ,\n",
       "          0.0e+00+0.j  ,  0.0e+00+0.j  ],\n",
       "        [ 0.0e+00+0.j  ,  0.0e+00+0.j  , -1.0e+00+0.j  ,  0.0e+00+0.j  ,\n",
       "          0.0e+00+0.j  ,  0.0e+00+0.j  ,  1.0e+00+0.j  ,  0.0e+00+0.j  ,\n",
       "          0.0e+00+0.j  ,  0.0e+00+0.j  ],\n",
       "        [ 0.0e+00+0.j  ,  1.0e+00+0.j  ,  0.0e+00+0.j  ,  0.0e+00+0.j  ,\n",
       "          0.0e+00+0.j  ,  0.0e+00+0.j  ,  0.0e+00+0.j  ,  5.0e+01+0.j  ,\n",
       "          0.0e+00+0.j  ,  0.0e+00+0.j  ],\n",
       "        [ 0.0e+00+0.j  ,  0.0e+00+0.j  ,  0.0e+00+0.j  , -1.0e+00+0.j  ,\n",
       "          0.0e+00+0.j  ,  0.0e+00+0.j  ,  0.0e+00+0.j  ,  1.0e+00+0.j  ,\n",
       "          0.0e+00+0.j  ,  0.0e+00+0.j  ],\n",
       "        [ 1.0e+00+0.j  ,  0.0e+00+0.j  ,  0.0e+00+0.j  ,  0.0e+00+0.j  ,\n",
       "          0.0e+00+0.j  ,  0.0e+00+0.j  ,  0.0e+00+0.j  ,  0.0e+00+0.j  ,\n",
       "         -1.0e+00+0.j  ,  1.0e+00+0.j  ],\n",
       "        [ 0.0e+00+0.j  ,  1.0e+00+0.j  ,  0.0e+00+0.j  ,  0.0e+00+0.j  ,\n",
       "          0.0e+00+0.j  ,  0.0e+00+0.j  ,  0.0e+00+0.j  ,  0.0e+00+0.j  ,\n",
       "         -3.7e-01+0.93j,  3.7e-01+0.93j],\n",
       "        [ 0.0e+00+0.j  ,  0.0e+00+0.j  ,  0.0e+00+0.j  ,  0.0e+00+0.j  ,\n",
       "          1.0e+00+0.j  ,  0.0e+00+0.j  ,  0.0e+00+0.j  ,  0.0e+00+0.j  ,\n",
       "          2.0e-02+0.j  ,  2.0e-02+0.j  ],\n",
       "        [ 0.0e+00+0.j  ,  0.0e+00+0.j  ,  0.0e+00+0.j  ,  0.0e+00+0.j  ,\n",
       "          0.0e+00+0.j  ,  1.0e+00+0.j  ,  0.0e+00+0.j  ,  0.0e+00+0.j  ,\n",
       "         -1.0e-02+0.02j, -1.0e-02-0.02j],\n",
       "        [ 0.0e+00+0.j  ,  0.0e+00+0.j  ,  1.0e+00+0.j  ,  0.0e+00+0.j  ,\n",
       "          1.0e+00+0.j  ,  0.0e+00+0.j  ,  0.0e+00+0.j  ,  0.0e+00+0.j  ,\n",
       "          0.0e+00+0.j  ,  0.0e+00+0.j  ],\n",
       "        [ 0.0e+00+0.j  ,  0.0e+00+0.j  ,  0.0e+00+0.j  ,  1.0e+00+0.j  ,\n",
       "          0.0e+00+0.j  ,  1.0e+00+0.j  ,  0.0e+00+0.j  ,  0.0e+00+0.j  ,\n",
       "          0.0e+00+0.j  ,  0.0e+00+0.j  ]]))"
      ]
     },
     "execution_count": 20,
     "metadata": {},
     "output_type": "execute_result"
    }
   ],
   "source": [
    "elements_, np.round(m, 2)"
   ]
  },
  {
   "cell_type": "code",
   "execution_count": 24,
   "metadata": {},
   "outputs": [
    {
     "data": {
      "text/plain": [
       "7699.837999945999"
      ]
     },
     "execution_count": 24,
     "metadata": {},
     "output_type": "execute_result"
    }
   ],
   "source": [
    "elements_['feedline'][0].l"
   ]
  },
  {
   "cell_type": "code",
   "execution_count": 6,
   "metadata": {
    "ExecuteTime": {
     "end_time": "2020-09-06T10:17:31.063577Z",
     "start_time": "2020-09-06T10:17:20.664935Z"
    }
   },
   "outputs": [
    {
     "name": "stderr",
     "output_type": "stream",
     "text": [
      "<ipython-input-3-1fe8b7b94d80>:1: DeprecationWarning: [GDSPY] Use of the global library is deprecated.  Pass LayoutViewer a GdsLibrary instance.\n",
      "  watch=lambda: gdspy.LayoutViewer(depth=0,pattern={'default': 8},background='#FFFFFF') #this opens a viewer\n"
     ]
    },
    {
     "data": {
      "text/plain": [
       "<gdspy.viewer.LayoutViewer object .!layoutviewer>"
      ]
     },
     "execution_count": 6,
     "metadata": {},
     "output_type": "execute_result"
    }
   ],
   "source": [
    "watch()"
   ]
  },
  {
   "cell_type": "code",
   "execution_count": 9,
   "metadata": {},
   "outputs": [
    {
     "data": {
      "text/plain": [
       "[{'type': 'endpoint', 'endpoint': array([6015., 2350.])},\n",
       " {'type': 'segment', 'endpoint': array([6015.16200005, 2350.        ])},\n",
       " {'type': 'turn', 'turn': 0.0},\n",
       " {'type': 'segment', 'endpoint': array([8699.83799995, 2350.        ])},\n",
       " {'type': 'turn', 'turn': 0.0},\n",
       " {'type': 'endpoint', 'endpoint': array([8700, 2350])}]"
      ]
     },
     "execution_count": 9,
     "metadata": {},
     "output_type": "execute_result"
    }
   ],
   "source": [
    "sample.objects[-1].segments"
   ]
  },
  {
   "cell_type": "code",
   "execution_count": 14,
   "metadata": {},
   "outputs": [],
   "source": [
    "sys, connections = sample.get_tls()"
   ]
  },
  {
   "cell_type": "code",
   "execution_count": 15,
   "metadata": {},
   "outputs": [
    {
     "data": {
      "text/plain": [
       "array([[ 1.e+00+0.j,  0.e+00+0.j,  0.e+00+0.j,  0.e+00+0.j,  0.e+00+0.j,\n",
       "         0.e+00+0.j,  5.e+01+0.j,  0.e+00+0.j,  0.e+00+0.j,  0.e+00+0.j],\n",
       "       [ 0.e+00+0.j,  0.e+00+0.j, -1.e+00+0.j,  0.e+00+0.j,  0.e+00+0.j,\n",
       "         0.e+00+0.j,  1.e+00+0.j,  0.e+00+0.j,  0.e+00+0.j,  0.e+00+0.j],\n",
       "       [ 0.e+00+0.j,  1.e+00+0.j,  0.e+00+0.j,  0.e+00+0.j,  0.e+00+0.j,\n",
       "         0.e+00+0.j,  0.e+00+0.j,  5.e+01+0.j,  0.e+00+0.j,  0.e+00+0.j],\n",
       "       [ 0.e+00+0.j,  0.e+00+0.j,  0.e+00+0.j, -1.e+00+0.j,  0.e+00+0.j,\n",
       "         0.e+00+0.j,  0.e+00+0.j,  1.e+00+0.j,  0.e+00+0.j,  0.e+00+0.j],\n",
       "       [ 1.e+00+0.j,  0.e+00+0.j,  0.e+00+0.j,  0.e+00+0.j,  0.e+00+0.j,\n",
       "         0.e+00+0.j,  0.e+00+0.j,  0.e+00+0.j, -1.e+00+0.j,  1.e+00+0.j],\n",
       "       [ 0.e+00+0.j,  1.e+00+0.j,  0.e+00+0.j,  0.e+00+0.j,  0.e+00+0.j,\n",
       "         0.e+00+0.j,  0.e+00+0.j,  0.e+00+0.j, -1.e+00+0.j,  1.e+00+0.j],\n",
       "       [ 0.e+00+0.j,  0.e+00+0.j,  0.e+00+0.j,  0.e+00+0.j,  1.e+00+0.j,\n",
       "         0.e+00+0.j,  0.e+00+0.j,  0.e+00+0.j,  2.e-02+0.j,  2.e-02+0.j],\n",
       "       [ 0.e+00+0.j,  0.e+00+0.j,  0.e+00+0.j,  0.e+00+0.j,  0.e+00+0.j,\n",
       "         1.e+00+0.j,  0.e+00+0.j,  0.e+00+0.j, -2.e-02+0.j, -2.e-02+0.j],\n",
       "       [ 0.e+00+0.j,  0.e+00+0.j,  1.e+00+0.j,  0.e+00+0.j,  1.e+00+0.j,\n",
       "         0.e+00+0.j,  0.e+00+0.j,  0.e+00+0.j,  0.e+00+0.j,  0.e+00+0.j],\n",
       "       [ 0.e+00+0.j,  0.e+00+0.j,  0.e+00+0.j,  1.e+00+0.j,  0.e+00+0.j,\n",
       "         1.e+00+0.j,  0.e+00+0.j,  0.e+00+0.j,  0.e+00+0.j,  0.e+00+0.j]])"
      ]
     },
     "execution_count": 15,
     "metadata": {},
     "output_type": "execute_result"
    }
   ],
   "source": [
    "np.round(sys.create_boundary_problem_matrix(1e9), 2)"
   ]
  },
  {
   "cell_type": "code",
   "execution_count": 16,
   "metadata": {},
   "outputs": [
    {
     "data": {
      "text/plain": [
       "{(<libraries.elements.cpw.CPW at 0x1c1a22b0070>, 'port1'): 1,\n",
       " (<libraries.elements.pad.Pad at 0x1c1a21065e0>, 'port'): 1,\n",
       " (<libraries.elements.cpw.CPW at 0x1c1a22b0070>, 'port2'): 2,\n",
       " (<libraries.elements.pad.Pad at 0x1c1a0a1b520>, 'port'): 2}"
      ]
     },
     "execution_count": 16,
     "metadata": {},
     "output_type": "execute_result"
    }
   ],
   "source": [
    "connections"
   ]
  },
  {
   "cell_type": "markdown",
   "metadata": {},
   "source": [
    "## Feedline"
   ]
  },
  {
   "cell_type": "code",
   "execution_count": 5,
   "metadata": {
    "ExecuteTime": {
     "end_time": "2020-08-18T09:08:16.905070Z",
     "start_time": "2020-08-18T09:08:16.891177Z"
    }
   },
   "outputs": [],
   "source": [
    "points = [p1.position, p2.position]\n",
    "#sample.generate_line('feedline', deepcopy(points), tl_core, tl_gap, tl_ground, None)\n",
    "#('feedline', points, tl_core, tl_gap, tl_ground, sample.layer_configuration, R = 20)\n",
    "sample.add(gdf.CPW('feedline', points, tl_core, tl_gap, tl_ground, None, sample.layer_configuration, R = 100))"
   ]
  },
  {
   "cell_type": "code",
   "execution_count": 6,
   "metadata": {
    "ExecuteTime": {
     "end_time": "2020-08-18T09:08:17.166689Z",
     "start_time": "2020-08-18T09:08:17.139110Z"
    }
   },
   "outputs": [],
   "source": [
    "feedline_bridge_params=creator.Bridges_over_line_param(distance=500, offset=30,\n",
    "                    width=15, length=42, padsize=30, line_type=None)\n",
    "\n",
    "#sample.generate_array_of_bridges(deepcopy(points),feedline_bridge_params)"
   ]
  },
  {
   "cell_type": "code",
   "execution_count": 7,
   "metadata": {},
   "outputs": [
    {
     "name": "stderr",
     "output_type": "stream",
     "text": [
      "<ipython-input-2-1fe8b7b94d80>:1: DeprecationWarning: [GDSPY] Use of the global library is deprecated.  Pass LayoutViewer a GdsLibrary instance.\n",
      "  watch=lambda: gdspy.LayoutViewer(depth=0,pattern={'default': 8},background='#FFFFFF') #this opens a viewer\n"
     ]
    },
    {
     "data": {
      "text/plain": [
       "<gdspy.viewer.LayoutViewer object .!layoutviewer>"
      ]
     },
     "execution_count": 7,
     "metadata": {},
     "output_type": "execute_result"
    }
   ],
   "source": [
    "#sample.finish_him()\n",
    "sample.draw_design()\n",
    "watch()"
   ]
  },
  {
   "cell_type": "code",
   "execution_count": 93,
   "metadata": {},
   "outputs": [
    {
     "data": {
      "text/plain": [
       "{'positive': <gdspy.polygon.PolygonSet at 0x213f036d880>,\n",
       " 'restrict': <gdspy.polygon.PolygonSet at 0x213f036d7c0>,\n",
       " 'remove': <gdspy.polygon.PolygonSet at 0x213f036d580>}"
      ]
     },
     "execution_count": 93,
     "metadata": {},
     "output_type": "execute_result"
    }
   ],
   "source": [
    "sample.objects[3].get()"
   ]
  },
  {
   "cell_type": "markdown",
   "metadata": {},
   "source": [
    "## Resonators"
   ]
  },
  {
   "cell_type": "code",
   "execution_count": 7,
   "metadata": {
    "ExecuteTime": {
     "end_time": "2020-08-18T09:08:17.810027Z",
     "start_time": "2020-08-18T09:08:17.803495Z"
    }
   },
   "outputs": [],
   "source": [
    "ratio=0.04 # to have 100th quality factor\n",
    "def coupler_length(frequency, ratio):\n",
    "    c = 299792458\n",
    "    epsilon_eff = (11.45+1)/2\n",
    "    return c/(4*np.sqrt(epsilon_eff)*frequency)*ratio*1e6"
   ]
  },
  {
   "cell_type": "code",
   "execution_count": 8,
   "metadata": {
    "ExecuteTime": {
     "end_time": "2020-08-18T09:08:18.404361Z",
     "start_time": "2020-08-18T09:08:18.388344Z"
    }
   },
   "outputs": [
    {
     "data": {
      "text/plain": [
       "240.31507815012677"
      ]
     },
     "execution_count": 8,
     "metadata": {},
     "output_type": "execute_result"
    }
   ],
   "source": [
    "coupler_length(5e9,ratio)"
   ]
  },
  {
   "cell_type": "code",
   "execution_count": 9,
   "metadata": {
    "ExecuteTime": {
     "end_time": "2020-08-18T09:08:19.340266Z",
     "start_time": "2020-08-18T09:08:19.015709Z"
    }
   },
   "outputs": [
    {
     "name": "stdout",
     "output_type": "stream",
     "text": [
      "32\n",
      "217.0\n"
     ]
    },
    {
     "ename": "NameError",
     "evalue": "name 'Number_of_points' is not defined",
     "output_type": "error",
     "traceback": [
      "\u001b[1;31m---------------------------------------------------------------------------\u001b[0m",
      "\u001b[1;31mNameError\u001b[0m                                 Traceback (most recent call last)",
      "\u001b[1;32m<ipython-input-9-514a41c64ed1>\u001b[0m in \u001b[0;36m<module>\u001b[1;34m\u001b[0m\n\u001b[0;32m     35\u001b[0m                          start[1] + np.sin(line_angle) * (offset + num_bridge * distance))\n\u001b[0;32m     36\u001b[0m         \u001b[0mfreq_num\u001b[0m\u001b[1;33m=\u001b[0m\u001b[0mrandom\u001b[0m\u001b[1;33m.\u001b[0m\u001b[0mrandint\u001b[0m\u001b[1;33m(\u001b[0m\u001b[1;36m0\u001b[0m\u001b[1;33m,\u001b[0m\u001b[0mlen\u001b[0m\u001b[1;33m(\u001b[0m\u001b[0mfreqs\u001b[0m\u001b[1;33m)\u001b[0m\u001b[1;33m-\u001b[0m\u001b[1;36m2\u001b[0m\u001b[1;33m)\u001b[0m\u001b[1;33m\u001b[0m\u001b[1;33m\u001b[0m\u001b[0m\n\u001b[1;32m---> 37\u001b[1;33m         sample.generate_round_resonator(freqs[freq_num] ,(deepcopy(resonator_center)[0],deepcopy(resonator_center)[1]-30) ,\n\u001b[0m\u001b[0;32m     38\u001b[0m                                \u001b[0mcore\u001b[0m \u001b[1;33m=\u001b[0m \u001b[1;36m7\u001b[0m\u001b[1;33m,\u001b[0m\u001b[1;33m\u001b[0m\u001b[1;33m\u001b[0m\u001b[0m\n\u001b[0;32m     39\u001b[0m                                \u001b[0mgap\u001b[0m \u001b[1;33m=\u001b[0m \u001b[1;36m4\u001b[0m\u001b[1;33m,\u001b[0m\u001b[1;33m\u001b[0m\u001b[1;33m\u001b[0m\u001b[0m\n",
      "\u001b[1;32mC:\\Documents-cloud\\qubits\\simulation\\QCreator\\libraries\\general_sample_creator.py\u001b[0m in \u001b[0;36mgenerate_round_resonator\u001b[1;34m(self, frequency, initial_point, core, gap, ground, open_end_length, open_end, coupler_length, l1, l2, l3, l4, l5, h_end, corner_type, angle, bridge_params)\u001b[0m\n\u001b[0;32m    343\u001b[0m                                l1, l2, l3,l4,l5, h_end,corner_type, self.total_layer, self.restricted_area_layer)\n\u001b[0;32m    344\u001b[0m         \u001b[0mself\u001b[0m\u001b[1;33m.\u001b[0m\u001b[0mresonators\u001b[0m\u001b[1;33m.\u001b[0m\u001b[0mappend\u001b[0m\u001b[1;33m(\u001b[0m\u001b[0mresonator\u001b[0m\u001b[1;33m)\u001b[0m\u001b[1;33m\u001b[0m\u001b[1;33m\u001b[0m\u001b[0m\n\u001b[1;32m--> 345\u001b[1;33m         \u001b[0mline\u001b[0m\u001b[1;33m,\u001b[0m\u001b[0mline1\u001b[0m\u001b[1;33m,\u001b[0m\u001b[0mopen_end\u001b[0m\u001b[1;33m,\u001b[0m \u001b[0mpoints\u001b[0m \u001b[1;33m=\u001b[0m \u001b[0mresonator\u001b[0m\u001b[1;33m.\u001b[0m\u001b[0mgenerate_resonator\u001b[0m\u001b[1;33m(\u001b[0m\u001b[1;33m)\u001b[0m\u001b[1;33m\u001b[0m\u001b[1;33m\u001b[0m\u001b[0m\n\u001b[0m\u001b[0;32m    346\u001b[0m         \u001b[1;32mif\u001b[0m \u001b[0mbridge_params\u001b[0m \u001b[1;32mis\u001b[0m \u001b[1;32mnot\u001b[0m \u001b[1;32mNone\u001b[0m\u001b[1;33m:\u001b[0m\u001b[1;33m\u001b[0m\u001b[1;33m\u001b[0m\u001b[0m\n\u001b[0;32m    347\u001b[0m             \u001b[0mdistance\u001b[0m\u001b[1;33m,\u001b[0m \u001b[0moffset\u001b[0m\u001b[1;33m,\u001b[0m \u001b[0mwidth\u001b[0m\u001b[1;33m,\u001b[0m \u001b[0mlength\u001b[0m\u001b[1;33m,\u001b[0m \u001b[0mpadsize\u001b[0m\u001b[1;33m,\u001b[0m \u001b[0mline_type\u001b[0m \u001b[1;33m=\u001b[0m \u001b[0mbridge_params\u001b[0m\u001b[1;33m\u001b[0m\u001b[1;33m\u001b[0m\u001b[0m\n",
      "\u001b[1;32mC:\\Documents-cloud\\qubits\\simulation\\QCreator\\libraries\\general_design_functions.py\u001b[0m in \u001b[0;36mgenerate_resonator\u001b[1;34m(self)\u001b[0m\n\u001b[0;32m    688\u001b[0m \u001b[1;33m\u001b[0m\u001b[0m\n\u001b[0;32m    689\u001b[0m \u001b[1;33m\u001b[0m\u001b[0m\n\u001b[1;32m--> 690\u001b[1;33m         line1 = Feedline(deepcopy(Number_of_points), self.core, self.gap, self.ground, None, self.total_layer, self.restricted_area_layer,\n\u001b[0m\u001b[0;32m    691\u001b[0m                         R=40)\n\u001b[0;32m    692\u001b[0m         \u001b[0mline1\u001b[0m \u001b[1;33m=\u001b[0m \u001b[0mline1\u001b[0m\u001b[1;33m.\u001b[0m\u001b[0mgenerate_feedline\u001b[0m\u001b[1;33m(\u001b[0m\u001b[0mself\u001b[0m\u001b[1;33m.\u001b[0m\u001b[0mcorner_type\u001b[0m\u001b[1;33m)\u001b[0m\u001b[1;33m\u001b[0m\u001b[1;33m\u001b[0m\u001b[0m\n",
      "\u001b[1;31mNameError\u001b[0m: name 'Number_of_points' is not defined"
     ]
    }
   ],
   "source": [
    "import random\n",
    "open_end={\n",
    "    'type':'open',\n",
    "    'ground':4,\n",
    "    'gap':20,\n",
    "    'end':False,\n",
    "    'begin':True\n",
    "}\n",
    "\n",
    "bridge_params=creator.Bridges_over_line_param(distance=500, offset=30,\n",
    "                    width=15, length=42, padsize=30, line_type=None)\n",
    "\n",
    "\n",
    "distance=500\n",
    "offset=200\n",
    "\n",
    "start_freq = 5.0e9\n",
    "stop_freq = 11e9\n",
    "num=5\n",
    "freqs=np.linspace(start_freq,stop_freq,num)\n",
    "\n",
    "for start,finish in [[sample.pads[0].coordinate,sample.pads[1].coordinate]]:\n",
    "    if finish[0] - start[0] == 0:\n",
    "        line_angle = np.pi / 2\n",
    "    else:\n",
    "        line_angle = np.arctan((finish[1] - start[1]) / (finish[0] - start[0]))\n",
    "    if finish[1] - start[1] < 0 or finish[1] - start[1] == 0 and finish[0] - start[0] < 0:\n",
    "        line_angle += np.pi\n",
    "    line_length = np.sqrt((finish[0] - start[0]) ** 2 + (finish[1] - start[1]) ** 2)\n",
    "    total_bridges = int((line_length - 2 * offset) / distance)\n",
    "    offset = (line_length - total_bridges * float(distance)) / 2\n",
    "    print((int((line_length - 2 * offset) / distance) + 1)*2)\n",
    "    for num_bridge in range(int((line_length - 2 * offset) / distance) + 1):\n",
    "        resonator_center = (start[0] + np.cos(line_angle) * (offset + num_bridge * distance),\n",
    "                         start[1] + np.sin(line_angle) * (offset + num_bridge * distance))\n",
    "        freq_num=random.randint(0,len(freqs)-2)\n",
    "        sample.generate_round_resonator(freqs[freq_num] ,(deepcopy(resonator_center)[0],deepcopy(resonator_center)[1]-30) ,\n",
    "                               core = 7,\n",
    "                               gap = 4,\n",
    "                               ground = 4,\n",
    "                               open_end_length = 700,open_end=open_end,\n",
    "                               coupler_length = coupler_length(freqs[freq_num],ratio),\n",
    "                               l1=100, l2=200, l3=50,l4 =50 ,l5=400, h_end=10, \n",
    "                               corner_type='flush',angle=line_angle)\n",
    "        freqs=np.delete(freqs,freq_num)\n",
    "        freq_num=random.randint(0,len(freqs)-2)\n",
    "        sample.generate_round_resonator( freqs[freq_num],(deepcopy(resonator_center)[0],deepcopy(resonator_center)[1]+30),\n",
    "                               core = 7,\n",
    "                               gap = 4,\n",
    "                               ground = 4,\n",
    "                               open_end_length = 700,open_end=open_end,\n",
    "                               coupler_length = coupler_length(freqs[freq_num],ratio),\n",
    "                               l1=100, l2=200, l3=50,l4 =50 ,l5=400, h_end=10, \n",
    "                               corner_type='flush',angle=line_angle+np.pi)\n",
    "        freqs=np.delete(freqs,freq_num)"
   ]
  },
  {
   "cell_type": "markdown",
   "metadata": {
    "ExecuteTime": {
     "end_time": "2020-08-13T17:39:28.487072Z",
     "start_time": "2020-08-13T17:39:28.482088Z"
    }
   },
   "source": [
    "## Fill holes"
   ]
  },
  {
   "cell_type": "code",
   "execution_count": null,
   "metadata": {
    "ExecuteTime": {
     "end_time": "2020-08-17T11:01:25.917193Z",
     "start_time": "2020-08-17T11:01:25.913176Z"
    }
   },
   "outputs": [],
   "source": [
    "# sample.create_grid(20,20)"
   ]
  },
  {
   "cell_type": "code",
   "execution_count": null,
   "metadata": {
    "ExecuteTime": {
     "end_time": "2020-08-17T11:01:32.049511Z",
     "start_time": "2020-08-17T11:01:26.262865Z"
    }
   },
   "outputs": [],
   "source": [
    "sample.finish_him()\n",
    "watch()"
   ]
  },
  {
   "cell_type": "code",
   "execution_count": null,
   "metadata": {
    "ExecuteTime": {
     "end_time": "2020-08-17T10:39:42.001958Z",
     "start_time": "2020-08-17T10:39:41.991940Z"
    }
   },
   "outputs": [],
   "source": [
    "gdspy.write_gds('resonators.gds', cells=None, name='library', unit=1e-06, precision=1e-09, timestamp=None, binary_cells=None)"
   ]
  },
  {
   "cell_type": "markdown",
   "metadata": {},
   "source": [
    "# Resonator analysis"
   ]
  },
  {
   "cell_type": "code",
   "execution_count": 66,
   "metadata": {
    "ExecuteTime": {
     "end_time": "2020-08-17T16:32:48.134554Z",
     "start_time": "2020-08-17T16:32:34.442762Z"
    }
   },
   "outputs": [
    {
     "data": {
      "text/plain": [
       "<module 'libraries.Analys_resonator' from 'E:\\\\Github\\\\QCreator\\\\libraries\\\\Analys_resonator.py'>"
      ]
     },
     "execution_count": 66,
     "metadata": {},
     "output_type": "execute_result"
    }
   ],
   "source": [
    "import libraries.Analys_resonator\n",
    "reload(libraries.Analys_resonator)"
   ]
  },
  {
   "cell_type": "code",
   "execution_count": 35,
   "metadata": {
    "ExecuteTime": {
     "end_time": "2020-08-17T09:38:36.195766Z",
     "start_time": "2020-08-17T09:38:36.190920Z"
    }
   },
   "outputs": [],
   "source": [
    "Resonators=[]\n",
    "freqs=[]\n",
    "Qs=[]\n",
    "for resonator in sample.resonators:\n",
    "    Resonators.append(libraries.Analys_resonator.ResonatorAnalyser(resonator))\n",
    "    Resonators[-1].res.widths=[4,7,4,6,4,7,4]\n",
    "    Resonators[-1].get_conformal_tables(0,2)\n",
    "    f,q=Resonators[-1].simulate_S21()\n",
    "    freqs.append(f)\n",
    "    Qs.append(q)"
   ]
  },
  {
   "cell_type": "code",
   "execution_count": 40,
   "metadata": {
    "ExecuteTime": {
     "end_time": "2020-08-17T09:38:46.089502Z",
     "start_time": "2020-08-17T09:38:45.751111Z"
    }
   },
   "outputs": [
    {
     "data": {
      "image/png": "[encoded data removed]",
      "text/plain": [
       "<Figure size 1080x360 with 3 Axes>"
      ]
     },
     "metadata": {
      "needs_background": "light"
     },
     "output_type": "display_data"
    }
   ],
   "source": [
    "Resonators[0].plot_S21()"
   ]
  },
  {
   "cell_type": "code",
   "execution_count": 41,
   "metadata": {
    "ExecuteTime": {
     "end_time": "2020-08-17T09:38:47.902378Z",
     "start_time": "2020-08-17T09:38:47.855480Z"
    }
   },
   "outputs": [],
   "source": [
    "fitter=res.fit_S21()"
   ]
  },
  {
   "cell_type": "code",
   "execution_count": 42,
   "metadata": {
    "ExecuteTime": {
     "end_time": "2020-08-17T09:38:48.644499Z",
     "start_time": "2020-08-17T09:38:48.286121Z"
    }
   },
   "outputs": [
    {
     "data": {
      "image/png": "[encoded data removed]",
      "text/plain": [
       "<Figure size 720x720 with 3 Axes>"
      ]
     },
     "metadata": {
      "needs_background": "light"
     },
     "output_type": "display_data"
    }
   ],
   "source": [
    "from pylab import rcParams\n",
    "rcParams['figure.figsize'] = 10, 10\n",
    "fitter.plotall()"
   ]
  },
  {
   "cell_type": "code",
   "execution_count": 43,
   "metadata": {
    "ExecuteTime": {
     "end_time": "2020-08-17T09:38:50.624883Z",
     "start_time": "2020-08-17T09:38:50.619315Z"
    }
   },
   "outputs": [
    {
     "data": {
      "text/plain": [
       "{'Qi_dia_corr': 243075205860.25137,\n",
       " 'Qi_no_corr': 324562852293.27356,\n",
       " 'absQc': 87345.53104605802,\n",
       " 'Qc_dia_corr': 87345.53892619415,\n",
       " 'Ql': 87345.50753985673,\n",
       " 'fr': 8349874626.6699705,\n",
       " 'theta0': -3.141167930407307,\n",
       " 'phi0': 0.0004247774919163716,\n",
       " 'phi0_err': 0.02642655183422184,\n",
       " 'Ql_err': 55243.37968913675,\n",
       " 'absQc_err': 44.90265473554724,\n",
       " 'fr_err': 1261.3698213852558,\n",
       " 'chi_square': 6.841299201388535e-07,\n",
       " 'Qi_no_corr_err': 7.631203033108196e+17,\n",
       " 'Qi_dia_corr_err': 4.2802809141776154e+17}"
      ]
     },
     "execution_count": 43,
     "metadata": {},
     "output_type": "execute_result"
    }
   ],
   "source": [
    "fitter.fitresults"
   ]
  },
  {
   "cell_type": "code",
   "execution_count": 44,
   "metadata": {
    "ExecuteTime": {
     "end_time": "2020-08-17T09:38:51.179396Z",
     "start_time": "2020-08-17T09:38:51.171886Z"
    }
   },
   "outputs": [
    {
     "data": {
      "text/plain": [
       "(8.34987462666997, 1.2613698213852558e-06)"
      ]
     },
     "execution_count": 44,
     "metadata": {},
     "output_type": "execute_result"
    }
   ],
   "source": [
    "(fitter.fitresults['fr']/1e9,fitter.fitresults['fr_err']/1e9)"
   ]
  },
  {
   "cell_type": "code",
   "execution_count": 45,
   "metadata": {
    "ExecuteTime": {
     "end_time": "2020-08-17T09:38:51.566094Z",
     "start_time": "2020-08-17T09:38:51.560946Z"
    }
   },
   "outputs": [
    {
     "data": {
      "text/plain": [
       "(87345.50753985673, 55243.37968913675)"
      ]
     },
     "execution_count": 45,
     "metadata": {},
     "output_type": "execute_result"
    }
   ],
   "source": [
    "(fitter.fitresults['Ql'],fitter.fitresults['Ql_err'])"
   ]
  },
  {
   "cell_type": "code",
   "execution_count": null,
   "metadata": {},
   "outputs": [],
   "source": []
  }
 ],
 "metadata": {
  "kernelspec": {
   "display_name": "Python 3",
   "language": "python",
   "name": "python3"
  },
  "language_info": {
   "codemirror_mode": {
    "name": "ipython",
    "version": 3
   },
   "file_extension": ".py",
   "mimetype": "text/x-python",
   "name": "python",
   "nbconvert_exporter": "python",
   "pygments_lexer": "ipython3",
   "version": "3.8.5"
  },
  "toc": {
   "base_numbering": 1,
   "nav_menu": {},
   "number_sections": true,
   "sideBar": true,
   "skip_h1_title": false,
   "title_cell": "Table of Contents",
   "title_sidebar": "Contents",
   "toc_cell": false,
   "toc_position": {},
   "toc_section_display": true,
   "toc_window_display": false
  }
 },
 "nbformat": 4,
 "nbformat_minor": 4
}
