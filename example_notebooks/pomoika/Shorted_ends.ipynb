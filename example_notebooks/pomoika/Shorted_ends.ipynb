{
 "cells": [
  {
   "cell_type": "code",
   "execution_count": 13,
   "metadata": {},
   "outputs": [],
   "source": [
    "import sys\n",
    "sys.path.append('..')"
   ]
  },
  {
   "cell_type": "code",
   "execution_count": 14,
   "metadata": {},
   "outputs": [],
   "source": [
    "import gdspy\n",
    "import numpy as np\n",
    "from importlib import reload\n",
    "#import libraries.conformal_mapping as cm\n",
    "#import libraries.general_design_functions as gdf\n",
    "#import libraries.general_sample_creator as creator\n",
    "#from  ..libraries import general_design_functions as gdf\n",
    "#fr\n",
    "from copy import deepcopy\n",
    "from QCreator import elements\n",
    "from QCreator import general_sample_creator as creator"
   ]
  },
  {
   "cell_type": "code",
   "execution_count": 15,
   "metadata": {},
   "outputs": [],
   "source": [
    "watch=lambda: gdspy.LayoutViewer(depth=0,pattern={'default': 8},background='#FFFFFF') #this opens a viewer"
   ]
  },
  {
   "cell_type": "code",
   "execution_count": 16,
   "metadata": {},
   "outputs": [],
   "source": [
    "tl_core = 20\n",
    "tl_gap = 12\n",
    "tl_ground = 10\n",
    "\n",
    "resonator_core = 8\n",
    "resonator_gap = 7\n",
    "resonator_ground = 16\n",
    "\n",
    "pad_offset = 1000\n",
    "pad_element_offset = 200\n",
    "\n",
    "coupler_start = pad_offset + pad_element_offset\n",
    "coupler_delta = 500\n",
    "coupler_length = 300\n",
    "num_couplers = 1"
   ]
  },
  {
   "cell_type": "code",
   "execution_count": 23,
   "metadata": {},
   "outputs": [],
   "source": [
    "reload(gdspy)\n",
    "reload(creator)\n",
    "#reload(elements)\n",
    "layers_configuration={\n",
    "    'total':0,\n",
    "    'restricted area':10,\n",
    "    'for removing':100,\n",
    "    'JJs':1,\n",
    "    'air bridges':2,\n",
    "    'air bridge pads':3,\n",
    "    'vertical gridlines':15,\n",
    "    'horizontal gridlines':16\n",
    "}\n",
    "sample = creator.Sample('4_qubits',layers_configuration)\n",
    "\n",
    "#specify sample vertical and horizontal lengths\n",
    "sample.chip_geometry.sample_vertical_size=4.7e3\n",
    "sample.chip_geometry.sample_horizontal_size=9.7e3\n",
    "\n",
    "central_line_y = sample.chip_geometry.sample_vertical_size/2\n",
    "\n",
    "\n",
    "\n",
    "\n",
    "coupler_id = 0\n",
    "                                 \n",
    "\n",
    "coupler = elements.CPWCoupler('coupler', [(10,0), (-100, 100), (150, 290)], \n",
    "                                  [4,7,8,9,7], \n",
    "                                  [6, 7, 8, 9, 10, 13], 35, sample.layer_configuration, r=100)\n",
    "sample.add(coupler)\n",
    "\n",
    "\n",
    "\n",
    "sh_1 = sample.ground(coupler, 'port1', 'sh-1'+str(coupler_id), 20., [(1,3), (4,5)])\n"
   ]
  },
  {
   "cell_type": "code",
   "execution_count": 24,
   "metadata": {},
   "outputs": [
    {
     "name": "stderr",
     "output_type": "stream",
     "text": [
      "/home/alena/anaconda3/lib/python3.7/site-packages/ipykernel_launcher.py:1: DeprecationWarning: [GDSPY] Use of the global library is deprecated.  Pass LayoutViewer a GdsLibrary instance.\n",
      "  \"\"\"Entry point for launching an IPython kernel.\n"
     ]
    },
    {
     "data": {
      "text/plain": [
       "<gdspy.viewer.LayoutViewer object .!layoutviewer>"
      ]
     },
     "execution_count": 24,
     "metadata": {},
     "output_type": "execute_result"
    }
   ],
   "source": [
    "design = sample.draw_design()\n",
    "watch()"
   ]
  },
  {
   "cell_type": "code",
   "execution_count": null,
   "metadata": {},
   "outputs": [],
   "source": []
  },
  {
   "cell_type": "code",
   "execution_count": null,
   "metadata": {},
   "outputs": [],
   "source": []
  }
 ],
 "metadata": {
  "kernelspec": {
   "display_name": "Python 3",
   "language": "python",
   "name": "python3"
  },
  "language_info": {
   "codemirror_mode": {
    "name": "ipython",
    "version": 3
   },
   "file_extension": ".py",
   "mimetype": "text/x-python",
   "name": "python",
   "nbconvert_exporter": "python",
   "pygments_lexer": "ipython3",
   "version": "3.7.3"
  }
 },
 "nbformat": 4,
 "nbformat_minor": 2
}
