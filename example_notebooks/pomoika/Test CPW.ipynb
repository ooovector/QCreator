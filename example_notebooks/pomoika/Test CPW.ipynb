{
 "cells": [
  {
   "cell_type": "code",
   "execution_count": 1,
   "id": "traditional-texture",
   "metadata": {},
   "outputs": [],
   "source": [
    "import sys\n",
    "sys.path.append('..')\n",
    "import gdspy\n",
    "import numpy as np\n",
    "from importlib import reload\n",
    "#import libraries.conformal_mapping as cm\n",
    "#import libraries.general_design_functions as gdf\n",
    "#import libraries.general_sample_creator as creator\n",
    "#from  ..libraries import general_design_functions as gdf\n",
    "#fr\n",
    "from copy import deepcopy\n",
    "from QCreator import elements\n",
    "from QCreator import general_sample_creator as creator"
   ]
  },
  {
   "cell_type": "code",
   "execution_count": 2,
   "id": "infrared-entrance",
   "metadata": {},
   "outputs": [],
   "source": [
    "tl_core = 20\n",
    "tl_gap = 12\n",
    "tl_ground = 10\n",
    "\n",
    "resonator_core = 8\n",
    "resonator_gap = 7\n",
    "resonator_ground = 16\n",
    "\n",
    "pad_offset = 1000\n",
    "pad_element_offset = 1000\n",
    "\n",
    "coupler_start = pad_offset + pad_element_offset\n",
    "coupler_delta = 500\n",
    "coupler_length = 300\n",
    "num_couplers = 1"
   ]
  },
  {
   "cell_type": "code",
   "execution_count": 3,
   "id": "valuable-sensitivity",
   "metadata": {},
   "outputs": [],
   "source": [
    "reload(gdspy)\n",
    "reload(creator)\n",
    "reload(elements)\n",
    "\n",
    "layers_configuration = {\n",
    "    'total':0,\n",
    "    'restricted area':10,\n",
    "    'for removing':100,\n",
    "    'JJs':1,\n",
    "    'air bridges':2,\n",
    "    'air bridge pads':3,\n",
    "    'vertical gridlines':15,\n",
    "    'horizontal gridlines':16,\n",
    "     'inverted':20\n",
    "}\n",
    "sample = creator.Sample('4_qubits',layers_configuration)\n",
    "sample.chip_geometry.sample_vertical_size=4.7e3\n",
    "sample.chip_geometry.sample_horizontal_size=3.7e3\n",
    "\n",
    "central_line_y = sample.chip_geometry.sample_vertical_size/2"
   ]
  },
  {
   "cell_type": "code",
   "execution_count": 4,
   "id": "olympic-profit",
   "metadata": {},
   "outputs": [],
   "source": [
    "p1 = elements.Pad('p1', (pad_offset,  central_line_y), np.pi, tl_core, tl_gap, tl_ground, \n",
    "                  layer_configuration=sample.layer_configuration, chip_geometry=sample.chip_geometry, \n",
    "                  **elements.default_pad_geometry())\n",
    "p2 = elements.Pad('p2', (sample.chip_geometry.sample_horizontal_size-pad_offset,  central_line_y), \n",
    "                  0, tl_core, tl_gap, tl_ground, \n",
    "                  layer_configuration=sample.layer_configuration, chip_geometry=sample.chip_geometry, \n",
    "                  **elements.default_pad_geometry())\n",
    "sample.add(p1)\n",
    "sample.add(p2)"
   ]
  },
  {
   "cell_type": "code",
   "execution_count": 5,
   "id": "severe-symposium",
   "metadata": {},
   "outputs": [
    {
     "name": "stdout",
     "output_type": "stream",
     "text": [
      "Calculate length #############################\n",
      "rad is: 128\n",
      "first point before segment:  [1000. 2350.]\n",
      "final point after segment:  [1015.97498229 2350.        ]\n",
      "lenght is 15.974982286863678\n",
      "first point before turn:  [1015.97498229 2350.        ]\n",
      "length is: 86.11539362186764\n",
      "for oreint: [1015.97498229 2350.        ] [1000. 2350.]\n",
      "orientation is:  0.0\n",
      "lenght is: 27.891907662441028 -79.76446482322041\n",
      "turn is:, -0.6727765126708409\n",
      "final point after turn:  [1095. 2322.]\n",
      "first point before segment:  [1095. 2322.]\n",
      "final point after segment:  [1451.76446482 2038.43327307]\n",
      "lenght is 455.7312497351491\n",
      "first point before turn:  [1451.76446482 2038.43327307]\n",
      "length is: 114.94653620787912\n",
      "for oreint: [1451.76446482 2038.43327307] [1095. 2322.]\n",
      "orientation is:  -0.6715799032140458\n",
      "lenght is: 48.23553517677959 -100.10809233755897\n",
      "turn is:, -0.8980198141240556\n",
      "final point after turn:  [1500. 1938.]\n",
      "first point before segment:  [1500. 1938.]\n",
      "final point after segment:  [1500. 1628.]\n",
      "lenght is 310.0\n",
      "first point before turn:  [1500. 1628.]\n",
      "length is: 201.06192982974676\n",
      "for oreint: [1500. 1628.] [1500. 1938.]\n",
      "orientation is:  -1.5707963267948966\n",
      "lenght is: 127.99999999999999 128.0\n",
      "turn is:, 1.5707963267948966\n",
      "final point after turn:  [1628. 1500.]\n",
      "first point before segment:  [1628. 1500.]\n",
      "final point after segment:  [1650.28655432 1500.        ]\n",
      "lenght is 22.28655431540915\n",
      "first point before turn:  [1650.28655432 1500.        ]\n",
      "length is: 94.83638904469132\n",
      "for oreint: [1650.28655432 1500.        ] [1628. 1500.]\n",
      "orientation is:  0.0\n",
      "lenght is: 33.55454327423014 86.39476664625428\n",
      "turn is:, 0.7409092894116509\n",
      "final point after turn:  [1736. 1533.]\n",
      "first point before segment:  [1736. 1533.]\n",
      "final point after segment:  [2592.52586754 2316.44545673]\n",
      "lenght is 1160.7856586962876\n",
      "first point before turn:  [2592.52586754 2316.44545673]\n",
      "length is: 94.83638904469132\n",
      "for oreint: [2592.52586754 2316.44545673] [1736. 1533.]\n",
      "orientation is:  0.7408656196846088\n",
      "lenght is: 33.55454327423014 -86.39476664625428\n",
      "turn is:, -0.7409092894116509\n",
      "final point after turn:  [2678. 2349.]\n",
      "first point before segment:  [2678. 2349.]\n",
      "final point after segment:  [2700. 2350.]\n",
      "lenght is 22.02271554554524\n"
     ]
    }
   ],
   "source": [
    "left_TL = sample.connect_cpw(o1=p1, o2=p2, port1='port', port2='port', name='TL', \n",
    "                             points=[(1500,2000),(1500,1500),(1700,1500)])"
   ]
  },
  {
   "cell_type": "code",
   "execution_count": 6,
   "id": "elementary-stationery",
   "metadata": {},
   "outputs": [
    {
     "name": "stdout",
     "output_type": "stream",
     "text": [
      "Gds file has been writen here:  C:\\Python\\Github\\QCreator\\example_notebooks\\4_qubits.gds\n"
     ]
    }
   ],
   "source": [
    "sample.draw_design()\n",
    "sample.write_to_gds()\n",
    "sample.watch()"
   ]
  },
  {
   "cell_type": "code",
   "execution_count": 7,
   "id": "biblical-division",
   "metadata": {},
   "outputs": [
    {
     "data": {
      "text/plain": [
       "2454.065428712153"
      ]
     },
     "execution_count": 7,
     "metadata": {},
     "output_type": "execute_result"
    }
   ],
   "source": [
    "left_TL.length"
   ]
  },
  {
   "cell_type": "code",
   "execution_count": null,
   "id": "earlier-blade",
   "metadata": {},
   "outputs": [],
   "source": [
    "[1015.97498229 2350.        ]"
   ]
  },
  {
   "cell_type": "code",
   "execution_count": 9,
   "id": "narrative-yellow",
   "metadata": {},
   "outputs": [
    {
     "data": {
      "text/plain": [
       "0.7820944713871795"
      ]
     },
     "execution_count": 9,
     "metadata": {},
     "output_type": "execute_result"
    }
   ],
   "source": [
    "np.cos(-0.6727765126708409)"
   ]
  },
  {
   "cell_type": "code",
   "execution_count": 13,
   "id": "overhead-communications",
   "metadata": {},
   "outputs": [
    {
     "data": {
      "text/plain": [
       "(1095.7644648232204, 2322.108092337559)"
      ]
     },
     "execution_count": 13,
     "metadata": {},
     "output_type": "execute_result"
    }
   ],
   "source": [
    " (1016+np.sin(0.6727765126708409) * 128,\n",
    "                               2350-(1-np.cos(0.6727765126708409)) * 128)"
   ]
  },
  {
   "cell_type": "code",
   "execution_count": 9,
   "id": "cognitive-reward",
   "metadata": {},
   "outputs": [
    {
     "data": {
      "text/plain": [
       "(1043.891907662441, 2270.2355351767796)"
      ]
     },
     "execution_count": 9,
     "metadata": {},
     "output_type": "execute_result"
    }
   ],
   "source": [
    " (1016+(1-np.cos(-0.6727765126708409)) * 128,\n",
    "                               2350+np.sin(-0.6727765126708409) * 128)"
   ]
  },
  {
   "cell_type": "code",
   "execution_count": null,
   "id": "answering-oliver",
   "metadata": {},
   "outputs": [],
   "source": []
  },
  {
   "cell_type": "code",
   "execution_count": 10,
   "id": "informative-montgomery",
   "metadata": {},
   "outputs": [
    {
     "data": {
      "text/plain": [
       "-38.547254731568934"
      ]
     },
     "execution_count": 10,
     "metadata": {},
     "output_type": "execute_result"
    }
   ],
   "source": [
    "-0.6727765126708409*180/np.pi"
   ]
  },
  {
   "cell_type": "code",
   "execution_count": 8,
   "id": "straight-intermediate",
   "metadata": {},
   "outputs": [
    {
     "data": {
      "text/plain": [
       "[{'type': 'endpoint', 'endpoint': array([1000., 2350.])},\n",
       " {'type': 'segment', 'endpoint': array([1015.97498229, 2350.        ])},\n",
       " {'type': 'turn', 'turn': -0.6727765126708409},\n",
       " {'type': 'segment', 'endpoint': array([1451.76446482, 2038.43327307])},\n",
       " {'type': 'turn', 'turn': -0.8980198141240556},\n",
       " {'type': 'segment', 'endpoint': array([1500., 1628.])},\n",
       " {'type': 'turn', 'turn': 1.5707963267948966},\n",
       " {'type': 'segment', 'endpoint': array([1650.28655432, 1500.        ])},\n",
       " {'type': 'turn', 'turn': 0.7409092894116509},\n",
       " {'type': 'segment', 'endpoint': array([2592.52586754, 2316.44545673])},\n",
       " {'type': 'turn', 'turn': -0.7409092894116509},\n",
       " {'type': 'endpoint', 'endpoint': array([2700., 2350.])}]"
      ]
     },
     "execution_count": 8,
     "metadata": {},
     "output_type": "execute_result"
    }
   ],
   "source": [
    "left_TL.segments"
   ]
  },
  {
   "cell_type": "code",
   "execution_count": null,
   "id": "domestic-notice",
   "metadata": {},
   "outputs": [],
   "source": []
  }
 ],
 "metadata": {
  "kernelspec": {
   "display_name": "Python 3",
   "language": "python",
   "name": "python3"
  },
  "language_info": {
   "codemirror_mode": {
    "name": "ipython",
    "version": 3
   },
   "file_extension": ".py",
   "mimetype": "text/x-python",
   "name": "python",
   "nbconvert_exporter": "python",
   "pygments_lexer": "ipython3",
   "version": "3.9.1"
  }
 },
 "nbformat": 4,
 "nbformat_minor": 5
}
