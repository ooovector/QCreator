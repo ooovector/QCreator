{
 "cells": [
  {
   "cell_type": "code",
   "execution_count": 1,
   "metadata": {},
   "outputs": [],
   "source": [
    "import sys\n",
    "sys.path.append('..')\n",
    "import gdspy\n",
    "import numpy as np\n",
    "from importlib import reload\n",
    "#import libraries.conformal_mapping as cm\n",
    "#import libraries.general_design_functions as gdf\n",
    "#import libraries.general_sample_creator as creator\n",
    "#from  ..libraries import general_design_functions as gdf\n",
    "#fr\n",
    "from copy import deepcopy\n",
    "from QCreator import elements\n",
    "from QCreator import general_sample_creator as creator"
   ]
  },
  {
   "cell_type": "code",
   "execution_count": 2,
   "metadata": {},
   "outputs": [],
   "source": [
    "tl_core = 20\n",
    "tl_gap = 12\n",
    "tl_ground = 10\n",
    "\n",
    "resonator_core = 8\n",
    "resonator_gap = 7\n",
    "resonator_ground = 4\n",
    "\n",
    "pad_offset = 1000\n",
    "pad_element_offset = 1000\n",
    "\n",
    "coupler_start = pad_offset + pad_element_offset\n",
    "coupler_delta = 500\n",
    "coupler_length = 300\n",
    "num_couplers = 1"
   ]
  },
  {
   "cell_type": "markdown",
   "metadata": {},
   "source": [
    "# Transmission line with resonator (failed version)"
   ]
  },
  {
   "cell_type": "code",
   "execution_count": 3,
   "metadata": {},
   "outputs": [],
   "source": [
    "reload(gdspy)\n",
    "reload(creator)\n",
    "reload(elements)\n",
    "\n",
    "layers_configuration = {\n",
    "    'total':0,\n",
    "    'restricted area':10,\n",
    "    'for removing':100,\n",
    "    'JJs':1,\n",
    "    'air bridges':2,\n",
    "    'air bridge pads':3,\n",
    "    'vertical gridlines':15,\n",
    "    'horizontal gridlines':16\n",
    "}\n",
    "sample = creator.Sample('4_qubits',layers_configuration)\n",
    "\n",
    "#specify sample vertical and horizontal lengths\n",
    "sample.chip_geometry.sample_vertical_size=4.7e3\n",
    "sample.chip_geometry.sample_horizontal_size=9.7e3\n",
    "\n",
    "central_line_y = sample.chip_geometry.sample_vertical_size/2\n",
    "\n",
    "chip_edge_ground = elements.ChipEdgeGround(sample.chip_geometry, sample.layer_configuration, sample.pads)\n",
    "sample.add(chip_edge_ground)\n",
    "\n",
    "# 1. Create contact pads:\n",
    "\n",
    "p1 = elements.Pad('p1', (pad_offset,  central_line_y), np.pi, tl_core, tl_gap, tl_ground, \n",
    "                  layer_configuration=sample.layer_configuration, chip_geometry=sample.chip_geometry, \n",
    "                  **elements.default_pad_geometry())\n",
    "p2 = elements.Pad('p2', (sample.chip_geometry.sample_horizontal_size-pad_offset,  central_line_y), \n",
    "                  0, tl_core, tl_gap, tl_ground, \n",
    "                  layer_configuration=sample.layer_configuration, chip_geometry=sample.chip_geometry, \n",
    "                  **elements.default_pad_geometry())\n",
    "sample.add(p1)\n",
    "sample.add(p2)\n",
    "\n",
    "def draw_single_resonator(coupler_start_x, coupler_start_y, coupler_length,\n",
    "                         resonator_core, resonator_ground, tl_core, resonator_gap, tl_gap, grounding_width,\n",
    "                         closed_end_meander_length, open_length):\n",
    "    # 2. Create main copler:\n",
    "\n",
    "    main_coupler = elements.CPWCoupler('TL-resonator coupler', [(coupler_start_x, central_line_y), \n",
    "                                                                (coupler_start_x+coupler_length, central_line_y)],\n",
    "                                       [resonator_core, resonator_ground, tl_core],\n",
    "                                       [resonator_gap, resonator_gap, tl_gap, tl_gap],\n",
    "                                       tl_ground, sample.layer_configuration, r=100)\n",
    "    sample.add(main_coupler)\n",
    "\n",
    "    # 3. Create fanout to create closed end of resonator\n",
    "    fanout_for_closed_end = sample.fanout(o=main_coupler, port='port1', name='closed end resonator fanout', grouping=[1, 3])\n",
    "\n",
    "    # 4. \n",
    "    g1 = sample.ground(o=fanout_for_closed_end, port='center', name='cl1', grounding_width=grounding_width, grounding_between = [(2,3)])\n",
    "\n",
    "    # 6. Create closed meander of resonator\n",
    "    closed_end_meander = sample.connect_meander(name='closed end', o1=fanout_for_closed_end, port1='up',\n",
    "                                                meander_length=closed_end_meander_length,restricted_scale=400, constant_scale=900, radius=40)\n",
    "    # 7. Create grounding of resonator\n",
    "    resonator_ground_ = sample.ground(o=closed_end_meander, port='port2', name='resonator ground', grounding_width=30, grounding_between = [(0,2)])\n",
    "   \n",
    "    # 8. Create fanout to create open end of resonator\n",
    "    fanout_for_open_end = sample.fanout(o=main_coupler, port='port2', name='open end resonator fanout', grouping=[1, 3])\n",
    "\n",
    "    # 9. \n",
    "    g2 = sample.ground(o=fanout_for_open_end, port='center', name='cl2', grounding_width=10, grounding_between = [(0,1)])\n",
    "\n",
    "    # 10. Create open end of resonator\n",
    "    open_end_resonator = elements.OpenEnd(name='open end',position=(fanout_for_open_end.get_terminals()['down'].position[0],\n",
    "                                                                   fanout_for_open_end.get_terminals()['down'].position[1]-open_length),\n",
    "                                         w=resonator_core,\n",
    "                                         s=resonator_gap,\n",
    "                                         g=tl_ground,\n",
    "                                         orientation=np.pi/2,\n",
    "                                         layer_configuration=sample.layer_configuration,\n",
    "                                         gap_length=20,\n",
    "                                         ground_length=10,\n",
    "                                         cap=1e-15)\n",
    "    sample.add(open_end_resonator)\n",
    "    # 11. Connect open end with the coupler part of the resonator\n",
    "    sample.connect_cpw(fanout_for_open_end,open_end_resonator,'down','wide',name='right open end',points=[])\n",
    "    \n",
    "    return g1, g2\n",
    "def draw_single_resonator_plus_qubit(coupler_start_x, coupler_start_y, coupler_length,\n",
    "                         resonator_core, resonator_ground, tl_core, resonator_gap, tl_gap, grounding_width,\n",
    "                         closed_end_meander_length, coaxmon ):\n",
    "    # 2. Create main copler:\n",
    "    total_length=0\n",
    "    main_coupler = elements.CPWCoupler('TL-resonator coupler', [(coupler_start_x, central_line_y), \n",
    "                                                                (coupler_start_x+coupler_length, central_line_y)],\n",
    "                                       [resonator_core, resonator_ground, tl_core],\n",
    "                                       [resonator_gap, resonator_gap, tl_gap, tl_gap],\n",
    "                                       tl_ground, sample.layer_configuration, r=100)\n",
    "    sample.add(main_coupler)\n",
    "    total_length = total_length + coupler_length\n",
    "\n",
    "    # 3. Create fanout to create closed end of resonator\n",
    "    fanout_for_closed_end = sample.fanout(o=main_coupler, port='port1', name='closed end resonator fanout', grouping=[1, 3])\n",
    "\n",
    "    # 4. \n",
    "    g1 = sample.ground(o=fanout_for_closed_end, port='center', name='cl1', grounding_width=grounding_width, \n",
    "                       grounding_between = [(2,3)])\n",
    "\n",
    "    # 6. Create closed meander of resonator\n",
    "    closed_end_meander = sample.connect_meander(name='closed end', o1=fanout_for_closed_end, port1='up',\n",
    "                                                meander_length=closed_end_meander_length,restricted_scale=400, \n",
    "                                                constant_scale=900, radius=40)\n",
    "    total_length = total_length + closed_end_meander_length\n",
    "    # 7. Create grounding of resonator\n",
    "    resonator_ground_ = sample.ground(o=closed_end_meander, port='port2', name='resonator ground', grounding_width=30, grounding_between = [(0,2)])\n",
    "   \n",
    "    # 8. Create fanout to create open end of resonator\n",
    "    fanout_for_open_end = sample.fanout(o=main_coupler, port='port2', name='open end resonator fanout', grouping=[1, 3])\n",
    "\n",
    "    # 9. \n",
    "    g2 = sample.ground(o=fanout_for_open_end, port='center', name='cl2', grounding_width=10, grounding_between = [(0,1)])\n",
    "\n",
    "    # 10. Connect open end with the coupler part of the qubit\n",
    "    open_end=sample.connect_cpw(fanout_for_open_end,coaxmon,'down','coupler1',name='right open end',points=[])\n",
    "    total_length = total_length + open_end.length\n",
    "    res_params = (total_length,open_end.z0,open_end.cl)\n",
    "    \n",
    "    return g1, g2, res_params"
   ]
  },
  {
   "cell_type": "code",
   "execution_count": 4,
   "metadata": {},
   "outputs": [],
   "source": [
    "### make a coaxmon\n",
    "# add coaxmons\n",
    "shift=-1/10\n",
    "phi1=1/5\n",
    "Couplers2q=[elements.coaxmon.CoaxmonCoupler(arc_start=-1/6-1/100+shift,arc_finish=-3/6+1/100+shift,phi=-1/2,\n",
    "                                          coupler_type= None, w =10,g=10),\n",
    "          elements.coaxmon.CoaxmonCoupler(arc_start=1/6+1/100+shift,arc_finish=3/6-1/100+shift,phi=phi1,\n",
    "                                          coupler_type='coupler', w =8,g=10,s=7),# for resonator\n",
    "          elements.coaxmon.CoaxmonCoupler(arc_start=3/6+1/100+shift,arc_finish=5/6-1/100+shift,phi=1/2, \n",
    "                                          coupler_type=None, w =8,g=10,s=7), #one upper\n",
    "          elements.coaxmon.CoaxmonCoupler(arc_start=-1/6+1/100+1+shift,arc_finish=1/6-1/100+1+shift,phi=1,\n",
    "                                          coupler_type=None, w =10),\n",
    "          elements.coaxmon.CoaxmonCoupler(arc_start=-1/6+1/100+shift,arc_finish=1/6-1/100+shift,phi=0,\n",
    "                                          coupler_type=None, w =10,g=40),\n",
    "          elements.coaxmon.CoaxmonCoupler(arc_start=-5/6+1/100+shift,arc_finish=-3/6-1/100+shift,phi=1,\n",
    "                                          coupler_type='grounded',w=4,g=4)\n",
    "]\n",
    "\n",
    "\n",
    "jj_coaxmon = {'a1':30,\n",
    "               'b1':0.8,\n",
    "               'a2':0.45,\n",
    "               'b2':0.243,\n",
    "               'c1':0.243,\n",
    "               'c2':10,\n",
    "               'angle_qubit':-np.pi/2-np.pi/3,\n",
    "               'angle_JJ': 0,\n",
    "               'length':10,\n",
    "               'width':4}\n",
    "# add coaxmons 1st line\n",
    "coaxmon= elements.coaxmon.Coaxmon(name='Coaxmon',center=(coupler_start+1000*0+500,central_line_y-1000),\n",
    "                          center_radius = 100,\n",
    "                          inner_couplers_radius = 140,\n",
    "                          outer_couplers_radius = 200,\n",
    "                          inner_ground_radius = 230,\n",
    "                          outer_ground_radius = 250,\n",
    "                          layer_configuration = sample.layer_configuration,\n",
    "                          Couplers=Couplers2q,jj_params= jj_coaxmon,transformations={},\n",
    "                          calculate_capacitance = True)\n",
    "\n",
    "sample.add(coaxmon)\n",
    "sample.draw_design()\n",
    "g1, g2,res1 = draw_single_resonator_plus_qubit(coupler_start+1000*0, central_line_y, coupler_length,\n",
    "                        resonator_core, resonator_ground, tl_core, resonator_gap, tl_gap, grounding_width=10,\n",
    "                        closed_end_meander_length=2300, coaxmon=coaxmon)\n",
    "\n",
    "# coaxmon= elements.coaxmon.Coaxmon(name='Coaxmon',center=(coupler_start+1000*1+500,central_line_y-1000),\n",
    "#                           center_radius = 100,\n",
    "#                           inner_couplers_radius = 140,\n",
    "#                           outer_couplers_radius = 200,\n",
    "#                           inner_ground_radius = 230,\n",
    "#                           outer_ground_radius = 250,\n",
    "#                           layer_configuration = sample.layer_configuration,\n",
    "#                           Couplers=Couplers2q,jj_params= jj_coaxmon,transformations={},\n",
    "#                           calculate_capacitance = True)\n",
    "\n",
    "# sample.add(coaxmon)\n",
    "# sample.draw_design()\n",
    "# g3, g4,_ = draw_single_resonator_plus_qubit(coupler_start+1000*1, central_line_y, coupler_length,\n",
    "#                         resonator_core, resonator_ground, tl_core, resonator_gap, tl_gap, grounding_width=10,\n",
    "#                         closed_end_meander_length=2500, coaxmon=coaxmon)\n",
    "\n",
    "# coaxmon= elements.coaxmon.Coaxmon(name='Coaxmon',center=(coupler_start+1000*2+500,central_line_y-1000),\n",
    "#                           center_radius = 100,\n",
    "#                           inner_couplers_radius = 140,\n",
    "#                           outer_couplers_radius = 200,\n",
    "#                           inner_ground_radius = 230,\n",
    "#                           outer_ground_radius = 250,\n",
    "#                           layer_configuration = sample.layer_configuration,\n",
    "#                           Couplers=Couplers2q,jj_params= jj_coaxmon,transformations={},\n",
    "#                           calculate_capacitance = True)\n",
    "\n",
    "# sample.add(coaxmon)\n",
    "# sample.draw_design()\n",
    "# g5, g6,res3 = draw_single_resonator_plus_qubit(coupler_start+1000*2, central_line_y, coupler_length,\n",
    "#                         resonator_core, resonator_ground, tl_core, resonator_gap, tl_gap, grounding_width=10,\n",
    "#                         closed_end_meander_length=3000, coaxmon=coaxmon)\n",
    "\n",
    "\n",
    "# # 5. Create left part of transmission line\n",
    "left_TL = sample.connect_cpw(o1=p1, o2=g1, port1='port', port2='narrow', name='left TL', points=[])\n",
    "# # # 9. Create middle part of transmission line\n",
    "# middle_TL = sample.connect_cpw(o1=g3, o2=g2, port1='narrow', port2='narrow', name='middle TL 1', points=[])\n",
    "# # # 9. Create middle part of transmission line\n",
    "# middle_TL = sample.connect_cpw(o1=g4, o2=g5, port1='narrow', port2='narrow', name='middle TL 2', points=[])\n",
    "# # # 9. Create left part of transmission line\n",
    "right_TL = sample.connect_cpw(o1=p2, o2=g2, port1='port', port2='narrow', name='right TL', points=[])"
   ]
  },
  {
   "cell_type": "code",
   "execution_count": 37,
   "metadata": {},
   "outputs": [],
   "source": [
    "# grid_ground = elements.GridGround(sample.chip_geometry, sample.layer_configuration, sample.objects, \n",
    "#                                   width=4, period=500)\n",
    "# sample.add(grid_ground)\n",
    "design = sample.draw_design()\n",
    "sample.watch()"
   ]
  },
  {
   "cell_type": "code",
   "execution_count": 6,
   "metadata": {},
   "outputs": [],
   "source": [
    "sample.draw_cap()"
   ]
  },
  {
   "cell_type": "code",
   "execution_count": 7,
   "metadata": {},
   "outputs": [
    {
     "name": "stdout",
     "output_type": "stream",
     "text": [
      "Gds file has been writen here:  E:\\Github2.0\\QCreator\\example_notebooks\\4_qubits.gds\n",
      "For 0 conductor total length is:  7244\n",
      "For 1 conductor total length is:  2503\n",
      "For 2 conductor total length is:  806\n",
      "Sum : 10553\n",
      "Data has been written into the file: E:\\Github2.0\\QCreator\\example_notebooks\\mesh_4k_data\n",
      "Time for fastcap job is:  0.8877742290496826\n",
      "Capacitance results have been writen here:  E:\\Github2.0\\QCreator\\example_notebooks\\mesh_4k_results\n",
      "Capacitance value in:  nanofarads\n",
      "[<map object at 0x0000016D643C8790>, <map object at 0x0000016D643C8D60>, <map object at 0x0000016D643C8AF0>]\n"
     ]
    }
   ],
   "source": [
    "for i, qubit in enumerate(sample.qubits):\n",
    "    sample.calculate_qubit_capacitance(cell= sample.qubit_cap_cells[i], qubit=qubit,\n",
    "                                       mesh_volume=20)"
   ]
  },
  {
   "cell_type": "code",
   "execution_count": 38,
   "metadata": {},
   "outputs": [
    {
     "data": {
      "text/plain": [
       "(3561.6296161098317, 56.784268722636455, 1.4656184980033523e-16)"
      ]
     },
     "execution_count": 38,
     "metadata": {},
     "output_type": "execute_result"
    }
   ],
   "source": [
    "res1"
   ]
  },
  {
   "cell_type": "code",
   "execution_count": 39,
   "metadata": {},
   "outputs": [
    {
     "data": {
      "text/plain": [
       "3887.771787930937"
      ]
     },
     "execution_count": 39,
     "metadata": {},
     "output_type": "execute_result"
    }
   ],
   "source": [
    "47.8*1e-15/1.4656184980033523e-16+res1[0]"
   ]
  },
  {
   "cell_type": "code",
   "execution_count": 10,
   "metadata": {},
   "outputs": [],
   "source": [
    "def get_coupling(resonator,qubit,res_fr,qubit_fr,kappa):\n",
    "    scal_factor=1e-15\n",
    "    claw_cap_total = sample.qubits[0].C['coupler1'][0]+sample.qubits[0].C['coupler1'][1]\n",
    "    res_total_cap = resonator[0]/2*resonator[2]+claw_cap_total*scal_factor\n",
    "    qubit_total_cap = (sample.qubits[0].C['coupler1'][1] + sample.qubits[0].C['qubit'])*scal_factor\n",
    "    coupling_cap= sample.qubits[0].C['coupler1'][1]*scal_factor\n",
    "    coupling = coupling_cap/np.sqrt(qubit_total_cap*res_total_cap)*np.sqrt(res_fr*qubit_fr)/2\n",
    "    print(res_total_cap,qubit_total_cap,coupling_cap)\n",
    "    return coupling*1e3"
   ]
  },
  {
   "cell_type": "code",
   "execution_count": 11,
   "metadata": {},
   "outputs": [],
   "source": [
    "def get_qubit_resonator_parameters(resonator,qubit,res_fr,qubit_fr,kappa):\n",
    "    from scipy.constants import hbar,h,e,c\n",
    "    scal_factor=1e-15\n",
    "    claw_cap_total = sample.qubits[0].C['coupler1'][0]+sample.qubits[0].C['coupler1'][1]\n",
    "    res_total_cap = resonator[0]/2*resonator[2]+claw_cap_total*scal_factor\n",
    "    qubit_total_cap = (sample.qubits[0].C['coupler1'][1] + sample.qubits[0].C['qubit'])*scal_factor\n",
    "    coupling_cap= sample.qubits[0].C['coupler1'][1]*scal_factor\n",
    "    coupling = coupling_cap/np.sqrt(qubit_total_cap*res_total_cap)*np.sqrt(res_fr*qubit_fr)/2\n",
    "    alpha = -e**2/(2*qubit_total_cap)/h/1e9\n",
    "    disp_shift=coupling**2/((qubit_fr-res_fr))/(1+(qubit_fr-res_fr)/(alpha))\n",
    "    T=(1/kappa)*(2*np.pi*(qubit_fr-res_fr)/coupling)**2\n",
    "    print(coupling,qubit_fr-res_fr,kappa/1e9)\n",
    "    return alpha*1e3,coupling*1e3,disp_shift*1e3,T # in MHz/2/np.pi"
   ]
  },
  {
   "cell_type": "code",
   "execution_count": 12,
   "metadata": {},
   "outputs": [],
   "source": [
    "def search_for_resonators_qubits(f,delta):\n",
    "    res_modes = []\n",
    "    qs=f/delta/2\n",
    "    min_freq=2e9\n",
    "    max_freq=10e9\n",
    "    min_Q=1e3\n",
    "    max_Q=1e9\n",
    "    for mode_id in range(len(qs)):\n",
    "        if min_Q<=qs[mode_id]<=max_Q and min_freq<=f[mode_id]/2/np.pi<=max_freq:\n",
    "            res_modes.append(mode_id)\n",
    "    print('Resonance frequencies are, GHz/2pi:',f[res_modes]/(2*np.pi)/1e9)\n",
    "    print('Kappas are, MHz/2pi:',delta[res_modes]/2/np.pi/1e6)\n",
    "    print('Quality factors are:',qs[res_modes])\n",
    "    return (f[res_modes]/(2*np.pi)/1e9, delta[res_modes], qs[res_modes])"
   ]
  },
  {
   "cell_type": "code",
   "execution_count": 197,
   "metadata": {},
   "outputs": [
    {
     "data": {
      "text/plain": [
       "[Short ,\n",
       " Port p1,\n",
       " Port p2,\n",
       " L ,\n",
       " C Coaxmon qubit-ground,\n",
       " C Coaxmon qubit-coupler1,\n",
       " C Coaxmon coupler1-ground,\n",
       " TL TL-resonator coupler (n=3),\n",
       " TL closed end resonator fanout_group1 (n=2),\n",
       " TL closed end resonator fanout_group2 (n=1),\n",
       " R cl10,\n",
       " TL cl1 (n=1),\n",
       " TL closed end (n=1),\n",
       " Short ,\n",
       " TL open end resonator fanout_group0 (n=1),\n",
       " TL open end resonator fanout_group1 (n=2),\n",
       " R cl20,\n",
       " TL cl2 (n=1),\n",
       " TL right open end (n=1),\n",
       " TL left TL (n=1),\n",
       " TL right TL (n=1)]"
      ]
     },
     "execution_count": 197,
     "metadata": {},
     "output_type": "execute_result"
    }
   ],
   "source": [
    "sys.elements"
   ]
  },
  {
   "cell_type": "code",
   "execution_count": 198,
   "metadata": {},
   "outputs": [
    {
     "data": {
      "text/plain": [
       "[[0],\n",
       " [15],\n",
       " [17],\n",
       " [0, 19],\n",
       " [0, 19],\n",
       " [19, 14],\n",
       " [14, 0],\n",
       " [1, 2, 3, 8, 9, 10],\n",
       " [1, 2, 4, 5],\n",
       " [3, 6],\n",
       " [5, 0],\n",
       " [4, 16],\n",
       " [6, 7],\n",
       " [7],\n",
       " [10, 13],\n",
       " [9, 8, 11, 12],\n",
       " [11, 0],\n",
       " [12, 18],\n",
       " [13, 14],\n",
       " [15, 16],\n",
       " [17, 18]]"
      ]
     },
     "execution_count": 198,
     "metadata": {},
     "output_type": "execute_result"
    }
   ],
   "source": [
    "sys.terminal_node_mapping"
   ]
  },
  {
   "cell_type": "code",
   "execution_count": 34,
   "metadata": {},
   "outputs": [],
   "source": [
    "sample.qubits[0].C['coupler1']=(40.7,7)"
   ]
  },
  {
   "cell_type": "code",
   "execution_count": 35,
   "metadata": {},
   "outputs": [
    {
     "name": "stdout",
     "output_type": "stream",
     "text": [
      "Resonance frequencies are, GHz/2pi: [4.85158254 7.1743352 ]\n",
      "Kappas are, MHz/2pi: [0.00042012 0.32428963]\n",
      "Quality factors are: [5774074.07215871   11061.61680652]\n",
      "Wall time: 564 ms\n"
     ]
    }
   ],
   "source": [
    "%%time\n",
    "sys, connections, elements_ = sample.get_tls()\n",
    "f, delta, modes = sys.get_modes()\n",
    "# f[:10]/(2*np.pi)/1e9, delta[:10]/1e6,f[:10]/delta[:10]/2 \n",
    "(res_fr,kappa)=search_for_resonators_qubits(f,delta)[:2]"
   ]
  },
  {
   "cell_type": "code",
   "execution_count": 30,
   "metadata": {},
   "outputs": [
    {
     "name": "stdout",
     "output_type": "stream",
     "text": [
      "Resonance frequencies are, GHz/2pi: [4.62065104 7.12969333]\n",
      "Kappas are, MHz/2pi: [0.00109511 0.31667115]\n",
      "Quality factors are: [2109672.55196507   11257.25122376]\n",
      "Wall time: 553 ms\n"
     ]
    }
   ],
   "source": [
    "%%time\n",
    "sys, connections, elements_ = sample.get_tls()\n",
    "f, delta, modes = sys.get_modes()\n",
    "# f[:10]/(2*np.pi)/1e9, delta[:10]/1e6,f[:10]/delta[:10]/2 \n",
    "(res_fr,kappa)=search_for_resonators_qubits(f,delta)[:2]"
   ]
  },
  {
   "cell_type": "code",
   "execution_count": 15,
   "metadata": {},
   "outputs": [
    {
     "name": "stdout",
     "output_type": "stream",
     "text": [
      "3.087995124203574e-13 7.17e-14 7.1e-15\n"
     ]
    },
    {
     "data": {
      "text/plain": [
       "140.69641154173328"
      ]
     },
     "execution_count": 15,
     "metadata": {},
     "output_type": "execute_result"
    }
   ],
   "source": [
    "get_coupling(res1,sample.qubits[0],res_fr[0],res_fr[-1],kappa[-1])"
   ]
  },
  {
   "cell_type": "code",
   "execution_count": 16,
   "metadata": {},
   "outputs": [
    {
     "name": "stdout",
     "output_type": "stream",
     "text": [
      "0.1406964115417333 2.325497167161873 0.0020368092567231225\n"
     ]
    },
    {
     "data": {
      "text/plain": [
       "(-270.1566154066823,\n",
       " 140.69641154173328,\n",
       " -1.1188762176840419,\n",
       " 0.005295109730962717)"
      ]
     },
     "execution_count": 16,
     "metadata": {},
     "output_type": "execute_result"
    }
   ],
   "source": [
    "get_qubit_resonator_parameters(res1,sample.qubits[0],res_fr[0],res_fr[-1],kappa[-1])"
   ]
  },
  {
   "cell_type": "code",
   "execution_count": 36,
   "metadata": {},
   "outputs": [
    {
     "data": {
      "text/plain": [
       "771.9016702154858"
      ]
     },
     "execution_count": 36,
     "metadata": {},
     "output_type": "execute_result"
    }
   ],
   "source": [
    "kappa[-1]/kappa[0]"
   ]
  },
  {
   "cell_type": "code",
   "execution_count": 32,
   "metadata": {},
   "outputs": [
    {
     "data": {
      "text/plain": [
       "2.6121107266435986"
      ]
     },
     "execution_count": 32,
     "metadata": {},
     "output_type": "execute_result"
    }
   ],
   "source": [
    "754.9/289"
   ]
  },
  {
   "cell_type": "code",
   "execution_count": 31,
   "metadata": {},
   "outputs": [
    {
     "data": {
      "text/plain": [
       "289.1680947014977"
      ]
     },
     "execution_count": 31,
     "metadata": {},
     "output_type": "execute_result"
    }
   ],
   "source": [
    "kappa[-1]/kappa[0]"
   ]
  },
  {
   "cell_type": "code",
   "execution_count": 33,
   "metadata": {},
   "outputs": [
    {
     "data": {
      "text/plain": [
       "318.0456830675684"
      ]
     },
     "execution_count": 33,
     "metadata": {},
     "output_type": "execute_result"
    }
   ],
   "source": [
    "((res_fr[0]-res_fr[-1])/0.14069)**2"
   ]
  },
  {
   "cell_type": "code",
   "execution_count": 109,
   "metadata": {},
   "outputs": [],
   "source": [
    "sample.qubits[0].L=8e-9\n",
    "sample.qubits[1].L=10e-9"
   ]
  },
  {
   "cell_type": "code",
   "execution_count": 14,
   "metadata": {},
   "outputs": [
    {
     "data": {
      "text/plain": [
       "(4.844140861068216, 7.173579760072692)"
      ]
     },
     "execution_count": 14,
     "metadata": {},
     "output_type": "execute_result"
    }
   ],
   "source": []
  },
  {
   "cell_type": "code",
   "execution_count": 19,
   "metadata": {},
   "outputs": [
    {
     "name": "stderr",
     "output_type": "stream",
     "text": [
      "..\\QCreator\\general_sample_creator.py:337: FutureWarning: `rcond` parameter will change to the default of machine precision times ``max(M, N)`` where M and N are the input matrix dimensions.\n",
      "To use the future default and silence this warning we advise to pass `rcond=None`, to keep using the old, explicitly pass `rcond=-1`.\n",
      "  s.append(np.linalg.lstsq(m, boundary)[0][a2[0]])\n"
     ]
    },
    {
     "name": "stdout",
     "output_type": "stream",
     "text": [
      "Wall time: 29.8 s\n"
     ]
    },
    {
     "data": {
      "text/plain": [
       "[<matplotlib.lines.Line2D at 0x22997d73ca0>]"
      ]
     },
     "execution_count": 19,
     "metadata": {},
     "output_type": "execute_result"
    },
    {
     "data": {
      "image/png": "[encoded data removed]",
      "text/plain": [
       "<Figure size 432x288 with 1 Axes>"
      ]
     },
     "metadata": {
      "needs_background": "light"
     },
     "output_type": "display_data"
    }
   ],
   "source": [
    "%%time\n",
    "f_ = np.linspace(6.8e9, 7.1e9, 2001)\n",
    "# s11 = sample.get_s21('p1', 'p1', f_)\n",
    "s21 = sample.get_s21('p1', 'p2', f_)\n",
    "from matplotlib import pyplot as plt\n",
    "# plt.plot(f_, np.abs(s11))\n",
    "plt.plot(f_, np.abs(s21))"
   ]
  },
  {
   "cell_type": "code",
   "execution_count": null,
   "metadata": {},
   "outputs": [],
   "source": []
  },
  {
   "cell_type": "code",
   "execution_count": null,
   "metadata": {},
   "outputs": [],
   "source": []
  },
  {
   "cell_type": "markdown",
   "metadata": {},
   "source": [
    "# Playground"
   ]
  },
  {
   "cell_type": "code",
   "execution_count": 4,
   "metadata": {},
   "outputs": [],
   "source": [
    "def draw_double_resonator(coupler_start_x, coupler_start_y, coupler_length,\n",
    "                         resonator_core, resonator_ground, tl_core, resonator_gap, tl_gap, grounding_width,\n",
    "                         closed_end_meander_length1, open_length1, closed_end_meander_length2, open_length2):\n",
    "    # 2. Create main copler:\n",
    "\n",
    "    main_coupler = elements.CPWCoupler('TL-resonator coupler', [(coupler_start, central_line_y), \n",
    "                                                                (coupler_start+coupler_length, central_line_y)],\n",
    "                                       [resonator_core, resonator_ground, tl_core, resonator_ground, resonator_core],\n",
    "                                       [resonator_gap, resonator_gap, tl_gap, tl_gap, resonator_gap, resonator_gap],\n",
    "                                       tl_ground, sample.layer_configuration, r=100)\n",
    "    sample.add(main_coupler)\n",
    "\n",
    "    # 3. Create fanout to create closed end of resonator\n",
    "    fanout_for_closed_end = sample.fanout(o=main_coupler, port='port1', name='closed end resonator fanout', grouping=[1, 4])\n",
    "\n",
    "    # 4. \n",
    "    g1 = sample.ground(o=fanout_for_closed_end, port='center', name='cl1', grounding_width=grounding_width, grounding_between = [(0,1), (3,4)])\n",
    "\n",
    "    # 6. Create closed meander of resonator\n",
    "    closed_end_meander1 = sample.connect_meander(name='closed end 1', o1=fanout_for_closed_end, port1='up',\n",
    "                                                meander_length=closed_end_meander_length1,restricted_scale=400, constant_scale=900, radius=0)\n",
    "    \n",
    "    closed_end_meander2 = sample.connect_meander(name='closed end 2', o1=fanout_for_closed_end, port1='down',\n",
    "                                                meander_length=closed_end_meander_length2,restricted_scale=400, constant_scale=900, radius=0)\n",
    "\n",
    "    # 7. Create fanout to create closed enfd of resonator\n",
    "    fanout_for_open_end = sample.fanout(o=main_coupler, port='port2', name='open end resonator fanout', grouping=[1, 4])\n",
    "\n",
    "    # 8. \n",
    "    g2 = sample.ground(o=fanout_for_open_end, port='center', name='cl2', grounding_width=10, grounding_between = [(0,1), (3,4)])\n",
    "\n",
    "    # 10. Create closed meander of resonator\n",
    "    open_end_resonator1 = elements.CPW(name='open end resonator 1', points=[fanout_for_open_end.get_terminals()['down'].position, \n",
    "                                                                         (fanout_for_open_end.get_terminals()['down'].position[0],\n",
    "                                                                          fanout_for_open_end.get_terminals()['down'].position[1]-open_length1)],\n",
    "                                      w=fanout_for_open_end.get_terminals()['down'].w, s=fanout_for_open_end.get_terminals()['down'].s,\n",
    "                                      g=fanout_for_open_end.get_terminals()['down'].g, layer_configuration=sample.layer_configuration, r=25)\n",
    "    sample.add(open_end_resonator1)\n",
    "    sample.connections.append(((fanout_for_open_end, 'down', 0), (open_end_resonator1, 'port1', 0)))\n",
    "    \n",
    "    open_end_resonator2 = elements.CPW(name='open end resonator 2', points=[fanout_for_open_end.get_terminals()['up'].position, \n",
    "                                                                         (fanout_for_open_end.get_terminals()['up'].position[0],\n",
    "                                                                          fanout_for_open_end.get_terminals()['up'].position[1]+open_length2)],\n",
    "                                      w=fanout_for_open_end.get_terminals()['up'].w, s=fanout_for_open_end.get_terminals()['up'].s,\n",
    "                                      g=fanout_for_open_end.get_terminals()['up'].g, layer_configuration=sample.layer_configuration, r=25)\n",
    "    sample.add(open_end_resonator2)\n",
    "    sample.connections.append(((fanout_for_open_end, 'up', 0), (open_end_resonator2, 'port1', 0)))\n",
    "\n",
    "    # 11. Create grounding of resonator\n",
    "    resonator_ground_1 = sample.ground(o=closed_end_meander1, port='port2', name='resonator ground 1', grounding_width=30, grounding_between = [(0,2)])\n",
    "    resonator_ground_2 = sample.ground(o=closed_end_meander2, port='port2', name='resonator ground 2', grounding_width=30, grounding_between = [(0,2)])\n",
    "    \n",
    "    return g1, g2"
   ]
  }
 ],
 "metadata": {
  "kernelspec": {
   "display_name": "Python 3",
   "language": "python",
   "name": "python3"
  },
  "language_info": {
   "codemirror_mode": {
    "name": "ipython",
    "version": 3
   },
   "file_extension": ".py",
   "mimetype": "text/x-python",
   "name": "python",
   "nbconvert_exporter": "python",
   "pygments_lexer": "ipython3",
   "version": "3.8.5"
  }
 },
 "nbformat": 4,
 "nbformat_minor": 2
}
