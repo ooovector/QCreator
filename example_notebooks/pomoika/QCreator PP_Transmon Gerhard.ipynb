{
 "cells": [
  {
   "cell_type": "code",
   "execution_count": 1,
   "metadata": {},
   "outputs": [],
   "source": [
    "import sys\n",
    "sys.path.append('..')\n",
    "import os\n",
    "from matplotlib import pyplot as plt\n",
    "from IPython.display import display, Math, Latex"
   ]
  },
  {
   "cell_type": "code",
   "execution_count": 2,
   "metadata": {},
   "outputs": [
    {
     "name": "stdout",
     "output_type": "stream",
     "text": [
      "..\\QCreator\\meshing.py\n"
     ]
    }
   ],
   "source": [
    "import gdspy\n",
    "import numpy as np\n",
    "from importlib import reload\n",
    "from copy import deepcopy\n",
    "from QCreator import elements\n",
    "from QCreator import general_sample_creator as creator\n",
    "from QCreator import meshing\n",
    "print(meshing.__file__)"
   ]
  },
  {
   "cell_type": "code",
   "execution_count": 3,
   "metadata": {},
   "outputs": [],
   "source": [
    "import numpy as np\n",
    "from scipy.constants import hbar,h,e,c\n",
    "from scipy.constants import elementary_charge as elc\n",
    "F0=2.0678e-15"
   ]
  },
  {
   "cell_type": "code",
   "execution_count": 4,
   "metadata": {},
   "outputs": [],
   "source": [
    "e_eff=(11.45+1)/2## for all calculations\n",
    "Mhz=(2*np.pi*1e6)## divide on it to obtain value in mhz\n",
    "j=0.5e-3      # critical current density nA/nm^2"
   ]
  },
  {
   "cell_type": "code",
   "execution_count": 5,
   "metadata": {},
   "outputs": [],
   "source": [
    "def I(f,Ec):\n",
    "    Ej=Ejf(f,Ec)\n",
    "    I=Ej*2*np.pi/F0*h*1e18\n",
    "    return I\n",
    "def Ejf(f,Ec):\n",
    "    Ej=(f+Ec)**2/(8*Ec)\n",
    "    return Ej\n",
    "def Eji(I):#nA\n",
    "    return I*F0/(2*np.pi)/1e9/h/1e9\n",
    "def IEj(Ej):\n",
    "    return Ej/(F0/(2*np.pi)/1e9/h/1e9)\n",
    "def f(Ej,Ec):\n",
    "    return np.sqrt(8*Ej*Ec)-Ec\n",
    "def Ec(C):#fF\n",
    "    return elc**2/(2*C)/h/1e9*1e15"
   ]
  },
  {
   "cell_type": "code",
   "execution_count": 7,
   "metadata": {},
   "outputs": [
    {
     "name": "stdout",
     "output_type": "stream",
     "text": [
      "{'qubit': None, 'coupler1': Type: cpw, Position: (1258.0, 1752.5), Orientation: 0\n",
      "w: 10, s: 6, g: 10\n",
      "reversed: True}\n"
     ]
    }
   ],
   "source": [
    "name = 'dummy'#'PP_5_4.5'\n",
    "reload(gdspy)\n",
    "reload(creator)\n",
    "reload(elements.pp_transmon)\n",
    "reload(elements)\n",
    "layers_configuration={\n",
    "    'total':0,\n",
    "    'restricted area':10,\n",
    "    'for removing':100,\n",
    "    'JJs':1,\n",
    "    'flux lines':6,\n",
    "    'air bridges':2,\n",
    "    'air bridge pads':3,\n",
    "    'vertical gridlines':15,\n",
    "    'horizontal gridlines':16,\n",
    "    'inverted':999\n",
    "}\n",
    "\n",
    "\n",
    "\n",
    "Couplers=[elements.pp_transmon.PP_Transmon_Coupler(0,0,20,6,'left',coupler_type = 'coupler',heightl = 0.3)\n",
    "          #,elements.pp_transmon.PP_Transmon_Coupler(0,0,80,6,'right',coupler_type ='coupler',heightr = 0.5)\n",
    "          #,elements.pp_transmon.PP_Transmon_Coupler(200,300,60,6,'top',coupler_type ='coupler')\n",
    "          #,elements.pp_transmon.PP_Transmon_Coupler(100,600,60,6,'bottom',coupler_type ='coupler')\n",
    "         ]\n",
    "\n",
    "\n",
    "\n",
    "\n",
    "sample = creator.Sample(name,layers_configuration)\n",
    "\n",
    "width = 290\n",
    "height= 550\n",
    "gap   = 50\n",
    "g_w   = 900\n",
    "g_h   = 900\n",
    "g_t   = 10\n",
    "b_g   = 19 # from JJ Design for JJ4q \n",
    "b_g   = 10 # for JJ_manhatten\n",
    "b_w   = 16 # JJ design\n",
    "\n",
    "a1    = 0.15 #Junction height in um\n",
    "a2    = 0.30 # Junction width in um\n",
    "\n",
    "#jj_pp = { 'a1':a1,\"a2\":a2,'angle_JJ':np.pi/2}\n",
    "jj_pp = { 'a1':a1,\"a2\":a2,'angle_JJ':0,'manhatten':True,'h_w':5 ,'h_d':8 }\n",
    "\n",
    "PP_Transmon = elements.pp_transmon.PP_Transmon(name='PP_Transmon',center=(1750,1750),\n",
    "                          width = width,\n",
    "                          height = height,\n",
    "                          bridge_gap = b_g,\n",
    "                          bridge_w   = b_w ,                   \n",
    "                          gap = gap,\n",
    "                          g_w = g_w,\n",
    "                          g_h = g_h,\n",
    "                          g_t = g_t,\n",
    "                          jj_params= jj_pp,\n",
    "                          layer_configuration = sample.layer_configuration,\n",
    "                          Couplers = Couplers,\n",
    "                          calculate_capacitance = False,\n",
    "                          transformations = {}\n",
    "                          )\n",
    "sample.add(PP_Transmon)\n",
    "\n",
    "\n",
    "sample.draw_design()"
   ]
  },
  {
   "cell_type": "code",
   "execution_count": 8,
   "metadata": {},
   "outputs": [],
   "source": [
    "sample.watch()"
   ]
  },
  {
   "cell_type": "code",
   "execution_count": 8,
   "metadata": {},
   "outputs": [
    {
     "name": "stdout",
     "output_type": "stream",
     "text": [
      "Gds file has been writen here:  \\\\badwwmi\\user\\home\\di82riv\\Documents\\Desktop\\Master\\CircuitDesign\\QCreator\\dummy.gds\n"
     ]
    }
   ],
   "source": [
    "sample.write_to_gds()"
   ]
  },
  {
   "cell_type": "code",
   "execution_count": 9,
   "metadata": {},
   "outputs": [
    {
     "name": "stdout",
     "output_type": "stream",
     "text": [
      "Gds file has been writen here:  \\\\badwwmi\\user\\home\\di82riv\\Documents\\Desktop\\Master\\CircuitDesign\\QCreator\\dummy.gds\n",
      "heyo\n",
      "[8, 9, 10, 0]\n",
      "For 0 conductor total length is:  124061\n",
      "For 1 conductor total length is:  124040\n",
      "For 2 conductor total length is:  4521\n",
      "For 3 conductor total length is:  30640\n",
      "Sum : 283262\n",
      "Data has been written into the file: \\\\badwwmi\\user\\home\\di82riv\\Documents\\Desktop\\Master\\CircuitDesign\\QCreator\\mesh_4k_data\n",
      "Time for fastcap job is:  43.3580002784729\n",
      "Capacitance results have been writen here:  \\\\badwwmi\\user\\home\\di82riv\\Documents\\Desktop\\Master\\CircuitDesign\\QCreator\\mesh_4k_results\n",
      "Capacitance value in:  femtofarads\n",
      "           0          1         2          3\n",
      "0  150.89400  -51.77332  -4.41415  -47.56522\n",
      "1  -51.77332  149.40000  -0.61901  -48.21262\n",
      "2   -4.41415   -0.61901  56.74710  -46.96140\n",
      "3  -47.56522  -48.21262 -46.96140  252.36150\n"
     ]
    }
   ],
   "source": [
    "Caps = sample.calculate_qubit_capacitance(cell= sample.qubit_cap_cell,mesh_volume=2)\n",
    "print(Caps)"
   ]
  },
  {
   "cell_type": "code",
   "execution_count": 14,
   "metadata": {},
   "outputs": [
    {
     "name": "stdout",
     "output_type": "stream",
     "text": [
      "Critical current density is:  0.5 uA/um^2\n",
      "Critical current:  22.5  nA\n",
      "Ej:  11.175196062211896  GHz\n",
      "junction area  in um:  0.045\n"
     ]
    },
    {
     "data": {
      "text/latex": [
       "$\\displaystyle C_{sum} = 76.97607\\text{  fF}$"
      ],
      "text/plain": [
       "<IPython.core.display.Math object>"
      ]
     },
     "metadata": {},
     "output_type": "display_data"
    },
    {
     "data": {
      "text/latex": [
       "$\\displaystyle E_c = 0.25163962416708363\\text{  GHz}$"
      ],
      "text/plain": [
       "<IPython.core.display.Math object>"
      ]
     },
     "metadata": {},
     "output_type": "display_data"
    },
    {
     "data": {
      "text/latex": [
       "$\\displaystyle \\frac{\\omega_q}{2\\pi} =4.491458213397286\\text{  GHz}$"
      ],
      "text/plain": [
       "<IPython.core.display.Math object>"
      ]
     },
     "metadata": {},
     "output_type": "display_data"
    }
   ],
   "source": [
    "#Calculate Qubit frequency:\n",
    "JJ_area = a1*a2*1e6 #in nm^2\n",
    "print('Critical current density is: ',j*1e3, 'uA/um^2')\n",
    "Ic = JJ_area*j #in nA\n",
    "print('Critical current: ',Ic ,' nA')\n",
    "print('Ej: ',Eji(Ic) ,' GHz')\n",
    "\n",
    "print('junction area  in um: ',JJ_area*1e-6)\n",
    "\n",
    "\n",
    "#Node 1 is Resonatorcoupler\n",
    "#Node 2 is left transmon pad\n",
    "#Node 3 is right transmon pad\n",
    "#Node G is Ground\n",
    "C12 = -Caps[0][2]#*1e3\n",
    "C2G = -Caps[0][3]#*1e3\n",
    "C13 = -Caps[1][2]#*1e3\n",
    "C3G = -Caps[1][3]#*1e3\n",
    "C23 = -Caps[0][1]#*1e3\n",
    "\n",
    "\n",
    "C_sum = (4*C23+C12+C2G+C3G+C13)/4\n",
    "\n",
    "display(Math(str('C_{sum} = '+str(C_sum)+'\\\\text{  fF}')))\n",
    "display(Math(str('E_c = '+str( Ec(C_sum))+'\\\\text{  GHz}')))\n",
    "display(Math(str('\\\\frac{\\omega_q}{2\\pi} ='+str(f(Eji(Ic),Ec(C_sum)))+'\\\\text{  GHz}')))"
   ]
  },
  {
   "cell_type": "code",
   "execution_count": 15,
   "metadata": {},
   "outputs": [
    {
     "name": "stdout",
     "output_type": "stream",
     "text": [
      "76.97607\n",
      "76.95149860623444\n"
     ]
    }
   ],
   "source": [
    "# difference between Qcircuit and paper (the error is on the order of a few fF, in the case where the ground Capacities are\n",
    "# comparable and large, the equations give the same answer) \n",
    "print(C_sum)\n",
    "print(C23+(C13+C3G)*(C12+C2G)/(C13+C3G+C2G+C12))"
   ]
  },
  {
   "cell_type": "code",
   "execution_count": 16,
   "metadata": {},
   "outputs": [
    {
     "name": "stdout",
     "output_type": "stream",
     "text": [
      "C_c:  5.03316  fF\n",
      "g  : 76.41800756344124  MHz\n"
     ]
    }
   ],
   "source": [
    "#calculate capacitive coupling\n",
    "wr =    6.9  # GHz\n",
    "Zr =    50    # Ohm\n",
    "Rk = 25.8*1e3 # Ohm\n",
    "\n",
    "g = wr*(C12+C13)/C_sum *(Eji(Ic)/(2*Ec(C_sum)))**0.25 * np.sqrt(np.pi*Zr/Rk)*1e3\n",
    "print('C_c: ',C12+C13, ' fF')\n",
    "print('g  :',g,' MHz')"
   ]
  },
  {
   "cell_type": "code",
   "execution_count": 19,
   "metadata": {},
   "outputs": [
    {
     "name": "stdout",
     "output_type": "stream",
     "text": [
      "863.8117557332532 us\n"
     ]
    }
   ],
   "source": [
    "wq = f(Eji(Ic),Ec(C_sum))\n",
    "Q = 6000\n",
    "k = wr/Q\n",
    "\n",
    "\n",
    "T=(1/k)*((wq-wr)/g*1e3)**2*1e-9\n",
    "\n",
    "print(T*1e6,'us')"
   ]
  },
  {
   "cell_type": "code",
   "execution_count": null,
   "metadata": {},
   "outputs": [],
   "source": []
  }
 ],
 "metadata": {
  "kernelspec": {
   "display_name": "Python 3",
   "language": "python",
   "name": "python3"
  },
  "language_info": {
   "codemirror_mode": {
    "name": "ipython",
    "version": 3
   },
   "file_extension": ".py",
   "mimetype": "text/x-python",
   "name": "python",
   "nbconvert_exporter": "python",
   "pygments_lexer": "ipython3",
   "version": "3.8.3"
  }
 },
 "nbformat": 4,
 "nbformat_minor": 4
}
