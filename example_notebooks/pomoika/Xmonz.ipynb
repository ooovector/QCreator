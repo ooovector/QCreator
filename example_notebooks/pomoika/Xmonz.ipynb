{
 "cells": [
  {
   "cell_type": "markdown",
   "metadata": {},
   "source": [
    "# Import design libraries"
   ]
  },
  {
   "cell_type": "code",
   "execution_count": 1,
   "metadata": {},
   "outputs": [],
   "source": [
    "import sys\n",
    "sys.path.append('..')"
   ]
  },
  {
   "cell_type": "code",
   "execution_count": 2,
   "metadata": {},
   "outputs": [],
   "source": [
    "import gdspy\n",
    "import numpy as np\n",
    "from importlib import reload\n",
    "from copy import deepcopy\n",
    "from QCreator import elements\n",
    "from QCreator import general_sample_creator as creator\n",
    "from QCreator import meshing"
   ]
  },
  {
   "cell_type": "markdown",
   "metadata": {},
   "source": [
    "# Specify constants, everything in microns"
   ]
  },
  {
   "cell_type": "code",
   "execution_count": 3,
   "metadata": {},
   "outputs": [],
   "source": [
    "tl_core = 10\n",
    "tl_gap = 10\n",
    "tl_ground = 20"
   ]
  },
  {
   "cell_type": "markdown",
   "metadata": {},
   "source": [
    "# Sample generation"
   ]
  },
  {
   "cell_type": "markdown",
   "metadata": {},
   "source": [
    "## borders with pads"
   ]
  },
  {
   "cell_type": "code",
   "execution_count": 4,
   "metadata": {},
   "outputs": [],
   "source": [
    "reload(gdspy)\n",
    "layers_configuration={\n",
    "    'total':0,\n",
    "    'restricted area':10,\n",
    "    'for removing':100,\n",
    "    'JJs':1,\n",
    "    'flux lines':6,\n",
    "    'air bridges':2,\n",
    "    'air bridge pads':3,\n",
    "    'vertical gridlines':15,\n",
    "    'horizontal gridlines':16,\n",
    "    'inverted': 17\n",
    "}\n",
    "sample = creator.Sample('xmon',layers_configuration)\n",
    "\n",
    "#specify sample vertical and horizontal lengths\n",
    "sample.chip_geometry.sample_vertical_size=4.7e3\n",
    "sample.chip_geometry.sample_horizontal_size=4.7e3\n",
    "chip_edge_ground = elements.ChipEdgeGround(sample.chip_geometry, sample.layer_configuration, sample.pads)\n",
    "sample.add(chip_edge_ground)\n",
    "\n",
    "#specify pads for the sample\n",
    "\n",
    "#p1 = elements.Pad('p1', (810,  2350), np.pi, tl_core, tl_gap, tl_ground, \n",
    "#                  layer_configuration=sample.layer_configuration, chip_geometry=sample.chip_geometry, \n",
    "#                  **elements.default_pad_geometry())\n",
    "\n",
    "#p2 = elements.Pad('p3', (8890,2350),  0, tl_core, tl_gap, tl_ground,\n",
    "#                 layer_configuration=sample.layer_configuration, chip_geometry=sample.chip_geometry, \n",
    "#                  **elements.default_pad_geometry())                  \n",
    "\n",
    "\n",
    "p1 = elements.Pad('p1', (810,  2350), np.pi, tl_core, tl_gap, tl_ground, \n",
    "                  layer_configuration=sample.layer_configuration, chip_geometry=sample.chip_geometry, \n",
    "                  **elements.default_pad_geometry())\n",
    "p2 = elements.Pad('p2', (1111,770),  -np.pi/2, 4, 4, 4,\n",
    "                 layer_configuration=sample.layer_configuration, chip_geometry=sample.chip_geometry, \n",
    "                  **elements.default_pad_geometry())\n",
    "p3 = elements.Pad('p3', (3111,770),  -np.pi/2, tl_core, tl_gap, tl_ground,\n",
    "                 layer_configuration=sample.layer_configuration, chip_geometry=sample.chip_geometry, \n",
    "                  **elements.default_pad_geometry())                  \n",
    "p4 = elements.Pad('p4', (3930,  2350),  0, tl_core, tl_gap, tl_ground,\n",
    "                 layer_configuration=sample.layer_configuration, chip_geometry=sample.chip_geometry, \n",
    "                  **elements.default_pad_geometry())\n",
    "p5 = elements.Pad('p5', (2300,4000),  np.pi/2, tl_core, tl_gap, tl_ground,\n",
    "                 layer_configuration=sample.layer_configuration, chip_geometry=sample.chip_geometry, \n",
    "                  **elements.default_pad_geometry())\n",
    "                  \n",
    "sample.add(p1)\n",
    "sample.add(p2)\n",
    "sample.add(p3)\n",
    "sample.add(p4)\n",
    "sample.add(p5)\n",
    "\n",
    "                  \n",
    "#sample.add(p1)\n",
    "#sample.add(p2)\n",
    "\n",
    "chip_edge_ground = elements.ChipEdgeGround(sample.chip_geometry, sample.layer_configuration, sample.pads)\n",
    "sample.add(chip_edge_ground)\n",
    "\n",
    "#grid_ground = elements.GridGround(sample.chip_geometry, sample.layer_configuration, sample.objects, \n",
    "#                                  width=4, period=500)\n",
    "#sample.add(grid_ground)\n",
    "\n",
    "\n"
   ]
  },
  {
   "cell_type": "code",
   "execution_count": 5,
   "metadata": {},
   "outputs": [],
   "source": [
    "jj_geometry = {\n",
    "    'gwidth': 56,\n",
    "    'gheight': 18,\n",
    "    'iwidth': 48,\n",
    "    'iheight': 10,\n",
    "    'ithick': 4,\n",
    "    'iopen': 10,\n",
    "    'fheight1': 20,\n",
    "    'fheight2': 40,\n",
    "    'hdist': 4,\n",
    "    'fshoulder': 15,\n",
    "    'fcore': 4,\n",
    "    'fgap': 4,\n",
    "    'gter':4\n",
    "        }\n",
    "jj = {\n",
    "    'type': 2,\n",
    "    'up_rect_h': 12,\n",
    "    'up_rect_w': 12,\n",
    "    'side_rect_h': 6,\n",
    "    'side_rect_w': 6,\n",
    "    'side_l_thick': 1,\n",
    "    'side_r_thick': 0.44,\n",
    "    'side_l_length': 4,\n",
    "    'side_r_length':4,\n",
    "    'up_l_thick': 1,\n",
    "    'up_r_thick': 0.44,\n",
    "    'up_l_length': 6,\n",
    "    'up_r_length': 6\n",
    "}\n",
    "\n",
    "crab_terminals = {\n",
    "    'up_w':10,\n",
    "    'up_s':10,\n",
    "    'up_g':20,\n",
    "    'down_w':10,\n",
    "    'down_s':10,\n",
    "    'down_g':20,\n",
    "    'left_w':10,\n",
    "    'left_s':10,\n",
    "    'left_g':20,\n",
    "    'right_w':10,\n",
    "    'right_s':10,\n",
    "    'right_g':20\n",
    "}\n",
    "\n",
    "xmon = elements.xmon.Xmon(name = 'xmon',\n",
    "                          center = (1750, 1750),\n",
    "                          length = 250,\n",
    "                          width_gap = 4,\n",
    "                          center_width = 10,\n",
    "                          crab_position = ('up',),\n",
    "                          crab_shoulder = 30,\n",
    "                          crab_thickness = 8,\n",
    "                          crab_terminals = crab_terminals,\n",
    "                          ground_thickness = 10,\n",
    "                          delete_ground = '',\n",
    "                          jj_position = 'down',\n",
    "                          jj_params1 = jj_geometry,\n",
    "                          jj_params2 = jj,\n",
    "                          layer_configuration = sample.layer_configuration)\n",
    "sample.add(xmon)\n",
    "sample.draw_design()\n",
    "\n",
    "\n",
    "\n",
    "\n"
   ]
  },
  {
   "cell_type": "code",
   "execution_count": 6,
   "metadata": {},
   "outputs": [],
   "source": [
    "#sample.connect_cpw(p2, xmon, 'port', 'flux', 'name', points=[])\n",
    "#sample.connect_cpw(p3, xmon, 'port', 'crab_right', 'name', points=[])"
   ]
  },
  {
   "cell_type": "code",
   "execution_count": 7,
   "metadata": {},
   "outputs": [],
   "source": [
    "\n",
    "sample.draw_design()\n",
    "sample.watch()"
   ]
  },
  {
   "cell_type": "code",
   "execution_count": null,
   "metadata": {},
   "outputs": [],
   "source": [
    "sample.draw"
   ]
  },
  {
   "cell_type": "code",
   "execution_count": null,
   "metadata": {},
   "outputs": [],
   "source": [
    "xmon.get_terminals()['flux'].type"
   ]
  },
  {
   "cell_type": "code",
   "execution_count": null,
   "metadata": {},
   "outputs": [],
   "source": [
    "#center = [2150, 4350]\n",
    "#s = 8\n",
    "#L = 130\n",
    "#w = 5\n",
    "#a = 10\n",
    "#b = 5\n",
    "#c = 5\n",
    "#cross_c = gdspy.Rectangle((center[0] - s/2, center[1] - s/2), (center[0] + s/2, center[1] + s/2))\n",
    "#cross_l = gdspy.Rectangle((center[0] - s/2 - L, center[1] - s/2),(center[0] - s/2, center[1] + s/2))\n",
    "#cross_r = gdspy.Rectangle((center[0] + s/2, center[1] - s/2),(center[0] + s/2 + L, center[1] + s/2))\n",
    "#cross_u = gdspy.Rectangle((center[0] - s/2, center[1] + s/2),(center[0] + s/2, center[1] + s/2 + L))\n",
    "#cross_d = gdspy.Rectangle((center[0] - s/2, center[1] - s/2 - L),(center[0] + s/2, center[1] - s/2))\n",
    "#cross_hor = gdspy.Rectangle((center[0] - s/2 - L, center[1] - s/2), (center[0] + s/2 + L, center[1] + s/2))\n",
    "#cross_ver = gdspy.Rectangle((center[0] - s/2, center[1] - s/2 - L), (center[0] + s/2, center[1] + s/2 + L))\n",
    "#cross = gdspy.boolean(cross_hor, cross_ver, \"or\") \n",
    "\n",
    "\n",
    "#crab_out = gdspy.Rectangle((center[0] + L + s/2 - a, center[1] - s/2 - w - b), (center[0] + L + s/2 + w + b, center[1] + s/2 + w + b))\n",
    "#crab_in = gdspy.Rectangle((center[0] + L + s/2 -a, center[1] - s/2 - w) , (center[0] + L + s/2 + w, center[1] + s/2 + w))\n",
    "#crab = gdspy.boolean(crab_out, crab_in, \"not\")\n",
    "#cell = gdspy.Cell('FIRST')\n",
    "#cell.add(cross_c)\n",
    "#cell.add(cross_l)\n",
    "#cell.add(cross_r)\n",
    "#cell.add(cross_u)\n",
    "#cell.add(cross_d)\n",
    "#cell.add(cross)\n",
    "#cell.add(crab)\n",
    "#gdspy.LayoutViewer()"
   ]
  },
  {
   "cell_type": "code",
   "execution_count": null,
   "metadata": {},
   "outputs": [],
   "source": [
    "#sample.write_to_gds()"
   ]
  },
  {
   "cell_type": "code",
   "execution_count": null,
   "metadata": {},
   "outputs": [],
   "source": [
    "p2.get_terminals()"
   ]
  },
  {
   "cell_type": "code",
   "execution_count": null,
   "metadata": {},
   "outputs": [],
   "source": [
    "xmon.get_terminals()['flux'].type"
   ]
  },
  {
   "cell_type": "code",
   "execution_count": null,
   "metadata": {},
   "outputs": [],
   "source": [
    "xmon.get_terminals()"
   ]
  },
  {
   "cell_type": "code",
   "execution_count": null,
   "metadata": {},
   "outputs": [],
   "source": []
  }
 ],
 "metadata": {
  "kernelspec": {
   "display_name": "Python 3",
   "language": "python",
   "name": "python3"
  },
  "language_info": {
   "codemirror_mode": {
    "name": "ipython",
    "version": 3
   },
   "file_extension": ".py",
   "mimetype": "text/x-python",
   "name": "python",
   "nbconvert_exporter": "python",
   "pygments_lexer": "ipython3",
   "version": "3.9.1"
  }
 },
 "nbformat": 4,
 "nbformat_minor": 4
}
