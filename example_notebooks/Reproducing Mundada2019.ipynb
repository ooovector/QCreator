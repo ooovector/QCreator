{
 "cells": [
  {
   "cell_type": "code",
   "execution_count": 1,
   "id": "6dc47475",
   "metadata": {},
   "outputs": [],
   "source": [
    "import sys\n",
    "sys.path.append('..')\n",
    "from QCreator import transmission_line_simulator as tlsim\n",
    "from QCreator import conformal_mapping as cm\n",
    "import pandas as pd\n",
    "from scipy.constants import hbar, e, epsilon_0, mu_0\n",
    "import numpy as np"
   ]
  },
  {
   "cell_type": "code",
   "execution_count": 2,
   "id": "2860843e",
   "metadata": {},
   "outputs": [],
   "source": [
    "#50 Ohm line\n",
    "cl_tl, Ll_tl = cm.ConformalMapping([6, 10, 6]).cl_and_Ll()"
   ]
  },
  {
   "cell_type": "code",
   "execution_count": 3,
   "id": "4eba86f1",
   "metadata": {},
   "outputs": [
    {
     "name": "stdout",
     "output_type": "stream",
     "text": [
      "cq_full [fF]:  58.69766462017915\n",
      "cc_full [fF]:  77.48091729863648\n",
      "bus length [um]:  8475.544785594362\n",
      "Ej1 [GHz]:  15.871109469696972\n",
      "Ej2 [GHz]:  17.26363674242424\n",
      "Ejcmax [GHz]:  27.01125\n"
     ]
    }
   ],
   "source": [
    "Ec = 330e6\n",
    "Ecc = 250e6\n",
    "f1 = 6.143e9\n",
    "f2 = 6.421e9\n",
    "\n",
    "fbus = 7.063e9\n",
    "fcmax = 7.1e9\n",
    "epsilon = 11.45\n",
    "\n",
    "ccp = 2.5e-15\n",
    "ccm = 0.8e-15\n",
    "\n",
    "lbus = (np.sqrt(2/(epsilon_0*mu_0*(epsilon+1)))/(2*fbus) - 2*ccp/cl_tl[0,0]/1e6)\n",
    "cq_full = e**2/(2*Ec*2*np.pi*hbar)\n",
    "cc_full = e**2/(2*Ecc*2*np.pi*hbar)\n",
    "Ej1 = (f1 + Ec)**2/(8*Ec)\n",
    "Ej2 = (f2 + Ec)**2/(8*Ec)\n",
    "Ejcmax = (fcmax + Ecc)**2/(8*Ecc)\n",
    "\n",
    "print ('cq_full [fF]: ', cq_full/1e-15)\n",
    "print ('cc_full [fF]: ', cc_full/1e-15)\n",
    "print ('bus length [um]: ', lbus/1e-6)\n",
    "print ('Ej1 [GHz]: ', Ej1/1e9)\n",
    "print ('Ej2 [GHz]: ', Ej2/1e9)\n",
    "print ('Ejcmax [GHz]: ', Ejcmax/1e9)"
   ]
  },
  {
   "cell_type": "code",
   "execution_count": 4,
   "id": "c8bfdcd1",
   "metadata": {},
   "outputs": [],
   "source": [
    "\n",
    "\n",
    "tls = tlsim.TLSystem()\n",
    "\n",
    "q1c = tlsim.Capacitor(c=cq_full-ccp-ccm, name='q1c')\n",
    "q2c = tlsim.Capacitor(c=cq_full-ccp-ccm, name='q2c')\n",
    "cmc = tlsim.Capacitor(c=cc_full-ccm, name='q2c')\n",
    "\n",
    "jj1 = tlsim.JosephsonJunction(e_j=Ej1*hbar*2*np.pi, name='jj1')\n",
    "jj2 = tlsim.JosephsonJunction(e_j=Ej2*hbar*2*np.pi, name='jj2')\n",
    "jjcmax = tlsim.JosephsonJunction(e_j=Ejcmax*hbar*2*np.pi, name='jjcmax')\n",
    "\n",
    "cptl = tlsim.TLCoupler(n=1, l=lbus*1e6, ll=Ll_tl, cl=cl_tl, \n",
    "                      rl=np.zeros((1,1)), gl=np.zeros((1,1)), name='cptl')\n",
    "\n",
    "cpc1 = tlsim.Capacitor(c=ccp, name='cpc1')\n",
    "cpc2 = tlsim.Capacitor(c=ccp, name='cpc2')\n",
    "\n",
    "cmc1 = tlsim.Capacitor(c=ccm, name='cmc1')\n",
    "cmc2 = tlsim.Capacitor(c=ccm, name='cmc2')\n",
    "\n",
    "tls.add_element(tlsim.Short(), [0])\n",
    "tls.add_element(q1c, [0, 1])\n",
    "tls.add_element(q2c, [0, 2])\n",
    "tls.add_element(jj1, [0, 1])\n",
    "tls.add_element(jj2, [0, 2])\n",
    "tls.add_element(cpc1, [1, 3])\n",
    "tls.add_element(cpc2, [2, 4])\n",
    "tls.add_element(cptl, [3, 4])\n",
    "tls.add_element(cmc1, [1, 5])\n",
    "tls.add_element(cmc2, [2, 6])\n",
    "tls.add_element(cmc, [5, 6])\n",
    "tls.add_element(jjcmax, [5, 6])"
   ]
  },
  {
   "cell_type": "code",
   "execution_count": 5,
   "id": "c3ddb9b1",
   "metadata": {},
   "outputs": [],
   "source": [
    "omega, delta, modes = tls.get_modes()"
   ]
  },
  {
   "cell_type": "code",
   "execution_count": 6,
   "id": "cfd0e6d1",
   "metadata": {},
   "outputs": [
    {
     "data": {
      "text/plain": [
       "array([6.48973891e+09, 6.77070480e+09, 7.07257676e+09, 7.37045613e+09,\n",
       "       1.41607162e+10, 1.91130721e+10, 2.21272635e+10, 2.21272635e+10,\n",
       "       2.23217285e+10, 2.40681593e+10, 2.40681593e+10, 2.31038662e+11])"
      ]
     },
     "execution_count": 6,
     "metadata": {},
     "output_type": "execute_result"
    }
   ],
   "source": [
    "omega/(2*np.pi)"
   ]
  },
  {
   "cell_type": "code",
   "execution_count": 7,
   "id": "b8751d69",
   "metadata": {},
   "outputs": [
    {
     "data": {
      "text/html": [
       "<div>\n",
       "<style scoped>\n",
       "    .dataframe tbody tr th:only-of-type {\n",
       "        vertical-align: middle;\n",
       "    }\n",
       "\n",
       "    .dataframe tbody tr th {\n",
       "        vertical-align: top;\n",
       "    }\n",
       "\n",
       "    .dataframe thead th {\n",
       "        text-align: right;\n",
       "    }\n",
       "</style>\n",
       "<table border=\"1\" class=\"dataframe\">\n",
       "  <thead>\n",
       "    <tr style=\"text-align: right;\">\n",
       "      <th></th>\n",
       "      <th>0</th>\n",
       "      <th>1</th>\n",
       "      <th>2</th>\n",
       "      <th>3</th>\n",
       "    </tr>\n",
       "  </thead>\n",
       "  <tbody>\n",
       "    <tr>\n",
       "      <th>0</th>\n",
       "      <td>-3.215695e+08</td>\n",
       "      <td>-1.235730e+07</td>\n",
       "      <td>-3.185101e+06</td>\n",
       "      <td>-6.805041e+05</td>\n",
       "    </tr>\n",
       "    <tr>\n",
       "      <th>1</th>\n",
       "      <td>-1.235730e+07</td>\n",
       "      <td>-3.135164e+08</td>\n",
       "      <td>-1.243561e+07</td>\n",
       "      <td>-1.302265e+06</td>\n",
       "    </tr>\n",
       "    <tr>\n",
       "      <th>2</th>\n",
       "      <td>-3.185101e+06</td>\n",
       "      <td>-1.243561e+07</td>\n",
       "      <td>-1.300480e+05</td>\n",
       "      <td>-1.344053e+05</td>\n",
       "    </tr>\n",
       "    <tr>\n",
       "      <th>3</th>\n",
       "      <td>-6.805041e+05</td>\n",
       "      <td>-1.302265e+06</td>\n",
       "      <td>-1.344053e+05</td>\n",
       "      <td>-2.504724e+08</td>\n",
       "    </tr>\n",
       "  </tbody>\n",
       "</table>\n",
       "</div>"
      ],
      "text/plain": [
       "              0             1             2             3\n",
       "0 -3.215695e+08 -1.235730e+07 -3.185101e+06 -6.805041e+05\n",
       "1 -1.235730e+07 -3.135164e+08 -1.243561e+07 -1.302265e+06\n",
       "2 -3.185101e+06 -1.243561e+07 -1.300480e+05 -1.344053e+05\n",
       "3 -6.805041e+05 -1.302265e+06 -1.344053e+05 -2.504724e+08"
      ]
     },
     "execution_count": 7,
     "metadata": {},
     "output_type": "execute_result"
    }
   ],
   "source": [
    "pd.DataFrame(tls.get_perturbation([0,1,2,3]))"
   ]
  },
  {
   "cell_type": "code",
   "execution_count": 8,
   "id": "1d4537d1",
   "metadata": {},
   "outputs": [
    {
     "data": {
      "text/plain": [
       "(array([6.12774002e+09, 6.42044034e+09]),\n",
       " array([[-4.09896072e+08,  6.98223528e+06],\n",
       "        [ 6.98223528e+06, -4.02896277e+08]]))"
      ]
     },
     "execution_count": 8,
     "metadata": {},
     "output_type": "execute_result"
    }
   ],
   "source": [
    "omega, kerr = tls.get_perturbation_hamiltonian_kerr([0,1], [5,5])\n",
    "omega, kerr"
   ]
  },
  {
   "cell_type": "code",
   "execution_count": 9,
   "id": "3ac3bf84",
   "metadata": {},
   "outputs": [
    {
     "name": "stderr",
     "output_type": "stream",
     "text": [
      "..\\QCreator\\transmission_line_simulator.py:1411: RuntimeWarning: divide by zero encountered in double_scalars\n",
      "  correction_new = numerator / denominator\n"
     ]
    },
    {
     "data": {
      "text/html": [
       "<div>\n",
       "<style scoped>\n",
       "    .dataframe tbody tr th:only-of-type {\n",
       "        vertical-align: middle;\n",
       "    }\n",
       "\n",
       "    .dataframe tbody tr th {\n",
       "        vertical-align: top;\n",
       "    }\n",
       "\n",
       "    .dataframe thead th {\n",
       "        text-align: right;\n",
       "    }\n",
       "</style>\n",
       "<table border=\"1\" class=\"dataframe\">\n",
       "  <thead>\n",
       "    <tr style=\"text-align: right;\">\n",
       "      <th></th>\n",
       "      <th>0</th>\n",
       "      <th>1</th>\n",
       "    </tr>\n",
       "  </thead>\n",
       "  <tbody>\n",
       "    <tr>\n",
       "      <th>0</th>\n",
       "      <td>-4.014390e+08</td>\n",
       "      <td>-7.815633e+06</td>\n",
       "    </tr>\n",
       "    <tr>\n",
       "      <th>1</th>\n",
       "      <td>-7.815633e+06</td>\n",
       "      <td>-3.727213e+08</td>\n",
       "    </tr>\n",
       "  </tbody>\n",
       "</table>\n",
       "</div>"
      ],
      "text/plain": [
       "              0             1\n",
       "0 -4.014390e+08 -7.815633e+06\n",
       "1 -7.815633e+06 -3.727213e+08"
      ]
     },
     "execution_count": 9,
     "metadata": {},
     "output_type": "execute_result"
    }
   ],
   "source": [
    "pd.DataFrame(tls.get_second_order_perturbation_kerr2([0,1]))"
   ]
  },
  {
   "cell_type": "code",
   "execution_count": 10,
   "id": "3b02976a",
   "metadata": {},
   "outputs": [
    {
     "name": "stderr",
     "output_type": "stream",
     "text": [
      "..\\QCreator\\transmission_line_simulator.py:1411: RuntimeWarning: divide by zero encountered in double_scalars\n",
      "  correction_new = numerator / denominator\n"
     ]
    },
    {
     "data": {
      "text/html": [
       "<div>\n",
       "<style scoped>\n",
       "    .dataframe tbody tr th:only-of-type {\n",
       "        vertical-align: middle;\n",
       "    }\n",
       "\n",
       "    .dataframe tbody tr th {\n",
       "        vertical-align: top;\n",
       "    }\n",
       "\n",
       "    .dataframe thead th {\n",
       "        text-align: right;\n",
       "    }\n",
       "</style>\n",
       "<table border=\"1\" class=\"dataframe\">\n",
       "  <thead>\n",
       "    <tr style=\"text-align: right;\">\n",
       "      <th></th>\n",
       "      <th>0</th>\n",
       "      <th>1</th>\n",
       "    </tr>\n",
       "  </thead>\n",
       "  <tbody>\n",
       "    <tr>\n",
       "      <th>0</th>\n",
       "      <td>-4.128208e+08</td>\n",
       "      <td>5.418914e+07</td>\n",
       "    </tr>\n",
       "    <tr>\n",
       "      <th>1</th>\n",
       "      <td>5.418914e+07</td>\n",
       "      <td>-4.552941e+08</td>\n",
       "    </tr>\n",
       "  </tbody>\n",
       "</table>\n",
       "</div>"
      ],
      "text/plain": [
       "              0             1\n",
       "0 -4.128208e+08  5.418914e+07\n",
       "1  5.418914e+07 -4.552941e+08"
      ]
     },
     "execution_count": 10,
     "metadata": {},
     "output_type": "execute_result"
    }
   ],
   "source": [
    "pd.DataFrame(tls.get_second_order_perturbation_kerr2([0,1], raw_frequencies=1))"
   ]
  },
  {
   "cell_type": "code",
   "execution_count": null,
   "id": "e22afa22",
   "metadata": {},
   "outputs": [],
   "source": [
    "E00 = tls.get_second_order_perturbation([0,0], [0,1])\n",
    "E01 = tls.get_second_order_perturbation([0,1], [0,1])\n",
    "E10 = tls.get_second_order_perturbation([1,0], [0,1])\n",
    "E11 = tls.get_second_order_perturbation([1,1], [0,1])\n",
    "E11 + E00 - E01 - E10"
   ]
  },
  {
   "cell_type": "markdown",
   "id": "30d624bd",
   "metadata": {},
   "source": [
    "# rubbish"
   ]
  },
  {
   "cell_type": "code",
   "execution_count": 10,
   "id": "758f649c",
   "metadata": {},
   "outputs": [
    {
     "data": {
      "text/plain": [
       "(9, 9)"
      ]
     },
     "execution_count": 10,
     "metadata": {},
     "output_type": "execute_result"
    }
   ],
   "source": [
    "H, basis = tls.get_perturbation_hamiltonian([0,1], [3,3])\n",
    "H.shape"
   ]
  },
  {
   "cell_type": "code",
   "execution_count": 10,
   "id": "1dd7e2b6",
   "metadata": {
    "scrolled": true
   },
   "outputs": [
    {
     "ename": "NameError",
     "evalue": "name 'H' is not defined",
     "output_type": "error",
     "traceback": [
      "\u001b[1;31m---------------------------------------------------------------------------\u001b[0m",
      "\u001b[1;31mNameError\u001b[0m                                 Traceback (most recent call last)",
      "\u001b[1;32m<ipython-input-10-a6e23f38bf86>\u001b[0m in \u001b[0;36m<module>\u001b[1;34m\u001b[0m\n\u001b[1;32m----> 1\u001b[1;33m \u001b[0mnp\u001b[0m\u001b[1;33m.\u001b[0m\u001b[0msum\u001b[0m\u001b[1;33m(\u001b[0m\u001b[0mnp\u001b[0m\u001b[1;33m.\u001b[0m\u001b[0mabs\u001b[0m\u001b[1;33m(\u001b[0m\u001b[0mH\u001b[0m\u001b[1;33m-\u001b[0m\u001b[0mnp\u001b[0m\u001b[1;33m.\u001b[0m\u001b[0mconj\u001b[0m\u001b[1;33m(\u001b[0m\u001b[0mH\u001b[0m\u001b[1;33m)\u001b[0m\u001b[1;33m.\u001b[0m\u001b[0mT\u001b[0m\u001b[1;33m)\u001b[0m\u001b[1;33m)\u001b[0m\u001b[1;33m/\u001b[0m\u001b[0mnp\u001b[0m\u001b[1;33m.\u001b[0m\u001b[0msum\u001b[0m\u001b[1;33m(\u001b[0m\u001b[0mnp\u001b[0m\u001b[1;33m.\u001b[0m\u001b[0mabs\u001b[0m\u001b[1;33m(\u001b[0m\u001b[0mH\u001b[0m\u001b[1;33m)\u001b[0m\u001b[1;33m)\u001b[0m\u001b[1;33m\u001b[0m\u001b[1;33m\u001b[0m\u001b[0m\n\u001b[0m",
      "\u001b[1;31mNameError\u001b[0m: name 'H' is not defined"
     ]
    }
   ],
   "source": [
    "np.sum(np.abs(H-np.conj(H).T))/np.sum(np.abs(H))"
   ]
  },
  {
   "cell_type": "code",
   "execution_count": 12,
   "id": "bbf13082",
   "metadata": {},
   "outputs": [],
   "source": [
    "energies, vecs = np.linalg.eigh(H)"
   ]
  },
  {
   "cell_type": "code",
   "execution_count": 13,
   "id": "2a579f9f",
   "metadata": {},
   "outputs": [
    {
     "data": {
      "text/plain": [
       "array([-1.51443087e+08,  4.83785629e+09,  5.03079668e+09,  9.54267206e+09,\n",
       "        9.92003743e+09,  1.00262244e+10,  1.47119059e+10,  1.49046753e+10,\n",
       "        1.95960233e+10])"
      ]
     },
     "execution_count": 13,
     "metadata": {},
     "output_type": "execute_result"
    }
   ],
   "source": [
    "energies"
   ]
  },
  {
   "cell_type": "code",
   "execution_count": 21,
   "id": "29bd8910",
   "metadata": {},
   "outputs": [
    {
     "data": {
      "text/plain": [
       "array([0.  , 0.01, 1.  , 0.  , 0.  , 0.  , 0.02, 0.  , 0.  ])"
      ]
     },
     "execution_count": 21,
     "metadata": {},
     "output_type": "execute_result"
    }
   ],
   "source": [
    "np.round(np.abs(vecs[1,:]),2)"
   ]
  },
  {
   "cell_type": "code",
   "execution_count": 22,
   "id": "ebdbc847",
   "metadata": {},
   "outputs": [
    {
     "data": {
      "text/plain": [
       "(4837856288.900802-6.938893903907228e-18j)"
      ]
     },
     "execution_count": 22,
     "metadata": {},
     "output_type": "execute_result"
    }
   ],
   "source": [
    "np.conj(vecs[:,1])@H@vecs[:,1]"
   ]
  },
  {
   "cell_type": "code",
   "execution_count": null,
   "id": "2ef5e2ea",
   "metadata": {},
   "outputs": [],
   "source": [
    "omega"
   ]
  },
  {
   "cell_type": "code",
   "execution_count": null,
   "id": "b317b588",
   "metadata": {},
   "outputs": [],
   "source": [
    "kerr"
   ]
  },
  {
   "cell_type": "code",
   "execution_count": null,
   "id": "acdff501",
   "metadata": {},
   "outputs": [],
   "source": [
    "e"
   ]
  }
 ],
 "metadata": {
  "kernelspec": {
   "display_name": "Python 3",
   "language": "python",
   "name": "python3"
  },
  "language_info": {
   "codemirror_mode": {
    "name": "ipython",
    "version": 3
   },
   "file_extension": ".py",
   "mimetype": "text/x-python",
   "name": "python",
   "nbconvert_exporter": "python",
   "pygments_lexer": "ipython3",
   "version": "3.8.5"
  }
 },
 "nbformat": 4,
 "nbformat_minor": 5
}
